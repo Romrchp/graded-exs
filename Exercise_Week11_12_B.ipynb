{
 "cells": [
  {
   "cell_type": "markdown",
   "id": "bff91b09",
   "metadata": {},
   "source": [
    "# Exercises Week 11-12: Graded exercise session (part B)\n",
    "\n",
    "**Course**: [Topics in life sciences engineering](https://moodle.epfl.ch/enrol/index.php?id=17061) (BIO-411)\n",
    "\n",
    "**Professors**:  _Gönczy Pierre_, _Naef Felix_, _McCabe Brian Donal_"
   ]
  },
  {
   "cell_type": "code",
   "execution_count": 56,
   "id": "867ce50e",
   "metadata": {},
   "outputs": [],
   "source": [
    "## Import libraries\n",
    "import pandas as pd\n",
    "import numpy as np\n",
    "from sklearn.decomposition import PCA\n",
    "import plotly.express as px\n",
    "import matplotlib.pyplot as plt\n",
    "from sklearn.preprocessing import scale\n",
    "import gseapy as gp\n",
    "import math\n",
    "\n",
    "\n",
    "from scipy.integrate import odeint\n",
    "import matplotlib.pyplot as plt\n",
    "from ipywidgets import interact, fixed\n",
    "from adjustText import adjust_text\n",
    "from scipy.stats import beta"
   ]
  },
  {
   "cell_type": "markdown",
   "id": "e04f778e",
   "metadata": {},
   "source": [
    "**Provide answers in the form of code, figures (if relevant) and short descriptions (in markdown cells) in those notebooks. Submit your notebook to Moodle, please make sure to execute every cell.**"
   ]
  },
  {
   "cell_type": "markdown",
   "id": "c4dcb272",
   "metadata": {},
   "source": [
    "### Exercise 1: Simulation of circadian gene regulation"
   ]
  },
  {
   "cell_type": "markdown",
   "id": "ecaa0b5a",
   "metadata": {},
   "source": [
    "Similarly to Week 9 exercises, we first describe a system in which a (nuclear) pre-mRNA is transcribed and spliced to produce an mRNA. We can write a 2D ODE (ignoring the degradation of the pre-mRNA):\n",
    "\n",
    "\\begin{eqnarray*}\n",
    "&&\\frac{dP}{dt} = s(t) - \\rho P \\\\\n",
    "&&\\frac{dM}{dt} = \\rho P - k(t) M \\\\\n",
    "\\end{eqnarray*}\n",
    "\n",
    "Here, $P$ and $M$ denote, respectively, the concentrations of pre-mRNA and mRNA. We will consider time-dependent (circadian) transcription and degradation rates. The frequency is $\\omega=\\frac{2\\pi}{T}$ with $T=24h$. $s(t)$ is the transcription rate, which is now taken either as constant $s(t)=s_{0}$ or as a rhythmic function of time:  \n",
    "\n",
    "\\begin{equation*}\n",
    "s(t) = s_0 (1 + \\epsilon_s \\cos(\\omega t)) \n",
    "\\end{equation*}  \n",
    "with relative amplitude $0\\leq \\epsilon_s\\leq 1$. Note that here the peak of $s(t)$ is at $t=0$. \n",
    "Similarly, we will consider $k(t)$ either as constant $k(t)= k_0$ or a rhythmic function of time:  \n",
    "\\begin{equation*}\n",
    "k(t)=k_0(1 + \\epsilon_k \\cos(\\omega (t-t_k))\n",
    "\\end{equation*}  \n",
    "with $0\\leq\\epsilon_k\\leq 1$, and the maximum degradation rate at $t=t_k$.\n",
    "\n",
    "$\\rho$ is the splicing rate of pre-mRNA $P$ to mRNA $M$, and is also taken as a constant."
   ]
  },
  {
   "cell_type": "markdown",
   "id": "ebecf369",
   "metadata": {},
   "source": [
    "### Question 1\n",
    "1. Adapt the code of week 9 exercises to simulate this new system. Modify the interactive widget such that you can vary the new parameters and plot $P(t)$ and $M(t)$.  \n",
    "2. Keep the degradation rate constant ($\\epsilon_k$=0) and vary $k_0$ and $\\epsilon_s$. Discuss on how 1) the phase delay between $M(t)$ and $P(t)$ and 2) the relative amplitude of $M(t)$ varies in function of $k_0$. What is the maximal relative amplitude? Make sure you span a relevant range for $k_0^{-1}$ ( *i.e.* from 10 minutes to several hours).\n",
    "3. Vary $\\epsilon_k$ to include rhythmic degradation. Discuss the different effects, in particular, find situations that extend beyond what is possible with a constant half-life. See also [Wang et al., 2018](https://www.pnas.org/doi/10.1073/pnas.1715225115)."
   ]
  },
  {
   "cell_type": "code",
   "execution_count": 57,
   "id": "d20d6f4c",
   "metadata": {},
   "outputs": [
    {
     "data": {
      "application/vnd.jupyter.widget-view+json": {
       "model_id": "ec0ea70917a3410db48b2d80082aad40",
       "version_major": 2,
       "version_minor": 0
      },
      "text/plain": [
       "interactive(children=(FloatSlider(value=5.0, description='s0', max=10.0, min=1.0, step=0.01), FloatSlider(valu…"
      ]
     },
     "metadata": {},
     "output_type": "display_data"
    }
   ],
   "source": [
    "def transcription_rate(s0,eps_s,t) :\n",
    "    return s0*(1+ eps_s*np.cos(2*t*math.pi/(24)))\n",
    "\n",
    "def degradation_rate(k0,eps_k,t,tk) :\n",
    "    return k0*(1+ eps_k*np.cos((2*math.pi/(24))*(t-tk)))\n",
    "\n",
    "## function definition\n",
    "def func(y, t, tk, s0, k0, eps_s, eps_k, rho):\n",
    "    P, M = y\n",
    "    return [transcription_rate(s0,eps_s,t) - (rho) * P, rho * P - degradation_rate(k0,eps_k,t,tk) * M]\n",
    "\n",
    "\n",
    "def simulation(func, par, x0 = None, t = None):\n",
    "    s0=par['s0']\n",
    "    k0=par['k0']\n",
    "    tk = par['tk']\n",
    "    eps_s=par['eps_s']\n",
    "    eps_k=par['eps_k']\n",
    "    rho=par['rho']\n",
    "\n",
    "    P_ss = transcription_rate(s0,eps_s,t)/(rho) #Steady-state solution for P\n",
    "    M_ss = transcription_rate(s0,eps_s,t)/degradation_rate(k0,eps_k,t,tk) #Steady-state solution for M\n",
    "\n",
    "    \n",
    "    xx=odeint(func, x0, t, args=(tk, s0, k0, eps_s, eps_k, rho))\n",
    "    plt.figure(1)\n",
    "    plt.ylim([0,150])\n",
    "    #plt.axhline(y=np.mean(P_ss), color='r', linestyle='--') # Steady state solution mean for P_ss\n",
    "    #plt.axhline(y=np.mean(M_ss), color='g', linestyle='--') # Steady state solution mean for M_ss\n",
    "    plt.plot(t, xx[:,0],label = 'P(t)')\n",
    "    plt.plot(t, xx[:,1],label = 'M(t)')\n",
    "    plt.xlabel(\"time [min]\")\n",
    "    plt.ylabel(\"#molecules\")\n",
    "    plt.legend()\n",
    "    plt.show()\n",
    "    \n",
    "def animate(x0, time, s0=5, k0= 5, eps_s=0.5, eps_k=0.5, rho=0.5, tk = 50):\n",
    "    #define the function domain\n",
    "    par={'s0':s0,'k0':k0, 'eps_s':eps_s, 'rho':rho,'eps_k': eps_k,'tk':tk}\n",
    "    simulation(func, par, x0, time)\n",
    "\n",
    "#initial conditions\n",
    "z0=[0,0] #[P, M]\n",
    "t = np.linspace(0,100,1001)\n",
    "interact(animate, x0=fixed(z0), time=fixed(t), \n",
    "         s0 = (1,10,0.01), #kp^1 in [10 min, 120 min] \n",
    "         k0 = (1,10,0.01), #km^1 in [10 min, 600 min]\n",
    "         rho = (1/30,1,0.05), #rho^1 in [1 min, 30 min]\n",
    "         eps_s =(0,1,0.01),\n",
    "         eps_k = (0,1,0.01),\n",
    "         tk = (0,100,0.001));"
   ]
  },
  {
   "cell_type": "markdown",
   "id": "94467283",
   "metadata": {},
   "source": [
    "### Exercise 2: Circadian (post-)transcriptional regulation of gene expression in mouse liver"
   ]
  },
  {
   "cell_type": "markdown",
   "id": "5d4c6d92",
   "metadata": {},
   "source": [
    "We will now analyse published RNA-seq data from mouse liver under an *ad libitum* feeding regimen and in presence of a 12h-12h light-dark cycle ([Atger et al., 2015](https://www.pnas.org/doi/abs/10.1073/pnas.1515308112)). The samples were harvested every 2 hours in four replicates, RNA was extracted and sequenced. Similarly to week 9 exercises on RNA-seq data, gene expression was quantified at the intron and exon levels. Note that data are $log_2$ transformed and normalized (RPKM)."
   ]
  },
  {
   "cell_type": "markdown",
   "id": "fcf58338",
   "metadata": {},
   "source": [
    "### Question 1\n",
    "1. Adapt code from week 9 exercises to perform PCA using the 14 following genes (core clock genes and selected clock output genes): ``['Arntl', 'Npas2', 'Clock', 'Cry1', 'Cry2', 'Per1', 'Per2', 'Per3', 'Nr1d1', 'Nr1d2', 'Rora', 'Rorc', 'Tef', 'Dbp']``. First start with only the exons, then only the introns, and eventually both. Describe your observations.\n",
    "2. Using the *return_amp_phase_pv* function with the $log_2$ data, assess rhythmicity genome-wide (use the p-value to make gene selections). For the selected genes, provide histograms of the peak times, and amplitudes ($log_2$ peak-to-trough). Do this separately for the exons and introns. Do you see what's commonly referred to as the morning and evening waves of genes expression?\n",
    "3. Which genes are overall the most robustly rhythmic? Is there a theme?\n",
    "3. Adapting the enrichR code from Week 9 exercises, find biological function or transcriptional programs regulated rhythmically in the mouse liver. Do this separately for the night and the day. Comment."
   ]
  },
  {
   "cell_type": "markdown",
   "id": "d725b9ef",
   "metadata": {},
   "source": [
    "#### Load the RNA-seq data"
   ]
  },
  {
   "cell_type": "code",
   "execution_count": 102,
   "id": "0a51a74b",
   "metadata": {},
   "outputs": [
    {
     "data": {
      "text/html": [
       "<div>\n",
       "<style scoped>\n",
       "    .dataframe tbody tr th:only-of-type {\n",
       "        vertical-align: middle;\n",
       "    }\n",
       "\n",
       "    .dataframe tbody tr th {\n",
       "        vertical-align: top;\n",
       "    }\n",
       "\n",
       "    .dataframe thead tr th {\n",
       "        text-align: left;\n",
       "    }\n",
       "\n",
       "    .dataframe thead tr:last-of-type th {\n",
       "        text-align: right;\n",
       "    }\n",
       "</style>\n",
       "<table border=\"1\" class=\"dataframe\">\n",
       "  <thead>\n",
       "    <tr>\n",
       "      <th>condition</th>\n",
       "      <th colspan=\"21\" halign=\"left\">WT</th>\n",
       "    </tr>\n",
       "    <tr>\n",
       "      <th>feeding</th>\n",
       "      <th colspan=\"21\" halign=\"left\">AL</th>\n",
       "    </tr>\n",
       "    <tr>\n",
       "      <th>feature</th>\n",
       "      <th colspan=\"10\" halign=\"left\">Intron</th>\n",
       "      <th>...</th>\n",
       "      <th colspan=\"10\" halign=\"left\">RFP</th>\n",
       "    </tr>\n",
       "    <tr>\n",
       "      <th>time</th>\n",
       "      <th>00</th>\n",
       "      <th>02</th>\n",
       "      <th>04</th>\n",
       "      <th>06</th>\n",
       "      <th>08</th>\n",
       "      <th>10</th>\n",
       "      <th>12</th>\n",
       "      <th>14</th>\n",
       "      <th>16</th>\n",
       "      <th>18</th>\n",
       "      <th>...</th>\n",
       "      <th>04</th>\n",
       "      <th>06</th>\n",
       "      <th>08</th>\n",
       "      <th>10</th>\n",
       "      <th>12</th>\n",
       "      <th>14</th>\n",
       "      <th>16</th>\n",
       "      <th>18</th>\n",
       "      <th>20</th>\n",
       "      <th>22</th>\n",
       "    </tr>\n",
       "    <tr>\n",
       "      <th>replicate</th>\n",
       "      <th>A</th>\n",
       "      <th>A</th>\n",
       "      <th>A</th>\n",
       "      <th>A</th>\n",
       "      <th>A</th>\n",
       "      <th>A</th>\n",
       "      <th>A</th>\n",
       "      <th>A</th>\n",
       "      <th>A</th>\n",
       "      <th>A</th>\n",
       "      <th>...</th>\n",
       "      <th>D</th>\n",
       "      <th>D</th>\n",
       "      <th>D</th>\n",
       "      <th>D</th>\n",
       "      <th>D</th>\n",
       "      <th>D</th>\n",
       "      <th>D</th>\n",
       "      <th>D</th>\n",
       "      <th>D</th>\n",
       "      <th>D</th>\n",
       "    </tr>\n",
       "    <tr>\n",
       "      <th>Gene_Symbol</th>\n",
       "      <th></th>\n",
       "      <th></th>\n",
       "      <th></th>\n",
       "      <th></th>\n",
       "      <th></th>\n",
       "      <th></th>\n",
       "      <th></th>\n",
       "      <th></th>\n",
       "      <th></th>\n",
       "      <th></th>\n",
       "      <th></th>\n",
       "      <th></th>\n",
       "      <th></th>\n",
       "      <th></th>\n",
       "      <th></th>\n",
       "      <th></th>\n",
       "      <th></th>\n",
       "      <th></th>\n",
       "      <th></th>\n",
       "      <th></th>\n",
       "      <th></th>\n",
       "    </tr>\n",
       "  </thead>\n",
       "  <tbody>\n",
       "    <tr>\n",
       "      <th>Gnai3</th>\n",
       "      <td>-1.564402</td>\n",
       "      <td>-1.536626</td>\n",
       "      <td>-1.931707</td>\n",
       "      <td>-1.458354</td>\n",
       "      <td>-1.575970</td>\n",
       "      <td>-1.654038</td>\n",
       "      <td>-1.550707</td>\n",
       "      <td>-1.564596</td>\n",
       "      <td>-1.211372</td>\n",
       "      <td>-1.654187</td>\n",
       "      <td>...</td>\n",
       "      <td>4.739938</td>\n",
       "      <td>4.648414</td>\n",
       "      <td>4.576937</td>\n",
       "      <td>4.891934</td>\n",
       "      <td>5.284247</td>\n",
       "      <td>5.502545</td>\n",
       "      <td>5.115915</td>\n",
       "      <td>5.402904</td>\n",
       "      <td>5.119890</td>\n",
       "      <td>4.873039</td>\n",
       "    </tr>\n",
       "    <tr>\n",
       "      <th>Cdc45</th>\n",
       "      <td>-3.838233</td>\n",
       "      <td>-4.132913</td>\n",
       "      <td>-4.023130</td>\n",
       "      <td>-3.782926</td>\n",
       "      <td>-3.971205</td>\n",
       "      <td>-3.898270</td>\n",
       "      <td>-3.837377</td>\n",
       "      <td>-3.907227</td>\n",
       "      <td>-4.002231</td>\n",
       "      <td>-3.837719</td>\n",
       "      <td>...</td>\n",
       "      <td>-1.783427</td>\n",
       "      <td>-1.045727</td>\n",
       "      <td>-1.868940</td>\n",
       "      <td>-1.616297</td>\n",
       "      <td>1.552717</td>\n",
       "      <td>0.336330</td>\n",
       "      <td>-1.370050</td>\n",
       "      <td>-0.308212</td>\n",
       "      <td>-1.218384</td>\n",
       "      <td>-0.541827</td>\n",
       "    </tr>\n",
       "    <tr>\n",
       "      <th>Apoh</th>\n",
       "      <td>-1.075680</td>\n",
       "      <td>-1.540220</td>\n",
       "      <td>-1.569142</td>\n",
       "      <td>-1.652602</td>\n",
       "      <td>-1.786800</td>\n",
       "      <td>-1.539642</td>\n",
       "      <td>-1.434320</td>\n",
       "      <td>-1.655522</td>\n",
       "      <td>-1.499171</td>\n",
       "      <td>-1.411709</td>\n",
       "      <td>...</td>\n",
       "      <td>10.657651</td>\n",
       "      <td>10.460193</td>\n",
       "      <td>10.623698</td>\n",
       "      <td>10.381588</td>\n",
       "      <td>10.146668</td>\n",
       "      <td>10.232355</td>\n",
       "      <td>10.631922</td>\n",
       "      <td>10.468625</td>\n",
       "      <td>10.704931</td>\n",
       "      <td>10.591210</td>\n",
       "    </tr>\n",
       "    <tr>\n",
       "      <th>Narf</th>\n",
       "      <td>-1.198793</td>\n",
       "      <td>-0.937221</td>\n",
       "      <td>-0.921084</td>\n",
       "      <td>-0.331866</td>\n",
       "      <td>-0.123671</td>\n",
       "      <td>-0.186613</td>\n",
       "      <td>-0.632810</td>\n",
       "      <td>-0.963087</td>\n",
       "      <td>-0.999763</td>\n",
       "      <td>-1.320254</td>\n",
       "      <td>...</td>\n",
       "      <td>1.788997</td>\n",
       "      <td>2.660656</td>\n",
       "      <td>2.890531</td>\n",
       "      <td>3.379632</td>\n",
       "      <td>2.924193</td>\n",
       "      <td>2.472548</td>\n",
       "      <td>2.686118</td>\n",
       "      <td>2.390108</td>\n",
       "      <td>1.941836</td>\n",
       "      <td>2.128767</td>\n",
       "    </tr>\n",
       "    <tr>\n",
       "      <th>Cav2</th>\n",
       "      <td>-3.046334</td>\n",
       "      <td>-3.741371</td>\n",
       "      <td>-3.364087</td>\n",
       "      <td>-3.063080</td>\n",
       "      <td>-3.374724</td>\n",
       "      <td>-2.992739</td>\n",
       "      <td>-2.985271</td>\n",
       "      <td>-2.991166</td>\n",
       "      <td>-2.954387</td>\n",
       "      <td>-3.052015</td>\n",
       "      <td>...</td>\n",
       "      <td>0.759856</td>\n",
       "      <td>0.403964</td>\n",
       "      <td>0.581452</td>\n",
       "      <td>0.716145</td>\n",
       "      <td>0.742948</td>\n",
       "      <td>0.385111</td>\n",
       "      <td>0.282426</td>\n",
       "      <td>0.624375</td>\n",
       "      <td>0.806800</td>\n",
       "      <td>0.524357</td>\n",
       "    </tr>\n",
       "  </tbody>\n",
       "</table>\n",
       "<p>5 rows × 144 columns</p>\n",
       "</div>"
      ],
      "text/plain": [
       "condition          WT                                                    \\\n",
       "feeding            AL                                                     \n",
       "feature        Intron                                                     \n",
       "time               00        02        04        06        08        10   \n",
       "replicate           A         A         A         A         A         A   \n",
       "Gene_Symbol                                                               \n",
       "Gnai3       -1.564402 -1.536626 -1.931707 -1.458354 -1.575970 -1.654038   \n",
       "Cdc45       -3.838233 -4.132913 -4.023130 -3.782926 -3.971205 -3.898270   \n",
       "Apoh        -1.075680 -1.540220 -1.569142 -1.652602 -1.786800 -1.539642   \n",
       "Narf        -1.198793 -0.937221 -0.921084 -0.331866 -0.123671 -0.186613   \n",
       "Cav2        -3.046334 -3.741371 -3.364087 -3.063080 -3.374724 -2.992739   \n",
       "\n",
       "condition                                            ...             \\\n",
       "feeding                                              ...              \n",
       "feature                                              ...        RFP   \n",
       "time               12        14        16        18  ...         04   \n",
       "replicate           A         A         A         A  ...          D   \n",
       "Gene_Symbol                                          ...              \n",
       "Gnai3       -1.550707 -1.564596 -1.211372 -1.654187  ...   4.739938   \n",
       "Cdc45       -3.837377 -3.907227 -4.002231 -3.837719  ...  -1.783427   \n",
       "Apoh        -1.434320 -1.655522 -1.499171 -1.411709  ...  10.657651   \n",
       "Narf        -0.632810 -0.963087 -0.999763 -1.320254  ...   1.788997   \n",
       "Cav2        -2.985271 -2.991166 -2.954387 -3.052015  ...   0.759856   \n",
       "\n",
       "condition                                                                      \\\n",
       "feeding                                                                         \n",
       "feature                                                                         \n",
       "time                06         08         10         12         14         16   \n",
       "replicate            D          D          D          D          D          D   \n",
       "Gene_Symbol                                                                     \n",
       "Gnai3         4.648414   4.576937   4.891934   5.284247   5.502545   5.115915   \n",
       "Cdc45        -1.045727  -1.868940  -1.616297   1.552717   0.336330  -1.370050   \n",
       "Apoh         10.460193  10.623698  10.381588  10.146668  10.232355  10.631922   \n",
       "Narf          2.660656   2.890531   3.379632   2.924193   2.472548   2.686118   \n",
       "Cav2          0.403964   0.581452   0.716145   0.742948   0.385111   0.282426   \n",
       "\n",
       "condition                                     \n",
       "feeding                                       \n",
       "feature                                       \n",
       "time                18         20         22  \n",
       "replicate            D          D          D  \n",
       "Gene_Symbol                                   \n",
       "Gnai3         5.402904   5.119890   4.873039  \n",
       "Cdc45        -0.308212  -1.218384  -0.541827  \n",
       "Apoh         10.468625  10.704931  10.591210  \n",
       "Narf          2.390108   1.941836   2.128767  \n",
       "Cav2          0.624375   0.806800   0.524357  \n",
       "\n",
       "[5 rows x 144 columns]"
      ]
     },
     "execution_count": 102,
     "metadata": {},
     "output_type": "execute_result"
    }
   ],
   "source": [
    "dat = pd.read_csv(\"./GSE73554_WT_AL_Intron_Exon_RFP.txt\",sep='\\t')\n",
    "dat.index = dat['Gene_Symbol']\n",
    "dat = dat.drop(['Gene_Symbol','Gene_Ensembl'], axis=1)\n",
    "dat.columns = dat.columns.str.split('_', expand = True)\n",
    "dat.columns.names = ['condition','feeding','feature','time','replicate']\n",
    "\n",
    "dat.head()"
   ]
  },
  {
   "cell_type": "code",
   "execution_count": 103,
   "id": "821143cb",
   "metadata": {},
   "outputs": [],
   "source": [
    "# get only the genes we're interested in\n",
    "genes = ['Arntl', 'Npas2', 'Clock', 'Cry1', 'Cry2', 'Per1', 'Per2', 'Per3', 'Nr1d1', 'Nr1d2', 'Rora', 'Rorc', 'Tef', 'Dbp']\n",
    "all_dat = dat\n",
    "dat = dat.loc[genes]\n",
    "i_introns = dat.columns.get_level_values('feature').isin(['Intron'])\n",
    "dat_intron = dat.iloc[:,i_introns]\n",
    "i_exons = dat.columns.get_level_values('feature').isin(['Exon'])\n",
    "dat_exons = dat.iloc[:,i_exons]\n",
    "\n",
    "i_all = dat.columns.get_level_values('feature').isin(['Intron', 'Exon'])\n",
    "dat_tot = dat.iloc[:,i_all]"
   ]
  },
  {
   "cell_type": "code",
   "execution_count": 104,
   "id": "adf17c49",
   "metadata": {},
   "outputs": [
    {
     "data": {
      "application/vnd.plotly.v1+json": {
       "config": {
        "plotlyServerURL": "https://plot.ly"
       },
       "data": [
        {
         "hovertemplate": "color=00<br>symbol=WT<br>0=%{x}<br>1=%{y}<extra></extra>",
         "legendgroup": "00, WT",
         "marker": {
          "color": "#636efa",
          "size": 13,
          "symbol": "circle"
         },
         "mode": "markers",
         "name": "00, WT",
         "orientation": "v",
         "showlegend": true,
         "type": "scatter",
         "x": [
          3.4836016728773203,
          2.4244226161263605,
          0.75631073476937,
          0.28216138711870786
         ],
         "xaxis": "x",
         "y": [
          1.977785348663021,
          3.156847433816525,
          3.8298691419930635,
          3.757474328551392
         ],
         "yaxis": "y"
        },
        {
         "hovertemplate": "color=02<br>symbol=WT<br>0=%{x}<br>1=%{y}<extra></extra>",
         "legendgroup": "02, WT",
         "marker": {
          "color": "#EF553B",
          "size": 13,
          "symbol": "circle"
         },
         "mode": "markers",
         "name": "02, WT",
         "orientation": "v",
         "showlegend": true,
         "type": "scatter",
         "x": [
          -0.46122231366583366,
          -1.528191556343529,
          -1.6131018977778009,
          -1.8523956849094418
         ],
         "xaxis": "x",
         "y": [
          3.2371250650848453,
          0.9273405606289189,
          2.436527017753405,
          1.4385435349091227
         ],
         "yaxis": "y"
        },
        {
         "hovertemplate": "color=04<br>symbol=WT<br>0=%{x}<br>1=%{y}<extra></extra>",
         "legendgroup": "04, WT",
         "marker": {
          "color": "#00cc96",
          "size": 13,
          "symbol": "circle"
         },
         "mode": "markers",
         "name": "04, WT",
         "orientation": "v",
         "showlegend": true,
         "type": "scatter",
         "x": [
          -2.019612206842155,
          -1.130493968955875,
          -2.3569566999168416,
          -1.2375080987129894
         ],
         "xaxis": "x",
         "y": [
          1.5541679980611167,
          2.8134872632655097,
          0.40359925488375953,
          2.3189307771271293
         ],
         "yaxis": "y"
        },
        {
         "hovertemplate": "color=06<br>symbol=WT<br>0=%{x}<br>1=%{y}<extra></extra>",
         "legendgroup": "06, WT",
         "marker": {
          "color": "#ab63fa",
          "size": 13,
          "symbol": "circle"
         },
         "mode": "markers",
         "name": "06, WT",
         "orientation": "v",
         "showlegend": true,
         "type": "scatter",
         "x": [
          -2.353899778735179,
          -2.3125378633977767,
          -2.3255076657442846,
          -2.2828743395942936
         ],
         "xaxis": "x",
         "y": [
          0.5273796420921905,
          0.5048065879207781,
          0.1494859787969397,
          0.521569846848206
         ],
         "yaxis": "y"
        },
        {
         "hovertemplate": "color=08<br>symbol=WT<br>0=%{x}<br>1=%{y}<extra></extra>",
         "legendgroup": "08, WT",
         "marker": {
          "color": "#FFA15A",
          "size": 13,
          "symbol": "circle"
         },
         "mode": "markers",
         "name": "08, WT",
         "orientation": "v",
         "showlegend": true,
         "type": "scatter",
         "x": [
          -2.248680074541489,
          -1.8303877776523003,
          -1.9039439116344627,
          -2.3293516766814646
         ],
         "xaxis": "x",
         "y": [
          -0.2280371800444913,
          -1.0662920748350098,
          -0.9299948573525183,
          -0.1819635488497864
         ],
         "yaxis": "y"
        },
        {
         "hovertemplate": "color=10<br>symbol=WT<br>0=%{x}<br>1=%{y}<extra></extra>",
         "legendgroup": "10, WT",
         "marker": {
          "color": "#19d3f3",
          "size": 13,
          "symbol": "circle"
         },
         "mode": "markers",
         "name": "10, WT",
         "orientation": "v",
         "showlegend": true,
         "type": "scatter",
         "x": [
          -1.9989655935697834,
          -2.1041434744574716,
          -1.63671700837937,
          -2.1051817701822966
         ],
         "xaxis": "x",
         "y": [
          -0.7034196515337326,
          -0.6905366730747174,
          -1.2518763919892864,
          -0.747748106944352
         ],
         "yaxis": "y"
        },
        {
         "hovertemplate": "color=12<br>symbol=WT<br>0=%{x}<br>1=%{y}<extra></extra>",
         "legendgroup": "12, WT",
         "marker": {
          "color": "#FF6692",
          "size": 13,
          "symbol": "circle"
         },
         "mode": "markers",
         "name": "12, WT",
         "orientation": "v",
         "showlegend": true,
         "type": "scatter",
         "x": [
          -1.2275343234182723,
          -1.48216360880272,
          -1.5723967156180196,
          -1.2535264477257995
         ],
         "xaxis": "x",
         "y": [
          -1.446297216741375,
          -1.350993986929827,
          -1.2925262170670215,
          -1.3861189458870016
         ],
         "yaxis": "y"
        },
        {
         "hovertemplate": "color=14<br>symbol=WT<br>0=%{x}<br>1=%{y}<extra></extra>",
         "legendgroup": "14, WT",
         "marker": {
          "color": "#B6E880",
          "size": 13,
          "symbol": "circle"
         },
         "mode": "markers",
         "name": "14, WT",
         "orientation": "v",
         "showlegend": true,
         "type": "scatter",
         "x": [
          -0.963902935300206,
          0.46085715985146297,
          -1.070330155440929,
          -0.15276995366517096
         ],
         "xaxis": "x",
         "y": [
          -1.2326124658506479,
          -1.60905300793263,
          -1.3180833222047719,
          -1.349833597329759
         ],
         "yaxis": "y"
        },
        {
         "hovertemplate": "color=16<br>symbol=WT<br>0=%{x}<br>1=%{y}<extra></extra>",
         "legendgroup": "16, WT",
         "marker": {
          "color": "#FF97FF",
          "size": 13,
          "symbol": "circle"
         },
         "mode": "markers",
         "name": "16, WT",
         "orientation": "v",
         "showlegend": true,
         "type": "scatter",
         "x": [
          0.48532611630401495,
          1.1566229798008287,
          0.9100869772767005,
          0.6629476696168836
         ],
         "xaxis": "x",
         "y": [
          -1.612713710773884,
          -1.3012469313897526,
          -1.5209679208141844,
          -1.6041723173128861
         ],
         "yaxis": "y"
        },
        {
         "hovertemplate": "color=18<br>symbol=WT<br>0=%{x}<br>1=%{y}<extra></extra>",
         "legendgroup": "18, WT",
         "marker": {
          "color": "#FECB52",
          "size": 13,
          "symbol": "circle"
         },
         "mode": "markers",
         "name": "18, WT",
         "orientation": "v",
         "showlegend": true,
         "type": "scatter",
         "x": [
          0.870113276846019,
          2.712164628822537,
          2.5205840612692665,
          1.921205583773449
         ],
         "xaxis": "x",
         "y": [
          -1.7287835468929018,
          -1.2370336714768457,
          -1.0809868158273812,
          -1.4129681223100337
         ],
         "yaxis": "y"
        },
        {
         "hovertemplate": "color=20<br>symbol=WT<br>0=%{x}<br>1=%{y}<extra></extra>",
         "legendgroup": "20, WT",
         "marker": {
          "color": "#636efa",
          "size": 13,
          "symbol": "circle"
         },
         "mode": "markers",
         "name": "20, WT",
         "orientation": "v",
         "showlegend": true,
         "type": "scatter",
         "x": [
          3.43477980430109,
          3.8764601804288232,
          2.3903631128025835,
          2.2806563867811045
         ],
         "xaxis": "x",
         "y": [
          -0.33499803343948403,
          -0.14535493794649398,
          -1.3618907794434083,
          -1.1685819337308083
         ],
         "yaxis": "y"
        },
        {
         "hovertemplate": "color=22<br>symbol=WT<br>0=%{x}<br>1=%{y}<extra></extra>",
         "legendgroup": "22, WT",
         "marker": {
          "color": "#EF553B",
          "size": 13,
          "symbol": "circle"
         },
         "mode": "markers",
         "name": "22, WT",
         "orientation": "v",
         "showlegend": true,
         "type": "scatter",
         "x": [
          3.9205124854648794,
          4.094232185862874,
          3.6724697304122906,
          3.038418751159199
         ],
         "xaxis": "x",
         "y": [
          1.154321399009189,
          0.8759007184570285,
          -0.34921860349340006,
          0.05914267155625273
         ],
         "yaxis": "y"
        }
       ],
       "layout": {
        "height": 600,
        "legend": {
         "title": {
          "text": "color, symbol"
         },
         "tracegroupgap": 0
        },
        "margin": {
         "t": 60
        },
        "plot_bgcolor": "rgb(243,243,243)",
        "template": {
         "data": {
          "bar": [
           {
            "error_x": {
             "color": "#2a3f5f"
            },
            "error_y": {
             "color": "#2a3f5f"
            },
            "marker": {
             "line": {
              "color": "#E5ECF6",
              "width": 0.5
             },
             "pattern": {
              "fillmode": "overlay",
              "size": 10,
              "solidity": 0.2
             }
            },
            "type": "bar"
           }
          ],
          "barpolar": [
           {
            "marker": {
             "line": {
              "color": "#E5ECF6",
              "width": 0.5
             },
             "pattern": {
              "fillmode": "overlay",
              "size": 10,
              "solidity": 0.2
             }
            },
            "type": "barpolar"
           }
          ],
          "carpet": [
           {
            "aaxis": {
             "endlinecolor": "#2a3f5f",
             "gridcolor": "white",
             "linecolor": "white",
             "minorgridcolor": "white",
             "startlinecolor": "#2a3f5f"
            },
            "baxis": {
             "endlinecolor": "#2a3f5f",
             "gridcolor": "white",
             "linecolor": "white",
             "minorgridcolor": "white",
             "startlinecolor": "#2a3f5f"
            },
            "type": "carpet"
           }
          ],
          "choropleth": [
           {
            "colorbar": {
             "outlinewidth": 0,
             "ticks": ""
            },
            "type": "choropleth"
           }
          ],
          "contour": [
           {
            "colorbar": {
             "outlinewidth": 0,
             "ticks": ""
            },
            "colorscale": [
             [
              0,
              "#0d0887"
             ],
             [
              0.1111111111111111,
              "#46039f"
             ],
             [
              0.2222222222222222,
              "#7201a8"
             ],
             [
              0.3333333333333333,
              "#9c179e"
             ],
             [
              0.4444444444444444,
              "#bd3786"
             ],
             [
              0.5555555555555556,
              "#d8576b"
             ],
             [
              0.6666666666666666,
              "#ed7953"
             ],
             [
              0.7777777777777778,
              "#fb9f3a"
             ],
             [
              0.8888888888888888,
              "#fdca26"
             ],
             [
              1,
              "#f0f921"
             ]
            ],
            "type": "contour"
           }
          ],
          "contourcarpet": [
           {
            "colorbar": {
             "outlinewidth": 0,
             "ticks": ""
            },
            "type": "contourcarpet"
           }
          ],
          "heatmap": [
           {
            "colorbar": {
             "outlinewidth": 0,
             "ticks": ""
            },
            "colorscale": [
             [
              0,
              "#0d0887"
             ],
             [
              0.1111111111111111,
              "#46039f"
             ],
             [
              0.2222222222222222,
              "#7201a8"
             ],
             [
              0.3333333333333333,
              "#9c179e"
             ],
             [
              0.4444444444444444,
              "#bd3786"
             ],
             [
              0.5555555555555556,
              "#d8576b"
             ],
             [
              0.6666666666666666,
              "#ed7953"
             ],
             [
              0.7777777777777778,
              "#fb9f3a"
             ],
             [
              0.8888888888888888,
              "#fdca26"
             ],
             [
              1,
              "#f0f921"
             ]
            ],
            "type": "heatmap"
           }
          ],
          "heatmapgl": [
           {
            "colorbar": {
             "outlinewidth": 0,
             "ticks": ""
            },
            "colorscale": [
             [
              0,
              "#0d0887"
             ],
             [
              0.1111111111111111,
              "#46039f"
             ],
             [
              0.2222222222222222,
              "#7201a8"
             ],
             [
              0.3333333333333333,
              "#9c179e"
             ],
             [
              0.4444444444444444,
              "#bd3786"
             ],
             [
              0.5555555555555556,
              "#d8576b"
             ],
             [
              0.6666666666666666,
              "#ed7953"
             ],
             [
              0.7777777777777778,
              "#fb9f3a"
             ],
             [
              0.8888888888888888,
              "#fdca26"
             ],
             [
              1,
              "#f0f921"
             ]
            ],
            "type": "heatmapgl"
           }
          ],
          "histogram": [
           {
            "marker": {
             "pattern": {
              "fillmode": "overlay",
              "size": 10,
              "solidity": 0.2
             }
            },
            "type": "histogram"
           }
          ],
          "histogram2d": [
           {
            "colorbar": {
             "outlinewidth": 0,
             "ticks": ""
            },
            "colorscale": [
             [
              0,
              "#0d0887"
             ],
             [
              0.1111111111111111,
              "#46039f"
             ],
             [
              0.2222222222222222,
              "#7201a8"
             ],
             [
              0.3333333333333333,
              "#9c179e"
             ],
             [
              0.4444444444444444,
              "#bd3786"
             ],
             [
              0.5555555555555556,
              "#d8576b"
             ],
             [
              0.6666666666666666,
              "#ed7953"
             ],
             [
              0.7777777777777778,
              "#fb9f3a"
             ],
             [
              0.8888888888888888,
              "#fdca26"
             ],
             [
              1,
              "#f0f921"
             ]
            ],
            "type": "histogram2d"
           }
          ],
          "histogram2dcontour": [
           {
            "colorbar": {
             "outlinewidth": 0,
             "ticks": ""
            },
            "colorscale": [
             [
              0,
              "#0d0887"
             ],
             [
              0.1111111111111111,
              "#46039f"
             ],
             [
              0.2222222222222222,
              "#7201a8"
             ],
             [
              0.3333333333333333,
              "#9c179e"
             ],
             [
              0.4444444444444444,
              "#bd3786"
             ],
             [
              0.5555555555555556,
              "#d8576b"
             ],
             [
              0.6666666666666666,
              "#ed7953"
             ],
             [
              0.7777777777777778,
              "#fb9f3a"
             ],
             [
              0.8888888888888888,
              "#fdca26"
             ],
             [
              1,
              "#f0f921"
             ]
            ],
            "type": "histogram2dcontour"
           }
          ],
          "mesh3d": [
           {
            "colorbar": {
             "outlinewidth": 0,
             "ticks": ""
            },
            "type": "mesh3d"
           }
          ],
          "parcoords": [
           {
            "line": {
             "colorbar": {
              "outlinewidth": 0,
              "ticks": ""
             }
            },
            "type": "parcoords"
           }
          ],
          "pie": [
           {
            "automargin": true,
            "type": "pie"
           }
          ],
          "scatter": [
           {
            "fillpattern": {
             "fillmode": "overlay",
             "size": 10,
             "solidity": 0.2
            },
            "type": "scatter"
           }
          ],
          "scatter3d": [
           {
            "line": {
             "colorbar": {
              "outlinewidth": 0,
              "ticks": ""
             }
            },
            "marker": {
             "colorbar": {
              "outlinewidth": 0,
              "ticks": ""
             }
            },
            "type": "scatter3d"
           }
          ],
          "scattercarpet": [
           {
            "marker": {
             "colorbar": {
              "outlinewidth": 0,
              "ticks": ""
             }
            },
            "type": "scattercarpet"
           }
          ],
          "scattergeo": [
           {
            "marker": {
             "colorbar": {
              "outlinewidth": 0,
              "ticks": ""
             }
            },
            "type": "scattergeo"
           }
          ],
          "scattergl": [
           {
            "marker": {
             "colorbar": {
              "outlinewidth": 0,
              "ticks": ""
             }
            },
            "type": "scattergl"
           }
          ],
          "scattermapbox": [
           {
            "marker": {
             "colorbar": {
              "outlinewidth": 0,
              "ticks": ""
             }
            },
            "type": "scattermapbox"
           }
          ],
          "scatterpolar": [
           {
            "marker": {
             "colorbar": {
              "outlinewidth": 0,
              "ticks": ""
             }
            },
            "type": "scatterpolar"
           }
          ],
          "scatterpolargl": [
           {
            "marker": {
             "colorbar": {
              "outlinewidth": 0,
              "ticks": ""
             }
            },
            "type": "scatterpolargl"
           }
          ],
          "scatterternary": [
           {
            "marker": {
             "colorbar": {
              "outlinewidth": 0,
              "ticks": ""
             }
            },
            "type": "scatterternary"
           }
          ],
          "surface": [
           {
            "colorbar": {
             "outlinewidth": 0,
             "ticks": ""
            },
            "colorscale": [
             [
              0,
              "#0d0887"
             ],
             [
              0.1111111111111111,
              "#46039f"
             ],
             [
              0.2222222222222222,
              "#7201a8"
             ],
             [
              0.3333333333333333,
              "#9c179e"
             ],
             [
              0.4444444444444444,
              "#bd3786"
             ],
             [
              0.5555555555555556,
              "#d8576b"
             ],
             [
              0.6666666666666666,
              "#ed7953"
             ],
             [
              0.7777777777777778,
              "#fb9f3a"
             ],
             [
              0.8888888888888888,
              "#fdca26"
             ],
             [
              1,
              "#f0f921"
             ]
            ],
            "type": "surface"
           }
          ],
          "table": [
           {
            "cells": {
             "fill": {
              "color": "#EBF0F8"
             },
             "line": {
              "color": "white"
             }
            },
            "header": {
             "fill": {
              "color": "#C8D4E3"
             },
             "line": {
              "color": "white"
             }
            },
            "type": "table"
           }
          ]
         },
         "layout": {
          "annotationdefaults": {
           "arrowcolor": "#2a3f5f",
           "arrowhead": 0,
           "arrowwidth": 1
          },
          "autotypenumbers": "strict",
          "coloraxis": {
           "colorbar": {
            "outlinewidth": 0,
            "ticks": ""
           }
          },
          "colorscale": {
           "diverging": [
            [
             0,
             "#8e0152"
            ],
            [
             0.1,
             "#c51b7d"
            ],
            [
             0.2,
             "#de77ae"
            ],
            [
             0.3,
             "#f1b6da"
            ],
            [
             0.4,
             "#fde0ef"
            ],
            [
             0.5,
             "#f7f7f7"
            ],
            [
             0.6,
             "#e6f5d0"
            ],
            [
             0.7,
             "#b8e186"
            ],
            [
             0.8,
             "#7fbc41"
            ],
            [
             0.9,
             "#4d9221"
            ],
            [
             1,
             "#276419"
            ]
           ],
           "sequential": [
            [
             0,
             "#0d0887"
            ],
            [
             0.1111111111111111,
             "#46039f"
            ],
            [
             0.2222222222222222,
             "#7201a8"
            ],
            [
             0.3333333333333333,
             "#9c179e"
            ],
            [
             0.4444444444444444,
             "#bd3786"
            ],
            [
             0.5555555555555556,
             "#d8576b"
            ],
            [
             0.6666666666666666,
             "#ed7953"
            ],
            [
             0.7777777777777778,
             "#fb9f3a"
            ],
            [
             0.8888888888888888,
             "#fdca26"
            ],
            [
             1,
             "#f0f921"
            ]
           ],
           "sequentialminus": [
            [
             0,
             "#0d0887"
            ],
            [
             0.1111111111111111,
             "#46039f"
            ],
            [
             0.2222222222222222,
             "#7201a8"
            ],
            [
             0.3333333333333333,
             "#9c179e"
            ],
            [
             0.4444444444444444,
             "#bd3786"
            ],
            [
             0.5555555555555556,
             "#d8576b"
            ],
            [
             0.6666666666666666,
             "#ed7953"
            ],
            [
             0.7777777777777778,
             "#fb9f3a"
            ],
            [
             0.8888888888888888,
             "#fdca26"
            ],
            [
             1,
             "#f0f921"
            ]
           ]
          },
          "colorway": [
           "#636efa",
           "#EF553B",
           "#00cc96",
           "#ab63fa",
           "#FFA15A",
           "#19d3f3",
           "#FF6692",
           "#B6E880",
           "#FF97FF",
           "#FECB52"
          ],
          "font": {
           "color": "#2a3f5f"
          },
          "geo": {
           "bgcolor": "white",
           "lakecolor": "white",
           "landcolor": "#E5ECF6",
           "showlakes": true,
           "showland": true,
           "subunitcolor": "white"
          },
          "hoverlabel": {
           "align": "left"
          },
          "hovermode": "closest",
          "mapbox": {
           "style": "light"
          },
          "paper_bgcolor": "white",
          "plot_bgcolor": "#E5ECF6",
          "polar": {
           "angularaxis": {
            "gridcolor": "white",
            "linecolor": "white",
            "ticks": ""
           },
           "bgcolor": "#E5ECF6",
           "radialaxis": {
            "gridcolor": "white",
            "linecolor": "white",
            "ticks": ""
           }
          },
          "scene": {
           "xaxis": {
            "backgroundcolor": "#E5ECF6",
            "gridcolor": "white",
            "gridwidth": 2,
            "linecolor": "white",
            "showbackground": true,
            "ticks": "",
            "zerolinecolor": "white"
           },
           "yaxis": {
            "backgroundcolor": "#E5ECF6",
            "gridcolor": "white",
            "gridwidth": 2,
            "linecolor": "white",
            "showbackground": true,
            "ticks": "",
            "zerolinecolor": "white"
           },
           "zaxis": {
            "backgroundcolor": "#E5ECF6",
            "gridcolor": "white",
            "gridwidth": 2,
            "linecolor": "white",
            "showbackground": true,
            "ticks": "",
            "zerolinecolor": "white"
           }
          },
          "shapedefaults": {
           "line": {
            "color": "#2a3f5f"
           }
          },
          "ternary": {
           "aaxis": {
            "gridcolor": "white",
            "linecolor": "white",
            "ticks": ""
           },
           "baxis": {
            "gridcolor": "white",
            "linecolor": "white",
            "ticks": ""
           },
           "bgcolor": "#E5ECF6",
           "caxis": {
            "gridcolor": "white",
            "linecolor": "white",
            "ticks": ""
           }
          },
          "title": {
           "x": 0.05
          },
          "xaxis": {
           "automargin": true,
           "gridcolor": "white",
           "linecolor": "white",
           "ticks": "",
           "title": {
            "standoff": 15
           },
           "zerolinecolor": "white",
           "zerolinewidth": 2
          },
          "yaxis": {
           "automargin": true,
           "gridcolor": "white",
           "linecolor": "white",
           "ticks": "",
           "title": {
            "standoff": 15
           },
           "zerolinecolor": "white",
           "zerolinewidth": 2
          }
         }
        },
        "width": 600,
        "xaxis": {
         "anchor": "y",
         "domain": [
          0,
          1
         ],
         "title": {
          "text": "PC 1 (58.1%)"
         }
        },
        "yaxis": {
         "anchor": "x",
         "domain": [
          0,
          1
         ],
         "title": {
          "text": "PC 2 (32.4%)"
         }
        }
       }
      },
      "text/html": [
       "<div>                            <div id=\"d280b126-6972-4531-b5a8-83481b726ead\" class=\"plotly-graph-div\" style=\"height:600px; width:600px;\"></div>            <script type=\"text/javascript\">                require([\"plotly\"], function(Plotly) {                    window.PLOTLYENV=window.PLOTLYENV || {};                                    if (document.getElementById(\"d280b126-6972-4531-b5a8-83481b726ead\")) {                    Plotly.newPlot(                        \"d280b126-6972-4531-b5a8-83481b726ead\",                        [{\"hovertemplate\":\"color=00<br>symbol=WT<br>0=%{x}<br>1=%{y}<extra></extra>\",\"legendgroup\":\"00, WT\",\"marker\":{\"color\":\"#636efa\",\"symbol\":\"circle\",\"size\":13},\"mode\":\"markers\",\"name\":\"00, WT\",\"orientation\":\"v\",\"showlegend\":true,\"x\":[3.4836016728773203,2.4244226161263605,0.75631073476937,0.28216138711870786],\"xaxis\":\"x\",\"y\":[1.977785348663021,3.156847433816525,3.8298691419930635,3.757474328551392],\"yaxis\":\"y\",\"type\":\"scatter\"},{\"hovertemplate\":\"color=02<br>symbol=WT<br>0=%{x}<br>1=%{y}<extra></extra>\",\"legendgroup\":\"02, WT\",\"marker\":{\"color\":\"#EF553B\",\"symbol\":\"circle\",\"size\":13},\"mode\":\"markers\",\"name\":\"02, WT\",\"orientation\":\"v\",\"showlegend\":true,\"x\":[-0.46122231366583366,-1.528191556343529,-1.6131018977778009,-1.8523956849094418],\"xaxis\":\"x\",\"y\":[3.2371250650848453,0.9273405606289189,2.436527017753405,1.4385435349091227],\"yaxis\":\"y\",\"type\":\"scatter\"},{\"hovertemplate\":\"color=04<br>symbol=WT<br>0=%{x}<br>1=%{y}<extra></extra>\",\"legendgroup\":\"04, WT\",\"marker\":{\"color\":\"#00cc96\",\"symbol\":\"circle\",\"size\":13},\"mode\":\"markers\",\"name\":\"04, WT\",\"orientation\":\"v\",\"showlegend\":true,\"x\":[-2.019612206842155,-1.130493968955875,-2.3569566999168416,-1.2375080987129894],\"xaxis\":\"x\",\"y\":[1.5541679980611167,2.8134872632655097,0.40359925488375953,2.3189307771271293],\"yaxis\":\"y\",\"type\":\"scatter\"},{\"hovertemplate\":\"color=06<br>symbol=WT<br>0=%{x}<br>1=%{y}<extra></extra>\",\"legendgroup\":\"06, WT\",\"marker\":{\"color\":\"#ab63fa\",\"symbol\":\"circle\",\"size\":13},\"mode\":\"markers\",\"name\":\"06, WT\",\"orientation\":\"v\",\"showlegend\":true,\"x\":[-2.353899778735179,-2.3125378633977767,-2.3255076657442846,-2.2828743395942936],\"xaxis\":\"x\",\"y\":[0.5273796420921905,0.5048065879207781,0.1494859787969397,0.521569846848206],\"yaxis\":\"y\",\"type\":\"scatter\"},{\"hovertemplate\":\"color=08<br>symbol=WT<br>0=%{x}<br>1=%{y}<extra></extra>\",\"legendgroup\":\"08, WT\",\"marker\":{\"color\":\"#FFA15A\",\"symbol\":\"circle\",\"size\":13},\"mode\":\"markers\",\"name\":\"08, WT\",\"orientation\":\"v\",\"showlegend\":true,\"x\":[-2.248680074541489,-1.8303877776523003,-1.9039439116344627,-2.3293516766814646],\"xaxis\":\"x\",\"y\":[-0.2280371800444913,-1.0662920748350098,-0.9299948573525183,-0.1819635488497864],\"yaxis\":\"y\",\"type\":\"scatter\"},{\"hovertemplate\":\"color=10<br>symbol=WT<br>0=%{x}<br>1=%{y}<extra></extra>\",\"legendgroup\":\"10, WT\",\"marker\":{\"color\":\"#19d3f3\",\"symbol\":\"circle\",\"size\":13},\"mode\":\"markers\",\"name\":\"10, WT\",\"orientation\":\"v\",\"showlegend\":true,\"x\":[-1.9989655935697834,-2.1041434744574716,-1.63671700837937,-2.1051817701822966],\"xaxis\":\"x\",\"y\":[-0.7034196515337326,-0.6905366730747174,-1.2518763919892864,-0.747748106944352],\"yaxis\":\"y\",\"type\":\"scatter\"},{\"hovertemplate\":\"color=12<br>symbol=WT<br>0=%{x}<br>1=%{y}<extra></extra>\",\"legendgroup\":\"12, WT\",\"marker\":{\"color\":\"#FF6692\",\"symbol\":\"circle\",\"size\":13},\"mode\":\"markers\",\"name\":\"12, WT\",\"orientation\":\"v\",\"showlegend\":true,\"x\":[-1.2275343234182723,-1.48216360880272,-1.5723967156180196,-1.2535264477257995],\"xaxis\":\"x\",\"y\":[-1.446297216741375,-1.350993986929827,-1.2925262170670215,-1.3861189458870016],\"yaxis\":\"y\",\"type\":\"scatter\"},{\"hovertemplate\":\"color=14<br>symbol=WT<br>0=%{x}<br>1=%{y}<extra></extra>\",\"legendgroup\":\"14, WT\",\"marker\":{\"color\":\"#B6E880\",\"symbol\":\"circle\",\"size\":13},\"mode\":\"markers\",\"name\":\"14, WT\",\"orientation\":\"v\",\"showlegend\":true,\"x\":[-0.963902935300206,0.46085715985146297,-1.070330155440929,-0.15276995366517096],\"xaxis\":\"x\",\"y\":[-1.2326124658506479,-1.60905300793263,-1.3180833222047719,-1.349833597329759],\"yaxis\":\"y\",\"type\":\"scatter\"},{\"hovertemplate\":\"color=16<br>symbol=WT<br>0=%{x}<br>1=%{y}<extra></extra>\",\"legendgroup\":\"16, WT\",\"marker\":{\"color\":\"#FF97FF\",\"symbol\":\"circle\",\"size\":13},\"mode\":\"markers\",\"name\":\"16, WT\",\"orientation\":\"v\",\"showlegend\":true,\"x\":[0.48532611630401495,1.1566229798008287,0.9100869772767005,0.6629476696168836],\"xaxis\":\"x\",\"y\":[-1.612713710773884,-1.3012469313897526,-1.5209679208141844,-1.6041723173128861],\"yaxis\":\"y\",\"type\":\"scatter\"},{\"hovertemplate\":\"color=18<br>symbol=WT<br>0=%{x}<br>1=%{y}<extra></extra>\",\"legendgroup\":\"18, WT\",\"marker\":{\"color\":\"#FECB52\",\"symbol\":\"circle\",\"size\":13},\"mode\":\"markers\",\"name\":\"18, WT\",\"orientation\":\"v\",\"showlegend\":true,\"x\":[0.870113276846019,2.712164628822537,2.5205840612692665,1.921205583773449],\"xaxis\":\"x\",\"y\":[-1.7287835468929018,-1.2370336714768457,-1.0809868158273812,-1.4129681223100337],\"yaxis\":\"y\",\"type\":\"scatter\"},{\"hovertemplate\":\"color=20<br>symbol=WT<br>0=%{x}<br>1=%{y}<extra></extra>\",\"legendgroup\":\"20, WT\",\"marker\":{\"color\":\"#636efa\",\"symbol\":\"circle\",\"size\":13},\"mode\":\"markers\",\"name\":\"20, WT\",\"orientation\":\"v\",\"showlegend\":true,\"x\":[3.43477980430109,3.8764601804288232,2.3903631128025835,2.2806563867811045],\"xaxis\":\"x\",\"y\":[-0.33499803343948403,-0.14535493794649398,-1.3618907794434083,-1.1685819337308083],\"yaxis\":\"y\",\"type\":\"scatter\"},{\"hovertemplate\":\"color=22<br>symbol=WT<br>0=%{x}<br>1=%{y}<extra></extra>\",\"legendgroup\":\"22, WT\",\"marker\":{\"color\":\"#EF553B\",\"symbol\":\"circle\",\"size\":13},\"mode\":\"markers\",\"name\":\"22, WT\",\"orientation\":\"v\",\"showlegend\":true,\"x\":[3.9205124854648794,4.094232185862874,3.6724697304122906,3.038418751159199],\"xaxis\":\"x\",\"y\":[1.154321399009189,0.8759007184570285,-0.34921860349340006,0.05914267155625273],\"yaxis\":\"y\",\"type\":\"scatter\"}],                        {\"template\":{\"data\":{\"histogram2dcontour\":[{\"type\":\"histogram2dcontour\",\"colorbar\":{\"outlinewidth\":0,\"ticks\":\"\"},\"colorscale\":[[0.0,\"#0d0887\"],[0.1111111111111111,\"#46039f\"],[0.2222222222222222,\"#7201a8\"],[0.3333333333333333,\"#9c179e\"],[0.4444444444444444,\"#bd3786\"],[0.5555555555555556,\"#d8576b\"],[0.6666666666666666,\"#ed7953\"],[0.7777777777777778,\"#fb9f3a\"],[0.8888888888888888,\"#fdca26\"],[1.0,\"#f0f921\"]]}],\"choropleth\":[{\"type\":\"choropleth\",\"colorbar\":{\"outlinewidth\":0,\"ticks\":\"\"}}],\"histogram2d\":[{\"type\":\"histogram2d\",\"colorbar\":{\"outlinewidth\":0,\"ticks\":\"\"},\"colorscale\":[[0.0,\"#0d0887\"],[0.1111111111111111,\"#46039f\"],[0.2222222222222222,\"#7201a8\"],[0.3333333333333333,\"#9c179e\"],[0.4444444444444444,\"#bd3786\"],[0.5555555555555556,\"#d8576b\"],[0.6666666666666666,\"#ed7953\"],[0.7777777777777778,\"#fb9f3a\"],[0.8888888888888888,\"#fdca26\"],[1.0,\"#f0f921\"]]}],\"heatmap\":[{\"type\":\"heatmap\",\"colorbar\":{\"outlinewidth\":0,\"ticks\":\"\"},\"colorscale\":[[0.0,\"#0d0887\"],[0.1111111111111111,\"#46039f\"],[0.2222222222222222,\"#7201a8\"],[0.3333333333333333,\"#9c179e\"],[0.4444444444444444,\"#bd3786\"],[0.5555555555555556,\"#d8576b\"],[0.6666666666666666,\"#ed7953\"],[0.7777777777777778,\"#fb9f3a\"],[0.8888888888888888,\"#fdca26\"],[1.0,\"#f0f921\"]]}],\"heatmapgl\":[{\"type\":\"heatmapgl\",\"colorbar\":{\"outlinewidth\":0,\"ticks\":\"\"},\"colorscale\":[[0.0,\"#0d0887\"],[0.1111111111111111,\"#46039f\"],[0.2222222222222222,\"#7201a8\"],[0.3333333333333333,\"#9c179e\"],[0.4444444444444444,\"#bd3786\"],[0.5555555555555556,\"#d8576b\"],[0.6666666666666666,\"#ed7953\"],[0.7777777777777778,\"#fb9f3a\"],[0.8888888888888888,\"#fdca26\"],[1.0,\"#f0f921\"]]}],\"contourcarpet\":[{\"type\":\"contourcarpet\",\"colorbar\":{\"outlinewidth\":0,\"ticks\":\"\"}}],\"contour\":[{\"type\":\"contour\",\"colorbar\":{\"outlinewidth\":0,\"ticks\":\"\"},\"colorscale\":[[0.0,\"#0d0887\"],[0.1111111111111111,\"#46039f\"],[0.2222222222222222,\"#7201a8\"],[0.3333333333333333,\"#9c179e\"],[0.4444444444444444,\"#bd3786\"],[0.5555555555555556,\"#d8576b\"],[0.6666666666666666,\"#ed7953\"],[0.7777777777777778,\"#fb9f3a\"],[0.8888888888888888,\"#fdca26\"],[1.0,\"#f0f921\"]]}],\"surface\":[{\"type\":\"surface\",\"colorbar\":{\"outlinewidth\":0,\"ticks\":\"\"},\"colorscale\":[[0.0,\"#0d0887\"],[0.1111111111111111,\"#46039f\"],[0.2222222222222222,\"#7201a8\"],[0.3333333333333333,\"#9c179e\"],[0.4444444444444444,\"#bd3786\"],[0.5555555555555556,\"#d8576b\"],[0.6666666666666666,\"#ed7953\"],[0.7777777777777778,\"#fb9f3a\"],[0.8888888888888888,\"#fdca26\"],[1.0,\"#f0f921\"]]}],\"mesh3d\":[{\"type\":\"mesh3d\",\"colorbar\":{\"outlinewidth\":0,\"ticks\":\"\"}}],\"scatter\":[{\"fillpattern\":{\"fillmode\":\"overlay\",\"size\":10,\"solidity\":0.2},\"type\":\"scatter\"}],\"parcoords\":[{\"type\":\"parcoords\",\"line\":{\"colorbar\":{\"outlinewidth\":0,\"ticks\":\"\"}}}],\"scatterpolargl\":[{\"type\":\"scatterpolargl\",\"marker\":{\"colorbar\":{\"outlinewidth\":0,\"ticks\":\"\"}}}],\"bar\":[{\"error_x\":{\"color\":\"#2a3f5f\"},\"error_y\":{\"color\":\"#2a3f5f\"},\"marker\":{\"line\":{\"color\":\"#E5ECF6\",\"width\":0.5},\"pattern\":{\"fillmode\":\"overlay\",\"size\":10,\"solidity\":0.2}},\"type\":\"bar\"}],\"scattergeo\":[{\"type\":\"scattergeo\",\"marker\":{\"colorbar\":{\"outlinewidth\":0,\"ticks\":\"\"}}}],\"scatterpolar\":[{\"type\":\"scatterpolar\",\"marker\":{\"colorbar\":{\"outlinewidth\":0,\"ticks\":\"\"}}}],\"histogram\":[{\"marker\":{\"pattern\":{\"fillmode\":\"overlay\",\"size\":10,\"solidity\":0.2}},\"type\":\"histogram\"}],\"scattergl\":[{\"type\":\"scattergl\",\"marker\":{\"colorbar\":{\"outlinewidth\":0,\"ticks\":\"\"}}}],\"scatter3d\":[{\"type\":\"scatter3d\",\"line\":{\"colorbar\":{\"outlinewidth\":0,\"ticks\":\"\"}},\"marker\":{\"colorbar\":{\"outlinewidth\":0,\"ticks\":\"\"}}}],\"scattermapbox\":[{\"type\":\"scattermapbox\",\"marker\":{\"colorbar\":{\"outlinewidth\":0,\"ticks\":\"\"}}}],\"scatterternary\":[{\"type\":\"scatterternary\",\"marker\":{\"colorbar\":{\"outlinewidth\":0,\"ticks\":\"\"}}}],\"scattercarpet\":[{\"type\":\"scattercarpet\",\"marker\":{\"colorbar\":{\"outlinewidth\":0,\"ticks\":\"\"}}}],\"carpet\":[{\"aaxis\":{\"endlinecolor\":\"#2a3f5f\",\"gridcolor\":\"white\",\"linecolor\":\"white\",\"minorgridcolor\":\"white\",\"startlinecolor\":\"#2a3f5f\"},\"baxis\":{\"endlinecolor\":\"#2a3f5f\",\"gridcolor\":\"white\",\"linecolor\":\"white\",\"minorgridcolor\":\"white\",\"startlinecolor\":\"#2a3f5f\"},\"type\":\"carpet\"}],\"table\":[{\"cells\":{\"fill\":{\"color\":\"#EBF0F8\"},\"line\":{\"color\":\"white\"}},\"header\":{\"fill\":{\"color\":\"#C8D4E3\"},\"line\":{\"color\":\"white\"}},\"type\":\"table\"}],\"barpolar\":[{\"marker\":{\"line\":{\"color\":\"#E5ECF6\",\"width\":0.5},\"pattern\":{\"fillmode\":\"overlay\",\"size\":10,\"solidity\":0.2}},\"type\":\"barpolar\"}],\"pie\":[{\"automargin\":true,\"type\":\"pie\"}]},\"layout\":{\"autotypenumbers\":\"strict\",\"colorway\":[\"#636efa\",\"#EF553B\",\"#00cc96\",\"#ab63fa\",\"#FFA15A\",\"#19d3f3\",\"#FF6692\",\"#B6E880\",\"#FF97FF\",\"#FECB52\"],\"font\":{\"color\":\"#2a3f5f\"},\"hovermode\":\"closest\",\"hoverlabel\":{\"align\":\"left\"},\"paper_bgcolor\":\"white\",\"plot_bgcolor\":\"#E5ECF6\",\"polar\":{\"bgcolor\":\"#E5ECF6\",\"angularaxis\":{\"gridcolor\":\"white\",\"linecolor\":\"white\",\"ticks\":\"\"},\"radialaxis\":{\"gridcolor\":\"white\",\"linecolor\":\"white\",\"ticks\":\"\"}},\"ternary\":{\"bgcolor\":\"#E5ECF6\",\"aaxis\":{\"gridcolor\":\"white\",\"linecolor\":\"white\",\"ticks\":\"\"},\"baxis\":{\"gridcolor\":\"white\",\"linecolor\":\"white\",\"ticks\":\"\"},\"caxis\":{\"gridcolor\":\"white\",\"linecolor\":\"white\",\"ticks\":\"\"}},\"coloraxis\":{\"colorbar\":{\"outlinewidth\":0,\"ticks\":\"\"}},\"colorscale\":{\"sequential\":[[0.0,\"#0d0887\"],[0.1111111111111111,\"#46039f\"],[0.2222222222222222,\"#7201a8\"],[0.3333333333333333,\"#9c179e\"],[0.4444444444444444,\"#bd3786\"],[0.5555555555555556,\"#d8576b\"],[0.6666666666666666,\"#ed7953\"],[0.7777777777777778,\"#fb9f3a\"],[0.8888888888888888,\"#fdca26\"],[1.0,\"#f0f921\"]],\"sequentialminus\":[[0.0,\"#0d0887\"],[0.1111111111111111,\"#46039f\"],[0.2222222222222222,\"#7201a8\"],[0.3333333333333333,\"#9c179e\"],[0.4444444444444444,\"#bd3786\"],[0.5555555555555556,\"#d8576b\"],[0.6666666666666666,\"#ed7953\"],[0.7777777777777778,\"#fb9f3a\"],[0.8888888888888888,\"#fdca26\"],[1.0,\"#f0f921\"]],\"diverging\":[[0,\"#8e0152\"],[0.1,\"#c51b7d\"],[0.2,\"#de77ae\"],[0.3,\"#f1b6da\"],[0.4,\"#fde0ef\"],[0.5,\"#f7f7f7\"],[0.6,\"#e6f5d0\"],[0.7,\"#b8e186\"],[0.8,\"#7fbc41\"],[0.9,\"#4d9221\"],[1,\"#276419\"]]},\"xaxis\":{\"gridcolor\":\"white\",\"linecolor\":\"white\",\"ticks\":\"\",\"title\":{\"standoff\":15},\"zerolinecolor\":\"white\",\"automargin\":true,\"zerolinewidth\":2},\"yaxis\":{\"gridcolor\":\"white\",\"linecolor\":\"white\",\"ticks\":\"\",\"title\":{\"standoff\":15},\"zerolinecolor\":\"white\",\"automargin\":true,\"zerolinewidth\":2},\"scene\":{\"xaxis\":{\"backgroundcolor\":\"#E5ECF6\",\"gridcolor\":\"white\",\"linecolor\":\"white\",\"showbackground\":true,\"ticks\":\"\",\"zerolinecolor\":\"white\",\"gridwidth\":2},\"yaxis\":{\"backgroundcolor\":\"#E5ECF6\",\"gridcolor\":\"white\",\"linecolor\":\"white\",\"showbackground\":true,\"ticks\":\"\",\"zerolinecolor\":\"white\",\"gridwidth\":2},\"zaxis\":{\"backgroundcolor\":\"#E5ECF6\",\"gridcolor\":\"white\",\"linecolor\":\"white\",\"showbackground\":true,\"ticks\":\"\",\"zerolinecolor\":\"white\",\"gridwidth\":2}},\"shapedefaults\":{\"line\":{\"color\":\"#2a3f5f\"}},\"annotationdefaults\":{\"arrowcolor\":\"#2a3f5f\",\"arrowhead\":0,\"arrowwidth\":1},\"geo\":{\"bgcolor\":\"white\",\"landcolor\":\"#E5ECF6\",\"subunitcolor\":\"white\",\"showland\":true,\"showlakes\":true,\"lakecolor\":\"white\"},\"title\":{\"x\":0.05},\"mapbox\":{\"style\":\"light\"}}},\"xaxis\":{\"anchor\":\"y\",\"domain\":[0.0,1.0],\"title\":{\"text\":\"PC 1 (58.1%)\"}},\"yaxis\":{\"anchor\":\"x\",\"domain\":[0.0,1.0],\"title\":{\"text\":\"PC 2 (32.4%)\"}},\"legend\":{\"title\":{\"text\":\"color, symbol\"},\"tracegroupgap\":0},\"margin\":{\"t\":60},\"height\":600,\"width\":600,\"plot_bgcolor\":\"rgb(243,243,243)\"},                        {\"responsive\": true}                    ).then(function(){\n",
       "                            \n",
       "var gd = document.getElementById('d280b126-6972-4531-b5a8-83481b726ead');\n",
       "var x = new MutationObserver(function (mutations, observer) {{\n",
       "        var display = window.getComputedStyle(gd).display;\n",
       "        if (!display || display === 'none') {{\n",
       "            console.log([gd, 'removed!']);\n",
       "            Plotly.purge(gd);\n",
       "            observer.disconnect();\n",
       "        }}\n",
       "}});\n",
       "\n",
       "// Listen for the removal of the full notebook cells\n",
       "var notebookContainer = gd.closest('#notebook-container');\n",
       "if (notebookContainer) {{\n",
       "    x.observe(notebookContainer, {childList: true});\n",
       "}}\n",
       "\n",
       "// Listen for the clearing of the current output cell\n",
       "var outputEl = gd.closest('.output');\n",
       "if (outputEl) {{\n",
       "    x.observe(outputEl, {childList: true});\n",
       "}}\n",
       "\n",
       "                        })                };                });            </script>        </div>"
      ]
     },
     "metadata": {},
     "output_type": "display_data"
    },
    {
     "data": {
      "application/vnd.plotly.v1+json": {
       "config": {
        "plotlyServerURL": "https://plot.ly"
       },
       "data": [
        {
         "hovertemplate": "color=A<br>symbol=Intron<br>0=%{x}<br>1=%{y}<extra></extra>",
         "legendgroup": "A, Intron",
         "marker": {
          "color": "#636efa",
          "size": 13,
          "symbol": "circle"
         },
         "mode": "markers",
         "name": "A, Intron",
         "orientation": "v",
         "showlegend": true,
         "type": "scatter",
         "x": [
          3.4836016728773203,
          -0.46122231366583366,
          -2.019612206842155,
          -2.353899778735179,
          -2.248680074541489,
          -1.9989655935697834,
          -1.2275343234182723,
          -0.963902935300206,
          0.48532611630401495,
          0.870113276846019,
          3.43477980430109,
          3.9205124854648794
         ],
         "xaxis": "x",
         "y": [
          1.977785348663021,
          3.2371250650848453,
          1.5541679980611167,
          0.5273796420921905,
          -0.2280371800444913,
          -0.7034196515337326,
          -1.446297216741375,
          -1.2326124658506479,
          -1.612713710773884,
          -1.7287835468929018,
          -0.33499803343948403,
          1.154321399009189
         ],
         "yaxis": "y"
        },
        {
         "hovertemplate": "color=B<br>symbol=Intron<br>0=%{x}<br>1=%{y}<extra></extra>",
         "legendgroup": "B, Intron",
         "marker": {
          "color": "#EF553B",
          "size": 13,
          "symbol": "circle"
         },
         "mode": "markers",
         "name": "B, Intron",
         "orientation": "v",
         "showlegend": true,
         "type": "scatter",
         "x": [
          2.4244226161263605,
          -1.528191556343529,
          -1.130493968955875,
          -2.3125378633977767,
          -1.8303877776523003,
          -2.1041434744574716,
          -1.48216360880272,
          0.46085715985146297,
          1.1566229798008287,
          2.712164628822537,
          3.8764601804288232,
          4.094232185862874
         ],
         "xaxis": "x",
         "y": [
          3.156847433816525,
          0.9273405606289189,
          2.8134872632655097,
          0.5048065879207781,
          -1.0662920748350098,
          -0.6905366730747174,
          -1.350993986929827,
          -1.60905300793263,
          -1.3012469313897526,
          -1.2370336714768457,
          -0.14535493794649398,
          0.8759007184570285
         ],
         "yaxis": "y"
        },
        {
         "hovertemplate": "color=C<br>symbol=Intron<br>0=%{x}<br>1=%{y}<extra></extra>",
         "legendgroup": "C, Intron",
         "marker": {
          "color": "#00cc96",
          "size": 13,
          "symbol": "circle"
         },
         "mode": "markers",
         "name": "C, Intron",
         "orientation": "v",
         "showlegend": true,
         "type": "scatter",
         "x": [
          0.75631073476937,
          -1.6131018977778009,
          -2.3569566999168416,
          -2.3255076657442846,
          -1.9039439116344627,
          -1.63671700837937,
          -1.5723967156180196,
          -1.070330155440929,
          0.9100869772767005,
          2.5205840612692665,
          2.3903631128025835,
          3.6724697304122906
         ],
         "xaxis": "x",
         "y": [
          3.8298691419930635,
          2.436527017753405,
          0.40359925488375953,
          0.1494859787969397,
          -0.9299948573525183,
          -1.2518763919892864,
          -1.2925262170670215,
          -1.3180833222047719,
          -1.5209679208141844,
          -1.0809868158273812,
          -1.3618907794434083,
          -0.34921860349340006
         ],
         "yaxis": "y"
        },
        {
         "hovertemplate": "color=D<br>symbol=Intron<br>0=%{x}<br>1=%{y}<extra></extra>",
         "legendgroup": "D, Intron",
         "marker": {
          "color": "#ab63fa",
          "size": 13,
          "symbol": "circle"
         },
         "mode": "markers",
         "name": "D, Intron",
         "orientation": "v",
         "showlegend": true,
         "type": "scatter",
         "x": [
          0.28216138711870786,
          -1.8523956849094418,
          -1.2375080987129894,
          -2.2828743395942936,
          -2.3293516766814646,
          -2.1051817701822966,
          -1.2535264477257995,
          -0.15276995366517096,
          0.6629476696168836,
          1.921205583773449,
          2.2806563867811045,
          3.038418751159199
         ],
         "xaxis": "x",
         "y": [
          3.757474328551392,
          1.4385435349091227,
          2.3189307771271293,
          0.521569846848206,
          -0.1819635488497864,
          -0.747748106944352,
          -1.3861189458870016,
          -1.349833597329759,
          -1.6041723173128861,
          -1.4129681223100337,
          -1.1685819337308083,
          0.05914267155625273
         ],
         "yaxis": "y"
        }
       ],
       "layout": {
        "height": 600,
        "legend": {
         "title": {
          "text": "color, symbol"
         },
         "tracegroupgap": 0
        },
        "margin": {
         "t": 60
        },
        "plot_bgcolor": "rgb(243,243,243)",
        "template": {
         "data": {
          "bar": [
           {
            "error_x": {
             "color": "#2a3f5f"
            },
            "error_y": {
             "color": "#2a3f5f"
            },
            "marker": {
             "line": {
              "color": "#E5ECF6",
              "width": 0.5
             },
             "pattern": {
              "fillmode": "overlay",
              "size": 10,
              "solidity": 0.2
             }
            },
            "type": "bar"
           }
          ],
          "barpolar": [
           {
            "marker": {
             "line": {
              "color": "#E5ECF6",
              "width": 0.5
             },
             "pattern": {
              "fillmode": "overlay",
              "size": 10,
              "solidity": 0.2
             }
            },
            "type": "barpolar"
           }
          ],
          "carpet": [
           {
            "aaxis": {
             "endlinecolor": "#2a3f5f",
             "gridcolor": "white",
             "linecolor": "white",
             "minorgridcolor": "white",
             "startlinecolor": "#2a3f5f"
            },
            "baxis": {
             "endlinecolor": "#2a3f5f",
             "gridcolor": "white",
             "linecolor": "white",
             "minorgridcolor": "white",
             "startlinecolor": "#2a3f5f"
            },
            "type": "carpet"
           }
          ],
          "choropleth": [
           {
            "colorbar": {
             "outlinewidth": 0,
             "ticks": ""
            },
            "type": "choropleth"
           }
          ],
          "contour": [
           {
            "colorbar": {
             "outlinewidth": 0,
             "ticks": ""
            },
            "colorscale": [
             [
              0,
              "#0d0887"
             ],
             [
              0.1111111111111111,
              "#46039f"
             ],
             [
              0.2222222222222222,
              "#7201a8"
             ],
             [
              0.3333333333333333,
              "#9c179e"
             ],
             [
              0.4444444444444444,
              "#bd3786"
             ],
             [
              0.5555555555555556,
              "#d8576b"
             ],
             [
              0.6666666666666666,
              "#ed7953"
             ],
             [
              0.7777777777777778,
              "#fb9f3a"
             ],
             [
              0.8888888888888888,
              "#fdca26"
             ],
             [
              1,
              "#f0f921"
             ]
            ],
            "type": "contour"
           }
          ],
          "contourcarpet": [
           {
            "colorbar": {
             "outlinewidth": 0,
             "ticks": ""
            },
            "type": "contourcarpet"
           }
          ],
          "heatmap": [
           {
            "colorbar": {
             "outlinewidth": 0,
             "ticks": ""
            },
            "colorscale": [
             [
              0,
              "#0d0887"
             ],
             [
              0.1111111111111111,
              "#46039f"
             ],
             [
              0.2222222222222222,
              "#7201a8"
             ],
             [
              0.3333333333333333,
              "#9c179e"
             ],
             [
              0.4444444444444444,
              "#bd3786"
             ],
             [
              0.5555555555555556,
              "#d8576b"
             ],
             [
              0.6666666666666666,
              "#ed7953"
             ],
             [
              0.7777777777777778,
              "#fb9f3a"
             ],
             [
              0.8888888888888888,
              "#fdca26"
             ],
             [
              1,
              "#f0f921"
             ]
            ],
            "type": "heatmap"
           }
          ],
          "heatmapgl": [
           {
            "colorbar": {
             "outlinewidth": 0,
             "ticks": ""
            },
            "colorscale": [
             [
              0,
              "#0d0887"
             ],
             [
              0.1111111111111111,
              "#46039f"
             ],
             [
              0.2222222222222222,
              "#7201a8"
             ],
             [
              0.3333333333333333,
              "#9c179e"
             ],
             [
              0.4444444444444444,
              "#bd3786"
             ],
             [
              0.5555555555555556,
              "#d8576b"
             ],
             [
              0.6666666666666666,
              "#ed7953"
             ],
             [
              0.7777777777777778,
              "#fb9f3a"
             ],
             [
              0.8888888888888888,
              "#fdca26"
             ],
             [
              1,
              "#f0f921"
             ]
            ],
            "type": "heatmapgl"
           }
          ],
          "histogram": [
           {
            "marker": {
             "pattern": {
              "fillmode": "overlay",
              "size": 10,
              "solidity": 0.2
             }
            },
            "type": "histogram"
           }
          ],
          "histogram2d": [
           {
            "colorbar": {
             "outlinewidth": 0,
             "ticks": ""
            },
            "colorscale": [
             [
              0,
              "#0d0887"
             ],
             [
              0.1111111111111111,
              "#46039f"
             ],
             [
              0.2222222222222222,
              "#7201a8"
             ],
             [
              0.3333333333333333,
              "#9c179e"
             ],
             [
              0.4444444444444444,
              "#bd3786"
             ],
             [
              0.5555555555555556,
              "#d8576b"
             ],
             [
              0.6666666666666666,
              "#ed7953"
             ],
             [
              0.7777777777777778,
              "#fb9f3a"
             ],
             [
              0.8888888888888888,
              "#fdca26"
             ],
             [
              1,
              "#f0f921"
             ]
            ],
            "type": "histogram2d"
           }
          ],
          "histogram2dcontour": [
           {
            "colorbar": {
             "outlinewidth": 0,
             "ticks": ""
            },
            "colorscale": [
             [
              0,
              "#0d0887"
             ],
             [
              0.1111111111111111,
              "#46039f"
             ],
             [
              0.2222222222222222,
              "#7201a8"
             ],
             [
              0.3333333333333333,
              "#9c179e"
             ],
             [
              0.4444444444444444,
              "#bd3786"
             ],
             [
              0.5555555555555556,
              "#d8576b"
             ],
             [
              0.6666666666666666,
              "#ed7953"
             ],
             [
              0.7777777777777778,
              "#fb9f3a"
             ],
             [
              0.8888888888888888,
              "#fdca26"
             ],
             [
              1,
              "#f0f921"
             ]
            ],
            "type": "histogram2dcontour"
           }
          ],
          "mesh3d": [
           {
            "colorbar": {
             "outlinewidth": 0,
             "ticks": ""
            },
            "type": "mesh3d"
           }
          ],
          "parcoords": [
           {
            "line": {
             "colorbar": {
              "outlinewidth": 0,
              "ticks": ""
             }
            },
            "type": "parcoords"
           }
          ],
          "pie": [
           {
            "automargin": true,
            "type": "pie"
           }
          ],
          "scatter": [
           {
            "fillpattern": {
             "fillmode": "overlay",
             "size": 10,
             "solidity": 0.2
            },
            "type": "scatter"
           }
          ],
          "scatter3d": [
           {
            "line": {
             "colorbar": {
              "outlinewidth": 0,
              "ticks": ""
             }
            },
            "marker": {
             "colorbar": {
              "outlinewidth": 0,
              "ticks": ""
             }
            },
            "type": "scatter3d"
           }
          ],
          "scattercarpet": [
           {
            "marker": {
             "colorbar": {
              "outlinewidth": 0,
              "ticks": ""
             }
            },
            "type": "scattercarpet"
           }
          ],
          "scattergeo": [
           {
            "marker": {
             "colorbar": {
              "outlinewidth": 0,
              "ticks": ""
             }
            },
            "type": "scattergeo"
           }
          ],
          "scattergl": [
           {
            "marker": {
             "colorbar": {
              "outlinewidth": 0,
              "ticks": ""
             }
            },
            "type": "scattergl"
           }
          ],
          "scattermapbox": [
           {
            "marker": {
             "colorbar": {
              "outlinewidth": 0,
              "ticks": ""
             }
            },
            "type": "scattermapbox"
           }
          ],
          "scatterpolar": [
           {
            "marker": {
             "colorbar": {
              "outlinewidth": 0,
              "ticks": ""
             }
            },
            "type": "scatterpolar"
           }
          ],
          "scatterpolargl": [
           {
            "marker": {
             "colorbar": {
              "outlinewidth": 0,
              "ticks": ""
             }
            },
            "type": "scatterpolargl"
           }
          ],
          "scatterternary": [
           {
            "marker": {
             "colorbar": {
              "outlinewidth": 0,
              "ticks": ""
             }
            },
            "type": "scatterternary"
           }
          ],
          "surface": [
           {
            "colorbar": {
             "outlinewidth": 0,
             "ticks": ""
            },
            "colorscale": [
             [
              0,
              "#0d0887"
             ],
             [
              0.1111111111111111,
              "#46039f"
             ],
             [
              0.2222222222222222,
              "#7201a8"
             ],
             [
              0.3333333333333333,
              "#9c179e"
             ],
             [
              0.4444444444444444,
              "#bd3786"
             ],
             [
              0.5555555555555556,
              "#d8576b"
             ],
             [
              0.6666666666666666,
              "#ed7953"
             ],
             [
              0.7777777777777778,
              "#fb9f3a"
             ],
             [
              0.8888888888888888,
              "#fdca26"
             ],
             [
              1,
              "#f0f921"
             ]
            ],
            "type": "surface"
           }
          ],
          "table": [
           {
            "cells": {
             "fill": {
              "color": "#EBF0F8"
             },
             "line": {
              "color": "white"
             }
            },
            "header": {
             "fill": {
              "color": "#C8D4E3"
             },
             "line": {
              "color": "white"
             }
            },
            "type": "table"
           }
          ]
         },
         "layout": {
          "annotationdefaults": {
           "arrowcolor": "#2a3f5f",
           "arrowhead": 0,
           "arrowwidth": 1
          },
          "autotypenumbers": "strict",
          "coloraxis": {
           "colorbar": {
            "outlinewidth": 0,
            "ticks": ""
           }
          },
          "colorscale": {
           "diverging": [
            [
             0,
             "#8e0152"
            ],
            [
             0.1,
             "#c51b7d"
            ],
            [
             0.2,
             "#de77ae"
            ],
            [
             0.3,
             "#f1b6da"
            ],
            [
             0.4,
             "#fde0ef"
            ],
            [
             0.5,
             "#f7f7f7"
            ],
            [
             0.6,
             "#e6f5d0"
            ],
            [
             0.7,
             "#b8e186"
            ],
            [
             0.8,
             "#7fbc41"
            ],
            [
             0.9,
             "#4d9221"
            ],
            [
             1,
             "#276419"
            ]
           ],
           "sequential": [
            [
             0,
             "#0d0887"
            ],
            [
             0.1111111111111111,
             "#46039f"
            ],
            [
             0.2222222222222222,
             "#7201a8"
            ],
            [
             0.3333333333333333,
             "#9c179e"
            ],
            [
             0.4444444444444444,
             "#bd3786"
            ],
            [
             0.5555555555555556,
             "#d8576b"
            ],
            [
             0.6666666666666666,
             "#ed7953"
            ],
            [
             0.7777777777777778,
             "#fb9f3a"
            ],
            [
             0.8888888888888888,
             "#fdca26"
            ],
            [
             1,
             "#f0f921"
            ]
           ],
           "sequentialminus": [
            [
             0,
             "#0d0887"
            ],
            [
             0.1111111111111111,
             "#46039f"
            ],
            [
             0.2222222222222222,
             "#7201a8"
            ],
            [
             0.3333333333333333,
             "#9c179e"
            ],
            [
             0.4444444444444444,
             "#bd3786"
            ],
            [
             0.5555555555555556,
             "#d8576b"
            ],
            [
             0.6666666666666666,
             "#ed7953"
            ],
            [
             0.7777777777777778,
             "#fb9f3a"
            ],
            [
             0.8888888888888888,
             "#fdca26"
            ],
            [
             1,
             "#f0f921"
            ]
           ]
          },
          "colorway": [
           "#636efa",
           "#EF553B",
           "#00cc96",
           "#ab63fa",
           "#FFA15A",
           "#19d3f3",
           "#FF6692",
           "#B6E880",
           "#FF97FF",
           "#FECB52"
          ],
          "font": {
           "color": "#2a3f5f"
          },
          "geo": {
           "bgcolor": "white",
           "lakecolor": "white",
           "landcolor": "#E5ECF6",
           "showlakes": true,
           "showland": true,
           "subunitcolor": "white"
          },
          "hoverlabel": {
           "align": "left"
          },
          "hovermode": "closest",
          "mapbox": {
           "style": "light"
          },
          "paper_bgcolor": "white",
          "plot_bgcolor": "#E5ECF6",
          "polar": {
           "angularaxis": {
            "gridcolor": "white",
            "linecolor": "white",
            "ticks": ""
           },
           "bgcolor": "#E5ECF6",
           "radialaxis": {
            "gridcolor": "white",
            "linecolor": "white",
            "ticks": ""
           }
          },
          "scene": {
           "xaxis": {
            "backgroundcolor": "#E5ECF6",
            "gridcolor": "white",
            "gridwidth": 2,
            "linecolor": "white",
            "showbackground": true,
            "ticks": "",
            "zerolinecolor": "white"
           },
           "yaxis": {
            "backgroundcolor": "#E5ECF6",
            "gridcolor": "white",
            "gridwidth": 2,
            "linecolor": "white",
            "showbackground": true,
            "ticks": "",
            "zerolinecolor": "white"
           },
           "zaxis": {
            "backgroundcolor": "#E5ECF6",
            "gridcolor": "white",
            "gridwidth": 2,
            "linecolor": "white",
            "showbackground": true,
            "ticks": "",
            "zerolinecolor": "white"
           }
          },
          "shapedefaults": {
           "line": {
            "color": "#2a3f5f"
           }
          },
          "ternary": {
           "aaxis": {
            "gridcolor": "white",
            "linecolor": "white",
            "ticks": ""
           },
           "baxis": {
            "gridcolor": "white",
            "linecolor": "white",
            "ticks": ""
           },
           "bgcolor": "#E5ECF6",
           "caxis": {
            "gridcolor": "white",
            "linecolor": "white",
            "ticks": ""
           }
          },
          "title": {
           "x": 0.05
          },
          "xaxis": {
           "automargin": true,
           "gridcolor": "white",
           "linecolor": "white",
           "ticks": "",
           "title": {
            "standoff": 15
           },
           "zerolinecolor": "white",
           "zerolinewidth": 2
          },
          "yaxis": {
           "automargin": true,
           "gridcolor": "white",
           "linecolor": "white",
           "ticks": "",
           "title": {
            "standoff": 15
           },
           "zerolinecolor": "white",
           "zerolinewidth": 2
          }
         }
        },
        "width": 600,
        "xaxis": {
         "anchor": "y",
         "domain": [
          0,
          1
         ],
         "title": {
          "text": "PC 1 (58.1%)"
         }
        },
        "yaxis": {
         "anchor": "x",
         "domain": [
          0,
          1
         ],
         "title": {
          "text": "PC 2 (32.4%)"
         }
        }
       }
      },
      "text/html": [
       "<div>                            <div id=\"89b73dad-a145-43cb-9dc3-6f6f3fefe401\" class=\"plotly-graph-div\" style=\"height:600px; width:600px;\"></div>            <script type=\"text/javascript\">                require([\"plotly\"], function(Plotly) {                    window.PLOTLYENV=window.PLOTLYENV || {};                                    if (document.getElementById(\"89b73dad-a145-43cb-9dc3-6f6f3fefe401\")) {                    Plotly.newPlot(                        \"89b73dad-a145-43cb-9dc3-6f6f3fefe401\",                        [{\"hovertemplate\":\"color=A<br>symbol=Intron<br>0=%{x}<br>1=%{y}<extra></extra>\",\"legendgroup\":\"A, Intron\",\"marker\":{\"color\":\"#636efa\",\"symbol\":\"circle\",\"size\":13},\"mode\":\"markers\",\"name\":\"A, Intron\",\"orientation\":\"v\",\"showlegend\":true,\"x\":[3.4836016728773203,-0.46122231366583366,-2.019612206842155,-2.353899778735179,-2.248680074541489,-1.9989655935697834,-1.2275343234182723,-0.963902935300206,0.48532611630401495,0.870113276846019,3.43477980430109,3.9205124854648794],\"xaxis\":\"x\",\"y\":[1.977785348663021,3.2371250650848453,1.5541679980611167,0.5273796420921905,-0.2280371800444913,-0.7034196515337326,-1.446297216741375,-1.2326124658506479,-1.612713710773884,-1.7287835468929018,-0.33499803343948403,1.154321399009189],\"yaxis\":\"y\",\"type\":\"scatter\"},{\"hovertemplate\":\"color=B<br>symbol=Intron<br>0=%{x}<br>1=%{y}<extra></extra>\",\"legendgroup\":\"B, Intron\",\"marker\":{\"color\":\"#EF553B\",\"symbol\":\"circle\",\"size\":13},\"mode\":\"markers\",\"name\":\"B, Intron\",\"orientation\":\"v\",\"showlegend\":true,\"x\":[2.4244226161263605,-1.528191556343529,-1.130493968955875,-2.3125378633977767,-1.8303877776523003,-2.1041434744574716,-1.48216360880272,0.46085715985146297,1.1566229798008287,2.712164628822537,3.8764601804288232,4.094232185862874],\"xaxis\":\"x\",\"y\":[3.156847433816525,0.9273405606289189,2.8134872632655097,0.5048065879207781,-1.0662920748350098,-0.6905366730747174,-1.350993986929827,-1.60905300793263,-1.3012469313897526,-1.2370336714768457,-0.14535493794649398,0.8759007184570285],\"yaxis\":\"y\",\"type\":\"scatter\"},{\"hovertemplate\":\"color=C<br>symbol=Intron<br>0=%{x}<br>1=%{y}<extra></extra>\",\"legendgroup\":\"C, Intron\",\"marker\":{\"color\":\"#00cc96\",\"symbol\":\"circle\",\"size\":13},\"mode\":\"markers\",\"name\":\"C, Intron\",\"orientation\":\"v\",\"showlegend\":true,\"x\":[0.75631073476937,-1.6131018977778009,-2.3569566999168416,-2.3255076657442846,-1.9039439116344627,-1.63671700837937,-1.5723967156180196,-1.070330155440929,0.9100869772767005,2.5205840612692665,2.3903631128025835,3.6724697304122906],\"xaxis\":\"x\",\"y\":[3.8298691419930635,2.436527017753405,0.40359925488375953,0.1494859787969397,-0.9299948573525183,-1.2518763919892864,-1.2925262170670215,-1.3180833222047719,-1.5209679208141844,-1.0809868158273812,-1.3618907794434083,-0.34921860349340006],\"yaxis\":\"y\",\"type\":\"scatter\"},{\"hovertemplate\":\"color=D<br>symbol=Intron<br>0=%{x}<br>1=%{y}<extra></extra>\",\"legendgroup\":\"D, Intron\",\"marker\":{\"color\":\"#ab63fa\",\"symbol\":\"circle\",\"size\":13},\"mode\":\"markers\",\"name\":\"D, Intron\",\"orientation\":\"v\",\"showlegend\":true,\"x\":[0.28216138711870786,-1.8523956849094418,-1.2375080987129894,-2.2828743395942936,-2.3293516766814646,-2.1051817701822966,-1.2535264477257995,-0.15276995366517096,0.6629476696168836,1.921205583773449,2.2806563867811045,3.038418751159199],\"xaxis\":\"x\",\"y\":[3.757474328551392,1.4385435349091227,2.3189307771271293,0.521569846848206,-0.1819635488497864,-0.747748106944352,-1.3861189458870016,-1.349833597329759,-1.6041723173128861,-1.4129681223100337,-1.1685819337308083,0.05914267155625273],\"yaxis\":\"y\",\"type\":\"scatter\"}],                        {\"template\":{\"data\":{\"histogram2dcontour\":[{\"type\":\"histogram2dcontour\",\"colorbar\":{\"outlinewidth\":0,\"ticks\":\"\"},\"colorscale\":[[0.0,\"#0d0887\"],[0.1111111111111111,\"#46039f\"],[0.2222222222222222,\"#7201a8\"],[0.3333333333333333,\"#9c179e\"],[0.4444444444444444,\"#bd3786\"],[0.5555555555555556,\"#d8576b\"],[0.6666666666666666,\"#ed7953\"],[0.7777777777777778,\"#fb9f3a\"],[0.8888888888888888,\"#fdca26\"],[1.0,\"#f0f921\"]]}],\"choropleth\":[{\"type\":\"choropleth\",\"colorbar\":{\"outlinewidth\":0,\"ticks\":\"\"}}],\"histogram2d\":[{\"type\":\"histogram2d\",\"colorbar\":{\"outlinewidth\":0,\"ticks\":\"\"},\"colorscale\":[[0.0,\"#0d0887\"],[0.1111111111111111,\"#46039f\"],[0.2222222222222222,\"#7201a8\"],[0.3333333333333333,\"#9c179e\"],[0.4444444444444444,\"#bd3786\"],[0.5555555555555556,\"#d8576b\"],[0.6666666666666666,\"#ed7953\"],[0.7777777777777778,\"#fb9f3a\"],[0.8888888888888888,\"#fdca26\"],[1.0,\"#f0f921\"]]}],\"heatmap\":[{\"type\":\"heatmap\",\"colorbar\":{\"outlinewidth\":0,\"ticks\":\"\"},\"colorscale\":[[0.0,\"#0d0887\"],[0.1111111111111111,\"#46039f\"],[0.2222222222222222,\"#7201a8\"],[0.3333333333333333,\"#9c179e\"],[0.4444444444444444,\"#bd3786\"],[0.5555555555555556,\"#d8576b\"],[0.6666666666666666,\"#ed7953\"],[0.7777777777777778,\"#fb9f3a\"],[0.8888888888888888,\"#fdca26\"],[1.0,\"#f0f921\"]]}],\"heatmapgl\":[{\"type\":\"heatmapgl\",\"colorbar\":{\"outlinewidth\":0,\"ticks\":\"\"},\"colorscale\":[[0.0,\"#0d0887\"],[0.1111111111111111,\"#46039f\"],[0.2222222222222222,\"#7201a8\"],[0.3333333333333333,\"#9c179e\"],[0.4444444444444444,\"#bd3786\"],[0.5555555555555556,\"#d8576b\"],[0.6666666666666666,\"#ed7953\"],[0.7777777777777778,\"#fb9f3a\"],[0.8888888888888888,\"#fdca26\"],[1.0,\"#f0f921\"]]}],\"contourcarpet\":[{\"type\":\"contourcarpet\",\"colorbar\":{\"outlinewidth\":0,\"ticks\":\"\"}}],\"contour\":[{\"type\":\"contour\",\"colorbar\":{\"outlinewidth\":0,\"ticks\":\"\"},\"colorscale\":[[0.0,\"#0d0887\"],[0.1111111111111111,\"#46039f\"],[0.2222222222222222,\"#7201a8\"],[0.3333333333333333,\"#9c179e\"],[0.4444444444444444,\"#bd3786\"],[0.5555555555555556,\"#d8576b\"],[0.6666666666666666,\"#ed7953\"],[0.7777777777777778,\"#fb9f3a\"],[0.8888888888888888,\"#fdca26\"],[1.0,\"#f0f921\"]]}],\"surface\":[{\"type\":\"surface\",\"colorbar\":{\"outlinewidth\":0,\"ticks\":\"\"},\"colorscale\":[[0.0,\"#0d0887\"],[0.1111111111111111,\"#46039f\"],[0.2222222222222222,\"#7201a8\"],[0.3333333333333333,\"#9c179e\"],[0.4444444444444444,\"#bd3786\"],[0.5555555555555556,\"#d8576b\"],[0.6666666666666666,\"#ed7953\"],[0.7777777777777778,\"#fb9f3a\"],[0.8888888888888888,\"#fdca26\"],[1.0,\"#f0f921\"]]}],\"mesh3d\":[{\"type\":\"mesh3d\",\"colorbar\":{\"outlinewidth\":0,\"ticks\":\"\"}}],\"scatter\":[{\"fillpattern\":{\"fillmode\":\"overlay\",\"size\":10,\"solidity\":0.2},\"type\":\"scatter\"}],\"parcoords\":[{\"type\":\"parcoords\",\"line\":{\"colorbar\":{\"outlinewidth\":0,\"ticks\":\"\"}}}],\"scatterpolargl\":[{\"type\":\"scatterpolargl\",\"marker\":{\"colorbar\":{\"outlinewidth\":0,\"ticks\":\"\"}}}],\"bar\":[{\"error_x\":{\"color\":\"#2a3f5f\"},\"error_y\":{\"color\":\"#2a3f5f\"},\"marker\":{\"line\":{\"color\":\"#E5ECF6\",\"width\":0.5},\"pattern\":{\"fillmode\":\"overlay\",\"size\":10,\"solidity\":0.2}},\"type\":\"bar\"}],\"scattergeo\":[{\"type\":\"scattergeo\",\"marker\":{\"colorbar\":{\"outlinewidth\":0,\"ticks\":\"\"}}}],\"scatterpolar\":[{\"type\":\"scatterpolar\",\"marker\":{\"colorbar\":{\"outlinewidth\":0,\"ticks\":\"\"}}}],\"histogram\":[{\"marker\":{\"pattern\":{\"fillmode\":\"overlay\",\"size\":10,\"solidity\":0.2}},\"type\":\"histogram\"}],\"scattergl\":[{\"type\":\"scattergl\",\"marker\":{\"colorbar\":{\"outlinewidth\":0,\"ticks\":\"\"}}}],\"scatter3d\":[{\"type\":\"scatter3d\",\"line\":{\"colorbar\":{\"outlinewidth\":0,\"ticks\":\"\"}},\"marker\":{\"colorbar\":{\"outlinewidth\":0,\"ticks\":\"\"}}}],\"scattermapbox\":[{\"type\":\"scattermapbox\",\"marker\":{\"colorbar\":{\"outlinewidth\":0,\"ticks\":\"\"}}}],\"scatterternary\":[{\"type\":\"scatterternary\",\"marker\":{\"colorbar\":{\"outlinewidth\":0,\"ticks\":\"\"}}}],\"scattercarpet\":[{\"type\":\"scattercarpet\",\"marker\":{\"colorbar\":{\"outlinewidth\":0,\"ticks\":\"\"}}}],\"carpet\":[{\"aaxis\":{\"endlinecolor\":\"#2a3f5f\",\"gridcolor\":\"white\",\"linecolor\":\"white\",\"minorgridcolor\":\"white\",\"startlinecolor\":\"#2a3f5f\"},\"baxis\":{\"endlinecolor\":\"#2a3f5f\",\"gridcolor\":\"white\",\"linecolor\":\"white\",\"minorgridcolor\":\"white\",\"startlinecolor\":\"#2a3f5f\"},\"type\":\"carpet\"}],\"table\":[{\"cells\":{\"fill\":{\"color\":\"#EBF0F8\"},\"line\":{\"color\":\"white\"}},\"header\":{\"fill\":{\"color\":\"#C8D4E3\"},\"line\":{\"color\":\"white\"}},\"type\":\"table\"}],\"barpolar\":[{\"marker\":{\"line\":{\"color\":\"#E5ECF6\",\"width\":0.5},\"pattern\":{\"fillmode\":\"overlay\",\"size\":10,\"solidity\":0.2}},\"type\":\"barpolar\"}],\"pie\":[{\"automargin\":true,\"type\":\"pie\"}]},\"layout\":{\"autotypenumbers\":\"strict\",\"colorway\":[\"#636efa\",\"#EF553B\",\"#00cc96\",\"#ab63fa\",\"#FFA15A\",\"#19d3f3\",\"#FF6692\",\"#B6E880\",\"#FF97FF\",\"#FECB52\"],\"font\":{\"color\":\"#2a3f5f\"},\"hovermode\":\"closest\",\"hoverlabel\":{\"align\":\"left\"},\"paper_bgcolor\":\"white\",\"plot_bgcolor\":\"#E5ECF6\",\"polar\":{\"bgcolor\":\"#E5ECF6\",\"angularaxis\":{\"gridcolor\":\"white\",\"linecolor\":\"white\",\"ticks\":\"\"},\"radialaxis\":{\"gridcolor\":\"white\",\"linecolor\":\"white\",\"ticks\":\"\"}},\"ternary\":{\"bgcolor\":\"#E5ECF6\",\"aaxis\":{\"gridcolor\":\"white\",\"linecolor\":\"white\",\"ticks\":\"\"},\"baxis\":{\"gridcolor\":\"white\",\"linecolor\":\"white\",\"ticks\":\"\"},\"caxis\":{\"gridcolor\":\"white\",\"linecolor\":\"white\",\"ticks\":\"\"}},\"coloraxis\":{\"colorbar\":{\"outlinewidth\":0,\"ticks\":\"\"}},\"colorscale\":{\"sequential\":[[0.0,\"#0d0887\"],[0.1111111111111111,\"#46039f\"],[0.2222222222222222,\"#7201a8\"],[0.3333333333333333,\"#9c179e\"],[0.4444444444444444,\"#bd3786\"],[0.5555555555555556,\"#d8576b\"],[0.6666666666666666,\"#ed7953\"],[0.7777777777777778,\"#fb9f3a\"],[0.8888888888888888,\"#fdca26\"],[1.0,\"#f0f921\"]],\"sequentialminus\":[[0.0,\"#0d0887\"],[0.1111111111111111,\"#46039f\"],[0.2222222222222222,\"#7201a8\"],[0.3333333333333333,\"#9c179e\"],[0.4444444444444444,\"#bd3786\"],[0.5555555555555556,\"#d8576b\"],[0.6666666666666666,\"#ed7953\"],[0.7777777777777778,\"#fb9f3a\"],[0.8888888888888888,\"#fdca26\"],[1.0,\"#f0f921\"]],\"diverging\":[[0,\"#8e0152\"],[0.1,\"#c51b7d\"],[0.2,\"#de77ae\"],[0.3,\"#f1b6da\"],[0.4,\"#fde0ef\"],[0.5,\"#f7f7f7\"],[0.6,\"#e6f5d0\"],[0.7,\"#b8e186\"],[0.8,\"#7fbc41\"],[0.9,\"#4d9221\"],[1,\"#276419\"]]},\"xaxis\":{\"gridcolor\":\"white\",\"linecolor\":\"white\",\"ticks\":\"\",\"title\":{\"standoff\":15},\"zerolinecolor\":\"white\",\"automargin\":true,\"zerolinewidth\":2},\"yaxis\":{\"gridcolor\":\"white\",\"linecolor\":\"white\",\"ticks\":\"\",\"title\":{\"standoff\":15},\"zerolinecolor\":\"white\",\"automargin\":true,\"zerolinewidth\":2},\"scene\":{\"xaxis\":{\"backgroundcolor\":\"#E5ECF6\",\"gridcolor\":\"white\",\"linecolor\":\"white\",\"showbackground\":true,\"ticks\":\"\",\"zerolinecolor\":\"white\",\"gridwidth\":2},\"yaxis\":{\"backgroundcolor\":\"#E5ECF6\",\"gridcolor\":\"white\",\"linecolor\":\"white\",\"showbackground\":true,\"ticks\":\"\",\"zerolinecolor\":\"white\",\"gridwidth\":2},\"zaxis\":{\"backgroundcolor\":\"#E5ECF6\",\"gridcolor\":\"white\",\"linecolor\":\"white\",\"showbackground\":true,\"ticks\":\"\",\"zerolinecolor\":\"white\",\"gridwidth\":2}},\"shapedefaults\":{\"line\":{\"color\":\"#2a3f5f\"}},\"annotationdefaults\":{\"arrowcolor\":\"#2a3f5f\",\"arrowhead\":0,\"arrowwidth\":1},\"geo\":{\"bgcolor\":\"white\",\"landcolor\":\"#E5ECF6\",\"subunitcolor\":\"white\",\"showland\":true,\"showlakes\":true,\"lakecolor\":\"white\"},\"title\":{\"x\":0.05},\"mapbox\":{\"style\":\"light\"}}},\"xaxis\":{\"anchor\":\"y\",\"domain\":[0.0,1.0],\"title\":{\"text\":\"PC 1 (58.1%)\"}},\"yaxis\":{\"anchor\":\"x\",\"domain\":[0.0,1.0],\"title\":{\"text\":\"PC 2 (32.4%)\"}},\"legend\":{\"title\":{\"text\":\"color, symbol\"},\"tracegroupgap\":0},\"margin\":{\"t\":60},\"height\":600,\"width\":600,\"plot_bgcolor\":\"rgb(243,243,243)\"},                        {\"responsive\": true}                    ).then(function(){\n",
       "                            \n",
       "var gd = document.getElementById('89b73dad-a145-43cb-9dc3-6f6f3fefe401');\n",
       "var x = new MutationObserver(function (mutations, observer) {{\n",
       "        var display = window.getComputedStyle(gd).display;\n",
       "        if (!display || display === 'none') {{\n",
       "            console.log([gd, 'removed!']);\n",
       "            Plotly.purge(gd);\n",
       "            observer.disconnect();\n",
       "        }}\n",
       "}});\n",
       "\n",
       "// Listen for the removal of the full notebook cells\n",
       "var notebookContainer = gd.closest('#notebook-container');\n",
       "if (notebookContainer) {{\n",
       "    x.observe(notebookContainer, {childList: true});\n",
       "}}\n",
       "\n",
       "// Listen for the clearing of the current output cell\n",
       "var outputEl = gd.closest('.output');\n",
       "if (outputEl) {{\n",
       "    x.observe(outputEl, {childList: true});\n",
       "}}\n",
       "\n",
       "                        })                };                });            </script>        </div>"
      ]
     },
     "metadata": {},
     "output_type": "display_data"
    },
    {
     "data": {
      "application/vnd.plotly.v1+json": {
       "config": {
        "plotlyServerURL": "https://plot.ly"
       },
       "data": [
        {
         "hovertemplate": "color=00<br>symbol=WT<br>1=%{x}<br>2=%{y}<extra></extra>",
         "legendgroup": "00, WT",
         "marker": {
          "color": "#636efa",
          "size": 13,
          "symbol": "circle"
         },
         "mode": "markers",
         "name": "00, WT",
         "orientation": "v",
         "showlegend": true,
         "type": "scatter",
         "x": [
          1.977785348663021,
          3.156847433816525,
          3.8298691419930635,
          3.757474328551392
         ],
         "xaxis": "x",
         "y": [
          -0.5291642822906555,
          0.404320728373145,
          0.18281472873472482,
          0.7362366076827731
         ],
         "yaxis": "y"
        },
        {
         "hovertemplate": "color=02<br>symbol=WT<br>1=%{x}<br>2=%{y}<extra></extra>",
         "legendgroup": "02, WT",
         "marker": {
          "color": "#EF553B",
          "size": 13,
          "symbol": "circle"
         },
         "mode": "markers",
         "name": "02, WT",
         "orientation": "v",
         "showlegend": true,
         "type": "scatter",
         "x": [
          3.2371250650848453,
          0.9273405606289189,
          2.436527017753405,
          1.4385435349091227
         ],
         "xaxis": "x",
         "y": [
          0.4150452985273073,
          0.8254999404240485,
          0.17975979652799218,
          0.10835541699811242
         ],
         "yaxis": "y"
        },
        {
         "hovertemplate": "color=04<br>symbol=WT<br>1=%{x}<br>2=%{y}<extra></extra>",
         "legendgroup": "04, WT",
         "marker": {
          "color": "#00cc96",
          "size": 13,
          "symbol": "circle"
         },
         "mode": "markers",
         "name": "04, WT",
         "orientation": "v",
         "showlegend": true,
         "type": "scatter",
         "x": [
          1.5541679980611167,
          2.8134872632655097,
          0.40359925488375953,
          2.3189307771271293
         ],
         "xaxis": "x",
         "y": [
          -0.04166421043030467,
          0.47812193836050454,
          -0.49049104016198974,
          0.3636208771809814
         ],
         "yaxis": "y"
        },
        {
         "hovertemplate": "color=06<br>symbol=WT<br>1=%{x}<br>2=%{y}<extra></extra>",
         "legendgroup": "06, WT",
         "marker": {
          "color": "#ab63fa",
          "size": 13,
          "symbol": "circle"
         },
         "mode": "markers",
         "name": "06, WT",
         "orientation": "v",
         "showlegend": true,
         "type": "scatter",
         "x": [
          0.5273796420921905,
          0.5048065879207781,
          0.1494859787969397,
          0.521569846848206
         ],
         "xaxis": "x",
         "y": [
          -0.37100117486843914,
          -0.5002929673325589,
          -0.5155923663840003,
          -0.4865157383201035
         ],
         "yaxis": "y"
        },
        {
         "hovertemplate": "color=08<br>symbol=WT<br>1=%{x}<br>2=%{y}<extra></extra>",
         "legendgroup": "08, WT",
         "marker": {
          "color": "#FFA15A",
          "size": 13,
          "symbol": "circle"
         },
         "mode": "markers",
         "name": "08, WT",
         "orientation": "v",
         "showlegend": true,
         "type": "scatter",
         "x": [
          -0.2280371800444913,
          -1.0662920748350098,
          -0.9299948573525183,
          -0.1819635488497864
         ],
         "xaxis": "x",
         "y": [
          -0.4478290294058766,
          -0.3559408733905678,
          -0.35074248291878507,
          -0.44956408545763243
         ],
         "yaxis": "y"
        },
        {
         "hovertemplate": "color=10<br>symbol=WT<br>1=%{x}<br>2=%{y}<extra></extra>",
         "legendgroup": "10, WT",
         "marker": {
          "color": "#19d3f3",
          "size": 13,
          "symbol": "circle"
         },
         "mode": "markers",
         "name": "10, WT",
         "orientation": "v",
         "showlegend": true,
         "type": "scatter",
         "x": [
          -0.7034196515337326,
          -0.6905366730747174,
          -1.2518763919892864,
          -0.747748106944352
         ],
         "xaxis": "x",
         "y": [
          -0.36454433421254034,
          -0.383663881949797,
          -0.1509750227719996,
          -0.41867298116602286
         ],
         "yaxis": "y"
        },
        {
         "hovertemplate": "color=12<br>symbol=WT<br>1=%{x}<br>2=%{y}<extra></extra>",
         "legendgroup": "12, WT",
         "marker": {
          "color": "#FF6692",
          "size": 13,
          "symbol": "circle"
         },
         "mode": "markers",
         "name": "12, WT",
         "orientation": "v",
         "showlegend": true,
         "type": "scatter",
         "x": [
          -1.446297216741375,
          -1.350993986929827,
          -1.2925262170670215,
          -1.3861189458870016
         ],
         "xaxis": "x",
         "y": [
          -0.04819498520566945,
          -0.25501910696781616,
          -0.3557381582168497,
          0.12228587060880987
         ],
         "yaxis": "y"
        },
        {
         "hovertemplate": "color=14<br>symbol=WT<br>1=%{x}<br>2=%{y}<extra></extra>",
         "legendgroup": "14, WT",
         "marker": {
          "color": "#B6E880",
          "size": 13,
          "symbol": "circle"
         },
         "mode": "markers",
         "name": "14, WT",
         "orientation": "v",
         "showlegend": true,
         "type": "scatter",
         "x": [
          -1.2326124658506479,
          -1.60905300793263,
          -1.3180833222047719,
          -1.349833597329759
         ],
         "xaxis": "x",
         "y": [
          0.5110638946542116,
          0.4721359136811502,
          0.20997511987669018,
          0.3515463372478551
         ],
         "yaxis": "y"
        },
        {
         "hovertemplate": "color=16<br>symbol=WT<br>1=%{x}<br>2=%{y}<extra></extra>",
         "legendgroup": "16, WT",
         "marker": {
          "color": "#FF97FF",
          "size": 13,
          "symbol": "circle"
         },
         "mode": "markers",
         "name": "16, WT",
         "orientation": "v",
         "showlegend": true,
         "type": "scatter",
         "x": [
          -1.612713710773884,
          -1.3012469313897526,
          -1.5209679208141844,
          -1.6041723173128861
         ],
         "xaxis": "x",
         "y": [
          0.9896874756597953,
          0.3825593191950016,
          0.9394677458899166,
          0.4634289728054266
         ],
         "yaxis": "y"
        },
        {
         "hovertemplate": "color=18<br>symbol=WT<br>1=%{x}<br>2=%{y}<extra></extra>",
         "legendgroup": "18, WT",
         "marker": {
          "color": "#FECB52",
          "size": 13,
          "symbol": "circle"
         },
         "mode": "markers",
         "name": "18, WT",
         "orientation": "v",
         "showlegend": true,
         "type": "scatter",
         "x": [
          -1.7287835468929018,
          -1.2370336714768457,
          -1.0809868158273812,
          -1.4129681223100337
         ],
         "xaxis": "x",
         "y": [
          0.4544499308536328,
          -0.07621076740319987,
          0.29814622662591217,
          0.7378261002986833
         ],
         "yaxis": "y"
        },
        {
         "hovertemplate": "color=20<br>symbol=WT<br>1=%{x}<br>2=%{y}<extra></extra>",
         "legendgroup": "20, WT",
         "marker": {
          "color": "#636efa",
          "size": 13,
          "symbol": "circle"
         },
         "mode": "markers",
         "name": "20, WT",
         "orientation": "v",
         "showlegend": true,
         "type": "scatter",
         "x": [
          -0.33499803343948403,
          -0.14535493794649398,
          -1.3618907794434083,
          -1.1685819337308083
         ],
         "xaxis": "x",
         "y": [
          -0.8729307670413335,
          -0.9599233428236782,
          0.1962556032900611,
          0.7505312808353372
         ],
         "yaxis": "y"
        },
        {
         "hovertemplate": "color=22<br>symbol=WT<br>1=%{x}<br>2=%{y}<extra></extra>",
         "legendgroup": "22, WT",
         "marker": {
          "color": "#EF553B",
          "size": 13,
          "symbol": "circle"
         },
         "mode": "markers",
         "name": "22, WT",
         "orientation": "v",
         "showlegend": true,
         "type": "scatter",
         "x": [
          1.154321399009189,
          0.8759007184570285,
          -0.34921860349340006,
          0.05914267155625273
         ],
         "xaxis": "x",
         "y": [
          -0.609319635988455,
          -0.6866396424455762,
          -0.8995684347947508,
          0.04706418761652104
         ],
         "yaxis": "y"
        }
       ],
       "layout": {
        "height": 600,
        "legend": {
         "title": {
          "text": "color, symbol"
         },
         "tracegroupgap": 0
        },
        "margin": {
         "t": 60
        },
        "plot_bgcolor": "rgb(243,243,243)",
        "template": {
         "data": {
          "bar": [
           {
            "error_x": {
             "color": "#2a3f5f"
            },
            "error_y": {
             "color": "#2a3f5f"
            },
            "marker": {
             "line": {
              "color": "#E5ECF6",
              "width": 0.5
             },
             "pattern": {
              "fillmode": "overlay",
              "size": 10,
              "solidity": 0.2
             }
            },
            "type": "bar"
           }
          ],
          "barpolar": [
           {
            "marker": {
             "line": {
              "color": "#E5ECF6",
              "width": 0.5
             },
             "pattern": {
              "fillmode": "overlay",
              "size": 10,
              "solidity": 0.2
             }
            },
            "type": "barpolar"
           }
          ],
          "carpet": [
           {
            "aaxis": {
             "endlinecolor": "#2a3f5f",
             "gridcolor": "white",
             "linecolor": "white",
             "minorgridcolor": "white",
             "startlinecolor": "#2a3f5f"
            },
            "baxis": {
             "endlinecolor": "#2a3f5f",
             "gridcolor": "white",
             "linecolor": "white",
             "minorgridcolor": "white",
             "startlinecolor": "#2a3f5f"
            },
            "type": "carpet"
           }
          ],
          "choropleth": [
           {
            "colorbar": {
             "outlinewidth": 0,
             "ticks": ""
            },
            "type": "choropleth"
           }
          ],
          "contour": [
           {
            "colorbar": {
             "outlinewidth": 0,
             "ticks": ""
            },
            "colorscale": [
             [
              0,
              "#0d0887"
             ],
             [
              0.1111111111111111,
              "#46039f"
             ],
             [
              0.2222222222222222,
              "#7201a8"
             ],
             [
              0.3333333333333333,
              "#9c179e"
             ],
             [
              0.4444444444444444,
              "#bd3786"
             ],
             [
              0.5555555555555556,
              "#d8576b"
             ],
             [
              0.6666666666666666,
              "#ed7953"
             ],
             [
              0.7777777777777778,
              "#fb9f3a"
             ],
             [
              0.8888888888888888,
              "#fdca26"
             ],
             [
              1,
              "#f0f921"
             ]
            ],
            "type": "contour"
           }
          ],
          "contourcarpet": [
           {
            "colorbar": {
             "outlinewidth": 0,
             "ticks": ""
            },
            "type": "contourcarpet"
           }
          ],
          "heatmap": [
           {
            "colorbar": {
             "outlinewidth": 0,
             "ticks": ""
            },
            "colorscale": [
             [
              0,
              "#0d0887"
             ],
             [
              0.1111111111111111,
              "#46039f"
             ],
             [
              0.2222222222222222,
              "#7201a8"
             ],
             [
              0.3333333333333333,
              "#9c179e"
             ],
             [
              0.4444444444444444,
              "#bd3786"
             ],
             [
              0.5555555555555556,
              "#d8576b"
             ],
             [
              0.6666666666666666,
              "#ed7953"
             ],
             [
              0.7777777777777778,
              "#fb9f3a"
             ],
             [
              0.8888888888888888,
              "#fdca26"
             ],
             [
              1,
              "#f0f921"
             ]
            ],
            "type": "heatmap"
           }
          ],
          "heatmapgl": [
           {
            "colorbar": {
             "outlinewidth": 0,
             "ticks": ""
            },
            "colorscale": [
             [
              0,
              "#0d0887"
             ],
             [
              0.1111111111111111,
              "#46039f"
             ],
             [
              0.2222222222222222,
              "#7201a8"
             ],
             [
              0.3333333333333333,
              "#9c179e"
             ],
             [
              0.4444444444444444,
              "#bd3786"
             ],
             [
              0.5555555555555556,
              "#d8576b"
             ],
             [
              0.6666666666666666,
              "#ed7953"
             ],
             [
              0.7777777777777778,
              "#fb9f3a"
             ],
             [
              0.8888888888888888,
              "#fdca26"
             ],
             [
              1,
              "#f0f921"
             ]
            ],
            "type": "heatmapgl"
           }
          ],
          "histogram": [
           {
            "marker": {
             "pattern": {
              "fillmode": "overlay",
              "size": 10,
              "solidity": 0.2
             }
            },
            "type": "histogram"
           }
          ],
          "histogram2d": [
           {
            "colorbar": {
             "outlinewidth": 0,
             "ticks": ""
            },
            "colorscale": [
             [
              0,
              "#0d0887"
             ],
             [
              0.1111111111111111,
              "#46039f"
             ],
             [
              0.2222222222222222,
              "#7201a8"
             ],
             [
              0.3333333333333333,
              "#9c179e"
             ],
             [
              0.4444444444444444,
              "#bd3786"
             ],
             [
              0.5555555555555556,
              "#d8576b"
             ],
             [
              0.6666666666666666,
              "#ed7953"
             ],
             [
              0.7777777777777778,
              "#fb9f3a"
             ],
             [
              0.8888888888888888,
              "#fdca26"
             ],
             [
              1,
              "#f0f921"
             ]
            ],
            "type": "histogram2d"
           }
          ],
          "histogram2dcontour": [
           {
            "colorbar": {
             "outlinewidth": 0,
             "ticks": ""
            },
            "colorscale": [
             [
              0,
              "#0d0887"
             ],
             [
              0.1111111111111111,
              "#46039f"
             ],
             [
              0.2222222222222222,
              "#7201a8"
             ],
             [
              0.3333333333333333,
              "#9c179e"
             ],
             [
              0.4444444444444444,
              "#bd3786"
             ],
             [
              0.5555555555555556,
              "#d8576b"
             ],
             [
              0.6666666666666666,
              "#ed7953"
             ],
             [
              0.7777777777777778,
              "#fb9f3a"
             ],
             [
              0.8888888888888888,
              "#fdca26"
             ],
             [
              1,
              "#f0f921"
             ]
            ],
            "type": "histogram2dcontour"
           }
          ],
          "mesh3d": [
           {
            "colorbar": {
             "outlinewidth": 0,
             "ticks": ""
            },
            "type": "mesh3d"
           }
          ],
          "parcoords": [
           {
            "line": {
             "colorbar": {
              "outlinewidth": 0,
              "ticks": ""
             }
            },
            "type": "parcoords"
           }
          ],
          "pie": [
           {
            "automargin": true,
            "type": "pie"
           }
          ],
          "scatter": [
           {
            "fillpattern": {
             "fillmode": "overlay",
             "size": 10,
             "solidity": 0.2
            },
            "type": "scatter"
           }
          ],
          "scatter3d": [
           {
            "line": {
             "colorbar": {
              "outlinewidth": 0,
              "ticks": ""
             }
            },
            "marker": {
             "colorbar": {
              "outlinewidth": 0,
              "ticks": ""
             }
            },
            "type": "scatter3d"
           }
          ],
          "scattercarpet": [
           {
            "marker": {
             "colorbar": {
              "outlinewidth": 0,
              "ticks": ""
             }
            },
            "type": "scattercarpet"
           }
          ],
          "scattergeo": [
           {
            "marker": {
             "colorbar": {
              "outlinewidth": 0,
              "ticks": ""
             }
            },
            "type": "scattergeo"
           }
          ],
          "scattergl": [
           {
            "marker": {
             "colorbar": {
              "outlinewidth": 0,
              "ticks": ""
             }
            },
            "type": "scattergl"
           }
          ],
          "scattermapbox": [
           {
            "marker": {
             "colorbar": {
              "outlinewidth": 0,
              "ticks": ""
             }
            },
            "type": "scattermapbox"
           }
          ],
          "scatterpolar": [
           {
            "marker": {
             "colorbar": {
              "outlinewidth": 0,
              "ticks": ""
             }
            },
            "type": "scatterpolar"
           }
          ],
          "scatterpolargl": [
           {
            "marker": {
             "colorbar": {
              "outlinewidth": 0,
              "ticks": ""
             }
            },
            "type": "scatterpolargl"
           }
          ],
          "scatterternary": [
           {
            "marker": {
             "colorbar": {
              "outlinewidth": 0,
              "ticks": ""
             }
            },
            "type": "scatterternary"
           }
          ],
          "surface": [
           {
            "colorbar": {
             "outlinewidth": 0,
             "ticks": ""
            },
            "colorscale": [
             [
              0,
              "#0d0887"
             ],
             [
              0.1111111111111111,
              "#46039f"
             ],
             [
              0.2222222222222222,
              "#7201a8"
             ],
             [
              0.3333333333333333,
              "#9c179e"
             ],
             [
              0.4444444444444444,
              "#bd3786"
             ],
             [
              0.5555555555555556,
              "#d8576b"
             ],
             [
              0.6666666666666666,
              "#ed7953"
             ],
             [
              0.7777777777777778,
              "#fb9f3a"
             ],
             [
              0.8888888888888888,
              "#fdca26"
             ],
             [
              1,
              "#f0f921"
             ]
            ],
            "type": "surface"
           }
          ],
          "table": [
           {
            "cells": {
             "fill": {
              "color": "#EBF0F8"
             },
             "line": {
              "color": "white"
             }
            },
            "header": {
             "fill": {
              "color": "#C8D4E3"
             },
             "line": {
              "color": "white"
             }
            },
            "type": "table"
           }
          ]
         },
         "layout": {
          "annotationdefaults": {
           "arrowcolor": "#2a3f5f",
           "arrowhead": 0,
           "arrowwidth": 1
          },
          "autotypenumbers": "strict",
          "coloraxis": {
           "colorbar": {
            "outlinewidth": 0,
            "ticks": ""
           }
          },
          "colorscale": {
           "diverging": [
            [
             0,
             "#8e0152"
            ],
            [
             0.1,
             "#c51b7d"
            ],
            [
             0.2,
             "#de77ae"
            ],
            [
             0.3,
             "#f1b6da"
            ],
            [
             0.4,
             "#fde0ef"
            ],
            [
             0.5,
             "#f7f7f7"
            ],
            [
             0.6,
             "#e6f5d0"
            ],
            [
             0.7,
             "#b8e186"
            ],
            [
             0.8,
             "#7fbc41"
            ],
            [
             0.9,
             "#4d9221"
            ],
            [
             1,
             "#276419"
            ]
           ],
           "sequential": [
            [
             0,
             "#0d0887"
            ],
            [
             0.1111111111111111,
             "#46039f"
            ],
            [
             0.2222222222222222,
             "#7201a8"
            ],
            [
             0.3333333333333333,
             "#9c179e"
            ],
            [
             0.4444444444444444,
             "#bd3786"
            ],
            [
             0.5555555555555556,
             "#d8576b"
            ],
            [
             0.6666666666666666,
             "#ed7953"
            ],
            [
             0.7777777777777778,
             "#fb9f3a"
            ],
            [
             0.8888888888888888,
             "#fdca26"
            ],
            [
             1,
             "#f0f921"
            ]
           ],
           "sequentialminus": [
            [
             0,
             "#0d0887"
            ],
            [
             0.1111111111111111,
             "#46039f"
            ],
            [
             0.2222222222222222,
             "#7201a8"
            ],
            [
             0.3333333333333333,
             "#9c179e"
            ],
            [
             0.4444444444444444,
             "#bd3786"
            ],
            [
             0.5555555555555556,
             "#d8576b"
            ],
            [
             0.6666666666666666,
             "#ed7953"
            ],
            [
             0.7777777777777778,
             "#fb9f3a"
            ],
            [
             0.8888888888888888,
             "#fdca26"
            ],
            [
             1,
             "#f0f921"
            ]
           ]
          },
          "colorway": [
           "#636efa",
           "#EF553B",
           "#00cc96",
           "#ab63fa",
           "#FFA15A",
           "#19d3f3",
           "#FF6692",
           "#B6E880",
           "#FF97FF",
           "#FECB52"
          ],
          "font": {
           "color": "#2a3f5f"
          },
          "geo": {
           "bgcolor": "white",
           "lakecolor": "white",
           "landcolor": "#E5ECF6",
           "showlakes": true,
           "showland": true,
           "subunitcolor": "white"
          },
          "hoverlabel": {
           "align": "left"
          },
          "hovermode": "closest",
          "mapbox": {
           "style": "light"
          },
          "paper_bgcolor": "white",
          "plot_bgcolor": "#E5ECF6",
          "polar": {
           "angularaxis": {
            "gridcolor": "white",
            "linecolor": "white",
            "ticks": ""
           },
           "bgcolor": "#E5ECF6",
           "radialaxis": {
            "gridcolor": "white",
            "linecolor": "white",
            "ticks": ""
           }
          },
          "scene": {
           "xaxis": {
            "backgroundcolor": "#E5ECF6",
            "gridcolor": "white",
            "gridwidth": 2,
            "linecolor": "white",
            "showbackground": true,
            "ticks": "",
            "zerolinecolor": "white"
           },
           "yaxis": {
            "backgroundcolor": "#E5ECF6",
            "gridcolor": "white",
            "gridwidth": 2,
            "linecolor": "white",
            "showbackground": true,
            "ticks": "",
            "zerolinecolor": "white"
           },
           "zaxis": {
            "backgroundcolor": "#E5ECF6",
            "gridcolor": "white",
            "gridwidth": 2,
            "linecolor": "white",
            "showbackground": true,
            "ticks": "",
            "zerolinecolor": "white"
           }
          },
          "shapedefaults": {
           "line": {
            "color": "#2a3f5f"
           }
          },
          "ternary": {
           "aaxis": {
            "gridcolor": "white",
            "linecolor": "white",
            "ticks": ""
           },
           "baxis": {
            "gridcolor": "white",
            "linecolor": "white",
            "ticks": ""
           },
           "bgcolor": "#E5ECF6",
           "caxis": {
            "gridcolor": "white",
            "linecolor": "white",
            "ticks": ""
           }
          },
          "title": {
           "x": 0.05
          },
          "xaxis": {
           "automargin": true,
           "gridcolor": "white",
           "linecolor": "white",
           "ticks": "",
           "title": {
            "standoff": 15
           },
           "zerolinecolor": "white",
           "zerolinewidth": 2
          },
          "yaxis": {
           "automargin": true,
           "gridcolor": "white",
           "linecolor": "white",
           "ticks": "",
           "title": {
            "standoff": 15
           },
           "zerolinecolor": "white",
           "zerolinewidth": 2
          }
         }
        },
        "width": 600,
        "xaxis": {
         "anchor": "y",
         "domain": [
          0,
          1
         ],
         "title": {
          "text": "PC 2 (32.4%)"
         }
        },
        "yaxis": {
         "anchor": "x",
         "domain": [
          0,
          1
         ],
         "title": {
          "text": "PC 3 (3.3%)"
         }
        }
       }
      },
      "text/html": [
       "<div>                            <div id=\"2523bdf5-70d5-459b-a6c1-72f333f1d814\" class=\"plotly-graph-div\" style=\"height:600px; width:600px;\"></div>            <script type=\"text/javascript\">                require([\"plotly\"], function(Plotly) {                    window.PLOTLYENV=window.PLOTLYENV || {};                                    if (document.getElementById(\"2523bdf5-70d5-459b-a6c1-72f333f1d814\")) {                    Plotly.newPlot(                        \"2523bdf5-70d5-459b-a6c1-72f333f1d814\",                        [{\"hovertemplate\":\"color=00<br>symbol=WT<br>1=%{x}<br>2=%{y}<extra></extra>\",\"legendgroup\":\"00, WT\",\"marker\":{\"color\":\"#636efa\",\"symbol\":\"circle\",\"size\":13},\"mode\":\"markers\",\"name\":\"00, WT\",\"orientation\":\"v\",\"showlegend\":true,\"x\":[1.977785348663021,3.156847433816525,3.8298691419930635,3.757474328551392],\"xaxis\":\"x\",\"y\":[-0.5291642822906555,0.404320728373145,0.18281472873472482,0.7362366076827731],\"yaxis\":\"y\",\"type\":\"scatter\"},{\"hovertemplate\":\"color=02<br>symbol=WT<br>1=%{x}<br>2=%{y}<extra></extra>\",\"legendgroup\":\"02, WT\",\"marker\":{\"color\":\"#EF553B\",\"symbol\":\"circle\",\"size\":13},\"mode\":\"markers\",\"name\":\"02, WT\",\"orientation\":\"v\",\"showlegend\":true,\"x\":[3.2371250650848453,0.9273405606289189,2.436527017753405,1.4385435349091227],\"xaxis\":\"x\",\"y\":[0.4150452985273073,0.8254999404240485,0.17975979652799218,0.10835541699811242],\"yaxis\":\"y\",\"type\":\"scatter\"},{\"hovertemplate\":\"color=04<br>symbol=WT<br>1=%{x}<br>2=%{y}<extra></extra>\",\"legendgroup\":\"04, WT\",\"marker\":{\"color\":\"#00cc96\",\"symbol\":\"circle\",\"size\":13},\"mode\":\"markers\",\"name\":\"04, WT\",\"orientation\":\"v\",\"showlegend\":true,\"x\":[1.5541679980611167,2.8134872632655097,0.40359925488375953,2.3189307771271293],\"xaxis\":\"x\",\"y\":[-0.04166421043030467,0.47812193836050454,-0.49049104016198974,0.3636208771809814],\"yaxis\":\"y\",\"type\":\"scatter\"},{\"hovertemplate\":\"color=06<br>symbol=WT<br>1=%{x}<br>2=%{y}<extra></extra>\",\"legendgroup\":\"06, WT\",\"marker\":{\"color\":\"#ab63fa\",\"symbol\":\"circle\",\"size\":13},\"mode\":\"markers\",\"name\":\"06, WT\",\"orientation\":\"v\",\"showlegend\":true,\"x\":[0.5273796420921905,0.5048065879207781,0.1494859787969397,0.521569846848206],\"xaxis\":\"x\",\"y\":[-0.37100117486843914,-0.5002929673325589,-0.5155923663840003,-0.4865157383201035],\"yaxis\":\"y\",\"type\":\"scatter\"},{\"hovertemplate\":\"color=08<br>symbol=WT<br>1=%{x}<br>2=%{y}<extra></extra>\",\"legendgroup\":\"08, WT\",\"marker\":{\"color\":\"#FFA15A\",\"symbol\":\"circle\",\"size\":13},\"mode\":\"markers\",\"name\":\"08, WT\",\"orientation\":\"v\",\"showlegend\":true,\"x\":[-0.2280371800444913,-1.0662920748350098,-0.9299948573525183,-0.1819635488497864],\"xaxis\":\"x\",\"y\":[-0.4478290294058766,-0.3559408733905678,-0.35074248291878507,-0.44956408545763243],\"yaxis\":\"y\",\"type\":\"scatter\"},{\"hovertemplate\":\"color=10<br>symbol=WT<br>1=%{x}<br>2=%{y}<extra></extra>\",\"legendgroup\":\"10, WT\",\"marker\":{\"color\":\"#19d3f3\",\"symbol\":\"circle\",\"size\":13},\"mode\":\"markers\",\"name\":\"10, WT\",\"orientation\":\"v\",\"showlegend\":true,\"x\":[-0.7034196515337326,-0.6905366730747174,-1.2518763919892864,-0.747748106944352],\"xaxis\":\"x\",\"y\":[-0.36454433421254034,-0.383663881949797,-0.1509750227719996,-0.41867298116602286],\"yaxis\":\"y\",\"type\":\"scatter\"},{\"hovertemplate\":\"color=12<br>symbol=WT<br>1=%{x}<br>2=%{y}<extra></extra>\",\"legendgroup\":\"12, WT\",\"marker\":{\"color\":\"#FF6692\",\"symbol\":\"circle\",\"size\":13},\"mode\":\"markers\",\"name\":\"12, WT\",\"orientation\":\"v\",\"showlegend\":true,\"x\":[-1.446297216741375,-1.350993986929827,-1.2925262170670215,-1.3861189458870016],\"xaxis\":\"x\",\"y\":[-0.04819498520566945,-0.25501910696781616,-0.3557381582168497,0.12228587060880987],\"yaxis\":\"y\",\"type\":\"scatter\"},{\"hovertemplate\":\"color=14<br>symbol=WT<br>1=%{x}<br>2=%{y}<extra></extra>\",\"legendgroup\":\"14, WT\",\"marker\":{\"color\":\"#B6E880\",\"symbol\":\"circle\",\"size\":13},\"mode\":\"markers\",\"name\":\"14, WT\",\"orientation\":\"v\",\"showlegend\":true,\"x\":[-1.2326124658506479,-1.60905300793263,-1.3180833222047719,-1.349833597329759],\"xaxis\":\"x\",\"y\":[0.5110638946542116,0.4721359136811502,0.20997511987669018,0.3515463372478551],\"yaxis\":\"y\",\"type\":\"scatter\"},{\"hovertemplate\":\"color=16<br>symbol=WT<br>1=%{x}<br>2=%{y}<extra></extra>\",\"legendgroup\":\"16, WT\",\"marker\":{\"color\":\"#FF97FF\",\"symbol\":\"circle\",\"size\":13},\"mode\":\"markers\",\"name\":\"16, WT\",\"orientation\":\"v\",\"showlegend\":true,\"x\":[-1.612713710773884,-1.3012469313897526,-1.5209679208141844,-1.6041723173128861],\"xaxis\":\"x\",\"y\":[0.9896874756597953,0.3825593191950016,0.9394677458899166,0.4634289728054266],\"yaxis\":\"y\",\"type\":\"scatter\"},{\"hovertemplate\":\"color=18<br>symbol=WT<br>1=%{x}<br>2=%{y}<extra></extra>\",\"legendgroup\":\"18, WT\",\"marker\":{\"color\":\"#FECB52\",\"symbol\":\"circle\",\"size\":13},\"mode\":\"markers\",\"name\":\"18, WT\",\"orientation\":\"v\",\"showlegend\":true,\"x\":[-1.7287835468929018,-1.2370336714768457,-1.0809868158273812,-1.4129681223100337],\"xaxis\":\"x\",\"y\":[0.4544499308536328,-0.07621076740319987,0.29814622662591217,0.7378261002986833],\"yaxis\":\"y\",\"type\":\"scatter\"},{\"hovertemplate\":\"color=20<br>symbol=WT<br>1=%{x}<br>2=%{y}<extra></extra>\",\"legendgroup\":\"20, WT\",\"marker\":{\"color\":\"#636efa\",\"symbol\":\"circle\",\"size\":13},\"mode\":\"markers\",\"name\":\"20, WT\",\"orientation\":\"v\",\"showlegend\":true,\"x\":[-0.33499803343948403,-0.14535493794649398,-1.3618907794434083,-1.1685819337308083],\"xaxis\":\"x\",\"y\":[-0.8729307670413335,-0.9599233428236782,0.1962556032900611,0.7505312808353372],\"yaxis\":\"y\",\"type\":\"scatter\"},{\"hovertemplate\":\"color=22<br>symbol=WT<br>1=%{x}<br>2=%{y}<extra></extra>\",\"legendgroup\":\"22, WT\",\"marker\":{\"color\":\"#EF553B\",\"symbol\":\"circle\",\"size\":13},\"mode\":\"markers\",\"name\":\"22, WT\",\"orientation\":\"v\",\"showlegend\":true,\"x\":[1.154321399009189,0.8759007184570285,-0.34921860349340006,0.05914267155625273],\"xaxis\":\"x\",\"y\":[-0.609319635988455,-0.6866396424455762,-0.8995684347947508,0.04706418761652104],\"yaxis\":\"y\",\"type\":\"scatter\"}],                        {\"template\":{\"data\":{\"histogram2dcontour\":[{\"type\":\"histogram2dcontour\",\"colorbar\":{\"outlinewidth\":0,\"ticks\":\"\"},\"colorscale\":[[0.0,\"#0d0887\"],[0.1111111111111111,\"#46039f\"],[0.2222222222222222,\"#7201a8\"],[0.3333333333333333,\"#9c179e\"],[0.4444444444444444,\"#bd3786\"],[0.5555555555555556,\"#d8576b\"],[0.6666666666666666,\"#ed7953\"],[0.7777777777777778,\"#fb9f3a\"],[0.8888888888888888,\"#fdca26\"],[1.0,\"#f0f921\"]]}],\"choropleth\":[{\"type\":\"choropleth\",\"colorbar\":{\"outlinewidth\":0,\"ticks\":\"\"}}],\"histogram2d\":[{\"type\":\"histogram2d\",\"colorbar\":{\"outlinewidth\":0,\"ticks\":\"\"},\"colorscale\":[[0.0,\"#0d0887\"],[0.1111111111111111,\"#46039f\"],[0.2222222222222222,\"#7201a8\"],[0.3333333333333333,\"#9c179e\"],[0.4444444444444444,\"#bd3786\"],[0.5555555555555556,\"#d8576b\"],[0.6666666666666666,\"#ed7953\"],[0.7777777777777778,\"#fb9f3a\"],[0.8888888888888888,\"#fdca26\"],[1.0,\"#f0f921\"]]}],\"heatmap\":[{\"type\":\"heatmap\",\"colorbar\":{\"outlinewidth\":0,\"ticks\":\"\"},\"colorscale\":[[0.0,\"#0d0887\"],[0.1111111111111111,\"#46039f\"],[0.2222222222222222,\"#7201a8\"],[0.3333333333333333,\"#9c179e\"],[0.4444444444444444,\"#bd3786\"],[0.5555555555555556,\"#d8576b\"],[0.6666666666666666,\"#ed7953\"],[0.7777777777777778,\"#fb9f3a\"],[0.8888888888888888,\"#fdca26\"],[1.0,\"#f0f921\"]]}],\"heatmapgl\":[{\"type\":\"heatmapgl\",\"colorbar\":{\"outlinewidth\":0,\"ticks\":\"\"},\"colorscale\":[[0.0,\"#0d0887\"],[0.1111111111111111,\"#46039f\"],[0.2222222222222222,\"#7201a8\"],[0.3333333333333333,\"#9c179e\"],[0.4444444444444444,\"#bd3786\"],[0.5555555555555556,\"#d8576b\"],[0.6666666666666666,\"#ed7953\"],[0.7777777777777778,\"#fb9f3a\"],[0.8888888888888888,\"#fdca26\"],[1.0,\"#f0f921\"]]}],\"contourcarpet\":[{\"type\":\"contourcarpet\",\"colorbar\":{\"outlinewidth\":0,\"ticks\":\"\"}}],\"contour\":[{\"type\":\"contour\",\"colorbar\":{\"outlinewidth\":0,\"ticks\":\"\"},\"colorscale\":[[0.0,\"#0d0887\"],[0.1111111111111111,\"#46039f\"],[0.2222222222222222,\"#7201a8\"],[0.3333333333333333,\"#9c179e\"],[0.4444444444444444,\"#bd3786\"],[0.5555555555555556,\"#d8576b\"],[0.6666666666666666,\"#ed7953\"],[0.7777777777777778,\"#fb9f3a\"],[0.8888888888888888,\"#fdca26\"],[1.0,\"#f0f921\"]]}],\"surface\":[{\"type\":\"surface\",\"colorbar\":{\"outlinewidth\":0,\"ticks\":\"\"},\"colorscale\":[[0.0,\"#0d0887\"],[0.1111111111111111,\"#46039f\"],[0.2222222222222222,\"#7201a8\"],[0.3333333333333333,\"#9c179e\"],[0.4444444444444444,\"#bd3786\"],[0.5555555555555556,\"#d8576b\"],[0.6666666666666666,\"#ed7953\"],[0.7777777777777778,\"#fb9f3a\"],[0.8888888888888888,\"#fdca26\"],[1.0,\"#f0f921\"]]}],\"mesh3d\":[{\"type\":\"mesh3d\",\"colorbar\":{\"outlinewidth\":0,\"ticks\":\"\"}}],\"scatter\":[{\"fillpattern\":{\"fillmode\":\"overlay\",\"size\":10,\"solidity\":0.2},\"type\":\"scatter\"}],\"parcoords\":[{\"type\":\"parcoords\",\"line\":{\"colorbar\":{\"outlinewidth\":0,\"ticks\":\"\"}}}],\"scatterpolargl\":[{\"type\":\"scatterpolargl\",\"marker\":{\"colorbar\":{\"outlinewidth\":0,\"ticks\":\"\"}}}],\"bar\":[{\"error_x\":{\"color\":\"#2a3f5f\"},\"error_y\":{\"color\":\"#2a3f5f\"},\"marker\":{\"line\":{\"color\":\"#E5ECF6\",\"width\":0.5},\"pattern\":{\"fillmode\":\"overlay\",\"size\":10,\"solidity\":0.2}},\"type\":\"bar\"}],\"scattergeo\":[{\"type\":\"scattergeo\",\"marker\":{\"colorbar\":{\"outlinewidth\":0,\"ticks\":\"\"}}}],\"scatterpolar\":[{\"type\":\"scatterpolar\",\"marker\":{\"colorbar\":{\"outlinewidth\":0,\"ticks\":\"\"}}}],\"histogram\":[{\"marker\":{\"pattern\":{\"fillmode\":\"overlay\",\"size\":10,\"solidity\":0.2}},\"type\":\"histogram\"}],\"scattergl\":[{\"type\":\"scattergl\",\"marker\":{\"colorbar\":{\"outlinewidth\":0,\"ticks\":\"\"}}}],\"scatter3d\":[{\"type\":\"scatter3d\",\"line\":{\"colorbar\":{\"outlinewidth\":0,\"ticks\":\"\"}},\"marker\":{\"colorbar\":{\"outlinewidth\":0,\"ticks\":\"\"}}}],\"scattermapbox\":[{\"type\":\"scattermapbox\",\"marker\":{\"colorbar\":{\"outlinewidth\":0,\"ticks\":\"\"}}}],\"scatterternary\":[{\"type\":\"scatterternary\",\"marker\":{\"colorbar\":{\"outlinewidth\":0,\"ticks\":\"\"}}}],\"scattercarpet\":[{\"type\":\"scattercarpet\",\"marker\":{\"colorbar\":{\"outlinewidth\":0,\"ticks\":\"\"}}}],\"carpet\":[{\"aaxis\":{\"endlinecolor\":\"#2a3f5f\",\"gridcolor\":\"white\",\"linecolor\":\"white\",\"minorgridcolor\":\"white\",\"startlinecolor\":\"#2a3f5f\"},\"baxis\":{\"endlinecolor\":\"#2a3f5f\",\"gridcolor\":\"white\",\"linecolor\":\"white\",\"minorgridcolor\":\"white\",\"startlinecolor\":\"#2a3f5f\"},\"type\":\"carpet\"}],\"table\":[{\"cells\":{\"fill\":{\"color\":\"#EBF0F8\"},\"line\":{\"color\":\"white\"}},\"header\":{\"fill\":{\"color\":\"#C8D4E3\"},\"line\":{\"color\":\"white\"}},\"type\":\"table\"}],\"barpolar\":[{\"marker\":{\"line\":{\"color\":\"#E5ECF6\",\"width\":0.5},\"pattern\":{\"fillmode\":\"overlay\",\"size\":10,\"solidity\":0.2}},\"type\":\"barpolar\"}],\"pie\":[{\"automargin\":true,\"type\":\"pie\"}]},\"layout\":{\"autotypenumbers\":\"strict\",\"colorway\":[\"#636efa\",\"#EF553B\",\"#00cc96\",\"#ab63fa\",\"#FFA15A\",\"#19d3f3\",\"#FF6692\",\"#B6E880\",\"#FF97FF\",\"#FECB52\"],\"font\":{\"color\":\"#2a3f5f\"},\"hovermode\":\"closest\",\"hoverlabel\":{\"align\":\"left\"},\"paper_bgcolor\":\"white\",\"plot_bgcolor\":\"#E5ECF6\",\"polar\":{\"bgcolor\":\"#E5ECF6\",\"angularaxis\":{\"gridcolor\":\"white\",\"linecolor\":\"white\",\"ticks\":\"\"},\"radialaxis\":{\"gridcolor\":\"white\",\"linecolor\":\"white\",\"ticks\":\"\"}},\"ternary\":{\"bgcolor\":\"#E5ECF6\",\"aaxis\":{\"gridcolor\":\"white\",\"linecolor\":\"white\",\"ticks\":\"\"},\"baxis\":{\"gridcolor\":\"white\",\"linecolor\":\"white\",\"ticks\":\"\"},\"caxis\":{\"gridcolor\":\"white\",\"linecolor\":\"white\",\"ticks\":\"\"}},\"coloraxis\":{\"colorbar\":{\"outlinewidth\":0,\"ticks\":\"\"}},\"colorscale\":{\"sequential\":[[0.0,\"#0d0887\"],[0.1111111111111111,\"#46039f\"],[0.2222222222222222,\"#7201a8\"],[0.3333333333333333,\"#9c179e\"],[0.4444444444444444,\"#bd3786\"],[0.5555555555555556,\"#d8576b\"],[0.6666666666666666,\"#ed7953\"],[0.7777777777777778,\"#fb9f3a\"],[0.8888888888888888,\"#fdca26\"],[1.0,\"#f0f921\"]],\"sequentialminus\":[[0.0,\"#0d0887\"],[0.1111111111111111,\"#46039f\"],[0.2222222222222222,\"#7201a8\"],[0.3333333333333333,\"#9c179e\"],[0.4444444444444444,\"#bd3786\"],[0.5555555555555556,\"#d8576b\"],[0.6666666666666666,\"#ed7953\"],[0.7777777777777778,\"#fb9f3a\"],[0.8888888888888888,\"#fdca26\"],[1.0,\"#f0f921\"]],\"diverging\":[[0,\"#8e0152\"],[0.1,\"#c51b7d\"],[0.2,\"#de77ae\"],[0.3,\"#f1b6da\"],[0.4,\"#fde0ef\"],[0.5,\"#f7f7f7\"],[0.6,\"#e6f5d0\"],[0.7,\"#b8e186\"],[0.8,\"#7fbc41\"],[0.9,\"#4d9221\"],[1,\"#276419\"]]},\"xaxis\":{\"gridcolor\":\"white\",\"linecolor\":\"white\",\"ticks\":\"\",\"title\":{\"standoff\":15},\"zerolinecolor\":\"white\",\"automargin\":true,\"zerolinewidth\":2},\"yaxis\":{\"gridcolor\":\"white\",\"linecolor\":\"white\",\"ticks\":\"\",\"title\":{\"standoff\":15},\"zerolinecolor\":\"white\",\"automargin\":true,\"zerolinewidth\":2},\"scene\":{\"xaxis\":{\"backgroundcolor\":\"#E5ECF6\",\"gridcolor\":\"white\",\"linecolor\":\"white\",\"showbackground\":true,\"ticks\":\"\",\"zerolinecolor\":\"white\",\"gridwidth\":2},\"yaxis\":{\"backgroundcolor\":\"#E5ECF6\",\"gridcolor\":\"white\",\"linecolor\":\"white\",\"showbackground\":true,\"ticks\":\"\",\"zerolinecolor\":\"white\",\"gridwidth\":2},\"zaxis\":{\"backgroundcolor\":\"#E5ECF6\",\"gridcolor\":\"white\",\"linecolor\":\"white\",\"showbackground\":true,\"ticks\":\"\",\"zerolinecolor\":\"white\",\"gridwidth\":2}},\"shapedefaults\":{\"line\":{\"color\":\"#2a3f5f\"}},\"annotationdefaults\":{\"arrowcolor\":\"#2a3f5f\",\"arrowhead\":0,\"arrowwidth\":1},\"geo\":{\"bgcolor\":\"white\",\"landcolor\":\"#E5ECF6\",\"subunitcolor\":\"white\",\"showland\":true,\"showlakes\":true,\"lakecolor\":\"white\"},\"title\":{\"x\":0.05},\"mapbox\":{\"style\":\"light\"}}},\"xaxis\":{\"anchor\":\"y\",\"domain\":[0.0,1.0],\"title\":{\"text\":\"PC 2 (32.4%)\"}},\"yaxis\":{\"anchor\":\"x\",\"domain\":[0.0,1.0],\"title\":{\"text\":\"PC 3 (3.3%)\"}},\"legend\":{\"title\":{\"text\":\"color, symbol\"},\"tracegroupgap\":0},\"margin\":{\"t\":60},\"height\":600,\"width\":600,\"plot_bgcolor\":\"rgb(243,243,243)\"},                        {\"responsive\": true}                    ).then(function(){\n",
       "                            \n",
       "var gd = document.getElementById('2523bdf5-70d5-459b-a6c1-72f333f1d814');\n",
       "var x = new MutationObserver(function (mutations, observer) {{\n",
       "        var display = window.getComputedStyle(gd).display;\n",
       "        if (!display || display === 'none') {{\n",
       "            console.log([gd, 'removed!']);\n",
       "            Plotly.purge(gd);\n",
       "            observer.disconnect();\n",
       "        }}\n",
       "}});\n",
       "\n",
       "// Listen for the removal of the full notebook cells\n",
       "var notebookContainer = gd.closest('#notebook-container');\n",
       "if (notebookContainer) {{\n",
       "    x.observe(notebookContainer, {childList: true});\n",
       "}}\n",
       "\n",
       "// Listen for the clearing of the current output cell\n",
       "var outputEl = gd.closest('.output');\n",
       "if (outputEl) {{\n",
       "    x.observe(outputEl, {childList: true});\n",
       "}}\n",
       "\n",
       "                        })                };                });            </script>        </div>"
      ]
     },
     "metadata": {},
     "output_type": "display_data"
    },
    {
     "data": {
      "application/vnd.plotly.v1+json": {
       "config": {
        "plotlyServerURL": "https://plot.ly"
       },
       "data": [
        {
         "hovertemplate": "color=A<br>symbol=Intron<br>1=%{x}<br>2=%{y}<extra></extra>",
         "legendgroup": "A, Intron",
         "marker": {
          "color": "#636efa",
          "size": 13,
          "symbol": "circle"
         },
         "mode": "markers",
         "name": "A, Intron",
         "orientation": "v",
         "showlegend": true,
         "type": "scatter",
         "x": [
          1.977785348663021,
          3.2371250650848453,
          1.5541679980611167,
          0.5273796420921905,
          -0.2280371800444913,
          -0.7034196515337326,
          -1.446297216741375,
          -1.2326124658506479,
          -1.612713710773884,
          -1.7287835468929018,
          -0.33499803343948403,
          1.154321399009189
         ],
         "xaxis": "x",
         "y": [
          -0.5291642822906555,
          0.4150452985273073,
          -0.04166421043030467,
          -0.37100117486843914,
          -0.4478290294058766,
          -0.36454433421254034,
          -0.04819498520566945,
          0.5110638946542116,
          0.9896874756597953,
          0.4544499308536328,
          -0.8729307670413335,
          -0.609319635988455
         ],
         "yaxis": "y"
        },
        {
         "hovertemplate": "color=B<br>symbol=Intron<br>1=%{x}<br>2=%{y}<extra></extra>",
         "legendgroup": "B, Intron",
         "marker": {
          "color": "#EF553B",
          "size": 13,
          "symbol": "circle"
         },
         "mode": "markers",
         "name": "B, Intron",
         "orientation": "v",
         "showlegend": true,
         "type": "scatter",
         "x": [
          3.156847433816525,
          0.9273405606289189,
          2.8134872632655097,
          0.5048065879207781,
          -1.0662920748350098,
          -0.6905366730747174,
          -1.350993986929827,
          -1.60905300793263,
          -1.3012469313897526,
          -1.2370336714768457,
          -0.14535493794649398,
          0.8759007184570285
         ],
         "xaxis": "x",
         "y": [
          0.404320728373145,
          0.8254999404240485,
          0.47812193836050454,
          -0.5002929673325589,
          -0.3559408733905678,
          -0.383663881949797,
          -0.25501910696781616,
          0.4721359136811502,
          0.3825593191950016,
          -0.07621076740319987,
          -0.9599233428236782,
          -0.6866396424455762
         ],
         "yaxis": "y"
        },
        {
         "hovertemplate": "color=C<br>symbol=Intron<br>1=%{x}<br>2=%{y}<extra></extra>",
         "legendgroup": "C, Intron",
         "marker": {
          "color": "#00cc96",
          "size": 13,
          "symbol": "circle"
         },
         "mode": "markers",
         "name": "C, Intron",
         "orientation": "v",
         "showlegend": true,
         "type": "scatter",
         "x": [
          3.8298691419930635,
          2.436527017753405,
          0.40359925488375953,
          0.1494859787969397,
          -0.9299948573525183,
          -1.2518763919892864,
          -1.2925262170670215,
          -1.3180833222047719,
          -1.5209679208141844,
          -1.0809868158273812,
          -1.3618907794434083,
          -0.34921860349340006
         ],
         "xaxis": "x",
         "y": [
          0.18281472873472482,
          0.17975979652799218,
          -0.49049104016198974,
          -0.5155923663840003,
          -0.35074248291878507,
          -0.1509750227719996,
          -0.3557381582168497,
          0.20997511987669018,
          0.9394677458899166,
          0.29814622662591217,
          0.1962556032900611,
          -0.8995684347947508
         ],
         "yaxis": "y"
        },
        {
         "hovertemplate": "color=D<br>symbol=Intron<br>1=%{x}<br>2=%{y}<extra></extra>",
         "legendgroup": "D, Intron",
         "marker": {
          "color": "#ab63fa",
          "size": 13,
          "symbol": "circle"
         },
         "mode": "markers",
         "name": "D, Intron",
         "orientation": "v",
         "showlegend": true,
         "type": "scatter",
         "x": [
          3.757474328551392,
          1.4385435349091227,
          2.3189307771271293,
          0.521569846848206,
          -0.1819635488497864,
          -0.747748106944352,
          -1.3861189458870016,
          -1.349833597329759,
          -1.6041723173128861,
          -1.4129681223100337,
          -1.1685819337308083,
          0.05914267155625273
         ],
         "xaxis": "x",
         "y": [
          0.7362366076827731,
          0.10835541699811242,
          0.3636208771809814,
          -0.4865157383201035,
          -0.44956408545763243,
          -0.41867298116602286,
          0.12228587060880987,
          0.3515463372478551,
          0.4634289728054266,
          0.7378261002986833,
          0.7505312808353372,
          0.04706418761652104
         ],
         "yaxis": "y"
        }
       ],
       "layout": {
        "height": 600,
        "legend": {
         "title": {
          "text": "color, symbol"
         },
         "tracegroupgap": 0
        },
        "margin": {
         "t": 60
        },
        "plot_bgcolor": "rgb(243,243,243)",
        "template": {
         "data": {
          "bar": [
           {
            "error_x": {
             "color": "#2a3f5f"
            },
            "error_y": {
             "color": "#2a3f5f"
            },
            "marker": {
             "line": {
              "color": "#E5ECF6",
              "width": 0.5
             },
             "pattern": {
              "fillmode": "overlay",
              "size": 10,
              "solidity": 0.2
             }
            },
            "type": "bar"
           }
          ],
          "barpolar": [
           {
            "marker": {
             "line": {
              "color": "#E5ECF6",
              "width": 0.5
             },
             "pattern": {
              "fillmode": "overlay",
              "size": 10,
              "solidity": 0.2
             }
            },
            "type": "barpolar"
           }
          ],
          "carpet": [
           {
            "aaxis": {
             "endlinecolor": "#2a3f5f",
             "gridcolor": "white",
             "linecolor": "white",
             "minorgridcolor": "white",
             "startlinecolor": "#2a3f5f"
            },
            "baxis": {
             "endlinecolor": "#2a3f5f",
             "gridcolor": "white",
             "linecolor": "white",
             "minorgridcolor": "white",
             "startlinecolor": "#2a3f5f"
            },
            "type": "carpet"
           }
          ],
          "choropleth": [
           {
            "colorbar": {
             "outlinewidth": 0,
             "ticks": ""
            },
            "type": "choropleth"
           }
          ],
          "contour": [
           {
            "colorbar": {
             "outlinewidth": 0,
             "ticks": ""
            },
            "colorscale": [
             [
              0,
              "#0d0887"
             ],
             [
              0.1111111111111111,
              "#46039f"
             ],
             [
              0.2222222222222222,
              "#7201a8"
             ],
             [
              0.3333333333333333,
              "#9c179e"
             ],
             [
              0.4444444444444444,
              "#bd3786"
             ],
             [
              0.5555555555555556,
              "#d8576b"
             ],
             [
              0.6666666666666666,
              "#ed7953"
             ],
             [
              0.7777777777777778,
              "#fb9f3a"
             ],
             [
              0.8888888888888888,
              "#fdca26"
             ],
             [
              1,
              "#f0f921"
             ]
            ],
            "type": "contour"
           }
          ],
          "contourcarpet": [
           {
            "colorbar": {
             "outlinewidth": 0,
             "ticks": ""
            },
            "type": "contourcarpet"
           }
          ],
          "heatmap": [
           {
            "colorbar": {
             "outlinewidth": 0,
             "ticks": ""
            },
            "colorscale": [
             [
              0,
              "#0d0887"
             ],
             [
              0.1111111111111111,
              "#46039f"
             ],
             [
              0.2222222222222222,
              "#7201a8"
             ],
             [
              0.3333333333333333,
              "#9c179e"
             ],
             [
              0.4444444444444444,
              "#bd3786"
             ],
             [
              0.5555555555555556,
              "#d8576b"
             ],
             [
              0.6666666666666666,
              "#ed7953"
             ],
             [
              0.7777777777777778,
              "#fb9f3a"
             ],
             [
              0.8888888888888888,
              "#fdca26"
             ],
             [
              1,
              "#f0f921"
             ]
            ],
            "type": "heatmap"
           }
          ],
          "heatmapgl": [
           {
            "colorbar": {
             "outlinewidth": 0,
             "ticks": ""
            },
            "colorscale": [
             [
              0,
              "#0d0887"
             ],
             [
              0.1111111111111111,
              "#46039f"
             ],
             [
              0.2222222222222222,
              "#7201a8"
             ],
             [
              0.3333333333333333,
              "#9c179e"
             ],
             [
              0.4444444444444444,
              "#bd3786"
             ],
             [
              0.5555555555555556,
              "#d8576b"
             ],
             [
              0.6666666666666666,
              "#ed7953"
             ],
             [
              0.7777777777777778,
              "#fb9f3a"
             ],
             [
              0.8888888888888888,
              "#fdca26"
             ],
             [
              1,
              "#f0f921"
             ]
            ],
            "type": "heatmapgl"
           }
          ],
          "histogram": [
           {
            "marker": {
             "pattern": {
              "fillmode": "overlay",
              "size": 10,
              "solidity": 0.2
             }
            },
            "type": "histogram"
           }
          ],
          "histogram2d": [
           {
            "colorbar": {
             "outlinewidth": 0,
             "ticks": ""
            },
            "colorscale": [
             [
              0,
              "#0d0887"
             ],
             [
              0.1111111111111111,
              "#46039f"
             ],
             [
              0.2222222222222222,
              "#7201a8"
             ],
             [
              0.3333333333333333,
              "#9c179e"
             ],
             [
              0.4444444444444444,
              "#bd3786"
             ],
             [
              0.5555555555555556,
              "#d8576b"
             ],
             [
              0.6666666666666666,
              "#ed7953"
             ],
             [
              0.7777777777777778,
              "#fb9f3a"
             ],
             [
              0.8888888888888888,
              "#fdca26"
             ],
             [
              1,
              "#f0f921"
             ]
            ],
            "type": "histogram2d"
           }
          ],
          "histogram2dcontour": [
           {
            "colorbar": {
             "outlinewidth": 0,
             "ticks": ""
            },
            "colorscale": [
             [
              0,
              "#0d0887"
             ],
             [
              0.1111111111111111,
              "#46039f"
             ],
             [
              0.2222222222222222,
              "#7201a8"
             ],
             [
              0.3333333333333333,
              "#9c179e"
             ],
             [
              0.4444444444444444,
              "#bd3786"
             ],
             [
              0.5555555555555556,
              "#d8576b"
             ],
             [
              0.6666666666666666,
              "#ed7953"
             ],
             [
              0.7777777777777778,
              "#fb9f3a"
             ],
             [
              0.8888888888888888,
              "#fdca26"
             ],
             [
              1,
              "#f0f921"
             ]
            ],
            "type": "histogram2dcontour"
           }
          ],
          "mesh3d": [
           {
            "colorbar": {
             "outlinewidth": 0,
             "ticks": ""
            },
            "type": "mesh3d"
           }
          ],
          "parcoords": [
           {
            "line": {
             "colorbar": {
              "outlinewidth": 0,
              "ticks": ""
             }
            },
            "type": "parcoords"
           }
          ],
          "pie": [
           {
            "automargin": true,
            "type": "pie"
           }
          ],
          "scatter": [
           {
            "fillpattern": {
             "fillmode": "overlay",
             "size": 10,
             "solidity": 0.2
            },
            "type": "scatter"
           }
          ],
          "scatter3d": [
           {
            "line": {
             "colorbar": {
              "outlinewidth": 0,
              "ticks": ""
             }
            },
            "marker": {
             "colorbar": {
              "outlinewidth": 0,
              "ticks": ""
             }
            },
            "type": "scatter3d"
           }
          ],
          "scattercarpet": [
           {
            "marker": {
             "colorbar": {
              "outlinewidth": 0,
              "ticks": ""
             }
            },
            "type": "scattercarpet"
           }
          ],
          "scattergeo": [
           {
            "marker": {
             "colorbar": {
              "outlinewidth": 0,
              "ticks": ""
             }
            },
            "type": "scattergeo"
           }
          ],
          "scattergl": [
           {
            "marker": {
             "colorbar": {
              "outlinewidth": 0,
              "ticks": ""
             }
            },
            "type": "scattergl"
           }
          ],
          "scattermapbox": [
           {
            "marker": {
             "colorbar": {
              "outlinewidth": 0,
              "ticks": ""
             }
            },
            "type": "scattermapbox"
           }
          ],
          "scatterpolar": [
           {
            "marker": {
             "colorbar": {
              "outlinewidth": 0,
              "ticks": ""
             }
            },
            "type": "scatterpolar"
           }
          ],
          "scatterpolargl": [
           {
            "marker": {
             "colorbar": {
              "outlinewidth": 0,
              "ticks": ""
             }
            },
            "type": "scatterpolargl"
           }
          ],
          "scatterternary": [
           {
            "marker": {
             "colorbar": {
              "outlinewidth": 0,
              "ticks": ""
             }
            },
            "type": "scatterternary"
           }
          ],
          "surface": [
           {
            "colorbar": {
             "outlinewidth": 0,
             "ticks": ""
            },
            "colorscale": [
             [
              0,
              "#0d0887"
             ],
             [
              0.1111111111111111,
              "#46039f"
             ],
             [
              0.2222222222222222,
              "#7201a8"
             ],
             [
              0.3333333333333333,
              "#9c179e"
             ],
             [
              0.4444444444444444,
              "#bd3786"
             ],
             [
              0.5555555555555556,
              "#d8576b"
             ],
             [
              0.6666666666666666,
              "#ed7953"
             ],
             [
              0.7777777777777778,
              "#fb9f3a"
             ],
             [
              0.8888888888888888,
              "#fdca26"
             ],
             [
              1,
              "#f0f921"
             ]
            ],
            "type": "surface"
           }
          ],
          "table": [
           {
            "cells": {
             "fill": {
              "color": "#EBF0F8"
             },
             "line": {
              "color": "white"
             }
            },
            "header": {
             "fill": {
              "color": "#C8D4E3"
             },
             "line": {
              "color": "white"
             }
            },
            "type": "table"
           }
          ]
         },
         "layout": {
          "annotationdefaults": {
           "arrowcolor": "#2a3f5f",
           "arrowhead": 0,
           "arrowwidth": 1
          },
          "autotypenumbers": "strict",
          "coloraxis": {
           "colorbar": {
            "outlinewidth": 0,
            "ticks": ""
           }
          },
          "colorscale": {
           "diverging": [
            [
             0,
             "#8e0152"
            ],
            [
             0.1,
             "#c51b7d"
            ],
            [
             0.2,
             "#de77ae"
            ],
            [
             0.3,
             "#f1b6da"
            ],
            [
             0.4,
             "#fde0ef"
            ],
            [
             0.5,
             "#f7f7f7"
            ],
            [
             0.6,
             "#e6f5d0"
            ],
            [
             0.7,
             "#b8e186"
            ],
            [
             0.8,
             "#7fbc41"
            ],
            [
             0.9,
             "#4d9221"
            ],
            [
             1,
             "#276419"
            ]
           ],
           "sequential": [
            [
             0,
             "#0d0887"
            ],
            [
             0.1111111111111111,
             "#46039f"
            ],
            [
             0.2222222222222222,
             "#7201a8"
            ],
            [
             0.3333333333333333,
             "#9c179e"
            ],
            [
             0.4444444444444444,
             "#bd3786"
            ],
            [
             0.5555555555555556,
             "#d8576b"
            ],
            [
             0.6666666666666666,
             "#ed7953"
            ],
            [
             0.7777777777777778,
             "#fb9f3a"
            ],
            [
             0.8888888888888888,
             "#fdca26"
            ],
            [
             1,
             "#f0f921"
            ]
           ],
           "sequentialminus": [
            [
             0,
             "#0d0887"
            ],
            [
             0.1111111111111111,
             "#46039f"
            ],
            [
             0.2222222222222222,
             "#7201a8"
            ],
            [
             0.3333333333333333,
             "#9c179e"
            ],
            [
             0.4444444444444444,
             "#bd3786"
            ],
            [
             0.5555555555555556,
             "#d8576b"
            ],
            [
             0.6666666666666666,
             "#ed7953"
            ],
            [
             0.7777777777777778,
             "#fb9f3a"
            ],
            [
             0.8888888888888888,
             "#fdca26"
            ],
            [
             1,
             "#f0f921"
            ]
           ]
          },
          "colorway": [
           "#636efa",
           "#EF553B",
           "#00cc96",
           "#ab63fa",
           "#FFA15A",
           "#19d3f3",
           "#FF6692",
           "#B6E880",
           "#FF97FF",
           "#FECB52"
          ],
          "font": {
           "color": "#2a3f5f"
          },
          "geo": {
           "bgcolor": "white",
           "lakecolor": "white",
           "landcolor": "#E5ECF6",
           "showlakes": true,
           "showland": true,
           "subunitcolor": "white"
          },
          "hoverlabel": {
           "align": "left"
          },
          "hovermode": "closest",
          "mapbox": {
           "style": "light"
          },
          "paper_bgcolor": "white",
          "plot_bgcolor": "#E5ECF6",
          "polar": {
           "angularaxis": {
            "gridcolor": "white",
            "linecolor": "white",
            "ticks": ""
           },
           "bgcolor": "#E5ECF6",
           "radialaxis": {
            "gridcolor": "white",
            "linecolor": "white",
            "ticks": ""
           }
          },
          "scene": {
           "xaxis": {
            "backgroundcolor": "#E5ECF6",
            "gridcolor": "white",
            "gridwidth": 2,
            "linecolor": "white",
            "showbackground": true,
            "ticks": "",
            "zerolinecolor": "white"
           },
           "yaxis": {
            "backgroundcolor": "#E5ECF6",
            "gridcolor": "white",
            "gridwidth": 2,
            "linecolor": "white",
            "showbackground": true,
            "ticks": "",
            "zerolinecolor": "white"
           },
           "zaxis": {
            "backgroundcolor": "#E5ECF6",
            "gridcolor": "white",
            "gridwidth": 2,
            "linecolor": "white",
            "showbackground": true,
            "ticks": "",
            "zerolinecolor": "white"
           }
          },
          "shapedefaults": {
           "line": {
            "color": "#2a3f5f"
           }
          },
          "ternary": {
           "aaxis": {
            "gridcolor": "white",
            "linecolor": "white",
            "ticks": ""
           },
           "baxis": {
            "gridcolor": "white",
            "linecolor": "white",
            "ticks": ""
           },
           "bgcolor": "#E5ECF6",
           "caxis": {
            "gridcolor": "white",
            "linecolor": "white",
            "ticks": ""
           }
          },
          "title": {
           "x": 0.05
          },
          "xaxis": {
           "automargin": true,
           "gridcolor": "white",
           "linecolor": "white",
           "ticks": "",
           "title": {
            "standoff": 15
           },
           "zerolinecolor": "white",
           "zerolinewidth": 2
          },
          "yaxis": {
           "automargin": true,
           "gridcolor": "white",
           "linecolor": "white",
           "ticks": "",
           "title": {
            "standoff": 15
           },
           "zerolinecolor": "white",
           "zerolinewidth": 2
          }
         }
        },
        "width": 600,
        "xaxis": {
         "anchor": "y",
         "domain": [
          0,
          1
         ],
         "title": {
          "text": "PC 2 (32.4%)"
         }
        },
        "yaxis": {
         "anchor": "x",
         "domain": [
          0,
          1
         ],
         "title": {
          "text": "PC 3 (3.3%)"
         }
        }
       }
      },
      "text/html": [
       "<div>                            <div id=\"b9c3697d-ef3f-4317-9ac1-474bc8f5e4f8\" class=\"plotly-graph-div\" style=\"height:600px; width:600px;\"></div>            <script type=\"text/javascript\">                require([\"plotly\"], function(Plotly) {                    window.PLOTLYENV=window.PLOTLYENV || {};                                    if (document.getElementById(\"b9c3697d-ef3f-4317-9ac1-474bc8f5e4f8\")) {                    Plotly.newPlot(                        \"b9c3697d-ef3f-4317-9ac1-474bc8f5e4f8\",                        [{\"hovertemplate\":\"color=A<br>symbol=Intron<br>1=%{x}<br>2=%{y}<extra></extra>\",\"legendgroup\":\"A, Intron\",\"marker\":{\"color\":\"#636efa\",\"symbol\":\"circle\",\"size\":13},\"mode\":\"markers\",\"name\":\"A, Intron\",\"orientation\":\"v\",\"showlegend\":true,\"x\":[1.977785348663021,3.2371250650848453,1.5541679980611167,0.5273796420921905,-0.2280371800444913,-0.7034196515337326,-1.446297216741375,-1.2326124658506479,-1.612713710773884,-1.7287835468929018,-0.33499803343948403,1.154321399009189],\"xaxis\":\"x\",\"y\":[-0.5291642822906555,0.4150452985273073,-0.04166421043030467,-0.37100117486843914,-0.4478290294058766,-0.36454433421254034,-0.04819498520566945,0.5110638946542116,0.9896874756597953,0.4544499308536328,-0.8729307670413335,-0.609319635988455],\"yaxis\":\"y\",\"type\":\"scatter\"},{\"hovertemplate\":\"color=B<br>symbol=Intron<br>1=%{x}<br>2=%{y}<extra></extra>\",\"legendgroup\":\"B, Intron\",\"marker\":{\"color\":\"#EF553B\",\"symbol\":\"circle\",\"size\":13},\"mode\":\"markers\",\"name\":\"B, Intron\",\"orientation\":\"v\",\"showlegend\":true,\"x\":[3.156847433816525,0.9273405606289189,2.8134872632655097,0.5048065879207781,-1.0662920748350098,-0.6905366730747174,-1.350993986929827,-1.60905300793263,-1.3012469313897526,-1.2370336714768457,-0.14535493794649398,0.8759007184570285],\"xaxis\":\"x\",\"y\":[0.404320728373145,0.8254999404240485,0.47812193836050454,-0.5002929673325589,-0.3559408733905678,-0.383663881949797,-0.25501910696781616,0.4721359136811502,0.3825593191950016,-0.07621076740319987,-0.9599233428236782,-0.6866396424455762],\"yaxis\":\"y\",\"type\":\"scatter\"},{\"hovertemplate\":\"color=C<br>symbol=Intron<br>1=%{x}<br>2=%{y}<extra></extra>\",\"legendgroup\":\"C, Intron\",\"marker\":{\"color\":\"#00cc96\",\"symbol\":\"circle\",\"size\":13},\"mode\":\"markers\",\"name\":\"C, Intron\",\"orientation\":\"v\",\"showlegend\":true,\"x\":[3.8298691419930635,2.436527017753405,0.40359925488375953,0.1494859787969397,-0.9299948573525183,-1.2518763919892864,-1.2925262170670215,-1.3180833222047719,-1.5209679208141844,-1.0809868158273812,-1.3618907794434083,-0.34921860349340006],\"xaxis\":\"x\",\"y\":[0.18281472873472482,0.17975979652799218,-0.49049104016198974,-0.5155923663840003,-0.35074248291878507,-0.1509750227719996,-0.3557381582168497,0.20997511987669018,0.9394677458899166,0.29814622662591217,0.1962556032900611,-0.8995684347947508],\"yaxis\":\"y\",\"type\":\"scatter\"},{\"hovertemplate\":\"color=D<br>symbol=Intron<br>1=%{x}<br>2=%{y}<extra></extra>\",\"legendgroup\":\"D, Intron\",\"marker\":{\"color\":\"#ab63fa\",\"symbol\":\"circle\",\"size\":13},\"mode\":\"markers\",\"name\":\"D, Intron\",\"orientation\":\"v\",\"showlegend\":true,\"x\":[3.757474328551392,1.4385435349091227,2.3189307771271293,0.521569846848206,-0.1819635488497864,-0.747748106944352,-1.3861189458870016,-1.349833597329759,-1.6041723173128861,-1.4129681223100337,-1.1685819337308083,0.05914267155625273],\"xaxis\":\"x\",\"y\":[0.7362366076827731,0.10835541699811242,0.3636208771809814,-0.4865157383201035,-0.44956408545763243,-0.41867298116602286,0.12228587060880987,0.3515463372478551,0.4634289728054266,0.7378261002986833,0.7505312808353372,0.04706418761652104],\"yaxis\":\"y\",\"type\":\"scatter\"}],                        {\"template\":{\"data\":{\"histogram2dcontour\":[{\"type\":\"histogram2dcontour\",\"colorbar\":{\"outlinewidth\":0,\"ticks\":\"\"},\"colorscale\":[[0.0,\"#0d0887\"],[0.1111111111111111,\"#46039f\"],[0.2222222222222222,\"#7201a8\"],[0.3333333333333333,\"#9c179e\"],[0.4444444444444444,\"#bd3786\"],[0.5555555555555556,\"#d8576b\"],[0.6666666666666666,\"#ed7953\"],[0.7777777777777778,\"#fb9f3a\"],[0.8888888888888888,\"#fdca26\"],[1.0,\"#f0f921\"]]}],\"choropleth\":[{\"type\":\"choropleth\",\"colorbar\":{\"outlinewidth\":0,\"ticks\":\"\"}}],\"histogram2d\":[{\"type\":\"histogram2d\",\"colorbar\":{\"outlinewidth\":0,\"ticks\":\"\"},\"colorscale\":[[0.0,\"#0d0887\"],[0.1111111111111111,\"#46039f\"],[0.2222222222222222,\"#7201a8\"],[0.3333333333333333,\"#9c179e\"],[0.4444444444444444,\"#bd3786\"],[0.5555555555555556,\"#d8576b\"],[0.6666666666666666,\"#ed7953\"],[0.7777777777777778,\"#fb9f3a\"],[0.8888888888888888,\"#fdca26\"],[1.0,\"#f0f921\"]]}],\"heatmap\":[{\"type\":\"heatmap\",\"colorbar\":{\"outlinewidth\":0,\"ticks\":\"\"},\"colorscale\":[[0.0,\"#0d0887\"],[0.1111111111111111,\"#46039f\"],[0.2222222222222222,\"#7201a8\"],[0.3333333333333333,\"#9c179e\"],[0.4444444444444444,\"#bd3786\"],[0.5555555555555556,\"#d8576b\"],[0.6666666666666666,\"#ed7953\"],[0.7777777777777778,\"#fb9f3a\"],[0.8888888888888888,\"#fdca26\"],[1.0,\"#f0f921\"]]}],\"heatmapgl\":[{\"type\":\"heatmapgl\",\"colorbar\":{\"outlinewidth\":0,\"ticks\":\"\"},\"colorscale\":[[0.0,\"#0d0887\"],[0.1111111111111111,\"#46039f\"],[0.2222222222222222,\"#7201a8\"],[0.3333333333333333,\"#9c179e\"],[0.4444444444444444,\"#bd3786\"],[0.5555555555555556,\"#d8576b\"],[0.6666666666666666,\"#ed7953\"],[0.7777777777777778,\"#fb9f3a\"],[0.8888888888888888,\"#fdca26\"],[1.0,\"#f0f921\"]]}],\"contourcarpet\":[{\"type\":\"contourcarpet\",\"colorbar\":{\"outlinewidth\":0,\"ticks\":\"\"}}],\"contour\":[{\"type\":\"contour\",\"colorbar\":{\"outlinewidth\":0,\"ticks\":\"\"},\"colorscale\":[[0.0,\"#0d0887\"],[0.1111111111111111,\"#46039f\"],[0.2222222222222222,\"#7201a8\"],[0.3333333333333333,\"#9c179e\"],[0.4444444444444444,\"#bd3786\"],[0.5555555555555556,\"#d8576b\"],[0.6666666666666666,\"#ed7953\"],[0.7777777777777778,\"#fb9f3a\"],[0.8888888888888888,\"#fdca26\"],[1.0,\"#f0f921\"]]}],\"surface\":[{\"type\":\"surface\",\"colorbar\":{\"outlinewidth\":0,\"ticks\":\"\"},\"colorscale\":[[0.0,\"#0d0887\"],[0.1111111111111111,\"#46039f\"],[0.2222222222222222,\"#7201a8\"],[0.3333333333333333,\"#9c179e\"],[0.4444444444444444,\"#bd3786\"],[0.5555555555555556,\"#d8576b\"],[0.6666666666666666,\"#ed7953\"],[0.7777777777777778,\"#fb9f3a\"],[0.8888888888888888,\"#fdca26\"],[1.0,\"#f0f921\"]]}],\"mesh3d\":[{\"type\":\"mesh3d\",\"colorbar\":{\"outlinewidth\":0,\"ticks\":\"\"}}],\"scatter\":[{\"fillpattern\":{\"fillmode\":\"overlay\",\"size\":10,\"solidity\":0.2},\"type\":\"scatter\"}],\"parcoords\":[{\"type\":\"parcoords\",\"line\":{\"colorbar\":{\"outlinewidth\":0,\"ticks\":\"\"}}}],\"scatterpolargl\":[{\"type\":\"scatterpolargl\",\"marker\":{\"colorbar\":{\"outlinewidth\":0,\"ticks\":\"\"}}}],\"bar\":[{\"error_x\":{\"color\":\"#2a3f5f\"},\"error_y\":{\"color\":\"#2a3f5f\"},\"marker\":{\"line\":{\"color\":\"#E5ECF6\",\"width\":0.5},\"pattern\":{\"fillmode\":\"overlay\",\"size\":10,\"solidity\":0.2}},\"type\":\"bar\"}],\"scattergeo\":[{\"type\":\"scattergeo\",\"marker\":{\"colorbar\":{\"outlinewidth\":0,\"ticks\":\"\"}}}],\"scatterpolar\":[{\"type\":\"scatterpolar\",\"marker\":{\"colorbar\":{\"outlinewidth\":0,\"ticks\":\"\"}}}],\"histogram\":[{\"marker\":{\"pattern\":{\"fillmode\":\"overlay\",\"size\":10,\"solidity\":0.2}},\"type\":\"histogram\"}],\"scattergl\":[{\"type\":\"scattergl\",\"marker\":{\"colorbar\":{\"outlinewidth\":0,\"ticks\":\"\"}}}],\"scatter3d\":[{\"type\":\"scatter3d\",\"line\":{\"colorbar\":{\"outlinewidth\":0,\"ticks\":\"\"}},\"marker\":{\"colorbar\":{\"outlinewidth\":0,\"ticks\":\"\"}}}],\"scattermapbox\":[{\"type\":\"scattermapbox\",\"marker\":{\"colorbar\":{\"outlinewidth\":0,\"ticks\":\"\"}}}],\"scatterternary\":[{\"type\":\"scatterternary\",\"marker\":{\"colorbar\":{\"outlinewidth\":0,\"ticks\":\"\"}}}],\"scattercarpet\":[{\"type\":\"scattercarpet\",\"marker\":{\"colorbar\":{\"outlinewidth\":0,\"ticks\":\"\"}}}],\"carpet\":[{\"aaxis\":{\"endlinecolor\":\"#2a3f5f\",\"gridcolor\":\"white\",\"linecolor\":\"white\",\"minorgridcolor\":\"white\",\"startlinecolor\":\"#2a3f5f\"},\"baxis\":{\"endlinecolor\":\"#2a3f5f\",\"gridcolor\":\"white\",\"linecolor\":\"white\",\"minorgridcolor\":\"white\",\"startlinecolor\":\"#2a3f5f\"},\"type\":\"carpet\"}],\"table\":[{\"cells\":{\"fill\":{\"color\":\"#EBF0F8\"},\"line\":{\"color\":\"white\"}},\"header\":{\"fill\":{\"color\":\"#C8D4E3\"},\"line\":{\"color\":\"white\"}},\"type\":\"table\"}],\"barpolar\":[{\"marker\":{\"line\":{\"color\":\"#E5ECF6\",\"width\":0.5},\"pattern\":{\"fillmode\":\"overlay\",\"size\":10,\"solidity\":0.2}},\"type\":\"barpolar\"}],\"pie\":[{\"automargin\":true,\"type\":\"pie\"}]},\"layout\":{\"autotypenumbers\":\"strict\",\"colorway\":[\"#636efa\",\"#EF553B\",\"#00cc96\",\"#ab63fa\",\"#FFA15A\",\"#19d3f3\",\"#FF6692\",\"#B6E880\",\"#FF97FF\",\"#FECB52\"],\"font\":{\"color\":\"#2a3f5f\"},\"hovermode\":\"closest\",\"hoverlabel\":{\"align\":\"left\"},\"paper_bgcolor\":\"white\",\"plot_bgcolor\":\"#E5ECF6\",\"polar\":{\"bgcolor\":\"#E5ECF6\",\"angularaxis\":{\"gridcolor\":\"white\",\"linecolor\":\"white\",\"ticks\":\"\"},\"radialaxis\":{\"gridcolor\":\"white\",\"linecolor\":\"white\",\"ticks\":\"\"}},\"ternary\":{\"bgcolor\":\"#E5ECF6\",\"aaxis\":{\"gridcolor\":\"white\",\"linecolor\":\"white\",\"ticks\":\"\"},\"baxis\":{\"gridcolor\":\"white\",\"linecolor\":\"white\",\"ticks\":\"\"},\"caxis\":{\"gridcolor\":\"white\",\"linecolor\":\"white\",\"ticks\":\"\"}},\"coloraxis\":{\"colorbar\":{\"outlinewidth\":0,\"ticks\":\"\"}},\"colorscale\":{\"sequential\":[[0.0,\"#0d0887\"],[0.1111111111111111,\"#46039f\"],[0.2222222222222222,\"#7201a8\"],[0.3333333333333333,\"#9c179e\"],[0.4444444444444444,\"#bd3786\"],[0.5555555555555556,\"#d8576b\"],[0.6666666666666666,\"#ed7953\"],[0.7777777777777778,\"#fb9f3a\"],[0.8888888888888888,\"#fdca26\"],[1.0,\"#f0f921\"]],\"sequentialminus\":[[0.0,\"#0d0887\"],[0.1111111111111111,\"#46039f\"],[0.2222222222222222,\"#7201a8\"],[0.3333333333333333,\"#9c179e\"],[0.4444444444444444,\"#bd3786\"],[0.5555555555555556,\"#d8576b\"],[0.6666666666666666,\"#ed7953\"],[0.7777777777777778,\"#fb9f3a\"],[0.8888888888888888,\"#fdca26\"],[1.0,\"#f0f921\"]],\"diverging\":[[0,\"#8e0152\"],[0.1,\"#c51b7d\"],[0.2,\"#de77ae\"],[0.3,\"#f1b6da\"],[0.4,\"#fde0ef\"],[0.5,\"#f7f7f7\"],[0.6,\"#e6f5d0\"],[0.7,\"#b8e186\"],[0.8,\"#7fbc41\"],[0.9,\"#4d9221\"],[1,\"#276419\"]]},\"xaxis\":{\"gridcolor\":\"white\",\"linecolor\":\"white\",\"ticks\":\"\",\"title\":{\"standoff\":15},\"zerolinecolor\":\"white\",\"automargin\":true,\"zerolinewidth\":2},\"yaxis\":{\"gridcolor\":\"white\",\"linecolor\":\"white\",\"ticks\":\"\",\"title\":{\"standoff\":15},\"zerolinecolor\":\"white\",\"automargin\":true,\"zerolinewidth\":2},\"scene\":{\"xaxis\":{\"backgroundcolor\":\"#E5ECF6\",\"gridcolor\":\"white\",\"linecolor\":\"white\",\"showbackground\":true,\"ticks\":\"\",\"zerolinecolor\":\"white\",\"gridwidth\":2},\"yaxis\":{\"backgroundcolor\":\"#E5ECF6\",\"gridcolor\":\"white\",\"linecolor\":\"white\",\"showbackground\":true,\"ticks\":\"\",\"zerolinecolor\":\"white\",\"gridwidth\":2},\"zaxis\":{\"backgroundcolor\":\"#E5ECF6\",\"gridcolor\":\"white\",\"linecolor\":\"white\",\"showbackground\":true,\"ticks\":\"\",\"zerolinecolor\":\"white\",\"gridwidth\":2}},\"shapedefaults\":{\"line\":{\"color\":\"#2a3f5f\"}},\"annotationdefaults\":{\"arrowcolor\":\"#2a3f5f\",\"arrowhead\":0,\"arrowwidth\":1},\"geo\":{\"bgcolor\":\"white\",\"landcolor\":\"#E5ECF6\",\"subunitcolor\":\"white\",\"showland\":true,\"showlakes\":true,\"lakecolor\":\"white\"},\"title\":{\"x\":0.05},\"mapbox\":{\"style\":\"light\"}}},\"xaxis\":{\"anchor\":\"y\",\"domain\":[0.0,1.0],\"title\":{\"text\":\"PC 2 (32.4%)\"}},\"yaxis\":{\"anchor\":\"x\",\"domain\":[0.0,1.0],\"title\":{\"text\":\"PC 3 (3.3%)\"}},\"legend\":{\"title\":{\"text\":\"color, symbol\"},\"tracegroupgap\":0},\"margin\":{\"t\":60},\"height\":600,\"width\":600,\"plot_bgcolor\":\"rgb(243,243,243)\"},                        {\"responsive\": true}                    ).then(function(){\n",
       "                            \n",
       "var gd = document.getElementById('b9c3697d-ef3f-4317-9ac1-474bc8f5e4f8');\n",
       "var x = new MutationObserver(function (mutations, observer) {{\n",
       "        var display = window.getComputedStyle(gd).display;\n",
       "        if (!display || display === 'none') {{\n",
       "            console.log([gd, 'removed!']);\n",
       "            Plotly.purge(gd);\n",
       "            observer.disconnect();\n",
       "        }}\n",
       "}});\n",
       "\n",
       "// Listen for the removal of the full notebook cells\n",
       "var notebookContainer = gd.closest('#notebook-container');\n",
       "if (notebookContainer) {{\n",
       "    x.observe(notebookContainer, {childList: true});\n",
       "}}\n",
       "\n",
       "// Listen for the clearing of the current output cell\n",
       "var outputEl = gd.closest('.output');\n",
       "if (outputEl) {{\n",
       "    x.observe(outputEl, {childList: true});\n",
       "}}\n",
       "\n",
       "                        })                };                });            </script>        </div>"
      ]
     },
     "metadata": {},
     "output_type": "display_data"
    },
    {
     "data": {
      "application/vnd.plotly.v1+json": {
       "config": {
        "plotlyServerURL": "https://plot.ly"
       },
       "data": [
        {
         "hovertemplate": "color=00<br>symbol=WT<br>2=%{x}<br>3=%{y}<extra></extra>",
         "legendgroup": "00, WT",
         "marker": {
          "color": "#636efa",
          "size": 13,
          "symbol": "circle"
         },
         "mode": "markers",
         "name": "00, WT",
         "orientation": "v",
         "showlegend": true,
         "type": "scatter",
         "x": [
          -0.5291642822906555,
          0.404320728373145,
          0.18281472873472482,
          0.7362366076827731
         ],
         "xaxis": "x",
         "y": [
          -0.014091648717270738,
          -0.11669250999597648,
          0.06841047019575273,
          0.19254734190318656
         ],
         "yaxis": "y"
        },
        {
         "hovertemplate": "color=02<br>symbol=WT<br>2=%{x}<br>3=%{y}<extra></extra>",
         "legendgroup": "02, WT",
         "marker": {
          "color": "#EF553B",
          "size": 13,
          "symbol": "circle"
         },
         "mode": "markers",
         "name": "02, WT",
         "orientation": "v",
         "showlegend": true,
         "type": "scatter",
         "x": [
          0.4150452985273073,
          0.8254999404240485,
          0.17975979652799218,
          0.10835541699811242
         ],
         "xaxis": "x",
         "y": [
          0.6193362062496327,
          1.2962769892737247,
          -0.23093649099065863,
          -0.3520307389095446
         ],
         "yaxis": "y"
        },
        {
         "hovertemplate": "color=04<br>symbol=WT<br>2=%{x}<br>3=%{y}<extra></extra>",
         "legendgroup": "04, WT",
         "marker": {
          "color": "#00cc96",
          "size": 13,
          "symbol": "circle"
         },
         "mode": "markers",
         "name": "04, WT",
         "orientation": "v",
         "showlegend": true,
         "type": "scatter",
         "x": [
          -0.04166421043030467,
          0.47812193836050454,
          -0.49049104016198974,
          0.3636208771809814
         ],
         "xaxis": "x",
         "y": [
          -0.5378728286429264,
          -0.2496752240995096,
          -0.3504860950985119,
          -0.5356084569861073
         ],
         "yaxis": "y"
        },
        {
         "hovertemplate": "color=06<br>symbol=WT<br>2=%{x}<br>3=%{y}<extra></extra>",
         "legendgroup": "06, WT",
         "marker": {
          "color": "#ab63fa",
          "size": 13,
          "symbol": "circle"
         },
         "mode": "markers",
         "name": "06, WT",
         "orientation": "v",
         "showlegend": true,
         "type": "scatter",
         "x": [
          -0.37100117486843914,
          -0.5002929673325589,
          -0.5155923663840003,
          -0.4865157383201035
         ],
         "xaxis": "x",
         "y": [
          -0.39685930080160875,
          -0.4215132256211728,
          -0.21805558682729684,
          -0.4943112237722788
         ],
         "yaxis": "y"
        },
        {
         "hovertemplate": "color=08<br>symbol=WT<br>2=%{x}<br>3=%{y}<extra></extra>",
         "legendgroup": "08, WT",
         "marker": {
          "color": "#FFA15A",
          "size": 13,
          "symbol": "circle"
         },
         "mode": "markers",
         "name": "08, WT",
         "orientation": "v",
         "showlegend": true,
         "type": "scatter",
         "x": [
          -0.4478290294058766,
          -0.3559408733905678,
          -0.35074248291878507,
          -0.44956408545763243
         ],
         "xaxis": "x",
         "y": [
          0.14574269399429193,
          0.23991555551625288,
          0.381057954755588,
          0.1769822148553603
         ],
         "yaxis": "y"
        },
        {
         "hovertemplate": "color=10<br>symbol=WT<br>2=%{x}<br>3=%{y}<extra></extra>",
         "legendgroup": "10, WT",
         "marker": {
          "color": "#19d3f3",
          "size": 13,
          "symbol": "circle"
         },
         "mode": "markers",
         "name": "10, WT",
         "orientation": "v",
         "showlegend": true,
         "type": "scatter",
         "x": [
          -0.36454433421254034,
          -0.383663881949797,
          -0.1509750227719996,
          -0.41867298116602286
         ],
         "xaxis": "x",
         "y": [
          0.38546983460545775,
          0.3603464613849015,
          0.13919229661010657,
          0.5352522604527024
         ],
         "yaxis": "y"
        },
        {
         "hovertemplate": "color=12<br>symbol=WT<br>2=%{x}<br>3=%{y}<extra></extra>",
         "legendgroup": "12, WT",
         "marker": {
          "color": "#FF6692",
          "size": 13,
          "symbol": "circle"
         },
         "mode": "markers",
         "name": "12, WT",
         "orientation": "v",
         "showlegend": true,
         "type": "scatter",
         "x": [
          -0.04819498520566945,
          -0.25501910696781616,
          -0.3557381582168497,
          0.12228587060880987
         ],
         "xaxis": "x",
         "y": [
          0.133291228799451,
          0.36253216405348754,
          0.43265426445219857,
          0.09092938957040325
         ],
         "yaxis": "y"
        },
        {
         "hovertemplate": "color=14<br>symbol=WT<br>2=%{x}<br>3=%{y}<extra></extra>",
         "legendgroup": "14, WT",
         "marker": {
          "color": "#B6E880",
          "size": 13,
          "symbol": "circle"
         },
         "mode": "markers",
         "name": "14, WT",
         "orientation": "v",
         "showlegend": true,
         "type": "scatter",
         "x": [
          0.5110638946542116,
          0.4721359136811502,
          0.20997511987669018,
          0.3515463372478551
         ],
         "xaxis": "x",
         "y": [
          0.20195039338551612,
          -0.6755560167427662,
          -0.008635402734533516,
          -0.8935545887940988
         ],
         "yaxis": "y"
        },
        {
         "hovertemplate": "color=16<br>symbol=WT<br>2=%{x}<br>3=%{y}<extra></extra>",
         "legendgroup": "16, WT",
         "marker": {
          "color": "#FF97FF",
          "size": 13,
          "symbol": "circle"
         },
         "mode": "markers",
         "name": "16, WT",
         "orientation": "v",
         "showlegend": true,
         "type": "scatter",
         "x": [
          0.9896874756597953,
          0.3825593191950016,
          0.9394677458899166,
          0.4634289728054266
         ],
         "xaxis": "x",
         "y": [
          0.3878947550444536,
          -1.1029869435017077,
          0.3854714021038722,
          -0.5262571600550506
         ],
         "yaxis": "y"
        },
        {
         "hovertemplate": "color=18<br>symbol=WT<br>2=%{x}<br>3=%{y}<extra></extra>",
         "legendgroup": "18, WT",
         "marker": {
          "color": "#FECB52",
          "size": 13,
          "symbol": "circle"
         },
         "mode": "markers",
         "name": "18, WT",
         "orientation": "v",
         "showlegend": true,
         "type": "scatter",
         "x": [
          0.4544499308536328,
          -0.07621076740319987,
          0.29814622662591217,
          0.7378261002986833
         ],
         "xaxis": "x",
         "y": [
          -0.07072956510987458,
          -0.28251521398274054,
          -0.5641284835892701,
          -0.09707398440803493
         ],
         "yaxis": "y"
        },
        {
         "hovertemplate": "color=20<br>symbol=WT<br>2=%{x}<br>3=%{y}<extra></extra>",
         "legendgroup": "20, WT",
         "marker": {
          "color": "#636efa",
          "size": 13,
          "symbol": "circle"
         },
         "mode": "markers",
         "name": "20, WT",
         "orientation": "v",
         "showlegend": true,
         "type": "scatter",
         "x": [
          -0.8729307670413335,
          -0.9599233428236782,
          0.1962556032900611,
          0.7505312808353372
         ],
         "xaxis": "x",
         "y": [
          -0.11065254674107884,
          0.045265572539317296,
          0.1825257119834791,
          0.8178270574123656
         ],
         "yaxis": "y"
        },
        {
         "hovertemplate": "color=22<br>symbol=WT<br>2=%{x}<br>3=%{y}<extra></extra>",
         "legendgroup": "22, WT",
         "marker": {
          "color": "#EF553B",
          "size": 13,
          "symbol": "circle"
         },
         "mode": "markers",
         "name": "22, WT",
         "orientation": "v",
         "showlegend": true,
         "type": "scatter",
         "x": [
          -0.609319635988455,
          -0.6866396424455762,
          -0.8995684347947508,
          0.04706418761652104
         ],
         "xaxis": "x",
         "y": [
          0.30265151831055487,
          0.6967637592926392,
          0.15452196083971298,
          -0.48458622146238856
         ],
         "yaxis": "y"
        }
       ],
       "layout": {
        "height": 600,
        "legend": {
         "title": {
          "text": "color, symbol"
         },
         "tracegroupgap": 0
        },
        "margin": {
         "t": 60
        },
        "plot_bgcolor": "rgb(243,243,243)",
        "template": {
         "data": {
          "bar": [
           {
            "error_x": {
             "color": "#2a3f5f"
            },
            "error_y": {
             "color": "#2a3f5f"
            },
            "marker": {
             "line": {
              "color": "#E5ECF6",
              "width": 0.5
             },
             "pattern": {
              "fillmode": "overlay",
              "size": 10,
              "solidity": 0.2
             }
            },
            "type": "bar"
           }
          ],
          "barpolar": [
           {
            "marker": {
             "line": {
              "color": "#E5ECF6",
              "width": 0.5
             },
             "pattern": {
              "fillmode": "overlay",
              "size": 10,
              "solidity": 0.2
             }
            },
            "type": "barpolar"
           }
          ],
          "carpet": [
           {
            "aaxis": {
             "endlinecolor": "#2a3f5f",
             "gridcolor": "white",
             "linecolor": "white",
             "minorgridcolor": "white",
             "startlinecolor": "#2a3f5f"
            },
            "baxis": {
             "endlinecolor": "#2a3f5f",
             "gridcolor": "white",
             "linecolor": "white",
             "minorgridcolor": "white",
             "startlinecolor": "#2a3f5f"
            },
            "type": "carpet"
           }
          ],
          "choropleth": [
           {
            "colorbar": {
             "outlinewidth": 0,
             "ticks": ""
            },
            "type": "choropleth"
           }
          ],
          "contour": [
           {
            "colorbar": {
             "outlinewidth": 0,
             "ticks": ""
            },
            "colorscale": [
             [
              0,
              "#0d0887"
             ],
             [
              0.1111111111111111,
              "#46039f"
             ],
             [
              0.2222222222222222,
              "#7201a8"
             ],
             [
              0.3333333333333333,
              "#9c179e"
             ],
             [
              0.4444444444444444,
              "#bd3786"
             ],
             [
              0.5555555555555556,
              "#d8576b"
             ],
             [
              0.6666666666666666,
              "#ed7953"
             ],
             [
              0.7777777777777778,
              "#fb9f3a"
             ],
             [
              0.8888888888888888,
              "#fdca26"
             ],
             [
              1,
              "#f0f921"
             ]
            ],
            "type": "contour"
           }
          ],
          "contourcarpet": [
           {
            "colorbar": {
             "outlinewidth": 0,
             "ticks": ""
            },
            "type": "contourcarpet"
           }
          ],
          "heatmap": [
           {
            "colorbar": {
             "outlinewidth": 0,
             "ticks": ""
            },
            "colorscale": [
             [
              0,
              "#0d0887"
             ],
             [
              0.1111111111111111,
              "#46039f"
             ],
             [
              0.2222222222222222,
              "#7201a8"
             ],
             [
              0.3333333333333333,
              "#9c179e"
             ],
             [
              0.4444444444444444,
              "#bd3786"
             ],
             [
              0.5555555555555556,
              "#d8576b"
             ],
             [
              0.6666666666666666,
              "#ed7953"
             ],
             [
              0.7777777777777778,
              "#fb9f3a"
             ],
             [
              0.8888888888888888,
              "#fdca26"
             ],
             [
              1,
              "#f0f921"
             ]
            ],
            "type": "heatmap"
           }
          ],
          "heatmapgl": [
           {
            "colorbar": {
             "outlinewidth": 0,
             "ticks": ""
            },
            "colorscale": [
             [
              0,
              "#0d0887"
             ],
             [
              0.1111111111111111,
              "#46039f"
             ],
             [
              0.2222222222222222,
              "#7201a8"
             ],
             [
              0.3333333333333333,
              "#9c179e"
             ],
             [
              0.4444444444444444,
              "#bd3786"
             ],
             [
              0.5555555555555556,
              "#d8576b"
             ],
             [
              0.6666666666666666,
              "#ed7953"
             ],
             [
              0.7777777777777778,
              "#fb9f3a"
             ],
             [
              0.8888888888888888,
              "#fdca26"
             ],
             [
              1,
              "#f0f921"
             ]
            ],
            "type": "heatmapgl"
           }
          ],
          "histogram": [
           {
            "marker": {
             "pattern": {
              "fillmode": "overlay",
              "size": 10,
              "solidity": 0.2
             }
            },
            "type": "histogram"
           }
          ],
          "histogram2d": [
           {
            "colorbar": {
             "outlinewidth": 0,
             "ticks": ""
            },
            "colorscale": [
             [
              0,
              "#0d0887"
             ],
             [
              0.1111111111111111,
              "#46039f"
             ],
             [
              0.2222222222222222,
              "#7201a8"
             ],
             [
              0.3333333333333333,
              "#9c179e"
             ],
             [
              0.4444444444444444,
              "#bd3786"
             ],
             [
              0.5555555555555556,
              "#d8576b"
             ],
             [
              0.6666666666666666,
              "#ed7953"
             ],
             [
              0.7777777777777778,
              "#fb9f3a"
             ],
             [
              0.8888888888888888,
              "#fdca26"
             ],
             [
              1,
              "#f0f921"
             ]
            ],
            "type": "histogram2d"
           }
          ],
          "histogram2dcontour": [
           {
            "colorbar": {
             "outlinewidth": 0,
             "ticks": ""
            },
            "colorscale": [
             [
              0,
              "#0d0887"
             ],
             [
              0.1111111111111111,
              "#46039f"
             ],
             [
              0.2222222222222222,
              "#7201a8"
             ],
             [
              0.3333333333333333,
              "#9c179e"
             ],
             [
              0.4444444444444444,
              "#bd3786"
             ],
             [
              0.5555555555555556,
              "#d8576b"
             ],
             [
              0.6666666666666666,
              "#ed7953"
             ],
             [
              0.7777777777777778,
              "#fb9f3a"
             ],
             [
              0.8888888888888888,
              "#fdca26"
             ],
             [
              1,
              "#f0f921"
             ]
            ],
            "type": "histogram2dcontour"
           }
          ],
          "mesh3d": [
           {
            "colorbar": {
             "outlinewidth": 0,
             "ticks": ""
            },
            "type": "mesh3d"
           }
          ],
          "parcoords": [
           {
            "line": {
             "colorbar": {
              "outlinewidth": 0,
              "ticks": ""
             }
            },
            "type": "parcoords"
           }
          ],
          "pie": [
           {
            "automargin": true,
            "type": "pie"
           }
          ],
          "scatter": [
           {
            "fillpattern": {
             "fillmode": "overlay",
             "size": 10,
             "solidity": 0.2
            },
            "type": "scatter"
           }
          ],
          "scatter3d": [
           {
            "line": {
             "colorbar": {
              "outlinewidth": 0,
              "ticks": ""
             }
            },
            "marker": {
             "colorbar": {
              "outlinewidth": 0,
              "ticks": ""
             }
            },
            "type": "scatter3d"
           }
          ],
          "scattercarpet": [
           {
            "marker": {
             "colorbar": {
              "outlinewidth": 0,
              "ticks": ""
             }
            },
            "type": "scattercarpet"
           }
          ],
          "scattergeo": [
           {
            "marker": {
             "colorbar": {
              "outlinewidth": 0,
              "ticks": ""
             }
            },
            "type": "scattergeo"
           }
          ],
          "scattergl": [
           {
            "marker": {
             "colorbar": {
              "outlinewidth": 0,
              "ticks": ""
             }
            },
            "type": "scattergl"
           }
          ],
          "scattermapbox": [
           {
            "marker": {
             "colorbar": {
              "outlinewidth": 0,
              "ticks": ""
             }
            },
            "type": "scattermapbox"
           }
          ],
          "scatterpolar": [
           {
            "marker": {
             "colorbar": {
              "outlinewidth": 0,
              "ticks": ""
             }
            },
            "type": "scatterpolar"
           }
          ],
          "scatterpolargl": [
           {
            "marker": {
             "colorbar": {
              "outlinewidth": 0,
              "ticks": ""
             }
            },
            "type": "scatterpolargl"
           }
          ],
          "scatterternary": [
           {
            "marker": {
             "colorbar": {
              "outlinewidth": 0,
              "ticks": ""
             }
            },
            "type": "scatterternary"
           }
          ],
          "surface": [
           {
            "colorbar": {
             "outlinewidth": 0,
             "ticks": ""
            },
            "colorscale": [
             [
              0,
              "#0d0887"
             ],
             [
              0.1111111111111111,
              "#46039f"
             ],
             [
              0.2222222222222222,
              "#7201a8"
             ],
             [
              0.3333333333333333,
              "#9c179e"
             ],
             [
              0.4444444444444444,
              "#bd3786"
             ],
             [
              0.5555555555555556,
              "#d8576b"
             ],
             [
              0.6666666666666666,
              "#ed7953"
             ],
             [
              0.7777777777777778,
              "#fb9f3a"
             ],
             [
              0.8888888888888888,
              "#fdca26"
             ],
             [
              1,
              "#f0f921"
             ]
            ],
            "type": "surface"
           }
          ],
          "table": [
           {
            "cells": {
             "fill": {
              "color": "#EBF0F8"
             },
             "line": {
              "color": "white"
             }
            },
            "header": {
             "fill": {
              "color": "#C8D4E3"
             },
             "line": {
              "color": "white"
             }
            },
            "type": "table"
           }
          ]
         },
         "layout": {
          "annotationdefaults": {
           "arrowcolor": "#2a3f5f",
           "arrowhead": 0,
           "arrowwidth": 1
          },
          "autotypenumbers": "strict",
          "coloraxis": {
           "colorbar": {
            "outlinewidth": 0,
            "ticks": ""
           }
          },
          "colorscale": {
           "diverging": [
            [
             0,
             "#8e0152"
            ],
            [
             0.1,
             "#c51b7d"
            ],
            [
             0.2,
             "#de77ae"
            ],
            [
             0.3,
             "#f1b6da"
            ],
            [
             0.4,
             "#fde0ef"
            ],
            [
             0.5,
             "#f7f7f7"
            ],
            [
             0.6,
             "#e6f5d0"
            ],
            [
             0.7,
             "#b8e186"
            ],
            [
             0.8,
             "#7fbc41"
            ],
            [
             0.9,
             "#4d9221"
            ],
            [
             1,
             "#276419"
            ]
           ],
           "sequential": [
            [
             0,
             "#0d0887"
            ],
            [
             0.1111111111111111,
             "#46039f"
            ],
            [
             0.2222222222222222,
             "#7201a8"
            ],
            [
             0.3333333333333333,
             "#9c179e"
            ],
            [
             0.4444444444444444,
             "#bd3786"
            ],
            [
             0.5555555555555556,
             "#d8576b"
            ],
            [
             0.6666666666666666,
             "#ed7953"
            ],
            [
             0.7777777777777778,
             "#fb9f3a"
            ],
            [
             0.8888888888888888,
             "#fdca26"
            ],
            [
             1,
             "#f0f921"
            ]
           ],
           "sequentialminus": [
            [
             0,
             "#0d0887"
            ],
            [
             0.1111111111111111,
             "#46039f"
            ],
            [
             0.2222222222222222,
             "#7201a8"
            ],
            [
             0.3333333333333333,
             "#9c179e"
            ],
            [
             0.4444444444444444,
             "#bd3786"
            ],
            [
             0.5555555555555556,
             "#d8576b"
            ],
            [
             0.6666666666666666,
             "#ed7953"
            ],
            [
             0.7777777777777778,
             "#fb9f3a"
            ],
            [
             0.8888888888888888,
             "#fdca26"
            ],
            [
             1,
             "#f0f921"
            ]
           ]
          },
          "colorway": [
           "#636efa",
           "#EF553B",
           "#00cc96",
           "#ab63fa",
           "#FFA15A",
           "#19d3f3",
           "#FF6692",
           "#B6E880",
           "#FF97FF",
           "#FECB52"
          ],
          "font": {
           "color": "#2a3f5f"
          },
          "geo": {
           "bgcolor": "white",
           "lakecolor": "white",
           "landcolor": "#E5ECF6",
           "showlakes": true,
           "showland": true,
           "subunitcolor": "white"
          },
          "hoverlabel": {
           "align": "left"
          },
          "hovermode": "closest",
          "mapbox": {
           "style": "light"
          },
          "paper_bgcolor": "white",
          "plot_bgcolor": "#E5ECF6",
          "polar": {
           "angularaxis": {
            "gridcolor": "white",
            "linecolor": "white",
            "ticks": ""
           },
           "bgcolor": "#E5ECF6",
           "radialaxis": {
            "gridcolor": "white",
            "linecolor": "white",
            "ticks": ""
           }
          },
          "scene": {
           "xaxis": {
            "backgroundcolor": "#E5ECF6",
            "gridcolor": "white",
            "gridwidth": 2,
            "linecolor": "white",
            "showbackground": true,
            "ticks": "",
            "zerolinecolor": "white"
           },
           "yaxis": {
            "backgroundcolor": "#E5ECF6",
            "gridcolor": "white",
            "gridwidth": 2,
            "linecolor": "white",
            "showbackground": true,
            "ticks": "",
            "zerolinecolor": "white"
           },
           "zaxis": {
            "backgroundcolor": "#E5ECF6",
            "gridcolor": "white",
            "gridwidth": 2,
            "linecolor": "white",
            "showbackground": true,
            "ticks": "",
            "zerolinecolor": "white"
           }
          },
          "shapedefaults": {
           "line": {
            "color": "#2a3f5f"
           }
          },
          "ternary": {
           "aaxis": {
            "gridcolor": "white",
            "linecolor": "white",
            "ticks": ""
           },
           "baxis": {
            "gridcolor": "white",
            "linecolor": "white",
            "ticks": ""
           },
           "bgcolor": "#E5ECF6",
           "caxis": {
            "gridcolor": "white",
            "linecolor": "white",
            "ticks": ""
           }
          },
          "title": {
           "x": 0.05
          },
          "xaxis": {
           "automargin": true,
           "gridcolor": "white",
           "linecolor": "white",
           "ticks": "",
           "title": {
            "standoff": 15
           },
           "zerolinecolor": "white",
           "zerolinewidth": 2
          },
          "yaxis": {
           "automargin": true,
           "gridcolor": "white",
           "linecolor": "white",
           "ticks": "",
           "title": {
            "standoff": 15
           },
           "zerolinecolor": "white",
           "zerolinewidth": 2
          }
         }
        },
        "width": 600,
        "xaxis": {
         "anchor": "y",
         "domain": [
          0,
          1
         ],
         "title": {
          "text": "PC 3 (3.3%)"
         }
        },
        "yaxis": {
         "anchor": "x",
         "domain": [
          0,
          1
         ],
         "title": {
          "text": "PC 4 (2.6%)"
         }
        }
       }
      },
      "text/html": [
       "<div>                            <div id=\"1c3f48f8-2628-4d8c-8922-cef858158f68\" class=\"plotly-graph-div\" style=\"height:600px; width:600px;\"></div>            <script type=\"text/javascript\">                require([\"plotly\"], function(Plotly) {                    window.PLOTLYENV=window.PLOTLYENV || {};                                    if (document.getElementById(\"1c3f48f8-2628-4d8c-8922-cef858158f68\")) {                    Plotly.newPlot(                        \"1c3f48f8-2628-4d8c-8922-cef858158f68\",                        [{\"hovertemplate\":\"color=00<br>symbol=WT<br>2=%{x}<br>3=%{y}<extra></extra>\",\"legendgroup\":\"00, WT\",\"marker\":{\"color\":\"#636efa\",\"symbol\":\"circle\",\"size\":13},\"mode\":\"markers\",\"name\":\"00, WT\",\"orientation\":\"v\",\"showlegend\":true,\"x\":[-0.5291642822906555,0.404320728373145,0.18281472873472482,0.7362366076827731],\"xaxis\":\"x\",\"y\":[-0.014091648717270738,-0.11669250999597648,0.06841047019575273,0.19254734190318656],\"yaxis\":\"y\",\"type\":\"scatter\"},{\"hovertemplate\":\"color=02<br>symbol=WT<br>2=%{x}<br>3=%{y}<extra></extra>\",\"legendgroup\":\"02, WT\",\"marker\":{\"color\":\"#EF553B\",\"symbol\":\"circle\",\"size\":13},\"mode\":\"markers\",\"name\":\"02, WT\",\"orientation\":\"v\",\"showlegend\":true,\"x\":[0.4150452985273073,0.8254999404240485,0.17975979652799218,0.10835541699811242],\"xaxis\":\"x\",\"y\":[0.6193362062496327,1.2962769892737247,-0.23093649099065863,-0.3520307389095446],\"yaxis\":\"y\",\"type\":\"scatter\"},{\"hovertemplate\":\"color=04<br>symbol=WT<br>2=%{x}<br>3=%{y}<extra></extra>\",\"legendgroup\":\"04, WT\",\"marker\":{\"color\":\"#00cc96\",\"symbol\":\"circle\",\"size\":13},\"mode\":\"markers\",\"name\":\"04, WT\",\"orientation\":\"v\",\"showlegend\":true,\"x\":[-0.04166421043030467,0.47812193836050454,-0.49049104016198974,0.3636208771809814],\"xaxis\":\"x\",\"y\":[-0.5378728286429264,-0.2496752240995096,-0.3504860950985119,-0.5356084569861073],\"yaxis\":\"y\",\"type\":\"scatter\"},{\"hovertemplate\":\"color=06<br>symbol=WT<br>2=%{x}<br>3=%{y}<extra></extra>\",\"legendgroup\":\"06, WT\",\"marker\":{\"color\":\"#ab63fa\",\"symbol\":\"circle\",\"size\":13},\"mode\":\"markers\",\"name\":\"06, WT\",\"orientation\":\"v\",\"showlegend\":true,\"x\":[-0.37100117486843914,-0.5002929673325589,-0.5155923663840003,-0.4865157383201035],\"xaxis\":\"x\",\"y\":[-0.39685930080160875,-0.4215132256211728,-0.21805558682729684,-0.4943112237722788],\"yaxis\":\"y\",\"type\":\"scatter\"},{\"hovertemplate\":\"color=08<br>symbol=WT<br>2=%{x}<br>3=%{y}<extra></extra>\",\"legendgroup\":\"08, WT\",\"marker\":{\"color\":\"#FFA15A\",\"symbol\":\"circle\",\"size\":13},\"mode\":\"markers\",\"name\":\"08, WT\",\"orientation\":\"v\",\"showlegend\":true,\"x\":[-0.4478290294058766,-0.3559408733905678,-0.35074248291878507,-0.44956408545763243],\"xaxis\":\"x\",\"y\":[0.14574269399429193,0.23991555551625288,0.381057954755588,0.1769822148553603],\"yaxis\":\"y\",\"type\":\"scatter\"},{\"hovertemplate\":\"color=10<br>symbol=WT<br>2=%{x}<br>3=%{y}<extra></extra>\",\"legendgroup\":\"10, WT\",\"marker\":{\"color\":\"#19d3f3\",\"symbol\":\"circle\",\"size\":13},\"mode\":\"markers\",\"name\":\"10, WT\",\"orientation\":\"v\",\"showlegend\":true,\"x\":[-0.36454433421254034,-0.383663881949797,-0.1509750227719996,-0.41867298116602286],\"xaxis\":\"x\",\"y\":[0.38546983460545775,0.3603464613849015,0.13919229661010657,0.5352522604527024],\"yaxis\":\"y\",\"type\":\"scatter\"},{\"hovertemplate\":\"color=12<br>symbol=WT<br>2=%{x}<br>3=%{y}<extra></extra>\",\"legendgroup\":\"12, WT\",\"marker\":{\"color\":\"#FF6692\",\"symbol\":\"circle\",\"size\":13},\"mode\":\"markers\",\"name\":\"12, WT\",\"orientation\":\"v\",\"showlegend\":true,\"x\":[-0.04819498520566945,-0.25501910696781616,-0.3557381582168497,0.12228587060880987],\"xaxis\":\"x\",\"y\":[0.133291228799451,0.36253216405348754,0.43265426445219857,0.09092938957040325],\"yaxis\":\"y\",\"type\":\"scatter\"},{\"hovertemplate\":\"color=14<br>symbol=WT<br>2=%{x}<br>3=%{y}<extra></extra>\",\"legendgroup\":\"14, WT\",\"marker\":{\"color\":\"#B6E880\",\"symbol\":\"circle\",\"size\":13},\"mode\":\"markers\",\"name\":\"14, WT\",\"orientation\":\"v\",\"showlegend\":true,\"x\":[0.5110638946542116,0.4721359136811502,0.20997511987669018,0.3515463372478551],\"xaxis\":\"x\",\"y\":[0.20195039338551612,-0.6755560167427662,-0.008635402734533516,-0.8935545887940988],\"yaxis\":\"y\",\"type\":\"scatter\"},{\"hovertemplate\":\"color=16<br>symbol=WT<br>2=%{x}<br>3=%{y}<extra></extra>\",\"legendgroup\":\"16, WT\",\"marker\":{\"color\":\"#FF97FF\",\"symbol\":\"circle\",\"size\":13},\"mode\":\"markers\",\"name\":\"16, WT\",\"orientation\":\"v\",\"showlegend\":true,\"x\":[0.9896874756597953,0.3825593191950016,0.9394677458899166,0.4634289728054266],\"xaxis\":\"x\",\"y\":[0.3878947550444536,-1.1029869435017077,0.3854714021038722,-0.5262571600550506],\"yaxis\":\"y\",\"type\":\"scatter\"},{\"hovertemplate\":\"color=18<br>symbol=WT<br>2=%{x}<br>3=%{y}<extra></extra>\",\"legendgroup\":\"18, WT\",\"marker\":{\"color\":\"#FECB52\",\"symbol\":\"circle\",\"size\":13},\"mode\":\"markers\",\"name\":\"18, WT\",\"orientation\":\"v\",\"showlegend\":true,\"x\":[0.4544499308536328,-0.07621076740319987,0.29814622662591217,0.7378261002986833],\"xaxis\":\"x\",\"y\":[-0.07072956510987458,-0.28251521398274054,-0.5641284835892701,-0.09707398440803493],\"yaxis\":\"y\",\"type\":\"scatter\"},{\"hovertemplate\":\"color=20<br>symbol=WT<br>2=%{x}<br>3=%{y}<extra></extra>\",\"legendgroup\":\"20, WT\",\"marker\":{\"color\":\"#636efa\",\"symbol\":\"circle\",\"size\":13},\"mode\":\"markers\",\"name\":\"20, WT\",\"orientation\":\"v\",\"showlegend\":true,\"x\":[-0.8729307670413335,-0.9599233428236782,0.1962556032900611,0.7505312808353372],\"xaxis\":\"x\",\"y\":[-0.11065254674107884,0.045265572539317296,0.1825257119834791,0.8178270574123656],\"yaxis\":\"y\",\"type\":\"scatter\"},{\"hovertemplate\":\"color=22<br>symbol=WT<br>2=%{x}<br>3=%{y}<extra></extra>\",\"legendgroup\":\"22, WT\",\"marker\":{\"color\":\"#EF553B\",\"symbol\":\"circle\",\"size\":13},\"mode\":\"markers\",\"name\":\"22, WT\",\"orientation\":\"v\",\"showlegend\":true,\"x\":[-0.609319635988455,-0.6866396424455762,-0.8995684347947508,0.04706418761652104],\"xaxis\":\"x\",\"y\":[0.30265151831055487,0.6967637592926392,0.15452196083971298,-0.48458622146238856],\"yaxis\":\"y\",\"type\":\"scatter\"}],                        {\"template\":{\"data\":{\"histogram2dcontour\":[{\"type\":\"histogram2dcontour\",\"colorbar\":{\"outlinewidth\":0,\"ticks\":\"\"},\"colorscale\":[[0.0,\"#0d0887\"],[0.1111111111111111,\"#46039f\"],[0.2222222222222222,\"#7201a8\"],[0.3333333333333333,\"#9c179e\"],[0.4444444444444444,\"#bd3786\"],[0.5555555555555556,\"#d8576b\"],[0.6666666666666666,\"#ed7953\"],[0.7777777777777778,\"#fb9f3a\"],[0.8888888888888888,\"#fdca26\"],[1.0,\"#f0f921\"]]}],\"choropleth\":[{\"type\":\"choropleth\",\"colorbar\":{\"outlinewidth\":0,\"ticks\":\"\"}}],\"histogram2d\":[{\"type\":\"histogram2d\",\"colorbar\":{\"outlinewidth\":0,\"ticks\":\"\"},\"colorscale\":[[0.0,\"#0d0887\"],[0.1111111111111111,\"#46039f\"],[0.2222222222222222,\"#7201a8\"],[0.3333333333333333,\"#9c179e\"],[0.4444444444444444,\"#bd3786\"],[0.5555555555555556,\"#d8576b\"],[0.6666666666666666,\"#ed7953\"],[0.7777777777777778,\"#fb9f3a\"],[0.8888888888888888,\"#fdca26\"],[1.0,\"#f0f921\"]]}],\"heatmap\":[{\"type\":\"heatmap\",\"colorbar\":{\"outlinewidth\":0,\"ticks\":\"\"},\"colorscale\":[[0.0,\"#0d0887\"],[0.1111111111111111,\"#46039f\"],[0.2222222222222222,\"#7201a8\"],[0.3333333333333333,\"#9c179e\"],[0.4444444444444444,\"#bd3786\"],[0.5555555555555556,\"#d8576b\"],[0.6666666666666666,\"#ed7953\"],[0.7777777777777778,\"#fb9f3a\"],[0.8888888888888888,\"#fdca26\"],[1.0,\"#f0f921\"]]}],\"heatmapgl\":[{\"type\":\"heatmapgl\",\"colorbar\":{\"outlinewidth\":0,\"ticks\":\"\"},\"colorscale\":[[0.0,\"#0d0887\"],[0.1111111111111111,\"#46039f\"],[0.2222222222222222,\"#7201a8\"],[0.3333333333333333,\"#9c179e\"],[0.4444444444444444,\"#bd3786\"],[0.5555555555555556,\"#d8576b\"],[0.6666666666666666,\"#ed7953\"],[0.7777777777777778,\"#fb9f3a\"],[0.8888888888888888,\"#fdca26\"],[1.0,\"#f0f921\"]]}],\"contourcarpet\":[{\"type\":\"contourcarpet\",\"colorbar\":{\"outlinewidth\":0,\"ticks\":\"\"}}],\"contour\":[{\"type\":\"contour\",\"colorbar\":{\"outlinewidth\":0,\"ticks\":\"\"},\"colorscale\":[[0.0,\"#0d0887\"],[0.1111111111111111,\"#46039f\"],[0.2222222222222222,\"#7201a8\"],[0.3333333333333333,\"#9c179e\"],[0.4444444444444444,\"#bd3786\"],[0.5555555555555556,\"#d8576b\"],[0.6666666666666666,\"#ed7953\"],[0.7777777777777778,\"#fb9f3a\"],[0.8888888888888888,\"#fdca26\"],[1.0,\"#f0f921\"]]}],\"surface\":[{\"type\":\"surface\",\"colorbar\":{\"outlinewidth\":0,\"ticks\":\"\"},\"colorscale\":[[0.0,\"#0d0887\"],[0.1111111111111111,\"#46039f\"],[0.2222222222222222,\"#7201a8\"],[0.3333333333333333,\"#9c179e\"],[0.4444444444444444,\"#bd3786\"],[0.5555555555555556,\"#d8576b\"],[0.6666666666666666,\"#ed7953\"],[0.7777777777777778,\"#fb9f3a\"],[0.8888888888888888,\"#fdca26\"],[1.0,\"#f0f921\"]]}],\"mesh3d\":[{\"type\":\"mesh3d\",\"colorbar\":{\"outlinewidth\":0,\"ticks\":\"\"}}],\"scatter\":[{\"fillpattern\":{\"fillmode\":\"overlay\",\"size\":10,\"solidity\":0.2},\"type\":\"scatter\"}],\"parcoords\":[{\"type\":\"parcoords\",\"line\":{\"colorbar\":{\"outlinewidth\":0,\"ticks\":\"\"}}}],\"scatterpolargl\":[{\"type\":\"scatterpolargl\",\"marker\":{\"colorbar\":{\"outlinewidth\":0,\"ticks\":\"\"}}}],\"bar\":[{\"error_x\":{\"color\":\"#2a3f5f\"},\"error_y\":{\"color\":\"#2a3f5f\"},\"marker\":{\"line\":{\"color\":\"#E5ECF6\",\"width\":0.5},\"pattern\":{\"fillmode\":\"overlay\",\"size\":10,\"solidity\":0.2}},\"type\":\"bar\"}],\"scattergeo\":[{\"type\":\"scattergeo\",\"marker\":{\"colorbar\":{\"outlinewidth\":0,\"ticks\":\"\"}}}],\"scatterpolar\":[{\"type\":\"scatterpolar\",\"marker\":{\"colorbar\":{\"outlinewidth\":0,\"ticks\":\"\"}}}],\"histogram\":[{\"marker\":{\"pattern\":{\"fillmode\":\"overlay\",\"size\":10,\"solidity\":0.2}},\"type\":\"histogram\"}],\"scattergl\":[{\"type\":\"scattergl\",\"marker\":{\"colorbar\":{\"outlinewidth\":0,\"ticks\":\"\"}}}],\"scatter3d\":[{\"type\":\"scatter3d\",\"line\":{\"colorbar\":{\"outlinewidth\":0,\"ticks\":\"\"}},\"marker\":{\"colorbar\":{\"outlinewidth\":0,\"ticks\":\"\"}}}],\"scattermapbox\":[{\"type\":\"scattermapbox\",\"marker\":{\"colorbar\":{\"outlinewidth\":0,\"ticks\":\"\"}}}],\"scatterternary\":[{\"type\":\"scatterternary\",\"marker\":{\"colorbar\":{\"outlinewidth\":0,\"ticks\":\"\"}}}],\"scattercarpet\":[{\"type\":\"scattercarpet\",\"marker\":{\"colorbar\":{\"outlinewidth\":0,\"ticks\":\"\"}}}],\"carpet\":[{\"aaxis\":{\"endlinecolor\":\"#2a3f5f\",\"gridcolor\":\"white\",\"linecolor\":\"white\",\"minorgridcolor\":\"white\",\"startlinecolor\":\"#2a3f5f\"},\"baxis\":{\"endlinecolor\":\"#2a3f5f\",\"gridcolor\":\"white\",\"linecolor\":\"white\",\"minorgridcolor\":\"white\",\"startlinecolor\":\"#2a3f5f\"},\"type\":\"carpet\"}],\"table\":[{\"cells\":{\"fill\":{\"color\":\"#EBF0F8\"},\"line\":{\"color\":\"white\"}},\"header\":{\"fill\":{\"color\":\"#C8D4E3\"},\"line\":{\"color\":\"white\"}},\"type\":\"table\"}],\"barpolar\":[{\"marker\":{\"line\":{\"color\":\"#E5ECF6\",\"width\":0.5},\"pattern\":{\"fillmode\":\"overlay\",\"size\":10,\"solidity\":0.2}},\"type\":\"barpolar\"}],\"pie\":[{\"automargin\":true,\"type\":\"pie\"}]},\"layout\":{\"autotypenumbers\":\"strict\",\"colorway\":[\"#636efa\",\"#EF553B\",\"#00cc96\",\"#ab63fa\",\"#FFA15A\",\"#19d3f3\",\"#FF6692\",\"#B6E880\",\"#FF97FF\",\"#FECB52\"],\"font\":{\"color\":\"#2a3f5f\"},\"hovermode\":\"closest\",\"hoverlabel\":{\"align\":\"left\"},\"paper_bgcolor\":\"white\",\"plot_bgcolor\":\"#E5ECF6\",\"polar\":{\"bgcolor\":\"#E5ECF6\",\"angularaxis\":{\"gridcolor\":\"white\",\"linecolor\":\"white\",\"ticks\":\"\"},\"radialaxis\":{\"gridcolor\":\"white\",\"linecolor\":\"white\",\"ticks\":\"\"}},\"ternary\":{\"bgcolor\":\"#E5ECF6\",\"aaxis\":{\"gridcolor\":\"white\",\"linecolor\":\"white\",\"ticks\":\"\"},\"baxis\":{\"gridcolor\":\"white\",\"linecolor\":\"white\",\"ticks\":\"\"},\"caxis\":{\"gridcolor\":\"white\",\"linecolor\":\"white\",\"ticks\":\"\"}},\"coloraxis\":{\"colorbar\":{\"outlinewidth\":0,\"ticks\":\"\"}},\"colorscale\":{\"sequential\":[[0.0,\"#0d0887\"],[0.1111111111111111,\"#46039f\"],[0.2222222222222222,\"#7201a8\"],[0.3333333333333333,\"#9c179e\"],[0.4444444444444444,\"#bd3786\"],[0.5555555555555556,\"#d8576b\"],[0.6666666666666666,\"#ed7953\"],[0.7777777777777778,\"#fb9f3a\"],[0.8888888888888888,\"#fdca26\"],[1.0,\"#f0f921\"]],\"sequentialminus\":[[0.0,\"#0d0887\"],[0.1111111111111111,\"#46039f\"],[0.2222222222222222,\"#7201a8\"],[0.3333333333333333,\"#9c179e\"],[0.4444444444444444,\"#bd3786\"],[0.5555555555555556,\"#d8576b\"],[0.6666666666666666,\"#ed7953\"],[0.7777777777777778,\"#fb9f3a\"],[0.8888888888888888,\"#fdca26\"],[1.0,\"#f0f921\"]],\"diverging\":[[0,\"#8e0152\"],[0.1,\"#c51b7d\"],[0.2,\"#de77ae\"],[0.3,\"#f1b6da\"],[0.4,\"#fde0ef\"],[0.5,\"#f7f7f7\"],[0.6,\"#e6f5d0\"],[0.7,\"#b8e186\"],[0.8,\"#7fbc41\"],[0.9,\"#4d9221\"],[1,\"#276419\"]]},\"xaxis\":{\"gridcolor\":\"white\",\"linecolor\":\"white\",\"ticks\":\"\",\"title\":{\"standoff\":15},\"zerolinecolor\":\"white\",\"automargin\":true,\"zerolinewidth\":2},\"yaxis\":{\"gridcolor\":\"white\",\"linecolor\":\"white\",\"ticks\":\"\",\"title\":{\"standoff\":15},\"zerolinecolor\":\"white\",\"automargin\":true,\"zerolinewidth\":2},\"scene\":{\"xaxis\":{\"backgroundcolor\":\"#E5ECF6\",\"gridcolor\":\"white\",\"linecolor\":\"white\",\"showbackground\":true,\"ticks\":\"\",\"zerolinecolor\":\"white\",\"gridwidth\":2},\"yaxis\":{\"backgroundcolor\":\"#E5ECF6\",\"gridcolor\":\"white\",\"linecolor\":\"white\",\"showbackground\":true,\"ticks\":\"\",\"zerolinecolor\":\"white\",\"gridwidth\":2},\"zaxis\":{\"backgroundcolor\":\"#E5ECF6\",\"gridcolor\":\"white\",\"linecolor\":\"white\",\"showbackground\":true,\"ticks\":\"\",\"zerolinecolor\":\"white\",\"gridwidth\":2}},\"shapedefaults\":{\"line\":{\"color\":\"#2a3f5f\"}},\"annotationdefaults\":{\"arrowcolor\":\"#2a3f5f\",\"arrowhead\":0,\"arrowwidth\":1},\"geo\":{\"bgcolor\":\"white\",\"landcolor\":\"#E5ECF6\",\"subunitcolor\":\"white\",\"showland\":true,\"showlakes\":true,\"lakecolor\":\"white\"},\"title\":{\"x\":0.05},\"mapbox\":{\"style\":\"light\"}}},\"xaxis\":{\"anchor\":\"y\",\"domain\":[0.0,1.0],\"title\":{\"text\":\"PC 3 (3.3%)\"}},\"yaxis\":{\"anchor\":\"x\",\"domain\":[0.0,1.0],\"title\":{\"text\":\"PC 4 (2.6%)\"}},\"legend\":{\"title\":{\"text\":\"color, symbol\"},\"tracegroupgap\":0},\"margin\":{\"t\":60},\"height\":600,\"width\":600,\"plot_bgcolor\":\"rgb(243,243,243)\"},                        {\"responsive\": true}                    ).then(function(){\n",
       "                            \n",
       "var gd = document.getElementById('1c3f48f8-2628-4d8c-8922-cef858158f68');\n",
       "var x = new MutationObserver(function (mutations, observer) {{\n",
       "        var display = window.getComputedStyle(gd).display;\n",
       "        if (!display || display === 'none') {{\n",
       "            console.log([gd, 'removed!']);\n",
       "            Plotly.purge(gd);\n",
       "            observer.disconnect();\n",
       "        }}\n",
       "}});\n",
       "\n",
       "// Listen for the removal of the full notebook cells\n",
       "var notebookContainer = gd.closest('#notebook-container');\n",
       "if (notebookContainer) {{\n",
       "    x.observe(notebookContainer, {childList: true});\n",
       "}}\n",
       "\n",
       "// Listen for the clearing of the current output cell\n",
       "var outputEl = gd.closest('.output');\n",
       "if (outputEl) {{\n",
       "    x.observe(outputEl, {childList: true});\n",
       "}}\n",
       "\n",
       "                        })                };                });            </script>        </div>"
      ]
     },
     "metadata": {},
     "output_type": "display_data"
    },
    {
     "data": {
      "application/vnd.plotly.v1+json": {
       "config": {
        "plotlyServerURL": "https://plot.ly"
       },
       "data": [
        {
         "hovertemplate": "color=A<br>symbol=Intron<br>2=%{x}<br>3=%{y}<extra></extra>",
         "legendgroup": "A, Intron",
         "marker": {
          "color": "#636efa",
          "size": 13,
          "symbol": "circle"
         },
         "mode": "markers",
         "name": "A, Intron",
         "orientation": "v",
         "showlegend": true,
         "type": "scatter",
         "x": [
          -0.5291642822906555,
          0.4150452985273073,
          -0.04166421043030467,
          -0.37100117486843914,
          -0.4478290294058766,
          -0.36454433421254034,
          -0.04819498520566945,
          0.5110638946542116,
          0.9896874756597953,
          0.4544499308536328,
          -0.8729307670413335,
          -0.609319635988455
         ],
         "xaxis": "x",
         "y": [
          -0.014091648717270738,
          0.6193362062496327,
          -0.5378728286429264,
          -0.39685930080160875,
          0.14574269399429193,
          0.38546983460545775,
          0.133291228799451,
          0.20195039338551612,
          0.3878947550444536,
          -0.07072956510987458,
          -0.11065254674107884,
          0.30265151831055487
         ],
         "yaxis": "y"
        },
        {
         "hovertemplate": "color=B<br>symbol=Intron<br>2=%{x}<br>3=%{y}<extra></extra>",
         "legendgroup": "B, Intron",
         "marker": {
          "color": "#EF553B",
          "size": 13,
          "symbol": "circle"
         },
         "mode": "markers",
         "name": "B, Intron",
         "orientation": "v",
         "showlegend": true,
         "type": "scatter",
         "x": [
          0.404320728373145,
          0.8254999404240485,
          0.47812193836050454,
          -0.5002929673325589,
          -0.3559408733905678,
          -0.383663881949797,
          -0.25501910696781616,
          0.4721359136811502,
          0.3825593191950016,
          -0.07621076740319987,
          -0.9599233428236782,
          -0.6866396424455762
         ],
         "xaxis": "x",
         "y": [
          -0.11669250999597648,
          1.2962769892737247,
          -0.2496752240995096,
          -0.4215132256211728,
          0.23991555551625288,
          0.3603464613849015,
          0.36253216405348754,
          -0.6755560167427662,
          -1.1029869435017077,
          -0.28251521398274054,
          0.045265572539317296,
          0.6967637592926392
         ],
         "yaxis": "y"
        },
        {
         "hovertemplate": "color=C<br>symbol=Intron<br>2=%{x}<br>3=%{y}<extra></extra>",
         "legendgroup": "C, Intron",
         "marker": {
          "color": "#00cc96",
          "size": 13,
          "symbol": "circle"
         },
         "mode": "markers",
         "name": "C, Intron",
         "orientation": "v",
         "showlegend": true,
         "type": "scatter",
         "x": [
          0.18281472873472482,
          0.17975979652799218,
          -0.49049104016198974,
          -0.5155923663840003,
          -0.35074248291878507,
          -0.1509750227719996,
          -0.3557381582168497,
          0.20997511987669018,
          0.9394677458899166,
          0.29814622662591217,
          0.1962556032900611,
          -0.8995684347947508
         ],
         "xaxis": "x",
         "y": [
          0.06841047019575273,
          -0.23093649099065863,
          -0.3504860950985119,
          -0.21805558682729684,
          0.381057954755588,
          0.13919229661010657,
          0.43265426445219857,
          -0.008635402734533516,
          0.3854714021038722,
          -0.5641284835892701,
          0.1825257119834791,
          0.15452196083971298
         ],
         "yaxis": "y"
        },
        {
         "hovertemplate": "color=D<br>symbol=Intron<br>2=%{x}<br>3=%{y}<extra></extra>",
         "legendgroup": "D, Intron",
         "marker": {
          "color": "#ab63fa",
          "size": 13,
          "symbol": "circle"
         },
         "mode": "markers",
         "name": "D, Intron",
         "orientation": "v",
         "showlegend": true,
         "type": "scatter",
         "x": [
          0.7362366076827731,
          0.10835541699811242,
          0.3636208771809814,
          -0.4865157383201035,
          -0.44956408545763243,
          -0.41867298116602286,
          0.12228587060880987,
          0.3515463372478551,
          0.4634289728054266,
          0.7378261002986833,
          0.7505312808353372,
          0.04706418761652104
         ],
         "xaxis": "x",
         "y": [
          0.19254734190318656,
          -0.3520307389095446,
          -0.5356084569861073,
          -0.4943112237722788,
          0.1769822148553603,
          0.5352522604527024,
          0.09092938957040325,
          -0.8935545887940988,
          -0.5262571600550506,
          -0.09707398440803493,
          0.8178270574123656,
          -0.48458622146238856
         ],
         "yaxis": "y"
        }
       ],
       "layout": {
        "height": 600,
        "legend": {
         "title": {
          "text": "color, symbol"
         },
         "tracegroupgap": 0
        },
        "margin": {
         "t": 60
        },
        "plot_bgcolor": "rgb(243,243,243)",
        "template": {
         "data": {
          "bar": [
           {
            "error_x": {
             "color": "#2a3f5f"
            },
            "error_y": {
             "color": "#2a3f5f"
            },
            "marker": {
             "line": {
              "color": "#E5ECF6",
              "width": 0.5
             },
             "pattern": {
              "fillmode": "overlay",
              "size": 10,
              "solidity": 0.2
             }
            },
            "type": "bar"
           }
          ],
          "barpolar": [
           {
            "marker": {
             "line": {
              "color": "#E5ECF6",
              "width": 0.5
             },
             "pattern": {
              "fillmode": "overlay",
              "size": 10,
              "solidity": 0.2
             }
            },
            "type": "barpolar"
           }
          ],
          "carpet": [
           {
            "aaxis": {
             "endlinecolor": "#2a3f5f",
             "gridcolor": "white",
             "linecolor": "white",
             "minorgridcolor": "white",
             "startlinecolor": "#2a3f5f"
            },
            "baxis": {
             "endlinecolor": "#2a3f5f",
             "gridcolor": "white",
             "linecolor": "white",
             "minorgridcolor": "white",
             "startlinecolor": "#2a3f5f"
            },
            "type": "carpet"
           }
          ],
          "choropleth": [
           {
            "colorbar": {
             "outlinewidth": 0,
             "ticks": ""
            },
            "type": "choropleth"
           }
          ],
          "contour": [
           {
            "colorbar": {
             "outlinewidth": 0,
             "ticks": ""
            },
            "colorscale": [
             [
              0,
              "#0d0887"
             ],
             [
              0.1111111111111111,
              "#46039f"
             ],
             [
              0.2222222222222222,
              "#7201a8"
             ],
             [
              0.3333333333333333,
              "#9c179e"
             ],
             [
              0.4444444444444444,
              "#bd3786"
             ],
             [
              0.5555555555555556,
              "#d8576b"
             ],
             [
              0.6666666666666666,
              "#ed7953"
             ],
             [
              0.7777777777777778,
              "#fb9f3a"
             ],
             [
              0.8888888888888888,
              "#fdca26"
             ],
             [
              1,
              "#f0f921"
             ]
            ],
            "type": "contour"
           }
          ],
          "contourcarpet": [
           {
            "colorbar": {
             "outlinewidth": 0,
             "ticks": ""
            },
            "type": "contourcarpet"
           }
          ],
          "heatmap": [
           {
            "colorbar": {
             "outlinewidth": 0,
             "ticks": ""
            },
            "colorscale": [
             [
              0,
              "#0d0887"
             ],
             [
              0.1111111111111111,
              "#46039f"
             ],
             [
              0.2222222222222222,
              "#7201a8"
             ],
             [
              0.3333333333333333,
              "#9c179e"
             ],
             [
              0.4444444444444444,
              "#bd3786"
             ],
             [
              0.5555555555555556,
              "#d8576b"
             ],
             [
              0.6666666666666666,
              "#ed7953"
             ],
             [
              0.7777777777777778,
              "#fb9f3a"
             ],
             [
              0.8888888888888888,
              "#fdca26"
             ],
             [
              1,
              "#f0f921"
             ]
            ],
            "type": "heatmap"
           }
          ],
          "heatmapgl": [
           {
            "colorbar": {
             "outlinewidth": 0,
             "ticks": ""
            },
            "colorscale": [
             [
              0,
              "#0d0887"
             ],
             [
              0.1111111111111111,
              "#46039f"
             ],
             [
              0.2222222222222222,
              "#7201a8"
             ],
             [
              0.3333333333333333,
              "#9c179e"
             ],
             [
              0.4444444444444444,
              "#bd3786"
             ],
             [
              0.5555555555555556,
              "#d8576b"
             ],
             [
              0.6666666666666666,
              "#ed7953"
             ],
             [
              0.7777777777777778,
              "#fb9f3a"
             ],
             [
              0.8888888888888888,
              "#fdca26"
             ],
             [
              1,
              "#f0f921"
             ]
            ],
            "type": "heatmapgl"
           }
          ],
          "histogram": [
           {
            "marker": {
             "pattern": {
              "fillmode": "overlay",
              "size": 10,
              "solidity": 0.2
             }
            },
            "type": "histogram"
           }
          ],
          "histogram2d": [
           {
            "colorbar": {
             "outlinewidth": 0,
             "ticks": ""
            },
            "colorscale": [
             [
              0,
              "#0d0887"
             ],
             [
              0.1111111111111111,
              "#46039f"
             ],
             [
              0.2222222222222222,
              "#7201a8"
             ],
             [
              0.3333333333333333,
              "#9c179e"
             ],
             [
              0.4444444444444444,
              "#bd3786"
             ],
             [
              0.5555555555555556,
              "#d8576b"
             ],
             [
              0.6666666666666666,
              "#ed7953"
             ],
             [
              0.7777777777777778,
              "#fb9f3a"
             ],
             [
              0.8888888888888888,
              "#fdca26"
             ],
             [
              1,
              "#f0f921"
             ]
            ],
            "type": "histogram2d"
           }
          ],
          "histogram2dcontour": [
           {
            "colorbar": {
             "outlinewidth": 0,
             "ticks": ""
            },
            "colorscale": [
             [
              0,
              "#0d0887"
             ],
             [
              0.1111111111111111,
              "#46039f"
             ],
             [
              0.2222222222222222,
              "#7201a8"
             ],
             [
              0.3333333333333333,
              "#9c179e"
             ],
             [
              0.4444444444444444,
              "#bd3786"
             ],
             [
              0.5555555555555556,
              "#d8576b"
             ],
             [
              0.6666666666666666,
              "#ed7953"
             ],
             [
              0.7777777777777778,
              "#fb9f3a"
             ],
             [
              0.8888888888888888,
              "#fdca26"
             ],
             [
              1,
              "#f0f921"
             ]
            ],
            "type": "histogram2dcontour"
           }
          ],
          "mesh3d": [
           {
            "colorbar": {
             "outlinewidth": 0,
             "ticks": ""
            },
            "type": "mesh3d"
           }
          ],
          "parcoords": [
           {
            "line": {
             "colorbar": {
              "outlinewidth": 0,
              "ticks": ""
             }
            },
            "type": "parcoords"
           }
          ],
          "pie": [
           {
            "automargin": true,
            "type": "pie"
           }
          ],
          "scatter": [
           {
            "fillpattern": {
             "fillmode": "overlay",
             "size": 10,
             "solidity": 0.2
            },
            "type": "scatter"
           }
          ],
          "scatter3d": [
           {
            "line": {
             "colorbar": {
              "outlinewidth": 0,
              "ticks": ""
             }
            },
            "marker": {
             "colorbar": {
              "outlinewidth": 0,
              "ticks": ""
             }
            },
            "type": "scatter3d"
           }
          ],
          "scattercarpet": [
           {
            "marker": {
             "colorbar": {
              "outlinewidth": 0,
              "ticks": ""
             }
            },
            "type": "scattercarpet"
           }
          ],
          "scattergeo": [
           {
            "marker": {
             "colorbar": {
              "outlinewidth": 0,
              "ticks": ""
             }
            },
            "type": "scattergeo"
           }
          ],
          "scattergl": [
           {
            "marker": {
             "colorbar": {
              "outlinewidth": 0,
              "ticks": ""
             }
            },
            "type": "scattergl"
           }
          ],
          "scattermapbox": [
           {
            "marker": {
             "colorbar": {
              "outlinewidth": 0,
              "ticks": ""
             }
            },
            "type": "scattermapbox"
           }
          ],
          "scatterpolar": [
           {
            "marker": {
             "colorbar": {
              "outlinewidth": 0,
              "ticks": ""
             }
            },
            "type": "scatterpolar"
           }
          ],
          "scatterpolargl": [
           {
            "marker": {
             "colorbar": {
              "outlinewidth": 0,
              "ticks": ""
             }
            },
            "type": "scatterpolargl"
           }
          ],
          "scatterternary": [
           {
            "marker": {
             "colorbar": {
              "outlinewidth": 0,
              "ticks": ""
             }
            },
            "type": "scatterternary"
           }
          ],
          "surface": [
           {
            "colorbar": {
             "outlinewidth": 0,
             "ticks": ""
            },
            "colorscale": [
             [
              0,
              "#0d0887"
             ],
             [
              0.1111111111111111,
              "#46039f"
             ],
             [
              0.2222222222222222,
              "#7201a8"
             ],
             [
              0.3333333333333333,
              "#9c179e"
             ],
             [
              0.4444444444444444,
              "#bd3786"
             ],
             [
              0.5555555555555556,
              "#d8576b"
             ],
             [
              0.6666666666666666,
              "#ed7953"
             ],
             [
              0.7777777777777778,
              "#fb9f3a"
             ],
             [
              0.8888888888888888,
              "#fdca26"
             ],
             [
              1,
              "#f0f921"
             ]
            ],
            "type": "surface"
           }
          ],
          "table": [
           {
            "cells": {
             "fill": {
              "color": "#EBF0F8"
             },
             "line": {
              "color": "white"
             }
            },
            "header": {
             "fill": {
              "color": "#C8D4E3"
             },
             "line": {
              "color": "white"
             }
            },
            "type": "table"
           }
          ]
         },
         "layout": {
          "annotationdefaults": {
           "arrowcolor": "#2a3f5f",
           "arrowhead": 0,
           "arrowwidth": 1
          },
          "autotypenumbers": "strict",
          "coloraxis": {
           "colorbar": {
            "outlinewidth": 0,
            "ticks": ""
           }
          },
          "colorscale": {
           "diverging": [
            [
             0,
             "#8e0152"
            ],
            [
             0.1,
             "#c51b7d"
            ],
            [
             0.2,
             "#de77ae"
            ],
            [
             0.3,
             "#f1b6da"
            ],
            [
             0.4,
             "#fde0ef"
            ],
            [
             0.5,
             "#f7f7f7"
            ],
            [
             0.6,
             "#e6f5d0"
            ],
            [
             0.7,
             "#b8e186"
            ],
            [
             0.8,
             "#7fbc41"
            ],
            [
             0.9,
             "#4d9221"
            ],
            [
             1,
             "#276419"
            ]
           ],
           "sequential": [
            [
             0,
             "#0d0887"
            ],
            [
             0.1111111111111111,
             "#46039f"
            ],
            [
             0.2222222222222222,
             "#7201a8"
            ],
            [
             0.3333333333333333,
             "#9c179e"
            ],
            [
             0.4444444444444444,
             "#bd3786"
            ],
            [
             0.5555555555555556,
             "#d8576b"
            ],
            [
             0.6666666666666666,
             "#ed7953"
            ],
            [
             0.7777777777777778,
             "#fb9f3a"
            ],
            [
             0.8888888888888888,
             "#fdca26"
            ],
            [
             1,
             "#f0f921"
            ]
           ],
           "sequentialminus": [
            [
             0,
             "#0d0887"
            ],
            [
             0.1111111111111111,
             "#46039f"
            ],
            [
             0.2222222222222222,
             "#7201a8"
            ],
            [
             0.3333333333333333,
             "#9c179e"
            ],
            [
             0.4444444444444444,
             "#bd3786"
            ],
            [
             0.5555555555555556,
             "#d8576b"
            ],
            [
             0.6666666666666666,
             "#ed7953"
            ],
            [
             0.7777777777777778,
             "#fb9f3a"
            ],
            [
             0.8888888888888888,
             "#fdca26"
            ],
            [
             1,
             "#f0f921"
            ]
           ]
          },
          "colorway": [
           "#636efa",
           "#EF553B",
           "#00cc96",
           "#ab63fa",
           "#FFA15A",
           "#19d3f3",
           "#FF6692",
           "#B6E880",
           "#FF97FF",
           "#FECB52"
          ],
          "font": {
           "color": "#2a3f5f"
          },
          "geo": {
           "bgcolor": "white",
           "lakecolor": "white",
           "landcolor": "#E5ECF6",
           "showlakes": true,
           "showland": true,
           "subunitcolor": "white"
          },
          "hoverlabel": {
           "align": "left"
          },
          "hovermode": "closest",
          "mapbox": {
           "style": "light"
          },
          "paper_bgcolor": "white",
          "plot_bgcolor": "#E5ECF6",
          "polar": {
           "angularaxis": {
            "gridcolor": "white",
            "linecolor": "white",
            "ticks": ""
           },
           "bgcolor": "#E5ECF6",
           "radialaxis": {
            "gridcolor": "white",
            "linecolor": "white",
            "ticks": ""
           }
          },
          "scene": {
           "xaxis": {
            "backgroundcolor": "#E5ECF6",
            "gridcolor": "white",
            "gridwidth": 2,
            "linecolor": "white",
            "showbackground": true,
            "ticks": "",
            "zerolinecolor": "white"
           },
           "yaxis": {
            "backgroundcolor": "#E5ECF6",
            "gridcolor": "white",
            "gridwidth": 2,
            "linecolor": "white",
            "showbackground": true,
            "ticks": "",
            "zerolinecolor": "white"
           },
           "zaxis": {
            "backgroundcolor": "#E5ECF6",
            "gridcolor": "white",
            "gridwidth": 2,
            "linecolor": "white",
            "showbackground": true,
            "ticks": "",
            "zerolinecolor": "white"
           }
          },
          "shapedefaults": {
           "line": {
            "color": "#2a3f5f"
           }
          },
          "ternary": {
           "aaxis": {
            "gridcolor": "white",
            "linecolor": "white",
            "ticks": ""
           },
           "baxis": {
            "gridcolor": "white",
            "linecolor": "white",
            "ticks": ""
           },
           "bgcolor": "#E5ECF6",
           "caxis": {
            "gridcolor": "white",
            "linecolor": "white",
            "ticks": ""
           }
          },
          "title": {
           "x": 0.05
          },
          "xaxis": {
           "automargin": true,
           "gridcolor": "white",
           "linecolor": "white",
           "ticks": "",
           "title": {
            "standoff": 15
           },
           "zerolinecolor": "white",
           "zerolinewidth": 2
          },
          "yaxis": {
           "automargin": true,
           "gridcolor": "white",
           "linecolor": "white",
           "ticks": "",
           "title": {
            "standoff": 15
           },
           "zerolinecolor": "white",
           "zerolinewidth": 2
          }
         }
        },
        "width": 600,
        "xaxis": {
         "anchor": "y",
         "domain": [
          0,
          1
         ],
         "title": {
          "text": "PC 3 (3.3%)"
         }
        },
        "yaxis": {
         "anchor": "x",
         "domain": [
          0,
          1
         ],
         "title": {
          "text": "PC 4 (2.6%)"
         }
        }
       }
      },
      "text/html": [
       "<div>                            <div id=\"1dc527c4-b7ba-41a9-af81-b1b4e19326db\" class=\"plotly-graph-div\" style=\"height:600px; width:600px;\"></div>            <script type=\"text/javascript\">                require([\"plotly\"], function(Plotly) {                    window.PLOTLYENV=window.PLOTLYENV || {};                                    if (document.getElementById(\"1dc527c4-b7ba-41a9-af81-b1b4e19326db\")) {                    Plotly.newPlot(                        \"1dc527c4-b7ba-41a9-af81-b1b4e19326db\",                        [{\"hovertemplate\":\"color=A<br>symbol=Intron<br>2=%{x}<br>3=%{y}<extra></extra>\",\"legendgroup\":\"A, Intron\",\"marker\":{\"color\":\"#636efa\",\"symbol\":\"circle\",\"size\":13},\"mode\":\"markers\",\"name\":\"A, Intron\",\"orientation\":\"v\",\"showlegend\":true,\"x\":[-0.5291642822906555,0.4150452985273073,-0.04166421043030467,-0.37100117486843914,-0.4478290294058766,-0.36454433421254034,-0.04819498520566945,0.5110638946542116,0.9896874756597953,0.4544499308536328,-0.8729307670413335,-0.609319635988455],\"xaxis\":\"x\",\"y\":[-0.014091648717270738,0.6193362062496327,-0.5378728286429264,-0.39685930080160875,0.14574269399429193,0.38546983460545775,0.133291228799451,0.20195039338551612,0.3878947550444536,-0.07072956510987458,-0.11065254674107884,0.30265151831055487],\"yaxis\":\"y\",\"type\":\"scatter\"},{\"hovertemplate\":\"color=B<br>symbol=Intron<br>2=%{x}<br>3=%{y}<extra></extra>\",\"legendgroup\":\"B, Intron\",\"marker\":{\"color\":\"#EF553B\",\"symbol\":\"circle\",\"size\":13},\"mode\":\"markers\",\"name\":\"B, Intron\",\"orientation\":\"v\",\"showlegend\":true,\"x\":[0.404320728373145,0.8254999404240485,0.47812193836050454,-0.5002929673325589,-0.3559408733905678,-0.383663881949797,-0.25501910696781616,0.4721359136811502,0.3825593191950016,-0.07621076740319987,-0.9599233428236782,-0.6866396424455762],\"xaxis\":\"x\",\"y\":[-0.11669250999597648,1.2962769892737247,-0.2496752240995096,-0.4215132256211728,0.23991555551625288,0.3603464613849015,0.36253216405348754,-0.6755560167427662,-1.1029869435017077,-0.28251521398274054,0.045265572539317296,0.6967637592926392],\"yaxis\":\"y\",\"type\":\"scatter\"},{\"hovertemplate\":\"color=C<br>symbol=Intron<br>2=%{x}<br>3=%{y}<extra></extra>\",\"legendgroup\":\"C, Intron\",\"marker\":{\"color\":\"#00cc96\",\"symbol\":\"circle\",\"size\":13},\"mode\":\"markers\",\"name\":\"C, Intron\",\"orientation\":\"v\",\"showlegend\":true,\"x\":[0.18281472873472482,0.17975979652799218,-0.49049104016198974,-0.5155923663840003,-0.35074248291878507,-0.1509750227719996,-0.3557381582168497,0.20997511987669018,0.9394677458899166,0.29814622662591217,0.1962556032900611,-0.8995684347947508],\"xaxis\":\"x\",\"y\":[0.06841047019575273,-0.23093649099065863,-0.3504860950985119,-0.21805558682729684,0.381057954755588,0.13919229661010657,0.43265426445219857,-0.008635402734533516,0.3854714021038722,-0.5641284835892701,0.1825257119834791,0.15452196083971298],\"yaxis\":\"y\",\"type\":\"scatter\"},{\"hovertemplate\":\"color=D<br>symbol=Intron<br>2=%{x}<br>3=%{y}<extra></extra>\",\"legendgroup\":\"D, Intron\",\"marker\":{\"color\":\"#ab63fa\",\"symbol\":\"circle\",\"size\":13},\"mode\":\"markers\",\"name\":\"D, Intron\",\"orientation\":\"v\",\"showlegend\":true,\"x\":[0.7362366076827731,0.10835541699811242,0.3636208771809814,-0.4865157383201035,-0.44956408545763243,-0.41867298116602286,0.12228587060880987,0.3515463372478551,0.4634289728054266,0.7378261002986833,0.7505312808353372,0.04706418761652104],\"xaxis\":\"x\",\"y\":[0.19254734190318656,-0.3520307389095446,-0.5356084569861073,-0.4943112237722788,0.1769822148553603,0.5352522604527024,0.09092938957040325,-0.8935545887940988,-0.5262571600550506,-0.09707398440803493,0.8178270574123656,-0.48458622146238856],\"yaxis\":\"y\",\"type\":\"scatter\"}],                        {\"template\":{\"data\":{\"histogram2dcontour\":[{\"type\":\"histogram2dcontour\",\"colorbar\":{\"outlinewidth\":0,\"ticks\":\"\"},\"colorscale\":[[0.0,\"#0d0887\"],[0.1111111111111111,\"#46039f\"],[0.2222222222222222,\"#7201a8\"],[0.3333333333333333,\"#9c179e\"],[0.4444444444444444,\"#bd3786\"],[0.5555555555555556,\"#d8576b\"],[0.6666666666666666,\"#ed7953\"],[0.7777777777777778,\"#fb9f3a\"],[0.8888888888888888,\"#fdca26\"],[1.0,\"#f0f921\"]]}],\"choropleth\":[{\"type\":\"choropleth\",\"colorbar\":{\"outlinewidth\":0,\"ticks\":\"\"}}],\"histogram2d\":[{\"type\":\"histogram2d\",\"colorbar\":{\"outlinewidth\":0,\"ticks\":\"\"},\"colorscale\":[[0.0,\"#0d0887\"],[0.1111111111111111,\"#46039f\"],[0.2222222222222222,\"#7201a8\"],[0.3333333333333333,\"#9c179e\"],[0.4444444444444444,\"#bd3786\"],[0.5555555555555556,\"#d8576b\"],[0.6666666666666666,\"#ed7953\"],[0.7777777777777778,\"#fb9f3a\"],[0.8888888888888888,\"#fdca26\"],[1.0,\"#f0f921\"]]}],\"heatmap\":[{\"type\":\"heatmap\",\"colorbar\":{\"outlinewidth\":0,\"ticks\":\"\"},\"colorscale\":[[0.0,\"#0d0887\"],[0.1111111111111111,\"#46039f\"],[0.2222222222222222,\"#7201a8\"],[0.3333333333333333,\"#9c179e\"],[0.4444444444444444,\"#bd3786\"],[0.5555555555555556,\"#d8576b\"],[0.6666666666666666,\"#ed7953\"],[0.7777777777777778,\"#fb9f3a\"],[0.8888888888888888,\"#fdca26\"],[1.0,\"#f0f921\"]]}],\"heatmapgl\":[{\"type\":\"heatmapgl\",\"colorbar\":{\"outlinewidth\":0,\"ticks\":\"\"},\"colorscale\":[[0.0,\"#0d0887\"],[0.1111111111111111,\"#46039f\"],[0.2222222222222222,\"#7201a8\"],[0.3333333333333333,\"#9c179e\"],[0.4444444444444444,\"#bd3786\"],[0.5555555555555556,\"#d8576b\"],[0.6666666666666666,\"#ed7953\"],[0.7777777777777778,\"#fb9f3a\"],[0.8888888888888888,\"#fdca26\"],[1.0,\"#f0f921\"]]}],\"contourcarpet\":[{\"type\":\"contourcarpet\",\"colorbar\":{\"outlinewidth\":0,\"ticks\":\"\"}}],\"contour\":[{\"type\":\"contour\",\"colorbar\":{\"outlinewidth\":0,\"ticks\":\"\"},\"colorscale\":[[0.0,\"#0d0887\"],[0.1111111111111111,\"#46039f\"],[0.2222222222222222,\"#7201a8\"],[0.3333333333333333,\"#9c179e\"],[0.4444444444444444,\"#bd3786\"],[0.5555555555555556,\"#d8576b\"],[0.6666666666666666,\"#ed7953\"],[0.7777777777777778,\"#fb9f3a\"],[0.8888888888888888,\"#fdca26\"],[1.0,\"#f0f921\"]]}],\"surface\":[{\"type\":\"surface\",\"colorbar\":{\"outlinewidth\":0,\"ticks\":\"\"},\"colorscale\":[[0.0,\"#0d0887\"],[0.1111111111111111,\"#46039f\"],[0.2222222222222222,\"#7201a8\"],[0.3333333333333333,\"#9c179e\"],[0.4444444444444444,\"#bd3786\"],[0.5555555555555556,\"#d8576b\"],[0.6666666666666666,\"#ed7953\"],[0.7777777777777778,\"#fb9f3a\"],[0.8888888888888888,\"#fdca26\"],[1.0,\"#f0f921\"]]}],\"mesh3d\":[{\"type\":\"mesh3d\",\"colorbar\":{\"outlinewidth\":0,\"ticks\":\"\"}}],\"scatter\":[{\"fillpattern\":{\"fillmode\":\"overlay\",\"size\":10,\"solidity\":0.2},\"type\":\"scatter\"}],\"parcoords\":[{\"type\":\"parcoords\",\"line\":{\"colorbar\":{\"outlinewidth\":0,\"ticks\":\"\"}}}],\"scatterpolargl\":[{\"type\":\"scatterpolargl\",\"marker\":{\"colorbar\":{\"outlinewidth\":0,\"ticks\":\"\"}}}],\"bar\":[{\"error_x\":{\"color\":\"#2a3f5f\"},\"error_y\":{\"color\":\"#2a3f5f\"},\"marker\":{\"line\":{\"color\":\"#E5ECF6\",\"width\":0.5},\"pattern\":{\"fillmode\":\"overlay\",\"size\":10,\"solidity\":0.2}},\"type\":\"bar\"}],\"scattergeo\":[{\"type\":\"scattergeo\",\"marker\":{\"colorbar\":{\"outlinewidth\":0,\"ticks\":\"\"}}}],\"scatterpolar\":[{\"type\":\"scatterpolar\",\"marker\":{\"colorbar\":{\"outlinewidth\":0,\"ticks\":\"\"}}}],\"histogram\":[{\"marker\":{\"pattern\":{\"fillmode\":\"overlay\",\"size\":10,\"solidity\":0.2}},\"type\":\"histogram\"}],\"scattergl\":[{\"type\":\"scattergl\",\"marker\":{\"colorbar\":{\"outlinewidth\":0,\"ticks\":\"\"}}}],\"scatter3d\":[{\"type\":\"scatter3d\",\"line\":{\"colorbar\":{\"outlinewidth\":0,\"ticks\":\"\"}},\"marker\":{\"colorbar\":{\"outlinewidth\":0,\"ticks\":\"\"}}}],\"scattermapbox\":[{\"type\":\"scattermapbox\",\"marker\":{\"colorbar\":{\"outlinewidth\":0,\"ticks\":\"\"}}}],\"scatterternary\":[{\"type\":\"scatterternary\",\"marker\":{\"colorbar\":{\"outlinewidth\":0,\"ticks\":\"\"}}}],\"scattercarpet\":[{\"type\":\"scattercarpet\",\"marker\":{\"colorbar\":{\"outlinewidth\":0,\"ticks\":\"\"}}}],\"carpet\":[{\"aaxis\":{\"endlinecolor\":\"#2a3f5f\",\"gridcolor\":\"white\",\"linecolor\":\"white\",\"minorgridcolor\":\"white\",\"startlinecolor\":\"#2a3f5f\"},\"baxis\":{\"endlinecolor\":\"#2a3f5f\",\"gridcolor\":\"white\",\"linecolor\":\"white\",\"minorgridcolor\":\"white\",\"startlinecolor\":\"#2a3f5f\"},\"type\":\"carpet\"}],\"table\":[{\"cells\":{\"fill\":{\"color\":\"#EBF0F8\"},\"line\":{\"color\":\"white\"}},\"header\":{\"fill\":{\"color\":\"#C8D4E3\"},\"line\":{\"color\":\"white\"}},\"type\":\"table\"}],\"barpolar\":[{\"marker\":{\"line\":{\"color\":\"#E5ECF6\",\"width\":0.5},\"pattern\":{\"fillmode\":\"overlay\",\"size\":10,\"solidity\":0.2}},\"type\":\"barpolar\"}],\"pie\":[{\"automargin\":true,\"type\":\"pie\"}]},\"layout\":{\"autotypenumbers\":\"strict\",\"colorway\":[\"#636efa\",\"#EF553B\",\"#00cc96\",\"#ab63fa\",\"#FFA15A\",\"#19d3f3\",\"#FF6692\",\"#B6E880\",\"#FF97FF\",\"#FECB52\"],\"font\":{\"color\":\"#2a3f5f\"},\"hovermode\":\"closest\",\"hoverlabel\":{\"align\":\"left\"},\"paper_bgcolor\":\"white\",\"plot_bgcolor\":\"#E5ECF6\",\"polar\":{\"bgcolor\":\"#E5ECF6\",\"angularaxis\":{\"gridcolor\":\"white\",\"linecolor\":\"white\",\"ticks\":\"\"},\"radialaxis\":{\"gridcolor\":\"white\",\"linecolor\":\"white\",\"ticks\":\"\"}},\"ternary\":{\"bgcolor\":\"#E5ECF6\",\"aaxis\":{\"gridcolor\":\"white\",\"linecolor\":\"white\",\"ticks\":\"\"},\"baxis\":{\"gridcolor\":\"white\",\"linecolor\":\"white\",\"ticks\":\"\"},\"caxis\":{\"gridcolor\":\"white\",\"linecolor\":\"white\",\"ticks\":\"\"}},\"coloraxis\":{\"colorbar\":{\"outlinewidth\":0,\"ticks\":\"\"}},\"colorscale\":{\"sequential\":[[0.0,\"#0d0887\"],[0.1111111111111111,\"#46039f\"],[0.2222222222222222,\"#7201a8\"],[0.3333333333333333,\"#9c179e\"],[0.4444444444444444,\"#bd3786\"],[0.5555555555555556,\"#d8576b\"],[0.6666666666666666,\"#ed7953\"],[0.7777777777777778,\"#fb9f3a\"],[0.8888888888888888,\"#fdca26\"],[1.0,\"#f0f921\"]],\"sequentialminus\":[[0.0,\"#0d0887\"],[0.1111111111111111,\"#46039f\"],[0.2222222222222222,\"#7201a8\"],[0.3333333333333333,\"#9c179e\"],[0.4444444444444444,\"#bd3786\"],[0.5555555555555556,\"#d8576b\"],[0.6666666666666666,\"#ed7953\"],[0.7777777777777778,\"#fb9f3a\"],[0.8888888888888888,\"#fdca26\"],[1.0,\"#f0f921\"]],\"diverging\":[[0,\"#8e0152\"],[0.1,\"#c51b7d\"],[0.2,\"#de77ae\"],[0.3,\"#f1b6da\"],[0.4,\"#fde0ef\"],[0.5,\"#f7f7f7\"],[0.6,\"#e6f5d0\"],[0.7,\"#b8e186\"],[0.8,\"#7fbc41\"],[0.9,\"#4d9221\"],[1,\"#276419\"]]},\"xaxis\":{\"gridcolor\":\"white\",\"linecolor\":\"white\",\"ticks\":\"\",\"title\":{\"standoff\":15},\"zerolinecolor\":\"white\",\"automargin\":true,\"zerolinewidth\":2},\"yaxis\":{\"gridcolor\":\"white\",\"linecolor\":\"white\",\"ticks\":\"\",\"title\":{\"standoff\":15},\"zerolinecolor\":\"white\",\"automargin\":true,\"zerolinewidth\":2},\"scene\":{\"xaxis\":{\"backgroundcolor\":\"#E5ECF6\",\"gridcolor\":\"white\",\"linecolor\":\"white\",\"showbackground\":true,\"ticks\":\"\",\"zerolinecolor\":\"white\",\"gridwidth\":2},\"yaxis\":{\"backgroundcolor\":\"#E5ECF6\",\"gridcolor\":\"white\",\"linecolor\":\"white\",\"showbackground\":true,\"ticks\":\"\",\"zerolinecolor\":\"white\",\"gridwidth\":2},\"zaxis\":{\"backgroundcolor\":\"#E5ECF6\",\"gridcolor\":\"white\",\"linecolor\":\"white\",\"showbackground\":true,\"ticks\":\"\",\"zerolinecolor\":\"white\",\"gridwidth\":2}},\"shapedefaults\":{\"line\":{\"color\":\"#2a3f5f\"}},\"annotationdefaults\":{\"arrowcolor\":\"#2a3f5f\",\"arrowhead\":0,\"arrowwidth\":1},\"geo\":{\"bgcolor\":\"white\",\"landcolor\":\"#E5ECF6\",\"subunitcolor\":\"white\",\"showland\":true,\"showlakes\":true,\"lakecolor\":\"white\"},\"title\":{\"x\":0.05},\"mapbox\":{\"style\":\"light\"}}},\"xaxis\":{\"anchor\":\"y\",\"domain\":[0.0,1.0],\"title\":{\"text\":\"PC 3 (3.3%)\"}},\"yaxis\":{\"anchor\":\"x\",\"domain\":[0.0,1.0],\"title\":{\"text\":\"PC 4 (2.6%)\"}},\"legend\":{\"title\":{\"text\":\"color, symbol\"},\"tracegroupgap\":0},\"margin\":{\"t\":60},\"height\":600,\"width\":600,\"plot_bgcolor\":\"rgb(243,243,243)\"},                        {\"responsive\": true}                    ).then(function(){\n",
       "                            \n",
       "var gd = document.getElementById('1dc527c4-b7ba-41a9-af81-b1b4e19326db');\n",
       "var x = new MutationObserver(function (mutations, observer) {{\n",
       "        var display = window.getComputedStyle(gd).display;\n",
       "        if (!display || display === 'none') {{\n",
       "            console.log([gd, 'removed!']);\n",
       "            Plotly.purge(gd);\n",
       "            observer.disconnect();\n",
       "        }}\n",
       "}});\n",
       "\n",
       "// Listen for the removal of the full notebook cells\n",
       "var notebookContainer = gd.closest('#notebook-container');\n",
       "if (notebookContainer) {{\n",
       "    x.observe(notebookContainer, {childList: true});\n",
       "}}\n",
       "\n",
       "// Listen for the clearing of the current output cell\n",
       "var outputEl = gd.closest('.output');\n",
       "if (outputEl) {{\n",
       "    x.observe(outputEl, {childList: true});\n",
       "}}\n",
       "\n",
       "                        })                };                });            </script>        </div>"
      ]
     },
     "metadata": {},
     "output_type": "display_data"
    }
   ],
   "source": [
    "def run_PCA(data, nc=5, x_1=1, x_2=2, col='replicate', shape='time', scale_d=True, log=True):\n",
    "    pca = PCA(n_components=nc)\n",
    "    x_1=x_1-1\n",
    "    x_2=x_2-1\n",
    "    \n",
    "    #print(data)\n",
    "\n",
    "    if(scale_d):\n",
    "        data_2 = scale(data)\n",
    "        #print(data_2)\n",
    "    else:\n",
    "        data_2 = data\n",
    "\n",
    "    if(log):\n",
    "        data_2 =  np.log2(data_2 + 1)\n",
    "  \n",
    "    pca.fit(data_2.T)\n",
    "\n",
    "    labels = {\n",
    "    str(i): f\"PC {i+1} ({var:.1f}%)\"\n",
    "    for i, var in enumerate(pca.explained_variance_ratio_ * 100)\n",
    "    }\n",
    "\n",
    "\n",
    "    ## compute PCA and plot\n",
    "    pca_transformed = pca.transform(data_2.T)\n",
    "    fig = px.scatter(pca_transformed, x=x_1, y=x_2,\n",
    "                     color=data.columns.get_level_values(col),\n",
    "                     symbol=data.columns.get_level_values(shape),\n",
    "                     width=600, height=600)\n",
    "\n",
    "    fig.update_traces(marker={'size': 13})\n",
    "    fig.update_layout(plot_bgcolor = 'rgb(243,243,243)', xaxis_title=labels[str(x_1)],\n",
    "                      yaxis_title=labels[str(x_2)])\n",
    "    fig.show()\n",
    "\n",
    "    df_pca= pd.DataFrame(pca.components_, columns=data.index, index = ['PC-1','PC-2','PC-3','PC-4','PC-5']);\n",
    "\n",
    "    return df_pca\n",
    "\n",
    "#Perform the PCA\n",
    "pca_introns = run_PCA(dat_intron, x_1=1, x_2=2, col='time', shape='condition', scale_d=True, log=False);\n",
    "run_PCA(dat_intron, x_1=1, x_2=2, col='replicate', shape='feature', scale_d=True, log=False);\n",
    "\n",
    "run_PCA(dat_intron, x_1=2, x_2=3, col='time', shape='condition', scale_d=True, log=False);\n",
    "run_PCA(dat_intron, x_1=2, x_2=3, col='replicate', shape='feature', scale_d=True, log=False);\n",
    "\n",
    "run_PCA(dat_intron, x_1=3, x_2=4, col='time', shape='condition', scale_d=True, log=False);\n",
    "run_PCA(dat_intron, x_1=3, x_2=4, col='replicate', shape='feature', scale_d=True, log=False);"
   ]
  },
  {
   "cell_type": "code",
   "execution_count": 105,
   "id": "5e16a29a",
   "metadata": {},
   "outputs": [
    {
     "data": {
      "application/vnd.plotly.v1+json": {
       "config": {
        "plotlyServerURL": "https://plot.ly"
       },
       "data": [
        {
         "hovertemplate": "color=00<br>symbol=WT<br>0=%{x}<br>1=%{y}<extra></extra>",
         "legendgroup": "00, WT",
         "marker": {
          "color": "#636efa",
          "size": 13,
          "symbol": "circle"
         },
         "mode": "markers",
         "name": "00, WT",
         "orientation": "v",
         "showlegend": true,
         "type": "scatter",
         "x": [
          2.9556661168859057,
          2.784519806514466,
          2.8381302752692945,
          2.5027828357791813
         ],
         "xaxis": "x",
         "y": [
          -0.08953713727655419,
          0.2591370592070803,
          1.1937589940130338,
          1.425618563141269
         ],
         "yaxis": "y"
        },
        {
         "hovertemplate": "color=02<br>symbol=WT<br>0=%{x}<br>1=%{y}<extra></extra>",
         "legendgroup": "02, WT",
         "marker": {
          "color": "#EF553B",
          "size": 13,
          "symbol": "circle"
         },
         "mode": "markers",
         "name": "02, WT",
         "orientation": "v",
         "showlegend": true,
         "type": "scatter",
         "x": [
          2.6209660037033515,
          1.380818358273747,
          1.6636664774734913,
          1.114560801035804
         ],
         "xaxis": "x",
         "y": [
          1.4477643805110962,
          2.040274526238958,
          2.3637928312737846,
          1.745968608220041
         ],
         "yaxis": "y"
        },
        {
         "hovertemplate": "color=04<br>symbol=WT<br>0=%{x}<br>1=%{y}<extra></extra>",
         "legendgroup": "04, WT",
         "marker": {
          "color": "#00cc96",
          "size": 13,
          "symbol": "circle"
         },
         "mode": "markers",
         "name": "04, WT",
         "orientation": "v",
         "showlegend": true,
         "type": "scatter",
         "x": [
          0.5690964550219729,
          1.718138452226413,
          -1.7700488467707387,
          1.7816091719316653
         ],
         "xaxis": "x",
         "y": [
          2.3103721865808127,
          2.222246321044061,
          1.3489272397551832,
          2.1616639425498194
         ],
         "yaxis": "y"
        },
        {
         "hovertemplate": "color=06<br>symbol=WT<br>0=%{x}<br>1=%{y}<extra></extra>",
         "legendgroup": "06, WT",
         "marker": {
          "color": "#ab63fa",
          "size": 13,
          "symbol": "circle"
         },
         "mode": "markers",
         "name": "06, WT",
         "orientation": "v",
         "showlegend": true,
         "type": "scatter",
         "x": [
          -1.564508605906127,
          -1.2194728511320327,
          -1.8927150483304478,
          -1.4619721272426265
         ],
         "xaxis": "x",
         "y": [
          1.8080212742696808,
          1.9054125596217766,
          1.2443619103034513,
          1.6396030992871646
         ],
         "yaxis": "y"
        },
        {
         "hovertemplate": "color=08<br>symbol=WT<br>0=%{x}<br>1=%{y}<extra></extra>",
         "legendgroup": "08, WT",
         "marker": {
          "color": "#FFA15A",
          "size": 13,
          "symbol": "circle"
         },
         "mode": "markers",
         "name": "08, WT",
         "orientation": "v",
         "showlegend": true,
         "type": "scatter",
         "x": [
          -2.3809644023266556,
          -2.5828911331806905,
          -2.5487508264940706,
          -2.357825148064397
         ],
         "xaxis": "x",
         "y": [
          0.6190783539819893,
          -0.06427097879387733,
          0.019939208390489675,
          1.0195908437753174
         ],
         "yaxis": "y"
        },
        {
         "hovertemplate": "color=10<br>symbol=WT<br>0=%{x}<br>1=%{y}<extra></extra>",
         "legendgroup": "10, WT",
         "marker": {
          "color": "#19d3f3",
          "size": 13,
          "symbol": "circle"
         },
         "mode": "markers",
         "name": "10, WT",
         "orientation": "v",
         "showlegend": true,
         "type": "scatter",
         "x": [
          -2.4846047545750563,
          -2.623367853065855,
          -2.271555706064168,
          -2.5721972730400036
         ],
         "xaxis": "x",
         "y": [
          0.2591078098983712,
          0.12212100732959999,
          -0.5619704118224987,
          0.17912013585449682
         ],
         "yaxis": "y"
        },
        {
         "hovertemplate": "color=12<br>symbol=WT<br>0=%{x}<br>1=%{y}<extra></extra>",
         "legendgroup": "12, WT",
         "marker": {
          "color": "#FF6692",
          "size": 13,
          "symbol": "circle"
         },
         "mode": "markers",
         "name": "12, WT",
         "orientation": "v",
         "showlegend": true,
         "type": "scatter",
         "x": [
          -1.9788812592046745,
          -2.4111110243933647,
          -2.4237383327057995,
          -1.6970632875749567
         ],
         "xaxis": "x",
         "y": [
          -0.6415080758365261,
          -0.5780395022350043,
          -0.4060651183957253,
          -0.782579238173389
         ],
         "yaxis": "y"
        },
        {
         "hovertemplate": "color=14<br>symbol=WT<br>0=%{x}<br>1=%{y}<extra></extra>",
         "legendgroup": "14, WT",
         "marker": {
          "color": "#B6E880",
          "size": 13,
          "symbol": "circle"
         },
         "mode": "markers",
         "name": "14, WT",
         "orientation": "v",
         "showlegend": true,
         "type": "scatter",
         "x": [
          -1.232469356333634,
          -0.6388309694022666,
          -1.6176751670186533,
          -0.6700671588047282
         ],
         "xaxis": "x",
         "y": [
          -0.9218443932556807,
          -1.2679118322740544,
          -0.7971089405699128,
          -1.178942066792693
         ],
         "yaxis": "y"
        },
        {
         "hovertemplate": "color=16<br>symbol=WT<br>0=%{x}<br>1=%{y}<extra></extra>",
         "legendgroup": "16, WT",
         "marker": {
          "color": "#FF97FF",
          "size": 13,
          "symbol": "circle"
         },
         "mode": "markers",
         "name": "16, WT",
         "orientation": "v",
         "showlegend": true,
         "type": "scatter",
         "x": [
          -0.5815045024762792,
          0.16843802276327616,
          -0.07522047819036728,
          -0.5035953751092096
         ],
         "xaxis": "x",
         "y": [
          -1.168659726888836,
          -1.2616292900610189,
          -1.2572405151086978,
          -1.079253562432685
         ],
         "yaxis": "y"
        },
        {
         "hovertemplate": "color=18<br>symbol=WT<br>0=%{x}<br>1=%{y}<extra></extra>",
         "legendgroup": "18, WT",
         "marker": {
          "color": "#FECB52",
          "size": 13,
          "symbol": "circle"
         },
         "mode": "markers",
         "name": "18, WT",
         "orientation": "v",
         "showlegend": true,
         "type": "scatter",
         "x": [
          0.05058031049617654,
          0.8212673122744,
          0.8314442374095243,
          0.39458910322594926
         ],
         "xaxis": "x",
         "y": [
          -1.1692162761621778,
          -1.6604904316502238,
          -1.5068434910309336,
          -1.517395149176934
         ],
         "yaxis": "y"
        },
        {
         "hovertemplate": "color=20<br>symbol=WT<br>0=%{x}<br>1=%{y}<extra></extra>",
         "legendgroup": "20, WT",
         "marker": {
          "color": "#636efa",
          "size": 13,
          "symbol": "circle"
         },
         "mode": "markers",
         "name": "20, WT",
         "orientation": "v",
         "showlegend": true,
         "type": "scatter",
         "x": [
          2.395836265179288,
          2.5220638170964427,
          1.3909821672192486,
          1.1875955689169893
         ],
         "xaxis": "x",
         "y": [
          -1.4584326662769758,
          -1.535952802380803,
          -1.4128899825255805,
          -1.479416410124476
         ],
         "yaxis": "y"
        },
        {
         "hovertemplate": "color=22<br>symbol=WT<br>0=%{x}<br>1=%{y}<extra></extra>",
         "legendgroup": "22, WT",
         "marker": {
          "color": "#EF553B",
          "size": 13,
          "symbol": "circle"
         },
         "mode": "markers",
         "name": "22, WT",
         "orientation": "v",
         "showlegend": true,
         "type": "scatter",
         "x": [
          2.819114576943081,
          2.674446563275818,
          2.206174834585872,
          2.1685439539054556
         ],
         "xaxis": "x",
         "y": [
          -0.6744698294987378,
          -0.5196944952647946,
          -1.3337117340611744,
          -1.0108067971775097
         ],
         "yaxis": "y"
        }
       ],
       "layout": {
        "height": 600,
        "legend": {
         "title": {
          "text": "color, symbol"
         },
         "tracegroupgap": 0
        },
        "margin": {
         "t": 60
        },
        "plot_bgcolor": "rgb(243,243,243)",
        "template": {
         "data": {
          "bar": [
           {
            "error_x": {
             "color": "#2a3f5f"
            },
            "error_y": {
             "color": "#2a3f5f"
            },
            "marker": {
             "line": {
              "color": "#E5ECF6",
              "width": 0.5
             },
             "pattern": {
              "fillmode": "overlay",
              "size": 10,
              "solidity": 0.2
             }
            },
            "type": "bar"
           }
          ],
          "barpolar": [
           {
            "marker": {
             "line": {
              "color": "#E5ECF6",
              "width": 0.5
             },
             "pattern": {
              "fillmode": "overlay",
              "size": 10,
              "solidity": 0.2
             }
            },
            "type": "barpolar"
           }
          ],
          "carpet": [
           {
            "aaxis": {
             "endlinecolor": "#2a3f5f",
             "gridcolor": "white",
             "linecolor": "white",
             "minorgridcolor": "white",
             "startlinecolor": "#2a3f5f"
            },
            "baxis": {
             "endlinecolor": "#2a3f5f",
             "gridcolor": "white",
             "linecolor": "white",
             "minorgridcolor": "white",
             "startlinecolor": "#2a3f5f"
            },
            "type": "carpet"
           }
          ],
          "choropleth": [
           {
            "colorbar": {
             "outlinewidth": 0,
             "ticks": ""
            },
            "type": "choropleth"
           }
          ],
          "contour": [
           {
            "colorbar": {
             "outlinewidth": 0,
             "ticks": ""
            },
            "colorscale": [
             [
              0,
              "#0d0887"
             ],
             [
              0.1111111111111111,
              "#46039f"
             ],
             [
              0.2222222222222222,
              "#7201a8"
             ],
             [
              0.3333333333333333,
              "#9c179e"
             ],
             [
              0.4444444444444444,
              "#bd3786"
             ],
             [
              0.5555555555555556,
              "#d8576b"
             ],
             [
              0.6666666666666666,
              "#ed7953"
             ],
             [
              0.7777777777777778,
              "#fb9f3a"
             ],
             [
              0.8888888888888888,
              "#fdca26"
             ],
             [
              1,
              "#f0f921"
             ]
            ],
            "type": "contour"
           }
          ],
          "contourcarpet": [
           {
            "colorbar": {
             "outlinewidth": 0,
             "ticks": ""
            },
            "type": "contourcarpet"
           }
          ],
          "heatmap": [
           {
            "colorbar": {
             "outlinewidth": 0,
             "ticks": ""
            },
            "colorscale": [
             [
              0,
              "#0d0887"
             ],
             [
              0.1111111111111111,
              "#46039f"
             ],
             [
              0.2222222222222222,
              "#7201a8"
             ],
             [
              0.3333333333333333,
              "#9c179e"
             ],
             [
              0.4444444444444444,
              "#bd3786"
             ],
             [
              0.5555555555555556,
              "#d8576b"
             ],
             [
              0.6666666666666666,
              "#ed7953"
             ],
             [
              0.7777777777777778,
              "#fb9f3a"
             ],
             [
              0.8888888888888888,
              "#fdca26"
             ],
             [
              1,
              "#f0f921"
             ]
            ],
            "type": "heatmap"
           }
          ],
          "heatmapgl": [
           {
            "colorbar": {
             "outlinewidth": 0,
             "ticks": ""
            },
            "colorscale": [
             [
              0,
              "#0d0887"
             ],
             [
              0.1111111111111111,
              "#46039f"
             ],
             [
              0.2222222222222222,
              "#7201a8"
             ],
             [
              0.3333333333333333,
              "#9c179e"
             ],
             [
              0.4444444444444444,
              "#bd3786"
             ],
             [
              0.5555555555555556,
              "#d8576b"
             ],
             [
              0.6666666666666666,
              "#ed7953"
             ],
             [
              0.7777777777777778,
              "#fb9f3a"
             ],
             [
              0.8888888888888888,
              "#fdca26"
             ],
             [
              1,
              "#f0f921"
             ]
            ],
            "type": "heatmapgl"
           }
          ],
          "histogram": [
           {
            "marker": {
             "pattern": {
              "fillmode": "overlay",
              "size": 10,
              "solidity": 0.2
             }
            },
            "type": "histogram"
           }
          ],
          "histogram2d": [
           {
            "colorbar": {
             "outlinewidth": 0,
             "ticks": ""
            },
            "colorscale": [
             [
              0,
              "#0d0887"
             ],
             [
              0.1111111111111111,
              "#46039f"
             ],
             [
              0.2222222222222222,
              "#7201a8"
             ],
             [
              0.3333333333333333,
              "#9c179e"
             ],
             [
              0.4444444444444444,
              "#bd3786"
             ],
             [
              0.5555555555555556,
              "#d8576b"
             ],
             [
              0.6666666666666666,
              "#ed7953"
             ],
             [
              0.7777777777777778,
              "#fb9f3a"
             ],
             [
              0.8888888888888888,
              "#fdca26"
             ],
             [
              1,
              "#f0f921"
             ]
            ],
            "type": "histogram2d"
           }
          ],
          "histogram2dcontour": [
           {
            "colorbar": {
             "outlinewidth": 0,
             "ticks": ""
            },
            "colorscale": [
             [
              0,
              "#0d0887"
             ],
             [
              0.1111111111111111,
              "#46039f"
             ],
             [
              0.2222222222222222,
              "#7201a8"
             ],
             [
              0.3333333333333333,
              "#9c179e"
             ],
             [
              0.4444444444444444,
              "#bd3786"
             ],
             [
              0.5555555555555556,
              "#d8576b"
             ],
             [
              0.6666666666666666,
              "#ed7953"
             ],
             [
              0.7777777777777778,
              "#fb9f3a"
             ],
             [
              0.8888888888888888,
              "#fdca26"
             ],
             [
              1,
              "#f0f921"
             ]
            ],
            "type": "histogram2dcontour"
           }
          ],
          "mesh3d": [
           {
            "colorbar": {
             "outlinewidth": 0,
             "ticks": ""
            },
            "type": "mesh3d"
           }
          ],
          "parcoords": [
           {
            "line": {
             "colorbar": {
              "outlinewidth": 0,
              "ticks": ""
             }
            },
            "type": "parcoords"
           }
          ],
          "pie": [
           {
            "automargin": true,
            "type": "pie"
           }
          ],
          "scatter": [
           {
            "fillpattern": {
             "fillmode": "overlay",
             "size": 10,
             "solidity": 0.2
            },
            "type": "scatter"
           }
          ],
          "scatter3d": [
           {
            "line": {
             "colorbar": {
              "outlinewidth": 0,
              "ticks": ""
             }
            },
            "marker": {
             "colorbar": {
              "outlinewidth": 0,
              "ticks": ""
             }
            },
            "type": "scatter3d"
           }
          ],
          "scattercarpet": [
           {
            "marker": {
             "colorbar": {
              "outlinewidth": 0,
              "ticks": ""
             }
            },
            "type": "scattercarpet"
           }
          ],
          "scattergeo": [
           {
            "marker": {
             "colorbar": {
              "outlinewidth": 0,
              "ticks": ""
             }
            },
            "type": "scattergeo"
           }
          ],
          "scattergl": [
           {
            "marker": {
             "colorbar": {
              "outlinewidth": 0,
              "ticks": ""
             }
            },
            "type": "scattergl"
           }
          ],
          "scattermapbox": [
           {
            "marker": {
             "colorbar": {
              "outlinewidth": 0,
              "ticks": ""
             }
            },
            "type": "scattermapbox"
           }
          ],
          "scatterpolar": [
           {
            "marker": {
             "colorbar": {
              "outlinewidth": 0,
              "ticks": ""
             }
            },
            "type": "scatterpolar"
           }
          ],
          "scatterpolargl": [
           {
            "marker": {
             "colorbar": {
              "outlinewidth": 0,
              "ticks": ""
             }
            },
            "type": "scatterpolargl"
           }
          ],
          "scatterternary": [
           {
            "marker": {
             "colorbar": {
              "outlinewidth": 0,
              "ticks": ""
             }
            },
            "type": "scatterternary"
           }
          ],
          "surface": [
           {
            "colorbar": {
             "outlinewidth": 0,
             "ticks": ""
            },
            "colorscale": [
             [
              0,
              "#0d0887"
             ],
             [
              0.1111111111111111,
              "#46039f"
             ],
             [
              0.2222222222222222,
              "#7201a8"
             ],
             [
              0.3333333333333333,
              "#9c179e"
             ],
             [
              0.4444444444444444,
              "#bd3786"
             ],
             [
              0.5555555555555556,
              "#d8576b"
             ],
             [
              0.6666666666666666,
              "#ed7953"
             ],
             [
              0.7777777777777778,
              "#fb9f3a"
             ],
             [
              0.8888888888888888,
              "#fdca26"
             ],
             [
              1,
              "#f0f921"
             ]
            ],
            "type": "surface"
           }
          ],
          "table": [
           {
            "cells": {
             "fill": {
              "color": "#EBF0F8"
             },
             "line": {
              "color": "white"
             }
            },
            "header": {
             "fill": {
              "color": "#C8D4E3"
             },
             "line": {
              "color": "white"
             }
            },
            "type": "table"
           }
          ]
         },
         "layout": {
          "annotationdefaults": {
           "arrowcolor": "#2a3f5f",
           "arrowhead": 0,
           "arrowwidth": 1
          },
          "autotypenumbers": "strict",
          "coloraxis": {
           "colorbar": {
            "outlinewidth": 0,
            "ticks": ""
           }
          },
          "colorscale": {
           "diverging": [
            [
             0,
             "#8e0152"
            ],
            [
             0.1,
             "#c51b7d"
            ],
            [
             0.2,
             "#de77ae"
            ],
            [
             0.3,
             "#f1b6da"
            ],
            [
             0.4,
             "#fde0ef"
            ],
            [
             0.5,
             "#f7f7f7"
            ],
            [
             0.6,
             "#e6f5d0"
            ],
            [
             0.7,
             "#b8e186"
            ],
            [
             0.8,
             "#7fbc41"
            ],
            [
             0.9,
             "#4d9221"
            ],
            [
             1,
             "#276419"
            ]
           ],
           "sequential": [
            [
             0,
             "#0d0887"
            ],
            [
             0.1111111111111111,
             "#46039f"
            ],
            [
             0.2222222222222222,
             "#7201a8"
            ],
            [
             0.3333333333333333,
             "#9c179e"
            ],
            [
             0.4444444444444444,
             "#bd3786"
            ],
            [
             0.5555555555555556,
             "#d8576b"
            ],
            [
             0.6666666666666666,
             "#ed7953"
            ],
            [
             0.7777777777777778,
             "#fb9f3a"
            ],
            [
             0.8888888888888888,
             "#fdca26"
            ],
            [
             1,
             "#f0f921"
            ]
           ],
           "sequentialminus": [
            [
             0,
             "#0d0887"
            ],
            [
             0.1111111111111111,
             "#46039f"
            ],
            [
             0.2222222222222222,
             "#7201a8"
            ],
            [
             0.3333333333333333,
             "#9c179e"
            ],
            [
             0.4444444444444444,
             "#bd3786"
            ],
            [
             0.5555555555555556,
             "#d8576b"
            ],
            [
             0.6666666666666666,
             "#ed7953"
            ],
            [
             0.7777777777777778,
             "#fb9f3a"
            ],
            [
             0.8888888888888888,
             "#fdca26"
            ],
            [
             1,
             "#f0f921"
            ]
           ]
          },
          "colorway": [
           "#636efa",
           "#EF553B",
           "#00cc96",
           "#ab63fa",
           "#FFA15A",
           "#19d3f3",
           "#FF6692",
           "#B6E880",
           "#FF97FF",
           "#FECB52"
          ],
          "font": {
           "color": "#2a3f5f"
          },
          "geo": {
           "bgcolor": "white",
           "lakecolor": "white",
           "landcolor": "#E5ECF6",
           "showlakes": true,
           "showland": true,
           "subunitcolor": "white"
          },
          "hoverlabel": {
           "align": "left"
          },
          "hovermode": "closest",
          "mapbox": {
           "style": "light"
          },
          "paper_bgcolor": "white",
          "plot_bgcolor": "#E5ECF6",
          "polar": {
           "angularaxis": {
            "gridcolor": "white",
            "linecolor": "white",
            "ticks": ""
           },
           "bgcolor": "#E5ECF6",
           "radialaxis": {
            "gridcolor": "white",
            "linecolor": "white",
            "ticks": ""
           }
          },
          "scene": {
           "xaxis": {
            "backgroundcolor": "#E5ECF6",
            "gridcolor": "white",
            "gridwidth": 2,
            "linecolor": "white",
            "showbackground": true,
            "ticks": "",
            "zerolinecolor": "white"
           },
           "yaxis": {
            "backgroundcolor": "#E5ECF6",
            "gridcolor": "white",
            "gridwidth": 2,
            "linecolor": "white",
            "showbackground": true,
            "ticks": "",
            "zerolinecolor": "white"
           },
           "zaxis": {
            "backgroundcolor": "#E5ECF6",
            "gridcolor": "white",
            "gridwidth": 2,
            "linecolor": "white",
            "showbackground": true,
            "ticks": "",
            "zerolinecolor": "white"
           }
          },
          "shapedefaults": {
           "line": {
            "color": "#2a3f5f"
           }
          },
          "ternary": {
           "aaxis": {
            "gridcolor": "white",
            "linecolor": "white",
            "ticks": ""
           },
           "baxis": {
            "gridcolor": "white",
            "linecolor": "white",
            "ticks": ""
           },
           "bgcolor": "#E5ECF6",
           "caxis": {
            "gridcolor": "white",
            "linecolor": "white",
            "ticks": ""
           }
          },
          "title": {
           "x": 0.05
          },
          "xaxis": {
           "automargin": true,
           "gridcolor": "white",
           "linecolor": "white",
           "ticks": "",
           "title": {
            "standoff": 15
           },
           "zerolinecolor": "white",
           "zerolinewidth": 2
          },
          "yaxis": {
           "automargin": true,
           "gridcolor": "white",
           "linecolor": "white",
           "ticks": "",
           "title": {
            "standoff": 15
           },
           "zerolinecolor": "white",
           "zerolinewidth": 2
          }
         }
        },
        "width": 600,
        "xaxis": {
         "anchor": "y",
         "domain": [
          0,
          1
         ],
         "title": {
          "text": "PC 1 (63.8%)"
         }
        },
        "yaxis": {
         "anchor": "x",
         "domain": [
          0,
          1
         ],
         "title": {
          "text": "PC 2 (29.0%)"
         }
        }
       }
      },
      "text/html": [
       "<div>                            <div id=\"11f8979a-6b30-41ae-bfbd-4e334b15a063\" class=\"plotly-graph-div\" style=\"height:600px; width:600px;\"></div>            <script type=\"text/javascript\">                require([\"plotly\"], function(Plotly) {                    window.PLOTLYENV=window.PLOTLYENV || {};                                    if (document.getElementById(\"11f8979a-6b30-41ae-bfbd-4e334b15a063\")) {                    Plotly.newPlot(                        \"11f8979a-6b30-41ae-bfbd-4e334b15a063\",                        [{\"hovertemplate\":\"color=00<br>symbol=WT<br>0=%{x}<br>1=%{y}<extra></extra>\",\"legendgroup\":\"00, WT\",\"marker\":{\"color\":\"#636efa\",\"symbol\":\"circle\",\"size\":13},\"mode\":\"markers\",\"name\":\"00, WT\",\"orientation\":\"v\",\"showlegend\":true,\"x\":[2.9556661168859057,2.784519806514466,2.8381302752692945,2.5027828357791813],\"xaxis\":\"x\",\"y\":[-0.08953713727655419,0.2591370592070803,1.1937589940130338,1.425618563141269],\"yaxis\":\"y\",\"type\":\"scatter\"},{\"hovertemplate\":\"color=02<br>symbol=WT<br>0=%{x}<br>1=%{y}<extra></extra>\",\"legendgroup\":\"02, WT\",\"marker\":{\"color\":\"#EF553B\",\"symbol\":\"circle\",\"size\":13},\"mode\":\"markers\",\"name\":\"02, WT\",\"orientation\":\"v\",\"showlegend\":true,\"x\":[2.6209660037033515,1.380818358273747,1.6636664774734913,1.114560801035804],\"xaxis\":\"x\",\"y\":[1.4477643805110962,2.040274526238958,2.3637928312737846,1.745968608220041],\"yaxis\":\"y\",\"type\":\"scatter\"},{\"hovertemplate\":\"color=04<br>symbol=WT<br>0=%{x}<br>1=%{y}<extra></extra>\",\"legendgroup\":\"04, WT\",\"marker\":{\"color\":\"#00cc96\",\"symbol\":\"circle\",\"size\":13},\"mode\":\"markers\",\"name\":\"04, WT\",\"orientation\":\"v\",\"showlegend\":true,\"x\":[0.5690964550219729,1.718138452226413,-1.7700488467707387,1.7816091719316653],\"xaxis\":\"x\",\"y\":[2.3103721865808127,2.222246321044061,1.3489272397551832,2.1616639425498194],\"yaxis\":\"y\",\"type\":\"scatter\"},{\"hovertemplate\":\"color=06<br>symbol=WT<br>0=%{x}<br>1=%{y}<extra></extra>\",\"legendgroup\":\"06, WT\",\"marker\":{\"color\":\"#ab63fa\",\"symbol\":\"circle\",\"size\":13},\"mode\":\"markers\",\"name\":\"06, WT\",\"orientation\":\"v\",\"showlegend\":true,\"x\":[-1.564508605906127,-1.2194728511320327,-1.8927150483304478,-1.4619721272426265],\"xaxis\":\"x\",\"y\":[1.8080212742696808,1.9054125596217766,1.2443619103034513,1.6396030992871646],\"yaxis\":\"y\",\"type\":\"scatter\"},{\"hovertemplate\":\"color=08<br>symbol=WT<br>0=%{x}<br>1=%{y}<extra></extra>\",\"legendgroup\":\"08, WT\",\"marker\":{\"color\":\"#FFA15A\",\"symbol\":\"circle\",\"size\":13},\"mode\":\"markers\",\"name\":\"08, WT\",\"orientation\":\"v\",\"showlegend\":true,\"x\":[-2.3809644023266556,-2.5828911331806905,-2.5487508264940706,-2.357825148064397],\"xaxis\":\"x\",\"y\":[0.6190783539819893,-0.06427097879387733,0.019939208390489675,1.0195908437753174],\"yaxis\":\"y\",\"type\":\"scatter\"},{\"hovertemplate\":\"color=10<br>symbol=WT<br>0=%{x}<br>1=%{y}<extra></extra>\",\"legendgroup\":\"10, WT\",\"marker\":{\"color\":\"#19d3f3\",\"symbol\":\"circle\",\"size\":13},\"mode\":\"markers\",\"name\":\"10, WT\",\"orientation\":\"v\",\"showlegend\":true,\"x\":[-2.4846047545750563,-2.623367853065855,-2.271555706064168,-2.5721972730400036],\"xaxis\":\"x\",\"y\":[0.2591078098983712,0.12212100732959999,-0.5619704118224987,0.17912013585449682],\"yaxis\":\"y\",\"type\":\"scatter\"},{\"hovertemplate\":\"color=12<br>symbol=WT<br>0=%{x}<br>1=%{y}<extra></extra>\",\"legendgroup\":\"12, WT\",\"marker\":{\"color\":\"#FF6692\",\"symbol\":\"circle\",\"size\":13},\"mode\":\"markers\",\"name\":\"12, WT\",\"orientation\":\"v\",\"showlegend\":true,\"x\":[-1.9788812592046745,-2.4111110243933647,-2.4237383327057995,-1.6970632875749567],\"xaxis\":\"x\",\"y\":[-0.6415080758365261,-0.5780395022350043,-0.4060651183957253,-0.782579238173389],\"yaxis\":\"y\",\"type\":\"scatter\"},{\"hovertemplate\":\"color=14<br>symbol=WT<br>0=%{x}<br>1=%{y}<extra></extra>\",\"legendgroup\":\"14, WT\",\"marker\":{\"color\":\"#B6E880\",\"symbol\":\"circle\",\"size\":13},\"mode\":\"markers\",\"name\":\"14, WT\",\"orientation\":\"v\",\"showlegend\":true,\"x\":[-1.232469356333634,-0.6388309694022666,-1.6176751670186533,-0.6700671588047282],\"xaxis\":\"x\",\"y\":[-0.9218443932556807,-1.2679118322740544,-0.7971089405699128,-1.178942066792693],\"yaxis\":\"y\",\"type\":\"scatter\"},{\"hovertemplate\":\"color=16<br>symbol=WT<br>0=%{x}<br>1=%{y}<extra></extra>\",\"legendgroup\":\"16, WT\",\"marker\":{\"color\":\"#FF97FF\",\"symbol\":\"circle\",\"size\":13},\"mode\":\"markers\",\"name\":\"16, WT\",\"orientation\":\"v\",\"showlegend\":true,\"x\":[-0.5815045024762792,0.16843802276327616,-0.07522047819036728,-0.5035953751092096],\"xaxis\":\"x\",\"y\":[-1.168659726888836,-1.2616292900610189,-1.2572405151086978,-1.079253562432685],\"yaxis\":\"y\",\"type\":\"scatter\"},{\"hovertemplate\":\"color=18<br>symbol=WT<br>0=%{x}<br>1=%{y}<extra></extra>\",\"legendgroup\":\"18, WT\",\"marker\":{\"color\":\"#FECB52\",\"symbol\":\"circle\",\"size\":13},\"mode\":\"markers\",\"name\":\"18, WT\",\"orientation\":\"v\",\"showlegend\":true,\"x\":[0.05058031049617654,0.8212673122744,0.8314442374095243,0.39458910322594926],\"xaxis\":\"x\",\"y\":[-1.1692162761621778,-1.6604904316502238,-1.5068434910309336,-1.517395149176934],\"yaxis\":\"y\",\"type\":\"scatter\"},{\"hovertemplate\":\"color=20<br>symbol=WT<br>0=%{x}<br>1=%{y}<extra></extra>\",\"legendgroup\":\"20, WT\",\"marker\":{\"color\":\"#636efa\",\"symbol\":\"circle\",\"size\":13},\"mode\":\"markers\",\"name\":\"20, WT\",\"orientation\":\"v\",\"showlegend\":true,\"x\":[2.395836265179288,2.5220638170964427,1.3909821672192486,1.1875955689169893],\"xaxis\":\"x\",\"y\":[-1.4584326662769758,-1.535952802380803,-1.4128899825255805,-1.479416410124476],\"yaxis\":\"y\",\"type\":\"scatter\"},{\"hovertemplate\":\"color=22<br>symbol=WT<br>0=%{x}<br>1=%{y}<extra></extra>\",\"legendgroup\":\"22, WT\",\"marker\":{\"color\":\"#EF553B\",\"symbol\":\"circle\",\"size\":13},\"mode\":\"markers\",\"name\":\"22, WT\",\"orientation\":\"v\",\"showlegend\":true,\"x\":[2.819114576943081,2.674446563275818,2.206174834585872,2.1685439539054556],\"xaxis\":\"x\",\"y\":[-0.6744698294987378,-0.5196944952647946,-1.3337117340611744,-1.0108067971775097],\"yaxis\":\"y\",\"type\":\"scatter\"}],                        {\"template\":{\"data\":{\"histogram2dcontour\":[{\"type\":\"histogram2dcontour\",\"colorbar\":{\"outlinewidth\":0,\"ticks\":\"\"},\"colorscale\":[[0.0,\"#0d0887\"],[0.1111111111111111,\"#46039f\"],[0.2222222222222222,\"#7201a8\"],[0.3333333333333333,\"#9c179e\"],[0.4444444444444444,\"#bd3786\"],[0.5555555555555556,\"#d8576b\"],[0.6666666666666666,\"#ed7953\"],[0.7777777777777778,\"#fb9f3a\"],[0.8888888888888888,\"#fdca26\"],[1.0,\"#f0f921\"]]}],\"choropleth\":[{\"type\":\"choropleth\",\"colorbar\":{\"outlinewidth\":0,\"ticks\":\"\"}}],\"histogram2d\":[{\"type\":\"histogram2d\",\"colorbar\":{\"outlinewidth\":0,\"ticks\":\"\"},\"colorscale\":[[0.0,\"#0d0887\"],[0.1111111111111111,\"#46039f\"],[0.2222222222222222,\"#7201a8\"],[0.3333333333333333,\"#9c179e\"],[0.4444444444444444,\"#bd3786\"],[0.5555555555555556,\"#d8576b\"],[0.6666666666666666,\"#ed7953\"],[0.7777777777777778,\"#fb9f3a\"],[0.8888888888888888,\"#fdca26\"],[1.0,\"#f0f921\"]]}],\"heatmap\":[{\"type\":\"heatmap\",\"colorbar\":{\"outlinewidth\":0,\"ticks\":\"\"},\"colorscale\":[[0.0,\"#0d0887\"],[0.1111111111111111,\"#46039f\"],[0.2222222222222222,\"#7201a8\"],[0.3333333333333333,\"#9c179e\"],[0.4444444444444444,\"#bd3786\"],[0.5555555555555556,\"#d8576b\"],[0.6666666666666666,\"#ed7953\"],[0.7777777777777778,\"#fb9f3a\"],[0.8888888888888888,\"#fdca26\"],[1.0,\"#f0f921\"]]}],\"heatmapgl\":[{\"type\":\"heatmapgl\",\"colorbar\":{\"outlinewidth\":0,\"ticks\":\"\"},\"colorscale\":[[0.0,\"#0d0887\"],[0.1111111111111111,\"#46039f\"],[0.2222222222222222,\"#7201a8\"],[0.3333333333333333,\"#9c179e\"],[0.4444444444444444,\"#bd3786\"],[0.5555555555555556,\"#d8576b\"],[0.6666666666666666,\"#ed7953\"],[0.7777777777777778,\"#fb9f3a\"],[0.8888888888888888,\"#fdca26\"],[1.0,\"#f0f921\"]]}],\"contourcarpet\":[{\"type\":\"contourcarpet\",\"colorbar\":{\"outlinewidth\":0,\"ticks\":\"\"}}],\"contour\":[{\"type\":\"contour\",\"colorbar\":{\"outlinewidth\":0,\"ticks\":\"\"},\"colorscale\":[[0.0,\"#0d0887\"],[0.1111111111111111,\"#46039f\"],[0.2222222222222222,\"#7201a8\"],[0.3333333333333333,\"#9c179e\"],[0.4444444444444444,\"#bd3786\"],[0.5555555555555556,\"#d8576b\"],[0.6666666666666666,\"#ed7953\"],[0.7777777777777778,\"#fb9f3a\"],[0.8888888888888888,\"#fdca26\"],[1.0,\"#f0f921\"]]}],\"surface\":[{\"type\":\"surface\",\"colorbar\":{\"outlinewidth\":0,\"ticks\":\"\"},\"colorscale\":[[0.0,\"#0d0887\"],[0.1111111111111111,\"#46039f\"],[0.2222222222222222,\"#7201a8\"],[0.3333333333333333,\"#9c179e\"],[0.4444444444444444,\"#bd3786\"],[0.5555555555555556,\"#d8576b\"],[0.6666666666666666,\"#ed7953\"],[0.7777777777777778,\"#fb9f3a\"],[0.8888888888888888,\"#fdca26\"],[1.0,\"#f0f921\"]]}],\"mesh3d\":[{\"type\":\"mesh3d\",\"colorbar\":{\"outlinewidth\":0,\"ticks\":\"\"}}],\"scatter\":[{\"fillpattern\":{\"fillmode\":\"overlay\",\"size\":10,\"solidity\":0.2},\"type\":\"scatter\"}],\"parcoords\":[{\"type\":\"parcoords\",\"line\":{\"colorbar\":{\"outlinewidth\":0,\"ticks\":\"\"}}}],\"scatterpolargl\":[{\"type\":\"scatterpolargl\",\"marker\":{\"colorbar\":{\"outlinewidth\":0,\"ticks\":\"\"}}}],\"bar\":[{\"error_x\":{\"color\":\"#2a3f5f\"},\"error_y\":{\"color\":\"#2a3f5f\"},\"marker\":{\"line\":{\"color\":\"#E5ECF6\",\"width\":0.5},\"pattern\":{\"fillmode\":\"overlay\",\"size\":10,\"solidity\":0.2}},\"type\":\"bar\"}],\"scattergeo\":[{\"type\":\"scattergeo\",\"marker\":{\"colorbar\":{\"outlinewidth\":0,\"ticks\":\"\"}}}],\"scatterpolar\":[{\"type\":\"scatterpolar\",\"marker\":{\"colorbar\":{\"outlinewidth\":0,\"ticks\":\"\"}}}],\"histogram\":[{\"marker\":{\"pattern\":{\"fillmode\":\"overlay\",\"size\":10,\"solidity\":0.2}},\"type\":\"histogram\"}],\"scattergl\":[{\"type\":\"scattergl\",\"marker\":{\"colorbar\":{\"outlinewidth\":0,\"ticks\":\"\"}}}],\"scatter3d\":[{\"type\":\"scatter3d\",\"line\":{\"colorbar\":{\"outlinewidth\":0,\"ticks\":\"\"}},\"marker\":{\"colorbar\":{\"outlinewidth\":0,\"ticks\":\"\"}}}],\"scattermapbox\":[{\"type\":\"scattermapbox\",\"marker\":{\"colorbar\":{\"outlinewidth\":0,\"ticks\":\"\"}}}],\"scatterternary\":[{\"type\":\"scatterternary\",\"marker\":{\"colorbar\":{\"outlinewidth\":0,\"ticks\":\"\"}}}],\"scattercarpet\":[{\"type\":\"scattercarpet\",\"marker\":{\"colorbar\":{\"outlinewidth\":0,\"ticks\":\"\"}}}],\"carpet\":[{\"aaxis\":{\"endlinecolor\":\"#2a3f5f\",\"gridcolor\":\"white\",\"linecolor\":\"white\",\"minorgridcolor\":\"white\",\"startlinecolor\":\"#2a3f5f\"},\"baxis\":{\"endlinecolor\":\"#2a3f5f\",\"gridcolor\":\"white\",\"linecolor\":\"white\",\"minorgridcolor\":\"white\",\"startlinecolor\":\"#2a3f5f\"},\"type\":\"carpet\"}],\"table\":[{\"cells\":{\"fill\":{\"color\":\"#EBF0F8\"},\"line\":{\"color\":\"white\"}},\"header\":{\"fill\":{\"color\":\"#C8D4E3\"},\"line\":{\"color\":\"white\"}},\"type\":\"table\"}],\"barpolar\":[{\"marker\":{\"line\":{\"color\":\"#E5ECF6\",\"width\":0.5},\"pattern\":{\"fillmode\":\"overlay\",\"size\":10,\"solidity\":0.2}},\"type\":\"barpolar\"}],\"pie\":[{\"automargin\":true,\"type\":\"pie\"}]},\"layout\":{\"autotypenumbers\":\"strict\",\"colorway\":[\"#636efa\",\"#EF553B\",\"#00cc96\",\"#ab63fa\",\"#FFA15A\",\"#19d3f3\",\"#FF6692\",\"#B6E880\",\"#FF97FF\",\"#FECB52\"],\"font\":{\"color\":\"#2a3f5f\"},\"hovermode\":\"closest\",\"hoverlabel\":{\"align\":\"left\"},\"paper_bgcolor\":\"white\",\"plot_bgcolor\":\"#E5ECF6\",\"polar\":{\"bgcolor\":\"#E5ECF6\",\"angularaxis\":{\"gridcolor\":\"white\",\"linecolor\":\"white\",\"ticks\":\"\"},\"radialaxis\":{\"gridcolor\":\"white\",\"linecolor\":\"white\",\"ticks\":\"\"}},\"ternary\":{\"bgcolor\":\"#E5ECF6\",\"aaxis\":{\"gridcolor\":\"white\",\"linecolor\":\"white\",\"ticks\":\"\"},\"baxis\":{\"gridcolor\":\"white\",\"linecolor\":\"white\",\"ticks\":\"\"},\"caxis\":{\"gridcolor\":\"white\",\"linecolor\":\"white\",\"ticks\":\"\"}},\"coloraxis\":{\"colorbar\":{\"outlinewidth\":0,\"ticks\":\"\"}},\"colorscale\":{\"sequential\":[[0.0,\"#0d0887\"],[0.1111111111111111,\"#46039f\"],[0.2222222222222222,\"#7201a8\"],[0.3333333333333333,\"#9c179e\"],[0.4444444444444444,\"#bd3786\"],[0.5555555555555556,\"#d8576b\"],[0.6666666666666666,\"#ed7953\"],[0.7777777777777778,\"#fb9f3a\"],[0.8888888888888888,\"#fdca26\"],[1.0,\"#f0f921\"]],\"sequentialminus\":[[0.0,\"#0d0887\"],[0.1111111111111111,\"#46039f\"],[0.2222222222222222,\"#7201a8\"],[0.3333333333333333,\"#9c179e\"],[0.4444444444444444,\"#bd3786\"],[0.5555555555555556,\"#d8576b\"],[0.6666666666666666,\"#ed7953\"],[0.7777777777777778,\"#fb9f3a\"],[0.8888888888888888,\"#fdca26\"],[1.0,\"#f0f921\"]],\"diverging\":[[0,\"#8e0152\"],[0.1,\"#c51b7d\"],[0.2,\"#de77ae\"],[0.3,\"#f1b6da\"],[0.4,\"#fde0ef\"],[0.5,\"#f7f7f7\"],[0.6,\"#e6f5d0\"],[0.7,\"#b8e186\"],[0.8,\"#7fbc41\"],[0.9,\"#4d9221\"],[1,\"#276419\"]]},\"xaxis\":{\"gridcolor\":\"white\",\"linecolor\":\"white\",\"ticks\":\"\",\"title\":{\"standoff\":15},\"zerolinecolor\":\"white\",\"automargin\":true,\"zerolinewidth\":2},\"yaxis\":{\"gridcolor\":\"white\",\"linecolor\":\"white\",\"ticks\":\"\",\"title\":{\"standoff\":15},\"zerolinecolor\":\"white\",\"automargin\":true,\"zerolinewidth\":2},\"scene\":{\"xaxis\":{\"backgroundcolor\":\"#E5ECF6\",\"gridcolor\":\"white\",\"linecolor\":\"white\",\"showbackground\":true,\"ticks\":\"\",\"zerolinecolor\":\"white\",\"gridwidth\":2},\"yaxis\":{\"backgroundcolor\":\"#E5ECF6\",\"gridcolor\":\"white\",\"linecolor\":\"white\",\"showbackground\":true,\"ticks\":\"\",\"zerolinecolor\":\"white\",\"gridwidth\":2},\"zaxis\":{\"backgroundcolor\":\"#E5ECF6\",\"gridcolor\":\"white\",\"linecolor\":\"white\",\"showbackground\":true,\"ticks\":\"\",\"zerolinecolor\":\"white\",\"gridwidth\":2}},\"shapedefaults\":{\"line\":{\"color\":\"#2a3f5f\"}},\"annotationdefaults\":{\"arrowcolor\":\"#2a3f5f\",\"arrowhead\":0,\"arrowwidth\":1},\"geo\":{\"bgcolor\":\"white\",\"landcolor\":\"#E5ECF6\",\"subunitcolor\":\"white\",\"showland\":true,\"showlakes\":true,\"lakecolor\":\"white\"},\"title\":{\"x\":0.05},\"mapbox\":{\"style\":\"light\"}}},\"xaxis\":{\"anchor\":\"y\",\"domain\":[0.0,1.0],\"title\":{\"text\":\"PC 1 (63.8%)\"}},\"yaxis\":{\"anchor\":\"x\",\"domain\":[0.0,1.0],\"title\":{\"text\":\"PC 2 (29.0%)\"}},\"legend\":{\"title\":{\"text\":\"color, symbol\"},\"tracegroupgap\":0},\"margin\":{\"t\":60},\"height\":600,\"width\":600,\"plot_bgcolor\":\"rgb(243,243,243)\"},                        {\"responsive\": true}                    ).then(function(){\n",
       "                            \n",
       "var gd = document.getElementById('11f8979a-6b30-41ae-bfbd-4e334b15a063');\n",
       "var x = new MutationObserver(function (mutations, observer) {{\n",
       "        var display = window.getComputedStyle(gd).display;\n",
       "        if (!display || display === 'none') {{\n",
       "            console.log([gd, 'removed!']);\n",
       "            Plotly.purge(gd);\n",
       "            observer.disconnect();\n",
       "        }}\n",
       "}});\n",
       "\n",
       "// Listen for the removal of the full notebook cells\n",
       "var notebookContainer = gd.closest('#notebook-container');\n",
       "if (notebookContainer) {{\n",
       "    x.observe(notebookContainer, {childList: true});\n",
       "}}\n",
       "\n",
       "// Listen for the clearing of the current output cell\n",
       "var outputEl = gd.closest('.output');\n",
       "if (outputEl) {{\n",
       "    x.observe(outputEl, {childList: true});\n",
       "}}\n",
       "\n",
       "                        })                };                });            </script>        </div>"
      ]
     },
     "metadata": {},
     "output_type": "display_data"
    },
    {
     "data": {
      "application/vnd.plotly.v1+json": {
       "config": {
        "plotlyServerURL": "https://plot.ly"
       },
       "data": [
        {
         "hovertemplate": "color=A<br>symbol=Exon<br>0=%{x}<br>1=%{y}<extra></extra>",
         "legendgroup": "A, Exon",
         "marker": {
          "color": "#636efa",
          "size": 13,
          "symbol": "circle"
         },
         "mode": "markers",
         "name": "A, Exon",
         "orientation": "v",
         "showlegend": true,
         "type": "scatter",
         "x": [
          2.9556661168859057,
          2.6209660037033515,
          0.5690964550219729,
          -1.564508605906127,
          -2.3809644023266556,
          -2.4846047545750563,
          -1.9788812592046745,
          -1.232469356333634,
          -0.5815045024762792,
          0.05058031049617654,
          2.395836265179288,
          2.819114576943081
         ],
         "xaxis": "x",
         "y": [
          -0.08953713727655419,
          1.4477643805110962,
          2.3103721865808127,
          1.8080212742696808,
          0.6190783539819893,
          0.2591078098983712,
          -0.6415080758365261,
          -0.9218443932556807,
          -1.168659726888836,
          -1.1692162761621778,
          -1.4584326662769758,
          -0.6744698294987378
         ],
         "yaxis": "y"
        },
        {
         "hovertemplate": "color=B<br>symbol=Exon<br>0=%{x}<br>1=%{y}<extra></extra>",
         "legendgroup": "B, Exon",
         "marker": {
          "color": "#EF553B",
          "size": 13,
          "symbol": "circle"
         },
         "mode": "markers",
         "name": "B, Exon",
         "orientation": "v",
         "showlegend": true,
         "type": "scatter",
         "x": [
          2.784519806514466,
          1.380818358273747,
          1.718138452226413,
          -1.2194728511320327,
          -2.5828911331806905,
          -2.623367853065855,
          -2.4111110243933647,
          -0.6388309694022666,
          0.16843802276327616,
          0.8212673122744,
          2.5220638170964427,
          2.674446563275818
         ],
         "xaxis": "x",
         "y": [
          0.2591370592070803,
          2.040274526238958,
          2.222246321044061,
          1.9054125596217766,
          -0.06427097879387733,
          0.12212100732959999,
          -0.5780395022350043,
          -1.2679118322740544,
          -1.2616292900610189,
          -1.6604904316502238,
          -1.535952802380803,
          -0.5196944952647946
         ],
         "yaxis": "y"
        },
        {
         "hovertemplate": "color=C<br>symbol=Exon<br>0=%{x}<br>1=%{y}<extra></extra>",
         "legendgroup": "C, Exon",
         "marker": {
          "color": "#00cc96",
          "size": 13,
          "symbol": "circle"
         },
         "mode": "markers",
         "name": "C, Exon",
         "orientation": "v",
         "showlegend": true,
         "type": "scatter",
         "x": [
          2.8381302752692945,
          1.6636664774734913,
          -1.7700488467707387,
          -1.8927150483304478,
          -2.5487508264940706,
          -2.271555706064168,
          -2.4237383327057995,
          -1.6176751670186533,
          -0.07522047819036728,
          0.8314442374095243,
          1.3909821672192486,
          2.206174834585872
         ],
         "xaxis": "x",
         "y": [
          1.1937589940130338,
          2.3637928312737846,
          1.3489272397551832,
          1.2443619103034513,
          0.019939208390489675,
          -0.5619704118224987,
          -0.4060651183957253,
          -0.7971089405699128,
          -1.2572405151086978,
          -1.5068434910309336,
          -1.4128899825255805,
          -1.3337117340611744
         ],
         "yaxis": "y"
        },
        {
         "hovertemplate": "color=D<br>symbol=Exon<br>0=%{x}<br>1=%{y}<extra></extra>",
         "legendgroup": "D, Exon",
         "marker": {
          "color": "#ab63fa",
          "size": 13,
          "symbol": "circle"
         },
         "mode": "markers",
         "name": "D, Exon",
         "orientation": "v",
         "showlegend": true,
         "type": "scatter",
         "x": [
          2.5027828357791813,
          1.114560801035804,
          1.7816091719316653,
          -1.4619721272426265,
          -2.357825148064397,
          -2.5721972730400036,
          -1.6970632875749567,
          -0.6700671588047282,
          -0.5035953751092096,
          0.39458910322594926,
          1.1875955689169893,
          2.1685439539054556
         ],
         "xaxis": "x",
         "y": [
          1.425618563141269,
          1.745968608220041,
          2.1616639425498194,
          1.6396030992871646,
          1.0195908437753174,
          0.17912013585449682,
          -0.782579238173389,
          -1.178942066792693,
          -1.079253562432685,
          -1.517395149176934,
          -1.479416410124476,
          -1.0108067971775097
         ],
         "yaxis": "y"
        }
       ],
       "layout": {
        "height": 600,
        "legend": {
         "title": {
          "text": "color, symbol"
         },
         "tracegroupgap": 0
        },
        "margin": {
         "t": 60
        },
        "plot_bgcolor": "rgb(243,243,243)",
        "template": {
         "data": {
          "bar": [
           {
            "error_x": {
             "color": "#2a3f5f"
            },
            "error_y": {
             "color": "#2a3f5f"
            },
            "marker": {
             "line": {
              "color": "#E5ECF6",
              "width": 0.5
             },
             "pattern": {
              "fillmode": "overlay",
              "size": 10,
              "solidity": 0.2
             }
            },
            "type": "bar"
           }
          ],
          "barpolar": [
           {
            "marker": {
             "line": {
              "color": "#E5ECF6",
              "width": 0.5
             },
             "pattern": {
              "fillmode": "overlay",
              "size": 10,
              "solidity": 0.2
             }
            },
            "type": "barpolar"
           }
          ],
          "carpet": [
           {
            "aaxis": {
             "endlinecolor": "#2a3f5f",
             "gridcolor": "white",
             "linecolor": "white",
             "minorgridcolor": "white",
             "startlinecolor": "#2a3f5f"
            },
            "baxis": {
             "endlinecolor": "#2a3f5f",
             "gridcolor": "white",
             "linecolor": "white",
             "minorgridcolor": "white",
             "startlinecolor": "#2a3f5f"
            },
            "type": "carpet"
           }
          ],
          "choropleth": [
           {
            "colorbar": {
             "outlinewidth": 0,
             "ticks": ""
            },
            "type": "choropleth"
           }
          ],
          "contour": [
           {
            "colorbar": {
             "outlinewidth": 0,
             "ticks": ""
            },
            "colorscale": [
             [
              0,
              "#0d0887"
             ],
             [
              0.1111111111111111,
              "#46039f"
             ],
             [
              0.2222222222222222,
              "#7201a8"
             ],
             [
              0.3333333333333333,
              "#9c179e"
             ],
             [
              0.4444444444444444,
              "#bd3786"
             ],
             [
              0.5555555555555556,
              "#d8576b"
             ],
             [
              0.6666666666666666,
              "#ed7953"
             ],
             [
              0.7777777777777778,
              "#fb9f3a"
             ],
             [
              0.8888888888888888,
              "#fdca26"
             ],
             [
              1,
              "#f0f921"
             ]
            ],
            "type": "contour"
           }
          ],
          "contourcarpet": [
           {
            "colorbar": {
             "outlinewidth": 0,
             "ticks": ""
            },
            "type": "contourcarpet"
           }
          ],
          "heatmap": [
           {
            "colorbar": {
             "outlinewidth": 0,
             "ticks": ""
            },
            "colorscale": [
             [
              0,
              "#0d0887"
             ],
             [
              0.1111111111111111,
              "#46039f"
             ],
             [
              0.2222222222222222,
              "#7201a8"
             ],
             [
              0.3333333333333333,
              "#9c179e"
             ],
             [
              0.4444444444444444,
              "#bd3786"
             ],
             [
              0.5555555555555556,
              "#d8576b"
             ],
             [
              0.6666666666666666,
              "#ed7953"
             ],
             [
              0.7777777777777778,
              "#fb9f3a"
             ],
             [
              0.8888888888888888,
              "#fdca26"
             ],
             [
              1,
              "#f0f921"
             ]
            ],
            "type": "heatmap"
           }
          ],
          "heatmapgl": [
           {
            "colorbar": {
             "outlinewidth": 0,
             "ticks": ""
            },
            "colorscale": [
             [
              0,
              "#0d0887"
             ],
             [
              0.1111111111111111,
              "#46039f"
             ],
             [
              0.2222222222222222,
              "#7201a8"
             ],
             [
              0.3333333333333333,
              "#9c179e"
             ],
             [
              0.4444444444444444,
              "#bd3786"
             ],
             [
              0.5555555555555556,
              "#d8576b"
             ],
             [
              0.6666666666666666,
              "#ed7953"
             ],
             [
              0.7777777777777778,
              "#fb9f3a"
             ],
             [
              0.8888888888888888,
              "#fdca26"
             ],
             [
              1,
              "#f0f921"
             ]
            ],
            "type": "heatmapgl"
           }
          ],
          "histogram": [
           {
            "marker": {
             "pattern": {
              "fillmode": "overlay",
              "size": 10,
              "solidity": 0.2
             }
            },
            "type": "histogram"
           }
          ],
          "histogram2d": [
           {
            "colorbar": {
             "outlinewidth": 0,
             "ticks": ""
            },
            "colorscale": [
             [
              0,
              "#0d0887"
             ],
             [
              0.1111111111111111,
              "#46039f"
             ],
             [
              0.2222222222222222,
              "#7201a8"
             ],
             [
              0.3333333333333333,
              "#9c179e"
             ],
             [
              0.4444444444444444,
              "#bd3786"
             ],
             [
              0.5555555555555556,
              "#d8576b"
             ],
             [
              0.6666666666666666,
              "#ed7953"
             ],
             [
              0.7777777777777778,
              "#fb9f3a"
             ],
             [
              0.8888888888888888,
              "#fdca26"
             ],
             [
              1,
              "#f0f921"
             ]
            ],
            "type": "histogram2d"
           }
          ],
          "histogram2dcontour": [
           {
            "colorbar": {
             "outlinewidth": 0,
             "ticks": ""
            },
            "colorscale": [
             [
              0,
              "#0d0887"
             ],
             [
              0.1111111111111111,
              "#46039f"
             ],
             [
              0.2222222222222222,
              "#7201a8"
             ],
             [
              0.3333333333333333,
              "#9c179e"
             ],
             [
              0.4444444444444444,
              "#bd3786"
             ],
             [
              0.5555555555555556,
              "#d8576b"
             ],
             [
              0.6666666666666666,
              "#ed7953"
             ],
             [
              0.7777777777777778,
              "#fb9f3a"
             ],
             [
              0.8888888888888888,
              "#fdca26"
             ],
             [
              1,
              "#f0f921"
             ]
            ],
            "type": "histogram2dcontour"
           }
          ],
          "mesh3d": [
           {
            "colorbar": {
             "outlinewidth": 0,
             "ticks": ""
            },
            "type": "mesh3d"
           }
          ],
          "parcoords": [
           {
            "line": {
             "colorbar": {
              "outlinewidth": 0,
              "ticks": ""
             }
            },
            "type": "parcoords"
           }
          ],
          "pie": [
           {
            "automargin": true,
            "type": "pie"
           }
          ],
          "scatter": [
           {
            "fillpattern": {
             "fillmode": "overlay",
             "size": 10,
             "solidity": 0.2
            },
            "type": "scatter"
           }
          ],
          "scatter3d": [
           {
            "line": {
             "colorbar": {
              "outlinewidth": 0,
              "ticks": ""
             }
            },
            "marker": {
             "colorbar": {
              "outlinewidth": 0,
              "ticks": ""
             }
            },
            "type": "scatter3d"
           }
          ],
          "scattercarpet": [
           {
            "marker": {
             "colorbar": {
              "outlinewidth": 0,
              "ticks": ""
             }
            },
            "type": "scattercarpet"
           }
          ],
          "scattergeo": [
           {
            "marker": {
             "colorbar": {
              "outlinewidth": 0,
              "ticks": ""
             }
            },
            "type": "scattergeo"
           }
          ],
          "scattergl": [
           {
            "marker": {
             "colorbar": {
              "outlinewidth": 0,
              "ticks": ""
             }
            },
            "type": "scattergl"
           }
          ],
          "scattermapbox": [
           {
            "marker": {
             "colorbar": {
              "outlinewidth": 0,
              "ticks": ""
             }
            },
            "type": "scattermapbox"
           }
          ],
          "scatterpolar": [
           {
            "marker": {
             "colorbar": {
              "outlinewidth": 0,
              "ticks": ""
             }
            },
            "type": "scatterpolar"
           }
          ],
          "scatterpolargl": [
           {
            "marker": {
             "colorbar": {
              "outlinewidth": 0,
              "ticks": ""
             }
            },
            "type": "scatterpolargl"
           }
          ],
          "scatterternary": [
           {
            "marker": {
             "colorbar": {
              "outlinewidth": 0,
              "ticks": ""
             }
            },
            "type": "scatterternary"
           }
          ],
          "surface": [
           {
            "colorbar": {
             "outlinewidth": 0,
             "ticks": ""
            },
            "colorscale": [
             [
              0,
              "#0d0887"
             ],
             [
              0.1111111111111111,
              "#46039f"
             ],
             [
              0.2222222222222222,
              "#7201a8"
             ],
             [
              0.3333333333333333,
              "#9c179e"
             ],
             [
              0.4444444444444444,
              "#bd3786"
             ],
             [
              0.5555555555555556,
              "#d8576b"
             ],
             [
              0.6666666666666666,
              "#ed7953"
             ],
             [
              0.7777777777777778,
              "#fb9f3a"
             ],
             [
              0.8888888888888888,
              "#fdca26"
             ],
             [
              1,
              "#f0f921"
             ]
            ],
            "type": "surface"
           }
          ],
          "table": [
           {
            "cells": {
             "fill": {
              "color": "#EBF0F8"
             },
             "line": {
              "color": "white"
             }
            },
            "header": {
             "fill": {
              "color": "#C8D4E3"
             },
             "line": {
              "color": "white"
             }
            },
            "type": "table"
           }
          ]
         },
         "layout": {
          "annotationdefaults": {
           "arrowcolor": "#2a3f5f",
           "arrowhead": 0,
           "arrowwidth": 1
          },
          "autotypenumbers": "strict",
          "coloraxis": {
           "colorbar": {
            "outlinewidth": 0,
            "ticks": ""
           }
          },
          "colorscale": {
           "diverging": [
            [
             0,
             "#8e0152"
            ],
            [
             0.1,
             "#c51b7d"
            ],
            [
             0.2,
             "#de77ae"
            ],
            [
             0.3,
             "#f1b6da"
            ],
            [
             0.4,
             "#fde0ef"
            ],
            [
             0.5,
             "#f7f7f7"
            ],
            [
             0.6,
             "#e6f5d0"
            ],
            [
             0.7,
             "#b8e186"
            ],
            [
             0.8,
             "#7fbc41"
            ],
            [
             0.9,
             "#4d9221"
            ],
            [
             1,
             "#276419"
            ]
           ],
           "sequential": [
            [
             0,
             "#0d0887"
            ],
            [
             0.1111111111111111,
             "#46039f"
            ],
            [
             0.2222222222222222,
             "#7201a8"
            ],
            [
             0.3333333333333333,
             "#9c179e"
            ],
            [
             0.4444444444444444,
             "#bd3786"
            ],
            [
             0.5555555555555556,
             "#d8576b"
            ],
            [
             0.6666666666666666,
             "#ed7953"
            ],
            [
             0.7777777777777778,
             "#fb9f3a"
            ],
            [
             0.8888888888888888,
             "#fdca26"
            ],
            [
             1,
             "#f0f921"
            ]
           ],
           "sequentialminus": [
            [
             0,
             "#0d0887"
            ],
            [
             0.1111111111111111,
             "#46039f"
            ],
            [
             0.2222222222222222,
             "#7201a8"
            ],
            [
             0.3333333333333333,
             "#9c179e"
            ],
            [
             0.4444444444444444,
             "#bd3786"
            ],
            [
             0.5555555555555556,
             "#d8576b"
            ],
            [
             0.6666666666666666,
             "#ed7953"
            ],
            [
             0.7777777777777778,
             "#fb9f3a"
            ],
            [
             0.8888888888888888,
             "#fdca26"
            ],
            [
             1,
             "#f0f921"
            ]
           ]
          },
          "colorway": [
           "#636efa",
           "#EF553B",
           "#00cc96",
           "#ab63fa",
           "#FFA15A",
           "#19d3f3",
           "#FF6692",
           "#B6E880",
           "#FF97FF",
           "#FECB52"
          ],
          "font": {
           "color": "#2a3f5f"
          },
          "geo": {
           "bgcolor": "white",
           "lakecolor": "white",
           "landcolor": "#E5ECF6",
           "showlakes": true,
           "showland": true,
           "subunitcolor": "white"
          },
          "hoverlabel": {
           "align": "left"
          },
          "hovermode": "closest",
          "mapbox": {
           "style": "light"
          },
          "paper_bgcolor": "white",
          "plot_bgcolor": "#E5ECF6",
          "polar": {
           "angularaxis": {
            "gridcolor": "white",
            "linecolor": "white",
            "ticks": ""
           },
           "bgcolor": "#E5ECF6",
           "radialaxis": {
            "gridcolor": "white",
            "linecolor": "white",
            "ticks": ""
           }
          },
          "scene": {
           "xaxis": {
            "backgroundcolor": "#E5ECF6",
            "gridcolor": "white",
            "gridwidth": 2,
            "linecolor": "white",
            "showbackground": true,
            "ticks": "",
            "zerolinecolor": "white"
           },
           "yaxis": {
            "backgroundcolor": "#E5ECF6",
            "gridcolor": "white",
            "gridwidth": 2,
            "linecolor": "white",
            "showbackground": true,
            "ticks": "",
            "zerolinecolor": "white"
           },
           "zaxis": {
            "backgroundcolor": "#E5ECF6",
            "gridcolor": "white",
            "gridwidth": 2,
            "linecolor": "white",
            "showbackground": true,
            "ticks": "",
            "zerolinecolor": "white"
           }
          },
          "shapedefaults": {
           "line": {
            "color": "#2a3f5f"
           }
          },
          "ternary": {
           "aaxis": {
            "gridcolor": "white",
            "linecolor": "white",
            "ticks": ""
           },
           "baxis": {
            "gridcolor": "white",
            "linecolor": "white",
            "ticks": ""
           },
           "bgcolor": "#E5ECF6",
           "caxis": {
            "gridcolor": "white",
            "linecolor": "white",
            "ticks": ""
           }
          },
          "title": {
           "x": 0.05
          },
          "xaxis": {
           "automargin": true,
           "gridcolor": "white",
           "linecolor": "white",
           "ticks": "",
           "title": {
            "standoff": 15
           },
           "zerolinecolor": "white",
           "zerolinewidth": 2
          },
          "yaxis": {
           "automargin": true,
           "gridcolor": "white",
           "linecolor": "white",
           "ticks": "",
           "title": {
            "standoff": 15
           },
           "zerolinecolor": "white",
           "zerolinewidth": 2
          }
         }
        },
        "width": 600,
        "xaxis": {
         "anchor": "y",
         "domain": [
          0,
          1
         ],
         "title": {
          "text": "PC 1 (63.8%)"
         }
        },
        "yaxis": {
         "anchor": "x",
         "domain": [
          0,
          1
         ],
         "title": {
          "text": "PC 2 (29.0%)"
         }
        }
       }
      },
      "text/html": [
       "<div>                            <div id=\"85168531-7f67-4a3b-b01b-93060d7e2958\" class=\"plotly-graph-div\" style=\"height:600px; width:600px;\"></div>            <script type=\"text/javascript\">                require([\"plotly\"], function(Plotly) {                    window.PLOTLYENV=window.PLOTLYENV || {};                                    if (document.getElementById(\"85168531-7f67-4a3b-b01b-93060d7e2958\")) {                    Plotly.newPlot(                        \"85168531-7f67-4a3b-b01b-93060d7e2958\",                        [{\"hovertemplate\":\"color=A<br>symbol=Exon<br>0=%{x}<br>1=%{y}<extra></extra>\",\"legendgroup\":\"A, Exon\",\"marker\":{\"color\":\"#636efa\",\"symbol\":\"circle\",\"size\":13},\"mode\":\"markers\",\"name\":\"A, Exon\",\"orientation\":\"v\",\"showlegend\":true,\"x\":[2.9556661168859057,2.6209660037033515,0.5690964550219729,-1.564508605906127,-2.3809644023266556,-2.4846047545750563,-1.9788812592046745,-1.232469356333634,-0.5815045024762792,0.05058031049617654,2.395836265179288,2.819114576943081],\"xaxis\":\"x\",\"y\":[-0.08953713727655419,1.4477643805110962,2.3103721865808127,1.8080212742696808,0.6190783539819893,0.2591078098983712,-0.6415080758365261,-0.9218443932556807,-1.168659726888836,-1.1692162761621778,-1.4584326662769758,-0.6744698294987378],\"yaxis\":\"y\",\"type\":\"scatter\"},{\"hovertemplate\":\"color=B<br>symbol=Exon<br>0=%{x}<br>1=%{y}<extra></extra>\",\"legendgroup\":\"B, Exon\",\"marker\":{\"color\":\"#EF553B\",\"symbol\":\"circle\",\"size\":13},\"mode\":\"markers\",\"name\":\"B, Exon\",\"orientation\":\"v\",\"showlegend\":true,\"x\":[2.784519806514466,1.380818358273747,1.718138452226413,-1.2194728511320327,-2.5828911331806905,-2.623367853065855,-2.4111110243933647,-0.6388309694022666,0.16843802276327616,0.8212673122744,2.5220638170964427,2.674446563275818],\"xaxis\":\"x\",\"y\":[0.2591370592070803,2.040274526238958,2.222246321044061,1.9054125596217766,-0.06427097879387733,0.12212100732959999,-0.5780395022350043,-1.2679118322740544,-1.2616292900610189,-1.6604904316502238,-1.535952802380803,-0.5196944952647946],\"yaxis\":\"y\",\"type\":\"scatter\"},{\"hovertemplate\":\"color=C<br>symbol=Exon<br>0=%{x}<br>1=%{y}<extra></extra>\",\"legendgroup\":\"C, Exon\",\"marker\":{\"color\":\"#00cc96\",\"symbol\":\"circle\",\"size\":13},\"mode\":\"markers\",\"name\":\"C, Exon\",\"orientation\":\"v\",\"showlegend\":true,\"x\":[2.8381302752692945,1.6636664774734913,-1.7700488467707387,-1.8927150483304478,-2.5487508264940706,-2.271555706064168,-2.4237383327057995,-1.6176751670186533,-0.07522047819036728,0.8314442374095243,1.3909821672192486,2.206174834585872],\"xaxis\":\"x\",\"y\":[1.1937589940130338,2.3637928312737846,1.3489272397551832,1.2443619103034513,0.019939208390489675,-0.5619704118224987,-0.4060651183957253,-0.7971089405699128,-1.2572405151086978,-1.5068434910309336,-1.4128899825255805,-1.3337117340611744],\"yaxis\":\"y\",\"type\":\"scatter\"},{\"hovertemplate\":\"color=D<br>symbol=Exon<br>0=%{x}<br>1=%{y}<extra></extra>\",\"legendgroup\":\"D, Exon\",\"marker\":{\"color\":\"#ab63fa\",\"symbol\":\"circle\",\"size\":13},\"mode\":\"markers\",\"name\":\"D, Exon\",\"orientation\":\"v\",\"showlegend\":true,\"x\":[2.5027828357791813,1.114560801035804,1.7816091719316653,-1.4619721272426265,-2.357825148064397,-2.5721972730400036,-1.6970632875749567,-0.6700671588047282,-0.5035953751092096,0.39458910322594926,1.1875955689169893,2.1685439539054556],\"xaxis\":\"x\",\"y\":[1.425618563141269,1.745968608220041,2.1616639425498194,1.6396030992871646,1.0195908437753174,0.17912013585449682,-0.782579238173389,-1.178942066792693,-1.079253562432685,-1.517395149176934,-1.479416410124476,-1.0108067971775097],\"yaxis\":\"y\",\"type\":\"scatter\"}],                        {\"template\":{\"data\":{\"histogram2dcontour\":[{\"type\":\"histogram2dcontour\",\"colorbar\":{\"outlinewidth\":0,\"ticks\":\"\"},\"colorscale\":[[0.0,\"#0d0887\"],[0.1111111111111111,\"#46039f\"],[0.2222222222222222,\"#7201a8\"],[0.3333333333333333,\"#9c179e\"],[0.4444444444444444,\"#bd3786\"],[0.5555555555555556,\"#d8576b\"],[0.6666666666666666,\"#ed7953\"],[0.7777777777777778,\"#fb9f3a\"],[0.8888888888888888,\"#fdca26\"],[1.0,\"#f0f921\"]]}],\"choropleth\":[{\"type\":\"choropleth\",\"colorbar\":{\"outlinewidth\":0,\"ticks\":\"\"}}],\"histogram2d\":[{\"type\":\"histogram2d\",\"colorbar\":{\"outlinewidth\":0,\"ticks\":\"\"},\"colorscale\":[[0.0,\"#0d0887\"],[0.1111111111111111,\"#46039f\"],[0.2222222222222222,\"#7201a8\"],[0.3333333333333333,\"#9c179e\"],[0.4444444444444444,\"#bd3786\"],[0.5555555555555556,\"#d8576b\"],[0.6666666666666666,\"#ed7953\"],[0.7777777777777778,\"#fb9f3a\"],[0.8888888888888888,\"#fdca26\"],[1.0,\"#f0f921\"]]}],\"heatmap\":[{\"type\":\"heatmap\",\"colorbar\":{\"outlinewidth\":0,\"ticks\":\"\"},\"colorscale\":[[0.0,\"#0d0887\"],[0.1111111111111111,\"#46039f\"],[0.2222222222222222,\"#7201a8\"],[0.3333333333333333,\"#9c179e\"],[0.4444444444444444,\"#bd3786\"],[0.5555555555555556,\"#d8576b\"],[0.6666666666666666,\"#ed7953\"],[0.7777777777777778,\"#fb9f3a\"],[0.8888888888888888,\"#fdca26\"],[1.0,\"#f0f921\"]]}],\"heatmapgl\":[{\"type\":\"heatmapgl\",\"colorbar\":{\"outlinewidth\":0,\"ticks\":\"\"},\"colorscale\":[[0.0,\"#0d0887\"],[0.1111111111111111,\"#46039f\"],[0.2222222222222222,\"#7201a8\"],[0.3333333333333333,\"#9c179e\"],[0.4444444444444444,\"#bd3786\"],[0.5555555555555556,\"#d8576b\"],[0.6666666666666666,\"#ed7953\"],[0.7777777777777778,\"#fb9f3a\"],[0.8888888888888888,\"#fdca26\"],[1.0,\"#f0f921\"]]}],\"contourcarpet\":[{\"type\":\"contourcarpet\",\"colorbar\":{\"outlinewidth\":0,\"ticks\":\"\"}}],\"contour\":[{\"type\":\"contour\",\"colorbar\":{\"outlinewidth\":0,\"ticks\":\"\"},\"colorscale\":[[0.0,\"#0d0887\"],[0.1111111111111111,\"#46039f\"],[0.2222222222222222,\"#7201a8\"],[0.3333333333333333,\"#9c179e\"],[0.4444444444444444,\"#bd3786\"],[0.5555555555555556,\"#d8576b\"],[0.6666666666666666,\"#ed7953\"],[0.7777777777777778,\"#fb9f3a\"],[0.8888888888888888,\"#fdca26\"],[1.0,\"#f0f921\"]]}],\"surface\":[{\"type\":\"surface\",\"colorbar\":{\"outlinewidth\":0,\"ticks\":\"\"},\"colorscale\":[[0.0,\"#0d0887\"],[0.1111111111111111,\"#46039f\"],[0.2222222222222222,\"#7201a8\"],[0.3333333333333333,\"#9c179e\"],[0.4444444444444444,\"#bd3786\"],[0.5555555555555556,\"#d8576b\"],[0.6666666666666666,\"#ed7953\"],[0.7777777777777778,\"#fb9f3a\"],[0.8888888888888888,\"#fdca26\"],[1.0,\"#f0f921\"]]}],\"mesh3d\":[{\"type\":\"mesh3d\",\"colorbar\":{\"outlinewidth\":0,\"ticks\":\"\"}}],\"scatter\":[{\"fillpattern\":{\"fillmode\":\"overlay\",\"size\":10,\"solidity\":0.2},\"type\":\"scatter\"}],\"parcoords\":[{\"type\":\"parcoords\",\"line\":{\"colorbar\":{\"outlinewidth\":0,\"ticks\":\"\"}}}],\"scatterpolargl\":[{\"type\":\"scatterpolargl\",\"marker\":{\"colorbar\":{\"outlinewidth\":0,\"ticks\":\"\"}}}],\"bar\":[{\"error_x\":{\"color\":\"#2a3f5f\"},\"error_y\":{\"color\":\"#2a3f5f\"},\"marker\":{\"line\":{\"color\":\"#E5ECF6\",\"width\":0.5},\"pattern\":{\"fillmode\":\"overlay\",\"size\":10,\"solidity\":0.2}},\"type\":\"bar\"}],\"scattergeo\":[{\"type\":\"scattergeo\",\"marker\":{\"colorbar\":{\"outlinewidth\":0,\"ticks\":\"\"}}}],\"scatterpolar\":[{\"type\":\"scatterpolar\",\"marker\":{\"colorbar\":{\"outlinewidth\":0,\"ticks\":\"\"}}}],\"histogram\":[{\"marker\":{\"pattern\":{\"fillmode\":\"overlay\",\"size\":10,\"solidity\":0.2}},\"type\":\"histogram\"}],\"scattergl\":[{\"type\":\"scattergl\",\"marker\":{\"colorbar\":{\"outlinewidth\":0,\"ticks\":\"\"}}}],\"scatter3d\":[{\"type\":\"scatter3d\",\"line\":{\"colorbar\":{\"outlinewidth\":0,\"ticks\":\"\"}},\"marker\":{\"colorbar\":{\"outlinewidth\":0,\"ticks\":\"\"}}}],\"scattermapbox\":[{\"type\":\"scattermapbox\",\"marker\":{\"colorbar\":{\"outlinewidth\":0,\"ticks\":\"\"}}}],\"scatterternary\":[{\"type\":\"scatterternary\",\"marker\":{\"colorbar\":{\"outlinewidth\":0,\"ticks\":\"\"}}}],\"scattercarpet\":[{\"type\":\"scattercarpet\",\"marker\":{\"colorbar\":{\"outlinewidth\":0,\"ticks\":\"\"}}}],\"carpet\":[{\"aaxis\":{\"endlinecolor\":\"#2a3f5f\",\"gridcolor\":\"white\",\"linecolor\":\"white\",\"minorgridcolor\":\"white\",\"startlinecolor\":\"#2a3f5f\"},\"baxis\":{\"endlinecolor\":\"#2a3f5f\",\"gridcolor\":\"white\",\"linecolor\":\"white\",\"minorgridcolor\":\"white\",\"startlinecolor\":\"#2a3f5f\"},\"type\":\"carpet\"}],\"table\":[{\"cells\":{\"fill\":{\"color\":\"#EBF0F8\"},\"line\":{\"color\":\"white\"}},\"header\":{\"fill\":{\"color\":\"#C8D4E3\"},\"line\":{\"color\":\"white\"}},\"type\":\"table\"}],\"barpolar\":[{\"marker\":{\"line\":{\"color\":\"#E5ECF6\",\"width\":0.5},\"pattern\":{\"fillmode\":\"overlay\",\"size\":10,\"solidity\":0.2}},\"type\":\"barpolar\"}],\"pie\":[{\"automargin\":true,\"type\":\"pie\"}]},\"layout\":{\"autotypenumbers\":\"strict\",\"colorway\":[\"#636efa\",\"#EF553B\",\"#00cc96\",\"#ab63fa\",\"#FFA15A\",\"#19d3f3\",\"#FF6692\",\"#B6E880\",\"#FF97FF\",\"#FECB52\"],\"font\":{\"color\":\"#2a3f5f\"},\"hovermode\":\"closest\",\"hoverlabel\":{\"align\":\"left\"},\"paper_bgcolor\":\"white\",\"plot_bgcolor\":\"#E5ECF6\",\"polar\":{\"bgcolor\":\"#E5ECF6\",\"angularaxis\":{\"gridcolor\":\"white\",\"linecolor\":\"white\",\"ticks\":\"\"},\"radialaxis\":{\"gridcolor\":\"white\",\"linecolor\":\"white\",\"ticks\":\"\"}},\"ternary\":{\"bgcolor\":\"#E5ECF6\",\"aaxis\":{\"gridcolor\":\"white\",\"linecolor\":\"white\",\"ticks\":\"\"},\"baxis\":{\"gridcolor\":\"white\",\"linecolor\":\"white\",\"ticks\":\"\"},\"caxis\":{\"gridcolor\":\"white\",\"linecolor\":\"white\",\"ticks\":\"\"}},\"coloraxis\":{\"colorbar\":{\"outlinewidth\":0,\"ticks\":\"\"}},\"colorscale\":{\"sequential\":[[0.0,\"#0d0887\"],[0.1111111111111111,\"#46039f\"],[0.2222222222222222,\"#7201a8\"],[0.3333333333333333,\"#9c179e\"],[0.4444444444444444,\"#bd3786\"],[0.5555555555555556,\"#d8576b\"],[0.6666666666666666,\"#ed7953\"],[0.7777777777777778,\"#fb9f3a\"],[0.8888888888888888,\"#fdca26\"],[1.0,\"#f0f921\"]],\"sequentialminus\":[[0.0,\"#0d0887\"],[0.1111111111111111,\"#46039f\"],[0.2222222222222222,\"#7201a8\"],[0.3333333333333333,\"#9c179e\"],[0.4444444444444444,\"#bd3786\"],[0.5555555555555556,\"#d8576b\"],[0.6666666666666666,\"#ed7953\"],[0.7777777777777778,\"#fb9f3a\"],[0.8888888888888888,\"#fdca26\"],[1.0,\"#f0f921\"]],\"diverging\":[[0,\"#8e0152\"],[0.1,\"#c51b7d\"],[0.2,\"#de77ae\"],[0.3,\"#f1b6da\"],[0.4,\"#fde0ef\"],[0.5,\"#f7f7f7\"],[0.6,\"#e6f5d0\"],[0.7,\"#b8e186\"],[0.8,\"#7fbc41\"],[0.9,\"#4d9221\"],[1,\"#276419\"]]},\"xaxis\":{\"gridcolor\":\"white\",\"linecolor\":\"white\",\"ticks\":\"\",\"title\":{\"standoff\":15},\"zerolinecolor\":\"white\",\"automargin\":true,\"zerolinewidth\":2},\"yaxis\":{\"gridcolor\":\"white\",\"linecolor\":\"white\",\"ticks\":\"\",\"title\":{\"standoff\":15},\"zerolinecolor\":\"white\",\"automargin\":true,\"zerolinewidth\":2},\"scene\":{\"xaxis\":{\"backgroundcolor\":\"#E5ECF6\",\"gridcolor\":\"white\",\"linecolor\":\"white\",\"showbackground\":true,\"ticks\":\"\",\"zerolinecolor\":\"white\",\"gridwidth\":2},\"yaxis\":{\"backgroundcolor\":\"#E5ECF6\",\"gridcolor\":\"white\",\"linecolor\":\"white\",\"showbackground\":true,\"ticks\":\"\",\"zerolinecolor\":\"white\",\"gridwidth\":2},\"zaxis\":{\"backgroundcolor\":\"#E5ECF6\",\"gridcolor\":\"white\",\"linecolor\":\"white\",\"showbackground\":true,\"ticks\":\"\",\"zerolinecolor\":\"white\",\"gridwidth\":2}},\"shapedefaults\":{\"line\":{\"color\":\"#2a3f5f\"}},\"annotationdefaults\":{\"arrowcolor\":\"#2a3f5f\",\"arrowhead\":0,\"arrowwidth\":1},\"geo\":{\"bgcolor\":\"white\",\"landcolor\":\"#E5ECF6\",\"subunitcolor\":\"white\",\"showland\":true,\"showlakes\":true,\"lakecolor\":\"white\"},\"title\":{\"x\":0.05},\"mapbox\":{\"style\":\"light\"}}},\"xaxis\":{\"anchor\":\"y\",\"domain\":[0.0,1.0],\"title\":{\"text\":\"PC 1 (63.8%)\"}},\"yaxis\":{\"anchor\":\"x\",\"domain\":[0.0,1.0],\"title\":{\"text\":\"PC 2 (29.0%)\"}},\"legend\":{\"title\":{\"text\":\"color, symbol\"},\"tracegroupgap\":0},\"margin\":{\"t\":60},\"height\":600,\"width\":600,\"plot_bgcolor\":\"rgb(243,243,243)\"},                        {\"responsive\": true}                    ).then(function(){\n",
       "                            \n",
       "var gd = document.getElementById('85168531-7f67-4a3b-b01b-93060d7e2958');\n",
       "var x = new MutationObserver(function (mutations, observer) {{\n",
       "        var display = window.getComputedStyle(gd).display;\n",
       "        if (!display || display === 'none') {{\n",
       "            console.log([gd, 'removed!']);\n",
       "            Plotly.purge(gd);\n",
       "            observer.disconnect();\n",
       "        }}\n",
       "}});\n",
       "\n",
       "// Listen for the removal of the full notebook cells\n",
       "var notebookContainer = gd.closest('#notebook-container');\n",
       "if (notebookContainer) {{\n",
       "    x.observe(notebookContainer, {childList: true});\n",
       "}}\n",
       "\n",
       "// Listen for the clearing of the current output cell\n",
       "var outputEl = gd.closest('.output');\n",
       "if (outputEl) {{\n",
       "    x.observe(outputEl, {childList: true});\n",
       "}}\n",
       "\n",
       "                        })                };                });            </script>        </div>"
      ]
     },
     "metadata": {},
     "output_type": "display_data"
    },
    {
     "data": {
      "application/vnd.plotly.v1+json": {
       "config": {
        "plotlyServerURL": "https://plot.ly"
       },
       "data": [
        {
         "hovertemplate": "color=00<br>symbol=WT<br>1=%{x}<br>2=%{y}<extra></extra>",
         "legendgroup": "00, WT",
         "marker": {
          "color": "#636efa",
          "size": 13,
          "symbol": "circle"
         },
         "mode": "markers",
         "name": "00, WT",
         "orientation": "v",
         "showlegend": true,
         "type": "scatter",
         "x": [
          -0.08953713727655419,
          0.2591370592070803,
          1.1937589940130338,
          1.425618563141269
         ],
         "xaxis": "x",
         "y": [
          0.5625118712150113,
          0.28216482658113956,
          0.28330174257561386,
          0.036546934148484984
         ],
         "yaxis": "y"
        },
        {
         "hovertemplate": "color=02<br>symbol=WT<br>1=%{x}<br>2=%{y}<extra></extra>",
         "legendgroup": "02, WT",
         "marker": {
          "color": "#EF553B",
          "size": 13,
          "symbol": "circle"
         },
         "mode": "markers",
         "name": "02, WT",
         "orientation": "v",
         "showlegend": true,
         "type": "scatter",
         "x": [
          1.4477643805110962,
          2.040274526238958,
          2.3637928312737846,
          1.745968608220041
         ],
         "xaxis": "x",
         "y": [
          0.42857818079177257,
          -0.295956712622525,
          0.0014507758126661476,
          -0.6476554340184908
         ],
         "yaxis": "y"
        },
        {
         "hovertemplate": "color=04<br>symbol=WT<br>1=%{x}<br>2=%{y}<extra></extra>",
         "legendgroup": "04, WT",
         "marker": {
          "color": "#00cc96",
          "size": 13,
          "symbol": "circle"
         },
         "mode": "markers",
         "name": "04, WT",
         "orientation": "v",
         "showlegend": true,
         "type": "scatter",
         "x": [
          2.3103721865808127,
          2.222246321044061,
          1.3489272397551832,
          2.1616639425498194
         ],
         "xaxis": "x",
         "y": [
          -0.49816346100391135,
          -0.12606265431096028,
          -0.22774420384090147,
          -0.08152589747032708
         ],
         "yaxis": "y"
        },
        {
         "hovertemplate": "color=06<br>symbol=WT<br>1=%{x}<br>2=%{y}<extra></extra>",
         "legendgroup": "06, WT",
         "marker": {
          "color": "#ab63fa",
          "size": 13,
          "symbol": "circle"
         },
         "mode": "markers",
         "name": "06, WT",
         "orientation": "v",
         "showlegend": true,
         "type": "scatter",
         "x": [
          1.8080212742696808,
          1.9054125596217766,
          1.2443619103034513,
          1.6396030992871646
         ],
         "xaxis": "x",
         "y": [
          -0.2219351369926728,
          -0.35655885772221435,
          -0.15062315722427955,
          -0.43143564206872437
         ],
         "yaxis": "y"
        },
        {
         "hovertemplate": "color=08<br>symbol=WT<br>1=%{x}<br>2=%{y}<extra></extra>",
         "legendgroup": "08, WT",
         "marker": {
          "color": "#FFA15A",
          "size": 13,
          "symbol": "circle"
         },
         "mode": "markers",
         "name": "08, WT",
         "orientation": "v",
         "showlegend": true,
         "type": "scatter",
         "x": [
          0.6190783539819893,
          -0.06427097879387733,
          0.019939208390489675,
          1.0195908437753174
         ],
         "xaxis": "x",
         "y": [
          0.349201983404589,
          0.6001053693085469,
          0.6206351189307642,
          0.19967517552353511
         ],
         "yaxis": "y"
        },
        {
         "hovertemplate": "color=10<br>symbol=WT<br>1=%{x}<br>2=%{y}<extra></extra>",
         "legendgroup": "10, WT",
         "marker": {
          "color": "#19d3f3",
          "size": 13,
          "symbol": "circle"
         },
         "mode": "markers",
         "name": "10, WT",
         "orientation": "v",
         "showlegend": true,
         "type": "scatter",
         "x": [
          0.2591078098983712,
          0.12212100732959999,
          -0.5619704118224987,
          0.17912013585449682
         ],
         "xaxis": "x",
         "y": [
          0.4312395598287203,
          0.5573021875887809,
          0.40872589431453815,
          0.4558914823885054
         ],
         "yaxis": "y"
        },
        {
         "hovertemplate": "color=12<br>symbol=WT<br>1=%{x}<br>2=%{y}<extra></extra>",
         "legendgroup": "12, WT",
         "marker": {
          "color": "#FF6692",
          "size": 13,
          "symbol": "circle"
         },
         "mode": "markers",
         "name": "12, WT",
         "orientation": "v",
         "showlegend": true,
         "type": "scatter",
         "x": [
          -0.6415080758365261,
          -0.5780395022350043,
          -0.4060651183957253,
          -0.782579238173389
         ],
         "xaxis": "x",
         "y": [
          0.1563125594319395,
          0.5873200598147124,
          0.584249350905505,
          -0.0772145012519519
         ],
         "yaxis": "y"
        },
        {
         "hovertemplate": "color=14<br>symbol=WT<br>1=%{x}<br>2=%{y}<extra></extra>",
         "legendgroup": "14, WT",
         "marker": {
          "color": "#B6E880",
          "size": 13,
          "symbol": "circle"
         },
         "mode": "markers",
         "name": "14, WT",
         "orientation": "v",
         "showlegend": true,
         "type": "scatter",
         "x": [
          -0.9218443932556807,
          -1.2679118322740544,
          -0.7971089405699128,
          -1.178942066792693
         ],
         "xaxis": "x",
         "y": [
          -0.11689209058695421,
          -0.4844307206229881,
          -0.09700221387721486,
          -0.5696734393554641
         ],
         "yaxis": "y"
        },
        {
         "hovertemplate": "color=16<br>symbol=WT<br>1=%{x}<br>2=%{y}<extra></extra>",
         "legendgroup": "16, WT",
         "marker": {
          "color": "#FF97FF",
          "size": 13,
          "symbol": "circle"
         },
         "mode": "markers",
         "name": "16, WT",
         "orientation": "v",
         "showlegend": true,
         "type": "scatter",
         "x": [
          -1.168659726888836,
          -1.2616292900610189,
          -1.2572405151086978,
          -1.079253562432685
         ],
         "xaxis": "x",
         "y": [
          -0.6005298221659183,
          -0.6514867365014916,
          -0.6446338269865498,
          -0.5526172420445444
         ],
         "yaxis": "y"
        },
        {
         "hovertemplate": "color=18<br>symbol=WT<br>1=%{x}<br>2=%{y}<extra></extra>",
         "legendgroup": "18, WT",
         "marker": {
          "color": "#FECB52",
          "size": 13,
          "symbol": "circle"
         },
         "mode": "markers",
         "name": "18, WT",
         "orientation": "v",
         "showlegend": true,
         "type": "scatter",
         "x": [
          -1.1692162761621778,
          -1.6604904316502238,
          -1.5068434910309336,
          -1.517395149176934
         ],
         "xaxis": "x",
         "y": [
          -0.7485028746602443,
          -0.3866847163391188,
          -0.4457052344955101,
          -0.477611200353106
         ],
         "yaxis": "y"
        },
        {
         "hovertemplate": "color=20<br>symbol=WT<br>1=%{x}<br>2=%{y}<extra></extra>",
         "legendgroup": "20, WT",
         "marker": {
          "color": "#636efa",
          "size": 13,
          "symbol": "circle"
         },
         "mode": "markers",
         "name": "20, WT",
         "orientation": "v",
         "showlegend": true,
         "type": "scatter",
         "x": [
          -1.4584326662769758,
          -1.535952802380803,
          -1.4128899825255805,
          -1.479416410124476
         ],
         "xaxis": "x",
         "y": [
          0.582607199276494,
          0.8227821744910268,
          -0.2655678304447758,
          -0.32338309609095056
         ],
         "yaxis": "y"
        },
        {
         "hovertemplate": "color=22<br>symbol=WT<br>1=%{x}<br>2=%{y}<extra></extra>",
         "legendgroup": "22, WT",
         "marker": {
          "color": "#EF553B",
          "size": 13,
          "symbol": "circle"
         },
         "mode": "markers",
         "name": "22, WT",
         "orientation": "v",
         "showlegend": true,
         "type": "scatter",
         "x": [
          -0.6744698294987378,
          -0.5196944952647946,
          -1.3337117340611744,
          -1.0108067971775097
         ],
         "xaxis": "x",
         "y": [
          0.5943150826282889,
          0.40617211528471253,
          0.4033509058885313,
          0.1251561529179243
         ],
         "yaxis": "y"
        }
       ],
       "layout": {
        "height": 600,
        "legend": {
         "title": {
          "text": "color, symbol"
         },
         "tracegroupgap": 0
        },
        "margin": {
         "t": 60
        },
        "plot_bgcolor": "rgb(243,243,243)",
        "template": {
         "data": {
          "bar": [
           {
            "error_x": {
             "color": "#2a3f5f"
            },
            "error_y": {
             "color": "#2a3f5f"
            },
            "marker": {
             "line": {
              "color": "#E5ECF6",
              "width": 0.5
             },
             "pattern": {
              "fillmode": "overlay",
              "size": 10,
              "solidity": 0.2
             }
            },
            "type": "bar"
           }
          ],
          "barpolar": [
           {
            "marker": {
             "line": {
              "color": "#E5ECF6",
              "width": 0.5
             },
             "pattern": {
              "fillmode": "overlay",
              "size": 10,
              "solidity": 0.2
             }
            },
            "type": "barpolar"
           }
          ],
          "carpet": [
           {
            "aaxis": {
             "endlinecolor": "#2a3f5f",
             "gridcolor": "white",
             "linecolor": "white",
             "minorgridcolor": "white",
             "startlinecolor": "#2a3f5f"
            },
            "baxis": {
             "endlinecolor": "#2a3f5f",
             "gridcolor": "white",
             "linecolor": "white",
             "minorgridcolor": "white",
             "startlinecolor": "#2a3f5f"
            },
            "type": "carpet"
           }
          ],
          "choropleth": [
           {
            "colorbar": {
             "outlinewidth": 0,
             "ticks": ""
            },
            "type": "choropleth"
           }
          ],
          "contour": [
           {
            "colorbar": {
             "outlinewidth": 0,
             "ticks": ""
            },
            "colorscale": [
             [
              0,
              "#0d0887"
             ],
             [
              0.1111111111111111,
              "#46039f"
             ],
             [
              0.2222222222222222,
              "#7201a8"
             ],
             [
              0.3333333333333333,
              "#9c179e"
             ],
             [
              0.4444444444444444,
              "#bd3786"
             ],
             [
              0.5555555555555556,
              "#d8576b"
             ],
             [
              0.6666666666666666,
              "#ed7953"
             ],
             [
              0.7777777777777778,
              "#fb9f3a"
             ],
             [
              0.8888888888888888,
              "#fdca26"
             ],
             [
              1,
              "#f0f921"
             ]
            ],
            "type": "contour"
           }
          ],
          "contourcarpet": [
           {
            "colorbar": {
             "outlinewidth": 0,
             "ticks": ""
            },
            "type": "contourcarpet"
           }
          ],
          "heatmap": [
           {
            "colorbar": {
             "outlinewidth": 0,
             "ticks": ""
            },
            "colorscale": [
             [
              0,
              "#0d0887"
             ],
             [
              0.1111111111111111,
              "#46039f"
             ],
             [
              0.2222222222222222,
              "#7201a8"
             ],
             [
              0.3333333333333333,
              "#9c179e"
             ],
             [
              0.4444444444444444,
              "#bd3786"
             ],
             [
              0.5555555555555556,
              "#d8576b"
             ],
             [
              0.6666666666666666,
              "#ed7953"
             ],
             [
              0.7777777777777778,
              "#fb9f3a"
             ],
             [
              0.8888888888888888,
              "#fdca26"
             ],
             [
              1,
              "#f0f921"
             ]
            ],
            "type": "heatmap"
           }
          ],
          "heatmapgl": [
           {
            "colorbar": {
             "outlinewidth": 0,
             "ticks": ""
            },
            "colorscale": [
             [
              0,
              "#0d0887"
             ],
             [
              0.1111111111111111,
              "#46039f"
             ],
             [
              0.2222222222222222,
              "#7201a8"
             ],
             [
              0.3333333333333333,
              "#9c179e"
             ],
             [
              0.4444444444444444,
              "#bd3786"
             ],
             [
              0.5555555555555556,
              "#d8576b"
             ],
             [
              0.6666666666666666,
              "#ed7953"
             ],
             [
              0.7777777777777778,
              "#fb9f3a"
             ],
             [
              0.8888888888888888,
              "#fdca26"
             ],
             [
              1,
              "#f0f921"
             ]
            ],
            "type": "heatmapgl"
           }
          ],
          "histogram": [
           {
            "marker": {
             "pattern": {
              "fillmode": "overlay",
              "size": 10,
              "solidity": 0.2
             }
            },
            "type": "histogram"
           }
          ],
          "histogram2d": [
           {
            "colorbar": {
             "outlinewidth": 0,
             "ticks": ""
            },
            "colorscale": [
             [
              0,
              "#0d0887"
             ],
             [
              0.1111111111111111,
              "#46039f"
             ],
             [
              0.2222222222222222,
              "#7201a8"
             ],
             [
              0.3333333333333333,
              "#9c179e"
             ],
             [
              0.4444444444444444,
              "#bd3786"
             ],
             [
              0.5555555555555556,
              "#d8576b"
             ],
             [
              0.6666666666666666,
              "#ed7953"
             ],
             [
              0.7777777777777778,
              "#fb9f3a"
             ],
             [
              0.8888888888888888,
              "#fdca26"
             ],
             [
              1,
              "#f0f921"
             ]
            ],
            "type": "histogram2d"
           }
          ],
          "histogram2dcontour": [
           {
            "colorbar": {
             "outlinewidth": 0,
             "ticks": ""
            },
            "colorscale": [
             [
              0,
              "#0d0887"
             ],
             [
              0.1111111111111111,
              "#46039f"
             ],
             [
              0.2222222222222222,
              "#7201a8"
             ],
             [
              0.3333333333333333,
              "#9c179e"
             ],
             [
              0.4444444444444444,
              "#bd3786"
             ],
             [
              0.5555555555555556,
              "#d8576b"
             ],
             [
              0.6666666666666666,
              "#ed7953"
             ],
             [
              0.7777777777777778,
              "#fb9f3a"
             ],
             [
              0.8888888888888888,
              "#fdca26"
             ],
             [
              1,
              "#f0f921"
             ]
            ],
            "type": "histogram2dcontour"
           }
          ],
          "mesh3d": [
           {
            "colorbar": {
             "outlinewidth": 0,
             "ticks": ""
            },
            "type": "mesh3d"
           }
          ],
          "parcoords": [
           {
            "line": {
             "colorbar": {
              "outlinewidth": 0,
              "ticks": ""
             }
            },
            "type": "parcoords"
           }
          ],
          "pie": [
           {
            "automargin": true,
            "type": "pie"
           }
          ],
          "scatter": [
           {
            "fillpattern": {
             "fillmode": "overlay",
             "size": 10,
             "solidity": 0.2
            },
            "type": "scatter"
           }
          ],
          "scatter3d": [
           {
            "line": {
             "colorbar": {
              "outlinewidth": 0,
              "ticks": ""
             }
            },
            "marker": {
             "colorbar": {
              "outlinewidth": 0,
              "ticks": ""
             }
            },
            "type": "scatter3d"
           }
          ],
          "scattercarpet": [
           {
            "marker": {
             "colorbar": {
              "outlinewidth": 0,
              "ticks": ""
             }
            },
            "type": "scattercarpet"
           }
          ],
          "scattergeo": [
           {
            "marker": {
             "colorbar": {
              "outlinewidth": 0,
              "ticks": ""
             }
            },
            "type": "scattergeo"
           }
          ],
          "scattergl": [
           {
            "marker": {
             "colorbar": {
              "outlinewidth": 0,
              "ticks": ""
             }
            },
            "type": "scattergl"
           }
          ],
          "scattermapbox": [
           {
            "marker": {
             "colorbar": {
              "outlinewidth": 0,
              "ticks": ""
             }
            },
            "type": "scattermapbox"
           }
          ],
          "scatterpolar": [
           {
            "marker": {
             "colorbar": {
              "outlinewidth": 0,
              "ticks": ""
             }
            },
            "type": "scatterpolar"
           }
          ],
          "scatterpolargl": [
           {
            "marker": {
             "colorbar": {
              "outlinewidth": 0,
              "ticks": ""
             }
            },
            "type": "scatterpolargl"
           }
          ],
          "scatterternary": [
           {
            "marker": {
             "colorbar": {
              "outlinewidth": 0,
              "ticks": ""
             }
            },
            "type": "scatterternary"
           }
          ],
          "surface": [
           {
            "colorbar": {
             "outlinewidth": 0,
             "ticks": ""
            },
            "colorscale": [
             [
              0,
              "#0d0887"
             ],
             [
              0.1111111111111111,
              "#46039f"
             ],
             [
              0.2222222222222222,
              "#7201a8"
             ],
             [
              0.3333333333333333,
              "#9c179e"
             ],
             [
              0.4444444444444444,
              "#bd3786"
             ],
             [
              0.5555555555555556,
              "#d8576b"
             ],
             [
              0.6666666666666666,
              "#ed7953"
             ],
             [
              0.7777777777777778,
              "#fb9f3a"
             ],
             [
              0.8888888888888888,
              "#fdca26"
             ],
             [
              1,
              "#f0f921"
             ]
            ],
            "type": "surface"
           }
          ],
          "table": [
           {
            "cells": {
             "fill": {
              "color": "#EBF0F8"
             },
             "line": {
              "color": "white"
             }
            },
            "header": {
             "fill": {
              "color": "#C8D4E3"
             },
             "line": {
              "color": "white"
             }
            },
            "type": "table"
           }
          ]
         },
         "layout": {
          "annotationdefaults": {
           "arrowcolor": "#2a3f5f",
           "arrowhead": 0,
           "arrowwidth": 1
          },
          "autotypenumbers": "strict",
          "coloraxis": {
           "colorbar": {
            "outlinewidth": 0,
            "ticks": ""
           }
          },
          "colorscale": {
           "diverging": [
            [
             0,
             "#8e0152"
            ],
            [
             0.1,
             "#c51b7d"
            ],
            [
             0.2,
             "#de77ae"
            ],
            [
             0.3,
             "#f1b6da"
            ],
            [
             0.4,
             "#fde0ef"
            ],
            [
             0.5,
             "#f7f7f7"
            ],
            [
             0.6,
             "#e6f5d0"
            ],
            [
             0.7,
             "#b8e186"
            ],
            [
             0.8,
             "#7fbc41"
            ],
            [
             0.9,
             "#4d9221"
            ],
            [
             1,
             "#276419"
            ]
           ],
           "sequential": [
            [
             0,
             "#0d0887"
            ],
            [
             0.1111111111111111,
             "#46039f"
            ],
            [
             0.2222222222222222,
             "#7201a8"
            ],
            [
             0.3333333333333333,
             "#9c179e"
            ],
            [
             0.4444444444444444,
             "#bd3786"
            ],
            [
             0.5555555555555556,
             "#d8576b"
            ],
            [
             0.6666666666666666,
             "#ed7953"
            ],
            [
             0.7777777777777778,
             "#fb9f3a"
            ],
            [
             0.8888888888888888,
             "#fdca26"
            ],
            [
             1,
             "#f0f921"
            ]
           ],
           "sequentialminus": [
            [
             0,
             "#0d0887"
            ],
            [
             0.1111111111111111,
             "#46039f"
            ],
            [
             0.2222222222222222,
             "#7201a8"
            ],
            [
             0.3333333333333333,
             "#9c179e"
            ],
            [
             0.4444444444444444,
             "#bd3786"
            ],
            [
             0.5555555555555556,
             "#d8576b"
            ],
            [
             0.6666666666666666,
             "#ed7953"
            ],
            [
             0.7777777777777778,
             "#fb9f3a"
            ],
            [
             0.8888888888888888,
             "#fdca26"
            ],
            [
             1,
             "#f0f921"
            ]
           ]
          },
          "colorway": [
           "#636efa",
           "#EF553B",
           "#00cc96",
           "#ab63fa",
           "#FFA15A",
           "#19d3f3",
           "#FF6692",
           "#B6E880",
           "#FF97FF",
           "#FECB52"
          ],
          "font": {
           "color": "#2a3f5f"
          },
          "geo": {
           "bgcolor": "white",
           "lakecolor": "white",
           "landcolor": "#E5ECF6",
           "showlakes": true,
           "showland": true,
           "subunitcolor": "white"
          },
          "hoverlabel": {
           "align": "left"
          },
          "hovermode": "closest",
          "mapbox": {
           "style": "light"
          },
          "paper_bgcolor": "white",
          "plot_bgcolor": "#E5ECF6",
          "polar": {
           "angularaxis": {
            "gridcolor": "white",
            "linecolor": "white",
            "ticks": ""
           },
           "bgcolor": "#E5ECF6",
           "radialaxis": {
            "gridcolor": "white",
            "linecolor": "white",
            "ticks": ""
           }
          },
          "scene": {
           "xaxis": {
            "backgroundcolor": "#E5ECF6",
            "gridcolor": "white",
            "gridwidth": 2,
            "linecolor": "white",
            "showbackground": true,
            "ticks": "",
            "zerolinecolor": "white"
           },
           "yaxis": {
            "backgroundcolor": "#E5ECF6",
            "gridcolor": "white",
            "gridwidth": 2,
            "linecolor": "white",
            "showbackground": true,
            "ticks": "",
            "zerolinecolor": "white"
           },
           "zaxis": {
            "backgroundcolor": "#E5ECF6",
            "gridcolor": "white",
            "gridwidth": 2,
            "linecolor": "white",
            "showbackground": true,
            "ticks": "",
            "zerolinecolor": "white"
           }
          },
          "shapedefaults": {
           "line": {
            "color": "#2a3f5f"
           }
          },
          "ternary": {
           "aaxis": {
            "gridcolor": "white",
            "linecolor": "white",
            "ticks": ""
           },
           "baxis": {
            "gridcolor": "white",
            "linecolor": "white",
            "ticks": ""
           },
           "bgcolor": "#E5ECF6",
           "caxis": {
            "gridcolor": "white",
            "linecolor": "white",
            "ticks": ""
           }
          },
          "title": {
           "x": 0.05
          },
          "xaxis": {
           "automargin": true,
           "gridcolor": "white",
           "linecolor": "white",
           "ticks": "",
           "title": {
            "standoff": 15
           },
           "zerolinecolor": "white",
           "zerolinewidth": 2
          },
          "yaxis": {
           "automargin": true,
           "gridcolor": "white",
           "linecolor": "white",
           "ticks": "",
           "title": {
            "standoff": 15
           },
           "zerolinecolor": "white",
           "zerolinewidth": 2
          }
         }
        },
        "width": 600,
        "xaxis": {
         "anchor": "y",
         "domain": [
          0,
          1
         ],
         "title": {
          "text": "PC 2 (29.0%)"
         }
        },
        "yaxis": {
         "anchor": "x",
         "domain": [
          0,
          1
         ],
         "title": {
          "text": "PC 3 (3.4%)"
         }
        }
       }
      },
      "text/html": [
       "<div>                            <div id=\"c2d78a39-6355-4b41-b48d-e6d738386066\" class=\"plotly-graph-div\" style=\"height:600px; width:600px;\"></div>            <script type=\"text/javascript\">                require([\"plotly\"], function(Plotly) {                    window.PLOTLYENV=window.PLOTLYENV || {};                                    if (document.getElementById(\"c2d78a39-6355-4b41-b48d-e6d738386066\")) {                    Plotly.newPlot(                        \"c2d78a39-6355-4b41-b48d-e6d738386066\",                        [{\"hovertemplate\":\"color=00<br>symbol=WT<br>1=%{x}<br>2=%{y}<extra></extra>\",\"legendgroup\":\"00, WT\",\"marker\":{\"color\":\"#636efa\",\"symbol\":\"circle\",\"size\":13},\"mode\":\"markers\",\"name\":\"00, WT\",\"orientation\":\"v\",\"showlegend\":true,\"x\":[-0.08953713727655419,0.2591370592070803,1.1937589940130338,1.425618563141269],\"xaxis\":\"x\",\"y\":[0.5625118712150113,0.28216482658113956,0.28330174257561386,0.036546934148484984],\"yaxis\":\"y\",\"type\":\"scatter\"},{\"hovertemplate\":\"color=02<br>symbol=WT<br>1=%{x}<br>2=%{y}<extra></extra>\",\"legendgroup\":\"02, WT\",\"marker\":{\"color\":\"#EF553B\",\"symbol\":\"circle\",\"size\":13},\"mode\":\"markers\",\"name\":\"02, WT\",\"orientation\":\"v\",\"showlegend\":true,\"x\":[1.4477643805110962,2.040274526238958,2.3637928312737846,1.745968608220041],\"xaxis\":\"x\",\"y\":[0.42857818079177257,-0.295956712622525,0.0014507758126661476,-0.6476554340184908],\"yaxis\":\"y\",\"type\":\"scatter\"},{\"hovertemplate\":\"color=04<br>symbol=WT<br>1=%{x}<br>2=%{y}<extra></extra>\",\"legendgroup\":\"04, WT\",\"marker\":{\"color\":\"#00cc96\",\"symbol\":\"circle\",\"size\":13},\"mode\":\"markers\",\"name\":\"04, WT\",\"orientation\":\"v\",\"showlegend\":true,\"x\":[2.3103721865808127,2.222246321044061,1.3489272397551832,2.1616639425498194],\"xaxis\":\"x\",\"y\":[-0.49816346100391135,-0.12606265431096028,-0.22774420384090147,-0.08152589747032708],\"yaxis\":\"y\",\"type\":\"scatter\"},{\"hovertemplate\":\"color=06<br>symbol=WT<br>1=%{x}<br>2=%{y}<extra></extra>\",\"legendgroup\":\"06, WT\",\"marker\":{\"color\":\"#ab63fa\",\"symbol\":\"circle\",\"size\":13},\"mode\":\"markers\",\"name\":\"06, WT\",\"orientation\":\"v\",\"showlegend\":true,\"x\":[1.8080212742696808,1.9054125596217766,1.2443619103034513,1.6396030992871646],\"xaxis\":\"x\",\"y\":[-0.2219351369926728,-0.35655885772221435,-0.15062315722427955,-0.43143564206872437],\"yaxis\":\"y\",\"type\":\"scatter\"},{\"hovertemplate\":\"color=08<br>symbol=WT<br>1=%{x}<br>2=%{y}<extra></extra>\",\"legendgroup\":\"08, WT\",\"marker\":{\"color\":\"#FFA15A\",\"symbol\":\"circle\",\"size\":13},\"mode\":\"markers\",\"name\":\"08, WT\",\"orientation\":\"v\",\"showlegend\":true,\"x\":[0.6190783539819893,-0.06427097879387733,0.019939208390489675,1.0195908437753174],\"xaxis\":\"x\",\"y\":[0.349201983404589,0.6001053693085469,0.6206351189307642,0.19967517552353511],\"yaxis\":\"y\",\"type\":\"scatter\"},{\"hovertemplate\":\"color=10<br>symbol=WT<br>1=%{x}<br>2=%{y}<extra></extra>\",\"legendgroup\":\"10, WT\",\"marker\":{\"color\":\"#19d3f3\",\"symbol\":\"circle\",\"size\":13},\"mode\":\"markers\",\"name\":\"10, WT\",\"orientation\":\"v\",\"showlegend\":true,\"x\":[0.2591078098983712,0.12212100732959999,-0.5619704118224987,0.17912013585449682],\"xaxis\":\"x\",\"y\":[0.4312395598287203,0.5573021875887809,0.40872589431453815,0.4558914823885054],\"yaxis\":\"y\",\"type\":\"scatter\"},{\"hovertemplate\":\"color=12<br>symbol=WT<br>1=%{x}<br>2=%{y}<extra></extra>\",\"legendgroup\":\"12, WT\",\"marker\":{\"color\":\"#FF6692\",\"symbol\":\"circle\",\"size\":13},\"mode\":\"markers\",\"name\":\"12, WT\",\"orientation\":\"v\",\"showlegend\":true,\"x\":[-0.6415080758365261,-0.5780395022350043,-0.4060651183957253,-0.782579238173389],\"xaxis\":\"x\",\"y\":[0.1563125594319395,0.5873200598147124,0.584249350905505,-0.0772145012519519],\"yaxis\":\"y\",\"type\":\"scatter\"},{\"hovertemplate\":\"color=14<br>symbol=WT<br>1=%{x}<br>2=%{y}<extra></extra>\",\"legendgroup\":\"14, WT\",\"marker\":{\"color\":\"#B6E880\",\"symbol\":\"circle\",\"size\":13},\"mode\":\"markers\",\"name\":\"14, WT\",\"orientation\":\"v\",\"showlegend\":true,\"x\":[-0.9218443932556807,-1.2679118322740544,-0.7971089405699128,-1.178942066792693],\"xaxis\":\"x\",\"y\":[-0.11689209058695421,-0.4844307206229881,-0.09700221387721486,-0.5696734393554641],\"yaxis\":\"y\",\"type\":\"scatter\"},{\"hovertemplate\":\"color=16<br>symbol=WT<br>1=%{x}<br>2=%{y}<extra></extra>\",\"legendgroup\":\"16, WT\",\"marker\":{\"color\":\"#FF97FF\",\"symbol\":\"circle\",\"size\":13},\"mode\":\"markers\",\"name\":\"16, WT\",\"orientation\":\"v\",\"showlegend\":true,\"x\":[-1.168659726888836,-1.2616292900610189,-1.2572405151086978,-1.079253562432685],\"xaxis\":\"x\",\"y\":[-0.6005298221659183,-0.6514867365014916,-0.6446338269865498,-0.5526172420445444],\"yaxis\":\"y\",\"type\":\"scatter\"},{\"hovertemplate\":\"color=18<br>symbol=WT<br>1=%{x}<br>2=%{y}<extra></extra>\",\"legendgroup\":\"18, WT\",\"marker\":{\"color\":\"#FECB52\",\"symbol\":\"circle\",\"size\":13},\"mode\":\"markers\",\"name\":\"18, WT\",\"orientation\":\"v\",\"showlegend\":true,\"x\":[-1.1692162761621778,-1.6604904316502238,-1.5068434910309336,-1.517395149176934],\"xaxis\":\"x\",\"y\":[-0.7485028746602443,-0.3866847163391188,-0.4457052344955101,-0.477611200353106],\"yaxis\":\"y\",\"type\":\"scatter\"},{\"hovertemplate\":\"color=20<br>symbol=WT<br>1=%{x}<br>2=%{y}<extra></extra>\",\"legendgroup\":\"20, WT\",\"marker\":{\"color\":\"#636efa\",\"symbol\":\"circle\",\"size\":13},\"mode\":\"markers\",\"name\":\"20, WT\",\"orientation\":\"v\",\"showlegend\":true,\"x\":[-1.4584326662769758,-1.535952802380803,-1.4128899825255805,-1.479416410124476],\"xaxis\":\"x\",\"y\":[0.582607199276494,0.8227821744910268,-0.2655678304447758,-0.32338309609095056],\"yaxis\":\"y\",\"type\":\"scatter\"},{\"hovertemplate\":\"color=22<br>symbol=WT<br>1=%{x}<br>2=%{y}<extra></extra>\",\"legendgroup\":\"22, WT\",\"marker\":{\"color\":\"#EF553B\",\"symbol\":\"circle\",\"size\":13},\"mode\":\"markers\",\"name\":\"22, WT\",\"orientation\":\"v\",\"showlegend\":true,\"x\":[-0.6744698294987378,-0.5196944952647946,-1.3337117340611744,-1.0108067971775097],\"xaxis\":\"x\",\"y\":[0.5943150826282889,0.40617211528471253,0.4033509058885313,0.1251561529179243],\"yaxis\":\"y\",\"type\":\"scatter\"}],                        {\"template\":{\"data\":{\"histogram2dcontour\":[{\"type\":\"histogram2dcontour\",\"colorbar\":{\"outlinewidth\":0,\"ticks\":\"\"},\"colorscale\":[[0.0,\"#0d0887\"],[0.1111111111111111,\"#46039f\"],[0.2222222222222222,\"#7201a8\"],[0.3333333333333333,\"#9c179e\"],[0.4444444444444444,\"#bd3786\"],[0.5555555555555556,\"#d8576b\"],[0.6666666666666666,\"#ed7953\"],[0.7777777777777778,\"#fb9f3a\"],[0.8888888888888888,\"#fdca26\"],[1.0,\"#f0f921\"]]}],\"choropleth\":[{\"type\":\"choropleth\",\"colorbar\":{\"outlinewidth\":0,\"ticks\":\"\"}}],\"histogram2d\":[{\"type\":\"histogram2d\",\"colorbar\":{\"outlinewidth\":0,\"ticks\":\"\"},\"colorscale\":[[0.0,\"#0d0887\"],[0.1111111111111111,\"#46039f\"],[0.2222222222222222,\"#7201a8\"],[0.3333333333333333,\"#9c179e\"],[0.4444444444444444,\"#bd3786\"],[0.5555555555555556,\"#d8576b\"],[0.6666666666666666,\"#ed7953\"],[0.7777777777777778,\"#fb9f3a\"],[0.8888888888888888,\"#fdca26\"],[1.0,\"#f0f921\"]]}],\"heatmap\":[{\"type\":\"heatmap\",\"colorbar\":{\"outlinewidth\":0,\"ticks\":\"\"},\"colorscale\":[[0.0,\"#0d0887\"],[0.1111111111111111,\"#46039f\"],[0.2222222222222222,\"#7201a8\"],[0.3333333333333333,\"#9c179e\"],[0.4444444444444444,\"#bd3786\"],[0.5555555555555556,\"#d8576b\"],[0.6666666666666666,\"#ed7953\"],[0.7777777777777778,\"#fb9f3a\"],[0.8888888888888888,\"#fdca26\"],[1.0,\"#f0f921\"]]}],\"heatmapgl\":[{\"type\":\"heatmapgl\",\"colorbar\":{\"outlinewidth\":0,\"ticks\":\"\"},\"colorscale\":[[0.0,\"#0d0887\"],[0.1111111111111111,\"#46039f\"],[0.2222222222222222,\"#7201a8\"],[0.3333333333333333,\"#9c179e\"],[0.4444444444444444,\"#bd3786\"],[0.5555555555555556,\"#d8576b\"],[0.6666666666666666,\"#ed7953\"],[0.7777777777777778,\"#fb9f3a\"],[0.8888888888888888,\"#fdca26\"],[1.0,\"#f0f921\"]]}],\"contourcarpet\":[{\"type\":\"contourcarpet\",\"colorbar\":{\"outlinewidth\":0,\"ticks\":\"\"}}],\"contour\":[{\"type\":\"contour\",\"colorbar\":{\"outlinewidth\":0,\"ticks\":\"\"},\"colorscale\":[[0.0,\"#0d0887\"],[0.1111111111111111,\"#46039f\"],[0.2222222222222222,\"#7201a8\"],[0.3333333333333333,\"#9c179e\"],[0.4444444444444444,\"#bd3786\"],[0.5555555555555556,\"#d8576b\"],[0.6666666666666666,\"#ed7953\"],[0.7777777777777778,\"#fb9f3a\"],[0.8888888888888888,\"#fdca26\"],[1.0,\"#f0f921\"]]}],\"surface\":[{\"type\":\"surface\",\"colorbar\":{\"outlinewidth\":0,\"ticks\":\"\"},\"colorscale\":[[0.0,\"#0d0887\"],[0.1111111111111111,\"#46039f\"],[0.2222222222222222,\"#7201a8\"],[0.3333333333333333,\"#9c179e\"],[0.4444444444444444,\"#bd3786\"],[0.5555555555555556,\"#d8576b\"],[0.6666666666666666,\"#ed7953\"],[0.7777777777777778,\"#fb9f3a\"],[0.8888888888888888,\"#fdca26\"],[1.0,\"#f0f921\"]]}],\"mesh3d\":[{\"type\":\"mesh3d\",\"colorbar\":{\"outlinewidth\":0,\"ticks\":\"\"}}],\"scatter\":[{\"fillpattern\":{\"fillmode\":\"overlay\",\"size\":10,\"solidity\":0.2},\"type\":\"scatter\"}],\"parcoords\":[{\"type\":\"parcoords\",\"line\":{\"colorbar\":{\"outlinewidth\":0,\"ticks\":\"\"}}}],\"scatterpolargl\":[{\"type\":\"scatterpolargl\",\"marker\":{\"colorbar\":{\"outlinewidth\":0,\"ticks\":\"\"}}}],\"bar\":[{\"error_x\":{\"color\":\"#2a3f5f\"},\"error_y\":{\"color\":\"#2a3f5f\"},\"marker\":{\"line\":{\"color\":\"#E5ECF6\",\"width\":0.5},\"pattern\":{\"fillmode\":\"overlay\",\"size\":10,\"solidity\":0.2}},\"type\":\"bar\"}],\"scattergeo\":[{\"type\":\"scattergeo\",\"marker\":{\"colorbar\":{\"outlinewidth\":0,\"ticks\":\"\"}}}],\"scatterpolar\":[{\"type\":\"scatterpolar\",\"marker\":{\"colorbar\":{\"outlinewidth\":0,\"ticks\":\"\"}}}],\"histogram\":[{\"marker\":{\"pattern\":{\"fillmode\":\"overlay\",\"size\":10,\"solidity\":0.2}},\"type\":\"histogram\"}],\"scattergl\":[{\"type\":\"scattergl\",\"marker\":{\"colorbar\":{\"outlinewidth\":0,\"ticks\":\"\"}}}],\"scatter3d\":[{\"type\":\"scatter3d\",\"line\":{\"colorbar\":{\"outlinewidth\":0,\"ticks\":\"\"}},\"marker\":{\"colorbar\":{\"outlinewidth\":0,\"ticks\":\"\"}}}],\"scattermapbox\":[{\"type\":\"scattermapbox\",\"marker\":{\"colorbar\":{\"outlinewidth\":0,\"ticks\":\"\"}}}],\"scatterternary\":[{\"type\":\"scatterternary\",\"marker\":{\"colorbar\":{\"outlinewidth\":0,\"ticks\":\"\"}}}],\"scattercarpet\":[{\"type\":\"scattercarpet\",\"marker\":{\"colorbar\":{\"outlinewidth\":0,\"ticks\":\"\"}}}],\"carpet\":[{\"aaxis\":{\"endlinecolor\":\"#2a3f5f\",\"gridcolor\":\"white\",\"linecolor\":\"white\",\"minorgridcolor\":\"white\",\"startlinecolor\":\"#2a3f5f\"},\"baxis\":{\"endlinecolor\":\"#2a3f5f\",\"gridcolor\":\"white\",\"linecolor\":\"white\",\"minorgridcolor\":\"white\",\"startlinecolor\":\"#2a3f5f\"},\"type\":\"carpet\"}],\"table\":[{\"cells\":{\"fill\":{\"color\":\"#EBF0F8\"},\"line\":{\"color\":\"white\"}},\"header\":{\"fill\":{\"color\":\"#C8D4E3\"},\"line\":{\"color\":\"white\"}},\"type\":\"table\"}],\"barpolar\":[{\"marker\":{\"line\":{\"color\":\"#E5ECF6\",\"width\":0.5},\"pattern\":{\"fillmode\":\"overlay\",\"size\":10,\"solidity\":0.2}},\"type\":\"barpolar\"}],\"pie\":[{\"automargin\":true,\"type\":\"pie\"}]},\"layout\":{\"autotypenumbers\":\"strict\",\"colorway\":[\"#636efa\",\"#EF553B\",\"#00cc96\",\"#ab63fa\",\"#FFA15A\",\"#19d3f3\",\"#FF6692\",\"#B6E880\",\"#FF97FF\",\"#FECB52\"],\"font\":{\"color\":\"#2a3f5f\"},\"hovermode\":\"closest\",\"hoverlabel\":{\"align\":\"left\"},\"paper_bgcolor\":\"white\",\"plot_bgcolor\":\"#E5ECF6\",\"polar\":{\"bgcolor\":\"#E5ECF6\",\"angularaxis\":{\"gridcolor\":\"white\",\"linecolor\":\"white\",\"ticks\":\"\"},\"radialaxis\":{\"gridcolor\":\"white\",\"linecolor\":\"white\",\"ticks\":\"\"}},\"ternary\":{\"bgcolor\":\"#E5ECF6\",\"aaxis\":{\"gridcolor\":\"white\",\"linecolor\":\"white\",\"ticks\":\"\"},\"baxis\":{\"gridcolor\":\"white\",\"linecolor\":\"white\",\"ticks\":\"\"},\"caxis\":{\"gridcolor\":\"white\",\"linecolor\":\"white\",\"ticks\":\"\"}},\"coloraxis\":{\"colorbar\":{\"outlinewidth\":0,\"ticks\":\"\"}},\"colorscale\":{\"sequential\":[[0.0,\"#0d0887\"],[0.1111111111111111,\"#46039f\"],[0.2222222222222222,\"#7201a8\"],[0.3333333333333333,\"#9c179e\"],[0.4444444444444444,\"#bd3786\"],[0.5555555555555556,\"#d8576b\"],[0.6666666666666666,\"#ed7953\"],[0.7777777777777778,\"#fb9f3a\"],[0.8888888888888888,\"#fdca26\"],[1.0,\"#f0f921\"]],\"sequentialminus\":[[0.0,\"#0d0887\"],[0.1111111111111111,\"#46039f\"],[0.2222222222222222,\"#7201a8\"],[0.3333333333333333,\"#9c179e\"],[0.4444444444444444,\"#bd3786\"],[0.5555555555555556,\"#d8576b\"],[0.6666666666666666,\"#ed7953\"],[0.7777777777777778,\"#fb9f3a\"],[0.8888888888888888,\"#fdca26\"],[1.0,\"#f0f921\"]],\"diverging\":[[0,\"#8e0152\"],[0.1,\"#c51b7d\"],[0.2,\"#de77ae\"],[0.3,\"#f1b6da\"],[0.4,\"#fde0ef\"],[0.5,\"#f7f7f7\"],[0.6,\"#e6f5d0\"],[0.7,\"#b8e186\"],[0.8,\"#7fbc41\"],[0.9,\"#4d9221\"],[1,\"#276419\"]]},\"xaxis\":{\"gridcolor\":\"white\",\"linecolor\":\"white\",\"ticks\":\"\",\"title\":{\"standoff\":15},\"zerolinecolor\":\"white\",\"automargin\":true,\"zerolinewidth\":2},\"yaxis\":{\"gridcolor\":\"white\",\"linecolor\":\"white\",\"ticks\":\"\",\"title\":{\"standoff\":15},\"zerolinecolor\":\"white\",\"automargin\":true,\"zerolinewidth\":2},\"scene\":{\"xaxis\":{\"backgroundcolor\":\"#E5ECF6\",\"gridcolor\":\"white\",\"linecolor\":\"white\",\"showbackground\":true,\"ticks\":\"\",\"zerolinecolor\":\"white\",\"gridwidth\":2},\"yaxis\":{\"backgroundcolor\":\"#E5ECF6\",\"gridcolor\":\"white\",\"linecolor\":\"white\",\"showbackground\":true,\"ticks\":\"\",\"zerolinecolor\":\"white\",\"gridwidth\":2},\"zaxis\":{\"backgroundcolor\":\"#E5ECF6\",\"gridcolor\":\"white\",\"linecolor\":\"white\",\"showbackground\":true,\"ticks\":\"\",\"zerolinecolor\":\"white\",\"gridwidth\":2}},\"shapedefaults\":{\"line\":{\"color\":\"#2a3f5f\"}},\"annotationdefaults\":{\"arrowcolor\":\"#2a3f5f\",\"arrowhead\":0,\"arrowwidth\":1},\"geo\":{\"bgcolor\":\"white\",\"landcolor\":\"#E5ECF6\",\"subunitcolor\":\"white\",\"showland\":true,\"showlakes\":true,\"lakecolor\":\"white\"},\"title\":{\"x\":0.05},\"mapbox\":{\"style\":\"light\"}}},\"xaxis\":{\"anchor\":\"y\",\"domain\":[0.0,1.0],\"title\":{\"text\":\"PC 2 (29.0%)\"}},\"yaxis\":{\"anchor\":\"x\",\"domain\":[0.0,1.0],\"title\":{\"text\":\"PC 3 (3.4%)\"}},\"legend\":{\"title\":{\"text\":\"color, symbol\"},\"tracegroupgap\":0},\"margin\":{\"t\":60},\"height\":600,\"width\":600,\"plot_bgcolor\":\"rgb(243,243,243)\"},                        {\"responsive\": true}                    ).then(function(){\n",
       "                            \n",
       "var gd = document.getElementById('c2d78a39-6355-4b41-b48d-e6d738386066');\n",
       "var x = new MutationObserver(function (mutations, observer) {{\n",
       "        var display = window.getComputedStyle(gd).display;\n",
       "        if (!display || display === 'none') {{\n",
       "            console.log([gd, 'removed!']);\n",
       "            Plotly.purge(gd);\n",
       "            observer.disconnect();\n",
       "        }}\n",
       "}});\n",
       "\n",
       "// Listen for the removal of the full notebook cells\n",
       "var notebookContainer = gd.closest('#notebook-container');\n",
       "if (notebookContainer) {{\n",
       "    x.observe(notebookContainer, {childList: true});\n",
       "}}\n",
       "\n",
       "// Listen for the clearing of the current output cell\n",
       "var outputEl = gd.closest('.output');\n",
       "if (outputEl) {{\n",
       "    x.observe(outputEl, {childList: true});\n",
       "}}\n",
       "\n",
       "                        })                };                });            </script>        </div>"
      ]
     },
     "metadata": {},
     "output_type": "display_data"
    },
    {
     "data": {
      "application/vnd.plotly.v1+json": {
       "config": {
        "plotlyServerURL": "https://plot.ly"
       },
       "data": [
        {
         "hovertemplate": "color=A<br>symbol=Exon<br>1=%{x}<br>2=%{y}<extra></extra>",
         "legendgroup": "A, Exon",
         "marker": {
          "color": "#636efa",
          "size": 13,
          "symbol": "circle"
         },
         "mode": "markers",
         "name": "A, Exon",
         "orientation": "v",
         "showlegend": true,
         "type": "scatter",
         "x": [
          -0.08953713727655419,
          1.4477643805110962,
          2.3103721865808127,
          1.8080212742696808,
          0.6190783539819893,
          0.2591078098983712,
          -0.6415080758365261,
          -0.9218443932556807,
          -1.168659726888836,
          -1.1692162761621778,
          -1.4584326662769758,
          -0.6744698294987378
         ],
         "xaxis": "x",
         "y": [
          0.5625118712150113,
          0.42857818079177257,
          -0.49816346100391135,
          -0.2219351369926728,
          0.349201983404589,
          0.4312395598287203,
          0.1563125594319395,
          -0.11689209058695421,
          -0.6005298221659183,
          -0.7485028746602443,
          0.582607199276494,
          0.5943150826282889
         ],
         "yaxis": "y"
        },
        {
         "hovertemplate": "color=B<br>symbol=Exon<br>1=%{x}<br>2=%{y}<extra></extra>",
         "legendgroup": "B, Exon",
         "marker": {
          "color": "#EF553B",
          "size": 13,
          "symbol": "circle"
         },
         "mode": "markers",
         "name": "B, Exon",
         "orientation": "v",
         "showlegend": true,
         "type": "scatter",
         "x": [
          0.2591370592070803,
          2.040274526238958,
          2.222246321044061,
          1.9054125596217766,
          -0.06427097879387733,
          0.12212100732959999,
          -0.5780395022350043,
          -1.2679118322740544,
          -1.2616292900610189,
          -1.6604904316502238,
          -1.535952802380803,
          -0.5196944952647946
         ],
         "xaxis": "x",
         "y": [
          0.28216482658113956,
          -0.295956712622525,
          -0.12606265431096028,
          -0.35655885772221435,
          0.6001053693085469,
          0.5573021875887809,
          0.5873200598147124,
          -0.4844307206229881,
          -0.6514867365014916,
          -0.3866847163391188,
          0.8227821744910268,
          0.40617211528471253
         ],
         "yaxis": "y"
        },
        {
         "hovertemplate": "color=C<br>symbol=Exon<br>1=%{x}<br>2=%{y}<extra></extra>",
         "legendgroup": "C, Exon",
         "marker": {
          "color": "#00cc96",
          "size": 13,
          "symbol": "circle"
         },
         "mode": "markers",
         "name": "C, Exon",
         "orientation": "v",
         "showlegend": true,
         "type": "scatter",
         "x": [
          1.1937589940130338,
          2.3637928312737846,
          1.3489272397551832,
          1.2443619103034513,
          0.019939208390489675,
          -0.5619704118224987,
          -0.4060651183957253,
          -0.7971089405699128,
          -1.2572405151086978,
          -1.5068434910309336,
          -1.4128899825255805,
          -1.3337117340611744
         ],
         "xaxis": "x",
         "y": [
          0.28330174257561386,
          0.0014507758126661476,
          -0.22774420384090147,
          -0.15062315722427955,
          0.6206351189307642,
          0.40872589431453815,
          0.584249350905505,
          -0.09700221387721486,
          -0.6446338269865498,
          -0.4457052344955101,
          -0.2655678304447758,
          0.4033509058885313
         ],
         "yaxis": "y"
        },
        {
         "hovertemplate": "color=D<br>symbol=Exon<br>1=%{x}<br>2=%{y}<extra></extra>",
         "legendgroup": "D, Exon",
         "marker": {
          "color": "#ab63fa",
          "size": 13,
          "symbol": "circle"
         },
         "mode": "markers",
         "name": "D, Exon",
         "orientation": "v",
         "showlegend": true,
         "type": "scatter",
         "x": [
          1.425618563141269,
          1.745968608220041,
          2.1616639425498194,
          1.6396030992871646,
          1.0195908437753174,
          0.17912013585449682,
          -0.782579238173389,
          -1.178942066792693,
          -1.079253562432685,
          -1.517395149176934,
          -1.479416410124476,
          -1.0108067971775097
         ],
         "xaxis": "x",
         "y": [
          0.036546934148484984,
          -0.6476554340184908,
          -0.08152589747032708,
          -0.43143564206872437,
          0.19967517552353511,
          0.4558914823885054,
          -0.0772145012519519,
          -0.5696734393554641,
          -0.5526172420445444,
          -0.477611200353106,
          -0.32338309609095056,
          0.1251561529179243
         ],
         "yaxis": "y"
        }
       ],
       "layout": {
        "height": 600,
        "legend": {
         "title": {
          "text": "color, symbol"
         },
         "tracegroupgap": 0
        },
        "margin": {
         "t": 60
        },
        "plot_bgcolor": "rgb(243,243,243)",
        "template": {
         "data": {
          "bar": [
           {
            "error_x": {
             "color": "#2a3f5f"
            },
            "error_y": {
             "color": "#2a3f5f"
            },
            "marker": {
             "line": {
              "color": "#E5ECF6",
              "width": 0.5
             },
             "pattern": {
              "fillmode": "overlay",
              "size": 10,
              "solidity": 0.2
             }
            },
            "type": "bar"
           }
          ],
          "barpolar": [
           {
            "marker": {
             "line": {
              "color": "#E5ECF6",
              "width": 0.5
             },
             "pattern": {
              "fillmode": "overlay",
              "size": 10,
              "solidity": 0.2
             }
            },
            "type": "barpolar"
           }
          ],
          "carpet": [
           {
            "aaxis": {
             "endlinecolor": "#2a3f5f",
             "gridcolor": "white",
             "linecolor": "white",
             "minorgridcolor": "white",
             "startlinecolor": "#2a3f5f"
            },
            "baxis": {
             "endlinecolor": "#2a3f5f",
             "gridcolor": "white",
             "linecolor": "white",
             "minorgridcolor": "white",
             "startlinecolor": "#2a3f5f"
            },
            "type": "carpet"
           }
          ],
          "choropleth": [
           {
            "colorbar": {
             "outlinewidth": 0,
             "ticks": ""
            },
            "type": "choropleth"
           }
          ],
          "contour": [
           {
            "colorbar": {
             "outlinewidth": 0,
             "ticks": ""
            },
            "colorscale": [
             [
              0,
              "#0d0887"
             ],
             [
              0.1111111111111111,
              "#46039f"
             ],
             [
              0.2222222222222222,
              "#7201a8"
             ],
             [
              0.3333333333333333,
              "#9c179e"
             ],
             [
              0.4444444444444444,
              "#bd3786"
             ],
             [
              0.5555555555555556,
              "#d8576b"
             ],
             [
              0.6666666666666666,
              "#ed7953"
             ],
             [
              0.7777777777777778,
              "#fb9f3a"
             ],
             [
              0.8888888888888888,
              "#fdca26"
             ],
             [
              1,
              "#f0f921"
             ]
            ],
            "type": "contour"
           }
          ],
          "contourcarpet": [
           {
            "colorbar": {
             "outlinewidth": 0,
             "ticks": ""
            },
            "type": "contourcarpet"
           }
          ],
          "heatmap": [
           {
            "colorbar": {
             "outlinewidth": 0,
             "ticks": ""
            },
            "colorscale": [
             [
              0,
              "#0d0887"
             ],
             [
              0.1111111111111111,
              "#46039f"
             ],
             [
              0.2222222222222222,
              "#7201a8"
             ],
             [
              0.3333333333333333,
              "#9c179e"
             ],
             [
              0.4444444444444444,
              "#bd3786"
             ],
             [
              0.5555555555555556,
              "#d8576b"
             ],
             [
              0.6666666666666666,
              "#ed7953"
             ],
             [
              0.7777777777777778,
              "#fb9f3a"
             ],
             [
              0.8888888888888888,
              "#fdca26"
             ],
             [
              1,
              "#f0f921"
             ]
            ],
            "type": "heatmap"
           }
          ],
          "heatmapgl": [
           {
            "colorbar": {
             "outlinewidth": 0,
             "ticks": ""
            },
            "colorscale": [
             [
              0,
              "#0d0887"
             ],
             [
              0.1111111111111111,
              "#46039f"
             ],
             [
              0.2222222222222222,
              "#7201a8"
             ],
             [
              0.3333333333333333,
              "#9c179e"
             ],
             [
              0.4444444444444444,
              "#bd3786"
             ],
             [
              0.5555555555555556,
              "#d8576b"
             ],
             [
              0.6666666666666666,
              "#ed7953"
             ],
             [
              0.7777777777777778,
              "#fb9f3a"
             ],
             [
              0.8888888888888888,
              "#fdca26"
             ],
             [
              1,
              "#f0f921"
             ]
            ],
            "type": "heatmapgl"
           }
          ],
          "histogram": [
           {
            "marker": {
             "pattern": {
              "fillmode": "overlay",
              "size": 10,
              "solidity": 0.2
             }
            },
            "type": "histogram"
           }
          ],
          "histogram2d": [
           {
            "colorbar": {
             "outlinewidth": 0,
             "ticks": ""
            },
            "colorscale": [
             [
              0,
              "#0d0887"
             ],
             [
              0.1111111111111111,
              "#46039f"
             ],
             [
              0.2222222222222222,
              "#7201a8"
             ],
             [
              0.3333333333333333,
              "#9c179e"
             ],
             [
              0.4444444444444444,
              "#bd3786"
             ],
             [
              0.5555555555555556,
              "#d8576b"
             ],
             [
              0.6666666666666666,
              "#ed7953"
             ],
             [
              0.7777777777777778,
              "#fb9f3a"
             ],
             [
              0.8888888888888888,
              "#fdca26"
             ],
             [
              1,
              "#f0f921"
             ]
            ],
            "type": "histogram2d"
           }
          ],
          "histogram2dcontour": [
           {
            "colorbar": {
             "outlinewidth": 0,
             "ticks": ""
            },
            "colorscale": [
             [
              0,
              "#0d0887"
             ],
             [
              0.1111111111111111,
              "#46039f"
             ],
             [
              0.2222222222222222,
              "#7201a8"
             ],
             [
              0.3333333333333333,
              "#9c179e"
             ],
             [
              0.4444444444444444,
              "#bd3786"
             ],
             [
              0.5555555555555556,
              "#d8576b"
             ],
             [
              0.6666666666666666,
              "#ed7953"
             ],
             [
              0.7777777777777778,
              "#fb9f3a"
             ],
             [
              0.8888888888888888,
              "#fdca26"
             ],
             [
              1,
              "#f0f921"
             ]
            ],
            "type": "histogram2dcontour"
           }
          ],
          "mesh3d": [
           {
            "colorbar": {
             "outlinewidth": 0,
             "ticks": ""
            },
            "type": "mesh3d"
           }
          ],
          "parcoords": [
           {
            "line": {
             "colorbar": {
              "outlinewidth": 0,
              "ticks": ""
             }
            },
            "type": "parcoords"
           }
          ],
          "pie": [
           {
            "automargin": true,
            "type": "pie"
           }
          ],
          "scatter": [
           {
            "fillpattern": {
             "fillmode": "overlay",
             "size": 10,
             "solidity": 0.2
            },
            "type": "scatter"
           }
          ],
          "scatter3d": [
           {
            "line": {
             "colorbar": {
              "outlinewidth": 0,
              "ticks": ""
             }
            },
            "marker": {
             "colorbar": {
              "outlinewidth": 0,
              "ticks": ""
             }
            },
            "type": "scatter3d"
           }
          ],
          "scattercarpet": [
           {
            "marker": {
             "colorbar": {
              "outlinewidth": 0,
              "ticks": ""
             }
            },
            "type": "scattercarpet"
           }
          ],
          "scattergeo": [
           {
            "marker": {
             "colorbar": {
              "outlinewidth": 0,
              "ticks": ""
             }
            },
            "type": "scattergeo"
           }
          ],
          "scattergl": [
           {
            "marker": {
             "colorbar": {
              "outlinewidth": 0,
              "ticks": ""
             }
            },
            "type": "scattergl"
           }
          ],
          "scattermapbox": [
           {
            "marker": {
             "colorbar": {
              "outlinewidth": 0,
              "ticks": ""
             }
            },
            "type": "scattermapbox"
           }
          ],
          "scatterpolar": [
           {
            "marker": {
             "colorbar": {
              "outlinewidth": 0,
              "ticks": ""
             }
            },
            "type": "scatterpolar"
           }
          ],
          "scatterpolargl": [
           {
            "marker": {
             "colorbar": {
              "outlinewidth": 0,
              "ticks": ""
             }
            },
            "type": "scatterpolargl"
           }
          ],
          "scatterternary": [
           {
            "marker": {
             "colorbar": {
              "outlinewidth": 0,
              "ticks": ""
             }
            },
            "type": "scatterternary"
           }
          ],
          "surface": [
           {
            "colorbar": {
             "outlinewidth": 0,
             "ticks": ""
            },
            "colorscale": [
             [
              0,
              "#0d0887"
             ],
             [
              0.1111111111111111,
              "#46039f"
             ],
             [
              0.2222222222222222,
              "#7201a8"
             ],
             [
              0.3333333333333333,
              "#9c179e"
             ],
             [
              0.4444444444444444,
              "#bd3786"
             ],
             [
              0.5555555555555556,
              "#d8576b"
             ],
             [
              0.6666666666666666,
              "#ed7953"
             ],
             [
              0.7777777777777778,
              "#fb9f3a"
             ],
             [
              0.8888888888888888,
              "#fdca26"
             ],
             [
              1,
              "#f0f921"
             ]
            ],
            "type": "surface"
           }
          ],
          "table": [
           {
            "cells": {
             "fill": {
              "color": "#EBF0F8"
             },
             "line": {
              "color": "white"
             }
            },
            "header": {
             "fill": {
              "color": "#C8D4E3"
             },
             "line": {
              "color": "white"
             }
            },
            "type": "table"
           }
          ]
         },
         "layout": {
          "annotationdefaults": {
           "arrowcolor": "#2a3f5f",
           "arrowhead": 0,
           "arrowwidth": 1
          },
          "autotypenumbers": "strict",
          "coloraxis": {
           "colorbar": {
            "outlinewidth": 0,
            "ticks": ""
           }
          },
          "colorscale": {
           "diverging": [
            [
             0,
             "#8e0152"
            ],
            [
             0.1,
             "#c51b7d"
            ],
            [
             0.2,
             "#de77ae"
            ],
            [
             0.3,
             "#f1b6da"
            ],
            [
             0.4,
             "#fde0ef"
            ],
            [
             0.5,
             "#f7f7f7"
            ],
            [
             0.6,
             "#e6f5d0"
            ],
            [
             0.7,
             "#b8e186"
            ],
            [
             0.8,
             "#7fbc41"
            ],
            [
             0.9,
             "#4d9221"
            ],
            [
             1,
             "#276419"
            ]
           ],
           "sequential": [
            [
             0,
             "#0d0887"
            ],
            [
             0.1111111111111111,
             "#46039f"
            ],
            [
             0.2222222222222222,
             "#7201a8"
            ],
            [
             0.3333333333333333,
             "#9c179e"
            ],
            [
             0.4444444444444444,
             "#bd3786"
            ],
            [
             0.5555555555555556,
             "#d8576b"
            ],
            [
             0.6666666666666666,
             "#ed7953"
            ],
            [
             0.7777777777777778,
             "#fb9f3a"
            ],
            [
             0.8888888888888888,
             "#fdca26"
            ],
            [
             1,
             "#f0f921"
            ]
           ],
           "sequentialminus": [
            [
             0,
             "#0d0887"
            ],
            [
             0.1111111111111111,
             "#46039f"
            ],
            [
             0.2222222222222222,
             "#7201a8"
            ],
            [
             0.3333333333333333,
             "#9c179e"
            ],
            [
             0.4444444444444444,
             "#bd3786"
            ],
            [
             0.5555555555555556,
             "#d8576b"
            ],
            [
             0.6666666666666666,
             "#ed7953"
            ],
            [
             0.7777777777777778,
             "#fb9f3a"
            ],
            [
             0.8888888888888888,
             "#fdca26"
            ],
            [
             1,
             "#f0f921"
            ]
           ]
          },
          "colorway": [
           "#636efa",
           "#EF553B",
           "#00cc96",
           "#ab63fa",
           "#FFA15A",
           "#19d3f3",
           "#FF6692",
           "#B6E880",
           "#FF97FF",
           "#FECB52"
          ],
          "font": {
           "color": "#2a3f5f"
          },
          "geo": {
           "bgcolor": "white",
           "lakecolor": "white",
           "landcolor": "#E5ECF6",
           "showlakes": true,
           "showland": true,
           "subunitcolor": "white"
          },
          "hoverlabel": {
           "align": "left"
          },
          "hovermode": "closest",
          "mapbox": {
           "style": "light"
          },
          "paper_bgcolor": "white",
          "plot_bgcolor": "#E5ECF6",
          "polar": {
           "angularaxis": {
            "gridcolor": "white",
            "linecolor": "white",
            "ticks": ""
           },
           "bgcolor": "#E5ECF6",
           "radialaxis": {
            "gridcolor": "white",
            "linecolor": "white",
            "ticks": ""
           }
          },
          "scene": {
           "xaxis": {
            "backgroundcolor": "#E5ECF6",
            "gridcolor": "white",
            "gridwidth": 2,
            "linecolor": "white",
            "showbackground": true,
            "ticks": "",
            "zerolinecolor": "white"
           },
           "yaxis": {
            "backgroundcolor": "#E5ECF6",
            "gridcolor": "white",
            "gridwidth": 2,
            "linecolor": "white",
            "showbackground": true,
            "ticks": "",
            "zerolinecolor": "white"
           },
           "zaxis": {
            "backgroundcolor": "#E5ECF6",
            "gridcolor": "white",
            "gridwidth": 2,
            "linecolor": "white",
            "showbackground": true,
            "ticks": "",
            "zerolinecolor": "white"
           }
          },
          "shapedefaults": {
           "line": {
            "color": "#2a3f5f"
           }
          },
          "ternary": {
           "aaxis": {
            "gridcolor": "white",
            "linecolor": "white",
            "ticks": ""
           },
           "baxis": {
            "gridcolor": "white",
            "linecolor": "white",
            "ticks": ""
           },
           "bgcolor": "#E5ECF6",
           "caxis": {
            "gridcolor": "white",
            "linecolor": "white",
            "ticks": ""
           }
          },
          "title": {
           "x": 0.05
          },
          "xaxis": {
           "automargin": true,
           "gridcolor": "white",
           "linecolor": "white",
           "ticks": "",
           "title": {
            "standoff": 15
           },
           "zerolinecolor": "white",
           "zerolinewidth": 2
          },
          "yaxis": {
           "automargin": true,
           "gridcolor": "white",
           "linecolor": "white",
           "ticks": "",
           "title": {
            "standoff": 15
           },
           "zerolinecolor": "white",
           "zerolinewidth": 2
          }
         }
        },
        "width": 600,
        "xaxis": {
         "anchor": "y",
         "domain": [
          0,
          1
         ],
         "title": {
          "text": "PC 2 (29.0%)"
         }
        },
        "yaxis": {
         "anchor": "x",
         "domain": [
          0,
          1
         ],
         "title": {
          "text": "PC 3 (3.4%)"
         }
        }
       }
      },
      "text/html": [
       "<div>                            <div id=\"8d5ef60a-57e9-4ae5-abc9-c13802eb4ea8\" class=\"plotly-graph-div\" style=\"height:600px; width:600px;\"></div>            <script type=\"text/javascript\">                require([\"plotly\"], function(Plotly) {                    window.PLOTLYENV=window.PLOTLYENV || {};                                    if (document.getElementById(\"8d5ef60a-57e9-4ae5-abc9-c13802eb4ea8\")) {                    Plotly.newPlot(                        \"8d5ef60a-57e9-4ae5-abc9-c13802eb4ea8\",                        [{\"hovertemplate\":\"color=A<br>symbol=Exon<br>1=%{x}<br>2=%{y}<extra></extra>\",\"legendgroup\":\"A, Exon\",\"marker\":{\"color\":\"#636efa\",\"symbol\":\"circle\",\"size\":13},\"mode\":\"markers\",\"name\":\"A, Exon\",\"orientation\":\"v\",\"showlegend\":true,\"x\":[-0.08953713727655419,1.4477643805110962,2.3103721865808127,1.8080212742696808,0.6190783539819893,0.2591078098983712,-0.6415080758365261,-0.9218443932556807,-1.168659726888836,-1.1692162761621778,-1.4584326662769758,-0.6744698294987378],\"xaxis\":\"x\",\"y\":[0.5625118712150113,0.42857818079177257,-0.49816346100391135,-0.2219351369926728,0.349201983404589,0.4312395598287203,0.1563125594319395,-0.11689209058695421,-0.6005298221659183,-0.7485028746602443,0.582607199276494,0.5943150826282889],\"yaxis\":\"y\",\"type\":\"scatter\"},{\"hovertemplate\":\"color=B<br>symbol=Exon<br>1=%{x}<br>2=%{y}<extra></extra>\",\"legendgroup\":\"B, Exon\",\"marker\":{\"color\":\"#EF553B\",\"symbol\":\"circle\",\"size\":13},\"mode\":\"markers\",\"name\":\"B, Exon\",\"orientation\":\"v\",\"showlegend\":true,\"x\":[0.2591370592070803,2.040274526238958,2.222246321044061,1.9054125596217766,-0.06427097879387733,0.12212100732959999,-0.5780395022350043,-1.2679118322740544,-1.2616292900610189,-1.6604904316502238,-1.535952802380803,-0.5196944952647946],\"xaxis\":\"x\",\"y\":[0.28216482658113956,-0.295956712622525,-0.12606265431096028,-0.35655885772221435,0.6001053693085469,0.5573021875887809,0.5873200598147124,-0.4844307206229881,-0.6514867365014916,-0.3866847163391188,0.8227821744910268,0.40617211528471253],\"yaxis\":\"y\",\"type\":\"scatter\"},{\"hovertemplate\":\"color=C<br>symbol=Exon<br>1=%{x}<br>2=%{y}<extra></extra>\",\"legendgroup\":\"C, Exon\",\"marker\":{\"color\":\"#00cc96\",\"symbol\":\"circle\",\"size\":13},\"mode\":\"markers\",\"name\":\"C, Exon\",\"orientation\":\"v\",\"showlegend\":true,\"x\":[1.1937589940130338,2.3637928312737846,1.3489272397551832,1.2443619103034513,0.019939208390489675,-0.5619704118224987,-0.4060651183957253,-0.7971089405699128,-1.2572405151086978,-1.5068434910309336,-1.4128899825255805,-1.3337117340611744],\"xaxis\":\"x\",\"y\":[0.28330174257561386,0.0014507758126661476,-0.22774420384090147,-0.15062315722427955,0.6206351189307642,0.40872589431453815,0.584249350905505,-0.09700221387721486,-0.6446338269865498,-0.4457052344955101,-0.2655678304447758,0.4033509058885313],\"yaxis\":\"y\",\"type\":\"scatter\"},{\"hovertemplate\":\"color=D<br>symbol=Exon<br>1=%{x}<br>2=%{y}<extra></extra>\",\"legendgroup\":\"D, Exon\",\"marker\":{\"color\":\"#ab63fa\",\"symbol\":\"circle\",\"size\":13},\"mode\":\"markers\",\"name\":\"D, Exon\",\"orientation\":\"v\",\"showlegend\":true,\"x\":[1.425618563141269,1.745968608220041,2.1616639425498194,1.6396030992871646,1.0195908437753174,0.17912013585449682,-0.782579238173389,-1.178942066792693,-1.079253562432685,-1.517395149176934,-1.479416410124476,-1.0108067971775097],\"xaxis\":\"x\",\"y\":[0.036546934148484984,-0.6476554340184908,-0.08152589747032708,-0.43143564206872437,0.19967517552353511,0.4558914823885054,-0.0772145012519519,-0.5696734393554641,-0.5526172420445444,-0.477611200353106,-0.32338309609095056,0.1251561529179243],\"yaxis\":\"y\",\"type\":\"scatter\"}],                        {\"template\":{\"data\":{\"histogram2dcontour\":[{\"type\":\"histogram2dcontour\",\"colorbar\":{\"outlinewidth\":0,\"ticks\":\"\"},\"colorscale\":[[0.0,\"#0d0887\"],[0.1111111111111111,\"#46039f\"],[0.2222222222222222,\"#7201a8\"],[0.3333333333333333,\"#9c179e\"],[0.4444444444444444,\"#bd3786\"],[0.5555555555555556,\"#d8576b\"],[0.6666666666666666,\"#ed7953\"],[0.7777777777777778,\"#fb9f3a\"],[0.8888888888888888,\"#fdca26\"],[1.0,\"#f0f921\"]]}],\"choropleth\":[{\"type\":\"choropleth\",\"colorbar\":{\"outlinewidth\":0,\"ticks\":\"\"}}],\"histogram2d\":[{\"type\":\"histogram2d\",\"colorbar\":{\"outlinewidth\":0,\"ticks\":\"\"},\"colorscale\":[[0.0,\"#0d0887\"],[0.1111111111111111,\"#46039f\"],[0.2222222222222222,\"#7201a8\"],[0.3333333333333333,\"#9c179e\"],[0.4444444444444444,\"#bd3786\"],[0.5555555555555556,\"#d8576b\"],[0.6666666666666666,\"#ed7953\"],[0.7777777777777778,\"#fb9f3a\"],[0.8888888888888888,\"#fdca26\"],[1.0,\"#f0f921\"]]}],\"heatmap\":[{\"type\":\"heatmap\",\"colorbar\":{\"outlinewidth\":0,\"ticks\":\"\"},\"colorscale\":[[0.0,\"#0d0887\"],[0.1111111111111111,\"#46039f\"],[0.2222222222222222,\"#7201a8\"],[0.3333333333333333,\"#9c179e\"],[0.4444444444444444,\"#bd3786\"],[0.5555555555555556,\"#d8576b\"],[0.6666666666666666,\"#ed7953\"],[0.7777777777777778,\"#fb9f3a\"],[0.8888888888888888,\"#fdca26\"],[1.0,\"#f0f921\"]]}],\"heatmapgl\":[{\"type\":\"heatmapgl\",\"colorbar\":{\"outlinewidth\":0,\"ticks\":\"\"},\"colorscale\":[[0.0,\"#0d0887\"],[0.1111111111111111,\"#46039f\"],[0.2222222222222222,\"#7201a8\"],[0.3333333333333333,\"#9c179e\"],[0.4444444444444444,\"#bd3786\"],[0.5555555555555556,\"#d8576b\"],[0.6666666666666666,\"#ed7953\"],[0.7777777777777778,\"#fb9f3a\"],[0.8888888888888888,\"#fdca26\"],[1.0,\"#f0f921\"]]}],\"contourcarpet\":[{\"type\":\"contourcarpet\",\"colorbar\":{\"outlinewidth\":0,\"ticks\":\"\"}}],\"contour\":[{\"type\":\"contour\",\"colorbar\":{\"outlinewidth\":0,\"ticks\":\"\"},\"colorscale\":[[0.0,\"#0d0887\"],[0.1111111111111111,\"#46039f\"],[0.2222222222222222,\"#7201a8\"],[0.3333333333333333,\"#9c179e\"],[0.4444444444444444,\"#bd3786\"],[0.5555555555555556,\"#d8576b\"],[0.6666666666666666,\"#ed7953\"],[0.7777777777777778,\"#fb9f3a\"],[0.8888888888888888,\"#fdca26\"],[1.0,\"#f0f921\"]]}],\"surface\":[{\"type\":\"surface\",\"colorbar\":{\"outlinewidth\":0,\"ticks\":\"\"},\"colorscale\":[[0.0,\"#0d0887\"],[0.1111111111111111,\"#46039f\"],[0.2222222222222222,\"#7201a8\"],[0.3333333333333333,\"#9c179e\"],[0.4444444444444444,\"#bd3786\"],[0.5555555555555556,\"#d8576b\"],[0.6666666666666666,\"#ed7953\"],[0.7777777777777778,\"#fb9f3a\"],[0.8888888888888888,\"#fdca26\"],[1.0,\"#f0f921\"]]}],\"mesh3d\":[{\"type\":\"mesh3d\",\"colorbar\":{\"outlinewidth\":0,\"ticks\":\"\"}}],\"scatter\":[{\"fillpattern\":{\"fillmode\":\"overlay\",\"size\":10,\"solidity\":0.2},\"type\":\"scatter\"}],\"parcoords\":[{\"type\":\"parcoords\",\"line\":{\"colorbar\":{\"outlinewidth\":0,\"ticks\":\"\"}}}],\"scatterpolargl\":[{\"type\":\"scatterpolargl\",\"marker\":{\"colorbar\":{\"outlinewidth\":0,\"ticks\":\"\"}}}],\"bar\":[{\"error_x\":{\"color\":\"#2a3f5f\"},\"error_y\":{\"color\":\"#2a3f5f\"},\"marker\":{\"line\":{\"color\":\"#E5ECF6\",\"width\":0.5},\"pattern\":{\"fillmode\":\"overlay\",\"size\":10,\"solidity\":0.2}},\"type\":\"bar\"}],\"scattergeo\":[{\"type\":\"scattergeo\",\"marker\":{\"colorbar\":{\"outlinewidth\":0,\"ticks\":\"\"}}}],\"scatterpolar\":[{\"type\":\"scatterpolar\",\"marker\":{\"colorbar\":{\"outlinewidth\":0,\"ticks\":\"\"}}}],\"histogram\":[{\"marker\":{\"pattern\":{\"fillmode\":\"overlay\",\"size\":10,\"solidity\":0.2}},\"type\":\"histogram\"}],\"scattergl\":[{\"type\":\"scattergl\",\"marker\":{\"colorbar\":{\"outlinewidth\":0,\"ticks\":\"\"}}}],\"scatter3d\":[{\"type\":\"scatter3d\",\"line\":{\"colorbar\":{\"outlinewidth\":0,\"ticks\":\"\"}},\"marker\":{\"colorbar\":{\"outlinewidth\":0,\"ticks\":\"\"}}}],\"scattermapbox\":[{\"type\":\"scattermapbox\",\"marker\":{\"colorbar\":{\"outlinewidth\":0,\"ticks\":\"\"}}}],\"scatterternary\":[{\"type\":\"scatterternary\",\"marker\":{\"colorbar\":{\"outlinewidth\":0,\"ticks\":\"\"}}}],\"scattercarpet\":[{\"type\":\"scattercarpet\",\"marker\":{\"colorbar\":{\"outlinewidth\":0,\"ticks\":\"\"}}}],\"carpet\":[{\"aaxis\":{\"endlinecolor\":\"#2a3f5f\",\"gridcolor\":\"white\",\"linecolor\":\"white\",\"minorgridcolor\":\"white\",\"startlinecolor\":\"#2a3f5f\"},\"baxis\":{\"endlinecolor\":\"#2a3f5f\",\"gridcolor\":\"white\",\"linecolor\":\"white\",\"minorgridcolor\":\"white\",\"startlinecolor\":\"#2a3f5f\"},\"type\":\"carpet\"}],\"table\":[{\"cells\":{\"fill\":{\"color\":\"#EBF0F8\"},\"line\":{\"color\":\"white\"}},\"header\":{\"fill\":{\"color\":\"#C8D4E3\"},\"line\":{\"color\":\"white\"}},\"type\":\"table\"}],\"barpolar\":[{\"marker\":{\"line\":{\"color\":\"#E5ECF6\",\"width\":0.5},\"pattern\":{\"fillmode\":\"overlay\",\"size\":10,\"solidity\":0.2}},\"type\":\"barpolar\"}],\"pie\":[{\"automargin\":true,\"type\":\"pie\"}]},\"layout\":{\"autotypenumbers\":\"strict\",\"colorway\":[\"#636efa\",\"#EF553B\",\"#00cc96\",\"#ab63fa\",\"#FFA15A\",\"#19d3f3\",\"#FF6692\",\"#B6E880\",\"#FF97FF\",\"#FECB52\"],\"font\":{\"color\":\"#2a3f5f\"},\"hovermode\":\"closest\",\"hoverlabel\":{\"align\":\"left\"},\"paper_bgcolor\":\"white\",\"plot_bgcolor\":\"#E5ECF6\",\"polar\":{\"bgcolor\":\"#E5ECF6\",\"angularaxis\":{\"gridcolor\":\"white\",\"linecolor\":\"white\",\"ticks\":\"\"},\"radialaxis\":{\"gridcolor\":\"white\",\"linecolor\":\"white\",\"ticks\":\"\"}},\"ternary\":{\"bgcolor\":\"#E5ECF6\",\"aaxis\":{\"gridcolor\":\"white\",\"linecolor\":\"white\",\"ticks\":\"\"},\"baxis\":{\"gridcolor\":\"white\",\"linecolor\":\"white\",\"ticks\":\"\"},\"caxis\":{\"gridcolor\":\"white\",\"linecolor\":\"white\",\"ticks\":\"\"}},\"coloraxis\":{\"colorbar\":{\"outlinewidth\":0,\"ticks\":\"\"}},\"colorscale\":{\"sequential\":[[0.0,\"#0d0887\"],[0.1111111111111111,\"#46039f\"],[0.2222222222222222,\"#7201a8\"],[0.3333333333333333,\"#9c179e\"],[0.4444444444444444,\"#bd3786\"],[0.5555555555555556,\"#d8576b\"],[0.6666666666666666,\"#ed7953\"],[0.7777777777777778,\"#fb9f3a\"],[0.8888888888888888,\"#fdca26\"],[1.0,\"#f0f921\"]],\"sequentialminus\":[[0.0,\"#0d0887\"],[0.1111111111111111,\"#46039f\"],[0.2222222222222222,\"#7201a8\"],[0.3333333333333333,\"#9c179e\"],[0.4444444444444444,\"#bd3786\"],[0.5555555555555556,\"#d8576b\"],[0.6666666666666666,\"#ed7953\"],[0.7777777777777778,\"#fb9f3a\"],[0.8888888888888888,\"#fdca26\"],[1.0,\"#f0f921\"]],\"diverging\":[[0,\"#8e0152\"],[0.1,\"#c51b7d\"],[0.2,\"#de77ae\"],[0.3,\"#f1b6da\"],[0.4,\"#fde0ef\"],[0.5,\"#f7f7f7\"],[0.6,\"#e6f5d0\"],[0.7,\"#b8e186\"],[0.8,\"#7fbc41\"],[0.9,\"#4d9221\"],[1,\"#276419\"]]},\"xaxis\":{\"gridcolor\":\"white\",\"linecolor\":\"white\",\"ticks\":\"\",\"title\":{\"standoff\":15},\"zerolinecolor\":\"white\",\"automargin\":true,\"zerolinewidth\":2},\"yaxis\":{\"gridcolor\":\"white\",\"linecolor\":\"white\",\"ticks\":\"\",\"title\":{\"standoff\":15},\"zerolinecolor\":\"white\",\"automargin\":true,\"zerolinewidth\":2},\"scene\":{\"xaxis\":{\"backgroundcolor\":\"#E5ECF6\",\"gridcolor\":\"white\",\"linecolor\":\"white\",\"showbackground\":true,\"ticks\":\"\",\"zerolinecolor\":\"white\",\"gridwidth\":2},\"yaxis\":{\"backgroundcolor\":\"#E5ECF6\",\"gridcolor\":\"white\",\"linecolor\":\"white\",\"showbackground\":true,\"ticks\":\"\",\"zerolinecolor\":\"white\",\"gridwidth\":2},\"zaxis\":{\"backgroundcolor\":\"#E5ECF6\",\"gridcolor\":\"white\",\"linecolor\":\"white\",\"showbackground\":true,\"ticks\":\"\",\"zerolinecolor\":\"white\",\"gridwidth\":2}},\"shapedefaults\":{\"line\":{\"color\":\"#2a3f5f\"}},\"annotationdefaults\":{\"arrowcolor\":\"#2a3f5f\",\"arrowhead\":0,\"arrowwidth\":1},\"geo\":{\"bgcolor\":\"white\",\"landcolor\":\"#E5ECF6\",\"subunitcolor\":\"white\",\"showland\":true,\"showlakes\":true,\"lakecolor\":\"white\"},\"title\":{\"x\":0.05},\"mapbox\":{\"style\":\"light\"}}},\"xaxis\":{\"anchor\":\"y\",\"domain\":[0.0,1.0],\"title\":{\"text\":\"PC 2 (29.0%)\"}},\"yaxis\":{\"anchor\":\"x\",\"domain\":[0.0,1.0],\"title\":{\"text\":\"PC 3 (3.4%)\"}},\"legend\":{\"title\":{\"text\":\"color, symbol\"},\"tracegroupgap\":0},\"margin\":{\"t\":60},\"height\":600,\"width\":600,\"plot_bgcolor\":\"rgb(243,243,243)\"},                        {\"responsive\": true}                    ).then(function(){\n",
       "                            \n",
       "var gd = document.getElementById('8d5ef60a-57e9-4ae5-abc9-c13802eb4ea8');\n",
       "var x = new MutationObserver(function (mutations, observer) {{\n",
       "        var display = window.getComputedStyle(gd).display;\n",
       "        if (!display || display === 'none') {{\n",
       "            console.log([gd, 'removed!']);\n",
       "            Plotly.purge(gd);\n",
       "            observer.disconnect();\n",
       "        }}\n",
       "}});\n",
       "\n",
       "// Listen for the removal of the full notebook cells\n",
       "var notebookContainer = gd.closest('#notebook-container');\n",
       "if (notebookContainer) {{\n",
       "    x.observe(notebookContainer, {childList: true});\n",
       "}}\n",
       "\n",
       "// Listen for the clearing of the current output cell\n",
       "var outputEl = gd.closest('.output');\n",
       "if (outputEl) {{\n",
       "    x.observe(outputEl, {childList: true});\n",
       "}}\n",
       "\n",
       "                        })                };                });            </script>        </div>"
      ]
     },
     "metadata": {},
     "output_type": "display_data"
    },
    {
     "data": {
      "application/vnd.plotly.v1+json": {
       "config": {
        "plotlyServerURL": "https://plot.ly"
       },
       "data": [
        {
         "hovertemplate": "color=00<br>symbol=WT<br>2=%{x}<br>3=%{y}<extra></extra>",
         "legendgroup": "00, WT",
         "marker": {
          "color": "#636efa",
          "size": 13,
          "symbol": "circle"
         },
         "mode": "markers",
         "name": "00, WT",
         "orientation": "v",
         "showlegend": true,
         "type": "scatter",
         "x": [
          0.5625118712150113,
          0.28216482658113956,
          0.28330174257561386,
          0.036546934148484984
         ],
         "xaxis": "x",
         "y": [
          -0.43200873629534553,
          0.3084833532824954,
          0.29022111689117197,
          0.20647330420641985
         ],
         "yaxis": "y"
        },
        {
         "hovertemplate": "color=02<br>symbol=WT<br>2=%{x}<br>3=%{y}<extra></extra>",
         "legendgroup": "02, WT",
         "marker": {
          "color": "#EF553B",
          "size": 13,
          "symbol": "circle"
         },
         "mode": "markers",
         "name": "02, WT",
         "orientation": "v",
         "showlegend": true,
         "type": "scatter",
         "x": [
          0.42857818079177257,
          -0.295956712622525,
          0.0014507758126661476,
          -0.6476554340184908
         ],
         "xaxis": "x",
         "y": [
          0.7616303440372253,
          0.3800749972675852,
          0.18214426625103813,
          0.06733931416875683
         ],
         "yaxis": "y"
        },
        {
         "hovertemplate": "color=04<br>symbol=WT<br>2=%{x}<br>3=%{y}<extra></extra>",
         "legendgroup": "04, WT",
         "marker": {
          "color": "#00cc96",
          "size": 13,
          "symbol": "circle"
         },
         "mode": "markers",
         "name": "04, WT",
         "orientation": "v",
         "showlegend": true,
         "type": "scatter",
         "x": [
          -0.49816346100391135,
          -0.12606265431096028,
          -0.22774420384090147,
          -0.08152589747032708
         ],
         "xaxis": "x",
         "y": [
          -0.28607014200749187,
          0.3745718085721966,
          -0.3194532127564338,
          -0.06621522190297963
         ],
         "yaxis": "y"
        },
        {
         "hovertemplate": "color=06<br>symbol=WT<br>2=%{x}<br>3=%{y}<extra></extra>",
         "legendgroup": "06, WT",
         "marker": {
          "color": "#ab63fa",
          "size": 13,
          "symbol": "circle"
         },
         "mode": "markers",
         "name": "06, WT",
         "orientation": "v",
         "showlegend": true,
         "type": "scatter",
         "x": [
          -0.2219351369926728,
          -0.35655885772221435,
          -0.15062315722427955,
          -0.43143564206872437
         ],
         "xaxis": "x",
         "y": [
          -0.30991112316184743,
          -0.7298845888582469,
          -0.4259214837944971,
          -0.3917595273855716
         ],
         "yaxis": "y"
        },
        {
         "hovertemplate": "color=08<br>symbol=WT<br>2=%{x}<br>3=%{y}<extra></extra>",
         "legendgroup": "08, WT",
         "marker": {
          "color": "#FFA15A",
          "size": 13,
          "symbol": "circle"
         },
         "mode": "markers",
         "name": "08, WT",
         "orientation": "v",
         "showlegend": true,
         "type": "scatter",
         "x": [
          0.349201983404589,
          0.6001053693085469,
          0.6206351189307642,
          0.19967517552353511
         ],
         "xaxis": "x",
         "y": [
          -0.024172655693618542,
          0.15401889799135904,
          0.10333254385204384,
          -0.1534728248561941
         ],
         "yaxis": "y"
        },
        {
         "hovertemplate": "color=10<br>symbol=WT<br>2=%{x}<br>3=%{y}<extra></extra>",
         "legendgroup": "10, WT",
         "marker": {
          "color": "#19d3f3",
          "size": 13,
          "symbol": "circle"
         },
         "mode": "markers",
         "name": "10, WT",
         "orientation": "v",
         "showlegend": true,
         "type": "scatter",
         "x": [
          0.4312395598287203,
          0.5573021875887809,
          0.40872589431453815,
          0.4558914823885054
         ],
         "xaxis": "x",
         "y": [
          0.023579387376853094,
          0.06159955932839081,
          0.09549151833773785,
          0.08149205401717367
         ],
         "yaxis": "y"
        },
        {
         "hovertemplate": "color=12<br>symbol=WT<br>2=%{x}<br>3=%{y}<extra></extra>",
         "legendgroup": "12, WT",
         "marker": {
          "color": "#FF6692",
          "size": 13,
          "symbol": "circle"
         },
         "mode": "markers",
         "name": "12, WT",
         "orientation": "v",
         "showlegend": true,
         "type": "scatter",
         "x": [
          0.1563125594319395,
          0.5873200598147124,
          0.584249350905505,
          -0.0772145012519519
         ],
         "xaxis": "x",
         "y": [
          0.009627500077216734,
          0.07993113815699762,
          0.07456845359441733,
          0.29461324237045405
         ],
         "yaxis": "y"
        },
        {
         "hovertemplate": "color=14<br>symbol=WT<br>2=%{x}<br>3=%{y}<extra></extra>",
         "legendgroup": "14, WT",
         "marker": {
          "color": "#B6E880",
          "size": 13,
          "symbol": "circle"
         },
         "mode": "markers",
         "name": "14, WT",
         "orientation": "v",
         "showlegend": true,
         "type": "scatter",
         "x": [
          -0.11689209058695421,
          -0.4844307206229881,
          -0.09700221387721486,
          -0.5696734393554641
         ],
         "xaxis": "x",
         "y": [
          0.8024298514303457,
          -0.04348878636188273,
          0.31092718499971256,
          0.02074212613548897
         ],
         "yaxis": "y"
        },
        {
         "hovertemplate": "color=16<br>symbol=WT<br>2=%{x}<br>3=%{y}<extra></extra>",
         "legendgroup": "16, WT",
         "marker": {
          "color": "#FF97FF",
          "size": 13,
          "symbol": "circle"
         },
         "mode": "markers",
         "name": "16, WT",
         "orientation": "v",
         "showlegend": true,
         "type": "scatter",
         "x": [
          -0.6005298221659183,
          -0.6514867365014916,
          -0.6446338269865498,
          -0.5526172420445444
         ],
         "xaxis": "x",
         "y": [
          0.3617637182301402,
          -0.2436775020524037,
          -0.08987202971820289,
          -0.12808705721571273
         ],
         "yaxis": "y"
        },
        {
         "hovertemplate": "color=18<br>symbol=WT<br>2=%{x}<br>3=%{y}<extra></extra>",
         "legendgroup": "18, WT",
         "marker": {
          "color": "#FECB52",
          "size": 13,
          "symbol": "circle"
         },
         "mode": "markers",
         "name": "18, WT",
         "orientation": "v",
         "showlegend": true,
         "type": "scatter",
         "x": [
          -0.7485028746602443,
          -0.3866847163391188,
          -0.4457052344955101,
          -0.477611200353106
         ],
         "xaxis": "x",
         "y": [
          0.25945124677901316,
          0.08731214507278774,
          -0.10594265190668739,
          -0.023033999110214958
         ],
         "yaxis": "y"
        },
        {
         "hovertemplate": "color=20<br>symbol=WT<br>2=%{x}<br>3=%{y}<extra></extra>",
         "legendgroup": "20, WT",
         "marker": {
          "color": "#636efa",
          "size": 13,
          "symbol": "circle"
         },
         "mode": "markers",
         "name": "20, WT",
         "orientation": "v",
         "showlegend": true,
         "type": "scatter",
         "x": [
          0.582607199276494,
          0.8227821744910268,
          -0.2655678304447758,
          -0.32338309609095056
         ],
         "xaxis": "x",
         "y": [
          -0.40044844822905407,
          -0.518226175838106,
          -0.15574553151333728,
          0.13225105215279345
         ],
         "yaxis": "y"
        },
        {
         "hovertemplate": "color=22<br>symbol=WT<br>2=%{x}<br>3=%{y}<extra></extra>",
         "legendgroup": "22, WT",
         "marker": {
          "color": "#EF553B",
          "size": 13,
          "symbol": "circle"
         },
         "mode": "markers",
         "name": "22, WT",
         "orientation": "v",
         "showlegend": true,
         "type": "scatter",
         "x": [
          0.5943150826282889,
          0.40617211528471253,
          0.4033509058885313,
          0.1251561529179243
         ],
         "xaxis": "x",
         "y": [
          -0.24072231064568148,
          -0.19687546735189007,
          -0.06889610072098806,
          -0.17018454720343476
         ],
         "yaxis": "y"
        }
       ],
       "layout": {
        "height": 600,
        "legend": {
         "title": {
          "text": "color, symbol"
         },
         "tracegroupgap": 0
        },
        "margin": {
         "t": 60
        },
        "plot_bgcolor": "rgb(243,243,243)",
        "template": {
         "data": {
          "bar": [
           {
            "error_x": {
             "color": "#2a3f5f"
            },
            "error_y": {
             "color": "#2a3f5f"
            },
            "marker": {
             "line": {
              "color": "#E5ECF6",
              "width": 0.5
             },
             "pattern": {
              "fillmode": "overlay",
              "size": 10,
              "solidity": 0.2
             }
            },
            "type": "bar"
           }
          ],
          "barpolar": [
           {
            "marker": {
             "line": {
              "color": "#E5ECF6",
              "width": 0.5
             },
             "pattern": {
              "fillmode": "overlay",
              "size": 10,
              "solidity": 0.2
             }
            },
            "type": "barpolar"
           }
          ],
          "carpet": [
           {
            "aaxis": {
             "endlinecolor": "#2a3f5f",
             "gridcolor": "white",
             "linecolor": "white",
             "minorgridcolor": "white",
             "startlinecolor": "#2a3f5f"
            },
            "baxis": {
             "endlinecolor": "#2a3f5f",
             "gridcolor": "white",
             "linecolor": "white",
             "minorgridcolor": "white",
             "startlinecolor": "#2a3f5f"
            },
            "type": "carpet"
           }
          ],
          "choropleth": [
           {
            "colorbar": {
             "outlinewidth": 0,
             "ticks": ""
            },
            "type": "choropleth"
           }
          ],
          "contour": [
           {
            "colorbar": {
             "outlinewidth": 0,
             "ticks": ""
            },
            "colorscale": [
             [
              0,
              "#0d0887"
             ],
             [
              0.1111111111111111,
              "#46039f"
             ],
             [
              0.2222222222222222,
              "#7201a8"
             ],
             [
              0.3333333333333333,
              "#9c179e"
             ],
             [
              0.4444444444444444,
              "#bd3786"
             ],
             [
              0.5555555555555556,
              "#d8576b"
             ],
             [
              0.6666666666666666,
              "#ed7953"
             ],
             [
              0.7777777777777778,
              "#fb9f3a"
             ],
             [
              0.8888888888888888,
              "#fdca26"
             ],
             [
              1,
              "#f0f921"
             ]
            ],
            "type": "contour"
           }
          ],
          "contourcarpet": [
           {
            "colorbar": {
             "outlinewidth": 0,
             "ticks": ""
            },
            "type": "contourcarpet"
           }
          ],
          "heatmap": [
           {
            "colorbar": {
             "outlinewidth": 0,
             "ticks": ""
            },
            "colorscale": [
             [
              0,
              "#0d0887"
             ],
             [
              0.1111111111111111,
              "#46039f"
             ],
             [
              0.2222222222222222,
              "#7201a8"
             ],
             [
              0.3333333333333333,
              "#9c179e"
             ],
             [
              0.4444444444444444,
              "#bd3786"
             ],
             [
              0.5555555555555556,
              "#d8576b"
             ],
             [
              0.6666666666666666,
              "#ed7953"
             ],
             [
              0.7777777777777778,
              "#fb9f3a"
             ],
             [
              0.8888888888888888,
              "#fdca26"
             ],
             [
              1,
              "#f0f921"
             ]
            ],
            "type": "heatmap"
           }
          ],
          "heatmapgl": [
           {
            "colorbar": {
             "outlinewidth": 0,
             "ticks": ""
            },
            "colorscale": [
             [
              0,
              "#0d0887"
             ],
             [
              0.1111111111111111,
              "#46039f"
             ],
             [
              0.2222222222222222,
              "#7201a8"
             ],
             [
              0.3333333333333333,
              "#9c179e"
             ],
             [
              0.4444444444444444,
              "#bd3786"
             ],
             [
              0.5555555555555556,
              "#d8576b"
             ],
             [
              0.6666666666666666,
              "#ed7953"
             ],
             [
              0.7777777777777778,
              "#fb9f3a"
             ],
             [
              0.8888888888888888,
              "#fdca26"
             ],
             [
              1,
              "#f0f921"
             ]
            ],
            "type": "heatmapgl"
           }
          ],
          "histogram": [
           {
            "marker": {
             "pattern": {
              "fillmode": "overlay",
              "size": 10,
              "solidity": 0.2
             }
            },
            "type": "histogram"
           }
          ],
          "histogram2d": [
           {
            "colorbar": {
             "outlinewidth": 0,
             "ticks": ""
            },
            "colorscale": [
             [
              0,
              "#0d0887"
             ],
             [
              0.1111111111111111,
              "#46039f"
             ],
             [
              0.2222222222222222,
              "#7201a8"
             ],
             [
              0.3333333333333333,
              "#9c179e"
             ],
             [
              0.4444444444444444,
              "#bd3786"
             ],
             [
              0.5555555555555556,
              "#d8576b"
             ],
             [
              0.6666666666666666,
              "#ed7953"
             ],
             [
              0.7777777777777778,
              "#fb9f3a"
             ],
             [
              0.8888888888888888,
              "#fdca26"
             ],
             [
              1,
              "#f0f921"
             ]
            ],
            "type": "histogram2d"
           }
          ],
          "histogram2dcontour": [
           {
            "colorbar": {
             "outlinewidth": 0,
             "ticks": ""
            },
            "colorscale": [
             [
              0,
              "#0d0887"
             ],
             [
              0.1111111111111111,
              "#46039f"
             ],
             [
              0.2222222222222222,
              "#7201a8"
             ],
             [
              0.3333333333333333,
              "#9c179e"
             ],
             [
              0.4444444444444444,
              "#bd3786"
             ],
             [
              0.5555555555555556,
              "#d8576b"
             ],
             [
              0.6666666666666666,
              "#ed7953"
             ],
             [
              0.7777777777777778,
              "#fb9f3a"
             ],
             [
              0.8888888888888888,
              "#fdca26"
             ],
             [
              1,
              "#f0f921"
             ]
            ],
            "type": "histogram2dcontour"
           }
          ],
          "mesh3d": [
           {
            "colorbar": {
             "outlinewidth": 0,
             "ticks": ""
            },
            "type": "mesh3d"
           }
          ],
          "parcoords": [
           {
            "line": {
             "colorbar": {
              "outlinewidth": 0,
              "ticks": ""
             }
            },
            "type": "parcoords"
           }
          ],
          "pie": [
           {
            "automargin": true,
            "type": "pie"
           }
          ],
          "scatter": [
           {
            "fillpattern": {
             "fillmode": "overlay",
             "size": 10,
             "solidity": 0.2
            },
            "type": "scatter"
           }
          ],
          "scatter3d": [
           {
            "line": {
             "colorbar": {
              "outlinewidth": 0,
              "ticks": ""
             }
            },
            "marker": {
             "colorbar": {
              "outlinewidth": 0,
              "ticks": ""
             }
            },
            "type": "scatter3d"
           }
          ],
          "scattercarpet": [
           {
            "marker": {
             "colorbar": {
              "outlinewidth": 0,
              "ticks": ""
             }
            },
            "type": "scattercarpet"
           }
          ],
          "scattergeo": [
           {
            "marker": {
             "colorbar": {
              "outlinewidth": 0,
              "ticks": ""
             }
            },
            "type": "scattergeo"
           }
          ],
          "scattergl": [
           {
            "marker": {
             "colorbar": {
              "outlinewidth": 0,
              "ticks": ""
             }
            },
            "type": "scattergl"
           }
          ],
          "scattermapbox": [
           {
            "marker": {
             "colorbar": {
              "outlinewidth": 0,
              "ticks": ""
             }
            },
            "type": "scattermapbox"
           }
          ],
          "scatterpolar": [
           {
            "marker": {
             "colorbar": {
              "outlinewidth": 0,
              "ticks": ""
             }
            },
            "type": "scatterpolar"
           }
          ],
          "scatterpolargl": [
           {
            "marker": {
             "colorbar": {
              "outlinewidth": 0,
              "ticks": ""
             }
            },
            "type": "scatterpolargl"
           }
          ],
          "scatterternary": [
           {
            "marker": {
             "colorbar": {
              "outlinewidth": 0,
              "ticks": ""
             }
            },
            "type": "scatterternary"
           }
          ],
          "surface": [
           {
            "colorbar": {
             "outlinewidth": 0,
             "ticks": ""
            },
            "colorscale": [
             [
              0,
              "#0d0887"
             ],
             [
              0.1111111111111111,
              "#46039f"
             ],
             [
              0.2222222222222222,
              "#7201a8"
             ],
             [
              0.3333333333333333,
              "#9c179e"
             ],
             [
              0.4444444444444444,
              "#bd3786"
             ],
             [
              0.5555555555555556,
              "#d8576b"
             ],
             [
              0.6666666666666666,
              "#ed7953"
             ],
             [
              0.7777777777777778,
              "#fb9f3a"
             ],
             [
              0.8888888888888888,
              "#fdca26"
             ],
             [
              1,
              "#f0f921"
             ]
            ],
            "type": "surface"
           }
          ],
          "table": [
           {
            "cells": {
             "fill": {
              "color": "#EBF0F8"
             },
             "line": {
              "color": "white"
             }
            },
            "header": {
             "fill": {
              "color": "#C8D4E3"
             },
             "line": {
              "color": "white"
             }
            },
            "type": "table"
           }
          ]
         },
         "layout": {
          "annotationdefaults": {
           "arrowcolor": "#2a3f5f",
           "arrowhead": 0,
           "arrowwidth": 1
          },
          "autotypenumbers": "strict",
          "coloraxis": {
           "colorbar": {
            "outlinewidth": 0,
            "ticks": ""
           }
          },
          "colorscale": {
           "diverging": [
            [
             0,
             "#8e0152"
            ],
            [
             0.1,
             "#c51b7d"
            ],
            [
             0.2,
             "#de77ae"
            ],
            [
             0.3,
             "#f1b6da"
            ],
            [
             0.4,
             "#fde0ef"
            ],
            [
             0.5,
             "#f7f7f7"
            ],
            [
             0.6,
             "#e6f5d0"
            ],
            [
             0.7,
             "#b8e186"
            ],
            [
             0.8,
             "#7fbc41"
            ],
            [
             0.9,
             "#4d9221"
            ],
            [
             1,
             "#276419"
            ]
           ],
           "sequential": [
            [
             0,
             "#0d0887"
            ],
            [
             0.1111111111111111,
             "#46039f"
            ],
            [
             0.2222222222222222,
             "#7201a8"
            ],
            [
             0.3333333333333333,
             "#9c179e"
            ],
            [
             0.4444444444444444,
             "#bd3786"
            ],
            [
             0.5555555555555556,
             "#d8576b"
            ],
            [
             0.6666666666666666,
             "#ed7953"
            ],
            [
             0.7777777777777778,
             "#fb9f3a"
            ],
            [
             0.8888888888888888,
             "#fdca26"
            ],
            [
             1,
             "#f0f921"
            ]
           ],
           "sequentialminus": [
            [
             0,
             "#0d0887"
            ],
            [
             0.1111111111111111,
             "#46039f"
            ],
            [
             0.2222222222222222,
             "#7201a8"
            ],
            [
             0.3333333333333333,
             "#9c179e"
            ],
            [
             0.4444444444444444,
             "#bd3786"
            ],
            [
             0.5555555555555556,
             "#d8576b"
            ],
            [
             0.6666666666666666,
             "#ed7953"
            ],
            [
             0.7777777777777778,
             "#fb9f3a"
            ],
            [
             0.8888888888888888,
             "#fdca26"
            ],
            [
             1,
             "#f0f921"
            ]
           ]
          },
          "colorway": [
           "#636efa",
           "#EF553B",
           "#00cc96",
           "#ab63fa",
           "#FFA15A",
           "#19d3f3",
           "#FF6692",
           "#B6E880",
           "#FF97FF",
           "#FECB52"
          ],
          "font": {
           "color": "#2a3f5f"
          },
          "geo": {
           "bgcolor": "white",
           "lakecolor": "white",
           "landcolor": "#E5ECF6",
           "showlakes": true,
           "showland": true,
           "subunitcolor": "white"
          },
          "hoverlabel": {
           "align": "left"
          },
          "hovermode": "closest",
          "mapbox": {
           "style": "light"
          },
          "paper_bgcolor": "white",
          "plot_bgcolor": "#E5ECF6",
          "polar": {
           "angularaxis": {
            "gridcolor": "white",
            "linecolor": "white",
            "ticks": ""
           },
           "bgcolor": "#E5ECF6",
           "radialaxis": {
            "gridcolor": "white",
            "linecolor": "white",
            "ticks": ""
           }
          },
          "scene": {
           "xaxis": {
            "backgroundcolor": "#E5ECF6",
            "gridcolor": "white",
            "gridwidth": 2,
            "linecolor": "white",
            "showbackground": true,
            "ticks": "",
            "zerolinecolor": "white"
           },
           "yaxis": {
            "backgroundcolor": "#E5ECF6",
            "gridcolor": "white",
            "gridwidth": 2,
            "linecolor": "white",
            "showbackground": true,
            "ticks": "",
            "zerolinecolor": "white"
           },
           "zaxis": {
            "backgroundcolor": "#E5ECF6",
            "gridcolor": "white",
            "gridwidth": 2,
            "linecolor": "white",
            "showbackground": true,
            "ticks": "",
            "zerolinecolor": "white"
           }
          },
          "shapedefaults": {
           "line": {
            "color": "#2a3f5f"
           }
          },
          "ternary": {
           "aaxis": {
            "gridcolor": "white",
            "linecolor": "white",
            "ticks": ""
           },
           "baxis": {
            "gridcolor": "white",
            "linecolor": "white",
            "ticks": ""
           },
           "bgcolor": "#E5ECF6",
           "caxis": {
            "gridcolor": "white",
            "linecolor": "white",
            "ticks": ""
           }
          },
          "title": {
           "x": 0.05
          },
          "xaxis": {
           "automargin": true,
           "gridcolor": "white",
           "linecolor": "white",
           "ticks": "",
           "title": {
            "standoff": 15
           },
           "zerolinecolor": "white",
           "zerolinewidth": 2
          },
          "yaxis": {
           "automargin": true,
           "gridcolor": "white",
           "linecolor": "white",
           "ticks": "",
           "title": {
            "standoff": 15
           },
           "zerolinecolor": "white",
           "zerolinewidth": 2
          }
         }
        },
        "width": 600,
        "xaxis": {
         "anchor": "y",
         "domain": [
          0,
          1
         ],
         "title": {
          "text": "PC 3 (3.4%)"
         }
        },
        "yaxis": {
         "anchor": "x",
         "domain": [
          0,
          1
         ],
         "title": {
          "text": "PC 4 (1.5%)"
         }
        }
       }
      },
      "text/html": [
       "<div>                            <div id=\"f54928cc-eac6-4ad2-a628-68418f6da42e\" class=\"plotly-graph-div\" style=\"height:600px; width:600px;\"></div>            <script type=\"text/javascript\">                require([\"plotly\"], function(Plotly) {                    window.PLOTLYENV=window.PLOTLYENV || {};                                    if (document.getElementById(\"f54928cc-eac6-4ad2-a628-68418f6da42e\")) {                    Plotly.newPlot(                        \"f54928cc-eac6-4ad2-a628-68418f6da42e\",                        [{\"hovertemplate\":\"color=00<br>symbol=WT<br>2=%{x}<br>3=%{y}<extra></extra>\",\"legendgroup\":\"00, WT\",\"marker\":{\"color\":\"#636efa\",\"symbol\":\"circle\",\"size\":13},\"mode\":\"markers\",\"name\":\"00, WT\",\"orientation\":\"v\",\"showlegend\":true,\"x\":[0.5625118712150113,0.28216482658113956,0.28330174257561386,0.036546934148484984],\"xaxis\":\"x\",\"y\":[-0.43200873629534553,0.3084833532824954,0.29022111689117197,0.20647330420641985],\"yaxis\":\"y\",\"type\":\"scatter\"},{\"hovertemplate\":\"color=02<br>symbol=WT<br>2=%{x}<br>3=%{y}<extra></extra>\",\"legendgroup\":\"02, WT\",\"marker\":{\"color\":\"#EF553B\",\"symbol\":\"circle\",\"size\":13},\"mode\":\"markers\",\"name\":\"02, WT\",\"orientation\":\"v\",\"showlegend\":true,\"x\":[0.42857818079177257,-0.295956712622525,0.0014507758126661476,-0.6476554340184908],\"xaxis\":\"x\",\"y\":[0.7616303440372253,0.3800749972675852,0.18214426625103813,0.06733931416875683],\"yaxis\":\"y\",\"type\":\"scatter\"},{\"hovertemplate\":\"color=04<br>symbol=WT<br>2=%{x}<br>3=%{y}<extra></extra>\",\"legendgroup\":\"04, WT\",\"marker\":{\"color\":\"#00cc96\",\"symbol\":\"circle\",\"size\":13},\"mode\":\"markers\",\"name\":\"04, WT\",\"orientation\":\"v\",\"showlegend\":true,\"x\":[-0.49816346100391135,-0.12606265431096028,-0.22774420384090147,-0.08152589747032708],\"xaxis\":\"x\",\"y\":[-0.28607014200749187,0.3745718085721966,-0.3194532127564338,-0.06621522190297963],\"yaxis\":\"y\",\"type\":\"scatter\"},{\"hovertemplate\":\"color=06<br>symbol=WT<br>2=%{x}<br>3=%{y}<extra></extra>\",\"legendgroup\":\"06, WT\",\"marker\":{\"color\":\"#ab63fa\",\"symbol\":\"circle\",\"size\":13},\"mode\":\"markers\",\"name\":\"06, WT\",\"orientation\":\"v\",\"showlegend\":true,\"x\":[-0.2219351369926728,-0.35655885772221435,-0.15062315722427955,-0.43143564206872437],\"xaxis\":\"x\",\"y\":[-0.30991112316184743,-0.7298845888582469,-0.4259214837944971,-0.3917595273855716],\"yaxis\":\"y\",\"type\":\"scatter\"},{\"hovertemplate\":\"color=08<br>symbol=WT<br>2=%{x}<br>3=%{y}<extra></extra>\",\"legendgroup\":\"08, WT\",\"marker\":{\"color\":\"#FFA15A\",\"symbol\":\"circle\",\"size\":13},\"mode\":\"markers\",\"name\":\"08, WT\",\"orientation\":\"v\",\"showlegend\":true,\"x\":[0.349201983404589,0.6001053693085469,0.6206351189307642,0.19967517552353511],\"xaxis\":\"x\",\"y\":[-0.024172655693618542,0.15401889799135904,0.10333254385204384,-0.1534728248561941],\"yaxis\":\"y\",\"type\":\"scatter\"},{\"hovertemplate\":\"color=10<br>symbol=WT<br>2=%{x}<br>3=%{y}<extra></extra>\",\"legendgroup\":\"10, WT\",\"marker\":{\"color\":\"#19d3f3\",\"symbol\":\"circle\",\"size\":13},\"mode\":\"markers\",\"name\":\"10, WT\",\"orientation\":\"v\",\"showlegend\":true,\"x\":[0.4312395598287203,0.5573021875887809,0.40872589431453815,0.4558914823885054],\"xaxis\":\"x\",\"y\":[0.023579387376853094,0.06159955932839081,0.09549151833773785,0.08149205401717367],\"yaxis\":\"y\",\"type\":\"scatter\"},{\"hovertemplate\":\"color=12<br>symbol=WT<br>2=%{x}<br>3=%{y}<extra></extra>\",\"legendgroup\":\"12, WT\",\"marker\":{\"color\":\"#FF6692\",\"symbol\":\"circle\",\"size\":13},\"mode\":\"markers\",\"name\":\"12, WT\",\"orientation\":\"v\",\"showlegend\":true,\"x\":[0.1563125594319395,0.5873200598147124,0.584249350905505,-0.0772145012519519],\"xaxis\":\"x\",\"y\":[0.009627500077216734,0.07993113815699762,0.07456845359441733,0.29461324237045405],\"yaxis\":\"y\",\"type\":\"scatter\"},{\"hovertemplate\":\"color=14<br>symbol=WT<br>2=%{x}<br>3=%{y}<extra></extra>\",\"legendgroup\":\"14, WT\",\"marker\":{\"color\":\"#B6E880\",\"symbol\":\"circle\",\"size\":13},\"mode\":\"markers\",\"name\":\"14, WT\",\"orientation\":\"v\",\"showlegend\":true,\"x\":[-0.11689209058695421,-0.4844307206229881,-0.09700221387721486,-0.5696734393554641],\"xaxis\":\"x\",\"y\":[0.8024298514303457,-0.04348878636188273,0.31092718499971256,0.02074212613548897],\"yaxis\":\"y\",\"type\":\"scatter\"},{\"hovertemplate\":\"color=16<br>symbol=WT<br>2=%{x}<br>3=%{y}<extra></extra>\",\"legendgroup\":\"16, WT\",\"marker\":{\"color\":\"#FF97FF\",\"symbol\":\"circle\",\"size\":13},\"mode\":\"markers\",\"name\":\"16, WT\",\"orientation\":\"v\",\"showlegend\":true,\"x\":[-0.6005298221659183,-0.6514867365014916,-0.6446338269865498,-0.5526172420445444],\"xaxis\":\"x\",\"y\":[0.3617637182301402,-0.2436775020524037,-0.08987202971820289,-0.12808705721571273],\"yaxis\":\"y\",\"type\":\"scatter\"},{\"hovertemplate\":\"color=18<br>symbol=WT<br>2=%{x}<br>3=%{y}<extra></extra>\",\"legendgroup\":\"18, WT\",\"marker\":{\"color\":\"#FECB52\",\"symbol\":\"circle\",\"size\":13},\"mode\":\"markers\",\"name\":\"18, WT\",\"orientation\":\"v\",\"showlegend\":true,\"x\":[-0.7485028746602443,-0.3866847163391188,-0.4457052344955101,-0.477611200353106],\"xaxis\":\"x\",\"y\":[0.25945124677901316,0.08731214507278774,-0.10594265190668739,-0.023033999110214958],\"yaxis\":\"y\",\"type\":\"scatter\"},{\"hovertemplate\":\"color=20<br>symbol=WT<br>2=%{x}<br>3=%{y}<extra></extra>\",\"legendgroup\":\"20, WT\",\"marker\":{\"color\":\"#636efa\",\"symbol\":\"circle\",\"size\":13},\"mode\":\"markers\",\"name\":\"20, WT\",\"orientation\":\"v\",\"showlegend\":true,\"x\":[0.582607199276494,0.8227821744910268,-0.2655678304447758,-0.32338309609095056],\"xaxis\":\"x\",\"y\":[-0.40044844822905407,-0.518226175838106,-0.15574553151333728,0.13225105215279345],\"yaxis\":\"y\",\"type\":\"scatter\"},{\"hovertemplate\":\"color=22<br>symbol=WT<br>2=%{x}<br>3=%{y}<extra></extra>\",\"legendgroup\":\"22, WT\",\"marker\":{\"color\":\"#EF553B\",\"symbol\":\"circle\",\"size\":13},\"mode\":\"markers\",\"name\":\"22, WT\",\"orientation\":\"v\",\"showlegend\":true,\"x\":[0.5943150826282889,0.40617211528471253,0.4033509058885313,0.1251561529179243],\"xaxis\":\"x\",\"y\":[-0.24072231064568148,-0.19687546735189007,-0.06889610072098806,-0.17018454720343476],\"yaxis\":\"y\",\"type\":\"scatter\"}],                        {\"template\":{\"data\":{\"histogram2dcontour\":[{\"type\":\"histogram2dcontour\",\"colorbar\":{\"outlinewidth\":0,\"ticks\":\"\"},\"colorscale\":[[0.0,\"#0d0887\"],[0.1111111111111111,\"#46039f\"],[0.2222222222222222,\"#7201a8\"],[0.3333333333333333,\"#9c179e\"],[0.4444444444444444,\"#bd3786\"],[0.5555555555555556,\"#d8576b\"],[0.6666666666666666,\"#ed7953\"],[0.7777777777777778,\"#fb9f3a\"],[0.8888888888888888,\"#fdca26\"],[1.0,\"#f0f921\"]]}],\"choropleth\":[{\"type\":\"choropleth\",\"colorbar\":{\"outlinewidth\":0,\"ticks\":\"\"}}],\"histogram2d\":[{\"type\":\"histogram2d\",\"colorbar\":{\"outlinewidth\":0,\"ticks\":\"\"},\"colorscale\":[[0.0,\"#0d0887\"],[0.1111111111111111,\"#46039f\"],[0.2222222222222222,\"#7201a8\"],[0.3333333333333333,\"#9c179e\"],[0.4444444444444444,\"#bd3786\"],[0.5555555555555556,\"#d8576b\"],[0.6666666666666666,\"#ed7953\"],[0.7777777777777778,\"#fb9f3a\"],[0.8888888888888888,\"#fdca26\"],[1.0,\"#f0f921\"]]}],\"heatmap\":[{\"type\":\"heatmap\",\"colorbar\":{\"outlinewidth\":0,\"ticks\":\"\"},\"colorscale\":[[0.0,\"#0d0887\"],[0.1111111111111111,\"#46039f\"],[0.2222222222222222,\"#7201a8\"],[0.3333333333333333,\"#9c179e\"],[0.4444444444444444,\"#bd3786\"],[0.5555555555555556,\"#d8576b\"],[0.6666666666666666,\"#ed7953\"],[0.7777777777777778,\"#fb9f3a\"],[0.8888888888888888,\"#fdca26\"],[1.0,\"#f0f921\"]]}],\"heatmapgl\":[{\"type\":\"heatmapgl\",\"colorbar\":{\"outlinewidth\":0,\"ticks\":\"\"},\"colorscale\":[[0.0,\"#0d0887\"],[0.1111111111111111,\"#46039f\"],[0.2222222222222222,\"#7201a8\"],[0.3333333333333333,\"#9c179e\"],[0.4444444444444444,\"#bd3786\"],[0.5555555555555556,\"#d8576b\"],[0.6666666666666666,\"#ed7953\"],[0.7777777777777778,\"#fb9f3a\"],[0.8888888888888888,\"#fdca26\"],[1.0,\"#f0f921\"]]}],\"contourcarpet\":[{\"type\":\"contourcarpet\",\"colorbar\":{\"outlinewidth\":0,\"ticks\":\"\"}}],\"contour\":[{\"type\":\"contour\",\"colorbar\":{\"outlinewidth\":0,\"ticks\":\"\"},\"colorscale\":[[0.0,\"#0d0887\"],[0.1111111111111111,\"#46039f\"],[0.2222222222222222,\"#7201a8\"],[0.3333333333333333,\"#9c179e\"],[0.4444444444444444,\"#bd3786\"],[0.5555555555555556,\"#d8576b\"],[0.6666666666666666,\"#ed7953\"],[0.7777777777777778,\"#fb9f3a\"],[0.8888888888888888,\"#fdca26\"],[1.0,\"#f0f921\"]]}],\"surface\":[{\"type\":\"surface\",\"colorbar\":{\"outlinewidth\":0,\"ticks\":\"\"},\"colorscale\":[[0.0,\"#0d0887\"],[0.1111111111111111,\"#46039f\"],[0.2222222222222222,\"#7201a8\"],[0.3333333333333333,\"#9c179e\"],[0.4444444444444444,\"#bd3786\"],[0.5555555555555556,\"#d8576b\"],[0.6666666666666666,\"#ed7953\"],[0.7777777777777778,\"#fb9f3a\"],[0.8888888888888888,\"#fdca26\"],[1.0,\"#f0f921\"]]}],\"mesh3d\":[{\"type\":\"mesh3d\",\"colorbar\":{\"outlinewidth\":0,\"ticks\":\"\"}}],\"scatter\":[{\"fillpattern\":{\"fillmode\":\"overlay\",\"size\":10,\"solidity\":0.2},\"type\":\"scatter\"}],\"parcoords\":[{\"type\":\"parcoords\",\"line\":{\"colorbar\":{\"outlinewidth\":0,\"ticks\":\"\"}}}],\"scatterpolargl\":[{\"type\":\"scatterpolargl\",\"marker\":{\"colorbar\":{\"outlinewidth\":0,\"ticks\":\"\"}}}],\"bar\":[{\"error_x\":{\"color\":\"#2a3f5f\"},\"error_y\":{\"color\":\"#2a3f5f\"},\"marker\":{\"line\":{\"color\":\"#E5ECF6\",\"width\":0.5},\"pattern\":{\"fillmode\":\"overlay\",\"size\":10,\"solidity\":0.2}},\"type\":\"bar\"}],\"scattergeo\":[{\"type\":\"scattergeo\",\"marker\":{\"colorbar\":{\"outlinewidth\":0,\"ticks\":\"\"}}}],\"scatterpolar\":[{\"type\":\"scatterpolar\",\"marker\":{\"colorbar\":{\"outlinewidth\":0,\"ticks\":\"\"}}}],\"histogram\":[{\"marker\":{\"pattern\":{\"fillmode\":\"overlay\",\"size\":10,\"solidity\":0.2}},\"type\":\"histogram\"}],\"scattergl\":[{\"type\":\"scattergl\",\"marker\":{\"colorbar\":{\"outlinewidth\":0,\"ticks\":\"\"}}}],\"scatter3d\":[{\"type\":\"scatter3d\",\"line\":{\"colorbar\":{\"outlinewidth\":0,\"ticks\":\"\"}},\"marker\":{\"colorbar\":{\"outlinewidth\":0,\"ticks\":\"\"}}}],\"scattermapbox\":[{\"type\":\"scattermapbox\",\"marker\":{\"colorbar\":{\"outlinewidth\":0,\"ticks\":\"\"}}}],\"scatterternary\":[{\"type\":\"scatterternary\",\"marker\":{\"colorbar\":{\"outlinewidth\":0,\"ticks\":\"\"}}}],\"scattercarpet\":[{\"type\":\"scattercarpet\",\"marker\":{\"colorbar\":{\"outlinewidth\":0,\"ticks\":\"\"}}}],\"carpet\":[{\"aaxis\":{\"endlinecolor\":\"#2a3f5f\",\"gridcolor\":\"white\",\"linecolor\":\"white\",\"minorgridcolor\":\"white\",\"startlinecolor\":\"#2a3f5f\"},\"baxis\":{\"endlinecolor\":\"#2a3f5f\",\"gridcolor\":\"white\",\"linecolor\":\"white\",\"minorgridcolor\":\"white\",\"startlinecolor\":\"#2a3f5f\"},\"type\":\"carpet\"}],\"table\":[{\"cells\":{\"fill\":{\"color\":\"#EBF0F8\"},\"line\":{\"color\":\"white\"}},\"header\":{\"fill\":{\"color\":\"#C8D4E3\"},\"line\":{\"color\":\"white\"}},\"type\":\"table\"}],\"barpolar\":[{\"marker\":{\"line\":{\"color\":\"#E5ECF6\",\"width\":0.5},\"pattern\":{\"fillmode\":\"overlay\",\"size\":10,\"solidity\":0.2}},\"type\":\"barpolar\"}],\"pie\":[{\"automargin\":true,\"type\":\"pie\"}]},\"layout\":{\"autotypenumbers\":\"strict\",\"colorway\":[\"#636efa\",\"#EF553B\",\"#00cc96\",\"#ab63fa\",\"#FFA15A\",\"#19d3f3\",\"#FF6692\",\"#B6E880\",\"#FF97FF\",\"#FECB52\"],\"font\":{\"color\":\"#2a3f5f\"},\"hovermode\":\"closest\",\"hoverlabel\":{\"align\":\"left\"},\"paper_bgcolor\":\"white\",\"plot_bgcolor\":\"#E5ECF6\",\"polar\":{\"bgcolor\":\"#E5ECF6\",\"angularaxis\":{\"gridcolor\":\"white\",\"linecolor\":\"white\",\"ticks\":\"\"},\"radialaxis\":{\"gridcolor\":\"white\",\"linecolor\":\"white\",\"ticks\":\"\"}},\"ternary\":{\"bgcolor\":\"#E5ECF6\",\"aaxis\":{\"gridcolor\":\"white\",\"linecolor\":\"white\",\"ticks\":\"\"},\"baxis\":{\"gridcolor\":\"white\",\"linecolor\":\"white\",\"ticks\":\"\"},\"caxis\":{\"gridcolor\":\"white\",\"linecolor\":\"white\",\"ticks\":\"\"}},\"coloraxis\":{\"colorbar\":{\"outlinewidth\":0,\"ticks\":\"\"}},\"colorscale\":{\"sequential\":[[0.0,\"#0d0887\"],[0.1111111111111111,\"#46039f\"],[0.2222222222222222,\"#7201a8\"],[0.3333333333333333,\"#9c179e\"],[0.4444444444444444,\"#bd3786\"],[0.5555555555555556,\"#d8576b\"],[0.6666666666666666,\"#ed7953\"],[0.7777777777777778,\"#fb9f3a\"],[0.8888888888888888,\"#fdca26\"],[1.0,\"#f0f921\"]],\"sequentialminus\":[[0.0,\"#0d0887\"],[0.1111111111111111,\"#46039f\"],[0.2222222222222222,\"#7201a8\"],[0.3333333333333333,\"#9c179e\"],[0.4444444444444444,\"#bd3786\"],[0.5555555555555556,\"#d8576b\"],[0.6666666666666666,\"#ed7953\"],[0.7777777777777778,\"#fb9f3a\"],[0.8888888888888888,\"#fdca26\"],[1.0,\"#f0f921\"]],\"diverging\":[[0,\"#8e0152\"],[0.1,\"#c51b7d\"],[0.2,\"#de77ae\"],[0.3,\"#f1b6da\"],[0.4,\"#fde0ef\"],[0.5,\"#f7f7f7\"],[0.6,\"#e6f5d0\"],[0.7,\"#b8e186\"],[0.8,\"#7fbc41\"],[0.9,\"#4d9221\"],[1,\"#276419\"]]},\"xaxis\":{\"gridcolor\":\"white\",\"linecolor\":\"white\",\"ticks\":\"\",\"title\":{\"standoff\":15},\"zerolinecolor\":\"white\",\"automargin\":true,\"zerolinewidth\":2},\"yaxis\":{\"gridcolor\":\"white\",\"linecolor\":\"white\",\"ticks\":\"\",\"title\":{\"standoff\":15},\"zerolinecolor\":\"white\",\"automargin\":true,\"zerolinewidth\":2},\"scene\":{\"xaxis\":{\"backgroundcolor\":\"#E5ECF6\",\"gridcolor\":\"white\",\"linecolor\":\"white\",\"showbackground\":true,\"ticks\":\"\",\"zerolinecolor\":\"white\",\"gridwidth\":2},\"yaxis\":{\"backgroundcolor\":\"#E5ECF6\",\"gridcolor\":\"white\",\"linecolor\":\"white\",\"showbackground\":true,\"ticks\":\"\",\"zerolinecolor\":\"white\",\"gridwidth\":2},\"zaxis\":{\"backgroundcolor\":\"#E5ECF6\",\"gridcolor\":\"white\",\"linecolor\":\"white\",\"showbackground\":true,\"ticks\":\"\",\"zerolinecolor\":\"white\",\"gridwidth\":2}},\"shapedefaults\":{\"line\":{\"color\":\"#2a3f5f\"}},\"annotationdefaults\":{\"arrowcolor\":\"#2a3f5f\",\"arrowhead\":0,\"arrowwidth\":1},\"geo\":{\"bgcolor\":\"white\",\"landcolor\":\"#E5ECF6\",\"subunitcolor\":\"white\",\"showland\":true,\"showlakes\":true,\"lakecolor\":\"white\"},\"title\":{\"x\":0.05},\"mapbox\":{\"style\":\"light\"}}},\"xaxis\":{\"anchor\":\"y\",\"domain\":[0.0,1.0],\"title\":{\"text\":\"PC 3 (3.4%)\"}},\"yaxis\":{\"anchor\":\"x\",\"domain\":[0.0,1.0],\"title\":{\"text\":\"PC 4 (1.5%)\"}},\"legend\":{\"title\":{\"text\":\"color, symbol\"},\"tracegroupgap\":0},\"margin\":{\"t\":60},\"height\":600,\"width\":600,\"plot_bgcolor\":\"rgb(243,243,243)\"},                        {\"responsive\": true}                    ).then(function(){\n",
       "                            \n",
       "var gd = document.getElementById('f54928cc-eac6-4ad2-a628-68418f6da42e');\n",
       "var x = new MutationObserver(function (mutations, observer) {{\n",
       "        var display = window.getComputedStyle(gd).display;\n",
       "        if (!display || display === 'none') {{\n",
       "            console.log([gd, 'removed!']);\n",
       "            Plotly.purge(gd);\n",
       "            observer.disconnect();\n",
       "        }}\n",
       "}});\n",
       "\n",
       "// Listen for the removal of the full notebook cells\n",
       "var notebookContainer = gd.closest('#notebook-container');\n",
       "if (notebookContainer) {{\n",
       "    x.observe(notebookContainer, {childList: true});\n",
       "}}\n",
       "\n",
       "// Listen for the clearing of the current output cell\n",
       "var outputEl = gd.closest('.output');\n",
       "if (outputEl) {{\n",
       "    x.observe(outputEl, {childList: true});\n",
       "}}\n",
       "\n",
       "                        })                };                });            </script>        </div>"
      ]
     },
     "metadata": {},
     "output_type": "display_data"
    },
    {
     "data": {
      "application/vnd.plotly.v1+json": {
       "config": {
        "plotlyServerURL": "https://plot.ly"
       },
       "data": [
        {
         "hovertemplate": "color=A<br>symbol=Exon<br>2=%{x}<br>3=%{y}<extra></extra>",
         "legendgroup": "A, Exon",
         "marker": {
          "color": "#636efa",
          "size": 13,
          "symbol": "circle"
         },
         "mode": "markers",
         "name": "A, Exon",
         "orientation": "v",
         "showlegend": true,
         "type": "scatter",
         "x": [
          0.5625118712150113,
          0.42857818079177257,
          -0.49816346100391135,
          -0.2219351369926728,
          0.349201983404589,
          0.4312395598287203,
          0.1563125594319395,
          -0.11689209058695421,
          -0.6005298221659183,
          -0.7485028746602443,
          0.582607199276494,
          0.5943150826282889
         ],
         "xaxis": "x",
         "y": [
          -0.43200873629534553,
          0.7616303440372253,
          -0.28607014200749187,
          -0.30991112316184743,
          -0.024172655693618542,
          0.023579387376853094,
          0.009627500077216734,
          0.8024298514303457,
          0.3617637182301402,
          0.25945124677901316,
          -0.40044844822905407,
          -0.24072231064568148
         ],
         "yaxis": "y"
        },
        {
         "hovertemplate": "color=B<br>symbol=Exon<br>2=%{x}<br>3=%{y}<extra></extra>",
         "legendgroup": "B, Exon",
         "marker": {
          "color": "#EF553B",
          "size": 13,
          "symbol": "circle"
         },
         "mode": "markers",
         "name": "B, Exon",
         "orientation": "v",
         "showlegend": true,
         "type": "scatter",
         "x": [
          0.28216482658113956,
          -0.295956712622525,
          -0.12606265431096028,
          -0.35655885772221435,
          0.6001053693085469,
          0.5573021875887809,
          0.5873200598147124,
          -0.4844307206229881,
          -0.6514867365014916,
          -0.3866847163391188,
          0.8227821744910268,
          0.40617211528471253
         ],
         "xaxis": "x",
         "y": [
          0.3084833532824954,
          0.3800749972675852,
          0.3745718085721966,
          -0.7298845888582469,
          0.15401889799135904,
          0.06159955932839081,
          0.07993113815699762,
          -0.04348878636188273,
          -0.2436775020524037,
          0.08731214507278774,
          -0.518226175838106,
          -0.19687546735189007
         ],
         "yaxis": "y"
        },
        {
         "hovertemplate": "color=C<br>symbol=Exon<br>2=%{x}<br>3=%{y}<extra></extra>",
         "legendgroup": "C, Exon",
         "marker": {
          "color": "#00cc96",
          "size": 13,
          "symbol": "circle"
         },
         "mode": "markers",
         "name": "C, Exon",
         "orientation": "v",
         "showlegend": true,
         "type": "scatter",
         "x": [
          0.28330174257561386,
          0.0014507758126661476,
          -0.22774420384090147,
          -0.15062315722427955,
          0.6206351189307642,
          0.40872589431453815,
          0.584249350905505,
          -0.09700221387721486,
          -0.6446338269865498,
          -0.4457052344955101,
          -0.2655678304447758,
          0.4033509058885313
         ],
         "xaxis": "x",
         "y": [
          0.29022111689117197,
          0.18214426625103813,
          -0.3194532127564338,
          -0.4259214837944971,
          0.10333254385204384,
          0.09549151833773785,
          0.07456845359441733,
          0.31092718499971256,
          -0.08987202971820289,
          -0.10594265190668739,
          -0.15574553151333728,
          -0.06889610072098806
         ],
         "yaxis": "y"
        },
        {
         "hovertemplate": "color=D<br>symbol=Exon<br>2=%{x}<br>3=%{y}<extra></extra>",
         "legendgroup": "D, Exon",
         "marker": {
          "color": "#ab63fa",
          "size": 13,
          "symbol": "circle"
         },
         "mode": "markers",
         "name": "D, Exon",
         "orientation": "v",
         "showlegend": true,
         "type": "scatter",
         "x": [
          0.036546934148484984,
          -0.6476554340184908,
          -0.08152589747032708,
          -0.43143564206872437,
          0.19967517552353511,
          0.4558914823885054,
          -0.0772145012519519,
          -0.5696734393554641,
          -0.5526172420445444,
          -0.477611200353106,
          -0.32338309609095056,
          0.1251561529179243
         ],
         "xaxis": "x",
         "y": [
          0.20647330420641985,
          0.06733931416875683,
          -0.06621522190297963,
          -0.3917595273855716,
          -0.1534728248561941,
          0.08149205401717367,
          0.29461324237045405,
          0.02074212613548897,
          -0.12808705721571273,
          -0.023033999110214958,
          0.13225105215279345,
          -0.17018454720343476
         ],
         "yaxis": "y"
        }
       ],
       "layout": {
        "height": 600,
        "legend": {
         "title": {
          "text": "color, symbol"
         },
         "tracegroupgap": 0
        },
        "margin": {
         "t": 60
        },
        "plot_bgcolor": "rgb(243,243,243)",
        "template": {
         "data": {
          "bar": [
           {
            "error_x": {
             "color": "#2a3f5f"
            },
            "error_y": {
             "color": "#2a3f5f"
            },
            "marker": {
             "line": {
              "color": "#E5ECF6",
              "width": 0.5
             },
             "pattern": {
              "fillmode": "overlay",
              "size": 10,
              "solidity": 0.2
             }
            },
            "type": "bar"
           }
          ],
          "barpolar": [
           {
            "marker": {
             "line": {
              "color": "#E5ECF6",
              "width": 0.5
             },
             "pattern": {
              "fillmode": "overlay",
              "size": 10,
              "solidity": 0.2
             }
            },
            "type": "barpolar"
           }
          ],
          "carpet": [
           {
            "aaxis": {
             "endlinecolor": "#2a3f5f",
             "gridcolor": "white",
             "linecolor": "white",
             "minorgridcolor": "white",
             "startlinecolor": "#2a3f5f"
            },
            "baxis": {
             "endlinecolor": "#2a3f5f",
             "gridcolor": "white",
             "linecolor": "white",
             "minorgridcolor": "white",
             "startlinecolor": "#2a3f5f"
            },
            "type": "carpet"
           }
          ],
          "choropleth": [
           {
            "colorbar": {
             "outlinewidth": 0,
             "ticks": ""
            },
            "type": "choropleth"
           }
          ],
          "contour": [
           {
            "colorbar": {
             "outlinewidth": 0,
             "ticks": ""
            },
            "colorscale": [
             [
              0,
              "#0d0887"
             ],
             [
              0.1111111111111111,
              "#46039f"
             ],
             [
              0.2222222222222222,
              "#7201a8"
             ],
             [
              0.3333333333333333,
              "#9c179e"
             ],
             [
              0.4444444444444444,
              "#bd3786"
             ],
             [
              0.5555555555555556,
              "#d8576b"
             ],
             [
              0.6666666666666666,
              "#ed7953"
             ],
             [
              0.7777777777777778,
              "#fb9f3a"
             ],
             [
              0.8888888888888888,
              "#fdca26"
             ],
             [
              1,
              "#f0f921"
             ]
            ],
            "type": "contour"
           }
          ],
          "contourcarpet": [
           {
            "colorbar": {
             "outlinewidth": 0,
             "ticks": ""
            },
            "type": "contourcarpet"
           }
          ],
          "heatmap": [
           {
            "colorbar": {
             "outlinewidth": 0,
             "ticks": ""
            },
            "colorscale": [
             [
              0,
              "#0d0887"
             ],
             [
              0.1111111111111111,
              "#46039f"
             ],
             [
              0.2222222222222222,
              "#7201a8"
             ],
             [
              0.3333333333333333,
              "#9c179e"
             ],
             [
              0.4444444444444444,
              "#bd3786"
             ],
             [
              0.5555555555555556,
              "#d8576b"
             ],
             [
              0.6666666666666666,
              "#ed7953"
             ],
             [
              0.7777777777777778,
              "#fb9f3a"
             ],
             [
              0.8888888888888888,
              "#fdca26"
             ],
             [
              1,
              "#f0f921"
             ]
            ],
            "type": "heatmap"
           }
          ],
          "heatmapgl": [
           {
            "colorbar": {
             "outlinewidth": 0,
             "ticks": ""
            },
            "colorscale": [
             [
              0,
              "#0d0887"
             ],
             [
              0.1111111111111111,
              "#46039f"
             ],
             [
              0.2222222222222222,
              "#7201a8"
             ],
             [
              0.3333333333333333,
              "#9c179e"
             ],
             [
              0.4444444444444444,
              "#bd3786"
             ],
             [
              0.5555555555555556,
              "#d8576b"
             ],
             [
              0.6666666666666666,
              "#ed7953"
             ],
             [
              0.7777777777777778,
              "#fb9f3a"
             ],
             [
              0.8888888888888888,
              "#fdca26"
             ],
             [
              1,
              "#f0f921"
             ]
            ],
            "type": "heatmapgl"
           }
          ],
          "histogram": [
           {
            "marker": {
             "pattern": {
              "fillmode": "overlay",
              "size": 10,
              "solidity": 0.2
             }
            },
            "type": "histogram"
           }
          ],
          "histogram2d": [
           {
            "colorbar": {
             "outlinewidth": 0,
             "ticks": ""
            },
            "colorscale": [
             [
              0,
              "#0d0887"
             ],
             [
              0.1111111111111111,
              "#46039f"
             ],
             [
              0.2222222222222222,
              "#7201a8"
             ],
             [
              0.3333333333333333,
              "#9c179e"
             ],
             [
              0.4444444444444444,
              "#bd3786"
             ],
             [
              0.5555555555555556,
              "#d8576b"
             ],
             [
              0.6666666666666666,
              "#ed7953"
             ],
             [
              0.7777777777777778,
              "#fb9f3a"
             ],
             [
              0.8888888888888888,
              "#fdca26"
             ],
             [
              1,
              "#f0f921"
             ]
            ],
            "type": "histogram2d"
           }
          ],
          "histogram2dcontour": [
           {
            "colorbar": {
             "outlinewidth": 0,
             "ticks": ""
            },
            "colorscale": [
             [
              0,
              "#0d0887"
             ],
             [
              0.1111111111111111,
              "#46039f"
             ],
             [
              0.2222222222222222,
              "#7201a8"
             ],
             [
              0.3333333333333333,
              "#9c179e"
             ],
             [
              0.4444444444444444,
              "#bd3786"
             ],
             [
              0.5555555555555556,
              "#d8576b"
             ],
             [
              0.6666666666666666,
              "#ed7953"
             ],
             [
              0.7777777777777778,
              "#fb9f3a"
             ],
             [
              0.8888888888888888,
              "#fdca26"
             ],
             [
              1,
              "#f0f921"
             ]
            ],
            "type": "histogram2dcontour"
           }
          ],
          "mesh3d": [
           {
            "colorbar": {
             "outlinewidth": 0,
             "ticks": ""
            },
            "type": "mesh3d"
           }
          ],
          "parcoords": [
           {
            "line": {
             "colorbar": {
              "outlinewidth": 0,
              "ticks": ""
             }
            },
            "type": "parcoords"
           }
          ],
          "pie": [
           {
            "automargin": true,
            "type": "pie"
           }
          ],
          "scatter": [
           {
            "fillpattern": {
             "fillmode": "overlay",
             "size": 10,
             "solidity": 0.2
            },
            "type": "scatter"
           }
          ],
          "scatter3d": [
           {
            "line": {
             "colorbar": {
              "outlinewidth": 0,
              "ticks": ""
             }
            },
            "marker": {
             "colorbar": {
              "outlinewidth": 0,
              "ticks": ""
             }
            },
            "type": "scatter3d"
           }
          ],
          "scattercarpet": [
           {
            "marker": {
             "colorbar": {
              "outlinewidth": 0,
              "ticks": ""
             }
            },
            "type": "scattercarpet"
           }
          ],
          "scattergeo": [
           {
            "marker": {
             "colorbar": {
              "outlinewidth": 0,
              "ticks": ""
             }
            },
            "type": "scattergeo"
           }
          ],
          "scattergl": [
           {
            "marker": {
             "colorbar": {
              "outlinewidth": 0,
              "ticks": ""
             }
            },
            "type": "scattergl"
           }
          ],
          "scattermapbox": [
           {
            "marker": {
             "colorbar": {
              "outlinewidth": 0,
              "ticks": ""
             }
            },
            "type": "scattermapbox"
           }
          ],
          "scatterpolar": [
           {
            "marker": {
             "colorbar": {
              "outlinewidth": 0,
              "ticks": ""
             }
            },
            "type": "scatterpolar"
           }
          ],
          "scatterpolargl": [
           {
            "marker": {
             "colorbar": {
              "outlinewidth": 0,
              "ticks": ""
             }
            },
            "type": "scatterpolargl"
           }
          ],
          "scatterternary": [
           {
            "marker": {
             "colorbar": {
              "outlinewidth": 0,
              "ticks": ""
             }
            },
            "type": "scatterternary"
           }
          ],
          "surface": [
           {
            "colorbar": {
             "outlinewidth": 0,
             "ticks": ""
            },
            "colorscale": [
             [
              0,
              "#0d0887"
             ],
             [
              0.1111111111111111,
              "#46039f"
             ],
             [
              0.2222222222222222,
              "#7201a8"
             ],
             [
              0.3333333333333333,
              "#9c179e"
             ],
             [
              0.4444444444444444,
              "#bd3786"
             ],
             [
              0.5555555555555556,
              "#d8576b"
             ],
             [
              0.6666666666666666,
              "#ed7953"
             ],
             [
              0.7777777777777778,
              "#fb9f3a"
             ],
             [
              0.8888888888888888,
              "#fdca26"
             ],
             [
              1,
              "#f0f921"
             ]
            ],
            "type": "surface"
           }
          ],
          "table": [
           {
            "cells": {
             "fill": {
              "color": "#EBF0F8"
             },
             "line": {
              "color": "white"
             }
            },
            "header": {
             "fill": {
              "color": "#C8D4E3"
             },
             "line": {
              "color": "white"
             }
            },
            "type": "table"
           }
          ]
         },
         "layout": {
          "annotationdefaults": {
           "arrowcolor": "#2a3f5f",
           "arrowhead": 0,
           "arrowwidth": 1
          },
          "autotypenumbers": "strict",
          "coloraxis": {
           "colorbar": {
            "outlinewidth": 0,
            "ticks": ""
           }
          },
          "colorscale": {
           "diverging": [
            [
             0,
             "#8e0152"
            ],
            [
             0.1,
             "#c51b7d"
            ],
            [
             0.2,
             "#de77ae"
            ],
            [
             0.3,
             "#f1b6da"
            ],
            [
             0.4,
             "#fde0ef"
            ],
            [
             0.5,
             "#f7f7f7"
            ],
            [
             0.6,
             "#e6f5d0"
            ],
            [
             0.7,
             "#b8e186"
            ],
            [
             0.8,
             "#7fbc41"
            ],
            [
             0.9,
             "#4d9221"
            ],
            [
             1,
             "#276419"
            ]
           ],
           "sequential": [
            [
             0,
             "#0d0887"
            ],
            [
             0.1111111111111111,
             "#46039f"
            ],
            [
             0.2222222222222222,
             "#7201a8"
            ],
            [
             0.3333333333333333,
             "#9c179e"
            ],
            [
             0.4444444444444444,
             "#bd3786"
            ],
            [
             0.5555555555555556,
             "#d8576b"
            ],
            [
             0.6666666666666666,
             "#ed7953"
            ],
            [
             0.7777777777777778,
             "#fb9f3a"
            ],
            [
             0.8888888888888888,
             "#fdca26"
            ],
            [
             1,
             "#f0f921"
            ]
           ],
           "sequentialminus": [
            [
             0,
             "#0d0887"
            ],
            [
             0.1111111111111111,
             "#46039f"
            ],
            [
             0.2222222222222222,
             "#7201a8"
            ],
            [
             0.3333333333333333,
             "#9c179e"
            ],
            [
             0.4444444444444444,
             "#bd3786"
            ],
            [
             0.5555555555555556,
             "#d8576b"
            ],
            [
             0.6666666666666666,
             "#ed7953"
            ],
            [
             0.7777777777777778,
             "#fb9f3a"
            ],
            [
             0.8888888888888888,
             "#fdca26"
            ],
            [
             1,
             "#f0f921"
            ]
           ]
          },
          "colorway": [
           "#636efa",
           "#EF553B",
           "#00cc96",
           "#ab63fa",
           "#FFA15A",
           "#19d3f3",
           "#FF6692",
           "#B6E880",
           "#FF97FF",
           "#FECB52"
          ],
          "font": {
           "color": "#2a3f5f"
          },
          "geo": {
           "bgcolor": "white",
           "lakecolor": "white",
           "landcolor": "#E5ECF6",
           "showlakes": true,
           "showland": true,
           "subunitcolor": "white"
          },
          "hoverlabel": {
           "align": "left"
          },
          "hovermode": "closest",
          "mapbox": {
           "style": "light"
          },
          "paper_bgcolor": "white",
          "plot_bgcolor": "#E5ECF6",
          "polar": {
           "angularaxis": {
            "gridcolor": "white",
            "linecolor": "white",
            "ticks": ""
           },
           "bgcolor": "#E5ECF6",
           "radialaxis": {
            "gridcolor": "white",
            "linecolor": "white",
            "ticks": ""
           }
          },
          "scene": {
           "xaxis": {
            "backgroundcolor": "#E5ECF6",
            "gridcolor": "white",
            "gridwidth": 2,
            "linecolor": "white",
            "showbackground": true,
            "ticks": "",
            "zerolinecolor": "white"
           },
           "yaxis": {
            "backgroundcolor": "#E5ECF6",
            "gridcolor": "white",
            "gridwidth": 2,
            "linecolor": "white",
            "showbackground": true,
            "ticks": "",
            "zerolinecolor": "white"
           },
           "zaxis": {
            "backgroundcolor": "#E5ECF6",
            "gridcolor": "white",
            "gridwidth": 2,
            "linecolor": "white",
            "showbackground": true,
            "ticks": "",
            "zerolinecolor": "white"
           }
          },
          "shapedefaults": {
           "line": {
            "color": "#2a3f5f"
           }
          },
          "ternary": {
           "aaxis": {
            "gridcolor": "white",
            "linecolor": "white",
            "ticks": ""
           },
           "baxis": {
            "gridcolor": "white",
            "linecolor": "white",
            "ticks": ""
           },
           "bgcolor": "#E5ECF6",
           "caxis": {
            "gridcolor": "white",
            "linecolor": "white",
            "ticks": ""
           }
          },
          "title": {
           "x": 0.05
          },
          "xaxis": {
           "automargin": true,
           "gridcolor": "white",
           "linecolor": "white",
           "ticks": "",
           "title": {
            "standoff": 15
           },
           "zerolinecolor": "white",
           "zerolinewidth": 2
          },
          "yaxis": {
           "automargin": true,
           "gridcolor": "white",
           "linecolor": "white",
           "ticks": "",
           "title": {
            "standoff": 15
           },
           "zerolinecolor": "white",
           "zerolinewidth": 2
          }
         }
        },
        "width": 600,
        "xaxis": {
         "anchor": "y",
         "domain": [
          0,
          1
         ],
         "title": {
          "text": "PC 3 (3.4%)"
         }
        },
        "yaxis": {
         "anchor": "x",
         "domain": [
          0,
          1
         ],
         "title": {
          "text": "PC 4 (1.5%)"
         }
        }
       }
      },
      "text/html": [
       "<div>                            <div id=\"1adf4c16-f560-4d42-9766-312e45c9dafa\" class=\"plotly-graph-div\" style=\"height:600px; width:600px;\"></div>            <script type=\"text/javascript\">                require([\"plotly\"], function(Plotly) {                    window.PLOTLYENV=window.PLOTLYENV || {};                                    if (document.getElementById(\"1adf4c16-f560-4d42-9766-312e45c9dafa\")) {                    Plotly.newPlot(                        \"1adf4c16-f560-4d42-9766-312e45c9dafa\",                        [{\"hovertemplate\":\"color=A<br>symbol=Exon<br>2=%{x}<br>3=%{y}<extra></extra>\",\"legendgroup\":\"A, Exon\",\"marker\":{\"color\":\"#636efa\",\"symbol\":\"circle\",\"size\":13},\"mode\":\"markers\",\"name\":\"A, Exon\",\"orientation\":\"v\",\"showlegend\":true,\"x\":[0.5625118712150113,0.42857818079177257,-0.49816346100391135,-0.2219351369926728,0.349201983404589,0.4312395598287203,0.1563125594319395,-0.11689209058695421,-0.6005298221659183,-0.7485028746602443,0.582607199276494,0.5943150826282889],\"xaxis\":\"x\",\"y\":[-0.43200873629534553,0.7616303440372253,-0.28607014200749187,-0.30991112316184743,-0.024172655693618542,0.023579387376853094,0.009627500077216734,0.8024298514303457,0.3617637182301402,0.25945124677901316,-0.40044844822905407,-0.24072231064568148],\"yaxis\":\"y\",\"type\":\"scatter\"},{\"hovertemplate\":\"color=B<br>symbol=Exon<br>2=%{x}<br>3=%{y}<extra></extra>\",\"legendgroup\":\"B, Exon\",\"marker\":{\"color\":\"#EF553B\",\"symbol\":\"circle\",\"size\":13},\"mode\":\"markers\",\"name\":\"B, Exon\",\"orientation\":\"v\",\"showlegend\":true,\"x\":[0.28216482658113956,-0.295956712622525,-0.12606265431096028,-0.35655885772221435,0.6001053693085469,0.5573021875887809,0.5873200598147124,-0.4844307206229881,-0.6514867365014916,-0.3866847163391188,0.8227821744910268,0.40617211528471253],\"xaxis\":\"x\",\"y\":[0.3084833532824954,0.3800749972675852,0.3745718085721966,-0.7298845888582469,0.15401889799135904,0.06159955932839081,0.07993113815699762,-0.04348878636188273,-0.2436775020524037,0.08731214507278774,-0.518226175838106,-0.19687546735189007],\"yaxis\":\"y\",\"type\":\"scatter\"},{\"hovertemplate\":\"color=C<br>symbol=Exon<br>2=%{x}<br>3=%{y}<extra></extra>\",\"legendgroup\":\"C, Exon\",\"marker\":{\"color\":\"#00cc96\",\"symbol\":\"circle\",\"size\":13},\"mode\":\"markers\",\"name\":\"C, Exon\",\"orientation\":\"v\",\"showlegend\":true,\"x\":[0.28330174257561386,0.0014507758126661476,-0.22774420384090147,-0.15062315722427955,0.6206351189307642,0.40872589431453815,0.584249350905505,-0.09700221387721486,-0.6446338269865498,-0.4457052344955101,-0.2655678304447758,0.4033509058885313],\"xaxis\":\"x\",\"y\":[0.29022111689117197,0.18214426625103813,-0.3194532127564338,-0.4259214837944971,0.10333254385204384,0.09549151833773785,0.07456845359441733,0.31092718499971256,-0.08987202971820289,-0.10594265190668739,-0.15574553151333728,-0.06889610072098806],\"yaxis\":\"y\",\"type\":\"scatter\"},{\"hovertemplate\":\"color=D<br>symbol=Exon<br>2=%{x}<br>3=%{y}<extra></extra>\",\"legendgroup\":\"D, Exon\",\"marker\":{\"color\":\"#ab63fa\",\"symbol\":\"circle\",\"size\":13},\"mode\":\"markers\",\"name\":\"D, Exon\",\"orientation\":\"v\",\"showlegend\":true,\"x\":[0.036546934148484984,-0.6476554340184908,-0.08152589747032708,-0.43143564206872437,0.19967517552353511,0.4558914823885054,-0.0772145012519519,-0.5696734393554641,-0.5526172420445444,-0.477611200353106,-0.32338309609095056,0.1251561529179243],\"xaxis\":\"x\",\"y\":[0.20647330420641985,0.06733931416875683,-0.06621522190297963,-0.3917595273855716,-0.1534728248561941,0.08149205401717367,0.29461324237045405,0.02074212613548897,-0.12808705721571273,-0.023033999110214958,0.13225105215279345,-0.17018454720343476],\"yaxis\":\"y\",\"type\":\"scatter\"}],                        {\"template\":{\"data\":{\"histogram2dcontour\":[{\"type\":\"histogram2dcontour\",\"colorbar\":{\"outlinewidth\":0,\"ticks\":\"\"},\"colorscale\":[[0.0,\"#0d0887\"],[0.1111111111111111,\"#46039f\"],[0.2222222222222222,\"#7201a8\"],[0.3333333333333333,\"#9c179e\"],[0.4444444444444444,\"#bd3786\"],[0.5555555555555556,\"#d8576b\"],[0.6666666666666666,\"#ed7953\"],[0.7777777777777778,\"#fb9f3a\"],[0.8888888888888888,\"#fdca26\"],[1.0,\"#f0f921\"]]}],\"choropleth\":[{\"type\":\"choropleth\",\"colorbar\":{\"outlinewidth\":0,\"ticks\":\"\"}}],\"histogram2d\":[{\"type\":\"histogram2d\",\"colorbar\":{\"outlinewidth\":0,\"ticks\":\"\"},\"colorscale\":[[0.0,\"#0d0887\"],[0.1111111111111111,\"#46039f\"],[0.2222222222222222,\"#7201a8\"],[0.3333333333333333,\"#9c179e\"],[0.4444444444444444,\"#bd3786\"],[0.5555555555555556,\"#d8576b\"],[0.6666666666666666,\"#ed7953\"],[0.7777777777777778,\"#fb9f3a\"],[0.8888888888888888,\"#fdca26\"],[1.0,\"#f0f921\"]]}],\"heatmap\":[{\"type\":\"heatmap\",\"colorbar\":{\"outlinewidth\":0,\"ticks\":\"\"},\"colorscale\":[[0.0,\"#0d0887\"],[0.1111111111111111,\"#46039f\"],[0.2222222222222222,\"#7201a8\"],[0.3333333333333333,\"#9c179e\"],[0.4444444444444444,\"#bd3786\"],[0.5555555555555556,\"#d8576b\"],[0.6666666666666666,\"#ed7953\"],[0.7777777777777778,\"#fb9f3a\"],[0.8888888888888888,\"#fdca26\"],[1.0,\"#f0f921\"]]}],\"heatmapgl\":[{\"type\":\"heatmapgl\",\"colorbar\":{\"outlinewidth\":0,\"ticks\":\"\"},\"colorscale\":[[0.0,\"#0d0887\"],[0.1111111111111111,\"#46039f\"],[0.2222222222222222,\"#7201a8\"],[0.3333333333333333,\"#9c179e\"],[0.4444444444444444,\"#bd3786\"],[0.5555555555555556,\"#d8576b\"],[0.6666666666666666,\"#ed7953\"],[0.7777777777777778,\"#fb9f3a\"],[0.8888888888888888,\"#fdca26\"],[1.0,\"#f0f921\"]]}],\"contourcarpet\":[{\"type\":\"contourcarpet\",\"colorbar\":{\"outlinewidth\":0,\"ticks\":\"\"}}],\"contour\":[{\"type\":\"contour\",\"colorbar\":{\"outlinewidth\":0,\"ticks\":\"\"},\"colorscale\":[[0.0,\"#0d0887\"],[0.1111111111111111,\"#46039f\"],[0.2222222222222222,\"#7201a8\"],[0.3333333333333333,\"#9c179e\"],[0.4444444444444444,\"#bd3786\"],[0.5555555555555556,\"#d8576b\"],[0.6666666666666666,\"#ed7953\"],[0.7777777777777778,\"#fb9f3a\"],[0.8888888888888888,\"#fdca26\"],[1.0,\"#f0f921\"]]}],\"surface\":[{\"type\":\"surface\",\"colorbar\":{\"outlinewidth\":0,\"ticks\":\"\"},\"colorscale\":[[0.0,\"#0d0887\"],[0.1111111111111111,\"#46039f\"],[0.2222222222222222,\"#7201a8\"],[0.3333333333333333,\"#9c179e\"],[0.4444444444444444,\"#bd3786\"],[0.5555555555555556,\"#d8576b\"],[0.6666666666666666,\"#ed7953\"],[0.7777777777777778,\"#fb9f3a\"],[0.8888888888888888,\"#fdca26\"],[1.0,\"#f0f921\"]]}],\"mesh3d\":[{\"type\":\"mesh3d\",\"colorbar\":{\"outlinewidth\":0,\"ticks\":\"\"}}],\"scatter\":[{\"fillpattern\":{\"fillmode\":\"overlay\",\"size\":10,\"solidity\":0.2},\"type\":\"scatter\"}],\"parcoords\":[{\"type\":\"parcoords\",\"line\":{\"colorbar\":{\"outlinewidth\":0,\"ticks\":\"\"}}}],\"scatterpolargl\":[{\"type\":\"scatterpolargl\",\"marker\":{\"colorbar\":{\"outlinewidth\":0,\"ticks\":\"\"}}}],\"bar\":[{\"error_x\":{\"color\":\"#2a3f5f\"},\"error_y\":{\"color\":\"#2a3f5f\"},\"marker\":{\"line\":{\"color\":\"#E5ECF6\",\"width\":0.5},\"pattern\":{\"fillmode\":\"overlay\",\"size\":10,\"solidity\":0.2}},\"type\":\"bar\"}],\"scattergeo\":[{\"type\":\"scattergeo\",\"marker\":{\"colorbar\":{\"outlinewidth\":0,\"ticks\":\"\"}}}],\"scatterpolar\":[{\"type\":\"scatterpolar\",\"marker\":{\"colorbar\":{\"outlinewidth\":0,\"ticks\":\"\"}}}],\"histogram\":[{\"marker\":{\"pattern\":{\"fillmode\":\"overlay\",\"size\":10,\"solidity\":0.2}},\"type\":\"histogram\"}],\"scattergl\":[{\"type\":\"scattergl\",\"marker\":{\"colorbar\":{\"outlinewidth\":0,\"ticks\":\"\"}}}],\"scatter3d\":[{\"type\":\"scatter3d\",\"line\":{\"colorbar\":{\"outlinewidth\":0,\"ticks\":\"\"}},\"marker\":{\"colorbar\":{\"outlinewidth\":0,\"ticks\":\"\"}}}],\"scattermapbox\":[{\"type\":\"scattermapbox\",\"marker\":{\"colorbar\":{\"outlinewidth\":0,\"ticks\":\"\"}}}],\"scatterternary\":[{\"type\":\"scatterternary\",\"marker\":{\"colorbar\":{\"outlinewidth\":0,\"ticks\":\"\"}}}],\"scattercarpet\":[{\"type\":\"scattercarpet\",\"marker\":{\"colorbar\":{\"outlinewidth\":0,\"ticks\":\"\"}}}],\"carpet\":[{\"aaxis\":{\"endlinecolor\":\"#2a3f5f\",\"gridcolor\":\"white\",\"linecolor\":\"white\",\"minorgridcolor\":\"white\",\"startlinecolor\":\"#2a3f5f\"},\"baxis\":{\"endlinecolor\":\"#2a3f5f\",\"gridcolor\":\"white\",\"linecolor\":\"white\",\"minorgridcolor\":\"white\",\"startlinecolor\":\"#2a3f5f\"},\"type\":\"carpet\"}],\"table\":[{\"cells\":{\"fill\":{\"color\":\"#EBF0F8\"},\"line\":{\"color\":\"white\"}},\"header\":{\"fill\":{\"color\":\"#C8D4E3\"},\"line\":{\"color\":\"white\"}},\"type\":\"table\"}],\"barpolar\":[{\"marker\":{\"line\":{\"color\":\"#E5ECF6\",\"width\":0.5},\"pattern\":{\"fillmode\":\"overlay\",\"size\":10,\"solidity\":0.2}},\"type\":\"barpolar\"}],\"pie\":[{\"automargin\":true,\"type\":\"pie\"}]},\"layout\":{\"autotypenumbers\":\"strict\",\"colorway\":[\"#636efa\",\"#EF553B\",\"#00cc96\",\"#ab63fa\",\"#FFA15A\",\"#19d3f3\",\"#FF6692\",\"#B6E880\",\"#FF97FF\",\"#FECB52\"],\"font\":{\"color\":\"#2a3f5f\"},\"hovermode\":\"closest\",\"hoverlabel\":{\"align\":\"left\"},\"paper_bgcolor\":\"white\",\"plot_bgcolor\":\"#E5ECF6\",\"polar\":{\"bgcolor\":\"#E5ECF6\",\"angularaxis\":{\"gridcolor\":\"white\",\"linecolor\":\"white\",\"ticks\":\"\"},\"radialaxis\":{\"gridcolor\":\"white\",\"linecolor\":\"white\",\"ticks\":\"\"}},\"ternary\":{\"bgcolor\":\"#E5ECF6\",\"aaxis\":{\"gridcolor\":\"white\",\"linecolor\":\"white\",\"ticks\":\"\"},\"baxis\":{\"gridcolor\":\"white\",\"linecolor\":\"white\",\"ticks\":\"\"},\"caxis\":{\"gridcolor\":\"white\",\"linecolor\":\"white\",\"ticks\":\"\"}},\"coloraxis\":{\"colorbar\":{\"outlinewidth\":0,\"ticks\":\"\"}},\"colorscale\":{\"sequential\":[[0.0,\"#0d0887\"],[0.1111111111111111,\"#46039f\"],[0.2222222222222222,\"#7201a8\"],[0.3333333333333333,\"#9c179e\"],[0.4444444444444444,\"#bd3786\"],[0.5555555555555556,\"#d8576b\"],[0.6666666666666666,\"#ed7953\"],[0.7777777777777778,\"#fb9f3a\"],[0.8888888888888888,\"#fdca26\"],[1.0,\"#f0f921\"]],\"sequentialminus\":[[0.0,\"#0d0887\"],[0.1111111111111111,\"#46039f\"],[0.2222222222222222,\"#7201a8\"],[0.3333333333333333,\"#9c179e\"],[0.4444444444444444,\"#bd3786\"],[0.5555555555555556,\"#d8576b\"],[0.6666666666666666,\"#ed7953\"],[0.7777777777777778,\"#fb9f3a\"],[0.8888888888888888,\"#fdca26\"],[1.0,\"#f0f921\"]],\"diverging\":[[0,\"#8e0152\"],[0.1,\"#c51b7d\"],[0.2,\"#de77ae\"],[0.3,\"#f1b6da\"],[0.4,\"#fde0ef\"],[0.5,\"#f7f7f7\"],[0.6,\"#e6f5d0\"],[0.7,\"#b8e186\"],[0.8,\"#7fbc41\"],[0.9,\"#4d9221\"],[1,\"#276419\"]]},\"xaxis\":{\"gridcolor\":\"white\",\"linecolor\":\"white\",\"ticks\":\"\",\"title\":{\"standoff\":15},\"zerolinecolor\":\"white\",\"automargin\":true,\"zerolinewidth\":2},\"yaxis\":{\"gridcolor\":\"white\",\"linecolor\":\"white\",\"ticks\":\"\",\"title\":{\"standoff\":15},\"zerolinecolor\":\"white\",\"automargin\":true,\"zerolinewidth\":2},\"scene\":{\"xaxis\":{\"backgroundcolor\":\"#E5ECF6\",\"gridcolor\":\"white\",\"linecolor\":\"white\",\"showbackground\":true,\"ticks\":\"\",\"zerolinecolor\":\"white\",\"gridwidth\":2},\"yaxis\":{\"backgroundcolor\":\"#E5ECF6\",\"gridcolor\":\"white\",\"linecolor\":\"white\",\"showbackground\":true,\"ticks\":\"\",\"zerolinecolor\":\"white\",\"gridwidth\":2},\"zaxis\":{\"backgroundcolor\":\"#E5ECF6\",\"gridcolor\":\"white\",\"linecolor\":\"white\",\"showbackground\":true,\"ticks\":\"\",\"zerolinecolor\":\"white\",\"gridwidth\":2}},\"shapedefaults\":{\"line\":{\"color\":\"#2a3f5f\"}},\"annotationdefaults\":{\"arrowcolor\":\"#2a3f5f\",\"arrowhead\":0,\"arrowwidth\":1},\"geo\":{\"bgcolor\":\"white\",\"landcolor\":\"#E5ECF6\",\"subunitcolor\":\"white\",\"showland\":true,\"showlakes\":true,\"lakecolor\":\"white\"},\"title\":{\"x\":0.05},\"mapbox\":{\"style\":\"light\"}}},\"xaxis\":{\"anchor\":\"y\",\"domain\":[0.0,1.0],\"title\":{\"text\":\"PC 3 (3.4%)\"}},\"yaxis\":{\"anchor\":\"x\",\"domain\":[0.0,1.0],\"title\":{\"text\":\"PC 4 (1.5%)\"}},\"legend\":{\"title\":{\"text\":\"color, symbol\"},\"tracegroupgap\":0},\"margin\":{\"t\":60},\"height\":600,\"width\":600,\"plot_bgcolor\":\"rgb(243,243,243)\"},                        {\"responsive\": true}                    ).then(function(){\n",
       "                            \n",
       "var gd = document.getElementById('1adf4c16-f560-4d42-9766-312e45c9dafa');\n",
       "var x = new MutationObserver(function (mutations, observer) {{\n",
       "        var display = window.getComputedStyle(gd).display;\n",
       "        if (!display || display === 'none') {{\n",
       "            console.log([gd, 'removed!']);\n",
       "            Plotly.purge(gd);\n",
       "            observer.disconnect();\n",
       "        }}\n",
       "}});\n",
       "\n",
       "// Listen for the removal of the full notebook cells\n",
       "var notebookContainer = gd.closest('#notebook-container');\n",
       "if (notebookContainer) {{\n",
       "    x.observe(notebookContainer, {childList: true});\n",
       "}}\n",
       "\n",
       "// Listen for the clearing of the current output cell\n",
       "var outputEl = gd.closest('.output');\n",
       "if (outputEl) {{\n",
       "    x.observe(outputEl, {childList: true});\n",
       "}}\n",
       "\n",
       "                        })                };                });            </script>        </div>"
      ]
     },
     "metadata": {},
     "output_type": "display_data"
    }
   ],
   "source": [
    "pca_all = run_PCA(dat_exons, x_1=1, x_2=2, col='time', shape='condition', scale_d=True, log=False);\n",
    "run_PCA(dat_exons, x_1=1, x_2=2, col='replicate', shape='feature', scale_d=True, log=False);\n",
    "\n",
    "run_PCA(dat_exons, x_1=2, x_2=3, col='time', shape='condition', scale_d=True, log=False);\n",
    "run_PCA(dat_exons, x_1=2, x_2=3, col='replicate', shape='feature', scale_d=True, log=False);\n",
    "\n",
    "run_PCA(dat_exons, x_1=3, x_2=4, col='time', shape='condition', scale_d=True, log=False);\n",
    "run_PCA(dat_exons, x_1=3, x_2=4, col='replicate', shape='feature', scale_d=True, log=False);"
   ]
  },
  {
   "cell_type": "code",
   "execution_count": 106,
   "id": "25c5518f",
   "metadata": {},
   "outputs": [
    {
     "data": {
      "application/vnd.plotly.v1+json": {
       "config": {
        "plotlyServerURL": "https://plot.ly"
       },
       "data": [
        {
         "hovertemplate": "color=00<br>symbol=WT<br>0=%{x}<br>1=%{y}<extra></extra>",
         "legendgroup": "00, WT",
         "marker": {
          "color": "#636efa",
          "size": 13,
          "symbol": "circle"
         },
         "mode": "markers",
         "name": "00, WT",
         "orientation": "v",
         "showlegend": true,
         "type": "scatter",
         "x": [
          3.139468831210143,
          2.4096567967043963,
          0.9400777330571333,
          0.5529273146877808,
          3.4486702348781932,
          3.2908986373266065,
          3.108578549781031,
          2.7820181541279103
         ],
         "xaxis": "x",
         "y": [
          0.9338208057473384,
          2.3147239008942107,
          3.394936197015489,
          3.435388997483651,
          0.5358111570199036,
          0.9164821375236152,
          1.8014721872590633,
          1.9851787102487
         ],
         "yaxis": "y"
        },
        {
         "hovertemplate": "color=02<br>symbol=WT<br>0=%{x}<br>1=%{y}<extra></extra>",
         "legendgroup": "02, WT",
         "marker": {
          "color": "#EF553B",
          "size": 13,
          "symbol": "circle"
         },
         "mode": "markers",
         "name": "02, WT",
         "orientation": "v",
         "showlegend": true,
         "type": "scatter",
         "x": [
          -0.4158109674792232,
          -1.9199688461422786,
          -1.5743708377454226,
          -2.0539738569136063,
          2.877111774099904,
          1.6181101456589235,
          1.7611686761732257,
          1.4417221598215855
         ],
         "xaxis": "x",
         "y": [
          3.146919992069909,
          1.1435698432792263,
          2.6762604169437316,
          1.758023738931877,
          2.016636913216894,
          2.3905915088374683,
          2.714084586531341,
          2.0644551089616625
         ],
         "yaxis": "y"
        },
        {
         "hovertemplate": "color=04<br>symbol=WT<br>0=%{x}<br>1=%{y}<extra></extra>",
         "legendgroup": "04, WT",
         "marker": {
          "color": "#00cc96",
          "size": 13,
          "symbol": "circle"
         },
         "mode": "markers",
         "name": "04, WT",
         "orientation": "v",
         "showlegend": true,
         "type": "scatter",
         "x": [
          -2.164514762937479,
          -1.0262658874422241,
          -2.775466445646567,
          -1.2580180180782348,
          0.7440716278666832,
          1.8569426229618355,
          -1.3037431365477359,
          1.9304588827778075
         ],
         "xaxis": "x",
         "y": [
          1.9357239323776905,
          2.916261991320024,
          0.9043395315690852,
          2.4787821333792044,
          2.442668056792678,
          2.5910200018699405,
          1.055537992977617,
          2.5363769879575453
         ],
         "yaxis": "y"
        },
        {
         "hovertemplate": "color=06<br>symbol=WT<br>0=%{x}<br>1=%{y}<extra></extra>",
         "legendgroup": "06, WT",
         "marker": {
          "color": "#ab63fa",
          "size": 13,
          "symbol": "circle"
         },
         "mode": "markers",
         "name": "06, WT",
         "orientation": "v",
         "showlegend": true,
         "type": "scatter",
         "x": [
          -2.7451537549473977,
          -2.6829929205191814,
          -2.842524547637593,
          -2.6783946569513883,
          -1.2175103495037332,
          -0.9067271175918578,
          -1.410563543424996,
          -1.07437736693362
         ],
         "xaxis": "x",
         "y": [
          1.0159646961914681,
          1.0066010227301574,
          0.6415673828826396,
          1.0056254514850482,
          1.5237931526169364,
          1.6979190211715622,
          0.9207138745763037,
          1.3944837956632958
         ],
         "yaxis": "y"
        },
        {
         "hovertemplate": "color=08<br>symbol=WT<br>0=%{x}<br>1=%{y}<extra></extra>",
         "legendgroup": "08, WT",
         "marker": {
          "color": "#FFA15A",
          "size": 13,
          "symbol": "circle"
         },
         "mode": "markers",
         "name": "08, WT",
         "orientation": "v",
         "showlegend": true,
         "type": "scatter",
         "x": [
          -2.871667620753836,
          -2.6694228716452195,
          -2.711266034839194,
          -2.9347661291814306,
          -1.7720637504522156,
          -1.863643289817785,
          -1.8491180602285515,
          -1.8581961654267072
         ],
         "xaxis": "x",
         "y": [
          0.2412630550293468,
          -0.6737891453790422,
          -0.5210136385574916,
          0.3117645166841322,
          0.2124927866909282,
          -0.4983342698569592,
          -0.41572244223502763,
          0.5906499509211435
         ],
         "yaxis": "y"
        },
        {
         "hovertemplate": "color=10<br>symbol=WT<br>0=%{x}<br>1=%{y}<extra></extra>",
         "legendgroup": "10, WT",
         "marker": {
          "color": "#19d3f3",
          "size": 13,
          "symbol": "circle"
         },
         "mode": "markers",
         "name": "10, WT",
         "orientation": "v",
         "showlegend": true,
         "type": "scatter",
         "x": [
          -2.7592529994864186,
          -2.8491051058863777,
          -2.5023858475017677,
          -2.8706397454773436,
          -1.8239948711288763,
          -1.951410731710397,
          -1.4562783029587143,
          -1.9016904030592165
         ],
         "xaxis": "x",
         "y": [
          -0.27730931794635355,
          -0.2402592457477616,
          -0.8869833503775059,
          -0.3067145218869309,
          -0.1627713329672777,
          -0.3281857758573428,
          -0.9339856996480593,
          -0.2550396604827015
         ],
         "yaxis": "y"
        },
        {
         "hovertemplate": "color=12<br>symbol=WT<br>0=%{x}<br>1=%{y}<extra></extra>",
         "legendgroup": "12, WT",
         "marker": {
          "color": "#FF6692",
          "size": 13,
          "symbol": "circle"
         },
         "mode": "markers",
         "name": "12, WT",
         "orientation": "v",
         "showlegend": true,
         "type": "scatter",
         "x": [
          -2.159636069823674,
          -2.4076571963631666,
          -2.500242365633226,
          -2.1680465693434527,
          -1.1481228450087944,
          -1.6046001819596374,
          -1.643241966838585,
          -0.8017143730313133
         ],
         "xaxis": "x",
         "y": [
          -1.183312045427898,
          -1.0252316961163632,
          -0.9662421235660628,
          -1.1176251044141212,
          -0.9472602311027467,
          -0.975666094690166,
          -0.8054500537729764,
          -0.9870720178437262
         ],
         "yaxis": "y"
        },
        {
         "hovertemplate": "color=14<br>symbol=WT<br>0=%{x}<br>1=%{y}<extra></extra>",
         "legendgroup": "14, WT",
         "marker": {
          "color": "#B6E880",
          "size": 13,
          "symbol": "circle"
         },
         "mode": "markers",
         "name": "14, WT",
         "orientation": "v",
         "showlegend": true,
         "type": "scatter",
         "x": [
          -1.8707904236496529,
          -0.5740252891191248,
          -2.0013733160267595,
          -1.0900950543052061,
          -0.35329003125688163,
          0.3339057516870727,
          -0.7144916648854222,
          0.2939799746666011
         ],
         "xaxis": "x",
         "y": [
          -1.0436902077459806,
          -1.7510701218415736,
          -1.0992323898444958,
          -1.3299189345564602,
          -1.0693332113022496,
          -1.2503252654488783,
          -0.9892176468918458,
          -1.1521042943417623
         ],
         "yaxis": "y"
        },
        {
         "hovertemplate": "color=16<br>symbol=WT<br>0=%{x}<br>1=%{y}<extra></extra>",
         "legendgroup": "16, WT",
         "marker": {
          "color": "#FF97FF",
          "size": 13,
          "symbol": "circle"
         },
         "mode": "markers",
         "name": "16, WT",
         "orientation": "v",
         "showlegend": true,
         "type": "scatter",
         "x": [
          -0.5989880052934549,
          0.19747843528258352,
          -0.1456694029021436,
          -0.36713162484826495,
          0.384895379383665,
          1.1225174725152243,
          0.8822155365815927,
          0.44140252013571907
         ],
         "xaxis": "x",
         "y": [
          -1.8008919889024435,
          -1.610936146173276,
          -1.7850133140459443,
          -1.7905247750815718,
          -1.1141141158453451,
          -1.075648969779396,
          -1.1253497628182634,
          -1.0421394848582546
         ],
         "yaxis": "y"
        },
        {
         "hovertemplate": "color=18<br>symbol=WT<br>0=%{x}<br>1=%{y}<extra></extra>",
         "legendgroup": "18, WT",
         "marker": {
          "color": "#FECB52",
          "size": 13,
          "symbol": "circle"
         },
         "mode": "markers",
         "name": "18, WT",
         "orientation": "v",
         "showlegend": true,
         "type": "scatter",
         "x": [
          -0.24476574922906263,
          1.6568903971290811,
          1.5062703091112168,
          0.8491267012396031,
          1.010809962495503,
          1.8059210185665857,
          1.7942507257109255,
          1.3856862545627409
         ],
         "xaxis": "x",
         "y": [
          -1.9902083266931663,
          -1.9522410555538867,
          -1.7730149279396197,
          -1.9593216635293056,
          -0.9770828604639302,
          -1.3300548670068262,
          -1.1758225044501838,
          -1.278976729561046
         ],
         "yaxis": "y"
        },
        {
         "hovertemplate": "color=20<br>symbol=WT<br>0=%{x}<br>1=%{y}<extra></extra>",
         "legendgroup": "20, WT",
         "marker": {
          "color": "#636efa",
          "size": 13,
          "symbol": "circle"
         },
         "mode": "markers",
         "name": "20, WT",
         "orientation": "v",
         "showlegend": true,
         "type": "scatter",
         "x": [
          2.5520520847501653,
          3.062931922212817,
          1.2542841153018993,
          1.1768864020324896,
          3.1939704362138523,
          3.2826045643908044,
          2.3128997468930237,
          2.1395577239207926
         ],
         "xaxis": "x",
         "y": [
          -1.2267376314804779,
          -1.1639967965661564,
          -2.004151993590083,
          -1.8364516282180297,
          -0.8625220988310626,
          -0.9572077839933525,
          -0.9899965361541804,
          -1.0798153133422923
         ],
         "yaxis": "y"
        },
        {
         "hovertemplate": "color=22<br>symbol=WT<br>0=%{x}<br>1=%{y}<extra></extra>",
         "legendgroup": "22, WT",
         "marker": {
          "color": "#EF553B",
          "size": 13,
          "symbol": "circle"
         },
         "mode": "markers",
         "name": "22, WT",
         "orientation": "v",
         "showlegend": true,
         "type": "scatter",
         "x": [
          3.3395964813407217,
          3.450346461155349,
          2.7910462601087467,
          2.2501973641411386,
          3.458338529322877,
          3.301685950478966,
          3.002465727880305,
          2.953064725169201
         ],
         "xaxis": "x",
         "y": [
          0.024211547277230308,
          -0.290919790638993,
          -1.3264189382415688,
          -0.7436073654329041,
          -0.019765337850230505,
          0.09616250932080908,
          -0.8101056224484938,
          -0.4863814241088203
         ],
         "yaxis": "y"
        }
       ],
       "layout": {
        "height": 600,
        "legend": {
         "title": {
          "text": "color, symbol"
         },
         "tracegroupgap": 0
        },
        "margin": {
         "t": 60
        },
        "plot_bgcolor": "rgb(243,243,243)",
        "template": {
         "data": {
          "bar": [
           {
            "error_x": {
             "color": "#2a3f5f"
            },
            "error_y": {
             "color": "#2a3f5f"
            },
            "marker": {
             "line": {
              "color": "#E5ECF6",
              "width": 0.5
             },
             "pattern": {
              "fillmode": "overlay",
              "size": 10,
              "solidity": 0.2
             }
            },
            "type": "bar"
           }
          ],
          "barpolar": [
           {
            "marker": {
             "line": {
              "color": "#E5ECF6",
              "width": 0.5
             },
             "pattern": {
              "fillmode": "overlay",
              "size": 10,
              "solidity": 0.2
             }
            },
            "type": "barpolar"
           }
          ],
          "carpet": [
           {
            "aaxis": {
             "endlinecolor": "#2a3f5f",
             "gridcolor": "white",
             "linecolor": "white",
             "minorgridcolor": "white",
             "startlinecolor": "#2a3f5f"
            },
            "baxis": {
             "endlinecolor": "#2a3f5f",
             "gridcolor": "white",
             "linecolor": "white",
             "minorgridcolor": "white",
             "startlinecolor": "#2a3f5f"
            },
            "type": "carpet"
           }
          ],
          "choropleth": [
           {
            "colorbar": {
             "outlinewidth": 0,
             "ticks": ""
            },
            "type": "choropleth"
           }
          ],
          "contour": [
           {
            "colorbar": {
             "outlinewidth": 0,
             "ticks": ""
            },
            "colorscale": [
             [
              0,
              "#0d0887"
             ],
             [
              0.1111111111111111,
              "#46039f"
             ],
             [
              0.2222222222222222,
              "#7201a8"
             ],
             [
              0.3333333333333333,
              "#9c179e"
             ],
             [
              0.4444444444444444,
              "#bd3786"
             ],
             [
              0.5555555555555556,
              "#d8576b"
             ],
             [
              0.6666666666666666,
              "#ed7953"
             ],
             [
              0.7777777777777778,
              "#fb9f3a"
             ],
             [
              0.8888888888888888,
              "#fdca26"
             ],
             [
              1,
              "#f0f921"
             ]
            ],
            "type": "contour"
           }
          ],
          "contourcarpet": [
           {
            "colorbar": {
             "outlinewidth": 0,
             "ticks": ""
            },
            "type": "contourcarpet"
           }
          ],
          "heatmap": [
           {
            "colorbar": {
             "outlinewidth": 0,
             "ticks": ""
            },
            "colorscale": [
             [
              0,
              "#0d0887"
             ],
             [
              0.1111111111111111,
              "#46039f"
             ],
             [
              0.2222222222222222,
              "#7201a8"
             ],
             [
              0.3333333333333333,
              "#9c179e"
             ],
             [
              0.4444444444444444,
              "#bd3786"
             ],
             [
              0.5555555555555556,
              "#d8576b"
             ],
             [
              0.6666666666666666,
              "#ed7953"
             ],
             [
              0.7777777777777778,
              "#fb9f3a"
             ],
             [
              0.8888888888888888,
              "#fdca26"
             ],
             [
              1,
              "#f0f921"
             ]
            ],
            "type": "heatmap"
           }
          ],
          "heatmapgl": [
           {
            "colorbar": {
             "outlinewidth": 0,
             "ticks": ""
            },
            "colorscale": [
             [
              0,
              "#0d0887"
             ],
             [
              0.1111111111111111,
              "#46039f"
             ],
             [
              0.2222222222222222,
              "#7201a8"
             ],
             [
              0.3333333333333333,
              "#9c179e"
             ],
             [
              0.4444444444444444,
              "#bd3786"
             ],
             [
              0.5555555555555556,
              "#d8576b"
             ],
             [
              0.6666666666666666,
              "#ed7953"
             ],
             [
              0.7777777777777778,
              "#fb9f3a"
             ],
             [
              0.8888888888888888,
              "#fdca26"
             ],
             [
              1,
              "#f0f921"
             ]
            ],
            "type": "heatmapgl"
           }
          ],
          "histogram": [
           {
            "marker": {
             "pattern": {
              "fillmode": "overlay",
              "size": 10,
              "solidity": 0.2
             }
            },
            "type": "histogram"
           }
          ],
          "histogram2d": [
           {
            "colorbar": {
             "outlinewidth": 0,
             "ticks": ""
            },
            "colorscale": [
             [
              0,
              "#0d0887"
             ],
             [
              0.1111111111111111,
              "#46039f"
             ],
             [
              0.2222222222222222,
              "#7201a8"
             ],
             [
              0.3333333333333333,
              "#9c179e"
             ],
             [
              0.4444444444444444,
              "#bd3786"
             ],
             [
              0.5555555555555556,
              "#d8576b"
             ],
             [
              0.6666666666666666,
              "#ed7953"
             ],
             [
              0.7777777777777778,
              "#fb9f3a"
             ],
             [
              0.8888888888888888,
              "#fdca26"
             ],
             [
              1,
              "#f0f921"
             ]
            ],
            "type": "histogram2d"
           }
          ],
          "histogram2dcontour": [
           {
            "colorbar": {
             "outlinewidth": 0,
             "ticks": ""
            },
            "colorscale": [
             [
              0,
              "#0d0887"
             ],
             [
              0.1111111111111111,
              "#46039f"
             ],
             [
              0.2222222222222222,
              "#7201a8"
             ],
             [
              0.3333333333333333,
              "#9c179e"
             ],
             [
              0.4444444444444444,
              "#bd3786"
             ],
             [
              0.5555555555555556,
              "#d8576b"
             ],
             [
              0.6666666666666666,
              "#ed7953"
             ],
             [
              0.7777777777777778,
              "#fb9f3a"
             ],
             [
              0.8888888888888888,
              "#fdca26"
             ],
             [
              1,
              "#f0f921"
             ]
            ],
            "type": "histogram2dcontour"
           }
          ],
          "mesh3d": [
           {
            "colorbar": {
             "outlinewidth": 0,
             "ticks": ""
            },
            "type": "mesh3d"
           }
          ],
          "parcoords": [
           {
            "line": {
             "colorbar": {
              "outlinewidth": 0,
              "ticks": ""
             }
            },
            "type": "parcoords"
           }
          ],
          "pie": [
           {
            "automargin": true,
            "type": "pie"
           }
          ],
          "scatter": [
           {
            "fillpattern": {
             "fillmode": "overlay",
             "size": 10,
             "solidity": 0.2
            },
            "type": "scatter"
           }
          ],
          "scatter3d": [
           {
            "line": {
             "colorbar": {
              "outlinewidth": 0,
              "ticks": ""
             }
            },
            "marker": {
             "colorbar": {
              "outlinewidth": 0,
              "ticks": ""
             }
            },
            "type": "scatter3d"
           }
          ],
          "scattercarpet": [
           {
            "marker": {
             "colorbar": {
              "outlinewidth": 0,
              "ticks": ""
             }
            },
            "type": "scattercarpet"
           }
          ],
          "scattergeo": [
           {
            "marker": {
             "colorbar": {
              "outlinewidth": 0,
              "ticks": ""
             }
            },
            "type": "scattergeo"
           }
          ],
          "scattergl": [
           {
            "marker": {
             "colorbar": {
              "outlinewidth": 0,
              "ticks": ""
             }
            },
            "type": "scattergl"
           }
          ],
          "scattermapbox": [
           {
            "marker": {
             "colorbar": {
              "outlinewidth": 0,
              "ticks": ""
             }
            },
            "type": "scattermapbox"
           }
          ],
          "scatterpolar": [
           {
            "marker": {
             "colorbar": {
              "outlinewidth": 0,
              "ticks": ""
             }
            },
            "type": "scatterpolar"
           }
          ],
          "scatterpolargl": [
           {
            "marker": {
             "colorbar": {
              "outlinewidth": 0,
              "ticks": ""
             }
            },
            "type": "scatterpolargl"
           }
          ],
          "scatterternary": [
           {
            "marker": {
             "colorbar": {
              "outlinewidth": 0,
              "ticks": ""
             }
            },
            "type": "scatterternary"
           }
          ],
          "surface": [
           {
            "colorbar": {
             "outlinewidth": 0,
             "ticks": ""
            },
            "colorscale": [
             [
              0,
              "#0d0887"
             ],
             [
              0.1111111111111111,
              "#46039f"
             ],
             [
              0.2222222222222222,
              "#7201a8"
             ],
             [
              0.3333333333333333,
              "#9c179e"
             ],
             [
              0.4444444444444444,
              "#bd3786"
             ],
             [
              0.5555555555555556,
              "#d8576b"
             ],
             [
              0.6666666666666666,
              "#ed7953"
             ],
             [
              0.7777777777777778,
              "#fb9f3a"
             ],
             [
              0.8888888888888888,
              "#fdca26"
             ],
             [
              1,
              "#f0f921"
             ]
            ],
            "type": "surface"
           }
          ],
          "table": [
           {
            "cells": {
             "fill": {
              "color": "#EBF0F8"
             },
             "line": {
              "color": "white"
             }
            },
            "header": {
             "fill": {
              "color": "#C8D4E3"
             },
             "line": {
              "color": "white"
             }
            },
            "type": "table"
           }
          ]
         },
         "layout": {
          "annotationdefaults": {
           "arrowcolor": "#2a3f5f",
           "arrowhead": 0,
           "arrowwidth": 1
          },
          "autotypenumbers": "strict",
          "coloraxis": {
           "colorbar": {
            "outlinewidth": 0,
            "ticks": ""
           }
          },
          "colorscale": {
           "diverging": [
            [
             0,
             "#8e0152"
            ],
            [
             0.1,
             "#c51b7d"
            ],
            [
             0.2,
             "#de77ae"
            ],
            [
             0.3,
             "#f1b6da"
            ],
            [
             0.4,
             "#fde0ef"
            ],
            [
             0.5,
             "#f7f7f7"
            ],
            [
             0.6,
             "#e6f5d0"
            ],
            [
             0.7,
             "#b8e186"
            ],
            [
             0.8,
             "#7fbc41"
            ],
            [
             0.9,
             "#4d9221"
            ],
            [
             1,
             "#276419"
            ]
           ],
           "sequential": [
            [
             0,
             "#0d0887"
            ],
            [
             0.1111111111111111,
             "#46039f"
            ],
            [
             0.2222222222222222,
             "#7201a8"
            ],
            [
             0.3333333333333333,
             "#9c179e"
            ],
            [
             0.4444444444444444,
             "#bd3786"
            ],
            [
             0.5555555555555556,
             "#d8576b"
            ],
            [
             0.6666666666666666,
             "#ed7953"
            ],
            [
             0.7777777777777778,
             "#fb9f3a"
            ],
            [
             0.8888888888888888,
             "#fdca26"
            ],
            [
             1,
             "#f0f921"
            ]
           ],
           "sequentialminus": [
            [
             0,
             "#0d0887"
            ],
            [
             0.1111111111111111,
             "#46039f"
            ],
            [
             0.2222222222222222,
             "#7201a8"
            ],
            [
             0.3333333333333333,
             "#9c179e"
            ],
            [
             0.4444444444444444,
             "#bd3786"
            ],
            [
             0.5555555555555556,
             "#d8576b"
            ],
            [
             0.6666666666666666,
             "#ed7953"
            ],
            [
             0.7777777777777778,
             "#fb9f3a"
            ],
            [
             0.8888888888888888,
             "#fdca26"
            ],
            [
             1,
             "#f0f921"
            ]
           ]
          },
          "colorway": [
           "#636efa",
           "#EF553B",
           "#00cc96",
           "#ab63fa",
           "#FFA15A",
           "#19d3f3",
           "#FF6692",
           "#B6E880",
           "#FF97FF",
           "#FECB52"
          ],
          "font": {
           "color": "#2a3f5f"
          },
          "geo": {
           "bgcolor": "white",
           "lakecolor": "white",
           "landcolor": "#E5ECF6",
           "showlakes": true,
           "showland": true,
           "subunitcolor": "white"
          },
          "hoverlabel": {
           "align": "left"
          },
          "hovermode": "closest",
          "mapbox": {
           "style": "light"
          },
          "paper_bgcolor": "white",
          "plot_bgcolor": "#E5ECF6",
          "polar": {
           "angularaxis": {
            "gridcolor": "white",
            "linecolor": "white",
            "ticks": ""
           },
           "bgcolor": "#E5ECF6",
           "radialaxis": {
            "gridcolor": "white",
            "linecolor": "white",
            "ticks": ""
           }
          },
          "scene": {
           "xaxis": {
            "backgroundcolor": "#E5ECF6",
            "gridcolor": "white",
            "gridwidth": 2,
            "linecolor": "white",
            "showbackground": true,
            "ticks": "",
            "zerolinecolor": "white"
           },
           "yaxis": {
            "backgroundcolor": "#E5ECF6",
            "gridcolor": "white",
            "gridwidth": 2,
            "linecolor": "white",
            "showbackground": true,
            "ticks": "",
            "zerolinecolor": "white"
           },
           "zaxis": {
            "backgroundcolor": "#E5ECF6",
            "gridcolor": "white",
            "gridwidth": 2,
            "linecolor": "white",
            "showbackground": true,
            "ticks": "",
            "zerolinecolor": "white"
           }
          },
          "shapedefaults": {
           "line": {
            "color": "#2a3f5f"
           }
          },
          "ternary": {
           "aaxis": {
            "gridcolor": "white",
            "linecolor": "white",
            "ticks": ""
           },
           "baxis": {
            "gridcolor": "white",
            "linecolor": "white",
            "ticks": ""
           },
           "bgcolor": "#E5ECF6",
           "caxis": {
            "gridcolor": "white",
            "linecolor": "white",
            "ticks": ""
           }
          },
          "title": {
           "x": 0.05
          },
          "xaxis": {
           "automargin": true,
           "gridcolor": "white",
           "linecolor": "white",
           "ticks": "",
           "title": {
            "standoff": 15
           },
           "zerolinecolor": "white",
           "zerolinewidth": 2
          },
          "yaxis": {
           "automargin": true,
           "gridcolor": "white",
           "linecolor": "white",
           "ticks": "",
           "title": {
            "standoff": 15
           },
           "zerolinecolor": "white",
           "zerolinewidth": 2
          }
         }
        },
        "width": 600,
        "xaxis": {
         "anchor": "y",
         "domain": [
          0,
          1
         ],
         "title": {
          "text": "PC 1 (53.8%)"
         }
        },
        "yaxis": {
         "anchor": "x",
         "domain": [
          0,
          1
         ],
         "title": {
          "text": "PC 2 (27.3%)"
         }
        }
       }
      },
      "text/html": [
       "<div>                            <div id=\"8352b3f7-4838-4ad4-91e9-c8b61abd9c73\" class=\"plotly-graph-div\" style=\"height:600px; width:600px;\"></div>            <script type=\"text/javascript\">                require([\"plotly\"], function(Plotly) {                    window.PLOTLYENV=window.PLOTLYENV || {};                                    if (document.getElementById(\"8352b3f7-4838-4ad4-91e9-c8b61abd9c73\")) {                    Plotly.newPlot(                        \"8352b3f7-4838-4ad4-91e9-c8b61abd9c73\",                        [{\"hovertemplate\":\"color=00<br>symbol=WT<br>0=%{x}<br>1=%{y}<extra></extra>\",\"legendgroup\":\"00, WT\",\"marker\":{\"color\":\"#636efa\",\"symbol\":\"circle\",\"size\":13},\"mode\":\"markers\",\"name\":\"00, WT\",\"orientation\":\"v\",\"showlegend\":true,\"x\":[3.139468831210143,2.4096567967043963,0.9400777330571333,0.5529273146877808,3.4486702348781932,3.2908986373266065,3.108578549781031,2.7820181541279103],\"xaxis\":\"x\",\"y\":[0.9338208057473384,2.3147239008942107,3.394936197015489,3.435388997483651,0.5358111570199036,0.9164821375236152,1.8014721872590633,1.9851787102487],\"yaxis\":\"y\",\"type\":\"scatter\"},{\"hovertemplate\":\"color=02<br>symbol=WT<br>0=%{x}<br>1=%{y}<extra></extra>\",\"legendgroup\":\"02, WT\",\"marker\":{\"color\":\"#EF553B\",\"symbol\":\"circle\",\"size\":13},\"mode\":\"markers\",\"name\":\"02, WT\",\"orientation\":\"v\",\"showlegend\":true,\"x\":[-0.4158109674792232,-1.9199688461422786,-1.5743708377454226,-2.0539738569136063,2.877111774099904,1.6181101456589235,1.7611686761732257,1.4417221598215855],\"xaxis\":\"x\",\"y\":[3.146919992069909,1.1435698432792263,2.6762604169437316,1.758023738931877,2.016636913216894,2.3905915088374683,2.714084586531341,2.0644551089616625],\"yaxis\":\"y\",\"type\":\"scatter\"},{\"hovertemplate\":\"color=04<br>symbol=WT<br>0=%{x}<br>1=%{y}<extra></extra>\",\"legendgroup\":\"04, WT\",\"marker\":{\"color\":\"#00cc96\",\"symbol\":\"circle\",\"size\":13},\"mode\":\"markers\",\"name\":\"04, WT\",\"orientation\":\"v\",\"showlegend\":true,\"x\":[-2.164514762937479,-1.0262658874422241,-2.775466445646567,-1.2580180180782348,0.7440716278666832,1.8569426229618355,-1.3037431365477359,1.9304588827778075],\"xaxis\":\"x\",\"y\":[1.9357239323776905,2.916261991320024,0.9043395315690852,2.4787821333792044,2.442668056792678,2.5910200018699405,1.055537992977617,2.5363769879575453],\"yaxis\":\"y\",\"type\":\"scatter\"},{\"hovertemplate\":\"color=06<br>symbol=WT<br>0=%{x}<br>1=%{y}<extra></extra>\",\"legendgroup\":\"06, WT\",\"marker\":{\"color\":\"#ab63fa\",\"symbol\":\"circle\",\"size\":13},\"mode\":\"markers\",\"name\":\"06, WT\",\"orientation\":\"v\",\"showlegend\":true,\"x\":[-2.7451537549473977,-2.6829929205191814,-2.842524547637593,-2.6783946569513883,-1.2175103495037332,-0.9067271175918578,-1.410563543424996,-1.07437736693362],\"xaxis\":\"x\",\"y\":[1.0159646961914681,1.0066010227301574,0.6415673828826396,1.0056254514850482,1.5237931526169364,1.6979190211715622,0.9207138745763037,1.3944837956632958],\"yaxis\":\"y\",\"type\":\"scatter\"},{\"hovertemplate\":\"color=08<br>symbol=WT<br>0=%{x}<br>1=%{y}<extra></extra>\",\"legendgroup\":\"08, WT\",\"marker\":{\"color\":\"#FFA15A\",\"symbol\":\"circle\",\"size\":13},\"mode\":\"markers\",\"name\":\"08, WT\",\"orientation\":\"v\",\"showlegend\":true,\"x\":[-2.871667620753836,-2.6694228716452195,-2.711266034839194,-2.9347661291814306,-1.7720637504522156,-1.863643289817785,-1.8491180602285515,-1.8581961654267072],\"xaxis\":\"x\",\"y\":[0.2412630550293468,-0.6737891453790422,-0.5210136385574916,0.3117645166841322,0.2124927866909282,-0.4983342698569592,-0.41572244223502763,0.5906499509211435],\"yaxis\":\"y\",\"type\":\"scatter\"},{\"hovertemplate\":\"color=10<br>symbol=WT<br>0=%{x}<br>1=%{y}<extra></extra>\",\"legendgroup\":\"10, WT\",\"marker\":{\"color\":\"#19d3f3\",\"symbol\":\"circle\",\"size\":13},\"mode\":\"markers\",\"name\":\"10, WT\",\"orientation\":\"v\",\"showlegend\":true,\"x\":[-2.7592529994864186,-2.8491051058863777,-2.5023858475017677,-2.8706397454773436,-1.8239948711288763,-1.951410731710397,-1.4562783029587143,-1.9016904030592165],\"xaxis\":\"x\",\"y\":[-0.27730931794635355,-0.2402592457477616,-0.8869833503775059,-0.3067145218869309,-0.1627713329672777,-0.3281857758573428,-0.9339856996480593,-0.2550396604827015],\"yaxis\":\"y\",\"type\":\"scatter\"},{\"hovertemplate\":\"color=12<br>symbol=WT<br>0=%{x}<br>1=%{y}<extra></extra>\",\"legendgroup\":\"12, WT\",\"marker\":{\"color\":\"#FF6692\",\"symbol\":\"circle\",\"size\":13},\"mode\":\"markers\",\"name\":\"12, WT\",\"orientation\":\"v\",\"showlegend\":true,\"x\":[-2.159636069823674,-2.4076571963631666,-2.500242365633226,-2.1680465693434527,-1.1481228450087944,-1.6046001819596374,-1.643241966838585,-0.8017143730313133],\"xaxis\":\"x\",\"y\":[-1.183312045427898,-1.0252316961163632,-0.9662421235660628,-1.1176251044141212,-0.9472602311027467,-0.975666094690166,-0.8054500537729764,-0.9870720178437262],\"yaxis\":\"y\",\"type\":\"scatter\"},{\"hovertemplate\":\"color=14<br>symbol=WT<br>0=%{x}<br>1=%{y}<extra></extra>\",\"legendgroup\":\"14, WT\",\"marker\":{\"color\":\"#B6E880\",\"symbol\":\"circle\",\"size\":13},\"mode\":\"markers\",\"name\":\"14, WT\",\"orientation\":\"v\",\"showlegend\":true,\"x\":[-1.8707904236496529,-0.5740252891191248,-2.0013733160267595,-1.0900950543052061,-0.35329003125688163,0.3339057516870727,-0.7144916648854222,0.2939799746666011],\"xaxis\":\"x\",\"y\":[-1.0436902077459806,-1.7510701218415736,-1.0992323898444958,-1.3299189345564602,-1.0693332113022496,-1.2503252654488783,-0.9892176468918458,-1.1521042943417623],\"yaxis\":\"y\",\"type\":\"scatter\"},{\"hovertemplate\":\"color=16<br>symbol=WT<br>0=%{x}<br>1=%{y}<extra></extra>\",\"legendgroup\":\"16, WT\",\"marker\":{\"color\":\"#FF97FF\",\"symbol\":\"circle\",\"size\":13},\"mode\":\"markers\",\"name\":\"16, WT\",\"orientation\":\"v\",\"showlegend\":true,\"x\":[-0.5989880052934549,0.19747843528258352,-0.1456694029021436,-0.36713162484826495,0.384895379383665,1.1225174725152243,0.8822155365815927,0.44140252013571907],\"xaxis\":\"x\",\"y\":[-1.8008919889024435,-1.610936146173276,-1.7850133140459443,-1.7905247750815718,-1.1141141158453451,-1.075648969779396,-1.1253497628182634,-1.0421394848582546],\"yaxis\":\"y\",\"type\":\"scatter\"},{\"hovertemplate\":\"color=18<br>symbol=WT<br>0=%{x}<br>1=%{y}<extra></extra>\",\"legendgroup\":\"18, WT\",\"marker\":{\"color\":\"#FECB52\",\"symbol\":\"circle\",\"size\":13},\"mode\":\"markers\",\"name\":\"18, WT\",\"orientation\":\"v\",\"showlegend\":true,\"x\":[-0.24476574922906263,1.6568903971290811,1.5062703091112168,0.8491267012396031,1.010809962495503,1.8059210185665857,1.7942507257109255,1.3856862545627409],\"xaxis\":\"x\",\"y\":[-1.9902083266931663,-1.9522410555538867,-1.7730149279396197,-1.9593216635293056,-0.9770828604639302,-1.3300548670068262,-1.1758225044501838,-1.278976729561046],\"yaxis\":\"y\",\"type\":\"scatter\"},{\"hovertemplate\":\"color=20<br>symbol=WT<br>0=%{x}<br>1=%{y}<extra></extra>\",\"legendgroup\":\"20, WT\",\"marker\":{\"color\":\"#636efa\",\"symbol\":\"circle\",\"size\":13},\"mode\":\"markers\",\"name\":\"20, WT\",\"orientation\":\"v\",\"showlegend\":true,\"x\":[2.5520520847501653,3.062931922212817,1.2542841153018993,1.1768864020324896,3.1939704362138523,3.2826045643908044,2.3128997468930237,2.1395577239207926],\"xaxis\":\"x\",\"y\":[-1.2267376314804779,-1.1639967965661564,-2.004151993590083,-1.8364516282180297,-0.8625220988310626,-0.9572077839933525,-0.9899965361541804,-1.0798153133422923],\"yaxis\":\"y\",\"type\":\"scatter\"},{\"hovertemplate\":\"color=22<br>symbol=WT<br>0=%{x}<br>1=%{y}<extra></extra>\",\"legendgroup\":\"22, WT\",\"marker\":{\"color\":\"#EF553B\",\"symbol\":\"circle\",\"size\":13},\"mode\":\"markers\",\"name\":\"22, WT\",\"orientation\":\"v\",\"showlegend\":true,\"x\":[3.3395964813407217,3.450346461155349,2.7910462601087467,2.2501973641411386,3.458338529322877,3.301685950478966,3.002465727880305,2.953064725169201],\"xaxis\":\"x\",\"y\":[0.024211547277230308,-0.290919790638993,-1.3264189382415688,-0.7436073654329041,-0.019765337850230505,0.09616250932080908,-0.8101056224484938,-0.4863814241088203],\"yaxis\":\"y\",\"type\":\"scatter\"}],                        {\"template\":{\"data\":{\"histogram2dcontour\":[{\"type\":\"histogram2dcontour\",\"colorbar\":{\"outlinewidth\":0,\"ticks\":\"\"},\"colorscale\":[[0.0,\"#0d0887\"],[0.1111111111111111,\"#46039f\"],[0.2222222222222222,\"#7201a8\"],[0.3333333333333333,\"#9c179e\"],[0.4444444444444444,\"#bd3786\"],[0.5555555555555556,\"#d8576b\"],[0.6666666666666666,\"#ed7953\"],[0.7777777777777778,\"#fb9f3a\"],[0.8888888888888888,\"#fdca26\"],[1.0,\"#f0f921\"]]}],\"choropleth\":[{\"type\":\"choropleth\",\"colorbar\":{\"outlinewidth\":0,\"ticks\":\"\"}}],\"histogram2d\":[{\"type\":\"histogram2d\",\"colorbar\":{\"outlinewidth\":0,\"ticks\":\"\"},\"colorscale\":[[0.0,\"#0d0887\"],[0.1111111111111111,\"#46039f\"],[0.2222222222222222,\"#7201a8\"],[0.3333333333333333,\"#9c179e\"],[0.4444444444444444,\"#bd3786\"],[0.5555555555555556,\"#d8576b\"],[0.6666666666666666,\"#ed7953\"],[0.7777777777777778,\"#fb9f3a\"],[0.8888888888888888,\"#fdca26\"],[1.0,\"#f0f921\"]]}],\"heatmap\":[{\"type\":\"heatmap\",\"colorbar\":{\"outlinewidth\":0,\"ticks\":\"\"},\"colorscale\":[[0.0,\"#0d0887\"],[0.1111111111111111,\"#46039f\"],[0.2222222222222222,\"#7201a8\"],[0.3333333333333333,\"#9c179e\"],[0.4444444444444444,\"#bd3786\"],[0.5555555555555556,\"#d8576b\"],[0.6666666666666666,\"#ed7953\"],[0.7777777777777778,\"#fb9f3a\"],[0.8888888888888888,\"#fdca26\"],[1.0,\"#f0f921\"]]}],\"heatmapgl\":[{\"type\":\"heatmapgl\",\"colorbar\":{\"outlinewidth\":0,\"ticks\":\"\"},\"colorscale\":[[0.0,\"#0d0887\"],[0.1111111111111111,\"#46039f\"],[0.2222222222222222,\"#7201a8\"],[0.3333333333333333,\"#9c179e\"],[0.4444444444444444,\"#bd3786\"],[0.5555555555555556,\"#d8576b\"],[0.6666666666666666,\"#ed7953\"],[0.7777777777777778,\"#fb9f3a\"],[0.8888888888888888,\"#fdca26\"],[1.0,\"#f0f921\"]]}],\"contourcarpet\":[{\"type\":\"contourcarpet\",\"colorbar\":{\"outlinewidth\":0,\"ticks\":\"\"}}],\"contour\":[{\"type\":\"contour\",\"colorbar\":{\"outlinewidth\":0,\"ticks\":\"\"},\"colorscale\":[[0.0,\"#0d0887\"],[0.1111111111111111,\"#46039f\"],[0.2222222222222222,\"#7201a8\"],[0.3333333333333333,\"#9c179e\"],[0.4444444444444444,\"#bd3786\"],[0.5555555555555556,\"#d8576b\"],[0.6666666666666666,\"#ed7953\"],[0.7777777777777778,\"#fb9f3a\"],[0.8888888888888888,\"#fdca26\"],[1.0,\"#f0f921\"]]}],\"surface\":[{\"type\":\"surface\",\"colorbar\":{\"outlinewidth\":0,\"ticks\":\"\"},\"colorscale\":[[0.0,\"#0d0887\"],[0.1111111111111111,\"#46039f\"],[0.2222222222222222,\"#7201a8\"],[0.3333333333333333,\"#9c179e\"],[0.4444444444444444,\"#bd3786\"],[0.5555555555555556,\"#d8576b\"],[0.6666666666666666,\"#ed7953\"],[0.7777777777777778,\"#fb9f3a\"],[0.8888888888888888,\"#fdca26\"],[1.0,\"#f0f921\"]]}],\"mesh3d\":[{\"type\":\"mesh3d\",\"colorbar\":{\"outlinewidth\":0,\"ticks\":\"\"}}],\"scatter\":[{\"fillpattern\":{\"fillmode\":\"overlay\",\"size\":10,\"solidity\":0.2},\"type\":\"scatter\"}],\"parcoords\":[{\"type\":\"parcoords\",\"line\":{\"colorbar\":{\"outlinewidth\":0,\"ticks\":\"\"}}}],\"scatterpolargl\":[{\"type\":\"scatterpolargl\",\"marker\":{\"colorbar\":{\"outlinewidth\":0,\"ticks\":\"\"}}}],\"bar\":[{\"error_x\":{\"color\":\"#2a3f5f\"},\"error_y\":{\"color\":\"#2a3f5f\"},\"marker\":{\"line\":{\"color\":\"#E5ECF6\",\"width\":0.5},\"pattern\":{\"fillmode\":\"overlay\",\"size\":10,\"solidity\":0.2}},\"type\":\"bar\"}],\"scattergeo\":[{\"type\":\"scattergeo\",\"marker\":{\"colorbar\":{\"outlinewidth\":0,\"ticks\":\"\"}}}],\"scatterpolar\":[{\"type\":\"scatterpolar\",\"marker\":{\"colorbar\":{\"outlinewidth\":0,\"ticks\":\"\"}}}],\"histogram\":[{\"marker\":{\"pattern\":{\"fillmode\":\"overlay\",\"size\":10,\"solidity\":0.2}},\"type\":\"histogram\"}],\"scattergl\":[{\"type\":\"scattergl\",\"marker\":{\"colorbar\":{\"outlinewidth\":0,\"ticks\":\"\"}}}],\"scatter3d\":[{\"type\":\"scatter3d\",\"line\":{\"colorbar\":{\"outlinewidth\":0,\"ticks\":\"\"}},\"marker\":{\"colorbar\":{\"outlinewidth\":0,\"ticks\":\"\"}}}],\"scattermapbox\":[{\"type\":\"scattermapbox\",\"marker\":{\"colorbar\":{\"outlinewidth\":0,\"ticks\":\"\"}}}],\"scatterternary\":[{\"type\":\"scatterternary\",\"marker\":{\"colorbar\":{\"outlinewidth\":0,\"ticks\":\"\"}}}],\"scattercarpet\":[{\"type\":\"scattercarpet\",\"marker\":{\"colorbar\":{\"outlinewidth\":0,\"ticks\":\"\"}}}],\"carpet\":[{\"aaxis\":{\"endlinecolor\":\"#2a3f5f\",\"gridcolor\":\"white\",\"linecolor\":\"white\",\"minorgridcolor\":\"white\",\"startlinecolor\":\"#2a3f5f\"},\"baxis\":{\"endlinecolor\":\"#2a3f5f\",\"gridcolor\":\"white\",\"linecolor\":\"white\",\"minorgridcolor\":\"white\",\"startlinecolor\":\"#2a3f5f\"},\"type\":\"carpet\"}],\"table\":[{\"cells\":{\"fill\":{\"color\":\"#EBF0F8\"},\"line\":{\"color\":\"white\"}},\"header\":{\"fill\":{\"color\":\"#C8D4E3\"},\"line\":{\"color\":\"white\"}},\"type\":\"table\"}],\"barpolar\":[{\"marker\":{\"line\":{\"color\":\"#E5ECF6\",\"width\":0.5},\"pattern\":{\"fillmode\":\"overlay\",\"size\":10,\"solidity\":0.2}},\"type\":\"barpolar\"}],\"pie\":[{\"automargin\":true,\"type\":\"pie\"}]},\"layout\":{\"autotypenumbers\":\"strict\",\"colorway\":[\"#636efa\",\"#EF553B\",\"#00cc96\",\"#ab63fa\",\"#FFA15A\",\"#19d3f3\",\"#FF6692\",\"#B6E880\",\"#FF97FF\",\"#FECB52\"],\"font\":{\"color\":\"#2a3f5f\"},\"hovermode\":\"closest\",\"hoverlabel\":{\"align\":\"left\"},\"paper_bgcolor\":\"white\",\"plot_bgcolor\":\"#E5ECF6\",\"polar\":{\"bgcolor\":\"#E5ECF6\",\"angularaxis\":{\"gridcolor\":\"white\",\"linecolor\":\"white\",\"ticks\":\"\"},\"radialaxis\":{\"gridcolor\":\"white\",\"linecolor\":\"white\",\"ticks\":\"\"}},\"ternary\":{\"bgcolor\":\"#E5ECF6\",\"aaxis\":{\"gridcolor\":\"white\",\"linecolor\":\"white\",\"ticks\":\"\"},\"baxis\":{\"gridcolor\":\"white\",\"linecolor\":\"white\",\"ticks\":\"\"},\"caxis\":{\"gridcolor\":\"white\",\"linecolor\":\"white\",\"ticks\":\"\"}},\"coloraxis\":{\"colorbar\":{\"outlinewidth\":0,\"ticks\":\"\"}},\"colorscale\":{\"sequential\":[[0.0,\"#0d0887\"],[0.1111111111111111,\"#46039f\"],[0.2222222222222222,\"#7201a8\"],[0.3333333333333333,\"#9c179e\"],[0.4444444444444444,\"#bd3786\"],[0.5555555555555556,\"#d8576b\"],[0.6666666666666666,\"#ed7953\"],[0.7777777777777778,\"#fb9f3a\"],[0.8888888888888888,\"#fdca26\"],[1.0,\"#f0f921\"]],\"sequentialminus\":[[0.0,\"#0d0887\"],[0.1111111111111111,\"#46039f\"],[0.2222222222222222,\"#7201a8\"],[0.3333333333333333,\"#9c179e\"],[0.4444444444444444,\"#bd3786\"],[0.5555555555555556,\"#d8576b\"],[0.6666666666666666,\"#ed7953\"],[0.7777777777777778,\"#fb9f3a\"],[0.8888888888888888,\"#fdca26\"],[1.0,\"#f0f921\"]],\"diverging\":[[0,\"#8e0152\"],[0.1,\"#c51b7d\"],[0.2,\"#de77ae\"],[0.3,\"#f1b6da\"],[0.4,\"#fde0ef\"],[0.5,\"#f7f7f7\"],[0.6,\"#e6f5d0\"],[0.7,\"#b8e186\"],[0.8,\"#7fbc41\"],[0.9,\"#4d9221\"],[1,\"#276419\"]]},\"xaxis\":{\"gridcolor\":\"white\",\"linecolor\":\"white\",\"ticks\":\"\",\"title\":{\"standoff\":15},\"zerolinecolor\":\"white\",\"automargin\":true,\"zerolinewidth\":2},\"yaxis\":{\"gridcolor\":\"white\",\"linecolor\":\"white\",\"ticks\":\"\",\"title\":{\"standoff\":15},\"zerolinecolor\":\"white\",\"automargin\":true,\"zerolinewidth\":2},\"scene\":{\"xaxis\":{\"backgroundcolor\":\"#E5ECF6\",\"gridcolor\":\"white\",\"linecolor\":\"white\",\"showbackground\":true,\"ticks\":\"\",\"zerolinecolor\":\"white\",\"gridwidth\":2},\"yaxis\":{\"backgroundcolor\":\"#E5ECF6\",\"gridcolor\":\"white\",\"linecolor\":\"white\",\"showbackground\":true,\"ticks\":\"\",\"zerolinecolor\":\"white\",\"gridwidth\":2},\"zaxis\":{\"backgroundcolor\":\"#E5ECF6\",\"gridcolor\":\"white\",\"linecolor\":\"white\",\"showbackground\":true,\"ticks\":\"\",\"zerolinecolor\":\"white\",\"gridwidth\":2}},\"shapedefaults\":{\"line\":{\"color\":\"#2a3f5f\"}},\"annotationdefaults\":{\"arrowcolor\":\"#2a3f5f\",\"arrowhead\":0,\"arrowwidth\":1},\"geo\":{\"bgcolor\":\"white\",\"landcolor\":\"#E5ECF6\",\"subunitcolor\":\"white\",\"showland\":true,\"showlakes\":true,\"lakecolor\":\"white\"},\"title\":{\"x\":0.05},\"mapbox\":{\"style\":\"light\"}}},\"xaxis\":{\"anchor\":\"y\",\"domain\":[0.0,1.0],\"title\":{\"text\":\"PC 1 (53.8%)\"}},\"yaxis\":{\"anchor\":\"x\",\"domain\":[0.0,1.0],\"title\":{\"text\":\"PC 2 (27.3%)\"}},\"legend\":{\"title\":{\"text\":\"color, symbol\"},\"tracegroupgap\":0},\"margin\":{\"t\":60},\"height\":600,\"width\":600,\"plot_bgcolor\":\"rgb(243,243,243)\"},                        {\"responsive\": true}                    ).then(function(){\n",
       "                            \n",
       "var gd = document.getElementById('8352b3f7-4838-4ad4-91e9-c8b61abd9c73');\n",
       "var x = new MutationObserver(function (mutations, observer) {{\n",
       "        var display = window.getComputedStyle(gd).display;\n",
       "        if (!display || display === 'none') {{\n",
       "            console.log([gd, 'removed!']);\n",
       "            Plotly.purge(gd);\n",
       "            observer.disconnect();\n",
       "        }}\n",
       "}});\n",
       "\n",
       "// Listen for the removal of the full notebook cells\n",
       "var notebookContainer = gd.closest('#notebook-container');\n",
       "if (notebookContainer) {{\n",
       "    x.observe(notebookContainer, {childList: true});\n",
       "}}\n",
       "\n",
       "// Listen for the clearing of the current output cell\n",
       "var outputEl = gd.closest('.output');\n",
       "if (outputEl) {{\n",
       "    x.observe(outputEl, {childList: true});\n",
       "}}\n",
       "\n",
       "                        })                };                });            </script>        </div>"
      ]
     },
     "metadata": {},
     "output_type": "display_data"
    },
    {
     "data": {
      "application/vnd.plotly.v1+json": {
       "config": {
        "plotlyServerURL": "https://plot.ly"
       },
       "data": [
        {
         "hovertemplate": "color=A<br>symbol=Intron<br>0=%{x}<br>1=%{y}<extra></extra>",
         "legendgroup": "A, Intron",
         "marker": {
          "color": "#636efa",
          "size": 13,
          "symbol": "circle"
         },
         "mode": "markers",
         "name": "A, Intron",
         "orientation": "v",
         "showlegend": true,
         "type": "scatter",
         "x": [
          3.139468831210143,
          -0.4158109674792232,
          -2.164514762937479,
          -2.7451537549473977,
          -2.871667620753836,
          -2.7592529994864186,
          -2.159636069823674,
          -1.8707904236496529,
          -0.5989880052934549,
          -0.24476574922906263,
          2.5520520847501653,
          3.3395964813407217
         ],
         "xaxis": "x",
         "y": [
          0.9338208057473384,
          3.146919992069909,
          1.9357239323776905,
          1.0159646961914681,
          0.2412630550293468,
          -0.27730931794635355,
          -1.183312045427898,
          -1.0436902077459806,
          -1.8008919889024435,
          -1.9902083266931663,
          -1.2267376314804779,
          0.024211547277230308
         ],
         "yaxis": "y"
        },
        {
         "hovertemplate": "color=A<br>symbol=Exon<br>0=%{x}<br>1=%{y}<extra></extra>",
         "legendgroup": "A, Exon",
         "marker": {
          "color": "#636efa",
          "size": 13,
          "symbol": "diamond"
         },
         "mode": "markers",
         "name": "A, Exon",
         "orientation": "v",
         "showlegend": true,
         "type": "scatter",
         "x": [
          3.4486702348781932,
          2.877111774099904,
          0.7440716278666832,
          -1.2175103495037332,
          -1.7720637504522156,
          -1.8239948711288763,
          -1.1481228450087944,
          -0.35329003125688163,
          0.384895379383665,
          1.010809962495503,
          3.1939704362138523,
          3.458338529322877
         ],
         "xaxis": "x",
         "y": [
          0.5358111570199036,
          2.016636913216894,
          2.442668056792678,
          1.5237931526169364,
          0.2124927866909282,
          -0.1627713329672777,
          -0.9472602311027467,
          -1.0693332113022496,
          -1.1141141158453451,
          -0.9770828604639302,
          -0.8625220988310626,
          -0.019765337850230505
         ],
         "yaxis": "y"
        },
        {
         "hovertemplate": "color=B<br>symbol=Intron<br>0=%{x}<br>1=%{y}<extra></extra>",
         "legendgroup": "B, Intron",
         "marker": {
          "color": "#EF553B",
          "size": 13,
          "symbol": "circle"
         },
         "mode": "markers",
         "name": "B, Intron",
         "orientation": "v",
         "showlegend": true,
         "type": "scatter",
         "x": [
          2.4096567967043963,
          -1.9199688461422786,
          -1.0262658874422241,
          -2.6829929205191814,
          -2.6694228716452195,
          -2.8491051058863777,
          -2.4076571963631666,
          -0.5740252891191248,
          0.19747843528258352,
          1.6568903971290811,
          3.062931922212817,
          3.450346461155349
         ],
         "xaxis": "x",
         "y": [
          2.3147239008942107,
          1.1435698432792263,
          2.916261991320024,
          1.0066010227301574,
          -0.6737891453790422,
          -0.2402592457477616,
          -1.0252316961163632,
          -1.7510701218415736,
          -1.610936146173276,
          -1.9522410555538867,
          -1.1639967965661564,
          -0.290919790638993
         ],
         "yaxis": "y"
        },
        {
         "hovertemplate": "color=B<br>symbol=Exon<br>0=%{x}<br>1=%{y}<extra></extra>",
         "legendgroup": "B, Exon",
         "marker": {
          "color": "#EF553B",
          "size": 13,
          "symbol": "diamond"
         },
         "mode": "markers",
         "name": "B, Exon",
         "orientation": "v",
         "showlegend": true,
         "type": "scatter",
         "x": [
          3.2908986373266065,
          1.6181101456589235,
          1.8569426229618355,
          -0.9067271175918578,
          -1.863643289817785,
          -1.951410731710397,
          -1.6046001819596374,
          0.3339057516870727,
          1.1225174725152243,
          1.8059210185665857,
          3.2826045643908044,
          3.301685950478966
         ],
         "xaxis": "x",
         "y": [
          0.9164821375236152,
          2.3905915088374683,
          2.5910200018699405,
          1.6979190211715622,
          -0.4983342698569592,
          -0.3281857758573428,
          -0.975666094690166,
          -1.2503252654488783,
          -1.075648969779396,
          -1.3300548670068262,
          -0.9572077839933525,
          0.09616250932080908
         ],
         "yaxis": "y"
        },
        {
         "hovertemplate": "color=C<br>symbol=Intron<br>0=%{x}<br>1=%{y}<extra></extra>",
         "legendgroup": "C, Intron",
         "marker": {
          "color": "#00cc96",
          "size": 13,
          "symbol": "circle"
         },
         "mode": "markers",
         "name": "C, Intron",
         "orientation": "v",
         "showlegend": true,
         "type": "scatter",
         "x": [
          0.9400777330571333,
          -1.5743708377454226,
          -2.775466445646567,
          -2.842524547637593,
          -2.711266034839194,
          -2.5023858475017677,
          -2.500242365633226,
          -2.0013733160267595,
          -0.1456694029021436,
          1.5062703091112168,
          1.2542841153018993,
          2.7910462601087467
         ],
         "xaxis": "x",
         "y": [
          3.394936197015489,
          2.6762604169437316,
          0.9043395315690852,
          0.6415673828826396,
          -0.5210136385574916,
          -0.8869833503775059,
          -0.9662421235660628,
          -1.0992323898444958,
          -1.7850133140459443,
          -1.7730149279396197,
          -2.004151993590083,
          -1.3264189382415688
         ],
         "yaxis": "y"
        },
        {
         "hovertemplate": "color=C<br>symbol=Exon<br>0=%{x}<br>1=%{y}<extra></extra>",
         "legendgroup": "C, Exon",
         "marker": {
          "color": "#00cc96",
          "size": 13,
          "symbol": "diamond"
         },
         "mode": "markers",
         "name": "C, Exon",
         "orientation": "v",
         "showlegend": true,
         "type": "scatter",
         "x": [
          3.108578549781031,
          1.7611686761732257,
          -1.3037431365477359,
          -1.410563543424996,
          -1.8491180602285515,
          -1.4562783029587143,
          -1.643241966838585,
          -0.7144916648854222,
          0.8822155365815927,
          1.7942507257109255,
          2.3128997468930237,
          3.002465727880305
         ],
         "xaxis": "x",
         "y": [
          1.8014721872590633,
          2.714084586531341,
          1.055537992977617,
          0.9207138745763037,
          -0.41572244223502763,
          -0.9339856996480593,
          -0.8054500537729764,
          -0.9892176468918458,
          -1.1253497628182634,
          -1.1758225044501838,
          -0.9899965361541804,
          -0.8101056224484938
         ],
         "yaxis": "y"
        },
        {
         "hovertemplate": "color=D<br>symbol=Intron<br>0=%{x}<br>1=%{y}<extra></extra>",
         "legendgroup": "D, Intron",
         "marker": {
          "color": "#ab63fa",
          "size": 13,
          "symbol": "circle"
         },
         "mode": "markers",
         "name": "D, Intron",
         "orientation": "v",
         "showlegend": true,
         "type": "scatter",
         "x": [
          0.5529273146877808,
          -2.0539738569136063,
          -1.2580180180782348,
          -2.6783946569513883,
          -2.9347661291814306,
          -2.8706397454773436,
          -2.1680465693434527,
          -1.0900950543052061,
          -0.36713162484826495,
          0.8491267012396031,
          1.1768864020324896,
          2.2501973641411386
         ],
         "xaxis": "x",
         "y": [
          3.435388997483651,
          1.758023738931877,
          2.4787821333792044,
          1.0056254514850482,
          0.3117645166841322,
          -0.3067145218869309,
          -1.1176251044141212,
          -1.3299189345564602,
          -1.7905247750815718,
          -1.9593216635293056,
          -1.8364516282180297,
          -0.7436073654329041
         ],
         "yaxis": "y"
        },
        {
         "hovertemplate": "color=D<br>symbol=Exon<br>0=%{x}<br>1=%{y}<extra></extra>",
         "legendgroup": "D, Exon",
         "marker": {
          "color": "#ab63fa",
          "size": 13,
          "symbol": "diamond"
         },
         "mode": "markers",
         "name": "D, Exon",
         "orientation": "v",
         "showlegend": true,
         "type": "scatter",
         "x": [
          2.7820181541279103,
          1.4417221598215855,
          1.9304588827778075,
          -1.07437736693362,
          -1.8581961654267072,
          -1.9016904030592165,
          -0.8017143730313133,
          0.2939799746666011,
          0.44140252013571907,
          1.3856862545627409,
          2.1395577239207926,
          2.953064725169201
         ],
         "xaxis": "x",
         "y": [
          1.9851787102487,
          2.0644551089616625,
          2.5363769879575453,
          1.3944837956632958,
          0.5906499509211435,
          -0.2550396604827015,
          -0.9870720178437262,
          -1.1521042943417623,
          -1.0421394848582546,
          -1.278976729561046,
          -1.0798153133422923,
          -0.4863814241088203
         ],
         "yaxis": "y"
        }
       ],
       "layout": {
        "height": 600,
        "legend": {
         "title": {
          "text": "color, symbol"
         },
         "tracegroupgap": 0
        },
        "margin": {
         "t": 60
        },
        "plot_bgcolor": "rgb(243,243,243)",
        "template": {
         "data": {
          "bar": [
           {
            "error_x": {
             "color": "#2a3f5f"
            },
            "error_y": {
             "color": "#2a3f5f"
            },
            "marker": {
             "line": {
              "color": "#E5ECF6",
              "width": 0.5
             },
             "pattern": {
              "fillmode": "overlay",
              "size": 10,
              "solidity": 0.2
             }
            },
            "type": "bar"
           }
          ],
          "barpolar": [
           {
            "marker": {
             "line": {
              "color": "#E5ECF6",
              "width": 0.5
             },
             "pattern": {
              "fillmode": "overlay",
              "size": 10,
              "solidity": 0.2
             }
            },
            "type": "barpolar"
           }
          ],
          "carpet": [
           {
            "aaxis": {
             "endlinecolor": "#2a3f5f",
             "gridcolor": "white",
             "linecolor": "white",
             "minorgridcolor": "white",
             "startlinecolor": "#2a3f5f"
            },
            "baxis": {
             "endlinecolor": "#2a3f5f",
             "gridcolor": "white",
             "linecolor": "white",
             "minorgridcolor": "white",
             "startlinecolor": "#2a3f5f"
            },
            "type": "carpet"
           }
          ],
          "choropleth": [
           {
            "colorbar": {
             "outlinewidth": 0,
             "ticks": ""
            },
            "type": "choropleth"
           }
          ],
          "contour": [
           {
            "colorbar": {
             "outlinewidth": 0,
             "ticks": ""
            },
            "colorscale": [
             [
              0,
              "#0d0887"
             ],
             [
              0.1111111111111111,
              "#46039f"
             ],
             [
              0.2222222222222222,
              "#7201a8"
             ],
             [
              0.3333333333333333,
              "#9c179e"
             ],
             [
              0.4444444444444444,
              "#bd3786"
             ],
             [
              0.5555555555555556,
              "#d8576b"
             ],
             [
              0.6666666666666666,
              "#ed7953"
             ],
             [
              0.7777777777777778,
              "#fb9f3a"
             ],
             [
              0.8888888888888888,
              "#fdca26"
             ],
             [
              1,
              "#f0f921"
             ]
            ],
            "type": "contour"
           }
          ],
          "contourcarpet": [
           {
            "colorbar": {
             "outlinewidth": 0,
             "ticks": ""
            },
            "type": "contourcarpet"
           }
          ],
          "heatmap": [
           {
            "colorbar": {
             "outlinewidth": 0,
             "ticks": ""
            },
            "colorscale": [
             [
              0,
              "#0d0887"
             ],
             [
              0.1111111111111111,
              "#46039f"
             ],
             [
              0.2222222222222222,
              "#7201a8"
             ],
             [
              0.3333333333333333,
              "#9c179e"
             ],
             [
              0.4444444444444444,
              "#bd3786"
             ],
             [
              0.5555555555555556,
              "#d8576b"
             ],
             [
              0.6666666666666666,
              "#ed7953"
             ],
             [
              0.7777777777777778,
              "#fb9f3a"
             ],
             [
              0.8888888888888888,
              "#fdca26"
             ],
             [
              1,
              "#f0f921"
             ]
            ],
            "type": "heatmap"
           }
          ],
          "heatmapgl": [
           {
            "colorbar": {
             "outlinewidth": 0,
             "ticks": ""
            },
            "colorscale": [
             [
              0,
              "#0d0887"
             ],
             [
              0.1111111111111111,
              "#46039f"
             ],
             [
              0.2222222222222222,
              "#7201a8"
             ],
             [
              0.3333333333333333,
              "#9c179e"
             ],
             [
              0.4444444444444444,
              "#bd3786"
             ],
             [
              0.5555555555555556,
              "#d8576b"
             ],
             [
              0.6666666666666666,
              "#ed7953"
             ],
             [
              0.7777777777777778,
              "#fb9f3a"
             ],
             [
              0.8888888888888888,
              "#fdca26"
             ],
             [
              1,
              "#f0f921"
             ]
            ],
            "type": "heatmapgl"
           }
          ],
          "histogram": [
           {
            "marker": {
             "pattern": {
              "fillmode": "overlay",
              "size": 10,
              "solidity": 0.2
             }
            },
            "type": "histogram"
           }
          ],
          "histogram2d": [
           {
            "colorbar": {
             "outlinewidth": 0,
             "ticks": ""
            },
            "colorscale": [
             [
              0,
              "#0d0887"
             ],
             [
              0.1111111111111111,
              "#46039f"
             ],
             [
              0.2222222222222222,
              "#7201a8"
             ],
             [
              0.3333333333333333,
              "#9c179e"
             ],
             [
              0.4444444444444444,
              "#bd3786"
             ],
             [
              0.5555555555555556,
              "#d8576b"
             ],
             [
              0.6666666666666666,
              "#ed7953"
             ],
             [
              0.7777777777777778,
              "#fb9f3a"
             ],
             [
              0.8888888888888888,
              "#fdca26"
             ],
             [
              1,
              "#f0f921"
             ]
            ],
            "type": "histogram2d"
           }
          ],
          "histogram2dcontour": [
           {
            "colorbar": {
             "outlinewidth": 0,
             "ticks": ""
            },
            "colorscale": [
             [
              0,
              "#0d0887"
             ],
             [
              0.1111111111111111,
              "#46039f"
             ],
             [
              0.2222222222222222,
              "#7201a8"
             ],
             [
              0.3333333333333333,
              "#9c179e"
             ],
             [
              0.4444444444444444,
              "#bd3786"
             ],
             [
              0.5555555555555556,
              "#d8576b"
             ],
             [
              0.6666666666666666,
              "#ed7953"
             ],
             [
              0.7777777777777778,
              "#fb9f3a"
             ],
             [
              0.8888888888888888,
              "#fdca26"
             ],
             [
              1,
              "#f0f921"
             ]
            ],
            "type": "histogram2dcontour"
           }
          ],
          "mesh3d": [
           {
            "colorbar": {
             "outlinewidth": 0,
             "ticks": ""
            },
            "type": "mesh3d"
           }
          ],
          "parcoords": [
           {
            "line": {
             "colorbar": {
              "outlinewidth": 0,
              "ticks": ""
             }
            },
            "type": "parcoords"
           }
          ],
          "pie": [
           {
            "automargin": true,
            "type": "pie"
           }
          ],
          "scatter": [
           {
            "fillpattern": {
             "fillmode": "overlay",
             "size": 10,
             "solidity": 0.2
            },
            "type": "scatter"
           }
          ],
          "scatter3d": [
           {
            "line": {
             "colorbar": {
              "outlinewidth": 0,
              "ticks": ""
             }
            },
            "marker": {
             "colorbar": {
              "outlinewidth": 0,
              "ticks": ""
             }
            },
            "type": "scatter3d"
           }
          ],
          "scattercarpet": [
           {
            "marker": {
             "colorbar": {
              "outlinewidth": 0,
              "ticks": ""
             }
            },
            "type": "scattercarpet"
           }
          ],
          "scattergeo": [
           {
            "marker": {
             "colorbar": {
              "outlinewidth": 0,
              "ticks": ""
             }
            },
            "type": "scattergeo"
           }
          ],
          "scattergl": [
           {
            "marker": {
             "colorbar": {
              "outlinewidth": 0,
              "ticks": ""
             }
            },
            "type": "scattergl"
           }
          ],
          "scattermapbox": [
           {
            "marker": {
             "colorbar": {
              "outlinewidth": 0,
              "ticks": ""
             }
            },
            "type": "scattermapbox"
           }
          ],
          "scatterpolar": [
           {
            "marker": {
             "colorbar": {
              "outlinewidth": 0,
              "ticks": ""
             }
            },
            "type": "scatterpolar"
           }
          ],
          "scatterpolargl": [
           {
            "marker": {
             "colorbar": {
              "outlinewidth": 0,
              "ticks": ""
             }
            },
            "type": "scatterpolargl"
           }
          ],
          "scatterternary": [
           {
            "marker": {
             "colorbar": {
              "outlinewidth": 0,
              "ticks": ""
             }
            },
            "type": "scatterternary"
           }
          ],
          "surface": [
           {
            "colorbar": {
             "outlinewidth": 0,
             "ticks": ""
            },
            "colorscale": [
             [
              0,
              "#0d0887"
             ],
             [
              0.1111111111111111,
              "#46039f"
             ],
             [
              0.2222222222222222,
              "#7201a8"
             ],
             [
              0.3333333333333333,
              "#9c179e"
             ],
             [
              0.4444444444444444,
              "#bd3786"
             ],
             [
              0.5555555555555556,
              "#d8576b"
             ],
             [
              0.6666666666666666,
              "#ed7953"
             ],
             [
              0.7777777777777778,
              "#fb9f3a"
             ],
             [
              0.8888888888888888,
              "#fdca26"
             ],
             [
              1,
              "#f0f921"
             ]
            ],
            "type": "surface"
           }
          ],
          "table": [
           {
            "cells": {
             "fill": {
              "color": "#EBF0F8"
             },
             "line": {
              "color": "white"
             }
            },
            "header": {
             "fill": {
              "color": "#C8D4E3"
             },
             "line": {
              "color": "white"
             }
            },
            "type": "table"
           }
          ]
         },
         "layout": {
          "annotationdefaults": {
           "arrowcolor": "#2a3f5f",
           "arrowhead": 0,
           "arrowwidth": 1
          },
          "autotypenumbers": "strict",
          "coloraxis": {
           "colorbar": {
            "outlinewidth": 0,
            "ticks": ""
           }
          },
          "colorscale": {
           "diverging": [
            [
             0,
             "#8e0152"
            ],
            [
             0.1,
             "#c51b7d"
            ],
            [
             0.2,
             "#de77ae"
            ],
            [
             0.3,
             "#f1b6da"
            ],
            [
             0.4,
             "#fde0ef"
            ],
            [
             0.5,
             "#f7f7f7"
            ],
            [
             0.6,
             "#e6f5d0"
            ],
            [
             0.7,
             "#b8e186"
            ],
            [
             0.8,
             "#7fbc41"
            ],
            [
             0.9,
             "#4d9221"
            ],
            [
             1,
             "#276419"
            ]
           ],
           "sequential": [
            [
             0,
             "#0d0887"
            ],
            [
             0.1111111111111111,
             "#46039f"
            ],
            [
             0.2222222222222222,
             "#7201a8"
            ],
            [
             0.3333333333333333,
             "#9c179e"
            ],
            [
             0.4444444444444444,
             "#bd3786"
            ],
            [
             0.5555555555555556,
             "#d8576b"
            ],
            [
             0.6666666666666666,
             "#ed7953"
            ],
            [
             0.7777777777777778,
             "#fb9f3a"
            ],
            [
             0.8888888888888888,
             "#fdca26"
            ],
            [
             1,
             "#f0f921"
            ]
           ],
           "sequentialminus": [
            [
             0,
             "#0d0887"
            ],
            [
             0.1111111111111111,
             "#46039f"
            ],
            [
             0.2222222222222222,
             "#7201a8"
            ],
            [
             0.3333333333333333,
             "#9c179e"
            ],
            [
             0.4444444444444444,
             "#bd3786"
            ],
            [
             0.5555555555555556,
             "#d8576b"
            ],
            [
             0.6666666666666666,
             "#ed7953"
            ],
            [
             0.7777777777777778,
             "#fb9f3a"
            ],
            [
             0.8888888888888888,
             "#fdca26"
            ],
            [
             1,
             "#f0f921"
            ]
           ]
          },
          "colorway": [
           "#636efa",
           "#EF553B",
           "#00cc96",
           "#ab63fa",
           "#FFA15A",
           "#19d3f3",
           "#FF6692",
           "#B6E880",
           "#FF97FF",
           "#FECB52"
          ],
          "font": {
           "color": "#2a3f5f"
          },
          "geo": {
           "bgcolor": "white",
           "lakecolor": "white",
           "landcolor": "#E5ECF6",
           "showlakes": true,
           "showland": true,
           "subunitcolor": "white"
          },
          "hoverlabel": {
           "align": "left"
          },
          "hovermode": "closest",
          "mapbox": {
           "style": "light"
          },
          "paper_bgcolor": "white",
          "plot_bgcolor": "#E5ECF6",
          "polar": {
           "angularaxis": {
            "gridcolor": "white",
            "linecolor": "white",
            "ticks": ""
           },
           "bgcolor": "#E5ECF6",
           "radialaxis": {
            "gridcolor": "white",
            "linecolor": "white",
            "ticks": ""
           }
          },
          "scene": {
           "xaxis": {
            "backgroundcolor": "#E5ECF6",
            "gridcolor": "white",
            "gridwidth": 2,
            "linecolor": "white",
            "showbackground": true,
            "ticks": "",
            "zerolinecolor": "white"
           },
           "yaxis": {
            "backgroundcolor": "#E5ECF6",
            "gridcolor": "white",
            "gridwidth": 2,
            "linecolor": "white",
            "showbackground": true,
            "ticks": "",
            "zerolinecolor": "white"
           },
           "zaxis": {
            "backgroundcolor": "#E5ECF6",
            "gridcolor": "white",
            "gridwidth": 2,
            "linecolor": "white",
            "showbackground": true,
            "ticks": "",
            "zerolinecolor": "white"
           }
          },
          "shapedefaults": {
           "line": {
            "color": "#2a3f5f"
           }
          },
          "ternary": {
           "aaxis": {
            "gridcolor": "white",
            "linecolor": "white",
            "ticks": ""
           },
           "baxis": {
            "gridcolor": "white",
            "linecolor": "white",
            "ticks": ""
           },
           "bgcolor": "#E5ECF6",
           "caxis": {
            "gridcolor": "white",
            "linecolor": "white",
            "ticks": ""
           }
          },
          "title": {
           "x": 0.05
          },
          "xaxis": {
           "automargin": true,
           "gridcolor": "white",
           "linecolor": "white",
           "ticks": "",
           "title": {
            "standoff": 15
           },
           "zerolinecolor": "white",
           "zerolinewidth": 2
          },
          "yaxis": {
           "automargin": true,
           "gridcolor": "white",
           "linecolor": "white",
           "ticks": "",
           "title": {
            "standoff": 15
           },
           "zerolinecolor": "white",
           "zerolinewidth": 2
          }
         }
        },
        "width": 600,
        "xaxis": {
         "anchor": "y",
         "domain": [
          0,
          1
         ],
         "title": {
          "text": "PC 1 (53.8%)"
         }
        },
        "yaxis": {
         "anchor": "x",
         "domain": [
          0,
          1
         ],
         "title": {
          "text": "PC 2 (27.3%)"
         }
        }
       }
      },
      "text/html": [
       "<div>                            <div id=\"5796f2be-51a9-452c-89f2-8ee2bd2f0507\" class=\"plotly-graph-div\" style=\"height:600px; width:600px;\"></div>            <script type=\"text/javascript\">                require([\"plotly\"], function(Plotly) {                    window.PLOTLYENV=window.PLOTLYENV || {};                                    if (document.getElementById(\"5796f2be-51a9-452c-89f2-8ee2bd2f0507\")) {                    Plotly.newPlot(                        \"5796f2be-51a9-452c-89f2-8ee2bd2f0507\",                        [{\"hovertemplate\":\"color=A<br>symbol=Intron<br>0=%{x}<br>1=%{y}<extra></extra>\",\"legendgroup\":\"A, Intron\",\"marker\":{\"color\":\"#636efa\",\"symbol\":\"circle\",\"size\":13},\"mode\":\"markers\",\"name\":\"A, Intron\",\"orientation\":\"v\",\"showlegend\":true,\"x\":[3.139468831210143,-0.4158109674792232,-2.164514762937479,-2.7451537549473977,-2.871667620753836,-2.7592529994864186,-2.159636069823674,-1.8707904236496529,-0.5989880052934549,-0.24476574922906263,2.5520520847501653,3.3395964813407217],\"xaxis\":\"x\",\"y\":[0.9338208057473384,3.146919992069909,1.9357239323776905,1.0159646961914681,0.2412630550293468,-0.27730931794635355,-1.183312045427898,-1.0436902077459806,-1.8008919889024435,-1.9902083266931663,-1.2267376314804779,0.024211547277230308],\"yaxis\":\"y\",\"type\":\"scatter\"},{\"hovertemplate\":\"color=A<br>symbol=Exon<br>0=%{x}<br>1=%{y}<extra></extra>\",\"legendgroup\":\"A, Exon\",\"marker\":{\"color\":\"#636efa\",\"symbol\":\"diamond\",\"size\":13},\"mode\":\"markers\",\"name\":\"A, Exon\",\"orientation\":\"v\",\"showlegend\":true,\"x\":[3.4486702348781932,2.877111774099904,0.7440716278666832,-1.2175103495037332,-1.7720637504522156,-1.8239948711288763,-1.1481228450087944,-0.35329003125688163,0.384895379383665,1.010809962495503,3.1939704362138523,3.458338529322877],\"xaxis\":\"x\",\"y\":[0.5358111570199036,2.016636913216894,2.442668056792678,1.5237931526169364,0.2124927866909282,-0.1627713329672777,-0.9472602311027467,-1.0693332113022496,-1.1141141158453451,-0.9770828604639302,-0.8625220988310626,-0.019765337850230505],\"yaxis\":\"y\",\"type\":\"scatter\"},{\"hovertemplate\":\"color=B<br>symbol=Intron<br>0=%{x}<br>1=%{y}<extra></extra>\",\"legendgroup\":\"B, Intron\",\"marker\":{\"color\":\"#EF553B\",\"symbol\":\"circle\",\"size\":13},\"mode\":\"markers\",\"name\":\"B, Intron\",\"orientation\":\"v\",\"showlegend\":true,\"x\":[2.4096567967043963,-1.9199688461422786,-1.0262658874422241,-2.6829929205191814,-2.6694228716452195,-2.8491051058863777,-2.4076571963631666,-0.5740252891191248,0.19747843528258352,1.6568903971290811,3.062931922212817,3.450346461155349],\"xaxis\":\"x\",\"y\":[2.3147239008942107,1.1435698432792263,2.916261991320024,1.0066010227301574,-0.6737891453790422,-0.2402592457477616,-1.0252316961163632,-1.7510701218415736,-1.610936146173276,-1.9522410555538867,-1.1639967965661564,-0.290919790638993],\"yaxis\":\"y\",\"type\":\"scatter\"},{\"hovertemplate\":\"color=B<br>symbol=Exon<br>0=%{x}<br>1=%{y}<extra></extra>\",\"legendgroup\":\"B, Exon\",\"marker\":{\"color\":\"#EF553B\",\"symbol\":\"diamond\",\"size\":13},\"mode\":\"markers\",\"name\":\"B, Exon\",\"orientation\":\"v\",\"showlegend\":true,\"x\":[3.2908986373266065,1.6181101456589235,1.8569426229618355,-0.9067271175918578,-1.863643289817785,-1.951410731710397,-1.6046001819596374,0.3339057516870727,1.1225174725152243,1.8059210185665857,3.2826045643908044,3.301685950478966],\"xaxis\":\"x\",\"y\":[0.9164821375236152,2.3905915088374683,2.5910200018699405,1.6979190211715622,-0.4983342698569592,-0.3281857758573428,-0.975666094690166,-1.2503252654488783,-1.075648969779396,-1.3300548670068262,-0.9572077839933525,0.09616250932080908],\"yaxis\":\"y\",\"type\":\"scatter\"},{\"hovertemplate\":\"color=C<br>symbol=Intron<br>0=%{x}<br>1=%{y}<extra></extra>\",\"legendgroup\":\"C, Intron\",\"marker\":{\"color\":\"#00cc96\",\"symbol\":\"circle\",\"size\":13},\"mode\":\"markers\",\"name\":\"C, Intron\",\"orientation\":\"v\",\"showlegend\":true,\"x\":[0.9400777330571333,-1.5743708377454226,-2.775466445646567,-2.842524547637593,-2.711266034839194,-2.5023858475017677,-2.500242365633226,-2.0013733160267595,-0.1456694029021436,1.5062703091112168,1.2542841153018993,2.7910462601087467],\"xaxis\":\"x\",\"y\":[3.394936197015489,2.6762604169437316,0.9043395315690852,0.6415673828826396,-0.5210136385574916,-0.8869833503775059,-0.9662421235660628,-1.0992323898444958,-1.7850133140459443,-1.7730149279396197,-2.004151993590083,-1.3264189382415688],\"yaxis\":\"y\",\"type\":\"scatter\"},{\"hovertemplate\":\"color=C<br>symbol=Exon<br>0=%{x}<br>1=%{y}<extra></extra>\",\"legendgroup\":\"C, Exon\",\"marker\":{\"color\":\"#00cc96\",\"symbol\":\"diamond\",\"size\":13},\"mode\":\"markers\",\"name\":\"C, Exon\",\"orientation\":\"v\",\"showlegend\":true,\"x\":[3.108578549781031,1.7611686761732257,-1.3037431365477359,-1.410563543424996,-1.8491180602285515,-1.4562783029587143,-1.643241966838585,-0.7144916648854222,0.8822155365815927,1.7942507257109255,2.3128997468930237,3.002465727880305],\"xaxis\":\"x\",\"y\":[1.8014721872590633,2.714084586531341,1.055537992977617,0.9207138745763037,-0.41572244223502763,-0.9339856996480593,-0.8054500537729764,-0.9892176468918458,-1.1253497628182634,-1.1758225044501838,-0.9899965361541804,-0.8101056224484938],\"yaxis\":\"y\",\"type\":\"scatter\"},{\"hovertemplate\":\"color=D<br>symbol=Intron<br>0=%{x}<br>1=%{y}<extra></extra>\",\"legendgroup\":\"D, Intron\",\"marker\":{\"color\":\"#ab63fa\",\"symbol\":\"circle\",\"size\":13},\"mode\":\"markers\",\"name\":\"D, Intron\",\"orientation\":\"v\",\"showlegend\":true,\"x\":[0.5529273146877808,-2.0539738569136063,-1.2580180180782348,-2.6783946569513883,-2.9347661291814306,-2.8706397454773436,-2.1680465693434527,-1.0900950543052061,-0.36713162484826495,0.8491267012396031,1.1768864020324896,2.2501973641411386],\"xaxis\":\"x\",\"y\":[3.435388997483651,1.758023738931877,2.4787821333792044,1.0056254514850482,0.3117645166841322,-0.3067145218869309,-1.1176251044141212,-1.3299189345564602,-1.7905247750815718,-1.9593216635293056,-1.8364516282180297,-0.7436073654329041],\"yaxis\":\"y\",\"type\":\"scatter\"},{\"hovertemplate\":\"color=D<br>symbol=Exon<br>0=%{x}<br>1=%{y}<extra></extra>\",\"legendgroup\":\"D, Exon\",\"marker\":{\"color\":\"#ab63fa\",\"symbol\":\"diamond\",\"size\":13},\"mode\":\"markers\",\"name\":\"D, Exon\",\"orientation\":\"v\",\"showlegend\":true,\"x\":[2.7820181541279103,1.4417221598215855,1.9304588827778075,-1.07437736693362,-1.8581961654267072,-1.9016904030592165,-0.8017143730313133,0.2939799746666011,0.44140252013571907,1.3856862545627409,2.1395577239207926,2.953064725169201],\"xaxis\":\"x\",\"y\":[1.9851787102487,2.0644551089616625,2.5363769879575453,1.3944837956632958,0.5906499509211435,-0.2550396604827015,-0.9870720178437262,-1.1521042943417623,-1.0421394848582546,-1.278976729561046,-1.0798153133422923,-0.4863814241088203],\"yaxis\":\"y\",\"type\":\"scatter\"}],                        {\"template\":{\"data\":{\"histogram2dcontour\":[{\"type\":\"histogram2dcontour\",\"colorbar\":{\"outlinewidth\":0,\"ticks\":\"\"},\"colorscale\":[[0.0,\"#0d0887\"],[0.1111111111111111,\"#46039f\"],[0.2222222222222222,\"#7201a8\"],[0.3333333333333333,\"#9c179e\"],[0.4444444444444444,\"#bd3786\"],[0.5555555555555556,\"#d8576b\"],[0.6666666666666666,\"#ed7953\"],[0.7777777777777778,\"#fb9f3a\"],[0.8888888888888888,\"#fdca26\"],[1.0,\"#f0f921\"]]}],\"choropleth\":[{\"type\":\"choropleth\",\"colorbar\":{\"outlinewidth\":0,\"ticks\":\"\"}}],\"histogram2d\":[{\"type\":\"histogram2d\",\"colorbar\":{\"outlinewidth\":0,\"ticks\":\"\"},\"colorscale\":[[0.0,\"#0d0887\"],[0.1111111111111111,\"#46039f\"],[0.2222222222222222,\"#7201a8\"],[0.3333333333333333,\"#9c179e\"],[0.4444444444444444,\"#bd3786\"],[0.5555555555555556,\"#d8576b\"],[0.6666666666666666,\"#ed7953\"],[0.7777777777777778,\"#fb9f3a\"],[0.8888888888888888,\"#fdca26\"],[1.0,\"#f0f921\"]]}],\"heatmap\":[{\"type\":\"heatmap\",\"colorbar\":{\"outlinewidth\":0,\"ticks\":\"\"},\"colorscale\":[[0.0,\"#0d0887\"],[0.1111111111111111,\"#46039f\"],[0.2222222222222222,\"#7201a8\"],[0.3333333333333333,\"#9c179e\"],[0.4444444444444444,\"#bd3786\"],[0.5555555555555556,\"#d8576b\"],[0.6666666666666666,\"#ed7953\"],[0.7777777777777778,\"#fb9f3a\"],[0.8888888888888888,\"#fdca26\"],[1.0,\"#f0f921\"]]}],\"heatmapgl\":[{\"type\":\"heatmapgl\",\"colorbar\":{\"outlinewidth\":0,\"ticks\":\"\"},\"colorscale\":[[0.0,\"#0d0887\"],[0.1111111111111111,\"#46039f\"],[0.2222222222222222,\"#7201a8\"],[0.3333333333333333,\"#9c179e\"],[0.4444444444444444,\"#bd3786\"],[0.5555555555555556,\"#d8576b\"],[0.6666666666666666,\"#ed7953\"],[0.7777777777777778,\"#fb9f3a\"],[0.8888888888888888,\"#fdca26\"],[1.0,\"#f0f921\"]]}],\"contourcarpet\":[{\"type\":\"contourcarpet\",\"colorbar\":{\"outlinewidth\":0,\"ticks\":\"\"}}],\"contour\":[{\"type\":\"contour\",\"colorbar\":{\"outlinewidth\":0,\"ticks\":\"\"},\"colorscale\":[[0.0,\"#0d0887\"],[0.1111111111111111,\"#46039f\"],[0.2222222222222222,\"#7201a8\"],[0.3333333333333333,\"#9c179e\"],[0.4444444444444444,\"#bd3786\"],[0.5555555555555556,\"#d8576b\"],[0.6666666666666666,\"#ed7953\"],[0.7777777777777778,\"#fb9f3a\"],[0.8888888888888888,\"#fdca26\"],[1.0,\"#f0f921\"]]}],\"surface\":[{\"type\":\"surface\",\"colorbar\":{\"outlinewidth\":0,\"ticks\":\"\"},\"colorscale\":[[0.0,\"#0d0887\"],[0.1111111111111111,\"#46039f\"],[0.2222222222222222,\"#7201a8\"],[0.3333333333333333,\"#9c179e\"],[0.4444444444444444,\"#bd3786\"],[0.5555555555555556,\"#d8576b\"],[0.6666666666666666,\"#ed7953\"],[0.7777777777777778,\"#fb9f3a\"],[0.8888888888888888,\"#fdca26\"],[1.0,\"#f0f921\"]]}],\"mesh3d\":[{\"type\":\"mesh3d\",\"colorbar\":{\"outlinewidth\":0,\"ticks\":\"\"}}],\"scatter\":[{\"fillpattern\":{\"fillmode\":\"overlay\",\"size\":10,\"solidity\":0.2},\"type\":\"scatter\"}],\"parcoords\":[{\"type\":\"parcoords\",\"line\":{\"colorbar\":{\"outlinewidth\":0,\"ticks\":\"\"}}}],\"scatterpolargl\":[{\"type\":\"scatterpolargl\",\"marker\":{\"colorbar\":{\"outlinewidth\":0,\"ticks\":\"\"}}}],\"bar\":[{\"error_x\":{\"color\":\"#2a3f5f\"},\"error_y\":{\"color\":\"#2a3f5f\"},\"marker\":{\"line\":{\"color\":\"#E5ECF6\",\"width\":0.5},\"pattern\":{\"fillmode\":\"overlay\",\"size\":10,\"solidity\":0.2}},\"type\":\"bar\"}],\"scattergeo\":[{\"type\":\"scattergeo\",\"marker\":{\"colorbar\":{\"outlinewidth\":0,\"ticks\":\"\"}}}],\"scatterpolar\":[{\"type\":\"scatterpolar\",\"marker\":{\"colorbar\":{\"outlinewidth\":0,\"ticks\":\"\"}}}],\"histogram\":[{\"marker\":{\"pattern\":{\"fillmode\":\"overlay\",\"size\":10,\"solidity\":0.2}},\"type\":\"histogram\"}],\"scattergl\":[{\"type\":\"scattergl\",\"marker\":{\"colorbar\":{\"outlinewidth\":0,\"ticks\":\"\"}}}],\"scatter3d\":[{\"type\":\"scatter3d\",\"line\":{\"colorbar\":{\"outlinewidth\":0,\"ticks\":\"\"}},\"marker\":{\"colorbar\":{\"outlinewidth\":0,\"ticks\":\"\"}}}],\"scattermapbox\":[{\"type\":\"scattermapbox\",\"marker\":{\"colorbar\":{\"outlinewidth\":0,\"ticks\":\"\"}}}],\"scatterternary\":[{\"type\":\"scatterternary\",\"marker\":{\"colorbar\":{\"outlinewidth\":0,\"ticks\":\"\"}}}],\"scattercarpet\":[{\"type\":\"scattercarpet\",\"marker\":{\"colorbar\":{\"outlinewidth\":0,\"ticks\":\"\"}}}],\"carpet\":[{\"aaxis\":{\"endlinecolor\":\"#2a3f5f\",\"gridcolor\":\"white\",\"linecolor\":\"white\",\"minorgridcolor\":\"white\",\"startlinecolor\":\"#2a3f5f\"},\"baxis\":{\"endlinecolor\":\"#2a3f5f\",\"gridcolor\":\"white\",\"linecolor\":\"white\",\"minorgridcolor\":\"white\",\"startlinecolor\":\"#2a3f5f\"},\"type\":\"carpet\"}],\"table\":[{\"cells\":{\"fill\":{\"color\":\"#EBF0F8\"},\"line\":{\"color\":\"white\"}},\"header\":{\"fill\":{\"color\":\"#C8D4E3\"},\"line\":{\"color\":\"white\"}},\"type\":\"table\"}],\"barpolar\":[{\"marker\":{\"line\":{\"color\":\"#E5ECF6\",\"width\":0.5},\"pattern\":{\"fillmode\":\"overlay\",\"size\":10,\"solidity\":0.2}},\"type\":\"barpolar\"}],\"pie\":[{\"automargin\":true,\"type\":\"pie\"}]},\"layout\":{\"autotypenumbers\":\"strict\",\"colorway\":[\"#636efa\",\"#EF553B\",\"#00cc96\",\"#ab63fa\",\"#FFA15A\",\"#19d3f3\",\"#FF6692\",\"#B6E880\",\"#FF97FF\",\"#FECB52\"],\"font\":{\"color\":\"#2a3f5f\"},\"hovermode\":\"closest\",\"hoverlabel\":{\"align\":\"left\"},\"paper_bgcolor\":\"white\",\"plot_bgcolor\":\"#E5ECF6\",\"polar\":{\"bgcolor\":\"#E5ECF6\",\"angularaxis\":{\"gridcolor\":\"white\",\"linecolor\":\"white\",\"ticks\":\"\"},\"radialaxis\":{\"gridcolor\":\"white\",\"linecolor\":\"white\",\"ticks\":\"\"}},\"ternary\":{\"bgcolor\":\"#E5ECF6\",\"aaxis\":{\"gridcolor\":\"white\",\"linecolor\":\"white\",\"ticks\":\"\"},\"baxis\":{\"gridcolor\":\"white\",\"linecolor\":\"white\",\"ticks\":\"\"},\"caxis\":{\"gridcolor\":\"white\",\"linecolor\":\"white\",\"ticks\":\"\"}},\"coloraxis\":{\"colorbar\":{\"outlinewidth\":0,\"ticks\":\"\"}},\"colorscale\":{\"sequential\":[[0.0,\"#0d0887\"],[0.1111111111111111,\"#46039f\"],[0.2222222222222222,\"#7201a8\"],[0.3333333333333333,\"#9c179e\"],[0.4444444444444444,\"#bd3786\"],[0.5555555555555556,\"#d8576b\"],[0.6666666666666666,\"#ed7953\"],[0.7777777777777778,\"#fb9f3a\"],[0.8888888888888888,\"#fdca26\"],[1.0,\"#f0f921\"]],\"sequentialminus\":[[0.0,\"#0d0887\"],[0.1111111111111111,\"#46039f\"],[0.2222222222222222,\"#7201a8\"],[0.3333333333333333,\"#9c179e\"],[0.4444444444444444,\"#bd3786\"],[0.5555555555555556,\"#d8576b\"],[0.6666666666666666,\"#ed7953\"],[0.7777777777777778,\"#fb9f3a\"],[0.8888888888888888,\"#fdca26\"],[1.0,\"#f0f921\"]],\"diverging\":[[0,\"#8e0152\"],[0.1,\"#c51b7d\"],[0.2,\"#de77ae\"],[0.3,\"#f1b6da\"],[0.4,\"#fde0ef\"],[0.5,\"#f7f7f7\"],[0.6,\"#e6f5d0\"],[0.7,\"#b8e186\"],[0.8,\"#7fbc41\"],[0.9,\"#4d9221\"],[1,\"#276419\"]]},\"xaxis\":{\"gridcolor\":\"white\",\"linecolor\":\"white\",\"ticks\":\"\",\"title\":{\"standoff\":15},\"zerolinecolor\":\"white\",\"automargin\":true,\"zerolinewidth\":2},\"yaxis\":{\"gridcolor\":\"white\",\"linecolor\":\"white\",\"ticks\":\"\",\"title\":{\"standoff\":15},\"zerolinecolor\":\"white\",\"automargin\":true,\"zerolinewidth\":2},\"scene\":{\"xaxis\":{\"backgroundcolor\":\"#E5ECF6\",\"gridcolor\":\"white\",\"linecolor\":\"white\",\"showbackground\":true,\"ticks\":\"\",\"zerolinecolor\":\"white\",\"gridwidth\":2},\"yaxis\":{\"backgroundcolor\":\"#E5ECF6\",\"gridcolor\":\"white\",\"linecolor\":\"white\",\"showbackground\":true,\"ticks\":\"\",\"zerolinecolor\":\"white\",\"gridwidth\":2},\"zaxis\":{\"backgroundcolor\":\"#E5ECF6\",\"gridcolor\":\"white\",\"linecolor\":\"white\",\"showbackground\":true,\"ticks\":\"\",\"zerolinecolor\":\"white\",\"gridwidth\":2}},\"shapedefaults\":{\"line\":{\"color\":\"#2a3f5f\"}},\"annotationdefaults\":{\"arrowcolor\":\"#2a3f5f\",\"arrowhead\":0,\"arrowwidth\":1},\"geo\":{\"bgcolor\":\"white\",\"landcolor\":\"#E5ECF6\",\"subunitcolor\":\"white\",\"showland\":true,\"showlakes\":true,\"lakecolor\":\"white\"},\"title\":{\"x\":0.05},\"mapbox\":{\"style\":\"light\"}}},\"xaxis\":{\"anchor\":\"y\",\"domain\":[0.0,1.0],\"title\":{\"text\":\"PC 1 (53.8%)\"}},\"yaxis\":{\"anchor\":\"x\",\"domain\":[0.0,1.0],\"title\":{\"text\":\"PC 2 (27.3%)\"}},\"legend\":{\"title\":{\"text\":\"color, symbol\"},\"tracegroupgap\":0},\"margin\":{\"t\":60},\"height\":600,\"width\":600,\"plot_bgcolor\":\"rgb(243,243,243)\"},                        {\"responsive\": true}                    ).then(function(){\n",
       "                            \n",
       "var gd = document.getElementById('5796f2be-51a9-452c-89f2-8ee2bd2f0507');\n",
       "var x = new MutationObserver(function (mutations, observer) {{\n",
       "        var display = window.getComputedStyle(gd).display;\n",
       "        if (!display || display === 'none') {{\n",
       "            console.log([gd, 'removed!']);\n",
       "            Plotly.purge(gd);\n",
       "            observer.disconnect();\n",
       "        }}\n",
       "}});\n",
       "\n",
       "// Listen for the removal of the full notebook cells\n",
       "var notebookContainer = gd.closest('#notebook-container');\n",
       "if (notebookContainer) {{\n",
       "    x.observe(notebookContainer, {childList: true});\n",
       "}}\n",
       "\n",
       "// Listen for the clearing of the current output cell\n",
       "var outputEl = gd.closest('.output');\n",
       "if (outputEl) {{\n",
       "    x.observe(outputEl, {childList: true});\n",
       "}}\n",
       "\n",
       "                        })                };                });            </script>        </div>"
      ]
     },
     "metadata": {},
     "output_type": "display_data"
    },
    {
     "data": {
      "application/vnd.plotly.v1+json": {
       "config": {
        "plotlyServerURL": "https://plot.ly"
       },
       "data": [
        {
         "hovertemplate": "color=00<br>symbol=WT<br>1=%{x}<br>2=%{y}<extra></extra>",
         "legendgroup": "00, WT",
         "marker": {
          "color": "#636efa",
          "size": 13,
          "symbol": "circle"
         },
         "mode": "markers",
         "name": "00, WT",
         "orientation": "v",
         "showlegend": true,
         "type": "scatter",
         "x": [
          0.9338208057473384,
          2.3147239008942107,
          3.394936197015489,
          3.435388997483651,
          0.5358111570199036,
          0.9164821375236152,
          1.8014721872590633,
          1.9851787102487
         ],
         "xaxis": "x",
         "y": [
          1.6050160655121133,
          1.2159582732331298,
          1.4595414014085506,
          0.7991945610313989,
          -0.08762564111905112,
          -0.2953405336557701,
          -0.18214007026275864,
          -0.4994816016501273
         ],
         "yaxis": "y"
        },
        {
         "hovertemplate": "color=02<br>symbol=WT<br>1=%{x}<br>2=%{y}<extra></extra>",
         "legendgroup": "02, WT",
         "marker": {
          "color": "#EF553B",
          "size": 13,
          "symbol": "circle"
         },
         "mode": "markers",
         "name": "02, WT",
         "orientation": "v",
         "showlegend": true,
         "type": "scatter",
         "x": [
          3.146919992069909,
          1.1435698432792263,
          2.6762604169437316,
          1.758023738931877,
          2.016636913216894,
          2.3905915088374683,
          2.714084586531341,
          2.0644551089616625
         ],
         "xaxis": "x",
         "y": [
          1.5733281590884272,
          0.5981076461928795,
          0.5871872208170353,
          0.44993042078631645,
          -0.3249097440984648,
          -0.9130769606337658,
          -0.5264490084631988,
          -1.2160688891477869
         ],
         "yaxis": "y"
        },
        {
         "hovertemplate": "color=04<br>symbol=WT<br>1=%{x}<br>2=%{y}<extra></extra>",
         "legendgroup": "04, WT",
         "marker": {
          "color": "#00cc96",
          "size": 13,
          "symbol": "circle"
         },
         "mode": "markers",
         "name": "04, WT",
         "orientation": "v",
         "showlegend": true,
         "type": "scatter",
         "x": [
          1.9357239323776905,
          2.916261991320024,
          0.9043395315690852,
          2.4787821333792044,
          2.442668056792678,
          2.5910200018699405,
          1.055537992977617,
          2.5363769879575453
         ],
         "xaxis": "x",
         "y": [
          0.4234216416872423,
          0.561977368084073,
          0.5901956218222829,
          0.5294457918774783,
          -0.874580356424844,
          -0.5947033540741672,
          -1.250927481211026,
          -0.5393185188829211
         ],
         "yaxis": "y"
        },
        {
         "hovertemplate": "color=06<br>symbol=WT<br>1=%{x}<br>2=%{y}<extra></extra>",
         "legendgroup": "06, WT",
         "marker": {
          "color": "#ab63fa",
          "size": 13,
          "symbol": "circle"
         },
         "mode": "markers",
         "name": "06, WT",
         "orientation": "v",
         "showlegend": true,
         "type": "scatter",
         "x": [
          1.0159646961914681,
          1.0066010227301574,
          0.6415673828826396,
          1.0056254514850482,
          1.5237931526169364,
          1.6979190211715622,
          0.9207138745763037,
          1.3944837956632958
         ],
         "xaxis": "x",
         "y": [
          0.4975811361026757,
          0.44263584556516905,
          0.7788975410081127,
          0.5751619122562818,
          -1.074186769570013,
          -1.1441658811420992,
          -1.1733061062839951,
          -1.2093608992942728
         ],
         "yaxis": "y"
        },
        {
         "hovertemplate": "color=08<br>symbol=WT<br>1=%{x}<br>2=%{y}<extra></extra>",
         "legendgroup": "08, WT",
         "marker": {
          "color": "#FFA15A",
          "size": 13,
          "symbol": "circle"
         },
         "mode": "markers",
         "name": "08, WT",
         "orientation": "v",
         "showlegend": true,
         "type": "scatter",
         "x": [
          0.2412630550293468,
          -0.6737891453790422,
          -0.5210136385574916,
          0.3117645166841322,
          0.2124927866909282,
          -0.4983342698569592,
          -0.41572244223502763,
          0.5906499509211435
         ],
         "xaxis": "x",
         "y": [
          0.8336620315751527,
          0.7478490003980566,
          0.7835760772335738,
          0.8556933224835792,
          -1.049938273783036,
          -0.9329028639103578,
          -0.9160221780201456,
          -0.9394345411097975
         ],
         "yaxis": "y"
        },
        {
         "hovertemplate": "color=10<br>symbol=WT<br>1=%{x}<br>2=%{y}<extra></extra>",
         "legendgroup": "10, WT",
         "marker": {
          "color": "#19d3f3",
          "size": 13,
          "symbol": "circle"
         },
         "mode": "markers",
         "name": "10, WT",
         "orientation": "v",
         "showlegend": true,
         "type": "scatter",
         "x": [
          -0.27730931794635355,
          -0.2402592457477616,
          -0.8869833503775059,
          -0.3067145218869309,
          -0.1627713329672777,
          -0.3281857758573428,
          -0.9339856996480593,
          -0.2550396604827015
         ],
         "xaxis": "x",
         "y": [
          0.8921492181238877,
          0.8671123635375246,
          0.6387264237043004,
          0.9268873225658818,
          -1.0034048712359338,
          -0.890103431180037,
          -1.0033031836231858,
          -0.9706740222885357
         ],
         "yaxis": "y"
        },
        {
         "hovertemplate": "color=12<br>symbol=WT<br>1=%{x}<br>2=%{y}<extra></extra>",
         "legendgroup": "12, WT",
         "marker": {
          "color": "#FF6692",
          "size": 13,
          "symbol": "circle"
         },
         "mode": "markers",
         "name": "12, WT",
         "orientation": "v",
         "showlegend": true,
         "type": "scatter",
         "x": [
          -1.183312045427898,
          -1.0252316961163632,
          -0.9662421235660628,
          -1.1176251044141212,
          -0.9472602311027467,
          -0.975666094690166,
          -0.8054500537729764,
          -0.9870720178437262
         ],
         "xaxis": "x",
         "y": [
          0.5494241926155835,
          0.7531046879676079,
          0.8557464099061531,
          0.5632041493660737,
          -1.0603689946945238,
          -0.9347467938303217,
          -0.9177906511321744,
          -1.3755304942187832
         ],
         "yaxis": "y"
        },
        {
         "hovertemplate": "color=14<br>symbol=WT<br>1=%{x}<br>2=%{y}<extra></extra>",
         "legendgroup": "14, WT",
         "marker": {
          "color": "#B6E880",
          "size": 13,
          "symbol": "circle"
         },
         "mode": "markers",
         "name": "14, WT",
         "orientation": "v",
         "showlegend": true,
         "type": "scatter",
         "x": [
          -1.0436902077459806,
          -1.7510701218415736,
          -1.0992323898444958,
          -1.3299189345564602,
          -1.0693332113022496,
          -1.2503252654488783,
          -0.9892176468918458,
          -1.1521042943417623
         ],
         "xaxis": "x",
         "y": [
          0.6979354487641556,
          0.5716715000711776,
          0.5853843752588204,
          0.4639691217890404,
          -1.0875579131899213,
          -1.367884423650998,
          -1.3407033147385845,
          -1.406947437438278
         ],
         "yaxis": "y"
        },
        {
         "hovertemplate": "color=16<br>symbol=WT<br>1=%{x}<br>2=%{y}<extra></extra>",
         "legendgroup": "16, WT",
         "marker": {
          "color": "#FF97FF",
          "size": 13,
          "symbol": "circle"
         },
         "mode": "markers",
         "name": "16, WT",
         "orientation": "v",
         "showlegend": true,
         "type": "scatter",
         "x": [
          -1.8008919889024435,
          -1.610936146173276,
          -1.7850133140459443,
          -1.7905247750815718,
          -1.1141141158453451,
          -1.075648969779396,
          -1.1253497628182634,
          -1.0421394848582546
         ],
         "xaxis": "x",
         "y": [
          0.6201346121664709,
          0.4350588720180773,
          0.7000221812190097,
          0.44252937493336547,
          -1.4410153601472082,
          -1.2822912208537531,
          -1.2928858936928078,
          -1.3728042038881247
         ],
         "yaxis": "y"
        },
        {
         "hovertemplate": "color=18<br>symbol=WT<br>1=%{x}<br>2=%{y}<extra></extra>",
         "legendgroup": "18, WT",
         "marker": {
          "color": "#FECB52",
          "size": 13,
          "symbol": "circle"
         },
         "mode": "markers",
         "name": "18, WT",
         "orientation": "v",
         "showlegend": true,
         "type": "scatter",
         "x": [
          -1.9902083266931663,
          -1.9522410555538867,
          -1.7730149279396197,
          -1.9593216635293056,
          -0.9770828604639302,
          -1.3300548670068262,
          -1.1758225044501838,
          -1.278976729561046
         ],
         "xaxis": "x",
         "y": [
          0.7069624999892632,
          1.0826724445661011,
          0.9355475444969009,
          0.7168053382377484,
          -1.4014607555958523,
          -0.9895127115491698,
          -1.0442554039376237,
          -1.1528149027491885
         ],
         "yaxis": "y"
        },
        {
         "hovertemplate": "color=20<br>symbol=WT<br>1=%{x}<br>2=%{y}<extra></extra>",
         "legendgroup": "20, WT",
         "marker": {
          "color": "#636efa",
          "size": 13,
          "symbol": "circle"
         },
         "mode": "markers",
         "name": "20, WT",
         "orientation": "v",
         "showlegend": true,
         "type": "scatter",
         "x": [
          -1.2267376314804779,
          -1.1639967965661564,
          -2.004151993590083,
          -1.8364516282180297,
          -0.8625220988310626,
          -0.9572077839933525,
          -0.9899965361541804,
          -1.0798153133422923
         ],
         "xaxis": "x",
         "y": [
          1.6469602136394015,
          1.5856204783717867,
          1.3248189853022279,
          1.2365355814251886,
          -0.33798378728537376,
          0.10548551980102541,
          -0.8702776636091447,
          -0.9336810741757607
         ],
         "yaxis": "y"
        },
        {
         "hovertemplate": "color=22<br>symbol=WT<br>1=%{x}<br>2=%{y}<extra></extra>",
         "legendgroup": "22, WT",
         "marker": {
          "color": "#EF553B",
          "size": 13,
          "symbol": "circle"
         },
         "mode": "markers",
         "name": "22, WT",
         "orientation": "v",
         "showlegend": true,
         "type": "scatter",
         "x": [
          0.024211547277230308,
          -0.290919790638993,
          -1.3264189382415688,
          -0.7436073654329041,
          -0.019765337850230505,
          0.09616250932080908,
          -0.8101056224484938,
          -0.4863814241088203
         ],
         "xaxis": "x",
         "y": [
          1.8072680657010205,
          1.8923044362307315,
          1.6494830920359664,
          1.2952695295471073,
          -0.17293715752383323,
          -0.29621299205598967,
          -0.26566282523647117,
          -0.5004038652559307
         ],
         "yaxis": "y"
        }
       ],
       "layout": {
        "height": 600,
        "legend": {
         "title": {
          "text": "color, symbol"
         },
         "tracegroupgap": 0
        },
        "margin": {
         "t": 60
        },
        "plot_bgcolor": "rgb(243,243,243)",
        "template": {
         "data": {
          "bar": [
           {
            "error_x": {
             "color": "#2a3f5f"
            },
            "error_y": {
             "color": "#2a3f5f"
            },
            "marker": {
             "line": {
              "color": "#E5ECF6",
              "width": 0.5
             },
             "pattern": {
              "fillmode": "overlay",
              "size": 10,
              "solidity": 0.2
             }
            },
            "type": "bar"
           }
          ],
          "barpolar": [
           {
            "marker": {
             "line": {
              "color": "#E5ECF6",
              "width": 0.5
             },
             "pattern": {
              "fillmode": "overlay",
              "size": 10,
              "solidity": 0.2
             }
            },
            "type": "barpolar"
           }
          ],
          "carpet": [
           {
            "aaxis": {
             "endlinecolor": "#2a3f5f",
             "gridcolor": "white",
             "linecolor": "white",
             "minorgridcolor": "white",
             "startlinecolor": "#2a3f5f"
            },
            "baxis": {
             "endlinecolor": "#2a3f5f",
             "gridcolor": "white",
             "linecolor": "white",
             "minorgridcolor": "white",
             "startlinecolor": "#2a3f5f"
            },
            "type": "carpet"
           }
          ],
          "choropleth": [
           {
            "colorbar": {
             "outlinewidth": 0,
             "ticks": ""
            },
            "type": "choropleth"
           }
          ],
          "contour": [
           {
            "colorbar": {
             "outlinewidth": 0,
             "ticks": ""
            },
            "colorscale": [
             [
              0,
              "#0d0887"
             ],
             [
              0.1111111111111111,
              "#46039f"
             ],
             [
              0.2222222222222222,
              "#7201a8"
             ],
             [
              0.3333333333333333,
              "#9c179e"
             ],
             [
              0.4444444444444444,
              "#bd3786"
             ],
             [
              0.5555555555555556,
              "#d8576b"
             ],
             [
              0.6666666666666666,
              "#ed7953"
             ],
             [
              0.7777777777777778,
              "#fb9f3a"
             ],
             [
              0.8888888888888888,
              "#fdca26"
             ],
             [
              1,
              "#f0f921"
             ]
            ],
            "type": "contour"
           }
          ],
          "contourcarpet": [
           {
            "colorbar": {
             "outlinewidth": 0,
             "ticks": ""
            },
            "type": "contourcarpet"
           }
          ],
          "heatmap": [
           {
            "colorbar": {
             "outlinewidth": 0,
             "ticks": ""
            },
            "colorscale": [
             [
              0,
              "#0d0887"
             ],
             [
              0.1111111111111111,
              "#46039f"
             ],
             [
              0.2222222222222222,
              "#7201a8"
             ],
             [
              0.3333333333333333,
              "#9c179e"
             ],
             [
              0.4444444444444444,
              "#bd3786"
             ],
             [
              0.5555555555555556,
              "#d8576b"
             ],
             [
              0.6666666666666666,
              "#ed7953"
             ],
             [
              0.7777777777777778,
              "#fb9f3a"
             ],
             [
              0.8888888888888888,
              "#fdca26"
             ],
             [
              1,
              "#f0f921"
             ]
            ],
            "type": "heatmap"
           }
          ],
          "heatmapgl": [
           {
            "colorbar": {
             "outlinewidth": 0,
             "ticks": ""
            },
            "colorscale": [
             [
              0,
              "#0d0887"
             ],
             [
              0.1111111111111111,
              "#46039f"
             ],
             [
              0.2222222222222222,
              "#7201a8"
             ],
             [
              0.3333333333333333,
              "#9c179e"
             ],
             [
              0.4444444444444444,
              "#bd3786"
             ],
             [
              0.5555555555555556,
              "#d8576b"
             ],
             [
              0.6666666666666666,
              "#ed7953"
             ],
             [
              0.7777777777777778,
              "#fb9f3a"
             ],
             [
              0.8888888888888888,
              "#fdca26"
             ],
             [
              1,
              "#f0f921"
             ]
            ],
            "type": "heatmapgl"
           }
          ],
          "histogram": [
           {
            "marker": {
             "pattern": {
              "fillmode": "overlay",
              "size": 10,
              "solidity": 0.2
             }
            },
            "type": "histogram"
           }
          ],
          "histogram2d": [
           {
            "colorbar": {
             "outlinewidth": 0,
             "ticks": ""
            },
            "colorscale": [
             [
              0,
              "#0d0887"
             ],
             [
              0.1111111111111111,
              "#46039f"
             ],
             [
              0.2222222222222222,
              "#7201a8"
             ],
             [
              0.3333333333333333,
              "#9c179e"
             ],
             [
              0.4444444444444444,
              "#bd3786"
             ],
             [
              0.5555555555555556,
              "#d8576b"
             ],
             [
              0.6666666666666666,
              "#ed7953"
             ],
             [
              0.7777777777777778,
              "#fb9f3a"
             ],
             [
              0.8888888888888888,
              "#fdca26"
             ],
             [
              1,
              "#f0f921"
             ]
            ],
            "type": "histogram2d"
           }
          ],
          "histogram2dcontour": [
           {
            "colorbar": {
             "outlinewidth": 0,
             "ticks": ""
            },
            "colorscale": [
             [
              0,
              "#0d0887"
             ],
             [
              0.1111111111111111,
              "#46039f"
             ],
             [
              0.2222222222222222,
              "#7201a8"
             ],
             [
              0.3333333333333333,
              "#9c179e"
             ],
             [
              0.4444444444444444,
              "#bd3786"
             ],
             [
              0.5555555555555556,
              "#d8576b"
             ],
             [
              0.6666666666666666,
              "#ed7953"
             ],
             [
              0.7777777777777778,
              "#fb9f3a"
             ],
             [
              0.8888888888888888,
              "#fdca26"
             ],
             [
              1,
              "#f0f921"
             ]
            ],
            "type": "histogram2dcontour"
           }
          ],
          "mesh3d": [
           {
            "colorbar": {
             "outlinewidth": 0,
             "ticks": ""
            },
            "type": "mesh3d"
           }
          ],
          "parcoords": [
           {
            "line": {
             "colorbar": {
              "outlinewidth": 0,
              "ticks": ""
             }
            },
            "type": "parcoords"
           }
          ],
          "pie": [
           {
            "automargin": true,
            "type": "pie"
           }
          ],
          "scatter": [
           {
            "fillpattern": {
             "fillmode": "overlay",
             "size": 10,
             "solidity": 0.2
            },
            "type": "scatter"
           }
          ],
          "scatter3d": [
           {
            "line": {
             "colorbar": {
              "outlinewidth": 0,
              "ticks": ""
             }
            },
            "marker": {
             "colorbar": {
              "outlinewidth": 0,
              "ticks": ""
             }
            },
            "type": "scatter3d"
           }
          ],
          "scattercarpet": [
           {
            "marker": {
             "colorbar": {
              "outlinewidth": 0,
              "ticks": ""
             }
            },
            "type": "scattercarpet"
           }
          ],
          "scattergeo": [
           {
            "marker": {
             "colorbar": {
              "outlinewidth": 0,
              "ticks": ""
             }
            },
            "type": "scattergeo"
           }
          ],
          "scattergl": [
           {
            "marker": {
             "colorbar": {
              "outlinewidth": 0,
              "ticks": ""
             }
            },
            "type": "scattergl"
           }
          ],
          "scattermapbox": [
           {
            "marker": {
             "colorbar": {
              "outlinewidth": 0,
              "ticks": ""
             }
            },
            "type": "scattermapbox"
           }
          ],
          "scatterpolar": [
           {
            "marker": {
             "colorbar": {
              "outlinewidth": 0,
              "ticks": ""
             }
            },
            "type": "scatterpolar"
           }
          ],
          "scatterpolargl": [
           {
            "marker": {
             "colorbar": {
              "outlinewidth": 0,
              "ticks": ""
             }
            },
            "type": "scatterpolargl"
           }
          ],
          "scatterternary": [
           {
            "marker": {
             "colorbar": {
              "outlinewidth": 0,
              "ticks": ""
             }
            },
            "type": "scatterternary"
           }
          ],
          "surface": [
           {
            "colorbar": {
             "outlinewidth": 0,
             "ticks": ""
            },
            "colorscale": [
             [
              0,
              "#0d0887"
             ],
             [
              0.1111111111111111,
              "#46039f"
             ],
             [
              0.2222222222222222,
              "#7201a8"
             ],
             [
              0.3333333333333333,
              "#9c179e"
             ],
             [
              0.4444444444444444,
              "#bd3786"
             ],
             [
              0.5555555555555556,
              "#d8576b"
             ],
             [
              0.6666666666666666,
              "#ed7953"
             ],
             [
              0.7777777777777778,
              "#fb9f3a"
             ],
             [
              0.8888888888888888,
              "#fdca26"
             ],
             [
              1,
              "#f0f921"
             ]
            ],
            "type": "surface"
           }
          ],
          "table": [
           {
            "cells": {
             "fill": {
              "color": "#EBF0F8"
             },
             "line": {
              "color": "white"
             }
            },
            "header": {
             "fill": {
              "color": "#C8D4E3"
             },
             "line": {
              "color": "white"
             }
            },
            "type": "table"
           }
          ]
         },
         "layout": {
          "annotationdefaults": {
           "arrowcolor": "#2a3f5f",
           "arrowhead": 0,
           "arrowwidth": 1
          },
          "autotypenumbers": "strict",
          "coloraxis": {
           "colorbar": {
            "outlinewidth": 0,
            "ticks": ""
           }
          },
          "colorscale": {
           "diverging": [
            [
             0,
             "#8e0152"
            ],
            [
             0.1,
             "#c51b7d"
            ],
            [
             0.2,
             "#de77ae"
            ],
            [
             0.3,
             "#f1b6da"
            ],
            [
             0.4,
             "#fde0ef"
            ],
            [
             0.5,
             "#f7f7f7"
            ],
            [
             0.6,
             "#e6f5d0"
            ],
            [
             0.7,
             "#b8e186"
            ],
            [
             0.8,
             "#7fbc41"
            ],
            [
             0.9,
             "#4d9221"
            ],
            [
             1,
             "#276419"
            ]
           ],
           "sequential": [
            [
             0,
             "#0d0887"
            ],
            [
             0.1111111111111111,
             "#46039f"
            ],
            [
             0.2222222222222222,
             "#7201a8"
            ],
            [
             0.3333333333333333,
             "#9c179e"
            ],
            [
             0.4444444444444444,
             "#bd3786"
            ],
            [
             0.5555555555555556,
             "#d8576b"
            ],
            [
             0.6666666666666666,
             "#ed7953"
            ],
            [
             0.7777777777777778,
             "#fb9f3a"
            ],
            [
             0.8888888888888888,
             "#fdca26"
            ],
            [
             1,
             "#f0f921"
            ]
           ],
           "sequentialminus": [
            [
             0,
             "#0d0887"
            ],
            [
             0.1111111111111111,
             "#46039f"
            ],
            [
             0.2222222222222222,
             "#7201a8"
            ],
            [
             0.3333333333333333,
             "#9c179e"
            ],
            [
             0.4444444444444444,
             "#bd3786"
            ],
            [
             0.5555555555555556,
             "#d8576b"
            ],
            [
             0.6666666666666666,
             "#ed7953"
            ],
            [
             0.7777777777777778,
             "#fb9f3a"
            ],
            [
             0.8888888888888888,
             "#fdca26"
            ],
            [
             1,
             "#f0f921"
            ]
           ]
          },
          "colorway": [
           "#636efa",
           "#EF553B",
           "#00cc96",
           "#ab63fa",
           "#FFA15A",
           "#19d3f3",
           "#FF6692",
           "#B6E880",
           "#FF97FF",
           "#FECB52"
          ],
          "font": {
           "color": "#2a3f5f"
          },
          "geo": {
           "bgcolor": "white",
           "lakecolor": "white",
           "landcolor": "#E5ECF6",
           "showlakes": true,
           "showland": true,
           "subunitcolor": "white"
          },
          "hoverlabel": {
           "align": "left"
          },
          "hovermode": "closest",
          "mapbox": {
           "style": "light"
          },
          "paper_bgcolor": "white",
          "plot_bgcolor": "#E5ECF6",
          "polar": {
           "angularaxis": {
            "gridcolor": "white",
            "linecolor": "white",
            "ticks": ""
           },
           "bgcolor": "#E5ECF6",
           "radialaxis": {
            "gridcolor": "white",
            "linecolor": "white",
            "ticks": ""
           }
          },
          "scene": {
           "xaxis": {
            "backgroundcolor": "#E5ECF6",
            "gridcolor": "white",
            "gridwidth": 2,
            "linecolor": "white",
            "showbackground": true,
            "ticks": "",
            "zerolinecolor": "white"
           },
           "yaxis": {
            "backgroundcolor": "#E5ECF6",
            "gridcolor": "white",
            "gridwidth": 2,
            "linecolor": "white",
            "showbackground": true,
            "ticks": "",
            "zerolinecolor": "white"
           },
           "zaxis": {
            "backgroundcolor": "#E5ECF6",
            "gridcolor": "white",
            "gridwidth": 2,
            "linecolor": "white",
            "showbackground": true,
            "ticks": "",
            "zerolinecolor": "white"
           }
          },
          "shapedefaults": {
           "line": {
            "color": "#2a3f5f"
           }
          },
          "ternary": {
           "aaxis": {
            "gridcolor": "white",
            "linecolor": "white",
            "ticks": ""
           },
           "baxis": {
            "gridcolor": "white",
            "linecolor": "white",
            "ticks": ""
           },
           "bgcolor": "#E5ECF6",
           "caxis": {
            "gridcolor": "white",
            "linecolor": "white",
            "ticks": ""
           }
          },
          "title": {
           "x": 0.05
          },
          "xaxis": {
           "automargin": true,
           "gridcolor": "white",
           "linecolor": "white",
           "ticks": "",
           "title": {
            "standoff": 15
           },
           "zerolinecolor": "white",
           "zerolinewidth": 2
          },
          "yaxis": {
           "automargin": true,
           "gridcolor": "white",
           "linecolor": "white",
           "ticks": "",
           "title": {
            "standoff": 15
           },
           "zerolinecolor": "white",
           "zerolinewidth": 2
          }
         }
        },
        "width": 600,
        "xaxis": {
         "anchor": "y",
         "domain": [
          0,
          1
         ],
         "title": {
          "text": "PC 2 (27.3%)"
         }
        },
        "yaxis": {
         "anchor": "x",
         "domain": [
          0,
          1
         ],
         "title": {
          "text": "PC 3 (11.8%)"
         }
        }
       }
      },
      "text/html": [
       "<div>                            <div id=\"bb64ecb9-5e49-470f-9b03-0c8d01803c73\" class=\"plotly-graph-div\" style=\"height:600px; width:600px;\"></div>            <script type=\"text/javascript\">                require([\"plotly\"], function(Plotly) {                    window.PLOTLYENV=window.PLOTLYENV || {};                                    if (document.getElementById(\"bb64ecb9-5e49-470f-9b03-0c8d01803c73\")) {                    Plotly.newPlot(                        \"bb64ecb9-5e49-470f-9b03-0c8d01803c73\",                        [{\"hovertemplate\":\"color=00<br>symbol=WT<br>1=%{x}<br>2=%{y}<extra></extra>\",\"legendgroup\":\"00, WT\",\"marker\":{\"color\":\"#636efa\",\"symbol\":\"circle\",\"size\":13},\"mode\":\"markers\",\"name\":\"00, WT\",\"orientation\":\"v\",\"showlegend\":true,\"x\":[0.9338208057473384,2.3147239008942107,3.394936197015489,3.435388997483651,0.5358111570199036,0.9164821375236152,1.8014721872590633,1.9851787102487],\"xaxis\":\"x\",\"y\":[1.6050160655121133,1.2159582732331298,1.4595414014085506,0.7991945610313989,-0.08762564111905112,-0.2953405336557701,-0.18214007026275864,-0.4994816016501273],\"yaxis\":\"y\",\"type\":\"scatter\"},{\"hovertemplate\":\"color=02<br>symbol=WT<br>1=%{x}<br>2=%{y}<extra></extra>\",\"legendgroup\":\"02, WT\",\"marker\":{\"color\":\"#EF553B\",\"symbol\":\"circle\",\"size\":13},\"mode\":\"markers\",\"name\":\"02, WT\",\"orientation\":\"v\",\"showlegend\":true,\"x\":[3.146919992069909,1.1435698432792263,2.6762604169437316,1.758023738931877,2.016636913216894,2.3905915088374683,2.714084586531341,2.0644551089616625],\"xaxis\":\"x\",\"y\":[1.5733281590884272,0.5981076461928795,0.5871872208170353,0.44993042078631645,-0.3249097440984648,-0.9130769606337658,-0.5264490084631988,-1.2160688891477869],\"yaxis\":\"y\",\"type\":\"scatter\"},{\"hovertemplate\":\"color=04<br>symbol=WT<br>1=%{x}<br>2=%{y}<extra></extra>\",\"legendgroup\":\"04, WT\",\"marker\":{\"color\":\"#00cc96\",\"symbol\":\"circle\",\"size\":13},\"mode\":\"markers\",\"name\":\"04, WT\",\"orientation\":\"v\",\"showlegend\":true,\"x\":[1.9357239323776905,2.916261991320024,0.9043395315690852,2.4787821333792044,2.442668056792678,2.5910200018699405,1.055537992977617,2.5363769879575453],\"xaxis\":\"x\",\"y\":[0.4234216416872423,0.561977368084073,0.5901956218222829,0.5294457918774783,-0.874580356424844,-0.5947033540741672,-1.250927481211026,-0.5393185188829211],\"yaxis\":\"y\",\"type\":\"scatter\"},{\"hovertemplate\":\"color=06<br>symbol=WT<br>1=%{x}<br>2=%{y}<extra></extra>\",\"legendgroup\":\"06, WT\",\"marker\":{\"color\":\"#ab63fa\",\"symbol\":\"circle\",\"size\":13},\"mode\":\"markers\",\"name\":\"06, WT\",\"orientation\":\"v\",\"showlegend\":true,\"x\":[1.0159646961914681,1.0066010227301574,0.6415673828826396,1.0056254514850482,1.5237931526169364,1.6979190211715622,0.9207138745763037,1.3944837956632958],\"xaxis\":\"x\",\"y\":[0.4975811361026757,0.44263584556516905,0.7788975410081127,0.5751619122562818,-1.074186769570013,-1.1441658811420992,-1.1733061062839951,-1.2093608992942728],\"yaxis\":\"y\",\"type\":\"scatter\"},{\"hovertemplate\":\"color=08<br>symbol=WT<br>1=%{x}<br>2=%{y}<extra></extra>\",\"legendgroup\":\"08, WT\",\"marker\":{\"color\":\"#FFA15A\",\"symbol\":\"circle\",\"size\":13},\"mode\":\"markers\",\"name\":\"08, WT\",\"orientation\":\"v\",\"showlegend\":true,\"x\":[0.2412630550293468,-0.6737891453790422,-0.5210136385574916,0.3117645166841322,0.2124927866909282,-0.4983342698569592,-0.41572244223502763,0.5906499509211435],\"xaxis\":\"x\",\"y\":[0.8336620315751527,0.7478490003980566,0.7835760772335738,0.8556933224835792,-1.049938273783036,-0.9329028639103578,-0.9160221780201456,-0.9394345411097975],\"yaxis\":\"y\",\"type\":\"scatter\"},{\"hovertemplate\":\"color=10<br>symbol=WT<br>1=%{x}<br>2=%{y}<extra></extra>\",\"legendgroup\":\"10, WT\",\"marker\":{\"color\":\"#19d3f3\",\"symbol\":\"circle\",\"size\":13},\"mode\":\"markers\",\"name\":\"10, WT\",\"orientation\":\"v\",\"showlegend\":true,\"x\":[-0.27730931794635355,-0.2402592457477616,-0.8869833503775059,-0.3067145218869309,-0.1627713329672777,-0.3281857758573428,-0.9339856996480593,-0.2550396604827015],\"xaxis\":\"x\",\"y\":[0.8921492181238877,0.8671123635375246,0.6387264237043004,0.9268873225658818,-1.0034048712359338,-0.890103431180037,-1.0033031836231858,-0.9706740222885357],\"yaxis\":\"y\",\"type\":\"scatter\"},{\"hovertemplate\":\"color=12<br>symbol=WT<br>1=%{x}<br>2=%{y}<extra></extra>\",\"legendgroup\":\"12, WT\",\"marker\":{\"color\":\"#FF6692\",\"symbol\":\"circle\",\"size\":13},\"mode\":\"markers\",\"name\":\"12, WT\",\"orientation\":\"v\",\"showlegend\":true,\"x\":[-1.183312045427898,-1.0252316961163632,-0.9662421235660628,-1.1176251044141212,-0.9472602311027467,-0.975666094690166,-0.8054500537729764,-0.9870720178437262],\"xaxis\":\"x\",\"y\":[0.5494241926155835,0.7531046879676079,0.8557464099061531,0.5632041493660737,-1.0603689946945238,-0.9347467938303217,-0.9177906511321744,-1.3755304942187832],\"yaxis\":\"y\",\"type\":\"scatter\"},{\"hovertemplate\":\"color=14<br>symbol=WT<br>1=%{x}<br>2=%{y}<extra></extra>\",\"legendgroup\":\"14, WT\",\"marker\":{\"color\":\"#B6E880\",\"symbol\":\"circle\",\"size\":13},\"mode\":\"markers\",\"name\":\"14, WT\",\"orientation\":\"v\",\"showlegend\":true,\"x\":[-1.0436902077459806,-1.7510701218415736,-1.0992323898444958,-1.3299189345564602,-1.0693332113022496,-1.2503252654488783,-0.9892176468918458,-1.1521042943417623],\"xaxis\":\"x\",\"y\":[0.6979354487641556,0.5716715000711776,0.5853843752588204,0.4639691217890404,-1.0875579131899213,-1.367884423650998,-1.3407033147385845,-1.406947437438278],\"yaxis\":\"y\",\"type\":\"scatter\"},{\"hovertemplate\":\"color=16<br>symbol=WT<br>1=%{x}<br>2=%{y}<extra></extra>\",\"legendgroup\":\"16, WT\",\"marker\":{\"color\":\"#FF97FF\",\"symbol\":\"circle\",\"size\":13},\"mode\":\"markers\",\"name\":\"16, WT\",\"orientation\":\"v\",\"showlegend\":true,\"x\":[-1.8008919889024435,-1.610936146173276,-1.7850133140459443,-1.7905247750815718,-1.1141141158453451,-1.075648969779396,-1.1253497628182634,-1.0421394848582546],\"xaxis\":\"x\",\"y\":[0.6201346121664709,0.4350588720180773,0.7000221812190097,0.44252937493336547,-1.4410153601472082,-1.2822912208537531,-1.2928858936928078,-1.3728042038881247],\"yaxis\":\"y\",\"type\":\"scatter\"},{\"hovertemplate\":\"color=18<br>symbol=WT<br>1=%{x}<br>2=%{y}<extra></extra>\",\"legendgroup\":\"18, WT\",\"marker\":{\"color\":\"#FECB52\",\"symbol\":\"circle\",\"size\":13},\"mode\":\"markers\",\"name\":\"18, WT\",\"orientation\":\"v\",\"showlegend\":true,\"x\":[-1.9902083266931663,-1.9522410555538867,-1.7730149279396197,-1.9593216635293056,-0.9770828604639302,-1.3300548670068262,-1.1758225044501838,-1.278976729561046],\"xaxis\":\"x\",\"y\":[0.7069624999892632,1.0826724445661011,0.9355475444969009,0.7168053382377484,-1.4014607555958523,-0.9895127115491698,-1.0442554039376237,-1.1528149027491885],\"yaxis\":\"y\",\"type\":\"scatter\"},{\"hovertemplate\":\"color=20<br>symbol=WT<br>1=%{x}<br>2=%{y}<extra></extra>\",\"legendgroup\":\"20, WT\",\"marker\":{\"color\":\"#636efa\",\"symbol\":\"circle\",\"size\":13},\"mode\":\"markers\",\"name\":\"20, WT\",\"orientation\":\"v\",\"showlegend\":true,\"x\":[-1.2267376314804779,-1.1639967965661564,-2.004151993590083,-1.8364516282180297,-0.8625220988310626,-0.9572077839933525,-0.9899965361541804,-1.0798153133422923],\"xaxis\":\"x\",\"y\":[1.6469602136394015,1.5856204783717867,1.3248189853022279,1.2365355814251886,-0.33798378728537376,0.10548551980102541,-0.8702776636091447,-0.9336810741757607],\"yaxis\":\"y\",\"type\":\"scatter\"},{\"hovertemplate\":\"color=22<br>symbol=WT<br>1=%{x}<br>2=%{y}<extra></extra>\",\"legendgroup\":\"22, WT\",\"marker\":{\"color\":\"#EF553B\",\"symbol\":\"circle\",\"size\":13},\"mode\":\"markers\",\"name\":\"22, WT\",\"orientation\":\"v\",\"showlegend\":true,\"x\":[0.024211547277230308,-0.290919790638993,-1.3264189382415688,-0.7436073654329041,-0.019765337850230505,0.09616250932080908,-0.8101056224484938,-0.4863814241088203],\"xaxis\":\"x\",\"y\":[1.8072680657010205,1.8923044362307315,1.6494830920359664,1.2952695295471073,-0.17293715752383323,-0.29621299205598967,-0.26566282523647117,-0.5004038652559307],\"yaxis\":\"y\",\"type\":\"scatter\"}],                        {\"template\":{\"data\":{\"histogram2dcontour\":[{\"type\":\"histogram2dcontour\",\"colorbar\":{\"outlinewidth\":0,\"ticks\":\"\"},\"colorscale\":[[0.0,\"#0d0887\"],[0.1111111111111111,\"#46039f\"],[0.2222222222222222,\"#7201a8\"],[0.3333333333333333,\"#9c179e\"],[0.4444444444444444,\"#bd3786\"],[0.5555555555555556,\"#d8576b\"],[0.6666666666666666,\"#ed7953\"],[0.7777777777777778,\"#fb9f3a\"],[0.8888888888888888,\"#fdca26\"],[1.0,\"#f0f921\"]]}],\"choropleth\":[{\"type\":\"choropleth\",\"colorbar\":{\"outlinewidth\":0,\"ticks\":\"\"}}],\"histogram2d\":[{\"type\":\"histogram2d\",\"colorbar\":{\"outlinewidth\":0,\"ticks\":\"\"},\"colorscale\":[[0.0,\"#0d0887\"],[0.1111111111111111,\"#46039f\"],[0.2222222222222222,\"#7201a8\"],[0.3333333333333333,\"#9c179e\"],[0.4444444444444444,\"#bd3786\"],[0.5555555555555556,\"#d8576b\"],[0.6666666666666666,\"#ed7953\"],[0.7777777777777778,\"#fb9f3a\"],[0.8888888888888888,\"#fdca26\"],[1.0,\"#f0f921\"]]}],\"heatmap\":[{\"type\":\"heatmap\",\"colorbar\":{\"outlinewidth\":0,\"ticks\":\"\"},\"colorscale\":[[0.0,\"#0d0887\"],[0.1111111111111111,\"#46039f\"],[0.2222222222222222,\"#7201a8\"],[0.3333333333333333,\"#9c179e\"],[0.4444444444444444,\"#bd3786\"],[0.5555555555555556,\"#d8576b\"],[0.6666666666666666,\"#ed7953\"],[0.7777777777777778,\"#fb9f3a\"],[0.8888888888888888,\"#fdca26\"],[1.0,\"#f0f921\"]]}],\"heatmapgl\":[{\"type\":\"heatmapgl\",\"colorbar\":{\"outlinewidth\":0,\"ticks\":\"\"},\"colorscale\":[[0.0,\"#0d0887\"],[0.1111111111111111,\"#46039f\"],[0.2222222222222222,\"#7201a8\"],[0.3333333333333333,\"#9c179e\"],[0.4444444444444444,\"#bd3786\"],[0.5555555555555556,\"#d8576b\"],[0.6666666666666666,\"#ed7953\"],[0.7777777777777778,\"#fb9f3a\"],[0.8888888888888888,\"#fdca26\"],[1.0,\"#f0f921\"]]}],\"contourcarpet\":[{\"type\":\"contourcarpet\",\"colorbar\":{\"outlinewidth\":0,\"ticks\":\"\"}}],\"contour\":[{\"type\":\"contour\",\"colorbar\":{\"outlinewidth\":0,\"ticks\":\"\"},\"colorscale\":[[0.0,\"#0d0887\"],[0.1111111111111111,\"#46039f\"],[0.2222222222222222,\"#7201a8\"],[0.3333333333333333,\"#9c179e\"],[0.4444444444444444,\"#bd3786\"],[0.5555555555555556,\"#d8576b\"],[0.6666666666666666,\"#ed7953\"],[0.7777777777777778,\"#fb9f3a\"],[0.8888888888888888,\"#fdca26\"],[1.0,\"#f0f921\"]]}],\"surface\":[{\"type\":\"surface\",\"colorbar\":{\"outlinewidth\":0,\"ticks\":\"\"},\"colorscale\":[[0.0,\"#0d0887\"],[0.1111111111111111,\"#46039f\"],[0.2222222222222222,\"#7201a8\"],[0.3333333333333333,\"#9c179e\"],[0.4444444444444444,\"#bd3786\"],[0.5555555555555556,\"#d8576b\"],[0.6666666666666666,\"#ed7953\"],[0.7777777777777778,\"#fb9f3a\"],[0.8888888888888888,\"#fdca26\"],[1.0,\"#f0f921\"]]}],\"mesh3d\":[{\"type\":\"mesh3d\",\"colorbar\":{\"outlinewidth\":0,\"ticks\":\"\"}}],\"scatter\":[{\"fillpattern\":{\"fillmode\":\"overlay\",\"size\":10,\"solidity\":0.2},\"type\":\"scatter\"}],\"parcoords\":[{\"type\":\"parcoords\",\"line\":{\"colorbar\":{\"outlinewidth\":0,\"ticks\":\"\"}}}],\"scatterpolargl\":[{\"type\":\"scatterpolargl\",\"marker\":{\"colorbar\":{\"outlinewidth\":0,\"ticks\":\"\"}}}],\"bar\":[{\"error_x\":{\"color\":\"#2a3f5f\"},\"error_y\":{\"color\":\"#2a3f5f\"},\"marker\":{\"line\":{\"color\":\"#E5ECF6\",\"width\":0.5},\"pattern\":{\"fillmode\":\"overlay\",\"size\":10,\"solidity\":0.2}},\"type\":\"bar\"}],\"scattergeo\":[{\"type\":\"scattergeo\",\"marker\":{\"colorbar\":{\"outlinewidth\":0,\"ticks\":\"\"}}}],\"scatterpolar\":[{\"type\":\"scatterpolar\",\"marker\":{\"colorbar\":{\"outlinewidth\":0,\"ticks\":\"\"}}}],\"histogram\":[{\"marker\":{\"pattern\":{\"fillmode\":\"overlay\",\"size\":10,\"solidity\":0.2}},\"type\":\"histogram\"}],\"scattergl\":[{\"type\":\"scattergl\",\"marker\":{\"colorbar\":{\"outlinewidth\":0,\"ticks\":\"\"}}}],\"scatter3d\":[{\"type\":\"scatter3d\",\"line\":{\"colorbar\":{\"outlinewidth\":0,\"ticks\":\"\"}},\"marker\":{\"colorbar\":{\"outlinewidth\":0,\"ticks\":\"\"}}}],\"scattermapbox\":[{\"type\":\"scattermapbox\",\"marker\":{\"colorbar\":{\"outlinewidth\":0,\"ticks\":\"\"}}}],\"scatterternary\":[{\"type\":\"scatterternary\",\"marker\":{\"colorbar\":{\"outlinewidth\":0,\"ticks\":\"\"}}}],\"scattercarpet\":[{\"type\":\"scattercarpet\",\"marker\":{\"colorbar\":{\"outlinewidth\":0,\"ticks\":\"\"}}}],\"carpet\":[{\"aaxis\":{\"endlinecolor\":\"#2a3f5f\",\"gridcolor\":\"white\",\"linecolor\":\"white\",\"minorgridcolor\":\"white\",\"startlinecolor\":\"#2a3f5f\"},\"baxis\":{\"endlinecolor\":\"#2a3f5f\",\"gridcolor\":\"white\",\"linecolor\":\"white\",\"minorgridcolor\":\"white\",\"startlinecolor\":\"#2a3f5f\"},\"type\":\"carpet\"}],\"table\":[{\"cells\":{\"fill\":{\"color\":\"#EBF0F8\"},\"line\":{\"color\":\"white\"}},\"header\":{\"fill\":{\"color\":\"#C8D4E3\"},\"line\":{\"color\":\"white\"}},\"type\":\"table\"}],\"barpolar\":[{\"marker\":{\"line\":{\"color\":\"#E5ECF6\",\"width\":0.5},\"pattern\":{\"fillmode\":\"overlay\",\"size\":10,\"solidity\":0.2}},\"type\":\"barpolar\"}],\"pie\":[{\"automargin\":true,\"type\":\"pie\"}]},\"layout\":{\"autotypenumbers\":\"strict\",\"colorway\":[\"#636efa\",\"#EF553B\",\"#00cc96\",\"#ab63fa\",\"#FFA15A\",\"#19d3f3\",\"#FF6692\",\"#B6E880\",\"#FF97FF\",\"#FECB52\"],\"font\":{\"color\":\"#2a3f5f\"},\"hovermode\":\"closest\",\"hoverlabel\":{\"align\":\"left\"},\"paper_bgcolor\":\"white\",\"plot_bgcolor\":\"#E5ECF6\",\"polar\":{\"bgcolor\":\"#E5ECF6\",\"angularaxis\":{\"gridcolor\":\"white\",\"linecolor\":\"white\",\"ticks\":\"\"},\"radialaxis\":{\"gridcolor\":\"white\",\"linecolor\":\"white\",\"ticks\":\"\"}},\"ternary\":{\"bgcolor\":\"#E5ECF6\",\"aaxis\":{\"gridcolor\":\"white\",\"linecolor\":\"white\",\"ticks\":\"\"},\"baxis\":{\"gridcolor\":\"white\",\"linecolor\":\"white\",\"ticks\":\"\"},\"caxis\":{\"gridcolor\":\"white\",\"linecolor\":\"white\",\"ticks\":\"\"}},\"coloraxis\":{\"colorbar\":{\"outlinewidth\":0,\"ticks\":\"\"}},\"colorscale\":{\"sequential\":[[0.0,\"#0d0887\"],[0.1111111111111111,\"#46039f\"],[0.2222222222222222,\"#7201a8\"],[0.3333333333333333,\"#9c179e\"],[0.4444444444444444,\"#bd3786\"],[0.5555555555555556,\"#d8576b\"],[0.6666666666666666,\"#ed7953\"],[0.7777777777777778,\"#fb9f3a\"],[0.8888888888888888,\"#fdca26\"],[1.0,\"#f0f921\"]],\"sequentialminus\":[[0.0,\"#0d0887\"],[0.1111111111111111,\"#46039f\"],[0.2222222222222222,\"#7201a8\"],[0.3333333333333333,\"#9c179e\"],[0.4444444444444444,\"#bd3786\"],[0.5555555555555556,\"#d8576b\"],[0.6666666666666666,\"#ed7953\"],[0.7777777777777778,\"#fb9f3a\"],[0.8888888888888888,\"#fdca26\"],[1.0,\"#f0f921\"]],\"diverging\":[[0,\"#8e0152\"],[0.1,\"#c51b7d\"],[0.2,\"#de77ae\"],[0.3,\"#f1b6da\"],[0.4,\"#fde0ef\"],[0.5,\"#f7f7f7\"],[0.6,\"#e6f5d0\"],[0.7,\"#b8e186\"],[0.8,\"#7fbc41\"],[0.9,\"#4d9221\"],[1,\"#276419\"]]},\"xaxis\":{\"gridcolor\":\"white\",\"linecolor\":\"white\",\"ticks\":\"\",\"title\":{\"standoff\":15},\"zerolinecolor\":\"white\",\"automargin\":true,\"zerolinewidth\":2},\"yaxis\":{\"gridcolor\":\"white\",\"linecolor\":\"white\",\"ticks\":\"\",\"title\":{\"standoff\":15},\"zerolinecolor\":\"white\",\"automargin\":true,\"zerolinewidth\":2},\"scene\":{\"xaxis\":{\"backgroundcolor\":\"#E5ECF6\",\"gridcolor\":\"white\",\"linecolor\":\"white\",\"showbackground\":true,\"ticks\":\"\",\"zerolinecolor\":\"white\",\"gridwidth\":2},\"yaxis\":{\"backgroundcolor\":\"#E5ECF6\",\"gridcolor\":\"white\",\"linecolor\":\"white\",\"showbackground\":true,\"ticks\":\"\",\"zerolinecolor\":\"white\",\"gridwidth\":2},\"zaxis\":{\"backgroundcolor\":\"#E5ECF6\",\"gridcolor\":\"white\",\"linecolor\":\"white\",\"showbackground\":true,\"ticks\":\"\",\"zerolinecolor\":\"white\",\"gridwidth\":2}},\"shapedefaults\":{\"line\":{\"color\":\"#2a3f5f\"}},\"annotationdefaults\":{\"arrowcolor\":\"#2a3f5f\",\"arrowhead\":0,\"arrowwidth\":1},\"geo\":{\"bgcolor\":\"white\",\"landcolor\":\"#E5ECF6\",\"subunitcolor\":\"white\",\"showland\":true,\"showlakes\":true,\"lakecolor\":\"white\"},\"title\":{\"x\":0.05},\"mapbox\":{\"style\":\"light\"}}},\"xaxis\":{\"anchor\":\"y\",\"domain\":[0.0,1.0],\"title\":{\"text\":\"PC 2 (27.3%)\"}},\"yaxis\":{\"anchor\":\"x\",\"domain\":[0.0,1.0],\"title\":{\"text\":\"PC 3 (11.8%)\"}},\"legend\":{\"title\":{\"text\":\"color, symbol\"},\"tracegroupgap\":0},\"margin\":{\"t\":60},\"height\":600,\"width\":600,\"plot_bgcolor\":\"rgb(243,243,243)\"},                        {\"responsive\": true}                    ).then(function(){\n",
       "                            \n",
       "var gd = document.getElementById('bb64ecb9-5e49-470f-9b03-0c8d01803c73');\n",
       "var x = new MutationObserver(function (mutations, observer) {{\n",
       "        var display = window.getComputedStyle(gd).display;\n",
       "        if (!display || display === 'none') {{\n",
       "            console.log([gd, 'removed!']);\n",
       "            Plotly.purge(gd);\n",
       "            observer.disconnect();\n",
       "        }}\n",
       "}});\n",
       "\n",
       "// Listen for the removal of the full notebook cells\n",
       "var notebookContainer = gd.closest('#notebook-container');\n",
       "if (notebookContainer) {{\n",
       "    x.observe(notebookContainer, {childList: true});\n",
       "}}\n",
       "\n",
       "// Listen for the clearing of the current output cell\n",
       "var outputEl = gd.closest('.output');\n",
       "if (outputEl) {{\n",
       "    x.observe(outputEl, {childList: true});\n",
       "}}\n",
       "\n",
       "                        })                };                });            </script>        </div>"
      ]
     },
     "metadata": {},
     "output_type": "display_data"
    },
    {
     "data": {
      "application/vnd.plotly.v1+json": {
       "config": {
        "plotlyServerURL": "https://plot.ly"
       },
       "data": [
        {
         "hovertemplate": "color=A<br>symbol=Intron<br>1=%{x}<br>2=%{y}<extra></extra>",
         "legendgroup": "A, Intron",
         "marker": {
          "color": "#636efa",
          "size": 13,
          "symbol": "circle"
         },
         "mode": "markers",
         "name": "A, Intron",
         "orientation": "v",
         "showlegend": true,
         "type": "scatter",
         "x": [
          0.9338208057473384,
          3.146919992069909,
          1.9357239323776905,
          1.0159646961914681,
          0.2412630550293468,
          -0.27730931794635355,
          -1.183312045427898,
          -1.0436902077459806,
          -1.8008919889024435,
          -1.9902083266931663,
          -1.2267376314804779,
          0.024211547277230308
         ],
         "xaxis": "x",
         "y": [
          1.6050160655121133,
          1.5733281590884272,
          0.4234216416872423,
          0.4975811361026757,
          0.8336620315751527,
          0.8921492181238877,
          0.5494241926155835,
          0.6979354487641556,
          0.6201346121664709,
          0.7069624999892632,
          1.6469602136394015,
          1.8072680657010205
         ],
         "yaxis": "y"
        },
        {
         "hovertemplate": "color=A<br>symbol=Exon<br>1=%{x}<br>2=%{y}<extra></extra>",
         "legendgroup": "A, Exon",
         "marker": {
          "color": "#636efa",
          "size": 13,
          "symbol": "diamond"
         },
         "mode": "markers",
         "name": "A, Exon",
         "orientation": "v",
         "showlegend": true,
         "type": "scatter",
         "x": [
          0.5358111570199036,
          2.016636913216894,
          2.442668056792678,
          1.5237931526169364,
          0.2124927866909282,
          -0.1627713329672777,
          -0.9472602311027467,
          -1.0693332113022496,
          -1.1141141158453451,
          -0.9770828604639302,
          -0.8625220988310626,
          -0.019765337850230505
         ],
         "xaxis": "x",
         "y": [
          -0.08762564111905112,
          -0.3249097440984648,
          -0.874580356424844,
          -1.074186769570013,
          -1.049938273783036,
          -1.0034048712359338,
          -1.0603689946945238,
          -1.0875579131899213,
          -1.4410153601472082,
          -1.4014607555958523,
          -0.33798378728537376,
          -0.17293715752383323
         ],
         "yaxis": "y"
        },
        {
         "hovertemplate": "color=B<br>symbol=Intron<br>1=%{x}<br>2=%{y}<extra></extra>",
         "legendgroup": "B, Intron",
         "marker": {
          "color": "#EF553B",
          "size": 13,
          "symbol": "circle"
         },
         "mode": "markers",
         "name": "B, Intron",
         "orientation": "v",
         "showlegend": true,
         "type": "scatter",
         "x": [
          2.3147239008942107,
          1.1435698432792263,
          2.916261991320024,
          1.0066010227301574,
          -0.6737891453790422,
          -0.2402592457477616,
          -1.0252316961163632,
          -1.7510701218415736,
          -1.610936146173276,
          -1.9522410555538867,
          -1.1639967965661564,
          -0.290919790638993
         ],
         "xaxis": "x",
         "y": [
          1.2159582732331298,
          0.5981076461928795,
          0.561977368084073,
          0.44263584556516905,
          0.7478490003980566,
          0.8671123635375246,
          0.7531046879676079,
          0.5716715000711776,
          0.4350588720180773,
          1.0826724445661011,
          1.5856204783717867,
          1.8923044362307315
         ],
         "yaxis": "y"
        },
        {
         "hovertemplate": "color=B<br>symbol=Exon<br>1=%{x}<br>2=%{y}<extra></extra>",
         "legendgroup": "B, Exon",
         "marker": {
          "color": "#EF553B",
          "size": 13,
          "symbol": "diamond"
         },
         "mode": "markers",
         "name": "B, Exon",
         "orientation": "v",
         "showlegend": true,
         "type": "scatter",
         "x": [
          0.9164821375236152,
          2.3905915088374683,
          2.5910200018699405,
          1.6979190211715622,
          -0.4983342698569592,
          -0.3281857758573428,
          -0.975666094690166,
          -1.2503252654488783,
          -1.075648969779396,
          -1.3300548670068262,
          -0.9572077839933525,
          0.09616250932080908
         ],
         "xaxis": "x",
         "y": [
          -0.2953405336557701,
          -0.9130769606337658,
          -0.5947033540741672,
          -1.1441658811420992,
          -0.9329028639103578,
          -0.890103431180037,
          -0.9347467938303217,
          -1.367884423650998,
          -1.2822912208537531,
          -0.9895127115491698,
          0.10548551980102541,
          -0.29621299205598967
         ],
         "yaxis": "y"
        },
        {
         "hovertemplate": "color=C<br>symbol=Intron<br>1=%{x}<br>2=%{y}<extra></extra>",
         "legendgroup": "C, Intron",
         "marker": {
          "color": "#00cc96",
          "size": 13,
          "symbol": "circle"
         },
         "mode": "markers",
         "name": "C, Intron",
         "orientation": "v",
         "showlegend": true,
         "type": "scatter",
         "x": [
          3.394936197015489,
          2.6762604169437316,
          0.9043395315690852,
          0.6415673828826396,
          -0.5210136385574916,
          -0.8869833503775059,
          -0.9662421235660628,
          -1.0992323898444958,
          -1.7850133140459443,
          -1.7730149279396197,
          -2.004151993590083,
          -1.3264189382415688
         ],
         "xaxis": "x",
         "y": [
          1.4595414014085506,
          0.5871872208170353,
          0.5901956218222829,
          0.7788975410081127,
          0.7835760772335738,
          0.6387264237043004,
          0.8557464099061531,
          0.5853843752588204,
          0.7000221812190097,
          0.9355475444969009,
          1.3248189853022279,
          1.6494830920359664
         ],
         "yaxis": "y"
        },
        {
         "hovertemplate": "color=C<br>symbol=Exon<br>1=%{x}<br>2=%{y}<extra></extra>",
         "legendgroup": "C, Exon",
         "marker": {
          "color": "#00cc96",
          "size": 13,
          "symbol": "diamond"
         },
         "mode": "markers",
         "name": "C, Exon",
         "orientation": "v",
         "showlegend": true,
         "type": "scatter",
         "x": [
          1.8014721872590633,
          2.714084586531341,
          1.055537992977617,
          0.9207138745763037,
          -0.41572244223502763,
          -0.9339856996480593,
          -0.8054500537729764,
          -0.9892176468918458,
          -1.1253497628182634,
          -1.1758225044501838,
          -0.9899965361541804,
          -0.8101056224484938
         ],
         "xaxis": "x",
         "y": [
          -0.18214007026275864,
          -0.5264490084631988,
          -1.250927481211026,
          -1.1733061062839951,
          -0.9160221780201456,
          -1.0033031836231858,
          -0.9177906511321744,
          -1.3407033147385845,
          -1.2928858936928078,
          -1.0442554039376237,
          -0.8702776636091447,
          -0.26566282523647117
         ],
         "yaxis": "y"
        },
        {
         "hovertemplate": "color=D<br>symbol=Intron<br>1=%{x}<br>2=%{y}<extra></extra>",
         "legendgroup": "D, Intron",
         "marker": {
          "color": "#ab63fa",
          "size": 13,
          "symbol": "circle"
         },
         "mode": "markers",
         "name": "D, Intron",
         "orientation": "v",
         "showlegend": true,
         "type": "scatter",
         "x": [
          3.435388997483651,
          1.758023738931877,
          2.4787821333792044,
          1.0056254514850482,
          0.3117645166841322,
          -0.3067145218869309,
          -1.1176251044141212,
          -1.3299189345564602,
          -1.7905247750815718,
          -1.9593216635293056,
          -1.8364516282180297,
          -0.7436073654329041
         ],
         "xaxis": "x",
         "y": [
          0.7991945610313989,
          0.44993042078631645,
          0.5294457918774783,
          0.5751619122562818,
          0.8556933224835792,
          0.9268873225658818,
          0.5632041493660737,
          0.4639691217890404,
          0.44252937493336547,
          0.7168053382377484,
          1.2365355814251886,
          1.2952695295471073
         ],
         "yaxis": "y"
        },
        {
         "hovertemplate": "color=D<br>symbol=Exon<br>1=%{x}<br>2=%{y}<extra></extra>",
         "legendgroup": "D, Exon",
         "marker": {
          "color": "#ab63fa",
          "size": 13,
          "symbol": "diamond"
         },
         "mode": "markers",
         "name": "D, Exon",
         "orientation": "v",
         "showlegend": true,
         "type": "scatter",
         "x": [
          1.9851787102487,
          2.0644551089616625,
          2.5363769879575453,
          1.3944837956632958,
          0.5906499509211435,
          -0.2550396604827015,
          -0.9870720178437262,
          -1.1521042943417623,
          -1.0421394848582546,
          -1.278976729561046,
          -1.0798153133422923,
          -0.4863814241088203
         ],
         "xaxis": "x",
         "y": [
          -0.4994816016501273,
          -1.2160688891477869,
          -0.5393185188829211,
          -1.2093608992942728,
          -0.9394345411097975,
          -0.9706740222885357,
          -1.3755304942187832,
          -1.406947437438278,
          -1.3728042038881247,
          -1.1528149027491885,
          -0.9336810741757607,
          -0.5004038652559307
         ],
         "yaxis": "y"
        }
       ],
       "layout": {
        "height": 600,
        "legend": {
         "title": {
          "text": "color, symbol"
         },
         "tracegroupgap": 0
        },
        "margin": {
         "t": 60
        },
        "plot_bgcolor": "rgb(243,243,243)",
        "template": {
         "data": {
          "bar": [
           {
            "error_x": {
             "color": "#2a3f5f"
            },
            "error_y": {
             "color": "#2a3f5f"
            },
            "marker": {
             "line": {
              "color": "#E5ECF6",
              "width": 0.5
             },
             "pattern": {
              "fillmode": "overlay",
              "size": 10,
              "solidity": 0.2
             }
            },
            "type": "bar"
           }
          ],
          "barpolar": [
           {
            "marker": {
             "line": {
              "color": "#E5ECF6",
              "width": 0.5
             },
             "pattern": {
              "fillmode": "overlay",
              "size": 10,
              "solidity": 0.2
             }
            },
            "type": "barpolar"
           }
          ],
          "carpet": [
           {
            "aaxis": {
             "endlinecolor": "#2a3f5f",
             "gridcolor": "white",
             "linecolor": "white",
             "minorgridcolor": "white",
             "startlinecolor": "#2a3f5f"
            },
            "baxis": {
             "endlinecolor": "#2a3f5f",
             "gridcolor": "white",
             "linecolor": "white",
             "minorgridcolor": "white",
             "startlinecolor": "#2a3f5f"
            },
            "type": "carpet"
           }
          ],
          "choropleth": [
           {
            "colorbar": {
             "outlinewidth": 0,
             "ticks": ""
            },
            "type": "choropleth"
           }
          ],
          "contour": [
           {
            "colorbar": {
             "outlinewidth": 0,
             "ticks": ""
            },
            "colorscale": [
             [
              0,
              "#0d0887"
             ],
             [
              0.1111111111111111,
              "#46039f"
             ],
             [
              0.2222222222222222,
              "#7201a8"
             ],
             [
              0.3333333333333333,
              "#9c179e"
             ],
             [
              0.4444444444444444,
              "#bd3786"
             ],
             [
              0.5555555555555556,
              "#d8576b"
             ],
             [
              0.6666666666666666,
              "#ed7953"
             ],
             [
              0.7777777777777778,
              "#fb9f3a"
             ],
             [
              0.8888888888888888,
              "#fdca26"
             ],
             [
              1,
              "#f0f921"
             ]
            ],
            "type": "contour"
           }
          ],
          "contourcarpet": [
           {
            "colorbar": {
             "outlinewidth": 0,
             "ticks": ""
            },
            "type": "contourcarpet"
           }
          ],
          "heatmap": [
           {
            "colorbar": {
             "outlinewidth": 0,
             "ticks": ""
            },
            "colorscale": [
             [
              0,
              "#0d0887"
             ],
             [
              0.1111111111111111,
              "#46039f"
             ],
             [
              0.2222222222222222,
              "#7201a8"
             ],
             [
              0.3333333333333333,
              "#9c179e"
             ],
             [
              0.4444444444444444,
              "#bd3786"
             ],
             [
              0.5555555555555556,
              "#d8576b"
             ],
             [
              0.6666666666666666,
              "#ed7953"
             ],
             [
              0.7777777777777778,
              "#fb9f3a"
             ],
             [
              0.8888888888888888,
              "#fdca26"
             ],
             [
              1,
              "#f0f921"
             ]
            ],
            "type": "heatmap"
           }
          ],
          "heatmapgl": [
           {
            "colorbar": {
             "outlinewidth": 0,
             "ticks": ""
            },
            "colorscale": [
             [
              0,
              "#0d0887"
             ],
             [
              0.1111111111111111,
              "#46039f"
             ],
             [
              0.2222222222222222,
              "#7201a8"
             ],
             [
              0.3333333333333333,
              "#9c179e"
             ],
             [
              0.4444444444444444,
              "#bd3786"
             ],
             [
              0.5555555555555556,
              "#d8576b"
             ],
             [
              0.6666666666666666,
              "#ed7953"
             ],
             [
              0.7777777777777778,
              "#fb9f3a"
             ],
             [
              0.8888888888888888,
              "#fdca26"
             ],
             [
              1,
              "#f0f921"
             ]
            ],
            "type": "heatmapgl"
           }
          ],
          "histogram": [
           {
            "marker": {
             "pattern": {
              "fillmode": "overlay",
              "size": 10,
              "solidity": 0.2
             }
            },
            "type": "histogram"
           }
          ],
          "histogram2d": [
           {
            "colorbar": {
             "outlinewidth": 0,
             "ticks": ""
            },
            "colorscale": [
             [
              0,
              "#0d0887"
             ],
             [
              0.1111111111111111,
              "#46039f"
             ],
             [
              0.2222222222222222,
              "#7201a8"
             ],
             [
              0.3333333333333333,
              "#9c179e"
             ],
             [
              0.4444444444444444,
              "#bd3786"
             ],
             [
              0.5555555555555556,
              "#d8576b"
             ],
             [
              0.6666666666666666,
              "#ed7953"
             ],
             [
              0.7777777777777778,
              "#fb9f3a"
             ],
             [
              0.8888888888888888,
              "#fdca26"
             ],
             [
              1,
              "#f0f921"
             ]
            ],
            "type": "histogram2d"
           }
          ],
          "histogram2dcontour": [
           {
            "colorbar": {
             "outlinewidth": 0,
             "ticks": ""
            },
            "colorscale": [
             [
              0,
              "#0d0887"
             ],
             [
              0.1111111111111111,
              "#46039f"
             ],
             [
              0.2222222222222222,
              "#7201a8"
             ],
             [
              0.3333333333333333,
              "#9c179e"
             ],
             [
              0.4444444444444444,
              "#bd3786"
             ],
             [
              0.5555555555555556,
              "#d8576b"
             ],
             [
              0.6666666666666666,
              "#ed7953"
             ],
             [
              0.7777777777777778,
              "#fb9f3a"
             ],
             [
              0.8888888888888888,
              "#fdca26"
             ],
             [
              1,
              "#f0f921"
             ]
            ],
            "type": "histogram2dcontour"
           }
          ],
          "mesh3d": [
           {
            "colorbar": {
             "outlinewidth": 0,
             "ticks": ""
            },
            "type": "mesh3d"
           }
          ],
          "parcoords": [
           {
            "line": {
             "colorbar": {
              "outlinewidth": 0,
              "ticks": ""
             }
            },
            "type": "parcoords"
           }
          ],
          "pie": [
           {
            "automargin": true,
            "type": "pie"
           }
          ],
          "scatter": [
           {
            "fillpattern": {
             "fillmode": "overlay",
             "size": 10,
             "solidity": 0.2
            },
            "type": "scatter"
           }
          ],
          "scatter3d": [
           {
            "line": {
             "colorbar": {
              "outlinewidth": 0,
              "ticks": ""
             }
            },
            "marker": {
             "colorbar": {
              "outlinewidth": 0,
              "ticks": ""
             }
            },
            "type": "scatter3d"
           }
          ],
          "scattercarpet": [
           {
            "marker": {
             "colorbar": {
              "outlinewidth": 0,
              "ticks": ""
             }
            },
            "type": "scattercarpet"
           }
          ],
          "scattergeo": [
           {
            "marker": {
             "colorbar": {
              "outlinewidth": 0,
              "ticks": ""
             }
            },
            "type": "scattergeo"
           }
          ],
          "scattergl": [
           {
            "marker": {
             "colorbar": {
              "outlinewidth": 0,
              "ticks": ""
             }
            },
            "type": "scattergl"
           }
          ],
          "scattermapbox": [
           {
            "marker": {
             "colorbar": {
              "outlinewidth": 0,
              "ticks": ""
             }
            },
            "type": "scattermapbox"
           }
          ],
          "scatterpolar": [
           {
            "marker": {
             "colorbar": {
              "outlinewidth": 0,
              "ticks": ""
             }
            },
            "type": "scatterpolar"
           }
          ],
          "scatterpolargl": [
           {
            "marker": {
             "colorbar": {
              "outlinewidth": 0,
              "ticks": ""
             }
            },
            "type": "scatterpolargl"
           }
          ],
          "scatterternary": [
           {
            "marker": {
             "colorbar": {
              "outlinewidth": 0,
              "ticks": ""
             }
            },
            "type": "scatterternary"
           }
          ],
          "surface": [
           {
            "colorbar": {
             "outlinewidth": 0,
             "ticks": ""
            },
            "colorscale": [
             [
              0,
              "#0d0887"
             ],
             [
              0.1111111111111111,
              "#46039f"
             ],
             [
              0.2222222222222222,
              "#7201a8"
             ],
             [
              0.3333333333333333,
              "#9c179e"
             ],
             [
              0.4444444444444444,
              "#bd3786"
             ],
             [
              0.5555555555555556,
              "#d8576b"
             ],
             [
              0.6666666666666666,
              "#ed7953"
             ],
             [
              0.7777777777777778,
              "#fb9f3a"
             ],
             [
              0.8888888888888888,
              "#fdca26"
             ],
             [
              1,
              "#f0f921"
             ]
            ],
            "type": "surface"
           }
          ],
          "table": [
           {
            "cells": {
             "fill": {
              "color": "#EBF0F8"
             },
             "line": {
              "color": "white"
             }
            },
            "header": {
             "fill": {
              "color": "#C8D4E3"
             },
             "line": {
              "color": "white"
             }
            },
            "type": "table"
           }
          ]
         },
         "layout": {
          "annotationdefaults": {
           "arrowcolor": "#2a3f5f",
           "arrowhead": 0,
           "arrowwidth": 1
          },
          "autotypenumbers": "strict",
          "coloraxis": {
           "colorbar": {
            "outlinewidth": 0,
            "ticks": ""
           }
          },
          "colorscale": {
           "diverging": [
            [
             0,
             "#8e0152"
            ],
            [
             0.1,
             "#c51b7d"
            ],
            [
             0.2,
             "#de77ae"
            ],
            [
             0.3,
             "#f1b6da"
            ],
            [
             0.4,
             "#fde0ef"
            ],
            [
             0.5,
             "#f7f7f7"
            ],
            [
             0.6,
             "#e6f5d0"
            ],
            [
             0.7,
             "#b8e186"
            ],
            [
             0.8,
             "#7fbc41"
            ],
            [
             0.9,
             "#4d9221"
            ],
            [
             1,
             "#276419"
            ]
           ],
           "sequential": [
            [
             0,
             "#0d0887"
            ],
            [
             0.1111111111111111,
             "#46039f"
            ],
            [
             0.2222222222222222,
             "#7201a8"
            ],
            [
             0.3333333333333333,
             "#9c179e"
            ],
            [
             0.4444444444444444,
             "#bd3786"
            ],
            [
             0.5555555555555556,
             "#d8576b"
            ],
            [
             0.6666666666666666,
             "#ed7953"
            ],
            [
             0.7777777777777778,
             "#fb9f3a"
            ],
            [
             0.8888888888888888,
             "#fdca26"
            ],
            [
             1,
             "#f0f921"
            ]
           ],
           "sequentialminus": [
            [
             0,
             "#0d0887"
            ],
            [
             0.1111111111111111,
             "#46039f"
            ],
            [
             0.2222222222222222,
             "#7201a8"
            ],
            [
             0.3333333333333333,
             "#9c179e"
            ],
            [
             0.4444444444444444,
             "#bd3786"
            ],
            [
             0.5555555555555556,
             "#d8576b"
            ],
            [
             0.6666666666666666,
             "#ed7953"
            ],
            [
             0.7777777777777778,
             "#fb9f3a"
            ],
            [
             0.8888888888888888,
             "#fdca26"
            ],
            [
             1,
             "#f0f921"
            ]
           ]
          },
          "colorway": [
           "#636efa",
           "#EF553B",
           "#00cc96",
           "#ab63fa",
           "#FFA15A",
           "#19d3f3",
           "#FF6692",
           "#B6E880",
           "#FF97FF",
           "#FECB52"
          ],
          "font": {
           "color": "#2a3f5f"
          },
          "geo": {
           "bgcolor": "white",
           "lakecolor": "white",
           "landcolor": "#E5ECF6",
           "showlakes": true,
           "showland": true,
           "subunitcolor": "white"
          },
          "hoverlabel": {
           "align": "left"
          },
          "hovermode": "closest",
          "mapbox": {
           "style": "light"
          },
          "paper_bgcolor": "white",
          "plot_bgcolor": "#E5ECF6",
          "polar": {
           "angularaxis": {
            "gridcolor": "white",
            "linecolor": "white",
            "ticks": ""
           },
           "bgcolor": "#E5ECF6",
           "radialaxis": {
            "gridcolor": "white",
            "linecolor": "white",
            "ticks": ""
           }
          },
          "scene": {
           "xaxis": {
            "backgroundcolor": "#E5ECF6",
            "gridcolor": "white",
            "gridwidth": 2,
            "linecolor": "white",
            "showbackground": true,
            "ticks": "",
            "zerolinecolor": "white"
           },
           "yaxis": {
            "backgroundcolor": "#E5ECF6",
            "gridcolor": "white",
            "gridwidth": 2,
            "linecolor": "white",
            "showbackground": true,
            "ticks": "",
            "zerolinecolor": "white"
           },
           "zaxis": {
            "backgroundcolor": "#E5ECF6",
            "gridcolor": "white",
            "gridwidth": 2,
            "linecolor": "white",
            "showbackground": true,
            "ticks": "",
            "zerolinecolor": "white"
           }
          },
          "shapedefaults": {
           "line": {
            "color": "#2a3f5f"
           }
          },
          "ternary": {
           "aaxis": {
            "gridcolor": "white",
            "linecolor": "white",
            "ticks": ""
           },
           "baxis": {
            "gridcolor": "white",
            "linecolor": "white",
            "ticks": ""
           },
           "bgcolor": "#E5ECF6",
           "caxis": {
            "gridcolor": "white",
            "linecolor": "white",
            "ticks": ""
           }
          },
          "title": {
           "x": 0.05
          },
          "xaxis": {
           "automargin": true,
           "gridcolor": "white",
           "linecolor": "white",
           "ticks": "",
           "title": {
            "standoff": 15
           },
           "zerolinecolor": "white",
           "zerolinewidth": 2
          },
          "yaxis": {
           "automargin": true,
           "gridcolor": "white",
           "linecolor": "white",
           "ticks": "",
           "title": {
            "standoff": 15
           },
           "zerolinecolor": "white",
           "zerolinewidth": 2
          }
         }
        },
        "width": 600,
        "xaxis": {
         "anchor": "y",
         "domain": [
          0,
          1
         ],
         "title": {
          "text": "PC 2 (27.3%)"
         }
        },
        "yaxis": {
         "anchor": "x",
         "domain": [
          0,
          1
         ],
         "title": {
          "text": "PC 3 (11.8%)"
         }
        }
       }
      },
      "text/html": [
       "<div>                            <div id=\"e96ba2d7-e58e-479a-9bdd-372aa58b61de\" class=\"plotly-graph-div\" style=\"height:600px; width:600px;\"></div>            <script type=\"text/javascript\">                require([\"plotly\"], function(Plotly) {                    window.PLOTLYENV=window.PLOTLYENV || {};                                    if (document.getElementById(\"e96ba2d7-e58e-479a-9bdd-372aa58b61de\")) {                    Plotly.newPlot(                        \"e96ba2d7-e58e-479a-9bdd-372aa58b61de\",                        [{\"hovertemplate\":\"color=A<br>symbol=Intron<br>1=%{x}<br>2=%{y}<extra></extra>\",\"legendgroup\":\"A, Intron\",\"marker\":{\"color\":\"#636efa\",\"symbol\":\"circle\",\"size\":13},\"mode\":\"markers\",\"name\":\"A, Intron\",\"orientation\":\"v\",\"showlegend\":true,\"x\":[0.9338208057473384,3.146919992069909,1.9357239323776905,1.0159646961914681,0.2412630550293468,-0.27730931794635355,-1.183312045427898,-1.0436902077459806,-1.8008919889024435,-1.9902083266931663,-1.2267376314804779,0.024211547277230308],\"xaxis\":\"x\",\"y\":[1.6050160655121133,1.5733281590884272,0.4234216416872423,0.4975811361026757,0.8336620315751527,0.8921492181238877,0.5494241926155835,0.6979354487641556,0.6201346121664709,0.7069624999892632,1.6469602136394015,1.8072680657010205],\"yaxis\":\"y\",\"type\":\"scatter\"},{\"hovertemplate\":\"color=A<br>symbol=Exon<br>1=%{x}<br>2=%{y}<extra></extra>\",\"legendgroup\":\"A, Exon\",\"marker\":{\"color\":\"#636efa\",\"symbol\":\"diamond\",\"size\":13},\"mode\":\"markers\",\"name\":\"A, Exon\",\"orientation\":\"v\",\"showlegend\":true,\"x\":[0.5358111570199036,2.016636913216894,2.442668056792678,1.5237931526169364,0.2124927866909282,-0.1627713329672777,-0.9472602311027467,-1.0693332113022496,-1.1141141158453451,-0.9770828604639302,-0.8625220988310626,-0.019765337850230505],\"xaxis\":\"x\",\"y\":[-0.08762564111905112,-0.3249097440984648,-0.874580356424844,-1.074186769570013,-1.049938273783036,-1.0034048712359338,-1.0603689946945238,-1.0875579131899213,-1.4410153601472082,-1.4014607555958523,-0.33798378728537376,-0.17293715752383323],\"yaxis\":\"y\",\"type\":\"scatter\"},{\"hovertemplate\":\"color=B<br>symbol=Intron<br>1=%{x}<br>2=%{y}<extra></extra>\",\"legendgroup\":\"B, Intron\",\"marker\":{\"color\":\"#EF553B\",\"symbol\":\"circle\",\"size\":13},\"mode\":\"markers\",\"name\":\"B, Intron\",\"orientation\":\"v\",\"showlegend\":true,\"x\":[2.3147239008942107,1.1435698432792263,2.916261991320024,1.0066010227301574,-0.6737891453790422,-0.2402592457477616,-1.0252316961163632,-1.7510701218415736,-1.610936146173276,-1.9522410555538867,-1.1639967965661564,-0.290919790638993],\"xaxis\":\"x\",\"y\":[1.2159582732331298,0.5981076461928795,0.561977368084073,0.44263584556516905,0.7478490003980566,0.8671123635375246,0.7531046879676079,0.5716715000711776,0.4350588720180773,1.0826724445661011,1.5856204783717867,1.8923044362307315],\"yaxis\":\"y\",\"type\":\"scatter\"},{\"hovertemplate\":\"color=B<br>symbol=Exon<br>1=%{x}<br>2=%{y}<extra></extra>\",\"legendgroup\":\"B, Exon\",\"marker\":{\"color\":\"#EF553B\",\"symbol\":\"diamond\",\"size\":13},\"mode\":\"markers\",\"name\":\"B, Exon\",\"orientation\":\"v\",\"showlegend\":true,\"x\":[0.9164821375236152,2.3905915088374683,2.5910200018699405,1.6979190211715622,-0.4983342698569592,-0.3281857758573428,-0.975666094690166,-1.2503252654488783,-1.075648969779396,-1.3300548670068262,-0.9572077839933525,0.09616250932080908],\"xaxis\":\"x\",\"y\":[-0.2953405336557701,-0.9130769606337658,-0.5947033540741672,-1.1441658811420992,-0.9329028639103578,-0.890103431180037,-0.9347467938303217,-1.367884423650998,-1.2822912208537531,-0.9895127115491698,0.10548551980102541,-0.29621299205598967],\"yaxis\":\"y\",\"type\":\"scatter\"},{\"hovertemplate\":\"color=C<br>symbol=Intron<br>1=%{x}<br>2=%{y}<extra></extra>\",\"legendgroup\":\"C, Intron\",\"marker\":{\"color\":\"#00cc96\",\"symbol\":\"circle\",\"size\":13},\"mode\":\"markers\",\"name\":\"C, Intron\",\"orientation\":\"v\",\"showlegend\":true,\"x\":[3.394936197015489,2.6762604169437316,0.9043395315690852,0.6415673828826396,-0.5210136385574916,-0.8869833503775059,-0.9662421235660628,-1.0992323898444958,-1.7850133140459443,-1.7730149279396197,-2.004151993590083,-1.3264189382415688],\"xaxis\":\"x\",\"y\":[1.4595414014085506,0.5871872208170353,0.5901956218222829,0.7788975410081127,0.7835760772335738,0.6387264237043004,0.8557464099061531,0.5853843752588204,0.7000221812190097,0.9355475444969009,1.3248189853022279,1.6494830920359664],\"yaxis\":\"y\",\"type\":\"scatter\"},{\"hovertemplate\":\"color=C<br>symbol=Exon<br>1=%{x}<br>2=%{y}<extra></extra>\",\"legendgroup\":\"C, Exon\",\"marker\":{\"color\":\"#00cc96\",\"symbol\":\"diamond\",\"size\":13},\"mode\":\"markers\",\"name\":\"C, Exon\",\"orientation\":\"v\",\"showlegend\":true,\"x\":[1.8014721872590633,2.714084586531341,1.055537992977617,0.9207138745763037,-0.41572244223502763,-0.9339856996480593,-0.8054500537729764,-0.9892176468918458,-1.1253497628182634,-1.1758225044501838,-0.9899965361541804,-0.8101056224484938],\"xaxis\":\"x\",\"y\":[-0.18214007026275864,-0.5264490084631988,-1.250927481211026,-1.1733061062839951,-0.9160221780201456,-1.0033031836231858,-0.9177906511321744,-1.3407033147385845,-1.2928858936928078,-1.0442554039376237,-0.8702776636091447,-0.26566282523647117],\"yaxis\":\"y\",\"type\":\"scatter\"},{\"hovertemplate\":\"color=D<br>symbol=Intron<br>1=%{x}<br>2=%{y}<extra></extra>\",\"legendgroup\":\"D, Intron\",\"marker\":{\"color\":\"#ab63fa\",\"symbol\":\"circle\",\"size\":13},\"mode\":\"markers\",\"name\":\"D, Intron\",\"orientation\":\"v\",\"showlegend\":true,\"x\":[3.435388997483651,1.758023738931877,2.4787821333792044,1.0056254514850482,0.3117645166841322,-0.3067145218869309,-1.1176251044141212,-1.3299189345564602,-1.7905247750815718,-1.9593216635293056,-1.8364516282180297,-0.7436073654329041],\"xaxis\":\"x\",\"y\":[0.7991945610313989,0.44993042078631645,0.5294457918774783,0.5751619122562818,0.8556933224835792,0.9268873225658818,0.5632041493660737,0.4639691217890404,0.44252937493336547,0.7168053382377484,1.2365355814251886,1.2952695295471073],\"yaxis\":\"y\",\"type\":\"scatter\"},{\"hovertemplate\":\"color=D<br>symbol=Exon<br>1=%{x}<br>2=%{y}<extra></extra>\",\"legendgroup\":\"D, Exon\",\"marker\":{\"color\":\"#ab63fa\",\"symbol\":\"diamond\",\"size\":13},\"mode\":\"markers\",\"name\":\"D, Exon\",\"orientation\":\"v\",\"showlegend\":true,\"x\":[1.9851787102487,2.0644551089616625,2.5363769879575453,1.3944837956632958,0.5906499509211435,-0.2550396604827015,-0.9870720178437262,-1.1521042943417623,-1.0421394848582546,-1.278976729561046,-1.0798153133422923,-0.4863814241088203],\"xaxis\":\"x\",\"y\":[-0.4994816016501273,-1.2160688891477869,-0.5393185188829211,-1.2093608992942728,-0.9394345411097975,-0.9706740222885357,-1.3755304942187832,-1.406947437438278,-1.3728042038881247,-1.1528149027491885,-0.9336810741757607,-0.5004038652559307],\"yaxis\":\"y\",\"type\":\"scatter\"}],                        {\"template\":{\"data\":{\"histogram2dcontour\":[{\"type\":\"histogram2dcontour\",\"colorbar\":{\"outlinewidth\":0,\"ticks\":\"\"},\"colorscale\":[[0.0,\"#0d0887\"],[0.1111111111111111,\"#46039f\"],[0.2222222222222222,\"#7201a8\"],[0.3333333333333333,\"#9c179e\"],[0.4444444444444444,\"#bd3786\"],[0.5555555555555556,\"#d8576b\"],[0.6666666666666666,\"#ed7953\"],[0.7777777777777778,\"#fb9f3a\"],[0.8888888888888888,\"#fdca26\"],[1.0,\"#f0f921\"]]}],\"choropleth\":[{\"type\":\"choropleth\",\"colorbar\":{\"outlinewidth\":0,\"ticks\":\"\"}}],\"histogram2d\":[{\"type\":\"histogram2d\",\"colorbar\":{\"outlinewidth\":0,\"ticks\":\"\"},\"colorscale\":[[0.0,\"#0d0887\"],[0.1111111111111111,\"#46039f\"],[0.2222222222222222,\"#7201a8\"],[0.3333333333333333,\"#9c179e\"],[0.4444444444444444,\"#bd3786\"],[0.5555555555555556,\"#d8576b\"],[0.6666666666666666,\"#ed7953\"],[0.7777777777777778,\"#fb9f3a\"],[0.8888888888888888,\"#fdca26\"],[1.0,\"#f0f921\"]]}],\"heatmap\":[{\"type\":\"heatmap\",\"colorbar\":{\"outlinewidth\":0,\"ticks\":\"\"},\"colorscale\":[[0.0,\"#0d0887\"],[0.1111111111111111,\"#46039f\"],[0.2222222222222222,\"#7201a8\"],[0.3333333333333333,\"#9c179e\"],[0.4444444444444444,\"#bd3786\"],[0.5555555555555556,\"#d8576b\"],[0.6666666666666666,\"#ed7953\"],[0.7777777777777778,\"#fb9f3a\"],[0.8888888888888888,\"#fdca26\"],[1.0,\"#f0f921\"]]}],\"heatmapgl\":[{\"type\":\"heatmapgl\",\"colorbar\":{\"outlinewidth\":0,\"ticks\":\"\"},\"colorscale\":[[0.0,\"#0d0887\"],[0.1111111111111111,\"#46039f\"],[0.2222222222222222,\"#7201a8\"],[0.3333333333333333,\"#9c179e\"],[0.4444444444444444,\"#bd3786\"],[0.5555555555555556,\"#d8576b\"],[0.6666666666666666,\"#ed7953\"],[0.7777777777777778,\"#fb9f3a\"],[0.8888888888888888,\"#fdca26\"],[1.0,\"#f0f921\"]]}],\"contourcarpet\":[{\"type\":\"contourcarpet\",\"colorbar\":{\"outlinewidth\":0,\"ticks\":\"\"}}],\"contour\":[{\"type\":\"contour\",\"colorbar\":{\"outlinewidth\":0,\"ticks\":\"\"},\"colorscale\":[[0.0,\"#0d0887\"],[0.1111111111111111,\"#46039f\"],[0.2222222222222222,\"#7201a8\"],[0.3333333333333333,\"#9c179e\"],[0.4444444444444444,\"#bd3786\"],[0.5555555555555556,\"#d8576b\"],[0.6666666666666666,\"#ed7953\"],[0.7777777777777778,\"#fb9f3a\"],[0.8888888888888888,\"#fdca26\"],[1.0,\"#f0f921\"]]}],\"surface\":[{\"type\":\"surface\",\"colorbar\":{\"outlinewidth\":0,\"ticks\":\"\"},\"colorscale\":[[0.0,\"#0d0887\"],[0.1111111111111111,\"#46039f\"],[0.2222222222222222,\"#7201a8\"],[0.3333333333333333,\"#9c179e\"],[0.4444444444444444,\"#bd3786\"],[0.5555555555555556,\"#d8576b\"],[0.6666666666666666,\"#ed7953\"],[0.7777777777777778,\"#fb9f3a\"],[0.8888888888888888,\"#fdca26\"],[1.0,\"#f0f921\"]]}],\"mesh3d\":[{\"type\":\"mesh3d\",\"colorbar\":{\"outlinewidth\":0,\"ticks\":\"\"}}],\"scatter\":[{\"fillpattern\":{\"fillmode\":\"overlay\",\"size\":10,\"solidity\":0.2},\"type\":\"scatter\"}],\"parcoords\":[{\"type\":\"parcoords\",\"line\":{\"colorbar\":{\"outlinewidth\":0,\"ticks\":\"\"}}}],\"scatterpolargl\":[{\"type\":\"scatterpolargl\",\"marker\":{\"colorbar\":{\"outlinewidth\":0,\"ticks\":\"\"}}}],\"bar\":[{\"error_x\":{\"color\":\"#2a3f5f\"},\"error_y\":{\"color\":\"#2a3f5f\"},\"marker\":{\"line\":{\"color\":\"#E5ECF6\",\"width\":0.5},\"pattern\":{\"fillmode\":\"overlay\",\"size\":10,\"solidity\":0.2}},\"type\":\"bar\"}],\"scattergeo\":[{\"type\":\"scattergeo\",\"marker\":{\"colorbar\":{\"outlinewidth\":0,\"ticks\":\"\"}}}],\"scatterpolar\":[{\"type\":\"scatterpolar\",\"marker\":{\"colorbar\":{\"outlinewidth\":0,\"ticks\":\"\"}}}],\"histogram\":[{\"marker\":{\"pattern\":{\"fillmode\":\"overlay\",\"size\":10,\"solidity\":0.2}},\"type\":\"histogram\"}],\"scattergl\":[{\"type\":\"scattergl\",\"marker\":{\"colorbar\":{\"outlinewidth\":0,\"ticks\":\"\"}}}],\"scatter3d\":[{\"type\":\"scatter3d\",\"line\":{\"colorbar\":{\"outlinewidth\":0,\"ticks\":\"\"}},\"marker\":{\"colorbar\":{\"outlinewidth\":0,\"ticks\":\"\"}}}],\"scattermapbox\":[{\"type\":\"scattermapbox\",\"marker\":{\"colorbar\":{\"outlinewidth\":0,\"ticks\":\"\"}}}],\"scatterternary\":[{\"type\":\"scatterternary\",\"marker\":{\"colorbar\":{\"outlinewidth\":0,\"ticks\":\"\"}}}],\"scattercarpet\":[{\"type\":\"scattercarpet\",\"marker\":{\"colorbar\":{\"outlinewidth\":0,\"ticks\":\"\"}}}],\"carpet\":[{\"aaxis\":{\"endlinecolor\":\"#2a3f5f\",\"gridcolor\":\"white\",\"linecolor\":\"white\",\"minorgridcolor\":\"white\",\"startlinecolor\":\"#2a3f5f\"},\"baxis\":{\"endlinecolor\":\"#2a3f5f\",\"gridcolor\":\"white\",\"linecolor\":\"white\",\"minorgridcolor\":\"white\",\"startlinecolor\":\"#2a3f5f\"},\"type\":\"carpet\"}],\"table\":[{\"cells\":{\"fill\":{\"color\":\"#EBF0F8\"},\"line\":{\"color\":\"white\"}},\"header\":{\"fill\":{\"color\":\"#C8D4E3\"},\"line\":{\"color\":\"white\"}},\"type\":\"table\"}],\"barpolar\":[{\"marker\":{\"line\":{\"color\":\"#E5ECF6\",\"width\":0.5},\"pattern\":{\"fillmode\":\"overlay\",\"size\":10,\"solidity\":0.2}},\"type\":\"barpolar\"}],\"pie\":[{\"automargin\":true,\"type\":\"pie\"}]},\"layout\":{\"autotypenumbers\":\"strict\",\"colorway\":[\"#636efa\",\"#EF553B\",\"#00cc96\",\"#ab63fa\",\"#FFA15A\",\"#19d3f3\",\"#FF6692\",\"#B6E880\",\"#FF97FF\",\"#FECB52\"],\"font\":{\"color\":\"#2a3f5f\"},\"hovermode\":\"closest\",\"hoverlabel\":{\"align\":\"left\"},\"paper_bgcolor\":\"white\",\"plot_bgcolor\":\"#E5ECF6\",\"polar\":{\"bgcolor\":\"#E5ECF6\",\"angularaxis\":{\"gridcolor\":\"white\",\"linecolor\":\"white\",\"ticks\":\"\"},\"radialaxis\":{\"gridcolor\":\"white\",\"linecolor\":\"white\",\"ticks\":\"\"}},\"ternary\":{\"bgcolor\":\"#E5ECF6\",\"aaxis\":{\"gridcolor\":\"white\",\"linecolor\":\"white\",\"ticks\":\"\"},\"baxis\":{\"gridcolor\":\"white\",\"linecolor\":\"white\",\"ticks\":\"\"},\"caxis\":{\"gridcolor\":\"white\",\"linecolor\":\"white\",\"ticks\":\"\"}},\"coloraxis\":{\"colorbar\":{\"outlinewidth\":0,\"ticks\":\"\"}},\"colorscale\":{\"sequential\":[[0.0,\"#0d0887\"],[0.1111111111111111,\"#46039f\"],[0.2222222222222222,\"#7201a8\"],[0.3333333333333333,\"#9c179e\"],[0.4444444444444444,\"#bd3786\"],[0.5555555555555556,\"#d8576b\"],[0.6666666666666666,\"#ed7953\"],[0.7777777777777778,\"#fb9f3a\"],[0.8888888888888888,\"#fdca26\"],[1.0,\"#f0f921\"]],\"sequentialminus\":[[0.0,\"#0d0887\"],[0.1111111111111111,\"#46039f\"],[0.2222222222222222,\"#7201a8\"],[0.3333333333333333,\"#9c179e\"],[0.4444444444444444,\"#bd3786\"],[0.5555555555555556,\"#d8576b\"],[0.6666666666666666,\"#ed7953\"],[0.7777777777777778,\"#fb9f3a\"],[0.8888888888888888,\"#fdca26\"],[1.0,\"#f0f921\"]],\"diverging\":[[0,\"#8e0152\"],[0.1,\"#c51b7d\"],[0.2,\"#de77ae\"],[0.3,\"#f1b6da\"],[0.4,\"#fde0ef\"],[0.5,\"#f7f7f7\"],[0.6,\"#e6f5d0\"],[0.7,\"#b8e186\"],[0.8,\"#7fbc41\"],[0.9,\"#4d9221\"],[1,\"#276419\"]]},\"xaxis\":{\"gridcolor\":\"white\",\"linecolor\":\"white\",\"ticks\":\"\",\"title\":{\"standoff\":15},\"zerolinecolor\":\"white\",\"automargin\":true,\"zerolinewidth\":2},\"yaxis\":{\"gridcolor\":\"white\",\"linecolor\":\"white\",\"ticks\":\"\",\"title\":{\"standoff\":15},\"zerolinecolor\":\"white\",\"automargin\":true,\"zerolinewidth\":2},\"scene\":{\"xaxis\":{\"backgroundcolor\":\"#E5ECF6\",\"gridcolor\":\"white\",\"linecolor\":\"white\",\"showbackground\":true,\"ticks\":\"\",\"zerolinecolor\":\"white\",\"gridwidth\":2},\"yaxis\":{\"backgroundcolor\":\"#E5ECF6\",\"gridcolor\":\"white\",\"linecolor\":\"white\",\"showbackground\":true,\"ticks\":\"\",\"zerolinecolor\":\"white\",\"gridwidth\":2},\"zaxis\":{\"backgroundcolor\":\"#E5ECF6\",\"gridcolor\":\"white\",\"linecolor\":\"white\",\"showbackground\":true,\"ticks\":\"\",\"zerolinecolor\":\"white\",\"gridwidth\":2}},\"shapedefaults\":{\"line\":{\"color\":\"#2a3f5f\"}},\"annotationdefaults\":{\"arrowcolor\":\"#2a3f5f\",\"arrowhead\":0,\"arrowwidth\":1},\"geo\":{\"bgcolor\":\"white\",\"landcolor\":\"#E5ECF6\",\"subunitcolor\":\"white\",\"showland\":true,\"showlakes\":true,\"lakecolor\":\"white\"},\"title\":{\"x\":0.05},\"mapbox\":{\"style\":\"light\"}}},\"xaxis\":{\"anchor\":\"y\",\"domain\":[0.0,1.0],\"title\":{\"text\":\"PC 2 (27.3%)\"}},\"yaxis\":{\"anchor\":\"x\",\"domain\":[0.0,1.0],\"title\":{\"text\":\"PC 3 (11.8%)\"}},\"legend\":{\"title\":{\"text\":\"color, symbol\"},\"tracegroupgap\":0},\"margin\":{\"t\":60},\"height\":600,\"width\":600,\"plot_bgcolor\":\"rgb(243,243,243)\"},                        {\"responsive\": true}                    ).then(function(){\n",
       "                            \n",
       "var gd = document.getElementById('e96ba2d7-e58e-479a-9bdd-372aa58b61de');\n",
       "var x = new MutationObserver(function (mutations, observer) {{\n",
       "        var display = window.getComputedStyle(gd).display;\n",
       "        if (!display || display === 'none') {{\n",
       "            console.log([gd, 'removed!']);\n",
       "            Plotly.purge(gd);\n",
       "            observer.disconnect();\n",
       "        }}\n",
       "}});\n",
       "\n",
       "// Listen for the removal of the full notebook cells\n",
       "var notebookContainer = gd.closest('#notebook-container');\n",
       "if (notebookContainer) {{\n",
       "    x.observe(notebookContainer, {childList: true});\n",
       "}}\n",
       "\n",
       "// Listen for the clearing of the current output cell\n",
       "var outputEl = gd.closest('.output');\n",
       "if (outputEl) {{\n",
       "    x.observe(outputEl, {childList: true});\n",
       "}}\n",
       "\n",
       "                        })                };                });            </script>        </div>"
      ]
     },
     "metadata": {},
     "output_type": "display_data"
    },
    {
     "data": {
      "application/vnd.plotly.v1+json": {
       "config": {
        "plotlyServerURL": "https://plot.ly"
       },
       "data": [
        {
         "hovertemplate": "color=00<br>symbol=WT<br>2=%{x}<br>3=%{y}<extra></extra>",
         "legendgroup": "00, WT",
         "marker": {
          "color": "#636efa",
          "size": 13,
          "symbol": "circle"
         },
         "mode": "markers",
         "name": "00, WT",
         "orientation": "v",
         "showlegend": true,
         "type": "scatter",
         "x": [
          1.6050160655121133,
          1.2159582732331298,
          1.4595414014085506,
          0.7991945610313989,
          -0.08762564111905112,
          -0.2953405336557701,
          -0.18214007026275864,
          -0.4994816016501273
         ],
         "xaxis": "x",
         "y": [
          -0.20129166736134774,
          0.7123393456602967,
          0.5184997032439934,
          0.8675663571973959,
          -0.8105860301892253,
          -0.034975274168776056,
          -0.13112155596228647,
          -0.10554317701371123
         ],
         "yaxis": "y"
        },
        {
         "hovertemplate": "color=02<br>symbol=WT<br>2=%{x}<br>3=%{y}<extra></extra>",
         "legendgroup": "02, WT",
         "marker": {
          "color": "#EF553B",
          "size": 13,
          "symbol": "circle"
         },
         "mode": "markers",
         "name": "02, WT",
         "orientation": "v",
         "showlegend": true,
         "type": "scatter",
         "x": [
          1.5733281590884272,
          0.5981076461928795,
          0.5871872208170353,
          0.44993042078631645,
          -0.3249097440984648,
          -0.9130769606337658,
          -0.5264490084631988,
          -1.2160688891477869
         ],
         "xaxis": "x",
         "y": [
          0.7706780772611921,
          0.8810871396579043,
          0.2179153791607435,
          0.09587530360303134,
          -0.030757011681060542,
          0.20836087397086278,
          -0.04517163717012715,
          0.08649116234845197
         ],
         "yaxis": "y"
        },
        {
         "hovertemplate": "color=04<br>symbol=WT<br>2=%{x}<br>3=%{y}<extra></extra>",
         "legendgroup": "04, WT",
         "marker": {
          "color": "#00cc96",
          "size": 13,
          "symbol": "circle"
         },
         "mode": "markers",
         "name": "04, WT",
         "orientation": "v",
         "showlegend": true,
         "type": "scatter",
         "x": [
          0.4234216416872423,
          0.561977368084073,
          0.5901956218222829,
          0.5294457918774783,
          -0.874580356424844,
          -0.5947033540741672,
          -1.250927481211026,
          -0.5393185188829211
         ],
         "xaxis": "x",
         "y": [
          -0.08856401265953408,
          0.5205333150406565,
          -0.5541150289393963,
          0.37890726806995395,
          0.017532565852571944,
          0.13615308803361365,
          -0.07161793703384911,
          -0.10938595813460096
         ],
         "yaxis": "y"
        },
        {
         "hovertemplate": "color=06<br>symbol=WT<br>2=%{x}<br>3=%{y}<extra></extra>",
         "legendgroup": "06, WT",
         "marker": {
          "color": "#ab63fa",
          "size": 13,
          "symbol": "circle"
         },
         "mode": "markers",
         "name": "06, WT",
         "orientation": "v",
         "showlegend": true,
         "type": "scatter",
         "x": [
          0.4975811361026757,
          0.44263584556516905,
          0.7788975410081127,
          0.5751619122562818,
          -1.074186769570013,
          -1.1441658811420992,
          -1.1733061062839951,
          -1.2093608992942728
         ],
         "xaxis": "x",
         "y": [
          -0.44825526147959793,
          -0.613827101457419,
          -0.5076457379537653,
          -0.5435988020707057,
          0.011981304520693743,
          -0.28264474140827006,
          -0.15239601635449604,
          0.008580208885312031
         ],
         "yaxis": "y"
        },
        {
         "hovertemplate": "color=08<br>symbol=WT<br>2=%{x}<br>3=%{y}<extra></extra>",
         "legendgroup": "08, WT",
         "marker": {
          "color": "#FFA15A",
          "size": 13,
          "symbol": "circle"
         },
         "mode": "markers",
         "name": "08, WT",
         "orientation": "v",
         "showlegend": true,
         "type": "scatter",
         "x": [
          0.8336620315751527,
          0.7478490003980566,
          0.7835760772335738,
          0.8556933224835792,
          -1.049938273783036,
          -0.9329028639103578,
          -0.9160221780201456,
          -0.9394345411097975
         ],
         "xaxis": "x",
         "y": [
          -0.425098502534741,
          -0.38613000439522865,
          -0.362129812943987,
          -0.4371171238856537,
          -0.11642349288476685,
          -0.1620333035940416,
          -0.1745057068482021,
          -0.057218526055432185
         ],
         "yaxis": "y"
        },
        {
         "hovertemplate": "color=10<br>symbol=WT<br>2=%{x}<br>3=%{y}<extra></extra>",
         "legendgroup": "10, WT",
         "marker": {
          "color": "#19d3f3",
          "size": 13,
          "symbol": "circle"
         },
         "mode": "markers",
         "name": "10, WT",
         "orientation": "v",
         "showlegend": true,
         "type": "scatter",
         "x": [
          0.8921492181238877,
          0.8671123635375246,
          0.6387264237043004,
          0.9268873225658818,
          -1.0034048712359338,
          -0.890103431180037,
          -1.0033031836231858,
          -0.9706740222885357
         ],
         "xaxis": "x",
         "y": [
          -0.3463767869244529,
          -0.375651759789066,
          -0.23160255111238573,
          -0.3798762161633042,
          -0.15105673076890988,
          -0.15951628244937596,
          -0.12387979518542369,
          -0.12574883591841693
         ],
         "yaxis": "y"
        },
        {
         "hovertemplate": "color=12<br>symbol=WT<br>2=%{x}<br>3=%{y}<extra></extra>",
         "legendgroup": "12, WT",
         "marker": {
          "color": "#FF6692",
          "size": 13,
          "symbol": "circle"
         },
         "mode": "markers",
         "name": "12, WT",
         "orientation": "v",
         "showlegend": true,
         "type": "scatter",
         "x": [
          0.5494241926155835,
          0.7531046879676079,
          0.8557464099061531,
          0.5632041493660737,
          -1.0603689946945238,
          -0.9347467938303217,
          -0.9177906511321744,
          -1.3755304942187832
         ],
         "xaxis": "x",
         "y": [
          -0.1477638034817415,
          -0.294378907470928,
          -0.3389033119744064,
          0.05112590792322165,
          -0.038838719013245614,
          -0.2395105017463598,
          -0.19631356151379098,
          0.09277536042316988
         ],
         "yaxis": "y"
        },
        {
         "hovertemplate": "color=14<br>symbol=WT<br>2=%{x}<br>3=%{y}<extra></extra>",
         "legendgroup": "14, WT",
         "marker": {
          "color": "#B6E880",
          "size": 13,
          "symbol": "circle"
         },
         "mode": "markers",
         "name": "14, WT",
         "orientation": "v",
         "showlegend": true,
         "type": "scatter",
         "x": [
          0.6979354487641556,
          0.5716715000711776,
          0.5853843752588204,
          0.4639691217890404,
          -1.0875579131899213,
          -1.367884423650998,
          -1.3407033147385845,
          -1.406947437438278
         ],
         "xaxis": "x",
         "y": [
          0.5107598910097653,
          0.39197471376585236,
          0.17448777439076987,
          0.2548153136754469,
          0.5323339538145418,
          0.12504161965746222,
          0.15978252196861284,
          0.2096871105686055
         ],
         "yaxis": "y"
        },
        {
         "hovertemplate": "color=16<br>symbol=WT<br>2=%{x}<br>3=%{y}<extra></extra>",
         "legendgroup": "16, WT",
         "marker": {
          "color": "#FF97FF",
          "size": 13,
          "symbol": "circle"
         },
         "mode": "markers",
         "name": "16, WT",
         "orientation": "v",
         "showlegend": true,
         "type": "scatter",
         "x": [
          0.6201346121664709,
          0.4350588720180773,
          0.7000221812190097,
          0.44252937493336547,
          -1.4410153601472082,
          -1.2822912208537531,
          -1.2928858936928078,
          -1.3728042038881247
         ],
         "xaxis": "x",
         "y": [
          0.9893441133880935,
          0.30175786824937134,
          0.919341445350076,
          0.3883419409431312,
          0.47910546108113655,
          0.11053237901907718,
          0.2571603763714148,
          0.1681580466471615
         ],
         "yaxis": "y"
        },
        {
         "hovertemplate": "color=18<br>symbol=WT<br>2=%{x}<br>3=%{y}<extra></extra>",
         "legendgroup": "18, WT",
         "marker": {
          "color": "#FECB52",
          "size": 13,
          "symbol": "circle"
         },
         "mode": "markers",
         "name": "18, WT",
         "orientation": "v",
         "showlegend": true,
         "type": "scatter",
         "x": [
          0.7069624999892632,
          1.0826724445661011,
          0.9355475444969009,
          0.7168053382377484,
          -1.4014607555958523,
          -0.9895127115491698,
          -1.0442554039376237,
          -1.1528149027491885
         ],
         "xaxis": "x",
         "y": [
          0.47324189162802005,
          0.04195591195977968,
          0.394809357392046,
          0.7792133669441619,
          0.49656247895126226,
          0.17954875653320315,
          0.09683477335670769,
          0.189642308543467
         ],
         "yaxis": "y"
        },
        {
         "hovertemplate": "color=20<br>symbol=WT<br>2=%{x}<br>3=%{y}<extra></extra>",
         "legendgroup": "20, WT",
         "marker": {
          "color": "#636efa",
          "size": 13,
          "symbol": "circle"
         },
         "mode": "markers",
         "name": "20, WT",
         "orientation": "v",
         "showlegend": true,
         "type": "scatter",
         "x": [
          1.6469602136394015,
          1.5856204783717867,
          1.3248189853022279,
          1.2365355814251886,
          -0.33798378728537376,
          0.10548551980102541,
          -0.8702776636091447,
          -0.9336810741757607
         ],
         "xaxis": "x",
         "y": [
          -0.6142752980966524,
          -0.7380662138310403,
          0.40692199557535363,
          0.942273476746274,
          -0.9254018985865577,
          -0.9216831553619574,
          -0.02480685388040145,
          0.23406935598332587
         ],
         "yaxis": "y"
        },
        {
         "hovertemplate": "color=22<br>symbol=WT<br>2=%{x}<br>3=%{y}<extra></extra>",
         "legendgroup": "22, WT",
         "marker": {
          "color": "#EF553B",
          "size": 13,
          "symbol": "circle"
         },
         "mode": "markers",
         "name": "22, WT",
         "orientation": "v",
         "showlegend": true,
         "type": "scatter",
         "x": [
          1.8072680657010205,
          1.8923044362307315,
          1.6494830920359664,
          1.2952695295471073,
          -0.17293715752383323,
          -0.29621299205598967,
          -0.26566282523647117,
          -0.5004038652559307
         ],
         "xaxis": "x",
         "y": [
          -0.18732492975711393,
          -0.2821961980408688,
          -0.566969094491108,
          0.2722278382493367,
          -0.6465258361686818,
          -0.505853350011679,
          -0.38913984445187444,
          -0.25251454224657366
         ],
         "yaxis": "y"
        }
       ],
       "layout": {
        "height": 600,
        "legend": {
         "title": {
          "text": "color, symbol"
         },
         "tracegroupgap": 0
        },
        "margin": {
         "t": 60
        },
        "plot_bgcolor": "rgb(243,243,243)",
        "template": {
         "data": {
          "bar": [
           {
            "error_x": {
             "color": "#2a3f5f"
            },
            "error_y": {
             "color": "#2a3f5f"
            },
            "marker": {
             "line": {
              "color": "#E5ECF6",
              "width": 0.5
             },
             "pattern": {
              "fillmode": "overlay",
              "size": 10,
              "solidity": 0.2
             }
            },
            "type": "bar"
           }
          ],
          "barpolar": [
           {
            "marker": {
             "line": {
              "color": "#E5ECF6",
              "width": 0.5
             },
             "pattern": {
              "fillmode": "overlay",
              "size": 10,
              "solidity": 0.2
             }
            },
            "type": "barpolar"
           }
          ],
          "carpet": [
           {
            "aaxis": {
             "endlinecolor": "#2a3f5f",
             "gridcolor": "white",
             "linecolor": "white",
             "minorgridcolor": "white",
             "startlinecolor": "#2a3f5f"
            },
            "baxis": {
             "endlinecolor": "#2a3f5f",
             "gridcolor": "white",
             "linecolor": "white",
             "minorgridcolor": "white",
             "startlinecolor": "#2a3f5f"
            },
            "type": "carpet"
           }
          ],
          "choropleth": [
           {
            "colorbar": {
             "outlinewidth": 0,
             "ticks": ""
            },
            "type": "choropleth"
           }
          ],
          "contour": [
           {
            "colorbar": {
             "outlinewidth": 0,
             "ticks": ""
            },
            "colorscale": [
             [
              0,
              "#0d0887"
             ],
             [
              0.1111111111111111,
              "#46039f"
             ],
             [
              0.2222222222222222,
              "#7201a8"
             ],
             [
              0.3333333333333333,
              "#9c179e"
             ],
             [
              0.4444444444444444,
              "#bd3786"
             ],
             [
              0.5555555555555556,
              "#d8576b"
             ],
             [
              0.6666666666666666,
              "#ed7953"
             ],
             [
              0.7777777777777778,
              "#fb9f3a"
             ],
             [
              0.8888888888888888,
              "#fdca26"
             ],
             [
              1,
              "#f0f921"
             ]
            ],
            "type": "contour"
           }
          ],
          "contourcarpet": [
           {
            "colorbar": {
             "outlinewidth": 0,
             "ticks": ""
            },
            "type": "contourcarpet"
           }
          ],
          "heatmap": [
           {
            "colorbar": {
             "outlinewidth": 0,
             "ticks": ""
            },
            "colorscale": [
             [
              0,
              "#0d0887"
             ],
             [
              0.1111111111111111,
              "#46039f"
             ],
             [
              0.2222222222222222,
              "#7201a8"
             ],
             [
              0.3333333333333333,
              "#9c179e"
             ],
             [
              0.4444444444444444,
              "#bd3786"
             ],
             [
              0.5555555555555556,
              "#d8576b"
             ],
             [
              0.6666666666666666,
              "#ed7953"
             ],
             [
              0.7777777777777778,
              "#fb9f3a"
             ],
             [
              0.8888888888888888,
              "#fdca26"
             ],
             [
              1,
              "#f0f921"
             ]
            ],
            "type": "heatmap"
           }
          ],
          "heatmapgl": [
           {
            "colorbar": {
             "outlinewidth": 0,
             "ticks": ""
            },
            "colorscale": [
             [
              0,
              "#0d0887"
             ],
             [
              0.1111111111111111,
              "#46039f"
             ],
             [
              0.2222222222222222,
              "#7201a8"
             ],
             [
              0.3333333333333333,
              "#9c179e"
             ],
             [
              0.4444444444444444,
              "#bd3786"
             ],
             [
              0.5555555555555556,
              "#d8576b"
             ],
             [
              0.6666666666666666,
              "#ed7953"
             ],
             [
              0.7777777777777778,
              "#fb9f3a"
             ],
             [
              0.8888888888888888,
              "#fdca26"
             ],
             [
              1,
              "#f0f921"
             ]
            ],
            "type": "heatmapgl"
           }
          ],
          "histogram": [
           {
            "marker": {
             "pattern": {
              "fillmode": "overlay",
              "size": 10,
              "solidity": 0.2
             }
            },
            "type": "histogram"
           }
          ],
          "histogram2d": [
           {
            "colorbar": {
             "outlinewidth": 0,
             "ticks": ""
            },
            "colorscale": [
             [
              0,
              "#0d0887"
             ],
             [
              0.1111111111111111,
              "#46039f"
             ],
             [
              0.2222222222222222,
              "#7201a8"
             ],
             [
              0.3333333333333333,
              "#9c179e"
             ],
             [
              0.4444444444444444,
              "#bd3786"
             ],
             [
              0.5555555555555556,
              "#d8576b"
             ],
             [
              0.6666666666666666,
              "#ed7953"
             ],
             [
              0.7777777777777778,
              "#fb9f3a"
             ],
             [
              0.8888888888888888,
              "#fdca26"
             ],
             [
              1,
              "#f0f921"
             ]
            ],
            "type": "histogram2d"
           }
          ],
          "histogram2dcontour": [
           {
            "colorbar": {
             "outlinewidth": 0,
             "ticks": ""
            },
            "colorscale": [
             [
              0,
              "#0d0887"
             ],
             [
              0.1111111111111111,
              "#46039f"
             ],
             [
              0.2222222222222222,
              "#7201a8"
             ],
             [
              0.3333333333333333,
              "#9c179e"
             ],
             [
              0.4444444444444444,
              "#bd3786"
             ],
             [
              0.5555555555555556,
              "#d8576b"
             ],
             [
              0.6666666666666666,
              "#ed7953"
             ],
             [
              0.7777777777777778,
              "#fb9f3a"
             ],
             [
              0.8888888888888888,
              "#fdca26"
             ],
             [
              1,
              "#f0f921"
             ]
            ],
            "type": "histogram2dcontour"
           }
          ],
          "mesh3d": [
           {
            "colorbar": {
             "outlinewidth": 0,
             "ticks": ""
            },
            "type": "mesh3d"
           }
          ],
          "parcoords": [
           {
            "line": {
             "colorbar": {
              "outlinewidth": 0,
              "ticks": ""
             }
            },
            "type": "parcoords"
           }
          ],
          "pie": [
           {
            "automargin": true,
            "type": "pie"
           }
          ],
          "scatter": [
           {
            "fillpattern": {
             "fillmode": "overlay",
             "size": 10,
             "solidity": 0.2
            },
            "type": "scatter"
           }
          ],
          "scatter3d": [
           {
            "line": {
             "colorbar": {
              "outlinewidth": 0,
              "ticks": ""
             }
            },
            "marker": {
             "colorbar": {
              "outlinewidth": 0,
              "ticks": ""
             }
            },
            "type": "scatter3d"
           }
          ],
          "scattercarpet": [
           {
            "marker": {
             "colorbar": {
              "outlinewidth": 0,
              "ticks": ""
             }
            },
            "type": "scattercarpet"
           }
          ],
          "scattergeo": [
           {
            "marker": {
             "colorbar": {
              "outlinewidth": 0,
              "ticks": ""
             }
            },
            "type": "scattergeo"
           }
          ],
          "scattergl": [
           {
            "marker": {
             "colorbar": {
              "outlinewidth": 0,
              "ticks": ""
             }
            },
            "type": "scattergl"
           }
          ],
          "scattermapbox": [
           {
            "marker": {
             "colorbar": {
              "outlinewidth": 0,
              "ticks": ""
             }
            },
            "type": "scattermapbox"
           }
          ],
          "scatterpolar": [
           {
            "marker": {
             "colorbar": {
              "outlinewidth": 0,
              "ticks": ""
             }
            },
            "type": "scatterpolar"
           }
          ],
          "scatterpolargl": [
           {
            "marker": {
             "colorbar": {
              "outlinewidth": 0,
              "ticks": ""
             }
            },
            "type": "scatterpolargl"
           }
          ],
          "scatterternary": [
           {
            "marker": {
             "colorbar": {
              "outlinewidth": 0,
              "ticks": ""
             }
            },
            "type": "scatterternary"
           }
          ],
          "surface": [
           {
            "colorbar": {
             "outlinewidth": 0,
             "ticks": ""
            },
            "colorscale": [
             [
              0,
              "#0d0887"
             ],
             [
              0.1111111111111111,
              "#46039f"
             ],
             [
              0.2222222222222222,
              "#7201a8"
             ],
             [
              0.3333333333333333,
              "#9c179e"
             ],
             [
              0.4444444444444444,
              "#bd3786"
             ],
             [
              0.5555555555555556,
              "#d8576b"
             ],
             [
              0.6666666666666666,
              "#ed7953"
             ],
             [
              0.7777777777777778,
              "#fb9f3a"
             ],
             [
              0.8888888888888888,
              "#fdca26"
             ],
             [
              1,
              "#f0f921"
             ]
            ],
            "type": "surface"
           }
          ],
          "table": [
           {
            "cells": {
             "fill": {
              "color": "#EBF0F8"
             },
             "line": {
              "color": "white"
             }
            },
            "header": {
             "fill": {
              "color": "#C8D4E3"
             },
             "line": {
              "color": "white"
             }
            },
            "type": "table"
           }
          ]
         },
         "layout": {
          "annotationdefaults": {
           "arrowcolor": "#2a3f5f",
           "arrowhead": 0,
           "arrowwidth": 1
          },
          "autotypenumbers": "strict",
          "coloraxis": {
           "colorbar": {
            "outlinewidth": 0,
            "ticks": ""
           }
          },
          "colorscale": {
           "diverging": [
            [
             0,
             "#8e0152"
            ],
            [
             0.1,
             "#c51b7d"
            ],
            [
             0.2,
             "#de77ae"
            ],
            [
             0.3,
             "#f1b6da"
            ],
            [
             0.4,
             "#fde0ef"
            ],
            [
             0.5,
             "#f7f7f7"
            ],
            [
             0.6,
             "#e6f5d0"
            ],
            [
             0.7,
             "#b8e186"
            ],
            [
             0.8,
             "#7fbc41"
            ],
            [
             0.9,
             "#4d9221"
            ],
            [
             1,
             "#276419"
            ]
           ],
           "sequential": [
            [
             0,
             "#0d0887"
            ],
            [
             0.1111111111111111,
             "#46039f"
            ],
            [
             0.2222222222222222,
             "#7201a8"
            ],
            [
             0.3333333333333333,
             "#9c179e"
            ],
            [
             0.4444444444444444,
             "#bd3786"
            ],
            [
             0.5555555555555556,
             "#d8576b"
            ],
            [
             0.6666666666666666,
             "#ed7953"
            ],
            [
             0.7777777777777778,
             "#fb9f3a"
            ],
            [
             0.8888888888888888,
             "#fdca26"
            ],
            [
             1,
             "#f0f921"
            ]
           ],
           "sequentialminus": [
            [
             0,
             "#0d0887"
            ],
            [
             0.1111111111111111,
             "#46039f"
            ],
            [
             0.2222222222222222,
             "#7201a8"
            ],
            [
             0.3333333333333333,
             "#9c179e"
            ],
            [
             0.4444444444444444,
             "#bd3786"
            ],
            [
             0.5555555555555556,
             "#d8576b"
            ],
            [
             0.6666666666666666,
             "#ed7953"
            ],
            [
             0.7777777777777778,
             "#fb9f3a"
            ],
            [
             0.8888888888888888,
             "#fdca26"
            ],
            [
             1,
             "#f0f921"
            ]
           ]
          },
          "colorway": [
           "#636efa",
           "#EF553B",
           "#00cc96",
           "#ab63fa",
           "#FFA15A",
           "#19d3f3",
           "#FF6692",
           "#B6E880",
           "#FF97FF",
           "#FECB52"
          ],
          "font": {
           "color": "#2a3f5f"
          },
          "geo": {
           "bgcolor": "white",
           "lakecolor": "white",
           "landcolor": "#E5ECF6",
           "showlakes": true,
           "showland": true,
           "subunitcolor": "white"
          },
          "hoverlabel": {
           "align": "left"
          },
          "hovermode": "closest",
          "mapbox": {
           "style": "light"
          },
          "paper_bgcolor": "white",
          "plot_bgcolor": "#E5ECF6",
          "polar": {
           "angularaxis": {
            "gridcolor": "white",
            "linecolor": "white",
            "ticks": ""
           },
           "bgcolor": "#E5ECF6",
           "radialaxis": {
            "gridcolor": "white",
            "linecolor": "white",
            "ticks": ""
           }
          },
          "scene": {
           "xaxis": {
            "backgroundcolor": "#E5ECF6",
            "gridcolor": "white",
            "gridwidth": 2,
            "linecolor": "white",
            "showbackground": true,
            "ticks": "",
            "zerolinecolor": "white"
           },
           "yaxis": {
            "backgroundcolor": "#E5ECF6",
            "gridcolor": "white",
            "gridwidth": 2,
            "linecolor": "white",
            "showbackground": true,
            "ticks": "",
            "zerolinecolor": "white"
           },
           "zaxis": {
            "backgroundcolor": "#E5ECF6",
            "gridcolor": "white",
            "gridwidth": 2,
            "linecolor": "white",
            "showbackground": true,
            "ticks": "",
            "zerolinecolor": "white"
           }
          },
          "shapedefaults": {
           "line": {
            "color": "#2a3f5f"
           }
          },
          "ternary": {
           "aaxis": {
            "gridcolor": "white",
            "linecolor": "white",
            "ticks": ""
           },
           "baxis": {
            "gridcolor": "white",
            "linecolor": "white",
            "ticks": ""
           },
           "bgcolor": "#E5ECF6",
           "caxis": {
            "gridcolor": "white",
            "linecolor": "white",
            "ticks": ""
           }
          },
          "title": {
           "x": 0.05
          },
          "xaxis": {
           "automargin": true,
           "gridcolor": "white",
           "linecolor": "white",
           "ticks": "",
           "title": {
            "standoff": 15
           },
           "zerolinecolor": "white",
           "zerolinewidth": 2
          },
          "yaxis": {
           "automargin": true,
           "gridcolor": "white",
           "linecolor": "white",
           "ticks": "",
           "title": {
            "standoff": 15
           },
           "zerolinecolor": "white",
           "zerolinewidth": 2
          }
         }
        },
        "width": 600,
        "xaxis": {
         "anchor": "y",
         "domain": [
          0,
          1
         ],
         "title": {
          "text": "PC 3 (11.8%)"
         }
        },
        "yaxis": {
         "anchor": "x",
         "domain": [
          0,
          1
         ],
         "title": {
          "text": "PC 4 (2.2%)"
         }
        }
       }
      },
      "text/html": [
       "<div>                            <div id=\"d5c062fc-8e7d-4658-8795-cd958c5ed0b4\" class=\"plotly-graph-div\" style=\"height:600px; width:600px;\"></div>            <script type=\"text/javascript\">                require([\"plotly\"], function(Plotly) {                    window.PLOTLYENV=window.PLOTLYENV || {};                                    if (document.getElementById(\"d5c062fc-8e7d-4658-8795-cd958c5ed0b4\")) {                    Plotly.newPlot(                        \"d5c062fc-8e7d-4658-8795-cd958c5ed0b4\",                        [{\"hovertemplate\":\"color=00<br>symbol=WT<br>2=%{x}<br>3=%{y}<extra></extra>\",\"legendgroup\":\"00, WT\",\"marker\":{\"color\":\"#636efa\",\"symbol\":\"circle\",\"size\":13},\"mode\":\"markers\",\"name\":\"00, WT\",\"orientation\":\"v\",\"showlegend\":true,\"x\":[1.6050160655121133,1.2159582732331298,1.4595414014085506,0.7991945610313989,-0.08762564111905112,-0.2953405336557701,-0.18214007026275864,-0.4994816016501273],\"xaxis\":\"x\",\"y\":[-0.20129166736134774,0.7123393456602967,0.5184997032439934,0.8675663571973959,-0.8105860301892253,-0.034975274168776056,-0.13112155596228647,-0.10554317701371123],\"yaxis\":\"y\",\"type\":\"scatter\"},{\"hovertemplate\":\"color=02<br>symbol=WT<br>2=%{x}<br>3=%{y}<extra></extra>\",\"legendgroup\":\"02, WT\",\"marker\":{\"color\":\"#EF553B\",\"symbol\":\"circle\",\"size\":13},\"mode\":\"markers\",\"name\":\"02, WT\",\"orientation\":\"v\",\"showlegend\":true,\"x\":[1.5733281590884272,0.5981076461928795,0.5871872208170353,0.44993042078631645,-0.3249097440984648,-0.9130769606337658,-0.5264490084631988,-1.2160688891477869],\"xaxis\":\"x\",\"y\":[0.7706780772611921,0.8810871396579043,0.2179153791607435,0.09587530360303134,-0.030757011681060542,0.20836087397086278,-0.04517163717012715,0.08649116234845197],\"yaxis\":\"y\",\"type\":\"scatter\"},{\"hovertemplate\":\"color=04<br>symbol=WT<br>2=%{x}<br>3=%{y}<extra></extra>\",\"legendgroup\":\"04, WT\",\"marker\":{\"color\":\"#00cc96\",\"symbol\":\"circle\",\"size\":13},\"mode\":\"markers\",\"name\":\"04, WT\",\"orientation\":\"v\",\"showlegend\":true,\"x\":[0.4234216416872423,0.561977368084073,0.5901956218222829,0.5294457918774783,-0.874580356424844,-0.5947033540741672,-1.250927481211026,-0.5393185188829211],\"xaxis\":\"x\",\"y\":[-0.08856401265953408,0.5205333150406565,-0.5541150289393963,0.37890726806995395,0.017532565852571944,0.13615308803361365,-0.07161793703384911,-0.10938595813460096],\"yaxis\":\"y\",\"type\":\"scatter\"},{\"hovertemplate\":\"color=06<br>symbol=WT<br>2=%{x}<br>3=%{y}<extra></extra>\",\"legendgroup\":\"06, WT\",\"marker\":{\"color\":\"#ab63fa\",\"symbol\":\"circle\",\"size\":13},\"mode\":\"markers\",\"name\":\"06, WT\",\"orientation\":\"v\",\"showlegend\":true,\"x\":[0.4975811361026757,0.44263584556516905,0.7788975410081127,0.5751619122562818,-1.074186769570013,-1.1441658811420992,-1.1733061062839951,-1.2093608992942728],\"xaxis\":\"x\",\"y\":[-0.44825526147959793,-0.613827101457419,-0.5076457379537653,-0.5435988020707057,0.011981304520693743,-0.28264474140827006,-0.15239601635449604,0.008580208885312031],\"yaxis\":\"y\",\"type\":\"scatter\"},{\"hovertemplate\":\"color=08<br>symbol=WT<br>2=%{x}<br>3=%{y}<extra></extra>\",\"legendgroup\":\"08, WT\",\"marker\":{\"color\":\"#FFA15A\",\"symbol\":\"circle\",\"size\":13},\"mode\":\"markers\",\"name\":\"08, WT\",\"orientation\":\"v\",\"showlegend\":true,\"x\":[0.8336620315751527,0.7478490003980566,0.7835760772335738,0.8556933224835792,-1.049938273783036,-0.9329028639103578,-0.9160221780201456,-0.9394345411097975],\"xaxis\":\"x\",\"y\":[-0.425098502534741,-0.38613000439522865,-0.362129812943987,-0.4371171238856537,-0.11642349288476685,-0.1620333035940416,-0.1745057068482021,-0.057218526055432185],\"yaxis\":\"y\",\"type\":\"scatter\"},{\"hovertemplate\":\"color=10<br>symbol=WT<br>2=%{x}<br>3=%{y}<extra></extra>\",\"legendgroup\":\"10, WT\",\"marker\":{\"color\":\"#19d3f3\",\"symbol\":\"circle\",\"size\":13},\"mode\":\"markers\",\"name\":\"10, WT\",\"orientation\":\"v\",\"showlegend\":true,\"x\":[0.8921492181238877,0.8671123635375246,0.6387264237043004,0.9268873225658818,-1.0034048712359338,-0.890103431180037,-1.0033031836231858,-0.9706740222885357],\"xaxis\":\"x\",\"y\":[-0.3463767869244529,-0.375651759789066,-0.23160255111238573,-0.3798762161633042,-0.15105673076890988,-0.15951628244937596,-0.12387979518542369,-0.12574883591841693],\"yaxis\":\"y\",\"type\":\"scatter\"},{\"hovertemplate\":\"color=12<br>symbol=WT<br>2=%{x}<br>3=%{y}<extra></extra>\",\"legendgroup\":\"12, WT\",\"marker\":{\"color\":\"#FF6692\",\"symbol\":\"circle\",\"size\":13},\"mode\":\"markers\",\"name\":\"12, WT\",\"orientation\":\"v\",\"showlegend\":true,\"x\":[0.5494241926155835,0.7531046879676079,0.8557464099061531,0.5632041493660737,-1.0603689946945238,-0.9347467938303217,-0.9177906511321744,-1.3755304942187832],\"xaxis\":\"x\",\"y\":[-0.1477638034817415,-0.294378907470928,-0.3389033119744064,0.05112590792322165,-0.038838719013245614,-0.2395105017463598,-0.19631356151379098,0.09277536042316988],\"yaxis\":\"y\",\"type\":\"scatter\"},{\"hovertemplate\":\"color=14<br>symbol=WT<br>2=%{x}<br>3=%{y}<extra></extra>\",\"legendgroup\":\"14, WT\",\"marker\":{\"color\":\"#B6E880\",\"symbol\":\"circle\",\"size\":13},\"mode\":\"markers\",\"name\":\"14, WT\",\"orientation\":\"v\",\"showlegend\":true,\"x\":[0.6979354487641556,0.5716715000711776,0.5853843752588204,0.4639691217890404,-1.0875579131899213,-1.367884423650998,-1.3407033147385845,-1.406947437438278],\"xaxis\":\"x\",\"y\":[0.5107598910097653,0.39197471376585236,0.17448777439076987,0.2548153136754469,0.5323339538145418,0.12504161965746222,0.15978252196861284,0.2096871105686055],\"yaxis\":\"y\",\"type\":\"scatter\"},{\"hovertemplate\":\"color=16<br>symbol=WT<br>2=%{x}<br>3=%{y}<extra></extra>\",\"legendgroup\":\"16, WT\",\"marker\":{\"color\":\"#FF97FF\",\"symbol\":\"circle\",\"size\":13},\"mode\":\"markers\",\"name\":\"16, WT\",\"orientation\":\"v\",\"showlegend\":true,\"x\":[0.6201346121664709,0.4350588720180773,0.7000221812190097,0.44252937493336547,-1.4410153601472082,-1.2822912208537531,-1.2928858936928078,-1.3728042038881247],\"xaxis\":\"x\",\"y\":[0.9893441133880935,0.30175786824937134,0.919341445350076,0.3883419409431312,0.47910546108113655,0.11053237901907718,0.2571603763714148,0.1681580466471615],\"yaxis\":\"y\",\"type\":\"scatter\"},{\"hovertemplate\":\"color=18<br>symbol=WT<br>2=%{x}<br>3=%{y}<extra></extra>\",\"legendgroup\":\"18, WT\",\"marker\":{\"color\":\"#FECB52\",\"symbol\":\"circle\",\"size\":13},\"mode\":\"markers\",\"name\":\"18, WT\",\"orientation\":\"v\",\"showlegend\":true,\"x\":[0.7069624999892632,1.0826724445661011,0.9355475444969009,0.7168053382377484,-1.4014607555958523,-0.9895127115491698,-1.0442554039376237,-1.1528149027491885],\"xaxis\":\"x\",\"y\":[0.47324189162802005,0.04195591195977968,0.394809357392046,0.7792133669441619,0.49656247895126226,0.17954875653320315,0.09683477335670769,0.189642308543467],\"yaxis\":\"y\",\"type\":\"scatter\"},{\"hovertemplate\":\"color=20<br>symbol=WT<br>2=%{x}<br>3=%{y}<extra></extra>\",\"legendgroup\":\"20, WT\",\"marker\":{\"color\":\"#636efa\",\"symbol\":\"circle\",\"size\":13},\"mode\":\"markers\",\"name\":\"20, WT\",\"orientation\":\"v\",\"showlegend\":true,\"x\":[1.6469602136394015,1.5856204783717867,1.3248189853022279,1.2365355814251886,-0.33798378728537376,0.10548551980102541,-0.8702776636091447,-0.9336810741757607],\"xaxis\":\"x\",\"y\":[-0.6142752980966524,-0.7380662138310403,0.40692199557535363,0.942273476746274,-0.9254018985865577,-0.9216831553619574,-0.02480685388040145,0.23406935598332587],\"yaxis\":\"y\",\"type\":\"scatter\"},{\"hovertemplate\":\"color=22<br>symbol=WT<br>2=%{x}<br>3=%{y}<extra></extra>\",\"legendgroup\":\"22, WT\",\"marker\":{\"color\":\"#EF553B\",\"symbol\":\"circle\",\"size\":13},\"mode\":\"markers\",\"name\":\"22, WT\",\"orientation\":\"v\",\"showlegend\":true,\"x\":[1.8072680657010205,1.8923044362307315,1.6494830920359664,1.2952695295471073,-0.17293715752383323,-0.29621299205598967,-0.26566282523647117,-0.5004038652559307],\"xaxis\":\"x\",\"y\":[-0.18732492975711393,-0.2821961980408688,-0.566969094491108,0.2722278382493367,-0.6465258361686818,-0.505853350011679,-0.38913984445187444,-0.25251454224657366],\"yaxis\":\"y\",\"type\":\"scatter\"}],                        {\"template\":{\"data\":{\"histogram2dcontour\":[{\"type\":\"histogram2dcontour\",\"colorbar\":{\"outlinewidth\":0,\"ticks\":\"\"},\"colorscale\":[[0.0,\"#0d0887\"],[0.1111111111111111,\"#46039f\"],[0.2222222222222222,\"#7201a8\"],[0.3333333333333333,\"#9c179e\"],[0.4444444444444444,\"#bd3786\"],[0.5555555555555556,\"#d8576b\"],[0.6666666666666666,\"#ed7953\"],[0.7777777777777778,\"#fb9f3a\"],[0.8888888888888888,\"#fdca26\"],[1.0,\"#f0f921\"]]}],\"choropleth\":[{\"type\":\"choropleth\",\"colorbar\":{\"outlinewidth\":0,\"ticks\":\"\"}}],\"histogram2d\":[{\"type\":\"histogram2d\",\"colorbar\":{\"outlinewidth\":0,\"ticks\":\"\"},\"colorscale\":[[0.0,\"#0d0887\"],[0.1111111111111111,\"#46039f\"],[0.2222222222222222,\"#7201a8\"],[0.3333333333333333,\"#9c179e\"],[0.4444444444444444,\"#bd3786\"],[0.5555555555555556,\"#d8576b\"],[0.6666666666666666,\"#ed7953\"],[0.7777777777777778,\"#fb9f3a\"],[0.8888888888888888,\"#fdca26\"],[1.0,\"#f0f921\"]]}],\"heatmap\":[{\"type\":\"heatmap\",\"colorbar\":{\"outlinewidth\":0,\"ticks\":\"\"},\"colorscale\":[[0.0,\"#0d0887\"],[0.1111111111111111,\"#46039f\"],[0.2222222222222222,\"#7201a8\"],[0.3333333333333333,\"#9c179e\"],[0.4444444444444444,\"#bd3786\"],[0.5555555555555556,\"#d8576b\"],[0.6666666666666666,\"#ed7953\"],[0.7777777777777778,\"#fb9f3a\"],[0.8888888888888888,\"#fdca26\"],[1.0,\"#f0f921\"]]}],\"heatmapgl\":[{\"type\":\"heatmapgl\",\"colorbar\":{\"outlinewidth\":0,\"ticks\":\"\"},\"colorscale\":[[0.0,\"#0d0887\"],[0.1111111111111111,\"#46039f\"],[0.2222222222222222,\"#7201a8\"],[0.3333333333333333,\"#9c179e\"],[0.4444444444444444,\"#bd3786\"],[0.5555555555555556,\"#d8576b\"],[0.6666666666666666,\"#ed7953\"],[0.7777777777777778,\"#fb9f3a\"],[0.8888888888888888,\"#fdca26\"],[1.0,\"#f0f921\"]]}],\"contourcarpet\":[{\"type\":\"contourcarpet\",\"colorbar\":{\"outlinewidth\":0,\"ticks\":\"\"}}],\"contour\":[{\"type\":\"contour\",\"colorbar\":{\"outlinewidth\":0,\"ticks\":\"\"},\"colorscale\":[[0.0,\"#0d0887\"],[0.1111111111111111,\"#46039f\"],[0.2222222222222222,\"#7201a8\"],[0.3333333333333333,\"#9c179e\"],[0.4444444444444444,\"#bd3786\"],[0.5555555555555556,\"#d8576b\"],[0.6666666666666666,\"#ed7953\"],[0.7777777777777778,\"#fb9f3a\"],[0.8888888888888888,\"#fdca26\"],[1.0,\"#f0f921\"]]}],\"surface\":[{\"type\":\"surface\",\"colorbar\":{\"outlinewidth\":0,\"ticks\":\"\"},\"colorscale\":[[0.0,\"#0d0887\"],[0.1111111111111111,\"#46039f\"],[0.2222222222222222,\"#7201a8\"],[0.3333333333333333,\"#9c179e\"],[0.4444444444444444,\"#bd3786\"],[0.5555555555555556,\"#d8576b\"],[0.6666666666666666,\"#ed7953\"],[0.7777777777777778,\"#fb9f3a\"],[0.8888888888888888,\"#fdca26\"],[1.0,\"#f0f921\"]]}],\"mesh3d\":[{\"type\":\"mesh3d\",\"colorbar\":{\"outlinewidth\":0,\"ticks\":\"\"}}],\"scatter\":[{\"fillpattern\":{\"fillmode\":\"overlay\",\"size\":10,\"solidity\":0.2},\"type\":\"scatter\"}],\"parcoords\":[{\"type\":\"parcoords\",\"line\":{\"colorbar\":{\"outlinewidth\":0,\"ticks\":\"\"}}}],\"scatterpolargl\":[{\"type\":\"scatterpolargl\",\"marker\":{\"colorbar\":{\"outlinewidth\":0,\"ticks\":\"\"}}}],\"bar\":[{\"error_x\":{\"color\":\"#2a3f5f\"},\"error_y\":{\"color\":\"#2a3f5f\"},\"marker\":{\"line\":{\"color\":\"#E5ECF6\",\"width\":0.5},\"pattern\":{\"fillmode\":\"overlay\",\"size\":10,\"solidity\":0.2}},\"type\":\"bar\"}],\"scattergeo\":[{\"type\":\"scattergeo\",\"marker\":{\"colorbar\":{\"outlinewidth\":0,\"ticks\":\"\"}}}],\"scatterpolar\":[{\"type\":\"scatterpolar\",\"marker\":{\"colorbar\":{\"outlinewidth\":0,\"ticks\":\"\"}}}],\"histogram\":[{\"marker\":{\"pattern\":{\"fillmode\":\"overlay\",\"size\":10,\"solidity\":0.2}},\"type\":\"histogram\"}],\"scattergl\":[{\"type\":\"scattergl\",\"marker\":{\"colorbar\":{\"outlinewidth\":0,\"ticks\":\"\"}}}],\"scatter3d\":[{\"type\":\"scatter3d\",\"line\":{\"colorbar\":{\"outlinewidth\":0,\"ticks\":\"\"}},\"marker\":{\"colorbar\":{\"outlinewidth\":0,\"ticks\":\"\"}}}],\"scattermapbox\":[{\"type\":\"scattermapbox\",\"marker\":{\"colorbar\":{\"outlinewidth\":0,\"ticks\":\"\"}}}],\"scatterternary\":[{\"type\":\"scatterternary\",\"marker\":{\"colorbar\":{\"outlinewidth\":0,\"ticks\":\"\"}}}],\"scattercarpet\":[{\"type\":\"scattercarpet\",\"marker\":{\"colorbar\":{\"outlinewidth\":0,\"ticks\":\"\"}}}],\"carpet\":[{\"aaxis\":{\"endlinecolor\":\"#2a3f5f\",\"gridcolor\":\"white\",\"linecolor\":\"white\",\"minorgridcolor\":\"white\",\"startlinecolor\":\"#2a3f5f\"},\"baxis\":{\"endlinecolor\":\"#2a3f5f\",\"gridcolor\":\"white\",\"linecolor\":\"white\",\"minorgridcolor\":\"white\",\"startlinecolor\":\"#2a3f5f\"},\"type\":\"carpet\"}],\"table\":[{\"cells\":{\"fill\":{\"color\":\"#EBF0F8\"},\"line\":{\"color\":\"white\"}},\"header\":{\"fill\":{\"color\":\"#C8D4E3\"},\"line\":{\"color\":\"white\"}},\"type\":\"table\"}],\"barpolar\":[{\"marker\":{\"line\":{\"color\":\"#E5ECF6\",\"width\":0.5},\"pattern\":{\"fillmode\":\"overlay\",\"size\":10,\"solidity\":0.2}},\"type\":\"barpolar\"}],\"pie\":[{\"automargin\":true,\"type\":\"pie\"}]},\"layout\":{\"autotypenumbers\":\"strict\",\"colorway\":[\"#636efa\",\"#EF553B\",\"#00cc96\",\"#ab63fa\",\"#FFA15A\",\"#19d3f3\",\"#FF6692\",\"#B6E880\",\"#FF97FF\",\"#FECB52\"],\"font\":{\"color\":\"#2a3f5f\"},\"hovermode\":\"closest\",\"hoverlabel\":{\"align\":\"left\"},\"paper_bgcolor\":\"white\",\"plot_bgcolor\":\"#E5ECF6\",\"polar\":{\"bgcolor\":\"#E5ECF6\",\"angularaxis\":{\"gridcolor\":\"white\",\"linecolor\":\"white\",\"ticks\":\"\"},\"radialaxis\":{\"gridcolor\":\"white\",\"linecolor\":\"white\",\"ticks\":\"\"}},\"ternary\":{\"bgcolor\":\"#E5ECF6\",\"aaxis\":{\"gridcolor\":\"white\",\"linecolor\":\"white\",\"ticks\":\"\"},\"baxis\":{\"gridcolor\":\"white\",\"linecolor\":\"white\",\"ticks\":\"\"},\"caxis\":{\"gridcolor\":\"white\",\"linecolor\":\"white\",\"ticks\":\"\"}},\"coloraxis\":{\"colorbar\":{\"outlinewidth\":0,\"ticks\":\"\"}},\"colorscale\":{\"sequential\":[[0.0,\"#0d0887\"],[0.1111111111111111,\"#46039f\"],[0.2222222222222222,\"#7201a8\"],[0.3333333333333333,\"#9c179e\"],[0.4444444444444444,\"#bd3786\"],[0.5555555555555556,\"#d8576b\"],[0.6666666666666666,\"#ed7953\"],[0.7777777777777778,\"#fb9f3a\"],[0.8888888888888888,\"#fdca26\"],[1.0,\"#f0f921\"]],\"sequentialminus\":[[0.0,\"#0d0887\"],[0.1111111111111111,\"#46039f\"],[0.2222222222222222,\"#7201a8\"],[0.3333333333333333,\"#9c179e\"],[0.4444444444444444,\"#bd3786\"],[0.5555555555555556,\"#d8576b\"],[0.6666666666666666,\"#ed7953\"],[0.7777777777777778,\"#fb9f3a\"],[0.8888888888888888,\"#fdca26\"],[1.0,\"#f0f921\"]],\"diverging\":[[0,\"#8e0152\"],[0.1,\"#c51b7d\"],[0.2,\"#de77ae\"],[0.3,\"#f1b6da\"],[0.4,\"#fde0ef\"],[0.5,\"#f7f7f7\"],[0.6,\"#e6f5d0\"],[0.7,\"#b8e186\"],[0.8,\"#7fbc41\"],[0.9,\"#4d9221\"],[1,\"#276419\"]]},\"xaxis\":{\"gridcolor\":\"white\",\"linecolor\":\"white\",\"ticks\":\"\",\"title\":{\"standoff\":15},\"zerolinecolor\":\"white\",\"automargin\":true,\"zerolinewidth\":2},\"yaxis\":{\"gridcolor\":\"white\",\"linecolor\":\"white\",\"ticks\":\"\",\"title\":{\"standoff\":15},\"zerolinecolor\":\"white\",\"automargin\":true,\"zerolinewidth\":2},\"scene\":{\"xaxis\":{\"backgroundcolor\":\"#E5ECF6\",\"gridcolor\":\"white\",\"linecolor\":\"white\",\"showbackground\":true,\"ticks\":\"\",\"zerolinecolor\":\"white\",\"gridwidth\":2},\"yaxis\":{\"backgroundcolor\":\"#E5ECF6\",\"gridcolor\":\"white\",\"linecolor\":\"white\",\"showbackground\":true,\"ticks\":\"\",\"zerolinecolor\":\"white\",\"gridwidth\":2},\"zaxis\":{\"backgroundcolor\":\"#E5ECF6\",\"gridcolor\":\"white\",\"linecolor\":\"white\",\"showbackground\":true,\"ticks\":\"\",\"zerolinecolor\":\"white\",\"gridwidth\":2}},\"shapedefaults\":{\"line\":{\"color\":\"#2a3f5f\"}},\"annotationdefaults\":{\"arrowcolor\":\"#2a3f5f\",\"arrowhead\":0,\"arrowwidth\":1},\"geo\":{\"bgcolor\":\"white\",\"landcolor\":\"#E5ECF6\",\"subunitcolor\":\"white\",\"showland\":true,\"showlakes\":true,\"lakecolor\":\"white\"},\"title\":{\"x\":0.05},\"mapbox\":{\"style\":\"light\"}}},\"xaxis\":{\"anchor\":\"y\",\"domain\":[0.0,1.0],\"title\":{\"text\":\"PC 3 (11.8%)\"}},\"yaxis\":{\"anchor\":\"x\",\"domain\":[0.0,1.0],\"title\":{\"text\":\"PC 4 (2.2%)\"}},\"legend\":{\"title\":{\"text\":\"color, symbol\"},\"tracegroupgap\":0},\"margin\":{\"t\":60},\"height\":600,\"width\":600,\"plot_bgcolor\":\"rgb(243,243,243)\"},                        {\"responsive\": true}                    ).then(function(){\n",
       "                            \n",
       "var gd = document.getElementById('d5c062fc-8e7d-4658-8795-cd958c5ed0b4');\n",
       "var x = new MutationObserver(function (mutations, observer) {{\n",
       "        var display = window.getComputedStyle(gd).display;\n",
       "        if (!display || display === 'none') {{\n",
       "            console.log([gd, 'removed!']);\n",
       "            Plotly.purge(gd);\n",
       "            observer.disconnect();\n",
       "        }}\n",
       "}});\n",
       "\n",
       "// Listen for the removal of the full notebook cells\n",
       "var notebookContainer = gd.closest('#notebook-container');\n",
       "if (notebookContainer) {{\n",
       "    x.observe(notebookContainer, {childList: true});\n",
       "}}\n",
       "\n",
       "// Listen for the clearing of the current output cell\n",
       "var outputEl = gd.closest('.output');\n",
       "if (outputEl) {{\n",
       "    x.observe(outputEl, {childList: true});\n",
       "}}\n",
       "\n",
       "                        })                };                });            </script>        </div>"
      ]
     },
     "metadata": {},
     "output_type": "display_data"
    },
    {
     "data": {
      "application/vnd.plotly.v1+json": {
       "config": {
        "plotlyServerURL": "https://plot.ly"
       },
       "data": [
        {
         "hovertemplate": "color=A<br>symbol=Intron<br>2=%{x}<br>3=%{y}<extra></extra>",
         "legendgroup": "A, Intron",
         "marker": {
          "color": "#636efa",
          "size": 13,
          "symbol": "circle"
         },
         "mode": "markers",
         "name": "A, Intron",
         "orientation": "v",
         "showlegend": true,
         "type": "scatter",
         "x": [
          1.6050160655121133,
          1.5733281590884272,
          0.4234216416872423,
          0.4975811361026757,
          0.8336620315751527,
          0.8921492181238877,
          0.5494241926155835,
          0.6979354487641556,
          0.6201346121664709,
          0.7069624999892632,
          1.6469602136394015,
          1.8072680657010205
         ],
         "xaxis": "x",
         "y": [
          -0.20129166736134774,
          0.7706780772611921,
          -0.08856401265953408,
          -0.44825526147959793,
          -0.425098502534741,
          -0.3463767869244529,
          -0.1477638034817415,
          0.5107598910097653,
          0.9893441133880935,
          0.47324189162802005,
          -0.6142752980966524,
          -0.18732492975711393
         ],
         "yaxis": "y"
        },
        {
         "hovertemplate": "color=A<br>symbol=Exon<br>2=%{x}<br>3=%{y}<extra></extra>",
         "legendgroup": "A, Exon",
         "marker": {
          "color": "#636efa",
          "size": 13,
          "symbol": "diamond"
         },
         "mode": "markers",
         "name": "A, Exon",
         "orientation": "v",
         "showlegend": true,
         "type": "scatter",
         "x": [
          -0.08762564111905112,
          -0.3249097440984648,
          -0.874580356424844,
          -1.074186769570013,
          -1.049938273783036,
          -1.0034048712359338,
          -1.0603689946945238,
          -1.0875579131899213,
          -1.4410153601472082,
          -1.4014607555958523,
          -0.33798378728537376,
          -0.17293715752383323
         ],
         "xaxis": "x",
         "y": [
          -0.8105860301892253,
          -0.030757011681060542,
          0.017532565852571944,
          0.011981304520693743,
          -0.11642349288476685,
          -0.15105673076890988,
          -0.038838719013245614,
          0.5323339538145418,
          0.47910546108113655,
          0.49656247895126226,
          -0.9254018985865577,
          -0.6465258361686818
         ],
         "yaxis": "y"
        },
        {
         "hovertemplate": "color=B<br>symbol=Intron<br>2=%{x}<br>3=%{y}<extra></extra>",
         "legendgroup": "B, Intron",
         "marker": {
          "color": "#EF553B",
          "size": 13,
          "symbol": "circle"
         },
         "mode": "markers",
         "name": "B, Intron",
         "orientation": "v",
         "showlegend": true,
         "type": "scatter",
         "x": [
          1.2159582732331298,
          0.5981076461928795,
          0.561977368084073,
          0.44263584556516905,
          0.7478490003980566,
          0.8671123635375246,
          0.7531046879676079,
          0.5716715000711776,
          0.4350588720180773,
          1.0826724445661011,
          1.5856204783717867,
          1.8923044362307315
         ],
         "xaxis": "x",
         "y": [
          0.7123393456602967,
          0.8810871396579043,
          0.5205333150406565,
          -0.613827101457419,
          -0.38613000439522865,
          -0.375651759789066,
          -0.294378907470928,
          0.39197471376585236,
          0.30175786824937134,
          0.04195591195977968,
          -0.7380662138310403,
          -0.2821961980408688
         ],
         "yaxis": "y"
        },
        {
         "hovertemplate": "color=B<br>symbol=Exon<br>2=%{x}<br>3=%{y}<extra></extra>",
         "legendgroup": "B, Exon",
         "marker": {
          "color": "#EF553B",
          "size": 13,
          "symbol": "diamond"
         },
         "mode": "markers",
         "name": "B, Exon",
         "orientation": "v",
         "showlegend": true,
         "type": "scatter",
         "x": [
          -0.2953405336557701,
          -0.9130769606337658,
          -0.5947033540741672,
          -1.1441658811420992,
          -0.9329028639103578,
          -0.890103431180037,
          -0.9347467938303217,
          -1.367884423650998,
          -1.2822912208537531,
          -0.9895127115491698,
          0.10548551980102541,
          -0.29621299205598967
         ],
         "xaxis": "x",
         "y": [
          -0.034975274168776056,
          0.20836087397086278,
          0.13615308803361365,
          -0.28264474140827006,
          -0.1620333035940416,
          -0.15951628244937596,
          -0.2395105017463598,
          0.12504161965746222,
          0.11053237901907718,
          0.17954875653320315,
          -0.9216831553619574,
          -0.505853350011679
         ],
         "yaxis": "y"
        },
        {
         "hovertemplate": "color=C<br>symbol=Intron<br>2=%{x}<br>3=%{y}<extra></extra>",
         "legendgroup": "C, Intron",
         "marker": {
          "color": "#00cc96",
          "size": 13,
          "symbol": "circle"
         },
         "mode": "markers",
         "name": "C, Intron",
         "orientation": "v",
         "showlegend": true,
         "type": "scatter",
         "x": [
          1.4595414014085506,
          0.5871872208170353,
          0.5901956218222829,
          0.7788975410081127,
          0.7835760772335738,
          0.6387264237043004,
          0.8557464099061531,
          0.5853843752588204,
          0.7000221812190097,
          0.9355475444969009,
          1.3248189853022279,
          1.6494830920359664
         ],
         "xaxis": "x",
         "y": [
          0.5184997032439934,
          0.2179153791607435,
          -0.5541150289393963,
          -0.5076457379537653,
          -0.362129812943987,
          -0.23160255111238573,
          -0.3389033119744064,
          0.17448777439076987,
          0.919341445350076,
          0.394809357392046,
          0.40692199557535363,
          -0.566969094491108
         ],
         "yaxis": "y"
        },
        {
         "hovertemplate": "color=C<br>symbol=Exon<br>2=%{x}<br>3=%{y}<extra></extra>",
         "legendgroup": "C, Exon",
         "marker": {
          "color": "#00cc96",
          "size": 13,
          "symbol": "diamond"
         },
         "mode": "markers",
         "name": "C, Exon",
         "orientation": "v",
         "showlegend": true,
         "type": "scatter",
         "x": [
          -0.18214007026275864,
          -0.5264490084631988,
          -1.250927481211026,
          -1.1733061062839951,
          -0.9160221780201456,
          -1.0033031836231858,
          -0.9177906511321744,
          -1.3407033147385845,
          -1.2928858936928078,
          -1.0442554039376237,
          -0.8702776636091447,
          -0.26566282523647117
         ],
         "xaxis": "x",
         "y": [
          -0.13112155596228647,
          -0.04517163717012715,
          -0.07161793703384911,
          -0.15239601635449604,
          -0.1745057068482021,
          -0.12387979518542369,
          -0.19631356151379098,
          0.15978252196861284,
          0.2571603763714148,
          0.09683477335670769,
          -0.02480685388040145,
          -0.38913984445187444
         ],
         "yaxis": "y"
        },
        {
         "hovertemplate": "color=D<br>symbol=Intron<br>2=%{x}<br>3=%{y}<extra></extra>",
         "legendgroup": "D, Intron",
         "marker": {
          "color": "#ab63fa",
          "size": 13,
          "symbol": "circle"
         },
         "mode": "markers",
         "name": "D, Intron",
         "orientation": "v",
         "showlegend": true,
         "type": "scatter",
         "x": [
          0.7991945610313989,
          0.44993042078631645,
          0.5294457918774783,
          0.5751619122562818,
          0.8556933224835792,
          0.9268873225658818,
          0.5632041493660737,
          0.4639691217890404,
          0.44252937493336547,
          0.7168053382377484,
          1.2365355814251886,
          1.2952695295471073
         ],
         "xaxis": "x",
         "y": [
          0.8675663571973959,
          0.09587530360303134,
          0.37890726806995395,
          -0.5435988020707057,
          -0.4371171238856537,
          -0.3798762161633042,
          0.05112590792322165,
          0.2548153136754469,
          0.3883419409431312,
          0.7792133669441619,
          0.942273476746274,
          0.2722278382493367
         ],
         "yaxis": "y"
        },
        {
         "hovertemplate": "color=D<br>symbol=Exon<br>2=%{x}<br>3=%{y}<extra></extra>",
         "legendgroup": "D, Exon",
         "marker": {
          "color": "#ab63fa",
          "size": 13,
          "symbol": "diamond"
         },
         "mode": "markers",
         "name": "D, Exon",
         "orientation": "v",
         "showlegend": true,
         "type": "scatter",
         "x": [
          -0.4994816016501273,
          -1.2160688891477869,
          -0.5393185188829211,
          -1.2093608992942728,
          -0.9394345411097975,
          -0.9706740222885357,
          -1.3755304942187832,
          -1.406947437438278,
          -1.3728042038881247,
          -1.1528149027491885,
          -0.9336810741757607,
          -0.5004038652559307
         ],
         "xaxis": "x",
         "y": [
          -0.10554317701371123,
          0.08649116234845197,
          -0.10938595813460096,
          0.008580208885312031,
          -0.057218526055432185,
          -0.12574883591841693,
          0.09277536042316988,
          0.2096871105686055,
          0.1681580466471615,
          0.189642308543467,
          0.23406935598332587,
          -0.25251454224657366
         ],
         "yaxis": "y"
        }
       ],
       "layout": {
        "height": 600,
        "legend": {
         "title": {
          "text": "color, symbol"
         },
         "tracegroupgap": 0
        },
        "margin": {
         "t": 60
        },
        "plot_bgcolor": "rgb(243,243,243)",
        "template": {
         "data": {
          "bar": [
           {
            "error_x": {
             "color": "#2a3f5f"
            },
            "error_y": {
             "color": "#2a3f5f"
            },
            "marker": {
             "line": {
              "color": "#E5ECF6",
              "width": 0.5
             },
             "pattern": {
              "fillmode": "overlay",
              "size": 10,
              "solidity": 0.2
             }
            },
            "type": "bar"
           }
          ],
          "barpolar": [
           {
            "marker": {
             "line": {
              "color": "#E5ECF6",
              "width": 0.5
             },
             "pattern": {
              "fillmode": "overlay",
              "size": 10,
              "solidity": 0.2
             }
            },
            "type": "barpolar"
           }
          ],
          "carpet": [
           {
            "aaxis": {
             "endlinecolor": "#2a3f5f",
             "gridcolor": "white",
             "linecolor": "white",
             "minorgridcolor": "white",
             "startlinecolor": "#2a3f5f"
            },
            "baxis": {
             "endlinecolor": "#2a3f5f",
             "gridcolor": "white",
             "linecolor": "white",
             "minorgridcolor": "white",
             "startlinecolor": "#2a3f5f"
            },
            "type": "carpet"
           }
          ],
          "choropleth": [
           {
            "colorbar": {
             "outlinewidth": 0,
             "ticks": ""
            },
            "type": "choropleth"
           }
          ],
          "contour": [
           {
            "colorbar": {
             "outlinewidth": 0,
             "ticks": ""
            },
            "colorscale": [
             [
              0,
              "#0d0887"
             ],
             [
              0.1111111111111111,
              "#46039f"
             ],
             [
              0.2222222222222222,
              "#7201a8"
             ],
             [
              0.3333333333333333,
              "#9c179e"
             ],
             [
              0.4444444444444444,
              "#bd3786"
             ],
             [
              0.5555555555555556,
              "#d8576b"
             ],
             [
              0.6666666666666666,
              "#ed7953"
             ],
             [
              0.7777777777777778,
              "#fb9f3a"
             ],
             [
              0.8888888888888888,
              "#fdca26"
             ],
             [
              1,
              "#f0f921"
             ]
            ],
            "type": "contour"
           }
          ],
          "contourcarpet": [
           {
            "colorbar": {
             "outlinewidth": 0,
             "ticks": ""
            },
            "type": "contourcarpet"
           }
          ],
          "heatmap": [
           {
            "colorbar": {
             "outlinewidth": 0,
             "ticks": ""
            },
            "colorscale": [
             [
              0,
              "#0d0887"
             ],
             [
              0.1111111111111111,
              "#46039f"
             ],
             [
              0.2222222222222222,
              "#7201a8"
             ],
             [
              0.3333333333333333,
              "#9c179e"
             ],
             [
              0.4444444444444444,
              "#bd3786"
             ],
             [
              0.5555555555555556,
              "#d8576b"
             ],
             [
              0.6666666666666666,
              "#ed7953"
             ],
             [
              0.7777777777777778,
              "#fb9f3a"
             ],
             [
              0.8888888888888888,
              "#fdca26"
             ],
             [
              1,
              "#f0f921"
             ]
            ],
            "type": "heatmap"
           }
          ],
          "heatmapgl": [
           {
            "colorbar": {
             "outlinewidth": 0,
             "ticks": ""
            },
            "colorscale": [
             [
              0,
              "#0d0887"
             ],
             [
              0.1111111111111111,
              "#46039f"
             ],
             [
              0.2222222222222222,
              "#7201a8"
             ],
             [
              0.3333333333333333,
              "#9c179e"
             ],
             [
              0.4444444444444444,
              "#bd3786"
             ],
             [
              0.5555555555555556,
              "#d8576b"
             ],
             [
              0.6666666666666666,
              "#ed7953"
             ],
             [
              0.7777777777777778,
              "#fb9f3a"
             ],
             [
              0.8888888888888888,
              "#fdca26"
             ],
             [
              1,
              "#f0f921"
             ]
            ],
            "type": "heatmapgl"
           }
          ],
          "histogram": [
           {
            "marker": {
             "pattern": {
              "fillmode": "overlay",
              "size": 10,
              "solidity": 0.2
             }
            },
            "type": "histogram"
           }
          ],
          "histogram2d": [
           {
            "colorbar": {
             "outlinewidth": 0,
             "ticks": ""
            },
            "colorscale": [
             [
              0,
              "#0d0887"
             ],
             [
              0.1111111111111111,
              "#46039f"
             ],
             [
              0.2222222222222222,
              "#7201a8"
             ],
             [
              0.3333333333333333,
              "#9c179e"
             ],
             [
              0.4444444444444444,
              "#bd3786"
             ],
             [
              0.5555555555555556,
              "#d8576b"
             ],
             [
              0.6666666666666666,
              "#ed7953"
             ],
             [
              0.7777777777777778,
              "#fb9f3a"
             ],
             [
              0.8888888888888888,
              "#fdca26"
             ],
             [
              1,
              "#f0f921"
             ]
            ],
            "type": "histogram2d"
           }
          ],
          "histogram2dcontour": [
           {
            "colorbar": {
             "outlinewidth": 0,
             "ticks": ""
            },
            "colorscale": [
             [
              0,
              "#0d0887"
             ],
             [
              0.1111111111111111,
              "#46039f"
             ],
             [
              0.2222222222222222,
              "#7201a8"
             ],
             [
              0.3333333333333333,
              "#9c179e"
             ],
             [
              0.4444444444444444,
              "#bd3786"
             ],
             [
              0.5555555555555556,
              "#d8576b"
             ],
             [
              0.6666666666666666,
              "#ed7953"
             ],
             [
              0.7777777777777778,
              "#fb9f3a"
             ],
             [
              0.8888888888888888,
              "#fdca26"
             ],
             [
              1,
              "#f0f921"
             ]
            ],
            "type": "histogram2dcontour"
           }
          ],
          "mesh3d": [
           {
            "colorbar": {
             "outlinewidth": 0,
             "ticks": ""
            },
            "type": "mesh3d"
           }
          ],
          "parcoords": [
           {
            "line": {
             "colorbar": {
              "outlinewidth": 0,
              "ticks": ""
             }
            },
            "type": "parcoords"
           }
          ],
          "pie": [
           {
            "automargin": true,
            "type": "pie"
           }
          ],
          "scatter": [
           {
            "fillpattern": {
             "fillmode": "overlay",
             "size": 10,
             "solidity": 0.2
            },
            "type": "scatter"
           }
          ],
          "scatter3d": [
           {
            "line": {
             "colorbar": {
              "outlinewidth": 0,
              "ticks": ""
             }
            },
            "marker": {
             "colorbar": {
              "outlinewidth": 0,
              "ticks": ""
             }
            },
            "type": "scatter3d"
           }
          ],
          "scattercarpet": [
           {
            "marker": {
             "colorbar": {
              "outlinewidth": 0,
              "ticks": ""
             }
            },
            "type": "scattercarpet"
           }
          ],
          "scattergeo": [
           {
            "marker": {
             "colorbar": {
              "outlinewidth": 0,
              "ticks": ""
             }
            },
            "type": "scattergeo"
           }
          ],
          "scattergl": [
           {
            "marker": {
             "colorbar": {
              "outlinewidth": 0,
              "ticks": ""
             }
            },
            "type": "scattergl"
           }
          ],
          "scattermapbox": [
           {
            "marker": {
             "colorbar": {
              "outlinewidth": 0,
              "ticks": ""
             }
            },
            "type": "scattermapbox"
           }
          ],
          "scatterpolar": [
           {
            "marker": {
             "colorbar": {
              "outlinewidth": 0,
              "ticks": ""
             }
            },
            "type": "scatterpolar"
           }
          ],
          "scatterpolargl": [
           {
            "marker": {
             "colorbar": {
              "outlinewidth": 0,
              "ticks": ""
             }
            },
            "type": "scatterpolargl"
           }
          ],
          "scatterternary": [
           {
            "marker": {
             "colorbar": {
              "outlinewidth": 0,
              "ticks": ""
             }
            },
            "type": "scatterternary"
           }
          ],
          "surface": [
           {
            "colorbar": {
             "outlinewidth": 0,
             "ticks": ""
            },
            "colorscale": [
             [
              0,
              "#0d0887"
             ],
             [
              0.1111111111111111,
              "#46039f"
             ],
             [
              0.2222222222222222,
              "#7201a8"
             ],
             [
              0.3333333333333333,
              "#9c179e"
             ],
             [
              0.4444444444444444,
              "#bd3786"
             ],
             [
              0.5555555555555556,
              "#d8576b"
             ],
             [
              0.6666666666666666,
              "#ed7953"
             ],
             [
              0.7777777777777778,
              "#fb9f3a"
             ],
             [
              0.8888888888888888,
              "#fdca26"
             ],
             [
              1,
              "#f0f921"
             ]
            ],
            "type": "surface"
           }
          ],
          "table": [
           {
            "cells": {
             "fill": {
              "color": "#EBF0F8"
             },
             "line": {
              "color": "white"
             }
            },
            "header": {
             "fill": {
              "color": "#C8D4E3"
             },
             "line": {
              "color": "white"
             }
            },
            "type": "table"
           }
          ]
         },
         "layout": {
          "annotationdefaults": {
           "arrowcolor": "#2a3f5f",
           "arrowhead": 0,
           "arrowwidth": 1
          },
          "autotypenumbers": "strict",
          "coloraxis": {
           "colorbar": {
            "outlinewidth": 0,
            "ticks": ""
           }
          },
          "colorscale": {
           "diverging": [
            [
             0,
             "#8e0152"
            ],
            [
             0.1,
             "#c51b7d"
            ],
            [
             0.2,
             "#de77ae"
            ],
            [
             0.3,
             "#f1b6da"
            ],
            [
             0.4,
             "#fde0ef"
            ],
            [
             0.5,
             "#f7f7f7"
            ],
            [
             0.6,
             "#e6f5d0"
            ],
            [
             0.7,
             "#b8e186"
            ],
            [
             0.8,
             "#7fbc41"
            ],
            [
             0.9,
             "#4d9221"
            ],
            [
             1,
             "#276419"
            ]
           ],
           "sequential": [
            [
             0,
             "#0d0887"
            ],
            [
             0.1111111111111111,
             "#46039f"
            ],
            [
             0.2222222222222222,
             "#7201a8"
            ],
            [
             0.3333333333333333,
             "#9c179e"
            ],
            [
             0.4444444444444444,
             "#bd3786"
            ],
            [
             0.5555555555555556,
             "#d8576b"
            ],
            [
             0.6666666666666666,
             "#ed7953"
            ],
            [
             0.7777777777777778,
             "#fb9f3a"
            ],
            [
             0.8888888888888888,
             "#fdca26"
            ],
            [
             1,
             "#f0f921"
            ]
           ],
           "sequentialminus": [
            [
             0,
             "#0d0887"
            ],
            [
             0.1111111111111111,
             "#46039f"
            ],
            [
             0.2222222222222222,
             "#7201a8"
            ],
            [
             0.3333333333333333,
             "#9c179e"
            ],
            [
             0.4444444444444444,
             "#bd3786"
            ],
            [
             0.5555555555555556,
             "#d8576b"
            ],
            [
             0.6666666666666666,
             "#ed7953"
            ],
            [
             0.7777777777777778,
             "#fb9f3a"
            ],
            [
             0.8888888888888888,
             "#fdca26"
            ],
            [
             1,
             "#f0f921"
            ]
           ]
          },
          "colorway": [
           "#636efa",
           "#EF553B",
           "#00cc96",
           "#ab63fa",
           "#FFA15A",
           "#19d3f3",
           "#FF6692",
           "#B6E880",
           "#FF97FF",
           "#FECB52"
          ],
          "font": {
           "color": "#2a3f5f"
          },
          "geo": {
           "bgcolor": "white",
           "lakecolor": "white",
           "landcolor": "#E5ECF6",
           "showlakes": true,
           "showland": true,
           "subunitcolor": "white"
          },
          "hoverlabel": {
           "align": "left"
          },
          "hovermode": "closest",
          "mapbox": {
           "style": "light"
          },
          "paper_bgcolor": "white",
          "plot_bgcolor": "#E5ECF6",
          "polar": {
           "angularaxis": {
            "gridcolor": "white",
            "linecolor": "white",
            "ticks": ""
           },
           "bgcolor": "#E5ECF6",
           "radialaxis": {
            "gridcolor": "white",
            "linecolor": "white",
            "ticks": ""
           }
          },
          "scene": {
           "xaxis": {
            "backgroundcolor": "#E5ECF6",
            "gridcolor": "white",
            "gridwidth": 2,
            "linecolor": "white",
            "showbackground": true,
            "ticks": "",
            "zerolinecolor": "white"
           },
           "yaxis": {
            "backgroundcolor": "#E5ECF6",
            "gridcolor": "white",
            "gridwidth": 2,
            "linecolor": "white",
            "showbackground": true,
            "ticks": "",
            "zerolinecolor": "white"
           },
           "zaxis": {
            "backgroundcolor": "#E5ECF6",
            "gridcolor": "white",
            "gridwidth": 2,
            "linecolor": "white",
            "showbackground": true,
            "ticks": "",
            "zerolinecolor": "white"
           }
          },
          "shapedefaults": {
           "line": {
            "color": "#2a3f5f"
           }
          },
          "ternary": {
           "aaxis": {
            "gridcolor": "white",
            "linecolor": "white",
            "ticks": ""
           },
           "baxis": {
            "gridcolor": "white",
            "linecolor": "white",
            "ticks": ""
           },
           "bgcolor": "#E5ECF6",
           "caxis": {
            "gridcolor": "white",
            "linecolor": "white",
            "ticks": ""
           }
          },
          "title": {
           "x": 0.05
          },
          "xaxis": {
           "automargin": true,
           "gridcolor": "white",
           "linecolor": "white",
           "ticks": "",
           "title": {
            "standoff": 15
           },
           "zerolinecolor": "white",
           "zerolinewidth": 2
          },
          "yaxis": {
           "automargin": true,
           "gridcolor": "white",
           "linecolor": "white",
           "ticks": "",
           "title": {
            "standoff": 15
           },
           "zerolinecolor": "white",
           "zerolinewidth": 2
          }
         }
        },
        "width": 600,
        "xaxis": {
         "anchor": "y",
         "domain": [
          0,
          1
         ],
         "title": {
          "text": "PC 3 (11.8%)"
         }
        },
        "yaxis": {
         "anchor": "x",
         "domain": [
          0,
          1
         ],
         "title": {
          "text": "PC 4 (2.2%)"
         }
        }
       }
      },
      "text/html": [
       "<div>                            <div id=\"0ef9d9a7-8dc4-4333-83d2-aa36948174a1\" class=\"plotly-graph-div\" style=\"height:600px; width:600px;\"></div>            <script type=\"text/javascript\">                require([\"plotly\"], function(Plotly) {                    window.PLOTLYENV=window.PLOTLYENV || {};                                    if (document.getElementById(\"0ef9d9a7-8dc4-4333-83d2-aa36948174a1\")) {                    Plotly.newPlot(                        \"0ef9d9a7-8dc4-4333-83d2-aa36948174a1\",                        [{\"hovertemplate\":\"color=A<br>symbol=Intron<br>2=%{x}<br>3=%{y}<extra></extra>\",\"legendgroup\":\"A, Intron\",\"marker\":{\"color\":\"#636efa\",\"symbol\":\"circle\",\"size\":13},\"mode\":\"markers\",\"name\":\"A, Intron\",\"orientation\":\"v\",\"showlegend\":true,\"x\":[1.6050160655121133,1.5733281590884272,0.4234216416872423,0.4975811361026757,0.8336620315751527,0.8921492181238877,0.5494241926155835,0.6979354487641556,0.6201346121664709,0.7069624999892632,1.6469602136394015,1.8072680657010205],\"xaxis\":\"x\",\"y\":[-0.20129166736134774,0.7706780772611921,-0.08856401265953408,-0.44825526147959793,-0.425098502534741,-0.3463767869244529,-0.1477638034817415,0.5107598910097653,0.9893441133880935,0.47324189162802005,-0.6142752980966524,-0.18732492975711393],\"yaxis\":\"y\",\"type\":\"scatter\"},{\"hovertemplate\":\"color=A<br>symbol=Exon<br>2=%{x}<br>3=%{y}<extra></extra>\",\"legendgroup\":\"A, Exon\",\"marker\":{\"color\":\"#636efa\",\"symbol\":\"diamond\",\"size\":13},\"mode\":\"markers\",\"name\":\"A, Exon\",\"orientation\":\"v\",\"showlegend\":true,\"x\":[-0.08762564111905112,-0.3249097440984648,-0.874580356424844,-1.074186769570013,-1.049938273783036,-1.0034048712359338,-1.0603689946945238,-1.0875579131899213,-1.4410153601472082,-1.4014607555958523,-0.33798378728537376,-0.17293715752383323],\"xaxis\":\"x\",\"y\":[-0.8105860301892253,-0.030757011681060542,0.017532565852571944,0.011981304520693743,-0.11642349288476685,-0.15105673076890988,-0.038838719013245614,0.5323339538145418,0.47910546108113655,0.49656247895126226,-0.9254018985865577,-0.6465258361686818],\"yaxis\":\"y\",\"type\":\"scatter\"},{\"hovertemplate\":\"color=B<br>symbol=Intron<br>2=%{x}<br>3=%{y}<extra></extra>\",\"legendgroup\":\"B, Intron\",\"marker\":{\"color\":\"#EF553B\",\"symbol\":\"circle\",\"size\":13},\"mode\":\"markers\",\"name\":\"B, Intron\",\"orientation\":\"v\",\"showlegend\":true,\"x\":[1.2159582732331298,0.5981076461928795,0.561977368084073,0.44263584556516905,0.7478490003980566,0.8671123635375246,0.7531046879676079,0.5716715000711776,0.4350588720180773,1.0826724445661011,1.5856204783717867,1.8923044362307315],\"xaxis\":\"x\",\"y\":[0.7123393456602967,0.8810871396579043,0.5205333150406565,-0.613827101457419,-0.38613000439522865,-0.375651759789066,-0.294378907470928,0.39197471376585236,0.30175786824937134,0.04195591195977968,-0.7380662138310403,-0.2821961980408688],\"yaxis\":\"y\",\"type\":\"scatter\"},{\"hovertemplate\":\"color=B<br>symbol=Exon<br>2=%{x}<br>3=%{y}<extra></extra>\",\"legendgroup\":\"B, Exon\",\"marker\":{\"color\":\"#EF553B\",\"symbol\":\"diamond\",\"size\":13},\"mode\":\"markers\",\"name\":\"B, Exon\",\"orientation\":\"v\",\"showlegend\":true,\"x\":[-0.2953405336557701,-0.9130769606337658,-0.5947033540741672,-1.1441658811420992,-0.9329028639103578,-0.890103431180037,-0.9347467938303217,-1.367884423650998,-1.2822912208537531,-0.9895127115491698,0.10548551980102541,-0.29621299205598967],\"xaxis\":\"x\",\"y\":[-0.034975274168776056,0.20836087397086278,0.13615308803361365,-0.28264474140827006,-0.1620333035940416,-0.15951628244937596,-0.2395105017463598,0.12504161965746222,0.11053237901907718,0.17954875653320315,-0.9216831553619574,-0.505853350011679],\"yaxis\":\"y\",\"type\":\"scatter\"},{\"hovertemplate\":\"color=C<br>symbol=Intron<br>2=%{x}<br>3=%{y}<extra></extra>\",\"legendgroup\":\"C, Intron\",\"marker\":{\"color\":\"#00cc96\",\"symbol\":\"circle\",\"size\":13},\"mode\":\"markers\",\"name\":\"C, Intron\",\"orientation\":\"v\",\"showlegend\":true,\"x\":[1.4595414014085506,0.5871872208170353,0.5901956218222829,0.7788975410081127,0.7835760772335738,0.6387264237043004,0.8557464099061531,0.5853843752588204,0.7000221812190097,0.9355475444969009,1.3248189853022279,1.6494830920359664],\"xaxis\":\"x\",\"y\":[0.5184997032439934,0.2179153791607435,-0.5541150289393963,-0.5076457379537653,-0.362129812943987,-0.23160255111238573,-0.3389033119744064,0.17448777439076987,0.919341445350076,0.394809357392046,0.40692199557535363,-0.566969094491108],\"yaxis\":\"y\",\"type\":\"scatter\"},{\"hovertemplate\":\"color=C<br>symbol=Exon<br>2=%{x}<br>3=%{y}<extra></extra>\",\"legendgroup\":\"C, Exon\",\"marker\":{\"color\":\"#00cc96\",\"symbol\":\"diamond\",\"size\":13},\"mode\":\"markers\",\"name\":\"C, Exon\",\"orientation\":\"v\",\"showlegend\":true,\"x\":[-0.18214007026275864,-0.5264490084631988,-1.250927481211026,-1.1733061062839951,-0.9160221780201456,-1.0033031836231858,-0.9177906511321744,-1.3407033147385845,-1.2928858936928078,-1.0442554039376237,-0.8702776636091447,-0.26566282523647117],\"xaxis\":\"x\",\"y\":[-0.13112155596228647,-0.04517163717012715,-0.07161793703384911,-0.15239601635449604,-0.1745057068482021,-0.12387979518542369,-0.19631356151379098,0.15978252196861284,0.2571603763714148,0.09683477335670769,-0.02480685388040145,-0.38913984445187444],\"yaxis\":\"y\",\"type\":\"scatter\"},{\"hovertemplate\":\"color=D<br>symbol=Intron<br>2=%{x}<br>3=%{y}<extra></extra>\",\"legendgroup\":\"D, Intron\",\"marker\":{\"color\":\"#ab63fa\",\"symbol\":\"circle\",\"size\":13},\"mode\":\"markers\",\"name\":\"D, Intron\",\"orientation\":\"v\",\"showlegend\":true,\"x\":[0.7991945610313989,0.44993042078631645,0.5294457918774783,0.5751619122562818,0.8556933224835792,0.9268873225658818,0.5632041493660737,0.4639691217890404,0.44252937493336547,0.7168053382377484,1.2365355814251886,1.2952695295471073],\"xaxis\":\"x\",\"y\":[0.8675663571973959,0.09587530360303134,0.37890726806995395,-0.5435988020707057,-0.4371171238856537,-0.3798762161633042,0.05112590792322165,0.2548153136754469,0.3883419409431312,0.7792133669441619,0.942273476746274,0.2722278382493367],\"yaxis\":\"y\",\"type\":\"scatter\"},{\"hovertemplate\":\"color=D<br>symbol=Exon<br>2=%{x}<br>3=%{y}<extra></extra>\",\"legendgroup\":\"D, Exon\",\"marker\":{\"color\":\"#ab63fa\",\"symbol\":\"diamond\",\"size\":13},\"mode\":\"markers\",\"name\":\"D, Exon\",\"orientation\":\"v\",\"showlegend\":true,\"x\":[-0.4994816016501273,-1.2160688891477869,-0.5393185188829211,-1.2093608992942728,-0.9394345411097975,-0.9706740222885357,-1.3755304942187832,-1.406947437438278,-1.3728042038881247,-1.1528149027491885,-0.9336810741757607,-0.5004038652559307],\"xaxis\":\"x\",\"y\":[-0.10554317701371123,0.08649116234845197,-0.10938595813460096,0.008580208885312031,-0.057218526055432185,-0.12574883591841693,0.09277536042316988,0.2096871105686055,0.1681580466471615,0.189642308543467,0.23406935598332587,-0.25251454224657366],\"yaxis\":\"y\",\"type\":\"scatter\"}],                        {\"template\":{\"data\":{\"histogram2dcontour\":[{\"type\":\"histogram2dcontour\",\"colorbar\":{\"outlinewidth\":0,\"ticks\":\"\"},\"colorscale\":[[0.0,\"#0d0887\"],[0.1111111111111111,\"#46039f\"],[0.2222222222222222,\"#7201a8\"],[0.3333333333333333,\"#9c179e\"],[0.4444444444444444,\"#bd3786\"],[0.5555555555555556,\"#d8576b\"],[0.6666666666666666,\"#ed7953\"],[0.7777777777777778,\"#fb9f3a\"],[0.8888888888888888,\"#fdca26\"],[1.0,\"#f0f921\"]]}],\"choropleth\":[{\"type\":\"choropleth\",\"colorbar\":{\"outlinewidth\":0,\"ticks\":\"\"}}],\"histogram2d\":[{\"type\":\"histogram2d\",\"colorbar\":{\"outlinewidth\":0,\"ticks\":\"\"},\"colorscale\":[[0.0,\"#0d0887\"],[0.1111111111111111,\"#46039f\"],[0.2222222222222222,\"#7201a8\"],[0.3333333333333333,\"#9c179e\"],[0.4444444444444444,\"#bd3786\"],[0.5555555555555556,\"#d8576b\"],[0.6666666666666666,\"#ed7953\"],[0.7777777777777778,\"#fb9f3a\"],[0.8888888888888888,\"#fdca26\"],[1.0,\"#f0f921\"]]}],\"heatmap\":[{\"type\":\"heatmap\",\"colorbar\":{\"outlinewidth\":0,\"ticks\":\"\"},\"colorscale\":[[0.0,\"#0d0887\"],[0.1111111111111111,\"#46039f\"],[0.2222222222222222,\"#7201a8\"],[0.3333333333333333,\"#9c179e\"],[0.4444444444444444,\"#bd3786\"],[0.5555555555555556,\"#d8576b\"],[0.6666666666666666,\"#ed7953\"],[0.7777777777777778,\"#fb9f3a\"],[0.8888888888888888,\"#fdca26\"],[1.0,\"#f0f921\"]]}],\"heatmapgl\":[{\"type\":\"heatmapgl\",\"colorbar\":{\"outlinewidth\":0,\"ticks\":\"\"},\"colorscale\":[[0.0,\"#0d0887\"],[0.1111111111111111,\"#46039f\"],[0.2222222222222222,\"#7201a8\"],[0.3333333333333333,\"#9c179e\"],[0.4444444444444444,\"#bd3786\"],[0.5555555555555556,\"#d8576b\"],[0.6666666666666666,\"#ed7953\"],[0.7777777777777778,\"#fb9f3a\"],[0.8888888888888888,\"#fdca26\"],[1.0,\"#f0f921\"]]}],\"contourcarpet\":[{\"type\":\"contourcarpet\",\"colorbar\":{\"outlinewidth\":0,\"ticks\":\"\"}}],\"contour\":[{\"type\":\"contour\",\"colorbar\":{\"outlinewidth\":0,\"ticks\":\"\"},\"colorscale\":[[0.0,\"#0d0887\"],[0.1111111111111111,\"#46039f\"],[0.2222222222222222,\"#7201a8\"],[0.3333333333333333,\"#9c179e\"],[0.4444444444444444,\"#bd3786\"],[0.5555555555555556,\"#d8576b\"],[0.6666666666666666,\"#ed7953\"],[0.7777777777777778,\"#fb9f3a\"],[0.8888888888888888,\"#fdca26\"],[1.0,\"#f0f921\"]]}],\"surface\":[{\"type\":\"surface\",\"colorbar\":{\"outlinewidth\":0,\"ticks\":\"\"},\"colorscale\":[[0.0,\"#0d0887\"],[0.1111111111111111,\"#46039f\"],[0.2222222222222222,\"#7201a8\"],[0.3333333333333333,\"#9c179e\"],[0.4444444444444444,\"#bd3786\"],[0.5555555555555556,\"#d8576b\"],[0.6666666666666666,\"#ed7953\"],[0.7777777777777778,\"#fb9f3a\"],[0.8888888888888888,\"#fdca26\"],[1.0,\"#f0f921\"]]}],\"mesh3d\":[{\"type\":\"mesh3d\",\"colorbar\":{\"outlinewidth\":0,\"ticks\":\"\"}}],\"scatter\":[{\"fillpattern\":{\"fillmode\":\"overlay\",\"size\":10,\"solidity\":0.2},\"type\":\"scatter\"}],\"parcoords\":[{\"type\":\"parcoords\",\"line\":{\"colorbar\":{\"outlinewidth\":0,\"ticks\":\"\"}}}],\"scatterpolargl\":[{\"type\":\"scatterpolargl\",\"marker\":{\"colorbar\":{\"outlinewidth\":0,\"ticks\":\"\"}}}],\"bar\":[{\"error_x\":{\"color\":\"#2a3f5f\"},\"error_y\":{\"color\":\"#2a3f5f\"},\"marker\":{\"line\":{\"color\":\"#E5ECF6\",\"width\":0.5},\"pattern\":{\"fillmode\":\"overlay\",\"size\":10,\"solidity\":0.2}},\"type\":\"bar\"}],\"scattergeo\":[{\"type\":\"scattergeo\",\"marker\":{\"colorbar\":{\"outlinewidth\":0,\"ticks\":\"\"}}}],\"scatterpolar\":[{\"type\":\"scatterpolar\",\"marker\":{\"colorbar\":{\"outlinewidth\":0,\"ticks\":\"\"}}}],\"histogram\":[{\"marker\":{\"pattern\":{\"fillmode\":\"overlay\",\"size\":10,\"solidity\":0.2}},\"type\":\"histogram\"}],\"scattergl\":[{\"type\":\"scattergl\",\"marker\":{\"colorbar\":{\"outlinewidth\":0,\"ticks\":\"\"}}}],\"scatter3d\":[{\"type\":\"scatter3d\",\"line\":{\"colorbar\":{\"outlinewidth\":0,\"ticks\":\"\"}},\"marker\":{\"colorbar\":{\"outlinewidth\":0,\"ticks\":\"\"}}}],\"scattermapbox\":[{\"type\":\"scattermapbox\",\"marker\":{\"colorbar\":{\"outlinewidth\":0,\"ticks\":\"\"}}}],\"scatterternary\":[{\"type\":\"scatterternary\",\"marker\":{\"colorbar\":{\"outlinewidth\":0,\"ticks\":\"\"}}}],\"scattercarpet\":[{\"type\":\"scattercarpet\",\"marker\":{\"colorbar\":{\"outlinewidth\":0,\"ticks\":\"\"}}}],\"carpet\":[{\"aaxis\":{\"endlinecolor\":\"#2a3f5f\",\"gridcolor\":\"white\",\"linecolor\":\"white\",\"minorgridcolor\":\"white\",\"startlinecolor\":\"#2a3f5f\"},\"baxis\":{\"endlinecolor\":\"#2a3f5f\",\"gridcolor\":\"white\",\"linecolor\":\"white\",\"minorgridcolor\":\"white\",\"startlinecolor\":\"#2a3f5f\"},\"type\":\"carpet\"}],\"table\":[{\"cells\":{\"fill\":{\"color\":\"#EBF0F8\"},\"line\":{\"color\":\"white\"}},\"header\":{\"fill\":{\"color\":\"#C8D4E3\"},\"line\":{\"color\":\"white\"}},\"type\":\"table\"}],\"barpolar\":[{\"marker\":{\"line\":{\"color\":\"#E5ECF6\",\"width\":0.5},\"pattern\":{\"fillmode\":\"overlay\",\"size\":10,\"solidity\":0.2}},\"type\":\"barpolar\"}],\"pie\":[{\"automargin\":true,\"type\":\"pie\"}]},\"layout\":{\"autotypenumbers\":\"strict\",\"colorway\":[\"#636efa\",\"#EF553B\",\"#00cc96\",\"#ab63fa\",\"#FFA15A\",\"#19d3f3\",\"#FF6692\",\"#B6E880\",\"#FF97FF\",\"#FECB52\"],\"font\":{\"color\":\"#2a3f5f\"},\"hovermode\":\"closest\",\"hoverlabel\":{\"align\":\"left\"},\"paper_bgcolor\":\"white\",\"plot_bgcolor\":\"#E5ECF6\",\"polar\":{\"bgcolor\":\"#E5ECF6\",\"angularaxis\":{\"gridcolor\":\"white\",\"linecolor\":\"white\",\"ticks\":\"\"},\"radialaxis\":{\"gridcolor\":\"white\",\"linecolor\":\"white\",\"ticks\":\"\"}},\"ternary\":{\"bgcolor\":\"#E5ECF6\",\"aaxis\":{\"gridcolor\":\"white\",\"linecolor\":\"white\",\"ticks\":\"\"},\"baxis\":{\"gridcolor\":\"white\",\"linecolor\":\"white\",\"ticks\":\"\"},\"caxis\":{\"gridcolor\":\"white\",\"linecolor\":\"white\",\"ticks\":\"\"}},\"coloraxis\":{\"colorbar\":{\"outlinewidth\":0,\"ticks\":\"\"}},\"colorscale\":{\"sequential\":[[0.0,\"#0d0887\"],[0.1111111111111111,\"#46039f\"],[0.2222222222222222,\"#7201a8\"],[0.3333333333333333,\"#9c179e\"],[0.4444444444444444,\"#bd3786\"],[0.5555555555555556,\"#d8576b\"],[0.6666666666666666,\"#ed7953\"],[0.7777777777777778,\"#fb9f3a\"],[0.8888888888888888,\"#fdca26\"],[1.0,\"#f0f921\"]],\"sequentialminus\":[[0.0,\"#0d0887\"],[0.1111111111111111,\"#46039f\"],[0.2222222222222222,\"#7201a8\"],[0.3333333333333333,\"#9c179e\"],[0.4444444444444444,\"#bd3786\"],[0.5555555555555556,\"#d8576b\"],[0.6666666666666666,\"#ed7953\"],[0.7777777777777778,\"#fb9f3a\"],[0.8888888888888888,\"#fdca26\"],[1.0,\"#f0f921\"]],\"diverging\":[[0,\"#8e0152\"],[0.1,\"#c51b7d\"],[0.2,\"#de77ae\"],[0.3,\"#f1b6da\"],[0.4,\"#fde0ef\"],[0.5,\"#f7f7f7\"],[0.6,\"#e6f5d0\"],[0.7,\"#b8e186\"],[0.8,\"#7fbc41\"],[0.9,\"#4d9221\"],[1,\"#276419\"]]},\"xaxis\":{\"gridcolor\":\"white\",\"linecolor\":\"white\",\"ticks\":\"\",\"title\":{\"standoff\":15},\"zerolinecolor\":\"white\",\"automargin\":true,\"zerolinewidth\":2},\"yaxis\":{\"gridcolor\":\"white\",\"linecolor\":\"white\",\"ticks\":\"\",\"title\":{\"standoff\":15},\"zerolinecolor\":\"white\",\"automargin\":true,\"zerolinewidth\":2},\"scene\":{\"xaxis\":{\"backgroundcolor\":\"#E5ECF6\",\"gridcolor\":\"white\",\"linecolor\":\"white\",\"showbackground\":true,\"ticks\":\"\",\"zerolinecolor\":\"white\",\"gridwidth\":2},\"yaxis\":{\"backgroundcolor\":\"#E5ECF6\",\"gridcolor\":\"white\",\"linecolor\":\"white\",\"showbackground\":true,\"ticks\":\"\",\"zerolinecolor\":\"white\",\"gridwidth\":2},\"zaxis\":{\"backgroundcolor\":\"#E5ECF6\",\"gridcolor\":\"white\",\"linecolor\":\"white\",\"showbackground\":true,\"ticks\":\"\",\"zerolinecolor\":\"white\",\"gridwidth\":2}},\"shapedefaults\":{\"line\":{\"color\":\"#2a3f5f\"}},\"annotationdefaults\":{\"arrowcolor\":\"#2a3f5f\",\"arrowhead\":0,\"arrowwidth\":1},\"geo\":{\"bgcolor\":\"white\",\"landcolor\":\"#E5ECF6\",\"subunitcolor\":\"white\",\"showland\":true,\"showlakes\":true,\"lakecolor\":\"white\"},\"title\":{\"x\":0.05},\"mapbox\":{\"style\":\"light\"}}},\"xaxis\":{\"anchor\":\"y\",\"domain\":[0.0,1.0],\"title\":{\"text\":\"PC 3 (11.8%)\"}},\"yaxis\":{\"anchor\":\"x\",\"domain\":[0.0,1.0],\"title\":{\"text\":\"PC 4 (2.2%)\"}},\"legend\":{\"title\":{\"text\":\"color, symbol\"},\"tracegroupgap\":0},\"margin\":{\"t\":60},\"height\":600,\"width\":600,\"plot_bgcolor\":\"rgb(243,243,243)\"},                        {\"responsive\": true}                    ).then(function(){\n",
       "                            \n",
       "var gd = document.getElementById('0ef9d9a7-8dc4-4333-83d2-aa36948174a1');\n",
       "var x = new MutationObserver(function (mutations, observer) {{\n",
       "        var display = window.getComputedStyle(gd).display;\n",
       "        if (!display || display === 'none') {{\n",
       "            console.log([gd, 'removed!']);\n",
       "            Plotly.purge(gd);\n",
       "            observer.disconnect();\n",
       "        }}\n",
       "}});\n",
       "\n",
       "// Listen for the removal of the full notebook cells\n",
       "var notebookContainer = gd.closest('#notebook-container');\n",
       "if (notebookContainer) {{\n",
       "    x.observe(notebookContainer, {childList: true});\n",
       "}}\n",
       "\n",
       "// Listen for the clearing of the current output cell\n",
       "var outputEl = gd.closest('.output');\n",
       "if (outputEl) {{\n",
       "    x.observe(outputEl, {childList: true});\n",
       "}}\n",
       "\n",
       "                        })                };                });            </script>        </div>"
      ]
     },
     "metadata": {},
     "output_type": "display_data"
    }
   ],
   "source": [
    "pca_all = run_PCA(dat_tot, x_1=1, x_2=2, col='time', shape='condition', scale_d=True, log=False);\n",
    "run_PCA(dat_tot, x_1=1, x_2=2, col='replicate', shape='feature', scale_d=True, log=False);\n",
    "\n",
    "run_PCA(dat_tot, x_1=2, x_2=3, col='time', shape='condition', scale_d=True, log=False);\n",
    "run_PCA(dat_tot, x_1=2, x_2=3, col='replicate', shape='feature', scale_d=True, log=False);\n",
    "\n",
    "run_PCA(dat_tot, x_1=3, x_2=4, col='time', shape='condition', scale_d=True, log=False);\n",
    "run_PCA(dat_tot, x_1=3, x_2=4, col='replicate', shape='feature', scale_d=True, log=False);"
   ]
  },
  {
   "cell_type": "markdown",
   "id": "18464198",
   "metadata": {},
   "source": [
    "#### Assess rhythmicity"
   ]
  },
  {
   "cell_type": "code",
   "execution_count": 107,
   "id": "86c02887",
   "metadata": {},
   "outputs": [],
   "source": [
    "# Function to infer the p-value, phase, amplitude and mean from a time-serie y with size N, period T and sampling Ts. \n",
    "def return_amp_phase_pv(y, Ts, T, N):\n",
    "    \n",
    "    # we do the harmonic regression using a Fourier series\n",
    "    t = np.linspace(0.0, N * Ts, N)\n",
    "    x_fft = np.fft.fft(y)\n",
    "    freq = np.fft.fftfreq(len(y), d=Ts)\n",
    "    index, = np.where(np.isclose(freq, 1/T, atol=0.005))\n",
    "    amp = 4 / N * np.abs(x_fft[index[0]])\n",
    "    phase = T * np.arctan2(-x_fft[index[0]].imag, x_fft[index[0]].real) / (2 * np.pi)\n",
    "    mu = 1 / N * x_fft[0].real\n",
    "    \n",
    "    #compute the residuals and statistics of the fit (pval)\n",
    "    x_hat = mu + 0.5 * amp * np.cos(2 * np.pi / T * t - 2 * np.pi * phase / T)\n",
    "    res = y - x_hat\n",
    "    sig2_1 = np.var(res)\n",
    "    sig2 = np.var(y)\n",
    "    R2 = 1 - sig2_1 / sig2\n",
    "    p = 3\n",
    "    pval=beta.pdf(R2, (p - 1) / 2, (N - p) / 2)\n",
    "    if phase < 0:\n",
    "        phase += T\n",
    "        \n",
    "    return amp, phase, pval, mu"
   ]
  },
  {
   "cell_type": "code",
   "execution_count": 112,
   "id": "519dae95",
   "metadata": {},
   "outputs": [
    {
     "data": {
      "text/html": [
       "<div>\n",
       "<style scoped>\n",
       "    .dataframe tbody tr th:only-of-type {\n",
       "        vertical-align: middle;\n",
       "    }\n",
       "\n",
       "    .dataframe tbody tr th {\n",
       "        vertical-align: top;\n",
       "    }\n",
       "\n",
       "    .dataframe thead tr th {\n",
       "        text-align: left;\n",
       "    }\n",
       "\n",
       "    .dataframe thead tr:last-of-type th {\n",
       "        text-align: right;\n",
       "    }\n",
       "</style>\n",
       "<table border=\"1\" class=\"dataframe\">\n",
       "  <thead>\n",
       "    <tr>\n",
       "      <th>condition</th>\n",
       "      <th colspan=\"21\" halign=\"left\">WT</th>\n",
       "    </tr>\n",
       "    <tr>\n",
       "      <th>feeding</th>\n",
       "      <th colspan=\"21\" halign=\"left\">AL</th>\n",
       "    </tr>\n",
       "    <tr>\n",
       "      <th>feature</th>\n",
       "      <th colspan=\"10\" halign=\"left\">Intron</th>\n",
       "      <th>...</th>\n",
       "      <th colspan=\"10\" halign=\"left\">RFP</th>\n",
       "    </tr>\n",
       "    <tr>\n",
       "      <th>time</th>\n",
       "      <th>00</th>\n",
       "      <th>02</th>\n",
       "      <th>04</th>\n",
       "      <th>06</th>\n",
       "      <th>08</th>\n",
       "      <th>10</th>\n",
       "      <th>12</th>\n",
       "      <th>14</th>\n",
       "      <th>16</th>\n",
       "      <th>18</th>\n",
       "      <th>...</th>\n",
       "      <th>04</th>\n",
       "      <th>06</th>\n",
       "      <th>08</th>\n",
       "      <th>10</th>\n",
       "      <th>12</th>\n",
       "      <th>14</th>\n",
       "      <th>16</th>\n",
       "      <th>18</th>\n",
       "      <th>20</th>\n",
       "      <th>22</th>\n",
       "    </tr>\n",
       "    <tr>\n",
       "      <th>replicate</th>\n",
       "      <th>A</th>\n",
       "      <th>A</th>\n",
       "      <th>A</th>\n",
       "      <th>A</th>\n",
       "      <th>A</th>\n",
       "      <th>A</th>\n",
       "      <th>A</th>\n",
       "      <th>A</th>\n",
       "      <th>A</th>\n",
       "      <th>A</th>\n",
       "      <th>...</th>\n",
       "      <th>D</th>\n",
       "      <th>D</th>\n",
       "      <th>D</th>\n",
       "      <th>D</th>\n",
       "      <th>D</th>\n",
       "      <th>D</th>\n",
       "      <th>D</th>\n",
       "      <th>D</th>\n",
       "      <th>D</th>\n",
       "      <th>D</th>\n",
       "    </tr>\n",
       "    <tr>\n",
       "      <th>Gene_Symbol</th>\n",
       "      <th></th>\n",
       "      <th></th>\n",
       "      <th></th>\n",
       "      <th></th>\n",
       "      <th></th>\n",
       "      <th></th>\n",
       "      <th></th>\n",
       "      <th></th>\n",
       "      <th></th>\n",
       "      <th></th>\n",
       "      <th></th>\n",
       "      <th></th>\n",
       "      <th></th>\n",
       "      <th></th>\n",
       "      <th></th>\n",
       "      <th></th>\n",
       "      <th></th>\n",
       "      <th></th>\n",
       "      <th></th>\n",
       "      <th></th>\n",
       "      <th></th>\n",
       "    </tr>\n",
       "  </thead>\n",
       "  <tbody>\n",
       "    <tr>\n",
       "      <th>Gnai3</th>\n",
       "      <td>-1.564402</td>\n",
       "      <td>-1.536626</td>\n",
       "      <td>-1.931707</td>\n",
       "      <td>-1.458354</td>\n",
       "      <td>-1.575970</td>\n",
       "      <td>-1.654038</td>\n",
       "      <td>-1.550707</td>\n",
       "      <td>-1.564596</td>\n",
       "      <td>-1.211372</td>\n",
       "      <td>-1.654187</td>\n",
       "      <td>...</td>\n",
       "      <td>4.739938</td>\n",
       "      <td>4.648414</td>\n",
       "      <td>4.576937</td>\n",
       "      <td>4.891934</td>\n",
       "      <td>5.284247</td>\n",
       "      <td>5.502545</td>\n",
       "      <td>5.115915</td>\n",
       "      <td>5.402904</td>\n",
       "      <td>5.119890</td>\n",
       "      <td>4.873039</td>\n",
       "    </tr>\n",
       "    <tr>\n",
       "      <th>Cdc45</th>\n",
       "      <td>-3.838233</td>\n",
       "      <td>-4.132913</td>\n",
       "      <td>-4.023130</td>\n",
       "      <td>-3.782926</td>\n",
       "      <td>-3.971205</td>\n",
       "      <td>-3.898270</td>\n",
       "      <td>-3.837377</td>\n",
       "      <td>-3.907227</td>\n",
       "      <td>-4.002231</td>\n",
       "      <td>-3.837719</td>\n",
       "      <td>...</td>\n",
       "      <td>-1.783427</td>\n",
       "      <td>-1.045727</td>\n",
       "      <td>-1.868940</td>\n",
       "      <td>-1.616297</td>\n",
       "      <td>1.552717</td>\n",
       "      <td>0.336330</td>\n",
       "      <td>-1.370050</td>\n",
       "      <td>-0.308212</td>\n",
       "      <td>-1.218384</td>\n",
       "      <td>-0.541827</td>\n",
       "    </tr>\n",
       "    <tr>\n",
       "      <th>Apoh</th>\n",
       "      <td>-1.075680</td>\n",
       "      <td>-1.540220</td>\n",
       "      <td>-1.569142</td>\n",
       "      <td>-1.652602</td>\n",
       "      <td>-1.786800</td>\n",
       "      <td>-1.539642</td>\n",
       "      <td>-1.434320</td>\n",
       "      <td>-1.655522</td>\n",
       "      <td>-1.499171</td>\n",
       "      <td>-1.411709</td>\n",
       "      <td>...</td>\n",
       "      <td>10.657651</td>\n",
       "      <td>10.460193</td>\n",
       "      <td>10.623698</td>\n",
       "      <td>10.381588</td>\n",
       "      <td>10.146668</td>\n",
       "      <td>10.232355</td>\n",
       "      <td>10.631922</td>\n",
       "      <td>10.468625</td>\n",
       "      <td>10.704931</td>\n",
       "      <td>10.591210</td>\n",
       "    </tr>\n",
       "    <tr>\n",
       "      <th>Narf</th>\n",
       "      <td>-1.198793</td>\n",
       "      <td>-0.937221</td>\n",
       "      <td>-0.921084</td>\n",
       "      <td>-0.331866</td>\n",
       "      <td>-0.123671</td>\n",
       "      <td>-0.186613</td>\n",
       "      <td>-0.632810</td>\n",
       "      <td>-0.963087</td>\n",
       "      <td>-0.999763</td>\n",
       "      <td>-1.320254</td>\n",
       "      <td>...</td>\n",
       "      <td>1.788997</td>\n",
       "      <td>2.660656</td>\n",
       "      <td>2.890531</td>\n",
       "      <td>3.379632</td>\n",
       "      <td>2.924193</td>\n",
       "      <td>2.472548</td>\n",
       "      <td>2.686118</td>\n",
       "      <td>2.390108</td>\n",
       "      <td>1.941836</td>\n",
       "      <td>2.128767</td>\n",
       "    </tr>\n",
       "    <tr>\n",
       "      <th>Cav2</th>\n",
       "      <td>-3.046334</td>\n",
       "      <td>-3.741371</td>\n",
       "      <td>-3.364087</td>\n",
       "      <td>-3.063080</td>\n",
       "      <td>-3.374724</td>\n",
       "      <td>-2.992739</td>\n",
       "      <td>-2.985271</td>\n",
       "      <td>-2.991166</td>\n",
       "      <td>-2.954387</td>\n",
       "      <td>-3.052015</td>\n",
       "      <td>...</td>\n",
       "      <td>0.759856</td>\n",
       "      <td>0.403964</td>\n",
       "      <td>0.581452</td>\n",
       "      <td>0.716145</td>\n",
       "      <td>0.742948</td>\n",
       "      <td>0.385111</td>\n",
       "      <td>0.282426</td>\n",
       "      <td>0.624375</td>\n",
       "      <td>0.806800</td>\n",
       "      <td>0.524357</td>\n",
       "    </tr>\n",
       "    <tr>\n",
       "      <th>...</th>\n",
       "      <td>...</td>\n",
       "      <td>...</td>\n",
       "      <td>...</td>\n",
       "      <td>...</td>\n",
       "      <td>...</td>\n",
       "      <td>...</td>\n",
       "      <td>...</td>\n",
       "      <td>...</td>\n",
       "      <td>...</td>\n",
       "      <td>...</td>\n",
       "      <td>...</td>\n",
       "      <td>...</td>\n",
       "      <td>...</td>\n",
       "      <td>...</td>\n",
       "      <td>...</td>\n",
       "      <td>...</td>\n",
       "      <td>...</td>\n",
       "      <td>...</td>\n",
       "      <td>...</td>\n",
       "      <td>...</td>\n",
       "      <td>...</td>\n",
       "    </tr>\n",
       "    <tr>\n",
       "      <th>D630044L22RIK</th>\n",
       "      <td>-4.321928</td>\n",
       "      <td>-4.321928</td>\n",
       "      <td>-4.321928</td>\n",
       "      <td>-4.321928</td>\n",
       "      <td>-4.321928</td>\n",
       "      <td>-4.321928</td>\n",
       "      <td>-4.321928</td>\n",
       "      <td>-4.321928</td>\n",
       "      <td>-3.916656</td>\n",
       "      <td>-4.211345</td>\n",
       "      <td>...</td>\n",
       "      <td>-4.321928</td>\n",
       "      <td>-4.321928</td>\n",
       "      <td>-4.321928</td>\n",
       "      <td>-3.875723</td>\n",
       "      <td>-4.321928</td>\n",
       "      <td>-4.321928</td>\n",
       "      <td>-3.745407</td>\n",
       "      <td>-4.321928</td>\n",
       "      <td>-4.321928</td>\n",
       "      <td>-4.321928</td>\n",
       "    </tr>\n",
       "    <tr>\n",
       "      <th>Ptges3l</th>\n",
       "      <td>-3.347417</td>\n",
       "      <td>-3.618811</td>\n",
       "      <td>-3.908509</td>\n",
       "      <td>-3.526344</td>\n",
       "      <td>-4.037561</td>\n",
       "      <td>-3.943861</td>\n",
       "      <td>-4.174696</td>\n",
       "      <td>-3.921224</td>\n",
       "      <td>-3.780628</td>\n",
       "      <td>-3.005190</td>\n",
       "      <td>...</td>\n",
       "      <td>-1.591447</td>\n",
       "      <td>-0.918822</td>\n",
       "      <td>-2.252870</td>\n",
       "      <td>-2.462090</td>\n",
       "      <td>0.296977</td>\n",
       "      <td>-0.849123</td>\n",
       "      <td>-3.545552</td>\n",
       "      <td>-0.913367</td>\n",
       "      <td>-1.130344</td>\n",
       "      <td>-1.656315</td>\n",
       "    </tr>\n",
       "    <tr>\n",
       "      <th>RP23-206J9.3</th>\n",
       "      <td>-2.691658</td>\n",
       "      <td>-3.027459</td>\n",
       "      <td>-2.962016</td>\n",
       "      <td>-2.628984</td>\n",
       "      <td>-2.712101</td>\n",
       "      <td>-2.554431</td>\n",
       "      <td>-2.718235</td>\n",
       "      <td>-2.661330</td>\n",
       "      <td>-2.389922</td>\n",
       "      <td>-2.353155</td>\n",
       "      <td>...</td>\n",
       "      <td>1.876491</td>\n",
       "      <td>2.159512</td>\n",
       "      <td>2.119404</td>\n",
       "      <td>2.231766</td>\n",
       "      <td>2.003449</td>\n",
       "      <td>1.770509</td>\n",
       "      <td>1.639413</td>\n",
       "      <td>1.550443</td>\n",
       "      <td>1.861505</td>\n",
       "      <td>2.151408</td>\n",
       "    </tr>\n",
       "    <tr>\n",
       "      <th>A130051J06Rik</th>\n",
       "      <td>-4.321928</td>\n",
       "      <td>-4.321928</td>\n",
       "      <td>-4.321928</td>\n",
       "      <td>-4.321928</td>\n",
       "      <td>-4.321928</td>\n",
       "      <td>-4.321928</td>\n",
       "      <td>-4.321928</td>\n",
       "      <td>-3.839064</td>\n",
       "      <td>-4.321928</td>\n",
       "      <td>-4.321928</td>\n",
       "      <td>...</td>\n",
       "      <td>-3.971570</td>\n",
       "      <td>-4.321928</td>\n",
       "      <td>-3.154010</td>\n",
       "      <td>-4.052683</td>\n",
       "      <td>-4.064130</td>\n",
       "      <td>-4.073789</td>\n",
       "      <td>-3.243082</td>\n",
       "      <td>-3.571514</td>\n",
       "      <td>-3.886114</td>\n",
       "      <td>-3.755167</td>\n",
       "    </tr>\n",
       "    <tr>\n",
       "      <th>RP24-414A22.6</th>\n",
       "      <td>-3.130522</td>\n",
       "      <td>-2.951066</td>\n",
       "      <td>-3.093629</td>\n",
       "      <td>-2.589265</td>\n",
       "      <td>-2.661218</td>\n",
       "      <td>-2.837659</td>\n",
       "      <td>-3.019553</td>\n",
       "      <td>-2.914291</td>\n",
       "      <td>-2.770331</td>\n",
       "      <td>-2.818499</td>\n",
       "      <td>...</td>\n",
       "      <td>2.722619</td>\n",
       "      <td>3.077116</td>\n",
       "      <td>3.173420</td>\n",
       "      <td>2.842354</td>\n",
       "      <td>2.942225</td>\n",
       "      <td>2.968706</td>\n",
       "      <td>2.375310</td>\n",
       "      <td>2.355128</td>\n",
       "      <td>2.849237</td>\n",
       "      <td>2.394372</td>\n",
       "    </tr>\n",
       "  </tbody>\n",
       "</table>\n",
       "<p>13480 rows × 144 columns</p>\n",
       "</div>"
      ],
      "text/plain": [
       "condition            WT                                                    \\\n",
       "feeding              AL                                                     \n",
       "feature          Intron                                                     \n",
       "time                 00        02        04        06        08        10   \n",
       "replicate             A         A         A         A         A         A   \n",
       "Gene_Symbol                                                                 \n",
       "Gnai3         -1.564402 -1.536626 -1.931707 -1.458354 -1.575970 -1.654038   \n",
       "Cdc45         -3.838233 -4.132913 -4.023130 -3.782926 -3.971205 -3.898270   \n",
       "Apoh          -1.075680 -1.540220 -1.569142 -1.652602 -1.786800 -1.539642   \n",
       "Narf          -1.198793 -0.937221 -0.921084 -0.331866 -0.123671 -0.186613   \n",
       "Cav2          -3.046334 -3.741371 -3.364087 -3.063080 -3.374724 -2.992739   \n",
       "...                 ...       ...       ...       ...       ...       ...   \n",
       "D630044L22RIK -4.321928 -4.321928 -4.321928 -4.321928 -4.321928 -4.321928   \n",
       "Ptges3l       -3.347417 -3.618811 -3.908509 -3.526344 -4.037561 -3.943861   \n",
       "RP23-206J9.3  -2.691658 -3.027459 -2.962016 -2.628984 -2.712101 -2.554431   \n",
       "A130051J06Rik -4.321928 -4.321928 -4.321928 -4.321928 -4.321928 -4.321928   \n",
       "RP24-414A22.6 -3.130522 -2.951066 -3.093629 -2.589265 -2.661218 -2.837659   \n",
       "\n",
       "condition                                              ...             \\\n",
       "feeding                                                ...              \n",
       "feature                                                ...        RFP   \n",
       "time                 12        14        16        18  ...         04   \n",
       "replicate             A         A         A         A  ...          D   \n",
       "Gene_Symbol                                            ...              \n",
       "Gnai3         -1.550707 -1.564596 -1.211372 -1.654187  ...   4.739938   \n",
       "Cdc45         -3.837377 -3.907227 -4.002231 -3.837719  ...  -1.783427   \n",
       "Apoh          -1.434320 -1.655522 -1.499171 -1.411709  ...  10.657651   \n",
       "Narf          -0.632810 -0.963087 -0.999763 -1.320254  ...   1.788997   \n",
       "Cav2          -2.985271 -2.991166 -2.954387 -3.052015  ...   0.759856   \n",
       "...                 ...       ...       ...       ...  ...        ...   \n",
       "D630044L22RIK -4.321928 -4.321928 -3.916656 -4.211345  ...  -4.321928   \n",
       "Ptges3l       -4.174696 -3.921224 -3.780628 -3.005190  ...  -1.591447   \n",
       "RP23-206J9.3  -2.718235 -2.661330 -2.389922 -2.353155  ...   1.876491   \n",
       "A130051J06Rik -4.321928 -3.839064 -4.321928 -4.321928  ...  -3.971570   \n",
       "RP24-414A22.6 -3.019553 -2.914291 -2.770331 -2.818499  ...   2.722619   \n",
       "\n",
       "condition                                                             \\\n",
       "feeding                                                                \n",
       "feature                                                                \n",
       "time                  06         08         10         12         14   \n",
       "replicate              D          D          D          D          D   \n",
       "Gene_Symbol                                                            \n",
       "Gnai3           4.648414   4.576937   4.891934   5.284247   5.502545   \n",
       "Cdc45          -1.045727  -1.868940  -1.616297   1.552717   0.336330   \n",
       "Apoh           10.460193  10.623698  10.381588  10.146668  10.232355   \n",
       "Narf            2.660656   2.890531   3.379632   2.924193   2.472548   \n",
       "Cav2            0.403964   0.581452   0.716145   0.742948   0.385111   \n",
       "...                  ...        ...        ...        ...        ...   \n",
       "D630044L22RIK  -4.321928  -4.321928  -3.875723  -4.321928  -4.321928   \n",
       "Ptges3l        -0.918822  -2.252870  -2.462090   0.296977  -0.849123   \n",
       "RP23-206J9.3    2.159512   2.119404   2.231766   2.003449   1.770509   \n",
       "A130051J06Rik  -4.321928  -3.154010  -4.052683  -4.064130  -4.073789   \n",
       "RP24-414A22.6   3.077116   3.173420   2.842354   2.942225   2.968706   \n",
       "\n",
       "condition                                                  \n",
       "feeding                                                    \n",
       "feature                                                    \n",
       "time                  16         18         20         22  \n",
       "replicate              D          D          D          D  \n",
       "Gene_Symbol                                                \n",
       "Gnai3           5.115915   5.402904   5.119890   4.873039  \n",
       "Cdc45          -1.370050  -0.308212  -1.218384  -0.541827  \n",
       "Apoh           10.631922  10.468625  10.704931  10.591210  \n",
       "Narf            2.686118   2.390108   1.941836   2.128767  \n",
       "Cav2            0.282426   0.624375   0.806800   0.524357  \n",
       "...                  ...        ...        ...        ...  \n",
       "D630044L22RIK  -3.745407  -4.321928  -4.321928  -4.321928  \n",
       "Ptges3l        -3.545552  -0.913367  -1.130344  -1.656315  \n",
       "RP23-206J9.3    1.639413   1.550443   1.861505   2.151408  \n",
       "A130051J06Rik  -3.243082  -3.571514  -3.886114  -3.755167  \n",
       "RP24-414A22.6   2.375310   2.355128   2.849237   2.394372  \n",
       "\n",
       "[13480 rows x 144 columns]"
      ]
     },
     "execution_count": 112,
     "metadata": {},
     "output_type": "execute_result"
    }
   ],
   "source": [
    "all_dat"
   ]
  },
  {
   "cell_type": "code",
   "execution_count": 113,
   "id": "9ea44eb2",
   "metadata": {},
   "outputs": [],
   "source": [
    "#Apply the function for all the genes at the intron or exon level and retrieve the amplitude, phase, mean and p-value.\n",
    "\n",
    "Ts = 2.0 # sampling time \n",
    "T = 24 # period\n",
    "N = 48 # number of samples\n",
    "\n",
    "amp_intron = []\n",
    "phase_intron = [] \n",
    "pv_intron = []\n",
    "mu_intron = []\n",
    "\n",
    "i_pos = all_dat.columns.get_level_values('feature').isin(['Intron'])\n",
    "\n",
    "for i, row in all_dat.iterrows():\n",
    "    [a, p, pv, mu] = return_amp_phase_pv(np.array(row)[i_pos], Ts, T, N)\n",
    "    amp_intron.append(a)\n",
    "    phase_intron.append(p)\n",
    "    pv_intron.append(pv)\n",
    "    mu_intron.append(mu)\n",
    "    \n",
    "amp_exon = []\n",
    "phase_exon = [] \n",
    "pv_exon = []\n",
    "mu_exon = []\n",
    "e_pos = all_dat.columns.get_level_values('feature').isin(['Exon'])\n",
    "\n",
    "for i, row in all_dat.iterrows():\n",
    "    [a, p, pv, mu]=return_amp_phase_pv(np.array(row)[e_pos], Ts, T, N)\n",
    "    amp_exon.append(a)\n",
    "    phase_exon.append(p)\n",
    "    pv_exon.append(pv)\n",
    "    mu_exon.append(mu)\n",
    "\n",
    "#convert the lists to numpy arrays\n",
    "phase_intron=np.array(phase_intron)\n",
    "amp_intron=np.array(amp_intron)\n",
    "pv_intron=np.array(pv_intron)\n",
    "mu_intron=np.array(mu_intron)\n",
    "\n",
    "phase_exon=np.array(phase_exon)\n",
    "amp_exon=np.array(amp_exon)\n",
    "pv_exon=np.array(pv_exon)\n",
    "mu_exon=np.array(mu_exon)"
   ]
  },
  {
   "cell_type": "code",
   "execution_count": 114,
   "id": "3a844308",
   "metadata": {},
   "outputs": [
    {
     "data": {
      "text/plain": [
       "array([21.30599699, 14.28987665,  1.51289669, ..., 18.50873931,\n",
       "       19.63436034,  8.26927825])"
      ]
     },
     "execution_count": 114,
     "metadata": {},
     "output_type": "execute_result"
    }
   ],
   "source": [
    "phase_intron"
   ]
  },
  {
   "cell_type": "code",
   "execution_count": 116,
   "id": "cab60b74",
   "metadata": {},
   "outputs": [
    {
     "data": {
      "text/plain": [
       "(array([2.037e+03, 3.190e+02, 4.500e+01, 7.000e+00, 2.000e+00, 3.000e+00]),\n",
       " array([0.        , 1.02367155, 2.0473431 , 3.07101465, 4.0946862 ,\n",
       "        5.11835775, 6.1420293 ]),\n",
       " <BarContainer object of 6 artists>)"
      ]
     },
     "execution_count": 116,
     "metadata": {},
     "output_type": "execute_result"
    },
    {
     "data": {
      "image/png": "[encoded data removed]",
      "text/plain": [
       "<Figure size 432x288 with 1 Axes>"
      ]
     },
     "metadata": {
      "needs_background": "light"
     },
     "output_type": "display_data"
    }
   ],
   "source": [
    "#good_introns = np.asarray(genes)[pv_intron<0.05]\n",
    "#good_exons = np.asarray(genes)[pv_exon<0.05]\n",
    "\n",
    "good_introns_amp = amp_intron[pv_intron<0.05]\n",
    "good_exons_amp = amp_exon[pv_exon<0.05]\n",
    "\n",
    "good_introns_phase = phase_intron[pv_intron<0.05]\n",
    "good_exons_phase = phase_exon[pv_exon<0.05]\n",
    "\n",
    "plt.hist(good_introns_amp,bins=int(max(good_introns_amp)) )"
   ]
  },
  {
   "cell_type": "code",
   "execution_count": 117,
   "id": "207177aa",
   "metadata": {},
   "outputs": [
    {
     "data": {
      "text/plain": [
       "(array([4.573e+03, 4.140e+02, 5.100e+01, 1.200e+01, 2.000e+00, 4.000e+00]),\n",
       " array([2.78121639e-04, 1.08997455e+00, 2.17967097e+00, 3.26936739e+00,\n",
       "        4.35906382e+00, 5.44876024e+00, 6.53845666e+00]),\n",
       " <BarContainer object of 6 artists>)"
      ]
     },
     "execution_count": 117,
     "metadata": {},
     "output_type": "execute_result"
    },
    {
     "data": {
      "image/png": "[encoded data removed]",
      "text/plain": [
       "<Figure size 432x288 with 1 Axes>"
      ]
     },
     "metadata": {
      "needs_background": "light"
     },
     "output_type": "display_data"
    }
   ],
   "source": [
    "plt.hist(good_exons_amp,bins=int(max(good_exons_amp)))"
   ]
  },
  {
   "cell_type": "code",
   "execution_count": 118,
   "id": "da748b17",
   "metadata": {},
   "outputs": [
    {
     "data": {
      "text/plain": [
       "(array([ 78.,  58.,  43.,  54.,  95., 129., 138., 148., 114., 148., 115.,\n",
       "        121.,  78.,  72.,  64., 101.,  90., 143., 134., 162., 154., 105.,\n",
       "         69.]),\n",
       " array([ 0.        ,  1.04194603,  2.08389205,  3.12583808,  4.16778411,\n",
       "         5.20973013,  6.25167616,  7.29362219,  8.33556821,  9.37751424,\n",
       "        10.41946027, 11.46140629, 12.50335232, 13.54529835, 14.58724437,\n",
       "        15.6291904 , 16.67113643, 17.71308245, 18.75502848, 19.79697451,\n",
       "        20.83892053, 21.88086656, 22.92281259, 23.96475861]),\n",
       " <BarContainer object of 23 artists>)"
      ]
     },
     "execution_count": 118,
     "metadata": {},
     "output_type": "execute_result"
    },
    {
     "data": {
      "image/png": "[encoded data removed]",
      "text/plain": [
       "<Figure size 432x288 with 1 Axes>"
      ]
     },
     "metadata": {
      "needs_background": "light"
     },
     "output_type": "display_data"
    }
   ],
   "source": [
    "plt.hist(good_introns_phase,bins=int(max(good_introns_phase)))"
   ]
  },
  {
   "cell_type": "code",
   "execution_count": 119,
   "id": "eb3f1358",
   "metadata": {},
   "outputs": [
    {
     "data": {
      "text/plain": [
       "(array([167., 150., 145., 137., 185., 224., 283., 334., 360., 315., 294.,\n",
       "        260., 239., 215., 187., 162., 184., 172., 196., 214., 214., 212.,\n",
       "        207.]),\n",
       " array([1.04397847e-03, 1.04447421e+00, 2.08790444e+00, 3.13133467e+00,\n",
       "        4.17476490e+00, 5.21819513e+00, 6.26162536e+00, 7.30505560e+00,\n",
       "        8.34848583e+00, 9.39191606e+00, 1.04353463e+01, 1.14787765e+01,\n",
       "        1.25222067e+01, 1.35656370e+01, 1.46090672e+01, 1.56524974e+01,\n",
       "        1.66959277e+01, 1.77393579e+01, 1.87827881e+01, 1.98262184e+01,\n",
       "        2.08696486e+01, 2.19130788e+01, 2.29565091e+01, 2.39999393e+01]),\n",
       " <BarContainer object of 23 artists>)"
      ]
     },
     "execution_count": 119,
     "metadata": {},
     "output_type": "execute_result"
    },
    {
     "data": {
      "image/png": "[encoded data removed]",
      "text/plain": [
       "<Figure size 432x288 with 1 Axes>"
      ]
     },
     "metadata": {
      "needs_background": "light"
     },
     "output_type": "display_data"
    }
   ],
   "source": [
    "plt.hist(good_exons_phase,bins=int(max(good_exons_phase)))"
   ]
  },
  {
   "cell_type": "markdown",
   "id": "de1c6f26",
   "metadata": {},
   "source": [
    "### Question 2\n",
    "1. Study the phase relationship between the pre-mRNA and mRNA for genes that you selected to be rhythmic at both the pre-mRNA and mRNA levels. Use cutoffs that give you several hundred genes.\n",
    "2. Show representative profiles of genes with short or large delays.\n",
    "3. Analyze the phase difference in function of the ratio of relative amplitudes of the mRNA and pre-mRNA. What is the expected behavior for genes with constant degradation (see course)?  \n",
    "4. For genes with a positive difference bewteen 0h and 6h, describe whether these follow the prediction.\n",
    "5. Identify few outliers and discuss them. Can you say something about how these might be regulated?"
   ]
  },
  {
   "cell_type": "code",
   "execution_count": 97,
   "id": "fed424ba",
   "metadata": {},
   "outputs": [
    {
     "ename": "NameError",
     "evalue": "name 'ii' is not defined",
     "output_type": "error",
     "traceback": [
      "\u001b[1;31m---------------------------------------------------------------------------\u001b[0m",
      "\u001b[1;31mNameError\u001b[0m                                 Traceback (most recent call last)",
      "\u001b[1;32m~\\AppData\\Local\\Temp/ipykernel_68632/3088931730.py\u001b[0m in \u001b[0;36m<module>\u001b[1;34m\u001b[0m\n\u001b[0;32m      1\u001b[0m \u001b[1;31m#Note that because you fitted the log2 data, the relative amplitudes take the form\u001b[0m\u001b[1;33m\u001b[0m\u001b[1;33m\u001b[0m\u001b[0m\n\u001b[1;32m----> 2\u001b[1;33m \u001b[0mrelamp_exon\u001b[0m \u001b[1;33m=\u001b[0m \u001b[1;36m2\u001b[0m\u001b[1;33m**\u001b[0m\u001b[0mamp_exon\u001b[0m\u001b[1;33m[\u001b[0m\u001b[0mii\u001b[0m\u001b[1;33m]\u001b[0m \u001b[1;33m-\u001b[0m \u001b[1;36m2\u001b[0m\u001b[1;33m**\u001b[0m\u001b[1;33m(\u001b[0m\u001b[1;33m-\u001b[0m\u001b[0mamp_exon\u001b[0m\u001b[1;33m[\u001b[0m\u001b[0mii\u001b[0m\u001b[1;33m]\u001b[0m\u001b[1;33m)\u001b[0m\u001b[1;33m\u001b[0m\u001b[1;33m\u001b[0m\u001b[0m\n\u001b[0m\u001b[0;32m      3\u001b[0m \u001b[0mrelamp_intron\u001b[0m \u001b[1;33m=\u001b[0m \u001b[1;36m2\u001b[0m\u001b[1;33m**\u001b[0m\u001b[0mamp_intron\u001b[0m\u001b[1;33m[\u001b[0m\u001b[0mii\u001b[0m\u001b[1;33m]\u001b[0m\u001b[1;33m-\u001b[0m \u001b[1;36m2\u001b[0m\u001b[1;33m**\u001b[0m\u001b[1;33m(\u001b[0m\u001b[1;33m-\u001b[0m\u001b[0mamp_intron\u001b[0m\u001b[1;33m[\u001b[0m\u001b[0mii\u001b[0m\u001b[1;33m]\u001b[0m\u001b[1;33m)\u001b[0m\u001b[1;33m\u001b[0m\u001b[1;33m\u001b[0m\u001b[0m\n",
      "\u001b[1;31mNameError\u001b[0m: name 'ii' is not defined"
     ]
    }
   ],
   "source": [
    "#Note that because you fitted the log2 data, the relative amplitudes take the form\n",
    "relamp_exon = 2**amp_exon[ii] - 2**(-amp_exon[ii])\n",
    "relamp_intron = 2**amp_intron[ii]- 2**(-amp_intron[ii])"
   ]
  },
  {
   "cell_type": "code",
   "execution_count": null,
   "id": "4b35b809",
   "metadata": {},
   "outputs": [],
   "source": []
  }
 ],
 "metadata": {
  "kernelspec": {
   "display_name": "Python 3 (ipykernel)",
   "language": "python",
   "name": "python3"
  },
  "language_info": {
   "codemirror_mode": {
    "name": "ipython",
    "version": 3
   },
   "file_extension": ".py",
   "mimetype": "text/x-python",
   "name": "python",
   "nbconvert_exporter": "python",
   "pygments_lexer": "ipython3",
   "version": "3.9.7"
  }
 },
 "nbformat": 4,
 "nbformat_minor": 5
}
