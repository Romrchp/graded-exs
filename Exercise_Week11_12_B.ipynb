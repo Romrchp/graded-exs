{
 "cells": [
  {
   "cell_type": "markdown",
   "id": "bff91b09",
   "metadata": {},
   "source": [
    "# Exercises Week 11-12: Graded exercise session (part B)\n",
    "\n",
    "**Course**: [Topics in life sciences engineering](https://moodle.epfl.ch/enrol/index.php?id=17061) (BIO-411)\n",
    "\n",
    "**Professors**:  _Gönczy Pierre_, _Naef Felix_, _McCabe Brian Donal_"
   ]
  },
  {
   "cell_type": "code",
   "execution_count": 84,
   "id": "867ce50e",
   "metadata": {},
   "outputs": [],
   "source": [
    "## Import libraries\n",
    "import pandas as pd\n",
    "import numpy as np\n",
    "from sklearn.decomposition import PCA\n",
    "import plotly.express as px\n",
    "import matplotlib.pyplot as plt\n",
    "from sklearn.preprocessing import scale\n",
    "import gseapy as gp\n",
    "import math\n",
    "\n",
    "\n",
    "from scipy.integrate import odeint\n",
    "import matplotlib.pyplot as plt\n",
    "from ipywidgets import interact, fixed\n",
    "from adjustText import adjust_text\n",
    "from scipy.stats import beta"
   ]
  },
  {
   "cell_type": "markdown",
   "id": "e04f778e",
   "metadata": {},
   "source": [
    "**Provide answers in the form of code, figures (if relevant) and short descriptions (in markdown cells) in those notebooks. Submit your notebook to Moodle, please make sure to execute every cell.**"
   ]
  },
  {
   "cell_type": "markdown",
   "id": "c4dcb272",
   "metadata": {},
   "source": [
    "### Exercise 1: Simulation of circadian gene regulation"
   ]
  },
  {
   "cell_type": "markdown",
   "id": "ecaa0b5a",
   "metadata": {},
   "source": [
    "Similarly to Week 9 exercises, we first describe a system in which a (nuclear) pre-mRNA is transcribed and spliced to produce an mRNA. We can write a 2D ODE (ignoring the degradation of the pre-mRNA):\n",
    "\n",
    "\\begin{eqnarray*}\n",
    "&&\\frac{dP}{dt} = s(t) - \\rho P \\\\\n",
    "&&\\frac{dM}{dt} = \\rho P - k(t) M \\\\\n",
    "\\end{eqnarray*}\n",
    "\n",
    "Here, $P$ and $M$ denote, respectively, the concentrations of pre-mRNA and mRNA. We will consider time-dependent (circadian) transcription and degradation rates. The frequency is $\\omega=\\frac{2\\pi}{T}$ with $T=24h$. $s(t)$ is the transcription rate, which is now taken either as constant $s(t)=s_{0}$ or as a rhythmic function of time:  \n",
    "\n",
    "\\begin{equation*}\n",
    "s(t) = s_0 (1 + \\epsilon_s \\cos(\\omega t)) \n",
    "\\end{equation*}  \n",
    "with relative amplitude $0\\leq \\epsilon_s\\leq 1$. Note that here the peak of $s(t)$ is at $t=0$. \n",
    "Similarly, we will consider $k(t)$ either as constant $k(t)= k_0$ or a rhythmic function of time:  \n",
    "\\begin{equation*}\n",
    "k(t)=k_0(1 + \\epsilon_k \\cos(\\omega (t-t_k))\n",
    "\\end{equation*}  \n",
    "with $0\\leq\\epsilon_k\\leq 1$, and the maximum degradation rate at $t=t_k$.\n",
    "\n",
    "$\\rho$ is the splicing rate of pre-mRNA $P$ to mRNA $M$, and is also taken as a constant."
   ]
  },
  {
   "cell_type": "markdown",
   "id": "ebecf369",
   "metadata": {},
   "source": [
    "### Question 1\n",
    "1. Adapt the code of week 9 exercises to simulate this new system. Modify the interactive widget such that you can vary the new parameters and plot $P(t)$ and $M(t)$.  \n",
    "2. Keep the degradation rate constant ($\\epsilon_k$=0) and vary $k_0$ and $\\epsilon_s$. Discuss on how 1) the phase delay between $M(t)$ and $P(t)$ and 2) the relative amplitude of $M(t)$ varies in function of $k_0$. What is the maximal relative amplitude? Make sure you span a relevant range for $k_0^{-1}$ ( *i.e.* from 10 minutes to several hours).\n",
    "3. Vary $\\epsilon_k$ to include rhythmic degradation. Discuss the different effects, in particular, find situations that extend beyond what is possible with a constant half-life. See also [Wang et al., 2018](https://www.pnas.org/doi/10.1073/pnas.1715225115)."
   ]
  },
  {
   "cell_type": "markdown",
   "id": "a4af9582",
   "metadata": {},
   "source": [
    "## Answer 1 \n",
    "\n",
    "#### 1. See the cell below for our code adaptation"
   ]
  },
  {
   "cell_type": "code",
   "execution_count": 85,
   "id": "d20d6f4c",
   "metadata": {},
   "outputs": [
    {
     "data": {
      "application/vnd.jupyter.widget-view+json": {
       "model_id": "5905cbffbb894c6389a6254ae442d69c",
       "version_major": 2,
       "version_minor": 0
      },
      "text/plain": [
       "interactive(children=(FloatSlider(value=5.0, description='s0', max=10.0, min=1.0, step=0.01), FloatSlider(valu…"
      ]
     },
     "metadata": {},
     "output_type": "display_data"
    }
   ],
   "source": [
    "def transcription_rate(s0,eps_s,t) :\n",
    "    return s0*(1+ eps_s*np.cos(2*t*math.pi/(24)))\n",
    "\n",
    "def degradation_rate(k0,eps_k,t,tk) :\n",
    "    return k0*(1+ eps_k*np.cos((2*math.pi/(24))*(t-tk)))\n",
    "\n",
    "## function definition\n",
    "def func(y, t, tk, s0, k0, eps_s, eps_k, rho):\n",
    "    P, M = y\n",
    "    return [transcription_rate(s0,eps_s,t) - (rho) * P, rho * P - degradation_rate(k0,eps_k,t,tk) * M]\n",
    "\n",
    "\n",
    "def simulation(func, par, x0 = None, t = None):\n",
    "    s0=par['s0']\n",
    "    k0=par['k0']\n",
    "    tk = par['tk']\n",
    "    eps_s=par['eps_s']\n",
    "    eps_k=par['eps_k']\n",
    "    rho=par['rho']\n",
    "\n",
    "    P_ss = transcription_rate(s0,eps_s,t)/(rho) #Steady-state solution for P\n",
    "    M_ss = transcription_rate(s0,eps_s,t)/degradation_rate(k0,eps_k,t,tk) #Steady-state solution for M\n",
    "\n",
    "    \n",
    "    xx=odeint(func, x0, t, args=(tk, s0, k0, eps_s, eps_k, rho))\n",
    "    plt.figure(1)\n",
    "    plt.ylim([0,150])\n",
    "    #plt.axhline(y=np.mean(P_ss), color='r', linestyle='--') # Steady state solution mean for P_ss\n",
    "    #plt.axhline(y=np.mean(M_ss), color='g', linestyle='--') # Steady state solution mean for M_ss\n",
    "    plt.plot(t, xx[:,0],label = 'P(t)')\n",
    "    plt.plot(t, xx[:,1],label = 'M(t)')\n",
    "    plt.xlabel(\"time [min]\")\n",
    "    plt.ylabel(\"#molecules\")\n",
    "    plt.legend()\n",
    "    plt.show()\n",
    "    \n",
    "def animate(x0, time, s0=5, k0= 0.05, eps_s=0.5, eps_k=0.5, rho=0.5, tk = 50):\n",
    "    #define the function domain\n",
    "    par={'s0':s0,'k0':k0, 'eps_s':eps_s, 'rho':rho,'eps_k': eps_k,'tk':tk}\n",
    "    simulation(func, par, x0, time)\n",
    "\n",
    "#initial conditions\n",
    "z0=[0,0] #[P, M]\n",
    "t = np.linspace(0,100,1001)\n",
    "interact(animate, x0=fixed(z0), time=fixed(t), \n",
    "         s0 = (1,10,0.01), #kp^1 in [10 min, 120 min] \n",
    "         k0 = (1/360,1/10,1/1000), #km^1 in [10 min, 5000 min]\n",
    "         rho = (1/30,1,0.05), #rho^1 in [1 min, 30 min]\n",
    "         eps_s =(0,1,0.01),\n",
    "         eps_k = (0,1,0.01),\n",
    "         tk = (0,100,0.001));"
   ]
  },
  {
   "cell_type": "markdown",
   "id": "e34f2d10",
   "metadata": {},
   "source": [
    "### 2.a Discussion\n",
    "First, we thus keep the degradation rate $\\epsilon_k$=0 and we play with the $\\epsilon_s$ and $k_0$ values.\n",
    "\n",
    "By keeping $\\epsilon_k$=0, the degradation rate of our mRNA is therefore only to $k_0$, which is a constant. Therefore, we can see when changing the $k_0$ value above that the quantity of mRNA in function of time, M(t) is changing a lot as well. However, P(t) does not change at all when playing with the parameters in these conditions, as it does not depend on the degradation rate.\n",
    "\n",
    "More precisely, we can observe that increasing the $k_0$ will cause our M(t) to decrease, as it means mRNA tends to be degraded faster. In this case, our M(t) function seems to be reaching an oscillating behaviour around a mean value, which depends on the $\\rho$ and $s_0$ parameters.  This will also cause the amplitude of M(t) oscillations to be larger as $k_0$ decreases.\n",
    "\n",
    "On the other hand, decreasing $k_0$ will make M(t) grow indefinitely (or at least it seems, as our figure does not allow us to see what happens at huge values of M(t)), when decreasing $k_0$ a lot (under 0.03). M(t) will still be reduced periodically, but by a very small margin compared to the increase due to reducing $k_0$, thus inducing a general trend of increasing mRNA quantities.\n",
    "\n",
    "### 2.b Amplitudes & phase\n",
    "\n",
    "We can conclude that the phase delay between M(t) and P(t) does not change when varying $k_0$, as our degradation rate is a constant and does not depend on time in these conditions.\n",
    "\n",
    "The maximum relative amplitude is thus obtained for high values of $k_0$ and, in our case, seem to be reaching a factor 2 between M(t) and P(t).\n",
    "\n"
   ]
  },
  {
   "cell_type": "markdown",
   "id": "e6ead05d",
   "metadata": {},
   "source": [
    "### 3. Including rythmic degradation.\n",
    "\n",
    "Let us summarize how the different parameters change the behaviour of M(t) and P(t) now that we've included rythmic degradation in our model :\n",
    "\n",
    "- $s_0$, $\\rho$ and $\\epsilon_s$ vary the general amounts of M(t) as well as of P(t). $\\rho$, the splicing rate, will increase the mRNA quantities if it is high, and decrease the mRNA quantities if it is low. It thus does the opposite for P(t). Varying $s_0$ will make both M(t) and P(t) larger or smaller, as well as increasing/decreasing the oscillations amplitude in the same way. $\\epsilon_s$, the transcription rate, will only increase or decrease the oscillations, as for a $\\epsilon_s$ = 0 for instance, the transcription will be constant and no oscillations will thus appear on our graph\n",
    "\n",
    "\n",
    "- $\\epsilon_k$ : Only has an effect on M(t), as previously said. Large values of $\\epsilon_k$ increase the M(t) oscillations amplitude (if $k_0$ is large enough), while small values of $\\epsilon_k$ do the opposite. Also acts with $t_k$ to change the phase delay between P(t) and M(t)(the phase delay will change more or less with for different values of $\\epsilon_k$ depending on $t_k$, see below )\n",
    "\n",
    "\n",
    "- $k_0$ : Same effects as in the discussion above.\n",
    "\n",
    "\n",
    "- $t_k$ : Will affect the phase delay between M(t) and P(t) by acting on the rythmic degradation rate k(t). When all other values are set and $k_0$ is high enough, varying $t_k$ will thus modify the behaviour of the M(t) oscillations, by varying their amplitude as well as the phase delay with P(t).\n",
    "\n",
    "### find situations that extend beyond what is possible with a constant half-life?\n"
   ]
  },
  {
   "cell_type": "markdown",
   "id": "94467283",
   "metadata": {},
   "source": [
    "### Exercise 2: Circadian (post-)transcriptional regulation of gene expression in mouse liver"
   ]
  },
  {
   "cell_type": "markdown",
   "id": "5d4c6d92",
   "metadata": {},
   "source": [
    "We will now analyse published RNA-seq data from mouse liver under an *ad libitum* feeding regimen and in presence of a 12h-12h light-dark cycle ([Atger et al., 2015](https://www.pnas.org/doi/abs/10.1073/pnas.1515308112)). The samples were harvested every 2 hours in four replicates, RNA was extracted and sequenced. Similarly to week 9 exercises on RNA-seq data, gene expression was quantified at the intron and exon levels. Note that data are $log_2$ transformed and normalized (RPKM)."
   ]
  },
  {
   "cell_type": "markdown",
   "id": "fcf58338",
   "metadata": {},
   "source": [
    "### Question 1\n",
    "1. Adapt code from week 9 exercises to perform PCA using the 14 following genes (core clock genes and selected clock output genes): ``['Arntl', 'Npas2', 'Clock', 'Cry1', 'Cry2', 'Per1', 'Per2', 'Per3', 'Nr1d1', 'Nr1d2', 'Rora', 'Rorc', 'Tef', 'Dbp']``. First start with only the exons, then only the introns, and eventually both. Describe your observations.\n",
    "2. Using the *return_amp_phase_pv* function with the $log_2$ data, assess rhythmicity genome-wide (use the p-value to make gene selections). For the selected genes, provide histograms of the peak times, and amplitudes ($log_2$ peak-to-trough). Do this separately for the exons and introns. Do you see what's commonly referred to as the morning and evening waves of genes expression?\n",
    "3. Which genes are overall the most robustly rhythmic? Is there a theme?\n",
    "3. Adapting the enrichR code from Week 9 exercises, find biological function or transcriptional programs regulated rhythmically in the mouse liver. Do this separately for the night and the day. Comment."
   ]
  },
  {
   "cell_type": "markdown",
   "id": "afb94324",
   "metadata": {},
   "source": [
    "### Answer 1 :"
   ]
  },
  {
   "cell_type": "markdown",
   "id": "d725b9ef",
   "metadata": {},
   "source": [
    "#### The cells below run PCA on introns, exons and then introns + exons"
   ]
  },
  {
   "cell_type": "code",
   "execution_count": 86,
   "id": "0a51a74b",
   "metadata": {},
   "outputs": [],
   "source": [
    "dat = pd.read_csv(\"./GSE73554_WT_AL_Intron_Exon_RFP.txt\",sep='\\t')\n",
    "dat.index = dat['Gene_Symbol']\n",
    "dat = dat.drop(['Gene_Symbol','Gene_Ensembl'], axis=1)\n",
    "dat.columns = dat.columns.str.split('_', expand = True)\n",
    "dat.columns.names = ['condition','feeding','feature','time','replicate']"
   ]
  },
  {
   "cell_type": "code",
   "execution_count": 87,
   "id": "821143cb",
   "metadata": {},
   "outputs": [],
   "source": [
    "# get only the genes we're interested in\n",
    "genes = ['Arntl', 'Npas2', 'Clock', 'Cry1', 'Cry2', 'Per1', 'Per2', 'Per3', 'Nr1d1', 'Nr1d2', 'Rora', 'Rorc', 'Tef', 'Dbp']\n",
    "all_dat = dat\n",
    "dat = dat.loc[genes]\n",
    "i_introns = dat.columns.get_level_values('feature').isin(['Intron'])\n",
    "dat_intron = dat.iloc[:,i_introns]\n",
    "i_exons = dat.columns.get_level_values('feature').isin(['Exon'])\n",
    "dat_exons = dat.iloc[:,i_exons]\n",
    "\n",
    "i_all = dat.columns.get_level_values('feature').isin(['Intron', 'Exon'])\n",
    "dat_tot = dat.iloc[:,i_all]"
   ]
  },
  {
   "cell_type": "code",
   "execution_count": 88,
   "id": "adf17c49",
   "metadata": {},
   "outputs": [],
   "source": [
    "def run_PCA(data, nc=5, x_1=1, x_2=2, col='replicate', shape='time', scale_d=True, log=True):\n",
    "    pca = PCA(n_components=nc)\n",
    "    x_1=x_1-1\n",
    "    x_2=x_2-1\n",
    "    \n",
    "    #print(data)\n",
    "\n",
    "    if(scale_d):\n",
    "        data_2 = scale(data)\n",
    "        #print(data_2)\n",
    "    else:\n",
    "        data_2 = data\n",
    "\n",
    "    if(log):\n",
    "        data_2 =  np.log2(data_2 + 1)\n",
    "  \n",
    "    pca.fit(data_2.T)\n",
    "\n",
    "    labels = {\n",
    "    str(i): f\"PC {i+1} ({var:.1f}%)\"\n",
    "    for i, var in enumerate(pca.explained_variance_ratio_ * 100)\n",
    "    }\n",
    "\n",
    "\n",
    "    ## compute PCA and plot\n",
    "    pca_transformed = pca.transform(data_2.T)\n",
    "    fig = px.scatter(pca_transformed, x=x_1, y=x_2,\n",
    "                     color=data.columns.get_level_values(col),\n",
    "                     symbol=data.columns.get_level_values(shape),\n",
    "                     width=600, height=600)\n",
    "\n",
    "    fig.update_traces(marker={'size': 13})\n",
    "    fig.update_layout(plot_bgcolor = 'rgb(243,243,243)', xaxis_title=labels[str(x_1)],\n",
    "                      yaxis_title=labels[str(x_2)])\n",
    "    fig.show()\n",
    "\n",
    "    df_pca= pd.DataFrame(pca.components_, columns=data.index, index = ['PC-1','PC-2','PC-3','PC-4','PC-5']);\n",
    "\n",
    "    return df_pca"
   ]
  },
  {
   "cell_type": "code",
   "execution_count": 89,
   "id": "5eec711b",
   "metadata": {},
   "outputs": [
    {
     "data": {
      "application/vnd.plotly.v1+json": {
       "config": {
        "plotlyServerURL": "https://plot.ly"
       },
       "data": [
        {
         "hovertemplate": "color=00<br>symbol=WT<br>0=%{x}<br>1=%{y}<extra></extra>",
         "legendgroup": "00, WT",
         "marker": {
          "color": "#636efa",
          "size": 13,
          "symbol": "circle"
         },
         "mode": "markers",
         "name": "00, WT",
         "orientation": "v",
         "showlegend": true,
         "type": "scatter",
         "x": [
          3.4836016728773203,
          2.4244226161263605,
          0.75631073476937,
          0.28216138711870786
         ],
         "xaxis": "x",
         "y": [
          1.977785348663021,
          3.156847433816525,
          3.8298691419930635,
          3.757474328551392
         ],
         "yaxis": "y"
        },
        {
         "hovertemplate": "color=02<br>symbol=WT<br>0=%{x}<br>1=%{y}<extra></extra>",
         "legendgroup": "02, WT",
         "marker": {
          "color": "#EF553B",
          "size": 13,
          "symbol": "circle"
         },
         "mode": "markers",
         "name": "02, WT",
         "orientation": "v",
         "showlegend": true,
         "type": "scatter",
         "x": [
          -0.46122231366583366,
          -1.528191556343529,
          -1.6131018977778009,
          -1.8523956849094418
         ],
         "xaxis": "x",
         "y": [
          3.2371250650848453,
          0.9273405606289189,
          2.436527017753405,
          1.4385435349091227
         ],
         "yaxis": "y"
        },
        {
         "hovertemplate": "color=04<br>symbol=WT<br>0=%{x}<br>1=%{y}<extra></extra>",
         "legendgroup": "04, WT",
         "marker": {
          "color": "#00cc96",
          "size": 13,
          "symbol": "circle"
         },
         "mode": "markers",
         "name": "04, WT",
         "orientation": "v",
         "showlegend": true,
         "type": "scatter",
         "x": [
          -2.019612206842155,
          -1.130493968955875,
          -2.3569566999168416,
          -1.2375080987129894
         ],
         "xaxis": "x",
         "y": [
          1.5541679980611167,
          2.8134872632655097,
          0.40359925488375953,
          2.3189307771271293
         ],
         "yaxis": "y"
        },
        {
         "hovertemplate": "color=06<br>symbol=WT<br>0=%{x}<br>1=%{y}<extra></extra>",
         "legendgroup": "06, WT",
         "marker": {
          "color": "#ab63fa",
          "size": 13,
          "symbol": "circle"
         },
         "mode": "markers",
         "name": "06, WT",
         "orientation": "v",
         "showlegend": true,
         "type": "scatter",
         "x": [
          -2.353899778735179,
          -2.3125378633977767,
          -2.3255076657442846,
          -2.2828743395942936
         ],
         "xaxis": "x",
         "y": [
          0.5273796420921905,
          0.5048065879207781,
          0.1494859787969397,
          0.521569846848206
         ],
         "yaxis": "y"
        },
        {
         "hovertemplate": "color=08<br>symbol=WT<br>0=%{x}<br>1=%{y}<extra></extra>",
         "legendgroup": "08, WT",
         "marker": {
          "color": "#FFA15A",
          "size": 13,
          "symbol": "circle"
         },
         "mode": "markers",
         "name": "08, WT",
         "orientation": "v",
         "showlegend": true,
         "type": "scatter",
         "x": [
          -2.248680074541489,
          -1.8303877776523003,
          -1.9039439116344627,
          -2.3293516766814646
         ],
         "xaxis": "x",
         "y": [
          -0.2280371800444913,
          -1.0662920748350098,
          -0.9299948573525183,
          -0.1819635488497864
         ],
         "yaxis": "y"
        },
        {
         "hovertemplate": "color=10<br>symbol=WT<br>0=%{x}<br>1=%{y}<extra></extra>",
         "legendgroup": "10, WT",
         "marker": {
          "color": "#19d3f3",
          "size": 13,
          "symbol": "circle"
         },
         "mode": "markers",
         "name": "10, WT",
         "orientation": "v",
         "showlegend": true,
         "type": "scatter",
         "x": [
          -1.9989655935697834,
          -2.1041434744574716,
          -1.63671700837937,
          -2.1051817701822966
         ],
         "xaxis": "x",
         "y": [
          -0.7034196515337326,
          -0.6905366730747174,
          -1.2518763919892864,
          -0.747748106944352
         ],
         "yaxis": "y"
        },
        {
         "hovertemplate": "color=12<br>symbol=WT<br>0=%{x}<br>1=%{y}<extra></extra>",
         "legendgroup": "12, WT",
         "marker": {
          "color": "#FF6692",
          "size": 13,
          "symbol": "circle"
         },
         "mode": "markers",
         "name": "12, WT",
         "orientation": "v",
         "showlegend": true,
         "type": "scatter",
         "x": [
          -1.2275343234182723,
          -1.48216360880272,
          -1.5723967156180196,
          -1.2535264477257995
         ],
         "xaxis": "x",
         "y": [
          -1.446297216741375,
          -1.350993986929827,
          -1.2925262170670215,
          -1.3861189458870016
         ],
         "yaxis": "y"
        },
        {
         "hovertemplate": "color=14<br>symbol=WT<br>0=%{x}<br>1=%{y}<extra></extra>",
         "legendgroup": "14, WT",
         "marker": {
          "color": "#B6E880",
          "size": 13,
          "symbol": "circle"
         },
         "mode": "markers",
         "name": "14, WT",
         "orientation": "v",
         "showlegend": true,
         "type": "scatter",
         "x": [
          -0.963902935300206,
          0.46085715985146297,
          -1.070330155440929,
          -0.15276995366517096
         ],
         "xaxis": "x",
         "y": [
          -1.2326124658506479,
          -1.60905300793263,
          -1.3180833222047719,
          -1.349833597329759
         ],
         "yaxis": "y"
        },
        {
         "hovertemplate": "color=16<br>symbol=WT<br>0=%{x}<br>1=%{y}<extra></extra>",
         "legendgroup": "16, WT",
         "marker": {
          "color": "#FF97FF",
          "size": 13,
          "symbol": "circle"
         },
         "mode": "markers",
         "name": "16, WT",
         "orientation": "v",
         "showlegend": true,
         "type": "scatter",
         "x": [
          0.48532611630401495,
          1.1566229798008287,
          0.9100869772767005,
          0.6629476696168836
         ],
         "xaxis": "x",
         "y": [
          -1.612713710773884,
          -1.3012469313897526,
          -1.5209679208141844,
          -1.6041723173128861
         ],
         "yaxis": "y"
        },
        {
         "hovertemplate": "color=18<br>symbol=WT<br>0=%{x}<br>1=%{y}<extra></extra>",
         "legendgroup": "18, WT",
         "marker": {
          "color": "#FECB52",
          "size": 13,
          "symbol": "circle"
         },
         "mode": "markers",
         "name": "18, WT",
         "orientation": "v",
         "showlegend": true,
         "type": "scatter",
         "x": [
          0.870113276846019,
          2.712164628822537,
          2.5205840612692665,
          1.921205583773449
         ],
         "xaxis": "x",
         "y": [
          -1.7287835468929018,
          -1.2370336714768457,
          -1.0809868158273812,
          -1.4129681223100337
         ],
         "yaxis": "y"
        },
        {
         "hovertemplate": "color=20<br>symbol=WT<br>0=%{x}<br>1=%{y}<extra></extra>",
         "legendgroup": "20, WT",
         "marker": {
          "color": "#636efa",
          "size": 13,
          "symbol": "circle"
         },
         "mode": "markers",
         "name": "20, WT",
         "orientation": "v",
         "showlegend": true,
         "type": "scatter",
         "x": [
          3.43477980430109,
          3.8764601804288232,
          2.3903631128025835,
          2.2806563867811045
         ],
         "xaxis": "x",
         "y": [
          -0.33499803343948403,
          -0.14535493794649398,
          -1.3618907794434083,
          -1.1685819337308083
         ],
         "yaxis": "y"
        },
        {
         "hovertemplate": "color=22<br>symbol=WT<br>0=%{x}<br>1=%{y}<extra></extra>",
         "legendgroup": "22, WT",
         "marker": {
          "color": "#EF553B",
          "size": 13,
          "symbol": "circle"
         },
         "mode": "markers",
         "name": "22, WT",
         "orientation": "v",
         "showlegend": true,
         "type": "scatter",
         "x": [
          3.9205124854648794,
          4.094232185862874,
          3.6724697304122906,
          3.038418751159199
         ],
         "xaxis": "x",
         "y": [
          1.154321399009189,
          0.8759007184570285,
          -0.34921860349340006,
          0.05914267155625273
         ],
         "yaxis": "y"
        }
       ],
       "layout": {
        "height": 600,
        "legend": {
         "title": {
          "text": "color, symbol"
         },
         "tracegroupgap": 0
        },
        "margin": {
         "t": 60
        },
        "plot_bgcolor": "rgb(243,243,243)",
        "template": {
         "data": {
          "bar": [
           {
            "error_x": {
             "color": "#2a3f5f"
            },
            "error_y": {
             "color": "#2a3f5f"
            },
            "marker": {
             "line": {
              "color": "#E5ECF6",
              "width": 0.5
             },
             "pattern": {
              "fillmode": "overlay",
              "size": 10,
              "solidity": 0.2
             }
            },
            "type": "bar"
           }
          ],
          "barpolar": [
           {
            "marker": {
             "line": {
              "color": "#E5ECF6",
              "width": 0.5
             },
             "pattern": {
              "fillmode": "overlay",
              "size": 10,
              "solidity": 0.2
             }
            },
            "type": "barpolar"
           }
          ],
          "carpet": [
           {
            "aaxis": {
             "endlinecolor": "#2a3f5f",
             "gridcolor": "white",
             "linecolor": "white",
             "minorgridcolor": "white",
             "startlinecolor": "#2a3f5f"
            },
            "baxis": {
             "endlinecolor": "#2a3f5f",
             "gridcolor": "white",
             "linecolor": "white",
             "minorgridcolor": "white",
             "startlinecolor": "#2a3f5f"
            },
            "type": "carpet"
           }
          ],
          "choropleth": [
           {
            "colorbar": {
             "outlinewidth": 0,
             "ticks": ""
            },
            "type": "choropleth"
           }
          ],
          "contour": [
           {
            "colorbar": {
             "outlinewidth": 0,
             "ticks": ""
            },
            "colorscale": [
             [
              0,
              "#0d0887"
             ],
             [
              0.1111111111111111,
              "#46039f"
             ],
             [
              0.2222222222222222,
              "#7201a8"
             ],
             [
              0.3333333333333333,
              "#9c179e"
             ],
             [
              0.4444444444444444,
              "#bd3786"
             ],
             [
              0.5555555555555556,
              "#d8576b"
             ],
             [
              0.6666666666666666,
              "#ed7953"
             ],
             [
              0.7777777777777778,
              "#fb9f3a"
             ],
             [
              0.8888888888888888,
              "#fdca26"
             ],
             [
              1,
              "#f0f921"
             ]
            ],
            "type": "contour"
           }
          ],
          "contourcarpet": [
           {
            "colorbar": {
             "outlinewidth": 0,
             "ticks": ""
            },
            "type": "contourcarpet"
           }
          ],
          "heatmap": [
           {
            "colorbar": {
             "outlinewidth": 0,
             "ticks": ""
            },
            "colorscale": [
             [
              0,
              "#0d0887"
             ],
             [
              0.1111111111111111,
              "#46039f"
             ],
             [
              0.2222222222222222,
              "#7201a8"
             ],
             [
              0.3333333333333333,
              "#9c179e"
             ],
             [
              0.4444444444444444,
              "#bd3786"
             ],
             [
              0.5555555555555556,
              "#d8576b"
             ],
             [
              0.6666666666666666,
              "#ed7953"
             ],
             [
              0.7777777777777778,
              "#fb9f3a"
             ],
             [
              0.8888888888888888,
              "#fdca26"
             ],
             [
              1,
              "#f0f921"
             ]
            ],
            "type": "heatmap"
           }
          ],
          "heatmapgl": [
           {
            "colorbar": {
             "outlinewidth": 0,
             "ticks": ""
            },
            "colorscale": [
             [
              0,
              "#0d0887"
             ],
             [
              0.1111111111111111,
              "#46039f"
             ],
             [
              0.2222222222222222,
              "#7201a8"
             ],
             [
              0.3333333333333333,
              "#9c179e"
             ],
             [
              0.4444444444444444,
              "#bd3786"
             ],
             [
              0.5555555555555556,
              "#d8576b"
             ],
             [
              0.6666666666666666,
              "#ed7953"
             ],
             [
              0.7777777777777778,
              "#fb9f3a"
             ],
             [
              0.8888888888888888,
              "#fdca26"
             ],
             [
              1,
              "#f0f921"
             ]
            ],
            "type": "heatmapgl"
           }
          ],
          "histogram": [
           {
            "marker": {
             "pattern": {
              "fillmode": "overlay",
              "size": 10,
              "solidity": 0.2
             }
            },
            "type": "histogram"
           }
          ],
          "histogram2d": [
           {
            "colorbar": {
             "outlinewidth": 0,
             "ticks": ""
            },
            "colorscale": [
             [
              0,
              "#0d0887"
             ],
             [
              0.1111111111111111,
              "#46039f"
             ],
             [
              0.2222222222222222,
              "#7201a8"
             ],
             [
              0.3333333333333333,
              "#9c179e"
             ],
             [
              0.4444444444444444,
              "#bd3786"
             ],
             [
              0.5555555555555556,
              "#d8576b"
             ],
             [
              0.6666666666666666,
              "#ed7953"
             ],
             [
              0.7777777777777778,
              "#fb9f3a"
             ],
             [
              0.8888888888888888,
              "#fdca26"
             ],
             [
              1,
              "#f0f921"
             ]
            ],
            "type": "histogram2d"
           }
          ],
          "histogram2dcontour": [
           {
            "colorbar": {
             "outlinewidth": 0,
             "ticks": ""
            },
            "colorscale": [
             [
              0,
              "#0d0887"
             ],
             [
              0.1111111111111111,
              "#46039f"
             ],
             [
              0.2222222222222222,
              "#7201a8"
             ],
             [
              0.3333333333333333,
              "#9c179e"
             ],
             [
              0.4444444444444444,
              "#bd3786"
             ],
             [
              0.5555555555555556,
              "#d8576b"
             ],
             [
              0.6666666666666666,
              "#ed7953"
             ],
             [
              0.7777777777777778,
              "#fb9f3a"
             ],
             [
              0.8888888888888888,
              "#fdca26"
             ],
             [
              1,
              "#f0f921"
             ]
            ],
            "type": "histogram2dcontour"
           }
          ],
          "mesh3d": [
           {
            "colorbar": {
             "outlinewidth": 0,
             "ticks": ""
            },
            "type": "mesh3d"
           }
          ],
          "parcoords": [
           {
            "line": {
             "colorbar": {
              "outlinewidth": 0,
              "ticks": ""
             }
            },
            "type": "parcoords"
           }
          ],
          "pie": [
           {
            "automargin": true,
            "type": "pie"
           }
          ],
          "scatter": [
           {
            "fillpattern": {
             "fillmode": "overlay",
             "size": 10,
             "solidity": 0.2
            },
            "type": "scatter"
           }
          ],
          "scatter3d": [
           {
            "line": {
             "colorbar": {
              "outlinewidth": 0,
              "ticks": ""
             }
            },
            "marker": {
             "colorbar": {
              "outlinewidth": 0,
              "ticks": ""
             }
            },
            "type": "scatter3d"
           }
          ],
          "scattercarpet": [
           {
            "marker": {
             "colorbar": {
              "outlinewidth": 0,
              "ticks": ""
             }
            },
            "type": "scattercarpet"
           }
          ],
          "scattergeo": [
           {
            "marker": {
             "colorbar": {
              "outlinewidth": 0,
              "ticks": ""
             }
            },
            "type": "scattergeo"
           }
          ],
          "scattergl": [
           {
            "marker": {
             "colorbar": {
              "outlinewidth": 0,
              "ticks": ""
             }
            },
            "type": "scattergl"
           }
          ],
          "scattermapbox": [
           {
            "marker": {
             "colorbar": {
              "outlinewidth": 0,
              "ticks": ""
             }
            },
            "type": "scattermapbox"
           }
          ],
          "scatterpolar": [
           {
            "marker": {
             "colorbar": {
              "outlinewidth": 0,
              "ticks": ""
             }
            },
            "type": "scatterpolar"
           }
          ],
          "scatterpolargl": [
           {
            "marker": {
             "colorbar": {
              "outlinewidth": 0,
              "ticks": ""
             }
            },
            "type": "scatterpolargl"
           }
          ],
          "scatterternary": [
           {
            "marker": {
             "colorbar": {
              "outlinewidth": 0,
              "ticks": ""
             }
            },
            "type": "scatterternary"
           }
          ],
          "surface": [
           {
            "colorbar": {
             "outlinewidth": 0,
             "ticks": ""
            },
            "colorscale": [
             [
              0,
              "#0d0887"
             ],
             [
              0.1111111111111111,
              "#46039f"
             ],
             [
              0.2222222222222222,
              "#7201a8"
             ],
             [
              0.3333333333333333,
              "#9c179e"
             ],
             [
              0.4444444444444444,
              "#bd3786"
             ],
             [
              0.5555555555555556,
              "#d8576b"
             ],
             [
              0.6666666666666666,
              "#ed7953"
             ],
             [
              0.7777777777777778,
              "#fb9f3a"
             ],
             [
              0.8888888888888888,
              "#fdca26"
             ],
             [
              1,
              "#f0f921"
             ]
            ],
            "type": "surface"
           }
          ],
          "table": [
           {
            "cells": {
             "fill": {
              "color": "#EBF0F8"
             },
             "line": {
              "color": "white"
             }
            },
            "header": {
             "fill": {
              "color": "#C8D4E3"
             },
             "line": {
              "color": "white"
             }
            },
            "type": "table"
           }
          ]
         },
         "layout": {
          "annotationdefaults": {
           "arrowcolor": "#2a3f5f",
           "arrowhead": 0,
           "arrowwidth": 1
          },
          "autotypenumbers": "strict",
          "coloraxis": {
           "colorbar": {
            "outlinewidth": 0,
            "ticks": ""
           }
          },
          "colorscale": {
           "diverging": [
            [
             0,
             "#8e0152"
            ],
            [
             0.1,
             "#c51b7d"
            ],
            [
             0.2,
             "#de77ae"
            ],
            [
             0.3,
             "#f1b6da"
            ],
            [
             0.4,
             "#fde0ef"
            ],
            [
             0.5,
             "#f7f7f7"
            ],
            [
             0.6,
             "#e6f5d0"
            ],
            [
             0.7,
             "#b8e186"
            ],
            [
             0.8,
             "#7fbc41"
            ],
            [
             0.9,
             "#4d9221"
            ],
            [
             1,
             "#276419"
            ]
           ],
           "sequential": [
            [
             0,
             "#0d0887"
            ],
            [
             0.1111111111111111,
             "#46039f"
            ],
            [
             0.2222222222222222,
             "#7201a8"
            ],
            [
             0.3333333333333333,
             "#9c179e"
            ],
            [
             0.4444444444444444,
             "#bd3786"
            ],
            [
             0.5555555555555556,
             "#d8576b"
            ],
            [
             0.6666666666666666,
             "#ed7953"
            ],
            [
             0.7777777777777778,
             "#fb9f3a"
            ],
            [
             0.8888888888888888,
             "#fdca26"
            ],
            [
             1,
             "#f0f921"
            ]
           ],
           "sequentialminus": [
            [
             0,
             "#0d0887"
            ],
            [
             0.1111111111111111,
             "#46039f"
            ],
            [
             0.2222222222222222,
             "#7201a8"
            ],
            [
             0.3333333333333333,
             "#9c179e"
            ],
            [
             0.4444444444444444,
             "#bd3786"
            ],
            [
             0.5555555555555556,
             "#d8576b"
            ],
            [
             0.6666666666666666,
             "#ed7953"
            ],
            [
             0.7777777777777778,
             "#fb9f3a"
            ],
            [
             0.8888888888888888,
             "#fdca26"
            ],
            [
             1,
             "#f0f921"
            ]
           ]
          },
          "colorway": [
           "#636efa",
           "#EF553B",
           "#00cc96",
           "#ab63fa",
           "#FFA15A",
           "#19d3f3",
           "#FF6692",
           "#B6E880",
           "#FF97FF",
           "#FECB52"
          ],
          "font": {
           "color": "#2a3f5f"
          },
          "geo": {
           "bgcolor": "white",
           "lakecolor": "white",
           "landcolor": "#E5ECF6",
           "showlakes": true,
           "showland": true,
           "subunitcolor": "white"
          },
          "hoverlabel": {
           "align": "left"
          },
          "hovermode": "closest",
          "mapbox": {
           "style": "light"
          },
          "paper_bgcolor": "white",
          "plot_bgcolor": "#E5ECF6",
          "polar": {
           "angularaxis": {
            "gridcolor": "white",
            "linecolor": "white",
            "ticks": ""
           },
           "bgcolor": "#E5ECF6",
           "radialaxis": {
            "gridcolor": "white",
            "linecolor": "white",
            "ticks": ""
           }
          },
          "scene": {
           "xaxis": {
            "backgroundcolor": "#E5ECF6",
            "gridcolor": "white",
            "gridwidth": 2,
            "linecolor": "white",
            "showbackground": true,
            "ticks": "",
            "zerolinecolor": "white"
           },
           "yaxis": {
            "backgroundcolor": "#E5ECF6",
            "gridcolor": "white",
            "gridwidth": 2,
            "linecolor": "white",
            "showbackground": true,
            "ticks": "",
            "zerolinecolor": "white"
           },
           "zaxis": {
            "backgroundcolor": "#E5ECF6",
            "gridcolor": "white",
            "gridwidth": 2,
            "linecolor": "white",
            "showbackground": true,
            "ticks": "",
            "zerolinecolor": "white"
           }
          },
          "shapedefaults": {
           "line": {
            "color": "#2a3f5f"
           }
          },
          "ternary": {
           "aaxis": {
            "gridcolor": "white",
            "linecolor": "white",
            "ticks": ""
           },
           "baxis": {
            "gridcolor": "white",
            "linecolor": "white",
            "ticks": ""
           },
           "bgcolor": "#E5ECF6",
           "caxis": {
            "gridcolor": "white",
            "linecolor": "white",
            "ticks": ""
           }
          },
          "title": {
           "x": 0.05
          },
          "xaxis": {
           "automargin": true,
           "gridcolor": "white",
           "linecolor": "white",
           "ticks": "",
           "title": {
            "standoff": 15
           },
           "zerolinecolor": "white",
           "zerolinewidth": 2
          },
          "yaxis": {
           "automargin": true,
           "gridcolor": "white",
           "linecolor": "white",
           "ticks": "",
           "title": {
            "standoff": 15
           },
           "zerolinecolor": "white",
           "zerolinewidth": 2
          }
         }
        },
        "width": 600,
        "xaxis": {
         "anchor": "y",
         "domain": [
          0,
          1
         ],
         "title": {
          "text": "PC 1 (58.1%)"
         }
        },
        "yaxis": {
         "anchor": "x",
         "domain": [
          0,
          1
         ],
         "title": {
          "text": "PC 2 (32.4%)"
         }
        }
       }
      },
      "text/html": [
       "<div>                            <div id=\"50328c19-e68b-45e0-86aa-6fa3e2cbc613\" class=\"plotly-graph-div\" style=\"height:600px; width:600px;\"></div>            <script type=\"text/javascript\">                require([\"plotly\"], function(Plotly) {                    window.PLOTLYENV=window.PLOTLYENV || {};                                    if (document.getElementById(\"50328c19-e68b-45e0-86aa-6fa3e2cbc613\")) {                    Plotly.newPlot(                        \"50328c19-e68b-45e0-86aa-6fa3e2cbc613\",                        [{\"hovertemplate\":\"color=00<br>symbol=WT<br>0=%{x}<br>1=%{y}<extra></extra>\",\"legendgroup\":\"00, WT\",\"marker\":{\"color\":\"#636efa\",\"symbol\":\"circle\",\"size\":13},\"mode\":\"markers\",\"name\":\"00, WT\",\"orientation\":\"v\",\"showlegend\":true,\"x\":[3.4836016728773203,2.4244226161263605,0.75631073476937,0.28216138711870786],\"xaxis\":\"x\",\"y\":[1.977785348663021,3.156847433816525,3.8298691419930635,3.757474328551392],\"yaxis\":\"y\",\"type\":\"scatter\"},{\"hovertemplate\":\"color=02<br>symbol=WT<br>0=%{x}<br>1=%{y}<extra></extra>\",\"legendgroup\":\"02, WT\",\"marker\":{\"color\":\"#EF553B\",\"symbol\":\"circle\",\"size\":13},\"mode\":\"markers\",\"name\":\"02, WT\",\"orientation\":\"v\",\"showlegend\":true,\"x\":[-0.46122231366583366,-1.528191556343529,-1.6131018977778009,-1.8523956849094418],\"xaxis\":\"x\",\"y\":[3.2371250650848453,0.9273405606289189,2.436527017753405,1.4385435349091227],\"yaxis\":\"y\",\"type\":\"scatter\"},{\"hovertemplate\":\"color=04<br>symbol=WT<br>0=%{x}<br>1=%{y}<extra></extra>\",\"legendgroup\":\"04, WT\",\"marker\":{\"color\":\"#00cc96\",\"symbol\":\"circle\",\"size\":13},\"mode\":\"markers\",\"name\":\"04, WT\",\"orientation\":\"v\",\"showlegend\":true,\"x\":[-2.019612206842155,-1.130493968955875,-2.3569566999168416,-1.2375080987129894],\"xaxis\":\"x\",\"y\":[1.5541679980611167,2.8134872632655097,0.40359925488375953,2.3189307771271293],\"yaxis\":\"y\",\"type\":\"scatter\"},{\"hovertemplate\":\"color=06<br>symbol=WT<br>0=%{x}<br>1=%{y}<extra></extra>\",\"legendgroup\":\"06, WT\",\"marker\":{\"color\":\"#ab63fa\",\"symbol\":\"circle\",\"size\":13},\"mode\":\"markers\",\"name\":\"06, WT\",\"orientation\":\"v\",\"showlegend\":true,\"x\":[-2.353899778735179,-2.3125378633977767,-2.3255076657442846,-2.2828743395942936],\"xaxis\":\"x\",\"y\":[0.5273796420921905,0.5048065879207781,0.1494859787969397,0.521569846848206],\"yaxis\":\"y\",\"type\":\"scatter\"},{\"hovertemplate\":\"color=08<br>symbol=WT<br>0=%{x}<br>1=%{y}<extra></extra>\",\"legendgroup\":\"08, WT\",\"marker\":{\"color\":\"#FFA15A\",\"symbol\":\"circle\",\"size\":13},\"mode\":\"markers\",\"name\":\"08, WT\",\"orientation\":\"v\",\"showlegend\":true,\"x\":[-2.248680074541489,-1.8303877776523003,-1.9039439116344627,-2.3293516766814646],\"xaxis\":\"x\",\"y\":[-0.2280371800444913,-1.0662920748350098,-0.9299948573525183,-0.1819635488497864],\"yaxis\":\"y\",\"type\":\"scatter\"},{\"hovertemplate\":\"color=10<br>symbol=WT<br>0=%{x}<br>1=%{y}<extra></extra>\",\"legendgroup\":\"10, WT\",\"marker\":{\"color\":\"#19d3f3\",\"symbol\":\"circle\",\"size\":13},\"mode\":\"markers\",\"name\":\"10, WT\",\"orientation\":\"v\",\"showlegend\":true,\"x\":[-1.9989655935697834,-2.1041434744574716,-1.63671700837937,-2.1051817701822966],\"xaxis\":\"x\",\"y\":[-0.7034196515337326,-0.6905366730747174,-1.2518763919892864,-0.747748106944352],\"yaxis\":\"y\",\"type\":\"scatter\"},{\"hovertemplate\":\"color=12<br>symbol=WT<br>0=%{x}<br>1=%{y}<extra></extra>\",\"legendgroup\":\"12, WT\",\"marker\":{\"color\":\"#FF6692\",\"symbol\":\"circle\",\"size\":13},\"mode\":\"markers\",\"name\":\"12, WT\",\"orientation\":\"v\",\"showlegend\":true,\"x\":[-1.2275343234182723,-1.48216360880272,-1.5723967156180196,-1.2535264477257995],\"xaxis\":\"x\",\"y\":[-1.446297216741375,-1.350993986929827,-1.2925262170670215,-1.3861189458870016],\"yaxis\":\"y\",\"type\":\"scatter\"},{\"hovertemplate\":\"color=14<br>symbol=WT<br>0=%{x}<br>1=%{y}<extra></extra>\",\"legendgroup\":\"14, WT\",\"marker\":{\"color\":\"#B6E880\",\"symbol\":\"circle\",\"size\":13},\"mode\":\"markers\",\"name\":\"14, WT\",\"orientation\":\"v\",\"showlegend\":true,\"x\":[-0.963902935300206,0.46085715985146297,-1.070330155440929,-0.15276995366517096],\"xaxis\":\"x\",\"y\":[-1.2326124658506479,-1.60905300793263,-1.3180833222047719,-1.349833597329759],\"yaxis\":\"y\",\"type\":\"scatter\"},{\"hovertemplate\":\"color=16<br>symbol=WT<br>0=%{x}<br>1=%{y}<extra></extra>\",\"legendgroup\":\"16, WT\",\"marker\":{\"color\":\"#FF97FF\",\"symbol\":\"circle\",\"size\":13},\"mode\":\"markers\",\"name\":\"16, WT\",\"orientation\":\"v\",\"showlegend\":true,\"x\":[0.48532611630401495,1.1566229798008287,0.9100869772767005,0.6629476696168836],\"xaxis\":\"x\",\"y\":[-1.612713710773884,-1.3012469313897526,-1.5209679208141844,-1.6041723173128861],\"yaxis\":\"y\",\"type\":\"scatter\"},{\"hovertemplate\":\"color=18<br>symbol=WT<br>0=%{x}<br>1=%{y}<extra></extra>\",\"legendgroup\":\"18, WT\",\"marker\":{\"color\":\"#FECB52\",\"symbol\":\"circle\",\"size\":13},\"mode\":\"markers\",\"name\":\"18, WT\",\"orientation\":\"v\",\"showlegend\":true,\"x\":[0.870113276846019,2.712164628822537,2.5205840612692665,1.921205583773449],\"xaxis\":\"x\",\"y\":[-1.7287835468929018,-1.2370336714768457,-1.0809868158273812,-1.4129681223100337],\"yaxis\":\"y\",\"type\":\"scatter\"},{\"hovertemplate\":\"color=20<br>symbol=WT<br>0=%{x}<br>1=%{y}<extra></extra>\",\"legendgroup\":\"20, WT\",\"marker\":{\"color\":\"#636efa\",\"symbol\":\"circle\",\"size\":13},\"mode\":\"markers\",\"name\":\"20, WT\",\"orientation\":\"v\",\"showlegend\":true,\"x\":[3.43477980430109,3.8764601804288232,2.3903631128025835,2.2806563867811045],\"xaxis\":\"x\",\"y\":[-0.33499803343948403,-0.14535493794649398,-1.3618907794434083,-1.1685819337308083],\"yaxis\":\"y\",\"type\":\"scatter\"},{\"hovertemplate\":\"color=22<br>symbol=WT<br>0=%{x}<br>1=%{y}<extra></extra>\",\"legendgroup\":\"22, WT\",\"marker\":{\"color\":\"#EF553B\",\"symbol\":\"circle\",\"size\":13},\"mode\":\"markers\",\"name\":\"22, WT\",\"orientation\":\"v\",\"showlegend\":true,\"x\":[3.9205124854648794,4.094232185862874,3.6724697304122906,3.038418751159199],\"xaxis\":\"x\",\"y\":[1.154321399009189,0.8759007184570285,-0.34921860349340006,0.05914267155625273],\"yaxis\":\"y\",\"type\":\"scatter\"}],                        {\"template\":{\"data\":{\"histogram2dcontour\":[{\"type\":\"histogram2dcontour\",\"colorbar\":{\"outlinewidth\":0,\"ticks\":\"\"},\"colorscale\":[[0.0,\"#0d0887\"],[0.1111111111111111,\"#46039f\"],[0.2222222222222222,\"#7201a8\"],[0.3333333333333333,\"#9c179e\"],[0.4444444444444444,\"#bd3786\"],[0.5555555555555556,\"#d8576b\"],[0.6666666666666666,\"#ed7953\"],[0.7777777777777778,\"#fb9f3a\"],[0.8888888888888888,\"#fdca26\"],[1.0,\"#f0f921\"]]}],\"choropleth\":[{\"type\":\"choropleth\",\"colorbar\":{\"outlinewidth\":0,\"ticks\":\"\"}}],\"histogram2d\":[{\"type\":\"histogram2d\",\"colorbar\":{\"outlinewidth\":0,\"ticks\":\"\"},\"colorscale\":[[0.0,\"#0d0887\"],[0.1111111111111111,\"#46039f\"],[0.2222222222222222,\"#7201a8\"],[0.3333333333333333,\"#9c179e\"],[0.4444444444444444,\"#bd3786\"],[0.5555555555555556,\"#d8576b\"],[0.6666666666666666,\"#ed7953\"],[0.7777777777777778,\"#fb9f3a\"],[0.8888888888888888,\"#fdca26\"],[1.0,\"#f0f921\"]]}],\"heatmap\":[{\"type\":\"heatmap\",\"colorbar\":{\"outlinewidth\":0,\"ticks\":\"\"},\"colorscale\":[[0.0,\"#0d0887\"],[0.1111111111111111,\"#46039f\"],[0.2222222222222222,\"#7201a8\"],[0.3333333333333333,\"#9c179e\"],[0.4444444444444444,\"#bd3786\"],[0.5555555555555556,\"#d8576b\"],[0.6666666666666666,\"#ed7953\"],[0.7777777777777778,\"#fb9f3a\"],[0.8888888888888888,\"#fdca26\"],[1.0,\"#f0f921\"]]}],\"heatmapgl\":[{\"type\":\"heatmapgl\",\"colorbar\":{\"outlinewidth\":0,\"ticks\":\"\"},\"colorscale\":[[0.0,\"#0d0887\"],[0.1111111111111111,\"#46039f\"],[0.2222222222222222,\"#7201a8\"],[0.3333333333333333,\"#9c179e\"],[0.4444444444444444,\"#bd3786\"],[0.5555555555555556,\"#d8576b\"],[0.6666666666666666,\"#ed7953\"],[0.7777777777777778,\"#fb9f3a\"],[0.8888888888888888,\"#fdca26\"],[1.0,\"#f0f921\"]]}],\"contourcarpet\":[{\"type\":\"contourcarpet\",\"colorbar\":{\"outlinewidth\":0,\"ticks\":\"\"}}],\"contour\":[{\"type\":\"contour\",\"colorbar\":{\"outlinewidth\":0,\"ticks\":\"\"},\"colorscale\":[[0.0,\"#0d0887\"],[0.1111111111111111,\"#46039f\"],[0.2222222222222222,\"#7201a8\"],[0.3333333333333333,\"#9c179e\"],[0.4444444444444444,\"#bd3786\"],[0.5555555555555556,\"#d8576b\"],[0.6666666666666666,\"#ed7953\"],[0.7777777777777778,\"#fb9f3a\"],[0.8888888888888888,\"#fdca26\"],[1.0,\"#f0f921\"]]}],\"surface\":[{\"type\":\"surface\",\"colorbar\":{\"outlinewidth\":0,\"ticks\":\"\"},\"colorscale\":[[0.0,\"#0d0887\"],[0.1111111111111111,\"#46039f\"],[0.2222222222222222,\"#7201a8\"],[0.3333333333333333,\"#9c179e\"],[0.4444444444444444,\"#bd3786\"],[0.5555555555555556,\"#d8576b\"],[0.6666666666666666,\"#ed7953\"],[0.7777777777777778,\"#fb9f3a\"],[0.8888888888888888,\"#fdca26\"],[1.0,\"#f0f921\"]]}],\"mesh3d\":[{\"type\":\"mesh3d\",\"colorbar\":{\"outlinewidth\":0,\"ticks\":\"\"}}],\"scatter\":[{\"fillpattern\":{\"fillmode\":\"overlay\",\"size\":10,\"solidity\":0.2},\"type\":\"scatter\"}],\"parcoords\":[{\"type\":\"parcoords\",\"line\":{\"colorbar\":{\"outlinewidth\":0,\"ticks\":\"\"}}}],\"scatterpolargl\":[{\"type\":\"scatterpolargl\",\"marker\":{\"colorbar\":{\"outlinewidth\":0,\"ticks\":\"\"}}}],\"bar\":[{\"error_x\":{\"color\":\"#2a3f5f\"},\"error_y\":{\"color\":\"#2a3f5f\"},\"marker\":{\"line\":{\"color\":\"#E5ECF6\",\"width\":0.5},\"pattern\":{\"fillmode\":\"overlay\",\"size\":10,\"solidity\":0.2}},\"type\":\"bar\"}],\"scattergeo\":[{\"type\":\"scattergeo\",\"marker\":{\"colorbar\":{\"outlinewidth\":0,\"ticks\":\"\"}}}],\"scatterpolar\":[{\"type\":\"scatterpolar\",\"marker\":{\"colorbar\":{\"outlinewidth\":0,\"ticks\":\"\"}}}],\"histogram\":[{\"marker\":{\"pattern\":{\"fillmode\":\"overlay\",\"size\":10,\"solidity\":0.2}},\"type\":\"histogram\"}],\"scattergl\":[{\"type\":\"scattergl\",\"marker\":{\"colorbar\":{\"outlinewidth\":0,\"ticks\":\"\"}}}],\"scatter3d\":[{\"type\":\"scatter3d\",\"line\":{\"colorbar\":{\"outlinewidth\":0,\"ticks\":\"\"}},\"marker\":{\"colorbar\":{\"outlinewidth\":0,\"ticks\":\"\"}}}],\"scattermapbox\":[{\"type\":\"scattermapbox\",\"marker\":{\"colorbar\":{\"outlinewidth\":0,\"ticks\":\"\"}}}],\"scatterternary\":[{\"type\":\"scatterternary\",\"marker\":{\"colorbar\":{\"outlinewidth\":0,\"ticks\":\"\"}}}],\"scattercarpet\":[{\"type\":\"scattercarpet\",\"marker\":{\"colorbar\":{\"outlinewidth\":0,\"ticks\":\"\"}}}],\"carpet\":[{\"aaxis\":{\"endlinecolor\":\"#2a3f5f\",\"gridcolor\":\"white\",\"linecolor\":\"white\",\"minorgridcolor\":\"white\",\"startlinecolor\":\"#2a3f5f\"},\"baxis\":{\"endlinecolor\":\"#2a3f5f\",\"gridcolor\":\"white\",\"linecolor\":\"white\",\"minorgridcolor\":\"white\",\"startlinecolor\":\"#2a3f5f\"},\"type\":\"carpet\"}],\"table\":[{\"cells\":{\"fill\":{\"color\":\"#EBF0F8\"},\"line\":{\"color\":\"white\"}},\"header\":{\"fill\":{\"color\":\"#C8D4E3\"},\"line\":{\"color\":\"white\"}},\"type\":\"table\"}],\"barpolar\":[{\"marker\":{\"line\":{\"color\":\"#E5ECF6\",\"width\":0.5},\"pattern\":{\"fillmode\":\"overlay\",\"size\":10,\"solidity\":0.2}},\"type\":\"barpolar\"}],\"pie\":[{\"automargin\":true,\"type\":\"pie\"}]},\"layout\":{\"autotypenumbers\":\"strict\",\"colorway\":[\"#636efa\",\"#EF553B\",\"#00cc96\",\"#ab63fa\",\"#FFA15A\",\"#19d3f3\",\"#FF6692\",\"#B6E880\",\"#FF97FF\",\"#FECB52\"],\"font\":{\"color\":\"#2a3f5f\"},\"hovermode\":\"closest\",\"hoverlabel\":{\"align\":\"left\"},\"paper_bgcolor\":\"white\",\"plot_bgcolor\":\"#E5ECF6\",\"polar\":{\"bgcolor\":\"#E5ECF6\",\"angularaxis\":{\"gridcolor\":\"white\",\"linecolor\":\"white\",\"ticks\":\"\"},\"radialaxis\":{\"gridcolor\":\"white\",\"linecolor\":\"white\",\"ticks\":\"\"}},\"ternary\":{\"bgcolor\":\"#E5ECF6\",\"aaxis\":{\"gridcolor\":\"white\",\"linecolor\":\"white\",\"ticks\":\"\"},\"baxis\":{\"gridcolor\":\"white\",\"linecolor\":\"white\",\"ticks\":\"\"},\"caxis\":{\"gridcolor\":\"white\",\"linecolor\":\"white\",\"ticks\":\"\"}},\"coloraxis\":{\"colorbar\":{\"outlinewidth\":0,\"ticks\":\"\"}},\"colorscale\":{\"sequential\":[[0.0,\"#0d0887\"],[0.1111111111111111,\"#46039f\"],[0.2222222222222222,\"#7201a8\"],[0.3333333333333333,\"#9c179e\"],[0.4444444444444444,\"#bd3786\"],[0.5555555555555556,\"#d8576b\"],[0.6666666666666666,\"#ed7953\"],[0.7777777777777778,\"#fb9f3a\"],[0.8888888888888888,\"#fdca26\"],[1.0,\"#f0f921\"]],\"sequentialminus\":[[0.0,\"#0d0887\"],[0.1111111111111111,\"#46039f\"],[0.2222222222222222,\"#7201a8\"],[0.3333333333333333,\"#9c179e\"],[0.4444444444444444,\"#bd3786\"],[0.5555555555555556,\"#d8576b\"],[0.6666666666666666,\"#ed7953\"],[0.7777777777777778,\"#fb9f3a\"],[0.8888888888888888,\"#fdca26\"],[1.0,\"#f0f921\"]],\"diverging\":[[0,\"#8e0152\"],[0.1,\"#c51b7d\"],[0.2,\"#de77ae\"],[0.3,\"#f1b6da\"],[0.4,\"#fde0ef\"],[0.5,\"#f7f7f7\"],[0.6,\"#e6f5d0\"],[0.7,\"#b8e186\"],[0.8,\"#7fbc41\"],[0.9,\"#4d9221\"],[1,\"#276419\"]]},\"xaxis\":{\"gridcolor\":\"white\",\"linecolor\":\"white\",\"ticks\":\"\",\"title\":{\"standoff\":15},\"zerolinecolor\":\"white\",\"automargin\":true,\"zerolinewidth\":2},\"yaxis\":{\"gridcolor\":\"white\",\"linecolor\":\"white\",\"ticks\":\"\",\"title\":{\"standoff\":15},\"zerolinecolor\":\"white\",\"automargin\":true,\"zerolinewidth\":2},\"scene\":{\"xaxis\":{\"backgroundcolor\":\"#E5ECF6\",\"gridcolor\":\"white\",\"linecolor\":\"white\",\"showbackground\":true,\"ticks\":\"\",\"zerolinecolor\":\"white\",\"gridwidth\":2},\"yaxis\":{\"backgroundcolor\":\"#E5ECF6\",\"gridcolor\":\"white\",\"linecolor\":\"white\",\"showbackground\":true,\"ticks\":\"\",\"zerolinecolor\":\"white\",\"gridwidth\":2},\"zaxis\":{\"backgroundcolor\":\"#E5ECF6\",\"gridcolor\":\"white\",\"linecolor\":\"white\",\"showbackground\":true,\"ticks\":\"\",\"zerolinecolor\":\"white\",\"gridwidth\":2}},\"shapedefaults\":{\"line\":{\"color\":\"#2a3f5f\"}},\"annotationdefaults\":{\"arrowcolor\":\"#2a3f5f\",\"arrowhead\":0,\"arrowwidth\":1},\"geo\":{\"bgcolor\":\"white\",\"landcolor\":\"#E5ECF6\",\"subunitcolor\":\"white\",\"showland\":true,\"showlakes\":true,\"lakecolor\":\"white\"},\"title\":{\"x\":0.05},\"mapbox\":{\"style\":\"light\"}}},\"xaxis\":{\"anchor\":\"y\",\"domain\":[0.0,1.0],\"title\":{\"text\":\"PC 1 (58.1%)\"}},\"yaxis\":{\"anchor\":\"x\",\"domain\":[0.0,1.0],\"title\":{\"text\":\"PC 2 (32.4%)\"}},\"legend\":{\"title\":{\"text\":\"color, symbol\"},\"tracegroupgap\":0},\"margin\":{\"t\":60},\"height\":600,\"width\":600,\"plot_bgcolor\":\"rgb(243,243,243)\"},                        {\"responsive\": true}                    ).then(function(){\n",
       "                            \n",
       "var gd = document.getElementById('50328c19-e68b-45e0-86aa-6fa3e2cbc613');\n",
       "var x = new MutationObserver(function (mutations, observer) {{\n",
       "        var display = window.getComputedStyle(gd).display;\n",
       "        if (!display || display === 'none') {{\n",
       "            console.log([gd, 'removed!']);\n",
       "            Plotly.purge(gd);\n",
       "            observer.disconnect();\n",
       "        }}\n",
       "}});\n",
       "\n",
       "// Listen for the removal of the full notebook cells\n",
       "var notebookContainer = gd.closest('#notebook-container');\n",
       "if (notebookContainer) {{\n",
       "    x.observe(notebookContainer, {childList: true});\n",
       "}}\n",
       "\n",
       "// Listen for the clearing of the current output cell\n",
       "var outputEl = gd.closest('.output');\n",
       "if (outputEl) {{\n",
       "    x.observe(outputEl, {childList: true});\n",
       "}}\n",
       "\n",
       "                        })                };                });            </script>        </div>"
      ]
     },
     "metadata": {},
     "output_type": "display_data"
    },
    {
     "data": {
      "application/vnd.plotly.v1+json": {
       "config": {
        "plotlyServerURL": "https://plot.ly"
       },
       "data": [
        {
         "hovertemplate": "color=A<br>symbol=Intron<br>0=%{x}<br>1=%{y}<extra></extra>",
         "legendgroup": "A, Intron",
         "marker": {
          "color": "#636efa",
          "size": 13,
          "symbol": "circle"
         },
         "mode": "markers",
         "name": "A, Intron",
         "orientation": "v",
         "showlegend": true,
         "type": "scatter",
         "x": [
          3.4836016728773203,
          -0.46122231366583366,
          -2.019612206842155,
          -2.353899778735179,
          -2.248680074541489,
          -1.9989655935697834,
          -1.2275343234182723,
          -0.963902935300206,
          0.48532611630401495,
          0.870113276846019,
          3.43477980430109,
          3.9205124854648794
         ],
         "xaxis": "x",
         "y": [
          1.977785348663021,
          3.2371250650848453,
          1.5541679980611167,
          0.5273796420921905,
          -0.2280371800444913,
          -0.7034196515337326,
          -1.446297216741375,
          -1.2326124658506479,
          -1.612713710773884,
          -1.7287835468929018,
          -0.33499803343948403,
          1.154321399009189
         ],
         "yaxis": "y"
        },
        {
         "hovertemplate": "color=B<br>symbol=Intron<br>0=%{x}<br>1=%{y}<extra></extra>",
         "legendgroup": "B, Intron",
         "marker": {
          "color": "#EF553B",
          "size": 13,
          "symbol": "circle"
         },
         "mode": "markers",
         "name": "B, Intron",
         "orientation": "v",
         "showlegend": true,
         "type": "scatter",
         "x": [
          2.4244226161263605,
          -1.528191556343529,
          -1.130493968955875,
          -2.3125378633977767,
          -1.8303877776523003,
          -2.1041434744574716,
          -1.48216360880272,
          0.46085715985146297,
          1.1566229798008287,
          2.712164628822537,
          3.8764601804288232,
          4.094232185862874
         ],
         "xaxis": "x",
         "y": [
          3.156847433816525,
          0.9273405606289189,
          2.8134872632655097,
          0.5048065879207781,
          -1.0662920748350098,
          -0.6905366730747174,
          -1.350993986929827,
          -1.60905300793263,
          -1.3012469313897526,
          -1.2370336714768457,
          -0.14535493794649398,
          0.8759007184570285
         ],
         "yaxis": "y"
        },
        {
         "hovertemplate": "color=C<br>symbol=Intron<br>0=%{x}<br>1=%{y}<extra></extra>",
         "legendgroup": "C, Intron",
         "marker": {
          "color": "#00cc96",
          "size": 13,
          "symbol": "circle"
         },
         "mode": "markers",
         "name": "C, Intron",
         "orientation": "v",
         "showlegend": true,
         "type": "scatter",
         "x": [
          0.75631073476937,
          -1.6131018977778009,
          -2.3569566999168416,
          -2.3255076657442846,
          -1.9039439116344627,
          -1.63671700837937,
          -1.5723967156180196,
          -1.070330155440929,
          0.9100869772767005,
          2.5205840612692665,
          2.3903631128025835,
          3.6724697304122906
         ],
         "xaxis": "x",
         "y": [
          3.8298691419930635,
          2.436527017753405,
          0.40359925488375953,
          0.1494859787969397,
          -0.9299948573525183,
          -1.2518763919892864,
          -1.2925262170670215,
          -1.3180833222047719,
          -1.5209679208141844,
          -1.0809868158273812,
          -1.3618907794434083,
          -0.34921860349340006
         ],
         "yaxis": "y"
        },
        {
         "hovertemplate": "color=D<br>symbol=Intron<br>0=%{x}<br>1=%{y}<extra></extra>",
         "legendgroup": "D, Intron",
         "marker": {
          "color": "#ab63fa",
          "size": 13,
          "symbol": "circle"
         },
         "mode": "markers",
         "name": "D, Intron",
         "orientation": "v",
         "showlegend": true,
         "type": "scatter",
         "x": [
          0.28216138711870786,
          -1.8523956849094418,
          -1.2375080987129894,
          -2.2828743395942936,
          -2.3293516766814646,
          -2.1051817701822966,
          -1.2535264477257995,
          -0.15276995366517096,
          0.6629476696168836,
          1.921205583773449,
          2.2806563867811045,
          3.038418751159199
         ],
         "xaxis": "x",
         "y": [
          3.757474328551392,
          1.4385435349091227,
          2.3189307771271293,
          0.521569846848206,
          -0.1819635488497864,
          -0.747748106944352,
          -1.3861189458870016,
          -1.349833597329759,
          -1.6041723173128861,
          -1.4129681223100337,
          -1.1685819337308083,
          0.05914267155625273
         ],
         "yaxis": "y"
        }
       ],
       "layout": {
        "height": 600,
        "legend": {
         "title": {
          "text": "color, symbol"
         },
         "tracegroupgap": 0
        },
        "margin": {
         "t": 60
        },
        "plot_bgcolor": "rgb(243,243,243)",
        "template": {
         "data": {
          "bar": [
           {
            "error_x": {
             "color": "#2a3f5f"
            },
            "error_y": {
             "color": "#2a3f5f"
            },
            "marker": {
             "line": {
              "color": "#E5ECF6",
              "width": 0.5
             },
             "pattern": {
              "fillmode": "overlay",
              "size": 10,
              "solidity": 0.2
             }
            },
            "type": "bar"
           }
          ],
          "barpolar": [
           {
            "marker": {
             "line": {
              "color": "#E5ECF6",
              "width": 0.5
             },
             "pattern": {
              "fillmode": "overlay",
              "size": 10,
              "solidity": 0.2
             }
            },
            "type": "barpolar"
           }
          ],
          "carpet": [
           {
            "aaxis": {
             "endlinecolor": "#2a3f5f",
             "gridcolor": "white",
             "linecolor": "white",
             "minorgridcolor": "white",
             "startlinecolor": "#2a3f5f"
            },
            "baxis": {
             "endlinecolor": "#2a3f5f",
             "gridcolor": "white",
             "linecolor": "white",
             "minorgridcolor": "white",
             "startlinecolor": "#2a3f5f"
            },
            "type": "carpet"
           }
          ],
          "choropleth": [
           {
            "colorbar": {
             "outlinewidth": 0,
             "ticks": ""
            },
            "type": "choropleth"
           }
          ],
          "contour": [
           {
            "colorbar": {
             "outlinewidth": 0,
             "ticks": ""
            },
            "colorscale": [
             [
              0,
              "#0d0887"
             ],
             [
              0.1111111111111111,
              "#46039f"
             ],
             [
              0.2222222222222222,
              "#7201a8"
             ],
             [
              0.3333333333333333,
              "#9c179e"
             ],
             [
              0.4444444444444444,
              "#bd3786"
             ],
             [
              0.5555555555555556,
              "#d8576b"
             ],
             [
              0.6666666666666666,
              "#ed7953"
             ],
             [
              0.7777777777777778,
              "#fb9f3a"
             ],
             [
              0.8888888888888888,
              "#fdca26"
             ],
             [
              1,
              "#f0f921"
             ]
            ],
            "type": "contour"
           }
          ],
          "contourcarpet": [
           {
            "colorbar": {
             "outlinewidth": 0,
             "ticks": ""
            },
            "type": "contourcarpet"
           }
          ],
          "heatmap": [
           {
            "colorbar": {
             "outlinewidth": 0,
             "ticks": ""
            },
            "colorscale": [
             [
              0,
              "#0d0887"
             ],
             [
              0.1111111111111111,
              "#46039f"
             ],
             [
              0.2222222222222222,
              "#7201a8"
             ],
             [
              0.3333333333333333,
              "#9c179e"
             ],
             [
              0.4444444444444444,
              "#bd3786"
             ],
             [
              0.5555555555555556,
              "#d8576b"
             ],
             [
              0.6666666666666666,
              "#ed7953"
             ],
             [
              0.7777777777777778,
              "#fb9f3a"
             ],
             [
              0.8888888888888888,
              "#fdca26"
             ],
             [
              1,
              "#f0f921"
             ]
            ],
            "type": "heatmap"
           }
          ],
          "heatmapgl": [
           {
            "colorbar": {
             "outlinewidth": 0,
             "ticks": ""
            },
            "colorscale": [
             [
              0,
              "#0d0887"
             ],
             [
              0.1111111111111111,
              "#46039f"
             ],
             [
              0.2222222222222222,
              "#7201a8"
             ],
             [
              0.3333333333333333,
              "#9c179e"
             ],
             [
              0.4444444444444444,
              "#bd3786"
             ],
             [
              0.5555555555555556,
              "#d8576b"
             ],
             [
              0.6666666666666666,
              "#ed7953"
             ],
             [
              0.7777777777777778,
              "#fb9f3a"
             ],
             [
              0.8888888888888888,
              "#fdca26"
             ],
             [
              1,
              "#f0f921"
             ]
            ],
            "type": "heatmapgl"
           }
          ],
          "histogram": [
           {
            "marker": {
             "pattern": {
              "fillmode": "overlay",
              "size": 10,
              "solidity": 0.2
             }
            },
            "type": "histogram"
           }
          ],
          "histogram2d": [
           {
            "colorbar": {
             "outlinewidth": 0,
             "ticks": ""
            },
            "colorscale": [
             [
              0,
              "#0d0887"
             ],
             [
              0.1111111111111111,
              "#46039f"
             ],
             [
              0.2222222222222222,
              "#7201a8"
             ],
             [
              0.3333333333333333,
              "#9c179e"
             ],
             [
              0.4444444444444444,
              "#bd3786"
             ],
             [
              0.5555555555555556,
              "#d8576b"
             ],
             [
              0.6666666666666666,
              "#ed7953"
             ],
             [
              0.7777777777777778,
              "#fb9f3a"
             ],
             [
              0.8888888888888888,
              "#fdca26"
             ],
             [
              1,
              "#f0f921"
             ]
            ],
            "type": "histogram2d"
           }
          ],
          "histogram2dcontour": [
           {
            "colorbar": {
             "outlinewidth": 0,
             "ticks": ""
            },
            "colorscale": [
             [
              0,
              "#0d0887"
             ],
             [
              0.1111111111111111,
              "#46039f"
             ],
             [
              0.2222222222222222,
              "#7201a8"
             ],
             [
              0.3333333333333333,
              "#9c179e"
             ],
             [
              0.4444444444444444,
              "#bd3786"
             ],
             [
              0.5555555555555556,
              "#d8576b"
             ],
             [
              0.6666666666666666,
              "#ed7953"
             ],
             [
              0.7777777777777778,
              "#fb9f3a"
             ],
             [
              0.8888888888888888,
              "#fdca26"
             ],
             [
              1,
              "#f0f921"
             ]
            ],
            "type": "histogram2dcontour"
           }
          ],
          "mesh3d": [
           {
            "colorbar": {
             "outlinewidth": 0,
             "ticks": ""
            },
            "type": "mesh3d"
           }
          ],
          "parcoords": [
           {
            "line": {
             "colorbar": {
              "outlinewidth": 0,
              "ticks": ""
             }
            },
            "type": "parcoords"
           }
          ],
          "pie": [
           {
            "automargin": true,
            "type": "pie"
           }
          ],
          "scatter": [
           {
            "fillpattern": {
             "fillmode": "overlay",
             "size": 10,
             "solidity": 0.2
            },
            "type": "scatter"
           }
          ],
          "scatter3d": [
           {
            "line": {
             "colorbar": {
              "outlinewidth": 0,
              "ticks": ""
             }
            },
            "marker": {
             "colorbar": {
              "outlinewidth": 0,
              "ticks": ""
             }
            },
            "type": "scatter3d"
           }
          ],
          "scattercarpet": [
           {
            "marker": {
             "colorbar": {
              "outlinewidth": 0,
              "ticks": ""
             }
            },
            "type": "scattercarpet"
           }
          ],
          "scattergeo": [
           {
            "marker": {
             "colorbar": {
              "outlinewidth": 0,
              "ticks": ""
             }
            },
            "type": "scattergeo"
           }
          ],
          "scattergl": [
           {
            "marker": {
             "colorbar": {
              "outlinewidth": 0,
              "ticks": ""
             }
            },
            "type": "scattergl"
           }
          ],
          "scattermapbox": [
           {
            "marker": {
             "colorbar": {
              "outlinewidth": 0,
              "ticks": ""
             }
            },
            "type": "scattermapbox"
           }
          ],
          "scatterpolar": [
           {
            "marker": {
             "colorbar": {
              "outlinewidth": 0,
              "ticks": ""
             }
            },
            "type": "scatterpolar"
           }
          ],
          "scatterpolargl": [
           {
            "marker": {
             "colorbar": {
              "outlinewidth": 0,
              "ticks": ""
             }
            },
            "type": "scatterpolargl"
           }
          ],
          "scatterternary": [
           {
            "marker": {
             "colorbar": {
              "outlinewidth": 0,
              "ticks": ""
             }
            },
            "type": "scatterternary"
           }
          ],
          "surface": [
           {
            "colorbar": {
             "outlinewidth": 0,
             "ticks": ""
            },
            "colorscale": [
             [
              0,
              "#0d0887"
             ],
             [
              0.1111111111111111,
              "#46039f"
             ],
             [
              0.2222222222222222,
              "#7201a8"
             ],
             [
              0.3333333333333333,
              "#9c179e"
             ],
             [
              0.4444444444444444,
              "#bd3786"
             ],
             [
              0.5555555555555556,
              "#d8576b"
             ],
             [
              0.6666666666666666,
              "#ed7953"
             ],
             [
              0.7777777777777778,
              "#fb9f3a"
             ],
             [
              0.8888888888888888,
              "#fdca26"
             ],
             [
              1,
              "#f0f921"
             ]
            ],
            "type": "surface"
           }
          ],
          "table": [
           {
            "cells": {
             "fill": {
              "color": "#EBF0F8"
             },
             "line": {
              "color": "white"
             }
            },
            "header": {
             "fill": {
              "color": "#C8D4E3"
             },
             "line": {
              "color": "white"
             }
            },
            "type": "table"
           }
          ]
         },
         "layout": {
          "annotationdefaults": {
           "arrowcolor": "#2a3f5f",
           "arrowhead": 0,
           "arrowwidth": 1
          },
          "autotypenumbers": "strict",
          "coloraxis": {
           "colorbar": {
            "outlinewidth": 0,
            "ticks": ""
           }
          },
          "colorscale": {
           "diverging": [
            [
             0,
             "#8e0152"
            ],
            [
             0.1,
             "#c51b7d"
            ],
            [
             0.2,
             "#de77ae"
            ],
            [
             0.3,
             "#f1b6da"
            ],
            [
             0.4,
             "#fde0ef"
            ],
            [
             0.5,
             "#f7f7f7"
            ],
            [
             0.6,
             "#e6f5d0"
            ],
            [
             0.7,
             "#b8e186"
            ],
            [
             0.8,
             "#7fbc41"
            ],
            [
             0.9,
             "#4d9221"
            ],
            [
             1,
             "#276419"
            ]
           ],
           "sequential": [
            [
             0,
             "#0d0887"
            ],
            [
             0.1111111111111111,
             "#46039f"
            ],
            [
             0.2222222222222222,
             "#7201a8"
            ],
            [
             0.3333333333333333,
             "#9c179e"
            ],
            [
             0.4444444444444444,
             "#bd3786"
            ],
            [
             0.5555555555555556,
             "#d8576b"
            ],
            [
             0.6666666666666666,
             "#ed7953"
            ],
            [
             0.7777777777777778,
             "#fb9f3a"
            ],
            [
             0.8888888888888888,
             "#fdca26"
            ],
            [
             1,
             "#f0f921"
            ]
           ],
           "sequentialminus": [
            [
             0,
             "#0d0887"
            ],
            [
             0.1111111111111111,
             "#46039f"
            ],
            [
             0.2222222222222222,
             "#7201a8"
            ],
            [
             0.3333333333333333,
             "#9c179e"
            ],
            [
             0.4444444444444444,
             "#bd3786"
            ],
            [
             0.5555555555555556,
             "#d8576b"
            ],
            [
             0.6666666666666666,
             "#ed7953"
            ],
            [
             0.7777777777777778,
             "#fb9f3a"
            ],
            [
             0.8888888888888888,
             "#fdca26"
            ],
            [
             1,
             "#f0f921"
            ]
           ]
          },
          "colorway": [
           "#636efa",
           "#EF553B",
           "#00cc96",
           "#ab63fa",
           "#FFA15A",
           "#19d3f3",
           "#FF6692",
           "#B6E880",
           "#FF97FF",
           "#FECB52"
          ],
          "font": {
           "color": "#2a3f5f"
          },
          "geo": {
           "bgcolor": "white",
           "lakecolor": "white",
           "landcolor": "#E5ECF6",
           "showlakes": true,
           "showland": true,
           "subunitcolor": "white"
          },
          "hoverlabel": {
           "align": "left"
          },
          "hovermode": "closest",
          "mapbox": {
           "style": "light"
          },
          "paper_bgcolor": "white",
          "plot_bgcolor": "#E5ECF6",
          "polar": {
           "angularaxis": {
            "gridcolor": "white",
            "linecolor": "white",
            "ticks": ""
           },
           "bgcolor": "#E5ECF6",
           "radialaxis": {
            "gridcolor": "white",
            "linecolor": "white",
            "ticks": ""
           }
          },
          "scene": {
           "xaxis": {
            "backgroundcolor": "#E5ECF6",
            "gridcolor": "white",
            "gridwidth": 2,
            "linecolor": "white",
            "showbackground": true,
            "ticks": "",
            "zerolinecolor": "white"
           },
           "yaxis": {
            "backgroundcolor": "#E5ECF6",
            "gridcolor": "white",
            "gridwidth": 2,
            "linecolor": "white",
            "showbackground": true,
            "ticks": "",
            "zerolinecolor": "white"
           },
           "zaxis": {
            "backgroundcolor": "#E5ECF6",
            "gridcolor": "white",
            "gridwidth": 2,
            "linecolor": "white",
            "showbackground": true,
            "ticks": "",
            "zerolinecolor": "white"
           }
          },
          "shapedefaults": {
           "line": {
            "color": "#2a3f5f"
           }
          },
          "ternary": {
           "aaxis": {
            "gridcolor": "white",
            "linecolor": "white",
            "ticks": ""
           },
           "baxis": {
            "gridcolor": "white",
            "linecolor": "white",
            "ticks": ""
           },
           "bgcolor": "#E5ECF6",
           "caxis": {
            "gridcolor": "white",
            "linecolor": "white",
            "ticks": ""
           }
          },
          "title": {
           "x": 0.05
          },
          "xaxis": {
           "automargin": true,
           "gridcolor": "white",
           "linecolor": "white",
           "ticks": "",
           "title": {
            "standoff": 15
           },
           "zerolinecolor": "white",
           "zerolinewidth": 2
          },
          "yaxis": {
           "automargin": true,
           "gridcolor": "white",
           "linecolor": "white",
           "ticks": "",
           "title": {
            "standoff": 15
           },
           "zerolinecolor": "white",
           "zerolinewidth": 2
          }
         }
        },
        "width": 600,
        "xaxis": {
         "anchor": "y",
         "domain": [
          0,
          1
         ],
         "title": {
          "text": "PC 1 (58.1%)"
         }
        },
        "yaxis": {
         "anchor": "x",
         "domain": [
          0,
          1
         ],
         "title": {
          "text": "PC 2 (32.4%)"
         }
        }
       }
      },
      "text/html": [
       "<div>                            <div id=\"5629adc0-6384-4b4c-9409-d226e7d5ae4b\" class=\"plotly-graph-div\" style=\"height:600px; width:600px;\"></div>            <script type=\"text/javascript\">                require([\"plotly\"], function(Plotly) {                    window.PLOTLYENV=window.PLOTLYENV || {};                                    if (document.getElementById(\"5629adc0-6384-4b4c-9409-d226e7d5ae4b\")) {                    Plotly.newPlot(                        \"5629adc0-6384-4b4c-9409-d226e7d5ae4b\",                        [{\"hovertemplate\":\"color=A<br>symbol=Intron<br>0=%{x}<br>1=%{y}<extra></extra>\",\"legendgroup\":\"A, Intron\",\"marker\":{\"color\":\"#636efa\",\"symbol\":\"circle\",\"size\":13},\"mode\":\"markers\",\"name\":\"A, Intron\",\"orientation\":\"v\",\"showlegend\":true,\"x\":[3.4836016728773203,-0.46122231366583366,-2.019612206842155,-2.353899778735179,-2.248680074541489,-1.9989655935697834,-1.2275343234182723,-0.963902935300206,0.48532611630401495,0.870113276846019,3.43477980430109,3.9205124854648794],\"xaxis\":\"x\",\"y\":[1.977785348663021,3.2371250650848453,1.5541679980611167,0.5273796420921905,-0.2280371800444913,-0.7034196515337326,-1.446297216741375,-1.2326124658506479,-1.612713710773884,-1.7287835468929018,-0.33499803343948403,1.154321399009189],\"yaxis\":\"y\",\"type\":\"scatter\"},{\"hovertemplate\":\"color=B<br>symbol=Intron<br>0=%{x}<br>1=%{y}<extra></extra>\",\"legendgroup\":\"B, Intron\",\"marker\":{\"color\":\"#EF553B\",\"symbol\":\"circle\",\"size\":13},\"mode\":\"markers\",\"name\":\"B, Intron\",\"orientation\":\"v\",\"showlegend\":true,\"x\":[2.4244226161263605,-1.528191556343529,-1.130493968955875,-2.3125378633977767,-1.8303877776523003,-2.1041434744574716,-1.48216360880272,0.46085715985146297,1.1566229798008287,2.712164628822537,3.8764601804288232,4.094232185862874],\"xaxis\":\"x\",\"y\":[3.156847433816525,0.9273405606289189,2.8134872632655097,0.5048065879207781,-1.0662920748350098,-0.6905366730747174,-1.350993986929827,-1.60905300793263,-1.3012469313897526,-1.2370336714768457,-0.14535493794649398,0.8759007184570285],\"yaxis\":\"y\",\"type\":\"scatter\"},{\"hovertemplate\":\"color=C<br>symbol=Intron<br>0=%{x}<br>1=%{y}<extra></extra>\",\"legendgroup\":\"C, Intron\",\"marker\":{\"color\":\"#00cc96\",\"symbol\":\"circle\",\"size\":13},\"mode\":\"markers\",\"name\":\"C, Intron\",\"orientation\":\"v\",\"showlegend\":true,\"x\":[0.75631073476937,-1.6131018977778009,-2.3569566999168416,-2.3255076657442846,-1.9039439116344627,-1.63671700837937,-1.5723967156180196,-1.070330155440929,0.9100869772767005,2.5205840612692665,2.3903631128025835,3.6724697304122906],\"xaxis\":\"x\",\"y\":[3.8298691419930635,2.436527017753405,0.40359925488375953,0.1494859787969397,-0.9299948573525183,-1.2518763919892864,-1.2925262170670215,-1.3180833222047719,-1.5209679208141844,-1.0809868158273812,-1.3618907794434083,-0.34921860349340006],\"yaxis\":\"y\",\"type\":\"scatter\"},{\"hovertemplate\":\"color=D<br>symbol=Intron<br>0=%{x}<br>1=%{y}<extra></extra>\",\"legendgroup\":\"D, Intron\",\"marker\":{\"color\":\"#ab63fa\",\"symbol\":\"circle\",\"size\":13},\"mode\":\"markers\",\"name\":\"D, Intron\",\"orientation\":\"v\",\"showlegend\":true,\"x\":[0.28216138711870786,-1.8523956849094418,-1.2375080987129894,-2.2828743395942936,-2.3293516766814646,-2.1051817701822966,-1.2535264477257995,-0.15276995366517096,0.6629476696168836,1.921205583773449,2.2806563867811045,3.038418751159199],\"xaxis\":\"x\",\"y\":[3.757474328551392,1.4385435349091227,2.3189307771271293,0.521569846848206,-0.1819635488497864,-0.747748106944352,-1.3861189458870016,-1.349833597329759,-1.6041723173128861,-1.4129681223100337,-1.1685819337308083,0.05914267155625273],\"yaxis\":\"y\",\"type\":\"scatter\"}],                        {\"template\":{\"data\":{\"histogram2dcontour\":[{\"type\":\"histogram2dcontour\",\"colorbar\":{\"outlinewidth\":0,\"ticks\":\"\"},\"colorscale\":[[0.0,\"#0d0887\"],[0.1111111111111111,\"#46039f\"],[0.2222222222222222,\"#7201a8\"],[0.3333333333333333,\"#9c179e\"],[0.4444444444444444,\"#bd3786\"],[0.5555555555555556,\"#d8576b\"],[0.6666666666666666,\"#ed7953\"],[0.7777777777777778,\"#fb9f3a\"],[0.8888888888888888,\"#fdca26\"],[1.0,\"#f0f921\"]]}],\"choropleth\":[{\"type\":\"choropleth\",\"colorbar\":{\"outlinewidth\":0,\"ticks\":\"\"}}],\"histogram2d\":[{\"type\":\"histogram2d\",\"colorbar\":{\"outlinewidth\":0,\"ticks\":\"\"},\"colorscale\":[[0.0,\"#0d0887\"],[0.1111111111111111,\"#46039f\"],[0.2222222222222222,\"#7201a8\"],[0.3333333333333333,\"#9c179e\"],[0.4444444444444444,\"#bd3786\"],[0.5555555555555556,\"#d8576b\"],[0.6666666666666666,\"#ed7953\"],[0.7777777777777778,\"#fb9f3a\"],[0.8888888888888888,\"#fdca26\"],[1.0,\"#f0f921\"]]}],\"heatmap\":[{\"type\":\"heatmap\",\"colorbar\":{\"outlinewidth\":0,\"ticks\":\"\"},\"colorscale\":[[0.0,\"#0d0887\"],[0.1111111111111111,\"#46039f\"],[0.2222222222222222,\"#7201a8\"],[0.3333333333333333,\"#9c179e\"],[0.4444444444444444,\"#bd3786\"],[0.5555555555555556,\"#d8576b\"],[0.6666666666666666,\"#ed7953\"],[0.7777777777777778,\"#fb9f3a\"],[0.8888888888888888,\"#fdca26\"],[1.0,\"#f0f921\"]]}],\"heatmapgl\":[{\"type\":\"heatmapgl\",\"colorbar\":{\"outlinewidth\":0,\"ticks\":\"\"},\"colorscale\":[[0.0,\"#0d0887\"],[0.1111111111111111,\"#46039f\"],[0.2222222222222222,\"#7201a8\"],[0.3333333333333333,\"#9c179e\"],[0.4444444444444444,\"#bd3786\"],[0.5555555555555556,\"#d8576b\"],[0.6666666666666666,\"#ed7953\"],[0.7777777777777778,\"#fb9f3a\"],[0.8888888888888888,\"#fdca26\"],[1.0,\"#f0f921\"]]}],\"contourcarpet\":[{\"type\":\"contourcarpet\",\"colorbar\":{\"outlinewidth\":0,\"ticks\":\"\"}}],\"contour\":[{\"type\":\"contour\",\"colorbar\":{\"outlinewidth\":0,\"ticks\":\"\"},\"colorscale\":[[0.0,\"#0d0887\"],[0.1111111111111111,\"#46039f\"],[0.2222222222222222,\"#7201a8\"],[0.3333333333333333,\"#9c179e\"],[0.4444444444444444,\"#bd3786\"],[0.5555555555555556,\"#d8576b\"],[0.6666666666666666,\"#ed7953\"],[0.7777777777777778,\"#fb9f3a\"],[0.8888888888888888,\"#fdca26\"],[1.0,\"#f0f921\"]]}],\"surface\":[{\"type\":\"surface\",\"colorbar\":{\"outlinewidth\":0,\"ticks\":\"\"},\"colorscale\":[[0.0,\"#0d0887\"],[0.1111111111111111,\"#46039f\"],[0.2222222222222222,\"#7201a8\"],[0.3333333333333333,\"#9c179e\"],[0.4444444444444444,\"#bd3786\"],[0.5555555555555556,\"#d8576b\"],[0.6666666666666666,\"#ed7953\"],[0.7777777777777778,\"#fb9f3a\"],[0.8888888888888888,\"#fdca26\"],[1.0,\"#f0f921\"]]}],\"mesh3d\":[{\"type\":\"mesh3d\",\"colorbar\":{\"outlinewidth\":0,\"ticks\":\"\"}}],\"scatter\":[{\"fillpattern\":{\"fillmode\":\"overlay\",\"size\":10,\"solidity\":0.2},\"type\":\"scatter\"}],\"parcoords\":[{\"type\":\"parcoords\",\"line\":{\"colorbar\":{\"outlinewidth\":0,\"ticks\":\"\"}}}],\"scatterpolargl\":[{\"type\":\"scatterpolargl\",\"marker\":{\"colorbar\":{\"outlinewidth\":0,\"ticks\":\"\"}}}],\"bar\":[{\"error_x\":{\"color\":\"#2a3f5f\"},\"error_y\":{\"color\":\"#2a3f5f\"},\"marker\":{\"line\":{\"color\":\"#E5ECF6\",\"width\":0.5},\"pattern\":{\"fillmode\":\"overlay\",\"size\":10,\"solidity\":0.2}},\"type\":\"bar\"}],\"scattergeo\":[{\"type\":\"scattergeo\",\"marker\":{\"colorbar\":{\"outlinewidth\":0,\"ticks\":\"\"}}}],\"scatterpolar\":[{\"type\":\"scatterpolar\",\"marker\":{\"colorbar\":{\"outlinewidth\":0,\"ticks\":\"\"}}}],\"histogram\":[{\"marker\":{\"pattern\":{\"fillmode\":\"overlay\",\"size\":10,\"solidity\":0.2}},\"type\":\"histogram\"}],\"scattergl\":[{\"type\":\"scattergl\",\"marker\":{\"colorbar\":{\"outlinewidth\":0,\"ticks\":\"\"}}}],\"scatter3d\":[{\"type\":\"scatter3d\",\"line\":{\"colorbar\":{\"outlinewidth\":0,\"ticks\":\"\"}},\"marker\":{\"colorbar\":{\"outlinewidth\":0,\"ticks\":\"\"}}}],\"scattermapbox\":[{\"type\":\"scattermapbox\",\"marker\":{\"colorbar\":{\"outlinewidth\":0,\"ticks\":\"\"}}}],\"scatterternary\":[{\"type\":\"scatterternary\",\"marker\":{\"colorbar\":{\"outlinewidth\":0,\"ticks\":\"\"}}}],\"scattercarpet\":[{\"type\":\"scattercarpet\",\"marker\":{\"colorbar\":{\"outlinewidth\":0,\"ticks\":\"\"}}}],\"carpet\":[{\"aaxis\":{\"endlinecolor\":\"#2a3f5f\",\"gridcolor\":\"white\",\"linecolor\":\"white\",\"minorgridcolor\":\"white\",\"startlinecolor\":\"#2a3f5f\"},\"baxis\":{\"endlinecolor\":\"#2a3f5f\",\"gridcolor\":\"white\",\"linecolor\":\"white\",\"minorgridcolor\":\"white\",\"startlinecolor\":\"#2a3f5f\"},\"type\":\"carpet\"}],\"table\":[{\"cells\":{\"fill\":{\"color\":\"#EBF0F8\"},\"line\":{\"color\":\"white\"}},\"header\":{\"fill\":{\"color\":\"#C8D4E3\"},\"line\":{\"color\":\"white\"}},\"type\":\"table\"}],\"barpolar\":[{\"marker\":{\"line\":{\"color\":\"#E5ECF6\",\"width\":0.5},\"pattern\":{\"fillmode\":\"overlay\",\"size\":10,\"solidity\":0.2}},\"type\":\"barpolar\"}],\"pie\":[{\"automargin\":true,\"type\":\"pie\"}]},\"layout\":{\"autotypenumbers\":\"strict\",\"colorway\":[\"#636efa\",\"#EF553B\",\"#00cc96\",\"#ab63fa\",\"#FFA15A\",\"#19d3f3\",\"#FF6692\",\"#B6E880\",\"#FF97FF\",\"#FECB52\"],\"font\":{\"color\":\"#2a3f5f\"},\"hovermode\":\"closest\",\"hoverlabel\":{\"align\":\"left\"},\"paper_bgcolor\":\"white\",\"plot_bgcolor\":\"#E5ECF6\",\"polar\":{\"bgcolor\":\"#E5ECF6\",\"angularaxis\":{\"gridcolor\":\"white\",\"linecolor\":\"white\",\"ticks\":\"\"},\"radialaxis\":{\"gridcolor\":\"white\",\"linecolor\":\"white\",\"ticks\":\"\"}},\"ternary\":{\"bgcolor\":\"#E5ECF6\",\"aaxis\":{\"gridcolor\":\"white\",\"linecolor\":\"white\",\"ticks\":\"\"},\"baxis\":{\"gridcolor\":\"white\",\"linecolor\":\"white\",\"ticks\":\"\"},\"caxis\":{\"gridcolor\":\"white\",\"linecolor\":\"white\",\"ticks\":\"\"}},\"coloraxis\":{\"colorbar\":{\"outlinewidth\":0,\"ticks\":\"\"}},\"colorscale\":{\"sequential\":[[0.0,\"#0d0887\"],[0.1111111111111111,\"#46039f\"],[0.2222222222222222,\"#7201a8\"],[0.3333333333333333,\"#9c179e\"],[0.4444444444444444,\"#bd3786\"],[0.5555555555555556,\"#d8576b\"],[0.6666666666666666,\"#ed7953\"],[0.7777777777777778,\"#fb9f3a\"],[0.8888888888888888,\"#fdca26\"],[1.0,\"#f0f921\"]],\"sequentialminus\":[[0.0,\"#0d0887\"],[0.1111111111111111,\"#46039f\"],[0.2222222222222222,\"#7201a8\"],[0.3333333333333333,\"#9c179e\"],[0.4444444444444444,\"#bd3786\"],[0.5555555555555556,\"#d8576b\"],[0.6666666666666666,\"#ed7953\"],[0.7777777777777778,\"#fb9f3a\"],[0.8888888888888888,\"#fdca26\"],[1.0,\"#f0f921\"]],\"diverging\":[[0,\"#8e0152\"],[0.1,\"#c51b7d\"],[0.2,\"#de77ae\"],[0.3,\"#f1b6da\"],[0.4,\"#fde0ef\"],[0.5,\"#f7f7f7\"],[0.6,\"#e6f5d0\"],[0.7,\"#b8e186\"],[0.8,\"#7fbc41\"],[0.9,\"#4d9221\"],[1,\"#276419\"]]},\"xaxis\":{\"gridcolor\":\"white\",\"linecolor\":\"white\",\"ticks\":\"\",\"title\":{\"standoff\":15},\"zerolinecolor\":\"white\",\"automargin\":true,\"zerolinewidth\":2},\"yaxis\":{\"gridcolor\":\"white\",\"linecolor\":\"white\",\"ticks\":\"\",\"title\":{\"standoff\":15},\"zerolinecolor\":\"white\",\"automargin\":true,\"zerolinewidth\":2},\"scene\":{\"xaxis\":{\"backgroundcolor\":\"#E5ECF6\",\"gridcolor\":\"white\",\"linecolor\":\"white\",\"showbackground\":true,\"ticks\":\"\",\"zerolinecolor\":\"white\",\"gridwidth\":2},\"yaxis\":{\"backgroundcolor\":\"#E5ECF6\",\"gridcolor\":\"white\",\"linecolor\":\"white\",\"showbackground\":true,\"ticks\":\"\",\"zerolinecolor\":\"white\",\"gridwidth\":2},\"zaxis\":{\"backgroundcolor\":\"#E5ECF6\",\"gridcolor\":\"white\",\"linecolor\":\"white\",\"showbackground\":true,\"ticks\":\"\",\"zerolinecolor\":\"white\",\"gridwidth\":2}},\"shapedefaults\":{\"line\":{\"color\":\"#2a3f5f\"}},\"annotationdefaults\":{\"arrowcolor\":\"#2a3f5f\",\"arrowhead\":0,\"arrowwidth\":1},\"geo\":{\"bgcolor\":\"white\",\"landcolor\":\"#E5ECF6\",\"subunitcolor\":\"white\",\"showland\":true,\"showlakes\":true,\"lakecolor\":\"white\"},\"title\":{\"x\":0.05},\"mapbox\":{\"style\":\"light\"}}},\"xaxis\":{\"anchor\":\"y\",\"domain\":[0.0,1.0],\"title\":{\"text\":\"PC 1 (58.1%)\"}},\"yaxis\":{\"anchor\":\"x\",\"domain\":[0.0,1.0],\"title\":{\"text\":\"PC 2 (32.4%)\"}},\"legend\":{\"title\":{\"text\":\"color, symbol\"},\"tracegroupgap\":0},\"margin\":{\"t\":60},\"height\":600,\"width\":600,\"plot_bgcolor\":\"rgb(243,243,243)\"},                        {\"responsive\": true}                    ).then(function(){\n",
       "                            \n",
       "var gd = document.getElementById('5629adc0-6384-4b4c-9409-d226e7d5ae4b');\n",
       "var x = new MutationObserver(function (mutations, observer) {{\n",
       "        var display = window.getComputedStyle(gd).display;\n",
       "        if (!display || display === 'none') {{\n",
       "            console.log([gd, 'removed!']);\n",
       "            Plotly.purge(gd);\n",
       "            observer.disconnect();\n",
       "        }}\n",
       "}});\n",
       "\n",
       "// Listen for the removal of the full notebook cells\n",
       "var notebookContainer = gd.closest('#notebook-container');\n",
       "if (notebookContainer) {{\n",
       "    x.observe(notebookContainer, {childList: true});\n",
       "}}\n",
       "\n",
       "// Listen for the clearing of the current output cell\n",
       "var outputEl = gd.closest('.output');\n",
       "if (outputEl) {{\n",
       "    x.observe(outputEl, {childList: true});\n",
       "}}\n",
       "\n",
       "                        })                };                });            </script>        </div>"
      ]
     },
     "metadata": {},
     "output_type": "display_data"
    },
    {
     "data": {
      "application/vnd.plotly.v1+json": {
       "config": {
        "plotlyServerURL": "https://plot.ly"
       },
       "data": [
        {
         "hovertemplate": "color=00<br>symbol=WT<br>1=%{x}<br>2=%{y}<extra></extra>",
         "legendgroup": "00, WT",
         "marker": {
          "color": "#636efa",
          "size": 13,
          "symbol": "circle"
         },
         "mode": "markers",
         "name": "00, WT",
         "orientation": "v",
         "showlegend": true,
         "type": "scatter",
         "x": [
          1.977785348663021,
          3.156847433816525,
          3.8298691419930635,
          3.757474328551392
         ],
         "xaxis": "x",
         "y": [
          -0.5291642822906555,
          0.404320728373145,
          0.18281472873472482,
          0.7362366076827731
         ],
         "yaxis": "y"
        },
        {
         "hovertemplate": "color=02<br>symbol=WT<br>1=%{x}<br>2=%{y}<extra></extra>",
         "legendgroup": "02, WT",
         "marker": {
          "color": "#EF553B",
          "size": 13,
          "symbol": "circle"
         },
         "mode": "markers",
         "name": "02, WT",
         "orientation": "v",
         "showlegend": true,
         "type": "scatter",
         "x": [
          3.2371250650848453,
          0.9273405606289189,
          2.436527017753405,
          1.4385435349091227
         ],
         "xaxis": "x",
         "y": [
          0.4150452985273073,
          0.8254999404240485,
          0.17975979652799218,
          0.10835541699811242
         ],
         "yaxis": "y"
        },
        {
         "hovertemplate": "color=04<br>symbol=WT<br>1=%{x}<br>2=%{y}<extra></extra>",
         "legendgroup": "04, WT",
         "marker": {
          "color": "#00cc96",
          "size": 13,
          "symbol": "circle"
         },
         "mode": "markers",
         "name": "04, WT",
         "orientation": "v",
         "showlegend": true,
         "type": "scatter",
         "x": [
          1.5541679980611167,
          2.8134872632655097,
          0.40359925488375953,
          2.3189307771271293
         ],
         "xaxis": "x",
         "y": [
          -0.04166421043030467,
          0.47812193836050454,
          -0.49049104016198974,
          0.3636208771809814
         ],
         "yaxis": "y"
        },
        {
         "hovertemplate": "color=06<br>symbol=WT<br>1=%{x}<br>2=%{y}<extra></extra>",
         "legendgroup": "06, WT",
         "marker": {
          "color": "#ab63fa",
          "size": 13,
          "symbol": "circle"
         },
         "mode": "markers",
         "name": "06, WT",
         "orientation": "v",
         "showlegend": true,
         "type": "scatter",
         "x": [
          0.5273796420921905,
          0.5048065879207781,
          0.1494859787969397,
          0.521569846848206
         ],
         "xaxis": "x",
         "y": [
          -0.37100117486843914,
          -0.5002929673325589,
          -0.5155923663840003,
          -0.4865157383201035
         ],
         "yaxis": "y"
        },
        {
         "hovertemplate": "color=08<br>symbol=WT<br>1=%{x}<br>2=%{y}<extra></extra>",
         "legendgroup": "08, WT",
         "marker": {
          "color": "#FFA15A",
          "size": 13,
          "symbol": "circle"
         },
         "mode": "markers",
         "name": "08, WT",
         "orientation": "v",
         "showlegend": true,
         "type": "scatter",
         "x": [
          -0.2280371800444913,
          -1.0662920748350098,
          -0.9299948573525183,
          -0.1819635488497864
         ],
         "xaxis": "x",
         "y": [
          -0.4478290294058766,
          -0.3559408733905678,
          -0.35074248291878507,
          -0.44956408545763243
         ],
         "yaxis": "y"
        },
        {
         "hovertemplate": "color=10<br>symbol=WT<br>1=%{x}<br>2=%{y}<extra></extra>",
         "legendgroup": "10, WT",
         "marker": {
          "color": "#19d3f3",
          "size": 13,
          "symbol": "circle"
         },
         "mode": "markers",
         "name": "10, WT",
         "orientation": "v",
         "showlegend": true,
         "type": "scatter",
         "x": [
          -0.7034196515337326,
          -0.6905366730747174,
          -1.2518763919892864,
          -0.747748106944352
         ],
         "xaxis": "x",
         "y": [
          -0.36454433421254034,
          -0.383663881949797,
          -0.1509750227719996,
          -0.41867298116602286
         ],
         "yaxis": "y"
        },
        {
         "hovertemplate": "color=12<br>symbol=WT<br>1=%{x}<br>2=%{y}<extra></extra>",
         "legendgroup": "12, WT",
         "marker": {
          "color": "#FF6692",
          "size": 13,
          "symbol": "circle"
         },
         "mode": "markers",
         "name": "12, WT",
         "orientation": "v",
         "showlegend": true,
         "type": "scatter",
         "x": [
          -1.446297216741375,
          -1.350993986929827,
          -1.2925262170670215,
          -1.3861189458870016
         ],
         "xaxis": "x",
         "y": [
          -0.04819498520566945,
          -0.25501910696781616,
          -0.3557381582168497,
          0.12228587060880987
         ],
         "yaxis": "y"
        },
        {
         "hovertemplate": "color=14<br>symbol=WT<br>1=%{x}<br>2=%{y}<extra></extra>",
         "legendgroup": "14, WT",
         "marker": {
          "color": "#B6E880",
          "size": 13,
          "symbol": "circle"
         },
         "mode": "markers",
         "name": "14, WT",
         "orientation": "v",
         "showlegend": true,
         "type": "scatter",
         "x": [
          -1.2326124658506479,
          -1.60905300793263,
          -1.3180833222047719,
          -1.349833597329759
         ],
         "xaxis": "x",
         "y": [
          0.5110638946542116,
          0.4721359136811502,
          0.20997511987669018,
          0.3515463372478551
         ],
         "yaxis": "y"
        },
        {
         "hovertemplate": "color=16<br>symbol=WT<br>1=%{x}<br>2=%{y}<extra></extra>",
         "legendgroup": "16, WT",
         "marker": {
          "color": "#FF97FF",
          "size": 13,
          "symbol": "circle"
         },
         "mode": "markers",
         "name": "16, WT",
         "orientation": "v",
         "showlegend": true,
         "type": "scatter",
         "x": [
          -1.612713710773884,
          -1.3012469313897526,
          -1.5209679208141844,
          -1.6041723173128861
         ],
         "xaxis": "x",
         "y": [
          0.9896874756597953,
          0.3825593191950016,
          0.9394677458899166,
          0.4634289728054266
         ],
         "yaxis": "y"
        },
        {
         "hovertemplate": "color=18<br>symbol=WT<br>1=%{x}<br>2=%{y}<extra></extra>",
         "legendgroup": "18, WT",
         "marker": {
          "color": "#FECB52",
          "size": 13,
          "symbol": "circle"
         },
         "mode": "markers",
         "name": "18, WT",
         "orientation": "v",
         "showlegend": true,
         "type": "scatter",
         "x": [
          -1.7287835468929018,
          -1.2370336714768457,
          -1.0809868158273812,
          -1.4129681223100337
         ],
         "xaxis": "x",
         "y": [
          0.4544499308536328,
          -0.07621076740319987,
          0.29814622662591217,
          0.7378261002986833
         ],
         "yaxis": "y"
        },
        {
         "hovertemplate": "color=20<br>symbol=WT<br>1=%{x}<br>2=%{y}<extra></extra>",
         "legendgroup": "20, WT",
         "marker": {
          "color": "#636efa",
          "size": 13,
          "symbol": "circle"
         },
         "mode": "markers",
         "name": "20, WT",
         "orientation": "v",
         "showlegend": true,
         "type": "scatter",
         "x": [
          -0.33499803343948403,
          -0.14535493794649398,
          -1.3618907794434083,
          -1.1685819337308083
         ],
         "xaxis": "x",
         "y": [
          -0.8729307670413335,
          -0.9599233428236782,
          0.1962556032900611,
          0.7505312808353372
         ],
         "yaxis": "y"
        },
        {
         "hovertemplate": "color=22<br>symbol=WT<br>1=%{x}<br>2=%{y}<extra></extra>",
         "legendgroup": "22, WT",
         "marker": {
          "color": "#EF553B",
          "size": 13,
          "symbol": "circle"
         },
         "mode": "markers",
         "name": "22, WT",
         "orientation": "v",
         "showlegend": true,
         "type": "scatter",
         "x": [
          1.154321399009189,
          0.8759007184570285,
          -0.34921860349340006,
          0.05914267155625273
         ],
         "xaxis": "x",
         "y": [
          -0.609319635988455,
          -0.6866396424455762,
          -0.8995684347947508,
          0.04706418761652104
         ],
         "yaxis": "y"
        }
       ],
       "layout": {
        "height": 600,
        "legend": {
         "title": {
          "text": "color, symbol"
         },
         "tracegroupgap": 0
        },
        "margin": {
         "t": 60
        },
        "plot_bgcolor": "rgb(243,243,243)",
        "template": {
         "data": {
          "bar": [
           {
            "error_x": {
             "color": "#2a3f5f"
            },
            "error_y": {
             "color": "#2a3f5f"
            },
            "marker": {
             "line": {
              "color": "#E5ECF6",
              "width": 0.5
             },
             "pattern": {
              "fillmode": "overlay",
              "size": 10,
              "solidity": 0.2
             }
            },
            "type": "bar"
           }
          ],
          "barpolar": [
           {
            "marker": {
             "line": {
              "color": "#E5ECF6",
              "width": 0.5
             },
             "pattern": {
              "fillmode": "overlay",
              "size": 10,
              "solidity": 0.2
             }
            },
            "type": "barpolar"
           }
          ],
          "carpet": [
           {
            "aaxis": {
             "endlinecolor": "#2a3f5f",
             "gridcolor": "white",
             "linecolor": "white",
             "minorgridcolor": "white",
             "startlinecolor": "#2a3f5f"
            },
            "baxis": {
             "endlinecolor": "#2a3f5f",
             "gridcolor": "white",
             "linecolor": "white",
             "minorgridcolor": "white",
             "startlinecolor": "#2a3f5f"
            },
            "type": "carpet"
           }
          ],
          "choropleth": [
           {
            "colorbar": {
             "outlinewidth": 0,
             "ticks": ""
            },
            "type": "choropleth"
           }
          ],
          "contour": [
           {
            "colorbar": {
             "outlinewidth": 0,
             "ticks": ""
            },
            "colorscale": [
             [
              0,
              "#0d0887"
             ],
             [
              0.1111111111111111,
              "#46039f"
             ],
             [
              0.2222222222222222,
              "#7201a8"
             ],
             [
              0.3333333333333333,
              "#9c179e"
             ],
             [
              0.4444444444444444,
              "#bd3786"
             ],
             [
              0.5555555555555556,
              "#d8576b"
             ],
             [
              0.6666666666666666,
              "#ed7953"
             ],
             [
              0.7777777777777778,
              "#fb9f3a"
             ],
             [
              0.8888888888888888,
              "#fdca26"
             ],
             [
              1,
              "#f0f921"
             ]
            ],
            "type": "contour"
           }
          ],
          "contourcarpet": [
           {
            "colorbar": {
             "outlinewidth": 0,
             "ticks": ""
            },
            "type": "contourcarpet"
           }
          ],
          "heatmap": [
           {
            "colorbar": {
             "outlinewidth": 0,
             "ticks": ""
            },
            "colorscale": [
             [
              0,
              "#0d0887"
             ],
             [
              0.1111111111111111,
              "#46039f"
             ],
             [
              0.2222222222222222,
              "#7201a8"
             ],
             [
              0.3333333333333333,
              "#9c179e"
             ],
             [
              0.4444444444444444,
              "#bd3786"
             ],
             [
              0.5555555555555556,
              "#d8576b"
             ],
             [
              0.6666666666666666,
              "#ed7953"
             ],
             [
              0.7777777777777778,
              "#fb9f3a"
             ],
             [
              0.8888888888888888,
              "#fdca26"
             ],
             [
              1,
              "#f0f921"
             ]
            ],
            "type": "heatmap"
           }
          ],
          "heatmapgl": [
           {
            "colorbar": {
             "outlinewidth": 0,
             "ticks": ""
            },
            "colorscale": [
             [
              0,
              "#0d0887"
             ],
             [
              0.1111111111111111,
              "#46039f"
             ],
             [
              0.2222222222222222,
              "#7201a8"
             ],
             [
              0.3333333333333333,
              "#9c179e"
             ],
             [
              0.4444444444444444,
              "#bd3786"
             ],
             [
              0.5555555555555556,
              "#d8576b"
             ],
             [
              0.6666666666666666,
              "#ed7953"
             ],
             [
              0.7777777777777778,
              "#fb9f3a"
             ],
             [
              0.8888888888888888,
              "#fdca26"
             ],
             [
              1,
              "#f0f921"
             ]
            ],
            "type": "heatmapgl"
           }
          ],
          "histogram": [
           {
            "marker": {
             "pattern": {
              "fillmode": "overlay",
              "size": 10,
              "solidity": 0.2
             }
            },
            "type": "histogram"
           }
          ],
          "histogram2d": [
           {
            "colorbar": {
             "outlinewidth": 0,
             "ticks": ""
            },
            "colorscale": [
             [
              0,
              "#0d0887"
             ],
             [
              0.1111111111111111,
              "#46039f"
             ],
             [
              0.2222222222222222,
              "#7201a8"
             ],
             [
              0.3333333333333333,
              "#9c179e"
             ],
             [
              0.4444444444444444,
              "#bd3786"
             ],
             [
              0.5555555555555556,
              "#d8576b"
             ],
             [
              0.6666666666666666,
              "#ed7953"
             ],
             [
              0.7777777777777778,
              "#fb9f3a"
             ],
             [
              0.8888888888888888,
              "#fdca26"
             ],
             [
              1,
              "#f0f921"
             ]
            ],
            "type": "histogram2d"
           }
          ],
          "histogram2dcontour": [
           {
            "colorbar": {
             "outlinewidth": 0,
             "ticks": ""
            },
            "colorscale": [
             [
              0,
              "#0d0887"
             ],
             [
              0.1111111111111111,
              "#46039f"
             ],
             [
              0.2222222222222222,
              "#7201a8"
             ],
             [
              0.3333333333333333,
              "#9c179e"
             ],
             [
              0.4444444444444444,
              "#bd3786"
             ],
             [
              0.5555555555555556,
              "#d8576b"
             ],
             [
              0.6666666666666666,
              "#ed7953"
             ],
             [
              0.7777777777777778,
              "#fb9f3a"
             ],
             [
              0.8888888888888888,
              "#fdca26"
             ],
             [
              1,
              "#f0f921"
             ]
            ],
            "type": "histogram2dcontour"
           }
          ],
          "mesh3d": [
           {
            "colorbar": {
             "outlinewidth": 0,
             "ticks": ""
            },
            "type": "mesh3d"
           }
          ],
          "parcoords": [
           {
            "line": {
             "colorbar": {
              "outlinewidth": 0,
              "ticks": ""
             }
            },
            "type": "parcoords"
           }
          ],
          "pie": [
           {
            "automargin": true,
            "type": "pie"
           }
          ],
          "scatter": [
           {
            "fillpattern": {
             "fillmode": "overlay",
             "size": 10,
             "solidity": 0.2
            },
            "type": "scatter"
           }
          ],
          "scatter3d": [
           {
            "line": {
             "colorbar": {
              "outlinewidth": 0,
              "ticks": ""
             }
            },
            "marker": {
             "colorbar": {
              "outlinewidth": 0,
              "ticks": ""
             }
            },
            "type": "scatter3d"
           }
          ],
          "scattercarpet": [
           {
            "marker": {
             "colorbar": {
              "outlinewidth": 0,
              "ticks": ""
             }
            },
            "type": "scattercarpet"
           }
          ],
          "scattergeo": [
           {
            "marker": {
             "colorbar": {
              "outlinewidth": 0,
              "ticks": ""
             }
            },
            "type": "scattergeo"
           }
          ],
          "scattergl": [
           {
            "marker": {
             "colorbar": {
              "outlinewidth": 0,
              "ticks": ""
             }
            },
            "type": "scattergl"
           }
          ],
          "scattermapbox": [
           {
            "marker": {
             "colorbar": {
              "outlinewidth": 0,
              "ticks": ""
             }
            },
            "type": "scattermapbox"
           }
          ],
          "scatterpolar": [
           {
            "marker": {
             "colorbar": {
              "outlinewidth": 0,
              "ticks": ""
             }
            },
            "type": "scatterpolar"
           }
          ],
          "scatterpolargl": [
           {
            "marker": {
             "colorbar": {
              "outlinewidth": 0,
              "ticks": ""
             }
            },
            "type": "scatterpolargl"
           }
          ],
          "scatterternary": [
           {
            "marker": {
             "colorbar": {
              "outlinewidth": 0,
              "ticks": ""
             }
            },
            "type": "scatterternary"
           }
          ],
          "surface": [
           {
            "colorbar": {
             "outlinewidth": 0,
             "ticks": ""
            },
            "colorscale": [
             [
              0,
              "#0d0887"
             ],
             [
              0.1111111111111111,
              "#46039f"
             ],
             [
              0.2222222222222222,
              "#7201a8"
             ],
             [
              0.3333333333333333,
              "#9c179e"
             ],
             [
              0.4444444444444444,
              "#bd3786"
             ],
             [
              0.5555555555555556,
              "#d8576b"
             ],
             [
              0.6666666666666666,
              "#ed7953"
             ],
             [
              0.7777777777777778,
              "#fb9f3a"
             ],
             [
              0.8888888888888888,
              "#fdca26"
             ],
             [
              1,
              "#f0f921"
             ]
            ],
            "type": "surface"
           }
          ],
          "table": [
           {
            "cells": {
             "fill": {
              "color": "#EBF0F8"
             },
             "line": {
              "color": "white"
             }
            },
            "header": {
             "fill": {
              "color": "#C8D4E3"
             },
             "line": {
              "color": "white"
             }
            },
            "type": "table"
           }
          ]
         },
         "layout": {
          "annotationdefaults": {
           "arrowcolor": "#2a3f5f",
           "arrowhead": 0,
           "arrowwidth": 1
          },
          "autotypenumbers": "strict",
          "coloraxis": {
           "colorbar": {
            "outlinewidth": 0,
            "ticks": ""
           }
          },
          "colorscale": {
           "diverging": [
            [
             0,
             "#8e0152"
            ],
            [
             0.1,
             "#c51b7d"
            ],
            [
             0.2,
             "#de77ae"
            ],
            [
             0.3,
             "#f1b6da"
            ],
            [
             0.4,
             "#fde0ef"
            ],
            [
             0.5,
             "#f7f7f7"
            ],
            [
             0.6,
             "#e6f5d0"
            ],
            [
             0.7,
             "#b8e186"
            ],
            [
             0.8,
             "#7fbc41"
            ],
            [
             0.9,
             "#4d9221"
            ],
            [
             1,
             "#276419"
            ]
           ],
           "sequential": [
            [
             0,
             "#0d0887"
            ],
            [
             0.1111111111111111,
             "#46039f"
            ],
            [
             0.2222222222222222,
             "#7201a8"
            ],
            [
             0.3333333333333333,
             "#9c179e"
            ],
            [
             0.4444444444444444,
             "#bd3786"
            ],
            [
             0.5555555555555556,
             "#d8576b"
            ],
            [
             0.6666666666666666,
             "#ed7953"
            ],
            [
             0.7777777777777778,
             "#fb9f3a"
            ],
            [
             0.8888888888888888,
             "#fdca26"
            ],
            [
             1,
             "#f0f921"
            ]
           ],
           "sequentialminus": [
            [
             0,
             "#0d0887"
            ],
            [
             0.1111111111111111,
             "#46039f"
            ],
            [
             0.2222222222222222,
             "#7201a8"
            ],
            [
             0.3333333333333333,
             "#9c179e"
            ],
            [
             0.4444444444444444,
             "#bd3786"
            ],
            [
             0.5555555555555556,
             "#d8576b"
            ],
            [
             0.6666666666666666,
             "#ed7953"
            ],
            [
             0.7777777777777778,
             "#fb9f3a"
            ],
            [
             0.8888888888888888,
             "#fdca26"
            ],
            [
             1,
             "#f0f921"
            ]
           ]
          },
          "colorway": [
           "#636efa",
           "#EF553B",
           "#00cc96",
           "#ab63fa",
           "#FFA15A",
           "#19d3f3",
           "#FF6692",
           "#B6E880",
           "#FF97FF",
           "#FECB52"
          ],
          "font": {
           "color": "#2a3f5f"
          },
          "geo": {
           "bgcolor": "white",
           "lakecolor": "white",
           "landcolor": "#E5ECF6",
           "showlakes": true,
           "showland": true,
           "subunitcolor": "white"
          },
          "hoverlabel": {
           "align": "left"
          },
          "hovermode": "closest",
          "mapbox": {
           "style": "light"
          },
          "paper_bgcolor": "white",
          "plot_bgcolor": "#E5ECF6",
          "polar": {
           "angularaxis": {
            "gridcolor": "white",
            "linecolor": "white",
            "ticks": ""
           },
           "bgcolor": "#E5ECF6",
           "radialaxis": {
            "gridcolor": "white",
            "linecolor": "white",
            "ticks": ""
           }
          },
          "scene": {
           "xaxis": {
            "backgroundcolor": "#E5ECF6",
            "gridcolor": "white",
            "gridwidth": 2,
            "linecolor": "white",
            "showbackground": true,
            "ticks": "",
            "zerolinecolor": "white"
           },
           "yaxis": {
            "backgroundcolor": "#E5ECF6",
            "gridcolor": "white",
            "gridwidth": 2,
            "linecolor": "white",
            "showbackground": true,
            "ticks": "",
            "zerolinecolor": "white"
           },
           "zaxis": {
            "backgroundcolor": "#E5ECF6",
            "gridcolor": "white",
            "gridwidth": 2,
            "linecolor": "white",
            "showbackground": true,
            "ticks": "",
            "zerolinecolor": "white"
           }
          },
          "shapedefaults": {
           "line": {
            "color": "#2a3f5f"
           }
          },
          "ternary": {
           "aaxis": {
            "gridcolor": "white",
            "linecolor": "white",
            "ticks": ""
           },
           "baxis": {
            "gridcolor": "white",
            "linecolor": "white",
            "ticks": ""
           },
           "bgcolor": "#E5ECF6",
           "caxis": {
            "gridcolor": "white",
            "linecolor": "white",
            "ticks": ""
           }
          },
          "title": {
           "x": 0.05
          },
          "xaxis": {
           "automargin": true,
           "gridcolor": "white",
           "linecolor": "white",
           "ticks": "",
           "title": {
            "standoff": 15
           },
           "zerolinecolor": "white",
           "zerolinewidth": 2
          },
          "yaxis": {
           "automargin": true,
           "gridcolor": "white",
           "linecolor": "white",
           "ticks": "",
           "title": {
            "standoff": 15
           },
           "zerolinecolor": "white",
           "zerolinewidth": 2
          }
         }
        },
        "width": 600,
        "xaxis": {
         "anchor": "y",
         "domain": [
          0,
          1
         ],
         "title": {
          "text": "PC 2 (32.4%)"
         }
        },
        "yaxis": {
         "anchor": "x",
         "domain": [
          0,
          1
         ],
         "title": {
          "text": "PC 3 (3.3%)"
         }
        }
       }
      },
      "text/html": [
       "<div>                            <div id=\"eef98588-c152-422e-9824-d424c515e7d5\" class=\"plotly-graph-div\" style=\"height:600px; width:600px;\"></div>            <script type=\"text/javascript\">                require([\"plotly\"], function(Plotly) {                    window.PLOTLYENV=window.PLOTLYENV || {};                                    if (document.getElementById(\"eef98588-c152-422e-9824-d424c515e7d5\")) {                    Plotly.newPlot(                        \"eef98588-c152-422e-9824-d424c515e7d5\",                        [{\"hovertemplate\":\"color=00<br>symbol=WT<br>1=%{x}<br>2=%{y}<extra></extra>\",\"legendgroup\":\"00, WT\",\"marker\":{\"color\":\"#636efa\",\"symbol\":\"circle\",\"size\":13},\"mode\":\"markers\",\"name\":\"00, WT\",\"orientation\":\"v\",\"showlegend\":true,\"x\":[1.977785348663021,3.156847433816525,3.8298691419930635,3.757474328551392],\"xaxis\":\"x\",\"y\":[-0.5291642822906555,0.404320728373145,0.18281472873472482,0.7362366076827731],\"yaxis\":\"y\",\"type\":\"scatter\"},{\"hovertemplate\":\"color=02<br>symbol=WT<br>1=%{x}<br>2=%{y}<extra></extra>\",\"legendgroup\":\"02, WT\",\"marker\":{\"color\":\"#EF553B\",\"symbol\":\"circle\",\"size\":13},\"mode\":\"markers\",\"name\":\"02, WT\",\"orientation\":\"v\",\"showlegend\":true,\"x\":[3.2371250650848453,0.9273405606289189,2.436527017753405,1.4385435349091227],\"xaxis\":\"x\",\"y\":[0.4150452985273073,0.8254999404240485,0.17975979652799218,0.10835541699811242],\"yaxis\":\"y\",\"type\":\"scatter\"},{\"hovertemplate\":\"color=04<br>symbol=WT<br>1=%{x}<br>2=%{y}<extra></extra>\",\"legendgroup\":\"04, WT\",\"marker\":{\"color\":\"#00cc96\",\"symbol\":\"circle\",\"size\":13},\"mode\":\"markers\",\"name\":\"04, WT\",\"orientation\":\"v\",\"showlegend\":true,\"x\":[1.5541679980611167,2.8134872632655097,0.40359925488375953,2.3189307771271293],\"xaxis\":\"x\",\"y\":[-0.04166421043030467,0.47812193836050454,-0.49049104016198974,0.3636208771809814],\"yaxis\":\"y\",\"type\":\"scatter\"},{\"hovertemplate\":\"color=06<br>symbol=WT<br>1=%{x}<br>2=%{y}<extra></extra>\",\"legendgroup\":\"06, WT\",\"marker\":{\"color\":\"#ab63fa\",\"symbol\":\"circle\",\"size\":13},\"mode\":\"markers\",\"name\":\"06, WT\",\"orientation\":\"v\",\"showlegend\":true,\"x\":[0.5273796420921905,0.5048065879207781,0.1494859787969397,0.521569846848206],\"xaxis\":\"x\",\"y\":[-0.37100117486843914,-0.5002929673325589,-0.5155923663840003,-0.4865157383201035],\"yaxis\":\"y\",\"type\":\"scatter\"},{\"hovertemplate\":\"color=08<br>symbol=WT<br>1=%{x}<br>2=%{y}<extra></extra>\",\"legendgroup\":\"08, WT\",\"marker\":{\"color\":\"#FFA15A\",\"symbol\":\"circle\",\"size\":13},\"mode\":\"markers\",\"name\":\"08, WT\",\"orientation\":\"v\",\"showlegend\":true,\"x\":[-0.2280371800444913,-1.0662920748350098,-0.9299948573525183,-0.1819635488497864],\"xaxis\":\"x\",\"y\":[-0.4478290294058766,-0.3559408733905678,-0.35074248291878507,-0.44956408545763243],\"yaxis\":\"y\",\"type\":\"scatter\"},{\"hovertemplate\":\"color=10<br>symbol=WT<br>1=%{x}<br>2=%{y}<extra></extra>\",\"legendgroup\":\"10, WT\",\"marker\":{\"color\":\"#19d3f3\",\"symbol\":\"circle\",\"size\":13},\"mode\":\"markers\",\"name\":\"10, WT\",\"orientation\":\"v\",\"showlegend\":true,\"x\":[-0.7034196515337326,-0.6905366730747174,-1.2518763919892864,-0.747748106944352],\"xaxis\":\"x\",\"y\":[-0.36454433421254034,-0.383663881949797,-0.1509750227719996,-0.41867298116602286],\"yaxis\":\"y\",\"type\":\"scatter\"},{\"hovertemplate\":\"color=12<br>symbol=WT<br>1=%{x}<br>2=%{y}<extra></extra>\",\"legendgroup\":\"12, WT\",\"marker\":{\"color\":\"#FF6692\",\"symbol\":\"circle\",\"size\":13},\"mode\":\"markers\",\"name\":\"12, WT\",\"orientation\":\"v\",\"showlegend\":true,\"x\":[-1.446297216741375,-1.350993986929827,-1.2925262170670215,-1.3861189458870016],\"xaxis\":\"x\",\"y\":[-0.04819498520566945,-0.25501910696781616,-0.3557381582168497,0.12228587060880987],\"yaxis\":\"y\",\"type\":\"scatter\"},{\"hovertemplate\":\"color=14<br>symbol=WT<br>1=%{x}<br>2=%{y}<extra></extra>\",\"legendgroup\":\"14, WT\",\"marker\":{\"color\":\"#B6E880\",\"symbol\":\"circle\",\"size\":13},\"mode\":\"markers\",\"name\":\"14, WT\",\"orientation\":\"v\",\"showlegend\":true,\"x\":[-1.2326124658506479,-1.60905300793263,-1.3180833222047719,-1.349833597329759],\"xaxis\":\"x\",\"y\":[0.5110638946542116,0.4721359136811502,0.20997511987669018,0.3515463372478551],\"yaxis\":\"y\",\"type\":\"scatter\"},{\"hovertemplate\":\"color=16<br>symbol=WT<br>1=%{x}<br>2=%{y}<extra></extra>\",\"legendgroup\":\"16, WT\",\"marker\":{\"color\":\"#FF97FF\",\"symbol\":\"circle\",\"size\":13},\"mode\":\"markers\",\"name\":\"16, WT\",\"orientation\":\"v\",\"showlegend\":true,\"x\":[-1.612713710773884,-1.3012469313897526,-1.5209679208141844,-1.6041723173128861],\"xaxis\":\"x\",\"y\":[0.9896874756597953,0.3825593191950016,0.9394677458899166,0.4634289728054266],\"yaxis\":\"y\",\"type\":\"scatter\"},{\"hovertemplate\":\"color=18<br>symbol=WT<br>1=%{x}<br>2=%{y}<extra></extra>\",\"legendgroup\":\"18, WT\",\"marker\":{\"color\":\"#FECB52\",\"symbol\":\"circle\",\"size\":13},\"mode\":\"markers\",\"name\":\"18, WT\",\"orientation\":\"v\",\"showlegend\":true,\"x\":[-1.7287835468929018,-1.2370336714768457,-1.0809868158273812,-1.4129681223100337],\"xaxis\":\"x\",\"y\":[0.4544499308536328,-0.07621076740319987,0.29814622662591217,0.7378261002986833],\"yaxis\":\"y\",\"type\":\"scatter\"},{\"hovertemplate\":\"color=20<br>symbol=WT<br>1=%{x}<br>2=%{y}<extra></extra>\",\"legendgroup\":\"20, WT\",\"marker\":{\"color\":\"#636efa\",\"symbol\":\"circle\",\"size\":13},\"mode\":\"markers\",\"name\":\"20, WT\",\"orientation\":\"v\",\"showlegend\":true,\"x\":[-0.33499803343948403,-0.14535493794649398,-1.3618907794434083,-1.1685819337308083],\"xaxis\":\"x\",\"y\":[-0.8729307670413335,-0.9599233428236782,0.1962556032900611,0.7505312808353372],\"yaxis\":\"y\",\"type\":\"scatter\"},{\"hovertemplate\":\"color=22<br>symbol=WT<br>1=%{x}<br>2=%{y}<extra></extra>\",\"legendgroup\":\"22, WT\",\"marker\":{\"color\":\"#EF553B\",\"symbol\":\"circle\",\"size\":13},\"mode\":\"markers\",\"name\":\"22, WT\",\"orientation\":\"v\",\"showlegend\":true,\"x\":[1.154321399009189,0.8759007184570285,-0.34921860349340006,0.05914267155625273],\"xaxis\":\"x\",\"y\":[-0.609319635988455,-0.6866396424455762,-0.8995684347947508,0.04706418761652104],\"yaxis\":\"y\",\"type\":\"scatter\"}],                        {\"template\":{\"data\":{\"histogram2dcontour\":[{\"type\":\"histogram2dcontour\",\"colorbar\":{\"outlinewidth\":0,\"ticks\":\"\"},\"colorscale\":[[0.0,\"#0d0887\"],[0.1111111111111111,\"#46039f\"],[0.2222222222222222,\"#7201a8\"],[0.3333333333333333,\"#9c179e\"],[0.4444444444444444,\"#bd3786\"],[0.5555555555555556,\"#d8576b\"],[0.6666666666666666,\"#ed7953\"],[0.7777777777777778,\"#fb9f3a\"],[0.8888888888888888,\"#fdca26\"],[1.0,\"#f0f921\"]]}],\"choropleth\":[{\"type\":\"choropleth\",\"colorbar\":{\"outlinewidth\":0,\"ticks\":\"\"}}],\"histogram2d\":[{\"type\":\"histogram2d\",\"colorbar\":{\"outlinewidth\":0,\"ticks\":\"\"},\"colorscale\":[[0.0,\"#0d0887\"],[0.1111111111111111,\"#46039f\"],[0.2222222222222222,\"#7201a8\"],[0.3333333333333333,\"#9c179e\"],[0.4444444444444444,\"#bd3786\"],[0.5555555555555556,\"#d8576b\"],[0.6666666666666666,\"#ed7953\"],[0.7777777777777778,\"#fb9f3a\"],[0.8888888888888888,\"#fdca26\"],[1.0,\"#f0f921\"]]}],\"heatmap\":[{\"type\":\"heatmap\",\"colorbar\":{\"outlinewidth\":0,\"ticks\":\"\"},\"colorscale\":[[0.0,\"#0d0887\"],[0.1111111111111111,\"#46039f\"],[0.2222222222222222,\"#7201a8\"],[0.3333333333333333,\"#9c179e\"],[0.4444444444444444,\"#bd3786\"],[0.5555555555555556,\"#d8576b\"],[0.6666666666666666,\"#ed7953\"],[0.7777777777777778,\"#fb9f3a\"],[0.8888888888888888,\"#fdca26\"],[1.0,\"#f0f921\"]]}],\"heatmapgl\":[{\"type\":\"heatmapgl\",\"colorbar\":{\"outlinewidth\":0,\"ticks\":\"\"},\"colorscale\":[[0.0,\"#0d0887\"],[0.1111111111111111,\"#46039f\"],[0.2222222222222222,\"#7201a8\"],[0.3333333333333333,\"#9c179e\"],[0.4444444444444444,\"#bd3786\"],[0.5555555555555556,\"#d8576b\"],[0.6666666666666666,\"#ed7953\"],[0.7777777777777778,\"#fb9f3a\"],[0.8888888888888888,\"#fdca26\"],[1.0,\"#f0f921\"]]}],\"contourcarpet\":[{\"type\":\"contourcarpet\",\"colorbar\":{\"outlinewidth\":0,\"ticks\":\"\"}}],\"contour\":[{\"type\":\"contour\",\"colorbar\":{\"outlinewidth\":0,\"ticks\":\"\"},\"colorscale\":[[0.0,\"#0d0887\"],[0.1111111111111111,\"#46039f\"],[0.2222222222222222,\"#7201a8\"],[0.3333333333333333,\"#9c179e\"],[0.4444444444444444,\"#bd3786\"],[0.5555555555555556,\"#d8576b\"],[0.6666666666666666,\"#ed7953\"],[0.7777777777777778,\"#fb9f3a\"],[0.8888888888888888,\"#fdca26\"],[1.0,\"#f0f921\"]]}],\"surface\":[{\"type\":\"surface\",\"colorbar\":{\"outlinewidth\":0,\"ticks\":\"\"},\"colorscale\":[[0.0,\"#0d0887\"],[0.1111111111111111,\"#46039f\"],[0.2222222222222222,\"#7201a8\"],[0.3333333333333333,\"#9c179e\"],[0.4444444444444444,\"#bd3786\"],[0.5555555555555556,\"#d8576b\"],[0.6666666666666666,\"#ed7953\"],[0.7777777777777778,\"#fb9f3a\"],[0.8888888888888888,\"#fdca26\"],[1.0,\"#f0f921\"]]}],\"mesh3d\":[{\"type\":\"mesh3d\",\"colorbar\":{\"outlinewidth\":0,\"ticks\":\"\"}}],\"scatter\":[{\"fillpattern\":{\"fillmode\":\"overlay\",\"size\":10,\"solidity\":0.2},\"type\":\"scatter\"}],\"parcoords\":[{\"type\":\"parcoords\",\"line\":{\"colorbar\":{\"outlinewidth\":0,\"ticks\":\"\"}}}],\"scatterpolargl\":[{\"type\":\"scatterpolargl\",\"marker\":{\"colorbar\":{\"outlinewidth\":0,\"ticks\":\"\"}}}],\"bar\":[{\"error_x\":{\"color\":\"#2a3f5f\"},\"error_y\":{\"color\":\"#2a3f5f\"},\"marker\":{\"line\":{\"color\":\"#E5ECF6\",\"width\":0.5},\"pattern\":{\"fillmode\":\"overlay\",\"size\":10,\"solidity\":0.2}},\"type\":\"bar\"}],\"scattergeo\":[{\"type\":\"scattergeo\",\"marker\":{\"colorbar\":{\"outlinewidth\":0,\"ticks\":\"\"}}}],\"scatterpolar\":[{\"type\":\"scatterpolar\",\"marker\":{\"colorbar\":{\"outlinewidth\":0,\"ticks\":\"\"}}}],\"histogram\":[{\"marker\":{\"pattern\":{\"fillmode\":\"overlay\",\"size\":10,\"solidity\":0.2}},\"type\":\"histogram\"}],\"scattergl\":[{\"type\":\"scattergl\",\"marker\":{\"colorbar\":{\"outlinewidth\":0,\"ticks\":\"\"}}}],\"scatter3d\":[{\"type\":\"scatter3d\",\"line\":{\"colorbar\":{\"outlinewidth\":0,\"ticks\":\"\"}},\"marker\":{\"colorbar\":{\"outlinewidth\":0,\"ticks\":\"\"}}}],\"scattermapbox\":[{\"type\":\"scattermapbox\",\"marker\":{\"colorbar\":{\"outlinewidth\":0,\"ticks\":\"\"}}}],\"scatterternary\":[{\"type\":\"scatterternary\",\"marker\":{\"colorbar\":{\"outlinewidth\":0,\"ticks\":\"\"}}}],\"scattercarpet\":[{\"type\":\"scattercarpet\",\"marker\":{\"colorbar\":{\"outlinewidth\":0,\"ticks\":\"\"}}}],\"carpet\":[{\"aaxis\":{\"endlinecolor\":\"#2a3f5f\",\"gridcolor\":\"white\",\"linecolor\":\"white\",\"minorgridcolor\":\"white\",\"startlinecolor\":\"#2a3f5f\"},\"baxis\":{\"endlinecolor\":\"#2a3f5f\",\"gridcolor\":\"white\",\"linecolor\":\"white\",\"minorgridcolor\":\"white\",\"startlinecolor\":\"#2a3f5f\"},\"type\":\"carpet\"}],\"table\":[{\"cells\":{\"fill\":{\"color\":\"#EBF0F8\"},\"line\":{\"color\":\"white\"}},\"header\":{\"fill\":{\"color\":\"#C8D4E3\"},\"line\":{\"color\":\"white\"}},\"type\":\"table\"}],\"barpolar\":[{\"marker\":{\"line\":{\"color\":\"#E5ECF6\",\"width\":0.5},\"pattern\":{\"fillmode\":\"overlay\",\"size\":10,\"solidity\":0.2}},\"type\":\"barpolar\"}],\"pie\":[{\"automargin\":true,\"type\":\"pie\"}]},\"layout\":{\"autotypenumbers\":\"strict\",\"colorway\":[\"#636efa\",\"#EF553B\",\"#00cc96\",\"#ab63fa\",\"#FFA15A\",\"#19d3f3\",\"#FF6692\",\"#B6E880\",\"#FF97FF\",\"#FECB52\"],\"font\":{\"color\":\"#2a3f5f\"},\"hovermode\":\"closest\",\"hoverlabel\":{\"align\":\"left\"},\"paper_bgcolor\":\"white\",\"plot_bgcolor\":\"#E5ECF6\",\"polar\":{\"bgcolor\":\"#E5ECF6\",\"angularaxis\":{\"gridcolor\":\"white\",\"linecolor\":\"white\",\"ticks\":\"\"},\"radialaxis\":{\"gridcolor\":\"white\",\"linecolor\":\"white\",\"ticks\":\"\"}},\"ternary\":{\"bgcolor\":\"#E5ECF6\",\"aaxis\":{\"gridcolor\":\"white\",\"linecolor\":\"white\",\"ticks\":\"\"},\"baxis\":{\"gridcolor\":\"white\",\"linecolor\":\"white\",\"ticks\":\"\"},\"caxis\":{\"gridcolor\":\"white\",\"linecolor\":\"white\",\"ticks\":\"\"}},\"coloraxis\":{\"colorbar\":{\"outlinewidth\":0,\"ticks\":\"\"}},\"colorscale\":{\"sequential\":[[0.0,\"#0d0887\"],[0.1111111111111111,\"#46039f\"],[0.2222222222222222,\"#7201a8\"],[0.3333333333333333,\"#9c179e\"],[0.4444444444444444,\"#bd3786\"],[0.5555555555555556,\"#d8576b\"],[0.6666666666666666,\"#ed7953\"],[0.7777777777777778,\"#fb9f3a\"],[0.8888888888888888,\"#fdca26\"],[1.0,\"#f0f921\"]],\"sequentialminus\":[[0.0,\"#0d0887\"],[0.1111111111111111,\"#46039f\"],[0.2222222222222222,\"#7201a8\"],[0.3333333333333333,\"#9c179e\"],[0.4444444444444444,\"#bd3786\"],[0.5555555555555556,\"#d8576b\"],[0.6666666666666666,\"#ed7953\"],[0.7777777777777778,\"#fb9f3a\"],[0.8888888888888888,\"#fdca26\"],[1.0,\"#f0f921\"]],\"diverging\":[[0,\"#8e0152\"],[0.1,\"#c51b7d\"],[0.2,\"#de77ae\"],[0.3,\"#f1b6da\"],[0.4,\"#fde0ef\"],[0.5,\"#f7f7f7\"],[0.6,\"#e6f5d0\"],[0.7,\"#b8e186\"],[0.8,\"#7fbc41\"],[0.9,\"#4d9221\"],[1,\"#276419\"]]},\"xaxis\":{\"gridcolor\":\"white\",\"linecolor\":\"white\",\"ticks\":\"\",\"title\":{\"standoff\":15},\"zerolinecolor\":\"white\",\"automargin\":true,\"zerolinewidth\":2},\"yaxis\":{\"gridcolor\":\"white\",\"linecolor\":\"white\",\"ticks\":\"\",\"title\":{\"standoff\":15},\"zerolinecolor\":\"white\",\"automargin\":true,\"zerolinewidth\":2},\"scene\":{\"xaxis\":{\"backgroundcolor\":\"#E5ECF6\",\"gridcolor\":\"white\",\"linecolor\":\"white\",\"showbackground\":true,\"ticks\":\"\",\"zerolinecolor\":\"white\",\"gridwidth\":2},\"yaxis\":{\"backgroundcolor\":\"#E5ECF6\",\"gridcolor\":\"white\",\"linecolor\":\"white\",\"showbackground\":true,\"ticks\":\"\",\"zerolinecolor\":\"white\",\"gridwidth\":2},\"zaxis\":{\"backgroundcolor\":\"#E5ECF6\",\"gridcolor\":\"white\",\"linecolor\":\"white\",\"showbackground\":true,\"ticks\":\"\",\"zerolinecolor\":\"white\",\"gridwidth\":2}},\"shapedefaults\":{\"line\":{\"color\":\"#2a3f5f\"}},\"annotationdefaults\":{\"arrowcolor\":\"#2a3f5f\",\"arrowhead\":0,\"arrowwidth\":1},\"geo\":{\"bgcolor\":\"white\",\"landcolor\":\"#E5ECF6\",\"subunitcolor\":\"white\",\"showland\":true,\"showlakes\":true,\"lakecolor\":\"white\"},\"title\":{\"x\":0.05},\"mapbox\":{\"style\":\"light\"}}},\"xaxis\":{\"anchor\":\"y\",\"domain\":[0.0,1.0],\"title\":{\"text\":\"PC 2 (32.4%)\"}},\"yaxis\":{\"anchor\":\"x\",\"domain\":[0.0,1.0],\"title\":{\"text\":\"PC 3 (3.3%)\"}},\"legend\":{\"title\":{\"text\":\"color, symbol\"},\"tracegroupgap\":0},\"margin\":{\"t\":60},\"height\":600,\"width\":600,\"plot_bgcolor\":\"rgb(243,243,243)\"},                        {\"responsive\": true}                    ).then(function(){\n",
       "                            \n",
       "var gd = document.getElementById('eef98588-c152-422e-9824-d424c515e7d5');\n",
       "var x = new MutationObserver(function (mutations, observer) {{\n",
       "        var display = window.getComputedStyle(gd).display;\n",
       "        if (!display || display === 'none') {{\n",
       "            console.log([gd, 'removed!']);\n",
       "            Plotly.purge(gd);\n",
       "            observer.disconnect();\n",
       "        }}\n",
       "}});\n",
       "\n",
       "// Listen for the removal of the full notebook cells\n",
       "var notebookContainer = gd.closest('#notebook-container');\n",
       "if (notebookContainer) {{\n",
       "    x.observe(notebookContainer, {childList: true});\n",
       "}}\n",
       "\n",
       "// Listen for the clearing of the current output cell\n",
       "var outputEl = gd.closest('.output');\n",
       "if (outputEl) {{\n",
       "    x.observe(outputEl, {childList: true});\n",
       "}}\n",
       "\n",
       "                        })                };                });            </script>        </div>"
      ]
     },
     "metadata": {},
     "output_type": "display_data"
    },
    {
     "data": {
      "application/vnd.plotly.v1+json": {
       "config": {
        "plotlyServerURL": "https://plot.ly"
       },
       "data": [
        {
         "hovertemplate": "color=A<br>symbol=Intron<br>1=%{x}<br>2=%{y}<extra></extra>",
         "legendgroup": "A, Intron",
         "marker": {
          "color": "#636efa",
          "size": 13,
          "symbol": "circle"
         },
         "mode": "markers",
         "name": "A, Intron",
         "orientation": "v",
         "showlegend": true,
         "type": "scatter",
         "x": [
          1.977785348663021,
          3.2371250650848453,
          1.5541679980611167,
          0.5273796420921905,
          -0.2280371800444913,
          -0.7034196515337326,
          -1.446297216741375,
          -1.2326124658506479,
          -1.612713710773884,
          -1.7287835468929018,
          -0.33499803343948403,
          1.154321399009189
         ],
         "xaxis": "x",
         "y": [
          -0.5291642822906555,
          0.4150452985273073,
          -0.04166421043030467,
          -0.37100117486843914,
          -0.4478290294058766,
          -0.36454433421254034,
          -0.04819498520566945,
          0.5110638946542116,
          0.9896874756597953,
          0.4544499308536328,
          -0.8729307670413335,
          -0.609319635988455
         ],
         "yaxis": "y"
        },
        {
         "hovertemplate": "color=B<br>symbol=Intron<br>1=%{x}<br>2=%{y}<extra></extra>",
         "legendgroup": "B, Intron",
         "marker": {
          "color": "#EF553B",
          "size": 13,
          "symbol": "circle"
         },
         "mode": "markers",
         "name": "B, Intron",
         "orientation": "v",
         "showlegend": true,
         "type": "scatter",
         "x": [
          3.156847433816525,
          0.9273405606289189,
          2.8134872632655097,
          0.5048065879207781,
          -1.0662920748350098,
          -0.6905366730747174,
          -1.350993986929827,
          -1.60905300793263,
          -1.3012469313897526,
          -1.2370336714768457,
          -0.14535493794649398,
          0.8759007184570285
         ],
         "xaxis": "x",
         "y": [
          0.404320728373145,
          0.8254999404240485,
          0.47812193836050454,
          -0.5002929673325589,
          -0.3559408733905678,
          -0.383663881949797,
          -0.25501910696781616,
          0.4721359136811502,
          0.3825593191950016,
          -0.07621076740319987,
          -0.9599233428236782,
          -0.6866396424455762
         ],
         "yaxis": "y"
        },
        {
         "hovertemplate": "color=C<br>symbol=Intron<br>1=%{x}<br>2=%{y}<extra></extra>",
         "legendgroup": "C, Intron",
         "marker": {
          "color": "#00cc96",
          "size": 13,
          "symbol": "circle"
         },
         "mode": "markers",
         "name": "C, Intron",
         "orientation": "v",
         "showlegend": true,
         "type": "scatter",
         "x": [
          3.8298691419930635,
          2.436527017753405,
          0.40359925488375953,
          0.1494859787969397,
          -0.9299948573525183,
          -1.2518763919892864,
          -1.2925262170670215,
          -1.3180833222047719,
          -1.5209679208141844,
          -1.0809868158273812,
          -1.3618907794434083,
          -0.34921860349340006
         ],
         "xaxis": "x",
         "y": [
          0.18281472873472482,
          0.17975979652799218,
          -0.49049104016198974,
          -0.5155923663840003,
          -0.35074248291878507,
          -0.1509750227719996,
          -0.3557381582168497,
          0.20997511987669018,
          0.9394677458899166,
          0.29814622662591217,
          0.1962556032900611,
          -0.8995684347947508
         ],
         "yaxis": "y"
        },
        {
         "hovertemplate": "color=D<br>symbol=Intron<br>1=%{x}<br>2=%{y}<extra></extra>",
         "legendgroup": "D, Intron",
         "marker": {
          "color": "#ab63fa",
          "size": 13,
          "symbol": "circle"
         },
         "mode": "markers",
         "name": "D, Intron",
         "orientation": "v",
         "showlegend": true,
         "type": "scatter",
         "x": [
          3.757474328551392,
          1.4385435349091227,
          2.3189307771271293,
          0.521569846848206,
          -0.1819635488497864,
          -0.747748106944352,
          -1.3861189458870016,
          -1.349833597329759,
          -1.6041723173128861,
          -1.4129681223100337,
          -1.1685819337308083,
          0.05914267155625273
         ],
         "xaxis": "x",
         "y": [
          0.7362366076827731,
          0.10835541699811242,
          0.3636208771809814,
          -0.4865157383201035,
          -0.44956408545763243,
          -0.41867298116602286,
          0.12228587060880987,
          0.3515463372478551,
          0.4634289728054266,
          0.7378261002986833,
          0.7505312808353372,
          0.04706418761652104
         ],
         "yaxis": "y"
        }
       ],
       "layout": {
        "height": 600,
        "legend": {
         "title": {
          "text": "color, symbol"
         },
         "tracegroupgap": 0
        },
        "margin": {
         "t": 60
        },
        "plot_bgcolor": "rgb(243,243,243)",
        "template": {
         "data": {
          "bar": [
           {
            "error_x": {
             "color": "#2a3f5f"
            },
            "error_y": {
             "color": "#2a3f5f"
            },
            "marker": {
             "line": {
              "color": "#E5ECF6",
              "width": 0.5
             },
             "pattern": {
              "fillmode": "overlay",
              "size": 10,
              "solidity": 0.2
             }
            },
            "type": "bar"
           }
          ],
          "barpolar": [
           {
            "marker": {
             "line": {
              "color": "#E5ECF6",
              "width": 0.5
             },
             "pattern": {
              "fillmode": "overlay",
              "size": 10,
              "solidity": 0.2
             }
            },
            "type": "barpolar"
           }
          ],
          "carpet": [
           {
            "aaxis": {
             "endlinecolor": "#2a3f5f",
             "gridcolor": "white",
             "linecolor": "white",
             "minorgridcolor": "white",
             "startlinecolor": "#2a3f5f"
            },
            "baxis": {
             "endlinecolor": "#2a3f5f",
             "gridcolor": "white",
             "linecolor": "white",
             "minorgridcolor": "white",
             "startlinecolor": "#2a3f5f"
            },
            "type": "carpet"
           }
          ],
          "choropleth": [
           {
            "colorbar": {
             "outlinewidth": 0,
             "ticks": ""
            },
            "type": "choropleth"
           }
          ],
          "contour": [
           {
            "colorbar": {
             "outlinewidth": 0,
             "ticks": ""
            },
            "colorscale": [
             [
              0,
              "#0d0887"
             ],
             [
              0.1111111111111111,
              "#46039f"
             ],
             [
              0.2222222222222222,
              "#7201a8"
             ],
             [
              0.3333333333333333,
              "#9c179e"
             ],
             [
              0.4444444444444444,
              "#bd3786"
             ],
             [
              0.5555555555555556,
              "#d8576b"
             ],
             [
              0.6666666666666666,
              "#ed7953"
             ],
             [
              0.7777777777777778,
              "#fb9f3a"
             ],
             [
              0.8888888888888888,
              "#fdca26"
             ],
             [
              1,
              "#f0f921"
             ]
            ],
            "type": "contour"
           }
          ],
          "contourcarpet": [
           {
            "colorbar": {
             "outlinewidth": 0,
             "ticks": ""
            },
            "type": "contourcarpet"
           }
          ],
          "heatmap": [
           {
            "colorbar": {
             "outlinewidth": 0,
             "ticks": ""
            },
            "colorscale": [
             [
              0,
              "#0d0887"
             ],
             [
              0.1111111111111111,
              "#46039f"
             ],
             [
              0.2222222222222222,
              "#7201a8"
             ],
             [
              0.3333333333333333,
              "#9c179e"
             ],
             [
              0.4444444444444444,
              "#bd3786"
             ],
             [
              0.5555555555555556,
              "#d8576b"
             ],
             [
              0.6666666666666666,
              "#ed7953"
             ],
             [
              0.7777777777777778,
              "#fb9f3a"
             ],
             [
              0.8888888888888888,
              "#fdca26"
             ],
             [
              1,
              "#f0f921"
             ]
            ],
            "type": "heatmap"
           }
          ],
          "heatmapgl": [
           {
            "colorbar": {
             "outlinewidth": 0,
             "ticks": ""
            },
            "colorscale": [
             [
              0,
              "#0d0887"
             ],
             [
              0.1111111111111111,
              "#46039f"
             ],
             [
              0.2222222222222222,
              "#7201a8"
             ],
             [
              0.3333333333333333,
              "#9c179e"
             ],
             [
              0.4444444444444444,
              "#bd3786"
             ],
             [
              0.5555555555555556,
              "#d8576b"
             ],
             [
              0.6666666666666666,
              "#ed7953"
             ],
             [
              0.7777777777777778,
              "#fb9f3a"
             ],
             [
              0.8888888888888888,
              "#fdca26"
             ],
             [
              1,
              "#f0f921"
             ]
            ],
            "type": "heatmapgl"
           }
          ],
          "histogram": [
           {
            "marker": {
             "pattern": {
              "fillmode": "overlay",
              "size": 10,
              "solidity": 0.2
             }
            },
            "type": "histogram"
           }
          ],
          "histogram2d": [
           {
            "colorbar": {
             "outlinewidth": 0,
             "ticks": ""
            },
            "colorscale": [
             [
              0,
              "#0d0887"
             ],
             [
              0.1111111111111111,
              "#46039f"
             ],
             [
              0.2222222222222222,
              "#7201a8"
             ],
             [
              0.3333333333333333,
              "#9c179e"
             ],
             [
              0.4444444444444444,
              "#bd3786"
             ],
             [
              0.5555555555555556,
              "#d8576b"
             ],
             [
              0.6666666666666666,
              "#ed7953"
             ],
             [
              0.7777777777777778,
              "#fb9f3a"
             ],
             [
              0.8888888888888888,
              "#fdca26"
             ],
             [
              1,
              "#f0f921"
             ]
            ],
            "type": "histogram2d"
           }
          ],
          "histogram2dcontour": [
           {
            "colorbar": {
             "outlinewidth": 0,
             "ticks": ""
            },
            "colorscale": [
             [
              0,
              "#0d0887"
             ],
             [
              0.1111111111111111,
              "#46039f"
             ],
             [
              0.2222222222222222,
              "#7201a8"
             ],
             [
              0.3333333333333333,
              "#9c179e"
             ],
             [
              0.4444444444444444,
              "#bd3786"
             ],
             [
              0.5555555555555556,
              "#d8576b"
             ],
             [
              0.6666666666666666,
              "#ed7953"
             ],
             [
              0.7777777777777778,
              "#fb9f3a"
             ],
             [
              0.8888888888888888,
              "#fdca26"
             ],
             [
              1,
              "#f0f921"
             ]
            ],
            "type": "histogram2dcontour"
           }
          ],
          "mesh3d": [
           {
            "colorbar": {
             "outlinewidth": 0,
             "ticks": ""
            },
            "type": "mesh3d"
           }
          ],
          "parcoords": [
           {
            "line": {
             "colorbar": {
              "outlinewidth": 0,
              "ticks": ""
             }
            },
            "type": "parcoords"
           }
          ],
          "pie": [
           {
            "automargin": true,
            "type": "pie"
           }
          ],
          "scatter": [
           {
            "fillpattern": {
             "fillmode": "overlay",
             "size": 10,
             "solidity": 0.2
            },
            "type": "scatter"
           }
          ],
          "scatter3d": [
           {
            "line": {
             "colorbar": {
              "outlinewidth": 0,
              "ticks": ""
             }
            },
            "marker": {
             "colorbar": {
              "outlinewidth": 0,
              "ticks": ""
             }
            },
            "type": "scatter3d"
           }
          ],
          "scattercarpet": [
           {
            "marker": {
             "colorbar": {
              "outlinewidth": 0,
              "ticks": ""
             }
            },
            "type": "scattercarpet"
           }
          ],
          "scattergeo": [
           {
            "marker": {
             "colorbar": {
              "outlinewidth": 0,
              "ticks": ""
             }
            },
            "type": "scattergeo"
           }
          ],
          "scattergl": [
           {
            "marker": {
             "colorbar": {
              "outlinewidth": 0,
              "ticks": ""
             }
            },
            "type": "scattergl"
           }
          ],
          "scattermapbox": [
           {
            "marker": {
             "colorbar": {
              "outlinewidth": 0,
              "ticks": ""
             }
            },
            "type": "scattermapbox"
           }
          ],
          "scatterpolar": [
           {
            "marker": {
             "colorbar": {
              "outlinewidth": 0,
              "ticks": ""
             }
            },
            "type": "scatterpolar"
           }
          ],
          "scatterpolargl": [
           {
            "marker": {
             "colorbar": {
              "outlinewidth": 0,
              "ticks": ""
             }
            },
            "type": "scatterpolargl"
           }
          ],
          "scatterternary": [
           {
            "marker": {
             "colorbar": {
              "outlinewidth": 0,
              "ticks": ""
             }
            },
            "type": "scatterternary"
           }
          ],
          "surface": [
           {
            "colorbar": {
             "outlinewidth": 0,
             "ticks": ""
            },
            "colorscale": [
             [
              0,
              "#0d0887"
             ],
             [
              0.1111111111111111,
              "#46039f"
             ],
             [
              0.2222222222222222,
              "#7201a8"
             ],
             [
              0.3333333333333333,
              "#9c179e"
             ],
             [
              0.4444444444444444,
              "#bd3786"
             ],
             [
              0.5555555555555556,
              "#d8576b"
             ],
             [
              0.6666666666666666,
              "#ed7953"
             ],
             [
              0.7777777777777778,
              "#fb9f3a"
             ],
             [
              0.8888888888888888,
              "#fdca26"
             ],
             [
              1,
              "#f0f921"
             ]
            ],
            "type": "surface"
           }
          ],
          "table": [
           {
            "cells": {
             "fill": {
              "color": "#EBF0F8"
             },
             "line": {
              "color": "white"
             }
            },
            "header": {
             "fill": {
              "color": "#C8D4E3"
             },
             "line": {
              "color": "white"
             }
            },
            "type": "table"
           }
          ]
         },
         "layout": {
          "annotationdefaults": {
           "arrowcolor": "#2a3f5f",
           "arrowhead": 0,
           "arrowwidth": 1
          },
          "autotypenumbers": "strict",
          "coloraxis": {
           "colorbar": {
            "outlinewidth": 0,
            "ticks": ""
           }
          },
          "colorscale": {
           "diverging": [
            [
             0,
             "#8e0152"
            ],
            [
             0.1,
             "#c51b7d"
            ],
            [
             0.2,
             "#de77ae"
            ],
            [
             0.3,
             "#f1b6da"
            ],
            [
             0.4,
             "#fde0ef"
            ],
            [
             0.5,
             "#f7f7f7"
            ],
            [
             0.6,
             "#e6f5d0"
            ],
            [
             0.7,
             "#b8e186"
            ],
            [
             0.8,
             "#7fbc41"
            ],
            [
             0.9,
             "#4d9221"
            ],
            [
             1,
             "#276419"
            ]
           ],
           "sequential": [
            [
             0,
             "#0d0887"
            ],
            [
             0.1111111111111111,
             "#46039f"
            ],
            [
             0.2222222222222222,
             "#7201a8"
            ],
            [
             0.3333333333333333,
             "#9c179e"
            ],
            [
             0.4444444444444444,
             "#bd3786"
            ],
            [
             0.5555555555555556,
             "#d8576b"
            ],
            [
             0.6666666666666666,
             "#ed7953"
            ],
            [
             0.7777777777777778,
             "#fb9f3a"
            ],
            [
             0.8888888888888888,
             "#fdca26"
            ],
            [
             1,
             "#f0f921"
            ]
           ],
           "sequentialminus": [
            [
             0,
             "#0d0887"
            ],
            [
             0.1111111111111111,
             "#46039f"
            ],
            [
             0.2222222222222222,
             "#7201a8"
            ],
            [
             0.3333333333333333,
             "#9c179e"
            ],
            [
             0.4444444444444444,
             "#bd3786"
            ],
            [
             0.5555555555555556,
             "#d8576b"
            ],
            [
             0.6666666666666666,
             "#ed7953"
            ],
            [
             0.7777777777777778,
             "#fb9f3a"
            ],
            [
             0.8888888888888888,
             "#fdca26"
            ],
            [
             1,
             "#f0f921"
            ]
           ]
          },
          "colorway": [
           "#636efa",
           "#EF553B",
           "#00cc96",
           "#ab63fa",
           "#FFA15A",
           "#19d3f3",
           "#FF6692",
           "#B6E880",
           "#FF97FF",
           "#FECB52"
          ],
          "font": {
           "color": "#2a3f5f"
          },
          "geo": {
           "bgcolor": "white",
           "lakecolor": "white",
           "landcolor": "#E5ECF6",
           "showlakes": true,
           "showland": true,
           "subunitcolor": "white"
          },
          "hoverlabel": {
           "align": "left"
          },
          "hovermode": "closest",
          "mapbox": {
           "style": "light"
          },
          "paper_bgcolor": "white",
          "plot_bgcolor": "#E5ECF6",
          "polar": {
           "angularaxis": {
            "gridcolor": "white",
            "linecolor": "white",
            "ticks": ""
           },
           "bgcolor": "#E5ECF6",
           "radialaxis": {
            "gridcolor": "white",
            "linecolor": "white",
            "ticks": ""
           }
          },
          "scene": {
           "xaxis": {
            "backgroundcolor": "#E5ECF6",
            "gridcolor": "white",
            "gridwidth": 2,
            "linecolor": "white",
            "showbackground": true,
            "ticks": "",
            "zerolinecolor": "white"
           },
           "yaxis": {
            "backgroundcolor": "#E5ECF6",
            "gridcolor": "white",
            "gridwidth": 2,
            "linecolor": "white",
            "showbackground": true,
            "ticks": "",
            "zerolinecolor": "white"
           },
           "zaxis": {
            "backgroundcolor": "#E5ECF6",
            "gridcolor": "white",
            "gridwidth": 2,
            "linecolor": "white",
            "showbackground": true,
            "ticks": "",
            "zerolinecolor": "white"
           }
          },
          "shapedefaults": {
           "line": {
            "color": "#2a3f5f"
           }
          },
          "ternary": {
           "aaxis": {
            "gridcolor": "white",
            "linecolor": "white",
            "ticks": ""
           },
           "baxis": {
            "gridcolor": "white",
            "linecolor": "white",
            "ticks": ""
           },
           "bgcolor": "#E5ECF6",
           "caxis": {
            "gridcolor": "white",
            "linecolor": "white",
            "ticks": ""
           }
          },
          "title": {
           "x": 0.05
          },
          "xaxis": {
           "automargin": true,
           "gridcolor": "white",
           "linecolor": "white",
           "ticks": "",
           "title": {
            "standoff": 15
           },
           "zerolinecolor": "white",
           "zerolinewidth": 2
          },
          "yaxis": {
           "automargin": true,
           "gridcolor": "white",
           "linecolor": "white",
           "ticks": "",
           "title": {
            "standoff": 15
           },
           "zerolinecolor": "white",
           "zerolinewidth": 2
          }
         }
        },
        "width": 600,
        "xaxis": {
         "anchor": "y",
         "domain": [
          0,
          1
         ],
         "title": {
          "text": "PC 2 (32.4%)"
         }
        },
        "yaxis": {
         "anchor": "x",
         "domain": [
          0,
          1
         ],
         "title": {
          "text": "PC 3 (3.3%)"
         }
        }
       }
      },
      "text/html": [
       "<div>                            <div id=\"456e1928-bebc-402e-af6f-842d6bc74ebb\" class=\"plotly-graph-div\" style=\"height:600px; width:600px;\"></div>            <script type=\"text/javascript\">                require([\"plotly\"], function(Plotly) {                    window.PLOTLYENV=window.PLOTLYENV || {};                                    if (document.getElementById(\"456e1928-bebc-402e-af6f-842d6bc74ebb\")) {                    Plotly.newPlot(                        \"456e1928-bebc-402e-af6f-842d6bc74ebb\",                        [{\"hovertemplate\":\"color=A<br>symbol=Intron<br>1=%{x}<br>2=%{y}<extra></extra>\",\"legendgroup\":\"A, Intron\",\"marker\":{\"color\":\"#636efa\",\"symbol\":\"circle\",\"size\":13},\"mode\":\"markers\",\"name\":\"A, Intron\",\"orientation\":\"v\",\"showlegend\":true,\"x\":[1.977785348663021,3.2371250650848453,1.5541679980611167,0.5273796420921905,-0.2280371800444913,-0.7034196515337326,-1.446297216741375,-1.2326124658506479,-1.612713710773884,-1.7287835468929018,-0.33499803343948403,1.154321399009189],\"xaxis\":\"x\",\"y\":[-0.5291642822906555,0.4150452985273073,-0.04166421043030467,-0.37100117486843914,-0.4478290294058766,-0.36454433421254034,-0.04819498520566945,0.5110638946542116,0.9896874756597953,0.4544499308536328,-0.8729307670413335,-0.609319635988455],\"yaxis\":\"y\",\"type\":\"scatter\"},{\"hovertemplate\":\"color=B<br>symbol=Intron<br>1=%{x}<br>2=%{y}<extra></extra>\",\"legendgroup\":\"B, Intron\",\"marker\":{\"color\":\"#EF553B\",\"symbol\":\"circle\",\"size\":13},\"mode\":\"markers\",\"name\":\"B, Intron\",\"orientation\":\"v\",\"showlegend\":true,\"x\":[3.156847433816525,0.9273405606289189,2.8134872632655097,0.5048065879207781,-1.0662920748350098,-0.6905366730747174,-1.350993986929827,-1.60905300793263,-1.3012469313897526,-1.2370336714768457,-0.14535493794649398,0.8759007184570285],\"xaxis\":\"x\",\"y\":[0.404320728373145,0.8254999404240485,0.47812193836050454,-0.5002929673325589,-0.3559408733905678,-0.383663881949797,-0.25501910696781616,0.4721359136811502,0.3825593191950016,-0.07621076740319987,-0.9599233428236782,-0.6866396424455762],\"yaxis\":\"y\",\"type\":\"scatter\"},{\"hovertemplate\":\"color=C<br>symbol=Intron<br>1=%{x}<br>2=%{y}<extra></extra>\",\"legendgroup\":\"C, Intron\",\"marker\":{\"color\":\"#00cc96\",\"symbol\":\"circle\",\"size\":13},\"mode\":\"markers\",\"name\":\"C, Intron\",\"orientation\":\"v\",\"showlegend\":true,\"x\":[3.8298691419930635,2.436527017753405,0.40359925488375953,0.1494859787969397,-0.9299948573525183,-1.2518763919892864,-1.2925262170670215,-1.3180833222047719,-1.5209679208141844,-1.0809868158273812,-1.3618907794434083,-0.34921860349340006],\"xaxis\":\"x\",\"y\":[0.18281472873472482,0.17975979652799218,-0.49049104016198974,-0.5155923663840003,-0.35074248291878507,-0.1509750227719996,-0.3557381582168497,0.20997511987669018,0.9394677458899166,0.29814622662591217,0.1962556032900611,-0.8995684347947508],\"yaxis\":\"y\",\"type\":\"scatter\"},{\"hovertemplate\":\"color=D<br>symbol=Intron<br>1=%{x}<br>2=%{y}<extra></extra>\",\"legendgroup\":\"D, Intron\",\"marker\":{\"color\":\"#ab63fa\",\"symbol\":\"circle\",\"size\":13},\"mode\":\"markers\",\"name\":\"D, Intron\",\"orientation\":\"v\",\"showlegend\":true,\"x\":[3.757474328551392,1.4385435349091227,2.3189307771271293,0.521569846848206,-0.1819635488497864,-0.747748106944352,-1.3861189458870016,-1.349833597329759,-1.6041723173128861,-1.4129681223100337,-1.1685819337308083,0.05914267155625273],\"xaxis\":\"x\",\"y\":[0.7362366076827731,0.10835541699811242,0.3636208771809814,-0.4865157383201035,-0.44956408545763243,-0.41867298116602286,0.12228587060880987,0.3515463372478551,0.4634289728054266,0.7378261002986833,0.7505312808353372,0.04706418761652104],\"yaxis\":\"y\",\"type\":\"scatter\"}],                        {\"template\":{\"data\":{\"histogram2dcontour\":[{\"type\":\"histogram2dcontour\",\"colorbar\":{\"outlinewidth\":0,\"ticks\":\"\"},\"colorscale\":[[0.0,\"#0d0887\"],[0.1111111111111111,\"#46039f\"],[0.2222222222222222,\"#7201a8\"],[0.3333333333333333,\"#9c179e\"],[0.4444444444444444,\"#bd3786\"],[0.5555555555555556,\"#d8576b\"],[0.6666666666666666,\"#ed7953\"],[0.7777777777777778,\"#fb9f3a\"],[0.8888888888888888,\"#fdca26\"],[1.0,\"#f0f921\"]]}],\"choropleth\":[{\"type\":\"choropleth\",\"colorbar\":{\"outlinewidth\":0,\"ticks\":\"\"}}],\"histogram2d\":[{\"type\":\"histogram2d\",\"colorbar\":{\"outlinewidth\":0,\"ticks\":\"\"},\"colorscale\":[[0.0,\"#0d0887\"],[0.1111111111111111,\"#46039f\"],[0.2222222222222222,\"#7201a8\"],[0.3333333333333333,\"#9c179e\"],[0.4444444444444444,\"#bd3786\"],[0.5555555555555556,\"#d8576b\"],[0.6666666666666666,\"#ed7953\"],[0.7777777777777778,\"#fb9f3a\"],[0.8888888888888888,\"#fdca26\"],[1.0,\"#f0f921\"]]}],\"heatmap\":[{\"type\":\"heatmap\",\"colorbar\":{\"outlinewidth\":0,\"ticks\":\"\"},\"colorscale\":[[0.0,\"#0d0887\"],[0.1111111111111111,\"#46039f\"],[0.2222222222222222,\"#7201a8\"],[0.3333333333333333,\"#9c179e\"],[0.4444444444444444,\"#bd3786\"],[0.5555555555555556,\"#d8576b\"],[0.6666666666666666,\"#ed7953\"],[0.7777777777777778,\"#fb9f3a\"],[0.8888888888888888,\"#fdca26\"],[1.0,\"#f0f921\"]]}],\"heatmapgl\":[{\"type\":\"heatmapgl\",\"colorbar\":{\"outlinewidth\":0,\"ticks\":\"\"},\"colorscale\":[[0.0,\"#0d0887\"],[0.1111111111111111,\"#46039f\"],[0.2222222222222222,\"#7201a8\"],[0.3333333333333333,\"#9c179e\"],[0.4444444444444444,\"#bd3786\"],[0.5555555555555556,\"#d8576b\"],[0.6666666666666666,\"#ed7953\"],[0.7777777777777778,\"#fb9f3a\"],[0.8888888888888888,\"#fdca26\"],[1.0,\"#f0f921\"]]}],\"contourcarpet\":[{\"type\":\"contourcarpet\",\"colorbar\":{\"outlinewidth\":0,\"ticks\":\"\"}}],\"contour\":[{\"type\":\"contour\",\"colorbar\":{\"outlinewidth\":0,\"ticks\":\"\"},\"colorscale\":[[0.0,\"#0d0887\"],[0.1111111111111111,\"#46039f\"],[0.2222222222222222,\"#7201a8\"],[0.3333333333333333,\"#9c179e\"],[0.4444444444444444,\"#bd3786\"],[0.5555555555555556,\"#d8576b\"],[0.6666666666666666,\"#ed7953\"],[0.7777777777777778,\"#fb9f3a\"],[0.8888888888888888,\"#fdca26\"],[1.0,\"#f0f921\"]]}],\"surface\":[{\"type\":\"surface\",\"colorbar\":{\"outlinewidth\":0,\"ticks\":\"\"},\"colorscale\":[[0.0,\"#0d0887\"],[0.1111111111111111,\"#46039f\"],[0.2222222222222222,\"#7201a8\"],[0.3333333333333333,\"#9c179e\"],[0.4444444444444444,\"#bd3786\"],[0.5555555555555556,\"#d8576b\"],[0.6666666666666666,\"#ed7953\"],[0.7777777777777778,\"#fb9f3a\"],[0.8888888888888888,\"#fdca26\"],[1.0,\"#f0f921\"]]}],\"mesh3d\":[{\"type\":\"mesh3d\",\"colorbar\":{\"outlinewidth\":0,\"ticks\":\"\"}}],\"scatter\":[{\"fillpattern\":{\"fillmode\":\"overlay\",\"size\":10,\"solidity\":0.2},\"type\":\"scatter\"}],\"parcoords\":[{\"type\":\"parcoords\",\"line\":{\"colorbar\":{\"outlinewidth\":0,\"ticks\":\"\"}}}],\"scatterpolargl\":[{\"type\":\"scatterpolargl\",\"marker\":{\"colorbar\":{\"outlinewidth\":0,\"ticks\":\"\"}}}],\"bar\":[{\"error_x\":{\"color\":\"#2a3f5f\"},\"error_y\":{\"color\":\"#2a3f5f\"},\"marker\":{\"line\":{\"color\":\"#E5ECF6\",\"width\":0.5},\"pattern\":{\"fillmode\":\"overlay\",\"size\":10,\"solidity\":0.2}},\"type\":\"bar\"}],\"scattergeo\":[{\"type\":\"scattergeo\",\"marker\":{\"colorbar\":{\"outlinewidth\":0,\"ticks\":\"\"}}}],\"scatterpolar\":[{\"type\":\"scatterpolar\",\"marker\":{\"colorbar\":{\"outlinewidth\":0,\"ticks\":\"\"}}}],\"histogram\":[{\"marker\":{\"pattern\":{\"fillmode\":\"overlay\",\"size\":10,\"solidity\":0.2}},\"type\":\"histogram\"}],\"scattergl\":[{\"type\":\"scattergl\",\"marker\":{\"colorbar\":{\"outlinewidth\":0,\"ticks\":\"\"}}}],\"scatter3d\":[{\"type\":\"scatter3d\",\"line\":{\"colorbar\":{\"outlinewidth\":0,\"ticks\":\"\"}},\"marker\":{\"colorbar\":{\"outlinewidth\":0,\"ticks\":\"\"}}}],\"scattermapbox\":[{\"type\":\"scattermapbox\",\"marker\":{\"colorbar\":{\"outlinewidth\":0,\"ticks\":\"\"}}}],\"scatterternary\":[{\"type\":\"scatterternary\",\"marker\":{\"colorbar\":{\"outlinewidth\":0,\"ticks\":\"\"}}}],\"scattercarpet\":[{\"type\":\"scattercarpet\",\"marker\":{\"colorbar\":{\"outlinewidth\":0,\"ticks\":\"\"}}}],\"carpet\":[{\"aaxis\":{\"endlinecolor\":\"#2a3f5f\",\"gridcolor\":\"white\",\"linecolor\":\"white\",\"minorgridcolor\":\"white\",\"startlinecolor\":\"#2a3f5f\"},\"baxis\":{\"endlinecolor\":\"#2a3f5f\",\"gridcolor\":\"white\",\"linecolor\":\"white\",\"minorgridcolor\":\"white\",\"startlinecolor\":\"#2a3f5f\"},\"type\":\"carpet\"}],\"table\":[{\"cells\":{\"fill\":{\"color\":\"#EBF0F8\"},\"line\":{\"color\":\"white\"}},\"header\":{\"fill\":{\"color\":\"#C8D4E3\"},\"line\":{\"color\":\"white\"}},\"type\":\"table\"}],\"barpolar\":[{\"marker\":{\"line\":{\"color\":\"#E5ECF6\",\"width\":0.5},\"pattern\":{\"fillmode\":\"overlay\",\"size\":10,\"solidity\":0.2}},\"type\":\"barpolar\"}],\"pie\":[{\"automargin\":true,\"type\":\"pie\"}]},\"layout\":{\"autotypenumbers\":\"strict\",\"colorway\":[\"#636efa\",\"#EF553B\",\"#00cc96\",\"#ab63fa\",\"#FFA15A\",\"#19d3f3\",\"#FF6692\",\"#B6E880\",\"#FF97FF\",\"#FECB52\"],\"font\":{\"color\":\"#2a3f5f\"},\"hovermode\":\"closest\",\"hoverlabel\":{\"align\":\"left\"},\"paper_bgcolor\":\"white\",\"plot_bgcolor\":\"#E5ECF6\",\"polar\":{\"bgcolor\":\"#E5ECF6\",\"angularaxis\":{\"gridcolor\":\"white\",\"linecolor\":\"white\",\"ticks\":\"\"},\"radialaxis\":{\"gridcolor\":\"white\",\"linecolor\":\"white\",\"ticks\":\"\"}},\"ternary\":{\"bgcolor\":\"#E5ECF6\",\"aaxis\":{\"gridcolor\":\"white\",\"linecolor\":\"white\",\"ticks\":\"\"},\"baxis\":{\"gridcolor\":\"white\",\"linecolor\":\"white\",\"ticks\":\"\"},\"caxis\":{\"gridcolor\":\"white\",\"linecolor\":\"white\",\"ticks\":\"\"}},\"coloraxis\":{\"colorbar\":{\"outlinewidth\":0,\"ticks\":\"\"}},\"colorscale\":{\"sequential\":[[0.0,\"#0d0887\"],[0.1111111111111111,\"#46039f\"],[0.2222222222222222,\"#7201a8\"],[0.3333333333333333,\"#9c179e\"],[0.4444444444444444,\"#bd3786\"],[0.5555555555555556,\"#d8576b\"],[0.6666666666666666,\"#ed7953\"],[0.7777777777777778,\"#fb9f3a\"],[0.8888888888888888,\"#fdca26\"],[1.0,\"#f0f921\"]],\"sequentialminus\":[[0.0,\"#0d0887\"],[0.1111111111111111,\"#46039f\"],[0.2222222222222222,\"#7201a8\"],[0.3333333333333333,\"#9c179e\"],[0.4444444444444444,\"#bd3786\"],[0.5555555555555556,\"#d8576b\"],[0.6666666666666666,\"#ed7953\"],[0.7777777777777778,\"#fb9f3a\"],[0.8888888888888888,\"#fdca26\"],[1.0,\"#f0f921\"]],\"diverging\":[[0,\"#8e0152\"],[0.1,\"#c51b7d\"],[0.2,\"#de77ae\"],[0.3,\"#f1b6da\"],[0.4,\"#fde0ef\"],[0.5,\"#f7f7f7\"],[0.6,\"#e6f5d0\"],[0.7,\"#b8e186\"],[0.8,\"#7fbc41\"],[0.9,\"#4d9221\"],[1,\"#276419\"]]},\"xaxis\":{\"gridcolor\":\"white\",\"linecolor\":\"white\",\"ticks\":\"\",\"title\":{\"standoff\":15},\"zerolinecolor\":\"white\",\"automargin\":true,\"zerolinewidth\":2},\"yaxis\":{\"gridcolor\":\"white\",\"linecolor\":\"white\",\"ticks\":\"\",\"title\":{\"standoff\":15},\"zerolinecolor\":\"white\",\"automargin\":true,\"zerolinewidth\":2},\"scene\":{\"xaxis\":{\"backgroundcolor\":\"#E5ECF6\",\"gridcolor\":\"white\",\"linecolor\":\"white\",\"showbackground\":true,\"ticks\":\"\",\"zerolinecolor\":\"white\",\"gridwidth\":2},\"yaxis\":{\"backgroundcolor\":\"#E5ECF6\",\"gridcolor\":\"white\",\"linecolor\":\"white\",\"showbackground\":true,\"ticks\":\"\",\"zerolinecolor\":\"white\",\"gridwidth\":2},\"zaxis\":{\"backgroundcolor\":\"#E5ECF6\",\"gridcolor\":\"white\",\"linecolor\":\"white\",\"showbackground\":true,\"ticks\":\"\",\"zerolinecolor\":\"white\",\"gridwidth\":2}},\"shapedefaults\":{\"line\":{\"color\":\"#2a3f5f\"}},\"annotationdefaults\":{\"arrowcolor\":\"#2a3f5f\",\"arrowhead\":0,\"arrowwidth\":1},\"geo\":{\"bgcolor\":\"white\",\"landcolor\":\"#E5ECF6\",\"subunitcolor\":\"white\",\"showland\":true,\"showlakes\":true,\"lakecolor\":\"white\"},\"title\":{\"x\":0.05},\"mapbox\":{\"style\":\"light\"}}},\"xaxis\":{\"anchor\":\"y\",\"domain\":[0.0,1.0],\"title\":{\"text\":\"PC 2 (32.4%)\"}},\"yaxis\":{\"anchor\":\"x\",\"domain\":[0.0,1.0],\"title\":{\"text\":\"PC 3 (3.3%)\"}},\"legend\":{\"title\":{\"text\":\"color, symbol\"},\"tracegroupgap\":0},\"margin\":{\"t\":60},\"height\":600,\"width\":600,\"plot_bgcolor\":\"rgb(243,243,243)\"},                        {\"responsive\": true}                    ).then(function(){\n",
       "                            \n",
       "var gd = document.getElementById('456e1928-bebc-402e-af6f-842d6bc74ebb');\n",
       "var x = new MutationObserver(function (mutations, observer) {{\n",
       "        var display = window.getComputedStyle(gd).display;\n",
       "        if (!display || display === 'none') {{\n",
       "            console.log([gd, 'removed!']);\n",
       "            Plotly.purge(gd);\n",
       "            observer.disconnect();\n",
       "        }}\n",
       "}});\n",
       "\n",
       "// Listen for the removal of the full notebook cells\n",
       "var notebookContainer = gd.closest('#notebook-container');\n",
       "if (notebookContainer) {{\n",
       "    x.observe(notebookContainer, {childList: true});\n",
       "}}\n",
       "\n",
       "// Listen for the clearing of the current output cell\n",
       "var outputEl = gd.closest('.output');\n",
       "if (outputEl) {{\n",
       "    x.observe(outputEl, {childList: true});\n",
       "}}\n",
       "\n",
       "                        })                };                });            </script>        </div>"
      ]
     },
     "metadata": {},
     "output_type": "display_data"
    },
    {
     "data": {
      "application/vnd.plotly.v1+json": {
       "config": {
        "plotlyServerURL": "https://plot.ly"
       },
       "data": [
        {
         "hovertemplate": "color=00<br>symbol=WT<br>2=%{x}<br>3=%{y}<extra></extra>",
         "legendgroup": "00, WT",
         "marker": {
          "color": "#636efa",
          "size": 13,
          "symbol": "circle"
         },
         "mode": "markers",
         "name": "00, WT",
         "orientation": "v",
         "showlegend": true,
         "type": "scatter",
         "x": [
          -0.5291642822906555,
          0.404320728373145,
          0.18281472873472482,
          0.7362366076827731
         ],
         "xaxis": "x",
         "y": [
          -0.014091648717270738,
          -0.11669250999597648,
          0.06841047019575273,
          0.19254734190318656
         ],
         "yaxis": "y"
        },
        {
         "hovertemplate": "color=02<br>symbol=WT<br>2=%{x}<br>3=%{y}<extra></extra>",
         "legendgroup": "02, WT",
         "marker": {
          "color": "#EF553B",
          "size": 13,
          "symbol": "circle"
         },
         "mode": "markers",
         "name": "02, WT",
         "orientation": "v",
         "showlegend": true,
         "type": "scatter",
         "x": [
          0.4150452985273073,
          0.8254999404240485,
          0.17975979652799218,
          0.10835541699811242
         ],
         "xaxis": "x",
         "y": [
          0.6193362062496327,
          1.2962769892737247,
          -0.23093649099065863,
          -0.3520307389095446
         ],
         "yaxis": "y"
        },
        {
         "hovertemplate": "color=04<br>symbol=WT<br>2=%{x}<br>3=%{y}<extra></extra>",
         "legendgroup": "04, WT",
         "marker": {
          "color": "#00cc96",
          "size": 13,
          "symbol": "circle"
         },
         "mode": "markers",
         "name": "04, WT",
         "orientation": "v",
         "showlegend": true,
         "type": "scatter",
         "x": [
          -0.04166421043030467,
          0.47812193836050454,
          -0.49049104016198974,
          0.3636208771809814
         ],
         "xaxis": "x",
         "y": [
          -0.5378728286429264,
          -0.2496752240995096,
          -0.3504860950985119,
          -0.5356084569861073
         ],
         "yaxis": "y"
        },
        {
         "hovertemplate": "color=06<br>symbol=WT<br>2=%{x}<br>3=%{y}<extra></extra>",
         "legendgroup": "06, WT",
         "marker": {
          "color": "#ab63fa",
          "size": 13,
          "symbol": "circle"
         },
         "mode": "markers",
         "name": "06, WT",
         "orientation": "v",
         "showlegend": true,
         "type": "scatter",
         "x": [
          -0.37100117486843914,
          -0.5002929673325589,
          -0.5155923663840003,
          -0.4865157383201035
         ],
         "xaxis": "x",
         "y": [
          -0.39685930080160875,
          -0.4215132256211728,
          -0.21805558682729684,
          -0.4943112237722788
         ],
         "yaxis": "y"
        },
        {
         "hovertemplate": "color=08<br>symbol=WT<br>2=%{x}<br>3=%{y}<extra></extra>",
         "legendgroup": "08, WT",
         "marker": {
          "color": "#FFA15A",
          "size": 13,
          "symbol": "circle"
         },
         "mode": "markers",
         "name": "08, WT",
         "orientation": "v",
         "showlegend": true,
         "type": "scatter",
         "x": [
          -0.4478290294058766,
          -0.3559408733905678,
          -0.35074248291878507,
          -0.44956408545763243
         ],
         "xaxis": "x",
         "y": [
          0.14574269399429193,
          0.23991555551625288,
          0.381057954755588,
          0.1769822148553603
         ],
         "yaxis": "y"
        },
        {
         "hovertemplate": "color=10<br>symbol=WT<br>2=%{x}<br>3=%{y}<extra></extra>",
         "legendgroup": "10, WT",
         "marker": {
          "color": "#19d3f3",
          "size": 13,
          "symbol": "circle"
         },
         "mode": "markers",
         "name": "10, WT",
         "orientation": "v",
         "showlegend": true,
         "type": "scatter",
         "x": [
          -0.36454433421254034,
          -0.383663881949797,
          -0.1509750227719996,
          -0.41867298116602286
         ],
         "xaxis": "x",
         "y": [
          0.38546983460545775,
          0.3603464613849015,
          0.13919229661010657,
          0.5352522604527024
         ],
         "yaxis": "y"
        },
        {
         "hovertemplate": "color=12<br>symbol=WT<br>2=%{x}<br>3=%{y}<extra></extra>",
         "legendgroup": "12, WT",
         "marker": {
          "color": "#FF6692",
          "size": 13,
          "symbol": "circle"
         },
         "mode": "markers",
         "name": "12, WT",
         "orientation": "v",
         "showlegend": true,
         "type": "scatter",
         "x": [
          -0.04819498520566945,
          -0.25501910696781616,
          -0.3557381582168497,
          0.12228587060880987
         ],
         "xaxis": "x",
         "y": [
          0.133291228799451,
          0.36253216405348754,
          0.43265426445219857,
          0.09092938957040325
         ],
         "yaxis": "y"
        },
        {
         "hovertemplate": "color=14<br>symbol=WT<br>2=%{x}<br>3=%{y}<extra></extra>",
         "legendgroup": "14, WT",
         "marker": {
          "color": "#B6E880",
          "size": 13,
          "symbol": "circle"
         },
         "mode": "markers",
         "name": "14, WT",
         "orientation": "v",
         "showlegend": true,
         "type": "scatter",
         "x": [
          0.5110638946542116,
          0.4721359136811502,
          0.20997511987669018,
          0.3515463372478551
         ],
         "xaxis": "x",
         "y": [
          0.20195039338551612,
          -0.6755560167427662,
          -0.008635402734533516,
          -0.8935545887940988
         ],
         "yaxis": "y"
        },
        {
         "hovertemplate": "color=16<br>symbol=WT<br>2=%{x}<br>3=%{y}<extra></extra>",
         "legendgroup": "16, WT",
         "marker": {
          "color": "#FF97FF",
          "size": 13,
          "symbol": "circle"
         },
         "mode": "markers",
         "name": "16, WT",
         "orientation": "v",
         "showlegend": true,
         "type": "scatter",
         "x": [
          0.9896874756597953,
          0.3825593191950016,
          0.9394677458899166,
          0.4634289728054266
         ],
         "xaxis": "x",
         "y": [
          0.3878947550444536,
          -1.1029869435017077,
          0.3854714021038722,
          -0.5262571600550506
         ],
         "yaxis": "y"
        },
        {
         "hovertemplate": "color=18<br>symbol=WT<br>2=%{x}<br>3=%{y}<extra></extra>",
         "legendgroup": "18, WT",
         "marker": {
          "color": "#FECB52",
          "size": 13,
          "symbol": "circle"
         },
         "mode": "markers",
         "name": "18, WT",
         "orientation": "v",
         "showlegend": true,
         "type": "scatter",
         "x": [
          0.4544499308536328,
          -0.07621076740319987,
          0.29814622662591217,
          0.7378261002986833
         ],
         "xaxis": "x",
         "y": [
          -0.07072956510987458,
          -0.28251521398274054,
          -0.5641284835892701,
          -0.09707398440803493
         ],
         "yaxis": "y"
        },
        {
         "hovertemplate": "color=20<br>symbol=WT<br>2=%{x}<br>3=%{y}<extra></extra>",
         "legendgroup": "20, WT",
         "marker": {
          "color": "#636efa",
          "size": 13,
          "symbol": "circle"
         },
         "mode": "markers",
         "name": "20, WT",
         "orientation": "v",
         "showlegend": true,
         "type": "scatter",
         "x": [
          -0.8729307670413335,
          -0.9599233428236782,
          0.1962556032900611,
          0.7505312808353372
         ],
         "xaxis": "x",
         "y": [
          -0.11065254674107884,
          0.045265572539317296,
          0.1825257119834791,
          0.8178270574123656
         ],
         "yaxis": "y"
        },
        {
         "hovertemplate": "color=22<br>symbol=WT<br>2=%{x}<br>3=%{y}<extra></extra>",
         "legendgroup": "22, WT",
         "marker": {
          "color": "#EF553B",
          "size": 13,
          "symbol": "circle"
         },
         "mode": "markers",
         "name": "22, WT",
         "orientation": "v",
         "showlegend": true,
         "type": "scatter",
         "x": [
          -0.609319635988455,
          -0.6866396424455762,
          -0.8995684347947508,
          0.04706418761652104
         ],
         "xaxis": "x",
         "y": [
          0.30265151831055487,
          0.6967637592926392,
          0.15452196083971298,
          -0.48458622146238856
         ],
         "yaxis": "y"
        }
       ],
       "layout": {
        "height": 600,
        "legend": {
         "title": {
          "text": "color, symbol"
         },
         "tracegroupgap": 0
        },
        "margin": {
         "t": 60
        },
        "plot_bgcolor": "rgb(243,243,243)",
        "template": {
         "data": {
          "bar": [
           {
            "error_x": {
             "color": "#2a3f5f"
            },
            "error_y": {
             "color": "#2a3f5f"
            },
            "marker": {
             "line": {
              "color": "#E5ECF6",
              "width": 0.5
             },
             "pattern": {
              "fillmode": "overlay",
              "size": 10,
              "solidity": 0.2
             }
            },
            "type": "bar"
           }
          ],
          "barpolar": [
           {
            "marker": {
             "line": {
              "color": "#E5ECF6",
              "width": 0.5
             },
             "pattern": {
              "fillmode": "overlay",
              "size": 10,
              "solidity": 0.2
             }
            },
            "type": "barpolar"
           }
          ],
          "carpet": [
           {
            "aaxis": {
             "endlinecolor": "#2a3f5f",
             "gridcolor": "white",
             "linecolor": "white",
             "minorgridcolor": "white",
             "startlinecolor": "#2a3f5f"
            },
            "baxis": {
             "endlinecolor": "#2a3f5f",
             "gridcolor": "white",
             "linecolor": "white",
             "minorgridcolor": "white",
             "startlinecolor": "#2a3f5f"
            },
            "type": "carpet"
           }
          ],
          "choropleth": [
           {
            "colorbar": {
             "outlinewidth": 0,
             "ticks": ""
            },
            "type": "choropleth"
           }
          ],
          "contour": [
           {
            "colorbar": {
             "outlinewidth": 0,
             "ticks": ""
            },
            "colorscale": [
             [
              0,
              "#0d0887"
             ],
             [
              0.1111111111111111,
              "#46039f"
             ],
             [
              0.2222222222222222,
              "#7201a8"
             ],
             [
              0.3333333333333333,
              "#9c179e"
             ],
             [
              0.4444444444444444,
              "#bd3786"
             ],
             [
              0.5555555555555556,
              "#d8576b"
             ],
             [
              0.6666666666666666,
              "#ed7953"
             ],
             [
              0.7777777777777778,
              "#fb9f3a"
             ],
             [
              0.8888888888888888,
              "#fdca26"
             ],
             [
              1,
              "#f0f921"
             ]
            ],
            "type": "contour"
           }
          ],
          "contourcarpet": [
           {
            "colorbar": {
             "outlinewidth": 0,
             "ticks": ""
            },
            "type": "contourcarpet"
           }
          ],
          "heatmap": [
           {
            "colorbar": {
             "outlinewidth": 0,
             "ticks": ""
            },
            "colorscale": [
             [
              0,
              "#0d0887"
             ],
             [
              0.1111111111111111,
              "#46039f"
             ],
             [
              0.2222222222222222,
              "#7201a8"
             ],
             [
              0.3333333333333333,
              "#9c179e"
             ],
             [
              0.4444444444444444,
              "#bd3786"
             ],
             [
              0.5555555555555556,
              "#d8576b"
             ],
             [
              0.6666666666666666,
              "#ed7953"
             ],
             [
              0.7777777777777778,
              "#fb9f3a"
             ],
             [
              0.8888888888888888,
              "#fdca26"
             ],
             [
              1,
              "#f0f921"
             ]
            ],
            "type": "heatmap"
           }
          ],
          "heatmapgl": [
           {
            "colorbar": {
             "outlinewidth": 0,
             "ticks": ""
            },
            "colorscale": [
             [
              0,
              "#0d0887"
             ],
             [
              0.1111111111111111,
              "#46039f"
             ],
             [
              0.2222222222222222,
              "#7201a8"
             ],
             [
              0.3333333333333333,
              "#9c179e"
             ],
             [
              0.4444444444444444,
              "#bd3786"
             ],
             [
              0.5555555555555556,
              "#d8576b"
             ],
             [
              0.6666666666666666,
              "#ed7953"
             ],
             [
              0.7777777777777778,
              "#fb9f3a"
             ],
             [
              0.8888888888888888,
              "#fdca26"
             ],
             [
              1,
              "#f0f921"
             ]
            ],
            "type": "heatmapgl"
           }
          ],
          "histogram": [
           {
            "marker": {
             "pattern": {
              "fillmode": "overlay",
              "size": 10,
              "solidity": 0.2
             }
            },
            "type": "histogram"
           }
          ],
          "histogram2d": [
           {
            "colorbar": {
             "outlinewidth": 0,
             "ticks": ""
            },
            "colorscale": [
             [
              0,
              "#0d0887"
             ],
             [
              0.1111111111111111,
              "#46039f"
             ],
             [
              0.2222222222222222,
              "#7201a8"
             ],
             [
              0.3333333333333333,
              "#9c179e"
             ],
             [
              0.4444444444444444,
              "#bd3786"
             ],
             [
              0.5555555555555556,
              "#d8576b"
             ],
             [
              0.6666666666666666,
              "#ed7953"
             ],
             [
              0.7777777777777778,
              "#fb9f3a"
             ],
             [
              0.8888888888888888,
              "#fdca26"
             ],
             [
              1,
              "#f0f921"
             ]
            ],
            "type": "histogram2d"
           }
          ],
          "histogram2dcontour": [
           {
            "colorbar": {
             "outlinewidth": 0,
             "ticks": ""
            },
            "colorscale": [
             [
              0,
              "#0d0887"
             ],
             [
              0.1111111111111111,
              "#46039f"
             ],
             [
              0.2222222222222222,
              "#7201a8"
             ],
             [
              0.3333333333333333,
              "#9c179e"
             ],
             [
              0.4444444444444444,
              "#bd3786"
             ],
             [
              0.5555555555555556,
              "#d8576b"
             ],
             [
              0.6666666666666666,
              "#ed7953"
             ],
             [
              0.7777777777777778,
              "#fb9f3a"
             ],
             [
              0.8888888888888888,
              "#fdca26"
             ],
             [
              1,
              "#f0f921"
             ]
            ],
            "type": "histogram2dcontour"
           }
          ],
          "mesh3d": [
           {
            "colorbar": {
             "outlinewidth": 0,
             "ticks": ""
            },
            "type": "mesh3d"
           }
          ],
          "parcoords": [
           {
            "line": {
             "colorbar": {
              "outlinewidth": 0,
              "ticks": ""
             }
            },
            "type": "parcoords"
           }
          ],
          "pie": [
           {
            "automargin": true,
            "type": "pie"
           }
          ],
          "scatter": [
           {
            "fillpattern": {
             "fillmode": "overlay",
             "size": 10,
             "solidity": 0.2
            },
            "type": "scatter"
           }
          ],
          "scatter3d": [
           {
            "line": {
             "colorbar": {
              "outlinewidth": 0,
              "ticks": ""
             }
            },
            "marker": {
             "colorbar": {
              "outlinewidth": 0,
              "ticks": ""
             }
            },
            "type": "scatter3d"
           }
          ],
          "scattercarpet": [
           {
            "marker": {
             "colorbar": {
              "outlinewidth": 0,
              "ticks": ""
             }
            },
            "type": "scattercarpet"
           }
          ],
          "scattergeo": [
           {
            "marker": {
             "colorbar": {
              "outlinewidth": 0,
              "ticks": ""
             }
            },
            "type": "scattergeo"
           }
          ],
          "scattergl": [
           {
            "marker": {
             "colorbar": {
              "outlinewidth": 0,
              "ticks": ""
             }
            },
            "type": "scattergl"
           }
          ],
          "scattermapbox": [
           {
            "marker": {
             "colorbar": {
              "outlinewidth": 0,
              "ticks": ""
             }
            },
            "type": "scattermapbox"
           }
          ],
          "scatterpolar": [
           {
            "marker": {
             "colorbar": {
              "outlinewidth": 0,
              "ticks": ""
             }
            },
            "type": "scatterpolar"
           }
          ],
          "scatterpolargl": [
           {
            "marker": {
             "colorbar": {
              "outlinewidth": 0,
              "ticks": ""
             }
            },
            "type": "scatterpolargl"
           }
          ],
          "scatterternary": [
           {
            "marker": {
             "colorbar": {
              "outlinewidth": 0,
              "ticks": ""
             }
            },
            "type": "scatterternary"
           }
          ],
          "surface": [
           {
            "colorbar": {
             "outlinewidth": 0,
             "ticks": ""
            },
            "colorscale": [
             [
              0,
              "#0d0887"
             ],
             [
              0.1111111111111111,
              "#46039f"
             ],
             [
              0.2222222222222222,
              "#7201a8"
             ],
             [
              0.3333333333333333,
              "#9c179e"
             ],
             [
              0.4444444444444444,
              "#bd3786"
             ],
             [
              0.5555555555555556,
              "#d8576b"
             ],
             [
              0.6666666666666666,
              "#ed7953"
             ],
             [
              0.7777777777777778,
              "#fb9f3a"
             ],
             [
              0.8888888888888888,
              "#fdca26"
             ],
             [
              1,
              "#f0f921"
             ]
            ],
            "type": "surface"
           }
          ],
          "table": [
           {
            "cells": {
             "fill": {
              "color": "#EBF0F8"
             },
             "line": {
              "color": "white"
             }
            },
            "header": {
             "fill": {
              "color": "#C8D4E3"
             },
             "line": {
              "color": "white"
             }
            },
            "type": "table"
           }
          ]
         },
         "layout": {
          "annotationdefaults": {
           "arrowcolor": "#2a3f5f",
           "arrowhead": 0,
           "arrowwidth": 1
          },
          "autotypenumbers": "strict",
          "coloraxis": {
           "colorbar": {
            "outlinewidth": 0,
            "ticks": ""
           }
          },
          "colorscale": {
           "diverging": [
            [
             0,
             "#8e0152"
            ],
            [
             0.1,
             "#c51b7d"
            ],
            [
             0.2,
             "#de77ae"
            ],
            [
             0.3,
             "#f1b6da"
            ],
            [
             0.4,
             "#fde0ef"
            ],
            [
             0.5,
             "#f7f7f7"
            ],
            [
             0.6,
             "#e6f5d0"
            ],
            [
             0.7,
             "#b8e186"
            ],
            [
             0.8,
             "#7fbc41"
            ],
            [
             0.9,
             "#4d9221"
            ],
            [
             1,
             "#276419"
            ]
           ],
           "sequential": [
            [
             0,
             "#0d0887"
            ],
            [
             0.1111111111111111,
             "#46039f"
            ],
            [
             0.2222222222222222,
             "#7201a8"
            ],
            [
             0.3333333333333333,
             "#9c179e"
            ],
            [
             0.4444444444444444,
             "#bd3786"
            ],
            [
             0.5555555555555556,
             "#d8576b"
            ],
            [
             0.6666666666666666,
             "#ed7953"
            ],
            [
             0.7777777777777778,
             "#fb9f3a"
            ],
            [
             0.8888888888888888,
             "#fdca26"
            ],
            [
             1,
             "#f0f921"
            ]
           ],
           "sequentialminus": [
            [
             0,
             "#0d0887"
            ],
            [
             0.1111111111111111,
             "#46039f"
            ],
            [
             0.2222222222222222,
             "#7201a8"
            ],
            [
             0.3333333333333333,
             "#9c179e"
            ],
            [
             0.4444444444444444,
             "#bd3786"
            ],
            [
             0.5555555555555556,
             "#d8576b"
            ],
            [
             0.6666666666666666,
             "#ed7953"
            ],
            [
             0.7777777777777778,
             "#fb9f3a"
            ],
            [
             0.8888888888888888,
             "#fdca26"
            ],
            [
             1,
             "#f0f921"
            ]
           ]
          },
          "colorway": [
           "#636efa",
           "#EF553B",
           "#00cc96",
           "#ab63fa",
           "#FFA15A",
           "#19d3f3",
           "#FF6692",
           "#B6E880",
           "#FF97FF",
           "#FECB52"
          ],
          "font": {
           "color": "#2a3f5f"
          },
          "geo": {
           "bgcolor": "white",
           "lakecolor": "white",
           "landcolor": "#E5ECF6",
           "showlakes": true,
           "showland": true,
           "subunitcolor": "white"
          },
          "hoverlabel": {
           "align": "left"
          },
          "hovermode": "closest",
          "mapbox": {
           "style": "light"
          },
          "paper_bgcolor": "white",
          "plot_bgcolor": "#E5ECF6",
          "polar": {
           "angularaxis": {
            "gridcolor": "white",
            "linecolor": "white",
            "ticks": ""
           },
           "bgcolor": "#E5ECF6",
           "radialaxis": {
            "gridcolor": "white",
            "linecolor": "white",
            "ticks": ""
           }
          },
          "scene": {
           "xaxis": {
            "backgroundcolor": "#E5ECF6",
            "gridcolor": "white",
            "gridwidth": 2,
            "linecolor": "white",
            "showbackground": true,
            "ticks": "",
            "zerolinecolor": "white"
           },
           "yaxis": {
            "backgroundcolor": "#E5ECF6",
            "gridcolor": "white",
            "gridwidth": 2,
            "linecolor": "white",
            "showbackground": true,
            "ticks": "",
            "zerolinecolor": "white"
           },
           "zaxis": {
            "backgroundcolor": "#E5ECF6",
            "gridcolor": "white",
            "gridwidth": 2,
            "linecolor": "white",
            "showbackground": true,
            "ticks": "",
            "zerolinecolor": "white"
           }
          },
          "shapedefaults": {
           "line": {
            "color": "#2a3f5f"
           }
          },
          "ternary": {
           "aaxis": {
            "gridcolor": "white",
            "linecolor": "white",
            "ticks": ""
           },
           "baxis": {
            "gridcolor": "white",
            "linecolor": "white",
            "ticks": ""
           },
           "bgcolor": "#E5ECF6",
           "caxis": {
            "gridcolor": "white",
            "linecolor": "white",
            "ticks": ""
           }
          },
          "title": {
           "x": 0.05
          },
          "xaxis": {
           "automargin": true,
           "gridcolor": "white",
           "linecolor": "white",
           "ticks": "",
           "title": {
            "standoff": 15
           },
           "zerolinecolor": "white",
           "zerolinewidth": 2
          },
          "yaxis": {
           "automargin": true,
           "gridcolor": "white",
           "linecolor": "white",
           "ticks": "",
           "title": {
            "standoff": 15
           },
           "zerolinecolor": "white",
           "zerolinewidth": 2
          }
         }
        },
        "width": 600,
        "xaxis": {
         "anchor": "y",
         "domain": [
          0,
          1
         ],
         "title": {
          "text": "PC 3 (3.3%)"
         }
        },
        "yaxis": {
         "anchor": "x",
         "domain": [
          0,
          1
         ],
         "title": {
          "text": "PC 4 (2.6%)"
         }
        }
       }
      },
      "text/html": [
       "<div>                            <div id=\"5a8291df-a008-4053-8a95-8d444fcff012\" class=\"plotly-graph-div\" style=\"height:600px; width:600px;\"></div>            <script type=\"text/javascript\">                require([\"plotly\"], function(Plotly) {                    window.PLOTLYENV=window.PLOTLYENV || {};                                    if (document.getElementById(\"5a8291df-a008-4053-8a95-8d444fcff012\")) {                    Plotly.newPlot(                        \"5a8291df-a008-4053-8a95-8d444fcff012\",                        [{\"hovertemplate\":\"color=00<br>symbol=WT<br>2=%{x}<br>3=%{y}<extra></extra>\",\"legendgroup\":\"00, WT\",\"marker\":{\"color\":\"#636efa\",\"symbol\":\"circle\",\"size\":13},\"mode\":\"markers\",\"name\":\"00, WT\",\"orientation\":\"v\",\"showlegend\":true,\"x\":[-0.5291642822906555,0.404320728373145,0.18281472873472482,0.7362366076827731],\"xaxis\":\"x\",\"y\":[-0.014091648717270738,-0.11669250999597648,0.06841047019575273,0.19254734190318656],\"yaxis\":\"y\",\"type\":\"scatter\"},{\"hovertemplate\":\"color=02<br>symbol=WT<br>2=%{x}<br>3=%{y}<extra></extra>\",\"legendgroup\":\"02, WT\",\"marker\":{\"color\":\"#EF553B\",\"symbol\":\"circle\",\"size\":13},\"mode\":\"markers\",\"name\":\"02, WT\",\"orientation\":\"v\",\"showlegend\":true,\"x\":[0.4150452985273073,0.8254999404240485,0.17975979652799218,0.10835541699811242],\"xaxis\":\"x\",\"y\":[0.6193362062496327,1.2962769892737247,-0.23093649099065863,-0.3520307389095446],\"yaxis\":\"y\",\"type\":\"scatter\"},{\"hovertemplate\":\"color=04<br>symbol=WT<br>2=%{x}<br>3=%{y}<extra></extra>\",\"legendgroup\":\"04, WT\",\"marker\":{\"color\":\"#00cc96\",\"symbol\":\"circle\",\"size\":13},\"mode\":\"markers\",\"name\":\"04, WT\",\"orientation\":\"v\",\"showlegend\":true,\"x\":[-0.04166421043030467,0.47812193836050454,-0.49049104016198974,0.3636208771809814],\"xaxis\":\"x\",\"y\":[-0.5378728286429264,-0.2496752240995096,-0.3504860950985119,-0.5356084569861073],\"yaxis\":\"y\",\"type\":\"scatter\"},{\"hovertemplate\":\"color=06<br>symbol=WT<br>2=%{x}<br>3=%{y}<extra></extra>\",\"legendgroup\":\"06, WT\",\"marker\":{\"color\":\"#ab63fa\",\"symbol\":\"circle\",\"size\":13},\"mode\":\"markers\",\"name\":\"06, WT\",\"orientation\":\"v\",\"showlegend\":true,\"x\":[-0.37100117486843914,-0.5002929673325589,-0.5155923663840003,-0.4865157383201035],\"xaxis\":\"x\",\"y\":[-0.39685930080160875,-0.4215132256211728,-0.21805558682729684,-0.4943112237722788],\"yaxis\":\"y\",\"type\":\"scatter\"},{\"hovertemplate\":\"color=08<br>symbol=WT<br>2=%{x}<br>3=%{y}<extra></extra>\",\"legendgroup\":\"08, WT\",\"marker\":{\"color\":\"#FFA15A\",\"symbol\":\"circle\",\"size\":13},\"mode\":\"markers\",\"name\":\"08, WT\",\"orientation\":\"v\",\"showlegend\":true,\"x\":[-0.4478290294058766,-0.3559408733905678,-0.35074248291878507,-0.44956408545763243],\"xaxis\":\"x\",\"y\":[0.14574269399429193,0.23991555551625288,0.381057954755588,0.1769822148553603],\"yaxis\":\"y\",\"type\":\"scatter\"},{\"hovertemplate\":\"color=10<br>symbol=WT<br>2=%{x}<br>3=%{y}<extra></extra>\",\"legendgroup\":\"10, WT\",\"marker\":{\"color\":\"#19d3f3\",\"symbol\":\"circle\",\"size\":13},\"mode\":\"markers\",\"name\":\"10, WT\",\"orientation\":\"v\",\"showlegend\":true,\"x\":[-0.36454433421254034,-0.383663881949797,-0.1509750227719996,-0.41867298116602286],\"xaxis\":\"x\",\"y\":[0.38546983460545775,0.3603464613849015,0.13919229661010657,0.5352522604527024],\"yaxis\":\"y\",\"type\":\"scatter\"},{\"hovertemplate\":\"color=12<br>symbol=WT<br>2=%{x}<br>3=%{y}<extra></extra>\",\"legendgroup\":\"12, WT\",\"marker\":{\"color\":\"#FF6692\",\"symbol\":\"circle\",\"size\":13},\"mode\":\"markers\",\"name\":\"12, WT\",\"orientation\":\"v\",\"showlegend\":true,\"x\":[-0.04819498520566945,-0.25501910696781616,-0.3557381582168497,0.12228587060880987],\"xaxis\":\"x\",\"y\":[0.133291228799451,0.36253216405348754,0.43265426445219857,0.09092938957040325],\"yaxis\":\"y\",\"type\":\"scatter\"},{\"hovertemplate\":\"color=14<br>symbol=WT<br>2=%{x}<br>3=%{y}<extra></extra>\",\"legendgroup\":\"14, WT\",\"marker\":{\"color\":\"#B6E880\",\"symbol\":\"circle\",\"size\":13},\"mode\":\"markers\",\"name\":\"14, WT\",\"orientation\":\"v\",\"showlegend\":true,\"x\":[0.5110638946542116,0.4721359136811502,0.20997511987669018,0.3515463372478551],\"xaxis\":\"x\",\"y\":[0.20195039338551612,-0.6755560167427662,-0.008635402734533516,-0.8935545887940988],\"yaxis\":\"y\",\"type\":\"scatter\"},{\"hovertemplate\":\"color=16<br>symbol=WT<br>2=%{x}<br>3=%{y}<extra></extra>\",\"legendgroup\":\"16, WT\",\"marker\":{\"color\":\"#FF97FF\",\"symbol\":\"circle\",\"size\":13},\"mode\":\"markers\",\"name\":\"16, WT\",\"orientation\":\"v\",\"showlegend\":true,\"x\":[0.9896874756597953,0.3825593191950016,0.9394677458899166,0.4634289728054266],\"xaxis\":\"x\",\"y\":[0.3878947550444536,-1.1029869435017077,0.3854714021038722,-0.5262571600550506],\"yaxis\":\"y\",\"type\":\"scatter\"},{\"hovertemplate\":\"color=18<br>symbol=WT<br>2=%{x}<br>3=%{y}<extra></extra>\",\"legendgroup\":\"18, WT\",\"marker\":{\"color\":\"#FECB52\",\"symbol\":\"circle\",\"size\":13},\"mode\":\"markers\",\"name\":\"18, WT\",\"orientation\":\"v\",\"showlegend\":true,\"x\":[0.4544499308536328,-0.07621076740319987,0.29814622662591217,0.7378261002986833],\"xaxis\":\"x\",\"y\":[-0.07072956510987458,-0.28251521398274054,-0.5641284835892701,-0.09707398440803493],\"yaxis\":\"y\",\"type\":\"scatter\"},{\"hovertemplate\":\"color=20<br>symbol=WT<br>2=%{x}<br>3=%{y}<extra></extra>\",\"legendgroup\":\"20, WT\",\"marker\":{\"color\":\"#636efa\",\"symbol\":\"circle\",\"size\":13},\"mode\":\"markers\",\"name\":\"20, WT\",\"orientation\":\"v\",\"showlegend\":true,\"x\":[-0.8729307670413335,-0.9599233428236782,0.1962556032900611,0.7505312808353372],\"xaxis\":\"x\",\"y\":[-0.11065254674107884,0.045265572539317296,0.1825257119834791,0.8178270574123656],\"yaxis\":\"y\",\"type\":\"scatter\"},{\"hovertemplate\":\"color=22<br>symbol=WT<br>2=%{x}<br>3=%{y}<extra></extra>\",\"legendgroup\":\"22, WT\",\"marker\":{\"color\":\"#EF553B\",\"symbol\":\"circle\",\"size\":13},\"mode\":\"markers\",\"name\":\"22, WT\",\"orientation\":\"v\",\"showlegend\":true,\"x\":[-0.609319635988455,-0.6866396424455762,-0.8995684347947508,0.04706418761652104],\"xaxis\":\"x\",\"y\":[0.30265151831055487,0.6967637592926392,0.15452196083971298,-0.48458622146238856],\"yaxis\":\"y\",\"type\":\"scatter\"}],                        {\"template\":{\"data\":{\"histogram2dcontour\":[{\"type\":\"histogram2dcontour\",\"colorbar\":{\"outlinewidth\":0,\"ticks\":\"\"},\"colorscale\":[[0.0,\"#0d0887\"],[0.1111111111111111,\"#46039f\"],[0.2222222222222222,\"#7201a8\"],[0.3333333333333333,\"#9c179e\"],[0.4444444444444444,\"#bd3786\"],[0.5555555555555556,\"#d8576b\"],[0.6666666666666666,\"#ed7953\"],[0.7777777777777778,\"#fb9f3a\"],[0.8888888888888888,\"#fdca26\"],[1.0,\"#f0f921\"]]}],\"choropleth\":[{\"type\":\"choropleth\",\"colorbar\":{\"outlinewidth\":0,\"ticks\":\"\"}}],\"histogram2d\":[{\"type\":\"histogram2d\",\"colorbar\":{\"outlinewidth\":0,\"ticks\":\"\"},\"colorscale\":[[0.0,\"#0d0887\"],[0.1111111111111111,\"#46039f\"],[0.2222222222222222,\"#7201a8\"],[0.3333333333333333,\"#9c179e\"],[0.4444444444444444,\"#bd3786\"],[0.5555555555555556,\"#d8576b\"],[0.6666666666666666,\"#ed7953\"],[0.7777777777777778,\"#fb9f3a\"],[0.8888888888888888,\"#fdca26\"],[1.0,\"#f0f921\"]]}],\"heatmap\":[{\"type\":\"heatmap\",\"colorbar\":{\"outlinewidth\":0,\"ticks\":\"\"},\"colorscale\":[[0.0,\"#0d0887\"],[0.1111111111111111,\"#46039f\"],[0.2222222222222222,\"#7201a8\"],[0.3333333333333333,\"#9c179e\"],[0.4444444444444444,\"#bd3786\"],[0.5555555555555556,\"#d8576b\"],[0.6666666666666666,\"#ed7953\"],[0.7777777777777778,\"#fb9f3a\"],[0.8888888888888888,\"#fdca26\"],[1.0,\"#f0f921\"]]}],\"heatmapgl\":[{\"type\":\"heatmapgl\",\"colorbar\":{\"outlinewidth\":0,\"ticks\":\"\"},\"colorscale\":[[0.0,\"#0d0887\"],[0.1111111111111111,\"#46039f\"],[0.2222222222222222,\"#7201a8\"],[0.3333333333333333,\"#9c179e\"],[0.4444444444444444,\"#bd3786\"],[0.5555555555555556,\"#d8576b\"],[0.6666666666666666,\"#ed7953\"],[0.7777777777777778,\"#fb9f3a\"],[0.8888888888888888,\"#fdca26\"],[1.0,\"#f0f921\"]]}],\"contourcarpet\":[{\"type\":\"contourcarpet\",\"colorbar\":{\"outlinewidth\":0,\"ticks\":\"\"}}],\"contour\":[{\"type\":\"contour\",\"colorbar\":{\"outlinewidth\":0,\"ticks\":\"\"},\"colorscale\":[[0.0,\"#0d0887\"],[0.1111111111111111,\"#46039f\"],[0.2222222222222222,\"#7201a8\"],[0.3333333333333333,\"#9c179e\"],[0.4444444444444444,\"#bd3786\"],[0.5555555555555556,\"#d8576b\"],[0.6666666666666666,\"#ed7953\"],[0.7777777777777778,\"#fb9f3a\"],[0.8888888888888888,\"#fdca26\"],[1.0,\"#f0f921\"]]}],\"surface\":[{\"type\":\"surface\",\"colorbar\":{\"outlinewidth\":0,\"ticks\":\"\"},\"colorscale\":[[0.0,\"#0d0887\"],[0.1111111111111111,\"#46039f\"],[0.2222222222222222,\"#7201a8\"],[0.3333333333333333,\"#9c179e\"],[0.4444444444444444,\"#bd3786\"],[0.5555555555555556,\"#d8576b\"],[0.6666666666666666,\"#ed7953\"],[0.7777777777777778,\"#fb9f3a\"],[0.8888888888888888,\"#fdca26\"],[1.0,\"#f0f921\"]]}],\"mesh3d\":[{\"type\":\"mesh3d\",\"colorbar\":{\"outlinewidth\":0,\"ticks\":\"\"}}],\"scatter\":[{\"fillpattern\":{\"fillmode\":\"overlay\",\"size\":10,\"solidity\":0.2},\"type\":\"scatter\"}],\"parcoords\":[{\"type\":\"parcoords\",\"line\":{\"colorbar\":{\"outlinewidth\":0,\"ticks\":\"\"}}}],\"scatterpolargl\":[{\"type\":\"scatterpolargl\",\"marker\":{\"colorbar\":{\"outlinewidth\":0,\"ticks\":\"\"}}}],\"bar\":[{\"error_x\":{\"color\":\"#2a3f5f\"},\"error_y\":{\"color\":\"#2a3f5f\"},\"marker\":{\"line\":{\"color\":\"#E5ECF6\",\"width\":0.5},\"pattern\":{\"fillmode\":\"overlay\",\"size\":10,\"solidity\":0.2}},\"type\":\"bar\"}],\"scattergeo\":[{\"type\":\"scattergeo\",\"marker\":{\"colorbar\":{\"outlinewidth\":0,\"ticks\":\"\"}}}],\"scatterpolar\":[{\"type\":\"scatterpolar\",\"marker\":{\"colorbar\":{\"outlinewidth\":0,\"ticks\":\"\"}}}],\"histogram\":[{\"marker\":{\"pattern\":{\"fillmode\":\"overlay\",\"size\":10,\"solidity\":0.2}},\"type\":\"histogram\"}],\"scattergl\":[{\"type\":\"scattergl\",\"marker\":{\"colorbar\":{\"outlinewidth\":0,\"ticks\":\"\"}}}],\"scatter3d\":[{\"type\":\"scatter3d\",\"line\":{\"colorbar\":{\"outlinewidth\":0,\"ticks\":\"\"}},\"marker\":{\"colorbar\":{\"outlinewidth\":0,\"ticks\":\"\"}}}],\"scattermapbox\":[{\"type\":\"scattermapbox\",\"marker\":{\"colorbar\":{\"outlinewidth\":0,\"ticks\":\"\"}}}],\"scatterternary\":[{\"type\":\"scatterternary\",\"marker\":{\"colorbar\":{\"outlinewidth\":0,\"ticks\":\"\"}}}],\"scattercarpet\":[{\"type\":\"scattercarpet\",\"marker\":{\"colorbar\":{\"outlinewidth\":0,\"ticks\":\"\"}}}],\"carpet\":[{\"aaxis\":{\"endlinecolor\":\"#2a3f5f\",\"gridcolor\":\"white\",\"linecolor\":\"white\",\"minorgridcolor\":\"white\",\"startlinecolor\":\"#2a3f5f\"},\"baxis\":{\"endlinecolor\":\"#2a3f5f\",\"gridcolor\":\"white\",\"linecolor\":\"white\",\"minorgridcolor\":\"white\",\"startlinecolor\":\"#2a3f5f\"},\"type\":\"carpet\"}],\"table\":[{\"cells\":{\"fill\":{\"color\":\"#EBF0F8\"},\"line\":{\"color\":\"white\"}},\"header\":{\"fill\":{\"color\":\"#C8D4E3\"},\"line\":{\"color\":\"white\"}},\"type\":\"table\"}],\"barpolar\":[{\"marker\":{\"line\":{\"color\":\"#E5ECF6\",\"width\":0.5},\"pattern\":{\"fillmode\":\"overlay\",\"size\":10,\"solidity\":0.2}},\"type\":\"barpolar\"}],\"pie\":[{\"automargin\":true,\"type\":\"pie\"}]},\"layout\":{\"autotypenumbers\":\"strict\",\"colorway\":[\"#636efa\",\"#EF553B\",\"#00cc96\",\"#ab63fa\",\"#FFA15A\",\"#19d3f3\",\"#FF6692\",\"#B6E880\",\"#FF97FF\",\"#FECB52\"],\"font\":{\"color\":\"#2a3f5f\"},\"hovermode\":\"closest\",\"hoverlabel\":{\"align\":\"left\"},\"paper_bgcolor\":\"white\",\"plot_bgcolor\":\"#E5ECF6\",\"polar\":{\"bgcolor\":\"#E5ECF6\",\"angularaxis\":{\"gridcolor\":\"white\",\"linecolor\":\"white\",\"ticks\":\"\"},\"radialaxis\":{\"gridcolor\":\"white\",\"linecolor\":\"white\",\"ticks\":\"\"}},\"ternary\":{\"bgcolor\":\"#E5ECF6\",\"aaxis\":{\"gridcolor\":\"white\",\"linecolor\":\"white\",\"ticks\":\"\"},\"baxis\":{\"gridcolor\":\"white\",\"linecolor\":\"white\",\"ticks\":\"\"},\"caxis\":{\"gridcolor\":\"white\",\"linecolor\":\"white\",\"ticks\":\"\"}},\"coloraxis\":{\"colorbar\":{\"outlinewidth\":0,\"ticks\":\"\"}},\"colorscale\":{\"sequential\":[[0.0,\"#0d0887\"],[0.1111111111111111,\"#46039f\"],[0.2222222222222222,\"#7201a8\"],[0.3333333333333333,\"#9c179e\"],[0.4444444444444444,\"#bd3786\"],[0.5555555555555556,\"#d8576b\"],[0.6666666666666666,\"#ed7953\"],[0.7777777777777778,\"#fb9f3a\"],[0.8888888888888888,\"#fdca26\"],[1.0,\"#f0f921\"]],\"sequentialminus\":[[0.0,\"#0d0887\"],[0.1111111111111111,\"#46039f\"],[0.2222222222222222,\"#7201a8\"],[0.3333333333333333,\"#9c179e\"],[0.4444444444444444,\"#bd3786\"],[0.5555555555555556,\"#d8576b\"],[0.6666666666666666,\"#ed7953\"],[0.7777777777777778,\"#fb9f3a\"],[0.8888888888888888,\"#fdca26\"],[1.0,\"#f0f921\"]],\"diverging\":[[0,\"#8e0152\"],[0.1,\"#c51b7d\"],[0.2,\"#de77ae\"],[0.3,\"#f1b6da\"],[0.4,\"#fde0ef\"],[0.5,\"#f7f7f7\"],[0.6,\"#e6f5d0\"],[0.7,\"#b8e186\"],[0.8,\"#7fbc41\"],[0.9,\"#4d9221\"],[1,\"#276419\"]]},\"xaxis\":{\"gridcolor\":\"white\",\"linecolor\":\"white\",\"ticks\":\"\",\"title\":{\"standoff\":15},\"zerolinecolor\":\"white\",\"automargin\":true,\"zerolinewidth\":2},\"yaxis\":{\"gridcolor\":\"white\",\"linecolor\":\"white\",\"ticks\":\"\",\"title\":{\"standoff\":15},\"zerolinecolor\":\"white\",\"automargin\":true,\"zerolinewidth\":2},\"scene\":{\"xaxis\":{\"backgroundcolor\":\"#E5ECF6\",\"gridcolor\":\"white\",\"linecolor\":\"white\",\"showbackground\":true,\"ticks\":\"\",\"zerolinecolor\":\"white\",\"gridwidth\":2},\"yaxis\":{\"backgroundcolor\":\"#E5ECF6\",\"gridcolor\":\"white\",\"linecolor\":\"white\",\"showbackground\":true,\"ticks\":\"\",\"zerolinecolor\":\"white\",\"gridwidth\":2},\"zaxis\":{\"backgroundcolor\":\"#E5ECF6\",\"gridcolor\":\"white\",\"linecolor\":\"white\",\"showbackground\":true,\"ticks\":\"\",\"zerolinecolor\":\"white\",\"gridwidth\":2}},\"shapedefaults\":{\"line\":{\"color\":\"#2a3f5f\"}},\"annotationdefaults\":{\"arrowcolor\":\"#2a3f5f\",\"arrowhead\":0,\"arrowwidth\":1},\"geo\":{\"bgcolor\":\"white\",\"landcolor\":\"#E5ECF6\",\"subunitcolor\":\"white\",\"showland\":true,\"showlakes\":true,\"lakecolor\":\"white\"},\"title\":{\"x\":0.05},\"mapbox\":{\"style\":\"light\"}}},\"xaxis\":{\"anchor\":\"y\",\"domain\":[0.0,1.0],\"title\":{\"text\":\"PC 3 (3.3%)\"}},\"yaxis\":{\"anchor\":\"x\",\"domain\":[0.0,1.0],\"title\":{\"text\":\"PC 4 (2.6%)\"}},\"legend\":{\"title\":{\"text\":\"color, symbol\"},\"tracegroupgap\":0},\"margin\":{\"t\":60},\"height\":600,\"width\":600,\"plot_bgcolor\":\"rgb(243,243,243)\"},                        {\"responsive\": true}                    ).then(function(){\n",
       "                            \n",
       "var gd = document.getElementById('5a8291df-a008-4053-8a95-8d444fcff012');\n",
       "var x = new MutationObserver(function (mutations, observer) {{\n",
       "        var display = window.getComputedStyle(gd).display;\n",
       "        if (!display || display === 'none') {{\n",
       "            console.log([gd, 'removed!']);\n",
       "            Plotly.purge(gd);\n",
       "            observer.disconnect();\n",
       "        }}\n",
       "}});\n",
       "\n",
       "// Listen for the removal of the full notebook cells\n",
       "var notebookContainer = gd.closest('#notebook-container');\n",
       "if (notebookContainer) {{\n",
       "    x.observe(notebookContainer, {childList: true});\n",
       "}}\n",
       "\n",
       "// Listen for the clearing of the current output cell\n",
       "var outputEl = gd.closest('.output');\n",
       "if (outputEl) {{\n",
       "    x.observe(outputEl, {childList: true});\n",
       "}}\n",
       "\n",
       "                        })                };                });            </script>        </div>"
      ]
     },
     "metadata": {},
     "output_type": "display_data"
    },
    {
     "data": {
      "application/vnd.plotly.v1+json": {
       "config": {
        "plotlyServerURL": "https://plot.ly"
       },
       "data": [
        {
         "hovertemplate": "color=A<br>symbol=Intron<br>2=%{x}<br>3=%{y}<extra></extra>",
         "legendgroup": "A, Intron",
         "marker": {
          "color": "#636efa",
          "size": 13,
          "symbol": "circle"
         },
         "mode": "markers",
         "name": "A, Intron",
         "orientation": "v",
         "showlegend": true,
         "type": "scatter",
         "x": [
          -0.5291642822906555,
          0.4150452985273073,
          -0.04166421043030467,
          -0.37100117486843914,
          -0.4478290294058766,
          -0.36454433421254034,
          -0.04819498520566945,
          0.5110638946542116,
          0.9896874756597953,
          0.4544499308536328,
          -0.8729307670413335,
          -0.609319635988455
         ],
         "xaxis": "x",
         "y": [
          -0.014091648717270738,
          0.6193362062496327,
          -0.5378728286429264,
          -0.39685930080160875,
          0.14574269399429193,
          0.38546983460545775,
          0.133291228799451,
          0.20195039338551612,
          0.3878947550444536,
          -0.07072956510987458,
          -0.11065254674107884,
          0.30265151831055487
         ],
         "yaxis": "y"
        },
        {
         "hovertemplate": "color=B<br>symbol=Intron<br>2=%{x}<br>3=%{y}<extra></extra>",
         "legendgroup": "B, Intron",
         "marker": {
          "color": "#EF553B",
          "size": 13,
          "symbol": "circle"
         },
         "mode": "markers",
         "name": "B, Intron",
         "orientation": "v",
         "showlegend": true,
         "type": "scatter",
         "x": [
          0.404320728373145,
          0.8254999404240485,
          0.47812193836050454,
          -0.5002929673325589,
          -0.3559408733905678,
          -0.383663881949797,
          -0.25501910696781616,
          0.4721359136811502,
          0.3825593191950016,
          -0.07621076740319987,
          -0.9599233428236782,
          -0.6866396424455762
         ],
         "xaxis": "x",
         "y": [
          -0.11669250999597648,
          1.2962769892737247,
          -0.2496752240995096,
          -0.4215132256211728,
          0.23991555551625288,
          0.3603464613849015,
          0.36253216405348754,
          -0.6755560167427662,
          -1.1029869435017077,
          -0.28251521398274054,
          0.045265572539317296,
          0.6967637592926392
         ],
         "yaxis": "y"
        },
        {
         "hovertemplate": "color=C<br>symbol=Intron<br>2=%{x}<br>3=%{y}<extra></extra>",
         "legendgroup": "C, Intron",
         "marker": {
          "color": "#00cc96",
          "size": 13,
          "symbol": "circle"
         },
         "mode": "markers",
         "name": "C, Intron",
         "orientation": "v",
         "showlegend": true,
         "type": "scatter",
         "x": [
          0.18281472873472482,
          0.17975979652799218,
          -0.49049104016198974,
          -0.5155923663840003,
          -0.35074248291878507,
          -0.1509750227719996,
          -0.3557381582168497,
          0.20997511987669018,
          0.9394677458899166,
          0.29814622662591217,
          0.1962556032900611,
          -0.8995684347947508
         ],
         "xaxis": "x",
         "y": [
          0.06841047019575273,
          -0.23093649099065863,
          -0.3504860950985119,
          -0.21805558682729684,
          0.381057954755588,
          0.13919229661010657,
          0.43265426445219857,
          -0.008635402734533516,
          0.3854714021038722,
          -0.5641284835892701,
          0.1825257119834791,
          0.15452196083971298
         ],
         "yaxis": "y"
        },
        {
         "hovertemplate": "color=D<br>symbol=Intron<br>2=%{x}<br>3=%{y}<extra></extra>",
         "legendgroup": "D, Intron",
         "marker": {
          "color": "#ab63fa",
          "size": 13,
          "symbol": "circle"
         },
         "mode": "markers",
         "name": "D, Intron",
         "orientation": "v",
         "showlegend": true,
         "type": "scatter",
         "x": [
          0.7362366076827731,
          0.10835541699811242,
          0.3636208771809814,
          -0.4865157383201035,
          -0.44956408545763243,
          -0.41867298116602286,
          0.12228587060880987,
          0.3515463372478551,
          0.4634289728054266,
          0.7378261002986833,
          0.7505312808353372,
          0.04706418761652104
         ],
         "xaxis": "x",
         "y": [
          0.19254734190318656,
          -0.3520307389095446,
          -0.5356084569861073,
          -0.4943112237722788,
          0.1769822148553603,
          0.5352522604527024,
          0.09092938957040325,
          -0.8935545887940988,
          -0.5262571600550506,
          -0.09707398440803493,
          0.8178270574123656,
          -0.48458622146238856
         ],
         "yaxis": "y"
        }
       ],
       "layout": {
        "height": 600,
        "legend": {
         "title": {
          "text": "color, symbol"
         },
         "tracegroupgap": 0
        },
        "margin": {
         "t": 60
        },
        "plot_bgcolor": "rgb(243,243,243)",
        "template": {
         "data": {
          "bar": [
           {
            "error_x": {
             "color": "#2a3f5f"
            },
            "error_y": {
             "color": "#2a3f5f"
            },
            "marker": {
             "line": {
              "color": "#E5ECF6",
              "width": 0.5
             },
             "pattern": {
              "fillmode": "overlay",
              "size": 10,
              "solidity": 0.2
             }
            },
            "type": "bar"
           }
          ],
          "barpolar": [
           {
            "marker": {
             "line": {
              "color": "#E5ECF6",
              "width": 0.5
             },
             "pattern": {
              "fillmode": "overlay",
              "size": 10,
              "solidity": 0.2
             }
            },
            "type": "barpolar"
           }
          ],
          "carpet": [
           {
            "aaxis": {
             "endlinecolor": "#2a3f5f",
             "gridcolor": "white",
             "linecolor": "white",
             "minorgridcolor": "white",
             "startlinecolor": "#2a3f5f"
            },
            "baxis": {
             "endlinecolor": "#2a3f5f",
             "gridcolor": "white",
             "linecolor": "white",
             "minorgridcolor": "white",
             "startlinecolor": "#2a3f5f"
            },
            "type": "carpet"
           }
          ],
          "choropleth": [
           {
            "colorbar": {
             "outlinewidth": 0,
             "ticks": ""
            },
            "type": "choropleth"
           }
          ],
          "contour": [
           {
            "colorbar": {
             "outlinewidth": 0,
             "ticks": ""
            },
            "colorscale": [
             [
              0,
              "#0d0887"
             ],
             [
              0.1111111111111111,
              "#46039f"
             ],
             [
              0.2222222222222222,
              "#7201a8"
             ],
             [
              0.3333333333333333,
              "#9c179e"
             ],
             [
              0.4444444444444444,
              "#bd3786"
             ],
             [
              0.5555555555555556,
              "#d8576b"
             ],
             [
              0.6666666666666666,
              "#ed7953"
             ],
             [
              0.7777777777777778,
              "#fb9f3a"
             ],
             [
              0.8888888888888888,
              "#fdca26"
             ],
             [
              1,
              "#f0f921"
             ]
            ],
            "type": "contour"
           }
          ],
          "contourcarpet": [
           {
            "colorbar": {
             "outlinewidth": 0,
             "ticks": ""
            },
            "type": "contourcarpet"
           }
          ],
          "heatmap": [
           {
            "colorbar": {
             "outlinewidth": 0,
             "ticks": ""
            },
            "colorscale": [
             [
              0,
              "#0d0887"
             ],
             [
              0.1111111111111111,
              "#46039f"
             ],
             [
              0.2222222222222222,
              "#7201a8"
             ],
             [
              0.3333333333333333,
              "#9c179e"
             ],
             [
              0.4444444444444444,
              "#bd3786"
             ],
             [
              0.5555555555555556,
              "#d8576b"
             ],
             [
              0.6666666666666666,
              "#ed7953"
             ],
             [
              0.7777777777777778,
              "#fb9f3a"
             ],
             [
              0.8888888888888888,
              "#fdca26"
             ],
             [
              1,
              "#f0f921"
             ]
            ],
            "type": "heatmap"
           }
          ],
          "heatmapgl": [
           {
            "colorbar": {
             "outlinewidth": 0,
             "ticks": ""
            },
            "colorscale": [
             [
              0,
              "#0d0887"
             ],
             [
              0.1111111111111111,
              "#46039f"
             ],
             [
              0.2222222222222222,
              "#7201a8"
             ],
             [
              0.3333333333333333,
              "#9c179e"
             ],
             [
              0.4444444444444444,
              "#bd3786"
             ],
             [
              0.5555555555555556,
              "#d8576b"
             ],
             [
              0.6666666666666666,
              "#ed7953"
             ],
             [
              0.7777777777777778,
              "#fb9f3a"
             ],
             [
              0.8888888888888888,
              "#fdca26"
             ],
             [
              1,
              "#f0f921"
             ]
            ],
            "type": "heatmapgl"
           }
          ],
          "histogram": [
           {
            "marker": {
             "pattern": {
              "fillmode": "overlay",
              "size": 10,
              "solidity": 0.2
             }
            },
            "type": "histogram"
           }
          ],
          "histogram2d": [
           {
            "colorbar": {
             "outlinewidth": 0,
             "ticks": ""
            },
            "colorscale": [
             [
              0,
              "#0d0887"
             ],
             [
              0.1111111111111111,
              "#46039f"
             ],
             [
              0.2222222222222222,
              "#7201a8"
             ],
             [
              0.3333333333333333,
              "#9c179e"
             ],
             [
              0.4444444444444444,
              "#bd3786"
             ],
             [
              0.5555555555555556,
              "#d8576b"
             ],
             [
              0.6666666666666666,
              "#ed7953"
             ],
             [
              0.7777777777777778,
              "#fb9f3a"
             ],
             [
              0.8888888888888888,
              "#fdca26"
             ],
             [
              1,
              "#f0f921"
             ]
            ],
            "type": "histogram2d"
           }
          ],
          "histogram2dcontour": [
           {
            "colorbar": {
             "outlinewidth": 0,
             "ticks": ""
            },
            "colorscale": [
             [
              0,
              "#0d0887"
             ],
             [
              0.1111111111111111,
              "#46039f"
             ],
             [
              0.2222222222222222,
              "#7201a8"
             ],
             [
              0.3333333333333333,
              "#9c179e"
             ],
             [
              0.4444444444444444,
              "#bd3786"
             ],
             [
              0.5555555555555556,
              "#d8576b"
             ],
             [
              0.6666666666666666,
              "#ed7953"
             ],
             [
              0.7777777777777778,
              "#fb9f3a"
             ],
             [
              0.8888888888888888,
              "#fdca26"
             ],
             [
              1,
              "#f0f921"
             ]
            ],
            "type": "histogram2dcontour"
           }
          ],
          "mesh3d": [
           {
            "colorbar": {
             "outlinewidth": 0,
             "ticks": ""
            },
            "type": "mesh3d"
           }
          ],
          "parcoords": [
           {
            "line": {
             "colorbar": {
              "outlinewidth": 0,
              "ticks": ""
             }
            },
            "type": "parcoords"
           }
          ],
          "pie": [
           {
            "automargin": true,
            "type": "pie"
           }
          ],
          "scatter": [
           {
            "fillpattern": {
             "fillmode": "overlay",
             "size": 10,
             "solidity": 0.2
            },
            "type": "scatter"
           }
          ],
          "scatter3d": [
           {
            "line": {
             "colorbar": {
              "outlinewidth": 0,
              "ticks": ""
             }
            },
            "marker": {
             "colorbar": {
              "outlinewidth": 0,
              "ticks": ""
             }
            },
            "type": "scatter3d"
           }
          ],
          "scattercarpet": [
           {
            "marker": {
             "colorbar": {
              "outlinewidth": 0,
              "ticks": ""
             }
            },
            "type": "scattercarpet"
           }
          ],
          "scattergeo": [
           {
            "marker": {
             "colorbar": {
              "outlinewidth": 0,
              "ticks": ""
             }
            },
            "type": "scattergeo"
           }
          ],
          "scattergl": [
           {
            "marker": {
             "colorbar": {
              "outlinewidth": 0,
              "ticks": ""
             }
            },
            "type": "scattergl"
           }
          ],
          "scattermapbox": [
           {
            "marker": {
             "colorbar": {
              "outlinewidth": 0,
              "ticks": ""
             }
            },
            "type": "scattermapbox"
           }
          ],
          "scatterpolar": [
           {
            "marker": {
             "colorbar": {
              "outlinewidth": 0,
              "ticks": ""
             }
            },
            "type": "scatterpolar"
           }
          ],
          "scatterpolargl": [
           {
            "marker": {
             "colorbar": {
              "outlinewidth": 0,
              "ticks": ""
             }
            },
            "type": "scatterpolargl"
           }
          ],
          "scatterternary": [
           {
            "marker": {
             "colorbar": {
              "outlinewidth": 0,
              "ticks": ""
             }
            },
            "type": "scatterternary"
           }
          ],
          "surface": [
           {
            "colorbar": {
             "outlinewidth": 0,
             "ticks": ""
            },
            "colorscale": [
             [
              0,
              "#0d0887"
             ],
             [
              0.1111111111111111,
              "#46039f"
             ],
             [
              0.2222222222222222,
              "#7201a8"
             ],
             [
              0.3333333333333333,
              "#9c179e"
             ],
             [
              0.4444444444444444,
              "#bd3786"
             ],
             [
              0.5555555555555556,
              "#d8576b"
             ],
             [
              0.6666666666666666,
              "#ed7953"
             ],
             [
              0.7777777777777778,
              "#fb9f3a"
             ],
             [
              0.8888888888888888,
              "#fdca26"
             ],
             [
              1,
              "#f0f921"
             ]
            ],
            "type": "surface"
           }
          ],
          "table": [
           {
            "cells": {
             "fill": {
              "color": "#EBF0F8"
             },
             "line": {
              "color": "white"
             }
            },
            "header": {
             "fill": {
              "color": "#C8D4E3"
             },
             "line": {
              "color": "white"
             }
            },
            "type": "table"
           }
          ]
         },
         "layout": {
          "annotationdefaults": {
           "arrowcolor": "#2a3f5f",
           "arrowhead": 0,
           "arrowwidth": 1
          },
          "autotypenumbers": "strict",
          "coloraxis": {
           "colorbar": {
            "outlinewidth": 0,
            "ticks": ""
           }
          },
          "colorscale": {
           "diverging": [
            [
             0,
             "#8e0152"
            ],
            [
             0.1,
             "#c51b7d"
            ],
            [
             0.2,
             "#de77ae"
            ],
            [
             0.3,
             "#f1b6da"
            ],
            [
             0.4,
             "#fde0ef"
            ],
            [
             0.5,
             "#f7f7f7"
            ],
            [
             0.6,
             "#e6f5d0"
            ],
            [
             0.7,
             "#b8e186"
            ],
            [
             0.8,
             "#7fbc41"
            ],
            [
             0.9,
             "#4d9221"
            ],
            [
             1,
             "#276419"
            ]
           ],
           "sequential": [
            [
             0,
             "#0d0887"
            ],
            [
             0.1111111111111111,
             "#46039f"
            ],
            [
             0.2222222222222222,
             "#7201a8"
            ],
            [
             0.3333333333333333,
             "#9c179e"
            ],
            [
             0.4444444444444444,
             "#bd3786"
            ],
            [
             0.5555555555555556,
             "#d8576b"
            ],
            [
             0.6666666666666666,
             "#ed7953"
            ],
            [
             0.7777777777777778,
             "#fb9f3a"
            ],
            [
             0.8888888888888888,
             "#fdca26"
            ],
            [
             1,
             "#f0f921"
            ]
           ],
           "sequentialminus": [
            [
             0,
             "#0d0887"
            ],
            [
             0.1111111111111111,
             "#46039f"
            ],
            [
             0.2222222222222222,
             "#7201a8"
            ],
            [
             0.3333333333333333,
             "#9c179e"
            ],
            [
             0.4444444444444444,
             "#bd3786"
            ],
            [
             0.5555555555555556,
             "#d8576b"
            ],
            [
             0.6666666666666666,
             "#ed7953"
            ],
            [
             0.7777777777777778,
             "#fb9f3a"
            ],
            [
             0.8888888888888888,
             "#fdca26"
            ],
            [
             1,
             "#f0f921"
            ]
           ]
          },
          "colorway": [
           "#636efa",
           "#EF553B",
           "#00cc96",
           "#ab63fa",
           "#FFA15A",
           "#19d3f3",
           "#FF6692",
           "#B6E880",
           "#FF97FF",
           "#FECB52"
          ],
          "font": {
           "color": "#2a3f5f"
          },
          "geo": {
           "bgcolor": "white",
           "lakecolor": "white",
           "landcolor": "#E5ECF6",
           "showlakes": true,
           "showland": true,
           "subunitcolor": "white"
          },
          "hoverlabel": {
           "align": "left"
          },
          "hovermode": "closest",
          "mapbox": {
           "style": "light"
          },
          "paper_bgcolor": "white",
          "plot_bgcolor": "#E5ECF6",
          "polar": {
           "angularaxis": {
            "gridcolor": "white",
            "linecolor": "white",
            "ticks": ""
           },
           "bgcolor": "#E5ECF6",
           "radialaxis": {
            "gridcolor": "white",
            "linecolor": "white",
            "ticks": ""
           }
          },
          "scene": {
           "xaxis": {
            "backgroundcolor": "#E5ECF6",
            "gridcolor": "white",
            "gridwidth": 2,
            "linecolor": "white",
            "showbackground": true,
            "ticks": "",
            "zerolinecolor": "white"
           },
           "yaxis": {
            "backgroundcolor": "#E5ECF6",
            "gridcolor": "white",
            "gridwidth": 2,
            "linecolor": "white",
            "showbackground": true,
            "ticks": "",
            "zerolinecolor": "white"
           },
           "zaxis": {
            "backgroundcolor": "#E5ECF6",
            "gridcolor": "white",
            "gridwidth": 2,
            "linecolor": "white",
            "showbackground": true,
            "ticks": "",
            "zerolinecolor": "white"
           }
          },
          "shapedefaults": {
           "line": {
            "color": "#2a3f5f"
           }
          },
          "ternary": {
           "aaxis": {
            "gridcolor": "white",
            "linecolor": "white",
            "ticks": ""
           },
           "baxis": {
            "gridcolor": "white",
            "linecolor": "white",
            "ticks": ""
           },
           "bgcolor": "#E5ECF6",
           "caxis": {
            "gridcolor": "white",
            "linecolor": "white",
            "ticks": ""
           }
          },
          "title": {
           "x": 0.05
          },
          "xaxis": {
           "automargin": true,
           "gridcolor": "white",
           "linecolor": "white",
           "ticks": "",
           "title": {
            "standoff": 15
           },
           "zerolinecolor": "white",
           "zerolinewidth": 2
          },
          "yaxis": {
           "automargin": true,
           "gridcolor": "white",
           "linecolor": "white",
           "ticks": "",
           "title": {
            "standoff": 15
           },
           "zerolinecolor": "white",
           "zerolinewidth": 2
          }
         }
        },
        "width": 600,
        "xaxis": {
         "anchor": "y",
         "domain": [
          0,
          1
         ],
         "title": {
          "text": "PC 3 (3.3%)"
         }
        },
        "yaxis": {
         "anchor": "x",
         "domain": [
          0,
          1
         ],
         "title": {
          "text": "PC 4 (2.6%)"
         }
        }
       }
      },
      "text/html": [
       "<div>                            <div id=\"6aaaf024-285a-415b-82e6-75a4ad774409\" class=\"plotly-graph-div\" style=\"height:600px; width:600px;\"></div>            <script type=\"text/javascript\">                require([\"plotly\"], function(Plotly) {                    window.PLOTLYENV=window.PLOTLYENV || {};                                    if (document.getElementById(\"6aaaf024-285a-415b-82e6-75a4ad774409\")) {                    Plotly.newPlot(                        \"6aaaf024-285a-415b-82e6-75a4ad774409\",                        [{\"hovertemplate\":\"color=A<br>symbol=Intron<br>2=%{x}<br>3=%{y}<extra></extra>\",\"legendgroup\":\"A, Intron\",\"marker\":{\"color\":\"#636efa\",\"symbol\":\"circle\",\"size\":13},\"mode\":\"markers\",\"name\":\"A, Intron\",\"orientation\":\"v\",\"showlegend\":true,\"x\":[-0.5291642822906555,0.4150452985273073,-0.04166421043030467,-0.37100117486843914,-0.4478290294058766,-0.36454433421254034,-0.04819498520566945,0.5110638946542116,0.9896874756597953,0.4544499308536328,-0.8729307670413335,-0.609319635988455],\"xaxis\":\"x\",\"y\":[-0.014091648717270738,0.6193362062496327,-0.5378728286429264,-0.39685930080160875,0.14574269399429193,0.38546983460545775,0.133291228799451,0.20195039338551612,0.3878947550444536,-0.07072956510987458,-0.11065254674107884,0.30265151831055487],\"yaxis\":\"y\",\"type\":\"scatter\"},{\"hovertemplate\":\"color=B<br>symbol=Intron<br>2=%{x}<br>3=%{y}<extra></extra>\",\"legendgroup\":\"B, Intron\",\"marker\":{\"color\":\"#EF553B\",\"symbol\":\"circle\",\"size\":13},\"mode\":\"markers\",\"name\":\"B, Intron\",\"orientation\":\"v\",\"showlegend\":true,\"x\":[0.404320728373145,0.8254999404240485,0.47812193836050454,-0.5002929673325589,-0.3559408733905678,-0.383663881949797,-0.25501910696781616,0.4721359136811502,0.3825593191950016,-0.07621076740319987,-0.9599233428236782,-0.6866396424455762],\"xaxis\":\"x\",\"y\":[-0.11669250999597648,1.2962769892737247,-0.2496752240995096,-0.4215132256211728,0.23991555551625288,0.3603464613849015,0.36253216405348754,-0.6755560167427662,-1.1029869435017077,-0.28251521398274054,0.045265572539317296,0.6967637592926392],\"yaxis\":\"y\",\"type\":\"scatter\"},{\"hovertemplate\":\"color=C<br>symbol=Intron<br>2=%{x}<br>3=%{y}<extra></extra>\",\"legendgroup\":\"C, Intron\",\"marker\":{\"color\":\"#00cc96\",\"symbol\":\"circle\",\"size\":13},\"mode\":\"markers\",\"name\":\"C, Intron\",\"orientation\":\"v\",\"showlegend\":true,\"x\":[0.18281472873472482,0.17975979652799218,-0.49049104016198974,-0.5155923663840003,-0.35074248291878507,-0.1509750227719996,-0.3557381582168497,0.20997511987669018,0.9394677458899166,0.29814622662591217,0.1962556032900611,-0.8995684347947508],\"xaxis\":\"x\",\"y\":[0.06841047019575273,-0.23093649099065863,-0.3504860950985119,-0.21805558682729684,0.381057954755588,0.13919229661010657,0.43265426445219857,-0.008635402734533516,0.3854714021038722,-0.5641284835892701,0.1825257119834791,0.15452196083971298],\"yaxis\":\"y\",\"type\":\"scatter\"},{\"hovertemplate\":\"color=D<br>symbol=Intron<br>2=%{x}<br>3=%{y}<extra></extra>\",\"legendgroup\":\"D, Intron\",\"marker\":{\"color\":\"#ab63fa\",\"symbol\":\"circle\",\"size\":13},\"mode\":\"markers\",\"name\":\"D, Intron\",\"orientation\":\"v\",\"showlegend\":true,\"x\":[0.7362366076827731,0.10835541699811242,0.3636208771809814,-0.4865157383201035,-0.44956408545763243,-0.41867298116602286,0.12228587060880987,0.3515463372478551,0.4634289728054266,0.7378261002986833,0.7505312808353372,0.04706418761652104],\"xaxis\":\"x\",\"y\":[0.19254734190318656,-0.3520307389095446,-0.5356084569861073,-0.4943112237722788,0.1769822148553603,0.5352522604527024,0.09092938957040325,-0.8935545887940988,-0.5262571600550506,-0.09707398440803493,0.8178270574123656,-0.48458622146238856],\"yaxis\":\"y\",\"type\":\"scatter\"}],                        {\"template\":{\"data\":{\"histogram2dcontour\":[{\"type\":\"histogram2dcontour\",\"colorbar\":{\"outlinewidth\":0,\"ticks\":\"\"},\"colorscale\":[[0.0,\"#0d0887\"],[0.1111111111111111,\"#46039f\"],[0.2222222222222222,\"#7201a8\"],[0.3333333333333333,\"#9c179e\"],[0.4444444444444444,\"#bd3786\"],[0.5555555555555556,\"#d8576b\"],[0.6666666666666666,\"#ed7953\"],[0.7777777777777778,\"#fb9f3a\"],[0.8888888888888888,\"#fdca26\"],[1.0,\"#f0f921\"]]}],\"choropleth\":[{\"type\":\"choropleth\",\"colorbar\":{\"outlinewidth\":0,\"ticks\":\"\"}}],\"histogram2d\":[{\"type\":\"histogram2d\",\"colorbar\":{\"outlinewidth\":0,\"ticks\":\"\"},\"colorscale\":[[0.0,\"#0d0887\"],[0.1111111111111111,\"#46039f\"],[0.2222222222222222,\"#7201a8\"],[0.3333333333333333,\"#9c179e\"],[0.4444444444444444,\"#bd3786\"],[0.5555555555555556,\"#d8576b\"],[0.6666666666666666,\"#ed7953\"],[0.7777777777777778,\"#fb9f3a\"],[0.8888888888888888,\"#fdca26\"],[1.0,\"#f0f921\"]]}],\"heatmap\":[{\"type\":\"heatmap\",\"colorbar\":{\"outlinewidth\":0,\"ticks\":\"\"},\"colorscale\":[[0.0,\"#0d0887\"],[0.1111111111111111,\"#46039f\"],[0.2222222222222222,\"#7201a8\"],[0.3333333333333333,\"#9c179e\"],[0.4444444444444444,\"#bd3786\"],[0.5555555555555556,\"#d8576b\"],[0.6666666666666666,\"#ed7953\"],[0.7777777777777778,\"#fb9f3a\"],[0.8888888888888888,\"#fdca26\"],[1.0,\"#f0f921\"]]}],\"heatmapgl\":[{\"type\":\"heatmapgl\",\"colorbar\":{\"outlinewidth\":0,\"ticks\":\"\"},\"colorscale\":[[0.0,\"#0d0887\"],[0.1111111111111111,\"#46039f\"],[0.2222222222222222,\"#7201a8\"],[0.3333333333333333,\"#9c179e\"],[0.4444444444444444,\"#bd3786\"],[0.5555555555555556,\"#d8576b\"],[0.6666666666666666,\"#ed7953\"],[0.7777777777777778,\"#fb9f3a\"],[0.8888888888888888,\"#fdca26\"],[1.0,\"#f0f921\"]]}],\"contourcarpet\":[{\"type\":\"contourcarpet\",\"colorbar\":{\"outlinewidth\":0,\"ticks\":\"\"}}],\"contour\":[{\"type\":\"contour\",\"colorbar\":{\"outlinewidth\":0,\"ticks\":\"\"},\"colorscale\":[[0.0,\"#0d0887\"],[0.1111111111111111,\"#46039f\"],[0.2222222222222222,\"#7201a8\"],[0.3333333333333333,\"#9c179e\"],[0.4444444444444444,\"#bd3786\"],[0.5555555555555556,\"#d8576b\"],[0.6666666666666666,\"#ed7953\"],[0.7777777777777778,\"#fb9f3a\"],[0.8888888888888888,\"#fdca26\"],[1.0,\"#f0f921\"]]}],\"surface\":[{\"type\":\"surface\",\"colorbar\":{\"outlinewidth\":0,\"ticks\":\"\"},\"colorscale\":[[0.0,\"#0d0887\"],[0.1111111111111111,\"#46039f\"],[0.2222222222222222,\"#7201a8\"],[0.3333333333333333,\"#9c179e\"],[0.4444444444444444,\"#bd3786\"],[0.5555555555555556,\"#d8576b\"],[0.6666666666666666,\"#ed7953\"],[0.7777777777777778,\"#fb9f3a\"],[0.8888888888888888,\"#fdca26\"],[1.0,\"#f0f921\"]]}],\"mesh3d\":[{\"type\":\"mesh3d\",\"colorbar\":{\"outlinewidth\":0,\"ticks\":\"\"}}],\"scatter\":[{\"fillpattern\":{\"fillmode\":\"overlay\",\"size\":10,\"solidity\":0.2},\"type\":\"scatter\"}],\"parcoords\":[{\"type\":\"parcoords\",\"line\":{\"colorbar\":{\"outlinewidth\":0,\"ticks\":\"\"}}}],\"scatterpolargl\":[{\"type\":\"scatterpolargl\",\"marker\":{\"colorbar\":{\"outlinewidth\":0,\"ticks\":\"\"}}}],\"bar\":[{\"error_x\":{\"color\":\"#2a3f5f\"},\"error_y\":{\"color\":\"#2a3f5f\"},\"marker\":{\"line\":{\"color\":\"#E5ECF6\",\"width\":0.5},\"pattern\":{\"fillmode\":\"overlay\",\"size\":10,\"solidity\":0.2}},\"type\":\"bar\"}],\"scattergeo\":[{\"type\":\"scattergeo\",\"marker\":{\"colorbar\":{\"outlinewidth\":0,\"ticks\":\"\"}}}],\"scatterpolar\":[{\"type\":\"scatterpolar\",\"marker\":{\"colorbar\":{\"outlinewidth\":0,\"ticks\":\"\"}}}],\"histogram\":[{\"marker\":{\"pattern\":{\"fillmode\":\"overlay\",\"size\":10,\"solidity\":0.2}},\"type\":\"histogram\"}],\"scattergl\":[{\"type\":\"scattergl\",\"marker\":{\"colorbar\":{\"outlinewidth\":0,\"ticks\":\"\"}}}],\"scatter3d\":[{\"type\":\"scatter3d\",\"line\":{\"colorbar\":{\"outlinewidth\":0,\"ticks\":\"\"}},\"marker\":{\"colorbar\":{\"outlinewidth\":0,\"ticks\":\"\"}}}],\"scattermapbox\":[{\"type\":\"scattermapbox\",\"marker\":{\"colorbar\":{\"outlinewidth\":0,\"ticks\":\"\"}}}],\"scatterternary\":[{\"type\":\"scatterternary\",\"marker\":{\"colorbar\":{\"outlinewidth\":0,\"ticks\":\"\"}}}],\"scattercarpet\":[{\"type\":\"scattercarpet\",\"marker\":{\"colorbar\":{\"outlinewidth\":0,\"ticks\":\"\"}}}],\"carpet\":[{\"aaxis\":{\"endlinecolor\":\"#2a3f5f\",\"gridcolor\":\"white\",\"linecolor\":\"white\",\"minorgridcolor\":\"white\",\"startlinecolor\":\"#2a3f5f\"},\"baxis\":{\"endlinecolor\":\"#2a3f5f\",\"gridcolor\":\"white\",\"linecolor\":\"white\",\"minorgridcolor\":\"white\",\"startlinecolor\":\"#2a3f5f\"},\"type\":\"carpet\"}],\"table\":[{\"cells\":{\"fill\":{\"color\":\"#EBF0F8\"},\"line\":{\"color\":\"white\"}},\"header\":{\"fill\":{\"color\":\"#C8D4E3\"},\"line\":{\"color\":\"white\"}},\"type\":\"table\"}],\"barpolar\":[{\"marker\":{\"line\":{\"color\":\"#E5ECF6\",\"width\":0.5},\"pattern\":{\"fillmode\":\"overlay\",\"size\":10,\"solidity\":0.2}},\"type\":\"barpolar\"}],\"pie\":[{\"automargin\":true,\"type\":\"pie\"}]},\"layout\":{\"autotypenumbers\":\"strict\",\"colorway\":[\"#636efa\",\"#EF553B\",\"#00cc96\",\"#ab63fa\",\"#FFA15A\",\"#19d3f3\",\"#FF6692\",\"#B6E880\",\"#FF97FF\",\"#FECB52\"],\"font\":{\"color\":\"#2a3f5f\"},\"hovermode\":\"closest\",\"hoverlabel\":{\"align\":\"left\"},\"paper_bgcolor\":\"white\",\"plot_bgcolor\":\"#E5ECF6\",\"polar\":{\"bgcolor\":\"#E5ECF6\",\"angularaxis\":{\"gridcolor\":\"white\",\"linecolor\":\"white\",\"ticks\":\"\"},\"radialaxis\":{\"gridcolor\":\"white\",\"linecolor\":\"white\",\"ticks\":\"\"}},\"ternary\":{\"bgcolor\":\"#E5ECF6\",\"aaxis\":{\"gridcolor\":\"white\",\"linecolor\":\"white\",\"ticks\":\"\"},\"baxis\":{\"gridcolor\":\"white\",\"linecolor\":\"white\",\"ticks\":\"\"},\"caxis\":{\"gridcolor\":\"white\",\"linecolor\":\"white\",\"ticks\":\"\"}},\"coloraxis\":{\"colorbar\":{\"outlinewidth\":0,\"ticks\":\"\"}},\"colorscale\":{\"sequential\":[[0.0,\"#0d0887\"],[0.1111111111111111,\"#46039f\"],[0.2222222222222222,\"#7201a8\"],[0.3333333333333333,\"#9c179e\"],[0.4444444444444444,\"#bd3786\"],[0.5555555555555556,\"#d8576b\"],[0.6666666666666666,\"#ed7953\"],[0.7777777777777778,\"#fb9f3a\"],[0.8888888888888888,\"#fdca26\"],[1.0,\"#f0f921\"]],\"sequentialminus\":[[0.0,\"#0d0887\"],[0.1111111111111111,\"#46039f\"],[0.2222222222222222,\"#7201a8\"],[0.3333333333333333,\"#9c179e\"],[0.4444444444444444,\"#bd3786\"],[0.5555555555555556,\"#d8576b\"],[0.6666666666666666,\"#ed7953\"],[0.7777777777777778,\"#fb9f3a\"],[0.8888888888888888,\"#fdca26\"],[1.0,\"#f0f921\"]],\"diverging\":[[0,\"#8e0152\"],[0.1,\"#c51b7d\"],[0.2,\"#de77ae\"],[0.3,\"#f1b6da\"],[0.4,\"#fde0ef\"],[0.5,\"#f7f7f7\"],[0.6,\"#e6f5d0\"],[0.7,\"#b8e186\"],[0.8,\"#7fbc41\"],[0.9,\"#4d9221\"],[1,\"#276419\"]]},\"xaxis\":{\"gridcolor\":\"white\",\"linecolor\":\"white\",\"ticks\":\"\",\"title\":{\"standoff\":15},\"zerolinecolor\":\"white\",\"automargin\":true,\"zerolinewidth\":2},\"yaxis\":{\"gridcolor\":\"white\",\"linecolor\":\"white\",\"ticks\":\"\",\"title\":{\"standoff\":15},\"zerolinecolor\":\"white\",\"automargin\":true,\"zerolinewidth\":2},\"scene\":{\"xaxis\":{\"backgroundcolor\":\"#E5ECF6\",\"gridcolor\":\"white\",\"linecolor\":\"white\",\"showbackground\":true,\"ticks\":\"\",\"zerolinecolor\":\"white\",\"gridwidth\":2},\"yaxis\":{\"backgroundcolor\":\"#E5ECF6\",\"gridcolor\":\"white\",\"linecolor\":\"white\",\"showbackground\":true,\"ticks\":\"\",\"zerolinecolor\":\"white\",\"gridwidth\":2},\"zaxis\":{\"backgroundcolor\":\"#E5ECF6\",\"gridcolor\":\"white\",\"linecolor\":\"white\",\"showbackground\":true,\"ticks\":\"\",\"zerolinecolor\":\"white\",\"gridwidth\":2}},\"shapedefaults\":{\"line\":{\"color\":\"#2a3f5f\"}},\"annotationdefaults\":{\"arrowcolor\":\"#2a3f5f\",\"arrowhead\":0,\"arrowwidth\":1},\"geo\":{\"bgcolor\":\"white\",\"landcolor\":\"#E5ECF6\",\"subunitcolor\":\"white\",\"showland\":true,\"showlakes\":true,\"lakecolor\":\"white\"},\"title\":{\"x\":0.05},\"mapbox\":{\"style\":\"light\"}}},\"xaxis\":{\"anchor\":\"y\",\"domain\":[0.0,1.0],\"title\":{\"text\":\"PC 3 (3.3%)\"}},\"yaxis\":{\"anchor\":\"x\",\"domain\":[0.0,1.0],\"title\":{\"text\":\"PC 4 (2.6%)\"}},\"legend\":{\"title\":{\"text\":\"color, symbol\"},\"tracegroupgap\":0},\"margin\":{\"t\":60},\"height\":600,\"width\":600,\"plot_bgcolor\":\"rgb(243,243,243)\"},                        {\"responsive\": true}                    ).then(function(){\n",
       "                            \n",
       "var gd = document.getElementById('6aaaf024-285a-415b-82e6-75a4ad774409');\n",
       "var x = new MutationObserver(function (mutations, observer) {{\n",
       "        var display = window.getComputedStyle(gd).display;\n",
       "        if (!display || display === 'none') {{\n",
       "            console.log([gd, 'removed!']);\n",
       "            Plotly.purge(gd);\n",
       "            observer.disconnect();\n",
       "        }}\n",
       "}});\n",
       "\n",
       "// Listen for the removal of the full notebook cells\n",
       "var notebookContainer = gd.closest('#notebook-container');\n",
       "if (notebookContainer) {{\n",
       "    x.observe(notebookContainer, {childList: true});\n",
       "}}\n",
       "\n",
       "// Listen for the clearing of the current output cell\n",
       "var outputEl = gd.closest('.output');\n",
       "if (outputEl) {{\n",
       "    x.observe(outputEl, {childList: true});\n",
       "}}\n",
       "\n",
       "                        })                };                });            </script>        </div>"
      ]
     },
     "metadata": {},
     "output_type": "display_data"
    }
   ],
   "source": [
    "#Perform the PCA on introns\n",
    "pca_introns = run_PCA(dat_intron, x_1=1, x_2=2, col='time', shape='condition', scale_d=True, log=False);\n",
    "run_PCA(dat_intron, x_1=1, x_2=2, col='replicate', shape='feature', scale_d=True, log=False);\n",
    "\n",
    "run_PCA(dat_intron, x_1=2, x_2=3, col='time', shape='condition', scale_d=True, log=False);\n",
    "run_PCA(dat_intron, x_1=2, x_2=3, col='replicate', shape='feature', scale_d=True, log=False);\n",
    "\n",
    "run_PCA(dat_intron, x_1=3, x_2=4, col='time', shape='condition', scale_d=True, log=False);\n",
    "run_PCA(dat_intron, x_1=3, x_2=4, col='replicate', shape='feature', scale_d=True, log=False);"
   ]
  },
  {
   "cell_type": "code",
   "execution_count": 90,
   "id": "27ae6e68",
   "metadata": {},
   "outputs": [
    {
     "data": {
      "application/vnd.plotly.v1+json": {
       "config": {
        "plotlyServerURL": "https://plot.ly"
       },
       "data": [
        {
         "hovertemplate": "color=00<br>symbol=WT<br>0=%{x}<br>1=%{y}<extra></extra>",
         "legendgroup": "00, WT",
         "marker": {
          "color": "#636efa",
          "size": 13,
          "symbol": "circle"
         },
         "mode": "markers",
         "name": "00, WT",
         "orientation": "v",
         "showlegend": true,
         "type": "scatter",
         "x": [
          2.9556661168859057,
          2.784519806514466,
          2.8381302752692945,
          2.5027828357791813
         ],
         "xaxis": "x",
         "y": [
          -0.08953713727655419,
          0.2591370592070803,
          1.1937589940130338,
          1.425618563141269
         ],
         "yaxis": "y"
        },
        {
         "hovertemplate": "color=02<br>symbol=WT<br>0=%{x}<br>1=%{y}<extra></extra>",
         "legendgroup": "02, WT",
         "marker": {
          "color": "#EF553B",
          "size": 13,
          "symbol": "circle"
         },
         "mode": "markers",
         "name": "02, WT",
         "orientation": "v",
         "showlegend": true,
         "type": "scatter",
         "x": [
          2.6209660037033515,
          1.380818358273747,
          1.6636664774734913,
          1.114560801035804
         ],
         "xaxis": "x",
         "y": [
          1.4477643805110962,
          2.040274526238958,
          2.3637928312737846,
          1.745968608220041
         ],
         "yaxis": "y"
        },
        {
         "hovertemplate": "color=04<br>symbol=WT<br>0=%{x}<br>1=%{y}<extra></extra>",
         "legendgroup": "04, WT",
         "marker": {
          "color": "#00cc96",
          "size": 13,
          "symbol": "circle"
         },
         "mode": "markers",
         "name": "04, WT",
         "orientation": "v",
         "showlegend": true,
         "type": "scatter",
         "x": [
          0.5690964550219729,
          1.718138452226413,
          -1.7700488467707387,
          1.7816091719316653
         ],
         "xaxis": "x",
         "y": [
          2.3103721865808127,
          2.222246321044061,
          1.3489272397551832,
          2.1616639425498194
         ],
         "yaxis": "y"
        },
        {
         "hovertemplate": "color=06<br>symbol=WT<br>0=%{x}<br>1=%{y}<extra></extra>",
         "legendgroup": "06, WT",
         "marker": {
          "color": "#ab63fa",
          "size": 13,
          "symbol": "circle"
         },
         "mode": "markers",
         "name": "06, WT",
         "orientation": "v",
         "showlegend": true,
         "type": "scatter",
         "x": [
          -1.564508605906127,
          -1.2194728511320327,
          -1.8927150483304478,
          -1.4619721272426265
         ],
         "xaxis": "x",
         "y": [
          1.8080212742696808,
          1.9054125596217766,
          1.2443619103034513,
          1.6396030992871646
         ],
         "yaxis": "y"
        },
        {
         "hovertemplate": "color=08<br>symbol=WT<br>0=%{x}<br>1=%{y}<extra></extra>",
         "legendgroup": "08, WT",
         "marker": {
          "color": "#FFA15A",
          "size": 13,
          "symbol": "circle"
         },
         "mode": "markers",
         "name": "08, WT",
         "orientation": "v",
         "showlegend": true,
         "type": "scatter",
         "x": [
          -2.3809644023266556,
          -2.5828911331806905,
          -2.5487508264940706,
          -2.357825148064397
         ],
         "xaxis": "x",
         "y": [
          0.6190783539819893,
          -0.06427097879387733,
          0.019939208390489675,
          1.0195908437753174
         ],
         "yaxis": "y"
        },
        {
         "hovertemplate": "color=10<br>symbol=WT<br>0=%{x}<br>1=%{y}<extra></extra>",
         "legendgroup": "10, WT",
         "marker": {
          "color": "#19d3f3",
          "size": 13,
          "symbol": "circle"
         },
         "mode": "markers",
         "name": "10, WT",
         "orientation": "v",
         "showlegend": true,
         "type": "scatter",
         "x": [
          -2.4846047545750563,
          -2.623367853065855,
          -2.271555706064168,
          -2.5721972730400036
         ],
         "xaxis": "x",
         "y": [
          0.2591078098983712,
          0.12212100732959999,
          -0.5619704118224987,
          0.17912013585449682
         ],
         "yaxis": "y"
        },
        {
         "hovertemplate": "color=12<br>symbol=WT<br>0=%{x}<br>1=%{y}<extra></extra>",
         "legendgroup": "12, WT",
         "marker": {
          "color": "#FF6692",
          "size": 13,
          "symbol": "circle"
         },
         "mode": "markers",
         "name": "12, WT",
         "orientation": "v",
         "showlegend": true,
         "type": "scatter",
         "x": [
          -1.9788812592046745,
          -2.4111110243933647,
          -2.4237383327057995,
          -1.6970632875749567
         ],
         "xaxis": "x",
         "y": [
          -0.6415080758365261,
          -0.5780395022350043,
          -0.4060651183957253,
          -0.782579238173389
         ],
         "yaxis": "y"
        },
        {
         "hovertemplate": "color=14<br>symbol=WT<br>0=%{x}<br>1=%{y}<extra></extra>",
         "legendgroup": "14, WT",
         "marker": {
          "color": "#B6E880",
          "size": 13,
          "symbol": "circle"
         },
         "mode": "markers",
         "name": "14, WT",
         "orientation": "v",
         "showlegend": true,
         "type": "scatter",
         "x": [
          -1.232469356333634,
          -0.6388309694022666,
          -1.6176751670186533,
          -0.6700671588047282
         ],
         "xaxis": "x",
         "y": [
          -0.9218443932556807,
          -1.2679118322740544,
          -0.7971089405699128,
          -1.178942066792693
         ],
         "yaxis": "y"
        },
        {
         "hovertemplate": "color=16<br>symbol=WT<br>0=%{x}<br>1=%{y}<extra></extra>",
         "legendgroup": "16, WT",
         "marker": {
          "color": "#FF97FF",
          "size": 13,
          "symbol": "circle"
         },
         "mode": "markers",
         "name": "16, WT",
         "orientation": "v",
         "showlegend": true,
         "type": "scatter",
         "x": [
          -0.5815045024762792,
          0.16843802276327616,
          -0.07522047819036728,
          -0.5035953751092096
         ],
         "xaxis": "x",
         "y": [
          -1.168659726888836,
          -1.2616292900610189,
          -1.2572405151086978,
          -1.079253562432685
         ],
         "yaxis": "y"
        },
        {
         "hovertemplate": "color=18<br>symbol=WT<br>0=%{x}<br>1=%{y}<extra></extra>",
         "legendgroup": "18, WT",
         "marker": {
          "color": "#FECB52",
          "size": 13,
          "symbol": "circle"
         },
         "mode": "markers",
         "name": "18, WT",
         "orientation": "v",
         "showlegend": true,
         "type": "scatter",
         "x": [
          0.05058031049617654,
          0.8212673122744,
          0.8314442374095243,
          0.39458910322594926
         ],
         "xaxis": "x",
         "y": [
          -1.1692162761621778,
          -1.6604904316502238,
          -1.5068434910309336,
          -1.517395149176934
         ],
         "yaxis": "y"
        },
        {
         "hovertemplate": "color=20<br>symbol=WT<br>0=%{x}<br>1=%{y}<extra></extra>",
         "legendgroup": "20, WT",
         "marker": {
          "color": "#636efa",
          "size": 13,
          "symbol": "circle"
         },
         "mode": "markers",
         "name": "20, WT",
         "orientation": "v",
         "showlegend": true,
         "type": "scatter",
         "x": [
          2.395836265179288,
          2.5220638170964427,
          1.3909821672192486,
          1.1875955689169893
         ],
         "xaxis": "x",
         "y": [
          -1.4584326662769758,
          -1.535952802380803,
          -1.4128899825255805,
          -1.479416410124476
         ],
         "yaxis": "y"
        },
        {
         "hovertemplate": "color=22<br>symbol=WT<br>0=%{x}<br>1=%{y}<extra></extra>",
         "legendgroup": "22, WT",
         "marker": {
          "color": "#EF553B",
          "size": 13,
          "symbol": "circle"
         },
         "mode": "markers",
         "name": "22, WT",
         "orientation": "v",
         "showlegend": true,
         "type": "scatter",
         "x": [
          2.819114576943081,
          2.674446563275818,
          2.206174834585872,
          2.1685439539054556
         ],
         "xaxis": "x",
         "y": [
          -0.6744698294987378,
          -0.5196944952647946,
          -1.3337117340611744,
          -1.0108067971775097
         ],
         "yaxis": "y"
        }
       ],
       "layout": {
        "height": 600,
        "legend": {
         "title": {
          "text": "color, symbol"
         },
         "tracegroupgap": 0
        },
        "margin": {
         "t": 60
        },
        "plot_bgcolor": "rgb(243,243,243)",
        "template": {
         "data": {
          "bar": [
           {
            "error_x": {
             "color": "#2a3f5f"
            },
            "error_y": {
             "color": "#2a3f5f"
            },
            "marker": {
             "line": {
              "color": "#E5ECF6",
              "width": 0.5
             },
             "pattern": {
              "fillmode": "overlay",
              "size": 10,
              "solidity": 0.2
             }
            },
            "type": "bar"
           }
          ],
          "barpolar": [
           {
            "marker": {
             "line": {
              "color": "#E5ECF6",
              "width": 0.5
             },
             "pattern": {
              "fillmode": "overlay",
              "size": 10,
              "solidity": 0.2
             }
            },
            "type": "barpolar"
           }
          ],
          "carpet": [
           {
            "aaxis": {
             "endlinecolor": "#2a3f5f",
             "gridcolor": "white",
             "linecolor": "white",
             "minorgridcolor": "white",
             "startlinecolor": "#2a3f5f"
            },
            "baxis": {
             "endlinecolor": "#2a3f5f",
             "gridcolor": "white",
             "linecolor": "white",
             "minorgridcolor": "white",
             "startlinecolor": "#2a3f5f"
            },
            "type": "carpet"
           }
          ],
          "choropleth": [
           {
            "colorbar": {
             "outlinewidth": 0,
             "ticks": ""
            },
            "type": "choropleth"
           }
          ],
          "contour": [
           {
            "colorbar": {
             "outlinewidth": 0,
             "ticks": ""
            },
            "colorscale": [
             [
              0,
              "#0d0887"
             ],
             [
              0.1111111111111111,
              "#46039f"
             ],
             [
              0.2222222222222222,
              "#7201a8"
             ],
             [
              0.3333333333333333,
              "#9c179e"
             ],
             [
              0.4444444444444444,
              "#bd3786"
             ],
             [
              0.5555555555555556,
              "#d8576b"
             ],
             [
              0.6666666666666666,
              "#ed7953"
             ],
             [
              0.7777777777777778,
              "#fb9f3a"
             ],
             [
              0.8888888888888888,
              "#fdca26"
             ],
             [
              1,
              "#f0f921"
             ]
            ],
            "type": "contour"
           }
          ],
          "contourcarpet": [
           {
            "colorbar": {
             "outlinewidth": 0,
             "ticks": ""
            },
            "type": "contourcarpet"
           }
          ],
          "heatmap": [
           {
            "colorbar": {
             "outlinewidth": 0,
             "ticks": ""
            },
            "colorscale": [
             [
              0,
              "#0d0887"
             ],
             [
              0.1111111111111111,
              "#46039f"
             ],
             [
              0.2222222222222222,
              "#7201a8"
             ],
             [
              0.3333333333333333,
              "#9c179e"
             ],
             [
              0.4444444444444444,
              "#bd3786"
             ],
             [
              0.5555555555555556,
              "#d8576b"
             ],
             [
              0.6666666666666666,
              "#ed7953"
             ],
             [
              0.7777777777777778,
              "#fb9f3a"
             ],
             [
              0.8888888888888888,
              "#fdca26"
             ],
             [
              1,
              "#f0f921"
             ]
            ],
            "type": "heatmap"
           }
          ],
          "heatmapgl": [
           {
            "colorbar": {
             "outlinewidth": 0,
             "ticks": ""
            },
            "colorscale": [
             [
              0,
              "#0d0887"
             ],
             [
              0.1111111111111111,
              "#46039f"
             ],
             [
              0.2222222222222222,
              "#7201a8"
             ],
             [
              0.3333333333333333,
              "#9c179e"
             ],
             [
              0.4444444444444444,
              "#bd3786"
             ],
             [
              0.5555555555555556,
              "#d8576b"
             ],
             [
              0.6666666666666666,
              "#ed7953"
             ],
             [
              0.7777777777777778,
              "#fb9f3a"
             ],
             [
              0.8888888888888888,
              "#fdca26"
             ],
             [
              1,
              "#f0f921"
             ]
            ],
            "type": "heatmapgl"
           }
          ],
          "histogram": [
           {
            "marker": {
             "pattern": {
              "fillmode": "overlay",
              "size": 10,
              "solidity": 0.2
             }
            },
            "type": "histogram"
           }
          ],
          "histogram2d": [
           {
            "colorbar": {
             "outlinewidth": 0,
             "ticks": ""
            },
            "colorscale": [
             [
              0,
              "#0d0887"
             ],
             [
              0.1111111111111111,
              "#46039f"
             ],
             [
              0.2222222222222222,
              "#7201a8"
             ],
             [
              0.3333333333333333,
              "#9c179e"
             ],
             [
              0.4444444444444444,
              "#bd3786"
             ],
             [
              0.5555555555555556,
              "#d8576b"
             ],
             [
              0.6666666666666666,
              "#ed7953"
             ],
             [
              0.7777777777777778,
              "#fb9f3a"
             ],
             [
              0.8888888888888888,
              "#fdca26"
             ],
             [
              1,
              "#f0f921"
             ]
            ],
            "type": "histogram2d"
           }
          ],
          "histogram2dcontour": [
           {
            "colorbar": {
             "outlinewidth": 0,
             "ticks": ""
            },
            "colorscale": [
             [
              0,
              "#0d0887"
             ],
             [
              0.1111111111111111,
              "#46039f"
             ],
             [
              0.2222222222222222,
              "#7201a8"
             ],
             [
              0.3333333333333333,
              "#9c179e"
             ],
             [
              0.4444444444444444,
              "#bd3786"
             ],
             [
              0.5555555555555556,
              "#d8576b"
             ],
             [
              0.6666666666666666,
              "#ed7953"
             ],
             [
              0.7777777777777778,
              "#fb9f3a"
             ],
             [
              0.8888888888888888,
              "#fdca26"
             ],
             [
              1,
              "#f0f921"
             ]
            ],
            "type": "histogram2dcontour"
           }
          ],
          "mesh3d": [
           {
            "colorbar": {
             "outlinewidth": 0,
             "ticks": ""
            },
            "type": "mesh3d"
           }
          ],
          "parcoords": [
           {
            "line": {
             "colorbar": {
              "outlinewidth": 0,
              "ticks": ""
             }
            },
            "type": "parcoords"
           }
          ],
          "pie": [
           {
            "automargin": true,
            "type": "pie"
           }
          ],
          "scatter": [
           {
            "fillpattern": {
             "fillmode": "overlay",
             "size": 10,
             "solidity": 0.2
            },
            "type": "scatter"
           }
          ],
          "scatter3d": [
           {
            "line": {
             "colorbar": {
              "outlinewidth": 0,
              "ticks": ""
             }
            },
            "marker": {
             "colorbar": {
              "outlinewidth": 0,
              "ticks": ""
             }
            },
            "type": "scatter3d"
           }
          ],
          "scattercarpet": [
           {
            "marker": {
             "colorbar": {
              "outlinewidth": 0,
              "ticks": ""
             }
            },
            "type": "scattercarpet"
           }
          ],
          "scattergeo": [
           {
            "marker": {
             "colorbar": {
              "outlinewidth": 0,
              "ticks": ""
             }
            },
            "type": "scattergeo"
           }
          ],
          "scattergl": [
           {
            "marker": {
             "colorbar": {
              "outlinewidth": 0,
              "ticks": ""
             }
            },
            "type": "scattergl"
           }
          ],
          "scattermapbox": [
           {
            "marker": {
             "colorbar": {
              "outlinewidth": 0,
              "ticks": ""
             }
            },
            "type": "scattermapbox"
           }
          ],
          "scatterpolar": [
           {
            "marker": {
             "colorbar": {
              "outlinewidth": 0,
              "ticks": ""
             }
            },
            "type": "scatterpolar"
           }
          ],
          "scatterpolargl": [
           {
            "marker": {
             "colorbar": {
              "outlinewidth": 0,
              "ticks": ""
             }
            },
            "type": "scatterpolargl"
           }
          ],
          "scatterternary": [
           {
            "marker": {
             "colorbar": {
              "outlinewidth": 0,
              "ticks": ""
             }
            },
            "type": "scatterternary"
           }
          ],
          "surface": [
           {
            "colorbar": {
             "outlinewidth": 0,
             "ticks": ""
            },
            "colorscale": [
             [
              0,
              "#0d0887"
             ],
             [
              0.1111111111111111,
              "#46039f"
             ],
             [
              0.2222222222222222,
              "#7201a8"
             ],
             [
              0.3333333333333333,
              "#9c179e"
             ],
             [
              0.4444444444444444,
              "#bd3786"
             ],
             [
              0.5555555555555556,
              "#d8576b"
             ],
             [
              0.6666666666666666,
              "#ed7953"
             ],
             [
              0.7777777777777778,
              "#fb9f3a"
             ],
             [
              0.8888888888888888,
              "#fdca26"
             ],
             [
              1,
              "#f0f921"
             ]
            ],
            "type": "surface"
           }
          ],
          "table": [
           {
            "cells": {
             "fill": {
              "color": "#EBF0F8"
             },
             "line": {
              "color": "white"
             }
            },
            "header": {
             "fill": {
              "color": "#C8D4E3"
             },
             "line": {
              "color": "white"
             }
            },
            "type": "table"
           }
          ]
         },
         "layout": {
          "annotationdefaults": {
           "arrowcolor": "#2a3f5f",
           "arrowhead": 0,
           "arrowwidth": 1
          },
          "autotypenumbers": "strict",
          "coloraxis": {
           "colorbar": {
            "outlinewidth": 0,
            "ticks": ""
           }
          },
          "colorscale": {
           "diverging": [
            [
             0,
             "#8e0152"
            ],
            [
             0.1,
             "#c51b7d"
            ],
            [
             0.2,
             "#de77ae"
            ],
            [
             0.3,
             "#f1b6da"
            ],
            [
             0.4,
             "#fde0ef"
            ],
            [
             0.5,
             "#f7f7f7"
            ],
            [
             0.6,
             "#e6f5d0"
            ],
            [
             0.7,
             "#b8e186"
            ],
            [
             0.8,
             "#7fbc41"
            ],
            [
             0.9,
             "#4d9221"
            ],
            [
             1,
             "#276419"
            ]
           ],
           "sequential": [
            [
             0,
             "#0d0887"
            ],
            [
             0.1111111111111111,
             "#46039f"
            ],
            [
             0.2222222222222222,
             "#7201a8"
            ],
            [
             0.3333333333333333,
             "#9c179e"
            ],
            [
             0.4444444444444444,
             "#bd3786"
            ],
            [
             0.5555555555555556,
             "#d8576b"
            ],
            [
             0.6666666666666666,
             "#ed7953"
            ],
            [
             0.7777777777777778,
             "#fb9f3a"
            ],
            [
             0.8888888888888888,
             "#fdca26"
            ],
            [
             1,
             "#f0f921"
            ]
           ],
           "sequentialminus": [
            [
             0,
             "#0d0887"
            ],
            [
             0.1111111111111111,
             "#46039f"
            ],
            [
             0.2222222222222222,
             "#7201a8"
            ],
            [
             0.3333333333333333,
             "#9c179e"
            ],
            [
             0.4444444444444444,
             "#bd3786"
            ],
            [
             0.5555555555555556,
             "#d8576b"
            ],
            [
             0.6666666666666666,
             "#ed7953"
            ],
            [
             0.7777777777777778,
             "#fb9f3a"
            ],
            [
             0.8888888888888888,
             "#fdca26"
            ],
            [
             1,
             "#f0f921"
            ]
           ]
          },
          "colorway": [
           "#636efa",
           "#EF553B",
           "#00cc96",
           "#ab63fa",
           "#FFA15A",
           "#19d3f3",
           "#FF6692",
           "#B6E880",
           "#FF97FF",
           "#FECB52"
          ],
          "font": {
           "color": "#2a3f5f"
          },
          "geo": {
           "bgcolor": "white",
           "lakecolor": "white",
           "landcolor": "#E5ECF6",
           "showlakes": true,
           "showland": true,
           "subunitcolor": "white"
          },
          "hoverlabel": {
           "align": "left"
          },
          "hovermode": "closest",
          "mapbox": {
           "style": "light"
          },
          "paper_bgcolor": "white",
          "plot_bgcolor": "#E5ECF6",
          "polar": {
           "angularaxis": {
            "gridcolor": "white",
            "linecolor": "white",
            "ticks": ""
           },
           "bgcolor": "#E5ECF6",
           "radialaxis": {
            "gridcolor": "white",
            "linecolor": "white",
            "ticks": ""
           }
          },
          "scene": {
           "xaxis": {
            "backgroundcolor": "#E5ECF6",
            "gridcolor": "white",
            "gridwidth": 2,
            "linecolor": "white",
            "showbackground": true,
            "ticks": "",
            "zerolinecolor": "white"
           },
           "yaxis": {
            "backgroundcolor": "#E5ECF6",
            "gridcolor": "white",
            "gridwidth": 2,
            "linecolor": "white",
            "showbackground": true,
            "ticks": "",
            "zerolinecolor": "white"
           },
           "zaxis": {
            "backgroundcolor": "#E5ECF6",
            "gridcolor": "white",
            "gridwidth": 2,
            "linecolor": "white",
            "showbackground": true,
            "ticks": "",
            "zerolinecolor": "white"
           }
          },
          "shapedefaults": {
           "line": {
            "color": "#2a3f5f"
           }
          },
          "ternary": {
           "aaxis": {
            "gridcolor": "white",
            "linecolor": "white",
            "ticks": ""
           },
           "baxis": {
            "gridcolor": "white",
            "linecolor": "white",
            "ticks": ""
           },
           "bgcolor": "#E5ECF6",
           "caxis": {
            "gridcolor": "white",
            "linecolor": "white",
            "ticks": ""
           }
          },
          "title": {
           "x": 0.05
          },
          "xaxis": {
           "automargin": true,
           "gridcolor": "white",
           "linecolor": "white",
           "ticks": "",
           "title": {
            "standoff": 15
           },
           "zerolinecolor": "white",
           "zerolinewidth": 2
          },
          "yaxis": {
           "automargin": true,
           "gridcolor": "white",
           "linecolor": "white",
           "ticks": "",
           "title": {
            "standoff": 15
           },
           "zerolinecolor": "white",
           "zerolinewidth": 2
          }
         }
        },
        "width": 600,
        "xaxis": {
         "anchor": "y",
         "domain": [
          0,
          1
         ],
         "title": {
          "text": "PC 1 (63.8%)"
         }
        },
        "yaxis": {
         "anchor": "x",
         "domain": [
          0,
          1
         ],
         "title": {
          "text": "PC 2 (29.0%)"
         }
        }
       }
      },
      "text/html": [
       "<div>                            <div id=\"bbd24cdb-7264-47f5-ba63-925c687f973c\" class=\"plotly-graph-div\" style=\"height:600px; width:600px;\"></div>            <script type=\"text/javascript\">                require([\"plotly\"], function(Plotly) {                    window.PLOTLYENV=window.PLOTLYENV || {};                                    if (document.getElementById(\"bbd24cdb-7264-47f5-ba63-925c687f973c\")) {                    Plotly.newPlot(                        \"bbd24cdb-7264-47f5-ba63-925c687f973c\",                        [{\"hovertemplate\":\"color=00<br>symbol=WT<br>0=%{x}<br>1=%{y}<extra></extra>\",\"legendgroup\":\"00, WT\",\"marker\":{\"color\":\"#636efa\",\"symbol\":\"circle\",\"size\":13},\"mode\":\"markers\",\"name\":\"00, WT\",\"orientation\":\"v\",\"showlegend\":true,\"x\":[2.9556661168859057,2.784519806514466,2.8381302752692945,2.5027828357791813],\"xaxis\":\"x\",\"y\":[-0.08953713727655419,0.2591370592070803,1.1937589940130338,1.425618563141269],\"yaxis\":\"y\",\"type\":\"scatter\"},{\"hovertemplate\":\"color=02<br>symbol=WT<br>0=%{x}<br>1=%{y}<extra></extra>\",\"legendgroup\":\"02, WT\",\"marker\":{\"color\":\"#EF553B\",\"symbol\":\"circle\",\"size\":13},\"mode\":\"markers\",\"name\":\"02, WT\",\"orientation\":\"v\",\"showlegend\":true,\"x\":[2.6209660037033515,1.380818358273747,1.6636664774734913,1.114560801035804],\"xaxis\":\"x\",\"y\":[1.4477643805110962,2.040274526238958,2.3637928312737846,1.745968608220041],\"yaxis\":\"y\",\"type\":\"scatter\"},{\"hovertemplate\":\"color=04<br>symbol=WT<br>0=%{x}<br>1=%{y}<extra></extra>\",\"legendgroup\":\"04, WT\",\"marker\":{\"color\":\"#00cc96\",\"symbol\":\"circle\",\"size\":13},\"mode\":\"markers\",\"name\":\"04, WT\",\"orientation\":\"v\",\"showlegend\":true,\"x\":[0.5690964550219729,1.718138452226413,-1.7700488467707387,1.7816091719316653],\"xaxis\":\"x\",\"y\":[2.3103721865808127,2.222246321044061,1.3489272397551832,2.1616639425498194],\"yaxis\":\"y\",\"type\":\"scatter\"},{\"hovertemplate\":\"color=06<br>symbol=WT<br>0=%{x}<br>1=%{y}<extra></extra>\",\"legendgroup\":\"06, WT\",\"marker\":{\"color\":\"#ab63fa\",\"symbol\":\"circle\",\"size\":13},\"mode\":\"markers\",\"name\":\"06, WT\",\"orientation\":\"v\",\"showlegend\":true,\"x\":[-1.564508605906127,-1.2194728511320327,-1.8927150483304478,-1.4619721272426265],\"xaxis\":\"x\",\"y\":[1.8080212742696808,1.9054125596217766,1.2443619103034513,1.6396030992871646],\"yaxis\":\"y\",\"type\":\"scatter\"},{\"hovertemplate\":\"color=08<br>symbol=WT<br>0=%{x}<br>1=%{y}<extra></extra>\",\"legendgroup\":\"08, WT\",\"marker\":{\"color\":\"#FFA15A\",\"symbol\":\"circle\",\"size\":13},\"mode\":\"markers\",\"name\":\"08, WT\",\"orientation\":\"v\",\"showlegend\":true,\"x\":[-2.3809644023266556,-2.5828911331806905,-2.5487508264940706,-2.357825148064397],\"xaxis\":\"x\",\"y\":[0.6190783539819893,-0.06427097879387733,0.019939208390489675,1.0195908437753174],\"yaxis\":\"y\",\"type\":\"scatter\"},{\"hovertemplate\":\"color=10<br>symbol=WT<br>0=%{x}<br>1=%{y}<extra></extra>\",\"legendgroup\":\"10, WT\",\"marker\":{\"color\":\"#19d3f3\",\"symbol\":\"circle\",\"size\":13},\"mode\":\"markers\",\"name\":\"10, WT\",\"orientation\":\"v\",\"showlegend\":true,\"x\":[-2.4846047545750563,-2.623367853065855,-2.271555706064168,-2.5721972730400036],\"xaxis\":\"x\",\"y\":[0.2591078098983712,0.12212100732959999,-0.5619704118224987,0.17912013585449682],\"yaxis\":\"y\",\"type\":\"scatter\"},{\"hovertemplate\":\"color=12<br>symbol=WT<br>0=%{x}<br>1=%{y}<extra></extra>\",\"legendgroup\":\"12, WT\",\"marker\":{\"color\":\"#FF6692\",\"symbol\":\"circle\",\"size\":13},\"mode\":\"markers\",\"name\":\"12, WT\",\"orientation\":\"v\",\"showlegend\":true,\"x\":[-1.9788812592046745,-2.4111110243933647,-2.4237383327057995,-1.6970632875749567],\"xaxis\":\"x\",\"y\":[-0.6415080758365261,-0.5780395022350043,-0.4060651183957253,-0.782579238173389],\"yaxis\":\"y\",\"type\":\"scatter\"},{\"hovertemplate\":\"color=14<br>symbol=WT<br>0=%{x}<br>1=%{y}<extra></extra>\",\"legendgroup\":\"14, WT\",\"marker\":{\"color\":\"#B6E880\",\"symbol\":\"circle\",\"size\":13},\"mode\":\"markers\",\"name\":\"14, WT\",\"orientation\":\"v\",\"showlegend\":true,\"x\":[-1.232469356333634,-0.6388309694022666,-1.6176751670186533,-0.6700671588047282],\"xaxis\":\"x\",\"y\":[-0.9218443932556807,-1.2679118322740544,-0.7971089405699128,-1.178942066792693],\"yaxis\":\"y\",\"type\":\"scatter\"},{\"hovertemplate\":\"color=16<br>symbol=WT<br>0=%{x}<br>1=%{y}<extra></extra>\",\"legendgroup\":\"16, WT\",\"marker\":{\"color\":\"#FF97FF\",\"symbol\":\"circle\",\"size\":13},\"mode\":\"markers\",\"name\":\"16, WT\",\"orientation\":\"v\",\"showlegend\":true,\"x\":[-0.5815045024762792,0.16843802276327616,-0.07522047819036728,-0.5035953751092096],\"xaxis\":\"x\",\"y\":[-1.168659726888836,-1.2616292900610189,-1.2572405151086978,-1.079253562432685],\"yaxis\":\"y\",\"type\":\"scatter\"},{\"hovertemplate\":\"color=18<br>symbol=WT<br>0=%{x}<br>1=%{y}<extra></extra>\",\"legendgroup\":\"18, WT\",\"marker\":{\"color\":\"#FECB52\",\"symbol\":\"circle\",\"size\":13},\"mode\":\"markers\",\"name\":\"18, WT\",\"orientation\":\"v\",\"showlegend\":true,\"x\":[0.05058031049617654,0.8212673122744,0.8314442374095243,0.39458910322594926],\"xaxis\":\"x\",\"y\":[-1.1692162761621778,-1.6604904316502238,-1.5068434910309336,-1.517395149176934],\"yaxis\":\"y\",\"type\":\"scatter\"},{\"hovertemplate\":\"color=20<br>symbol=WT<br>0=%{x}<br>1=%{y}<extra></extra>\",\"legendgroup\":\"20, WT\",\"marker\":{\"color\":\"#636efa\",\"symbol\":\"circle\",\"size\":13},\"mode\":\"markers\",\"name\":\"20, WT\",\"orientation\":\"v\",\"showlegend\":true,\"x\":[2.395836265179288,2.5220638170964427,1.3909821672192486,1.1875955689169893],\"xaxis\":\"x\",\"y\":[-1.4584326662769758,-1.535952802380803,-1.4128899825255805,-1.479416410124476],\"yaxis\":\"y\",\"type\":\"scatter\"},{\"hovertemplate\":\"color=22<br>symbol=WT<br>0=%{x}<br>1=%{y}<extra></extra>\",\"legendgroup\":\"22, WT\",\"marker\":{\"color\":\"#EF553B\",\"symbol\":\"circle\",\"size\":13},\"mode\":\"markers\",\"name\":\"22, WT\",\"orientation\":\"v\",\"showlegend\":true,\"x\":[2.819114576943081,2.674446563275818,2.206174834585872,2.1685439539054556],\"xaxis\":\"x\",\"y\":[-0.6744698294987378,-0.5196944952647946,-1.3337117340611744,-1.0108067971775097],\"yaxis\":\"y\",\"type\":\"scatter\"}],                        {\"template\":{\"data\":{\"histogram2dcontour\":[{\"type\":\"histogram2dcontour\",\"colorbar\":{\"outlinewidth\":0,\"ticks\":\"\"},\"colorscale\":[[0.0,\"#0d0887\"],[0.1111111111111111,\"#46039f\"],[0.2222222222222222,\"#7201a8\"],[0.3333333333333333,\"#9c179e\"],[0.4444444444444444,\"#bd3786\"],[0.5555555555555556,\"#d8576b\"],[0.6666666666666666,\"#ed7953\"],[0.7777777777777778,\"#fb9f3a\"],[0.8888888888888888,\"#fdca26\"],[1.0,\"#f0f921\"]]}],\"choropleth\":[{\"type\":\"choropleth\",\"colorbar\":{\"outlinewidth\":0,\"ticks\":\"\"}}],\"histogram2d\":[{\"type\":\"histogram2d\",\"colorbar\":{\"outlinewidth\":0,\"ticks\":\"\"},\"colorscale\":[[0.0,\"#0d0887\"],[0.1111111111111111,\"#46039f\"],[0.2222222222222222,\"#7201a8\"],[0.3333333333333333,\"#9c179e\"],[0.4444444444444444,\"#bd3786\"],[0.5555555555555556,\"#d8576b\"],[0.6666666666666666,\"#ed7953\"],[0.7777777777777778,\"#fb9f3a\"],[0.8888888888888888,\"#fdca26\"],[1.0,\"#f0f921\"]]}],\"heatmap\":[{\"type\":\"heatmap\",\"colorbar\":{\"outlinewidth\":0,\"ticks\":\"\"},\"colorscale\":[[0.0,\"#0d0887\"],[0.1111111111111111,\"#46039f\"],[0.2222222222222222,\"#7201a8\"],[0.3333333333333333,\"#9c179e\"],[0.4444444444444444,\"#bd3786\"],[0.5555555555555556,\"#d8576b\"],[0.6666666666666666,\"#ed7953\"],[0.7777777777777778,\"#fb9f3a\"],[0.8888888888888888,\"#fdca26\"],[1.0,\"#f0f921\"]]}],\"heatmapgl\":[{\"type\":\"heatmapgl\",\"colorbar\":{\"outlinewidth\":0,\"ticks\":\"\"},\"colorscale\":[[0.0,\"#0d0887\"],[0.1111111111111111,\"#46039f\"],[0.2222222222222222,\"#7201a8\"],[0.3333333333333333,\"#9c179e\"],[0.4444444444444444,\"#bd3786\"],[0.5555555555555556,\"#d8576b\"],[0.6666666666666666,\"#ed7953\"],[0.7777777777777778,\"#fb9f3a\"],[0.8888888888888888,\"#fdca26\"],[1.0,\"#f0f921\"]]}],\"contourcarpet\":[{\"type\":\"contourcarpet\",\"colorbar\":{\"outlinewidth\":0,\"ticks\":\"\"}}],\"contour\":[{\"type\":\"contour\",\"colorbar\":{\"outlinewidth\":0,\"ticks\":\"\"},\"colorscale\":[[0.0,\"#0d0887\"],[0.1111111111111111,\"#46039f\"],[0.2222222222222222,\"#7201a8\"],[0.3333333333333333,\"#9c179e\"],[0.4444444444444444,\"#bd3786\"],[0.5555555555555556,\"#d8576b\"],[0.6666666666666666,\"#ed7953\"],[0.7777777777777778,\"#fb9f3a\"],[0.8888888888888888,\"#fdca26\"],[1.0,\"#f0f921\"]]}],\"surface\":[{\"type\":\"surface\",\"colorbar\":{\"outlinewidth\":0,\"ticks\":\"\"},\"colorscale\":[[0.0,\"#0d0887\"],[0.1111111111111111,\"#46039f\"],[0.2222222222222222,\"#7201a8\"],[0.3333333333333333,\"#9c179e\"],[0.4444444444444444,\"#bd3786\"],[0.5555555555555556,\"#d8576b\"],[0.6666666666666666,\"#ed7953\"],[0.7777777777777778,\"#fb9f3a\"],[0.8888888888888888,\"#fdca26\"],[1.0,\"#f0f921\"]]}],\"mesh3d\":[{\"type\":\"mesh3d\",\"colorbar\":{\"outlinewidth\":0,\"ticks\":\"\"}}],\"scatter\":[{\"fillpattern\":{\"fillmode\":\"overlay\",\"size\":10,\"solidity\":0.2},\"type\":\"scatter\"}],\"parcoords\":[{\"type\":\"parcoords\",\"line\":{\"colorbar\":{\"outlinewidth\":0,\"ticks\":\"\"}}}],\"scatterpolargl\":[{\"type\":\"scatterpolargl\",\"marker\":{\"colorbar\":{\"outlinewidth\":0,\"ticks\":\"\"}}}],\"bar\":[{\"error_x\":{\"color\":\"#2a3f5f\"},\"error_y\":{\"color\":\"#2a3f5f\"},\"marker\":{\"line\":{\"color\":\"#E5ECF6\",\"width\":0.5},\"pattern\":{\"fillmode\":\"overlay\",\"size\":10,\"solidity\":0.2}},\"type\":\"bar\"}],\"scattergeo\":[{\"type\":\"scattergeo\",\"marker\":{\"colorbar\":{\"outlinewidth\":0,\"ticks\":\"\"}}}],\"scatterpolar\":[{\"type\":\"scatterpolar\",\"marker\":{\"colorbar\":{\"outlinewidth\":0,\"ticks\":\"\"}}}],\"histogram\":[{\"marker\":{\"pattern\":{\"fillmode\":\"overlay\",\"size\":10,\"solidity\":0.2}},\"type\":\"histogram\"}],\"scattergl\":[{\"type\":\"scattergl\",\"marker\":{\"colorbar\":{\"outlinewidth\":0,\"ticks\":\"\"}}}],\"scatter3d\":[{\"type\":\"scatter3d\",\"line\":{\"colorbar\":{\"outlinewidth\":0,\"ticks\":\"\"}},\"marker\":{\"colorbar\":{\"outlinewidth\":0,\"ticks\":\"\"}}}],\"scattermapbox\":[{\"type\":\"scattermapbox\",\"marker\":{\"colorbar\":{\"outlinewidth\":0,\"ticks\":\"\"}}}],\"scatterternary\":[{\"type\":\"scatterternary\",\"marker\":{\"colorbar\":{\"outlinewidth\":0,\"ticks\":\"\"}}}],\"scattercarpet\":[{\"type\":\"scattercarpet\",\"marker\":{\"colorbar\":{\"outlinewidth\":0,\"ticks\":\"\"}}}],\"carpet\":[{\"aaxis\":{\"endlinecolor\":\"#2a3f5f\",\"gridcolor\":\"white\",\"linecolor\":\"white\",\"minorgridcolor\":\"white\",\"startlinecolor\":\"#2a3f5f\"},\"baxis\":{\"endlinecolor\":\"#2a3f5f\",\"gridcolor\":\"white\",\"linecolor\":\"white\",\"minorgridcolor\":\"white\",\"startlinecolor\":\"#2a3f5f\"},\"type\":\"carpet\"}],\"table\":[{\"cells\":{\"fill\":{\"color\":\"#EBF0F8\"},\"line\":{\"color\":\"white\"}},\"header\":{\"fill\":{\"color\":\"#C8D4E3\"},\"line\":{\"color\":\"white\"}},\"type\":\"table\"}],\"barpolar\":[{\"marker\":{\"line\":{\"color\":\"#E5ECF6\",\"width\":0.5},\"pattern\":{\"fillmode\":\"overlay\",\"size\":10,\"solidity\":0.2}},\"type\":\"barpolar\"}],\"pie\":[{\"automargin\":true,\"type\":\"pie\"}]},\"layout\":{\"autotypenumbers\":\"strict\",\"colorway\":[\"#636efa\",\"#EF553B\",\"#00cc96\",\"#ab63fa\",\"#FFA15A\",\"#19d3f3\",\"#FF6692\",\"#B6E880\",\"#FF97FF\",\"#FECB52\"],\"font\":{\"color\":\"#2a3f5f\"},\"hovermode\":\"closest\",\"hoverlabel\":{\"align\":\"left\"},\"paper_bgcolor\":\"white\",\"plot_bgcolor\":\"#E5ECF6\",\"polar\":{\"bgcolor\":\"#E5ECF6\",\"angularaxis\":{\"gridcolor\":\"white\",\"linecolor\":\"white\",\"ticks\":\"\"},\"radialaxis\":{\"gridcolor\":\"white\",\"linecolor\":\"white\",\"ticks\":\"\"}},\"ternary\":{\"bgcolor\":\"#E5ECF6\",\"aaxis\":{\"gridcolor\":\"white\",\"linecolor\":\"white\",\"ticks\":\"\"},\"baxis\":{\"gridcolor\":\"white\",\"linecolor\":\"white\",\"ticks\":\"\"},\"caxis\":{\"gridcolor\":\"white\",\"linecolor\":\"white\",\"ticks\":\"\"}},\"coloraxis\":{\"colorbar\":{\"outlinewidth\":0,\"ticks\":\"\"}},\"colorscale\":{\"sequential\":[[0.0,\"#0d0887\"],[0.1111111111111111,\"#46039f\"],[0.2222222222222222,\"#7201a8\"],[0.3333333333333333,\"#9c179e\"],[0.4444444444444444,\"#bd3786\"],[0.5555555555555556,\"#d8576b\"],[0.6666666666666666,\"#ed7953\"],[0.7777777777777778,\"#fb9f3a\"],[0.8888888888888888,\"#fdca26\"],[1.0,\"#f0f921\"]],\"sequentialminus\":[[0.0,\"#0d0887\"],[0.1111111111111111,\"#46039f\"],[0.2222222222222222,\"#7201a8\"],[0.3333333333333333,\"#9c179e\"],[0.4444444444444444,\"#bd3786\"],[0.5555555555555556,\"#d8576b\"],[0.6666666666666666,\"#ed7953\"],[0.7777777777777778,\"#fb9f3a\"],[0.8888888888888888,\"#fdca26\"],[1.0,\"#f0f921\"]],\"diverging\":[[0,\"#8e0152\"],[0.1,\"#c51b7d\"],[0.2,\"#de77ae\"],[0.3,\"#f1b6da\"],[0.4,\"#fde0ef\"],[0.5,\"#f7f7f7\"],[0.6,\"#e6f5d0\"],[0.7,\"#b8e186\"],[0.8,\"#7fbc41\"],[0.9,\"#4d9221\"],[1,\"#276419\"]]},\"xaxis\":{\"gridcolor\":\"white\",\"linecolor\":\"white\",\"ticks\":\"\",\"title\":{\"standoff\":15},\"zerolinecolor\":\"white\",\"automargin\":true,\"zerolinewidth\":2},\"yaxis\":{\"gridcolor\":\"white\",\"linecolor\":\"white\",\"ticks\":\"\",\"title\":{\"standoff\":15},\"zerolinecolor\":\"white\",\"automargin\":true,\"zerolinewidth\":2},\"scene\":{\"xaxis\":{\"backgroundcolor\":\"#E5ECF6\",\"gridcolor\":\"white\",\"linecolor\":\"white\",\"showbackground\":true,\"ticks\":\"\",\"zerolinecolor\":\"white\",\"gridwidth\":2},\"yaxis\":{\"backgroundcolor\":\"#E5ECF6\",\"gridcolor\":\"white\",\"linecolor\":\"white\",\"showbackground\":true,\"ticks\":\"\",\"zerolinecolor\":\"white\",\"gridwidth\":2},\"zaxis\":{\"backgroundcolor\":\"#E5ECF6\",\"gridcolor\":\"white\",\"linecolor\":\"white\",\"showbackground\":true,\"ticks\":\"\",\"zerolinecolor\":\"white\",\"gridwidth\":2}},\"shapedefaults\":{\"line\":{\"color\":\"#2a3f5f\"}},\"annotationdefaults\":{\"arrowcolor\":\"#2a3f5f\",\"arrowhead\":0,\"arrowwidth\":1},\"geo\":{\"bgcolor\":\"white\",\"landcolor\":\"#E5ECF6\",\"subunitcolor\":\"white\",\"showland\":true,\"showlakes\":true,\"lakecolor\":\"white\"},\"title\":{\"x\":0.05},\"mapbox\":{\"style\":\"light\"}}},\"xaxis\":{\"anchor\":\"y\",\"domain\":[0.0,1.0],\"title\":{\"text\":\"PC 1 (63.8%)\"}},\"yaxis\":{\"anchor\":\"x\",\"domain\":[0.0,1.0],\"title\":{\"text\":\"PC 2 (29.0%)\"}},\"legend\":{\"title\":{\"text\":\"color, symbol\"},\"tracegroupgap\":0},\"margin\":{\"t\":60},\"height\":600,\"width\":600,\"plot_bgcolor\":\"rgb(243,243,243)\"},                        {\"responsive\": true}                    ).then(function(){\n",
       "                            \n",
       "var gd = document.getElementById('bbd24cdb-7264-47f5-ba63-925c687f973c');\n",
       "var x = new MutationObserver(function (mutations, observer) {{\n",
       "        var display = window.getComputedStyle(gd).display;\n",
       "        if (!display || display === 'none') {{\n",
       "            console.log([gd, 'removed!']);\n",
       "            Plotly.purge(gd);\n",
       "            observer.disconnect();\n",
       "        }}\n",
       "}});\n",
       "\n",
       "// Listen for the removal of the full notebook cells\n",
       "var notebookContainer = gd.closest('#notebook-container');\n",
       "if (notebookContainer) {{\n",
       "    x.observe(notebookContainer, {childList: true});\n",
       "}}\n",
       "\n",
       "// Listen for the clearing of the current output cell\n",
       "var outputEl = gd.closest('.output');\n",
       "if (outputEl) {{\n",
       "    x.observe(outputEl, {childList: true});\n",
       "}}\n",
       "\n",
       "                        })                };                });            </script>        </div>"
      ]
     },
     "metadata": {},
     "output_type": "display_data"
    },
    {
     "data": {
      "application/vnd.plotly.v1+json": {
       "config": {
        "plotlyServerURL": "https://plot.ly"
       },
       "data": [
        {
         "hovertemplate": "color=A<br>symbol=Exon<br>0=%{x}<br>1=%{y}<extra></extra>",
         "legendgroup": "A, Exon",
         "marker": {
          "color": "#636efa",
          "size": 13,
          "symbol": "circle"
         },
         "mode": "markers",
         "name": "A, Exon",
         "orientation": "v",
         "showlegend": true,
         "type": "scatter",
         "x": [
          2.9556661168859057,
          2.6209660037033515,
          0.5690964550219729,
          -1.564508605906127,
          -2.3809644023266556,
          -2.4846047545750563,
          -1.9788812592046745,
          -1.232469356333634,
          -0.5815045024762792,
          0.05058031049617654,
          2.395836265179288,
          2.819114576943081
         ],
         "xaxis": "x",
         "y": [
          -0.08953713727655419,
          1.4477643805110962,
          2.3103721865808127,
          1.8080212742696808,
          0.6190783539819893,
          0.2591078098983712,
          -0.6415080758365261,
          -0.9218443932556807,
          -1.168659726888836,
          -1.1692162761621778,
          -1.4584326662769758,
          -0.6744698294987378
         ],
         "yaxis": "y"
        },
        {
         "hovertemplate": "color=B<br>symbol=Exon<br>0=%{x}<br>1=%{y}<extra></extra>",
         "legendgroup": "B, Exon",
         "marker": {
          "color": "#EF553B",
          "size": 13,
          "symbol": "circle"
         },
         "mode": "markers",
         "name": "B, Exon",
         "orientation": "v",
         "showlegend": true,
         "type": "scatter",
         "x": [
          2.784519806514466,
          1.380818358273747,
          1.718138452226413,
          -1.2194728511320327,
          -2.5828911331806905,
          -2.623367853065855,
          -2.4111110243933647,
          -0.6388309694022666,
          0.16843802276327616,
          0.8212673122744,
          2.5220638170964427,
          2.674446563275818
         ],
         "xaxis": "x",
         "y": [
          0.2591370592070803,
          2.040274526238958,
          2.222246321044061,
          1.9054125596217766,
          -0.06427097879387733,
          0.12212100732959999,
          -0.5780395022350043,
          -1.2679118322740544,
          -1.2616292900610189,
          -1.6604904316502238,
          -1.535952802380803,
          -0.5196944952647946
         ],
         "yaxis": "y"
        },
        {
         "hovertemplate": "color=C<br>symbol=Exon<br>0=%{x}<br>1=%{y}<extra></extra>",
         "legendgroup": "C, Exon",
         "marker": {
          "color": "#00cc96",
          "size": 13,
          "symbol": "circle"
         },
         "mode": "markers",
         "name": "C, Exon",
         "orientation": "v",
         "showlegend": true,
         "type": "scatter",
         "x": [
          2.8381302752692945,
          1.6636664774734913,
          -1.7700488467707387,
          -1.8927150483304478,
          -2.5487508264940706,
          -2.271555706064168,
          -2.4237383327057995,
          -1.6176751670186533,
          -0.07522047819036728,
          0.8314442374095243,
          1.3909821672192486,
          2.206174834585872
         ],
         "xaxis": "x",
         "y": [
          1.1937589940130338,
          2.3637928312737846,
          1.3489272397551832,
          1.2443619103034513,
          0.019939208390489675,
          -0.5619704118224987,
          -0.4060651183957253,
          -0.7971089405699128,
          -1.2572405151086978,
          -1.5068434910309336,
          -1.4128899825255805,
          -1.3337117340611744
         ],
         "yaxis": "y"
        },
        {
         "hovertemplate": "color=D<br>symbol=Exon<br>0=%{x}<br>1=%{y}<extra></extra>",
         "legendgroup": "D, Exon",
         "marker": {
          "color": "#ab63fa",
          "size": 13,
          "symbol": "circle"
         },
         "mode": "markers",
         "name": "D, Exon",
         "orientation": "v",
         "showlegend": true,
         "type": "scatter",
         "x": [
          2.5027828357791813,
          1.114560801035804,
          1.7816091719316653,
          -1.4619721272426265,
          -2.357825148064397,
          -2.5721972730400036,
          -1.6970632875749567,
          -0.6700671588047282,
          -0.5035953751092096,
          0.39458910322594926,
          1.1875955689169893,
          2.1685439539054556
         ],
         "xaxis": "x",
         "y": [
          1.425618563141269,
          1.745968608220041,
          2.1616639425498194,
          1.6396030992871646,
          1.0195908437753174,
          0.17912013585449682,
          -0.782579238173389,
          -1.178942066792693,
          -1.079253562432685,
          -1.517395149176934,
          -1.479416410124476,
          -1.0108067971775097
         ],
         "yaxis": "y"
        }
       ],
       "layout": {
        "height": 600,
        "legend": {
         "title": {
          "text": "color, symbol"
         },
         "tracegroupgap": 0
        },
        "margin": {
         "t": 60
        },
        "plot_bgcolor": "rgb(243,243,243)",
        "template": {
         "data": {
          "bar": [
           {
            "error_x": {
             "color": "#2a3f5f"
            },
            "error_y": {
             "color": "#2a3f5f"
            },
            "marker": {
             "line": {
              "color": "#E5ECF6",
              "width": 0.5
             },
             "pattern": {
              "fillmode": "overlay",
              "size": 10,
              "solidity": 0.2
             }
            },
            "type": "bar"
           }
          ],
          "barpolar": [
           {
            "marker": {
             "line": {
              "color": "#E5ECF6",
              "width": 0.5
             },
             "pattern": {
              "fillmode": "overlay",
              "size": 10,
              "solidity": 0.2
             }
            },
            "type": "barpolar"
           }
          ],
          "carpet": [
           {
            "aaxis": {
             "endlinecolor": "#2a3f5f",
             "gridcolor": "white",
             "linecolor": "white",
             "minorgridcolor": "white",
             "startlinecolor": "#2a3f5f"
            },
            "baxis": {
             "endlinecolor": "#2a3f5f",
             "gridcolor": "white",
             "linecolor": "white",
             "minorgridcolor": "white",
             "startlinecolor": "#2a3f5f"
            },
            "type": "carpet"
           }
          ],
          "choropleth": [
           {
            "colorbar": {
             "outlinewidth": 0,
             "ticks": ""
            },
            "type": "choropleth"
           }
          ],
          "contour": [
           {
            "colorbar": {
             "outlinewidth": 0,
             "ticks": ""
            },
            "colorscale": [
             [
              0,
              "#0d0887"
             ],
             [
              0.1111111111111111,
              "#46039f"
             ],
             [
              0.2222222222222222,
              "#7201a8"
             ],
             [
              0.3333333333333333,
              "#9c179e"
             ],
             [
              0.4444444444444444,
              "#bd3786"
             ],
             [
              0.5555555555555556,
              "#d8576b"
             ],
             [
              0.6666666666666666,
              "#ed7953"
             ],
             [
              0.7777777777777778,
              "#fb9f3a"
             ],
             [
              0.8888888888888888,
              "#fdca26"
             ],
             [
              1,
              "#f0f921"
             ]
            ],
            "type": "contour"
           }
          ],
          "contourcarpet": [
           {
            "colorbar": {
             "outlinewidth": 0,
             "ticks": ""
            },
            "type": "contourcarpet"
           }
          ],
          "heatmap": [
           {
            "colorbar": {
             "outlinewidth": 0,
             "ticks": ""
            },
            "colorscale": [
             [
              0,
              "#0d0887"
             ],
             [
              0.1111111111111111,
              "#46039f"
             ],
             [
              0.2222222222222222,
              "#7201a8"
             ],
             [
              0.3333333333333333,
              "#9c179e"
             ],
             [
              0.4444444444444444,
              "#bd3786"
             ],
             [
              0.5555555555555556,
              "#d8576b"
             ],
             [
              0.6666666666666666,
              "#ed7953"
             ],
             [
              0.7777777777777778,
              "#fb9f3a"
             ],
             [
              0.8888888888888888,
              "#fdca26"
             ],
             [
              1,
              "#f0f921"
             ]
            ],
            "type": "heatmap"
           }
          ],
          "heatmapgl": [
           {
            "colorbar": {
             "outlinewidth": 0,
             "ticks": ""
            },
            "colorscale": [
             [
              0,
              "#0d0887"
             ],
             [
              0.1111111111111111,
              "#46039f"
             ],
             [
              0.2222222222222222,
              "#7201a8"
             ],
             [
              0.3333333333333333,
              "#9c179e"
             ],
             [
              0.4444444444444444,
              "#bd3786"
             ],
             [
              0.5555555555555556,
              "#d8576b"
             ],
             [
              0.6666666666666666,
              "#ed7953"
             ],
             [
              0.7777777777777778,
              "#fb9f3a"
             ],
             [
              0.8888888888888888,
              "#fdca26"
             ],
             [
              1,
              "#f0f921"
             ]
            ],
            "type": "heatmapgl"
           }
          ],
          "histogram": [
           {
            "marker": {
             "pattern": {
              "fillmode": "overlay",
              "size": 10,
              "solidity": 0.2
             }
            },
            "type": "histogram"
           }
          ],
          "histogram2d": [
           {
            "colorbar": {
             "outlinewidth": 0,
             "ticks": ""
            },
            "colorscale": [
             [
              0,
              "#0d0887"
             ],
             [
              0.1111111111111111,
              "#46039f"
             ],
             [
              0.2222222222222222,
              "#7201a8"
             ],
             [
              0.3333333333333333,
              "#9c179e"
             ],
             [
              0.4444444444444444,
              "#bd3786"
             ],
             [
              0.5555555555555556,
              "#d8576b"
             ],
             [
              0.6666666666666666,
              "#ed7953"
             ],
             [
              0.7777777777777778,
              "#fb9f3a"
             ],
             [
              0.8888888888888888,
              "#fdca26"
             ],
             [
              1,
              "#f0f921"
             ]
            ],
            "type": "histogram2d"
           }
          ],
          "histogram2dcontour": [
           {
            "colorbar": {
             "outlinewidth": 0,
             "ticks": ""
            },
            "colorscale": [
             [
              0,
              "#0d0887"
             ],
             [
              0.1111111111111111,
              "#46039f"
             ],
             [
              0.2222222222222222,
              "#7201a8"
             ],
             [
              0.3333333333333333,
              "#9c179e"
             ],
             [
              0.4444444444444444,
              "#bd3786"
             ],
             [
              0.5555555555555556,
              "#d8576b"
             ],
             [
              0.6666666666666666,
              "#ed7953"
             ],
             [
              0.7777777777777778,
              "#fb9f3a"
             ],
             [
              0.8888888888888888,
              "#fdca26"
             ],
             [
              1,
              "#f0f921"
             ]
            ],
            "type": "histogram2dcontour"
           }
          ],
          "mesh3d": [
           {
            "colorbar": {
             "outlinewidth": 0,
             "ticks": ""
            },
            "type": "mesh3d"
           }
          ],
          "parcoords": [
           {
            "line": {
             "colorbar": {
              "outlinewidth": 0,
              "ticks": ""
             }
            },
            "type": "parcoords"
           }
          ],
          "pie": [
           {
            "automargin": true,
            "type": "pie"
           }
          ],
          "scatter": [
           {
            "fillpattern": {
             "fillmode": "overlay",
             "size": 10,
             "solidity": 0.2
            },
            "type": "scatter"
           }
          ],
          "scatter3d": [
           {
            "line": {
             "colorbar": {
              "outlinewidth": 0,
              "ticks": ""
             }
            },
            "marker": {
             "colorbar": {
              "outlinewidth": 0,
              "ticks": ""
             }
            },
            "type": "scatter3d"
           }
          ],
          "scattercarpet": [
           {
            "marker": {
             "colorbar": {
              "outlinewidth": 0,
              "ticks": ""
             }
            },
            "type": "scattercarpet"
           }
          ],
          "scattergeo": [
           {
            "marker": {
             "colorbar": {
              "outlinewidth": 0,
              "ticks": ""
             }
            },
            "type": "scattergeo"
           }
          ],
          "scattergl": [
           {
            "marker": {
             "colorbar": {
              "outlinewidth": 0,
              "ticks": ""
             }
            },
            "type": "scattergl"
           }
          ],
          "scattermapbox": [
           {
            "marker": {
             "colorbar": {
              "outlinewidth": 0,
              "ticks": ""
             }
            },
            "type": "scattermapbox"
           }
          ],
          "scatterpolar": [
           {
            "marker": {
             "colorbar": {
              "outlinewidth": 0,
              "ticks": ""
             }
            },
            "type": "scatterpolar"
           }
          ],
          "scatterpolargl": [
           {
            "marker": {
             "colorbar": {
              "outlinewidth": 0,
              "ticks": ""
             }
            },
            "type": "scatterpolargl"
           }
          ],
          "scatterternary": [
           {
            "marker": {
             "colorbar": {
              "outlinewidth": 0,
              "ticks": ""
             }
            },
            "type": "scatterternary"
           }
          ],
          "surface": [
           {
            "colorbar": {
             "outlinewidth": 0,
             "ticks": ""
            },
            "colorscale": [
             [
              0,
              "#0d0887"
             ],
             [
              0.1111111111111111,
              "#46039f"
             ],
             [
              0.2222222222222222,
              "#7201a8"
             ],
             [
              0.3333333333333333,
              "#9c179e"
             ],
             [
              0.4444444444444444,
              "#bd3786"
             ],
             [
              0.5555555555555556,
              "#d8576b"
             ],
             [
              0.6666666666666666,
              "#ed7953"
             ],
             [
              0.7777777777777778,
              "#fb9f3a"
             ],
             [
              0.8888888888888888,
              "#fdca26"
             ],
             [
              1,
              "#f0f921"
             ]
            ],
            "type": "surface"
           }
          ],
          "table": [
           {
            "cells": {
             "fill": {
              "color": "#EBF0F8"
             },
             "line": {
              "color": "white"
             }
            },
            "header": {
             "fill": {
              "color": "#C8D4E3"
             },
             "line": {
              "color": "white"
             }
            },
            "type": "table"
           }
          ]
         },
         "layout": {
          "annotationdefaults": {
           "arrowcolor": "#2a3f5f",
           "arrowhead": 0,
           "arrowwidth": 1
          },
          "autotypenumbers": "strict",
          "coloraxis": {
           "colorbar": {
            "outlinewidth": 0,
            "ticks": ""
           }
          },
          "colorscale": {
           "diverging": [
            [
             0,
             "#8e0152"
            ],
            [
             0.1,
             "#c51b7d"
            ],
            [
             0.2,
             "#de77ae"
            ],
            [
             0.3,
             "#f1b6da"
            ],
            [
             0.4,
             "#fde0ef"
            ],
            [
             0.5,
             "#f7f7f7"
            ],
            [
             0.6,
             "#e6f5d0"
            ],
            [
             0.7,
             "#b8e186"
            ],
            [
             0.8,
             "#7fbc41"
            ],
            [
             0.9,
             "#4d9221"
            ],
            [
             1,
             "#276419"
            ]
           ],
           "sequential": [
            [
             0,
             "#0d0887"
            ],
            [
             0.1111111111111111,
             "#46039f"
            ],
            [
             0.2222222222222222,
             "#7201a8"
            ],
            [
             0.3333333333333333,
             "#9c179e"
            ],
            [
             0.4444444444444444,
             "#bd3786"
            ],
            [
             0.5555555555555556,
             "#d8576b"
            ],
            [
             0.6666666666666666,
             "#ed7953"
            ],
            [
             0.7777777777777778,
             "#fb9f3a"
            ],
            [
             0.8888888888888888,
             "#fdca26"
            ],
            [
             1,
             "#f0f921"
            ]
           ],
           "sequentialminus": [
            [
             0,
             "#0d0887"
            ],
            [
             0.1111111111111111,
             "#46039f"
            ],
            [
             0.2222222222222222,
             "#7201a8"
            ],
            [
             0.3333333333333333,
             "#9c179e"
            ],
            [
             0.4444444444444444,
             "#bd3786"
            ],
            [
             0.5555555555555556,
             "#d8576b"
            ],
            [
             0.6666666666666666,
             "#ed7953"
            ],
            [
             0.7777777777777778,
             "#fb9f3a"
            ],
            [
             0.8888888888888888,
             "#fdca26"
            ],
            [
             1,
             "#f0f921"
            ]
           ]
          },
          "colorway": [
           "#636efa",
           "#EF553B",
           "#00cc96",
           "#ab63fa",
           "#FFA15A",
           "#19d3f3",
           "#FF6692",
           "#B6E880",
           "#FF97FF",
           "#FECB52"
          ],
          "font": {
           "color": "#2a3f5f"
          },
          "geo": {
           "bgcolor": "white",
           "lakecolor": "white",
           "landcolor": "#E5ECF6",
           "showlakes": true,
           "showland": true,
           "subunitcolor": "white"
          },
          "hoverlabel": {
           "align": "left"
          },
          "hovermode": "closest",
          "mapbox": {
           "style": "light"
          },
          "paper_bgcolor": "white",
          "plot_bgcolor": "#E5ECF6",
          "polar": {
           "angularaxis": {
            "gridcolor": "white",
            "linecolor": "white",
            "ticks": ""
           },
           "bgcolor": "#E5ECF6",
           "radialaxis": {
            "gridcolor": "white",
            "linecolor": "white",
            "ticks": ""
           }
          },
          "scene": {
           "xaxis": {
            "backgroundcolor": "#E5ECF6",
            "gridcolor": "white",
            "gridwidth": 2,
            "linecolor": "white",
            "showbackground": true,
            "ticks": "",
            "zerolinecolor": "white"
           },
           "yaxis": {
            "backgroundcolor": "#E5ECF6",
            "gridcolor": "white",
            "gridwidth": 2,
            "linecolor": "white",
            "showbackground": true,
            "ticks": "",
            "zerolinecolor": "white"
           },
           "zaxis": {
            "backgroundcolor": "#E5ECF6",
            "gridcolor": "white",
            "gridwidth": 2,
            "linecolor": "white",
            "showbackground": true,
            "ticks": "",
            "zerolinecolor": "white"
           }
          },
          "shapedefaults": {
           "line": {
            "color": "#2a3f5f"
           }
          },
          "ternary": {
           "aaxis": {
            "gridcolor": "white",
            "linecolor": "white",
            "ticks": ""
           },
           "baxis": {
            "gridcolor": "white",
            "linecolor": "white",
            "ticks": ""
           },
           "bgcolor": "#E5ECF6",
           "caxis": {
            "gridcolor": "white",
            "linecolor": "white",
            "ticks": ""
           }
          },
          "title": {
           "x": 0.05
          },
          "xaxis": {
           "automargin": true,
           "gridcolor": "white",
           "linecolor": "white",
           "ticks": "",
           "title": {
            "standoff": 15
           },
           "zerolinecolor": "white",
           "zerolinewidth": 2
          },
          "yaxis": {
           "automargin": true,
           "gridcolor": "white",
           "linecolor": "white",
           "ticks": "",
           "title": {
            "standoff": 15
           },
           "zerolinecolor": "white",
           "zerolinewidth": 2
          }
         }
        },
        "width": 600,
        "xaxis": {
         "anchor": "y",
         "domain": [
          0,
          1
         ],
         "title": {
          "text": "PC 1 (63.8%)"
         }
        },
        "yaxis": {
         "anchor": "x",
         "domain": [
          0,
          1
         ],
         "title": {
          "text": "PC 2 (29.0%)"
         }
        }
       }
      },
      "text/html": [
       "<div>                            <div id=\"5494ace5-b844-4b19-9ff0-d5d7a186bc51\" class=\"plotly-graph-div\" style=\"height:600px; width:600px;\"></div>            <script type=\"text/javascript\">                require([\"plotly\"], function(Plotly) {                    window.PLOTLYENV=window.PLOTLYENV || {};                                    if (document.getElementById(\"5494ace5-b844-4b19-9ff0-d5d7a186bc51\")) {                    Plotly.newPlot(                        \"5494ace5-b844-4b19-9ff0-d5d7a186bc51\",                        [{\"hovertemplate\":\"color=A<br>symbol=Exon<br>0=%{x}<br>1=%{y}<extra></extra>\",\"legendgroup\":\"A, Exon\",\"marker\":{\"color\":\"#636efa\",\"symbol\":\"circle\",\"size\":13},\"mode\":\"markers\",\"name\":\"A, Exon\",\"orientation\":\"v\",\"showlegend\":true,\"x\":[2.9556661168859057,2.6209660037033515,0.5690964550219729,-1.564508605906127,-2.3809644023266556,-2.4846047545750563,-1.9788812592046745,-1.232469356333634,-0.5815045024762792,0.05058031049617654,2.395836265179288,2.819114576943081],\"xaxis\":\"x\",\"y\":[-0.08953713727655419,1.4477643805110962,2.3103721865808127,1.8080212742696808,0.6190783539819893,0.2591078098983712,-0.6415080758365261,-0.9218443932556807,-1.168659726888836,-1.1692162761621778,-1.4584326662769758,-0.6744698294987378],\"yaxis\":\"y\",\"type\":\"scatter\"},{\"hovertemplate\":\"color=B<br>symbol=Exon<br>0=%{x}<br>1=%{y}<extra></extra>\",\"legendgroup\":\"B, Exon\",\"marker\":{\"color\":\"#EF553B\",\"symbol\":\"circle\",\"size\":13},\"mode\":\"markers\",\"name\":\"B, Exon\",\"orientation\":\"v\",\"showlegend\":true,\"x\":[2.784519806514466,1.380818358273747,1.718138452226413,-1.2194728511320327,-2.5828911331806905,-2.623367853065855,-2.4111110243933647,-0.6388309694022666,0.16843802276327616,0.8212673122744,2.5220638170964427,2.674446563275818],\"xaxis\":\"x\",\"y\":[0.2591370592070803,2.040274526238958,2.222246321044061,1.9054125596217766,-0.06427097879387733,0.12212100732959999,-0.5780395022350043,-1.2679118322740544,-1.2616292900610189,-1.6604904316502238,-1.535952802380803,-0.5196944952647946],\"yaxis\":\"y\",\"type\":\"scatter\"},{\"hovertemplate\":\"color=C<br>symbol=Exon<br>0=%{x}<br>1=%{y}<extra></extra>\",\"legendgroup\":\"C, Exon\",\"marker\":{\"color\":\"#00cc96\",\"symbol\":\"circle\",\"size\":13},\"mode\":\"markers\",\"name\":\"C, Exon\",\"orientation\":\"v\",\"showlegend\":true,\"x\":[2.8381302752692945,1.6636664774734913,-1.7700488467707387,-1.8927150483304478,-2.5487508264940706,-2.271555706064168,-2.4237383327057995,-1.6176751670186533,-0.07522047819036728,0.8314442374095243,1.3909821672192486,2.206174834585872],\"xaxis\":\"x\",\"y\":[1.1937589940130338,2.3637928312737846,1.3489272397551832,1.2443619103034513,0.019939208390489675,-0.5619704118224987,-0.4060651183957253,-0.7971089405699128,-1.2572405151086978,-1.5068434910309336,-1.4128899825255805,-1.3337117340611744],\"yaxis\":\"y\",\"type\":\"scatter\"},{\"hovertemplate\":\"color=D<br>symbol=Exon<br>0=%{x}<br>1=%{y}<extra></extra>\",\"legendgroup\":\"D, Exon\",\"marker\":{\"color\":\"#ab63fa\",\"symbol\":\"circle\",\"size\":13},\"mode\":\"markers\",\"name\":\"D, Exon\",\"orientation\":\"v\",\"showlegend\":true,\"x\":[2.5027828357791813,1.114560801035804,1.7816091719316653,-1.4619721272426265,-2.357825148064397,-2.5721972730400036,-1.6970632875749567,-0.6700671588047282,-0.5035953751092096,0.39458910322594926,1.1875955689169893,2.1685439539054556],\"xaxis\":\"x\",\"y\":[1.425618563141269,1.745968608220041,2.1616639425498194,1.6396030992871646,1.0195908437753174,0.17912013585449682,-0.782579238173389,-1.178942066792693,-1.079253562432685,-1.517395149176934,-1.479416410124476,-1.0108067971775097],\"yaxis\":\"y\",\"type\":\"scatter\"}],                        {\"template\":{\"data\":{\"histogram2dcontour\":[{\"type\":\"histogram2dcontour\",\"colorbar\":{\"outlinewidth\":0,\"ticks\":\"\"},\"colorscale\":[[0.0,\"#0d0887\"],[0.1111111111111111,\"#46039f\"],[0.2222222222222222,\"#7201a8\"],[0.3333333333333333,\"#9c179e\"],[0.4444444444444444,\"#bd3786\"],[0.5555555555555556,\"#d8576b\"],[0.6666666666666666,\"#ed7953\"],[0.7777777777777778,\"#fb9f3a\"],[0.8888888888888888,\"#fdca26\"],[1.0,\"#f0f921\"]]}],\"choropleth\":[{\"type\":\"choropleth\",\"colorbar\":{\"outlinewidth\":0,\"ticks\":\"\"}}],\"histogram2d\":[{\"type\":\"histogram2d\",\"colorbar\":{\"outlinewidth\":0,\"ticks\":\"\"},\"colorscale\":[[0.0,\"#0d0887\"],[0.1111111111111111,\"#46039f\"],[0.2222222222222222,\"#7201a8\"],[0.3333333333333333,\"#9c179e\"],[0.4444444444444444,\"#bd3786\"],[0.5555555555555556,\"#d8576b\"],[0.6666666666666666,\"#ed7953\"],[0.7777777777777778,\"#fb9f3a\"],[0.8888888888888888,\"#fdca26\"],[1.0,\"#f0f921\"]]}],\"heatmap\":[{\"type\":\"heatmap\",\"colorbar\":{\"outlinewidth\":0,\"ticks\":\"\"},\"colorscale\":[[0.0,\"#0d0887\"],[0.1111111111111111,\"#46039f\"],[0.2222222222222222,\"#7201a8\"],[0.3333333333333333,\"#9c179e\"],[0.4444444444444444,\"#bd3786\"],[0.5555555555555556,\"#d8576b\"],[0.6666666666666666,\"#ed7953\"],[0.7777777777777778,\"#fb9f3a\"],[0.8888888888888888,\"#fdca26\"],[1.0,\"#f0f921\"]]}],\"heatmapgl\":[{\"type\":\"heatmapgl\",\"colorbar\":{\"outlinewidth\":0,\"ticks\":\"\"},\"colorscale\":[[0.0,\"#0d0887\"],[0.1111111111111111,\"#46039f\"],[0.2222222222222222,\"#7201a8\"],[0.3333333333333333,\"#9c179e\"],[0.4444444444444444,\"#bd3786\"],[0.5555555555555556,\"#d8576b\"],[0.6666666666666666,\"#ed7953\"],[0.7777777777777778,\"#fb9f3a\"],[0.8888888888888888,\"#fdca26\"],[1.0,\"#f0f921\"]]}],\"contourcarpet\":[{\"type\":\"contourcarpet\",\"colorbar\":{\"outlinewidth\":0,\"ticks\":\"\"}}],\"contour\":[{\"type\":\"contour\",\"colorbar\":{\"outlinewidth\":0,\"ticks\":\"\"},\"colorscale\":[[0.0,\"#0d0887\"],[0.1111111111111111,\"#46039f\"],[0.2222222222222222,\"#7201a8\"],[0.3333333333333333,\"#9c179e\"],[0.4444444444444444,\"#bd3786\"],[0.5555555555555556,\"#d8576b\"],[0.6666666666666666,\"#ed7953\"],[0.7777777777777778,\"#fb9f3a\"],[0.8888888888888888,\"#fdca26\"],[1.0,\"#f0f921\"]]}],\"surface\":[{\"type\":\"surface\",\"colorbar\":{\"outlinewidth\":0,\"ticks\":\"\"},\"colorscale\":[[0.0,\"#0d0887\"],[0.1111111111111111,\"#46039f\"],[0.2222222222222222,\"#7201a8\"],[0.3333333333333333,\"#9c179e\"],[0.4444444444444444,\"#bd3786\"],[0.5555555555555556,\"#d8576b\"],[0.6666666666666666,\"#ed7953\"],[0.7777777777777778,\"#fb9f3a\"],[0.8888888888888888,\"#fdca26\"],[1.0,\"#f0f921\"]]}],\"mesh3d\":[{\"type\":\"mesh3d\",\"colorbar\":{\"outlinewidth\":0,\"ticks\":\"\"}}],\"scatter\":[{\"fillpattern\":{\"fillmode\":\"overlay\",\"size\":10,\"solidity\":0.2},\"type\":\"scatter\"}],\"parcoords\":[{\"type\":\"parcoords\",\"line\":{\"colorbar\":{\"outlinewidth\":0,\"ticks\":\"\"}}}],\"scatterpolargl\":[{\"type\":\"scatterpolargl\",\"marker\":{\"colorbar\":{\"outlinewidth\":0,\"ticks\":\"\"}}}],\"bar\":[{\"error_x\":{\"color\":\"#2a3f5f\"},\"error_y\":{\"color\":\"#2a3f5f\"},\"marker\":{\"line\":{\"color\":\"#E5ECF6\",\"width\":0.5},\"pattern\":{\"fillmode\":\"overlay\",\"size\":10,\"solidity\":0.2}},\"type\":\"bar\"}],\"scattergeo\":[{\"type\":\"scattergeo\",\"marker\":{\"colorbar\":{\"outlinewidth\":0,\"ticks\":\"\"}}}],\"scatterpolar\":[{\"type\":\"scatterpolar\",\"marker\":{\"colorbar\":{\"outlinewidth\":0,\"ticks\":\"\"}}}],\"histogram\":[{\"marker\":{\"pattern\":{\"fillmode\":\"overlay\",\"size\":10,\"solidity\":0.2}},\"type\":\"histogram\"}],\"scattergl\":[{\"type\":\"scattergl\",\"marker\":{\"colorbar\":{\"outlinewidth\":0,\"ticks\":\"\"}}}],\"scatter3d\":[{\"type\":\"scatter3d\",\"line\":{\"colorbar\":{\"outlinewidth\":0,\"ticks\":\"\"}},\"marker\":{\"colorbar\":{\"outlinewidth\":0,\"ticks\":\"\"}}}],\"scattermapbox\":[{\"type\":\"scattermapbox\",\"marker\":{\"colorbar\":{\"outlinewidth\":0,\"ticks\":\"\"}}}],\"scatterternary\":[{\"type\":\"scatterternary\",\"marker\":{\"colorbar\":{\"outlinewidth\":0,\"ticks\":\"\"}}}],\"scattercarpet\":[{\"type\":\"scattercarpet\",\"marker\":{\"colorbar\":{\"outlinewidth\":0,\"ticks\":\"\"}}}],\"carpet\":[{\"aaxis\":{\"endlinecolor\":\"#2a3f5f\",\"gridcolor\":\"white\",\"linecolor\":\"white\",\"minorgridcolor\":\"white\",\"startlinecolor\":\"#2a3f5f\"},\"baxis\":{\"endlinecolor\":\"#2a3f5f\",\"gridcolor\":\"white\",\"linecolor\":\"white\",\"minorgridcolor\":\"white\",\"startlinecolor\":\"#2a3f5f\"},\"type\":\"carpet\"}],\"table\":[{\"cells\":{\"fill\":{\"color\":\"#EBF0F8\"},\"line\":{\"color\":\"white\"}},\"header\":{\"fill\":{\"color\":\"#C8D4E3\"},\"line\":{\"color\":\"white\"}},\"type\":\"table\"}],\"barpolar\":[{\"marker\":{\"line\":{\"color\":\"#E5ECF6\",\"width\":0.5},\"pattern\":{\"fillmode\":\"overlay\",\"size\":10,\"solidity\":0.2}},\"type\":\"barpolar\"}],\"pie\":[{\"automargin\":true,\"type\":\"pie\"}]},\"layout\":{\"autotypenumbers\":\"strict\",\"colorway\":[\"#636efa\",\"#EF553B\",\"#00cc96\",\"#ab63fa\",\"#FFA15A\",\"#19d3f3\",\"#FF6692\",\"#B6E880\",\"#FF97FF\",\"#FECB52\"],\"font\":{\"color\":\"#2a3f5f\"},\"hovermode\":\"closest\",\"hoverlabel\":{\"align\":\"left\"},\"paper_bgcolor\":\"white\",\"plot_bgcolor\":\"#E5ECF6\",\"polar\":{\"bgcolor\":\"#E5ECF6\",\"angularaxis\":{\"gridcolor\":\"white\",\"linecolor\":\"white\",\"ticks\":\"\"},\"radialaxis\":{\"gridcolor\":\"white\",\"linecolor\":\"white\",\"ticks\":\"\"}},\"ternary\":{\"bgcolor\":\"#E5ECF6\",\"aaxis\":{\"gridcolor\":\"white\",\"linecolor\":\"white\",\"ticks\":\"\"},\"baxis\":{\"gridcolor\":\"white\",\"linecolor\":\"white\",\"ticks\":\"\"},\"caxis\":{\"gridcolor\":\"white\",\"linecolor\":\"white\",\"ticks\":\"\"}},\"coloraxis\":{\"colorbar\":{\"outlinewidth\":0,\"ticks\":\"\"}},\"colorscale\":{\"sequential\":[[0.0,\"#0d0887\"],[0.1111111111111111,\"#46039f\"],[0.2222222222222222,\"#7201a8\"],[0.3333333333333333,\"#9c179e\"],[0.4444444444444444,\"#bd3786\"],[0.5555555555555556,\"#d8576b\"],[0.6666666666666666,\"#ed7953\"],[0.7777777777777778,\"#fb9f3a\"],[0.8888888888888888,\"#fdca26\"],[1.0,\"#f0f921\"]],\"sequentialminus\":[[0.0,\"#0d0887\"],[0.1111111111111111,\"#46039f\"],[0.2222222222222222,\"#7201a8\"],[0.3333333333333333,\"#9c179e\"],[0.4444444444444444,\"#bd3786\"],[0.5555555555555556,\"#d8576b\"],[0.6666666666666666,\"#ed7953\"],[0.7777777777777778,\"#fb9f3a\"],[0.8888888888888888,\"#fdca26\"],[1.0,\"#f0f921\"]],\"diverging\":[[0,\"#8e0152\"],[0.1,\"#c51b7d\"],[0.2,\"#de77ae\"],[0.3,\"#f1b6da\"],[0.4,\"#fde0ef\"],[0.5,\"#f7f7f7\"],[0.6,\"#e6f5d0\"],[0.7,\"#b8e186\"],[0.8,\"#7fbc41\"],[0.9,\"#4d9221\"],[1,\"#276419\"]]},\"xaxis\":{\"gridcolor\":\"white\",\"linecolor\":\"white\",\"ticks\":\"\",\"title\":{\"standoff\":15},\"zerolinecolor\":\"white\",\"automargin\":true,\"zerolinewidth\":2},\"yaxis\":{\"gridcolor\":\"white\",\"linecolor\":\"white\",\"ticks\":\"\",\"title\":{\"standoff\":15},\"zerolinecolor\":\"white\",\"automargin\":true,\"zerolinewidth\":2},\"scene\":{\"xaxis\":{\"backgroundcolor\":\"#E5ECF6\",\"gridcolor\":\"white\",\"linecolor\":\"white\",\"showbackground\":true,\"ticks\":\"\",\"zerolinecolor\":\"white\",\"gridwidth\":2},\"yaxis\":{\"backgroundcolor\":\"#E5ECF6\",\"gridcolor\":\"white\",\"linecolor\":\"white\",\"showbackground\":true,\"ticks\":\"\",\"zerolinecolor\":\"white\",\"gridwidth\":2},\"zaxis\":{\"backgroundcolor\":\"#E5ECF6\",\"gridcolor\":\"white\",\"linecolor\":\"white\",\"showbackground\":true,\"ticks\":\"\",\"zerolinecolor\":\"white\",\"gridwidth\":2}},\"shapedefaults\":{\"line\":{\"color\":\"#2a3f5f\"}},\"annotationdefaults\":{\"arrowcolor\":\"#2a3f5f\",\"arrowhead\":0,\"arrowwidth\":1},\"geo\":{\"bgcolor\":\"white\",\"landcolor\":\"#E5ECF6\",\"subunitcolor\":\"white\",\"showland\":true,\"showlakes\":true,\"lakecolor\":\"white\"},\"title\":{\"x\":0.05},\"mapbox\":{\"style\":\"light\"}}},\"xaxis\":{\"anchor\":\"y\",\"domain\":[0.0,1.0],\"title\":{\"text\":\"PC 1 (63.8%)\"}},\"yaxis\":{\"anchor\":\"x\",\"domain\":[0.0,1.0],\"title\":{\"text\":\"PC 2 (29.0%)\"}},\"legend\":{\"title\":{\"text\":\"color, symbol\"},\"tracegroupgap\":0},\"margin\":{\"t\":60},\"height\":600,\"width\":600,\"plot_bgcolor\":\"rgb(243,243,243)\"},                        {\"responsive\": true}                    ).then(function(){\n",
       "                            \n",
       "var gd = document.getElementById('5494ace5-b844-4b19-9ff0-d5d7a186bc51');\n",
       "var x = new MutationObserver(function (mutations, observer) {{\n",
       "        var display = window.getComputedStyle(gd).display;\n",
       "        if (!display || display === 'none') {{\n",
       "            console.log([gd, 'removed!']);\n",
       "            Plotly.purge(gd);\n",
       "            observer.disconnect();\n",
       "        }}\n",
       "}});\n",
       "\n",
       "// Listen for the removal of the full notebook cells\n",
       "var notebookContainer = gd.closest('#notebook-container');\n",
       "if (notebookContainer) {{\n",
       "    x.observe(notebookContainer, {childList: true});\n",
       "}}\n",
       "\n",
       "// Listen for the clearing of the current output cell\n",
       "var outputEl = gd.closest('.output');\n",
       "if (outputEl) {{\n",
       "    x.observe(outputEl, {childList: true});\n",
       "}}\n",
       "\n",
       "                        })                };                });            </script>        </div>"
      ]
     },
     "metadata": {},
     "output_type": "display_data"
    },
    {
     "data": {
      "application/vnd.plotly.v1+json": {
       "config": {
        "plotlyServerURL": "https://plot.ly"
       },
       "data": [
        {
         "hovertemplate": "color=00<br>symbol=WT<br>1=%{x}<br>2=%{y}<extra></extra>",
         "legendgroup": "00, WT",
         "marker": {
          "color": "#636efa",
          "size": 13,
          "symbol": "circle"
         },
         "mode": "markers",
         "name": "00, WT",
         "orientation": "v",
         "showlegend": true,
         "type": "scatter",
         "x": [
          -0.08953713727655419,
          0.2591370592070803,
          1.1937589940130338,
          1.425618563141269
         ],
         "xaxis": "x",
         "y": [
          0.5625118712150113,
          0.28216482658113956,
          0.28330174257561386,
          0.036546934148484984
         ],
         "yaxis": "y"
        },
        {
         "hovertemplate": "color=02<br>symbol=WT<br>1=%{x}<br>2=%{y}<extra></extra>",
         "legendgroup": "02, WT",
         "marker": {
          "color": "#EF553B",
          "size": 13,
          "symbol": "circle"
         },
         "mode": "markers",
         "name": "02, WT",
         "orientation": "v",
         "showlegend": true,
         "type": "scatter",
         "x": [
          1.4477643805110962,
          2.040274526238958,
          2.3637928312737846,
          1.745968608220041
         ],
         "xaxis": "x",
         "y": [
          0.42857818079177257,
          -0.295956712622525,
          0.0014507758126661476,
          -0.6476554340184908
         ],
         "yaxis": "y"
        },
        {
         "hovertemplate": "color=04<br>symbol=WT<br>1=%{x}<br>2=%{y}<extra></extra>",
         "legendgroup": "04, WT",
         "marker": {
          "color": "#00cc96",
          "size": 13,
          "symbol": "circle"
         },
         "mode": "markers",
         "name": "04, WT",
         "orientation": "v",
         "showlegend": true,
         "type": "scatter",
         "x": [
          2.3103721865808127,
          2.222246321044061,
          1.3489272397551832,
          2.1616639425498194
         ],
         "xaxis": "x",
         "y": [
          -0.49816346100391135,
          -0.12606265431096028,
          -0.22774420384090147,
          -0.08152589747032708
         ],
         "yaxis": "y"
        },
        {
         "hovertemplate": "color=06<br>symbol=WT<br>1=%{x}<br>2=%{y}<extra></extra>",
         "legendgroup": "06, WT",
         "marker": {
          "color": "#ab63fa",
          "size": 13,
          "symbol": "circle"
         },
         "mode": "markers",
         "name": "06, WT",
         "orientation": "v",
         "showlegend": true,
         "type": "scatter",
         "x": [
          1.8080212742696808,
          1.9054125596217766,
          1.2443619103034513,
          1.6396030992871646
         ],
         "xaxis": "x",
         "y": [
          -0.2219351369926728,
          -0.35655885772221435,
          -0.15062315722427955,
          -0.43143564206872437
         ],
         "yaxis": "y"
        },
        {
         "hovertemplate": "color=08<br>symbol=WT<br>1=%{x}<br>2=%{y}<extra></extra>",
         "legendgroup": "08, WT",
         "marker": {
          "color": "#FFA15A",
          "size": 13,
          "symbol": "circle"
         },
         "mode": "markers",
         "name": "08, WT",
         "orientation": "v",
         "showlegend": true,
         "type": "scatter",
         "x": [
          0.6190783539819893,
          -0.06427097879387733,
          0.019939208390489675,
          1.0195908437753174
         ],
         "xaxis": "x",
         "y": [
          0.349201983404589,
          0.6001053693085469,
          0.6206351189307642,
          0.19967517552353511
         ],
         "yaxis": "y"
        },
        {
         "hovertemplate": "color=10<br>symbol=WT<br>1=%{x}<br>2=%{y}<extra></extra>",
         "legendgroup": "10, WT",
         "marker": {
          "color": "#19d3f3",
          "size": 13,
          "symbol": "circle"
         },
         "mode": "markers",
         "name": "10, WT",
         "orientation": "v",
         "showlegend": true,
         "type": "scatter",
         "x": [
          0.2591078098983712,
          0.12212100732959999,
          -0.5619704118224987,
          0.17912013585449682
         ],
         "xaxis": "x",
         "y": [
          0.4312395598287203,
          0.5573021875887809,
          0.40872589431453815,
          0.4558914823885054
         ],
         "yaxis": "y"
        },
        {
         "hovertemplate": "color=12<br>symbol=WT<br>1=%{x}<br>2=%{y}<extra></extra>",
         "legendgroup": "12, WT",
         "marker": {
          "color": "#FF6692",
          "size": 13,
          "symbol": "circle"
         },
         "mode": "markers",
         "name": "12, WT",
         "orientation": "v",
         "showlegend": true,
         "type": "scatter",
         "x": [
          -0.6415080758365261,
          -0.5780395022350043,
          -0.4060651183957253,
          -0.782579238173389
         ],
         "xaxis": "x",
         "y": [
          0.1563125594319395,
          0.5873200598147124,
          0.584249350905505,
          -0.0772145012519519
         ],
         "yaxis": "y"
        },
        {
         "hovertemplate": "color=14<br>symbol=WT<br>1=%{x}<br>2=%{y}<extra></extra>",
         "legendgroup": "14, WT",
         "marker": {
          "color": "#B6E880",
          "size": 13,
          "symbol": "circle"
         },
         "mode": "markers",
         "name": "14, WT",
         "orientation": "v",
         "showlegend": true,
         "type": "scatter",
         "x": [
          -0.9218443932556807,
          -1.2679118322740544,
          -0.7971089405699128,
          -1.178942066792693
         ],
         "xaxis": "x",
         "y": [
          -0.11689209058695421,
          -0.4844307206229881,
          -0.09700221387721486,
          -0.5696734393554641
         ],
         "yaxis": "y"
        },
        {
         "hovertemplate": "color=16<br>symbol=WT<br>1=%{x}<br>2=%{y}<extra></extra>",
         "legendgroup": "16, WT",
         "marker": {
          "color": "#FF97FF",
          "size": 13,
          "symbol": "circle"
         },
         "mode": "markers",
         "name": "16, WT",
         "orientation": "v",
         "showlegend": true,
         "type": "scatter",
         "x": [
          -1.168659726888836,
          -1.2616292900610189,
          -1.2572405151086978,
          -1.079253562432685
         ],
         "xaxis": "x",
         "y": [
          -0.6005298221659183,
          -0.6514867365014916,
          -0.6446338269865498,
          -0.5526172420445444
         ],
         "yaxis": "y"
        },
        {
         "hovertemplate": "color=18<br>symbol=WT<br>1=%{x}<br>2=%{y}<extra></extra>",
         "legendgroup": "18, WT",
         "marker": {
          "color": "#FECB52",
          "size": 13,
          "symbol": "circle"
         },
         "mode": "markers",
         "name": "18, WT",
         "orientation": "v",
         "showlegend": true,
         "type": "scatter",
         "x": [
          -1.1692162761621778,
          -1.6604904316502238,
          -1.5068434910309336,
          -1.517395149176934
         ],
         "xaxis": "x",
         "y": [
          -0.7485028746602443,
          -0.3866847163391188,
          -0.4457052344955101,
          -0.477611200353106
         ],
         "yaxis": "y"
        },
        {
         "hovertemplate": "color=20<br>symbol=WT<br>1=%{x}<br>2=%{y}<extra></extra>",
         "legendgroup": "20, WT",
         "marker": {
          "color": "#636efa",
          "size": 13,
          "symbol": "circle"
         },
         "mode": "markers",
         "name": "20, WT",
         "orientation": "v",
         "showlegend": true,
         "type": "scatter",
         "x": [
          -1.4584326662769758,
          -1.535952802380803,
          -1.4128899825255805,
          -1.479416410124476
         ],
         "xaxis": "x",
         "y": [
          0.582607199276494,
          0.8227821744910268,
          -0.2655678304447758,
          -0.32338309609095056
         ],
         "yaxis": "y"
        },
        {
         "hovertemplate": "color=22<br>symbol=WT<br>1=%{x}<br>2=%{y}<extra></extra>",
         "legendgroup": "22, WT",
         "marker": {
          "color": "#EF553B",
          "size": 13,
          "symbol": "circle"
         },
         "mode": "markers",
         "name": "22, WT",
         "orientation": "v",
         "showlegend": true,
         "type": "scatter",
         "x": [
          -0.6744698294987378,
          -0.5196944952647946,
          -1.3337117340611744,
          -1.0108067971775097
         ],
         "xaxis": "x",
         "y": [
          0.5943150826282889,
          0.40617211528471253,
          0.4033509058885313,
          0.1251561529179243
         ],
         "yaxis": "y"
        }
       ],
       "layout": {
        "height": 600,
        "legend": {
         "title": {
          "text": "color, symbol"
         },
         "tracegroupgap": 0
        },
        "margin": {
         "t": 60
        },
        "plot_bgcolor": "rgb(243,243,243)",
        "template": {
         "data": {
          "bar": [
           {
            "error_x": {
             "color": "#2a3f5f"
            },
            "error_y": {
             "color": "#2a3f5f"
            },
            "marker": {
             "line": {
              "color": "#E5ECF6",
              "width": 0.5
             },
             "pattern": {
              "fillmode": "overlay",
              "size": 10,
              "solidity": 0.2
             }
            },
            "type": "bar"
           }
          ],
          "barpolar": [
           {
            "marker": {
             "line": {
              "color": "#E5ECF6",
              "width": 0.5
             },
             "pattern": {
              "fillmode": "overlay",
              "size": 10,
              "solidity": 0.2
             }
            },
            "type": "barpolar"
           }
          ],
          "carpet": [
           {
            "aaxis": {
             "endlinecolor": "#2a3f5f",
             "gridcolor": "white",
             "linecolor": "white",
             "minorgridcolor": "white",
             "startlinecolor": "#2a3f5f"
            },
            "baxis": {
             "endlinecolor": "#2a3f5f",
             "gridcolor": "white",
             "linecolor": "white",
             "minorgridcolor": "white",
             "startlinecolor": "#2a3f5f"
            },
            "type": "carpet"
           }
          ],
          "choropleth": [
           {
            "colorbar": {
             "outlinewidth": 0,
             "ticks": ""
            },
            "type": "choropleth"
           }
          ],
          "contour": [
           {
            "colorbar": {
             "outlinewidth": 0,
             "ticks": ""
            },
            "colorscale": [
             [
              0,
              "#0d0887"
             ],
             [
              0.1111111111111111,
              "#46039f"
             ],
             [
              0.2222222222222222,
              "#7201a8"
             ],
             [
              0.3333333333333333,
              "#9c179e"
             ],
             [
              0.4444444444444444,
              "#bd3786"
             ],
             [
              0.5555555555555556,
              "#d8576b"
             ],
             [
              0.6666666666666666,
              "#ed7953"
             ],
             [
              0.7777777777777778,
              "#fb9f3a"
             ],
             [
              0.8888888888888888,
              "#fdca26"
             ],
             [
              1,
              "#f0f921"
             ]
            ],
            "type": "contour"
           }
          ],
          "contourcarpet": [
           {
            "colorbar": {
             "outlinewidth": 0,
             "ticks": ""
            },
            "type": "contourcarpet"
           }
          ],
          "heatmap": [
           {
            "colorbar": {
             "outlinewidth": 0,
             "ticks": ""
            },
            "colorscale": [
             [
              0,
              "#0d0887"
             ],
             [
              0.1111111111111111,
              "#46039f"
             ],
             [
              0.2222222222222222,
              "#7201a8"
             ],
             [
              0.3333333333333333,
              "#9c179e"
             ],
             [
              0.4444444444444444,
              "#bd3786"
             ],
             [
              0.5555555555555556,
              "#d8576b"
             ],
             [
              0.6666666666666666,
              "#ed7953"
             ],
             [
              0.7777777777777778,
              "#fb9f3a"
             ],
             [
              0.8888888888888888,
              "#fdca26"
             ],
             [
              1,
              "#f0f921"
             ]
            ],
            "type": "heatmap"
           }
          ],
          "heatmapgl": [
           {
            "colorbar": {
             "outlinewidth": 0,
             "ticks": ""
            },
            "colorscale": [
             [
              0,
              "#0d0887"
             ],
             [
              0.1111111111111111,
              "#46039f"
             ],
             [
              0.2222222222222222,
              "#7201a8"
             ],
             [
              0.3333333333333333,
              "#9c179e"
             ],
             [
              0.4444444444444444,
              "#bd3786"
             ],
             [
              0.5555555555555556,
              "#d8576b"
             ],
             [
              0.6666666666666666,
              "#ed7953"
             ],
             [
              0.7777777777777778,
              "#fb9f3a"
             ],
             [
              0.8888888888888888,
              "#fdca26"
             ],
             [
              1,
              "#f0f921"
             ]
            ],
            "type": "heatmapgl"
           }
          ],
          "histogram": [
           {
            "marker": {
             "pattern": {
              "fillmode": "overlay",
              "size": 10,
              "solidity": 0.2
             }
            },
            "type": "histogram"
           }
          ],
          "histogram2d": [
           {
            "colorbar": {
             "outlinewidth": 0,
             "ticks": ""
            },
            "colorscale": [
             [
              0,
              "#0d0887"
             ],
             [
              0.1111111111111111,
              "#46039f"
             ],
             [
              0.2222222222222222,
              "#7201a8"
             ],
             [
              0.3333333333333333,
              "#9c179e"
             ],
             [
              0.4444444444444444,
              "#bd3786"
             ],
             [
              0.5555555555555556,
              "#d8576b"
             ],
             [
              0.6666666666666666,
              "#ed7953"
             ],
             [
              0.7777777777777778,
              "#fb9f3a"
             ],
             [
              0.8888888888888888,
              "#fdca26"
             ],
             [
              1,
              "#f0f921"
             ]
            ],
            "type": "histogram2d"
           }
          ],
          "histogram2dcontour": [
           {
            "colorbar": {
             "outlinewidth": 0,
             "ticks": ""
            },
            "colorscale": [
             [
              0,
              "#0d0887"
             ],
             [
              0.1111111111111111,
              "#46039f"
             ],
             [
              0.2222222222222222,
              "#7201a8"
             ],
             [
              0.3333333333333333,
              "#9c179e"
             ],
             [
              0.4444444444444444,
              "#bd3786"
             ],
             [
              0.5555555555555556,
              "#d8576b"
             ],
             [
              0.6666666666666666,
              "#ed7953"
             ],
             [
              0.7777777777777778,
              "#fb9f3a"
             ],
             [
              0.8888888888888888,
              "#fdca26"
             ],
             [
              1,
              "#f0f921"
             ]
            ],
            "type": "histogram2dcontour"
           }
          ],
          "mesh3d": [
           {
            "colorbar": {
             "outlinewidth": 0,
             "ticks": ""
            },
            "type": "mesh3d"
           }
          ],
          "parcoords": [
           {
            "line": {
             "colorbar": {
              "outlinewidth": 0,
              "ticks": ""
             }
            },
            "type": "parcoords"
           }
          ],
          "pie": [
           {
            "automargin": true,
            "type": "pie"
           }
          ],
          "scatter": [
           {
            "fillpattern": {
             "fillmode": "overlay",
             "size": 10,
             "solidity": 0.2
            },
            "type": "scatter"
           }
          ],
          "scatter3d": [
           {
            "line": {
             "colorbar": {
              "outlinewidth": 0,
              "ticks": ""
             }
            },
            "marker": {
             "colorbar": {
              "outlinewidth": 0,
              "ticks": ""
             }
            },
            "type": "scatter3d"
           }
          ],
          "scattercarpet": [
           {
            "marker": {
             "colorbar": {
              "outlinewidth": 0,
              "ticks": ""
             }
            },
            "type": "scattercarpet"
           }
          ],
          "scattergeo": [
           {
            "marker": {
             "colorbar": {
              "outlinewidth": 0,
              "ticks": ""
             }
            },
            "type": "scattergeo"
           }
          ],
          "scattergl": [
           {
            "marker": {
             "colorbar": {
              "outlinewidth": 0,
              "ticks": ""
             }
            },
            "type": "scattergl"
           }
          ],
          "scattermapbox": [
           {
            "marker": {
             "colorbar": {
              "outlinewidth": 0,
              "ticks": ""
             }
            },
            "type": "scattermapbox"
           }
          ],
          "scatterpolar": [
           {
            "marker": {
             "colorbar": {
              "outlinewidth": 0,
              "ticks": ""
             }
            },
            "type": "scatterpolar"
           }
          ],
          "scatterpolargl": [
           {
            "marker": {
             "colorbar": {
              "outlinewidth": 0,
              "ticks": ""
             }
            },
            "type": "scatterpolargl"
           }
          ],
          "scatterternary": [
           {
            "marker": {
             "colorbar": {
              "outlinewidth": 0,
              "ticks": ""
             }
            },
            "type": "scatterternary"
           }
          ],
          "surface": [
           {
            "colorbar": {
             "outlinewidth": 0,
             "ticks": ""
            },
            "colorscale": [
             [
              0,
              "#0d0887"
             ],
             [
              0.1111111111111111,
              "#46039f"
             ],
             [
              0.2222222222222222,
              "#7201a8"
             ],
             [
              0.3333333333333333,
              "#9c179e"
             ],
             [
              0.4444444444444444,
              "#bd3786"
             ],
             [
              0.5555555555555556,
              "#d8576b"
             ],
             [
              0.6666666666666666,
              "#ed7953"
             ],
             [
              0.7777777777777778,
              "#fb9f3a"
             ],
             [
              0.8888888888888888,
              "#fdca26"
             ],
             [
              1,
              "#f0f921"
             ]
            ],
            "type": "surface"
           }
          ],
          "table": [
           {
            "cells": {
             "fill": {
              "color": "#EBF0F8"
             },
             "line": {
              "color": "white"
             }
            },
            "header": {
             "fill": {
              "color": "#C8D4E3"
             },
             "line": {
              "color": "white"
             }
            },
            "type": "table"
           }
          ]
         },
         "layout": {
          "annotationdefaults": {
           "arrowcolor": "#2a3f5f",
           "arrowhead": 0,
           "arrowwidth": 1
          },
          "autotypenumbers": "strict",
          "coloraxis": {
           "colorbar": {
            "outlinewidth": 0,
            "ticks": ""
           }
          },
          "colorscale": {
           "diverging": [
            [
             0,
             "#8e0152"
            ],
            [
             0.1,
             "#c51b7d"
            ],
            [
             0.2,
             "#de77ae"
            ],
            [
             0.3,
             "#f1b6da"
            ],
            [
             0.4,
             "#fde0ef"
            ],
            [
             0.5,
             "#f7f7f7"
            ],
            [
             0.6,
             "#e6f5d0"
            ],
            [
             0.7,
             "#b8e186"
            ],
            [
             0.8,
             "#7fbc41"
            ],
            [
             0.9,
             "#4d9221"
            ],
            [
             1,
             "#276419"
            ]
           ],
           "sequential": [
            [
             0,
             "#0d0887"
            ],
            [
             0.1111111111111111,
             "#46039f"
            ],
            [
             0.2222222222222222,
             "#7201a8"
            ],
            [
             0.3333333333333333,
             "#9c179e"
            ],
            [
             0.4444444444444444,
             "#bd3786"
            ],
            [
             0.5555555555555556,
             "#d8576b"
            ],
            [
             0.6666666666666666,
             "#ed7953"
            ],
            [
             0.7777777777777778,
             "#fb9f3a"
            ],
            [
             0.8888888888888888,
             "#fdca26"
            ],
            [
             1,
             "#f0f921"
            ]
           ],
           "sequentialminus": [
            [
             0,
             "#0d0887"
            ],
            [
             0.1111111111111111,
             "#46039f"
            ],
            [
             0.2222222222222222,
             "#7201a8"
            ],
            [
             0.3333333333333333,
             "#9c179e"
            ],
            [
             0.4444444444444444,
             "#bd3786"
            ],
            [
             0.5555555555555556,
             "#d8576b"
            ],
            [
             0.6666666666666666,
             "#ed7953"
            ],
            [
             0.7777777777777778,
             "#fb9f3a"
            ],
            [
             0.8888888888888888,
             "#fdca26"
            ],
            [
             1,
             "#f0f921"
            ]
           ]
          },
          "colorway": [
           "#636efa",
           "#EF553B",
           "#00cc96",
           "#ab63fa",
           "#FFA15A",
           "#19d3f3",
           "#FF6692",
           "#B6E880",
           "#FF97FF",
           "#FECB52"
          ],
          "font": {
           "color": "#2a3f5f"
          },
          "geo": {
           "bgcolor": "white",
           "lakecolor": "white",
           "landcolor": "#E5ECF6",
           "showlakes": true,
           "showland": true,
           "subunitcolor": "white"
          },
          "hoverlabel": {
           "align": "left"
          },
          "hovermode": "closest",
          "mapbox": {
           "style": "light"
          },
          "paper_bgcolor": "white",
          "plot_bgcolor": "#E5ECF6",
          "polar": {
           "angularaxis": {
            "gridcolor": "white",
            "linecolor": "white",
            "ticks": ""
           },
           "bgcolor": "#E5ECF6",
           "radialaxis": {
            "gridcolor": "white",
            "linecolor": "white",
            "ticks": ""
           }
          },
          "scene": {
           "xaxis": {
            "backgroundcolor": "#E5ECF6",
            "gridcolor": "white",
            "gridwidth": 2,
            "linecolor": "white",
            "showbackground": true,
            "ticks": "",
            "zerolinecolor": "white"
           },
           "yaxis": {
            "backgroundcolor": "#E5ECF6",
            "gridcolor": "white",
            "gridwidth": 2,
            "linecolor": "white",
            "showbackground": true,
            "ticks": "",
            "zerolinecolor": "white"
           },
           "zaxis": {
            "backgroundcolor": "#E5ECF6",
            "gridcolor": "white",
            "gridwidth": 2,
            "linecolor": "white",
            "showbackground": true,
            "ticks": "",
            "zerolinecolor": "white"
           }
          },
          "shapedefaults": {
           "line": {
            "color": "#2a3f5f"
           }
          },
          "ternary": {
           "aaxis": {
            "gridcolor": "white",
            "linecolor": "white",
            "ticks": ""
           },
           "baxis": {
            "gridcolor": "white",
            "linecolor": "white",
            "ticks": ""
           },
           "bgcolor": "#E5ECF6",
           "caxis": {
            "gridcolor": "white",
            "linecolor": "white",
            "ticks": ""
           }
          },
          "title": {
           "x": 0.05
          },
          "xaxis": {
           "automargin": true,
           "gridcolor": "white",
           "linecolor": "white",
           "ticks": "",
           "title": {
            "standoff": 15
           },
           "zerolinecolor": "white",
           "zerolinewidth": 2
          },
          "yaxis": {
           "automargin": true,
           "gridcolor": "white",
           "linecolor": "white",
           "ticks": "",
           "title": {
            "standoff": 15
           },
           "zerolinecolor": "white",
           "zerolinewidth": 2
          }
         }
        },
        "width": 600,
        "xaxis": {
         "anchor": "y",
         "domain": [
          0,
          1
         ],
         "title": {
          "text": "PC 2 (29.0%)"
         }
        },
        "yaxis": {
         "anchor": "x",
         "domain": [
          0,
          1
         ],
         "title": {
          "text": "PC 3 (3.4%)"
         }
        }
       }
      },
      "text/html": [
       "<div>                            <div id=\"61916aae-51b9-4585-a3ca-021d638c8329\" class=\"plotly-graph-div\" style=\"height:600px; width:600px;\"></div>            <script type=\"text/javascript\">                require([\"plotly\"], function(Plotly) {                    window.PLOTLYENV=window.PLOTLYENV || {};                                    if (document.getElementById(\"61916aae-51b9-4585-a3ca-021d638c8329\")) {                    Plotly.newPlot(                        \"61916aae-51b9-4585-a3ca-021d638c8329\",                        [{\"hovertemplate\":\"color=00<br>symbol=WT<br>1=%{x}<br>2=%{y}<extra></extra>\",\"legendgroup\":\"00, WT\",\"marker\":{\"color\":\"#636efa\",\"symbol\":\"circle\",\"size\":13},\"mode\":\"markers\",\"name\":\"00, WT\",\"orientation\":\"v\",\"showlegend\":true,\"x\":[-0.08953713727655419,0.2591370592070803,1.1937589940130338,1.425618563141269],\"xaxis\":\"x\",\"y\":[0.5625118712150113,0.28216482658113956,0.28330174257561386,0.036546934148484984],\"yaxis\":\"y\",\"type\":\"scatter\"},{\"hovertemplate\":\"color=02<br>symbol=WT<br>1=%{x}<br>2=%{y}<extra></extra>\",\"legendgroup\":\"02, WT\",\"marker\":{\"color\":\"#EF553B\",\"symbol\":\"circle\",\"size\":13},\"mode\":\"markers\",\"name\":\"02, WT\",\"orientation\":\"v\",\"showlegend\":true,\"x\":[1.4477643805110962,2.040274526238958,2.3637928312737846,1.745968608220041],\"xaxis\":\"x\",\"y\":[0.42857818079177257,-0.295956712622525,0.0014507758126661476,-0.6476554340184908],\"yaxis\":\"y\",\"type\":\"scatter\"},{\"hovertemplate\":\"color=04<br>symbol=WT<br>1=%{x}<br>2=%{y}<extra></extra>\",\"legendgroup\":\"04, WT\",\"marker\":{\"color\":\"#00cc96\",\"symbol\":\"circle\",\"size\":13},\"mode\":\"markers\",\"name\":\"04, WT\",\"orientation\":\"v\",\"showlegend\":true,\"x\":[2.3103721865808127,2.222246321044061,1.3489272397551832,2.1616639425498194],\"xaxis\":\"x\",\"y\":[-0.49816346100391135,-0.12606265431096028,-0.22774420384090147,-0.08152589747032708],\"yaxis\":\"y\",\"type\":\"scatter\"},{\"hovertemplate\":\"color=06<br>symbol=WT<br>1=%{x}<br>2=%{y}<extra></extra>\",\"legendgroup\":\"06, WT\",\"marker\":{\"color\":\"#ab63fa\",\"symbol\":\"circle\",\"size\":13},\"mode\":\"markers\",\"name\":\"06, WT\",\"orientation\":\"v\",\"showlegend\":true,\"x\":[1.8080212742696808,1.9054125596217766,1.2443619103034513,1.6396030992871646],\"xaxis\":\"x\",\"y\":[-0.2219351369926728,-0.35655885772221435,-0.15062315722427955,-0.43143564206872437],\"yaxis\":\"y\",\"type\":\"scatter\"},{\"hovertemplate\":\"color=08<br>symbol=WT<br>1=%{x}<br>2=%{y}<extra></extra>\",\"legendgroup\":\"08, WT\",\"marker\":{\"color\":\"#FFA15A\",\"symbol\":\"circle\",\"size\":13},\"mode\":\"markers\",\"name\":\"08, WT\",\"orientation\":\"v\",\"showlegend\":true,\"x\":[0.6190783539819893,-0.06427097879387733,0.019939208390489675,1.0195908437753174],\"xaxis\":\"x\",\"y\":[0.349201983404589,0.6001053693085469,0.6206351189307642,0.19967517552353511],\"yaxis\":\"y\",\"type\":\"scatter\"},{\"hovertemplate\":\"color=10<br>symbol=WT<br>1=%{x}<br>2=%{y}<extra></extra>\",\"legendgroup\":\"10, WT\",\"marker\":{\"color\":\"#19d3f3\",\"symbol\":\"circle\",\"size\":13},\"mode\":\"markers\",\"name\":\"10, WT\",\"orientation\":\"v\",\"showlegend\":true,\"x\":[0.2591078098983712,0.12212100732959999,-0.5619704118224987,0.17912013585449682],\"xaxis\":\"x\",\"y\":[0.4312395598287203,0.5573021875887809,0.40872589431453815,0.4558914823885054],\"yaxis\":\"y\",\"type\":\"scatter\"},{\"hovertemplate\":\"color=12<br>symbol=WT<br>1=%{x}<br>2=%{y}<extra></extra>\",\"legendgroup\":\"12, WT\",\"marker\":{\"color\":\"#FF6692\",\"symbol\":\"circle\",\"size\":13},\"mode\":\"markers\",\"name\":\"12, WT\",\"orientation\":\"v\",\"showlegend\":true,\"x\":[-0.6415080758365261,-0.5780395022350043,-0.4060651183957253,-0.782579238173389],\"xaxis\":\"x\",\"y\":[0.1563125594319395,0.5873200598147124,0.584249350905505,-0.0772145012519519],\"yaxis\":\"y\",\"type\":\"scatter\"},{\"hovertemplate\":\"color=14<br>symbol=WT<br>1=%{x}<br>2=%{y}<extra></extra>\",\"legendgroup\":\"14, WT\",\"marker\":{\"color\":\"#B6E880\",\"symbol\":\"circle\",\"size\":13},\"mode\":\"markers\",\"name\":\"14, WT\",\"orientation\":\"v\",\"showlegend\":true,\"x\":[-0.9218443932556807,-1.2679118322740544,-0.7971089405699128,-1.178942066792693],\"xaxis\":\"x\",\"y\":[-0.11689209058695421,-0.4844307206229881,-0.09700221387721486,-0.5696734393554641],\"yaxis\":\"y\",\"type\":\"scatter\"},{\"hovertemplate\":\"color=16<br>symbol=WT<br>1=%{x}<br>2=%{y}<extra></extra>\",\"legendgroup\":\"16, WT\",\"marker\":{\"color\":\"#FF97FF\",\"symbol\":\"circle\",\"size\":13},\"mode\":\"markers\",\"name\":\"16, WT\",\"orientation\":\"v\",\"showlegend\":true,\"x\":[-1.168659726888836,-1.2616292900610189,-1.2572405151086978,-1.079253562432685],\"xaxis\":\"x\",\"y\":[-0.6005298221659183,-0.6514867365014916,-0.6446338269865498,-0.5526172420445444],\"yaxis\":\"y\",\"type\":\"scatter\"},{\"hovertemplate\":\"color=18<br>symbol=WT<br>1=%{x}<br>2=%{y}<extra></extra>\",\"legendgroup\":\"18, WT\",\"marker\":{\"color\":\"#FECB52\",\"symbol\":\"circle\",\"size\":13},\"mode\":\"markers\",\"name\":\"18, WT\",\"orientation\":\"v\",\"showlegend\":true,\"x\":[-1.1692162761621778,-1.6604904316502238,-1.5068434910309336,-1.517395149176934],\"xaxis\":\"x\",\"y\":[-0.7485028746602443,-0.3866847163391188,-0.4457052344955101,-0.477611200353106],\"yaxis\":\"y\",\"type\":\"scatter\"},{\"hovertemplate\":\"color=20<br>symbol=WT<br>1=%{x}<br>2=%{y}<extra></extra>\",\"legendgroup\":\"20, WT\",\"marker\":{\"color\":\"#636efa\",\"symbol\":\"circle\",\"size\":13},\"mode\":\"markers\",\"name\":\"20, WT\",\"orientation\":\"v\",\"showlegend\":true,\"x\":[-1.4584326662769758,-1.535952802380803,-1.4128899825255805,-1.479416410124476],\"xaxis\":\"x\",\"y\":[0.582607199276494,0.8227821744910268,-0.2655678304447758,-0.32338309609095056],\"yaxis\":\"y\",\"type\":\"scatter\"},{\"hovertemplate\":\"color=22<br>symbol=WT<br>1=%{x}<br>2=%{y}<extra></extra>\",\"legendgroup\":\"22, WT\",\"marker\":{\"color\":\"#EF553B\",\"symbol\":\"circle\",\"size\":13},\"mode\":\"markers\",\"name\":\"22, WT\",\"orientation\":\"v\",\"showlegend\":true,\"x\":[-0.6744698294987378,-0.5196944952647946,-1.3337117340611744,-1.0108067971775097],\"xaxis\":\"x\",\"y\":[0.5943150826282889,0.40617211528471253,0.4033509058885313,0.1251561529179243],\"yaxis\":\"y\",\"type\":\"scatter\"}],                        {\"template\":{\"data\":{\"histogram2dcontour\":[{\"type\":\"histogram2dcontour\",\"colorbar\":{\"outlinewidth\":0,\"ticks\":\"\"},\"colorscale\":[[0.0,\"#0d0887\"],[0.1111111111111111,\"#46039f\"],[0.2222222222222222,\"#7201a8\"],[0.3333333333333333,\"#9c179e\"],[0.4444444444444444,\"#bd3786\"],[0.5555555555555556,\"#d8576b\"],[0.6666666666666666,\"#ed7953\"],[0.7777777777777778,\"#fb9f3a\"],[0.8888888888888888,\"#fdca26\"],[1.0,\"#f0f921\"]]}],\"choropleth\":[{\"type\":\"choropleth\",\"colorbar\":{\"outlinewidth\":0,\"ticks\":\"\"}}],\"histogram2d\":[{\"type\":\"histogram2d\",\"colorbar\":{\"outlinewidth\":0,\"ticks\":\"\"},\"colorscale\":[[0.0,\"#0d0887\"],[0.1111111111111111,\"#46039f\"],[0.2222222222222222,\"#7201a8\"],[0.3333333333333333,\"#9c179e\"],[0.4444444444444444,\"#bd3786\"],[0.5555555555555556,\"#d8576b\"],[0.6666666666666666,\"#ed7953\"],[0.7777777777777778,\"#fb9f3a\"],[0.8888888888888888,\"#fdca26\"],[1.0,\"#f0f921\"]]}],\"heatmap\":[{\"type\":\"heatmap\",\"colorbar\":{\"outlinewidth\":0,\"ticks\":\"\"},\"colorscale\":[[0.0,\"#0d0887\"],[0.1111111111111111,\"#46039f\"],[0.2222222222222222,\"#7201a8\"],[0.3333333333333333,\"#9c179e\"],[0.4444444444444444,\"#bd3786\"],[0.5555555555555556,\"#d8576b\"],[0.6666666666666666,\"#ed7953\"],[0.7777777777777778,\"#fb9f3a\"],[0.8888888888888888,\"#fdca26\"],[1.0,\"#f0f921\"]]}],\"heatmapgl\":[{\"type\":\"heatmapgl\",\"colorbar\":{\"outlinewidth\":0,\"ticks\":\"\"},\"colorscale\":[[0.0,\"#0d0887\"],[0.1111111111111111,\"#46039f\"],[0.2222222222222222,\"#7201a8\"],[0.3333333333333333,\"#9c179e\"],[0.4444444444444444,\"#bd3786\"],[0.5555555555555556,\"#d8576b\"],[0.6666666666666666,\"#ed7953\"],[0.7777777777777778,\"#fb9f3a\"],[0.8888888888888888,\"#fdca26\"],[1.0,\"#f0f921\"]]}],\"contourcarpet\":[{\"type\":\"contourcarpet\",\"colorbar\":{\"outlinewidth\":0,\"ticks\":\"\"}}],\"contour\":[{\"type\":\"contour\",\"colorbar\":{\"outlinewidth\":0,\"ticks\":\"\"},\"colorscale\":[[0.0,\"#0d0887\"],[0.1111111111111111,\"#46039f\"],[0.2222222222222222,\"#7201a8\"],[0.3333333333333333,\"#9c179e\"],[0.4444444444444444,\"#bd3786\"],[0.5555555555555556,\"#d8576b\"],[0.6666666666666666,\"#ed7953\"],[0.7777777777777778,\"#fb9f3a\"],[0.8888888888888888,\"#fdca26\"],[1.0,\"#f0f921\"]]}],\"surface\":[{\"type\":\"surface\",\"colorbar\":{\"outlinewidth\":0,\"ticks\":\"\"},\"colorscale\":[[0.0,\"#0d0887\"],[0.1111111111111111,\"#46039f\"],[0.2222222222222222,\"#7201a8\"],[0.3333333333333333,\"#9c179e\"],[0.4444444444444444,\"#bd3786\"],[0.5555555555555556,\"#d8576b\"],[0.6666666666666666,\"#ed7953\"],[0.7777777777777778,\"#fb9f3a\"],[0.8888888888888888,\"#fdca26\"],[1.0,\"#f0f921\"]]}],\"mesh3d\":[{\"type\":\"mesh3d\",\"colorbar\":{\"outlinewidth\":0,\"ticks\":\"\"}}],\"scatter\":[{\"fillpattern\":{\"fillmode\":\"overlay\",\"size\":10,\"solidity\":0.2},\"type\":\"scatter\"}],\"parcoords\":[{\"type\":\"parcoords\",\"line\":{\"colorbar\":{\"outlinewidth\":0,\"ticks\":\"\"}}}],\"scatterpolargl\":[{\"type\":\"scatterpolargl\",\"marker\":{\"colorbar\":{\"outlinewidth\":0,\"ticks\":\"\"}}}],\"bar\":[{\"error_x\":{\"color\":\"#2a3f5f\"},\"error_y\":{\"color\":\"#2a3f5f\"},\"marker\":{\"line\":{\"color\":\"#E5ECF6\",\"width\":0.5},\"pattern\":{\"fillmode\":\"overlay\",\"size\":10,\"solidity\":0.2}},\"type\":\"bar\"}],\"scattergeo\":[{\"type\":\"scattergeo\",\"marker\":{\"colorbar\":{\"outlinewidth\":0,\"ticks\":\"\"}}}],\"scatterpolar\":[{\"type\":\"scatterpolar\",\"marker\":{\"colorbar\":{\"outlinewidth\":0,\"ticks\":\"\"}}}],\"histogram\":[{\"marker\":{\"pattern\":{\"fillmode\":\"overlay\",\"size\":10,\"solidity\":0.2}},\"type\":\"histogram\"}],\"scattergl\":[{\"type\":\"scattergl\",\"marker\":{\"colorbar\":{\"outlinewidth\":0,\"ticks\":\"\"}}}],\"scatter3d\":[{\"type\":\"scatter3d\",\"line\":{\"colorbar\":{\"outlinewidth\":0,\"ticks\":\"\"}},\"marker\":{\"colorbar\":{\"outlinewidth\":0,\"ticks\":\"\"}}}],\"scattermapbox\":[{\"type\":\"scattermapbox\",\"marker\":{\"colorbar\":{\"outlinewidth\":0,\"ticks\":\"\"}}}],\"scatterternary\":[{\"type\":\"scatterternary\",\"marker\":{\"colorbar\":{\"outlinewidth\":0,\"ticks\":\"\"}}}],\"scattercarpet\":[{\"type\":\"scattercarpet\",\"marker\":{\"colorbar\":{\"outlinewidth\":0,\"ticks\":\"\"}}}],\"carpet\":[{\"aaxis\":{\"endlinecolor\":\"#2a3f5f\",\"gridcolor\":\"white\",\"linecolor\":\"white\",\"minorgridcolor\":\"white\",\"startlinecolor\":\"#2a3f5f\"},\"baxis\":{\"endlinecolor\":\"#2a3f5f\",\"gridcolor\":\"white\",\"linecolor\":\"white\",\"minorgridcolor\":\"white\",\"startlinecolor\":\"#2a3f5f\"},\"type\":\"carpet\"}],\"table\":[{\"cells\":{\"fill\":{\"color\":\"#EBF0F8\"},\"line\":{\"color\":\"white\"}},\"header\":{\"fill\":{\"color\":\"#C8D4E3\"},\"line\":{\"color\":\"white\"}},\"type\":\"table\"}],\"barpolar\":[{\"marker\":{\"line\":{\"color\":\"#E5ECF6\",\"width\":0.5},\"pattern\":{\"fillmode\":\"overlay\",\"size\":10,\"solidity\":0.2}},\"type\":\"barpolar\"}],\"pie\":[{\"automargin\":true,\"type\":\"pie\"}]},\"layout\":{\"autotypenumbers\":\"strict\",\"colorway\":[\"#636efa\",\"#EF553B\",\"#00cc96\",\"#ab63fa\",\"#FFA15A\",\"#19d3f3\",\"#FF6692\",\"#B6E880\",\"#FF97FF\",\"#FECB52\"],\"font\":{\"color\":\"#2a3f5f\"},\"hovermode\":\"closest\",\"hoverlabel\":{\"align\":\"left\"},\"paper_bgcolor\":\"white\",\"plot_bgcolor\":\"#E5ECF6\",\"polar\":{\"bgcolor\":\"#E5ECF6\",\"angularaxis\":{\"gridcolor\":\"white\",\"linecolor\":\"white\",\"ticks\":\"\"},\"radialaxis\":{\"gridcolor\":\"white\",\"linecolor\":\"white\",\"ticks\":\"\"}},\"ternary\":{\"bgcolor\":\"#E5ECF6\",\"aaxis\":{\"gridcolor\":\"white\",\"linecolor\":\"white\",\"ticks\":\"\"},\"baxis\":{\"gridcolor\":\"white\",\"linecolor\":\"white\",\"ticks\":\"\"},\"caxis\":{\"gridcolor\":\"white\",\"linecolor\":\"white\",\"ticks\":\"\"}},\"coloraxis\":{\"colorbar\":{\"outlinewidth\":0,\"ticks\":\"\"}},\"colorscale\":{\"sequential\":[[0.0,\"#0d0887\"],[0.1111111111111111,\"#46039f\"],[0.2222222222222222,\"#7201a8\"],[0.3333333333333333,\"#9c179e\"],[0.4444444444444444,\"#bd3786\"],[0.5555555555555556,\"#d8576b\"],[0.6666666666666666,\"#ed7953\"],[0.7777777777777778,\"#fb9f3a\"],[0.8888888888888888,\"#fdca26\"],[1.0,\"#f0f921\"]],\"sequentialminus\":[[0.0,\"#0d0887\"],[0.1111111111111111,\"#46039f\"],[0.2222222222222222,\"#7201a8\"],[0.3333333333333333,\"#9c179e\"],[0.4444444444444444,\"#bd3786\"],[0.5555555555555556,\"#d8576b\"],[0.6666666666666666,\"#ed7953\"],[0.7777777777777778,\"#fb9f3a\"],[0.8888888888888888,\"#fdca26\"],[1.0,\"#f0f921\"]],\"diverging\":[[0,\"#8e0152\"],[0.1,\"#c51b7d\"],[0.2,\"#de77ae\"],[0.3,\"#f1b6da\"],[0.4,\"#fde0ef\"],[0.5,\"#f7f7f7\"],[0.6,\"#e6f5d0\"],[0.7,\"#b8e186\"],[0.8,\"#7fbc41\"],[0.9,\"#4d9221\"],[1,\"#276419\"]]},\"xaxis\":{\"gridcolor\":\"white\",\"linecolor\":\"white\",\"ticks\":\"\",\"title\":{\"standoff\":15},\"zerolinecolor\":\"white\",\"automargin\":true,\"zerolinewidth\":2},\"yaxis\":{\"gridcolor\":\"white\",\"linecolor\":\"white\",\"ticks\":\"\",\"title\":{\"standoff\":15},\"zerolinecolor\":\"white\",\"automargin\":true,\"zerolinewidth\":2},\"scene\":{\"xaxis\":{\"backgroundcolor\":\"#E5ECF6\",\"gridcolor\":\"white\",\"linecolor\":\"white\",\"showbackground\":true,\"ticks\":\"\",\"zerolinecolor\":\"white\",\"gridwidth\":2},\"yaxis\":{\"backgroundcolor\":\"#E5ECF6\",\"gridcolor\":\"white\",\"linecolor\":\"white\",\"showbackground\":true,\"ticks\":\"\",\"zerolinecolor\":\"white\",\"gridwidth\":2},\"zaxis\":{\"backgroundcolor\":\"#E5ECF6\",\"gridcolor\":\"white\",\"linecolor\":\"white\",\"showbackground\":true,\"ticks\":\"\",\"zerolinecolor\":\"white\",\"gridwidth\":2}},\"shapedefaults\":{\"line\":{\"color\":\"#2a3f5f\"}},\"annotationdefaults\":{\"arrowcolor\":\"#2a3f5f\",\"arrowhead\":0,\"arrowwidth\":1},\"geo\":{\"bgcolor\":\"white\",\"landcolor\":\"#E5ECF6\",\"subunitcolor\":\"white\",\"showland\":true,\"showlakes\":true,\"lakecolor\":\"white\"},\"title\":{\"x\":0.05},\"mapbox\":{\"style\":\"light\"}}},\"xaxis\":{\"anchor\":\"y\",\"domain\":[0.0,1.0],\"title\":{\"text\":\"PC 2 (29.0%)\"}},\"yaxis\":{\"anchor\":\"x\",\"domain\":[0.0,1.0],\"title\":{\"text\":\"PC 3 (3.4%)\"}},\"legend\":{\"title\":{\"text\":\"color, symbol\"},\"tracegroupgap\":0},\"margin\":{\"t\":60},\"height\":600,\"width\":600,\"plot_bgcolor\":\"rgb(243,243,243)\"},                        {\"responsive\": true}                    ).then(function(){\n",
       "                            \n",
       "var gd = document.getElementById('61916aae-51b9-4585-a3ca-021d638c8329');\n",
       "var x = new MutationObserver(function (mutations, observer) {{\n",
       "        var display = window.getComputedStyle(gd).display;\n",
       "        if (!display || display === 'none') {{\n",
       "            console.log([gd, 'removed!']);\n",
       "            Plotly.purge(gd);\n",
       "            observer.disconnect();\n",
       "        }}\n",
       "}});\n",
       "\n",
       "// Listen for the removal of the full notebook cells\n",
       "var notebookContainer = gd.closest('#notebook-container');\n",
       "if (notebookContainer) {{\n",
       "    x.observe(notebookContainer, {childList: true});\n",
       "}}\n",
       "\n",
       "// Listen for the clearing of the current output cell\n",
       "var outputEl = gd.closest('.output');\n",
       "if (outputEl) {{\n",
       "    x.observe(outputEl, {childList: true});\n",
       "}}\n",
       "\n",
       "                        })                };                });            </script>        </div>"
      ]
     },
     "metadata": {},
     "output_type": "display_data"
    },
    {
     "data": {
      "application/vnd.plotly.v1+json": {
       "config": {
        "plotlyServerURL": "https://plot.ly"
       },
       "data": [
        {
         "hovertemplate": "color=A<br>symbol=Exon<br>1=%{x}<br>2=%{y}<extra></extra>",
         "legendgroup": "A, Exon",
         "marker": {
          "color": "#636efa",
          "size": 13,
          "symbol": "circle"
         },
         "mode": "markers",
         "name": "A, Exon",
         "orientation": "v",
         "showlegend": true,
         "type": "scatter",
         "x": [
          -0.08953713727655419,
          1.4477643805110962,
          2.3103721865808127,
          1.8080212742696808,
          0.6190783539819893,
          0.2591078098983712,
          -0.6415080758365261,
          -0.9218443932556807,
          -1.168659726888836,
          -1.1692162761621778,
          -1.4584326662769758,
          -0.6744698294987378
         ],
         "xaxis": "x",
         "y": [
          0.5625118712150113,
          0.42857818079177257,
          -0.49816346100391135,
          -0.2219351369926728,
          0.349201983404589,
          0.4312395598287203,
          0.1563125594319395,
          -0.11689209058695421,
          -0.6005298221659183,
          -0.7485028746602443,
          0.582607199276494,
          0.5943150826282889
         ],
         "yaxis": "y"
        },
        {
         "hovertemplate": "color=B<br>symbol=Exon<br>1=%{x}<br>2=%{y}<extra></extra>",
         "legendgroup": "B, Exon",
         "marker": {
          "color": "#EF553B",
          "size": 13,
          "symbol": "circle"
         },
         "mode": "markers",
         "name": "B, Exon",
         "orientation": "v",
         "showlegend": true,
         "type": "scatter",
         "x": [
          0.2591370592070803,
          2.040274526238958,
          2.222246321044061,
          1.9054125596217766,
          -0.06427097879387733,
          0.12212100732959999,
          -0.5780395022350043,
          -1.2679118322740544,
          -1.2616292900610189,
          -1.6604904316502238,
          -1.535952802380803,
          -0.5196944952647946
         ],
         "xaxis": "x",
         "y": [
          0.28216482658113956,
          -0.295956712622525,
          -0.12606265431096028,
          -0.35655885772221435,
          0.6001053693085469,
          0.5573021875887809,
          0.5873200598147124,
          -0.4844307206229881,
          -0.6514867365014916,
          -0.3866847163391188,
          0.8227821744910268,
          0.40617211528471253
         ],
         "yaxis": "y"
        },
        {
         "hovertemplate": "color=C<br>symbol=Exon<br>1=%{x}<br>2=%{y}<extra></extra>",
         "legendgroup": "C, Exon",
         "marker": {
          "color": "#00cc96",
          "size": 13,
          "symbol": "circle"
         },
         "mode": "markers",
         "name": "C, Exon",
         "orientation": "v",
         "showlegend": true,
         "type": "scatter",
         "x": [
          1.1937589940130338,
          2.3637928312737846,
          1.3489272397551832,
          1.2443619103034513,
          0.019939208390489675,
          -0.5619704118224987,
          -0.4060651183957253,
          -0.7971089405699128,
          -1.2572405151086978,
          -1.5068434910309336,
          -1.4128899825255805,
          -1.3337117340611744
         ],
         "xaxis": "x",
         "y": [
          0.28330174257561386,
          0.0014507758126661476,
          -0.22774420384090147,
          -0.15062315722427955,
          0.6206351189307642,
          0.40872589431453815,
          0.584249350905505,
          -0.09700221387721486,
          -0.6446338269865498,
          -0.4457052344955101,
          -0.2655678304447758,
          0.4033509058885313
         ],
         "yaxis": "y"
        },
        {
         "hovertemplate": "color=D<br>symbol=Exon<br>1=%{x}<br>2=%{y}<extra></extra>",
         "legendgroup": "D, Exon",
         "marker": {
          "color": "#ab63fa",
          "size": 13,
          "symbol": "circle"
         },
         "mode": "markers",
         "name": "D, Exon",
         "orientation": "v",
         "showlegend": true,
         "type": "scatter",
         "x": [
          1.425618563141269,
          1.745968608220041,
          2.1616639425498194,
          1.6396030992871646,
          1.0195908437753174,
          0.17912013585449682,
          -0.782579238173389,
          -1.178942066792693,
          -1.079253562432685,
          -1.517395149176934,
          -1.479416410124476,
          -1.0108067971775097
         ],
         "xaxis": "x",
         "y": [
          0.036546934148484984,
          -0.6476554340184908,
          -0.08152589747032708,
          -0.43143564206872437,
          0.19967517552353511,
          0.4558914823885054,
          -0.0772145012519519,
          -0.5696734393554641,
          -0.5526172420445444,
          -0.477611200353106,
          -0.32338309609095056,
          0.1251561529179243
         ],
         "yaxis": "y"
        }
       ],
       "layout": {
        "height": 600,
        "legend": {
         "title": {
          "text": "color, symbol"
         },
         "tracegroupgap": 0
        },
        "margin": {
         "t": 60
        },
        "plot_bgcolor": "rgb(243,243,243)",
        "template": {
         "data": {
          "bar": [
           {
            "error_x": {
             "color": "#2a3f5f"
            },
            "error_y": {
             "color": "#2a3f5f"
            },
            "marker": {
             "line": {
              "color": "#E5ECF6",
              "width": 0.5
             },
             "pattern": {
              "fillmode": "overlay",
              "size": 10,
              "solidity": 0.2
             }
            },
            "type": "bar"
           }
          ],
          "barpolar": [
           {
            "marker": {
             "line": {
              "color": "#E5ECF6",
              "width": 0.5
             },
             "pattern": {
              "fillmode": "overlay",
              "size": 10,
              "solidity": 0.2
             }
            },
            "type": "barpolar"
           }
          ],
          "carpet": [
           {
            "aaxis": {
             "endlinecolor": "#2a3f5f",
             "gridcolor": "white",
             "linecolor": "white",
             "minorgridcolor": "white",
             "startlinecolor": "#2a3f5f"
            },
            "baxis": {
             "endlinecolor": "#2a3f5f",
             "gridcolor": "white",
             "linecolor": "white",
             "minorgridcolor": "white",
             "startlinecolor": "#2a3f5f"
            },
            "type": "carpet"
           }
          ],
          "choropleth": [
           {
            "colorbar": {
             "outlinewidth": 0,
             "ticks": ""
            },
            "type": "choropleth"
           }
          ],
          "contour": [
           {
            "colorbar": {
             "outlinewidth": 0,
             "ticks": ""
            },
            "colorscale": [
             [
              0,
              "#0d0887"
             ],
             [
              0.1111111111111111,
              "#46039f"
             ],
             [
              0.2222222222222222,
              "#7201a8"
             ],
             [
              0.3333333333333333,
              "#9c179e"
             ],
             [
              0.4444444444444444,
              "#bd3786"
             ],
             [
              0.5555555555555556,
              "#d8576b"
             ],
             [
              0.6666666666666666,
              "#ed7953"
             ],
             [
              0.7777777777777778,
              "#fb9f3a"
             ],
             [
              0.8888888888888888,
              "#fdca26"
             ],
             [
              1,
              "#f0f921"
             ]
            ],
            "type": "contour"
           }
          ],
          "contourcarpet": [
           {
            "colorbar": {
             "outlinewidth": 0,
             "ticks": ""
            },
            "type": "contourcarpet"
           }
          ],
          "heatmap": [
           {
            "colorbar": {
             "outlinewidth": 0,
             "ticks": ""
            },
            "colorscale": [
             [
              0,
              "#0d0887"
             ],
             [
              0.1111111111111111,
              "#46039f"
             ],
             [
              0.2222222222222222,
              "#7201a8"
             ],
             [
              0.3333333333333333,
              "#9c179e"
             ],
             [
              0.4444444444444444,
              "#bd3786"
             ],
             [
              0.5555555555555556,
              "#d8576b"
             ],
             [
              0.6666666666666666,
              "#ed7953"
             ],
             [
              0.7777777777777778,
              "#fb9f3a"
             ],
             [
              0.8888888888888888,
              "#fdca26"
             ],
             [
              1,
              "#f0f921"
             ]
            ],
            "type": "heatmap"
           }
          ],
          "heatmapgl": [
           {
            "colorbar": {
             "outlinewidth": 0,
             "ticks": ""
            },
            "colorscale": [
             [
              0,
              "#0d0887"
             ],
             [
              0.1111111111111111,
              "#46039f"
             ],
             [
              0.2222222222222222,
              "#7201a8"
             ],
             [
              0.3333333333333333,
              "#9c179e"
             ],
             [
              0.4444444444444444,
              "#bd3786"
             ],
             [
              0.5555555555555556,
              "#d8576b"
             ],
             [
              0.6666666666666666,
              "#ed7953"
             ],
             [
              0.7777777777777778,
              "#fb9f3a"
             ],
             [
              0.8888888888888888,
              "#fdca26"
             ],
             [
              1,
              "#f0f921"
             ]
            ],
            "type": "heatmapgl"
           }
          ],
          "histogram": [
           {
            "marker": {
             "pattern": {
              "fillmode": "overlay",
              "size": 10,
              "solidity": 0.2
             }
            },
            "type": "histogram"
           }
          ],
          "histogram2d": [
           {
            "colorbar": {
             "outlinewidth": 0,
             "ticks": ""
            },
            "colorscale": [
             [
              0,
              "#0d0887"
             ],
             [
              0.1111111111111111,
              "#46039f"
             ],
             [
              0.2222222222222222,
              "#7201a8"
             ],
             [
              0.3333333333333333,
              "#9c179e"
             ],
             [
              0.4444444444444444,
              "#bd3786"
             ],
             [
              0.5555555555555556,
              "#d8576b"
             ],
             [
              0.6666666666666666,
              "#ed7953"
             ],
             [
              0.7777777777777778,
              "#fb9f3a"
             ],
             [
              0.8888888888888888,
              "#fdca26"
             ],
             [
              1,
              "#f0f921"
             ]
            ],
            "type": "histogram2d"
           }
          ],
          "histogram2dcontour": [
           {
            "colorbar": {
             "outlinewidth": 0,
             "ticks": ""
            },
            "colorscale": [
             [
              0,
              "#0d0887"
             ],
             [
              0.1111111111111111,
              "#46039f"
             ],
             [
              0.2222222222222222,
              "#7201a8"
             ],
             [
              0.3333333333333333,
              "#9c179e"
             ],
             [
              0.4444444444444444,
              "#bd3786"
             ],
             [
              0.5555555555555556,
              "#d8576b"
             ],
             [
              0.6666666666666666,
              "#ed7953"
             ],
             [
              0.7777777777777778,
              "#fb9f3a"
             ],
             [
              0.8888888888888888,
              "#fdca26"
             ],
             [
              1,
              "#f0f921"
             ]
            ],
            "type": "histogram2dcontour"
           }
          ],
          "mesh3d": [
           {
            "colorbar": {
             "outlinewidth": 0,
             "ticks": ""
            },
            "type": "mesh3d"
           }
          ],
          "parcoords": [
           {
            "line": {
             "colorbar": {
              "outlinewidth": 0,
              "ticks": ""
             }
            },
            "type": "parcoords"
           }
          ],
          "pie": [
           {
            "automargin": true,
            "type": "pie"
           }
          ],
          "scatter": [
           {
            "fillpattern": {
             "fillmode": "overlay",
             "size": 10,
             "solidity": 0.2
            },
            "type": "scatter"
           }
          ],
          "scatter3d": [
           {
            "line": {
             "colorbar": {
              "outlinewidth": 0,
              "ticks": ""
             }
            },
            "marker": {
             "colorbar": {
              "outlinewidth": 0,
              "ticks": ""
             }
            },
            "type": "scatter3d"
           }
          ],
          "scattercarpet": [
           {
            "marker": {
             "colorbar": {
              "outlinewidth": 0,
              "ticks": ""
             }
            },
            "type": "scattercarpet"
           }
          ],
          "scattergeo": [
           {
            "marker": {
             "colorbar": {
              "outlinewidth": 0,
              "ticks": ""
             }
            },
            "type": "scattergeo"
           }
          ],
          "scattergl": [
           {
            "marker": {
             "colorbar": {
              "outlinewidth": 0,
              "ticks": ""
             }
            },
            "type": "scattergl"
           }
          ],
          "scattermapbox": [
           {
            "marker": {
             "colorbar": {
              "outlinewidth": 0,
              "ticks": ""
             }
            },
            "type": "scattermapbox"
           }
          ],
          "scatterpolar": [
           {
            "marker": {
             "colorbar": {
              "outlinewidth": 0,
              "ticks": ""
             }
            },
            "type": "scatterpolar"
           }
          ],
          "scatterpolargl": [
           {
            "marker": {
             "colorbar": {
              "outlinewidth": 0,
              "ticks": ""
             }
            },
            "type": "scatterpolargl"
           }
          ],
          "scatterternary": [
           {
            "marker": {
             "colorbar": {
              "outlinewidth": 0,
              "ticks": ""
             }
            },
            "type": "scatterternary"
           }
          ],
          "surface": [
           {
            "colorbar": {
             "outlinewidth": 0,
             "ticks": ""
            },
            "colorscale": [
             [
              0,
              "#0d0887"
             ],
             [
              0.1111111111111111,
              "#46039f"
             ],
             [
              0.2222222222222222,
              "#7201a8"
             ],
             [
              0.3333333333333333,
              "#9c179e"
             ],
             [
              0.4444444444444444,
              "#bd3786"
             ],
             [
              0.5555555555555556,
              "#d8576b"
             ],
             [
              0.6666666666666666,
              "#ed7953"
             ],
             [
              0.7777777777777778,
              "#fb9f3a"
             ],
             [
              0.8888888888888888,
              "#fdca26"
             ],
             [
              1,
              "#f0f921"
             ]
            ],
            "type": "surface"
           }
          ],
          "table": [
           {
            "cells": {
             "fill": {
              "color": "#EBF0F8"
             },
             "line": {
              "color": "white"
             }
            },
            "header": {
             "fill": {
              "color": "#C8D4E3"
             },
             "line": {
              "color": "white"
             }
            },
            "type": "table"
           }
          ]
         },
         "layout": {
          "annotationdefaults": {
           "arrowcolor": "#2a3f5f",
           "arrowhead": 0,
           "arrowwidth": 1
          },
          "autotypenumbers": "strict",
          "coloraxis": {
           "colorbar": {
            "outlinewidth": 0,
            "ticks": ""
           }
          },
          "colorscale": {
           "diverging": [
            [
             0,
             "#8e0152"
            ],
            [
             0.1,
             "#c51b7d"
            ],
            [
             0.2,
             "#de77ae"
            ],
            [
             0.3,
             "#f1b6da"
            ],
            [
             0.4,
             "#fde0ef"
            ],
            [
             0.5,
             "#f7f7f7"
            ],
            [
             0.6,
             "#e6f5d0"
            ],
            [
             0.7,
             "#b8e186"
            ],
            [
             0.8,
             "#7fbc41"
            ],
            [
             0.9,
             "#4d9221"
            ],
            [
             1,
             "#276419"
            ]
           ],
           "sequential": [
            [
             0,
             "#0d0887"
            ],
            [
             0.1111111111111111,
             "#46039f"
            ],
            [
             0.2222222222222222,
             "#7201a8"
            ],
            [
             0.3333333333333333,
             "#9c179e"
            ],
            [
             0.4444444444444444,
             "#bd3786"
            ],
            [
             0.5555555555555556,
             "#d8576b"
            ],
            [
             0.6666666666666666,
             "#ed7953"
            ],
            [
             0.7777777777777778,
             "#fb9f3a"
            ],
            [
             0.8888888888888888,
             "#fdca26"
            ],
            [
             1,
             "#f0f921"
            ]
           ],
           "sequentialminus": [
            [
             0,
             "#0d0887"
            ],
            [
             0.1111111111111111,
             "#46039f"
            ],
            [
             0.2222222222222222,
             "#7201a8"
            ],
            [
             0.3333333333333333,
             "#9c179e"
            ],
            [
             0.4444444444444444,
             "#bd3786"
            ],
            [
             0.5555555555555556,
             "#d8576b"
            ],
            [
             0.6666666666666666,
             "#ed7953"
            ],
            [
             0.7777777777777778,
             "#fb9f3a"
            ],
            [
             0.8888888888888888,
             "#fdca26"
            ],
            [
             1,
             "#f0f921"
            ]
           ]
          },
          "colorway": [
           "#636efa",
           "#EF553B",
           "#00cc96",
           "#ab63fa",
           "#FFA15A",
           "#19d3f3",
           "#FF6692",
           "#B6E880",
           "#FF97FF",
           "#FECB52"
          ],
          "font": {
           "color": "#2a3f5f"
          },
          "geo": {
           "bgcolor": "white",
           "lakecolor": "white",
           "landcolor": "#E5ECF6",
           "showlakes": true,
           "showland": true,
           "subunitcolor": "white"
          },
          "hoverlabel": {
           "align": "left"
          },
          "hovermode": "closest",
          "mapbox": {
           "style": "light"
          },
          "paper_bgcolor": "white",
          "plot_bgcolor": "#E5ECF6",
          "polar": {
           "angularaxis": {
            "gridcolor": "white",
            "linecolor": "white",
            "ticks": ""
           },
           "bgcolor": "#E5ECF6",
           "radialaxis": {
            "gridcolor": "white",
            "linecolor": "white",
            "ticks": ""
           }
          },
          "scene": {
           "xaxis": {
            "backgroundcolor": "#E5ECF6",
            "gridcolor": "white",
            "gridwidth": 2,
            "linecolor": "white",
            "showbackground": true,
            "ticks": "",
            "zerolinecolor": "white"
           },
           "yaxis": {
            "backgroundcolor": "#E5ECF6",
            "gridcolor": "white",
            "gridwidth": 2,
            "linecolor": "white",
            "showbackground": true,
            "ticks": "",
            "zerolinecolor": "white"
           },
           "zaxis": {
            "backgroundcolor": "#E5ECF6",
            "gridcolor": "white",
            "gridwidth": 2,
            "linecolor": "white",
            "showbackground": true,
            "ticks": "",
            "zerolinecolor": "white"
           }
          },
          "shapedefaults": {
           "line": {
            "color": "#2a3f5f"
           }
          },
          "ternary": {
           "aaxis": {
            "gridcolor": "white",
            "linecolor": "white",
            "ticks": ""
           },
           "baxis": {
            "gridcolor": "white",
            "linecolor": "white",
            "ticks": ""
           },
           "bgcolor": "#E5ECF6",
           "caxis": {
            "gridcolor": "white",
            "linecolor": "white",
            "ticks": ""
           }
          },
          "title": {
           "x": 0.05
          },
          "xaxis": {
           "automargin": true,
           "gridcolor": "white",
           "linecolor": "white",
           "ticks": "",
           "title": {
            "standoff": 15
           },
           "zerolinecolor": "white",
           "zerolinewidth": 2
          },
          "yaxis": {
           "automargin": true,
           "gridcolor": "white",
           "linecolor": "white",
           "ticks": "",
           "title": {
            "standoff": 15
           },
           "zerolinecolor": "white",
           "zerolinewidth": 2
          }
         }
        },
        "width": 600,
        "xaxis": {
         "anchor": "y",
         "domain": [
          0,
          1
         ],
         "title": {
          "text": "PC 2 (29.0%)"
         }
        },
        "yaxis": {
         "anchor": "x",
         "domain": [
          0,
          1
         ],
         "title": {
          "text": "PC 3 (3.4%)"
         }
        }
       }
      },
      "text/html": [
       "<div>                            <div id=\"9e707b9a-4d0a-4d8c-8ea3-58e60fb952ea\" class=\"plotly-graph-div\" style=\"height:600px; width:600px;\"></div>            <script type=\"text/javascript\">                require([\"plotly\"], function(Plotly) {                    window.PLOTLYENV=window.PLOTLYENV || {};                                    if (document.getElementById(\"9e707b9a-4d0a-4d8c-8ea3-58e60fb952ea\")) {                    Plotly.newPlot(                        \"9e707b9a-4d0a-4d8c-8ea3-58e60fb952ea\",                        [{\"hovertemplate\":\"color=A<br>symbol=Exon<br>1=%{x}<br>2=%{y}<extra></extra>\",\"legendgroup\":\"A, Exon\",\"marker\":{\"color\":\"#636efa\",\"symbol\":\"circle\",\"size\":13},\"mode\":\"markers\",\"name\":\"A, Exon\",\"orientation\":\"v\",\"showlegend\":true,\"x\":[-0.08953713727655419,1.4477643805110962,2.3103721865808127,1.8080212742696808,0.6190783539819893,0.2591078098983712,-0.6415080758365261,-0.9218443932556807,-1.168659726888836,-1.1692162761621778,-1.4584326662769758,-0.6744698294987378],\"xaxis\":\"x\",\"y\":[0.5625118712150113,0.42857818079177257,-0.49816346100391135,-0.2219351369926728,0.349201983404589,0.4312395598287203,0.1563125594319395,-0.11689209058695421,-0.6005298221659183,-0.7485028746602443,0.582607199276494,0.5943150826282889],\"yaxis\":\"y\",\"type\":\"scatter\"},{\"hovertemplate\":\"color=B<br>symbol=Exon<br>1=%{x}<br>2=%{y}<extra></extra>\",\"legendgroup\":\"B, Exon\",\"marker\":{\"color\":\"#EF553B\",\"symbol\":\"circle\",\"size\":13},\"mode\":\"markers\",\"name\":\"B, Exon\",\"orientation\":\"v\",\"showlegend\":true,\"x\":[0.2591370592070803,2.040274526238958,2.222246321044061,1.9054125596217766,-0.06427097879387733,0.12212100732959999,-0.5780395022350043,-1.2679118322740544,-1.2616292900610189,-1.6604904316502238,-1.535952802380803,-0.5196944952647946],\"xaxis\":\"x\",\"y\":[0.28216482658113956,-0.295956712622525,-0.12606265431096028,-0.35655885772221435,0.6001053693085469,0.5573021875887809,0.5873200598147124,-0.4844307206229881,-0.6514867365014916,-0.3866847163391188,0.8227821744910268,0.40617211528471253],\"yaxis\":\"y\",\"type\":\"scatter\"},{\"hovertemplate\":\"color=C<br>symbol=Exon<br>1=%{x}<br>2=%{y}<extra></extra>\",\"legendgroup\":\"C, Exon\",\"marker\":{\"color\":\"#00cc96\",\"symbol\":\"circle\",\"size\":13},\"mode\":\"markers\",\"name\":\"C, Exon\",\"orientation\":\"v\",\"showlegend\":true,\"x\":[1.1937589940130338,2.3637928312737846,1.3489272397551832,1.2443619103034513,0.019939208390489675,-0.5619704118224987,-0.4060651183957253,-0.7971089405699128,-1.2572405151086978,-1.5068434910309336,-1.4128899825255805,-1.3337117340611744],\"xaxis\":\"x\",\"y\":[0.28330174257561386,0.0014507758126661476,-0.22774420384090147,-0.15062315722427955,0.6206351189307642,0.40872589431453815,0.584249350905505,-0.09700221387721486,-0.6446338269865498,-0.4457052344955101,-0.2655678304447758,0.4033509058885313],\"yaxis\":\"y\",\"type\":\"scatter\"},{\"hovertemplate\":\"color=D<br>symbol=Exon<br>1=%{x}<br>2=%{y}<extra></extra>\",\"legendgroup\":\"D, Exon\",\"marker\":{\"color\":\"#ab63fa\",\"symbol\":\"circle\",\"size\":13},\"mode\":\"markers\",\"name\":\"D, Exon\",\"orientation\":\"v\",\"showlegend\":true,\"x\":[1.425618563141269,1.745968608220041,2.1616639425498194,1.6396030992871646,1.0195908437753174,0.17912013585449682,-0.782579238173389,-1.178942066792693,-1.079253562432685,-1.517395149176934,-1.479416410124476,-1.0108067971775097],\"xaxis\":\"x\",\"y\":[0.036546934148484984,-0.6476554340184908,-0.08152589747032708,-0.43143564206872437,0.19967517552353511,0.4558914823885054,-0.0772145012519519,-0.5696734393554641,-0.5526172420445444,-0.477611200353106,-0.32338309609095056,0.1251561529179243],\"yaxis\":\"y\",\"type\":\"scatter\"}],                        {\"template\":{\"data\":{\"histogram2dcontour\":[{\"type\":\"histogram2dcontour\",\"colorbar\":{\"outlinewidth\":0,\"ticks\":\"\"},\"colorscale\":[[0.0,\"#0d0887\"],[0.1111111111111111,\"#46039f\"],[0.2222222222222222,\"#7201a8\"],[0.3333333333333333,\"#9c179e\"],[0.4444444444444444,\"#bd3786\"],[0.5555555555555556,\"#d8576b\"],[0.6666666666666666,\"#ed7953\"],[0.7777777777777778,\"#fb9f3a\"],[0.8888888888888888,\"#fdca26\"],[1.0,\"#f0f921\"]]}],\"choropleth\":[{\"type\":\"choropleth\",\"colorbar\":{\"outlinewidth\":0,\"ticks\":\"\"}}],\"histogram2d\":[{\"type\":\"histogram2d\",\"colorbar\":{\"outlinewidth\":0,\"ticks\":\"\"},\"colorscale\":[[0.0,\"#0d0887\"],[0.1111111111111111,\"#46039f\"],[0.2222222222222222,\"#7201a8\"],[0.3333333333333333,\"#9c179e\"],[0.4444444444444444,\"#bd3786\"],[0.5555555555555556,\"#d8576b\"],[0.6666666666666666,\"#ed7953\"],[0.7777777777777778,\"#fb9f3a\"],[0.8888888888888888,\"#fdca26\"],[1.0,\"#f0f921\"]]}],\"heatmap\":[{\"type\":\"heatmap\",\"colorbar\":{\"outlinewidth\":0,\"ticks\":\"\"},\"colorscale\":[[0.0,\"#0d0887\"],[0.1111111111111111,\"#46039f\"],[0.2222222222222222,\"#7201a8\"],[0.3333333333333333,\"#9c179e\"],[0.4444444444444444,\"#bd3786\"],[0.5555555555555556,\"#d8576b\"],[0.6666666666666666,\"#ed7953\"],[0.7777777777777778,\"#fb9f3a\"],[0.8888888888888888,\"#fdca26\"],[1.0,\"#f0f921\"]]}],\"heatmapgl\":[{\"type\":\"heatmapgl\",\"colorbar\":{\"outlinewidth\":0,\"ticks\":\"\"},\"colorscale\":[[0.0,\"#0d0887\"],[0.1111111111111111,\"#46039f\"],[0.2222222222222222,\"#7201a8\"],[0.3333333333333333,\"#9c179e\"],[0.4444444444444444,\"#bd3786\"],[0.5555555555555556,\"#d8576b\"],[0.6666666666666666,\"#ed7953\"],[0.7777777777777778,\"#fb9f3a\"],[0.8888888888888888,\"#fdca26\"],[1.0,\"#f0f921\"]]}],\"contourcarpet\":[{\"type\":\"contourcarpet\",\"colorbar\":{\"outlinewidth\":0,\"ticks\":\"\"}}],\"contour\":[{\"type\":\"contour\",\"colorbar\":{\"outlinewidth\":0,\"ticks\":\"\"},\"colorscale\":[[0.0,\"#0d0887\"],[0.1111111111111111,\"#46039f\"],[0.2222222222222222,\"#7201a8\"],[0.3333333333333333,\"#9c179e\"],[0.4444444444444444,\"#bd3786\"],[0.5555555555555556,\"#d8576b\"],[0.6666666666666666,\"#ed7953\"],[0.7777777777777778,\"#fb9f3a\"],[0.8888888888888888,\"#fdca26\"],[1.0,\"#f0f921\"]]}],\"surface\":[{\"type\":\"surface\",\"colorbar\":{\"outlinewidth\":0,\"ticks\":\"\"},\"colorscale\":[[0.0,\"#0d0887\"],[0.1111111111111111,\"#46039f\"],[0.2222222222222222,\"#7201a8\"],[0.3333333333333333,\"#9c179e\"],[0.4444444444444444,\"#bd3786\"],[0.5555555555555556,\"#d8576b\"],[0.6666666666666666,\"#ed7953\"],[0.7777777777777778,\"#fb9f3a\"],[0.8888888888888888,\"#fdca26\"],[1.0,\"#f0f921\"]]}],\"mesh3d\":[{\"type\":\"mesh3d\",\"colorbar\":{\"outlinewidth\":0,\"ticks\":\"\"}}],\"scatter\":[{\"fillpattern\":{\"fillmode\":\"overlay\",\"size\":10,\"solidity\":0.2},\"type\":\"scatter\"}],\"parcoords\":[{\"type\":\"parcoords\",\"line\":{\"colorbar\":{\"outlinewidth\":0,\"ticks\":\"\"}}}],\"scatterpolargl\":[{\"type\":\"scatterpolargl\",\"marker\":{\"colorbar\":{\"outlinewidth\":0,\"ticks\":\"\"}}}],\"bar\":[{\"error_x\":{\"color\":\"#2a3f5f\"},\"error_y\":{\"color\":\"#2a3f5f\"},\"marker\":{\"line\":{\"color\":\"#E5ECF6\",\"width\":0.5},\"pattern\":{\"fillmode\":\"overlay\",\"size\":10,\"solidity\":0.2}},\"type\":\"bar\"}],\"scattergeo\":[{\"type\":\"scattergeo\",\"marker\":{\"colorbar\":{\"outlinewidth\":0,\"ticks\":\"\"}}}],\"scatterpolar\":[{\"type\":\"scatterpolar\",\"marker\":{\"colorbar\":{\"outlinewidth\":0,\"ticks\":\"\"}}}],\"histogram\":[{\"marker\":{\"pattern\":{\"fillmode\":\"overlay\",\"size\":10,\"solidity\":0.2}},\"type\":\"histogram\"}],\"scattergl\":[{\"type\":\"scattergl\",\"marker\":{\"colorbar\":{\"outlinewidth\":0,\"ticks\":\"\"}}}],\"scatter3d\":[{\"type\":\"scatter3d\",\"line\":{\"colorbar\":{\"outlinewidth\":0,\"ticks\":\"\"}},\"marker\":{\"colorbar\":{\"outlinewidth\":0,\"ticks\":\"\"}}}],\"scattermapbox\":[{\"type\":\"scattermapbox\",\"marker\":{\"colorbar\":{\"outlinewidth\":0,\"ticks\":\"\"}}}],\"scatterternary\":[{\"type\":\"scatterternary\",\"marker\":{\"colorbar\":{\"outlinewidth\":0,\"ticks\":\"\"}}}],\"scattercarpet\":[{\"type\":\"scattercarpet\",\"marker\":{\"colorbar\":{\"outlinewidth\":0,\"ticks\":\"\"}}}],\"carpet\":[{\"aaxis\":{\"endlinecolor\":\"#2a3f5f\",\"gridcolor\":\"white\",\"linecolor\":\"white\",\"minorgridcolor\":\"white\",\"startlinecolor\":\"#2a3f5f\"},\"baxis\":{\"endlinecolor\":\"#2a3f5f\",\"gridcolor\":\"white\",\"linecolor\":\"white\",\"minorgridcolor\":\"white\",\"startlinecolor\":\"#2a3f5f\"},\"type\":\"carpet\"}],\"table\":[{\"cells\":{\"fill\":{\"color\":\"#EBF0F8\"},\"line\":{\"color\":\"white\"}},\"header\":{\"fill\":{\"color\":\"#C8D4E3\"},\"line\":{\"color\":\"white\"}},\"type\":\"table\"}],\"barpolar\":[{\"marker\":{\"line\":{\"color\":\"#E5ECF6\",\"width\":0.5},\"pattern\":{\"fillmode\":\"overlay\",\"size\":10,\"solidity\":0.2}},\"type\":\"barpolar\"}],\"pie\":[{\"automargin\":true,\"type\":\"pie\"}]},\"layout\":{\"autotypenumbers\":\"strict\",\"colorway\":[\"#636efa\",\"#EF553B\",\"#00cc96\",\"#ab63fa\",\"#FFA15A\",\"#19d3f3\",\"#FF6692\",\"#B6E880\",\"#FF97FF\",\"#FECB52\"],\"font\":{\"color\":\"#2a3f5f\"},\"hovermode\":\"closest\",\"hoverlabel\":{\"align\":\"left\"},\"paper_bgcolor\":\"white\",\"plot_bgcolor\":\"#E5ECF6\",\"polar\":{\"bgcolor\":\"#E5ECF6\",\"angularaxis\":{\"gridcolor\":\"white\",\"linecolor\":\"white\",\"ticks\":\"\"},\"radialaxis\":{\"gridcolor\":\"white\",\"linecolor\":\"white\",\"ticks\":\"\"}},\"ternary\":{\"bgcolor\":\"#E5ECF6\",\"aaxis\":{\"gridcolor\":\"white\",\"linecolor\":\"white\",\"ticks\":\"\"},\"baxis\":{\"gridcolor\":\"white\",\"linecolor\":\"white\",\"ticks\":\"\"},\"caxis\":{\"gridcolor\":\"white\",\"linecolor\":\"white\",\"ticks\":\"\"}},\"coloraxis\":{\"colorbar\":{\"outlinewidth\":0,\"ticks\":\"\"}},\"colorscale\":{\"sequential\":[[0.0,\"#0d0887\"],[0.1111111111111111,\"#46039f\"],[0.2222222222222222,\"#7201a8\"],[0.3333333333333333,\"#9c179e\"],[0.4444444444444444,\"#bd3786\"],[0.5555555555555556,\"#d8576b\"],[0.6666666666666666,\"#ed7953\"],[0.7777777777777778,\"#fb9f3a\"],[0.8888888888888888,\"#fdca26\"],[1.0,\"#f0f921\"]],\"sequentialminus\":[[0.0,\"#0d0887\"],[0.1111111111111111,\"#46039f\"],[0.2222222222222222,\"#7201a8\"],[0.3333333333333333,\"#9c179e\"],[0.4444444444444444,\"#bd3786\"],[0.5555555555555556,\"#d8576b\"],[0.6666666666666666,\"#ed7953\"],[0.7777777777777778,\"#fb9f3a\"],[0.8888888888888888,\"#fdca26\"],[1.0,\"#f0f921\"]],\"diverging\":[[0,\"#8e0152\"],[0.1,\"#c51b7d\"],[0.2,\"#de77ae\"],[0.3,\"#f1b6da\"],[0.4,\"#fde0ef\"],[0.5,\"#f7f7f7\"],[0.6,\"#e6f5d0\"],[0.7,\"#b8e186\"],[0.8,\"#7fbc41\"],[0.9,\"#4d9221\"],[1,\"#276419\"]]},\"xaxis\":{\"gridcolor\":\"white\",\"linecolor\":\"white\",\"ticks\":\"\",\"title\":{\"standoff\":15},\"zerolinecolor\":\"white\",\"automargin\":true,\"zerolinewidth\":2},\"yaxis\":{\"gridcolor\":\"white\",\"linecolor\":\"white\",\"ticks\":\"\",\"title\":{\"standoff\":15},\"zerolinecolor\":\"white\",\"automargin\":true,\"zerolinewidth\":2},\"scene\":{\"xaxis\":{\"backgroundcolor\":\"#E5ECF6\",\"gridcolor\":\"white\",\"linecolor\":\"white\",\"showbackground\":true,\"ticks\":\"\",\"zerolinecolor\":\"white\",\"gridwidth\":2},\"yaxis\":{\"backgroundcolor\":\"#E5ECF6\",\"gridcolor\":\"white\",\"linecolor\":\"white\",\"showbackground\":true,\"ticks\":\"\",\"zerolinecolor\":\"white\",\"gridwidth\":2},\"zaxis\":{\"backgroundcolor\":\"#E5ECF6\",\"gridcolor\":\"white\",\"linecolor\":\"white\",\"showbackground\":true,\"ticks\":\"\",\"zerolinecolor\":\"white\",\"gridwidth\":2}},\"shapedefaults\":{\"line\":{\"color\":\"#2a3f5f\"}},\"annotationdefaults\":{\"arrowcolor\":\"#2a3f5f\",\"arrowhead\":0,\"arrowwidth\":1},\"geo\":{\"bgcolor\":\"white\",\"landcolor\":\"#E5ECF6\",\"subunitcolor\":\"white\",\"showland\":true,\"showlakes\":true,\"lakecolor\":\"white\"},\"title\":{\"x\":0.05},\"mapbox\":{\"style\":\"light\"}}},\"xaxis\":{\"anchor\":\"y\",\"domain\":[0.0,1.0],\"title\":{\"text\":\"PC 2 (29.0%)\"}},\"yaxis\":{\"anchor\":\"x\",\"domain\":[0.0,1.0],\"title\":{\"text\":\"PC 3 (3.4%)\"}},\"legend\":{\"title\":{\"text\":\"color, symbol\"},\"tracegroupgap\":0},\"margin\":{\"t\":60},\"height\":600,\"width\":600,\"plot_bgcolor\":\"rgb(243,243,243)\"},                        {\"responsive\": true}                    ).then(function(){\n",
       "                            \n",
       "var gd = document.getElementById('9e707b9a-4d0a-4d8c-8ea3-58e60fb952ea');\n",
       "var x = new MutationObserver(function (mutations, observer) {{\n",
       "        var display = window.getComputedStyle(gd).display;\n",
       "        if (!display || display === 'none') {{\n",
       "            console.log([gd, 'removed!']);\n",
       "            Plotly.purge(gd);\n",
       "            observer.disconnect();\n",
       "        }}\n",
       "}});\n",
       "\n",
       "// Listen for the removal of the full notebook cells\n",
       "var notebookContainer = gd.closest('#notebook-container');\n",
       "if (notebookContainer) {{\n",
       "    x.observe(notebookContainer, {childList: true});\n",
       "}}\n",
       "\n",
       "// Listen for the clearing of the current output cell\n",
       "var outputEl = gd.closest('.output');\n",
       "if (outputEl) {{\n",
       "    x.observe(outputEl, {childList: true});\n",
       "}}\n",
       "\n",
       "                        })                };                });            </script>        </div>"
      ]
     },
     "metadata": {},
     "output_type": "display_data"
    },
    {
     "data": {
      "application/vnd.plotly.v1+json": {
       "config": {
        "plotlyServerURL": "https://plot.ly"
       },
       "data": [
        {
         "hovertemplate": "color=00<br>symbol=WT<br>2=%{x}<br>3=%{y}<extra></extra>",
         "legendgroup": "00, WT",
         "marker": {
          "color": "#636efa",
          "size": 13,
          "symbol": "circle"
         },
         "mode": "markers",
         "name": "00, WT",
         "orientation": "v",
         "showlegend": true,
         "type": "scatter",
         "x": [
          0.5625118712150113,
          0.28216482658113956,
          0.28330174257561386,
          0.036546934148484984
         ],
         "xaxis": "x",
         "y": [
          -0.43200873629534553,
          0.3084833532824954,
          0.29022111689117197,
          0.20647330420641985
         ],
         "yaxis": "y"
        },
        {
         "hovertemplate": "color=02<br>symbol=WT<br>2=%{x}<br>3=%{y}<extra></extra>",
         "legendgroup": "02, WT",
         "marker": {
          "color": "#EF553B",
          "size": 13,
          "symbol": "circle"
         },
         "mode": "markers",
         "name": "02, WT",
         "orientation": "v",
         "showlegend": true,
         "type": "scatter",
         "x": [
          0.42857818079177257,
          -0.295956712622525,
          0.0014507758126661476,
          -0.6476554340184908
         ],
         "xaxis": "x",
         "y": [
          0.7616303440372253,
          0.3800749972675852,
          0.18214426625103813,
          0.06733931416875683
         ],
         "yaxis": "y"
        },
        {
         "hovertemplate": "color=04<br>symbol=WT<br>2=%{x}<br>3=%{y}<extra></extra>",
         "legendgroup": "04, WT",
         "marker": {
          "color": "#00cc96",
          "size": 13,
          "symbol": "circle"
         },
         "mode": "markers",
         "name": "04, WT",
         "orientation": "v",
         "showlegend": true,
         "type": "scatter",
         "x": [
          -0.49816346100391135,
          -0.12606265431096028,
          -0.22774420384090147,
          -0.08152589747032708
         ],
         "xaxis": "x",
         "y": [
          -0.28607014200749187,
          0.3745718085721966,
          -0.3194532127564338,
          -0.06621522190297963
         ],
         "yaxis": "y"
        },
        {
         "hovertemplate": "color=06<br>symbol=WT<br>2=%{x}<br>3=%{y}<extra></extra>",
         "legendgroup": "06, WT",
         "marker": {
          "color": "#ab63fa",
          "size": 13,
          "symbol": "circle"
         },
         "mode": "markers",
         "name": "06, WT",
         "orientation": "v",
         "showlegend": true,
         "type": "scatter",
         "x": [
          -0.2219351369926728,
          -0.35655885772221435,
          -0.15062315722427955,
          -0.43143564206872437
         ],
         "xaxis": "x",
         "y": [
          -0.30991112316184743,
          -0.7298845888582469,
          -0.4259214837944971,
          -0.3917595273855716
         ],
         "yaxis": "y"
        },
        {
         "hovertemplate": "color=08<br>symbol=WT<br>2=%{x}<br>3=%{y}<extra></extra>",
         "legendgroup": "08, WT",
         "marker": {
          "color": "#FFA15A",
          "size": 13,
          "symbol": "circle"
         },
         "mode": "markers",
         "name": "08, WT",
         "orientation": "v",
         "showlegend": true,
         "type": "scatter",
         "x": [
          0.349201983404589,
          0.6001053693085469,
          0.6206351189307642,
          0.19967517552353511
         ],
         "xaxis": "x",
         "y": [
          -0.024172655693618542,
          0.15401889799135904,
          0.10333254385204384,
          -0.1534728248561941
         ],
         "yaxis": "y"
        },
        {
         "hovertemplate": "color=10<br>symbol=WT<br>2=%{x}<br>3=%{y}<extra></extra>",
         "legendgroup": "10, WT",
         "marker": {
          "color": "#19d3f3",
          "size": 13,
          "symbol": "circle"
         },
         "mode": "markers",
         "name": "10, WT",
         "orientation": "v",
         "showlegend": true,
         "type": "scatter",
         "x": [
          0.4312395598287203,
          0.5573021875887809,
          0.40872589431453815,
          0.4558914823885054
         ],
         "xaxis": "x",
         "y": [
          0.023579387376853094,
          0.06159955932839081,
          0.09549151833773785,
          0.08149205401717367
         ],
         "yaxis": "y"
        },
        {
         "hovertemplate": "color=12<br>symbol=WT<br>2=%{x}<br>3=%{y}<extra></extra>",
         "legendgroup": "12, WT",
         "marker": {
          "color": "#FF6692",
          "size": 13,
          "symbol": "circle"
         },
         "mode": "markers",
         "name": "12, WT",
         "orientation": "v",
         "showlegend": true,
         "type": "scatter",
         "x": [
          0.1563125594319395,
          0.5873200598147124,
          0.584249350905505,
          -0.0772145012519519
         ],
         "xaxis": "x",
         "y": [
          0.009627500077216734,
          0.07993113815699762,
          0.07456845359441733,
          0.29461324237045405
         ],
         "yaxis": "y"
        },
        {
         "hovertemplate": "color=14<br>symbol=WT<br>2=%{x}<br>3=%{y}<extra></extra>",
         "legendgroup": "14, WT",
         "marker": {
          "color": "#B6E880",
          "size": 13,
          "symbol": "circle"
         },
         "mode": "markers",
         "name": "14, WT",
         "orientation": "v",
         "showlegend": true,
         "type": "scatter",
         "x": [
          -0.11689209058695421,
          -0.4844307206229881,
          -0.09700221387721486,
          -0.5696734393554641
         ],
         "xaxis": "x",
         "y": [
          0.8024298514303457,
          -0.04348878636188273,
          0.31092718499971256,
          0.02074212613548897
         ],
         "yaxis": "y"
        },
        {
         "hovertemplate": "color=16<br>symbol=WT<br>2=%{x}<br>3=%{y}<extra></extra>",
         "legendgroup": "16, WT",
         "marker": {
          "color": "#FF97FF",
          "size": 13,
          "symbol": "circle"
         },
         "mode": "markers",
         "name": "16, WT",
         "orientation": "v",
         "showlegend": true,
         "type": "scatter",
         "x": [
          -0.6005298221659183,
          -0.6514867365014916,
          -0.6446338269865498,
          -0.5526172420445444
         ],
         "xaxis": "x",
         "y": [
          0.3617637182301402,
          -0.2436775020524037,
          -0.08987202971820289,
          -0.12808705721571273
         ],
         "yaxis": "y"
        },
        {
         "hovertemplate": "color=18<br>symbol=WT<br>2=%{x}<br>3=%{y}<extra></extra>",
         "legendgroup": "18, WT",
         "marker": {
          "color": "#FECB52",
          "size": 13,
          "symbol": "circle"
         },
         "mode": "markers",
         "name": "18, WT",
         "orientation": "v",
         "showlegend": true,
         "type": "scatter",
         "x": [
          -0.7485028746602443,
          -0.3866847163391188,
          -0.4457052344955101,
          -0.477611200353106
         ],
         "xaxis": "x",
         "y": [
          0.25945124677901316,
          0.08731214507278774,
          -0.10594265190668739,
          -0.023033999110214958
         ],
         "yaxis": "y"
        },
        {
         "hovertemplate": "color=20<br>symbol=WT<br>2=%{x}<br>3=%{y}<extra></extra>",
         "legendgroup": "20, WT",
         "marker": {
          "color": "#636efa",
          "size": 13,
          "symbol": "circle"
         },
         "mode": "markers",
         "name": "20, WT",
         "orientation": "v",
         "showlegend": true,
         "type": "scatter",
         "x": [
          0.582607199276494,
          0.8227821744910268,
          -0.2655678304447758,
          -0.32338309609095056
         ],
         "xaxis": "x",
         "y": [
          -0.40044844822905407,
          -0.518226175838106,
          -0.15574553151333728,
          0.13225105215279345
         ],
         "yaxis": "y"
        },
        {
         "hovertemplate": "color=22<br>symbol=WT<br>2=%{x}<br>3=%{y}<extra></extra>",
         "legendgroup": "22, WT",
         "marker": {
          "color": "#EF553B",
          "size": 13,
          "symbol": "circle"
         },
         "mode": "markers",
         "name": "22, WT",
         "orientation": "v",
         "showlegend": true,
         "type": "scatter",
         "x": [
          0.5943150826282889,
          0.40617211528471253,
          0.4033509058885313,
          0.1251561529179243
         ],
         "xaxis": "x",
         "y": [
          -0.24072231064568148,
          -0.19687546735189007,
          -0.06889610072098806,
          -0.17018454720343476
         ],
         "yaxis": "y"
        }
       ],
       "layout": {
        "height": 600,
        "legend": {
         "title": {
          "text": "color, symbol"
         },
         "tracegroupgap": 0
        },
        "margin": {
         "t": 60
        },
        "plot_bgcolor": "rgb(243,243,243)",
        "template": {
         "data": {
          "bar": [
           {
            "error_x": {
             "color": "#2a3f5f"
            },
            "error_y": {
             "color": "#2a3f5f"
            },
            "marker": {
             "line": {
              "color": "#E5ECF6",
              "width": 0.5
             },
             "pattern": {
              "fillmode": "overlay",
              "size": 10,
              "solidity": 0.2
             }
            },
            "type": "bar"
           }
          ],
          "barpolar": [
           {
            "marker": {
             "line": {
              "color": "#E5ECF6",
              "width": 0.5
             },
             "pattern": {
              "fillmode": "overlay",
              "size": 10,
              "solidity": 0.2
             }
            },
            "type": "barpolar"
           }
          ],
          "carpet": [
           {
            "aaxis": {
             "endlinecolor": "#2a3f5f",
             "gridcolor": "white",
             "linecolor": "white",
             "minorgridcolor": "white",
             "startlinecolor": "#2a3f5f"
            },
            "baxis": {
             "endlinecolor": "#2a3f5f",
             "gridcolor": "white",
             "linecolor": "white",
             "minorgridcolor": "white",
             "startlinecolor": "#2a3f5f"
            },
            "type": "carpet"
           }
          ],
          "choropleth": [
           {
            "colorbar": {
             "outlinewidth": 0,
             "ticks": ""
            },
            "type": "choropleth"
           }
          ],
          "contour": [
           {
            "colorbar": {
             "outlinewidth": 0,
             "ticks": ""
            },
            "colorscale": [
             [
              0,
              "#0d0887"
             ],
             [
              0.1111111111111111,
              "#46039f"
             ],
             [
              0.2222222222222222,
              "#7201a8"
             ],
             [
              0.3333333333333333,
              "#9c179e"
             ],
             [
              0.4444444444444444,
              "#bd3786"
             ],
             [
              0.5555555555555556,
              "#d8576b"
             ],
             [
              0.6666666666666666,
              "#ed7953"
             ],
             [
              0.7777777777777778,
              "#fb9f3a"
             ],
             [
              0.8888888888888888,
              "#fdca26"
             ],
             [
              1,
              "#f0f921"
             ]
            ],
            "type": "contour"
           }
          ],
          "contourcarpet": [
           {
            "colorbar": {
             "outlinewidth": 0,
             "ticks": ""
            },
            "type": "contourcarpet"
           }
          ],
          "heatmap": [
           {
            "colorbar": {
             "outlinewidth": 0,
             "ticks": ""
            },
            "colorscale": [
             [
              0,
              "#0d0887"
             ],
             [
              0.1111111111111111,
              "#46039f"
             ],
             [
              0.2222222222222222,
              "#7201a8"
             ],
             [
              0.3333333333333333,
              "#9c179e"
             ],
             [
              0.4444444444444444,
              "#bd3786"
             ],
             [
              0.5555555555555556,
              "#d8576b"
             ],
             [
              0.6666666666666666,
              "#ed7953"
             ],
             [
              0.7777777777777778,
              "#fb9f3a"
             ],
             [
              0.8888888888888888,
              "#fdca26"
             ],
             [
              1,
              "#f0f921"
             ]
            ],
            "type": "heatmap"
           }
          ],
          "heatmapgl": [
           {
            "colorbar": {
             "outlinewidth": 0,
             "ticks": ""
            },
            "colorscale": [
             [
              0,
              "#0d0887"
             ],
             [
              0.1111111111111111,
              "#46039f"
             ],
             [
              0.2222222222222222,
              "#7201a8"
             ],
             [
              0.3333333333333333,
              "#9c179e"
             ],
             [
              0.4444444444444444,
              "#bd3786"
             ],
             [
              0.5555555555555556,
              "#d8576b"
             ],
             [
              0.6666666666666666,
              "#ed7953"
             ],
             [
              0.7777777777777778,
              "#fb9f3a"
             ],
             [
              0.8888888888888888,
              "#fdca26"
             ],
             [
              1,
              "#f0f921"
             ]
            ],
            "type": "heatmapgl"
           }
          ],
          "histogram": [
           {
            "marker": {
             "pattern": {
              "fillmode": "overlay",
              "size": 10,
              "solidity": 0.2
             }
            },
            "type": "histogram"
           }
          ],
          "histogram2d": [
           {
            "colorbar": {
             "outlinewidth": 0,
             "ticks": ""
            },
            "colorscale": [
             [
              0,
              "#0d0887"
             ],
             [
              0.1111111111111111,
              "#46039f"
             ],
             [
              0.2222222222222222,
              "#7201a8"
             ],
             [
              0.3333333333333333,
              "#9c179e"
             ],
             [
              0.4444444444444444,
              "#bd3786"
             ],
             [
              0.5555555555555556,
              "#d8576b"
             ],
             [
              0.6666666666666666,
              "#ed7953"
             ],
             [
              0.7777777777777778,
              "#fb9f3a"
             ],
             [
              0.8888888888888888,
              "#fdca26"
             ],
             [
              1,
              "#f0f921"
             ]
            ],
            "type": "histogram2d"
           }
          ],
          "histogram2dcontour": [
           {
            "colorbar": {
             "outlinewidth": 0,
             "ticks": ""
            },
            "colorscale": [
             [
              0,
              "#0d0887"
             ],
             [
              0.1111111111111111,
              "#46039f"
             ],
             [
              0.2222222222222222,
              "#7201a8"
             ],
             [
              0.3333333333333333,
              "#9c179e"
             ],
             [
              0.4444444444444444,
              "#bd3786"
             ],
             [
              0.5555555555555556,
              "#d8576b"
             ],
             [
              0.6666666666666666,
              "#ed7953"
             ],
             [
              0.7777777777777778,
              "#fb9f3a"
             ],
             [
              0.8888888888888888,
              "#fdca26"
             ],
             [
              1,
              "#f0f921"
             ]
            ],
            "type": "histogram2dcontour"
           }
          ],
          "mesh3d": [
           {
            "colorbar": {
             "outlinewidth": 0,
             "ticks": ""
            },
            "type": "mesh3d"
           }
          ],
          "parcoords": [
           {
            "line": {
             "colorbar": {
              "outlinewidth": 0,
              "ticks": ""
             }
            },
            "type": "parcoords"
           }
          ],
          "pie": [
           {
            "automargin": true,
            "type": "pie"
           }
          ],
          "scatter": [
           {
            "fillpattern": {
             "fillmode": "overlay",
             "size": 10,
             "solidity": 0.2
            },
            "type": "scatter"
           }
          ],
          "scatter3d": [
           {
            "line": {
             "colorbar": {
              "outlinewidth": 0,
              "ticks": ""
             }
            },
            "marker": {
             "colorbar": {
              "outlinewidth": 0,
              "ticks": ""
             }
            },
            "type": "scatter3d"
           }
          ],
          "scattercarpet": [
           {
            "marker": {
             "colorbar": {
              "outlinewidth": 0,
              "ticks": ""
             }
            },
            "type": "scattercarpet"
           }
          ],
          "scattergeo": [
           {
            "marker": {
             "colorbar": {
              "outlinewidth": 0,
              "ticks": ""
             }
            },
            "type": "scattergeo"
           }
          ],
          "scattergl": [
           {
            "marker": {
             "colorbar": {
              "outlinewidth": 0,
              "ticks": ""
             }
            },
            "type": "scattergl"
           }
          ],
          "scattermapbox": [
           {
            "marker": {
             "colorbar": {
              "outlinewidth": 0,
              "ticks": ""
             }
            },
            "type": "scattermapbox"
           }
          ],
          "scatterpolar": [
           {
            "marker": {
             "colorbar": {
              "outlinewidth": 0,
              "ticks": ""
             }
            },
            "type": "scatterpolar"
           }
          ],
          "scatterpolargl": [
           {
            "marker": {
             "colorbar": {
              "outlinewidth": 0,
              "ticks": ""
             }
            },
            "type": "scatterpolargl"
           }
          ],
          "scatterternary": [
           {
            "marker": {
             "colorbar": {
              "outlinewidth": 0,
              "ticks": ""
             }
            },
            "type": "scatterternary"
           }
          ],
          "surface": [
           {
            "colorbar": {
             "outlinewidth": 0,
             "ticks": ""
            },
            "colorscale": [
             [
              0,
              "#0d0887"
             ],
             [
              0.1111111111111111,
              "#46039f"
             ],
             [
              0.2222222222222222,
              "#7201a8"
             ],
             [
              0.3333333333333333,
              "#9c179e"
             ],
             [
              0.4444444444444444,
              "#bd3786"
             ],
             [
              0.5555555555555556,
              "#d8576b"
             ],
             [
              0.6666666666666666,
              "#ed7953"
             ],
             [
              0.7777777777777778,
              "#fb9f3a"
             ],
             [
              0.8888888888888888,
              "#fdca26"
             ],
             [
              1,
              "#f0f921"
             ]
            ],
            "type": "surface"
           }
          ],
          "table": [
           {
            "cells": {
             "fill": {
              "color": "#EBF0F8"
             },
             "line": {
              "color": "white"
             }
            },
            "header": {
             "fill": {
              "color": "#C8D4E3"
             },
             "line": {
              "color": "white"
             }
            },
            "type": "table"
           }
          ]
         },
         "layout": {
          "annotationdefaults": {
           "arrowcolor": "#2a3f5f",
           "arrowhead": 0,
           "arrowwidth": 1
          },
          "autotypenumbers": "strict",
          "coloraxis": {
           "colorbar": {
            "outlinewidth": 0,
            "ticks": ""
           }
          },
          "colorscale": {
           "diverging": [
            [
             0,
             "#8e0152"
            ],
            [
             0.1,
             "#c51b7d"
            ],
            [
             0.2,
             "#de77ae"
            ],
            [
             0.3,
             "#f1b6da"
            ],
            [
             0.4,
             "#fde0ef"
            ],
            [
             0.5,
             "#f7f7f7"
            ],
            [
             0.6,
             "#e6f5d0"
            ],
            [
             0.7,
             "#b8e186"
            ],
            [
             0.8,
             "#7fbc41"
            ],
            [
             0.9,
             "#4d9221"
            ],
            [
             1,
             "#276419"
            ]
           ],
           "sequential": [
            [
             0,
             "#0d0887"
            ],
            [
             0.1111111111111111,
             "#46039f"
            ],
            [
             0.2222222222222222,
             "#7201a8"
            ],
            [
             0.3333333333333333,
             "#9c179e"
            ],
            [
             0.4444444444444444,
             "#bd3786"
            ],
            [
             0.5555555555555556,
             "#d8576b"
            ],
            [
             0.6666666666666666,
             "#ed7953"
            ],
            [
             0.7777777777777778,
             "#fb9f3a"
            ],
            [
             0.8888888888888888,
             "#fdca26"
            ],
            [
             1,
             "#f0f921"
            ]
           ],
           "sequentialminus": [
            [
             0,
             "#0d0887"
            ],
            [
             0.1111111111111111,
             "#46039f"
            ],
            [
             0.2222222222222222,
             "#7201a8"
            ],
            [
             0.3333333333333333,
             "#9c179e"
            ],
            [
             0.4444444444444444,
             "#bd3786"
            ],
            [
             0.5555555555555556,
             "#d8576b"
            ],
            [
             0.6666666666666666,
             "#ed7953"
            ],
            [
             0.7777777777777778,
             "#fb9f3a"
            ],
            [
             0.8888888888888888,
             "#fdca26"
            ],
            [
             1,
             "#f0f921"
            ]
           ]
          },
          "colorway": [
           "#636efa",
           "#EF553B",
           "#00cc96",
           "#ab63fa",
           "#FFA15A",
           "#19d3f3",
           "#FF6692",
           "#B6E880",
           "#FF97FF",
           "#FECB52"
          ],
          "font": {
           "color": "#2a3f5f"
          },
          "geo": {
           "bgcolor": "white",
           "lakecolor": "white",
           "landcolor": "#E5ECF6",
           "showlakes": true,
           "showland": true,
           "subunitcolor": "white"
          },
          "hoverlabel": {
           "align": "left"
          },
          "hovermode": "closest",
          "mapbox": {
           "style": "light"
          },
          "paper_bgcolor": "white",
          "plot_bgcolor": "#E5ECF6",
          "polar": {
           "angularaxis": {
            "gridcolor": "white",
            "linecolor": "white",
            "ticks": ""
           },
           "bgcolor": "#E5ECF6",
           "radialaxis": {
            "gridcolor": "white",
            "linecolor": "white",
            "ticks": ""
           }
          },
          "scene": {
           "xaxis": {
            "backgroundcolor": "#E5ECF6",
            "gridcolor": "white",
            "gridwidth": 2,
            "linecolor": "white",
            "showbackground": true,
            "ticks": "",
            "zerolinecolor": "white"
           },
           "yaxis": {
            "backgroundcolor": "#E5ECF6",
            "gridcolor": "white",
            "gridwidth": 2,
            "linecolor": "white",
            "showbackground": true,
            "ticks": "",
            "zerolinecolor": "white"
           },
           "zaxis": {
            "backgroundcolor": "#E5ECF6",
            "gridcolor": "white",
            "gridwidth": 2,
            "linecolor": "white",
            "showbackground": true,
            "ticks": "",
            "zerolinecolor": "white"
           }
          },
          "shapedefaults": {
           "line": {
            "color": "#2a3f5f"
           }
          },
          "ternary": {
           "aaxis": {
            "gridcolor": "white",
            "linecolor": "white",
            "ticks": ""
           },
           "baxis": {
            "gridcolor": "white",
            "linecolor": "white",
            "ticks": ""
           },
           "bgcolor": "#E5ECF6",
           "caxis": {
            "gridcolor": "white",
            "linecolor": "white",
            "ticks": ""
           }
          },
          "title": {
           "x": 0.05
          },
          "xaxis": {
           "automargin": true,
           "gridcolor": "white",
           "linecolor": "white",
           "ticks": "",
           "title": {
            "standoff": 15
           },
           "zerolinecolor": "white",
           "zerolinewidth": 2
          },
          "yaxis": {
           "automargin": true,
           "gridcolor": "white",
           "linecolor": "white",
           "ticks": "",
           "title": {
            "standoff": 15
           },
           "zerolinecolor": "white",
           "zerolinewidth": 2
          }
         }
        },
        "width": 600,
        "xaxis": {
         "anchor": "y",
         "domain": [
          0,
          1
         ],
         "title": {
          "text": "PC 3 (3.4%)"
         }
        },
        "yaxis": {
         "anchor": "x",
         "domain": [
          0,
          1
         ],
         "title": {
          "text": "PC 4 (1.5%)"
         }
        }
       }
      },
      "text/html": [
       "<div>                            <div id=\"c38a84b1-e1a5-4b40-af9e-ab46f11dfacb\" class=\"plotly-graph-div\" style=\"height:600px; width:600px;\"></div>            <script type=\"text/javascript\">                require([\"plotly\"], function(Plotly) {                    window.PLOTLYENV=window.PLOTLYENV || {};                                    if (document.getElementById(\"c38a84b1-e1a5-4b40-af9e-ab46f11dfacb\")) {                    Plotly.newPlot(                        \"c38a84b1-e1a5-4b40-af9e-ab46f11dfacb\",                        [{\"hovertemplate\":\"color=00<br>symbol=WT<br>2=%{x}<br>3=%{y}<extra></extra>\",\"legendgroup\":\"00, WT\",\"marker\":{\"color\":\"#636efa\",\"symbol\":\"circle\",\"size\":13},\"mode\":\"markers\",\"name\":\"00, WT\",\"orientation\":\"v\",\"showlegend\":true,\"x\":[0.5625118712150113,0.28216482658113956,0.28330174257561386,0.036546934148484984],\"xaxis\":\"x\",\"y\":[-0.43200873629534553,0.3084833532824954,0.29022111689117197,0.20647330420641985],\"yaxis\":\"y\",\"type\":\"scatter\"},{\"hovertemplate\":\"color=02<br>symbol=WT<br>2=%{x}<br>3=%{y}<extra></extra>\",\"legendgroup\":\"02, WT\",\"marker\":{\"color\":\"#EF553B\",\"symbol\":\"circle\",\"size\":13},\"mode\":\"markers\",\"name\":\"02, WT\",\"orientation\":\"v\",\"showlegend\":true,\"x\":[0.42857818079177257,-0.295956712622525,0.0014507758126661476,-0.6476554340184908],\"xaxis\":\"x\",\"y\":[0.7616303440372253,0.3800749972675852,0.18214426625103813,0.06733931416875683],\"yaxis\":\"y\",\"type\":\"scatter\"},{\"hovertemplate\":\"color=04<br>symbol=WT<br>2=%{x}<br>3=%{y}<extra></extra>\",\"legendgroup\":\"04, WT\",\"marker\":{\"color\":\"#00cc96\",\"symbol\":\"circle\",\"size\":13},\"mode\":\"markers\",\"name\":\"04, WT\",\"orientation\":\"v\",\"showlegend\":true,\"x\":[-0.49816346100391135,-0.12606265431096028,-0.22774420384090147,-0.08152589747032708],\"xaxis\":\"x\",\"y\":[-0.28607014200749187,0.3745718085721966,-0.3194532127564338,-0.06621522190297963],\"yaxis\":\"y\",\"type\":\"scatter\"},{\"hovertemplate\":\"color=06<br>symbol=WT<br>2=%{x}<br>3=%{y}<extra></extra>\",\"legendgroup\":\"06, WT\",\"marker\":{\"color\":\"#ab63fa\",\"symbol\":\"circle\",\"size\":13},\"mode\":\"markers\",\"name\":\"06, WT\",\"orientation\":\"v\",\"showlegend\":true,\"x\":[-0.2219351369926728,-0.35655885772221435,-0.15062315722427955,-0.43143564206872437],\"xaxis\":\"x\",\"y\":[-0.30991112316184743,-0.7298845888582469,-0.4259214837944971,-0.3917595273855716],\"yaxis\":\"y\",\"type\":\"scatter\"},{\"hovertemplate\":\"color=08<br>symbol=WT<br>2=%{x}<br>3=%{y}<extra></extra>\",\"legendgroup\":\"08, WT\",\"marker\":{\"color\":\"#FFA15A\",\"symbol\":\"circle\",\"size\":13},\"mode\":\"markers\",\"name\":\"08, WT\",\"orientation\":\"v\",\"showlegend\":true,\"x\":[0.349201983404589,0.6001053693085469,0.6206351189307642,0.19967517552353511],\"xaxis\":\"x\",\"y\":[-0.024172655693618542,0.15401889799135904,0.10333254385204384,-0.1534728248561941],\"yaxis\":\"y\",\"type\":\"scatter\"},{\"hovertemplate\":\"color=10<br>symbol=WT<br>2=%{x}<br>3=%{y}<extra></extra>\",\"legendgroup\":\"10, WT\",\"marker\":{\"color\":\"#19d3f3\",\"symbol\":\"circle\",\"size\":13},\"mode\":\"markers\",\"name\":\"10, WT\",\"orientation\":\"v\",\"showlegend\":true,\"x\":[0.4312395598287203,0.5573021875887809,0.40872589431453815,0.4558914823885054],\"xaxis\":\"x\",\"y\":[0.023579387376853094,0.06159955932839081,0.09549151833773785,0.08149205401717367],\"yaxis\":\"y\",\"type\":\"scatter\"},{\"hovertemplate\":\"color=12<br>symbol=WT<br>2=%{x}<br>3=%{y}<extra></extra>\",\"legendgroup\":\"12, WT\",\"marker\":{\"color\":\"#FF6692\",\"symbol\":\"circle\",\"size\":13},\"mode\":\"markers\",\"name\":\"12, WT\",\"orientation\":\"v\",\"showlegend\":true,\"x\":[0.1563125594319395,0.5873200598147124,0.584249350905505,-0.0772145012519519],\"xaxis\":\"x\",\"y\":[0.009627500077216734,0.07993113815699762,0.07456845359441733,0.29461324237045405],\"yaxis\":\"y\",\"type\":\"scatter\"},{\"hovertemplate\":\"color=14<br>symbol=WT<br>2=%{x}<br>3=%{y}<extra></extra>\",\"legendgroup\":\"14, WT\",\"marker\":{\"color\":\"#B6E880\",\"symbol\":\"circle\",\"size\":13},\"mode\":\"markers\",\"name\":\"14, WT\",\"orientation\":\"v\",\"showlegend\":true,\"x\":[-0.11689209058695421,-0.4844307206229881,-0.09700221387721486,-0.5696734393554641],\"xaxis\":\"x\",\"y\":[0.8024298514303457,-0.04348878636188273,0.31092718499971256,0.02074212613548897],\"yaxis\":\"y\",\"type\":\"scatter\"},{\"hovertemplate\":\"color=16<br>symbol=WT<br>2=%{x}<br>3=%{y}<extra></extra>\",\"legendgroup\":\"16, WT\",\"marker\":{\"color\":\"#FF97FF\",\"symbol\":\"circle\",\"size\":13},\"mode\":\"markers\",\"name\":\"16, WT\",\"orientation\":\"v\",\"showlegend\":true,\"x\":[-0.6005298221659183,-0.6514867365014916,-0.6446338269865498,-0.5526172420445444],\"xaxis\":\"x\",\"y\":[0.3617637182301402,-0.2436775020524037,-0.08987202971820289,-0.12808705721571273],\"yaxis\":\"y\",\"type\":\"scatter\"},{\"hovertemplate\":\"color=18<br>symbol=WT<br>2=%{x}<br>3=%{y}<extra></extra>\",\"legendgroup\":\"18, WT\",\"marker\":{\"color\":\"#FECB52\",\"symbol\":\"circle\",\"size\":13},\"mode\":\"markers\",\"name\":\"18, WT\",\"orientation\":\"v\",\"showlegend\":true,\"x\":[-0.7485028746602443,-0.3866847163391188,-0.4457052344955101,-0.477611200353106],\"xaxis\":\"x\",\"y\":[0.25945124677901316,0.08731214507278774,-0.10594265190668739,-0.023033999110214958],\"yaxis\":\"y\",\"type\":\"scatter\"},{\"hovertemplate\":\"color=20<br>symbol=WT<br>2=%{x}<br>3=%{y}<extra></extra>\",\"legendgroup\":\"20, WT\",\"marker\":{\"color\":\"#636efa\",\"symbol\":\"circle\",\"size\":13},\"mode\":\"markers\",\"name\":\"20, WT\",\"orientation\":\"v\",\"showlegend\":true,\"x\":[0.582607199276494,0.8227821744910268,-0.2655678304447758,-0.32338309609095056],\"xaxis\":\"x\",\"y\":[-0.40044844822905407,-0.518226175838106,-0.15574553151333728,0.13225105215279345],\"yaxis\":\"y\",\"type\":\"scatter\"},{\"hovertemplate\":\"color=22<br>symbol=WT<br>2=%{x}<br>3=%{y}<extra></extra>\",\"legendgroup\":\"22, WT\",\"marker\":{\"color\":\"#EF553B\",\"symbol\":\"circle\",\"size\":13},\"mode\":\"markers\",\"name\":\"22, WT\",\"orientation\":\"v\",\"showlegend\":true,\"x\":[0.5943150826282889,0.40617211528471253,0.4033509058885313,0.1251561529179243],\"xaxis\":\"x\",\"y\":[-0.24072231064568148,-0.19687546735189007,-0.06889610072098806,-0.17018454720343476],\"yaxis\":\"y\",\"type\":\"scatter\"}],                        {\"template\":{\"data\":{\"histogram2dcontour\":[{\"type\":\"histogram2dcontour\",\"colorbar\":{\"outlinewidth\":0,\"ticks\":\"\"},\"colorscale\":[[0.0,\"#0d0887\"],[0.1111111111111111,\"#46039f\"],[0.2222222222222222,\"#7201a8\"],[0.3333333333333333,\"#9c179e\"],[0.4444444444444444,\"#bd3786\"],[0.5555555555555556,\"#d8576b\"],[0.6666666666666666,\"#ed7953\"],[0.7777777777777778,\"#fb9f3a\"],[0.8888888888888888,\"#fdca26\"],[1.0,\"#f0f921\"]]}],\"choropleth\":[{\"type\":\"choropleth\",\"colorbar\":{\"outlinewidth\":0,\"ticks\":\"\"}}],\"histogram2d\":[{\"type\":\"histogram2d\",\"colorbar\":{\"outlinewidth\":0,\"ticks\":\"\"},\"colorscale\":[[0.0,\"#0d0887\"],[0.1111111111111111,\"#46039f\"],[0.2222222222222222,\"#7201a8\"],[0.3333333333333333,\"#9c179e\"],[0.4444444444444444,\"#bd3786\"],[0.5555555555555556,\"#d8576b\"],[0.6666666666666666,\"#ed7953\"],[0.7777777777777778,\"#fb9f3a\"],[0.8888888888888888,\"#fdca26\"],[1.0,\"#f0f921\"]]}],\"heatmap\":[{\"type\":\"heatmap\",\"colorbar\":{\"outlinewidth\":0,\"ticks\":\"\"},\"colorscale\":[[0.0,\"#0d0887\"],[0.1111111111111111,\"#46039f\"],[0.2222222222222222,\"#7201a8\"],[0.3333333333333333,\"#9c179e\"],[0.4444444444444444,\"#bd3786\"],[0.5555555555555556,\"#d8576b\"],[0.6666666666666666,\"#ed7953\"],[0.7777777777777778,\"#fb9f3a\"],[0.8888888888888888,\"#fdca26\"],[1.0,\"#f0f921\"]]}],\"heatmapgl\":[{\"type\":\"heatmapgl\",\"colorbar\":{\"outlinewidth\":0,\"ticks\":\"\"},\"colorscale\":[[0.0,\"#0d0887\"],[0.1111111111111111,\"#46039f\"],[0.2222222222222222,\"#7201a8\"],[0.3333333333333333,\"#9c179e\"],[0.4444444444444444,\"#bd3786\"],[0.5555555555555556,\"#d8576b\"],[0.6666666666666666,\"#ed7953\"],[0.7777777777777778,\"#fb9f3a\"],[0.8888888888888888,\"#fdca26\"],[1.0,\"#f0f921\"]]}],\"contourcarpet\":[{\"type\":\"contourcarpet\",\"colorbar\":{\"outlinewidth\":0,\"ticks\":\"\"}}],\"contour\":[{\"type\":\"contour\",\"colorbar\":{\"outlinewidth\":0,\"ticks\":\"\"},\"colorscale\":[[0.0,\"#0d0887\"],[0.1111111111111111,\"#46039f\"],[0.2222222222222222,\"#7201a8\"],[0.3333333333333333,\"#9c179e\"],[0.4444444444444444,\"#bd3786\"],[0.5555555555555556,\"#d8576b\"],[0.6666666666666666,\"#ed7953\"],[0.7777777777777778,\"#fb9f3a\"],[0.8888888888888888,\"#fdca26\"],[1.0,\"#f0f921\"]]}],\"surface\":[{\"type\":\"surface\",\"colorbar\":{\"outlinewidth\":0,\"ticks\":\"\"},\"colorscale\":[[0.0,\"#0d0887\"],[0.1111111111111111,\"#46039f\"],[0.2222222222222222,\"#7201a8\"],[0.3333333333333333,\"#9c179e\"],[0.4444444444444444,\"#bd3786\"],[0.5555555555555556,\"#d8576b\"],[0.6666666666666666,\"#ed7953\"],[0.7777777777777778,\"#fb9f3a\"],[0.8888888888888888,\"#fdca26\"],[1.0,\"#f0f921\"]]}],\"mesh3d\":[{\"type\":\"mesh3d\",\"colorbar\":{\"outlinewidth\":0,\"ticks\":\"\"}}],\"scatter\":[{\"fillpattern\":{\"fillmode\":\"overlay\",\"size\":10,\"solidity\":0.2},\"type\":\"scatter\"}],\"parcoords\":[{\"type\":\"parcoords\",\"line\":{\"colorbar\":{\"outlinewidth\":0,\"ticks\":\"\"}}}],\"scatterpolargl\":[{\"type\":\"scatterpolargl\",\"marker\":{\"colorbar\":{\"outlinewidth\":0,\"ticks\":\"\"}}}],\"bar\":[{\"error_x\":{\"color\":\"#2a3f5f\"},\"error_y\":{\"color\":\"#2a3f5f\"},\"marker\":{\"line\":{\"color\":\"#E5ECF6\",\"width\":0.5},\"pattern\":{\"fillmode\":\"overlay\",\"size\":10,\"solidity\":0.2}},\"type\":\"bar\"}],\"scattergeo\":[{\"type\":\"scattergeo\",\"marker\":{\"colorbar\":{\"outlinewidth\":0,\"ticks\":\"\"}}}],\"scatterpolar\":[{\"type\":\"scatterpolar\",\"marker\":{\"colorbar\":{\"outlinewidth\":0,\"ticks\":\"\"}}}],\"histogram\":[{\"marker\":{\"pattern\":{\"fillmode\":\"overlay\",\"size\":10,\"solidity\":0.2}},\"type\":\"histogram\"}],\"scattergl\":[{\"type\":\"scattergl\",\"marker\":{\"colorbar\":{\"outlinewidth\":0,\"ticks\":\"\"}}}],\"scatter3d\":[{\"type\":\"scatter3d\",\"line\":{\"colorbar\":{\"outlinewidth\":0,\"ticks\":\"\"}},\"marker\":{\"colorbar\":{\"outlinewidth\":0,\"ticks\":\"\"}}}],\"scattermapbox\":[{\"type\":\"scattermapbox\",\"marker\":{\"colorbar\":{\"outlinewidth\":0,\"ticks\":\"\"}}}],\"scatterternary\":[{\"type\":\"scatterternary\",\"marker\":{\"colorbar\":{\"outlinewidth\":0,\"ticks\":\"\"}}}],\"scattercarpet\":[{\"type\":\"scattercarpet\",\"marker\":{\"colorbar\":{\"outlinewidth\":0,\"ticks\":\"\"}}}],\"carpet\":[{\"aaxis\":{\"endlinecolor\":\"#2a3f5f\",\"gridcolor\":\"white\",\"linecolor\":\"white\",\"minorgridcolor\":\"white\",\"startlinecolor\":\"#2a3f5f\"},\"baxis\":{\"endlinecolor\":\"#2a3f5f\",\"gridcolor\":\"white\",\"linecolor\":\"white\",\"minorgridcolor\":\"white\",\"startlinecolor\":\"#2a3f5f\"},\"type\":\"carpet\"}],\"table\":[{\"cells\":{\"fill\":{\"color\":\"#EBF0F8\"},\"line\":{\"color\":\"white\"}},\"header\":{\"fill\":{\"color\":\"#C8D4E3\"},\"line\":{\"color\":\"white\"}},\"type\":\"table\"}],\"barpolar\":[{\"marker\":{\"line\":{\"color\":\"#E5ECF6\",\"width\":0.5},\"pattern\":{\"fillmode\":\"overlay\",\"size\":10,\"solidity\":0.2}},\"type\":\"barpolar\"}],\"pie\":[{\"automargin\":true,\"type\":\"pie\"}]},\"layout\":{\"autotypenumbers\":\"strict\",\"colorway\":[\"#636efa\",\"#EF553B\",\"#00cc96\",\"#ab63fa\",\"#FFA15A\",\"#19d3f3\",\"#FF6692\",\"#B6E880\",\"#FF97FF\",\"#FECB52\"],\"font\":{\"color\":\"#2a3f5f\"},\"hovermode\":\"closest\",\"hoverlabel\":{\"align\":\"left\"},\"paper_bgcolor\":\"white\",\"plot_bgcolor\":\"#E5ECF6\",\"polar\":{\"bgcolor\":\"#E5ECF6\",\"angularaxis\":{\"gridcolor\":\"white\",\"linecolor\":\"white\",\"ticks\":\"\"},\"radialaxis\":{\"gridcolor\":\"white\",\"linecolor\":\"white\",\"ticks\":\"\"}},\"ternary\":{\"bgcolor\":\"#E5ECF6\",\"aaxis\":{\"gridcolor\":\"white\",\"linecolor\":\"white\",\"ticks\":\"\"},\"baxis\":{\"gridcolor\":\"white\",\"linecolor\":\"white\",\"ticks\":\"\"},\"caxis\":{\"gridcolor\":\"white\",\"linecolor\":\"white\",\"ticks\":\"\"}},\"coloraxis\":{\"colorbar\":{\"outlinewidth\":0,\"ticks\":\"\"}},\"colorscale\":{\"sequential\":[[0.0,\"#0d0887\"],[0.1111111111111111,\"#46039f\"],[0.2222222222222222,\"#7201a8\"],[0.3333333333333333,\"#9c179e\"],[0.4444444444444444,\"#bd3786\"],[0.5555555555555556,\"#d8576b\"],[0.6666666666666666,\"#ed7953\"],[0.7777777777777778,\"#fb9f3a\"],[0.8888888888888888,\"#fdca26\"],[1.0,\"#f0f921\"]],\"sequentialminus\":[[0.0,\"#0d0887\"],[0.1111111111111111,\"#46039f\"],[0.2222222222222222,\"#7201a8\"],[0.3333333333333333,\"#9c179e\"],[0.4444444444444444,\"#bd3786\"],[0.5555555555555556,\"#d8576b\"],[0.6666666666666666,\"#ed7953\"],[0.7777777777777778,\"#fb9f3a\"],[0.8888888888888888,\"#fdca26\"],[1.0,\"#f0f921\"]],\"diverging\":[[0,\"#8e0152\"],[0.1,\"#c51b7d\"],[0.2,\"#de77ae\"],[0.3,\"#f1b6da\"],[0.4,\"#fde0ef\"],[0.5,\"#f7f7f7\"],[0.6,\"#e6f5d0\"],[0.7,\"#b8e186\"],[0.8,\"#7fbc41\"],[0.9,\"#4d9221\"],[1,\"#276419\"]]},\"xaxis\":{\"gridcolor\":\"white\",\"linecolor\":\"white\",\"ticks\":\"\",\"title\":{\"standoff\":15},\"zerolinecolor\":\"white\",\"automargin\":true,\"zerolinewidth\":2},\"yaxis\":{\"gridcolor\":\"white\",\"linecolor\":\"white\",\"ticks\":\"\",\"title\":{\"standoff\":15},\"zerolinecolor\":\"white\",\"automargin\":true,\"zerolinewidth\":2},\"scene\":{\"xaxis\":{\"backgroundcolor\":\"#E5ECF6\",\"gridcolor\":\"white\",\"linecolor\":\"white\",\"showbackground\":true,\"ticks\":\"\",\"zerolinecolor\":\"white\",\"gridwidth\":2},\"yaxis\":{\"backgroundcolor\":\"#E5ECF6\",\"gridcolor\":\"white\",\"linecolor\":\"white\",\"showbackground\":true,\"ticks\":\"\",\"zerolinecolor\":\"white\",\"gridwidth\":2},\"zaxis\":{\"backgroundcolor\":\"#E5ECF6\",\"gridcolor\":\"white\",\"linecolor\":\"white\",\"showbackground\":true,\"ticks\":\"\",\"zerolinecolor\":\"white\",\"gridwidth\":2}},\"shapedefaults\":{\"line\":{\"color\":\"#2a3f5f\"}},\"annotationdefaults\":{\"arrowcolor\":\"#2a3f5f\",\"arrowhead\":0,\"arrowwidth\":1},\"geo\":{\"bgcolor\":\"white\",\"landcolor\":\"#E5ECF6\",\"subunitcolor\":\"white\",\"showland\":true,\"showlakes\":true,\"lakecolor\":\"white\"},\"title\":{\"x\":0.05},\"mapbox\":{\"style\":\"light\"}}},\"xaxis\":{\"anchor\":\"y\",\"domain\":[0.0,1.0],\"title\":{\"text\":\"PC 3 (3.4%)\"}},\"yaxis\":{\"anchor\":\"x\",\"domain\":[0.0,1.0],\"title\":{\"text\":\"PC 4 (1.5%)\"}},\"legend\":{\"title\":{\"text\":\"color, symbol\"},\"tracegroupgap\":0},\"margin\":{\"t\":60},\"height\":600,\"width\":600,\"plot_bgcolor\":\"rgb(243,243,243)\"},                        {\"responsive\": true}                    ).then(function(){\n",
       "                            \n",
       "var gd = document.getElementById('c38a84b1-e1a5-4b40-af9e-ab46f11dfacb');\n",
       "var x = new MutationObserver(function (mutations, observer) {{\n",
       "        var display = window.getComputedStyle(gd).display;\n",
       "        if (!display || display === 'none') {{\n",
       "            console.log([gd, 'removed!']);\n",
       "            Plotly.purge(gd);\n",
       "            observer.disconnect();\n",
       "        }}\n",
       "}});\n",
       "\n",
       "// Listen for the removal of the full notebook cells\n",
       "var notebookContainer = gd.closest('#notebook-container');\n",
       "if (notebookContainer) {{\n",
       "    x.observe(notebookContainer, {childList: true});\n",
       "}}\n",
       "\n",
       "// Listen for the clearing of the current output cell\n",
       "var outputEl = gd.closest('.output');\n",
       "if (outputEl) {{\n",
       "    x.observe(outputEl, {childList: true});\n",
       "}}\n",
       "\n",
       "                        })                };                });            </script>        </div>"
      ]
     },
     "metadata": {},
     "output_type": "display_data"
    },
    {
     "data": {
      "application/vnd.plotly.v1+json": {
       "config": {
        "plotlyServerURL": "https://plot.ly"
       },
       "data": [
        {
         "hovertemplate": "color=A<br>symbol=Exon<br>2=%{x}<br>3=%{y}<extra></extra>",
         "legendgroup": "A, Exon",
         "marker": {
          "color": "#636efa",
          "size": 13,
          "symbol": "circle"
         },
         "mode": "markers",
         "name": "A, Exon",
         "orientation": "v",
         "showlegend": true,
         "type": "scatter",
         "x": [
          0.5625118712150113,
          0.42857818079177257,
          -0.49816346100391135,
          -0.2219351369926728,
          0.349201983404589,
          0.4312395598287203,
          0.1563125594319395,
          -0.11689209058695421,
          -0.6005298221659183,
          -0.7485028746602443,
          0.582607199276494,
          0.5943150826282889
         ],
         "xaxis": "x",
         "y": [
          -0.43200873629534553,
          0.7616303440372253,
          -0.28607014200749187,
          -0.30991112316184743,
          -0.024172655693618542,
          0.023579387376853094,
          0.009627500077216734,
          0.8024298514303457,
          0.3617637182301402,
          0.25945124677901316,
          -0.40044844822905407,
          -0.24072231064568148
         ],
         "yaxis": "y"
        },
        {
         "hovertemplate": "color=B<br>symbol=Exon<br>2=%{x}<br>3=%{y}<extra></extra>",
         "legendgroup": "B, Exon",
         "marker": {
          "color": "#EF553B",
          "size": 13,
          "symbol": "circle"
         },
         "mode": "markers",
         "name": "B, Exon",
         "orientation": "v",
         "showlegend": true,
         "type": "scatter",
         "x": [
          0.28216482658113956,
          -0.295956712622525,
          -0.12606265431096028,
          -0.35655885772221435,
          0.6001053693085469,
          0.5573021875887809,
          0.5873200598147124,
          -0.4844307206229881,
          -0.6514867365014916,
          -0.3866847163391188,
          0.8227821744910268,
          0.40617211528471253
         ],
         "xaxis": "x",
         "y": [
          0.3084833532824954,
          0.3800749972675852,
          0.3745718085721966,
          -0.7298845888582469,
          0.15401889799135904,
          0.06159955932839081,
          0.07993113815699762,
          -0.04348878636188273,
          -0.2436775020524037,
          0.08731214507278774,
          -0.518226175838106,
          -0.19687546735189007
         ],
         "yaxis": "y"
        },
        {
         "hovertemplate": "color=C<br>symbol=Exon<br>2=%{x}<br>3=%{y}<extra></extra>",
         "legendgroup": "C, Exon",
         "marker": {
          "color": "#00cc96",
          "size": 13,
          "symbol": "circle"
         },
         "mode": "markers",
         "name": "C, Exon",
         "orientation": "v",
         "showlegend": true,
         "type": "scatter",
         "x": [
          0.28330174257561386,
          0.0014507758126661476,
          -0.22774420384090147,
          -0.15062315722427955,
          0.6206351189307642,
          0.40872589431453815,
          0.584249350905505,
          -0.09700221387721486,
          -0.6446338269865498,
          -0.4457052344955101,
          -0.2655678304447758,
          0.4033509058885313
         ],
         "xaxis": "x",
         "y": [
          0.29022111689117197,
          0.18214426625103813,
          -0.3194532127564338,
          -0.4259214837944971,
          0.10333254385204384,
          0.09549151833773785,
          0.07456845359441733,
          0.31092718499971256,
          -0.08987202971820289,
          -0.10594265190668739,
          -0.15574553151333728,
          -0.06889610072098806
         ],
         "yaxis": "y"
        },
        {
         "hovertemplate": "color=D<br>symbol=Exon<br>2=%{x}<br>3=%{y}<extra></extra>",
         "legendgroup": "D, Exon",
         "marker": {
          "color": "#ab63fa",
          "size": 13,
          "symbol": "circle"
         },
         "mode": "markers",
         "name": "D, Exon",
         "orientation": "v",
         "showlegend": true,
         "type": "scatter",
         "x": [
          0.036546934148484984,
          -0.6476554340184908,
          -0.08152589747032708,
          -0.43143564206872437,
          0.19967517552353511,
          0.4558914823885054,
          -0.0772145012519519,
          -0.5696734393554641,
          -0.5526172420445444,
          -0.477611200353106,
          -0.32338309609095056,
          0.1251561529179243
         ],
         "xaxis": "x",
         "y": [
          0.20647330420641985,
          0.06733931416875683,
          -0.06621522190297963,
          -0.3917595273855716,
          -0.1534728248561941,
          0.08149205401717367,
          0.29461324237045405,
          0.02074212613548897,
          -0.12808705721571273,
          -0.023033999110214958,
          0.13225105215279345,
          -0.17018454720343476
         ],
         "yaxis": "y"
        }
       ],
       "layout": {
        "height": 600,
        "legend": {
         "title": {
          "text": "color, symbol"
         },
         "tracegroupgap": 0
        },
        "margin": {
         "t": 60
        },
        "plot_bgcolor": "rgb(243,243,243)",
        "template": {
         "data": {
          "bar": [
           {
            "error_x": {
             "color": "#2a3f5f"
            },
            "error_y": {
             "color": "#2a3f5f"
            },
            "marker": {
             "line": {
              "color": "#E5ECF6",
              "width": 0.5
             },
             "pattern": {
              "fillmode": "overlay",
              "size": 10,
              "solidity": 0.2
             }
            },
            "type": "bar"
           }
          ],
          "barpolar": [
           {
            "marker": {
             "line": {
              "color": "#E5ECF6",
              "width": 0.5
             },
             "pattern": {
              "fillmode": "overlay",
              "size": 10,
              "solidity": 0.2
             }
            },
            "type": "barpolar"
           }
          ],
          "carpet": [
           {
            "aaxis": {
             "endlinecolor": "#2a3f5f",
             "gridcolor": "white",
             "linecolor": "white",
             "minorgridcolor": "white",
             "startlinecolor": "#2a3f5f"
            },
            "baxis": {
             "endlinecolor": "#2a3f5f",
             "gridcolor": "white",
             "linecolor": "white",
             "minorgridcolor": "white",
             "startlinecolor": "#2a3f5f"
            },
            "type": "carpet"
           }
          ],
          "choropleth": [
           {
            "colorbar": {
             "outlinewidth": 0,
             "ticks": ""
            },
            "type": "choropleth"
           }
          ],
          "contour": [
           {
            "colorbar": {
             "outlinewidth": 0,
             "ticks": ""
            },
            "colorscale": [
             [
              0,
              "#0d0887"
             ],
             [
              0.1111111111111111,
              "#46039f"
             ],
             [
              0.2222222222222222,
              "#7201a8"
             ],
             [
              0.3333333333333333,
              "#9c179e"
             ],
             [
              0.4444444444444444,
              "#bd3786"
             ],
             [
              0.5555555555555556,
              "#d8576b"
             ],
             [
              0.6666666666666666,
              "#ed7953"
             ],
             [
              0.7777777777777778,
              "#fb9f3a"
             ],
             [
              0.8888888888888888,
              "#fdca26"
             ],
             [
              1,
              "#f0f921"
             ]
            ],
            "type": "contour"
           }
          ],
          "contourcarpet": [
           {
            "colorbar": {
             "outlinewidth": 0,
             "ticks": ""
            },
            "type": "contourcarpet"
           }
          ],
          "heatmap": [
           {
            "colorbar": {
             "outlinewidth": 0,
             "ticks": ""
            },
            "colorscale": [
             [
              0,
              "#0d0887"
             ],
             [
              0.1111111111111111,
              "#46039f"
             ],
             [
              0.2222222222222222,
              "#7201a8"
             ],
             [
              0.3333333333333333,
              "#9c179e"
             ],
             [
              0.4444444444444444,
              "#bd3786"
             ],
             [
              0.5555555555555556,
              "#d8576b"
             ],
             [
              0.6666666666666666,
              "#ed7953"
             ],
             [
              0.7777777777777778,
              "#fb9f3a"
             ],
             [
              0.8888888888888888,
              "#fdca26"
             ],
             [
              1,
              "#f0f921"
             ]
            ],
            "type": "heatmap"
           }
          ],
          "heatmapgl": [
           {
            "colorbar": {
             "outlinewidth": 0,
             "ticks": ""
            },
            "colorscale": [
             [
              0,
              "#0d0887"
             ],
             [
              0.1111111111111111,
              "#46039f"
             ],
             [
              0.2222222222222222,
              "#7201a8"
             ],
             [
              0.3333333333333333,
              "#9c179e"
             ],
             [
              0.4444444444444444,
              "#bd3786"
             ],
             [
              0.5555555555555556,
              "#d8576b"
             ],
             [
              0.6666666666666666,
              "#ed7953"
             ],
             [
              0.7777777777777778,
              "#fb9f3a"
             ],
             [
              0.8888888888888888,
              "#fdca26"
             ],
             [
              1,
              "#f0f921"
             ]
            ],
            "type": "heatmapgl"
           }
          ],
          "histogram": [
           {
            "marker": {
             "pattern": {
              "fillmode": "overlay",
              "size": 10,
              "solidity": 0.2
             }
            },
            "type": "histogram"
           }
          ],
          "histogram2d": [
           {
            "colorbar": {
             "outlinewidth": 0,
             "ticks": ""
            },
            "colorscale": [
             [
              0,
              "#0d0887"
             ],
             [
              0.1111111111111111,
              "#46039f"
             ],
             [
              0.2222222222222222,
              "#7201a8"
             ],
             [
              0.3333333333333333,
              "#9c179e"
             ],
             [
              0.4444444444444444,
              "#bd3786"
             ],
             [
              0.5555555555555556,
              "#d8576b"
             ],
             [
              0.6666666666666666,
              "#ed7953"
             ],
             [
              0.7777777777777778,
              "#fb9f3a"
             ],
             [
              0.8888888888888888,
              "#fdca26"
             ],
             [
              1,
              "#f0f921"
             ]
            ],
            "type": "histogram2d"
           }
          ],
          "histogram2dcontour": [
           {
            "colorbar": {
             "outlinewidth": 0,
             "ticks": ""
            },
            "colorscale": [
             [
              0,
              "#0d0887"
             ],
             [
              0.1111111111111111,
              "#46039f"
             ],
             [
              0.2222222222222222,
              "#7201a8"
             ],
             [
              0.3333333333333333,
              "#9c179e"
             ],
             [
              0.4444444444444444,
              "#bd3786"
             ],
             [
              0.5555555555555556,
              "#d8576b"
             ],
             [
              0.6666666666666666,
              "#ed7953"
             ],
             [
              0.7777777777777778,
              "#fb9f3a"
             ],
             [
              0.8888888888888888,
              "#fdca26"
             ],
             [
              1,
              "#f0f921"
             ]
            ],
            "type": "histogram2dcontour"
           }
          ],
          "mesh3d": [
           {
            "colorbar": {
             "outlinewidth": 0,
             "ticks": ""
            },
            "type": "mesh3d"
           }
          ],
          "parcoords": [
           {
            "line": {
             "colorbar": {
              "outlinewidth": 0,
              "ticks": ""
             }
            },
            "type": "parcoords"
           }
          ],
          "pie": [
           {
            "automargin": true,
            "type": "pie"
           }
          ],
          "scatter": [
           {
            "fillpattern": {
             "fillmode": "overlay",
             "size": 10,
             "solidity": 0.2
            },
            "type": "scatter"
           }
          ],
          "scatter3d": [
           {
            "line": {
             "colorbar": {
              "outlinewidth": 0,
              "ticks": ""
             }
            },
            "marker": {
             "colorbar": {
              "outlinewidth": 0,
              "ticks": ""
             }
            },
            "type": "scatter3d"
           }
          ],
          "scattercarpet": [
           {
            "marker": {
             "colorbar": {
              "outlinewidth": 0,
              "ticks": ""
             }
            },
            "type": "scattercarpet"
           }
          ],
          "scattergeo": [
           {
            "marker": {
             "colorbar": {
              "outlinewidth": 0,
              "ticks": ""
             }
            },
            "type": "scattergeo"
           }
          ],
          "scattergl": [
           {
            "marker": {
             "colorbar": {
              "outlinewidth": 0,
              "ticks": ""
             }
            },
            "type": "scattergl"
           }
          ],
          "scattermapbox": [
           {
            "marker": {
             "colorbar": {
              "outlinewidth": 0,
              "ticks": ""
             }
            },
            "type": "scattermapbox"
           }
          ],
          "scatterpolar": [
           {
            "marker": {
             "colorbar": {
              "outlinewidth": 0,
              "ticks": ""
             }
            },
            "type": "scatterpolar"
           }
          ],
          "scatterpolargl": [
           {
            "marker": {
             "colorbar": {
              "outlinewidth": 0,
              "ticks": ""
             }
            },
            "type": "scatterpolargl"
           }
          ],
          "scatterternary": [
           {
            "marker": {
             "colorbar": {
              "outlinewidth": 0,
              "ticks": ""
             }
            },
            "type": "scatterternary"
           }
          ],
          "surface": [
           {
            "colorbar": {
             "outlinewidth": 0,
             "ticks": ""
            },
            "colorscale": [
             [
              0,
              "#0d0887"
             ],
             [
              0.1111111111111111,
              "#46039f"
             ],
             [
              0.2222222222222222,
              "#7201a8"
             ],
             [
              0.3333333333333333,
              "#9c179e"
             ],
             [
              0.4444444444444444,
              "#bd3786"
             ],
             [
              0.5555555555555556,
              "#d8576b"
             ],
             [
              0.6666666666666666,
              "#ed7953"
             ],
             [
              0.7777777777777778,
              "#fb9f3a"
             ],
             [
              0.8888888888888888,
              "#fdca26"
             ],
             [
              1,
              "#f0f921"
             ]
            ],
            "type": "surface"
           }
          ],
          "table": [
           {
            "cells": {
             "fill": {
              "color": "#EBF0F8"
             },
             "line": {
              "color": "white"
             }
            },
            "header": {
             "fill": {
              "color": "#C8D4E3"
             },
             "line": {
              "color": "white"
             }
            },
            "type": "table"
           }
          ]
         },
         "layout": {
          "annotationdefaults": {
           "arrowcolor": "#2a3f5f",
           "arrowhead": 0,
           "arrowwidth": 1
          },
          "autotypenumbers": "strict",
          "coloraxis": {
           "colorbar": {
            "outlinewidth": 0,
            "ticks": ""
           }
          },
          "colorscale": {
           "diverging": [
            [
             0,
             "#8e0152"
            ],
            [
             0.1,
             "#c51b7d"
            ],
            [
             0.2,
             "#de77ae"
            ],
            [
             0.3,
             "#f1b6da"
            ],
            [
             0.4,
             "#fde0ef"
            ],
            [
             0.5,
             "#f7f7f7"
            ],
            [
             0.6,
             "#e6f5d0"
            ],
            [
             0.7,
             "#b8e186"
            ],
            [
             0.8,
             "#7fbc41"
            ],
            [
             0.9,
             "#4d9221"
            ],
            [
             1,
             "#276419"
            ]
           ],
           "sequential": [
            [
             0,
             "#0d0887"
            ],
            [
             0.1111111111111111,
             "#46039f"
            ],
            [
             0.2222222222222222,
             "#7201a8"
            ],
            [
             0.3333333333333333,
             "#9c179e"
            ],
            [
             0.4444444444444444,
             "#bd3786"
            ],
            [
             0.5555555555555556,
             "#d8576b"
            ],
            [
             0.6666666666666666,
             "#ed7953"
            ],
            [
             0.7777777777777778,
             "#fb9f3a"
            ],
            [
             0.8888888888888888,
             "#fdca26"
            ],
            [
             1,
             "#f0f921"
            ]
           ],
           "sequentialminus": [
            [
             0,
             "#0d0887"
            ],
            [
             0.1111111111111111,
             "#46039f"
            ],
            [
             0.2222222222222222,
             "#7201a8"
            ],
            [
             0.3333333333333333,
             "#9c179e"
            ],
            [
             0.4444444444444444,
             "#bd3786"
            ],
            [
             0.5555555555555556,
             "#d8576b"
            ],
            [
             0.6666666666666666,
             "#ed7953"
            ],
            [
             0.7777777777777778,
             "#fb9f3a"
            ],
            [
             0.8888888888888888,
             "#fdca26"
            ],
            [
             1,
             "#f0f921"
            ]
           ]
          },
          "colorway": [
           "#636efa",
           "#EF553B",
           "#00cc96",
           "#ab63fa",
           "#FFA15A",
           "#19d3f3",
           "#FF6692",
           "#B6E880",
           "#FF97FF",
           "#FECB52"
          ],
          "font": {
           "color": "#2a3f5f"
          },
          "geo": {
           "bgcolor": "white",
           "lakecolor": "white",
           "landcolor": "#E5ECF6",
           "showlakes": true,
           "showland": true,
           "subunitcolor": "white"
          },
          "hoverlabel": {
           "align": "left"
          },
          "hovermode": "closest",
          "mapbox": {
           "style": "light"
          },
          "paper_bgcolor": "white",
          "plot_bgcolor": "#E5ECF6",
          "polar": {
           "angularaxis": {
            "gridcolor": "white",
            "linecolor": "white",
            "ticks": ""
           },
           "bgcolor": "#E5ECF6",
           "radialaxis": {
            "gridcolor": "white",
            "linecolor": "white",
            "ticks": ""
           }
          },
          "scene": {
           "xaxis": {
            "backgroundcolor": "#E5ECF6",
            "gridcolor": "white",
            "gridwidth": 2,
            "linecolor": "white",
            "showbackground": true,
            "ticks": "",
            "zerolinecolor": "white"
           },
           "yaxis": {
            "backgroundcolor": "#E5ECF6",
            "gridcolor": "white",
            "gridwidth": 2,
            "linecolor": "white",
            "showbackground": true,
            "ticks": "",
            "zerolinecolor": "white"
           },
           "zaxis": {
            "backgroundcolor": "#E5ECF6",
            "gridcolor": "white",
            "gridwidth": 2,
            "linecolor": "white",
            "showbackground": true,
            "ticks": "",
            "zerolinecolor": "white"
           }
          },
          "shapedefaults": {
           "line": {
            "color": "#2a3f5f"
           }
          },
          "ternary": {
           "aaxis": {
            "gridcolor": "white",
            "linecolor": "white",
            "ticks": ""
           },
           "baxis": {
            "gridcolor": "white",
            "linecolor": "white",
            "ticks": ""
           },
           "bgcolor": "#E5ECF6",
           "caxis": {
            "gridcolor": "white",
            "linecolor": "white",
            "ticks": ""
           }
          },
          "title": {
           "x": 0.05
          },
          "xaxis": {
           "automargin": true,
           "gridcolor": "white",
           "linecolor": "white",
           "ticks": "",
           "title": {
            "standoff": 15
           },
           "zerolinecolor": "white",
           "zerolinewidth": 2
          },
          "yaxis": {
           "automargin": true,
           "gridcolor": "white",
           "linecolor": "white",
           "ticks": "",
           "title": {
            "standoff": 15
           },
           "zerolinecolor": "white",
           "zerolinewidth": 2
          }
         }
        },
        "width": 600,
        "xaxis": {
         "anchor": "y",
         "domain": [
          0,
          1
         ],
         "title": {
          "text": "PC 3 (3.4%)"
         }
        },
        "yaxis": {
         "anchor": "x",
         "domain": [
          0,
          1
         ],
         "title": {
          "text": "PC 4 (1.5%)"
         }
        }
       }
      },
      "text/html": [
       "<div>                            <div id=\"ccbe3668-67ad-4ac9-9271-b97758d0f7af\" class=\"plotly-graph-div\" style=\"height:600px; width:600px;\"></div>            <script type=\"text/javascript\">                require([\"plotly\"], function(Plotly) {                    window.PLOTLYENV=window.PLOTLYENV || {};                                    if (document.getElementById(\"ccbe3668-67ad-4ac9-9271-b97758d0f7af\")) {                    Plotly.newPlot(                        \"ccbe3668-67ad-4ac9-9271-b97758d0f7af\",                        [{\"hovertemplate\":\"color=A<br>symbol=Exon<br>2=%{x}<br>3=%{y}<extra></extra>\",\"legendgroup\":\"A, Exon\",\"marker\":{\"color\":\"#636efa\",\"symbol\":\"circle\",\"size\":13},\"mode\":\"markers\",\"name\":\"A, Exon\",\"orientation\":\"v\",\"showlegend\":true,\"x\":[0.5625118712150113,0.42857818079177257,-0.49816346100391135,-0.2219351369926728,0.349201983404589,0.4312395598287203,0.1563125594319395,-0.11689209058695421,-0.6005298221659183,-0.7485028746602443,0.582607199276494,0.5943150826282889],\"xaxis\":\"x\",\"y\":[-0.43200873629534553,0.7616303440372253,-0.28607014200749187,-0.30991112316184743,-0.024172655693618542,0.023579387376853094,0.009627500077216734,0.8024298514303457,0.3617637182301402,0.25945124677901316,-0.40044844822905407,-0.24072231064568148],\"yaxis\":\"y\",\"type\":\"scatter\"},{\"hovertemplate\":\"color=B<br>symbol=Exon<br>2=%{x}<br>3=%{y}<extra></extra>\",\"legendgroup\":\"B, Exon\",\"marker\":{\"color\":\"#EF553B\",\"symbol\":\"circle\",\"size\":13},\"mode\":\"markers\",\"name\":\"B, Exon\",\"orientation\":\"v\",\"showlegend\":true,\"x\":[0.28216482658113956,-0.295956712622525,-0.12606265431096028,-0.35655885772221435,0.6001053693085469,0.5573021875887809,0.5873200598147124,-0.4844307206229881,-0.6514867365014916,-0.3866847163391188,0.8227821744910268,0.40617211528471253],\"xaxis\":\"x\",\"y\":[0.3084833532824954,0.3800749972675852,0.3745718085721966,-0.7298845888582469,0.15401889799135904,0.06159955932839081,0.07993113815699762,-0.04348878636188273,-0.2436775020524037,0.08731214507278774,-0.518226175838106,-0.19687546735189007],\"yaxis\":\"y\",\"type\":\"scatter\"},{\"hovertemplate\":\"color=C<br>symbol=Exon<br>2=%{x}<br>3=%{y}<extra></extra>\",\"legendgroup\":\"C, Exon\",\"marker\":{\"color\":\"#00cc96\",\"symbol\":\"circle\",\"size\":13},\"mode\":\"markers\",\"name\":\"C, Exon\",\"orientation\":\"v\",\"showlegend\":true,\"x\":[0.28330174257561386,0.0014507758126661476,-0.22774420384090147,-0.15062315722427955,0.6206351189307642,0.40872589431453815,0.584249350905505,-0.09700221387721486,-0.6446338269865498,-0.4457052344955101,-0.2655678304447758,0.4033509058885313],\"xaxis\":\"x\",\"y\":[0.29022111689117197,0.18214426625103813,-0.3194532127564338,-0.4259214837944971,0.10333254385204384,0.09549151833773785,0.07456845359441733,0.31092718499971256,-0.08987202971820289,-0.10594265190668739,-0.15574553151333728,-0.06889610072098806],\"yaxis\":\"y\",\"type\":\"scatter\"},{\"hovertemplate\":\"color=D<br>symbol=Exon<br>2=%{x}<br>3=%{y}<extra></extra>\",\"legendgroup\":\"D, Exon\",\"marker\":{\"color\":\"#ab63fa\",\"symbol\":\"circle\",\"size\":13},\"mode\":\"markers\",\"name\":\"D, Exon\",\"orientation\":\"v\",\"showlegend\":true,\"x\":[0.036546934148484984,-0.6476554340184908,-0.08152589747032708,-0.43143564206872437,0.19967517552353511,0.4558914823885054,-0.0772145012519519,-0.5696734393554641,-0.5526172420445444,-0.477611200353106,-0.32338309609095056,0.1251561529179243],\"xaxis\":\"x\",\"y\":[0.20647330420641985,0.06733931416875683,-0.06621522190297963,-0.3917595273855716,-0.1534728248561941,0.08149205401717367,0.29461324237045405,0.02074212613548897,-0.12808705721571273,-0.023033999110214958,0.13225105215279345,-0.17018454720343476],\"yaxis\":\"y\",\"type\":\"scatter\"}],                        {\"template\":{\"data\":{\"histogram2dcontour\":[{\"type\":\"histogram2dcontour\",\"colorbar\":{\"outlinewidth\":0,\"ticks\":\"\"},\"colorscale\":[[0.0,\"#0d0887\"],[0.1111111111111111,\"#46039f\"],[0.2222222222222222,\"#7201a8\"],[0.3333333333333333,\"#9c179e\"],[0.4444444444444444,\"#bd3786\"],[0.5555555555555556,\"#d8576b\"],[0.6666666666666666,\"#ed7953\"],[0.7777777777777778,\"#fb9f3a\"],[0.8888888888888888,\"#fdca26\"],[1.0,\"#f0f921\"]]}],\"choropleth\":[{\"type\":\"choropleth\",\"colorbar\":{\"outlinewidth\":0,\"ticks\":\"\"}}],\"histogram2d\":[{\"type\":\"histogram2d\",\"colorbar\":{\"outlinewidth\":0,\"ticks\":\"\"},\"colorscale\":[[0.0,\"#0d0887\"],[0.1111111111111111,\"#46039f\"],[0.2222222222222222,\"#7201a8\"],[0.3333333333333333,\"#9c179e\"],[0.4444444444444444,\"#bd3786\"],[0.5555555555555556,\"#d8576b\"],[0.6666666666666666,\"#ed7953\"],[0.7777777777777778,\"#fb9f3a\"],[0.8888888888888888,\"#fdca26\"],[1.0,\"#f0f921\"]]}],\"heatmap\":[{\"type\":\"heatmap\",\"colorbar\":{\"outlinewidth\":0,\"ticks\":\"\"},\"colorscale\":[[0.0,\"#0d0887\"],[0.1111111111111111,\"#46039f\"],[0.2222222222222222,\"#7201a8\"],[0.3333333333333333,\"#9c179e\"],[0.4444444444444444,\"#bd3786\"],[0.5555555555555556,\"#d8576b\"],[0.6666666666666666,\"#ed7953\"],[0.7777777777777778,\"#fb9f3a\"],[0.8888888888888888,\"#fdca26\"],[1.0,\"#f0f921\"]]}],\"heatmapgl\":[{\"type\":\"heatmapgl\",\"colorbar\":{\"outlinewidth\":0,\"ticks\":\"\"},\"colorscale\":[[0.0,\"#0d0887\"],[0.1111111111111111,\"#46039f\"],[0.2222222222222222,\"#7201a8\"],[0.3333333333333333,\"#9c179e\"],[0.4444444444444444,\"#bd3786\"],[0.5555555555555556,\"#d8576b\"],[0.6666666666666666,\"#ed7953\"],[0.7777777777777778,\"#fb9f3a\"],[0.8888888888888888,\"#fdca26\"],[1.0,\"#f0f921\"]]}],\"contourcarpet\":[{\"type\":\"contourcarpet\",\"colorbar\":{\"outlinewidth\":0,\"ticks\":\"\"}}],\"contour\":[{\"type\":\"contour\",\"colorbar\":{\"outlinewidth\":0,\"ticks\":\"\"},\"colorscale\":[[0.0,\"#0d0887\"],[0.1111111111111111,\"#46039f\"],[0.2222222222222222,\"#7201a8\"],[0.3333333333333333,\"#9c179e\"],[0.4444444444444444,\"#bd3786\"],[0.5555555555555556,\"#d8576b\"],[0.6666666666666666,\"#ed7953\"],[0.7777777777777778,\"#fb9f3a\"],[0.8888888888888888,\"#fdca26\"],[1.0,\"#f0f921\"]]}],\"surface\":[{\"type\":\"surface\",\"colorbar\":{\"outlinewidth\":0,\"ticks\":\"\"},\"colorscale\":[[0.0,\"#0d0887\"],[0.1111111111111111,\"#46039f\"],[0.2222222222222222,\"#7201a8\"],[0.3333333333333333,\"#9c179e\"],[0.4444444444444444,\"#bd3786\"],[0.5555555555555556,\"#d8576b\"],[0.6666666666666666,\"#ed7953\"],[0.7777777777777778,\"#fb9f3a\"],[0.8888888888888888,\"#fdca26\"],[1.0,\"#f0f921\"]]}],\"mesh3d\":[{\"type\":\"mesh3d\",\"colorbar\":{\"outlinewidth\":0,\"ticks\":\"\"}}],\"scatter\":[{\"fillpattern\":{\"fillmode\":\"overlay\",\"size\":10,\"solidity\":0.2},\"type\":\"scatter\"}],\"parcoords\":[{\"type\":\"parcoords\",\"line\":{\"colorbar\":{\"outlinewidth\":0,\"ticks\":\"\"}}}],\"scatterpolargl\":[{\"type\":\"scatterpolargl\",\"marker\":{\"colorbar\":{\"outlinewidth\":0,\"ticks\":\"\"}}}],\"bar\":[{\"error_x\":{\"color\":\"#2a3f5f\"},\"error_y\":{\"color\":\"#2a3f5f\"},\"marker\":{\"line\":{\"color\":\"#E5ECF6\",\"width\":0.5},\"pattern\":{\"fillmode\":\"overlay\",\"size\":10,\"solidity\":0.2}},\"type\":\"bar\"}],\"scattergeo\":[{\"type\":\"scattergeo\",\"marker\":{\"colorbar\":{\"outlinewidth\":0,\"ticks\":\"\"}}}],\"scatterpolar\":[{\"type\":\"scatterpolar\",\"marker\":{\"colorbar\":{\"outlinewidth\":0,\"ticks\":\"\"}}}],\"histogram\":[{\"marker\":{\"pattern\":{\"fillmode\":\"overlay\",\"size\":10,\"solidity\":0.2}},\"type\":\"histogram\"}],\"scattergl\":[{\"type\":\"scattergl\",\"marker\":{\"colorbar\":{\"outlinewidth\":0,\"ticks\":\"\"}}}],\"scatter3d\":[{\"type\":\"scatter3d\",\"line\":{\"colorbar\":{\"outlinewidth\":0,\"ticks\":\"\"}},\"marker\":{\"colorbar\":{\"outlinewidth\":0,\"ticks\":\"\"}}}],\"scattermapbox\":[{\"type\":\"scattermapbox\",\"marker\":{\"colorbar\":{\"outlinewidth\":0,\"ticks\":\"\"}}}],\"scatterternary\":[{\"type\":\"scatterternary\",\"marker\":{\"colorbar\":{\"outlinewidth\":0,\"ticks\":\"\"}}}],\"scattercarpet\":[{\"type\":\"scattercarpet\",\"marker\":{\"colorbar\":{\"outlinewidth\":0,\"ticks\":\"\"}}}],\"carpet\":[{\"aaxis\":{\"endlinecolor\":\"#2a3f5f\",\"gridcolor\":\"white\",\"linecolor\":\"white\",\"minorgridcolor\":\"white\",\"startlinecolor\":\"#2a3f5f\"},\"baxis\":{\"endlinecolor\":\"#2a3f5f\",\"gridcolor\":\"white\",\"linecolor\":\"white\",\"minorgridcolor\":\"white\",\"startlinecolor\":\"#2a3f5f\"},\"type\":\"carpet\"}],\"table\":[{\"cells\":{\"fill\":{\"color\":\"#EBF0F8\"},\"line\":{\"color\":\"white\"}},\"header\":{\"fill\":{\"color\":\"#C8D4E3\"},\"line\":{\"color\":\"white\"}},\"type\":\"table\"}],\"barpolar\":[{\"marker\":{\"line\":{\"color\":\"#E5ECF6\",\"width\":0.5},\"pattern\":{\"fillmode\":\"overlay\",\"size\":10,\"solidity\":0.2}},\"type\":\"barpolar\"}],\"pie\":[{\"automargin\":true,\"type\":\"pie\"}]},\"layout\":{\"autotypenumbers\":\"strict\",\"colorway\":[\"#636efa\",\"#EF553B\",\"#00cc96\",\"#ab63fa\",\"#FFA15A\",\"#19d3f3\",\"#FF6692\",\"#B6E880\",\"#FF97FF\",\"#FECB52\"],\"font\":{\"color\":\"#2a3f5f\"},\"hovermode\":\"closest\",\"hoverlabel\":{\"align\":\"left\"},\"paper_bgcolor\":\"white\",\"plot_bgcolor\":\"#E5ECF6\",\"polar\":{\"bgcolor\":\"#E5ECF6\",\"angularaxis\":{\"gridcolor\":\"white\",\"linecolor\":\"white\",\"ticks\":\"\"},\"radialaxis\":{\"gridcolor\":\"white\",\"linecolor\":\"white\",\"ticks\":\"\"}},\"ternary\":{\"bgcolor\":\"#E5ECF6\",\"aaxis\":{\"gridcolor\":\"white\",\"linecolor\":\"white\",\"ticks\":\"\"},\"baxis\":{\"gridcolor\":\"white\",\"linecolor\":\"white\",\"ticks\":\"\"},\"caxis\":{\"gridcolor\":\"white\",\"linecolor\":\"white\",\"ticks\":\"\"}},\"coloraxis\":{\"colorbar\":{\"outlinewidth\":0,\"ticks\":\"\"}},\"colorscale\":{\"sequential\":[[0.0,\"#0d0887\"],[0.1111111111111111,\"#46039f\"],[0.2222222222222222,\"#7201a8\"],[0.3333333333333333,\"#9c179e\"],[0.4444444444444444,\"#bd3786\"],[0.5555555555555556,\"#d8576b\"],[0.6666666666666666,\"#ed7953\"],[0.7777777777777778,\"#fb9f3a\"],[0.8888888888888888,\"#fdca26\"],[1.0,\"#f0f921\"]],\"sequentialminus\":[[0.0,\"#0d0887\"],[0.1111111111111111,\"#46039f\"],[0.2222222222222222,\"#7201a8\"],[0.3333333333333333,\"#9c179e\"],[0.4444444444444444,\"#bd3786\"],[0.5555555555555556,\"#d8576b\"],[0.6666666666666666,\"#ed7953\"],[0.7777777777777778,\"#fb9f3a\"],[0.8888888888888888,\"#fdca26\"],[1.0,\"#f0f921\"]],\"diverging\":[[0,\"#8e0152\"],[0.1,\"#c51b7d\"],[0.2,\"#de77ae\"],[0.3,\"#f1b6da\"],[0.4,\"#fde0ef\"],[0.5,\"#f7f7f7\"],[0.6,\"#e6f5d0\"],[0.7,\"#b8e186\"],[0.8,\"#7fbc41\"],[0.9,\"#4d9221\"],[1,\"#276419\"]]},\"xaxis\":{\"gridcolor\":\"white\",\"linecolor\":\"white\",\"ticks\":\"\",\"title\":{\"standoff\":15},\"zerolinecolor\":\"white\",\"automargin\":true,\"zerolinewidth\":2},\"yaxis\":{\"gridcolor\":\"white\",\"linecolor\":\"white\",\"ticks\":\"\",\"title\":{\"standoff\":15},\"zerolinecolor\":\"white\",\"automargin\":true,\"zerolinewidth\":2},\"scene\":{\"xaxis\":{\"backgroundcolor\":\"#E5ECF6\",\"gridcolor\":\"white\",\"linecolor\":\"white\",\"showbackground\":true,\"ticks\":\"\",\"zerolinecolor\":\"white\",\"gridwidth\":2},\"yaxis\":{\"backgroundcolor\":\"#E5ECF6\",\"gridcolor\":\"white\",\"linecolor\":\"white\",\"showbackground\":true,\"ticks\":\"\",\"zerolinecolor\":\"white\",\"gridwidth\":2},\"zaxis\":{\"backgroundcolor\":\"#E5ECF6\",\"gridcolor\":\"white\",\"linecolor\":\"white\",\"showbackground\":true,\"ticks\":\"\",\"zerolinecolor\":\"white\",\"gridwidth\":2}},\"shapedefaults\":{\"line\":{\"color\":\"#2a3f5f\"}},\"annotationdefaults\":{\"arrowcolor\":\"#2a3f5f\",\"arrowhead\":0,\"arrowwidth\":1},\"geo\":{\"bgcolor\":\"white\",\"landcolor\":\"#E5ECF6\",\"subunitcolor\":\"white\",\"showland\":true,\"showlakes\":true,\"lakecolor\":\"white\"},\"title\":{\"x\":0.05},\"mapbox\":{\"style\":\"light\"}}},\"xaxis\":{\"anchor\":\"y\",\"domain\":[0.0,1.0],\"title\":{\"text\":\"PC 3 (3.4%)\"}},\"yaxis\":{\"anchor\":\"x\",\"domain\":[0.0,1.0],\"title\":{\"text\":\"PC 4 (1.5%)\"}},\"legend\":{\"title\":{\"text\":\"color, symbol\"},\"tracegroupgap\":0},\"margin\":{\"t\":60},\"height\":600,\"width\":600,\"plot_bgcolor\":\"rgb(243,243,243)\"},                        {\"responsive\": true}                    ).then(function(){\n",
       "                            \n",
       "var gd = document.getElementById('ccbe3668-67ad-4ac9-9271-b97758d0f7af');\n",
       "var x = new MutationObserver(function (mutations, observer) {{\n",
       "        var display = window.getComputedStyle(gd).display;\n",
       "        if (!display || display === 'none') {{\n",
       "            console.log([gd, 'removed!']);\n",
       "            Plotly.purge(gd);\n",
       "            observer.disconnect();\n",
       "        }}\n",
       "}});\n",
       "\n",
       "// Listen for the removal of the full notebook cells\n",
       "var notebookContainer = gd.closest('#notebook-container');\n",
       "if (notebookContainer) {{\n",
       "    x.observe(notebookContainer, {childList: true});\n",
       "}}\n",
       "\n",
       "// Listen for the clearing of the current output cell\n",
       "var outputEl = gd.closest('.output');\n",
       "if (outputEl) {{\n",
       "    x.observe(outputEl, {childList: true});\n",
       "}}\n",
       "\n",
       "                        })                };                });            </script>        </div>"
      ]
     },
     "metadata": {},
     "output_type": "display_data"
    }
   ],
   "source": [
    "#Perform the PCA on exons\n",
    "pca_exons = run_PCA(dat_exons, x_1=1, x_2=2, col='time', shape='condition', scale_d=True, log=False);\n",
    "run_PCA(dat_exons, x_1=1, x_2=2, col='replicate', shape='feature', scale_d=True, log=False);\n",
    "\n",
    "run_PCA(dat_exons, x_1=2, x_2=3, col='time', shape='condition', scale_d=True, log=False);\n",
    "run_PCA(dat_exons, x_1=2, x_2=3, col='replicate', shape='feature', scale_d=True, log=False);\n",
    "\n",
    "run_PCA(dat_exons, x_1=3, x_2=4, col='time', shape='condition', scale_d=True, log=False);\n",
    "run_PCA(dat_exons, x_1=3, x_2=4, col='replicate', shape='feature', scale_d=True, log=False);"
   ]
  },
  {
   "cell_type": "code",
   "execution_count": 91,
   "id": "81071eba",
   "metadata": {},
   "outputs": [
    {
     "data": {
      "application/vnd.plotly.v1+json": {
       "config": {
        "plotlyServerURL": "https://plot.ly"
       },
       "data": [
        {
         "hovertemplate": "color=00<br>symbol=WT<br>0=%{x}<br>1=%{y}<extra></extra>",
         "legendgroup": "00, WT",
         "marker": {
          "color": "#636efa",
          "size": 13,
          "symbol": "circle"
         },
         "mode": "markers",
         "name": "00, WT",
         "orientation": "v",
         "showlegend": true,
         "type": "scatter",
         "x": [
          3.139468831210143,
          2.4096567967043963,
          0.9400777330571333,
          0.5529273146877808,
          3.4486702348781932,
          3.2908986373266065,
          3.108578549781031,
          2.7820181541279103
         ],
         "xaxis": "x",
         "y": [
          0.9338208057473384,
          2.3147239008942107,
          3.394936197015489,
          3.435388997483651,
          0.5358111570199036,
          0.9164821375236152,
          1.8014721872590633,
          1.9851787102487
         ],
         "yaxis": "y"
        },
        {
         "hovertemplate": "color=02<br>symbol=WT<br>0=%{x}<br>1=%{y}<extra></extra>",
         "legendgroup": "02, WT",
         "marker": {
          "color": "#EF553B",
          "size": 13,
          "symbol": "circle"
         },
         "mode": "markers",
         "name": "02, WT",
         "orientation": "v",
         "showlegend": true,
         "type": "scatter",
         "x": [
          -0.4158109674792232,
          -1.9199688461422786,
          -1.5743708377454226,
          -2.0539738569136063,
          2.877111774099904,
          1.6181101456589235,
          1.7611686761732257,
          1.4417221598215855
         ],
         "xaxis": "x",
         "y": [
          3.146919992069909,
          1.1435698432792263,
          2.6762604169437316,
          1.758023738931877,
          2.016636913216894,
          2.3905915088374683,
          2.714084586531341,
          2.0644551089616625
         ],
         "yaxis": "y"
        },
        {
         "hovertemplate": "color=04<br>symbol=WT<br>0=%{x}<br>1=%{y}<extra></extra>",
         "legendgroup": "04, WT",
         "marker": {
          "color": "#00cc96",
          "size": 13,
          "symbol": "circle"
         },
         "mode": "markers",
         "name": "04, WT",
         "orientation": "v",
         "showlegend": true,
         "type": "scatter",
         "x": [
          -2.164514762937479,
          -1.0262658874422241,
          -2.775466445646567,
          -1.2580180180782348,
          0.7440716278666832,
          1.8569426229618355,
          -1.3037431365477359,
          1.9304588827778075
         ],
         "xaxis": "x",
         "y": [
          1.9357239323776905,
          2.916261991320024,
          0.9043395315690852,
          2.4787821333792044,
          2.442668056792678,
          2.5910200018699405,
          1.055537992977617,
          2.5363769879575453
         ],
         "yaxis": "y"
        },
        {
         "hovertemplate": "color=06<br>symbol=WT<br>0=%{x}<br>1=%{y}<extra></extra>",
         "legendgroup": "06, WT",
         "marker": {
          "color": "#ab63fa",
          "size": 13,
          "symbol": "circle"
         },
         "mode": "markers",
         "name": "06, WT",
         "orientation": "v",
         "showlegend": true,
         "type": "scatter",
         "x": [
          -2.7451537549473977,
          -2.6829929205191814,
          -2.842524547637593,
          -2.6783946569513883,
          -1.2175103495037332,
          -0.9067271175918578,
          -1.410563543424996,
          -1.07437736693362
         ],
         "xaxis": "x",
         "y": [
          1.0159646961914681,
          1.0066010227301574,
          0.6415673828826396,
          1.0056254514850482,
          1.5237931526169364,
          1.6979190211715622,
          0.9207138745763037,
          1.3944837956632958
         ],
         "yaxis": "y"
        },
        {
         "hovertemplate": "color=08<br>symbol=WT<br>0=%{x}<br>1=%{y}<extra></extra>",
         "legendgroup": "08, WT",
         "marker": {
          "color": "#FFA15A",
          "size": 13,
          "symbol": "circle"
         },
         "mode": "markers",
         "name": "08, WT",
         "orientation": "v",
         "showlegend": true,
         "type": "scatter",
         "x": [
          -2.871667620753836,
          -2.6694228716452195,
          -2.711266034839194,
          -2.9347661291814306,
          -1.7720637504522156,
          -1.863643289817785,
          -1.8491180602285515,
          -1.8581961654267072
         ],
         "xaxis": "x",
         "y": [
          0.2412630550293468,
          -0.6737891453790422,
          -0.5210136385574916,
          0.3117645166841322,
          0.2124927866909282,
          -0.4983342698569592,
          -0.41572244223502763,
          0.5906499509211435
         ],
         "yaxis": "y"
        },
        {
         "hovertemplate": "color=10<br>symbol=WT<br>0=%{x}<br>1=%{y}<extra></extra>",
         "legendgroup": "10, WT",
         "marker": {
          "color": "#19d3f3",
          "size": 13,
          "symbol": "circle"
         },
         "mode": "markers",
         "name": "10, WT",
         "orientation": "v",
         "showlegend": true,
         "type": "scatter",
         "x": [
          -2.7592529994864186,
          -2.8491051058863777,
          -2.5023858475017677,
          -2.8706397454773436,
          -1.8239948711288763,
          -1.951410731710397,
          -1.4562783029587143,
          -1.9016904030592165
         ],
         "xaxis": "x",
         "y": [
          -0.27730931794635355,
          -0.2402592457477616,
          -0.8869833503775059,
          -0.3067145218869309,
          -0.1627713329672777,
          -0.3281857758573428,
          -0.9339856996480593,
          -0.2550396604827015
         ],
         "yaxis": "y"
        },
        {
         "hovertemplate": "color=12<br>symbol=WT<br>0=%{x}<br>1=%{y}<extra></extra>",
         "legendgroup": "12, WT",
         "marker": {
          "color": "#FF6692",
          "size": 13,
          "symbol": "circle"
         },
         "mode": "markers",
         "name": "12, WT",
         "orientation": "v",
         "showlegend": true,
         "type": "scatter",
         "x": [
          -2.159636069823674,
          -2.4076571963631666,
          -2.500242365633226,
          -2.1680465693434527,
          -1.1481228450087944,
          -1.6046001819596374,
          -1.643241966838585,
          -0.8017143730313133
         ],
         "xaxis": "x",
         "y": [
          -1.183312045427898,
          -1.0252316961163632,
          -0.9662421235660628,
          -1.1176251044141212,
          -0.9472602311027467,
          -0.975666094690166,
          -0.8054500537729764,
          -0.9870720178437262
         ],
         "yaxis": "y"
        },
        {
         "hovertemplate": "color=14<br>symbol=WT<br>0=%{x}<br>1=%{y}<extra></extra>",
         "legendgroup": "14, WT",
         "marker": {
          "color": "#B6E880",
          "size": 13,
          "symbol": "circle"
         },
         "mode": "markers",
         "name": "14, WT",
         "orientation": "v",
         "showlegend": true,
         "type": "scatter",
         "x": [
          -1.8707904236496529,
          -0.5740252891191248,
          -2.0013733160267595,
          -1.0900950543052061,
          -0.35329003125688163,
          0.3339057516870727,
          -0.7144916648854222,
          0.2939799746666011
         ],
         "xaxis": "x",
         "y": [
          -1.0436902077459806,
          -1.7510701218415736,
          -1.0992323898444958,
          -1.3299189345564602,
          -1.0693332113022496,
          -1.2503252654488783,
          -0.9892176468918458,
          -1.1521042943417623
         ],
         "yaxis": "y"
        },
        {
         "hovertemplate": "color=16<br>symbol=WT<br>0=%{x}<br>1=%{y}<extra></extra>",
         "legendgroup": "16, WT",
         "marker": {
          "color": "#FF97FF",
          "size": 13,
          "symbol": "circle"
         },
         "mode": "markers",
         "name": "16, WT",
         "orientation": "v",
         "showlegend": true,
         "type": "scatter",
         "x": [
          -0.5989880052934549,
          0.19747843528258352,
          -0.1456694029021436,
          -0.36713162484826495,
          0.384895379383665,
          1.1225174725152243,
          0.8822155365815927,
          0.44140252013571907
         ],
         "xaxis": "x",
         "y": [
          -1.8008919889024435,
          -1.610936146173276,
          -1.7850133140459443,
          -1.7905247750815718,
          -1.1141141158453451,
          -1.075648969779396,
          -1.1253497628182634,
          -1.0421394848582546
         ],
         "yaxis": "y"
        },
        {
         "hovertemplate": "color=18<br>symbol=WT<br>0=%{x}<br>1=%{y}<extra></extra>",
         "legendgroup": "18, WT",
         "marker": {
          "color": "#FECB52",
          "size": 13,
          "symbol": "circle"
         },
         "mode": "markers",
         "name": "18, WT",
         "orientation": "v",
         "showlegend": true,
         "type": "scatter",
         "x": [
          -0.24476574922906263,
          1.6568903971290811,
          1.5062703091112168,
          0.8491267012396031,
          1.010809962495503,
          1.8059210185665857,
          1.7942507257109255,
          1.3856862545627409
         ],
         "xaxis": "x",
         "y": [
          -1.9902083266931663,
          -1.9522410555538867,
          -1.7730149279396197,
          -1.9593216635293056,
          -0.9770828604639302,
          -1.3300548670068262,
          -1.1758225044501838,
          -1.278976729561046
         ],
         "yaxis": "y"
        },
        {
         "hovertemplate": "color=20<br>symbol=WT<br>0=%{x}<br>1=%{y}<extra></extra>",
         "legendgroup": "20, WT",
         "marker": {
          "color": "#636efa",
          "size": 13,
          "symbol": "circle"
         },
         "mode": "markers",
         "name": "20, WT",
         "orientation": "v",
         "showlegend": true,
         "type": "scatter",
         "x": [
          2.5520520847501653,
          3.062931922212817,
          1.2542841153018993,
          1.1768864020324896,
          3.1939704362138523,
          3.2826045643908044,
          2.3128997468930237,
          2.1395577239207926
         ],
         "xaxis": "x",
         "y": [
          -1.2267376314804779,
          -1.1639967965661564,
          -2.004151993590083,
          -1.8364516282180297,
          -0.8625220988310626,
          -0.9572077839933525,
          -0.9899965361541804,
          -1.0798153133422923
         ],
         "yaxis": "y"
        },
        {
         "hovertemplate": "color=22<br>symbol=WT<br>0=%{x}<br>1=%{y}<extra></extra>",
         "legendgroup": "22, WT",
         "marker": {
          "color": "#EF553B",
          "size": 13,
          "symbol": "circle"
         },
         "mode": "markers",
         "name": "22, WT",
         "orientation": "v",
         "showlegend": true,
         "type": "scatter",
         "x": [
          3.3395964813407217,
          3.450346461155349,
          2.7910462601087467,
          2.2501973641411386,
          3.458338529322877,
          3.301685950478966,
          3.002465727880305,
          2.953064725169201
         ],
         "xaxis": "x",
         "y": [
          0.024211547277230308,
          -0.290919790638993,
          -1.3264189382415688,
          -0.7436073654329041,
          -0.019765337850230505,
          0.09616250932080908,
          -0.8101056224484938,
          -0.4863814241088203
         ],
         "yaxis": "y"
        }
       ],
       "layout": {
        "height": 600,
        "legend": {
         "title": {
          "text": "color, symbol"
         },
         "tracegroupgap": 0
        },
        "margin": {
         "t": 60
        },
        "plot_bgcolor": "rgb(243,243,243)",
        "template": {
         "data": {
          "bar": [
           {
            "error_x": {
             "color": "#2a3f5f"
            },
            "error_y": {
             "color": "#2a3f5f"
            },
            "marker": {
             "line": {
              "color": "#E5ECF6",
              "width": 0.5
             },
             "pattern": {
              "fillmode": "overlay",
              "size": 10,
              "solidity": 0.2
             }
            },
            "type": "bar"
           }
          ],
          "barpolar": [
           {
            "marker": {
             "line": {
              "color": "#E5ECF6",
              "width": 0.5
             },
             "pattern": {
              "fillmode": "overlay",
              "size": 10,
              "solidity": 0.2
             }
            },
            "type": "barpolar"
           }
          ],
          "carpet": [
           {
            "aaxis": {
             "endlinecolor": "#2a3f5f",
             "gridcolor": "white",
             "linecolor": "white",
             "minorgridcolor": "white",
             "startlinecolor": "#2a3f5f"
            },
            "baxis": {
             "endlinecolor": "#2a3f5f",
             "gridcolor": "white",
             "linecolor": "white",
             "minorgridcolor": "white",
             "startlinecolor": "#2a3f5f"
            },
            "type": "carpet"
           }
          ],
          "choropleth": [
           {
            "colorbar": {
             "outlinewidth": 0,
             "ticks": ""
            },
            "type": "choropleth"
           }
          ],
          "contour": [
           {
            "colorbar": {
             "outlinewidth": 0,
             "ticks": ""
            },
            "colorscale": [
             [
              0,
              "#0d0887"
             ],
             [
              0.1111111111111111,
              "#46039f"
             ],
             [
              0.2222222222222222,
              "#7201a8"
             ],
             [
              0.3333333333333333,
              "#9c179e"
             ],
             [
              0.4444444444444444,
              "#bd3786"
             ],
             [
              0.5555555555555556,
              "#d8576b"
             ],
             [
              0.6666666666666666,
              "#ed7953"
             ],
             [
              0.7777777777777778,
              "#fb9f3a"
             ],
             [
              0.8888888888888888,
              "#fdca26"
             ],
             [
              1,
              "#f0f921"
             ]
            ],
            "type": "contour"
           }
          ],
          "contourcarpet": [
           {
            "colorbar": {
             "outlinewidth": 0,
             "ticks": ""
            },
            "type": "contourcarpet"
           }
          ],
          "heatmap": [
           {
            "colorbar": {
             "outlinewidth": 0,
             "ticks": ""
            },
            "colorscale": [
             [
              0,
              "#0d0887"
             ],
             [
              0.1111111111111111,
              "#46039f"
             ],
             [
              0.2222222222222222,
              "#7201a8"
             ],
             [
              0.3333333333333333,
              "#9c179e"
             ],
             [
              0.4444444444444444,
              "#bd3786"
             ],
             [
              0.5555555555555556,
              "#d8576b"
             ],
             [
              0.6666666666666666,
              "#ed7953"
             ],
             [
              0.7777777777777778,
              "#fb9f3a"
             ],
             [
              0.8888888888888888,
              "#fdca26"
             ],
             [
              1,
              "#f0f921"
             ]
            ],
            "type": "heatmap"
           }
          ],
          "heatmapgl": [
           {
            "colorbar": {
             "outlinewidth": 0,
             "ticks": ""
            },
            "colorscale": [
             [
              0,
              "#0d0887"
             ],
             [
              0.1111111111111111,
              "#46039f"
             ],
             [
              0.2222222222222222,
              "#7201a8"
             ],
             [
              0.3333333333333333,
              "#9c179e"
             ],
             [
              0.4444444444444444,
              "#bd3786"
             ],
             [
              0.5555555555555556,
              "#d8576b"
             ],
             [
              0.6666666666666666,
              "#ed7953"
             ],
             [
              0.7777777777777778,
              "#fb9f3a"
             ],
             [
              0.8888888888888888,
              "#fdca26"
             ],
             [
              1,
              "#f0f921"
             ]
            ],
            "type": "heatmapgl"
           }
          ],
          "histogram": [
           {
            "marker": {
             "pattern": {
              "fillmode": "overlay",
              "size": 10,
              "solidity": 0.2
             }
            },
            "type": "histogram"
           }
          ],
          "histogram2d": [
           {
            "colorbar": {
             "outlinewidth": 0,
             "ticks": ""
            },
            "colorscale": [
             [
              0,
              "#0d0887"
             ],
             [
              0.1111111111111111,
              "#46039f"
             ],
             [
              0.2222222222222222,
              "#7201a8"
             ],
             [
              0.3333333333333333,
              "#9c179e"
             ],
             [
              0.4444444444444444,
              "#bd3786"
             ],
             [
              0.5555555555555556,
              "#d8576b"
             ],
             [
              0.6666666666666666,
              "#ed7953"
             ],
             [
              0.7777777777777778,
              "#fb9f3a"
             ],
             [
              0.8888888888888888,
              "#fdca26"
             ],
             [
              1,
              "#f0f921"
             ]
            ],
            "type": "histogram2d"
           }
          ],
          "histogram2dcontour": [
           {
            "colorbar": {
             "outlinewidth": 0,
             "ticks": ""
            },
            "colorscale": [
             [
              0,
              "#0d0887"
             ],
             [
              0.1111111111111111,
              "#46039f"
             ],
             [
              0.2222222222222222,
              "#7201a8"
             ],
             [
              0.3333333333333333,
              "#9c179e"
             ],
             [
              0.4444444444444444,
              "#bd3786"
             ],
             [
              0.5555555555555556,
              "#d8576b"
             ],
             [
              0.6666666666666666,
              "#ed7953"
             ],
             [
              0.7777777777777778,
              "#fb9f3a"
             ],
             [
              0.8888888888888888,
              "#fdca26"
             ],
             [
              1,
              "#f0f921"
             ]
            ],
            "type": "histogram2dcontour"
           }
          ],
          "mesh3d": [
           {
            "colorbar": {
             "outlinewidth": 0,
             "ticks": ""
            },
            "type": "mesh3d"
           }
          ],
          "parcoords": [
           {
            "line": {
             "colorbar": {
              "outlinewidth": 0,
              "ticks": ""
             }
            },
            "type": "parcoords"
           }
          ],
          "pie": [
           {
            "automargin": true,
            "type": "pie"
           }
          ],
          "scatter": [
           {
            "fillpattern": {
             "fillmode": "overlay",
             "size": 10,
             "solidity": 0.2
            },
            "type": "scatter"
           }
          ],
          "scatter3d": [
           {
            "line": {
             "colorbar": {
              "outlinewidth": 0,
              "ticks": ""
             }
            },
            "marker": {
             "colorbar": {
              "outlinewidth": 0,
              "ticks": ""
             }
            },
            "type": "scatter3d"
           }
          ],
          "scattercarpet": [
           {
            "marker": {
             "colorbar": {
              "outlinewidth": 0,
              "ticks": ""
             }
            },
            "type": "scattercarpet"
           }
          ],
          "scattergeo": [
           {
            "marker": {
             "colorbar": {
              "outlinewidth": 0,
              "ticks": ""
             }
            },
            "type": "scattergeo"
           }
          ],
          "scattergl": [
           {
            "marker": {
             "colorbar": {
              "outlinewidth": 0,
              "ticks": ""
             }
            },
            "type": "scattergl"
           }
          ],
          "scattermapbox": [
           {
            "marker": {
             "colorbar": {
              "outlinewidth": 0,
              "ticks": ""
             }
            },
            "type": "scattermapbox"
           }
          ],
          "scatterpolar": [
           {
            "marker": {
             "colorbar": {
              "outlinewidth": 0,
              "ticks": ""
             }
            },
            "type": "scatterpolar"
           }
          ],
          "scatterpolargl": [
           {
            "marker": {
             "colorbar": {
              "outlinewidth": 0,
              "ticks": ""
             }
            },
            "type": "scatterpolargl"
           }
          ],
          "scatterternary": [
           {
            "marker": {
             "colorbar": {
              "outlinewidth": 0,
              "ticks": ""
             }
            },
            "type": "scatterternary"
           }
          ],
          "surface": [
           {
            "colorbar": {
             "outlinewidth": 0,
             "ticks": ""
            },
            "colorscale": [
             [
              0,
              "#0d0887"
             ],
             [
              0.1111111111111111,
              "#46039f"
             ],
             [
              0.2222222222222222,
              "#7201a8"
             ],
             [
              0.3333333333333333,
              "#9c179e"
             ],
             [
              0.4444444444444444,
              "#bd3786"
             ],
             [
              0.5555555555555556,
              "#d8576b"
             ],
             [
              0.6666666666666666,
              "#ed7953"
             ],
             [
              0.7777777777777778,
              "#fb9f3a"
             ],
             [
              0.8888888888888888,
              "#fdca26"
             ],
             [
              1,
              "#f0f921"
             ]
            ],
            "type": "surface"
           }
          ],
          "table": [
           {
            "cells": {
             "fill": {
              "color": "#EBF0F8"
             },
             "line": {
              "color": "white"
             }
            },
            "header": {
             "fill": {
              "color": "#C8D4E3"
             },
             "line": {
              "color": "white"
             }
            },
            "type": "table"
           }
          ]
         },
         "layout": {
          "annotationdefaults": {
           "arrowcolor": "#2a3f5f",
           "arrowhead": 0,
           "arrowwidth": 1
          },
          "autotypenumbers": "strict",
          "coloraxis": {
           "colorbar": {
            "outlinewidth": 0,
            "ticks": ""
           }
          },
          "colorscale": {
           "diverging": [
            [
             0,
             "#8e0152"
            ],
            [
             0.1,
             "#c51b7d"
            ],
            [
             0.2,
             "#de77ae"
            ],
            [
             0.3,
             "#f1b6da"
            ],
            [
             0.4,
             "#fde0ef"
            ],
            [
             0.5,
             "#f7f7f7"
            ],
            [
             0.6,
             "#e6f5d0"
            ],
            [
             0.7,
             "#b8e186"
            ],
            [
             0.8,
             "#7fbc41"
            ],
            [
             0.9,
             "#4d9221"
            ],
            [
             1,
             "#276419"
            ]
           ],
           "sequential": [
            [
             0,
             "#0d0887"
            ],
            [
             0.1111111111111111,
             "#46039f"
            ],
            [
             0.2222222222222222,
             "#7201a8"
            ],
            [
             0.3333333333333333,
             "#9c179e"
            ],
            [
             0.4444444444444444,
             "#bd3786"
            ],
            [
             0.5555555555555556,
             "#d8576b"
            ],
            [
             0.6666666666666666,
             "#ed7953"
            ],
            [
             0.7777777777777778,
             "#fb9f3a"
            ],
            [
             0.8888888888888888,
             "#fdca26"
            ],
            [
             1,
             "#f0f921"
            ]
           ],
           "sequentialminus": [
            [
             0,
             "#0d0887"
            ],
            [
             0.1111111111111111,
             "#46039f"
            ],
            [
             0.2222222222222222,
             "#7201a8"
            ],
            [
             0.3333333333333333,
             "#9c179e"
            ],
            [
             0.4444444444444444,
             "#bd3786"
            ],
            [
             0.5555555555555556,
             "#d8576b"
            ],
            [
             0.6666666666666666,
             "#ed7953"
            ],
            [
             0.7777777777777778,
             "#fb9f3a"
            ],
            [
             0.8888888888888888,
             "#fdca26"
            ],
            [
             1,
             "#f0f921"
            ]
           ]
          },
          "colorway": [
           "#636efa",
           "#EF553B",
           "#00cc96",
           "#ab63fa",
           "#FFA15A",
           "#19d3f3",
           "#FF6692",
           "#B6E880",
           "#FF97FF",
           "#FECB52"
          ],
          "font": {
           "color": "#2a3f5f"
          },
          "geo": {
           "bgcolor": "white",
           "lakecolor": "white",
           "landcolor": "#E5ECF6",
           "showlakes": true,
           "showland": true,
           "subunitcolor": "white"
          },
          "hoverlabel": {
           "align": "left"
          },
          "hovermode": "closest",
          "mapbox": {
           "style": "light"
          },
          "paper_bgcolor": "white",
          "plot_bgcolor": "#E5ECF6",
          "polar": {
           "angularaxis": {
            "gridcolor": "white",
            "linecolor": "white",
            "ticks": ""
           },
           "bgcolor": "#E5ECF6",
           "radialaxis": {
            "gridcolor": "white",
            "linecolor": "white",
            "ticks": ""
           }
          },
          "scene": {
           "xaxis": {
            "backgroundcolor": "#E5ECF6",
            "gridcolor": "white",
            "gridwidth": 2,
            "linecolor": "white",
            "showbackground": true,
            "ticks": "",
            "zerolinecolor": "white"
           },
           "yaxis": {
            "backgroundcolor": "#E5ECF6",
            "gridcolor": "white",
            "gridwidth": 2,
            "linecolor": "white",
            "showbackground": true,
            "ticks": "",
            "zerolinecolor": "white"
           },
           "zaxis": {
            "backgroundcolor": "#E5ECF6",
            "gridcolor": "white",
            "gridwidth": 2,
            "linecolor": "white",
            "showbackground": true,
            "ticks": "",
            "zerolinecolor": "white"
           }
          },
          "shapedefaults": {
           "line": {
            "color": "#2a3f5f"
           }
          },
          "ternary": {
           "aaxis": {
            "gridcolor": "white",
            "linecolor": "white",
            "ticks": ""
           },
           "baxis": {
            "gridcolor": "white",
            "linecolor": "white",
            "ticks": ""
           },
           "bgcolor": "#E5ECF6",
           "caxis": {
            "gridcolor": "white",
            "linecolor": "white",
            "ticks": ""
           }
          },
          "title": {
           "x": 0.05
          },
          "xaxis": {
           "automargin": true,
           "gridcolor": "white",
           "linecolor": "white",
           "ticks": "",
           "title": {
            "standoff": 15
           },
           "zerolinecolor": "white",
           "zerolinewidth": 2
          },
          "yaxis": {
           "automargin": true,
           "gridcolor": "white",
           "linecolor": "white",
           "ticks": "",
           "title": {
            "standoff": 15
           },
           "zerolinecolor": "white",
           "zerolinewidth": 2
          }
         }
        },
        "width": 600,
        "xaxis": {
         "anchor": "y",
         "domain": [
          0,
          1
         ],
         "title": {
          "text": "PC 1 (53.8%)"
         }
        },
        "yaxis": {
         "anchor": "x",
         "domain": [
          0,
          1
         ],
         "title": {
          "text": "PC 2 (27.3%)"
         }
        }
       }
      },
      "text/html": [
       "<div>                            <div id=\"2a0ee2c2-962c-4bec-aa9f-007016e1cbf1\" class=\"plotly-graph-div\" style=\"height:600px; width:600px;\"></div>            <script type=\"text/javascript\">                require([\"plotly\"], function(Plotly) {                    window.PLOTLYENV=window.PLOTLYENV || {};                                    if (document.getElementById(\"2a0ee2c2-962c-4bec-aa9f-007016e1cbf1\")) {                    Plotly.newPlot(                        \"2a0ee2c2-962c-4bec-aa9f-007016e1cbf1\",                        [{\"hovertemplate\":\"color=00<br>symbol=WT<br>0=%{x}<br>1=%{y}<extra></extra>\",\"legendgroup\":\"00, WT\",\"marker\":{\"color\":\"#636efa\",\"symbol\":\"circle\",\"size\":13},\"mode\":\"markers\",\"name\":\"00, WT\",\"orientation\":\"v\",\"showlegend\":true,\"x\":[3.139468831210143,2.4096567967043963,0.9400777330571333,0.5529273146877808,3.4486702348781932,3.2908986373266065,3.108578549781031,2.7820181541279103],\"xaxis\":\"x\",\"y\":[0.9338208057473384,2.3147239008942107,3.394936197015489,3.435388997483651,0.5358111570199036,0.9164821375236152,1.8014721872590633,1.9851787102487],\"yaxis\":\"y\",\"type\":\"scatter\"},{\"hovertemplate\":\"color=02<br>symbol=WT<br>0=%{x}<br>1=%{y}<extra></extra>\",\"legendgroup\":\"02, WT\",\"marker\":{\"color\":\"#EF553B\",\"symbol\":\"circle\",\"size\":13},\"mode\":\"markers\",\"name\":\"02, WT\",\"orientation\":\"v\",\"showlegend\":true,\"x\":[-0.4158109674792232,-1.9199688461422786,-1.5743708377454226,-2.0539738569136063,2.877111774099904,1.6181101456589235,1.7611686761732257,1.4417221598215855],\"xaxis\":\"x\",\"y\":[3.146919992069909,1.1435698432792263,2.6762604169437316,1.758023738931877,2.016636913216894,2.3905915088374683,2.714084586531341,2.0644551089616625],\"yaxis\":\"y\",\"type\":\"scatter\"},{\"hovertemplate\":\"color=04<br>symbol=WT<br>0=%{x}<br>1=%{y}<extra></extra>\",\"legendgroup\":\"04, WT\",\"marker\":{\"color\":\"#00cc96\",\"symbol\":\"circle\",\"size\":13},\"mode\":\"markers\",\"name\":\"04, WT\",\"orientation\":\"v\",\"showlegend\":true,\"x\":[-2.164514762937479,-1.0262658874422241,-2.775466445646567,-1.2580180180782348,0.7440716278666832,1.8569426229618355,-1.3037431365477359,1.9304588827778075],\"xaxis\":\"x\",\"y\":[1.9357239323776905,2.916261991320024,0.9043395315690852,2.4787821333792044,2.442668056792678,2.5910200018699405,1.055537992977617,2.5363769879575453],\"yaxis\":\"y\",\"type\":\"scatter\"},{\"hovertemplate\":\"color=06<br>symbol=WT<br>0=%{x}<br>1=%{y}<extra></extra>\",\"legendgroup\":\"06, WT\",\"marker\":{\"color\":\"#ab63fa\",\"symbol\":\"circle\",\"size\":13},\"mode\":\"markers\",\"name\":\"06, WT\",\"orientation\":\"v\",\"showlegend\":true,\"x\":[-2.7451537549473977,-2.6829929205191814,-2.842524547637593,-2.6783946569513883,-1.2175103495037332,-0.9067271175918578,-1.410563543424996,-1.07437736693362],\"xaxis\":\"x\",\"y\":[1.0159646961914681,1.0066010227301574,0.6415673828826396,1.0056254514850482,1.5237931526169364,1.6979190211715622,0.9207138745763037,1.3944837956632958],\"yaxis\":\"y\",\"type\":\"scatter\"},{\"hovertemplate\":\"color=08<br>symbol=WT<br>0=%{x}<br>1=%{y}<extra></extra>\",\"legendgroup\":\"08, WT\",\"marker\":{\"color\":\"#FFA15A\",\"symbol\":\"circle\",\"size\":13},\"mode\":\"markers\",\"name\":\"08, WT\",\"orientation\":\"v\",\"showlegend\":true,\"x\":[-2.871667620753836,-2.6694228716452195,-2.711266034839194,-2.9347661291814306,-1.7720637504522156,-1.863643289817785,-1.8491180602285515,-1.8581961654267072],\"xaxis\":\"x\",\"y\":[0.2412630550293468,-0.6737891453790422,-0.5210136385574916,0.3117645166841322,0.2124927866909282,-0.4983342698569592,-0.41572244223502763,0.5906499509211435],\"yaxis\":\"y\",\"type\":\"scatter\"},{\"hovertemplate\":\"color=10<br>symbol=WT<br>0=%{x}<br>1=%{y}<extra></extra>\",\"legendgroup\":\"10, WT\",\"marker\":{\"color\":\"#19d3f3\",\"symbol\":\"circle\",\"size\":13},\"mode\":\"markers\",\"name\":\"10, WT\",\"orientation\":\"v\",\"showlegend\":true,\"x\":[-2.7592529994864186,-2.8491051058863777,-2.5023858475017677,-2.8706397454773436,-1.8239948711288763,-1.951410731710397,-1.4562783029587143,-1.9016904030592165],\"xaxis\":\"x\",\"y\":[-0.27730931794635355,-0.2402592457477616,-0.8869833503775059,-0.3067145218869309,-0.1627713329672777,-0.3281857758573428,-0.9339856996480593,-0.2550396604827015],\"yaxis\":\"y\",\"type\":\"scatter\"},{\"hovertemplate\":\"color=12<br>symbol=WT<br>0=%{x}<br>1=%{y}<extra></extra>\",\"legendgroup\":\"12, WT\",\"marker\":{\"color\":\"#FF6692\",\"symbol\":\"circle\",\"size\":13},\"mode\":\"markers\",\"name\":\"12, WT\",\"orientation\":\"v\",\"showlegend\":true,\"x\":[-2.159636069823674,-2.4076571963631666,-2.500242365633226,-2.1680465693434527,-1.1481228450087944,-1.6046001819596374,-1.643241966838585,-0.8017143730313133],\"xaxis\":\"x\",\"y\":[-1.183312045427898,-1.0252316961163632,-0.9662421235660628,-1.1176251044141212,-0.9472602311027467,-0.975666094690166,-0.8054500537729764,-0.9870720178437262],\"yaxis\":\"y\",\"type\":\"scatter\"},{\"hovertemplate\":\"color=14<br>symbol=WT<br>0=%{x}<br>1=%{y}<extra></extra>\",\"legendgroup\":\"14, WT\",\"marker\":{\"color\":\"#B6E880\",\"symbol\":\"circle\",\"size\":13},\"mode\":\"markers\",\"name\":\"14, WT\",\"orientation\":\"v\",\"showlegend\":true,\"x\":[-1.8707904236496529,-0.5740252891191248,-2.0013733160267595,-1.0900950543052061,-0.35329003125688163,0.3339057516870727,-0.7144916648854222,0.2939799746666011],\"xaxis\":\"x\",\"y\":[-1.0436902077459806,-1.7510701218415736,-1.0992323898444958,-1.3299189345564602,-1.0693332113022496,-1.2503252654488783,-0.9892176468918458,-1.1521042943417623],\"yaxis\":\"y\",\"type\":\"scatter\"},{\"hovertemplate\":\"color=16<br>symbol=WT<br>0=%{x}<br>1=%{y}<extra></extra>\",\"legendgroup\":\"16, WT\",\"marker\":{\"color\":\"#FF97FF\",\"symbol\":\"circle\",\"size\":13},\"mode\":\"markers\",\"name\":\"16, WT\",\"orientation\":\"v\",\"showlegend\":true,\"x\":[-0.5989880052934549,0.19747843528258352,-0.1456694029021436,-0.36713162484826495,0.384895379383665,1.1225174725152243,0.8822155365815927,0.44140252013571907],\"xaxis\":\"x\",\"y\":[-1.8008919889024435,-1.610936146173276,-1.7850133140459443,-1.7905247750815718,-1.1141141158453451,-1.075648969779396,-1.1253497628182634,-1.0421394848582546],\"yaxis\":\"y\",\"type\":\"scatter\"},{\"hovertemplate\":\"color=18<br>symbol=WT<br>0=%{x}<br>1=%{y}<extra></extra>\",\"legendgroup\":\"18, WT\",\"marker\":{\"color\":\"#FECB52\",\"symbol\":\"circle\",\"size\":13},\"mode\":\"markers\",\"name\":\"18, WT\",\"orientation\":\"v\",\"showlegend\":true,\"x\":[-0.24476574922906263,1.6568903971290811,1.5062703091112168,0.8491267012396031,1.010809962495503,1.8059210185665857,1.7942507257109255,1.3856862545627409],\"xaxis\":\"x\",\"y\":[-1.9902083266931663,-1.9522410555538867,-1.7730149279396197,-1.9593216635293056,-0.9770828604639302,-1.3300548670068262,-1.1758225044501838,-1.278976729561046],\"yaxis\":\"y\",\"type\":\"scatter\"},{\"hovertemplate\":\"color=20<br>symbol=WT<br>0=%{x}<br>1=%{y}<extra></extra>\",\"legendgroup\":\"20, WT\",\"marker\":{\"color\":\"#636efa\",\"symbol\":\"circle\",\"size\":13},\"mode\":\"markers\",\"name\":\"20, WT\",\"orientation\":\"v\",\"showlegend\":true,\"x\":[2.5520520847501653,3.062931922212817,1.2542841153018993,1.1768864020324896,3.1939704362138523,3.2826045643908044,2.3128997468930237,2.1395577239207926],\"xaxis\":\"x\",\"y\":[-1.2267376314804779,-1.1639967965661564,-2.004151993590083,-1.8364516282180297,-0.8625220988310626,-0.9572077839933525,-0.9899965361541804,-1.0798153133422923],\"yaxis\":\"y\",\"type\":\"scatter\"},{\"hovertemplate\":\"color=22<br>symbol=WT<br>0=%{x}<br>1=%{y}<extra></extra>\",\"legendgroup\":\"22, WT\",\"marker\":{\"color\":\"#EF553B\",\"symbol\":\"circle\",\"size\":13},\"mode\":\"markers\",\"name\":\"22, WT\",\"orientation\":\"v\",\"showlegend\":true,\"x\":[3.3395964813407217,3.450346461155349,2.7910462601087467,2.2501973641411386,3.458338529322877,3.301685950478966,3.002465727880305,2.953064725169201],\"xaxis\":\"x\",\"y\":[0.024211547277230308,-0.290919790638993,-1.3264189382415688,-0.7436073654329041,-0.019765337850230505,0.09616250932080908,-0.8101056224484938,-0.4863814241088203],\"yaxis\":\"y\",\"type\":\"scatter\"}],                        {\"template\":{\"data\":{\"histogram2dcontour\":[{\"type\":\"histogram2dcontour\",\"colorbar\":{\"outlinewidth\":0,\"ticks\":\"\"},\"colorscale\":[[0.0,\"#0d0887\"],[0.1111111111111111,\"#46039f\"],[0.2222222222222222,\"#7201a8\"],[0.3333333333333333,\"#9c179e\"],[0.4444444444444444,\"#bd3786\"],[0.5555555555555556,\"#d8576b\"],[0.6666666666666666,\"#ed7953\"],[0.7777777777777778,\"#fb9f3a\"],[0.8888888888888888,\"#fdca26\"],[1.0,\"#f0f921\"]]}],\"choropleth\":[{\"type\":\"choropleth\",\"colorbar\":{\"outlinewidth\":0,\"ticks\":\"\"}}],\"histogram2d\":[{\"type\":\"histogram2d\",\"colorbar\":{\"outlinewidth\":0,\"ticks\":\"\"},\"colorscale\":[[0.0,\"#0d0887\"],[0.1111111111111111,\"#46039f\"],[0.2222222222222222,\"#7201a8\"],[0.3333333333333333,\"#9c179e\"],[0.4444444444444444,\"#bd3786\"],[0.5555555555555556,\"#d8576b\"],[0.6666666666666666,\"#ed7953\"],[0.7777777777777778,\"#fb9f3a\"],[0.8888888888888888,\"#fdca26\"],[1.0,\"#f0f921\"]]}],\"heatmap\":[{\"type\":\"heatmap\",\"colorbar\":{\"outlinewidth\":0,\"ticks\":\"\"},\"colorscale\":[[0.0,\"#0d0887\"],[0.1111111111111111,\"#46039f\"],[0.2222222222222222,\"#7201a8\"],[0.3333333333333333,\"#9c179e\"],[0.4444444444444444,\"#bd3786\"],[0.5555555555555556,\"#d8576b\"],[0.6666666666666666,\"#ed7953\"],[0.7777777777777778,\"#fb9f3a\"],[0.8888888888888888,\"#fdca26\"],[1.0,\"#f0f921\"]]}],\"heatmapgl\":[{\"type\":\"heatmapgl\",\"colorbar\":{\"outlinewidth\":0,\"ticks\":\"\"},\"colorscale\":[[0.0,\"#0d0887\"],[0.1111111111111111,\"#46039f\"],[0.2222222222222222,\"#7201a8\"],[0.3333333333333333,\"#9c179e\"],[0.4444444444444444,\"#bd3786\"],[0.5555555555555556,\"#d8576b\"],[0.6666666666666666,\"#ed7953\"],[0.7777777777777778,\"#fb9f3a\"],[0.8888888888888888,\"#fdca26\"],[1.0,\"#f0f921\"]]}],\"contourcarpet\":[{\"type\":\"contourcarpet\",\"colorbar\":{\"outlinewidth\":0,\"ticks\":\"\"}}],\"contour\":[{\"type\":\"contour\",\"colorbar\":{\"outlinewidth\":0,\"ticks\":\"\"},\"colorscale\":[[0.0,\"#0d0887\"],[0.1111111111111111,\"#46039f\"],[0.2222222222222222,\"#7201a8\"],[0.3333333333333333,\"#9c179e\"],[0.4444444444444444,\"#bd3786\"],[0.5555555555555556,\"#d8576b\"],[0.6666666666666666,\"#ed7953\"],[0.7777777777777778,\"#fb9f3a\"],[0.8888888888888888,\"#fdca26\"],[1.0,\"#f0f921\"]]}],\"surface\":[{\"type\":\"surface\",\"colorbar\":{\"outlinewidth\":0,\"ticks\":\"\"},\"colorscale\":[[0.0,\"#0d0887\"],[0.1111111111111111,\"#46039f\"],[0.2222222222222222,\"#7201a8\"],[0.3333333333333333,\"#9c179e\"],[0.4444444444444444,\"#bd3786\"],[0.5555555555555556,\"#d8576b\"],[0.6666666666666666,\"#ed7953\"],[0.7777777777777778,\"#fb9f3a\"],[0.8888888888888888,\"#fdca26\"],[1.0,\"#f0f921\"]]}],\"mesh3d\":[{\"type\":\"mesh3d\",\"colorbar\":{\"outlinewidth\":0,\"ticks\":\"\"}}],\"scatter\":[{\"fillpattern\":{\"fillmode\":\"overlay\",\"size\":10,\"solidity\":0.2},\"type\":\"scatter\"}],\"parcoords\":[{\"type\":\"parcoords\",\"line\":{\"colorbar\":{\"outlinewidth\":0,\"ticks\":\"\"}}}],\"scatterpolargl\":[{\"type\":\"scatterpolargl\",\"marker\":{\"colorbar\":{\"outlinewidth\":0,\"ticks\":\"\"}}}],\"bar\":[{\"error_x\":{\"color\":\"#2a3f5f\"},\"error_y\":{\"color\":\"#2a3f5f\"},\"marker\":{\"line\":{\"color\":\"#E5ECF6\",\"width\":0.5},\"pattern\":{\"fillmode\":\"overlay\",\"size\":10,\"solidity\":0.2}},\"type\":\"bar\"}],\"scattergeo\":[{\"type\":\"scattergeo\",\"marker\":{\"colorbar\":{\"outlinewidth\":0,\"ticks\":\"\"}}}],\"scatterpolar\":[{\"type\":\"scatterpolar\",\"marker\":{\"colorbar\":{\"outlinewidth\":0,\"ticks\":\"\"}}}],\"histogram\":[{\"marker\":{\"pattern\":{\"fillmode\":\"overlay\",\"size\":10,\"solidity\":0.2}},\"type\":\"histogram\"}],\"scattergl\":[{\"type\":\"scattergl\",\"marker\":{\"colorbar\":{\"outlinewidth\":0,\"ticks\":\"\"}}}],\"scatter3d\":[{\"type\":\"scatter3d\",\"line\":{\"colorbar\":{\"outlinewidth\":0,\"ticks\":\"\"}},\"marker\":{\"colorbar\":{\"outlinewidth\":0,\"ticks\":\"\"}}}],\"scattermapbox\":[{\"type\":\"scattermapbox\",\"marker\":{\"colorbar\":{\"outlinewidth\":0,\"ticks\":\"\"}}}],\"scatterternary\":[{\"type\":\"scatterternary\",\"marker\":{\"colorbar\":{\"outlinewidth\":0,\"ticks\":\"\"}}}],\"scattercarpet\":[{\"type\":\"scattercarpet\",\"marker\":{\"colorbar\":{\"outlinewidth\":0,\"ticks\":\"\"}}}],\"carpet\":[{\"aaxis\":{\"endlinecolor\":\"#2a3f5f\",\"gridcolor\":\"white\",\"linecolor\":\"white\",\"minorgridcolor\":\"white\",\"startlinecolor\":\"#2a3f5f\"},\"baxis\":{\"endlinecolor\":\"#2a3f5f\",\"gridcolor\":\"white\",\"linecolor\":\"white\",\"minorgridcolor\":\"white\",\"startlinecolor\":\"#2a3f5f\"},\"type\":\"carpet\"}],\"table\":[{\"cells\":{\"fill\":{\"color\":\"#EBF0F8\"},\"line\":{\"color\":\"white\"}},\"header\":{\"fill\":{\"color\":\"#C8D4E3\"},\"line\":{\"color\":\"white\"}},\"type\":\"table\"}],\"barpolar\":[{\"marker\":{\"line\":{\"color\":\"#E5ECF6\",\"width\":0.5},\"pattern\":{\"fillmode\":\"overlay\",\"size\":10,\"solidity\":0.2}},\"type\":\"barpolar\"}],\"pie\":[{\"automargin\":true,\"type\":\"pie\"}]},\"layout\":{\"autotypenumbers\":\"strict\",\"colorway\":[\"#636efa\",\"#EF553B\",\"#00cc96\",\"#ab63fa\",\"#FFA15A\",\"#19d3f3\",\"#FF6692\",\"#B6E880\",\"#FF97FF\",\"#FECB52\"],\"font\":{\"color\":\"#2a3f5f\"},\"hovermode\":\"closest\",\"hoverlabel\":{\"align\":\"left\"},\"paper_bgcolor\":\"white\",\"plot_bgcolor\":\"#E5ECF6\",\"polar\":{\"bgcolor\":\"#E5ECF6\",\"angularaxis\":{\"gridcolor\":\"white\",\"linecolor\":\"white\",\"ticks\":\"\"},\"radialaxis\":{\"gridcolor\":\"white\",\"linecolor\":\"white\",\"ticks\":\"\"}},\"ternary\":{\"bgcolor\":\"#E5ECF6\",\"aaxis\":{\"gridcolor\":\"white\",\"linecolor\":\"white\",\"ticks\":\"\"},\"baxis\":{\"gridcolor\":\"white\",\"linecolor\":\"white\",\"ticks\":\"\"},\"caxis\":{\"gridcolor\":\"white\",\"linecolor\":\"white\",\"ticks\":\"\"}},\"coloraxis\":{\"colorbar\":{\"outlinewidth\":0,\"ticks\":\"\"}},\"colorscale\":{\"sequential\":[[0.0,\"#0d0887\"],[0.1111111111111111,\"#46039f\"],[0.2222222222222222,\"#7201a8\"],[0.3333333333333333,\"#9c179e\"],[0.4444444444444444,\"#bd3786\"],[0.5555555555555556,\"#d8576b\"],[0.6666666666666666,\"#ed7953\"],[0.7777777777777778,\"#fb9f3a\"],[0.8888888888888888,\"#fdca26\"],[1.0,\"#f0f921\"]],\"sequentialminus\":[[0.0,\"#0d0887\"],[0.1111111111111111,\"#46039f\"],[0.2222222222222222,\"#7201a8\"],[0.3333333333333333,\"#9c179e\"],[0.4444444444444444,\"#bd3786\"],[0.5555555555555556,\"#d8576b\"],[0.6666666666666666,\"#ed7953\"],[0.7777777777777778,\"#fb9f3a\"],[0.8888888888888888,\"#fdca26\"],[1.0,\"#f0f921\"]],\"diverging\":[[0,\"#8e0152\"],[0.1,\"#c51b7d\"],[0.2,\"#de77ae\"],[0.3,\"#f1b6da\"],[0.4,\"#fde0ef\"],[0.5,\"#f7f7f7\"],[0.6,\"#e6f5d0\"],[0.7,\"#b8e186\"],[0.8,\"#7fbc41\"],[0.9,\"#4d9221\"],[1,\"#276419\"]]},\"xaxis\":{\"gridcolor\":\"white\",\"linecolor\":\"white\",\"ticks\":\"\",\"title\":{\"standoff\":15},\"zerolinecolor\":\"white\",\"automargin\":true,\"zerolinewidth\":2},\"yaxis\":{\"gridcolor\":\"white\",\"linecolor\":\"white\",\"ticks\":\"\",\"title\":{\"standoff\":15},\"zerolinecolor\":\"white\",\"automargin\":true,\"zerolinewidth\":2},\"scene\":{\"xaxis\":{\"backgroundcolor\":\"#E5ECF6\",\"gridcolor\":\"white\",\"linecolor\":\"white\",\"showbackground\":true,\"ticks\":\"\",\"zerolinecolor\":\"white\",\"gridwidth\":2},\"yaxis\":{\"backgroundcolor\":\"#E5ECF6\",\"gridcolor\":\"white\",\"linecolor\":\"white\",\"showbackground\":true,\"ticks\":\"\",\"zerolinecolor\":\"white\",\"gridwidth\":2},\"zaxis\":{\"backgroundcolor\":\"#E5ECF6\",\"gridcolor\":\"white\",\"linecolor\":\"white\",\"showbackground\":true,\"ticks\":\"\",\"zerolinecolor\":\"white\",\"gridwidth\":2}},\"shapedefaults\":{\"line\":{\"color\":\"#2a3f5f\"}},\"annotationdefaults\":{\"arrowcolor\":\"#2a3f5f\",\"arrowhead\":0,\"arrowwidth\":1},\"geo\":{\"bgcolor\":\"white\",\"landcolor\":\"#E5ECF6\",\"subunitcolor\":\"white\",\"showland\":true,\"showlakes\":true,\"lakecolor\":\"white\"},\"title\":{\"x\":0.05},\"mapbox\":{\"style\":\"light\"}}},\"xaxis\":{\"anchor\":\"y\",\"domain\":[0.0,1.0],\"title\":{\"text\":\"PC 1 (53.8%)\"}},\"yaxis\":{\"anchor\":\"x\",\"domain\":[0.0,1.0],\"title\":{\"text\":\"PC 2 (27.3%)\"}},\"legend\":{\"title\":{\"text\":\"color, symbol\"},\"tracegroupgap\":0},\"margin\":{\"t\":60},\"height\":600,\"width\":600,\"plot_bgcolor\":\"rgb(243,243,243)\"},                        {\"responsive\": true}                    ).then(function(){\n",
       "                            \n",
       "var gd = document.getElementById('2a0ee2c2-962c-4bec-aa9f-007016e1cbf1');\n",
       "var x = new MutationObserver(function (mutations, observer) {{\n",
       "        var display = window.getComputedStyle(gd).display;\n",
       "        if (!display || display === 'none') {{\n",
       "            console.log([gd, 'removed!']);\n",
       "            Plotly.purge(gd);\n",
       "            observer.disconnect();\n",
       "        }}\n",
       "}});\n",
       "\n",
       "// Listen for the removal of the full notebook cells\n",
       "var notebookContainer = gd.closest('#notebook-container');\n",
       "if (notebookContainer) {{\n",
       "    x.observe(notebookContainer, {childList: true});\n",
       "}}\n",
       "\n",
       "// Listen for the clearing of the current output cell\n",
       "var outputEl = gd.closest('.output');\n",
       "if (outputEl) {{\n",
       "    x.observe(outputEl, {childList: true});\n",
       "}}\n",
       "\n",
       "                        })                };                });            </script>        </div>"
      ]
     },
     "metadata": {},
     "output_type": "display_data"
    },
    {
     "data": {
      "application/vnd.plotly.v1+json": {
       "config": {
        "plotlyServerURL": "https://plot.ly"
       },
       "data": [
        {
         "hovertemplate": "color=A<br>symbol=Intron<br>0=%{x}<br>1=%{y}<extra></extra>",
         "legendgroup": "A, Intron",
         "marker": {
          "color": "#636efa",
          "size": 13,
          "symbol": "circle"
         },
         "mode": "markers",
         "name": "A, Intron",
         "orientation": "v",
         "showlegend": true,
         "type": "scatter",
         "x": [
          3.139468831210143,
          -0.4158109674792232,
          -2.164514762937479,
          -2.7451537549473977,
          -2.871667620753836,
          -2.7592529994864186,
          -2.159636069823674,
          -1.8707904236496529,
          -0.5989880052934549,
          -0.24476574922906263,
          2.5520520847501653,
          3.3395964813407217
         ],
         "xaxis": "x",
         "y": [
          0.9338208057473384,
          3.146919992069909,
          1.9357239323776905,
          1.0159646961914681,
          0.2412630550293468,
          -0.27730931794635355,
          -1.183312045427898,
          -1.0436902077459806,
          -1.8008919889024435,
          -1.9902083266931663,
          -1.2267376314804779,
          0.024211547277230308
         ],
         "yaxis": "y"
        },
        {
         "hovertemplate": "color=A<br>symbol=Exon<br>0=%{x}<br>1=%{y}<extra></extra>",
         "legendgroup": "A, Exon",
         "marker": {
          "color": "#636efa",
          "size": 13,
          "symbol": "diamond"
         },
         "mode": "markers",
         "name": "A, Exon",
         "orientation": "v",
         "showlegend": true,
         "type": "scatter",
         "x": [
          3.4486702348781932,
          2.877111774099904,
          0.7440716278666832,
          -1.2175103495037332,
          -1.7720637504522156,
          -1.8239948711288763,
          -1.1481228450087944,
          -0.35329003125688163,
          0.384895379383665,
          1.010809962495503,
          3.1939704362138523,
          3.458338529322877
         ],
         "xaxis": "x",
         "y": [
          0.5358111570199036,
          2.016636913216894,
          2.442668056792678,
          1.5237931526169364,
          0.2124927866909282,
          -0.1627713329672777,
          -0.9472602311027467,
          -1.0693332113022496,
          -1.1141141158453451,
          -0.9770828604639302,
          -0.8625220988310626,
          -0.019765337850230505
         ],
         "yaxis": "y"
        },
        {
         "hovertemplate": "color=B<br>symbol=Intron<br>0=%{x}<br>1=%{y}<extra></extra>",
         "legendgroup": "B, Intron",
         "marker": {
          "color": "#EF553B",
          "size": 13,
          "symbol": "circle"
         },
         "mode": "markers",
         "name": "B, Intron",
         "orientation": "v",
         "showlegend": true,
         "type": "scatter",
         "x": [
          2.4096567967043963,
          -1.9199688461422786,
          -1.0262658874422241,
          -2.6829929205191814,
          -2.6694228716452195,
          -2.8491051058863777,
          -2.4076571963631666,
          -0.5740252891191248,
          0.19747843528258352,
          1.6568903971290811,
          3.062931922212817,
          3.450346461155349
         ],
         "xaxis": "x",
         "y": [
          2.3147239008942107,
          1.1435698432792263,
          2.916261991320024,
          1.0066010227301574,
          -0.6737891453790422,
          -0.2402592457477616,
          -1.0252316961163632,
          -1.7510701218415736,
          -1.610936146173276,
          -1.9522410555538867,
          -1.1639967965661564,
          -0.290919790638993
         ],
         "yaxis": "y"
        },
        {
         "hovertemplate": "color=B<br>symbol=Exon<br>0=%{x}<br>1=%{y}<extra></extra>",
         "legendgroup": "B, Exon",
         "marker": {
          "color": "#EF553B",
          "size": 13,
          "symbol": "diamond"
         },
         "mode": "markers",
         "name": "B, Exon",
         "orientation": "v",
         "showlegend": true,
         "type": "scatter",
         "x": [
          3.2908986373266065,
          1.6181101456589235,
          1.8569426229618355,
          -0.9067271175918578,
          -1.863643289817785,
          -1.951410731710397,
          -1.6046001819596374,
          0.3339057516870727,
          1.1225174725152243,
          1.8059210185665857,
          3.2826045643908044,
          3.301685950478966
         ],
         "xaxis": "x",
         "y": [
          0.9164821375236152,
          2.3905915088374683,
          2.5910200018699405,
          1.6979190211715622,
          -0.4983342698569592,
          -0.3281857758573428,
          -0.975666094690166,
          -1.2503252654488783,
          -1.075648969779396,
          -1.3300548670068262,
          -0.9572077839933525,
          0.09616250932080908
         ],
         "yaxis": "y"
        },
        {
         "hovertemplate": "color=C<br>symbol=Intron<br>0=%{x}<br>1=%{y}<extra></extra>",
         "legendgroup": "C, Intron",
         "marker": {
          "color": "#00cc96",
          "size": 13,
          "symbol": "circle"
         },
         "mode": "markers",
         "name": "C, Intron",
         "orientation": "v",
         "showlegend": true,
         "type": "scatter",
         "x": [
          0.9400777330571333,
          -1.5743708377454226,
          -2.775466445646567,
          -2.842524547637593,
          -2.711266034839194,
          -2.5023858475017677,
          -2.500242365633226,
          -2.0013733160267595,
          -0.1456694029021436,
          1.5062703091112168,
          1.2542841153018993,
          2.7910462601087467
         ],
         "xaxis": "x",
         "y": [
          3.394936197015489,
          2.6762604169437316,
          0.9043395315690852,
          0.6415673828826396,
          -0.5210136385574916,
          -0.8869833503775059,
          -0.9662421235660628,
          -1.0992323898444958,
          -1.7850133140459443,
          -1.7730149279396197,
          -2.004151993590083,
          -1.3264189382415688
         ],
         "yaxis": "y"
        },
        {
         "hovertemplate": "color=C<br>symbol=Exon<br>0=%{x}<br>1=%{y}<extra></extra>",
         "legendgroup": "C, Exon",
         "marker": {
          "color": "#00cc96",
          "size": 13,
          "symbol": "diamond"
         },
         "mode": "markers",
         "name": "C, Exon",
         "orientation": "v",
         "showlegend": true,
         "type": "scatter",
         "x": [
          3.108578549781031,
          1.7611686761732257,
          -1.3037431365477359,
          -1.410563543424996,
          -1.8491180602285515,
          -1.4562783029587143,
          -1.643241966838585,
          -0.7144916648854222,
          0.8822155365815927,
          1.7942507257109255,
          2.3128997468930237,
          3.002465727880305
         ],
         "xaxis": "x",
         "y": [
          1.8014721872590633,
          2.714084586531341,
          1.055537992977617,
          0.9207138745763037,
          -0.41572244223502763,
          -0.9339856996480593,
          -0.8054500537729764,
          -0.9892176468918458,
          -1.1253497628182634,
          -1.1758225044501838,
          -0.9899965361541804,
          -0.8101056224484938
         ],
         "yaxis": "y"
        },
        {
         "hovertemplate": "color=D<br>symbol=Intron<br>0=%{x}<br>1=%{y}<extra></extra>",
         "legendgroup": "D, Intron",
         "marker": {
          "color": "#ab63fa",
          "size": 13,
          "symbol": "circle"
         },
         "mode": "markers",
         "name": "D, Intron",
         "orientation": "v",
         "showlegend": true,
         "type": "scatter",
         "x": [
          0.5529273146877808,
          -2.0539738569136063,
          -1.2580180180782348,
          -2.6783946569513883,
          -2.9347661291814306,
          -2.8706397454773436,
          -2.1680465693434527,
          -1.0900950543052061,
          -0.36713162484826495,
          0.8491267012396031,
          1.1768864020324896,
          2.2501973641411386
         ],
         "xaxis": "x",
         "y": [
          3.435388997483651,
          1.758023738931877,
          2.4787821333792044,
          1.0056254514850482,
          0.3117645166841322,
          -0.3067145218869309,
          -1.1176251044141212,
          -1.3299189345564602,
          -1.7905247750815718,
          -1.9593216635293056,
          -1.8364516282180297,
          -0.7436073654329041
         ],
         "yaxis": "y"
        },
        {
         "hovertemplate": "color=D<br>symbol=Exon<br>0=%{x}<br>1=%{y}<extra></extra>",
         "legendgroup": "D, Exon",
         "marker": {
          "color": "#ab63fa",
          "size": 13,
          "symbol": "diamond"
         },
         "mode": "markers",
         "name": "D, Exon",
         "orientation": "v",
         "showlegend": true,
         "type": "scatter",
         "x": [
          2.7820181541279103,
          1.4417221598215855,
          1.9304588827778075,
          -1.07437736693362,
          -1.8581961654267072,
          -1.9016904030592165,
          -0.8017143730313133,
          0.2939799746666011,
          0.44140252013571907,
          1.3856862545627409,
          2.1395577239207926,
          2.953064725169201
         ],
         "xaxis": "x",
         "y": [
          1.9851787102487,
          2.0644551089616625,
          2.5363769879575453,
          1.3944837956632958,
          0.5906499509211435,
          -0.2550396604827015,
          -0.9870720178437262,
          -1.1521042943417623,
          -1.0421394848582546,
          -1.278976729561046,
          -1.0798153133422923,
          -0.4863814241088203
         ],
         "yaxis": "y"
        }
       ],
       "layout": {
        "height": 600,
        "legend": {
         "title": {
          "text": "color, symbol"
         },
         "tracegroupgap": 0
        },
        "margin": {
         "t": 60
        },
        "plot_bgcolor": "rgb(243,243,243)",
        "template": {
         "data": {
          "bar": [
           {
            "error_x": {
             "color": "#2a3f5f"
            },
            "error_y": {
             "color": "#2a3f5f"
            },
            "marker": {
             "line": {
              "color": "#E5ECF6",
              "width": 0.5
             },
             "pattern": {
              "fillmode": "overlay",
              "size": 10,
              "solidity": 0.2
             }
            },
            "type": "bar"
           }
          ],
          "barpolar": [
           {
            "marker": {
             "line": {
              "color": "#E5ECF6",
              "width": 0.5
             },
             "pattern": {
              "fillmode": "overlay",
              "size": 10,
              "solidity": 0.2
             }
            },
            "type": "barpolar"
           }
          ],
          "carpet": [
           {
            "aaxis": {
             "endlinecolor": "#2a3f5f",
             "gridcolor": "white",
             "linecolor": "white",
             "minorgridcolor": "white",
             "startlinecolor": "#2a3f5f"
            },
            "baxis": {
             "endlinecolor": "#2a3f5f",
             "gridcolor": "white",
             "linecolor": "white",
             "minorgridcolor": "white",
             "startlinecolor": "#2a3f5f"
            },
            "type": "carpet"
           }
          ],
          "choropleth": [
           {
            "colorbar": {
             "outlinewidth": 0,
             "ticks": ""
            },
            "type": "choropleth"
           }
          ],
          "contour": [
           {
            "colorbar": {
             "outlinewidth": 0,
             "ticks": ""
            },
            "colorscale": [
             [
              0,
              "#0d0887"
             ],
             [
              0.1111111111111111,
              "#46039f"
             ],
             [
              0.2222222222222222,
              "#7201a8"
             ],
             [
              0.3333333333333333,
              "#9c179e"
             ],
             [
              0.4444444444444444,
              "#bd3786"
             ],
             [
              0.5555555555555556,
              "#d8576b"
             ],
             [
              0.6666666666666666,
              "#ed7953"
             ],
             [
              0.7777777777777778,
              "#fb9f3a"
             ],
             [
              0.8888888888888888,
              "#fdca26"
             ],
             [
              1,
              "#f0f921"
             ]
            ],
            "type": "contour"
           }
          ],
          "contourcarpet": [
           {
            "colorbar": {
             "outlinewidth": 0,
             "ticks": ""
            },
            "type": "contourcarpet"
           }
          ],
          "heatmap": [
           {
            "colorbar": {
             "outlinewidth": 0,
             "ticks": ""
            },
            "colorscale": [
             [
              0,
              "#0d0887"
             ],
             [
              0.1111111111111111,
              "#46039f"
             ],
             [
              0.2222222222222222,
              "#7201a8"
             ],
             [
              0.3333333333333333,
              "#9c179e"
             ],
             [
              0.4444444444444444,
              "#bd3786"
             ],
             [
              0.5555555555555556,
              "#d8576b"
             ],
             [
              0.6666666666666666,
              "#ed7953"
             ],
             [
              0.7777777777777778,
              "#fb9f3a"
             ],
             [
              0.8888888888888888,
              "#fdca26"
             ],
             [
              1,
              "#f0f921"
             ]
            ],
            "type": "heatmap"
           }
          ],
          "heatmapgl": [
           {
            "colorbar": {
             "outlinewidth": 0,
             "ticks": ""
            },
            "colorscale": [
             [
              0,
              "#0d0887"
             ],
             [
              0.1111111111111111,
              "#46039f"
             ],
             [
              0.2222222222222222,
              "#7201a8"
             ],
             [
              0.3333333333333333,
              "#9c179e"
             ],
             [
              0.4444444444444444,
              "#bd3786"
             ],
             [
              0.5555555555555556,
              "#d8576b"
             ],
             [
              0.6666666666666666,
              "#ed7953"
             ],
             [
              0.7777777777777778,
              "#fb9f3a"
             ],
             [
              0.8888888888888888,
              "#fdca26"
             ],
             [
              1,
              "#f0f921"
             ]
            ],
            "type": "heatmapgl"
           }
          ],
          "histogram": [
           {
            "marker": {
             "pattern": {
              "fillmode": "overlay",
              "size": 10,
              "solidity": 0.2
             }
            },
            "type": "histogram"
           }
          ],
          "histogram2d": [
           {
            "colorbar": {
             "outlinewidth": 0,
             "ticks": ""
            },
            "colorscale": [
             [
              0,
              "#0d0887"
             ],
             [
              0.1111111111111111,
              "#46039f"
             ],
             [
              0.2222222222222222,
              "#7201a8"
             ],
             [
              0.3333333333333333,
              "#9c179e"
             ],
             [
              0.4444444444444444,
              "#bd3786"
             ],
             [
              0.5555555555555556,
              "#d8576b"
             ],
             [
              0.6666666666666666,
              "#ed7953"
             ],
             [
              0.7777777777777778,
              "#fb9f3a"
             ],
             [
              0.8888888888888888,
              "#fdca26"
             ],
             [
              1,
              "#f0f921"
             ]
            ],
            "type": "histogram2d"
           }
          ],
          "histogram2dcontour": [
           {
            "colorbar": {
             "outlinewidth": 0,
             "ticks": ""
            },
            "colorscale": [
             [
              0,
              "#0d0887"
             ],
             [
              0.1111111111111111,
              "#46039f"
             ],
             [
              0.2222222222222222,
              "#7201a8"
             ],
             [
              0.3333333333333333,
              "#9c179e"
             ],
             [
              0.4444444444444444,
              "#bd3786"
             ],
             [
              0.5555555555555556,
              "#d8576b"
             ],
             [
              0.6666666666666666,
              "#ed7953"
             ],
             [
              0.7777777777777778,
              "#fb9f3a"
             ],
             [
              0.8888888888888888,
              "#fdca26"
             ],
             [
              1,
              "#f0f921"
             ]
            ],
            "type": "histogram2dcontour"
           }
          ],
          "mesh3d": [
           {
            "colorbar": {
             "outlinewidth": 0,
             "ticks": ""
            },
            "type": "mesh3d"
           }
          ],
          "parcoords": [
           {
            "line": {
             "colorbar": {
              "outlinewidth": 0,
              "ticks": ""
             }
            },
            "type": "parcoords"
           }
          ],
          "pie": [
           {
            "automargin": true,
            "type": "pie"
           }
          ],
          "scatter": [
           {
            "fillpattern": {
             "fillmode": "overlay",
             "size": 10,
             "solidity": 0.2
            },
            "type": "scatter"
           }
          ],
          "scatter3d": [
           {
            "line": {
             "colorbar": {
              "outlinewidth": 0,
              "ticks": ""
             }
            },
            "marker": {
             "colorbar": {
              "outlinewidth": 0,
              "ticks": ""
             }
            },
            "type": "scatter3d"
           }
          ],
          "scattercarpet": [
           {
            "marker": {
             "colorbar": {
              "outlinewidth": 0,
              "ticks": ""
             }
            },
            "type": "scattercarpet"
           }
          ],
          "scattergeo": [
           {
            "marker": {
             "colorbar": {
              "outlinewidth": 0,
              "ticks": ""
             }
            },
            "type": "scattergeo"
           }
          ],
          "scattergl": [
           {
            "marker": {
             "colorbar": {
              "outlinewidth": 0,
              "ticks": ""
             }
            },
            "type": "scattergl"
           }
          ],
          "scattermapbox": [
           {
            "marker": {
             "colorbar": {
              "outlinewidth": 0,
              "ticks": ""
             }
            },
            "type": "scattermapbox"
           }
          ],
          "scatterpolar": [
           {
            "marker": {
             "colorbar": {
              "outlinewidth": 0,
              "ticks": ""
             }
            },
            "type": "scatterpolar"
           }
          ],
          "scatterpolargl": [
           {
            "marker": {
             "colorbar": {
              "outlinewidth": 0,
              "ticks": ""
             }
            },
            "type": "scatterpolargl"
           }
          ],
          "scatterternary": [
           {
            "marker": {
             "colorbar": {
              "outlinewidth": 0,
              "ticks": ""
             }
            },
            "type": "scatterternary"
           }
          ],
          "surface": [
           {
            "colorbar": {
             "outlinewidth": 0,
             "ticks": ""
            },
            "colorscale": [
             [
              0,
              "#0d0887"
             ],
             [
              0.1111111111111111,
              "#46039f"
             ],
             [
              0.2222222222222222,
              "#7201a8"
             ],
             [
              0.3333333333333333,
              "#9c179e"
             ],
             [
              0.4444444444444444,
              "#bd3786"
             ],
             [
              0.5555555555555556,
              "#d8576b"
             ],
             [
              0.6666666666666666,
              "#ed7953"
             ],
             [
              0.7777777777777778,
              "#fb9f3a"
             ],
             [
              0.8888888888888888,
              "#fdca26"
             ],
             [
              1,
              "#f0f921"
             ]
            ],
            "type": "surface"
           }
          ],
          "table": [
           {
            "cells": {
             "fill": {
              "color": "#EBF0F8"
             },
             "line": {
              "color": "white"
             }
            },
            "header": {
             "fill": {
              "color": "#C8D4E3"
             },
             "line": {
              "color": "white"
             }
            },
            "type": "table"
           }
          ]
         },
         "layout": {
          "annotationdefaults": {
           "arrowcolor": "#2a3f5f",
           "arrowhead": 0,
           "arrowwidth": 1
          },
          "autotypenumbers": "strict",
          "coloraxis": {
           "colorbar": {
            "outlinewidth": 0,
            "ticks": ""
           }
          },
          "colorscale": {
           "diverging": [
            [
             0,
             "#8e0152"
            ],
            [
             0.1,
             "#c51b7d"
            ],
            [
             0.2,
             "#de77ae"
            ],
            [
             0.3,
             "#f1b6da"
            ],
            [
             0.4,
             "#fde0ef"
            ],
            [
             0.5,
             "#f7f7f7"
            ],
            [
             0.6,
             "#e6f5d0"
            ],
            [
             0.7,
             "#b8e186"
            ],
            [
             0.8,
             "#7fbc41"
            ],
            [
             0.9,
             "#4d9221"
            ],
            [
             1,
             "#276419"
            ]
           ],
           "sequential": [
            [
             0,
             "#0d0887"
            ],
            [
             0.1111111111111111,
             "#46039f"
            ],
            [
             0.2222222222222222,
             "#7201a8"
            ],
            [
             0.3333333333333333,
             "#9c179e"
            ],
            [
             0.4444444444444444,
             "#bd3786"
            ],
            [
             0.5555555555555556,
             "#d8576b"
            ],
            [
             0.6666666666666666,
             "#ed7953"
            ],
            [
             0.7777777777777778,
             "#fb9f3a"
            ],
            [
             0.8888888888888888,
             "#fdca26"
            ],
            [
             1,
             "#f0f921"
            ]
           ],
           "sequentialminus": [
            [
             0,
             "#0d0887"
            ],
            [
             0.1111111111111111,
             "#46039f"
            ],
            [
             0.2222222222222222,
             "#7201a8"
            ],
            [
             0.3333333333333333,
             "#9c179e"
            ],
            [
             0.4444444444444444,
             "#bd3786"
            ],
            [
             0.5555555555555556,
             "#d8576b"
            ],
            [
             0.6666666666666666,
             "#ed7953"
            ],
            [
             0.7777777777777778,
             "#fb9f3a"
            ],
            [
             0.8888888888888888,
             "#fdca26"
            ],
            [
             1,
             "#f0f921"
            ]
           ]
          },
          "colorway": [
           "#636efa",
           "#EF553B",
           "#00cc96",
           "#ab63fa",
           "#FFA15A",
           "#19d3f3",
           "#FF6692",
           "#B6E880",
           "#FF97FF",
           "#FECB52"
          ],
          "font": {
           "color": "#2a3f5f"
          },
          "geo": {
           "bgcolor": "white",
           "lakecolor": "white",
           "landcolor": "#E5ECF6",
           "showlakes": true,
           "showland": true,
           "subunitcolor": "white"
          },
          "hoverlabel": {
           "align": "left"
          },
          "hovermode": "closest",
          "mapbox": {
           "style": "light"
          },
          "paper_bgcolor": "white",
          "plot_bgcolor": "#E5ECF6",
          "polar": {
           "angularaxis": {
            "gridcolor": "white",
            "linecolor": "white",
            "ticks": ""
           },
           "bgcolor": "#E5ECF6",
           "radialaxis": {
            "gridcolor": "white",
            "linecolor": "white",
            "ticks": ""
           }
          },
          "scene": {
           "xaxis": {
            "backgroundcolor": "#E5ECF6",
            "gridcolor": "white",
            "gridwidth": 2,
            "linecolor": "white",
            "showbackground": true,
            "ticks": "",
            "zerolinecolor": "white"
           },
           "yaxis": {
            "backgroundcolor": "#E5ECF6",
            "gridcolor": "white",
            "gridwidth": 2,
            "linecolor": "white",
            "showbackground": true,
            "ticks": "",
            "zerolinecolor": "white"
           },
           "zaxis": {
            "backgroundcolor": "#E5ECF6",
            "gridcolor": "white",
            "gridwidth": 2,
            "linecolor": "white",
            "showbackground": true,
            "ticks": "",
            "zerolinecolor": "white"
           }
          },
          "shapedefaults": {
           "line": {
            "color": "#2a3f5f"
           }
          },
          "ternary": {
           "aaxis": {
            "gridcolor": "white",
            "linecolor": "white",
            "ticks": ""
           },
           "baxis": {
            "gridcolor": "white",
            "linecolor": "white",
            "ticks": ""
           },
           "bgcolor": "#E5ECF6",
           "caxis": {
            "gridcolor": "white",
            "linecolor": "white",
            "ticks": ""
           }
          },
          "title": {
           "x": 0.05
          },
          "xaxis": {
           "automargin": true,
           "gridcolor": "white",
           "linecolor": "white",
           "ticks": "",
           "title": {
            "standoff": 15
           },
           "zerolinecolor": "white",
           "zerolinewidth": 2
          },
          "yaxis": {
           "automargin": true,
           "gridcolor": "white",
           "linecolor": "white",
           "ticks": "",
           "title": {
            "standoff": 15
           },
           "zerolinecolor": "white",
           "zerolinewidth": 2
          }
         }
        },
        "width": 600,
        "xaxis": {
         "anchor": "y",
         "domain": [
          0,
          1
         ],
         "title": {
          "text": "PC 1 (53.8%)"
         }
        },
        "yaxis": {
         "anchor": "x",
         "domain": [
          0,
          1
         ],
         "title": {
          "text": "PC 2 (27.3%)"
         }
        }
       }
      },
      "text/html": [
       "<div>                            <div id=\"0924b367-dbf6-4920-b358-5b1dd2c9a1b7\" class=\"plotly-graph-div\" style=\"height:600px; width:600px;\"></div>            <script type=\"text/javascript\">                require([\"plotly\"], function(Plotly) {                    window.PLOTLYENV=window.PLOTLYENV || {};                                    if (document.getElementById(\"0924b367-dbf6-4920-b358-5b1dd2c9a1b7\")) {                    Plotly.newPlot(                        \"0924b367-dbf6-4920-b358-5b1dd2c9a1b7\",                        [{\"hovertemplate\":\"color=A<br>symbol=Intron<br>0=%{x}<br>1=%{y}<extra></extra>\",\"legendgroup\":\"A, Intron\",\"marker\":{\"color\":\"#636efa\",\"symbol\":\"circle\",\"size\":13},\"mode\":\"markers\",\"name\":\"A, Intron\",\"orientation\":\"v\",\"showlegend\":true,\"x\":[3.139468831210143,-0.4158109674792232,-2.164514762937479,-2.7451537549473977,-2.871667620753836,-2.7592529994864186,-2.159636069823674,-1.8707904236496529,-0.5989880052934549,-0.24476574922906263,2.5520520847501653,3.3395964813407217],\"xaxis\":\"x\",\"y\":[0.9338208057473384,3.146919992069909,1.9357239323776905,1.0159646961914681,0.2412630550293468,-0.27730931794635355,-1.183312045427898,-1.0436902077459806,-1.8008919889024435,-1.9902083266931663,-1.2267376314804779,0.024211547277230308],\"yaxis\":\"y\",\"type\":\"scatter\"},{\"hovertemplate\":\"color=A<br>symbol=Exon<br>0=%{x}<br>1=%{y}<extra></extra>\",\"legendgroup\":\"A, Exon\",\"marker\":{\"color\":\"#636efa\",\"symbol\":\"diamond\",\"size\":13},\"mode\":\"markers\",\"name\":\"A, Exon\",\"orientation\":\"v\",\"showlegend\":true,\"x\":[3.4486702348781932,2.877111774099904,0.7440716278666832,-1.2175103495037332,-1.7720637504522156,-1.8239948711288763,-1.1481228450087944,-0.35329003125688163,0.384895379383665,1.010809962495503,3.1939704362138523,3.458338529322877],\"xaxis\":\"x\",\"y\":[0.5358111570199036,2.016636913216894,2.442668056792678,1.5237931526169364,0.2124927866909282,-0.1627713329672777,-0.9472602311027467,-1.0693332113022496,-1.1141141158453451,-0.9770828604639302,-0.8625220988310626,-0.019765337850230505],\"yaxis\":\"y\",\"type\":\"scatter\"},{\"hovertemplate\":\"color=B<br>symbol=Intron<br>0=%{x}<br>1=%{y}<extra></extra>\",\"legendgroup\":\"B, Intron\",\"marker\":{\"color\":\"#EF553B\",\"symbol\":\"circle\",\"size\":13},\"mode\":\"markers\",\"name\":\"B, Intron\",\"orientation\":\"v\",\"showlegend\":true,\"x\":[2.4096567967043963,-1.9199688461422786,-1.0262658874422241,-2.6829929205191814,-2.6694228716452195,-2.8491051058863777,-2.4076571963631666,-0.5740252891191248,0.19747843528258352,1.6568903971290811,3.062931922212817,3.450346461155349],\"xaxis\":\"x\",\"y\":[2.3147239008942107,1.1435698432792263,2.916261991320024,1.0066010227301574,-0.6737891453790422,-0.2402592457477616,-1.0252316961163632,-1.7510701218415736,-1.610936146173276,-1.9522410555538867,-1.1639967965661564,-0.290919790638993],\"yaxis\":\"y\",\"type\":\"scatter\"},{\"hovertemplate\":\"color=B<br>symbol=Exon<br>0=%{x}<br>1=%{y}<extra></extra>\",\"legendgroup\":\"B, Exon\",\"marker\":{\"color\":\"#EF553B\",\"symbol\":\"diamond\",\"size\":13},\"mode\":\"markers\",\"name\":\"B, Exon\",\"orientation\":\"v\",\"showlegend\":true,\"x\":[3.2908986373266065,1.6181101456589235,1.8569426229618355,-0.9067271175918578,-1.863643289817785,-1.951410731710397,-1.6046001819596374,0.3339057516870727,1.1225174725152243,1.8059210185665857,3.2826045643908044,3.301685950478966],\"xaxis\":\"x\",\"y\":[0.9164821375236152,2.3905915088374683,2.5910200018699405,1.6979190211715622,-0.4983342698569592,-0.3281857758573428,-0.975666094690166,-1.2503252654488783,-1.075648969779396,-1.3300548670068262,-0.9572077839933525,0.09616250932080908],\"yaxis\":\"y\",\"type\":\"scatter\"},{\"hovertemplate\":\"color=C<br>symbol=Intron<br>0=%{x}<br>1=%{y}<extra></extra>\",\"legendgroup\":\"C, Intron\",\"marker\":{\"color\":\"#00cc96\",\"symbol\":\"circle\",\"size\":13},\"mode\":\"markers\",\"name\":\"C, Intron\",\"orientation\":\"v\",\"showlegend\":true,\"x\":[0.9400777330571333,-1.5743708377454226,-2.775466445646567,-2.842524547637593,-2.711266034839194,-2.5023858475017677,-2.500242365633226,-2.0013733160267595,-0.1456694029021436,1.5062703091112168,1.2542841153018993,2.7910462601087467],\"xaxis\":\"x\",\"y\":[3.394936197015489,2.6762604169437316,0.9043395315690852,0.6415673828826396,-0.5210136385574916,-0.8869833503775059,-0.9662421235660628,-1.0992323898444958,-1.7850133140459443,-1.7730149279396197,-2.004151993590083,-1.3264189382415688],\"yaxis\":\"y\",\"type\":\"scatter\"},{\"hovertemplate\":\"color=C<br>symbol=Exon<br>0=%{x}<br>1=%{y}<extra></extra>\",\"legendgroup\":\"C, Exon\",\"marker\":{\"color\":\"#00cc96\",\"symbol\":\"diamond\",\"size\":13},\"mode\":\"markers\",\"name\":\"C, Exon\",\"orientation\":\"v\",\"showlegend\":true,\"x\":[3.108578549781031,1.7611686761732257,-1.3037431365477359,-1.410563543424996,-1.8491180602285515,-1.4562783029587143,-1.643241966838585,-0.7144916648854222,0.8822155365815927,1.7942507257109255,2.3128997468930237,3.002465727880305],\"xaxis\":\"x\",\"y\":[1.8014721872590633,2.714084586531341,1.055537992977617,0.9207138745763037,-0.41572244223502763,-0.9339856996480593,-0.8054500537729764,-0.9892176468918458,-1.1253497628182634,-1.1758225044501838,-0.9899965361541804,-0.8101056224484938],\"yaxis\":\"y\",\"type\":\"scatter\"},{\"hovertemplate\":\"color=D<br>symbol=Intron<br>0=%{x}<br>1=%{y}<extra></extra>\",\"legendgroup\":\"D, Intron\",\"marker\":{\"color\":\"#ab63fa\",\"symbol\":\"circle\",\"size\":13},\"mode\":\"markers\",\"name\":\"D, Intron\",\"orientation\":\"v\",\"showlegend\":true,\"x\":[0.5529273146877808,-2.0539738569136063,-1.2580180180782348,-2.6783946569513883,-2.9347661291814306,-2.8706397454773436,-2.1680465693434527,-1.0900950543052061,-0.36713162484826495,0.8491267012396031,1.1768864020324896,2.2501973641411386],\"xaxis\":\"x\",\"y\":[3.435388997483651,1.758023738931877,2.4787821333792044,1.0056254514850482,0.3117645166841322,-0.3067145218869309,-1.1176251044141212,-1.3299189345564602,-1.7905247750815718,-1.9593216635293056,-1.8364516282180297,-0.7436073654329041],\"yaxis\":\"y\",\"type\":\"scatter\"},{\"hovertemplate\":\"color=D<br>symbol=Exon<br>0=%{x}<br>1=%{y}<extra></extra>\",\"legendgroup\":\"D, Exon\",\"marker\":{\"color\":\"#ab63fa\",\"symbol\":\"diamond\",\"size\":13},\"mode\":\"markers\",\"name\":\"D, Exon\",\"orientation\":\"v\",\"showlegend\":true,\"x\":[2.7820181541279103,1.4417221598215855,1.9304588827778075,-1.07437736693362,-1.8581961654267072,-1.9016904030592165,-0.8017143730313133,0.2939799746666011,0.44140252013571907,1.3856862545627409,2.1395577239207926,2.953064725169201],\"xaxis\":\"x\",\"y\":[1.9851787102487,2.0644551089616625,2.5363769879575453,1.3944837956632958,0.5906499509211435,-0.2550396604827015,-0.9870720178437262,-1.1521042943417623,-1.0421394848582546,-1.278976729561046,-1.0798153133422923,-0.4863814241088203],\"yaxis\":\"y\",\"type\":\"scatter\"}],                        {\"template\":{\"data\":{\"histogram2dcontour\":[{\"type\":\"histogram2dcontour\",\"colorbar\":{\"outlinewidth\":0,\"ticks\":\"\"},\"colorscale\":[[0.0,\"#0d0887\"],[0.1111111111111111,\"#46039f\"],[0.2222222222222222,\"#7201a8\"],[0.3333333333333333,\"#9c179e\"],[0.4444444444444444,\"#bd3786\"],[0.5555555555555556,\"#d8576b\"],[0.6666666666666666,\"#ed7953\"],[0.7777777777777778,\"#fb9f3a\"],[0.8888888888888888,\"#fdca26\"],[1.0,\"#f0f921\"]]}],\"choropleth\":[{\"type\":\"choropleth\",\"colorbar\":{\"outlinewidth\":0,\"ticks\":\"\"}}],\"histogram2d\":[{\"type\":\"histogram2d\",\"colorbar\":{\"outlinewidth\":0,\"ticks\":\"\"},\"colorscale\":[[0.0,\"#0d0887\"],[0.1111111111111111,\"#46039f\"],[0.2222222222222222,\"#7201a8\"],[0.3333333333333333,\"#9c179e\"],[0.4444444444444444,\"#bd3786\"],[0.5555555555555556,\"#d8576b\"],[0.6666666666666666,\"#ed7953\"],[0.7777777777777778,\"#fb9f3a\"],[0.8888888888888888,\"#fdca26\"],[1.0,\"#f0f921\"]]}],\"heatmap\":[{\"type\":\"heatmap\",\"colorbar\":{\"outlinewidth\":0,\"ticks\":\"\"},\"colorscale\":[[0.0,\"#0d0887\"],[0.1111111111111111,\"#46039f\"],[0.2222222222222222,\"#7201a8\"],[0.3333333333333333,\"#9c179e\"],[0.4444444444444444,\"#bd3786\"],[0.5555555555555556,\"#d8576b\"],[0.6666666666666666,\"#ed7953\"],[0.7777777777777778,\"#fb9f3a\"],[0.8888888888888888,\"#fdca26\"],[1.0,\"#f0f921\"]]}],\"heatmapgl\":[{\"type\":\"heatmapgl\",\"colorbar\":{\"outlinewidth\":0,\"ticks\":\"\"},\"colorscale\":[[0.0,\"#0d0887\"],[0.1111111111111111,\"#46039f\"],[0.2222222222222222,\"#7201a8\"],[0.3333333333333333,\"#9c179e\"],[0.4444444444444444,\"#bd3786\"],[0.5555555555555556,\"#d8576b\"],[0.6666666666666666,\"#ed7953\"],[0.7777777777777778,\"#fb9f3a\"],[0.8888888888888888,\"#fdca26\"],[1.0,\"#f0f921\"]]}],\"contourcarpet\":[{\"type\":\"contourcarpet\",\"colorbar\":{\"outlinewidth\":0,\"ticks\":\"\"}}],\"contour\":[{\"type\":\"contour\",\"colorbar\":{\"outlinewidth\":0,\"ticks\":\"\"},\"colorscale\":[[0.0,\"#0d0887\"],[0.1111111111111111,\"#46039f\"],[0.2222222222222222,\"#7201a8\"],[0.3333333333333333,\"#9c179e\"],[0.4444444444444444,\"#bd3786\"],[0.5555555555555556,\"#d8576b\"],[0.6666666666666666,\"#ed7953\"],[0.7777777777777778,\"#fb9f3a\"],[0.8888888888888888,\"#fdca26\"],[1.0,\"#f0f921\"]]}],\"surface\":[{\"type\":\"surface\",\"colorbar\":{\"outlinewidth\":0,\"ticks\":\"\"},\"colorscale\":[[0.0,\"#0d0887\"],[0.1111111111111111,\"#46039f\"],[0.2222222222222222,\"#7201a8\"],[0.3333333333333333,\"#9c179e\"],[0.4444444444444444,\"#bd3786\"],[0.5555555555555556,\"#d8576b\"],[0.6666666666666666,\"#ed7953\"],[0.7777777777777778,\"#fb9f3a\"],[0.8888888888888888,\"#fdca26\"],[1.0,\"#f0f921\"]]}],\"mesh3d\":[{\"type\":\"mesh3d\",\"colorbar\":{\"outlinewidth\":0,\"ticks\":\"\"}}],\"scatter\":[{\"fillpattern\":{\"fillmode\":\"overlay\",\"size\":10,\"solidity\":0.2},\"type\":\"scatter\"}],\"parcoords\":[{\"type\":\"parcoords\",\"line\":{\"colorbar\":{\"outlinewidth\":0,\"ticks\":\"\"}}}],\"scatterpolargl\":[{\"type\":\"scatterpolargl\",\"marker\":{\"colorbar\":{\"outlinewidth\":0,\"ticks\":\"\"}}}],\"bar\":[{\"error_x\":{\"color\":\"#2a3f5f\"},\"error_y\":{\"color\":\"#2a3f5f\"},\"marker\":{\"line\":{\"color\":\"#E5ECF6\",\"width\":0.5},\"pattern\":{\"fillmode\":\"overlay\",\"size\":10,\"solidity\":0.2}},\"type\":\"bar\"}],\"scattergeo\":[{\"type\":\"scattergeo\",\"marker\":{\"colorbar\":{\"outlinewidth\":0,\"ticks\":\"\"}}}],\"scatterpolar\":[{\"type\":\"scatterpolar\",\"marker\":{\"colorbar\":{\"outlinewidth\":0,\"ticks\":\"\"}}}],\"histogram\":[{\"marker\":{\"pattern\":{\"fillmode\":\"overlay\",\"size\":10,\"solidity\":0.2}},\"type\":\"histogram\"}],\"scattergl\":[{\"type\":\"scattergl\",\"marker\":{\"colorbar\":{\"outlinewidth\":0,\"ticks\":\"\"}}}],\"scatter3d\":[{\"type\":\"scatter3d\",\"line\":{\"colorbar\":{\"outlinewidth\":0,\"ticks\":\"\"}},\"marker\":{\"colorbar\":{\"outlinewidth\":0,\"ticks\":\"\"}}}],\"scattermapbox\":[{\"type\":\"scattermapbox\",\"marker\":{\"colorbar\":{\"outlinewidth\":0,\"ticks\":\"\"}}}],\"scatterternary\":[{\"type\":\"scatterternary\",\"marker\":{\"colorbar\":{\"outlinewidth\":0,\"ticks\":\"\"}}}],\"scattercarpet\":[{\"type\":\"scattercarpet\",\"marker\":{\"colorbar\":{\"outlinewidth\":0,\"ticks\":\"\"}}}],\"carpet\":[{\"aaxis\":{\"endlinecolor\":\"#2a3f5f\",\"gridcolor\":\"white\",\"linecolor\":\"white\",\"minorgridcolor\":\"white\",\"startlinecolor\":\"#2a3f5f\"},\"baxis\":{\"endlinecolor\":\"#2a3f5f\",\"gridcolor\":\"white\",\"linecolor\":\"white\",\"minorgridcolor\":\"white\",\"startlinecolor\":\"#2a3f5f\"},\"type\":\"carpet\"}],\"table\":[{\"cells\":{\"fill\":{\"color\":\"#EBF0F8\"},\"line\":{\"color\":\"white\"}},\"header\":{\"fill\":{\"color\":\"#C8D4E3\"},\"line\":{\"color\":\"white\"}},\"type\":\"table\"}],\"barpolar\":[{\"marker\":{\"line\":{\"color\":\"#E5ECF6\",\"width\":0.5},\"pattern\":{\"fillmode\":\"overlay\",\"size\":10,\"solidity\":0.2}},\"type\":\"barpolar\"}],\"pie\":[{\"automargin\":true,\"type\":\"pie\"}]},\"layout\":{\"autotypenumbers\":\"strict\",\"colorway\":[\"#636efa\",\"#EF553B\",\"#00cc96\",\"#ab63fa\",\"#FFA15A\",\"#19d3f3\",\"#FF6692\",\"#B6E880\",\"#FF97FF\",\"#FECB52\"],\"font\":{\"color\":\"#2a3f5f\"},\"hovermode\":\"closest\",\"hoverlabel\":{\"align\":\"left\"},\"paper_bgcolor\":\"white\",\"plot_bgcolor\":\"#E5ECF6\",\"polar\":{\"bgcolor\":\"#E5ECF6\",\"angularaxis\":{\"gridcolor\":\"white\",\"linecolor\":\"white\",\"ticks\":\"\"},\"radialaxis\":{\"gridcolor\":\"white\",\"linecolor\":\"white\",\"ticks\":\"\"}},\"ternary\":{\"bgcolor\":\"#E5ECF6\",\"aaxis\":{\"gridcolor\":\"white\",\"linecolor\":\"white\",\"ticks\":\"\"},\"baxis\":{\"gridcolor\":\"white\",\"linecolor\":\"white\",\"ticks\":\"\"},\"caxis\":{\"gridcolor\":\"white\",\"linecolor\":\"white\",\"ticks\":\"\"}},\"coloraxis\":{\"colorbar\":{\"outlinewidth\":0,\"ticks\":\"\"}},\"colorscale\":{\"sequential\":[[0.0,\"#0d0887\"],[0.1111111111111111,\"#46039f\"],[0.2222222222222222,\"#7201a8\"],[0.3333333333333333,\"#9c179e\"],[0.4444444444444444,\"#bd3786\"],[0.5555555555555556,\"#d8576b\"],[0.6666666666666666,\"#ed7953\"],[0.7777777777777778,\"#fb9f3a\"],[0.8888888888888888,\"#fdca26\"],[1.0,\"#f0f921\"]],\"sequentialminus\":[[0.0,\"#0d0887\"],[0.1111111111111111,\"#46039f\"],[0.2222222222222222,\"#7201a8\"],[0.3333333333333333,\"#9c179e\"],[0.4444444444444444,\"#bd3786\"],[0.5555555555555556,\"#d8576b\"],[0.6666666666666666,\"#ed7953\"],[0.7777777777777778,\"#fb9f3a\"],[0.8888888888888888,\"#fdca26\"],[1.0,\"#f0f921\"]],\"diverging\":[[0,\"#8e0152\"],[0.1,\"#c51b7d\"],[0.2,\"#de77ae\"],[0.3,\"#f1b6da\"],[0.4,\"#fde0ef\"],[0.5,\"#f7f7f7\"],[0.6,\"#e6f5d0\"],[0.7,\"#b8e186\"],[0.8,\"#7fbc41\"],[0.9,\"#4d9221\"],[1,\"#276419\"]]},\"xaxis\":{\"gridcolor\":\"white\",\"linecolor\":\"white\",\"ticks\":\"\",\"title\":{\"standoff\":15},\"zerolinecolor\":\"white\",\"automargin\":true,\"zerolinewidth\":2},\"yaxis\":{\"gridcolor\":\"white\",\"linecolor\":\"white\",\"ticks\":\"\",\"title\":{\"standoff\":15},\"zerolinecolor\":\"white\",\"automargin\":true,\"zerolinewidth\":2},\"scene\":{\"xaxis\":{\"backgroundcolor\":\"#E5ECF6\",\"gridcolor\":\"white\",\"linecolor\":\"white\",\"showbackground\":true,\"ticks\":\"\",\"zerolinecolor\":\"white\",\"gridwidth\":2},\"yaxis\":{\"backgroundcolor\":\"#E5ECF6\",\"gridcolor\":\"white\",\"linecolor\":\"white\",\"showbackground\":true,\"ticks\":\"\",\"zerolinecolor\":\"white\",\"gridwidth\":2},\"zaxis\":{\"backgroundcolor\":\"#E5ECF6\",\"gridcolor\":\"white\",\"linecolor\":\"white\",\"showbackground\":true,\"ticks\":\"\",\"zerolinecolor\":\"white\",\"gridwidth\":2}},\"shapedefaults\":{\"line\":{\"color\":\"#2a3f5f\"}},\"annotationdefaults\":{\"arrowcolor\":\"#2a3f5f\",\"arrowhead\":0,\"arrowwidth\":1},\"geo\":{\"bgcolor\":\"white\",\"landcolor\":\"#E5ECF6\",\"subunitcolor\":\"white\",\"showland\":true,\"showlakes\":true,\"lakecolor\":\"white\"},\"title\":{\"x\":0.05},\"mapbox\":{\"style\":\"light\"}}},\"xaxis\":{\"anchor\":\"y\",\"domain\":[0.0,1.0],\"title\":{\"text\":\"PC 1 (53.8%)\"}},\"yaxis\":{\"anchor\":\"x\",\"domain\":[0.0,1.0],\"title\":{\"text\":\"PC 2 (27.3%)\"}},\"legend\":{\"title\":{\"text\":\"color, symbol\"},\"tracegroupgap\":0},\"margin\":{\"t\":60},\"height\":600,\"width\":600,\"plot_bgcolor\":\"rgb(243,243,243)\"},                        {\"responsive\": true}                    ).then(function(){\n",
       "                            \n",
       "var gd = document.getElementById('0924b367-dbf6-4920-b358-5b1dd2c9a1b7');\n",
       "var x = new MutationObserver(function (mutations, observer) {{\n",
       "        var display = window.getComputedStyle(gd).display;\n",
       "        if (!display || display === 'none') {{\n",
       "            console.log([gd, 'removed!']);\n",
       "            Plotly.purge(gd);\n",
       "            observer.disconnect();\n",
       "        }}\n",
       "}});\n",
       "\n",
       "// Listen for the removal of the full notebook cells\n",
       "var notebookContainer = gd.closest('#notebook-container');\n",
       "if (notebookContainer) {{\n",
       "    x.observe(notebookContainer, {childList: true});\n",
       "}}\n",
       "\n",
       "// Listen for the clearing of the current output cell\n",
       "var outputEl = gd.closest('.output');\n",
       "if (outputEl) {{\n",
       "    x.observe(outputEl, {childList: true});\n",
       "}}\n",
       "\n",
       "                        })                };                });            </script>        </div>"
      ]
     },
     "metadata": {},
     "output_type": "display_data"
    },
    {
     "data": {
      "application/vnd.plotly.v1+json": {
       "config": {
        "plotlyServerURL": "https://plot.ly"
       },
       "data": [
        {
         "hovertemplate": "color=00<br>symbol=WT<br>1=%{x}<br>2=%{y}<extra></extra>",
         "legendgroup": "00, WT",
         "marker": {
          "color": "#636efa",
          "size": 13,
          "symbol": "circle"
         },
         "mode": "markers",
         "name": "00, WT",
         "orientation": "v",
         "showlegend": true,
         "type": "scatter",
         "x": [
          0.9338208057473384,
          2.3147239008942107,
          3.394936197015489,
          3.435388997483651,
          0.5358111570199036,
          0.9164821375236152,
          1.8014721872590633,
          1.9851787102487
         ],
         "xaxis": "x",
         "y": [
          1.6050160655121133,
          1.2159582732331298,
          1.4595414014085506,
          0.7991945610313989,
          -0.08762564111905112,
          -0.2953405336557701,
          -0.18214007026275864,
          -0.4994816016501273
         ],
         "yaxis": "y"
        },
        {
         "hovertemplate": "color=02<br>symbol=WT<br>1=%{x}<br>2=%{y}<extra></extra>",
         "legendgroup": "02, WT",
         "marker": {
          "color": "#EF553B",
          "size": 13,
          "symbol": "circle"
         },
         "mode": "markers",
         "name": "02, WT",
         "orientation": "v",
         "showlegend": true,
         "type": "scatter",
         "x": [
          3.146919992069909,
          1.1435698432792263,
          2.6762604169437316,
          1.758023738931877,
          2.016636913216894,
          2.3905915088374683,
          2.714084586531341,
          2.0644551089616625
         ],
         "xaxis": "x",
         "y": [
          1.5733281590884272,
          0.5981076461928795,
          0.5871872208170353,
          0.44993042078631645,
          -0.3249097440984648,
          -0.9130769606337658,
          -0.5264490084631988,
          -1.2160688891477869
         ],
         "yaxis": "y"
        },
        {
         "hovertemplate": "color=04<br>symbol=WT<br>1=%{x}<br>2=%{y}<extra></extra>",
         "legendgroup": "04, WT",
         "marker": {
          "color": "#00cc96",
          "size": 13,
          "symbol": "circle"
         },
         "mode": "markers",
         "name": "04, WT",
         "orientation": "v",
         "showlegend": true,
         "type": "scatter",
         "x": [
          1.9357239323776905,
          2.916261991320024,
          0.9043395315690852,
          2.4787821333792044,
          2.442668056792678,
          2.5910200018699405,
          1.055537992977617,
          2.5363769879575453
         ],
         "xaxis": "x",
         "y": [
          0.4234216416872423,
          0.561977368084073,
          0.5901956218222829,
          0.5294457918774783,
          -0.874580356424844,
          -0.5947033540741672,
          -1.250927481211026,
          -0.5393185188829211
         ],
         "yaxis": "y"
        },
        {
         "hovertemplate": "color=06<br>symbol=WT<br>1=%{x}<br>2=%{y}<extra></extra>",
         "legendgroup": "06, WT",
         "marker": {
          "color": "#ab63fa",
          "size": 13,
          "symbol": "circle"
         },
         "mode": "markers",
         "name": "06, WT",
         "orientation": "v",
         "showlegend": true,
         "type": "scatter",
         "x": [
          1.0159646961914681,
          1.0066010227301574,
          0.6415673828826396,
          1.0056254514850482,
          1.5237931526169364,
          1.6979190211715622,
          0.9207138745763037,
          1.3944837956632958
         ],
         "xaxis": "x",
         "y": [
          0.4975811361026757,
          0.44263584556516905,
          0.7788975410081127,
          0.5751619122562818,
          -1.074186769570013,
          -1.1441658811420992,
          -1.1733061062839951,
          -1.2093608992942728
         ],
         "yaxis": "y"
        },
        {
         "hovertemplate": "color=08<br>symbol=WT<br>1=%{x}<br>2=%{y}<extra></extra>",
         "legendgroup": "08, WT",
         "marker": {
          "color": "#FFA15A",
          "size": 13,
          "symbol": "circle"
         },
         "mode": "markers",
         "name": "08, WT",
         "orientation": "v",
         "showlegend": true,
         "type": "scatter",
         "x": [
          0.2412630550293468,
          -0.6737891453790422,
          -0.5210136385574916,
          0.3117645166841322,
          0.2124927866909282,
          -0.4983342698569592,
          -0.41572244223502763,
          0.5906499509211435
         ],
         "xaxis": "x",
         "y": [
          0.8336620315751527,
          0.7478490003980566,
          0.7835760772335738,
          0.8556933224835792,
          -1.049938273783036,
          -0.9329028639103578,
          -0.9160221780201456,
          -0.9394345411097975
         ],
         "yaxis": "y"
        },
        {
         "hovertemplate": "color=10<br>symbol=WT<br>1=%{x}<br>2=%{y}<extra></extra>",
         "legendgroup": "10, WT",
         "marker": {
          "color": "#19d3f3",
          "size": 13,
          "symbol": "circle"
         },
         "mode": "markers",
         "name": "10, WT",
         "orientation": "v",
         "showlegend": true,
         "type": "scatter",
         "x": [
          -0.27730931794635355,
          -0.2402592457477616,
          -0.8869833503775059,
          -0.3067145218869309,
          -0.1627713329672777,
          -0.3281857758573428,
          -0.9339856996480593,
          -0.2550396604827015
         ],
         "xaxis": "x",
         "y": [
          0.8921492181238877,
          0.8671123635375246,
          0.6387264237043004,
          0.9268873225658818,
          -1.0034048712359338,
          -0.890103431180037,
          -1.0033031836231858,
          -0.9706740222885357
         ],
         "yaxis": "y"
        },
        {
         "hovertemplate": "color=12<br>symbol=WT<br>1=%{x}<br>2=%{y}<extra></extra>",
         "legendgroup": "12, WT",
         "marker": {
          "color": "#FF6692",
          "size": 13,
          "symbol": "circle"
         },
         "mode": "markers",
         "name": "12, WT",
         "orientation": "v",
         "showlegend": true,
         "type": "scatter",
         "x": [
          -1.183312045427898,
          -1.0252316961163632,
          -0.9662421235660628,
          -1.1176251044141212,
          -0.9472602311027467,
          -0.975666094690166,
          -0.8054500537729764,
          -0.9870720178437262
         ],
         "xaxis": "x",
         "y": [
          0.5494241926155835,
          0.7531046879676079,
          0.8557464099061531,
          0.5632041493660737,
          -1.0603689946945238,
          -0.9347467938303217,
          -0.9177906511321744,
          -1.3755304942187832
         ],
         "yaxis": "y"
        },
        {
         "hovertemplate": "color=14<br>symbol=WT<br>1=%{x}<br>2=%{y}<extra></extra>",
         "legendgroup": "14, WT",
         "marker": {
          "color": "#B6E880",
          "size": 13,
          "symbol": "circle"
         },
         "mode": "markers",
         "name": "14, WT",
         "orientation": "v",
         "showlegend": true,
         "type": "scatter",
         "x": [
          -1.0436902077459806,
          -1.7510701218415736,
          -1.0992323898444958,
          -1.3299189345564602,
          -1.0693332113022496,
          -1.2503252654488783,
          -0.9892176468918458,
          -1.1521042943417623
         ],
         "xaxis": "x",
         "y": [
          0.6979354487641556,
          0.5716715000711776,
          0.5853843752588204,
          0.4639691217890404,
          -1.0875579131899213,
          -1.367884423650998,
          -1.3407033147385845,
          -1.406947437438278
         ],
         "yaxis": "y"
        },
        {
         "hovertemplate": "color=16<br>symbol=WT<br>1=%{x}<br>2=%{y}<extra></extra>",
         "legendgroup": "16, WT",
         "marker": {
          "color": "#FF97FF",
          "size": 13,
          "symbol": "circle"
         },
         "mode": "markers",
         "name": "16, WT",
         "orientation": "v",
         "showlegend": true,
         "type": "scatter",
         "x": [
          -1.8008919889024435,
          -1.610936146173276,
          -1.7850133140459443,
          -1.7905247750815718,
          -1.1141141158453451,
          -1.075648969779396,
          -1.1253497628182634,
          -1.0421394848582546
         ],
         "xaxis": "x",
         "y": [
          0.6201346121664709,
          0.4350588720180773,
          0.7000221812190097,
          0.44252937493336547,
          -1.4410153601472082,
          -1.2822912208537531,
          -1.2928858936928078,
          -1.3728042038881247
         ],
         "yaxis": "y"
        },
        {
         "hovertemplate": "color=18<br>symbol=WT<br>1=%{x}<br>2=%{y}<extra></extra>",
         "legendgroup": "18, WT",
         "marker": {
          "color": "#FECB52",
          "size": 13,
          "symbol": "circle"
         },
         "mode": "markers",
         "name": "18, WT",
         "orientation": "v",
         "showlegend": true,
         "type": "scatter",
         "x": [
          -1.9902083266931663,
          -1.9522410555538867,
          -1.7730149279396197,
          -1.9593216635293056,
          -0.9770828604639302,
          -1.3300548670068262,
          -1.1758225044501838,
          -1.278976729561046
         ],
         "xaxis": "x",
         "y": [
          0.7069624999892632,
          1.0826724445661011,
          0.9355475444969009,
          0.7168053382377484,
          -1.4014607555958523,
          -0.9895127115491698,
          -1.0442554039376237,
          -1.1528149027491885
         ],
         "yaxis": "y"
        },
        {
         "hovertemplate": "color=20<br>symbol=WT<br>1=%{x}<br>2=%{y}<extra></extra>",
         "legendgroup": "20, WT",
         "marker": {
          "color": "#636efa",
          "size": 13,
          "symbol": "circle"
         },
         "mode": "markers",
         "name": "20, WT",
         "orientation": "v",
         "showlegend": true,
         "type": "scatter",
         "x": [
          -1.2267376314804779,
          -1.1639967965661564,
          -2.004151993590083,
          -1.8364516282180297,
          -0.8625220988310626,
          -0.9572077839933525,
          -0.9899965361541804,
          -1.0798153133422923
         ],
         "xaxis": "x",
         "y": [
          1.6469602136394015,
          1.5856204783717867,
          1.3248189853022279,
          1.2365355814251886,
          -0.33798378728537376,
          0.10548551980102541,
          -0.8702776636091447,
          -0.9336810741757607
         ],
         "yaxis": "y"
        },
        {
         "hovertemplate": "color=22<br>symbol=WT<br>1=%{x}<br>2=%{y}<extra></extra>",
         "legendgroup": "22, WT",
         "marker": {
          "color": "#EF553B",
          "size": 13,
          "symbol": "circle"
         },
         "mode": "markers",
         "name": "22, WT",
         "orientation": "v",
         "showlegend": true,
         "type": "scatter",
         "x": [
          0.024211547277230308,
          -0.290919790638993,
          -1.3264189382415688,
          -0.7436073654329041,
          -0.019765337850230505,
          0.09616250932080908,
          -0.8101056224484938,
          -0.4863814241088203
         ],
         "xaxis": "x",
         "y": [
          1.8072680657010205,
          1.8923044362307315,
          1.6494830920359664,
          1.2952695295471073,
          -0.17293715752383323,
          -0.29621299205598967,
          -0.26566282523647117,
          -0.5004038652559307
         ],
         "yaxis": "y"
        }
       ],
       "layout": {
        "height": 600,
        "legend": {
         "title": {
          "text": "color, symbol"
         },
         "tracegroupgap": 0
        },
        "margin": {
         "t": 60
        },
        "plot_bgcolor": "rgb(243,243,243)",
        "template": {
         "data": {
          "bar": [
           {
            "error_x": {
             "color": "#2a3f5f"
            },
            "error_y": {
             "color": "#2a3f5f"
            },
            "marker": {
             "line": {
              "color": "#E5ECF6",
              "width": 0.5
             },
             "pattern": {
              "fillmode": "overlay",
              "size": 10,
              "solidity": 0.2
             }
            },
            "type": "bar"
           }
          ],
          "barpolar": [
           {
            "marker": {
             "line": {
              "color": "#E5ECF6",
              "width": 0.5
             },
             "pattern": {
              "fillmode": "overlay",
              "size": 10,
              "solidity": 0.2
             }
            },
            "type": "barpolar"
           }
          ],
          "carpet": [
           {
            "aaxis": {
             "endlinecolor": "#2a3f5f",
             "gridcolor": "white",
             "linecolor": "white",
             "minorgridcolor": "white",
             "startlinecolor": "#2a3f5f"
            },
            "baxis": {
             "endlinecolor": "#2a3f5f",
             "gridcolor": "white",
             "linecolor": "white",
             "minorgridcolor": "white",
             "startlinecolor": "#2a3f5f"
            },
            "type": "carpet"
           }
          ],
          "choropleth": [
           {
            "colorbar": {
             "outlinewidth": 0,
             "ticks": ""
            },
            "type": "choropleth"
           }
          ],
          "contour": [
           {
            "colorbar": {
             "outlinewidth": 0,
             "ticks": ""
            },
            "colorscale": [
             [
              0,
              "#0d0887"
             ],
             [
              0.1111111111111111,
              "#46039f"
             ],
             [
              0.2222222222222222,
              "#7201a8"
             ],
             [
              0.3333333333333333,
              "#9c179e"
             ],
             [
              0.4444444444444444,
              "#bd3786"
             ],
             [
              0.5555555555555556,
              "#d8576b"
             ],
             [
              0.6666666666666666,
              "#ed7953"
             ],
             [
              0.7777777777777778,
              "#fb9f3a"
             ],
             [
              0.8888888888888888,
              "#fdca26"
             ],
             [
              1,
              "#f0f921"
             ]
            ],
            "type": "contour"
           }
          ],
          "contourcarpet": [
           {
            "colorbar": {
             "outlinewidth": 0,
             "ticks": ""
            },
            "type": "contourcarpet"
           }
          ],
          "heatmap": [
           {
            "colorbar": {
             "outlinewidth": 0,
             "ticks": ""
            },
            "colorscale": [
             [
              0,
              "#0d0887"
             ],
             [
              0.1111111111111111,
              "#46039f"
             ],
             [
              0.2222222222222222,
              "#7201a8"
             ],
             [
              0.3333333333333333,
              "#9c179e"
             ],
             [
              0.4444444444444444,
              "#bd3786"
             ],
             [
              0.5555555555555556,
              "#d8576b"
             ],
             [
              0.6666666666666666,
              "#ed7953"
             ],
             [
              0.7777777777777778,
              "#fb9f3a"
             ],
             [
              0.8888888888888888,
              "#fdca26"
             ],
             [
              1,
              "#f0f921"
             ]
            ],
            "type": "heatmap"
           }
          ],
          "heatmapgl": [
           {
            "colorbar": {
             "outlinewidth": 0,
             "ticks": ""
            },
            "colorscale": [
             [
              0,
              "#0d0887"
             ],
             [
              0.1111111111111111,
              "#46039f"
             ],
             [
              0.2222222222222222,
              "#7201a8"
             ],
             [
              0.3333333333333333,
              "#9c179e"
             ],
             [
              0.4444444444444444,
              "#bd3786"
             ],
             [
              0.5555555555555556,
              "#d8576b"
             ],
             [
              0.6666666666666666,
              "#ed7953"
             ],
             [
              0.7777777777777778,
              "#fb9f3a"
             ],
             [
              0.8888888888888888,
              "#fdca26"
             ],
             [
              1,
              "#f0f921"
             ]
            ],
            "type": "heatmapgl"
           }
          ],
          "histogram": [
           {
            "marker": {
             "pattern": {
              "fillmode": "overlay",
              "size": 10,
              "solidity": 0.2
             }
            },
            "type": "histogram"
           }
          ],
          "histogram2d": [
           {
            "colorbar": {
             "outlinewidth": 0,
             "ticks": ""
            },
            "colorscale": [
             [
              0,
              "#0d0887"
             ],
             [
              0.1111111111111111,
              "#46039f"
             ],
             [
              0.2222222222222222,
              "#7201a8"
             ],
             [
              0.3333333333333333,
              "#9c179e"
             ],
             [
              0.4444444444444444,
              "#bd3786"
             ],
             [
              0.5555555555555556,
              "#d8576b"
             ],
             [
              0.6666666666666666,
              "#ed7953"
             ],
             [
              0.7777777777777778,
              "#fb9f3a"
             ],
             [
              0.8888888888888888,
              "#fdca26"
             ],
             [
              1,
              "#f0f921"
             ]
            ],
            "type": "histogram2d"
           }
          ],
          "histogram2dcontour": [
           {
            "colorbar": {
             "outlinewidth": 0,
             "ticks": ""
            },
            "colorscale": [
             [
              0,
              "#0d0887"
             ],
             [
              0.1111111111111111,
              "#46039f"
             ],
             [
              0.2222222222222222,
              "#7201a8"
             ],
             [
              0.3333333333333333,
              "#9c179e"
             ],
             [
              0.4444444444444444,
              "#bd3786"
             ],
             [
              0.5555555555555556,
              "#d8576b"
             ],
             [
              0.6666666666666666,
              "#ed7953"
             ],
             [
              0.7777777777777778,
              "#fb9f3a"
             ],
             [
              0.8888888888888888,
              "#fdca26"
             ],
             [
              1,
              "#f0f921"
             ]
            ],
            "type": "histogram2dcontour"
           }
          ],
          "mesh3d": [
           {
            "colorbar": {
             "outlinewidth": 0,
             "ticks": ""
            },
            "type": "mesh3d"
           }
          ],
          "parcoords": [
           {
            "line": {
             "colorbar": {
              "outlinewidth": 0,
              "ticks": ""
             }
            },
            "type": "parcoords"
           }
          ],
          "pie": [
           {
            "automargin": true,
            "type": "pie"
           }
          ],
          "scatter": [
           {
            "fillpattern": {
             "fillmode": "overlay",
             "size": 10,
             "solidity": 0.2
            },
            "type": "scatter"
           }
          ],
          "scatter3d": [
           {
            "line": {
             "colorbar": {
              "outlinewidth": 0,
              "ticks": ""
             }
            },
            "marker": {
             "colorbar": {
              "outlinewidth": 0,
              "ticks": ""
             }
            },
            "type": "scatter3d"
           }
          ],
          "scattercarpet": [
           {
            "marker": {
             "colorbar": {
              "outlinewidth": 0,
              "ticks": ""
             }
            },
            "type": "scattercarpet"
           }
          ],
          "scattergeo": [
           {
            "marker": {
             "colorbar": {
              "outlinewidth": 0,
              "ticks": ""
             }
            },
            "type": "scattergeo"
           }
          ],
          "scattergl": [
           {
            "marker": {
             "colorbar": {
              "outlinewidth": 0,
              "ticks": ""
             }
            },
            "type": "scattergl"
           }
          ],
          "scattermapbox": [
           {
            "marker": {
             "colorbar": {
              "outlinewidth": 0,
              "ticks": ""
             }
            },
            "type": "scattermapbox"
           }
          ],
          "scatterpolar": [
           {
            "marker": {
             "colorbar": {
              "outlinewidth": 0,
              "ticks": ""
             }
            },
            "type": "scatterpolar"
           }
          ],
          "scatterpolargl": [
           {
            "marker": {
             "colorbar": {
              "outlinewidth": 0,
              "ticks": ""
             }
            },
            "type": "scatterpolargl"
           }
          ],
          "scatterternary": [
           {
            "marker": {
             "colorbar": {
              "outlinewidth": 0,
              "ticks": ""
             }
            },
            "type": "scatterternary"
           }
          ],
          "surface": [
           {
            "colorbar": {
             "outlinewidth": 0,
             "ticks": ""
            },
            "colorscale": [
             [
              0,
              "#0d0887"
             ],
             [
              0.1111111111111111,
              "#46039f"
             ],
             [
              0.2222222222222222,
              "#7201a8"
             ],
             [
              0.3333333333333333,
              "#9c179e"
             ],
             [
              0.4444444444444444,
              "#bd3786"
             ],
             [
              0.5555555555555556,
              "#d8576b"
             ],
             [
              0.6666666666666666,
              "#ed7953"
             ],
             [
              0.7777777777777778,
              "#fb9f3a"
             ],
             [
              0.8888888888888888,
              "#fdca26"
             ],
             [
              1,
              "#f0f921"
             ]
            ],
            "type": "surface"
           }
          ],
          "table": [
           {
            "cells": {
             "fill": {
              "color": "#EBF0F8"
             },
             "line": {
              "color": "white"
             }
            },
            "header": {
             "fill": {
              "color": "#C8D4E3"
             },
             "line": {
              "color": "white"
             }
            },
            "type": "table"
           }
          ]
         },
         "layout": {
          "annotationdefaults": {
           "arrowcolor": "#2a3f5f",
           "arrowhead": 0,
           "arrowwidth": 1
          },
          "autotypenumbers": "strict",
          "coloraxis": {
           "colorbar": {
            "outlinewidth": 0,
            "ticks": ""
           }
          },
          "colorscale": {
           "diverging": [
            [
             0,
             "#8e0152"
            ],
            [
             0.1,
             "#c51b7d"
            ],
            [
             0.2,
             "#de77ae"
            ],
            [
             0.3,
             "#f1b6da"
            ],
            [
             0.4,
             "#fde0ef"
            ],
            [
             0.5,
             "#f7f7f7"
            ],
            [
             0.6,
             "#e6f5d0"
            ],
            [
             0.7,
             "#b8e186"
            ],
            [
             0.8,
             "#7fbc41"
            ],
            [
             0.9,
             "#4d9221"
            ],
            [
             1,
             "#276419"
            ]
           ],
           "sequential": [
            [
             0,
             "#0d0887"
            ],
            [
             0.1111111111111111,
             "#46039f"
            ],
            [
             0.2222222222222222,
             "#7201a8"
            ],
            [
             0.3333333333333333,
             "#9c179e"
            ],
            [
             0.4444444444444444,
             "#bd3786"
            ],
            [
             0.5555555555555556,
             "#d8576b"
            ],
            [
             0.6666666666666666,
             "#ed7953"
            ],
            [
             0.7777777777777778,
             "#fb9f3a"
            ],
            [
             0.8888888888888888,
             "#fdca26"
            ],
            [
             1,
             "#f0f921"
            ]
           ],
           "sequentialminus": [
            [
             0,
             "#0d0887"
            ],
            [
             0.1111111111111111,
             "#46039f"
            ],
            [
             0.2222222222222222,
             "#7201a8"
            ],
            [
             0.3333333333333333,
             "#9c179e"
            ],
            [
             0.4444444444444444,
             "#bd3786"
            ],
            [
             0.5555555555555556,
             "#d8576b"
            ],
            [
             0.6666666666666666,
             "#ed7953"
            ],
            [
             0.7777777777777778,
             "#fb9f3a"
            ],
            [
             0.8888888888888888,
             "#fdca26"
            ],
            [
             1,
             "#f0f921"
            ]
           ]
          },
          "colorway": [
           "#636efa",
           "#EF553B",
           "#00cc96",
           "#ab63fa",
           "#FFA15A",
           "#19d3f3",
           "#FF6692",
           "#B6E880",
           "#FF97FF",
           "#FECB52"
          ],
          "font": {
           "color": "#2a3f5f"
          },
          "geo": {
           "bgcolor": "white",
           "lakecolor": "white",
           "landcolor": "#E5ECF6",
           "showlakes": true,
           "showland": true,
           "subunitcolor": "white"
          },
          "hoverlabel": {
           "align": "left"
          },
          "hovermode": "closest",
          "mapbox": {
           "style": "light"
          },
          "paper_bgcolor": "white",
          "plot_bgcolor": "#E5ECF6",
          "polar": {
           "angularaxis": {
            "gridcolor": "white",
            "linecolor": "white",
            "ticks": ""
           },
           "bgcolor": "#E5ECF6",
           "radialaxis": {
            "gridcolor": "white",
            "linecolor": "white",
            "ticks": ""
           }
          },
          "scene": {
           "xaxis": {
            "backgroundcolor": "#E5ECF6",
            "gridcolor": "white",
            "gridwidth": 2,
            "linecolor": "white",
            "showbackground": true,
            "ticks": "",
            "zerolinecolor": "white"
           },
           "yaxis": {
            "backgroundcolor": "#E5ECF6",
            "gridcolor": "white",
            "gridwidth": 2,
            "linecolor": "white",
            "showbackground": true,
            "ticks": "",
            "zerolinecolor": "white"
           },
           "zaxis": {
            "backgroundcolor": "#E5ECF6",
            "gridcolor": "white",
            "gridwidth": 2,
            "linecolor": "white",
            "showbackground": true,
            "ticks": "",
            "zerolinecolor": "white"
           }
          },
          "shapedefaults": {
           "line": {
            "color": "#2a3f5f"
           }
          },
          "ternary": {
           "aaxis": {
            "gridcolor": "white",
            "linecolor": "white",
            "ticks": ""
           },
           "baxis": {
            "gridcolor": "white",
            "linecolor": "white",
            "ticks": ""
           },
           "bgcolor": "#E5ECF6",
           "caxis": {
            "gridcolor": "white",
            "linecolor": "white",
            "ticks": ""
           }
          },
          "title": {
           "x": 0.05
          },
          "xaxis": {
           "automargin": true,
           "gridcolor": "white",
           "linecolor": "white",
           "ticks": "",
           "title": {
            "standoff": 15
           },
           "zerolinecolor": "white",
           "zerolinewidth": 2
          },
          "yaxis": {
           "automargin": true,
           "gridcolor": "white",
           "linecolor": "white",
           "ticks": "",
           "title": {
            "standoff": 15
           },
           "zerolinecolor": "white",
           "zerolinewidth": 2
          }
         }
        },
        "width": 600,
        "xaxis": {
         "anchor": "y",
         "domain": [
          0,
          1
         ],
         "title": {
          "text": "PC 2 (27.3%)"
         }
        },
        "yaxis": {
         "anchor": "x",
         "domain": [
          0,
          1
         ],
         "title": {
          "text": "PC 3 (11.8%)"
         }
        }
       }
      },
      "text/html": [
       "<div>                            <div id=\"68a8f0dd-3cff-440f-81a3-6dc9a6a88df5\" class=\"plotly-graph-div\" style=\"height:600px; width:600px;\"></div>            <script type=\"text/javascript\">                require([\"plotly\"], function(Plotly) {                    window.PLOTLYENV=window.PLOTLYENV || {};                                    if (document.getElementById(\"68a8f0dd-3cff-440f-81a3-6dc9a6a88df5\")) {                    Plotly.newPlot(                        \"68a8f0dd-3cff-440f-81a3-6dc9a6a88df5\",                        [{\"hovertemplate\":\"color=00<br>symbol=WT<br>1=%{x}<br>2=%{y}<extra></extra>\",\"legendgroup\":\"00, WT\",\"marker\":{\"color\":\"#636efa\",\"symbol\":\"circle\",\"size\":13},\"mode\":\"markers\",\"name\":\"00, WT\",\"orientation\":\"v\",\"showlegend\":true,\"x\":[0.9338208057473384,2.3147239008942107,3.394936197015489,3.435388997483651,0.5358111570199036,0.9164821375236152,1.8014721872590633,1.9851787102487],\"xaxis\":\"x\",\"y\":[1.6050160655121133,1.2159582732331298,1.4595414014085506,0.7991945610313989,-0.08762564111905112,-0.2953405336557701,-0.18214007026275864,-0.4994816016501273],\"yaxis\":\"y\",\"type\":\"scatter\"},{\"hovertemplate\":\"color=02<br>symbol=WT<br>1=%{x}<br>2=%{y}<extra></extra>\",\"legendgroup\":\"02, WT\",\"marker\":{\"color\":\"#EF553B\",\"symbol\":\"circle\",\"size\":13},\"mode\":\"markers\",\"name\":\"02, WT\",\"orientation\":\"v\",\"showlegend\":true,\"x\":[3.146919992069909,1.1435698432792263,2.6762604169437316,1.758023738931877,2.016636913216894,2.3905915088374683,2.714084586531341,2.0644551089616625],\"xaxis\":\"x\",\"y\":[1.5733281590884272,0.5981076461928795,0.5871872208170353,0.44993042078631645,-0.3249097440984648,-0.9130769606337658,-0.5264490084631988,-1.2160688891477869],\"yaxis\":\"y\",\"type\":\"scatter\"},{\"hovertemplate\":\"color=04<br>symbol=WT<br>1=%{x}<br>2=%{y}<extra></extra>\",\"legendgroup\":\"04, WT\",\"marker\":{\"color\":\"#00cc96\",\"symbol\":\"circle\",\"size\":13},\"mode\":\"markers\",\"name\":\"04, WT\",\"orientation\":\"v\",\"showlegend\":true,\"x\":[1.9357239323776905,2.916261991320024,0.9043395315690852,2.4787821333792044,2.442668056792678,2.5910200018699405,1.055537992977617,2.5363769879575453],\"xaxis\":\"x\",\"y\":[0.4234216416872423,0.561977368084073,0.5901956218222829,0.5294457918774783,-0.874580356424844,-0.5947033540741672,-1.250927481211026,-0.5393185188829211],\"yaxis\":\"y\",\"type\":\"scatter\"},{\"hovertemplate\":\"color=06<br>symbol=WT<br>1=%{x}<br>2=%{y}<extra></extra>\",\"legendgroup\":\"06, WT\",\"marker\":{\"color\":\"#ab63fa\",\"symbol\":\"circle\",\"size\":13},\"mode\":\"markers\",\"name\":\"06, WT\",\"orientation\":\"v\",\"showlegend\":true,\"x\":[1.0159646961914681,1.0066010227301574,0.6415673828826396,1.0056254514850482,1.5237931526169364,1.6979190211715622,0.9207138745763037,1.3944837956632958],\"xaxis\":\"x\",\"y\":[0.4975811361026757,0.44263584556516905,0.7788975410081127,0.5751619122562818,-1.074186769570013,-1.1441658811420992,-1.1733061062839951,-1.2093608992942728],\"yaxis\":\"y\",\"type\":\"scatter\"},{\"hovertemplate\":\"color=08<br>symbol=WT<br>1=%{x}<br>2=%{y}<extra></extra>\",\"legendgroup\":\"08, WT\",\"marker\":{\"color\":\"#FFA15A\",\"symbol\":\"circle\",\"size\":13},\"mode\":\"markers\",\"name\":\"08, WT\",\"orientation\":\"v\",\"showlegend\":true,\"x\":[0.2412630550293468,-0.6737891453790422,-0.5210136385574916,0.3117645166841322,0.2124927866909282,-0.4983342698569592,-0.41572244223502763,0.5906499509211435],\"xaxis\":\"x\",\"y\":[0.8336620315751527,0.7478490003980566,0.7835760772335738,0.8556933224835792,-1.049938273783036,-0.9329028639103578,-0.9160221780201456,-0.9394345411097975],\"yaxis\":\"y\",\"type\":\"scatter\"},{\"hovertemplate\":\"color=10<br>symbol=WT<br>1=%{x}<br>2=%{y}<extra></extra>\",\"legendgroup\":\"10, WT\",\"marker\":{\"color\":\"#19d3f3\",\"symbol\":\"circle\",\"size\":13},\"mode\":\"markers\",\"name\":\"10, WT\",\"orientation\":\"v\",\"showlegend\":true,\"x\":[-0.27730931794635355,-0.2402592457477616,-0.8869833503775059,-0.3067145218869309,-0.1627713329672777,-0.3281857758573428,-0.9339856996480593,-0.2550396604827015],\"xaxis\":\"x\",\"y\":[0.8921492181238877,0.8671123635375246,0.6387264237043004,0.9268873225658818,-1.0034048712359338,-0.890103431180037,-1.0033031836231858,-0.9706740222885357],\"yaxis\":\"y\",\"type\":\"scatter\"},{\"hovertemplate\":\"color=12<br>symbol=WT<br>1=%{x}<br>2=%{y}<extra></extra>\",\"legendgroup\":\"12, WT\",\"marker\":{\"color\":\"#FF6692\",\"symbol\":\"circle\",\"size\":13},\"mode\":\"markers\",\"name\":\"12, WT\",\"orientation\":\"v\",\"showlegend\":true,\"x\":[-1.183312045427898,-1.0252316961163632,-0.9662421235660628,-1.1176251044141212,-0.9472602311027467,-0.975666094690166,-0.8054500537729764,-0.9870720178437262],\"xaxis\":\"x\",\"y\":[0.5494241926155835,0.7531046879676079,0.8557464099061531,0.5632041493660737,-1.0603689946945238,-0.9347467938303217,-0.9177906511321744,-1.3755304942187832],\"yaxis\":\"y\",\"type\":\"scatter\"},{\"hovertemplate\":\"color=14<br>symbol=WT<br>1=%{x}<br>2=%{y}<extra></extra>\",\"legendgroup\":\"14, WT\",\"marker\":{\"color\":\"#B6E880\",\"symbol\":\"circle\",\"size\":13},\"mode\":\"markers\",\"name\":\"14, WT\",\"orientation\":\"v\",\"showlegend\":true,\"x\":[-1.0436902077459806,-1.7510701218415736,-1.0992323898444958,-1.3299189345564602,-1.0693332113022496,-1.2503252654488783,-0.9892176468918458,-1.1521042943417623],\"xaxis\":\"x\",\"y\":[0.6979354487641556,0.5716715000711776,0.5853843752588204,0.4639691217890404,-1.0875579131899213,-1.367884423650998,-1.3407033147385845,-1.406947437438278],\"yaxis\":\"y\",\"type\":\"scatter\"},{\"hovertemplate\":\"color=16<br>symbol=WT<br>1=%{x}<br>2=%{y}<extra></extra>\",\"legendgroup\":\"16, WT\",\"marker\":{\"color\":\"#FF97FF\",\"symbol\":\"circle\",\"size\":13},\"mode\":\"markers\",\"name\":\"16, WT\",\"orientation\":\"v\",\"showlegend\":true,\"x\":[-1.8008919889024435,-1.610936146173276,-1.7850133140459443,-1.7905247750815718,-1.1141141158453451,-1.075648969779396,-1.1253497628182634,-1.0421394848582546],\"xaxis\":\"x\",\"y\":[0.6201346121664709,0.4350588720180773,0.7000221812190097,0.44252937493336547,-1.4410153601472082,-1.2822912208537531,-1.2928858936928078,-1.3728042038881247],\"yaxis\":\"y\",\"type\":\"scatter\"},{\"hovertemplate\":\"color=18<br>symbol=WT<br>1=%{x}<br>2=%{y}<extra></extra>\",\"legendgroup\":\"18, WT\",\"marker\":{\"color\":\"#FECB52\",\"symbol\":\"circle\",\"size\":13},\"mode\":\"markers\",\"name\":\"18, WT\",\"orientation\":\"v\",\"showlegend\":true,\"x\":[-1.9902083266931663,-1.9522410555538867,-1.7730149279396197,-1.9593216635293056,-0.9770828604639302,-1.3300548670068262,-1.1758225044501838,-1.278976729561046],\"xaxis\":\"x\",\"y\":[0.7069624999892632,1.0826724445661011,0.9355475444969009,0.7168053382377484,-1.4014607555958523,-0.9895127115491698,-1.0442554039376237,-1.1528149027491885],\"yaxis\":\"y\",\"type\":\"scatter\"},{\"hovertemplate\":\"color=20<br>symbol=WT<br>1=%{x}<br>2=%{y}<extra></extra>\",\"legendgroup\":\"20, WT\",\"marker\":{\"color\":\"#636efa\",\"symbol\":\"circle\",\"size\":13},\"mode\":\"markers\",\"name\":\"20, WT\",\"orientation\":\"v\",\"showlegend\":true,\"x\":[-1.2267376314804779,-1.1639967965661564,-2.004151993590083,-1.8364516282180297,-0.8625220988310626,-0.9572077839933525,-0.9899965361541804,-1.0798153133422923],\"xaxis\":\"x\",\"y\":[1.6469602136394015,1.5856204783717867,1.3248189853022279,1.2365355814251886,-0.33798378728537376,0.10548551980102541,-0.8702776636091447,-0.9336810741757607],\"yaxis\":\"y\",\"type\":\"scatter\"},{\"hovertemplate\":\"color=22<br>symbol=WT<br>1=%{x}<br>2=%{y}<extra></extra>\",\"legendgroup\":\"22, WT\",\"marker\":{\"color\":\"#EF553B\",\"symbol\":\"circle\",\"size\":13},\"mode\":\"markers\",\"name\":\"22, WT\",\"orientation\":\"v\",\"showlegend\":true,\"x\":[0.024211547277230308,-0.290919790638993,-1.3264189382415688,-0.7436073654329041,-0.019765337850230505,0.09616250932080908,-0.8101056224484938,-0.4863814241088203],\"xaxis\":\"x\",\"y\":[1.8072680657010205,1.8923044362307315,1.6494830920359664,1.2952695295471073,-0.17293715752383323,-0.29621299205598967,-0.26566282523647117,-0.5004038652559307],\"yaxis\":\"y\",\"type\":\"scatter\"}],                        {\"template\":{\"data\":{\"histogram2dcontour\":[{\"type\":\"histogram2dcontour\",\"colorbar\":{\"outlinewidth\":0,\"ticks\":\"\"},\"colorscale\":[[0.0,\"#0d0887\"],[0.1111111111111111,\"#46039f\"],[0.2222222222222222,\"#7201a8\"],[0.3333333333333333,\"#9c179e\"],[0.4444444444444444,\"#bd3786\"],[0.5555555555555556,\"#d8576b\"],[0.6666666666666666,\"#ed7953\"],[0.7777777777777778,\"#fb9f3a\"],[0.8888888888888888,\"#fdca26\"],[1.0,\"#f0f921\"]]}],\"choropleth\":[{\"type\":\"choropleth\",\"colorbar\":{\"outlinewidth\":0,\"ticks\":\"\"}}],\"histogram2d\":[{\"type\":\"histogram2d\",\"colorbar\":{\"outlinewidth\":0,\"ticks\":\"\"},\"colorscale\":[[0.0,\"#0d0887\"],[0.1111111111111111,\"#46039f\"],[0.2222222222222222,\"#7201a8\"],[0.3333333333333333,\"#9c179e\"],[0.4444444444444444,\"#bd3786\"],[0.5555555555555556,\"#d8576b\"],[0.6666666666666666,\"#ed7953\"],[0.7777777777777778,\"#fb9f3a\"],[0.8888888888888888,\"#fdca26\"],[1.0,\"#f0f921\"]]}],\"heatmap\":[{\"type\":\"heatmap\",\"colorbar\":{\"outlinewidth\":0,\"ticks\":\"\"},\"colorscale\":[[0.0,\"#0d0887\"],[0.1111111111111111,\"#46039f\"],[0.2222222222222222,\"#7201a8\"],[0.3333333333333333,\"#9c179e\"],[0.4444444444444444,\"#bd3786\"],[0.5555555555555556,\"#d8576b\"],[0.6666666666666666,\"#ed7953\"],[0.7777777777777778,\"#fb9f3a\"],[0.8888888888888888,\"#fdca26\"],[1.0,\"#f0f921\"]]}],\"heatmapgl\":[{\"type\":\"heatmapgl\",\"colorbar\":{\"outlinewidth\":0,\"ticks\":\"\"},\"colorscale\":[[0.0,\"#0d0887\"],[0.1111111111111111,\"#46039f\"],[0.2222222222222222,\"#7201a8\"],[0.3333333333333333,\"#9c179e\"],[0.4444444444444444,\"#bd3786\"],[0.5555555555555556,\"#d8576b\"],[0.6666666666666666,\"#ed7953\"],[0.7777777777777778,\"#fb9f3a\"],[0.8888888888888888,\"#fdca26\"],[1.0,\"#f0f921\"]]}],\"contourcarpet\":[{\"type\":\"contourcarpet\",\"colorbar\":{\"outlinewidth\":0,\"ticks\":\"\"}}],\"contour\":[{\"type\":\"contour\",\"colorbar\":{\"outlinewidth\":0,\"ticks\":\"\"},\"colorscale\":[[0.0,\"#0d0887\"],[0.1111111111111111,\"#46039f\"],[0.2222222222222222,\"#7201a8\"],[0.3333333333333333,\"#9c179e\"],[0.4444444444444444,\"#bd3786\"],[0.5555555555555556,\"#d8576b\"],[0.6666666666666666,\"#ed7953\"],[0.7777777777777778,\"#fb9f3a\"],[0.8888888888888888,\"#fdca26\"],[1.0,\"#f0f921\"]]}],\"surface\":[{\"type\":\"surface\",\"colorbar\":{\"outlinewidth\":0,\"ticks\":\"\"},\"colorscale\":[[0.0,\"#0d0887\"],[0.1111111111111111,\"#46039f\"],[0.2222222222222222,\"#7201a8\"],[0.3333333333333333,\"#9c179e\"],[0.4444444444444444,\"#bd3786\"],[0.5555555555555556,\"#d8576b\"],[0.6666666666666666,\"#ed7953\"],[0.7777777777777778,\"#fb9f3a\"],[0.8888888888888888,\"#fdca26\"],[1.0,\"#f0f921\"]]}],\"mesh3d\":[{\"type\":\"mesh3d\",\"colorbar\":{\"outlinewidth\":0,\"ticks\":\"\"}}],\"scatter\":[{\"fillpattern\":{\"fillmode\":\"overlay\",\"size\":10,\"solidity\":0.2},\"type\":\"scatter\"}],\"parcoords\":[{\"type\":\"parcoords\",\"line\":{\"colorbar\":{\"outlinewidth\":0,\"ticks\":\"\"}}}],\"scatterpolargl\":[{\"type\":\"scatterpolargl\",\"marker\":{\"colorbar\":{\"outlinewidth\":0,\"ticks\":\"\"}}}],\"bar\":[{\"error_x\":{\"color\":\"#2a3f5f\"},\"error_y\":{\"color\":\"#2a3f5f\"},\"marker\":{\"line\":{\"color\":\"#E5ECF6\",\"width\":0.5},\"pattern\":{\"fillmode\":\"overlay\",\"size\":10,\"solidity\":0.2}},\"type\":\"bar\"}],\"scattergeo\":[{\"type\":\"scattergeo\",\"marker\":{\"colorbar\":{\"outlinewidth\":0,\"ticks\":\"\"}}}],\"scatterpolar\":[{\"type\":\"scatterpolar\",\"marker\":{\"colorbar\":{\"outlinewidth\":0,\"ticks\":\"\"}}}],\"histogram\":[{\"marker\":{\"pattern\":{\"fillmode\":\"overlay\",\"size\":10,\"solidity\":0.2}},\"type\":\"histogram\"}],\"scattergl\":[{\"type\":\"scattergl\",\"marker\":{\"colorbar\":{\"outlinewidth\":0,\"ticks\":\"\"}}}],\"scatter3d\":[{\"type\":\"scatter3d\",\"line\":{\"colorbar\":{\"outlinewidth\":0,\"ticks\":\"\"}},\"marker\":{\"colorbar\":{\"outlinewidth\":0,\"ticks\":\"\"}}}],\"scattermapbox\":[{\"type\":\"scattermapbox\",\"marker\":{\"colorbar\":{\"outlinewidth\":0,\"ticks\":\"\"}}}],\"scatterternary\":[{\"type\":\"scatterternary\",\"marker\":{\"colorbar\":{\"outlinewidth\":0,\"ticks\":\"\"}}}],\"scattercarpet\":[{\"type\":\"scattercarpet\",\"marker\":{\"colorbar\":{\"outlinewidth\":0,\"ticks\":\"\"}}}],\"carpet\":[{\"aaxis\":{\"endlinecolor\":\"#2a3f5f\",\"gridcolor\":\"white\",\"linecolor\":\"white\",\"minorgridcolor\":\"white\",\"startlinecolor\":\"#2a3f5f\"},\"baxis\":{\"endlinecolor\":\"#2a3f5f\",\"gridcolor\":\"white\",\"linecolor\":\"white\",\"minorgridcolor\":\"white\",\"startlinecolor\":\"#2a3f5f\"},\"type\":\"carpet\"}],\"table\":[{\"cells\":{\"fill\":{\"color\":\"#EBF0F8\"},\"line\":{\"color\":\"white\"}},\"header\":{\"fill\":{\"color\":\"#C8D4E3\"},\"line\":{\"color\":\"white\"}},\"type\":\"table\"}],\"barpolar\":[{\"marker\":{\"line\":{\"color\":\"#E5ECF6\",\"width\":0.5},\"pattern\":{\"fillmode\":\"overlay\",\"size\":10,\"solidity\":0.2}},\"type\":\"barpolar\"}],\"pie\":[{\"automargin\":true,\"type\":\"pie\"}]},\"layout\":{\"autotypenumbers\":\"strict\",\"colorway\":[\"#636efa\",\"#EF553B\",\"#00cc96\",\"#ab63fa\",\"#FFA15A\",\"#19d3f3\",\"#FF6692\",\"#B6E880\",\"#FF97FF\",\"#FECB52\"],\"font\":{\"color\":\"#2a3f5f\"},\"hovermode\":\"closest\",\"hoverlabel\":{\"align\":\"left\"},\"paper_bgcolor\":\"white\",\"plot_bgcolor\":\"#E5ECF6\",\"polar\":{\"bgcolor\":\"#E5ECF6\",\"angularaxis\":{\"gridcolor\":\"white\",\"linecolor\":\"white\",\"ticks\":\"\"},\"radialaxis\":{\"gridcolor\":\"white\",\"linecolor\":\"white\",\"ticks\":\"\"}},\"ternary\":{\"bgcolor\":\"#E5ECF6\",\"aaxis\":{\"gridcolor\":\"white\",\"linecolor\":\"white\",\"ticks\":\"\"},\"baxis\":{\"gridcolor\":\"white\",\"linecolor\":\"white\",\"ticks\":\"\"},\"caxis\":{\"gridcolor\":\"white\",\"linecolor\":\"white\",\"ticks\":\"\"}},\"coloraxis\":{\"colorbar\":{\"outlinewidth\":0,\"ticks\":\"\"}},\"colorscale\":{\"sequential\":[[0.0,\"#0d0887\"],[0.1111111111111111,\"#46039f\"],[0.2222222222222222,\"#7201a8\"],[0.3333333333333333,\"#9c179e\"],[0.4444444444444444,\"#bd3786\"],[0.5555555555555556,\"#d8576b\"],[0.6666666666666666,\"#ed7953\"],[0.7777777777777778,\"#fb9f3a\"],[0.8888888888888888,\"#fdca26\"],[1.0,\"#f0f921\"]],\"sequentialminus\":[[0.0,\"#0d0887\"],[0.1111111111111111,\"#46039f\"],[0.2222222222222222,\"#7201a8\"],[0.3333333333333333,\"#9c179e\"],[0.4444444444444444,\"#bd3786\"],[0.5555555555555556,\"#d8576b\"],[0.6666666666666666,\"#ed7953\"],[0.7777777777777778,\"#fb9f3a\"],[0.8888888888888888,\"#fdca26\"],[1.0,\"#f0f921\"]],\"diverging\":[[0,\"#8e0152\"],[0.1,\"#c51b7d\"],[0.2,\"#de77ae\"],[0.3,\"#f1b6da\"],[0.4,\"#fde0ef\"],[0.5,\"#f7f7f7\"],[0.6,\"#e6f5d0\"],[0.7,\"#b8e186\"],[0.8,\"#7fbc41\"],[0.9,\"#4d9221\"],[1,\"#276419\"]]},\"xaxis\":{\"gridcolor\":\"white\",\"linecolor\":\"white\",\"ticks\":\"\",\"title\":{\"standoff\":15},\"zerolinecolor\":\"white\",\"automargin\":true,\"zerolinewidth\":2},\"yaxis\":{\"gridcolor\":\"white\",\"linecolor\":\"white\",\"ticks\":\"\",\"title\":{\"standoff\":15},\"zerolinecolor\":\"white\",\"automargin\":true,\"zerolinewidth\":2},\"scene\":{\"xaxis\":{\"backgroundcolor\":\"#E5ECF6\",\"gridcolor\":\"white\",\"linecolor\":\"white\",\"showbackground\":true,\"ticks\":\"\",\"zerolinecolor\":\"white\",\"gridwidth\":2},\"yaxis\":{\"backgroundcolor\":\"#E5ECF6\",\"gridcolor\":\"white\",\"linecolor\":\"white\",\"showbackground\":true,\"ticks\":\"\",\"zerolinecolor\":\"white\",\"gridwidth\":2},\"zaxis\":{\"backgroundcolor\":\"#E5ECF6\",\"gridcolor\":\"white\",\"linecolor\":\"white\",\"showbackground\":true,\"ticks\":\"\",\"zerolinecolor\":\"white\",\"gridwidth\":2}},\"shapedefaults\":{\"line\":{\"color\":\"#2a3f5f\"}},\"annotationdefaults\":{\"arrowcolor\":\"#2a3f5f\",\"arrowhead\":0,\"arrowwidth\":1},\"geo\":{\"bgcolor\":\"white\",\"landcolor\":\"#E5ECF6\",\"subunitcolor\":\"white\",\"showland\":true,\"showlakes\":true,\"lakecolor\":\"white\"},\"title\":{\"x\":0.05},\"mapbox\":{\"style\":\"light\"}}},\"xaxis\":{\"anchor\":\"y\",\"domain\":[0.0,1.0],\"title\":{\"text\":\"PC 2 (27.3%)\"}},\"yaxis\":{\"anchor\":\"x\",\"domain\":[0.0,1.0],\"title\":{\"text\":\"PC 3 (11.8%)\"}},\"legend\":{\"title\":{\"text\":\"color, symbol\"},\"tracegroupgap\":0},\"margin\":{\"t\":60},\"height\":600,\"width\":600,\"plot_bgcolor\":\"rgb(243,243,243)\"},                        {\"responsive\": true}                    ).then(function(){\n",
       "                            \n",
       "var gd = document.getElementById('68a8f0dd-3cff-440f-81a3-6dc9a6a88df5');\n",
       "var x = new MutationObserver(function (mutations, observer) {{\n",
       "        var display = window.getComputedStyle(gd).display;\n",
       "        if (!display || display === 'none') {{\n",
       "            console.log([gd, 'removed!']);\n",
       "            Plotly.purge(gd);\n",
       "            observer.disconnect();\n",
       "        }}\n",
       "}});\n",
       "\n",
       "// Listen for the removal of the full notebook cells\n",
       "var notebookContainer = gd.closest('#notebook-container');\n",
       "if (notebookContainer) {{\n",
       "    x.observe(notebookContainer, {childList: true});\n",
       "}}\n",
       "\n",
       "// Listen for the clearing of the current output cell\n",
       "var outputEl = gd.closest('.output');\n",
       "if (outputEl) {{\n",
       "    x.observe(outputEl, {childList: true});\n",
       "}}\n",
       "\n",
       "                        })                };                });            </script>        </div>"
      ]
     },
     "metadata": {},
     "output_type": "display_data"
    },
    {
     "data": {
      "application/vnd.plotly.v1+json": {
       "config": {
        "plotlyServerURL": "https://plot.ly"
       },
       "data": [
        {
         "hovertemplate": "color=A<br>symbol=Intron<br>1=%{x}<br>2=%{y}<extra></extra>",
         "legendgroup": "A, Intron",
         "marker": {
          "color": "#636efa",
          "size": 13,
          "symbol": "circle"
         },
         "mode": "markers",
         "name": "A, Intron",
         "orientation": "v",
         "showlegend": true,
         "type": "scatter",
         "x": [
          0.9338208057473384,
          3.146919992069909,
          1.9357239323776905,
          1.0159646961914681,
          0.2412630550293468,
          -0.27730931794635355,
          -1.183312045427898,
          -1.0436902077459806,
          -1.8008919889024435,
          -1.9902083266931663,
          -1.2267376314804779,
          0.024211547277230308
         ],
         "xaxis": "x",
         "y": [
          1.6050160655121133,
          1.5733281590884272,
          0.4234216416872423,
          0.4975811361026757,
          0.8336620315751527,
          0.8921492181238877,
          0.5494241926155835,
          0.6979354487641556,
          0.6201346121664709,
          0.7069624999892632,
          1.6469602136394015,
          1.8072680657010205
         ],
         "yaxis": "y"
        },
        {
         "hovertemplate": "color=A<br>symbol=Exon<br>1=%{x}<br>2=%{y}<extra></extra>",
         "legendgroup": "A, Exon",
         "marker": {
          "color": "#636efa",
          "size": 13,
          "symbol": "diamond"
         },
         "mode": "markers",
         "name": "A, Exon",
         "orientation": "v",
         "showlegend": true,
         "type": "scatter",
         "x": [
          0.5358111570199036,
          2.016636913216894,
          2.442668056792678,
          1.5237931526169364,
          0.2124927866909282,
          -0.1627713329672777,
          -0.9472602311027467,
          -1.0693332113022496,
          -1.1141141158453451,
          -0.9770828604639302,
          -0.8625220988310626,
          -0.019765337850230505
         ],
         "xaxis": "x",
         "y": [
          -0.08762564111905112,
          -0.3249097440984648,
          -0.874580356424844,
          -1.074186769570013,
          -1.049938273783036,
          -1.0034048712359338,
          -1.0603689946945238,
          -1.0875579131899213,
          -1.4410153601472082,
          -1.4014607555958523,
          -0.33798378728537376,
          -0.17293715752383323
         ],
         "yaxis": "y"
        },
        {
         "hovertemplate": "color=B<br>symbol=Intron<br>1=%{x}<br>2=%{y}<extra></extra>",
         "legendgroup": "B, Intron",
         "marker": {
          "color": "#EF553B",
          "size": 13,
          "symbol": "circle"
         },
         "mode": "markers",
         "name": "B, Intron",
         "orientation": "v",
         "showlegend": true,
         "type": "scatter",
         "x": [
          2.3147239008942107,
          1.1435698432792263,
          2.916261991320024,
          1.0066010227301574,
          -0.6737891453790422,
          -0.2402592457477616,
          -1.0252316961163632,
          -1.7510701218415736,
          -1.610936146173276,
          -1.9522410555538867,
          -1.1639967965661564,
          -0.290919790638993
         ],
         "xaxis": "x",
         "y": [
          1.2159582732331298,
          0.5981076461928795,
          0.561977368084073,
          0.44263584556516905,
          0.7478490003980566,
          0.8671123635375246,
          0.7531046879676079,
          0.5716715000711776,
          0.4350588720180773,
          1.0826724445661011,
          1.5856204783717867,
          1.8923044362307315
         ],
         "yaxis": "y"
        },
        {
         "hovertemplate": "color=B<br>symbol=Exon<br>1=%{x}<br>2=%{y}<extra></extra>",
         "legendgroup": "B, Exon",
         "marker": {
          "color": "#EF553B",
          "size": 13,
          "symbol": "diamond"
         },
         "mode": "markers",
         "name": "B, Exon",
         "orientation": "v",
         "showlegend": true,
         "type": "scatter",
         "x": [
          0.9164821375236152,
          2.3905915088374683,
          2.5910200018699405,
          1.6979190211715622,
          -0.4983342698569592,
          -0.3281857758573428,
          -0.975666094690166,
          -1.2503252654488783,
          -1.075648969779396,
          -1.3300548670068262,
          -0.9572077839933525,
          0.09616250932080908
         ],
         "xaxis": "x",
         "y": [
          -0.2953405336557701,
          -0.9130769606337658,
          -0.5947033540741672,
          -1.1441658811420992,
          -0.9329028639103578,
          -0.890103431180037,
          -0.9347467938303217,
          -1.367884423650998,
          -1.2822912208537531,
          -0.9895127115491698,
          0.10548551980102541,
          -0.29621299205598967
         ],
         "yaxis": "y"
        },
        {
         "hovertemplate": "color=C<br>symbol=Intron<br>1=%{x}<br>2=%{y}<extra></extra>",
         "legendgroup": "C, Intron",
         "marker": {
          "color": "#00cc96",
          "size": 13,
          "symbol": "circle"
         },
         "mode": "markers",
         "name": "C, Intron",
         "orientation": "v",
         "showlegend": true,
         "type": "scatter",
         "x": [
          3.394936197015489,
          2.6762604169437316,
          0.9043395315690852,
          0.6415673828826396,
          -0.5210136385574916,
          -0.8869833503775059,
          -0.9662421235660628,
          -1.0992323898444958,
          -1.7850133140459443,
          -1.7730149279396197,
          -2.004151993590083,
          -1.3264189382415688
         ],
         "xaxis": "x",
         "y": [
          1.4595414014085506,
          0.5871872208170353,
          0.5901956218222829,
          0.7788975410081127,
          0.7835760772335738,
          0.6387264237043004,
          0.8557464099061531,
          0.5853843752588204,
          0.7000221812190097,
          0.9355475444969009,
          1.3248189853022279,
          1.6494830920359664
         ],
         "yaxis": "y"
        },
        {
         "hovertemplate": "color=C<br>symbol=Exon<br>1=%{x}<br>2=%{y}<extra></extra>",
         "legendgroup": "C, Exon",
         "marker": {
          "color": "#00cc96",
          "size": 13,
          "symbol": "diamond"
         },
         "mode": "markers",
         "name": "C, Exon",
         "orientation": "v",
         "showlegend": true,
         "type": "scatter",
         "x": [
          1.8014721872590633,
          2.714084586531341,
          1.055537992977617,
          0.9207138745763037,
          -0.41572244223502763,
          -0.9339856996480593,
          -0.8054500537729764,
          -0.9892176468918458,
          -1.1253497628182634,
          -1.1758225044501838,
          -0.9899965361541804,
          -0.8101056224484938
         ],
         "xaxis": "x",
         "y": [
          -0.18214007026275864,
          -0.5264490084631988,
          -1.250927481211026,
          -1.1733061062839951,
          -0.9160221780201456,
          -1.0033031836231858,
          -0.9177906511321744,
          -1.3407033147385845,
          -1.2928858936928078,
          -1.0442554039376237,
          -0.8702776636091447,
          -0.26566282523647117
         ],
         "yaxis": "y"
        },
        {
         "hovertemplate": "color=D<br>symbol=Intron<br>1=%{x}<br>2=%{y}<extra></extra>",
         "legendgroup": "D, Intron",
         "marker": {
          "color": "#ab63fa",
          "size": 13,
          "symbol": "circle"
         },
         "mode": "markers",
         "name": "D, Intron",
         "orientation": "v",
         "showlegend": true,
         "type": "scatter",
         "x": [
          3.435388997483651,
          1.758023738931877,
          2.4787821333792044,
          1.0056254514850482,
          0.3117645166841322,
          -0.3067145218869309,
          -1.1176251044141212,
          -1.3299189345564602,
          -1.7905247750815718,
          -1.9593216635293056,
          -1.8364516282180297,
          -0.7436073654329041
         ],
         "xaxis": "x",
         "y": [
          0.7991945610313989,
          0.44993042078631645,
          0.5294457918774783,
          0.5751619122562818,
          0.8556933224835792,
          0.9268873225658818,
          0.5632041493660737,
          0.4639691217890404,
          0.44252937493336547,
          0.7168053382377484,
          1.2365355814251886,
          1.2952695295471073
         ],
         "yaxis": "y"
        },
        {
         "hovertemplate": "color=D<br>symbol=Exon<br>1=%{x}<br>2=%{y}<extra></extra>",
         "legendgroup": "D, Exon",
         "marker": {
          "color": "#ab63fa",
          "size": 13,
          "symbol": "diamond"
         },
         "mode": "markers",
         "name": "D, Exon",
         "orientation": "v",
         "showlegend": true,
         "type": "scatter",
         "x": [
          1.9851787102487,
          2.0644551089616625,
          2.5363769879575453,
          1.3944837956632958,
          0.5906499509211435,
          -0.2550396604827015,
          -0.9870720178437262,
          -1.1521042943417623,
          -1.0421394848582546,
          -1.278976729561046,
          -1.0798153133422923,
          -0.4863814241088203
         ],
         "xaxis": "x",
         "y": [
          -0.4994816016501273,
          -1.2160688891477869,
          -0.5393185188829211,
          -1.2093608992942728,
          -0.9394345411097975,
          -0.9706740222885357,
          -1.3755304942187832,
          -1.406947437438278,
          -1.3728042038881247,
          -1.1528149027491885,
          -0.9336810741757607,
          -0.5004038652559307
         ],
         "yaxis": "y"
        }
       ],
       "layout": {
        "height": 600,
        "legend": {
         "title": {
          "text": "color, symbol"
         },
         "tracegroupgap": 0
        },
        "margin": {
         "t": 60
        },
        "plot_bgcolor": "rgb(243,243,243)",
        "template": {
         "data": {
          "bar": [
           {
            "error_x": {
             "color": "#2a3f5f"
            },
            "error_y": {
             "color": "#2a3f5f"
            },
            "marker": {
             "line": {
              "color": "#E5ECF6",
              "width": 0.5
             },
             "pattern": {
              "fillmode": "overlay",
              "size": 10,
              "solidity": 0.2
             }
            },
            "type": "bar"
           }
          ],
          "barpolar": [
           {
            "marker": {
             "line": {
              "color": "#E5ECF6",
              "width": 0.5
             },
             "pattern": {
              "fillmode": "overlay",
              "size": 10,
              "solidity": 0.2
             }
            },
            "type": "barpolar"
           }
          ],
          "carpet": [
           {
            "aaxis": {
             "endlinecolor": "#2a3f5f",
             "gridcolor": "white",
             "linecolor": "white",
             "minorgridcolor": "white",
             "startlinecolor": "#2a3f5f"
            },
            "baxis": {
             "endlinecolor": "#2a3f5f",
             "gridcolor": "white",
             "linecolor": "white",
             "minorgridcolor": "white",
             "startlinecolor": "#2a3f5f"
            },
            "type": "carpet"
           }
          ],
          "choropleth": [
           {
            "colorbar": {
             "outlinewidth": 0,
             "ticks": ""
            },
            "type": "choropleth"
           }
          ],
          "contour": [
           {
            "colorbar": {
             "outlinewidth": 0,
             "ticks": ""
            },
            "colorscale": [
             [
              0,
              "#0d0887"
             ],
             [
              0.1111111111111111,
              "#46039f"
             ],
             [
              0.2222222222222222,
              "#7201a8"
             ],
             [
              0.3333333333333333,
              "#9c179e"
             ],
             [
              0.4444444444444444,
              "#bd3786"
             ],
             [
              0.5555555555555556,
              "#d8576b"
             ],
             [
              0.6666666666666666,
              "#ed7953"
             ],
             [
              0.7777777777777778,
              "#fb9f3a"
             ],
             [
              0.8888888888888888,
              "#fdca26"
             ],
             [
              1,
              "#f0f921"
             ]
            ],
            "type": "contour"
           }
          ],
          "contourcarpet": [
           {
            "colorbar": {
             "outlinewidth": 0,
             "ticks": ""
            },
            "type": "contourcarpet"
           }
          ],
          "heatmap": [
           {
            "colorbar": {
             "outlinewidth": 0,
             "ticks": ""
            },
            "colorscale": [
             [
              0,
              "#0d0887"
             ],
             [
              0.1111111111111111,
              "#46039f"
             ],
             [
              0.2222222222222222,
              "#7201a8"
             ],
             [
              0.3333333333333333,
              "#9c179e"
             ],
             [
              0.4444444444444444,
              "#bd3786"
             ],
             [
              0.5555555555555556,
              "#d8576b"
             ],
             [
              0.6666666666666666,
              "#ed7953"
             ],
             [
              0.7777777777777778,
              "#fb9f3a"
             ],
             [
              0.8888888888888888,
              "#fdca26"
             ],
             [
              1,
              "#f0f921"
             ]
            ],
            "type": "heatmap"
           }
          ],
          "heatmapgl": [
           {
            "colorbar": {
             "outlinewidth": 0,
             "ticks": ""
            },
            "colorscale": [
             [
              0,
              "#0d0887"
             ],
             [
              0.1111111111111111,
              "#46039f"
             ],
             [
              0.2222222222222222,
              "#7201a8"
             ],
             [
              0.3333333333333333,
              "#9c179e"
             ],
             [
              0.4444444444444444,
              "#bd3786"
             ],
             [
              0.5555555555555556,
              "#d8576b"
             ],
             [
              0.6666666666666666,
              "#ed7953"
             ],
             [
              0.7777777777777778,
              "#fb9f3a"
             ],
             [
              0.8888888888888888,
              "#fdca26"
             ],
             [
              1,
              "#f0f921"
             ]
            ],
            "type": "heatmapgl"
           }
          ],
          "histogram": [
           {
            "marker": {
             "pattern": {
              "fillmode": "overlay",
              "size": 10,
              "solidity": 0.2
             }
            },
            "type": "histogram"
           }
          ],
          "histogram2d": [
           {
            "colorbar": {
             "outlinewidth": 0,
             "ticks": ""
            },
            "colorscale": [
             [
              0,
              "#0d0887"
             ],
             [
              0.1111111111111111,
              "#46039f"
             ],
             [
              0.2222222222222222,
              "#7201a8"
             ],
             [
              0.3333333333333333,
              "#9c179e"
             ],
             [
              0.4444444444444444,
              "#bd3786"
             ],
             [
              0.5555555555555556,
              "#d8576b"
             ],
             [
              0.6666666666666666,
              "#ed7953"
             ],
             [
              0.7777777777777778,
              "#fb9f3a"
             ],
             [
              0.8888888888888888,
              "#fdca26"
             ],
             [
              1,
              "#f0f921"
             ]
            ],
            "type": "histogram2d"
           }
          ],
          "histogram2dcontour": [
           {
            "colorbar": {
             "outlinewidth": 0,
             "ticks": ""
            },
            "colorscale": [
             [
              0,
              "#0d0887"
             ],
             [
              0.1111111111111111,
              "#46039f"
             ],
             [
              0.2222222222222222,
              "#7201a8"
             ],
             [
              0.3333333333333333,
              "#9c179e"
             ],
             [
              0.4444444444444444,
              "#bd3786"
             ],
             [
              0.5555555555555556,
              "#d8576b"
             ],
             [
              0.6666666666666666,
              "#ed7953"
             ],
             [
              0.7777777777777778,
              "#fb9f3a"
             ],
             [
              0.8888888888888888,
              "#fdca26"
             ],
             [
              1,
              "#f0f921"
             ]
            ],
            "type": "histogram2dcontour"
           }
          ],
          "mesh3d": [
           {
            "colorbar": {
             "outlinewidth": 0,
             "ticks": ""
            },
            "type": "mesh3d"
           }
          ],
          "parcoords": [
           {
            "line": {
             "colorbar": {
              "outlinewidth": 0,
              "ticks": ""
             }
            },
            "type": "parcoords"
           }
          ],
          "pie": [
           {
            "automargin": true,
            "type": "pie"
           }
          ],
          "scatter": [
           {
            "fillpattern": {
             "fillmode": "overlay",
             "size": 10,
             "solidity": 0.2
            },
            "type": "scatter"
           }
          ],
          "scatter3d": [
           {
            "line": {
             "colorbar": {
              "outlinewidth": 0,
              "ticks": ""
             }
            },
            "marker": {
             "colorbar": {
              "outlinewidth": 0,
              "ticks": ""
             }
            },
            "type": "scatter3d"
           }
          ],
          "scattercarpet": [
           {
            "marker": {
             "colorbar": {
              "outlinewidth": 0,
              "ticks": ""
             }
            },
            "type": "scattercarpet"
           }
          ],
          "scattergeo": [
           {
            "marker": {
             "colorbar": {
              "outlinewidth": 0,
              "ticks": ""
             }
            },
            "type": "scattergeo"
           }
          ],
          "scattergl": [
           {
            "marker": {
             "colorbar": {
              "outlinewidth": 0,
              "ticks": ""
             }
            },
            "type": "scattergl"
           }
          ],
          "scattermapbox": [
           {
            "marker": {
             "colorbar": {
              "outlinewidth": 0,
              "ticks": ""
             }
            },
            "type": "scattermapbox"
           }
          ],
          "scatterpolar": [
           {
            "marker": {
             "colorbar": {
              "outlinewidth": 0,
              "ticks": ""
             }
            },
            "type": "scatterpolar"
           }
          ],
          "scatterpolargl": [
           {
            "marker": {
             "colorbar": {
              "outlinewidth": 0,
              "ticks": ""
             }
            },
            "type": "scatterpolargl"
           }
          ],
          "scatterternary": [
           {
            "marker": {
             "colorbar": {
              "outlinewidth": 0,
              "ticks": ""
             }
            },
            "type": "scatterternary"
           }
          ],
          "surface": [
           {
            "colorbar": {
             "outlinewidth": 0,
             "ticks": ""
            },
            "colorscale": [
             [
              0,
              "#0d0887"
             ],
             [
              0.1111111111111111,
              "#46039f"
             ],
             [
              0.2222222222222222,
              "#7201a8"
             ],
             [
              0.3333333333333333,
              "#9c179e"
             ],
             [
              0.4444444444444444,
              "#bd3786"
             ],
             [
              0.5555555555555556,
              "#d8576b"
             ],
             [
              0.6666666666666666,
              "#ed7953"
             ],
             [
              0.7777777777777778,
              "#fb9f3a"
             ],
             [
              0.8888888888888888,
              "#fdca26"
             ],
             [
              1,
              "#f0f921"
             ]
            ],
            "type": "surface"
           }
          ],
          "table": [
           {
            "cells": {
             "fill": {
              "color": "#EBF0F8"
             },
             "line": {
              "color": "white"
             }
            },
            "header": {
             "fill": {
              "color": "#C8D4E3"
             },
             "line": {
              "color": "white"
             }
            },
            "type": "table"
           }
          ]
         },
         "layout": {
          "annotationdefaults": {
           "arrowcolor": "#2a3f5f",
           "arrowhead": 0,
           "arrowwidth": 1
          },
          "autotypenumbers": "strict",
          "coloraxis": {
           "colorbar": {
            "outlinewidth": 0,
            "ticks": ""
           }
          },
          "colorscale": {
           "diverging": [
            [
             0,
             "#8e0152"
            ],
            [
             0.1,
             "#c51b7d"
            ],
            [
             0.2,
             "#de77ae"
            ],
            [
             0.3,
             "#f1b6da"
            ],
            [
             0.4,
             "#fde0ef"
            ],
            [
             0.5,
             "#f7f7f7"
            ],
            [
             0.6,
             "#e6f5d0"
            ],
            [
             0.7,
             "#b8e186"
            ],
            [
             0.8,
             "#7fbc41"
            ],
            [
             0.9,
             "#4d9221"
            ],
            [
             1,
             "#276419"
            ]
           ],
           "sequential": [
            [
             0,
             "#0d0887"
            ],
            [
             0.1111111111111111,
             "#46039f"
            ],
            [
             0.2222222222222222,
             "#7201a8"
            ],
            [
             0.3333333333333333,
             "#9c179e"
            ],
            [
             0.4444444444444444,
             "#bd3786"
            ],
            [
             0.5555555555555556,
             "#d8576b"
            ],
            [
             0.6666666666666666,
             "#ed7953"
            ],
            [
             0.7777777777777778,
             "#fb9f3a"
            ],
            [
             0.8888888888888888,
             "#fdca26"
            ],
            [
             1,
             "#f0f921"
            ]
           ],
           "sequentialminus": [
            [
             0,
             "#0d0887"
            ],
            [
             0.1111111111111111,
             "#46039f"
            ],
            [
             0.2222222222222222,
             "#7201a8"
            ],
            [
             0.3333333333333333,
             "#9c179e"
            ],
            [
             0.4444444444444444,
             "#bd3786"
            ],
            [
             0.5555555555555556,
             "#d8576b"
            ],
            [
             0.6666666666666666,
             "#ed7953"
            ],
            [
             0.7777777777777778,
             "#fb9f3a"
            ],
            [
             0.8888888888888888,
             "#fdca26"
            ],
            [
             1,
             "#f0f921"
            ]
           ]
          },
          "colorway": [
           "#636efa",
           "#EF553B",
           "#00cc96",
           "#ab63fa",
           "#FFA15A",
           "#19d3f3",
           "#FF6692",
           "#B6E880",
           "#FF97FF",
           "#FECB52"
          ],
          "font": {
           "color": "#2a3f5f"
          },
          "geo": {
           "bgcolor": "white",
           "lakecolor": "white",
           "landcolor": "#E5ECF6",
           "showlakes": true,
           "showland": true,
           "subunitcolor": "white"
          },
          "hoverlabel": {
           "align": "left"
          },
          "hovermode": "closest",
          "mapbox": {
           "style": "light"
          },
          "paper_bgcolor": "white",
          "plot_bgcolor": "#E5ECF6",
          "polar": {
           "angularaxis": {
            "gridcolor": "white",
            "linecolor": "white",
            "ticks": ""
           },
           "bgcolor": "#E5ECF6",
           "radialaxis": {
            "gridcolor": "white",
            "linecolor": "white",
            "ticks": ""
           }
          },
          "scene": {
           "xaxis": {
            "backgroundcolor": "#E5ECF6",
            "gridcolor": "white",
            "gridwidth": 2,
            "linecolor": "white",
            "showbackground": true,
            "ticks": "",
            "zerolinecolor": "white"
           },
           "yaxis": {
            "backgroundcolor": "#E5ECF6",
            "gridcolor": "white",
            "gridwidth": 2,
            "linecolor": "white",
            "showbackground": true,
            "ticks": "",
            "zerolinecolor": "white"
           },
           "zaxis": {
            "backgroundcolor": "#E5ECF6",
            "gridcolor": "white",
            "gridwidth": 2,
            "linecolor": "white",
            "showbackground": true,
            "ticks": "",
            "zerolinecolor": "white"
           }
          },
          "shapedefaults": {
           "line": {
            "color": "#2a3f5f"
           }
          },
          "ternary": {
           "aaxis": {
            "gridcolor": "white",
            "linecolor": "white",
            "ticks": ""
           },
           "baxis": {
            "gridcolor": "white",
            "linecolor": "white",
            "ticks": ""
           },
           "bgcolor": "#E5ECF6",
           "caxis": {
            "gridcolor": "white",
            "linecolor": "white",
            "ticks": ""
           }
          },
          "title": {
           "x": 0.05
          },
          "xaxis": {
           "automargin": true,
           "gridcolor": "white",
           "linecolor": "white",
           "ticks": "",
           "title": {
            "standoff": 15
           },
           "zerolinecolor": "white",
           "zerolinewidth": 2
          },
          "yaxis": {
           "automargin": true,
           "gridcolor": "white",
           "linecolor": "white",
           "ticks": "",
           "title": {
            "standoff": 15
           },
           "zerolinecolor": "white",
           "zerolinewidth": 2
          }
         }
        },
        "width": 600,
        "xaxis": {
         "anchor": "y",
         "domain": [
          0,
          1
         ],
         "title": {
          "text": "PC 2 (27.3%)"
         }
        },
        "yaxis": {
         "anchor": "x",
         "domain": [
          0,
          1
         ],
         "title": {
          "text": "PC 3 (11.8%)"
         }
        }
       }
      },
      "text/html": [
       "<div>                            <div id=\"d22195a4-29ca-4962-9ceb-7577cf13984f\" class=\"plotly-graph-div\" style=\"height:600px; width:600px;\"></div>            <script type=\"text/javascript\">                require([\"plotly\"], function(Plotly) {                    window.PLOTLYENV=window.PLOTLYENV || {};                                    if (document.getElementById(\"d22195a4-29ca-4962-9ceb-7577cf13984f\")) {                    Plotly.newPlot(                        \"d22195a4-29ca-4962-9ceb-7577cf13984f\",                        [{\"hovertemplate\":\"color=A<br>symbol=Intron<br>1=%{x}<br>2=%{y}<extra></extra>\",\"legendgroup\":\"A, Intron\",\"marker\":{\"color\":\"#636efa\",\"symbol\":\"circle\",\"size\":13},\"mode\":\"markers\",\"name\":\"A, Intron\",\"orientation\":\"v\",\"showlegend\":true,\"x\":[0.9338208057473384,3.146919992069909,1.9357239323776905,1.0159646961914681,0.2412630550293468,-0.27730931794635355,-1.183312045427898,-1.0436902077459806,-1.8008919889024435,-1.9902083266931663,-1.2267376314804779,0.024211547277230308],\"xaxis\":\"x\",\"y\":[1.6050160655121133,1.5733281590884272,0.4234216416872423,0.4975811361026757,0.8336620315751527,0.8921492181238877,0.5494241926155835,0.6979354487641556,0.6201346121664709,0.7069624999892632,1.6469602136394015,1.8072680657010205],\"yaxis\":\"y\",\"type\":\"scatter\"},{\"hovertemplate\":\"color=A<br>symbol=Exon<br>1=%{x}<br>2=%{y}<extra></extra>\",\"legendgroup\":\"A, Exon\",\"marker\":{\"color\":\"#636efa\",\"symbol\":\"diamond\",\"size\":13},\"mode\":\"markers\",\"name\":\"A, Exon\",\"orientation\":\"v\",\"showlegend\":true,\"x\":[0.5358111570199036,2.016636913216894,2.442668056792678,1.5237931526169364,0.2124927866909282,-0.1627713329672777,-0.9472602311027467,-1.0693332113022496,-1.1141141158453451,-0.9770828604639302,-0.8625220988310626,-0.019765337850230505],\"xaxis\":\"x\",\"y\":[-0.08762564111905112,-0.3249097440984648,-0.874580356424844,-1.074186769570013,-1.049938273783036,-1.0034048712359338,-1.0603689946945238,-1.0875579131899213,-1.4410153601472082,-1.4014607555958523,-0.33798378728537376,-0.17293715752383323],\"yaxis\":\"y\",\"type\":\"scatter\"},{\"hovertemplate\":\"color=B<br>symbol=Intron<br>1=%{x}<br>2=%{y}<extra></extra>\",\"legendgroup\":\"B, Intron\",\"marker\":{\"color\":\"#EF553B\",\"symbol\":\"circle\",\"size\":13},\"mode\":\"markers\",\"name\":\"B, Intron\",\"orientation\":\"v\",\"showlegend\":true,\"x\":[2.3147239008942107,1.1435698432792263,2.916261991320024,1.0066010227301574,-0.6737891453790422,-0.2402592457477616,-1.0252316961163632,-1.7510701218415736,-1.610936146173276,-1.9522410555538867,-1.1639967965661564,-0.290919790638993],\"xaxis\":\"x\",\"y\":[1.2159582732331298,0.5981076461928795,0.561977368084073,0.44263584556516905,0.7478490003980566,0.8671123635375246,0.7531046879676079,0.5716715000711776,0.4350588720180773,1.0826724445661011,1.5856204783717867,1.8923044362307315],\"yaxis\":\"y\",\"type\":\"scatter\"},{\"hovertemplate\":\"color=B<br>symbol=Exon<br>1=%{x}<br>2=%{y}<extra></extra>\",\"legendgroup\":\"B, Exon\",\"marker\":{\"color\":\"#EF553B\",\"symbol\":\"diamond\",\"size\":13},\"mode\":\"markers\",\"name\":\"B, Exon\",\"orientation\":\"v\",\"showlegend\":true,\"x\":[0.9164821375236152,2.3905915088374683,2.5910200018699405,1.6979190211715622,-0.4983342698569592,-0.3281857758573428,-0.975666094690166,-1.2503252654488783,-1.075648969779396,-1.3300548670068262,-0.9572077839933525,0.09616250932080908],\"xaxis\":\"x\",\"y\":[-0.2953405336557701,-0.9130769606337658,-0.5947033540741672,-1.1441658811420992,-0.9329028639103578,-0.890103431180037,-0.9347467938303217,-1.367884423650998,-1.2822912208537531,-0.9895127115491698,0.10548551980102541,-0.29621299205598967],\"yaxis\":\"y\",\"type\":\"scatter\"},{\"hovertemplate\":\"color=C<br>symbol=Intron<br>1=%{x}<br>2=%{y}<extra></extra>\",\"legendgroup\":\"C, Intron\",\"marker\":{\"color\":\"#00cc96\",\"symbol\":\"circle\",\"size\":13},\"mode\":\"markers\",\"name\":\"C, Intron\",\"orientation\":\"v\",\"showlegend\":true,\"x\":[3.394936197015489,2.6762604169437316,0.9043395315690852,0.6415673828826396,-0.5210136385574916,-0.8869833503775059,-0.9662421235660628,-1.0992323898444958,-1.7850133140459443,-1.7730149279396197,-2.004151993590083,-1.3264189382415688],\"xaxis\":\"x\",\"y\":[1.4595414014085506,0.5871872208170353,0.5901956218222829,0.7788975410081127,0.7835760772335738,0.6387264237043004,0.8557464099061531,0.5853843752588204,0.7000221812190097,0.9355475444969009,1.3248189853022279,1.6494830920359664],\"yaxis\":\"y\",\"type\":\"scatter\"},{\"hovertemplate\":\"color=C<br>symbol=Exon<br>1=%{x}<br>2=%{y}<extra></extra>\",\"legendgroup\":\"C, Exon\",\"marker\":{\"color\":\"#00cc96\",\"symbol\":\"diamond\",\"size\":13},\"mode\":\"markers\",\"name\":\"C, Exon\",\"orientation\":\"v\",\"showlegend\":true,\"x\":[1.8014721872590633,2.714084586531341,1.055537992977617,0.9207138745763037,-0.41572244223502763,-0.9339856996480593,-0.8054500537729764,-0.9892176468918458,-1.1253497628182634,-1.1758225044501838,-0.9899965361541804,-0.8101056224484938],\"xaxis\":\"x\",\"y\":[-0.18214007026275864,-0.5264490084631988,-1.250927481211026,-1.1733061062839951,-0.9160221780201456,-1.0033031836231858,-0.9177906511321744,-1.3407033147385845,-1.2928858936928078,-1.0442554039376237,-0.8702776636091447,-0.26566282523647117],\"yaxis\":\"y\",\"type\":\"scatter\"},{\"hovertemplate\":\"color=D<br>symbol=Intron<br>1=%{x}<br>2=%{y}<extra></extra>\",\"legendgroup\":\"D, Intron\",\"marker\":{\"color\":\"#ab63fa\",\"symbol\":\"circle\",\"size\":13},\"mode\":\"markers\",\"name\":\"D, Intron\",\"orientation\":\"v\",\"showlegend\":true,\"x\":[3.435388997483651,1.758023738931877,2.4787821333792044,1.0056254514850482,0.3117645166841322,-0.3067145218869309,-1.1176251044141212,-1.3299189345564602,-1.7905247750815718,-1.9593216635293056,-1.8364516282180297,-0.7436073654329041],\"xaxis\":\"x\",\"y\":[0.7991945610313989,0.44993042078631645,0.5294457918774783,0.5751619122562818,0.8556933224835792,0.9268873225658818,0.5632041493660737,0.4639691217890404,0.44252937493336547,0.7168053382377484,1.2365355814251886,1.2952695295471073],\"yaxis\":\"y\",\"type\":\"scatter\"},{\"hovertemplate\":\"color=D<br>symbol=Exon<br>1=%{x}<br>2=%{y}<extra></extra>\",\"legendgroup\":\"D, Exon\",\"marker\":{\"color\":\"#ab63fa\",\"symbol\":\"diamond\",\"size\":13},\"mode\":\"markers\",\"name\":\"D, Exon\",\"orientation\":\"v\",\"showlegend\":true,\"x\":[1.9851787102487,2.0644551089616625,2.5363769879575453,1.3944837956632958,0.5906499509211435,-0.2550396604827015,-0.9870720178437262,-1.1521042943417623,-1.0421394848582546,-1.278976729561046,-1.0798153133422923,-0.4863814241088203],\"xaxis\":\"x\",\"y\":[-0.4994816016501273,-1.2160688891477869,-0.5393185188829211,-1.2093608992942728,-0.9394345411097975,-0.9706740222885357,-1.3755304942187832,-1.406947437438278,-1.3728042038881247,-1.1528149027491885,-0.9336810741757607,-0.5004038652559307],\"yaxis\":\"y\",\"type\":\"scatter\"}],                        {\"template\":{\"data\":{\"histogram2dcontour\":[{\"type\":\"histogram2dcontour\",\"colorbar\":{\"outlinewidth\":0,\"ticks\":\"\"},\"colorscale\":[[0.0,\"#0d0887\"],[0.1111111111111111,\"#46039f\"],[0.2222222222222222,\"#7201a8\"],[0.3333333333333333,\"#9c179e\"],[0.4444444444444444,\"#bd3786\"],[0.5555555555555556,\"#d8576b\"],[0.6666666666666666,\"#ed7953\"],[0.7777777777777778,\"#fb9f3a\"],[0.8888888888888888,\"#fdca26\"],[1.0,\"#f0f921\"]]}],\"choropleth\":[{\"type\":\"choropleth\",\"colorbar\":{\"outlinewidth\":0,\"ticks\":\"\"}}],\"histogram2d\":[{\"type\":\"histogram2d\",\"colorbar\":{\"outlinewidth\":0,\"ticks\":\"\"},\"colorscale\":[[0.0,\"#0d0887\"],[0.1111111111111111,\"#46039f\"],[0.2222222222222222,\"#7201a8\"],[0.3333333333333333,\"#9c179e\"],[0.4444444444444444,\"#bd3786\"],[0.5555555555555556,\"#d8576b\"],[0.6666666666666666,\"#ed7953\"],[0.7777777777777778,\"#fb9f3a\"],[0.8888888888888888,\"#fdca26\"],[1.0,\"#f0f921\"]]}],\"heatmap\":[{\"type\":\"heatmap\",\"colorbar\":{\"outlinewidth\":0,\"ticks\":\"\"},\"colorscale\":[[0.0,\"#0d0887\"],[0.1111111111111111,\"#46039f\"],[0.2222222222222222,\"#7201a8\"],[0.3333333333333333,\"#9c179e\"],[0.4444444444444444,\"#bd3786\"],[0.5555555555555556,\"#d8576b\"],[0.6666666666666666,\"#ed7953\"],[0.7777777777777778,\"#fb9f3a\"],[0.8888888888888888,\"#fdca26\"],[1.0,\"#f0f921\"]]}],\"heatmapgl\":[{\"type\":\"heatmapgl\",\"colorbar\":{\"outlinewidth\":0,\"ticks\":\"\"},\"colorscale\":[[0.0,\"#0d0887\"],[0.1111111111111111,\"#46039f\"],[0.2222222222222222,\"#7201a8\"],[0.3333333333333333,\"#9c179e\"],[0.4444444444444444,\"#bd3786\"],[0.5555555555555556,\"#d8576b\"],[0.6666666666666666,\"#ed7953\"],[0.7777777777777778,\"#fb9f3a\"],[0.8888888888888888,\"#fdca26\"],[1.0,\"#f0f921\"]]}],\"contourcarpet\":[{\"type\":\"contourcarpet\",\"colorbar\":{\"outlinewidth\":0,\"ticks\":\"\"}}],\"contour\":[{\"type\":\"contour\",\"colorbar\":{\"outlinewidth\":0,\"ticks\":\"\"},\"colorscale\":[[0.0,\"#0d0887\"],[0.1111111111111111,\"#46039f\"],[0.2222222222222222,\"#7201a8\"],[0.3333333333333333,\"#9c179e\"],[0.4444444444444444,\"#bd3786\"],[0.5555555555555556,\"#d8576b\"],[0.6666666666666666,\"#ed7953\"],[0.7777777777777778,\"#fb9f3a\"],[0.8888888888888888,\"#fdca26\"],[1.0,\"#f0f921\"]]}],\"surface\":[{\"type\":\"surface\",\"colorbar\":{\"outlinewidth\":0,\"ticks\":\"\"},\"colorscale\":[[0.0,\"#0d0887\"],[0.1111111111111111,\"#46039f\"],[0.2222222222222222,\"#7201a8\"],[0.3333333333333333,\"#9c179e\"],[0.4444444444444444,\"#bd3786\"],[0.5555555555555556,\"#d8576b\"],[0.6666666666666666,\"#ed7953\"],[0.7777777777777778,\"#fb9f3a\"],[0.8888888888888888,\"#fdca26\"],[1.0,\"#f0f921\"]]}],\"mesh3d\":[{\"type\":\"mesh3d\",\"colorbar\":{\"outlinewidth\":0,\"ticks\":\"\"}}],\"scatter\":[{\"fillpattern\":{\"fillmode\":\"overlay\",\"size\":10,\"solidity\":0.2},\"type\":\"scatter\"}],\"parcoords\":[{\"type\":\"parcoords\",\"line\":{\"colorbar\":{\"outlinewidth\":0,\"ticks\":\"\"}}}],\"scatterpolargl\":[{\"type\":\"scatterpolargl\",\"marker\":{\"colorbar\":{\"outlinewidth\":0,\"ticks\":\"\"}}}],\"bar\":[{\"error_x\":{\"color\":\"#2a3f5f\"},\"error_y\":{\"color\":\"#2a3f5f\"},\"marker\":{\"line\":{\"color\":\"#E5ECF6\",\"width\":0.5},\"pattern\":{\"fillmode\":\"overlay\",\"size\":10,\"solidity\":0.2}},\"type\":\"bar\"}],\"scattergeo\":[{\"type\":\"scattergeo\",\"marker\":{\"colorbar\":{\"outlinewidth\":0,\"ticks\":\"\"}}}],\"scatterpolar\":[{\"type\":\"scatterpolar\",\"marker\":{\"colorbar\":{\"outlinewidth\":0,\"ticks\":\"\"}}}],\"histogram\":[{\"marker\":{\"pattern\":{\"fillmode\":\"overlay\",\"size\":10,\"solidity\":0.2}},\"type\":\"histogram\"}],\"scattergl\":[{\"type\":\"scattergl\",\"marker\":{\"colorbar\":{\"outlinewidth\":0,\"ticks\":\"\"}}}],\"scatter3d\":[{\"type\":\"scatter3d\",\"line\":{\"colorbar\":{\"outlinewidth\":0,\"ticks\":\"\"}},\"marker\":{\"colorbar\":{\"outlinewidth\":0,\"ticks\":\"\"}}}],\"scattermapbox\":[{\"type\":\"scattermapbox\",\"marker\":{\"colorbar\":{\"outlinewidth\":0,\"ticks\":\"\"}}}],\"scatterternary\":[{\"type\":\"scatterternary\",\"marker\":{\"colorbar\":{\"outlinewidth\":0,\"ticks\":\"\"}}}],\"scattercarpet\":[{\"type\":\"scattercarpet\",\"marker\":{\"colorbar\":{\"outlinewidth\":0,\"ticks\":\"\"}}}],\"carpet\":[{\"aaxis\":{\"endlinecolor\":\"#2a3f5f\",\"gridcolor\":\"white\",\"linecolor\":\"white\",\"minorgridcolor\":\"white\",\"startlinecolor\":\"#2a3f5f\"},\"baxis\":{\"endlinecolor\":\"#2a3f5f\",\"gridcolor\":\"white\",\"linecolor\":\"white\",\"minorgridcolor\":\"white\",\"startlinecolor\":\"#2a3f5f\"},\"type\":\"carpet\"}],\"table\":[{\"cells\":{\"fill\":{\"color\":\"#EBF0F8\"},\"line\":{\"color\":\"white\"}},\"header\":{\"fill\":{\"color\":\"#C8D4E3\"},\"line\":{\"color\":\"white\"}},\"type\":\"table\"}],\"barpolar\":[{\"marker\":{\"line\":{\"color\":\"#E5ECF6\",\"width\":0.5},\"pattern\":{\"fillmode\":\"overlay\",\"size\":10,\"solidity\":0.2}},\"type\":\"barpolar\"}],\"pie\":[{\"automargin\":true,\"type\":\"pie\"}]},\"layout\":{\"autotypenumbers\":\"strict\",\"colorway\":[\"#636efa\",\"#EF553B\",\"#00cc96\",\"#ab63fa\",\"#FFA15A\",\"#19d3f3\",\"#FF6692\",\"#B6E880\",\"#FF97FF\",\"#FECB52\"],\"font\":{\"color\":\"#2a3f5f\"},\"hovermode\":\"closest\",\"hoverlabel\":{\"align\":\"left\"},\"paper_bgcolor\":\"white\",\"plot_bgcolor\":\"#E5ECF6\",\"polar\":{\"bgcolor\":\"#E5ECF6\",\"angularaxis\":{\"gridcolor\":\"white\",\"linecolor\":\"white\",\"ticks\":\"\"},\"radialaxis\":{\"gridcolor\":\"white\",\"linecolor\":\"white\",\"ticks\":\"\"}},\"ternary\":{\"bgcolor\":\"#E5ECF6\",\"aaxis\":{\"gridcolor\":\"white\",\"linecolor\":\"white\",\"ticks\":\"\"},\"baxis\":{\"gridcolor\":\"white\",\"linecolor\":\"white\",\"ticks\":\"\"},\"caxis\":{\"gridcolor\":\"white\",\"linecolor\":\"white\",\"ticks\":\"\"}},\"coloraxis\":{\"colorbar\":{\"outlinewidth\":0,\"ticks\":\"\"}},\"colorscale\":{\"sequential\":[[0.0,\"#0d0887\"],[0.1111111111111111,\"#46039f\"],[0.2222222222222222,\"#7201a8\"],[0.3333333333333333,\"#9c179e\"],[0.4444444444444444,\"#bd3786\"],[0.5555555555555556,\"#d8576b\"],[0.6666666666666666,\"#ed7953\"],[0.7777777777777778,\"#fb9f3a\"],[0.8888888888888888,\"#fdca26\"],[1.0,\"#f0f921\"]],\"sequentialminus\":[[0.0,\"#0d0887\"],[0.1111111111111111,\"#46039f\"],[0.2222222222222222,\"#7201a8\"],[0.3333333333333333,\"#9c179e\"],[0.4444444444444444,\"#bd3786\"],[0.5555555555555556,\"#d8576b\"],[0.6666666666666666,\"#ed7953\"],[0.7777777777777778,\"#fb9f3a\"],[0.8888888888888888,\"#fdca26\"],[1.0,\"#f0f921\"]],\"diverging\":[[0,\"#8e0152\"],[0.1,\"#c51b7d\"],[0.2,\"#de77ae\"],[0.3,\"#f1b6da\"],[0.4,\"#fde0ef\"],[0.5,\"#f7f7f7\"],[0.6,\"#e6f5d0\"],[0.7,\"#b8e186\"],[0.8,\"#7fbc41\"],[0.9,\"#4d9221\"],[1,\"#276419\"]]},\"xaxis\":{\"gridcolor\":\"white\",\"linecolor\":\"white\",\"ticks\":\"\",\"title\":{\"standoff\":15},\"zerolinecolor\":\"white\",\"automargin\":true,\"zerolinewidth\":2},\"yaxis\":{\"gridcolor\":\"white\",\"linecolor\":\"white\",\"ticks\":\"\",\"title\":{\"standoff\":15},\"zerolinecolor\":\"white\",\"automargin\":true,\"zerolinewidth\":2},\"scene\":{\"xaxis\":{\"backgroundcolor\":\"#E5ECF6\",\"gridcolor\":\"white\",\"linecolor\":\"white\",\"showbackground\":true,\"ticks\":\"\",\"zerolinecolor\":\"white\",\"gridwidth\":2},\"yaxis\":{\"backgroundcolor\":\"#E5ECF6\",\"gridcolor\":\"white\",\"linecolor\":\"white\",\"showbackground\":true,\"ticks\":\"\",\"zerolinecolor\":\"white\",\"gridwidth\":2},\"zaxis\":{\"backgroundcolor\":\"#E5ECF6\",\"gridcolor\":\"white\",\"linecolor\":\"white\",\"showbackground\":true,\"ticks\":\"\",\"zerolinecolor\":\"white\",\"gridwidth\":2}},\"shapedefaults\":{\"line\":{\"color\":\"#2a3f5f\"}},\"annotationdefaults\":{\"arrowcolor\":\"#2a3f5f\",\"arrowhead\":0,\"arrowwidth\":1},\"geo\":{\"bgcolor\":\"white\",\"landcolor\":\"#E5ECF6\",\"subunitcolor\":\"white\",\"showland\":true,\"showlakes\":true,\"lakecolor\":\"white\"},\"title\":{\"x\":0.05},\"mapbox\":{\"style\":\"light\"}}},\"xaxis\":{\"anchor\":\"y\",\"domain\":[0.0,1.0],\"title\":{\"text\":\"PC 2 (27.3%)\"}},\"yaxis\":{\"anchor\":\"x\",\"domain\":[0.0,1.0],\"title\":{\"text\":\"PC 3 (11.8%)\"}},\"legend\":{\"title\":{\"text\":\"color, symbol\"},\"tracegroupgap\":0},\"margin\":{\"t\":60},\"height\":600,\"width\":600,\"plot_bgcolor\":\"rgb(243,243,243)\"},                        {\"responsive\": true}                    ).then(function(){\n",
       "                            \n",
       "var gd = document.getElementById('d22195a4-29ca-4962-9ceb-7577cf13984f');\n",
       "var x = new MutationObserver(function (mutations, observer) {{\n",
       "        var display = window.getComputedStyle(gd).display;\n",
       "        if (!display || display === 'none') {{\n",
       "            console.log([gd, 'removed!']);\n",
       "            Plotly.purge(gd);\n",
       "            observer.disconnect();\n",
       "        }}\n",
       "}});\n",
       "\n",
       "// Listen for the removal of the full notebook cells\n",
       "var notebookContainer = gd.closest('#notebook-container');\n",
       "if (notebookContainer) {{\n",
       "    x.observe(notebookContainer, {childList: true});\n",
       "}}\n",
       "\n",
       "// Listen for the clearing of the current output cell\n",
       "var outputEl = gd.closest('.output');\n",
       "if (outputEl) {{\n",
       "    x.observe(outputEl, {childList: true});\n",
       "}}\n",
       "\n",
       "                        })                };                });            </script>        </div>"
      ]
     },
     "metadata": {},
     "output_type": "display_data"
    },
    {
     "data": {
      "application/vnd.plotly.v1+json": {
       "config": {
        "plotlyServerURL": "https://plot.ly"
       },
       "data": [
        {
         "hovertemplate": "color=00<br>symbol=WT<br>2=%{x}<br>3=%{y}<extra></extra>",
         "legendgroup": "00, WT",
         "marker": {
          "color": "#636efa",
          "size": 13,
          "symbol": "circle"
         },
         "mode": "markers",
         "name": "00, WT",
         "orientation": "v",
         "showlegend": true,
         "type": "scatter",
         "x": [
          1.6050160655121133,
          1.2159582732331298,
          1.4595414014085506,
          0.7991945610313989,
          -0.08762564111905112,
          -0.2953405336557701,
          -0.18214007026275864,
          -0.4994816016501273
         ],
         "xaxis": "x",
         "y": [
          -0.20129166736134774,
          0.7123393456602967,
          0.5184997032439934,
          0.8675663571973959,
          -0.8105860301892253,
          -0.034975274168776056,
          -0.13112155596228647,
          -0.10554317701371123
         ],
         "yaxis": "y"
        },
        {
         "hovertemplate": "color=02<br>symbol=WT<br>2=%{x}<br>3=%{y}<extra></extra>",
         "legendgroup": "02, WT",
         "marker": {
          "color": "#EF553B",
          "size": 13,
          "symbol": "circle"
         },
         "mode": "markers",
         "name": "02, WT",
         "orientation": "v",
         "showlegend": true,
         "type": "scatter",
         "x": [
          1.5733281590884272,
          0.5981076461928795,
          0.5871872208170353,
          0.44993042078631645,
          -0.3249097440984648,
          -0.9130769606337658,
          -0.5264490084631988,
          -1.2160688891477869
         ],
         "xaxis": "x",
         "y": [
          0.7706780772611921,
          0.8810871396579043,
          0.2179153791607435,
          0.09587530360303134,
          -0.030757011681060542,
          0.20836087397086278,
          -0.04517163717012715,
          0.08649116234845197
         ],
         "yaxis": "y"
        },
        {
         "hovertemplate": "color=04<br>symbol=WT<br>2=%{x}<br>3=%{y}<extra></extra>",
         "legendgroup": "04, WT",
         "marker": {
          "color": "#00cc96",
          "size": 13,
          "symbol": "circle"
         },
         "mode": "markers",
         "name": "04, WT",
         "orientation": "v",
         "showlegend": true,
         "type": "scatter",
         "x": [
          0.4234216416872423,
          0.561977368084073,
          0.5901956218222829,
          0.5294457918774783,
          -0.874580356424844,
          -0.5947033540741672,
          -1.250927481211026,
          -0.5393185188829211
         ],
         "xaxis": "x",
         "y": [
          -0.08856401265953408,
          0.5205333150406565,
          -0.5541150289393963,
          0.37890726806995395,
          0.017532565852571944,
          0.13615308803361365,
          -0.07161793703384911,
          -0.10938595813460096
         ],
         "yaxis": "y"
        },
        {
         "hovertemplate": "color=06<br>symbol=WT<br>2=%{x}<br>3=%{y}<extra></extra>",
         "legendgroup": "06, WT",
         "marker": {
          "color": "#ab63fa",
          "size": 13,
          "symbol": "circle"
         },
         "mode": "markers",
         "name": "06, WT",
         "orientation": "v",
         "showlegend": true,
         "type": "scatter",
         "x": [
          0.4975811361026757,
          0.44263584556516905,
          0.7788975410081127,
          0.5751619122562818,
          -1.074186769570013,
          -1.1441658811420992,
          -1.1733061062839951,
          -1.2093608992942728
         ],
         "xaxis": "x",
         "y": [
          -0.44825526147959793,
          -0.613827101457419,
          -0.5076457379537653,
          -0.5435988020707057,
          0.011981304520693743,
          -0.28264474140827006,
          -0.15239601635449604,
          0.008580208885312031
         ],
         "yaxis": "y"
        },
        {
         "hovertemplate": "color=08<br>symbol=WT<br>2=%{x}<br>3=%{y}<extra></extra>",
         "legendgroup": "08, WT",
         "marker": {
          "color": "#FFA15A",
          "size": 13,
          "symbol": "circle"
         },
         "mode": "markers",
         "name": "08, WT",
         "orientation": "v",
         "showlegend": true,
         "type": "scatter",
         "x": [
          0.8336620315751527,
          0.7478490003980566,
          0.7835760772335738,
          0.8556933224835792,
          -1.049938273783036,
          -0.9329028639103578,
          -0.9160221780201456,
          -0.9394345411097975
         ],
         "xaxis": "x",
         "y": [
          -0.425098502534741,
          -0.38613000439522865,
          -0.362129812943987,
          -0.4371171238856537,
          -0.11642349288476685,
          -0.1620333035940416,
          -0.1745057068482021,
          -0.057218526055432185
         ],
         "yaxis": "y"
        },
        {
         "hovertemplate": "color=10<br>symbol=WT<br>2=%{x}<br>3=%{y}<extra></extra>",
         "legendgroup": "10, WT",
         "marker": {
          "color": "#19d3f3",
          "size": 13,
          "symbol": "circle"
         },
         "mode": "markers",
         "name": "10, WT",
         "orientation": "v",
         "showlegend": true,
         "type": "scatter",
         "x": [
          0.8921492181238877,
          0.8671123635375246,
          0.6387264237043004,
          0.9268873225658818,
          -1.0034048712359338,
          -0.890103431180037,
          -1.0033031836231858,
          -0.9706740222885357
         ],
         "xaxis": "x",
         "y": [
          -0.3463767869244529,
          -0.375651759789066,
          -0.23160255111238573,
          -0.3798762161633042,
          -0.15105673076890988,
          -0.15951628244937596,
          -0.12387979518542369,
          -0.12574883591841693
         ],
         "yaxis": "y"
        },
        {
         "hovertemplate": "color=12<br>symbol=WT<br>2=%{x}<br>3=%{y}<extra></extra>",
         "legendgroup": "12, WT",
         "marker": {
          "color": "#FF6692",
          "size": 13,
          "symbol": "circle"
         },
         "mode": "markers",
         "name": "12, WT",
         "orientation": "v",
         "showlegend": true,
         "type": "scatter",
         "x": [
          0.5494241926155835,
          0.7531046879676079,
          0.8557464099061531,
          0.5632041493660737,
          -1.0603689946945238,
          -0.9347467938303217,
          -0.9177906511321744,
          -1.3755304942187832
         ],
         "xaxis": "x",
         "y": [
          -0.1477638034817415,
          -0.294378907470928,
          -0.3389033119744064,
          0.05112590792322165,
          -0.038838719013245614,
          -0.2395105017463598,
          -0.19631356151379098,
          0.09277536042316988
         ],
         "yaxis": "y"
        },
        {
         "hovertemplate": "color=14<br>symbol=WT<br>2=%{x}<br>3=%{y}<extra></extra>",
         "legendgroup": "14, WT",
         "marker": {
          "color": "#B6E880",
          "size": 13,
          "symbol": "circle"
         },
         "mode": "markers",
         "name": "14, WT",
         "orientation": "v",
         "showlegend": true,
         "type": "scatter",
         "x": [
          0.6979354487641556,
          0.5716715000711776,
          0.5853843752588204,
          0.4639691217890404,
          -1.0875579131899213,
          -1.367884423650998,
          -1.3407033147385845,
          -1.406947437438278
         ],
         "xaxis": "x",
         "y": [
          0.5107598910097653,
          0.39197471376585236,
          0.17448777439076987,
          0.2548153136754469,
          0.5323339538145418,
          0.12504161965746222,
          0.15978252196861284,
          0.2096871105686055
         ],
         "yaxis": "y"
        },
        {
         "hovertemplate": "color=16<br>symbol=WT<br>2=%{x}<br>3=%{y}<extra></extra>",
         "legendgroup": "16, WT",
         "marker": {
          "color": "#FF97FF",
          "size": 13,
          "symbol": "circle"
         },
         "mode": "markers",
         "name": "16, WT",
         "orientation": "v",
         "showlegend": true,
         "type": "scatter",
         "x": [
          0.6201346121664709,
          0.4350588720180773,
          0.7000221812190097,
          0.44252937493336547,
          -1.4410153601472082,
          -1.2822912208537531,
          -1.2928858936928078,
          -1.3728042038881247
         ],
         "xaxis": "x",
         "y": [
          0.9893441133880935,
          0.30175786824937134,
          0.919341445350076,
          0.3883419409431312,
          0.47910546108113655,
          0.11053237901907718,
          0.2571603763714148,
          0.1681580466471615
         ],
         "yaxis": "y"
        },
        {
         "hovertemplate": "color=18<br>symbol=WT<br>2=%{x}<br>3=%{y}<extra></extra>",
         "legendgroup": "18, WT",
         "marker": {
          "color": "#FECB52",
          "size": 13,
          "symbol": "circle"
         },
         "mode": "markers",
         "name": "18, WT",
         "orientation": "v",
         "showlegend": true,
         "type": "scatter",
         "x": [
          0.7069624999892632,
          1.0826724445661011,
          0.9355475444969009,
          0.7168053382377484,
          -1.4014607555958523,
          -0.9895127115491698,
          -1.0442554039376237,
          -1.1528149027491885
         ],
         "xaxis": "x",
         "y": [
          0.47324189162802005,
          0.04195591195977968,
          0.394809357392046,
          0.7792133669441619,
          0.49656247895126226,
          0.17954875653320315,
          0.09683477335670769,
          0.189642308543467
         ],
         "yaxis": "y"
        },
        {
         "hovertemplate": "color=20<br>symbol=WT<br>2=%{x}<br>3=%{y}<extra></extra>",
         "legendgroup": "20, WT",
         "marker": {
          "color": "#636efa",
          "size": 13,
          "symbol": "circle"
         },
         "mode": "markers",
         "name": "20, WT",
         "orientation": "v",
         "showlegend": true,
         "type": "scatter",
         "x": [
          1.6469602136394015,
          1.5856204783717867,
          1.3248189853022279,
          1.2365355814251886,
          -0.33798378728537376,
          0.10548551980102541,
          -0.8702776636091447,
          -0.9336810741757607
         ],
         "xaxis": "x",
         "y": [
          -0.6142752980966524,
          -0.7380662138310403,
          0.40692199557535363,
          0.942273476746274,
          -0.9254018985865577,
          -0.9216831553619574,
          -0.02480685388040145,
          0.23406935598332587
         ],
         "yaxis": "y"
        },
        {
         "hovertemplate": "color=22<br>symbol=WT<br>2=%{x}<br>3=%{y}<extra></extra>",
         "legendgroup": "22, WT",
         "marker": {
          "color": "#EF553B",
          "size": 13,
          "symbol": "circle"
         },
         "mode": "markers",
         "name": "22, WT",
         "orientation": "v",
         "showlegend": true,
         "type": "scatter",
         "x": [
          1.8072680657010205,
          1.8923044362307315,
          1.6494830920359664,
          1.2952695295471073,
          -0.17293715752383323,
          -0.29621299205598967,
          -0.26566282523647117,
          -0.5004038652559307
         ],
         "xaxis": "x",
         "y": [
          -0.18732492975711393,
          -0.2821961980408688,
          -0.566969094491108,
          0.2722278382493367,
          -0.6465258361686818,
          -0.505853350011679,
          -0.38913984445187444,
          -0.25251454224657366
         ],
         "yaxis": "y"
        }
       ],
       "layout": {
        "height": 600,
        "legend": {
         "title": {
          "text": "color, symbol"
         },
         "tracegroupgap": 0
        },
        "margin": {
         "t": 60
        },
        "plot_bgcolor": "rgb(243,243,243)",
        "template": {
         "data": {
          "bar": [
           {
            "error_x": {
             "color": "#2a3f5f"
            },
            "error_y": {
             "color": "#2a3f5f"
            },
            "marker": {
             "line": {
              "color": "#E5ECF6",
              "width": 0.5
             },
             "pattern": {
              "fillmode": "overlay",
              "size": 10,
              "solidity": 0.2
             }
            },
            "type": "bar"
           }
          ],
          "barpolar": [
           {
            "marker": {
             "line": {
              "color": "#E5ECF6",
              "width": 0.5
             },
             "pattern": {
              "fillmode": "overlay",
              "size": 10,
              "solidity": 0.2
             }
            },
            "type": "barpolar"
           }
          ],
          "carpet": [
           {
            "aaxis": {
             "endlinecolor": "#2a3f5f",
             "gridcolor": "white",
             "linecolor": "white",
             "minorgridcolor": "white",
             "startlinecolor": "#2a3f5f"
            },
            "baxis": {
             "endlinecolor": "#2a3f5f",
             "gridcolor": "white",
             "linecolor": "white",
             "minorgridcolor": "white",
             "startlinecolor": "#2a3f5f"
            },
            "type": "carpet"
           }
          ],
          "choropleth": [
           {
            "colorbar": {
             "outlinewidth": 0,
             "ticks": ""
            },
            "type": "choropleth"
           }
          ],
          "contour": [
           {
            "colorbar": {
             "outlinewidth": 0,
             "ticks": ""
            },
            "colorscale": [
             [
              0,
              "#0d0887"
             ],
             [
              0.1111111111111111,
              "#46039f"
             ],
             [
              0.2222222222222222,
              "#7201a8"
             ],
             [
              0.3333333333333333,
              "#9c179e"
             ],
             [
              0.4444444444444444,
              "#bd3786"
             ],
             [
              0.5555555555555556,
              "#d8576b"
             ],
             [
              0.6666666666666666,
              "#ed7953"
             ],
             [
              0.7777777777777778,
              "#fb9f3a"
             ],
             [
              0.8888888888888888,
              "#fdca26"
             ],
             [
              1,
              "#f0f921"
             ]
            ],
            "type": "contour"
           }
          ],
          "contourcarpet": [
           {
            "colorbar": {
             "outlinewidth": 0,
             "ticks": ""
            },
            "type": "contourcarpet"
           }
          ],
          "heatmap": [
           {
            "colorbar": {
             "outlinewidth": 0,
             "ticks": ""
            },
            "colorscale": [
             [
              0,
              "#0d0887"
             ],
             [
              0.1111111111111111,
              "#46039f"
             ],
             [
              0.2222222222222222,
              "#7201a8"
             ],
             [
              0.3333333333333333,
              "#9c179e"
             ],
             [
              0.4444444444444444,
              "#bd3786"
             ],
             [
              0.5555555555555556,
              "#d8576b"
             ],
             [
              0.6666666666666666,
              "#ed7953"
             ],
             [
              0.7777777777777778,
              "#fb9f3a"
             ],
             [
              0.8888888888888888,
              "#fdca26"
             ],
             [
              1,
              "#f0f921"
             ]
            ],
            "type": "heatmap"
           }
          ],
          "heatmapgl": [
           {
            "colorbar": {
             "outlinewidth": 0,
             "ticks": ""
            },
            "colorscale": [
             [
              0,
              "#0d0887"
             ],
             [
              0.1111111111111111,
              "#46039f"
             ],
             [
              0.2222222222222222,
              "#7201a8"
             ],
             [
              0.3333333333333333,
              "#9c179e"
             ],
             [
              0.4444444444444444,
              "#bd3786"
             ],
             [
              0.5555555555555556,
              "#d8576b"
             ],
             [
              0.6666666666666666,
              "#ed7953"
             ],
             [
              0.7777777777777778,
              "#fb9f3a"
             ],
             [
              0.8888888888888888,
              "#fdca26"
             ],
             [
              1,
              "#f0f921"
             ]
            ],
            "type": "heatmapgl"
           }
          ],
          "histogram": [
           {
            "marker": {
             "pattern": {
              "fillmode": "overlay",
              "size": 10,
              "solidity": 0.2
             }
            },
            "type": "histogram"
           }
          ],
          "histogram2d": [
           {
            "colorbar": {
             "outlinewidth": 0,
             "ticks": ""
            },
            "colorscale": [
             [
              0,
              "#0d0887"
             ],
             [
              0.1111111111111111,
              "#46039f"
             ],
             [
              0.2222222222222222,
              "#7201a8"
             ],
             [
              0.3333333333333333,
              "#9c179e"
             ],
             [
              0.4444444444444444,
              "#bd3786"
             ],
             [
              0.5555555555555556,
              "#d8576b"
             ],
             [
              0.6666666666666666,
              "#ed7953"
             ],
             [
              0.7777777777777778,
              "#fb9f3a"
             ],
             [
              0.8888888888888888,
              "#fdca26"
             ],
             [
              1,
              "#f0f921"
             ]
            ],
            "type": "histogram2d"
           }
          ],
          "histogram2dcontour": [
           {
            "colorbar": {
             "outlinewidth": 0,
             "ticks": ""
            },
            "colorscale": [
             [
              0,
              "#0d0887"
             ],
             [
              0.1111111111111111,
              "#46039f"
             ],
             [
              0.2222222222222222,
              "#7201a8"
             ],
             [
              0.3333333333333333,
              "#9c179e"
             ],
             [
              0.4444444444444444,
              "#bd3786"
             ],
             [
              0.5555555555555556,
              "#d8576b"
             ],
             [
              0.6666666666666666,
              "#ed7953"
             ],
             [
              0.7777777777777778,
              "#fb9f3a"
             ],
             [
              0.8888888888888888,
              "#fdca26"
             ],
             [
              1,
              "#f0f921"
             ]
            ],
            "type": "histogram2dcontour"
           }
          ],
          "mesh3d": [
           {
            "colorbar": {
             "outlinewidth": 0,
             "ticks": ""
            },
            "type": "mesh3d"
           }
          ],
          "parcoords": [
           {
            "line": {
             "colorbar": {
              "outlinewidth": 0,
              "ticks": ""
             }
            },
            "type": "parcoords"
           }
          ],
          "pie": [
           {
            "automargin": true,
            "type": "pie"
           }
          ],
          "scatter": [
           {
            "fillpattern": {
             "fillmode": "overlay",
             "size": 10,
             "solidity": 0.2
            },
            "type": "scatter"
           }
          ],
          "scatter3d": [
           {
            "line": {
             "colorbar": {
              "outlinewidth": 0,
              "ticks": ""
             }
            },
            "marker": {
             "colorbar": {
              "outlinewidth": 0,
              "ticks": ""
             }
            },
            "type": "scatter3d"
           }
          ],
          "scattercarpet": [
           {
            "marker": {
             "colorbar": {
              "outlinewidth": 0,
              "ticks": ""
             }
            },
            "type": "scattercarpet"
           }
          ],
          "scattergeo": [
           {
            "marker": {
             "colorbar": {
              "outlinewidth": 0,
              "ticks": ""
             }
            },
            "type": "scattergeo"
           }
          ],
          "scattergl": [
           {
            "marker": {
             "colorbar": {
              "outlinewidth": 0,
              "ticks": ""
             }
            },
            "type": "scattergl"
           }
          ],
          "scattermapbox": [
           {
            "marker": {
             "colorbar": {
              "outlinewidth": 0,
              "ticks": ""
             }
            },
            "type": "scattermapbox"
           }
          ],
          "scatterpolar": [
           {
            "marker": {
             "colorbar": {
              "outlinewidth": 0,
              "ticks": ""
             }
            },
            "type": "scatterpolar"
           }
          ],
          "scatterpolargl": [
           {
            "marker": {
             "colorbar": {
              "outlinewidth": 0,
              "ticks": ""
             }
            },
            "type": "scatterpolargl"
           }
          ],
          "scatterternary": [
           {
            "marker": {
             "colorbar": {
              "outlinewidth": 0,
              "ticks": ""
             }
            },
            "type": "scatterternary"
           }
          ],
          "surface": [
           {
            "colorbar": {
             "outlinewidth": 0,
             "ticks": ""
            },
            "colorscale": [
             [
              0,
              "#0d0887"
             ],
             [
              0.1111111111111111,
              "#46039f"
             ],
             [
              0.2222222222222222,
              "#7201a8"
             ],
             [
              0.3333333333333333,
              "#9c179e"
             ],
             [
              0.4444444444444444,
              "#bd3786"
             ],
             [
              0.5555555555555556,
              "#d8576b"
             ],
             [
              0.6666666666666666,
              "#ed7953"
             ],
             [
              0.7777777777777778,
              "#fb9f3a"
             ],
             [
              0.8888888888888888,
              "#fdca26"
             ],
             [
              1,
              "#f0f921"
             ]
            ],
            "type": "surface"
           }
          ],
          "table": [
           {
            "cells": {
             "fill": {
              "color": "#EBF0F8"
             },
             "line": {
              "color": "white"
             }
            },
            "header": {
             "fill": {
              "color": "#C8D4E3"
             },
             "line": {
              "color": "white"
             }
            },
            "type": "table"
           }
          ]
         },
         "layout": {
          "annotationdefaults": {
           "arrowcolor": "#2a3f5f",
           "arrowhead": 0,
           "arrowwidth": 1
          },
          "autotypenumbers": "strict",
          "coloraxis": {
           "colorbar": {
            "outlinewidth": 0,
            "ticks": ""
           }
          },
          "colorscale": {
           "diverging": [
            [
             0,
             "#8e0152"
            ],
            [
             0.1,
             "#c51b7d"
            ],
            [
             0.2,
             "#de77ae"
            ],
            [
             0.3,
             "#f1b6da"
            ],
            [
             0.4,
             "#fde0ef"
            ],
            [
             0.5,
             "#f7f7f7"
            ],
            [
             0.6,
             "#e6f5d0"
            ],
            [
             0.7,
             "#b8e186"
            ],
            [
             0.8,
             "#7fbc41"
            ],
            [
             0.9,
             "#4d9221"
            ],
            [
             1,
             "#276419"
            ]
           ],
           "sequential": [
            [
             0,
             "#0d0887"
            ],
            [
             0.1111111111111111,
             "#46039f"
            ],
            [
             0.2222222222222222,
             "#7201a8"
            ],
            [
             0.3333333333333333,
             "#9c179e"
            ],
            [
             0.4444444444444444,
             "#bd3786"
            ],
            [
             0.5555555555555556,
             "#d8576b"
            ],
            [
             0.6666666666666666,
             "#ed7953"
            ],
            [
             0.7777777777777778,
             "#fb9f3a"
            ],
            [
             0.8888888888888888,
             "#fdca26"
            ],
            [
             1,
             "#f0f921"
            ]
           ],
           "sequentialminus": [
            [
             0,
             "#0d0887"
            ],
            [
             0.1111111111111111,
             "#46039f"
            ],
            [
             0.2222222222222222,
             "#7201a8"
            ],
            [
             0.3333333333333333,
             "#9c179e"
            ],
            [
             0.4444444444444444,
             "#bd3786"
            ],
            [
             0.5555555555555556,
             "#d8576b"
            ],
            [
             0.6666666666666666,
             "#ed7953"
            ],
            [
             0.7777777777777778,
             "#fb9f3a"
            ],
            [
             0.8888888888888888,
             "#fdca26"
            ],
            [
             1,
             "#f0f921"
            ]
           ]
          },
          "colorway": [
           "#636efa",
           "#EF553B",
           "#00cc96",
           "#ab63fa",
           "#FFA15A",
           "#19d3f3",
           "#FF6692",
           "#B6E880",
           "#FF97FF",
           "#FECB52"
          ],
          "font": {
           "color": "#2a3f5f"
          },
          "geo": {
           "bgcolor": "white",
           "lakecolor": "white",
           "landcolor": "#E5ECF6",
           "showlakes": true,
           "showland": true,
           "subunitcolor": "white"
          },
          "hoverlabel": {
           "align": "left"
          },
          "hovermode": "closest",
          "mapbox": {
           "style": "light"
          },
          "paper_bgcolor": "white",
          "plot_bgcolor": "#E5ECF6",
          "polar": {
           "angularaxis": {
            "gridcolor": "white",
            "linecolor": "white",
            "ticks": ""
           },
           "bgcolor": "#E5ECF6",
           "radialaxis": {
            "gridcolor": "white",
            "linecolor": "white",
            "ticks": ""
           }
          },
          "scene": {
           "xaxis": {
            "backgroundcolor": "#E5ECF6",
            "gridcolor": "white",
            "gridwidth": 2,
            "linecolor": "white",
            "showbackground": true,
            "ticks": "",
            "zerolinecolor": "white"
           },
           "yaxis": {
            "backgroundcolor": "#E5ECF6",
            "gridcolor": "white",
            "gridwidth": 2,
            "linecolor": "white",
            "showbackground": true,
            "ticks": "",
            "zerolinecolor": "white"
           },
           "zaxis": {
            "backgroundcolor": "#E5ECF6",
            "gridcolor": "white",
            "gridwidth": 2,
            "linecolor": "white",
            "showbackground": true,
            "ticks": "",
            "zerolinecolor": "white"
           }
          },
          "shapedefaults": {
           "line": {
            "color": "#2a3f5f"
           }
          },
          "ternary": {
           "aaxis": {
            "gridcolor": "white",
            "linecolor": "white",
            "ticks": ""
           },
           "baxis": {
            "gridcolor": "white",
            "linecolor": "white",
            "ticks": ""
           },
           "bgcolor": "#E5ECF6",
           "caxis": {
            "gridcolor": "white",
            "linecolor": "white",
            "ticks": ""
           }
          },
          "title": {
           "x": 0.05
          },
          "xaxis": {
           "automargin": true,
           "gridcolor": "white",
           "linecolor": "white",
           "ticks": "",
           "title": {
            "standoff": 15
           },
           "zerolinecolor": "white",
           "zerolinewidth": 2
          },
          "yaxis": {
           "automargin": true,
           "gridcolor": "white",
           "linecolor": "white",
           "ticks": "",
           "title": {
            "standoff": 15
           },
           "zerolinecolor": "white",
           "zerolinewidth": 2
          }
         }
        },
        "width": 600,
        "xaxis": {
         "anchor": "y",
         "domain": [
          0,
          1
         ],
         "title": {
          "text": "PC 3 (11.8%)"
         }
        },
        "yaxis": {
         "anchor": "x",
         "domain": [
          0,
          1
         ],
         "title": {
          "text": "PC 4 (2.2%)"
         }
        }
       }
      },
      "text/html": [
       "<div>                            <div id=\"051eacfe-1f99-4e1b-a9a1-d333a2dbe1ed\" class=\"plotly-graph-div\" style=\"height:600px; width:600px;\"></div>            <script type=\"text/javascript\">                require([\"plotly\"], function(Plotly) {                    window.PLOTLYENV=window.PLOTLYENV || {};                                    if (document.getElementById(\"051eacfe-1f99-4e1b-a9a1-d333a2dbe1ed\")) {                    Plotly.newPlot(                        \"051eacfe-1f99-4e1b-a9a1-d333a2dbe1ed\",                        [{\"hovertemplate\":\"color=00<br>symbol=WT<br>2=%{x}<br>3=%{y}<extra></extra>\",\"legendgroup\":\"00, WT\",\"marker\":{\"color\":\"#636efa\",\"symbol\":\"circle\",\"size\":13},\"mode\":\"markers\",\"name\":\"00, WT\",\"orientation\":\"v\",\"showlegend\":true,\"x\":[1.6050160655121133,1.2159582732331298,1.4595414014085506,0.7991945610313989,-0.08762564111905112,-0.2953405336557701,-0.18214007026275864,-0.4994816016501273],\"xaxis\":\"x\",\"y\":[-0.20129166736134774,0.7123393456602967,0.5184997032439934,0.8675663571973959,-0.8105860301892253,-0.034975274168776056,-0.13112155596228647,-0.10554317701371123],\"yaxis\":\"y\",\"type\":\"scatter\"},{\"hovertemplate\":\"color=02<br>symbol=WT<br>2=%{x}<br>3=%{y}<extra></extra>\",\"legendgroup\":\"02, WT\",\"marker\":{\"color\":\"#EF553B\",\"symbol\":\"circle\",\"size\":13},\"mode\":\"markers\",\"name\":\"02, WT\",\"orientation\":\"v\",\"showlegend\":true,\"x\":[1.5733281590884272,0.5981076461928795,0.5871872208170353,0.44993042078631645,-0.3249097440984648,-0.9130769606337658,-0.5264490084631988,-1.2160688891477869],\"xaxis\":\"x\",\"y\":[0.7706780772611921,0.8810871396579043,0.2179153791607435,0.09587530360303134,-0.030757011681060542,0.20836087397086278,-0.04517163717012715,0.08649116234845197],\"yaxis\":\"y\",\"type\":\"scatter\"},{\"hovertemplate\":\"color=04<br>symbol=WT<br>2=%{x}<br>3=%{y}<extra></extra>\",\"legendgroup\":\"04, WT\",\"marker\":{\"color\":\"#00cc96\",\"symbol\":\"circle\",\"size\":13},\"mode\":\"markers\",\"name\":\"04, WT\",\"orientation\":\"v\",\"showlegend\":true,\"x\":[0.4234216416872423,0.561977368084073,0.5901956218222829,0.5294457918774783,-0.874580356424844,-0.5947033540741672,-1.250927481211026,-0.5393185188829211],\"xaxis\":\"x\",\"y\":[-0.08856401265953408,0.5205333150406565,-0.5541150289393963,0.37890726806995395,0.017532565852571944,0.13615308803361365,-0.07161793703384911,-0.10938595813460096],\"yaxis\":\"y\",\"type\":\"scatter\"},{\"hovertemplate\":\"color=06<br>symbol=WT<br>2=%{x}<br>3=%{y}<extra></extra>\",\"legendgroup\":\"06, WT\",\"marker\":{\"color\":\"#ab63fa\",\"symbol\":\"circle\",\"size\":13},\"mode\":\"markers\",\"name\":\"06, WT\",\"orientation\":\"v\",\"showlegend\":true,\"x\":[0.4975811361026757,0.44263584556516905,0.7788975410081127,0.5751619122562818,-1.074186769570013,-1.1441658811420992,-1.1733061062839951,-1.2093608992942728],\"xaxis\":\"x\",\"y\":[-0.44825526147959793,-0.613827101457419,-0.5076457379537653,-0.5435988020707057,0.011981304520693743,-0.28264474140827006,-0.15239601635449604,0.008580208885312031],\"yaxis\":\"y\",\"type\":\"scatter\"},{\"hovertemplate\":\"color=08<br>symbol=WT<br>2=%{x}<br>3=%{y}<extra></extra>\",\"legendgroup\":\"08, WT\",\"marker\":{\"color\":\"#FFA15A\",\"symbol\":\"circle\",\"size\":13},\"mode\":\"markers\",\"name\":\"08, WT\",\"orientation\":\"v\",\"showlegend\":true,\"x\":[0.8336620315751527,0.7478490003980566,0.7835760772335738,0.8556933224835792,-1.049938273783036,-0.9329028639103578,-0.9160221780201456,-0.9394345411097975],\"xaxis\":\"x\",\"y\":[-0.425098502534741,-0.38613000439522865,-0.362129812943987,-0.4371171238856537,-0.11642349288476685,-0.1620333035940416,-0.1745057068482021,-0.057218526055432185],\"yaxis\":\"y\",\"type\":\"scatter\"},{\"hovertemplate\":\"color=10<br>symbol=WT<br>2=%{x}<br>3=%{y}<extra></extra>\",\"legendgroup\":\"10, WT\",\"marker\":{\"color\":\"#19d3f3\",\"symbol\":\"circle\",\"size\":13},\"mode\":\"markers\",\"name\":\"10, WT\",\"orientation\":\"v\",\"showlegend\":true,\"x\":[0.8921492181238877,0.8671123635375246,0.6387264237043004,0.9268873225658818,-1.0034048712359338,-0.890103431180037,-1.0033031836231858,-0.9706740222885357],\"xaxis\":\"x\",\"y\":[-0.3463767869244529,-0.375651759789066,-0.23160255111238573,-0.3798762161633042,-0.15105673076890988,-0.15951628244937596,-0.12387979518542369,-0.12574883591841693],\"yaxis\":\"y\",\"type\":\"scatter\"},{\"hovertemplate\":\"color=12<br>symbol=WT<br>2=%{x}<br>3=%{y}<extra></extra>\",\"legendgroup\":\"12, WT\",\"marker\":{\"color\":\"#FF6692\",\"symbol\":\"circle\",\"size\":13},\"mode\":\"markers\",\"name\":\"12, WT\",\"orientation\":\"v\",\"showlegend\":true,\"x\":[0.5494241926155835,0.7531046879676079,0.8557464099061531,0.5632041493660737,-1.0603689946945238,-0.9347467938303217,-0.9177906511321744,-1.3755304942187832],\"xaxis\":\"x\",\"y\":[-0.1477638034817415,-0.294378907470928,-0.3389033119744064,0.05112590792322165,-0.038838719013245614,-0.2395105017463598,-0.19631356151379098,0.09277536042316988],\"yaxis\":\"y\",\"type\":\"scatter\"},{\"hovertemplate\":\"color=14<br>symbol=WT<br>2=%{x}<br>3=%{y}<extra></extra>\",\"legendgroup\":\"14, WT\",\"marker\":{\"color\":\"#B6E880\",\"symbol\":\"circle\",\"size\":13},\"mode\":\"markers\",\"name\":\"14, WT\",\"orientation\":\"v\",\"showlegend\":true,\"x\":[0.6979354487641556,0.5716715000711776,0.5853843752588204,0.4639691217890404,-1.0875579131899213,-1.367884423650998,-1.3407033147385845,-1.406947437438278],\"xaxis\":\"x\",\"y\":[0.5107598910097653,0.39197471376585236,0.17448777439076987,0.2548153136754469,0.5323339538145418,0.12504161965746222,0.15978252196861284,0.2096871105686055],\"yaxis\":\"y\",\"type\":\"scatter\"},{\"hovertemplate\":\"color=16<br>symbol=WT<br>2=%{x}<br>3=%{y}<extra></extra>\",\"legendgroup\":\"16, WT\",\"marker\":{\"color\":\"#FF97FF\",\"symbol\":\"circle\",\"size\":13},\"mode\":\"markers\",\"name\":\"16, WT\",\"orientation\":\"v\",\"showlegend\":true,\"x\":[0.6201346121664709,0.4350588720180773,0.7000221812190097,0.44252937493336547,-1.4410153601472082,-1.2822912208537531,-1.2928858936928078,-1.3728042038881247],\"xaxis\":\"x\",\"y\":[0.9893441133880935,0.30175786824937134,0.919341445350076,0.3883419409431312,0.47910546108113655,0.11053237901907718,0.2571603763714148,0.1681580466471615],\"yaxis\":\"y\",\"type\":\"scatter\"},{\"hovertemplate\":\"color=18<br>symbol=WT<br>2=%{x}<br>3=%{y}<extra></extra>\",\"legendgroup\":\"18, WT\",\"marker\":{\"color\":\"#FECB52\",\"symbol\":\"circle\",\"size\":13},\"mode\":\"markers\",\"name\":\"18, WT\",\"orientation\":\"v\",\"showlegend\":true,\"x\":[0.7069624999892632,1.0826724445661011,0.9355475444969009,0.7168053382377484,-1.4014607555958523,-0.9895127115491698,-1.0442554039376237,-1.1528149027491885],\"xaxis\":\"x\",\"y\":[0.47324189162802005,0.04195591195977968,0.394809357392046,0.7792133669441619,0.49656247895126226,0.17954875653320315,0.09683477335670769,0.189642308543467],\"yaxis\":\"y\",\"type\":\"scatter\"},{\"hovertemplate\":\"color=20<br>symbol=WT<br>2=%{x}<br>3=%{y}<extra></extra>\",\"legendgroup\":\"20, WT\",\"marker\":{\"color\":\"#636efa\",\"symbol\":\"circle\",\"size\":13},\"mode\":\"markers\",\"name\":\"20, WT\",\"orientation\":\"v\",\"showlegend\":true,\"x\":[1.6469602136394015,1.5856204783717867,1.3248189853022279,1.2365355814251886,-0.33798378728537376,0.10548551980102541,-0.8702776636091447,-0.9336810741757607],\"xaxis\":\"x\",\"y\":[-0.6142752980966524,-0.7380662138310403,0.40692199557535363,0.942273476746274,-0.9254018985865577,-0.9216831553619574,-0.02480685388040145,0.23406935598332587],\"yaxis\":\"y\",\"type\":\"scatter\"},{\"hovertemplate\":\"color=22<br>symbol=WT<br>2=%{x}<br>3=%{y}<extra></extra>\",\"legendgroup\":\"22, WT\",\"marker\":{\"color\":\"#EF553B\",\"symbol\":\"circle\",\"size\":13},\"mode\":\"markers\",\"name\":\"22, WT\",\"orientation\":\"v\",\"showlegend\":true,\"x\":[1.8072680657010205,1.8923044362307315,1.6494830920359664,1.2952695295471073,-0.17293715752383323,-0.29621299205598967,-0.26566282523647117,-0.5004038652559307],\"xaxis\":\"x\",\"y\":[-0.18732492975711393,-0.2821961980408688,-0.566969094491108,0.2722278382493367,-0.6465258361686818,-0.505853350011679,-0.38913984445187444,-0.25251454224657366],\"yaxis\":\"y\",\"type\":\"scatter\"}],                        {\"template\":{\"data\":{\"histogram2dcontour\":[{\"type\":\"histogram2dcontour\",\"colorbar\":{\"outlinewidth\":0,\"ticks\":\"\"},\"colorscale\":[[0.0,\"#0d0887\"],[0.1111111111111111,\"#46039f\"],[0.2222222222222222,\"#7201a8\"],[0.3333333333333333,\"#9c179e\"],[0.4444444444444444,\"#bd3786\"],[0.5555555555555556,\"#d8576b\"],[0.6666666666666666,\"#ed7953\"],[0.7777777777777778,\"#fb9f3a\"],[0.8888888888888888,\"#fdca26\"],[1.0,\"#f0f921\"]]}],\"choropleth\":[{\"type\":\"choropleth\",\"colorbar\":{\"outlinewidth\":0,\"ticks\":\"\"}}],\"histogram2d\":[{\"type\":\"histogram2d\",\"colorbar\":{\"outlinewidth\":0,\"ticks\":\"\"},\"colorscale\":[[0.0,\"#0d0887\"],[0.1111111111111111,\"#46039f\"],[0.2222222222222222,\"#7201a8\"],[0.3333333333333333,\"#9c179e\"],[0.4444444444444444,\"#bd3786\"],[0.5555555555555556,\"#d8576b\"],[0.6666666666666666,\"#ed7953\"],[0.7777777777777778,\"#fb9f3a\"],[0.8888888888888888,\"#fdca26\"],[1.0,\"#f0f921\"]]}],\"heatmap\":[{\"type\":\"heatmap\",\"colorbar\":{\"outlinewidth\":0,\"ticks\":\"\"},\"colorscale\":[[0.0,\"#0d0887\"],[0.1111111111111111,\"#46039f\"],[0.2222222222222222,\"#7201a8\"],[0.3333333333333333,\"#9c179e\"],[0.4444444444444444,\"#bd3786\"],[0.5555555555555556,\"#d8576b\"],[0.6666666666666666,\"#ed7953\"],[0.7777777777777778,\"#fb9f3a\"],[0.8888888888888888,\"#fdca26\"],[1.0,\"#f0f921\"]]}],\"heatmapgl\":[{\"type\":\"heatmapgl\",\"colorbar\":{\"outlinewidth\":0,\"ticks\":\"\"},\"colorscale\":[[0.0,\"#0d0887\"],[0.1111111111111111,\"#46039f\"],[0.2222222222222222,\"#7201a8\"],[0.3333333333333333,\"#9c179e\"],[0.4444444444444444,\"#bd3786\"],[0.5555555555555556,\"#d8576b\"],[0.6666666666666666,\"#ed7953\"],[0.7777777777777778,\"#fb9f3a\"],[0.8888888888888888,\"#fdca26\"],[1.0,\"#f0f921\"]]}],\"contourcarpet\":[{\"type\":\"contourcarpet\",\"colorbar\":{\"outlinewidth\":0,\"ticks\":\"\"}}],\"contour\":[{\"type\":\"contour\",\"colorbar\":{\"outlinewidth\":0,\"ticks\":\"\"},\"colorscale\":[[0.0,\"#0d0887\"],[0.1111111111111111,\"#46039f\"],[0.2222222222222222,\"#7201a8\"],[0.3333333333333333,\"#9c179e\"],[0.4444444444444444,\"#bd3786\"],[0.5555555555555556,\"#d8576b\"],[0.6666666666666666,\"#ed7953\"],[0.7777777777777778,\"#fb9f3a\"],[0.8888888888888888,\"#fdca26\"],[1.0,\"#f0f921\"]]}],\"surface\":[{\"type\":\"surface\",\"colorbar\":{\"outlinewidth\":0,\"ticks\":\"\"},\"colorscale\":[[0.0,\"#0d0887\"],[0.1111111111111111,\"#46039f\"],[0.2222222222222222,\"#7201a8\"],[0.3333333333333333,\"#9c179e\"],[0.4444444444444444,\"#bd3786\"],[0.5555555555555556,\"#d8576b\"],[0.6666666666666666,\"#ed7953\"],[0.7777777777777778,\"#fb9f3a\"],[0.8888888888888888,\"#fdca26\"],[1.0,\"#f0f921\"]]}],\"mesh3d\":[{\"type\":\"mesh3d\",\"colorbar\":{\"outlinewidth\":0,\"ticks\":\"\"}}],\"scatter\":[{\"fillpattern\":{\"fillmode\":\"overlay\",\"size\":10,\"solidity\":0.2},\"type\":\"scatter\"}],\"parcoords\":[{\"type\":\"parcoords\",\"line\":{\"colorbar\":{\"outlinewidth\":0,\"ticks\":\"\"}}}],\"scatterpolargl\":[{\"type\":\"scatterpolargl\",\"marker\":{\"colorbar\":{\"outlinewidth\":0,\"ticks\":\"\"}}}],\"bar\":[{\"error_x\":{\"color\":\"#2a3f5f\"},\"error_y\":{\"color\":\"#2a3f5f\"},\"marker\":{\"line\":{\"color\":\"#E5ECF6\",\"width\":0.5},\"pattern\":{\"fillmode\":\"overlay\",\"size\":10,\"solidity\":0.2}},\"type\":\"bar\"}],\"scattergeo\":[{\"type\":\"scattergeo\",\"marker\":{\"colorbar\":{\"outlinewidth\":0,\"ticks\":\"\"}}}],\"scatterpolar\":[{\"type\":\"scatterpolar\",\"marker\":{\"colorbar\":{\"outlinewidth\":0,\"ticks\":\"\"}}}],\"histogram\":[{\"marker\":{\"pattern\":{\"fillmode\":\"overlay\",\"size\":10,\"solidity\":0.2}},\"type\":\"histogram\"}],\"scattergl\":[{\"type\":\"scattergl\",\"marker\":{\"colorbar\":{\"outlinewidth\":0,\"ticks\":\"\"}}}],\"scatter3d\":[{\"type\":\"scatter3d\",\"line\":{\"colorbar\":{\"outlinewidth\":0,\"ticks\":\"\"}},\"marker\":{\"colorbar\":{\"outlinewidth\":0,\"ticks\":\"\"}}}],\"scattermapbox\":[{\"type\":\"scattermapbox\",\"marker\":{\"colorbar\":{\"outlinewidth\":0,\"ticks\":\"\"}}}],\"scatterternary\":[{\"type\":\"scatterternary\",\"marker\":{\"colorbar\":{\"outlinewidth\":0,\"ticks\":\"\"}}}],\"scattercarpet\":[{\"type\":\"scattercarpet\",\"marker\":{\"colorbar\":{\"outlinewidth\":0,\"ticks\":\"\"}}}],\"carpet\":[{\"aaxis\":{\"endlinecolor\":\"#2a3f5f\",\"gridcolor\":\"white\",\"linecolor\":\"white\",\"minorgridcolor\":\"white\",\"startlinecolor\":\"#2a3f5f\"},\"baxis\":{\"endlinecolor\":\"#2a3f5f\",\"gridcolor\":\"white\",\"linecolor\":\"white\",\"minorgridcolor\":\"white\",\"startlinecolor\":\"#2a3f5f\"},\"type\":\"carpet\"}],\"table\":[{\"cells\":{\"fill\":{\"color\":\"#EBF0F8\"},\"line\":{\"color\":\"white\"}},\"header\":{\"fill\":{\"color\":\"#C8D4E3\"},\"line\":{\"color\":\"white\"}},\"type\":\"table\"}],\"barpolar\":[{\"marker\":{\"line\":{\"color\":\"#E5ECF6\",\"width\":0.5},\"pattern\":{\"fillmode\":\"overlay\",\"size\":10,\"solidity\":0.2}},\"type\":\"barpolar\"}],\"pie\":[{\"automargin\":true,\"type\":\"pie\"}]},\"layout\":{\"autotypenumbers\":\"strict\",\"colorway\":[\"#636efa\",\"#EF553B\",\"#00cc96\",\"#ab63fa\",\"#FFA15A\",\"#19d3f3\",\"#FF6692\",\"#B6E880\",\"#FF97FF\",\"#FECB52\"],\"font\":{\"color\":\"#2a3f5f\"},\"hovermode\":\"closest\",\"hoverlabel\":{\"align\":\"left\"},\"paper_bgcolor\":\"white\",\"plot_bgcolor\":\"#E5ECF6\",\"polar\":{\"bgcolor\":\"#E5ECF6\",\"angularaxis\":{\"gridcolor\":\"white\",\"linecolor\":\"white\",\"ticks\":\"\"},\"radialaxis\":{\"gridcolor\":\"white\",\"linecolor\":\"white\",\"ticks\":\"\"}},\"ternary\":{\"bgcolor\":\"#E5ECF6\",\"aaxis\":{\"gridcolor\":\"white\",\"linecolor\":\"white\",\"ticks\":\"\"},\"baxis\":{\"gridcolor\":\"white\",\"linecolor\":\"white\",\"ticks\":\"\"},\"caxis\":{\"gridcolor\":\"white\",\"linecolor\":\"white\",\"ticks\":\"\"}},\"coloraxis\":{\"colorbar\":{\"outlinewidth\":0,\"ticks\":\"\"}},\"colorscale\":{\"sequential\":[[0.0,\"#0d0887\"],[0.1111111111111111,\"#46039f\"],[0.2222222222222222,\"#7201a8\"],[0.3333333333333333,\"#9c179e\"],[0.4444444444444444,\"#bd3786\"],[0.5555555555555556,\"#d8576b\"],[0.6666666666666666,\"#ed7953\"],[0.7777777777777778,\"#fb9f3a\"],[0.8888888888888888,\"#fdca26\"],[1.0,\"#f0f921\"]],\"sequentialminus\":[[0.0,\"#0d0887\"],[0.1111111111111111,\"#46039f\"],[0.2222222222222222,\"#7201a8\"],[0.3333333333333333,\"#9c179e\"],[0.4444444444444444,\"#bd3786\"],[0.5555555555555556,\"#d8576b\"],[0.6666666666666666,\"#ed7953\"],[0.7777777777777778,\"#fb9f3a\"],[0.8888888888888888,\"#fdca26\"],[1.0,\"#f0f921\"]],\"diverging\":[[0,\"#8e0152\"],[0.1,\"#c51b7d\"],[0.2,\"#de77ae\"],[0.3,\"#f1b6da\"],[0.4,\"#fde0ef\"],[0.5,\"#f7f7f7\"],[0.6,\"#e6f5d0\"],[0.7,\"#b8e186\"],[0.8,\"#7fbc41\"],[0.9,\"#4d9221\"],[1,\"#276419\"]]},\"xaxis\":{\"gridcolor\":\"white\",\"linecolor\":\"white\",\"ticks\":\"\",\"title\":{\"standoff\":15},\"zerolinecolor\":\"white\",\"automargin\":true,\"zerolinewidth\":2},\"yaxis\":{\"gridcolor\":\"white\",\"linecolor\":\"white\",\"ticks\":\"\",\"title\":{\"standoff\":15},\"zerolinecolor\":\"white\",\"automargin\":true,\"zerolinewidth\":2},\"scene\":{\"xaxis\":{\"backgroundcolor\":\"#E5ECF6\",\"gridcolor\":\"white\",\"linecolor\":\"white\",\"showbackground\":true,\"ticks\":\"\",\"zerolinecolor\":\"white\",\"gridwidth\":2},\"yaxis\":{\"backgroundcolor\":\"#E5ECF6\",\"gridcolor\":\"white\",\"linecolor\":\"white\",\"showbackground\":true,\"ticks\":\"\",\"zerolinecolor\":\"white\",\"gridwidth\":2},\"zaxis\":{\"backgroundcolor\":\"#E5ECF6\",\"gridcolor\":\"white\",\"linecolor\":\"white\",\"showbackground\":true,\"ticks\":\"\",\"zerolinecolor\":\"white\",\"gridwidth\":2}},\"shapedefaults\":{\"line\":{\"color\":\"#2a3f5f\"}},\"annotationdefaults\":{\"arrowcolor\":\"#2a3f5f\",\"arrowhead\":0,\"arrowwidth\":1},\"geo\":{\"bgcolor\":\"white\",\"landcolor\":\"#E5ECF6\",\"subunitcolor\":\"white\",\"showland\":true,\"showlakes\":true,\"lakecolor\":\"white\"},\"title\":{\"x\":0.05},\"mapbox\":{\"style\":\"light\"}}},\"xaxis\":{\"anchor\":\"y\",\"domain\":[0.0,1.0],\"title\":{\"text\":\"PC 3 (11.8%)\"}},\"yaxis\":{\"anchor\":\"x\",\"domain\":[0.0,1.0],\"title\":{\"text\":\"PC 4 (2.2%)\"}},\"legend\":{\"title\":{\"text\":\"color, symbol\"},\"tracegroupgap\":0},\"margin\":{\"t\":60},\"height\":600,\"width\":600,\"plot_bgcolor\":\"rgb(243,243,243)\"},                        {\"responsive\": true}                    ).then(function(){\n",
       "                            \n",
       "var gd = document.getElementById('051eacfe-1f99-4e1b-a9a1-d333a2dbe1ed');\n",
       "var x = new MutationObserver(function (mutations, observer) {{\n",
       "        var display = window.getComputedStyle(gd).display;\n",
       "        if (!display || display === 'none') {{\n",
       "            console.log([gd, 'removed!']);\n",
       "            Plotly.purge(gd);\n",
       "            observer.disconnect();\n",
       "        }}\n",
       "}});\n",
       "\n",
       "// Listen for the removal of the full notebook cells\n",
       "var notebookContainer = gd.closest('#notebook-container');\n",
       "if (notebookContainer) {{\n",
       "    x.observe(notebookContainer, {childList: true});\n",
       "}}\n",
       "\n",
       "// Listen for the clearing of the current output cell\n",
       "var outputEl = gd.closest('.output');\n",
       "if (outputEl) {{\n",
       "    x.observe(outputEl, {childList: true});\n",
       "}}\n",
       "\n",
       "                        })                };                });            </script>        </div>"
      ]
     },
     "metadata": {},
     "output_type": "display_data"
    },
    {
     "data": {
      "application/vnd.plotly.v1+json": {
       "config": {
        "plotlyServerURL": "https://plot.ly"
       },
       "data": [
        {
         "hovertemplate": "color=A<br>symbol=Intron<br>2=%{x}<br>3=%{y}<extra></extra>",
         "legendgroup": "A, Intron",
         "marker": {
          "color": "#636efa",
          "size": 13,
          "symbol": "circle"
         },
         "mode": "markers",
         "name": "A, Intron",
         "orientation": "v",
         "showlegend": true,
         "type": "scatter",
         "x": [
          1.6050160655121133,
          1.5733281590884272,
          0.4234216416872423,
          0.4975811361026757,
          0.8336620315751527,
          0.8921492181238877,
          0.5494241926155835,
          0.6979354487641556,
          0.6201346121664709,
          0.7069624999892632,
          1.6469602136394015,
          1.8072680657010205
         ],
         "xaxis": "x",
         "y": [
          -0.20129166736134774,
          0.7706780772611921,
          -0.08856401265953408,
          -0.44825526147959793,
          -0.425098502534741,
          -0.3463767869244529,
          -0.1477638034817415,
          0.5107598910097653,
          0.9893441133880935,
          0.47324189162802005,
          -0.6142752980966524,
          -0.18732492975711393
         ],
         "yaxis": "y"
        },
        {
         "hovertemplate": "color=A<br>symbol=Exon<br>2=%{x}<br>3=%{y}<extra></extra>",
         "legendgroup": "A, Exon",
         "marker": {
          "color": "#636efa",
          "size": 13,
          "symbol": "diamond"
         },
         "mode": "markers",
         "name": "A, Exon",
         "orientation": "v",
         "showlegend": true,
         "type": "scatter",
         "x": [
          -0.08762564111905112,
          -0.3249097440984648,
          -0.874580356424844,
          -1.074186769570013,
          -1.049938273783036,
          -1.0034048712359338,
          -1.0603689946945238,
          -1.0875579131899213,
          -1.4410153601472082,
          -1.4014607555958523,
          -0.33798378728537376,
          -0.17293715752383323
         ],
         "xaxis": "x",
         "y": [
          -0.8105860301892253,
          -0.030757011681060542,
          0.017532565852571944,
          0.011981304520693743,
          -0.11642349288476685,
          -0.15105673076890988,
          -0.038838719013245614,
          0.5323339538145418,
          0.47910546108113655,
          0.49656247895126226,
          -0.9254018985865577,
          -0.6465258361686818
         ],
         "yaxis": "y"
        },
        {
         "hovertemplate": "color=B<br>symbol=Intron<br>2=%{x}<br>3=%{y}<extra></extra>",
         "legendgroup": "B, Intron",
         "marker": {
          "color": "#EF553B",
          "size": 13,
          "symbol": "circle"
         },
         "mode": "markers",
         "name": "B, Intron",
         "orientation": "v",
         "showlegend": true,
         "type": "scatter",
         "x": [
          1.2159582732331298,
          0.5981076461928795,
          0.561977368084073,
          0.44263584556516905,
          0.7478490003980566,
          0.8671123635375246,
          0.7531046879676079,
          0.5716715000711776,
          0.4350588720180773,
          1.0826724445661011,
          1.5856204783717867,
          1.8923044362307315
         ],
         "xaxis": "x",
         "y": [
          0.7123393456602967,
          0.8810871396579043,
          0.5205333150406565,
          -0.613827101457419,
          -0.38613000439522865,
          -0.375651759789066,
          -0.294378907470928,
          0.39197471376585236,
          0.30175786824937134,
          0.04195591195977968,
          -0.7380662138310403,
          -0.2821961980408688
         ],
         "yaxis": "y"
        },
        {
         "hovertemplate": "color=B<br>symbol=Exon<br>2=%{x}<br>3=%{y}<extra></extra>",
         "legendgroup": "B, Exon",
         "marker": {
          "color": "#EF553B",
          "size": 13,
          "symbol": "diamond"
         },
         "mode": "markers",
         "name": "B, Exon",
         "orientation": "v",
         "showlegend": true,
         "type": "scatter",
         "x": [
          -0.2953405336557701,
          -0.9130769606337658,
          -0.5947033540741672,
          -1.1441658811420992,
          -0.9329028639103578,
          -0.890103431180037,
          -0.9347467938303217,
          -1.367884423650998,
          -1.2822912208537531,
          -0.9895127115491698,
          0.10548551980102541,
          -0.29621299205598967
         ],
         "xaxis": "x",
         "y": [
          -0.034975274168776056,
          0.20836087397086278,
          0.13615308803361365,
          -0.28264474140827006,
          -0.1620333035940416,
          -0.15951628244937596,
          -0.2395105017463598,
          0.12504161965746222,
          0.11053237901907718,
          0.17954875653320315,
          -0.9216831553619574,
          -0.505853350011679
         ],
         "yaxis": "y"
        },
        {
         "hovertemplate": "color=C<br>symbol=Intron<br>2=%{x}<br>3=%{y}<extra></extra>",
         "legendgroup": "C, Intron",
         "marker": {
          "color": "#00cc96",
          "size": 13,
          "symbol": "circle"
         },
         "mode": "markers",
         "name": "C, Intron",
         "orientation": "v",
         "showlegend": true,
         "type": "scatter",
         "x": [
          1.4595414014085506,
          0.5871872208170353,
          0.5901956218222829,
          0.7788975410081127,
          0.7835760772335738,
          0.6387264237043004,
          0.8557464099061531,
          0.5853843752588204,
          0.7000221812190097,
          0.9355475444969009,
          1.3248189853022279,
          1.6494830920359664
         ],
         "xaxis": "x",
         "y": [
          0.5184997032439934,
          0.2179153791607435,
          -0.5541150289393963,
          -0.5076457379537653,
          -0.362129812943987,
          -0.23160255111238573,
          -0.3389033119744064,
          0.17448777439076987,
          0.919341445350076,
          0.394809357392046,
          0.40692199557535363,
          -0.566969094491108
         ],
         "yaxis": "y"
        },
        {
         "hovertemplate": "color=C<br>symbol=Exon<br>2=%{x}<br>3=%{y}<extra></extra>",
         "legendgroup": "C, Exon",
         "marker": {
          "color": "#00cc96",
          "size": 13,
          "symbol": "diamond"
         },
         "mode": "markers",
         "name": "C, Exon",
         "orientation": "v",
         "showlegend": true,
         "type": "scatter",
         "x": [
          -0.18214007026275864,
          -0.5264490084631988,
          -1.250927481211026,
          -1.1733061062839951,
          -0.9160221780201456,
          -1.0033031836231858,
          -0.9177906511321744,
          -1.3407033147385845,
          -1.2928858936928078,
          -1.0442554039376237,
          -0.8702776636091447,
          -0.26566282523647117
         ],
         "xaxis": "x",
         "y": [
          -0.13112155596228647,
          -0.04517163717012715,
          -0.07161793703384911,
          -0.15239601635449604,
          -0.1745057068482021,
          -0.12387979518542369,
          -0.19631356151379098,
          0.15978252196861284,
          0.2571603763714148,
          0.09683477335670769,
          -0.02480685388040145,
          -0.38913984445187444
         ],
         "yaxis": "y"
        },
        {
         "hovertemplate": "color=D<br>symbol=Intron<br>2=%{x}<br>3=%{y}<extra></extra>",
         "legendgroup": "D, Intron",
         "marker": {
          "color": "#ab63fa",
          "size": 13,
          "symbol": "circle"
         },
         "mode": "markers",
         "name": "D, Intron",
         "orientation": "v",
         "showlegend": true,
         "type": "scatter",
         "x": [
          0.7991945610313989,
          0.44993042078631645,
          0.5294457918774783,
          0.5751619122562818,
          0.8556933224835792,
          0.9268873225658818,
          0.5632041493660737,
          0.4639691217890404,
          0.44252937493336547,
          0.7168053382377484,
          1.2365355814251886,
          1.2952695295471073
         ],
         "xaxis": "x",
         "y": [
          0.8675663571973959,
          0.09587530360303134,
          0.37890726806995395,
          -0.5435988020707057,
          -0.4371171238856537,
          -0.3798762161633042,
          0.05112590792322165,
          0.2548153136754469,
          0.3883419409431312,
          0.7792133669441619,
          0.942273476746274,
          0.2722278382493367
         ],
         "yaxis": "y"
        },
        {
         "hovertemplate": "color=D<br>symbol=Exon<br>2=%{x}<br>3=%{y}<extra></extra>",
         "legendgroup": "D, Exon",
         "marker": {
          "color": "#ab63fa",
          "size": 13,
          "symbol": "diamond"
         },
         "mode": "markers",
         "name": "D, Exon",
         "orientation": "v",
         "showlegend": true,
         "type": "scatter",
         "x": [
          -0.4994816016501273,
          -1.2160688891477869,
          -0.5393185188829211,
          -1.2093608992942728,
          -0.9394345411097975,
          -0.9706740222885357,
          -1.3755304942187832,
          -1.406947437438278,
          -1.3728042038881247,
          -1.1528149027491885,
          -0.9336810741757607,
          -0.5004038652559307
         ],
         "xaxis": "x",
         "y": [
          -0.10554317701371123,
          0.08649116234845197,
          -0.10938595813460096,
          0.008580208885312031,
          -0.057218526055432185,
          -0.12574883591841693,
          0.09277536042316988,
          0.2096871105686055,
          0.1681580466471615,
          0.189642308543467,
          0.23406935598332587,
          -0.25251454224657366
         ],
         "yaxis": "y"
        }
       ],
       "layout": {
        "height": 600,
        "legend": {
         "title": {
          "text": "color, symbol"
         },
         "tracegroupgap": 0
        },
        "margin": {
         "t": 60
        },
        "plot_bgcolor": "rgb(243,243,243)",
        "template": {
         "data": {
          "bar": [
           {
            "error_x": {
             "color": "#2a3f5f"
            },
            "error_y": {
             "color": "#2a3f5f"
            },
            "marker": {
             "line": {
              "color": "#E5ECF6",
              "width": 0.5
             },
             "pattern": {
              "fillmode": "overlay",
              "size": 10,
              "solidity": 0.2
             }
            },
            "type": "bar"
           }
          ],
          "barpolar": [
           {
            "marker": {
             "line": {
              "color": "#E5ECF6",
              "width": 0.5
             },
             "pattern": {
              "fillmode": "overlay",
              "size": 10,
              "solidity": 0.2
             }
            },
            "type": "barpolar"
           }
          ],
          "carpet": [
           {
            "aaxis": {
             "endlinecolor": "#2a3f5f",
             "gridcolor": "white",
             "linecolor": "white",
             "minorgridcolor": "white",
             "startlinecolor": "#2a3f5f"
            },
            "baxis": {
             "endlinecolor": "#2a3f5f",
             "gridcolor": "white",
             "linecolor": "white",
             "minorgridcolor": "white",
             "startlinecolor": "#2a3f5f"
            },
            "type": "carpet"
           }
          ],
          "choropleth": [
           {
            "colorbar": {
             "outlinewidth": 0,
             "ticks": ""
            },
            "type": "choropleth"
           }
          ],
          "contour": [
           {
            "colorbar": {
             "outlinewidth": 0,
             "ticks": ""
            },
            "colorscale": [
             [
              0,
              "#0d0887"
             ],
             [
              0.1111111111111111,
              "#46039f"
             ],
             [
              0.2222222222222222,
              "#7201a8"
             ],
             [
              0.3333333333333333,
              "#9c179e"
             ],
             [
              0.4444444444444444,
              "#bd3786"
             ],
             [
              0.5555555555555556,
              "#d8576b"
             ],
             [
              0.6666666666666666,
              "#ed7953"
             ],
             [
              0.7777777777777778,
              "#fb9f3a"
             ],
             [
              0.8888888888888888,
              "#fdca26"
             ],
             [
              1,
              "#f0f921"
             ]
            ],
            "type": "contour"
           }
          ],
          "contourcarpet": [
           {
            "colorbar": {
             "outlinewidth": 0,
             "ticks": ""
            },
            "type": "contourcarpet"
           }
          ],
          "heatmap": [
           {
            "colorbar": {
             "outlinewidth": 0,
             "ticks": ""
            },
            "colorscale": [
             [
              0,
              "#0d0887"
             ],
             [
              0.1111111111111111,
              "#46039f"
             ],
             [
              0.2222222222222222,
              "#7201a8"
             ],
             [
              0.3333333333333333,
              "#9c179e"
             ],
             [
              0.4444444444444444,
              "#bd3786"
             ],
             [
              0.5555555555555556,
              "#d8576b"
             ],
             [
              0.6666666666666666,
              "#ed7953"
             ],
             [
              0.7777777777777778,
              "#fb9f3a"
             ],
             [
              0.8888888888888888,
              "#fdca26"
             ],
             [
              1,
              "#f0f921"
             ]
            ],
            "type": "heatmap"
           }
          ],
          "heatmapgl": [
           {
            "colorbar": {
             "outlinewidth": 0,
             "ticks": ""
            },
            "colorscale": [
             [
              0,
              "#0d0887"
             ],
             [
              0.1111111111111111,
              "#46039f"
             ],
             [
              0.2222222222222222,
              "#7201a8"
             ],
             [
              0.3333333333333333,
              "#9c179e"
             ],
             [
              0.4444444444444444,
              "#bd3786"
             ],
             [
              0.5555555555555556,
              "#d8576b"
             ],
             [
              0.6666666666666666,
              "#ed7953"
             ],
             [
              0.7777777777777778,
              "#fb9f3a"
             ],
             [
              0.8888888888888888,
              "#fdca26"
             ],
             [
              1,
              "#f0f921"
             ]
            ],
            "type": "heatmapgl"
           }
          ],
          "histogram": [
           {
            "marker": {
             "pattern": {
              "fillmode": "overlay",
              "size": 10,
              "solidity": 0.2
             }
            },
            "type": "histogram"
           }
          ],
          "histogram2d": [
           {
            "colorbar": {
             "outlinewidth": 0,
             "ticks": ""
            },
            "colorscale": [
             [
              0,
              "#0d0887"
             ],
             [
              0.1111111111111111,
              "#46039f"
             ],
             [
              0.2222222222222222,
              "#7201a8"
             ],
             [
              0.3333333333333333,
              "#9c179e"
             ],
             [
              0.4444444444444444,
              "#bd3786"
             ],
             [
              0.5555555555555556,
              "#d8576b"
             ],
             [
              0.6666666666666666,
              "#ed7953"
             ],
             [
              0.7777777777777778,
              "#fb9f3a"
             ],
             [
              0.8888888888888888,
              "#fdca26"
             ],
             [
              1,
              "#f0f921"
             ]
            ],
            "type": "histogram2d"
           }
          ],
          "histogram2dcontour": [
           {
            "colorbar": {
             "outlinewidth": 0,
             "ticks": ""
            },
            "colorscale": [
             [
              0,
              "#0d0887"
             ],
             [
              0.1111111111111111,
              "#46039f"
             ],
             [
              0.2222222222222222,
              "#7201a8"
             ],
             [
              0.3333333333333333,
              "#9c179e"
             ],
             [
              0.4444444444444444,
              "#bd3786"
             ],
             [
              0.5555555555555556,
              "#d8576b"
             ],
             [
              0.6666666666666666,
              "#ed7953"
             ],
             [
              0.7777777777777778,
              "#fb9f3a"
             ],
             [
              0.8888888888888888,
              "#fdca26"
             ],
             [
              1,
              "#f0f921"
             ]
            ],
            "type": "histogram2dcontour"
           }
          ],
          "mesh3d": [
           {
            "colorbar": {
             "outlinewidth": 0,
             "ticks": ""
            },
            "type": "mesh3d"
           }
          ],
          "parcoords": [
           {
            "line": {
             "colorbar": {
              "outlinewidth": 0,
              "ticks": ""
             }
            },
            "type": "parcoords"
           }
          ],
          "pie": [
           {
            "automargin": true,
            "type": "pie"
           }
          ],
          "scatter": [
           {
            "fillpattern": {
             "fillmode": "overlay",
             "size": 10,
             "solidity": 0.2
            },
            "type": "scatter"
           }
          ],
          "scatter3d": [
           {
            "line": {
             "colorbar": {
              "outlinewidth": 0,
              "ticks": ""
             }
            },
            "marker": {
             "colorbar": {
              "outlinewidth": 0,
              "ticks": ""
             }
            },
            "type": "scatter3d"
           }
          ],
          "scattercarpet": [
           {
            "marker": {
             "colorbar": {
              "outlinewidth": 0,
              "ticks": ""
             }
            },
            "type": "scattercarpet"
           }
          ],
          "scattergeo": [
           {
            "marker": {
             "colorbar": {
              "outlinewidth": 0,
              "ticks": ""
             }
            },
            "type": "scattergeo"
           }
          ],
          "scattergl": [
           {
            "marker": {
             "colorbar": {
              "outlinewidth": 0,
              "ticks": ""
             }
            },
            "type": "scattergl"
           }
          ],
          "scattermapbox": [
           {
            "marker": {
             "colorbar": {
              "outlinewidth": 0,
              "ticks": ""
             }
            },
            "type": "scattermapbox"
           }
          ],
          "scatterpolar": [
           {
            "marker": {
             "colorbar": {
              "outlinewidth": 0,
              "ticks": ""
             }
            },
            "type": "scatterpolar"
           }
          ],
          "scatterpolargl": [
           {
            "marker": {
             "colorbar": {
              "outlinewidth": 0,
              "ticks": ""
             }
            },
            "type": "scatterpolargl"
           }
          ],
          "scatterternary": [
           {
            "marker": {
             "colorbar": {
              "outlinewidth": 0,
              "ticks": ""
             }
            },
            "type": "scatterternary"
           }
          ],
          "surface": [
           {
            "colorbar": {
             "outlinewidth": 0,
             "ticks": ""
            },
            "colorscale": [
             [
              0,
              "#0d0887"
             ],
             [
              0.1111111111111111,
              "#46039f"
             ],
             [
              0.2222222222222222,
              "#7201a8"
             ],
             [
              0.3333333333333333,
              "#9c179e"
             ],
             [
              0.4444444444444444,
              "#bd3786"
             ],
             [
              0.5555555555555556,
              "#d8576b"
             ],
             [
              0.6666666666666666,
              "#ed7953"
             ],
             [
              0.7777777777777778,
              "#fb9f3a"
             ],
             [
              0.8888888888888888,
              "#fdca26"
             ],
             [
              1,
              "#f0f921"
             ]
            ],
            "type": "surface"
           }
          ],
          "table": [
           {
            "cells": {
             "fill": {
              "color": "#EBF0F8"
             },
             "line": {
              "color": "white"
             }
            },
            "header": {
             "fill": {
              "color": "#C8D4E3"
             },
             "line": {
              "color": "white"
             }
            },
            "type": "table"
           }
          ]
         },
         "layout": {
          "annotationdefaults": {
           "arrowcolor": "#2a3f5f",
           "arrowhead": 0,
           "arrowwidth": 1
          },
          "autotypenumbers": "strict",
          "coloraxis": {
           "colorbar": {
            "outlinewidth": 0,
            "ticks": ""
           }
          },
          "colorscale": {
           "diverging": [
            [
             0,
             "#8e0152"
            ],
            [
             0.1,
             "#c51b7d"
            ],
            [
             0.2,
             "#de77ae"
            ],
            [
             0.3,
             "#f1b6da"
            ],
            [
             0.4,
             "#fde0ef"
            ],
            [
             0.5,
             "#f7f7f7"
            ],
            [
             0.6,
             "#e6f5d0"
            ],
            [
             0.7,
             "#b8e186"
            ],
            [
             0.8,
             "#7fbc41"
            ],
            [
             0.9,
             "#4d9221"
            ],
            [
             1,
             "#276419"
            ]
           ],
           "sequential": [
            [
             0,
             "#0d0887"
            ],
            [
             0.1111111111111111,
             "#46039f"
            ],
            [
             0.2222222222222222,
             "#7201a8"
            ],
            [
             0.3333333333333333,
             "#9c179e"
            ],
            [
             0.4444444444444444,
             "#bd3786"
            ],
            [
             0.5555555555555556,
             "#d8576b"
            ],
            [
             0.6666666666666666,
             "#ed7953"
            ],
            [
             0.7777777777777778,
             "#fb9f3a"
            ],
            [
             0.8888888888888888,
             "#fdca26"
            ],
            [
             1,
             "#f0f921"
            ]
           ],
           "sequentialminus": [
            [
             0,
             "#0d0887"
            ],
            [
             0.1111111111111111,
             "#46039f"
            ],
            [
             0.2222222222222222,
             "#7201a8"
            ],
            [
             0.3333333333333333,
             "#9c179e"
            ],
            [
             0.4444444444444444,
             "#bd3786"
            ],
            [
             0.5555555555555556,
             "#d8576b"
            ],
            [
             0.6666666666666666,
             "#ed7953"
            ],
            [
             0.7777777777777778,
             "#fb9f3a"
            ],
            [
             0.8888888888888888,
             "#fdca26"
            ],
            [
             1,
             "#f0f921"
            ]
           ]
          },
          "colorway": [
           "#636efa",
           "#EF553B",
           "#00cc96",
           "#ab63fa",
           "#FFA15A",
           "#19d3f3",
           "#FF6692",
           "#B6E880",
           "#FF97FF",
           "#FECB52"
          ],
          "font": {
           "color": "#2a3f5f"
          },
          "geo": {
           "bgcolor": "white",
           "lakecolor": "white",
           "landcolor": "#E5ECF6",
           "showlakes": true,
           "showland": true,
           "subunitcolor": "white"
          },
          "hoverlabel": {
           "align": "left"
          },
          "hovermode": "closest",
          "mapbox": {
           "style": "light"
          },
          "paper_bgcolor": "white",
          "plot_bgcolor": "#E5ECF6",
          "polar": {
           "angularaxis": {
            "gridcolor": "white",
            "linecolor": "white",
            "ticks": ""
           },
           "bgcolor": "#E5ECF6",
           "radialaxis": {
            "gridcolor": "white",
            "linecolor": "white",
            "ticks": ""
           }
          },
          "scene": {
           "xaxis": {
            "backgroundcolor": "#E5ECF6",
            "gridcolor": "white",
            "gridwidth": 2,
            "linecolor": "white",
            "showbackground": true,
            "ticks": "",
            "zerolinecolor": "white"
           },
           "yaxis": {
            "backgroundcolor": "#E5ECF6",
            "gridcolor": "white",
            "gridwidth": 2,
            "linecolor": "white",
            "showbackground": true,
            "ticks": "",
            "zerolinecolor": "white"
           },
           "zaxis": {
            "backgroundcolor": "#E5ECF6",
            "gridcolor": "white",
            "gridwidth": 2,
            "linecolor": "white",
            "showbackground": true,
            "ticks": "",
            "zerolinecolor": "white"
           }
          },
          "shapedefaults": {
           "line": {
            "color": "#2a3f5f"
           }
          },
          "ternary": {
           "aaxis": {
            "gridcolor": "white",
            "linecolor": "white",
            "ticks": ""
           },
           "baxis": {
            "gridcolor": "white",
            "linecolor": "white",
            "ticks": ""
           },
           "bgcolor": "#E5ECF6",
           "caxis": {
            "gridcolor": "white",
            "linecolor": "white",
            "ticks": ""
           }
          },
          "title": {
           "x": 0.05
          },
          "xaxis": {
           "automargin": true,
           "gridcolor": "white",
           "linecolor": "white",
           "ticks": "",
           "title": {
            "standoff": 15
           },
           "zerolinecolor": "white",
           "zerolinewidth": 2
          },
          "yaxis": {
           "automargin": true,
           "gridcolor": "white",
           "linecolor": "white",
           "ticks": "",
           "title": {
            "standoff": 15
           },
           "zerolinecolor": "white",
           "zerolinewidth": 2
          }
         }
        },
        "width": 600,
        "xaxis": {
         "anchor": "y",
         "domain": [
          0,
          1
         ],
         "title": {
          "text": "PC 3 (11.8%)"
         }
        },
        "yaxis": {
         "anchor": "x",
         "domain": [
          0,
          1
         ],
         "title": {
          "text": "PC 4 (2.2%)"
         }
        }
       }
      },
      "text/html": [
       "<div>                            <div id=\"289b0a5d-ccc1-4630-bfc3-1247888dda6e\" class=\"plotly-graph-div\" style=\"height:600px; width:600px;\"></div>            <script type=\"text/javascript\">                require([\"plotly\"], function(Plotly) {                    window.PLOTLYENV=window.PLOTLYENV || {};                                    if (document.getElementById(\"289b0a5d-ccc1-4630-bfc3-1247888dda6e\")) {                    Plotly.newPlot(                        \"289b0a5d-ccc1-4630-bfc3-1247888dda6e\",                        [{\"hovertemplate\":\"color=A<br>symbol=Intron<br>2=%{x}<br>3=%{y}<extra></extra>\",\"legendgroup\":\"A, Intron\",\"marker\":{\"color\":\"#636efa\",\"symbol\":\"circle\",\"size\":13},\"mode\":\"markers\",\"name\":\"A, Intron\",\"orientation\":\"v\",\"showlegend\":true,\"x\":[1.6050160655121133,1.5733281590884272,0.4234216416872423,0.4975811361026757,0.8336620315751527,0.8921492181238877,0.5494241926155835,0.6979354487641556,0.6201346121664709,0.7069624999892632,1.6469602136394015,1.8072680657010205],\"xaxis\":\"x\",\"y\":[-0.20129166736134774,0.7706780772611921,-0.08856401265953408,-0.44825526147959793,-0.425098502534741,-0.3463767869244529,-0.1477638034817415,0.5107598910097653,0.9893441133880935,0.47324189162802005,-0.6142752980966524,-0.18732492975711393],\"yaxis\":\"y\",\"type\":\"scatter\"},{\"hovertemplate\":\"color=A<br>symbol=Exon<br>2=%{x}<br>3=%{y}<extra></extra>\",\"legendgroup\":\"A, Exon\",\"marker\":{\"color\":\"#636efa\",\"symbol\":\"diamond\",\"size\":13},\"mode\":\"markers\",\"name\":\"A, Exon\",\"orientation\":\"v\",\"showlegend\":true,\"x\":[-0.08762564111905112,-0.3249097440984648,-0.874580356424844,-1.074186769570013,-1.049938273783036,-1.0034048712359338,-1.0603689946945238,-1.0875579131899213,-1.4410153601472082,-1.4014607555958523,-0.33798378728537376,-0.17293715752383323],\"xaxis\":\"x\",\"y\":[-0.8105860301892253,-0.030757011681060542,0.017532565852571944,0.011981304520693743,-0.11642349288476685,-0.15105673076890988,-0.038838719013245614,0.5323339538145418,0.47910546108113655,0.49656247895126226,-0.9254018985865577,-0.6465258361686818],\"yaxis\":\"y\",\"type\":\"scatter\"},{\"hovertemplate\":\"color=B<br>symbol=Intron<br>2=%{x}<br>3=%{y}<extra></extra>\",\"legendgroup\":\"B, Intron\",\"marker\":{\"color\":\"#EF553B\",\"symbol\":\"circle\",\"size\":13},\"mode\":\"markers\",\"name\":\"B, Intron\",\"orientation\":\"v\",\"showlegend\":true,\"x\":[1.2159582732331298,0.5981076461928795,0.561977368084073,0.44263584556516905,0.7478490003980566,0.8671123635375246,0.7531046879676079,0.5716715000711776,0.4350588720180773,1.0826724445661011,1.5856204783717867,1.8923044362307315],\"xaxis\":\"x\",\"y\":[0.7123393456602967,0.8810871396579043,0.5205333150406565,-0.613827101457419,-0.38613000439522865,-0.375651759789066,-0.294378907470928,0.39197471376585236,0.30175786824937134,0.04195591195977968,-0.7380662138310403,-0.2821961980408688],\"yaxis\":\"y\",\"type\":\"scatter\"},{\"hovertemplate\":\"color=B<br>symbol=Exon<br>2=%{x}<br>3=%{y}<extra></extra>\",\"legendgroup\":\"B, Exon\",\"marker\":{\"color\":\"#EF553B\",\"symbol\":\"diamond\",\"size\":13},\"mode\":\"markers\",\"name\":\"B, Exon\",\"orientation\":\"v\",\"showlegend\":true,\"x\":[-0.2953405336557701,-0.9130769606337658,-0.5947033540741672,-1.1441658811420992,-0.9329028639103578,-0.890103431180037,-0.9347467938303217,-1.367884423650998,-1.2822912208537531,-0.9895127115491698,0.10548551980102541,-0.29621299205598967],\"xaxis\":\"x\",\"y\":[-0.034975274168776056,0.20836087397086278,0.13615308803361365,-0.28264474140827006,-0.1620333035940416,-0.15951628244937596,-0.2395105017463598,0.12504161965746222,0.11053237901907718,0.17954875653320315,-0.9216831553619574,-0.505853350011679],\"yaxis\":\"y\",\"type\":\"scatter\"},{\"hovertemplate\":\"color=C<br>symbol=Intron<br>2=%{x}<br>3=%{y}<extra></extra>\",\"legendgroup\":\"C, Intron\",\"marker\":{\"color\":\"#00cc96\",\"symbol\":\"circle\",\"size\":13},\"mode\":\"markers\",\"name\":\"C, Intron\",\"orientation\":\"v\",\"showlegend\":true,\"x\":[1.4595414014085506,0.5871872208170353,0.5901956218222829,0.7788975410081127,0.7835760772335738,0.6387264237043004,0.8557464099061531,0.5853843752588204,0.7000221812190097,0.9355475444969009,1.3248189853022279,1.6494830920359664],\"xaxis\":\"x\",\"y\":[0.5184997032439934,0.2179153791607435,-0.5541150289393963,-0.5076457379537653,-0.362129812943987,-0.23160255111238573,-0.3389033119744064,0.17448777439076987,0.919341445350076,0.394809357392046,0.40692199557535363,-0.566969094491108],\"yaxis\":\"y\",\"type\":\"scatter\"},{\"hovertemplate\":\"color=C<br>symbol=Exon<br>2=%{x}<br>3=%{y}<extra></extra>\",\"legendgroup\":\"C, Exon\",\"marker\":{\"color\":\"#00cc96\",\"symbol\":\"diamond\",\"size\":13},\"mode\":\"markers\",\"name\":\"C, Exon\",\"orientation\":\"v\",\"showlegend\":true,\"x\":[-0.18214007026275864,-0.5264490084631988,-1.250927481211026,-1.1733061062839951,-0.9160221780201456,-1.0033031836231858,-0.9177906511321744,-1.3407033147385845,-1.2928858936928078,-1.0442554039376237,-0.8702776636091447,-0.26566282523647117],\"xaxis\":\"x\",\"y\":[-0.13112155596228647,-0.04517163717012715,-0.07161793703384911,-0.15239601635449604,-0.1745057068482021,-0.12387979518542369,-0.19631356151379098,0.15978252196861284,0.2571603763714148,0.09683477335670769,-0.02480685388040145,-0.38913984445187444],\"yaxis\":\"y\",\"type\":\"scatter\"},{\"hovertemplate\":\"color=D<br>symbol=Intron<br>2=%{x}<br>3=%{y}<extra></extra>\",\"legendgroup\":\"D, Intron\",\"marker\":{\"color\":\"#ab63fa\",\"symbol\":\"circle\",\"size\":13},\"mode\":\"markers\",\"name\":\"D, Intron\",\"orientation\":\"v\",\"showlegend\":true,\"x\":[0.7991945610313989,0.44993042078631645,0.5294457918774783,0.5751619122562818,0.8556933224835792,0.9268873225658818,0.5632041493660737,0.4639691217890404,0.44252937493336547,0.7168053382377484,1.2365355814251886,1.2952695295471073],\"xaxis\":\"x\",\"y\":[0.8675663571973959,0.09587530360303134,0.37890726806995395,-0.5435988020707057,-0.4371171238856537,-0.3798762161633042,0.05112590792322165,0.2548153136754469,0.3883419409431312,0.7792133669441619,0.942273476746274,0.2722278382493367],\"yaxis\":\"y\",\"type\":\"scatter\"},{\"hovertemplate\":\"color=D<br>symbol=Exon<br>2=%{x}<br>3=%{y}<extra></extra>\",\"legendgroup\":\"D, Exon\",\"marker\":{\"color\":\"#ab63fa\",\"symbol\":\"diamond\",\"size\":13},\"mode\":\"markers\",\"name\":\"D, Exon\",\"orientation\":\"v\",\"showlegend\":true,\"x\":[-0.4994816016501273,-1.2160688891477869,-0.5393185188829211,-1.2093608992942728,-0.9394345411097975,-0.9706740222885357,-1.3755304942187832,-1.406947437438278,-1.3728042038881247,-1.1528149027491885,-0.9336810741757607,-0.5004038652559307],\"xaxis\":\"x\",\"y\":[-0.10554317701371123,0.08649116234845197,-0.10938595813460096,0.008580208885312031,-0.057218526055432185,-0.12574883591841693,0.09277536042316988,0.2096871105686055,0.1681580466471615,0.189642308543467,0.23406935598332587,-0.25251454224657366],\"yaxis\":\"y\",\"type\":\"scatter\"}],                        {\"template\":{\"data\":{\"histogram2dcontour\":[{\"type\":\"histogram2dcontour\",\"colorbar\":{\"outlinewidth\":0,\"ticks\":\"\"},\"colorscale\":[[0.0,\"#0d0887\"],[0.1111111111111111,\"#46039f\"],[0.2222222222222222,\"#7201a8\"],[0.3333333333333333,\"#9c179e\"],[0.4444444444444444,\"#bd3786\"],[0.5555555555555556,\"#d8576b\"],[0.6666666666666666,\"#ed7953\"],[0.7777777777777778,\"#fb9f3a\"],[0.8888888888888888,\"#fdca26\"],[1.0,\"#f0f921\"]]}],\"choropleth\":[{\"type\":\"choropleth\",\"colorbar\":{\"outlinewidth\":0,\"ticks\":\"\"}}],\"histogram2d\":[{\"type\":\"histogram2d\",\"colorbar\":{\"outlinewidth\":0,\"ticks\":\"\"},\"colorscale\":[[0.0,\"#0d0887\"],[0.1111111111111111,\"#46039f\"],[0.2222222222222222,\"#7201a8\"],[0.3333333333333333,\"#9c179e\"],[0.4444444444444444,\"#bd3786\"],[0.5555555555555556,\"#d8576b\"],[0.6666666666666666,\"#ed7953\"],[0.7777777777777778,\"#fb9f3a\"],[0.8888888888888888,\"#fdca26\"],[1.0,\"#f0f921\"]]}],\"heatmap\":[{\"type\":\"heatmap\",\"colorbar\":{\"outlinewidth\":0,\"ticks\":\"\"},\"colorscale\":[[0.0,\"#0d0887\"],[0.1111111111111111,\"#46039f\"],[0.2222222222222222,\"#7201a8\"],[0.3333333333333333,\"#9c179e\"],[0.4444444444444444,\"#bd3786\"],[0.5555555555555556,\"#d8576b\"],[0.6666666666666666,\"#ed7953\"],[0.7777777777777778,\"#fb9f3a\"],[0.8888888888888888,\"#fdca26\"],[1.0,\"#f0f921\"]]}],\"heatmapgl\":[{\"type\":\"heatmapgl\",\"colorbar\":{\"outlinewidth\":0,\"ticks\":\"\"},\"colorscale\":[[0.0,\"#0d0887\"],[0.1111111111111111,\"#46039f\"],[0.2222222222222222,\"#7201a8\"],[0.3333333333333333,\"#9c179e\"],[0.4444444444444444,\"#bd3786\"],[0.5555555555555556,\"#d8576b\"],[0.6666666666666666,\"#ed7953\"],[0.7777777777777778,\"#fb9f3a\"],[0.8888888888888888,\"#fdca26\"],[1.0,\"#f0f921\"]]}],\"contourcarpet\":[{\"type\":\"contourcarpet\",\"colorbar\":{\"outlinewidth\":0,\"ticks\":\"\"}}],\"contour\":[{\"type\":\"contour\",\"colorbar\":{\"outlinewidth\":0,\"ticks\":\"\"},\"colorscale\":[[0.0,\"#0d0887\"],[0.1111111111111111,\"#46039f\"],[0.2222222222222222,\"#7201a8\"],[0.3333333333333333,\"#9c179e\"],[0.4444444444444444,\"#bd3786\"],[0.5555555555555556,\"#d8576b\"],[0.6666666666666666,\"#ed7953\"],[0.7777777777777778,\"#fb9f3a\"],[0.8888888888888888,\"#fdca26\"],[1.0,\"#f0f921\"]]}],\"surface\":[{\"type\":\"surface\",\"colorbar\":{\"outlinewidth\":0,\"ticks\":\"\"},\"colorscale\":[[0.0,\"#0d0887\"],[0.1111111111111111,\"#46039f\"],[0.2222222222222222,\"#7201a8\"],[0.3333333333333333,\"#9c179e\"],[0.4444444444444444,\"#bd3786\"],[0.5555555555555556,\"#d8576b\"],[0.6666666666666666,\"#ed7953\"],[0.7777777777777778,\"#fb9f3a\"],[0.8888888888888888,\"#fdca26\"],[1.0,\"#f0f921\"]]}],\"mesh3d\":[{\"type\":\"mesh3d\",\"colorbar\":{\"outlinewidth\":0,\"ticks\":\"\"}}],\"scatter\":[{\"fillpattern\":{\"fillmode\":\"overlay\",\"size\":10,\"solidity\":0.2},\"type\":\"scatter\"}],\"parcoords\":[{\"type\":\"parcoords\",\"line\":{\"colorbar\":{\"outlinewidth\":0,\"ticks\":\"\"}}}],\"scatterpolargl\":[{\"type\":\"scatterpolargl\",\"marker\":{\"colorbar\":{\"outlinewidth\":0,\"ticks\":\"\"}}}],\"bar\":[{\"error_x\":{\"color\":\"#2a3f5f\"},\"error_y\":{\"color\":\"#2a3f5f\"},\"marker\":{\"line\":{\"color\":\"#E5ECF6\",\"width\":0.5},\"pattern\":{\"fillmode\":\"overlay\",\"size\":10,\"solidity\":0.2}},\"type\":\"bar\"}],\"scattergeo\":[{\"type\":\"scattergeo\",\"marker\":{\"colorbar\":{\"outlinewidth\":0,\"ticks\":\"\"}}}],\"scatterpolar\":[{\"type\":\"scatterpolar\",\"marker\":{\"colorbar\":{\"outlinewidth\":0,\"ticks\":\"\"}}}],\"histogram\":[{\"marker\":{\"pattern\":{\"fillmode\":\"overlay\",\"size\":10,\"solidity\":0.2}},\"type\":\"histogram\"}],\"scattergl\":[{\"type\":\"scattergl\",\"marker\":{\"colorbar\":{\"outlinewidth\":0,\"ticks\":\"\"}}}],\"scatter3d\":[{\"type\":\"scatter3d\",\"line\":{\"colorbar\":{\"outlinewidth\":0,\"ticks\":\"\"}},\"marker\":{\"colorbar\":{\"outlinewidth\":0,\"ticks\":\"\"}}}],\"scattermapbox\":[{\"type\":\"scattermapbox\",\"marker\":{\"colorbar\":{\"outlinewidth\":0,\"ticks\":\"\"}}}],\"scatterternary\":[{\"type\":\"scatterternary\",\"marker\":{\"colorbar\":{\"outlinewidth\":0,\"ticks\":\"\"}}}],\"scattercarpet\":[{\"type\":\"scattercarpet\",\"marker\":{\"colorbar\":{\"outlinewidth\":0,\"ticks\":\"\"}}}],\"carpet\":[{\"aaxis\":{\"endlinecolor\":\"#2a3f5f\",\"gridcolor\":\"white\",\"linecolor\":\"white\",\"minorgridcolor\":\"white\",\"startlinecolor\":\"#2a3f5f\"},\"baxis\":{\"endlinecolor\":\"#2a3f5f\",\"gridcolor\":\"white\",\"linecolor\":\"white\",\"minorgridcolor\":\"white\",\"startlinecolor\":\"#2a3f5f\"},\"type\":\"carpet\"}],\"table\":[{\"cells\":{\"fill\":{\"color\":\"#EBF0F8\"},\"line\":{\"color\":\"white\"}},\"header\":{\"fill\":{\"color\":\"#C8D4E3\"},\"line\":{\"color\":\"white\"}},\"type\":\"table\"}],\"barpolar\":[{\"marker\":{\"line\":{\"color\":\"#E5ECF6\",\"width\":0.5},\"pattern\":{\"fillmode\":\"overlay\",\"size\":10,\"solidity\":0.2}},\"type\":\"barpolar\"}],\"pie\":[{\"automargin\":true,\"type\":\"pie\"}]},\"layout\":{\"autotypenumbers\":\"strict\",\"colorway\":[\"#636efa\",\"#EF553B\",\"#00cc96\",\"#ab63fa\",\"#FFA15A\",\"#19d3f3\",\"#FF6692\",\"#B6E880\",\"#FF97FF\",\"#FECB52\"],\"font\":{\"color\":\"#2a3f5f\"},\"hovermode\":\"closest\",\"hoverlabel\":{\"align\":\"left\"},\"paper_bgcolor\":\"white\",\"plot_bgcolor\":\"#E5ECF6\",\"polar\":{\"bgcolor\":\"#E5ECF6\",\"angularaxis\":{\"gridcolor\":\"white\",\"linecolor\":\"white\",\"ticks\":\"\"},\"radialaxis\":{\"gridcolor\":\"white\",\"linecolor\":\"white\",\"ticks\":\"\"}},\"ternary\":{\"bgcolor\":\"#E5ECF6\",\"aaxis\":{\"gridcolor\":\"white\",\"linecolor\":\"white\",\"ticks\":\"\"},\"baxis\":{\"gridcolor\":\"white\",\"linecolor\":\"white\",\"ticks\":\"\"},\"caxis\":{\"gridcolor\":\"white\",\"linecolor\":\"white\",\"ticks\":\"\"}},\"coloraxis\":{\"colorbar\":{\"outlinewidth\":0,\"ticks\":\"\"}},\"colorscale\":{\"sequential\":[[0.0,\"#0d0887\"],[0.1111111111111111,\"#46039f\"],[0.2222222222222222,\"#7201a8\"],[0.3333333333333333,\"#9c179e\"],[0.4444444444444444,\"#bd3786\"],[0.5555555555555556,\"#d8576b\"],[0.6666666666666666,\"#ed7953\"],[0.7777777777777778,\"#fb9f3a\"],[0.8888888888888888,\"#fdca26\"],[1.0,\"#f0f921\"]],\"sequentialminus\":[[0.0,\"#0d0887\"],[0.1111111111111111,\"#46039f\"],[0.2222222222222222,\"#7201a8\"],[0.3333333333333333,\"#9c179e\"],[0.4444444444444444,\"#bd3786\"],[0.5555555555555556,\"#d8576b\"],[0.6666666666666666,\"#ed7953\"],[0.7777777777777778,\"#fb9f3a\"],[0.8888888888888888,\"#fdca26\"],[1.0,\"#f0f921\"]],\"diverging\":[[0,\"#8e0152\"],[0.1,\"#c51b7d\"],[0.2,\"#de77ae\"],[0.3,\"#f1b6da\"],[0.4,\"#fde0ef\"],[0.5,\"#f7f7f7\"],[0.6,\"#e6f5d0\"],[0.7,\"#b8e186\"],[0.8,\"#7fbc41\"],[0.9,\"#4d9221\"],[1,\"#276419\"]]},\"xaxis\":{\"gridcolor\":\"white\",\"linecolor\":\"white\",\"ticks\":\"\",\"title\":{\"standoff\":15},\"zerolinecolor\":\"white\",\"automargin\":true,\"zerolinewidth\":2},\"yaxis\":{\"gridcolor\":\"white\",\"linecolor\":\"white\",\"ticks\":\"\",\"title\":{\"standoff\":15},\"zerolinecolor\":\"white\",\"automargin\":true,\"zerolinewidth\":2},\"scene\":{\"xaxis\":{\"backgroundcolor\":\"#E5ECF6\",\"gridcolor\":\"white\",\"linecolor\":\"white\",\"showbackground\":true,\"ticks\":\"\",\"zerolinecolor\":\"white\",\"gridwidth\":2},\"yaxis\":{\"backgroundcolor\":\"#E5ECF6\",\"gridcolor\":\"white\",\"linecolor\":\"white\",\"showbackground\":true,\"ticks\":\"\",\"zerolinecolor\":\"white\",\"gridwidth\":2},\"zaxis\":{\"backgroundcolor\":\"#E5ECF6\",\"gridcolor\":\"white\",\"linecolor\":\"white\",\"showbackground\":true,\"ticks\":\"\",\"zerolinecolor\":\"white\",\"gridwidth\":2}},\"shapedefaults\":{\"line\":{\"color\":\"#2a3f5f\"}},\"annotationdefaults\":{\"arrowcolor\":\"#2a3f5f\",\"arrowhead\":0,\"arrowwidth\":1},\"geo\":{\"bgcolor\":\"white\",\"landcolor\":\"#E5ECF6\",\"subunitcolor\":\"white\",\"showland\":true,\"showlakes\":true,\"lakecolor\":\"white\"},\"title\":{\"x\":0.05},\"mapbox\":{\"style\":\"light\"}}},\"xaxis\":{\"anchor\":\"y\",\"domain\":[0.0,1.0],\"title\":{\"text\":\"PC 3 (11.8%)\"}},\"yaxis\":{\"anchor\":\"x\",\"domain\":[0.0,1.0],\"title\":{\"text\":\"PC 4 (2.2%)\"}},\"legend\":{\"title\":{\"text\":\"color, symbol\"},\"tracegroupgap\":0},\"margin\":{\"t\":60},\"height\":600,\"width\":600,\"plot_bgcolor\":\"rgb(243,243,243)\"},                        {\"responsive\": true}                    ).then(function(){\n",
       "                            \n",
       "var gd = document.getElementById('289b0a5d-ccc1-4630-bfc3-1247888dda6e');\n",
       "var x = new MutationObserver(function (mutations, observer) {{\n",
       "        var display = window.getComputedStyle(gd).display;\n",
       "        if (!display || display === 'none') {{\n",
       "            console.log([gd, 'removed!']);\n",
       "            Plotly.purge(gd);\n",
       "            observer.disconnect();\n",
       "        }}\n",
       "}});\n",
       "\n",
       "// Listen for the removal of the full notebook cells\n",
       "var notebookContainer = gd.closest('#notebook-container');\n",
       "if (notebookContainer) {{\n",
       "    x.observe(notebookContainer, {childList: true});\n",
       "}}\n",
       "\n",
       "// Listen for the clearing of the current output cell\n",
       "var outputEl = gd.closest('.output');\n",
       "if (outputEl) {{\n",
       "    x.observe(outputEl, {childList: true});\n",
       "}}\n",
       "\n",
       "                        })                };                });            </script>        </div>"
      ]
     },
     "metadata": {},
     "output_type": "display_data"
    }
   ],
   "source": [
    "#Perform the PCA on exons + introns\n",
    "pca_all = run_PCA(dat_tot, x_1=1, x_2=2, col='time', shape='condition', scale_d=True, log=False);\n",
    "run_PCA(dat_tot, x_1=1, x_2=2, col='replicate', shape='feature', scale_d=True, log=False);\n",
    "\n",
    "run_PCA(dat_tot, x_1=2, x_2=3, col='time', shape='condition', scale_d=True, log=False);\n",
    "run_PCA(dat_tot, x_1=2, x_2=3, col='replicate', shape='feature', scale_d=True, log=False);\n",
    "\n",
    "run_PCA(dat_tot, x_1=3, x_2=4, col='time', shape='condition', scale_d=True, log=False);\n",
    "run_PCA(dat_tot, x_1=3, x_2=4, col='replicate', shape='feature', scale_d=True, log=False);"
   ]
  },
  {
   "cell_type": "markdown",
   "id": "e334e74f",
   "metadata": {},
   "source": [
    "### 1. PCA experiments\n",
    "\n",
    "In both our exons-only and introns-only PCA experiments, some interesting and similar behaviours can be observed. \n",
    "The PC1 vs PC2 graphs in these two experiments show a rythmic behaviour of those two components with time, a rythmicity that is respected when looking at our PC1 vs PC2 graph in the case of replicates, which show the exact same behaviour.\n",
    "\n",
    "More precisely, the PC1 vs PC2 values indeed seem to make a full circle from time 00 to time 22, indicating a rythmicity in the expression of our genes. As previously said, we can also see that our 4 replicates (A,B,C and D) all follow this \"circle\" behaviour.\n",
    "\n",
    "In addition to this rythmicity, by looking at the PCA experiment when using both introns and exons, we can add that the exons and introns values for PC1 vs PC2 or PC3 vs PC4 differ. In the first case (PC1 vs PC2 in the case of replicates), while both exons and introns values follow the rythmicity seen above, exons values seem to be more \"extreme\"/large than the intron ones, whose circle behaviour seem to have a smaller radius. \n",
    "This difference is most blatant in the PC3 vs PC4 or even the PC2 vs PC3 graphs (again, the replicates ones), where there seem to be two clusters, one with the introns values and an other with exons values. \n",
    "C'est utile de dire ça / y'a quoi d'autre à dire?"
   ]
  },
  {
   "cell_type": "markdown",
   "id": "18464198",
   "metadata": {},
   "source": [
    "#### Assess rhythmicity"
   ]
  },
  {
   "cell_type": "code",
   "execution_count": 92,
   "id": "86c02887",
   "metadata": {},
   "outputs": [],
   "source": [
    "# Function to infer the p-value, phase, amplitude and mean from a time-serie y with size N, period T and sampling Ts. \n",
    "def return_amp_phase_pv(y, Ts, T, N):\n",
    "    \n",
    "    # we do the harmonic regression using a Fourier series\n",
    "    t = np.linspace(0.0, N * Ts, N)\n",
    "    x_fft = np.fft.fft(y)\n",
    "    freq = np.fft.fftfreq(len(y), d=Ts)\n",
    "    index, = np.where(np.isclose(freq, 1/T, atol=0.005))\n",
    "    amp = 4 / N * np.abs(x_fft[index[0]])\n",
    "    phase = T * np.arctan2(-x_fft[index[0]].imag, x_fft[index[0]].real) / (2 * np.pi)\n",
    "    mu = 1 / N * x_fft[0].real\n",
    "    \n",
    "    #compute the residuals and statistics of the fit (pval)\n",
    "    x_hat = mu + 0.5 * amp * np.cos(2 * np.pi / T * t - 2 * np.pi * phase / T)\n",
    "    res = y - x_hat\n",
    "    sig2_1 = np.var(res)\n",
    "    sig2 = np.var(y)\n",
    "    R2 = 1 - sig2_1 / sig2\n",
    "    p = 3\n",
    "    pval = 1 - beta.cdf(R2, (p - 1) / 2, (N - p) / 2)\n",
    "    if phase < 0:\n",
    "        phase += T\n",
    "        \n",
    "    return amp, phase, pval, mu"
   ]
  },
  {
   "cell_type": "code",
   "execution_count": 93,
   "id": "9ea44eb2",
   "metadata": {},
   "outputs": [],
   "source": [
    "#Apply the function for all the genes at the intron or exon level and retrieve the amplitude, phase, mean and p-value.\n",
    "\n",
    "Ts = 2.0 # sampling time \n",
    "T = 24 # period\n",
    "N = 48 # number of samples\n",
    "\n",
    "amp_intron = []\n",
    "phase_intron = [] \n",
    "pv_intron = []\n",
    "mu_intron = []\n",
    "\n",
    "i_pos = all_dat.columns.get_level_values('feature').isin(['Intron'])\n",
    "\n",
    "for i, row in all_dat.iterrows():\n",
    "    [a, p, pv, mu] = return_amp_phase_pv(np.array(row)[i_pos], Ts, T, N)\n",
    "    amp_intron.append(a)\n",
    "    phase_intron.append(p)\n",
    "    pv_intron.append(pv)\n",
    "    mu_intron.append(mu)\n",
    "    \n",
    "amp_exon = []\n",
    "phase_exon = [] \n",
    "pv_exon = []\n",
    "mu_exon = []\n",
    "e_pos = all_dat.columns.get_level_values('feature').isin(['Exon'])\n",
    "\n",
    "for i, row in all_dat.iterrows():\n",
    "    [a, p, pv, mu]=return_amp_phase_pv(np.array(row)[e_pos], Ts, T, N)\n",
    "    amp_exon.append(a)\n",
    "    phase_exon.append(p)\n",
    "    pv_exon.append(pv)\n",
    "    mu_exon.append(mu)\n",
    "\n",
    "#convert the lists to numpy arrays\n",
    "phase_intron=np.array(phase_intron)\n",
    "amp_intron=np.array(amp_intron)\n",
    "pv_intron=np.array(pv_intron)\n",
    "mu_intron=np.array(mu_intron)\n",
    "\n",
    "phase_exon=np.array(phase_exon)\n",
    "amp_exon=np.array(amp_exon)\n",
    "pv_exon=np.array(pv_exon)\n",
    "mu_exon=np.array(mu_exon)"
   ]
  },
  {
   "cell_type": "code",
   "execution_count": 94,
   "id": "ff0bbff2",
   "metadata": {},
   "outputs": [
    {
     "data": {
      "image/png": "[encoded data removed]",
      "text/plain": [
       "<Figure size 1152x864 with 4 Axes>"
      ]
     },
     "metadata": {
      "needs_background": "light"
     },
     "output_type": "display_data"
    }
   ],
   "source": [
    "#Selecting only the amplitude/phases of introns & exons that show a p-value < 0.05.\n",
    "\n",
    "good_introns_amp = amp_intron[pv_intron<0.05]\n",
    "good_exons_amp = amp_exon[pv_exon<0.05]\n",
    "\n",
    "good_introns_phase = phase_intron[pv_intron<0.05]\n",
    "good_exons_phase = phase_exon[pv_exon<0.05]\n",
    "\n",
    "fig, ((ax1, ax2), (ax3, ax4)) = plt.subplots(nrows=2, ncols=2, figsize = (16,12))\n",
    "\n",
    "ax1.hist(good_introns_amp,bins=int(max(good_introns_amp)))\n",
    "ax1.set_title('Amplitude histogram for the introns')   \n",
    "\n",
    "ax2.hist(good_exons_amp,bins=int(max(good_exons_amp)))\n",
    "ax2.set_title('Amplitude histogram for the exons')\n",
    "\n",
    "ax3.hist(good_introns_phase,bins=int(max(good_introns_phase)));\n",
    "ax3.set_title('Phase histogram for the introns')\n",
    "\n",
    "ax4.hist(good_exons_phase,bins=int(max(good_exons_phase)));\n",
    "ax4.set_title('Phase histogram for the exons')\n",
    "\n",
    "plt.tight_layout()\n",
    "plt.show()"
   ]
  },
  {
   "cell_type": "markdown",
   "id": "076b563c",
   "metadata": {},
   "source": [
    "### 2. Phase and amplitude histograms\n",
    "\n",
    "We can indeed observe a wave pattern of gene expression which is particularly noticeable in the phase histograms for the introns, where a peak around 7h~ and another one around 19~ hours can be observed (morning wave and evening wave)."
   ]
  },
  {
   "cell_type": "markdown",
   "id": "7d7aa889",
   "metadata": {},
   "source": [
    "### 3. Robustly rythmic genes\n",
    "\n",
    "One can assume that the most robust genes regarding their rythmicity will be the ones where difference between maximum and minimum expression levels will be the highest. Indeed, the rythmicity of such genes is probably really crucial and the latter would then be pretty resistant to some changes in their expression.\n",
    "\n",
    "In our case, we thus simply have to select the genes for which introns/exons amplitude is the highest. By looking at our histograms, we can try and fine the genes for which both introns and exons amplitude is, per say, >2, as it only concern a really small fraction of genes :"
   ]
  },
  {
   "cell_type": "code",
   "execution_count": 95,
   "id": "ed966cc1",
   "metadata": {},
   "outputs": [],
   "source": [
    "### code that does this"
   ]
  },
  {
   "cell_type": "markdown",
   "id": "017bb7fc",
   "metadata": {},
   "source": [
    "Which genes are overall the most robustly rhythmic? Is there a theme? --> on peut sélectionner les gènes comme spécifié au dessus et regarder leur phase ? genre voir si les introns ont une phase différente des exons par exemple"
   ]
  },
  {
   "cell_type": "markdown",
   "id": "76c5d3f3",
   "metadata": {},
   "source": [
    "### 4. EnrichR analysis"
   ]
  },
  {
   "cell_type": "code",
   "execution_count": 40,
   "id": "f0c9d441",
   "metadata": {},
   "outputs": [
    {
     "name": "stdout",
     "output_type": "stream",
     "text": [
      "['ARCHS4_Cell-lines', 'ARCHS4_IDG_Coexp', 'ARCHS4_Kinases_Coexp', 'ARCHS4_TFs_Coexp', 'ARCHS4_Tissues', 'Achilles_fitness_decrease', 'Achilles_fitness_increase', 'Aging_Perturbations_from_GEO_down', 'Aging_Perturbations_from_GEO_up', 'Allen_Brain_Atlas_10x_scRNA_2021', 'Allen_Brain_Atlas_down', 'Allen_Brain_Atlas_up', 'Azimuth_Cell_Types_2021', 'BioCarta_2013', 'BioCarta_2015', 'BioCarta_2016', 'BioPlanet_2019', 'BioPlex_2017', 'CCLE_Proteomics_2020', 'CORUM']\n"
     ]
    },
    {
     "data": {
      "application/vnd.plotly.v1+json": {
       "config": {
        "plotlyServerURL": "https://plot.ly"
       },
       "data": [
        {
         "hovertemplate": "color=00<br>symbol=WT<br>0=%{x}<br>1=%{y}<extra></extra>",
         "legendgroup": "00, WT",
         "marker": {
          "color": "#636efa",
          "size": 13,
          "symbol": "circle"
         },
         "mode": "markers",
         "name": "00, WT",
         "orientation": "v",
         "showlegend": true,
         "type": "scatter",
         "x": [
          41.95815468322594,
          38.952881037453324,
          42.612908675825594,
          42.1396453840032,
          -10.073810797190736,
          -8.140176339122503,
          -9.795271870556165,
          -9.360334234738339,
          -34.75511888269827,
          -32.692305754779106,
          -34.22467988050691,
          -34.36399889804215
         ],
         "xaxis": "x",
         "y": [
          -8.859106787174735,
          -7.996563497585893,
          -8.403153149926508,
          -9.3315641828233,
          27.421278367165957,
          26.13193533200982,
          27.775236381787206,
          27.111211358578863,
          -18.878310739745892,
          -17.667680039918334,
          -19.03601913579405,
          -18.63759595610006
         ],
         "yaxis": "y"
        },
        {
         "hovertemplate": "color=02<br>symbol=WT<br>0=%{x}<br>1=%{y}<extra></extra>",
         "legendgroup": "02, WT",
         "marker": {
          "color": "#EF553B",
          "size": 13,
          "symbol": "circle"
         },
         "mode": "markers",
         "name": "02, WT",
         "orientation": "v",
         "showlegend": true,
         "type": "scatter",
         "x": [
          42.69561249305904,
          44.23403571388013,
          42.60730324336298,
          43.31374915350066,
          -10.289667378464472,
          -9.200476504165088,
          -9.999847361576842,
          -9.505367678338889,
          -35.10113019197688,
          -34.10961079580643,
          -34.208527512981526,
          -33.796063340040305
         ],
         "xaxis": "x",
         "y": [
          -8.984120889343473,
          -10.046982275525657,
          -8.901419109392664,
          -9.223386351379224,
          26.870698391308284,
          27.1249001366536,
          28.12253917062518,
          27.469912621784175,
          -19.016872742007216,
          -19.252239030911838,
          -19.062348705537815,
          -19.606793028705418
         ],
         "yaxis": "y"
        },
        {
         "hovertemplate": "color=04<br>symbol=WT<br>0=%{x}<br>1=%{y}<extra></extra>",
         "legendgroup": "04, WT",
         "marker": {
          "color": "#00cc96",
          "size": 13,
          "symbol": "circle"
         },
         "mode": "markers",
         "name": "04, WT",
         "orientation": "v",
         "showlegend": true,
         "type": "scatter",
         "x": [
          43.53385574472975,
          42.87830951489934,
          42.619944539279636,
          42.798871892881614,
          -10.411899357071794,
          -10.162782292351908,
          -8.564994615427507,
          -10.02874807671266,
          -34.469592370498084,
          -32.77534324614529,
          -35.14620591154704,
          -34.60652129759675
         ],
         "xaxis": "x",
         "y": [
          -9.76302700054063,
          -9.025861258857764,
          -9.252769130972686,
          -9.353531022813335,
          26.975909562757845,
          27.757633601941052,
          27.43756006146746,
          27.183086478145125,
          -18.919309149282313,
          -18.030401900528986,
          -19.81070909471741,
          -15.762573435229033
         ],
         "yaxis": "y"
        },
        {
         "hovertemplate": "color=06<br>symbol=WT<br>0=%{x}<br>1=%{y}<extra></extra>",
         "legendgroup": "06, WT",
         "marker": {
          "color": "#ab63fa",
          "size": 13,
          "symbol": "circle"
         },
         "mode": "markers",
         "name": "06, WT",
         "orientation": "v",
         "showlegend": true,
         "type": "scatter",
         "x": [
          41.05428110135372,
          43.367811276020504,
          43.14205392138401,
          43.19337413909888,
          -8.09149264568538,
          -8.026298723559805,
          -8.28539706417836,
          -8.477525867556286,
          -34.21675617397143,
          -34.392923328271614,
          -34.41557134583392,
          -34.24775931242893
         ],
         "xaxis": "x",
         "y": [
          -7.599179902090227,
          -8.465092643040803,
          -8.650153918963856,
          -8.038015599087318,
          26.921284801241306,
          27.243784738225898,
          27.593568717287184,
          27.657475765718473,
          -17.759429881093453,
          -18.6229949627273,
          -18.709173505630286,
          -17.928111376778855
         ],
         "yaxis": "y"
        },
        {
         "hovertemplate": "color=08<br>symbol=WT<br>0=%{x}<br>1=%{y}<extra></extra>",
         "legendgroup": "08, WT",
         "marker": {
          "color": "#FFA15A",
          "size": 13,
          "symbol": "circle"
         },
         "mode": "markers",
         "name": "08, WT",
         "orientation": "v",
         "showlegend": true,
         "type": "scatter",
         "x": [
          42.67030818619599,
          44.193651635928234,
          42.88896566048509,
          43.84091881178127,
          -8.212040601607779,
          -7.2772023038686156,
          -7.281540313077987,
          -7.914479573381769,
          -33.955090252131775,
          -34.04383169936614,
          -33.402404148178974,
          -32.095247379779146
         ],
         "xaxis": "x",
         "y": [
          -9.119221715926304,
          -8.433137063901107,
          -8.660452127668457,
          -9.23931353587498,
          27.68052838921433,
          27.61355405296253,
          27.774099661143904,
          26.908713515581795,
          -18.40058999713835,
          -19.05467913800325,
          -18.835074673660362,
          -15.84461198339965
         ],
         "yaxis": "y"
        },
        {
         "hovertemplate": "color=10<br>symbol=WT<br>0=%{x}<br>1=%{y}<extra></extra>",
         "legendgroup": "10, WT",
         "marker": {
          "color": "#19d3f3",
          "size": 13,
          "symbol": "circle"
         },
         "mode": "markers",
         "name": "10, WT",
         "orientation": "v",
         "showlegend": true,
         "type": "scatter",
         "x": [
          44.31021587970088,
          42.749227729541474,
          43.1944702298505,
          42.24779737298543,
          -8.249601671436627,
          -7.8335751703474,
          -7.933289016190132,
          -8.401274332347313,
          -33.72547034528116,
          -33.61144767006646,
          -33.7671796265794,
          -33.46403515257891
         ],
         "xaxis": "x",
         "y": [
          -9.247296783828947,
          -8.79016204307715,
          -8.802476660405551,
          -9.860328226717217,
          28.16129618495065,
          26.9078085138973,
          27.08570914753487,
          25.9417110479659,
          -19.0152160864876,
          -16.246402780377984,
          -18.569155602815243,
          -18.77945635693882
         ],
         "yaxis": "y"
        },
        {
         "hovertemplate": "color=12<br>symbol=WT<br>0=%{x}<br>1=%{y}<extra></extra>",
         "legendgroup": "12, WT",
         "marker": {
          "color": "#FF6692",
          "size": 13,
          "symbol": "circle"
         },
         "mode": "markers",
         "name": "12, WT",
         "orientation": "v",
         "showlegend": true,
         "type": "scatter",
         "x": [
          42.220435326935956,
          42.898287171231964,
          43.61709335961462,
          43.057884150174544,
          -9.553471584826484,
          -8.316752177688182,
          -7.79164431855448,
          -9.907381919737762,
          -34.45836907343363,
          -32.49232732576393,
          -32.666333451885656,
          -35.152602590841276
         ],
         "xaxis": "x",
         "y": [
          -7.550345254960055,
          -9.606369665773896,
          -10.468118570007947,
          -10.1012642237085,
          28.281770144715267,
          26.2793992313993,
          26.452549978937764,
          26.36316615793471,
          -18.783896377746995,
          -16.632055589634685,
          -17.704397870369785,
          -19.81285641856623
         ],
         "yaxis": "y"
        },
        {
         "hovertemplate": "color=14<br>symbol=WT<br>0=%{x}<br>1=%{y}<extra></extra>",
         "legendgroup": "14, WT",
         "marker": {
          "color": "#B6E880",
          "size": 13,
          "symbol": "circle"
         },
         "mode": "markers",
         "name": "14, WT",
         "orientation": "v",
         "showlegend": true,
         "type": "scatter",
         "x": [
          43.689758326847794,
          42.87344266039423,
          44.35074015991577,
          43.40361542667496,
          -8.767101718016907,
          -9.741833129943062,
          -6.757167912635895,
          -9.662084128274618,
          -33.57142717848775,
          -32.86192601845639,
          -32.56035587299798,
          -34.66585804395121
         ],
         "xaxis": "x",
         "y": [
          -8.062520806254291,
          -8.63361452288713,
          -8.620390911037076,
          -8.65863586545663,
          28.278491500066526,
          27.035588660098366,
          26.99291178153616,
          27.04102146017791,
          -18.7929134772564,
          -17.806188319259284,
          -18.086504983842183,
          -19.890700142104638
         ],
         "yaxis": "y"
        },
        {
         "hovertemplate": "color=16<br>symbol=WT<br>0=%{x}<br>1=%{y}<extra></extra>",
         "legendgroup": "16, WT",
         "marker": {
          "color": "#FF97FF",
          "size": 13,
          "symbol": "circle"
         },
         "mode": "markers",
         "name": "16, WT",
         "orientation": "v",
         "showlegend": true,
         "type": "scatter",
         "x": [
          42.25300457536902,
          44.05243998694494,
          43.32824025476351,
          42.5693828990577,
          -7.500341230806909,
          -9.750958803004655,
          -10.845283916882074,
          -10.429348815880997,
          -31.666015815522826,
          -35.67940535703577,
          -35.9215987744308,
          -33.87347923885695
         ],
         "xaxis": "x",
         "y": [
          -8.958354426816536,
          -8.374471247699555,
          -9.002253939998157,
          -10.306148823698683,
          26.63704007330768,
          27.45971583536309,
          27.047974558776968,
          27.4755675256556,
          -17.245721293648355,
          -19.947144742115118,
          -19.376633202164573,
          -18.60321647983764
         ],
         "yaxis": "y"
        },
        {
         "hovertemplate": "color=18<br>symbol=WT<br>0=%{x}<br>1=%{y}<extra></extra>",
         "legendgroup": "18, WT",
         "marker": {
          "color": "#FECB52",
          "size": 13,
          "symbol": "circle"
         },
         "mode": "markers",
         "name": "18, WT",
         "orientation": "v",
         "showlegend": true,
         "type": "scatter",
         "x": [
          43.295524195344406,
          43.618570206734944,
          42.92822620104697,
          43.08948317778133,
          -8.459597148026447,
          -9.024025987313266,
          -8.490463905473952,
          -9.511570772933922,
          -32.97933533780787,
          -34.442768041534435,
          -33.53698646361505,
          -34.16639572075409
         ],
         "xaxis": "x",
         "y": [
          -9.700616044129832,
          -8.984049432176594,
          -7.619870219711623,
          -10.266053276062772,
          27.364448501646304,
          27.802938538093226,
          27.740558922476975,
          27.045242970692286,
          -17.390683658771525,
          -18.568918312123476,
          -17.48449721208367,
          -19.25333646667497
         ],
         "yaxis": "y"
        },
        {
         "hovertemplate": "color=20<br>symbol=WT<br>0=%{x}<br>1=%{y}<extra></extra>",
         "legendgroup": "20, WT",
         "marker": {
          "color": "#636efa",
          "size": 13,
          "symbol": "circle"
         },
         "mode": "markers",
         "name": "20, WT",
         "orientation": "v",
         "showlegend": true,
         "type": "scatter",
         "x": [
          42.24763284246017,
          41.90801360037269,
          41.06164233834667,
          42.5395558244278,
          -8.998951992259752,
          -8.388674278741805,
          -8.844034940635334,
          -9.30833617885481,
          -35.29588705370135,
          -34.130358470767256,
          -33.43414091518138,
          -34.17092330959075
         ],
         "xaxis": "x",
         "y": [
          -5.856629719485483,
          -6.6290584704878155,
          -10.475821200521583,
          -9.992435983765846,
          27.886781157466366,
          27.937094275132385,
          26.865232753732023,
          26.875800116560747,
          -18.8581617809241,
          -18.243303322437836,
          -17.950890045398868,
          -16.144848497537442
         ],
         "yaxis": "y"
        },
        {
         "hovertemplate": "color=22<br>symbol=WT<br>0=%{x}<br>1=%{y}<extra></extra>",
         "legendgroup": "22, WT",
         "marker": {
          "color": "#EF553B",
          "size": 13,
          "symbol": "circle"
         },
         "mode": "markers",
         "name": "22, WT",
         "orientation": "v",
         "showlegend": true,
         "type": "scatter",
         "x": [
          42.04844308910566,
          42.43583192852599,
          42.04984794361879,
          43.868113362666264,
          -9.860677391738566,
          -7.849692107500867,
          -8.954953339177884,
          -9.063448284808198,
          -34.226798653684014,
          -33.381361451802235,
          -34.02047393386079,
          -34.366724645062526
         ],
         "xaxis": "x",
         "y": [
          -8.868429293037527,
          -7.682175924489923,
          -9.003187333508736,
          -9.85728179274388,
          28.609434980947185,
          27.65642167496493,
          27.107971310962995,
          26.81023126648476,
          -17.971795537080766,
          -18.139574143075816,
          -20.13290325270084,
          -18.327487122855747
         ],
         "yaxis": "y"
        }
       ],
       "layout": {
        "height": 600,
        "legend": {
         "title": {
          "text": "color, symbol"
         },
         "tracegroupgap": 0
        },
        "margin": {
         "t": 60
        },
        "plot_bgcolor": "rgb(243,243,243)",
        "template": {
         "data": {
          "bar": [
           {
            "error_x": {
             "color": "#2a3f5f"
            },
            "error_y": {
             "color": "#2a3f5f"
            },
            "marker": {
             "line": {
              "color": "#E5ECF6",
              "width": 0.5
             },
             "pattern": {
              "fillmode": "overlay",
              "size": 10,
              "solidity": 0.2
             }
            },
            "type": "bar"
           }
          ],
          "barpolar": [
           {
            "marker": {
             "line": {
              "color": "#E5ECF6",
              "width": 0.5
             },
             "pattern": {
              "fillmode": "overlay",
              "size": 10,
              "solidity": 0.2
             }
            },
            "type": "barpolar"
           }
          ],
          "carpet": [
           {
            "aaxis": {
             "endlinecolor": "#2a3f5f",
             "gridcolor": "white",
             "linecolor": "white",
             "minorgridcolor": "white",
             "startlinecolor": "#2a3f5f"
            },
            "baxis": {
             "endlinecolor": "#2a3f5f",
             "gridcolor": "white",
             "linecolor": "white",
             "minorgridcolor": "white",
             "startlinecolor": "#2a3f5f"
            },
            "type": "carpet"
           }
          ],
          "choropleth": [
           {
            "colorbar": {
             "outlinewidth": 0,
             "ticks": ""
            },
            "type": "choropleth"
           }
          ],
          "contour": [
           {
            "colorbar": {
             "outlinewidth": 0,
             "ticks": ""
            },
            "colorscale": [
             [
              0,
              "#0d0887"
             ],
             [
              0.1111111111111111,
              "#46039f"
             ],
             [
              0.2222222222222222,
              "#7201a8"
             ],
             [
              0.3333333333333333,
              "#9c179e"
             ],
             [
              0.4444444444444444,
              "#bd3786"
             ],
             [
              0.5555555555555556,
              "#d8576b"
             ],
             [
              0.6666666666666666,
              "#ed7953"
             ],
             [
              0.7777777777777778,
              "#fb9f3a"
             ],
             [
              0.8888888888888888,
              "#fdca26"
             ],
             [
              1,
              "#f0f921"
             ]
            ],
            "type": "contour"
           }
          ],
          "contourcarpet": [
           {
            "colorbar": {
             "outlinewidth": 0,
             "ticks": ""
            },
            "type": "contourcarpet"
           }
          ],
          "heatmap": [
           {
            "colorbar": {
             "outlinewidth": 0,
             "ticks": ""
            },
            "colorscale": [
             [
              0,
              "#0d0887"
             ],
             [
              0.1111111111111111,
              "#46039f"
             ],
             [
              0.2222222222222222,
              "#7201a8"
             ],
             [
              0.3333333333333333,
              "#9c179e"
             ],
             [
              0.4444444444444444,
              "#bd3786"
             ],
             [
              0.5555555555555556,
              "#d8576b"
             ],
             [
              0.6666666666666666,
              "#ed7953"
             ],
             [
              0.7777777777777778,
              "#fb9f3a"
             ],
             [
              0.8888888888888888,
              "#fdca26"
             ],
             [
              1,
              "#f0f921"
             ]
            ],
            "type": "heatmap"
           }
          ],
          "heatmapgl": [
           {
            "colorbar": {
             "outlinewidth": 0,
             "ticks": ""
            },
            "colorscale": [
             [
              0,
              "#0d0887"
             ],
             [
              0.1111111111111111,
              "#46039f"
             ],
             [
              0.2222222222222222,
              "#7201a8"
             ],
             [
              0.3333333333333333,
              "#9c179e"
             ],
             [
              0.4444444444444444,
              "#bd3786"
             ],
             [
              0.5555555555555556,
              "#d8576b"
             ],
             [
              0.6666666666666666,
              "#ed7953"
             ],
             [
              0.7777777777777778,
              "#fb9f3a"
             ],
             [
              0.8888888888888888,
              "#fdca26"
             ],
             [
              1,
              "#f0f921"
             ]
            ],
            "type": "heatmapgl"
           }
          ],
          "histogram": [
           {
            "marker": {
             "pattern": {
              "fillmode": "overlay",
              "size": 10,
              "solidity": 0.2
             }
            },
            "type": "histogram"
           }
          ],
          "histogram2d": [
           {
            "colorbar": {
             "outlinewidth": 0,
             "ticks": ""
            },
            "colorscale": [
             [
              0,
              "#0d0887"
             ],
             [
              0.1111111111111111,
              "#46039f"
             ],
             [
              0.2222222222222222,
              "#7201a8"
             ],
             [
              0.3333333333333333,
              "#9c179e"
             ],
             [
              0.4444444444444444,
              "#bd3786"
             ],
             [
              0.5555555555555556,
              "#d8576b"
             ],
             [
              0.6666666666666666,
              "#ed7953"
             ],
             [
              0.7777777777777778,
              "#fb9f3a"
             ],
             [
              0.8888888888888888,
              "#fdca26"
             ],
             [
              1,
              "#f0f921"
             ]
            ],
            "type": "histogram2d"
           }
          ],
          "histogram2dcontour": [
           {
            "colorbar": {
             "outlinewidth": 0,
             "ticks": ""
            },
            "colorscale": [
             [
              0,
              "#0d0887"
             ],
             [
              0.1111111111111111,
              "#46039f"
             ],
             [
              0.2222222222222222,
              "#7201a8"
             ],
             [
              0.3333333333333333,
              "#9c179e"
             ],
             [
              0.4444444444444444,
              "#bd3786"
             ],
             [
              0.5555555555555556,
              "#d8576b"
             ],
             [
              0.6666666666666666,
              "#ed7953"
             ],
             [
              0.7777777777777778,
              "#fb9f3a"
             ],
             [
              0.8888888888888888,
              "#fdca26"
             ],
             [
              1,
              "#f0f921"
             ]
            ],
            "type": "histogram2dcontour"
           }
          ],
          "mesh3d": [
           {
            "colorbar": {
             "outlinewidth": 0,
             "ticks": ""
            },
            "type": "mesh3d"
           }
          ],
          "parcoords": [
           {
            "line": {
             "colorbar": {
              "outlinewidth": 0,
              "ticks": ""
             }
            },
            "type": "parcoords"
           }
          ],
          "pie": [
           {
            "automargin": true,
            "type": "pie"
           }
          ],
          "scatter": [
           {
            "fillpattern": {
             "fillmode": "overlay",
             "size": 10,
             "solidity": 0.2
            },
            "type": "scatter"
           }
          ],
          "scatter3d": [
           {
            "line": {
             "colorbar": {
              "outlinewidth": 0,
              "ticks": ""
             }
            },
            "marker": {
             "colorbar": {
              "outlinewidth": 0,
              "ticks": ""
             }
            },
            "type": "scatter3d"
           }
          ],
          "scattercarpet": [
           {
            "marker": {
             "colorbar": {
              "outlinewidth": 0,
              "ticks": ""
             }
            },
            "type": "scattercarpet"
           }
          ],
          "scattergeo": [
           {
            "marker": {
             "colorbar": {
              "outlinewidth": 0,
              "ticks": ""
             }
            },
            "type": "scattergeo"
           }
          ],
          "scattergl": [
           {
            "marker": {
             "colorbar": {
              "outlinewidth": 0,
              "ticks": ""
             }
            },
            "type": "scattergl"
           }
          ],
          "scattermapbox": [
           {
            "marker": {
             "colorbar": {
              "outlinewidth": 0,
              "ticks": ""
             }
            },
            "type": "scattermapbox"
           }
          ],
          "scatterpolar": [
           {
            "marker": {
             "colorbar": {
              "outlinewidth": 0,
              "ticks": ""
             }
            },
            "type": "scatterpolar"
           }
          ],
          "scatterpolargl": [
           {
            "marker": {
             "colorbar": {
              "outlinewidth": 0,
              "ticks": ""
             }
            },
            "type": "scatterpolargl"
           }
          ],
          "scatterternary": [
           {
            "marker": {
             "colorbar": {
              "outlinewidth": 0,
              "ticks": ""
             }
            },
            "type": "scatterternary"
           }
          ],
          "surface": [
           {
            "colorbar": {
             "outlinewidth": 0,
             "ticks": ""
            },
            "colorscale": [
             [
              0,
              "#0d0887"
             ],
             [
              0.1111111111111111,
              "#46039f"
             ],
             [
              0.2222222222222222,
              "#7201a8"
             ],
             [
              0.3333333333333333,
              "#9c179e"
             ],
             [
              0.4444444444444444,
              "#bd3786"
             ],
             [
              0.5555555555555556,
              "#d8576b"
             ],
             [
              0.6666666666666666,
              "#ed7953"
             ],
             [
              0.7777777777777778,
              "#fb9f3a"
             ],
             [
              0.8888888888888888,
              "#fdca26"
             ],
             [
              1,
              "#f0f921"
             ]
            ],
            "type": "surface"
           }
          ],
          "table": [
           {
            "cells": {
             "fill": {
              "color": "#EBF0F8"
             },
             "line": {
              "color": "white"
             }
            },
            "header": {
             "fill": {
              "color": "#C8D4E3"
             },
             "line": {
              "color": "white"
             }
            },
            "type": "table"
           }
          ]
         },
         "layout": {
          "annotationdefaults": {
           "arrowcolor": "#2a3f5f",
           "arrowhead": 0,
           "arrowwidth": 1
          },
          "autotypenumbers": "strict",
          "coloraxis": {
           "colorbar": {
            "outlinewidth": 0,
            "ticks": ""
           }
          },
          "colorscale": {
           "diverging": [
            [
             0,
             "#8e0152"
            ],
            [
             0.1,
             "#c51b7d"
            ],
            [
             0.2,
             "#de77ae"
            ],
            [
             0.3,
             "#f1b6da"
            ],
            [
             0.4,
             "#fde0ef"
            ],
            [
             0.5,
             "#f7f7f7"
            ],
            [
             0.6,
             "#e6f5d0"
            ],
            [
             0.7,
             "#b8e186"
            ],
            [
             0.8,
             "#7fbc41"
            ],
            [
             0.9,
             "#4d9221"
            ],
            [
             1,
             "#276419"
            ]
           ],
           "sequential": [
            [
             0,
             "#0d0887"
            ],
            [
             0.1111111111111111,
             "#46039f"
            ],
            [
             0.2222222222222222,
             "#7201a8"
            ],
            [
             0.3333333333333333,
             "#9c179e"
            ],
            [
             0.4444444444444444,
             "#bd3786"
            ],
            [
             0.5555555555555556,
             "#d8576b"
            ],
            [
             0.6666666666666666,
             "#ed7953"
            ],
            [
             0.7777777777777778,
             "#fb9f3a"
            ],
            [
             0.8888888888888888,
             "#fdca26"
            ],
            [
             1,
             "#f0f921"
            ]
           ],
           "sequentialminus": [
            [
             0,
             "#0d0887"
            ],
            [
             0.1111111111111111,
             "#46039f"
            ],
            [
             0.2222222222222222,
             "#7201a8"
            ],
            [
             0.3333333333333333,
             "#9c179e"
            ],
            [
             0.4444444444444444,
             "#bd3786"
            ],
            [
             0.5555555555555556,
             "#d8576b"
            ],
            [
             0.6666666666666666,
             "#ed7953"
            ],
            [
             0.7777777777777778,
             "#fb9f3a"
            ],
            [
             0.8888888888888888,
             "#fdca26"
            ],
            [
             1,
             "#f0f921"
            ]
           ]
          },
          "colorway": [
           "#636efa",
           "#EF553B",
           "#00cc96",
           "#ab63fa",
           "#FFA15A",
           "#19d3f3",
           "#FF6692",
           "#B6E880",
           "#FF97FF",
           "#FECB52"
          ],
          "font": {
           "color": "#2a3f5f"
          },
          "geo": {
           "bgcolor": "white",
           "lakecolor": "white",
           "landcolor": "#E5ECF6",
           "showlakes": true,
           "showland": true,
           "subunitcolor": "white"
          },
          "hoverlabel": {
           "align": "left"
          },
          "hovermode": "closest",
          "mapbox": {
           "style": "light"
          },
          "paper_bgcolor": "white",
          "plot_bgcolor": "#E5ECF6",
          "polar": {
           "angularaxis": {
            "gridcolor": "white",
            "linecolor": "white",
            "ticks": ""
           },
           "bgcolor": "#E5ECF6",
           "radialaxis": {
            "gridcolor": "white",
            "linecolor": "white",
            "ticks": ""
           }
          },
          "scene": {
           "xaxis": {
            "backgroundcolor": "#E5ECF6",
            "gridcolor": "white",
            "gridwidth": 2,
            "linecolor": "white",
            "showbackground": true,
            "ticks": "",
            "zerolinecolor": "white"
           },
           "yaxis": {
            "backgroundcolor": "#E5ECF6",
            "gridcolor": "white",
            "gridwidth": 2,
            "linecolor": "white",
            "showbackground": true,
            "ticks": "",
            "zerolinecolor": "white"
           },
           "zaxis": {
            "backgroundcolor": "#E5ECF6",
            "gridcolor": "white",
            "gridwidth": 2,
            "linecolor": "white",
            "showbackground": true,
            "ticks": "",
            "zerolinecolor": "white"
           }
          },
          "shapedefaults": {
           "line": {
            "color": "#2a3f5f"
           }
          },
          "ternary": {
           "aaxis": {
            "gridcolor": "white",
            "linecolor": "white",
            "ticks": ""
           },
           "baxis": {
            "gridcolor": "white",
            "linecolor": "white",
            "ticks": ""
           },
           "bgcolor": "#E5ECF6",
           "caxis": {
            "gridcolor": "white",
            "linecolor": "white",
            "ticks": ""
           }
          },
          "title": {
           "x": 0.05
          },
          "xaxis": {
           "automargin": true,
           "gridcolor": "white",
           "linecolor": "white",
           "ticks": "",
           "title": {
            "standoff": 15
           },
           "zerolinecolor": "white",
           "zerolinewidth": 2
          },
          "yaxis": {
           "automargin": true,
           "gridcolor": "white",
           "linecolor": "white",
           "ticks": "",
           "title": {
            "standoff": 15
           },
           "zerolinecolor": "white",
           "zerolinewidth": 2
          }
         }
        },
        "width": 600,
        "xaxis": {
         "anchor": "y",
         "domain": [
          0,
          1
         ],
         "title": {
          "text": "PC 1 (58.2%)"
         }
        },
        "yaxis": {
         "anchor": "x",
         "domain": [
          0,
          1
         ],
         "title": {
          "text": "PC 2 (22.1%)"
         }
        }
       }
      },
      "text/html": [
       "<div>                            <div id=\"6930170c-5698-4ad5-b986-f1df44d5fc6a\" class=\"plotly-graph-div\" style=\"height:600px; width:600px;\"></div>            <script type=\"text/javascript\">                require([\"plotly\"], function(Plotly) {                    window.PLOTLYENV=window.PLOTLYENV || {};                                    if (document.getElementById(\"6930170c-5698-4ad5-b986-f1df44d5fc6a\")) {                    Plotly.newPlot(                        \"6930170c-5698-4ad5-b986-f1df44d5fc6a\",                        [{\"hovertemplate\":\"color=00<br>symbol=WT<br>0=%{x}<br>1=%{y}<extra></extra>\",\"legendgroup\":\"00, WT\",\"marker\":{\"color\":\"#636efa\",\"symbol\":\"circle\",\"size\":13},\"mode\":\"markers\",\"name\":\"00, WT\",\"orientation\":\"v\",\"showlegend\":true,\"x\":[41.95815468322594,38.952881037453324,42.612908675825594,42.1396453840032,-10.073810797190736,-8.140176339122503,-9.795271870556165,-9.360334234738339,-34.75511888269827,-32.692305754779106,-34.22467988050691,-34.36399889804215],\"xaxis\":\"x\",\"y\":[-8.859106787174735,-7.996563497585893,-8.403153149926508,-9.3315641828233,27.421278367165957,26.13193533200982,27.775236381787206,27.111211358578863,-18.878310739745892,-17.667680039918334,-19.03601913579405,-18.63759595610006],\"yaxis\":\"y\",\"type\":\"scatter\"},{\"hovertemplate\":\"color=02<br>symbol=WT<br>0=%{x}<br>1=%{y}<extra></extra>\",\"legendgroup\":\"02, WT\",\"marker\":{\"color\":\"#EF553B\",\"symbol\":\"circle\",\"size\":13},\"mode\":\"markers\",\"name\":\"02, WT\",\"orientation\":\"v\",\"showlegend\":true,\"x\":[42.69561249305904,44.23403571388013,42.60730324336298,43.31374915350066,-10.289667378464472,-9.200476504165088,-9.999847361576842,-9.505367678338889,-35.10113019197688,-34.10961079580643,-34.208527512981526,-33.796063340040305],\"xaxis\":\"x\",\"y\":[-8.984120889343473,-10.046982275525657,-8.901419109392664,-9.223386351379224,26.870698391308284,27.1249001366536,28.12253917062518,27.469912621784175,-19.016872742007216,-19.252239030911838,-19.062348705537815,-19.606793028705418],\"yaxis\":\"y\",\"type\":\"scatter\"},{\"hovertemplate\":\"color=04<br>symbol=WT<br>0=%{x}<br>1=%{y}<extra></extra>\",\"legendgroup\":\"04, WT\",\"marker\":{\"color\":\"#00cc96\",\"symbol\":\"circle\",\"size\":13},\"mode\":\"markers\",\"name\":\"04, WT\",\"orientation\":\"v\",\"showlegend\":true,\"x\":[43.53385574472975,42.87830951489934,42.619944539279636,42.798871892881614,-10.411899357071794,-10.162782292351908,-8.564994615427507,-10.02874807671266,-34.469592370498084,-32.77534324614529,-35.14620591154704,-34.60652129759675],\"xaxis\":\"x\",\"y\":[-9.76302700054063,-9.025861258857764,-9.252769130972686,-9.353531022813335,26.975909562757845,27.757633601941052,27.43756006146746,27.183086478145125,-18.919309149282313,-18.030401900528986,-19.81070909471741,-15.762573435229033],\"yaxis\":\"y\",\"type\":\"scatter\"},{\"hovertemplate\":\"color=06<br>symbol=WT<br>0=%{x}<br>1=%{y}<extra></extra>\",\"legendgroup\":\"06, WT\",\"marker\":{\"color\":\"#ab63fa\",\"symbol\":\"circle\",\"size\":13},\"mode\":\"markers\",\"name\":\"06, WT\",\"orientation\":\"v\",\"showlegend\":true,\"x\":[41.05428110135372,43.367811276020504,43.14205392138401,43.19337413909888,-8.09149264568538,-8.026298723559805,-8.28539706417836,-8.477525867556286,-34.21675617397143,-34.392923328271614,-34.41557134583392,-34.24775931242893],\"xaxis\":\"x\",\"y\":[-7.599179902090227,-8.465092643040803,-8.650153918963856,-8.038015599087318,26.921284801241306,27.243784738225898,27.593568717287184,27.657475765718473,-17.759429881093453,-18.6229949627273,-18.709173505630286,-17.928111376778855],\"yaxis\":\"y\",\"type\":\"scatter\"},{\"hovertemplate\":\"color=08<br>symbol=WT<br>0=%{x}<br>1=%{y}<extra></extra>\",\"legendgroup\":\"08, WT\",\"marker\":{\"color\":\"#FFA15A\",\"symbol\":\"circle\",\"size\":13},\"mode\":\"markers\",\"name\":\"08, WT\",\"orientation\":\"v\",\"showlegend\":true,\"x\":[42.67030818619599,44.193651635928234,42.88896566048509,43.84091881178127,-8.212040601607779,-7.2772023038686156,-7.281540313077987,-7.914479573381769,-33.955090252131775,-34.04383169936614,-33.402404148178974,-32.095247379779146],\"xaxis\":\"x\",\"y\":[-9.119221715926304,-8.433137063901107,-8.660452127668457,-9.23931353587498,27.68052838921433,27.61355405296253,27.774099661143904,26.908713515581795,-18.40058999713835,-19.05467913800325,-18.835074673660362,-15.84461198339965],\"yaxis\":\"y\",\"type\":\"scatter\"},{\"hovertemplate\":\"color=10<br>symbol=WT<br>0=%{x}<br>1=%{y}<extra></extra>\",\"legendgroup\":\"10, WT\",\"marker\":{\"color\":\"#19d3f3\",\"symbol\":\"circle\",\"size\":13},\"mode\":\"markers\",\"name\":\"10, WT\",\"orientation\":\"v\",\"showlegend\":true,\"x\":[44.31021587970088,42.749227729541474,43.1944702298505,42.24779737298543,-8.249601671436627,-7.8335751703474,-7.933289016190132,-8.401274332347313,-33.72547034528116,-33.61144767006646,-33.7671796265794,-33.46403515257891],\"xaxis\":\"x\",\"y\":[-9.247296783828947,-8.79016204307715,-8.802476660405551,-9.860328226717217,28.16129618495065,26.9078085138973,27.08570914753487,25.9417110479659,-19.0152160864876,-16.246402780377984,-18.569155602815243,-18.77945635693882],\"yaxis\":\"y\",\"type\":\"scatter\"},{\"hovertemplate\":\"color=12<br>symbol=WT<br>0=%{x}<br>1=%{y}<extra></extra>\",\"legendgroup\":\"12, WT\",\"marker\":{\"color\":\"#FF6692\",\"symbol\":\"circle\",\"size\":13},\"mode\":\"markers\",\"name\":\"12, WT\",\"orientation\":\"v\",\"showlegend\":true,\"x\":[42.220435326935956,42.898287171231964,43.61709335961462,43.057884150174544,-9.553471584826484,-8.316752177688182,-7.79164431855448,-9.907381919737762,-34.45836907343363,-32.49232732576393,-32.666333451885656,-35.152602590841276],\"xaxis\":\"x\",\"y\":[-7.550345254960055,-9.606369665773896,-10.468118570007947,-10.1012642237085,28.281770144715267,26.2793992313993,26.452549978937764,26.36316615793471,-18.783896377746995,-16.632055589634685,-17.704397870369785,-19.81285641856623],\"yaxis\":\"y\",\"type\":\"scatter\"},{\"hovertemplate\":\"color=14<br>symbol=WT<br>0=%{x}<br>1=%{y}<extra></extra>\",\"legendgroup\":\"14, WT\",\"marker\":{\"color\":\"#B6E880\",\"symbol\":\"circle\",\"size\":13},\"mode\":\"markers\",\"name\":\"14, WT\",\"orientation\":\"v\",\"showlegend\":true,\"x\":[43.689758326847794,42.87344266039423,44.35074015991577,43.40361542667496,-8.767101718016907,-9.741833129943062,-6.757167912635895,-9.662084128274618,-33.57142717848775,-32.86192601845639,-32.56035587299798,-34.66585804395121],\"xaxis\":\"x\",\"y\":[-8.062520806254291,-8.63361452288713,-8.620390911037076,-8.65863586545663,28.278491500066526,27.035588660098366,26.99291178153616,27.04102146017791,-18.7929134772564,-17.806188319259284,-18.086504983842183,-19.890700142104638],\"yaxis\":\"y\",\"type\":\"scatter\"},{\"hovertemplate\":\"color=16<br>symbol=WT<br>0=%{x}<br>1=%{y}<extra></extra>\",\"legendgroup\":\"16, WT\",\"marker\":{\"color\":\"#FF97FF\",\"symbol\":\"circle\",\"size\":13},\"mode\":\"markers\",\"name\":\"16, WT\",\"orientation\":\"v\",\"showlegend\":true,\"x\":[42.25300457536902,44.05243998694494,43.32824025476351,42.5693828990577,-7.500341230806909,-9.750958803004655,-10.845283916882074,-10.429348815880997,-31.666015815522826,-35.67940535703577,-35.9215987744308,-33.87347923885695],\"xaxis\":\"x\",\"y\":[-8.958354426816536,-8.374471247699555,-9.002253939998157,-10.306148823698683,26.63704007330768,27.45971583536309,27.047974558776968,27.4755675256556,-17.245721293648355,-19.947144742115118,-19.376633202164573,-18.60321647983764],\"yaxis\":\"y\",\"type\":\"scatter\"},{\"hovertemplate\":\"color=18<br>symbol=WT<br>0=%{x}<br>1=%{y}<extra></extra>\",\"legendgroup\":\"18, WT\",\"marker\":{\"color\":\"#FECB52\",\"symbol\":\"circle\",\"size\":13},\"mode\":\"markers\",\"name\":\"18, WT\",\"orientation\":\"v\",\"showlegend\":true,\"x\":[43.295524195344406,43.618570206734944,42.92822620104697,43.08948317778133,-8.459597148026447,-9.024025987313266,-8.490463905473952,-9.511570772933922,-32.97933533780787,-34.442768041534435,-33.53698646361505,-34.16639572075409],\"xaxis\":\"x\",\"y\":[-9.700616044129832,-8.984049432176594,-7.619870219711623,-10.266053276062772,27.364448501646304,27.802938538093226,27.740558922476975,27.045242970692286,-17.390683658771525,-18.568918312123476,-17.48449721208367,-19.25333646667497],\"yaxis\":\"y\",\"type\":\"scatter\"},{\"hovertemplate\":\"color=20<br>symbol=WT<br>0=%{x}<br>1=%{y}<extra></extra>\",\"legendgroup\":\"20, WT\",\"marker\":{\"color\":\"#636efa\",\"symbol\":\"circle\",\"size\":13},\"mode\":\"markers\",\"name\":\"20, WT\",\"orientation\":\"v\",\"showlegend\":true,\"x\":[42.24763284246017,41.90801360037269,41.06164233834667,42.5395558244278,-8.998951992259752,-8.388674278741805,-8.844034940635334,-9.30833617885481,-35.29588705370135,-34.130358470767256,-33.43414091518138,-34.17092330959075],\"xaxis\":\"x\",\"y\":[-5.856629719485483,-6.6290584704878155,-10.475821200521583,-9.992435983765846,27.886781157466366,27.937094275132385,26.865232753732023,26.875800116560747,-18.8581617809241,-18.243303322437836,-17.950890045398868,-16.144848497537442],\"yaxis\":\"y\",\"type\":\"scatter\"},{\"hovertemplate\":\"color=22<br>symbol=WT<br>0=%{x}<br>1=%{y}<extra></extra>\",\"legendgroup\":\"22, WT\",\"marker\":{\"color\":\"#EF553B\",\"symbol\":\"circle\",\"size\":13},\"mode\":\"markers\",\"name\":\"22, WT\",\"orientation\":\"v\",\"showlegend\":true,\"x\":[42.04844308910566,42.43583192852599,42.04984794361879,43.868113362666264,-9.860677391738566,-7.849692107500867,-8.954953339177884,-9.063448284808198,-34.226798653684014,-33.381361451802235,-34.02047393386079,-34.366724645062526],\"xaxis\":\"x\",\"y\":[-8.868429293037527,-7.682175924489923,-9.003187333508736,-9.85728179274388,28.609434980947185,27.65642167496493,27.107971310962995,26.81023126648476,-17.971795537080766,-18.139574143075816,-20.13290325270084,-18.327487122855747],\"yaxis\":\"y\",\"type\":\"scatter\"}],                        {\"template\":{\"data\":{\"histogram2dcontour\":[{\"type\":\"histogram2dcontour\",\"colorbar\":{\"outlinewidth\":0,\"ticks\":\"\"},\"colorscale\":[[0.0,\"#0d0887\"],[0.1111111111111111,\"#46039f\"],[0.2222222222222222,\"#7201a8\"],[0.3333333333333333,\"#9c179e\"],[0.4444444444444444,\"#bd3786\"],[0.5555555555555556,\"#d8576b\"],[0.6666666666666666,\"#ed7953\"],[0.7777777777777778,\"#fb9f3a\"],[0.8888888888888888,\"#fdca26\"],[1.0,\"#f0f921\"]]}],\"choropleth\":[{\"type\":\"choropleth\",\"colorbar\":{\"outlinewidth\":0,\"ticks\":\"\"}}],\"histogram2d\":[{\"type\":\"histogram2d\",\"colorbar\":{\"outlinewidth\":0,\"ticks\":\"\"},\"colorscale\":[[0.0,\"#0d0887\"],[0.1111111111111111,\"#46039f\"],[0.2222222222222222,\"#7201a8\"],[0.3333333333333333,\"#9c179e\"],[0.4444444444444444,\"#bd3786\"],[0.5555555555555556,\"#d8576b\"],[0.6666666666666666,\"#ed7953\"],[0.7777777777777778,\"#fb9f3a\"],[0.8888888888888888,\"#fdca26\"],[1.0,\"#f0f921\"]]}],\"heatmap\":[{\"type\":\"heatmap\",\"colorbar\":{\"outlinewidth\":0,\"ticks\":\"\"},\"colorscale\":[[0.0,\"#0d0887\"],[0.1111111111111111,\"#46039f\"],[0.2222222222222222,\"#7201a8\"],[0.3333333333333333,\"#9c179e\"],[0.4444444444444444,\"#bd3786\"],[0.5555555555555556,\"#d8576b\"],[0.6666666666666666,\"#ed7953\"],[0.7777777777777778,\"#fb9f3a\"],[0.8888888888888888,\"#fdca26\"],[1.0,\"#f0f921\"]]}],\"heatmapgl\":[{\"type\":\"heatmapgl\",\"colorbar\":{\"outlinewidth\":0,\"ticks\":\"\"},\"colorscale\":[[0.0,\"#0d0887\"],[0.1111111111111111,\"#46039f\"],[0.2222222222222222,\"#7201a8\"],[0.3333333333333333,\"#9c179e\"],[0.4444444444444444,\"#bd3786\"],[0.5555555555555556,\"#d8576b\"],[0.6666666666666666,\"#ed7953\"],[0.7777777777777778,\"#fb9f3a\"],[0.8888888888888888,\"#fdca26\"],[1.0,\"#f0f921\"]]}],\"contourcarpet\":[{\"type\":\"contourcarpet\",\"colorbar\":{\"outlinewidth\":0,\"ticks\":\"\"}}],\"contour\":[{\"type\":\"contour\",\"colorbar\":{\"outlinewidth\":0,\"ticks\":\"\"},\"colorscale\":[[0.0,\"#0d0887\"],[0.1111111111111111,\"#46039f\"],[0.2222222222222222,\"#7201a8\"],[0.3333333333333333,\"#9c179e\"],[0.4444444444444444,\"#bd3786\"],[0.5555555555555556,\"#d8576b\"],[0.6666666666666666,\"#ed7953\"],[0.7777777777777778,\"#fb9f3a\"],[0.8888888888888888,\"#fdca26\"],[1.0,\"#f0f921\"]]}],\"surface\":[{\"type\":\"surface\",\"colorbar\":{\"outlinewidth\":0,\"ticks\":\"\"},\"colorscale\":[[0.0,\"#0d0887\"],[0.1111111111111111,\"#46039f\"],[0.2222222222222222,\"#7201a8\"],[0.3333333333333333,\"#9c179e\"],[0.4444444444444444,\"#bd3786\"],[0.5555555555555556,\"#d8576b\"],[0.6666666666666666,\"#ed7953\"],[0.7777777777777778,\"#fb9f3a\"],[0.8888888888888888,\"#fdca26\"],[1.0,\"#f0f921\"]]}],\"mesh3d\":[{\"type\":\"mesh3d\",\"colorbar\":{\"outlinewidth\":0,\"ticks\":\"\"}}],\"scatter\":[{\"fillpattern\":{\"fillmode\":\"overlay\",\"size\":10,\"solidity\":0.2},\"type\":\"scatter\"}],\"parcoords\":[{\"type\":\"parcoords\",\"line\":{\"colorbar\":{\"outlinewidth\":0,\"ticks\":\"\"}}}],\"scatterpolargl\":[{\"type\":\"scatterpolargl\",\"marker\":{\"colorbar\":{\"outlinewidth\":0,\"ticks\":\"\"}}}],\"bar\":[{\"error_x\":{\"color\":\"#2a3f5f\"},\"error_y\":{\"color\":\"#2a3f5f\"},\"marker\":{\"line\":{\"color\":\"#E5ECF6\",\"width\":0.5},\"pattern\":{\"fillmode\":\"overlay\",\"size\":10,\"solidity\":0.2}},\"type\":\"bar\"}],\"scattergeo\":[{\"type\":\"scattergeo\",\"marker\":{\"colorbar\":{\"outlinewidth\":0,\"ticks\":\"\"}}}],\"scatterpolar\":[{\"type\":\"scatterpolar\",\"marker\":{\"colorbar\":{\"outlinewidth\":0,\"ticks\":\"\"}}}],\"histogram\":[{\"marker\":{\"pattern\":{\"fillmode\":\"overlay\",\"size\":10,\"solidity\":0.2}},\"type\":\"histogram\"}],\"scattergl\":[{\"type\":\"scattergl\",\"marker\":{\"colorbar\":{\"outlinewidth\":0,\"ticks\":\"\"}}}],\"scatter3d\":[{\"type\":\"scatter3d\",\"line\":{\"colorbar\":{\"outlinewidth\":0,\"ticks\":\"\"}},\"marker\":{\"colorbar\":{\"outlinewidth\":0,\"ticks\":\"\"}}}],\"scattermapbox\":[{\"type\":\"scattermapbox\",\"marker\":{\"colorbar\":{\"outlinewidth\":0,\"ticks\":\"\"}}}],\"scatterternary\":[{\"type\":\"scatterternary\",\"marker\":{\"colorbar\":{\"outlinewidth\":0,\"ticks\":\"\"}}}],\"scattercarpet\":[{\"type\":\"scattercarpet\",\"marker\":{\"colorbar\":{\"outlinewidth\":0,\"ticks\":\"\"}}}],\"carpet\":[{\"aaxis\":{\"endlinecolor\":\"#2a3f5f\",\"gridcolor\":\"white\",\"linecolor\":\"white\",\"minorgridcolor\":\"white\",\"startlinecolor\":\"#2a3f5f\"},\"baxis\":{\"endlinecolor\":\"#2a3f5f\",\"gridcolor\":\"white\",\"linecolor\":\"white\",\"minorgridcolor\":\"white\",\"startlinecolor\":\"#2a3f5f\"},\"type\":\"carpet\"}],\"table\":[{\"cells\":{\"fill\":{\"color\":\"#EBF0F8\"},\"line\":{\"color\":\"white\"}},\"header\":{\"fill\":{\"color\":\"#C8D4E3\"},\"line\":{\"color\":\"white\"}},\"type\":\"table\"}],\"barpolar\":[{\"marker\":{\"line\":{\"color\":\"#E5ECF6\",\"width\":0.5},\"pattern\":{\"fillmode\":\"overlay\",\"size\":10,\"solidity\":0.2}},\"type\":\"barpolar\"}],\"pie\":[{\"automargin\":true,\"type\":\"pie\"}]},\"layout\":{\"autotypenumbers\":\"strict\",\"colorway\":[\"#636efa\",\"#EF553B\",\"#00cc96\",\"#ab63fa\",\"#FFA15A\",\"#19d3f3\",\"#FF6692\",\"#B6E880\",\"#FF97FF\",\"#FECB52\"],\"font\":{\"color\":\"#2a3f5f\"},\"hovermode\":\"closest\",\"hoverlabel\":{\"align\":\"left\"},\"paper_bgcolor\":\"white\",\"plot_bgcolor\":\"#E5ECF6\",\"polar\":{\"bgcolor\":\"#E5ECF6\",\"angularaxis\":{\"gridcolor\":\"white\",\"linecolor\":\"white\",\"ticks\":\"\"},\"radialaxis\":{\"gridcolor\":\"white\",\"linecolor\":\"white\",\"ticks\":\"\"}},\"ternary\":{\"bgcolor\":\"#E5ECF6\",\"aaxis\":{\"gridcolor\":\"white\",\"linecolor\":\"white\",\"ticks\":\"\"},\"baxis\":{\"gridcolor\":\"white\",\"linecolor\":\"white\",\"ticks\":\"\"},\"caxis\":{\"gridcolor\":\"white\",\"linecolor\":\"white\",\"ticks\":\"\"}},\"coloraxis\":{\"colorbar\":{\"outlinewidth\":0,\"ticks\":\"\"}},\"colorscale\":{\"sequential\":[[0.0,\"#0d0887\"],[0.1111111111111111,\"#46039f\"],[0.2222222222222222,\"#7201a8\"],[0.3333333333333333,\"#9c179e\"],[0.4444444444444444,\"#bd3786\"],[0.5555555555555556,\"#d8576b\"],[0.6666666666666666,\"#ed7953\"],[0.7777777777777778,\"#fb9f3a\"],[0.8888888888888888,\"#fdca26\"],[1.0,\"#f0f921\"]],\"sequentialminus\":[[0.0,\"#0d0887\"],[0.1111111111111111,\"#46039f\"],[0.2222222222222222,\"#7201a8\"],[0.3333333333333333,\"#9c179e\"],[0.4444444444444444,\"#bd3786\"],[0.5555555555555556,\"#d8576b\"],[0.6666666666666666,\"#ed7953\"],[0.7777777777777778,\"#fb9f3a\"],[0.8888888888888888,\"#fdca26\"],[1.0,\"#f0f921\"]],\"diverging\":[[0,\"#8e0152\"],[0.1,\"#c51b7d\"],[0.2,\"#de77ae\"],[0.3,\"#f1b6da\"],[0.4,\"#fde0ef\"],[0.5,\"#f7f7f7\"],[0.6,\"#e6f5d0\"],[0.7,\"#b8e186\"],[0.8,\"#7fbc41\"],[0.9,\"#4d9221\"],[1,\"#276419\"]]},\"xaxis\":{\"gridcolor\":\"white\",\"linecolor\":\"white\",\"ticks\":\"\",\"title\":{\"standoff\":15},\"zerolinecolor\":\"white\",\"automargin\":true,\"zerolinewidth\":2},\"yaxis\":{\"gridcolor\":\"white\",\"linecolor\":\"white\",\"ticks\":\"\",\"title\":{\"standoff\":15},\"zerolinecolor\":\"white\",\"automargin\":true,\"zerolinewidth\":2},\"scene\":{\"xaxis\":{\"backgroundcolor\":\"#E5ECF6\",\"gridcolor\":\"white\",\"linecolor\":\"white\",\"showbackground\":true,\"ticks\":\"\",\"zerolinecolor\":\"white\",\"gridwidth\":2},\"yaxis\":{\"backgroundcolor\":\"#E5ECF6\",\"gridcolor\":\"white\",\"linecolor\":\"white\",\"showbackground\":true,\"ticks\":\"\",\"zerolinecolor\":\"white\",\"gridwidth\":2},\"zaxis\":{\"backgroundcolor\":\"#E5ECF6\",\"gridcolor\":\"white\",\"linecolor\":\"white\",\"showbackground\":true,\"ticks\":\"\",\"zerolinecolor\":\"white\",\"gridwidth\":2}},\"shapedefaults\":{\"line\":{\"color\":\"#2a3f5f\"}},\"annotationdefaults\":{\"arrowcolor\":\"#2a3f5f\",\"arrowhead\":0,\"arrowwidth\":1},\"geo\":{\"bgcolor\":\"white\",\"landcolor\":\"#E5ECF6\",\"subunitcolor\":\"white\",\"showland\":true,\"showlakes\":true,\"lakecolor\":\"white\"},\"title\":{\"x\":0.05},\"mapbox\":{\"style\":\"light\"}}},\"xaxis\":{\"anchor\":\"y\",\"domain\":[0.0,1.0],\"title\":{\"text\":\"PC 1 (58.2%)\"}},\"yaxis\":{\"anchor\":\"x\",\"domain\":[0.0,1.0],\"title\":{\"text\":\"PC 2 (22.1%)\"}},\"legend\":{\"title\":{\"text\":\"color, symbol\"},\"tracegroupgap\":0},\"margin\":{\"t\":60},\"height\":600,\"width\":600,\"plot_bgcolor\":\"rgb(243,243,243)\"},                        {\"responsive\": true}                    ).then(function(){\n",
       "                            \n",
       "var gd = document.getElementById('6930170c-5698-4ad5-b986-f1df44d5fc6a');\n",
       "var x = new MutationObserver(function (mutations, observer) {{\n",
       "        var display = window.getComputedStyle(gd).display;\n",
       "        if (!display || display === 'none') {{\n",
       "            console.log([gd, 'removed!']);\n",
       "            Plotly.purge(gd);\n",
       "            observer.disconnect();\n",
       "        }}\n",
       "}});\n",
       "\n",
       "// Listen for the removal of the full notebook cells\n",
       "var notebookContainer = gd.closest('#notebook-container');\n",
       "if (notebookContainer) {{\n",
       "    x.observe(notebookContainer, {childList: true});\n",
       "}}\n",
       "\n",
       "// Listen for the clearing of the current output cell\n",
       "var outputEl = gd.closest('.output');\n",
       "if (outputEl) {{\n",
       "    x.observe(outputEl, {childList: true});\n",
       "}}\n",
       "\n",
       "                        })                };                });            </script>        </div>"
      ]
     },
     "metadata": {},
     "output_type": "display_data"
    }
   ],
   "source": [
    "mouse = gp.get_library_name(organism='Mouse')\n",
    "print(mouse[0:20])\n",
    "+pca = run_PCA(all_dat, x_1=1, x_2=2, col='time', shape='condition', scale_d=True, log=False);"
   ]
  },
  {
   "cell_type": "code",
   "execution_count": 56,
   "id": "accde166",
   "metadata": {},
   "outputs": [
    {
     "data": {
      "text/html": [
       "<div>\n",
       "<style scoped>\n",
       "    .dataframe tbody tr th:only-of-type {\n",
       "        vertical-align: middle;\n",
       "    }\n",
       "\n",
       "    .dataframe tbody tr th {\n",
       "        vertical-align: top;\n",
       "    }\n",
       "\n",
       "    .dataframe thead th {\n",
       "        text-align: right;\n",
       "    }\n",
       "</style>\n",
       "<table border=\"1\" class=\"dataframe\">\n",
       "  <thead>\n",
       "    <tr style=\"text-align: right;\">\n",
       "      <th></th>\n",
       "      <th>Gene_set</th>\n",
       "      <th>Term</th>\n",
       "      <th>Overlap</th>\n",
       "      <th>P-value</th>\n",
       "      <th>Adjusted P-value</th>\n",
       "      <th>Old P-value</th>\n",
       "      <th>Old Adjusted P-value</th>\n",
       "      <th>Odds Ratio</th>\n",
       "      <th>Combined Score</th>\n",
       "      <th>Genes</th>\n",
       "    </tr>\n",
       "  </thead>\n",
       "  <tbody>\n",
       "    <tr>\n",
       "      <th>0</th>\n",
       "      <td>GO_Biological_Process_2021</td>\n",
       "      <td>positive regulation of lipoprotein lipase acti...</td>\n",
       "      <td>3/8</td>\n",
       "      <td>0.000053</td>\n",
       "      <td>0.021906</td>\n",
       "      <td>0</td>\n",
       "      <td>0</td>\n",
       "      <td>60.289340</td>\n",
       "      <td>593.377623</td>\n",
       "      <td>APOH;APOA1;APOA5</td>\n",
       "    </tr>\n",
       "    <tr>\n",
       "      <th>1</th>\n",
       "      <td>GO_Biological_Process_2021</td>\n",
       "      <td>glutathione derivative biosynthetic process (G...</td>\n",
       "      <td>4/22</td>\n",
       "      <td>0.000062</td>\n",
       "      <td>0.021906</td>\n",
       "      <td>0</td>\n",
       "      <td>0</td>\n",
       "      <td>22.428571</td>\n",
       "      <td>217.428717</td>\n",
       "      <td>GSTM3;GSTA4;GSTA2;GSTA1</td>\n",
       "    </tr>\n",
       "    <tr>\n",
       "      <th>2</th>\n",
       "      <td>GO_Biological_Process_2021</td>\n",
       "      <td>glutathione derivative metabolic process (GO:1...</td>\n",
       "      <td>4/22</td>\n",
       "      <td>0.000062</td>\n",
       "      <td>0.021906</td>\n",
       "      <td>0</td>\n",
       "      <td>0</td>\n",
       "      <td>22.428571</td>\n",
       "      <td>217.428717</td>\n",
       "      <td>GSTM3;GSTA4;GSTA2;GSTA1</td>\n",
       "    </tr>\n",
       "    <tr>\n",
       "      <th>3</th>\n",
       "      <td>GO_Biological_Process_2021</td>\n",
       "      <td>positive regulation of triglyceride lipase act...</td>\n",
       "      <td>3/9</td>\n",
       "      <td>0.000079</td>\n",
       "      <td>0.021906</td>\n",
       "      <td>0</td>\n",
       "      <td>0</td>\n",
       "      <td>50.238579</td>\n",
       "      <td>474.457917</td>\n",
       "      <td>APOH;APOA1;APOA5</td>\n",
       "    </tr>\n",
       "    <tr>\n",
       "      <th>4</th>\n",
       "      <td>GO_Biological_Process_2021</td>\n",
       "      <td>glutathione metabolic process (GO:0006749)</td>\n",
       "      <td>4/43</td>\n",
       "      <td>0.000883</td>\n",
       "      <td>0.154263</td>\n",
       "      <td>0</td>\n",
       "      <td>0</td>\n",
       "      <td>10.340659</td>\n",
       "      <td>72.721841</td>\n",
       "      <td>GSTM3;GSTA4;GSTA2;GSTA1</td>\n",
       "    </tr>\n",
       "    <tr>\n",
       "      <th>5</th>\n",
       "      <td>GO_Biological_Process_2021</td>\n",
       "      <td>regulation of intestinal lipid absorption (GO:...</td>\n",
       "      <td>2/5</td>\n",
       "      <td>0.000975</td>\n",
       "      <td>0.154263</td>\n",
       "      <td>0</td>\n",
       "      <td>0</td>\n",
       "      <td>66.656566</td>\n",
       "      <td>462.102841</td>\n",
       "      <td>APOA1;APOA5</td>\n",
       "    </tr>\n",
       "    <tr>\n",
       "      <th>6</th>\n",
       "      <td>GO_Biological_Process_2021</td>\n",
       "      <td>positive regulation of endothelial cell chemot...</td>\n",
       "      <td>2/5</td>\n",
       "      <td>0.000975</td>\n",
       "      <td>0.154263</td>\n",
       "      <td>0</td>\n",
       "      <td>0</td>\n",
       "      <td>66.656566</td>\n",
       "      <td>462.102841</td>\n",
       "      <td>HSPB1;VEGFA</td>\n",
       "    </tr>\n",
       "    <tr>\n",
       "      <th>7</th>\n",
       "      <td>GO_Biological_Process_2021</td>\n",
       "      <td>regulation of lipoprotein lipase activity (GO:...</td>\n",
       "      <td>3/21</td>\n",
       "      <td>0.001147</td>\n",
       "      <td>0.158737</td>\n",
       "      <td>0</td>\n",
       "      <td>0</td>\n",
       "      <td>16.736041</td>\n",
       "      <td>113.310961</td>\n",
       "      <td>APOH;APOA1;APOA5</td>\n",
       "    </tr>\n",
       "    <tr>\n",
       "      <th>8</th>\n",
       "      <td>GO_Biological_Process_2021</td>\n",
       "      <td>regulation of very-low-density lipoprotein par...</td>\n",
       "      <td>2/6</td>\n",
       "      <td>0.001454</td>\n",
       "      <td>0.178789</td>\n",
       "      <td>0</td>\n",
       "      <td>0</td>\n",
       "      <td>49.989899</td>\n",
       "      <td>326.620610</td>\n",
       "      <td>APOA1;APOA5</td>\n",
       "    </tr>\n",
       "    <tr>\n",
       "      <th>9</th>\n",
       "      <td>GO_Biological_Process_2021</td>\n",
       "      <td>regulation of epidermal cell differentiation (...</td>\n",
       "      <td>3/25</td>\n",
       "      <td>0.001926</td>\n",
       "      <td>0.213245</td>\n",
       "      <td>0</td>\n",
       "      <td>0</td>\n",
       "      <td>13.690355</td>\n",
       "      <td>85.593977</td>\n",
       "      <td>ERRFI1;ZFP36;MAFG</td>\n",
       "    </tr>\n",
       "  </tbody>\n",
       "</table>\n",
       "</div>"
      ],
      "text/plain": [
       "                     Gene_set  \\\n",
       "0  GO_Biological_Process_2021   \n",
       "1  GO_Biological_Process_2021   \n",
       "2  GO_Biological_Process_2021   \n",
       "3  GO_Biological_Process_2021   \n",
       "4  GO_Biological_Process_2021   \n",
       "5  GO_Biological_Process_2021   \n",
       "6  GO_Biological_Process_2021   \n",
       "7  GO_Biological_Process_2021   \n",
       "8  GO_Biological_Process_2021   \n",
       "9  GO_Biological_Process_2021   \n",
       "\n",
       "                                                Term Overlap   P-value  \\\n",
       "0  positive regulation of lipoprotein lipase acti...     3/8  0.000053   \n",
       "1  glutathione derivative biosynthetic process (G...    4/22  0.000062   \n",
       "2  glutathione derivative metabolic process (GO:1...    4/22  0.000062   \n",
       "3  positive regulation of triglyceride lipase act...     3/9  0.000079   \n",
       "4         glutathione metabolic process (GO:0006749)    4/43  0.000883   \n",
       "5  regulation of intestinal lipid absorption (GO:...     2/5  0.000975   \n",
       "6  positive regulation of endothelial cell chemot...     2/5  0.000975   \n",
       "7  regulation of lipoprotein lipase activity (GO:...    3/21  0.001147   \n",
       "8  regulation of very-low-density lipoprotein par...     2/6  0.001454   \n",
       "9  regulation of epidermal cell differentiation (...    3/25  0.001926   \n",
       "\n",
       "   Adjusted P-value  Old P-value  Old Adjusted P-value  Odds Ratio  \\\n",
       "0          0.021906            0                     0   60.289340   \n",
       "1          0.021906            0                     0   22.428571   \n",
       "2          0.021906            0                     0   22.428571   \n",
       "3          0.021906            0                     0   50.238579   \n",
       "4          0.154263            0                     0   10.340659   \n",
       "5          0.154263            0                     0   66.656566   \n",
       "6          0.154263            0                     0   66.656566   \n",
       "7          0.158737            0                     0   16.736041   \n",
       "8          0.178789            0                     0   49.989899   \n",
       "9          0.213245            0                     0   13.690355   \n",
       "\n",
       "   Combined Score                    Genes  \n",
       "0      593.377623         APOH;APOA1;APOA5  \n",
       "1      217.428717  GSTM3;GSTA4;GSTA2;GSTA1  \n",
       "2      217.428717  GSTM3;GSTA4;GSTA2;GSTA1  \n",
       "3      474.457917         APOH;APOA1;APOA5  \n",
       "4       72.721841  GSTM3;GSTA4;GSTA2;GSTA1  \n",
       "5      462.102841              APOA1;APOA5  \n",
       "6      462.102841              HSPB1;VEGFA  \n",
       "7      113.310961         APOH;APOA1;APOA5  \n",
       "8      326.620610              APOA1;APOA5  \n",
       "9       85.593977        ERRFI1;ZFP36;MAFG  "
      ]
     },
     "metadata": {},
     "output_type": "display_data"
    },
    {
     "data": {
      "text/html": [
       "<div>\n",
       "<style scoped>\n",
       "    .dataframe tbody tr th:only-of-type {\n",
       "        vertical-align: middle;\n",
       "    }\n",
       "\n",
       "    .dataframe tbody tr th {\n",
       "        vertical-align: top;\n",
       "    }\n",
       "\n",
       "    .dataframe thead th {\n",
       "        text-align: right;\n",
       "    }\n",
       "</style>\n",
       "<table border=\"1\" class=\"dataframe\">\n",
       "  <thead>\n",
       "    <tr style=\"text-align: right;\">\n",
       "      <th></th>\n",
       "      <th>Gene_set</th>\n",
       "      <th>Term</th>\n",
       "      <th>Overlap</th>\n",
       "      <th>P-value</th>\n",
       "      <th>Adjusted P-value</th>\n",
       "      <th>Old P-value</th>\n",
       "      <th>Old Adjusted P-value</th>\n",
       "      <th>Odds Ratio</th>\n",
       "      <th>Combined Score</th>\n",
       "      <th>Genes</th>\n",
       "    </tr>\n",
       "  </thead>\n",
       "  <tbody>\n",
       "    <tr>\n",
       "      <th>0</th>\n",
       "      <td>WikiPathways_2019_Mouse</td>\n",
       "      <td>Iron Homeostasis WP1596</td>\n",
       "      <td>3/15</td>\n",
       "      <td>0.000410</td>\n",
       "      <td>0.026251</td>\n",
       "      <td>0</td>\n",
       "      <td>0</td>\n",
       "      <td>25.111675</td>\n",
       "      <td>195.844021</td>\n",
       "      <td>FTL1;HAMP2;HFE2</td>\n",
       "    </tr>\n",
       "    <tr>\n",
       "      <th>1</th>\n",
       "      <td>WikiPathways_2019_Mouse</td>\n",
       "      <td>PPAR signaling pathway WP2316</td>\n",
       "      <td>5/81</td>\n",
       "      <td>0.001317</td>\n",
       "      <td>0.042150</td>\n",
       "      <td>0</td>\n",
       "      <td>0</td>\n",
       "      <td>6.654521</td>\n",
       "      <td>44.134531</td>\n",
       "      <td>SCD4;SCD2;SCD3;APOA1;APOA5</td>\n",
       "    </tr>\n",
       "    <tr>\n",
       "      <th>2</th>\n",
       "      <td>WikiPathways_2019_Mouse</td>\n",
       "      <td>Estrogen metabolism WP1264</td>\n",
       "      <td>2/14</td>\n",
       "      <td>0.008366</td>\n",
       "      <td>0.139104</td>\n",
       "      <td>0</td>\n",
       "      <td>0</td>\n",
       "      <td>16.656566</td>\n",
       "      <td>79.677951</td>\n",
       "      <td>GSTA1;CYP1A1</td>\n",
       "    </tr>\n",
       "    <tr>\n",
       "      <th>3</th>\n",
       "      <td>WikiPathways_2019_Mouse</td>\n",
       "      <td>Eicosanoid metabolism via Cytochrome P450 Mono...</td>\n",
       "      <td>2/16</td>\n",
       "      <td>0.010888</td>\n",
       "      <td>0.139104</td>\n",
       "      <td>0</td>\n",
       "      <td>0</td>\n",
       "      <td>14.275613</td>\n",
       "      <td>64.526557</td>\n",
       "      <td>CYP2C40;CYP2C39</td>\n",
       "    </tr>\n",
       "    <tr>\n",
       "      <th>4</th>\n",
       "      <td>WikiPathways_2019_Mouse</td>\n",
       "      <td>Metapathway biotransformation WP1251</td>\n",
       "      <td>5/141</td>\n",
       "      <td>0.013774</td>\n",
       "      <td>0.139104</td>\n",
       "      <td>0</td>\n",
       "      <td>0</td>\n",
       "      <td>3.707391</td>\n",
       "      <td>15.886167</td>\n",
       "      <td>NNMT;GSTA4;GSTA2;GSTA1;CYP1A1</td>\n",
       "    </tr>\n",
       "    <tr>\n",
       "      <th>5</th>\n",
       "      <td>WikiPathways_2019_Mouse</td>\n",
       "      <td>Id Signaling Pathway WP512</td>\n",
       "      <td>3/51</td>\n",
       "      <td>0.014429</td>\n",
       "      <td>0.139104</td>\n",
       "      <td>0</td>\n",
       "      <td>0</td>\n",
       "      <td>6.266497</td>\n",
       "      <td>26.560831</td>\n",
       "      <td>ELK4;ID3;VEGFA</td>\n",
       "    </tr>\n",
       "    <tr>\n",
       "      <th>6</th>\n",
       "      <td>WikiPathways_2019_Mouse</td>\n",
       "      <td>Nucleotide Metabolism WP87</td>\n",
       "      <td>2/19</td>\n",
       "      <td>0.015214</td>\n",
       "      <td>0.139104</td>\n",
       "      <td>0</td>\n",
       "      <td>0</td>\n",
       "      <td>11.754605</td>\n",
       "      <td>49.199013</td>\n",
       "      <td>HPRT;SAT1</td>\n",
       "    </tr>\n",
       "    <tr>\n",
       "      <th>7</th>\n",
       "      <td>WikiPathways_2019_Mouse</td>\n",
       "      <td>Regulation of Cardiac Hypertrophy by miR-208 W...</td>\n",
       "      <td>1/6</td>\n",
       "      <td>0.058527</td>\n",
       "      <td>0.369063</td>\n",
       "      <td>0</td>\n",
       "      <td>0</td>\n",
       "      <td>19.894472</td>\n",
       "      <td>56.465918</td>\n",
       "      <td>HOPX</td>\n",
       "    </tr>\n",
       "    <tr>\n",
       "      <th>8</th>\n",
       "      <td>WikiPathways_2019_Mouse</td>\n",
       "      <td>Robo4 and VEGF Signaling Pathways Crosstalk WP...</td>\n",
       "      <td>1/6</td>\n",
       "      <td>0.058527</td>\n",
       "      <td>0.369063</td>\n",
       "      <td>0</td>\n",
       "      <td>0</td>\n",
       "      <td>19.894472</td>\n",
       "      <td>56.465918</td>\n",
       "      <td>VEGFA</td>\n",
       "    </tr>\n",
       "    <tr>\n",
       "      <th>9</th>\n",
       "      <td>WikiPathways_2019_Mouse</td>\n",
       "      <td>Fatty Acid Omega Oxidation WP33</td>\n",
       "      <td>1/7</td>\n",
       "      <td>0.067944</td>\n",
       "      <td>0.369063</td>\n",
       "      <td>0</td>\n",
       "      <td>0</td>\n",
       "      <td>16.577889</td>\n",
       "      <td>44.579063</td>\n",
       "      <td>CYP1A1</td>\n",
       "    </tr>\n",
       "  </tbody>\n",
       "</table>\n",
       "</div>"
      ],
      "text/plain": [
       "                  Gene_set                                               Term  \\\n",
       "0  WikiPathways_2019_Mouse                            Iron Homeostasis WP1596   \n",
       "1  WikiPathways_2019_Mouse                      PPAR signaling pathway WP2316   \n",
       "2  WikiPathways_2019_Mouse                         Estrogen metabolism WP1264   \n",
       "3  WikiPathways_2019_Mouse  Eicosanoid metabolism via Cytochrome P450 Mono...   \n",
       "4  WikiPathways_2019_Mouse               Metapathway biotransformation WP1251   \n",
       "5  WikiPathways_2019_Mouse                         Id Signaling Pathway WP512   \n",
       "6  WikiPathways_2019_Mouse                         Nucleotide Metabolism WP87   \n",
       "7  WikiPathways_2019_Mouse  Regulation of Cardiac Hypertrophy by miR-208 W...   \n",
       "8  WikiPathways_2019_Mouse  Robo4 and VEGF Signaling Pathways Crosstalk WP...   \n",
       "9  WikiPathways_2019_Mouse                    Fatty Acid Omega Oxidation WP33   \n",
       "\n",
       "  Overlap   P-value  Adjusted P-value  Old P-value  Old Adjusted P-value  \\\n",
       "0    3/15  0.000410          0.026251            0                     0   \n",
       "1    5/81  0.001317          0.042150            0                     0   \n",
       "2    2/14  0.008366          0.139104            0                     0   \n",
       "3    2/16  0.010888          0.139104            0                     0   \n",
       "4   5/141  0.013774          0.139104            0                     0   \n",
       "5    3/51  0.014429          0.139104            0                     0   \n",
       "6    2/19  0.015214          0.139104            0                     0   \n",
       "7     1/6  0.058527          0.369063            0                     0   \n",
       "8     1/6  0.058527          0.369063            0                     0   \n",
       "9     1/7  0.067944          0.369063            0                     0   \n",
       "\n",
       "   Odds Ratio  Combined Score                          Genes  \n",
       "0   25.111675      195.844021                FTL1;HAMP2;HFE2  \n",
       "1    6.654521       44.134531     SCD4;SCD2;SCD3;APOA1;APOA5  \n",
       "2   16.656566       79.677951                   GSTA1;CYP1A1  \n",
       "3   14.275613       64.526557                CYP2C40;CYP2C39  \n",
       "4    3.707391       15.886167  NNMT;GSTA4;GSTA2;GSTA1;CYP1A1  \n",
       "5    6.266497       26.560831                 ELK4;ID3;VEGFA  \n",
       "6   11.754605       49.199013                      HPRT;SAT1  \n",
       "7   19.894472       56.465918                           HOPX  \n",
       "8   19.894472       56.465918                          VEGFA  \n",
       "9   16.577889       44.579063                         CYP1A1  "
      ]
     },
     "metadata": {},
     "output_type": "display_data"
    },
    {
     "data": {
      "text/html": [
       "<div>\n",
       "<style scoped>\n",
       "    .dataframe tbody tr th:only-of-type {\n",
       "        vertical-align: middle;\n",
       "    }\n",
       "\n",
       "    .dataframe tbody tr th {\n",
       "        vertical-align: top;\n",
       "    }\n",
       "\n",
       "    .dataframe thead th {\n",
       "        text-align: right;\n",
       "    }\n",
       "</style>\n",
       "<table border=\"1\" class=\"dataframe\">\n",
       "  <thead>\n",
       "    <tr style=\"text-align: right;\">\n",
       "      <th></th>\n",
       "      <th>Gene_set</th>\n",
       "      <th>Term</th>\n",
       "      <th>Overlap</th>\n",
       "      <th>P-value</th>\n",
       "      <th>Adjusted P-value</th>\n",
       "      <th>Old P-value</th>\n",
       "      <th>Old Adjusted P-value</th>\n",
       "      <th>Odds Ratio</th>\n",
       "      <th>Combined Score</th>\n",
       "      <th>Genes</th>\n",
       "    </tr>\n",
       "  </thead>\n",
       "  <tbody>\n",
       "    <tr>\n",
       "      <th>0</th>\n",
       "      <td>ChEA_2022</td>\n",
       "      <td>RXR 22158963 ChIP-Seq LIVER Mouse</td>\n",
       "      <td>28/1546</td>\n",
       "      <td>0.001598</td>\n",
       "      <td>0.729604</td>\n",
       "      <td>0</td>\n",
       "      <td>0</td>\n",
       "      <td>1.960566</td>\n",
       "      <td>12.624586</td>\n",
       "      <td>ERRFI1;NNMT;INSIG1;GPT;CXCL1;CHD3;TMEM25;ZFP36...</td>\n",
       "    </tr>\n",
       "    <tr>\n",
       "      <th>1</th>\n",
       "      <td>ChEA_2022</td>\n",
       "      <td>ESR1 17901129 ChIP-ChIP LIVER Mouse</td>\n",
       "      <td>10/354</td>\n",
       "      <td>0.003081</td>\n",
       "      <td>0.729604</td>\n",
       "      <td>0</td>\n",
       "      <td>0</td>\n",
       "      <td>2.976744</td>\n",
       "      <td>17.212801</td>\n",
       "      <td>FNDC4;NNMT;MARVELD1;HYAL3;GSTA1;SAA2;IRF2BP2;C...</td>\n",
       "    </tr>\n",
       "    <tr>\n",
       "      <th>2</th>\n",
       "      <td>ChEA_2022</td>\n",
       "      <td>SRY 22984422 ChIP-ChIP TESTIS Rat</td>\n",
       "      <td>6/142</td>\n",
       "      <td>0.003083</td>\n",
       "      <td>0.729604</td>\n",
       "      <td>0</td>\n",
       "      <td>0</td>\n",
       "      <td>4.471801</td>\n",
       "      <td>25.855534</td>\n",
       "      <td>TMEM25;CCDC17;GSTM3;DPM3;BOLA1;INSL3</td>\n",
       "    </tr>\n",
       "    <tr>\n",
       "      <th>3</th>\n",
       "      <td>ChEA_2022</td>\n",
       "      <td>CLOCK 20551151 ChIP-Seq 293T Human</td>\n",
       "      <td>10/382</td>\n",
       "      <td>0.005245</td>\n",
       "      <td>0.871512</td>\n",
       "      <td>0</td>\n",
       "      <td>0</td>\n",
       "      <td>2.748727</td>\n",
       "      <td>14.431922</td>\n",
       "      <td>PSMA6;TUBA1A;DUSP1;MARVELD1;G0S2;SOX12;EIF1;AT...</td>\n",
       "    </tr>\n",
       "    <tr>\n",
       "      <th>4</th>\n",
       "      <td>ChEA_2022</td>\n",
       "      <td>FOXO1 23066095 ChIP-Seq LIVER Mouse</td>\n",
       "      <td>8/276</td>\n",
       "      <td>0.006747</td>\n",
       "      <td>0.871512</td>\n",
       "      <td>0</td>\n",
       "      <td>0</td>\n",
       "      <td>3.036692</td>\n",
       "      <td>15.179482</td>\n",
       "      <td>MAFG;ID3;IRF2BP2;KLF15;APOA5;CYB5D1;EIF1;GNMT</td>\n",
       "    </tr>\n",
       "    <tr>\n",
       "      <th>5</th>\n",
       "      <td>ChEA_2022</td>\n",
       "      <td>LXR 22158963 ChIP-Seq LIVER Mouse</td>\n",
       "      <td>26/1578</td>\n",
       "      <td>0.008100</td>\n",
       "      <td>0.871512</td>\n",
       "      <td>0</td>\n",
       "      <td>0</td>\n",
       "      <td>1.756902</td>\n",
       "      <td>8.461149</td>\n",
       "      <td>ERRFI1;NNMT;INSIG1;RPL11;GPT;CXCL1;CHD3;ELK4;P...</td>\n",
       "    </tr>\n",
       "    <tr>\n",
       "      <th>6</th>\n",
       "      <td>ChEA_2022</td>\n",
       "      <td>HNF1A 26855178 ChIP-Seq Caco2 Human Colon Aden...</td>\n",
       "      <td>10/411</td>\n",
       "      <td>0.008592</td>\n",
       "      <td>0.871512</td>\n",
       "      <td>0</td>\n",
       "      <td>0</td>\n",
       "      <td>2.546135</td>\n",
       "      <td>12.111659</td>\n",
       "      <td>ERRFI1;GLTPD2;STX16;GLYCTK;APOH;APOA1;TLCD1;CC...</td>\n",
       "    </tr>\n",
       "    <tr>\n",
       "      <th>7</th>\n",
       "      <td>ChEA_2022</td>\n",
       "      <td>RELB 30642670 ChIP-Seq CTB1 Human Placenta Inf...</td>\n",
       "      <td>5/139</td>\n",
       "      <td>0.013015</td>\n",
       "      <td>0.999995</td>\n",
       "      <td>0</td>\n",
       "      <td>0</td>\n",
       "      <td>3.763108</td>\n",
       "      <td>16.338063</td>\n",
       "      <td>DUSP1;INSIG1;G0S2;CXCL1;VEGFA</td>\n",
       "    </tr>\n",
       "    <tr>\n",
       "      <th>8</th>\n",
       "      <td>ChEA_2022</td>\n",
       "      <td>NANOG 18700969 ChIP-ChIP MESCs Mouse</td>\n",
       "      <td>6/196</td>\n",
       "      <td>0.014154</td>\n",
       "      <td>0.999995</td>\n",
       "      <td>0</td>\n",
       "      <td>0</td>\n",
       "      <td>3.192078</td>\n",
       "      <td>13.590988</td>\n",
       "      <td>IFITM1;GSTA4;CDK2AP2;ID3;HSPB1;SOX12</td>\n",
       "    </tr>\n",
       "    <tr>\n",
       "      <th>9</th>\n",
       "      <td>ChEA_2022</td>\n",
       "      <td>POU5F1 18700969 ChIP-ChIP MESCs Mouse</td>\n",
       "      <td>8/330</td>\n",
       "      <td>0.018268</td>\n",
       "      <td>0.999995</td>\n",
       "      <td>0</td>\n",
       "      <td>0</td>\n",
       "      <td>2.520445</td>\n",
       "      <td>10.088295</td>\n",
       "      <td>IFITM1;SNRPN;GSTA4;DUSP1;GNAS;SNURF;ID3;HSPB1</td>\n",
       "    </tr>\n",
       "  </tbody>\n",
       "</table>\n",
       "</div>"
      ],
      "text/plain": [
       "    Gene_set                                               Term  Overlap  \\\n",
       "0  ChEA_2022                  RXR 22158963 ChIP-Seq LIVER Mouse  28/1546   \n",
       "1  ChEA_2022                ESR1 17901129 ChIP-ChIP LIVER Mouse   10/354   \n",
       "2  ChEA_2022                  SRY 22984422 ChIP-ChIP TESTIS Rat    6/142   \n",
       "3  ChEA_2022                 CLOCK 20551151 ChIP-Seq 293T Human   10/382   \n",
       "4  ChEA_2022                FOXO1 23066095 ChIP-Seq LIVER Mouse    8/276   \n",
       "5  ChEA_2022                  LXR 22158963 ChIP-Seq LIVER Mouse  26/1578   \n",
       "6  ChEA_2022  HNF1A 26855178 ChIP-Seq Caco2 Human Colon Aden...   10/411   \n",
       "7  ChEA_2022  RELB 30642670 ChIP-Seq CTB1 Human Placenta Inf...    5/139   \n",
       "8  ChEA_2022               NANOG 18700969 ChIP-ChIP MESCs Mouse    6/196   \n",
       "9  ChEA_2022              POU5F1 18700969 ChIP-ChIP MESCs Mouse    8/330   \n",
       "\n",
       "    P-value  Adjusted P-value  Old P-value  Old Adjusted P-value  Odds Ratio  \\\n",
       "0  0.001598          0.729604            0                     0    1.960566   \n",
       "1  0.003081          0.729604            0                     0    2.976744   \n",
       "2  0.003083          0.729604            0                     0    4.471801   \n",
       "3  0.005245          0.871512            0                     0    2.748727   \n",
       "4  0.006747          0.871512            0                     0    3.036692   \n",
       "5  0.008100          0.871512            0                     0    1.756902   \n",
       "6  0.008592          0.871512            0                     0    2.546135   \n",
       "7  0.013015          0.999995            0                     0    3.763108   \n",
       "8  0.014154          0.999995            0                     0    3.192078   \n",
       "9  0.018268          0.999995            0                     0    2.520445   \n",
       "\n",
       "   Combined Score                                              Genes  \n",
       "0       12.624586  ERRFI1;NNMT;INSIG1;GPT;CXCL1;CHD3;TMEM25;ZFP36...  \n",
       "1       17.212801  FNDC4;NNMT;MARVELD1;HYAL3;GSTA1;SAA2;IRF2BP2;C...  \n",
       "2       25.855534               TMEM25;CCDC17;GSTM3;DPM3;BOLA1;INSL3  \n",
       "3       14.431922  PSMA6;TUBA1A;DUSP1;MARVELD1;G0S2;SOX12;EIF1;AT...  \n",
       "4       15.179482      MAFG;ID3;IRF2BP2;KLF15;APOA5;CYB5D1;EIF1;GNMT  \n",
       "5        8.461149  ERRFI1;NNMT;INSIG1;RPL11;GPT;CXCL1;CHD3;ELK4;P...  \n",
       "6       12.111659  ERRFI1;GLTPD2;STX16;GLYCTK;APOH;APOA1;TLCD1;CC...  \n",
       "7       16.338063                      DUSP1;INSIG1;G0S2;CXCL1;VEGFA  \n",
       "8       13.590988               IFITM1;GSTA4;CDK2AP2;ID3;HSPB1;SOX12  \n",
       "9       10.088295      IFITM1;SNRPN;GSTA4;DUSP1;GNAS;SNURF;ID3;HSPB1  "
      ]
     },
     "metadata": {},
     "output_type": "display_data"
    }
   ],
   "source": [
    "nb_genes = 100\n",
    "PC = 'PC-1'\n",
    "bottom = pca.sort_values(by=PC,axis=1).columns[:nb_genes]\n",
    "top = pca.sort_values(by=PC,axis=1).columns[-nb_genes:]\n",
    "top_bot = top.union(bottom)# you can use only top or bottom here as well\n",
    "gene_list = top_bot.to_series().str.upper()\n",
    "gene_list = gene_list.squeeze().str.strip().to_list()\n",
    "enr = gp.enrichr(gene_list=gene_list,\n",
    "                 gene_sets='GO_Biological_Process_2021',\n",
    "                 organism='mouse', \n",
    "                 outdir=None)\n",
    "display(enr.results.head(10))\n",
    "enr = gp.enrichr(gene_list=gene_list,\n",
    "                 gene_sets='WikiPathways_2019_Mouse',\n",
    "                 organism='mouse', \n",
    "                 outdir=None)\n",
    "display(enr.results.head(10))\n",
    "enr = gp.enrichr(gene_list=gene_list,\n",
    "                 gene_sets='ChEA_2022',\n",
    "                 organism='mouse', \n",
    "                 outdir=None)\n",
    "display(enr.results.head(10))"
   ]
  },
  {
   "cell_type": "markdown",
   "id": "de1c6f26",
   "metadata": {},
   "source": [
    "### Question 2\n",
    "1. Study the phase relationship between the pre-mRNA and mRNA for genes that you selected to be rhythmic at both the pre-mRNA and mRNA levels. Use cutoffs that give you several hundred genes.\n",
    "2. Show representative profiles of genes with short or large delays.\n",
    "3. Analyze the phase difference in function of the ratio of relative amplitudes of the mRNA and pre-mRNA. What is the expected behavior for genes with constant degradation (see course)?  \n",
    "4. For genes with a positive difference bewteen 0h and 6h, describe whether these follow the prediction.\n",
    "5. Identify few outliers and discuss them. Can you say something about how these might be regulated?"
   ]
  },
  {
   "cell_type": "code",
   "execution_count": 2,
   "id": "fed424ba",
   "metadata": {},
   "outputs": [
    {
     "ename": "NameError",
     "evalue": "name 'amp_exon' is not defined",
     "output_type": "error",
     "traceback": [
      "\u001b[1;31m---------------------------------------------------------------------------\u001b[0m",
      "\u001b[1;31mNameError\u001b[0m                                 Traceback (most recent call last)",
      "\u001b[1;32m~\\AppData\\Local\\Temp/ipykernel_85916/3088931730.py\u001b[0m in \u001b[0;36m<module>\u001b[1;34m\u001b[0m\n\u001b[0;32m      1\u001b[0m \u001b[1;31m#Note that because you fitted the log2 data, the relative amplitudes take the form\u001b[0m\u001b[1;33m\u001b[0m\u001b[1;33m\u001b[0m\u001b[0m\n\u001b[1;32m----> 2\u001b[1;33m \u001b[0mrelamp_exon\u001b[0m \u001b[1;33m=\u001b[0m \u001b[1;36m2\u001b[0m\u001b[1;33m**\u001b[0m\u001b[0mamp_exon\u001b[0m\u001b[1;33m[\u001b[0m\u001b[0mii\u001b[0m\u001b[1;33m]\u001b[0m \u001b[1;33m-\u001b[0m \u001b[1;36m2\u001b[0m\u001b[1;33m**\u001b[0m\u001b[1;33m(\u001b[0m\u001b[1;33m-\u001b[0m\u001b[0mamp_exon\u001b[0m\u001b[1;33m[\u001b[0m\u001b[0mii\u001b[0m\u001b[1;33m]\u001b[0m\u001b[1;33m)\u001b[0m\u001b[1;33m\u001b[0m\u001b[1;33m\u001b[0m\u001b[0m\n\u001b[0m\u001b[0;32m      3\u001b[0m \u001b[0mrelamp_intron\u001b[0m \u001b[1;33m=\u001b[0m \u001b[1;36m2\u001b[0m\u001b[1;33m**\u001b[0m\u001b[0mamp_intron\u001b[0m\u001b[1;33m[\u001b[0m\u001b[0mii\u001b[0m\u001b[1;33m]\u001b[0m\u001b[1;33m-\u001b[0m \u001b[1;36m2\u001b[0m\u001b[1;33m**\u001b[0m\u001b[1;33m(\u001b[0m\u001b[1;33m-\u001b[0m\u001b[0mamp_intron\u001b[0m\u001b[1;33m[\u001b[0m\u001b[0mii\u001b[0m\u001b[1;33m]\u001b[0m\u001b[1;33m)\u001b[0m\u001b[1;33m\u001b[0m\u001b[1;33m\u001b[0m\u001b[0m\n",
      "\u001b[1;31mNameError\u001b[0m: name 'amp_exon' is not defined"
     ]
    }
   ],
   "source": [
    "#Note that because you fitted the log2 data, the relative amplitudes take the form\n",
    "relamp_exon = 2**amp_exon[ii] - 2**(-amp_exon[ii])\n",
    "relamp_intron = 2**amp_intron[ii]- 2**(-amp_intron[ii])"
   ]
  },
  {
   "cell_type": "code",
   "execution_count": null,
   "id": "499b76a4",
   "metadata": {},
   "outputs": [],
   "source": []
  }
 ],
 "metadata": {
  "kernelspec": {
   "display_name": "Python 3 (ipykernel)",
   "language": "python",
   "name": "python3"
  },
  "language_info": {
   "codemirror_mode": {
    "name": "ipython",
    "version": 3
   },
   "file_extension": ".py",
   "mimetype": "text/x-python",
   "name": "python",
   "nbconvert_exporter": "python",
   "pygments_lexer": "ipython3",
   "version": "3.9.7"
  }
 },
 "nbformat": 4,
 "nbformat_minor": 5
}
